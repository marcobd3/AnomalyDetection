{
 "cells": [
  {
   "cell_type": "code",
   "execution_count": 1,
   "metadata": {},
   "outputs": [],
   "source": [
    "import pandas as pd\n",
    "import matplotlib.pyplot as plt"
   ]
  },
  {
   "cell_type": "code",
   "execution_count": 2,
   "metadata": {},
   "outputs": [],
   "source": [
    "df = pd.read_csv(\"Datos/Entrada_limpia.csv\")\n",
    "\n",
    "anomalias = pd.read_csv(\"Datos/anomalias.csv\", header=None)\n",
    "anomalias.columns= ['score']\n",
    "\n",
    "df['score'] = anomalias['score']"
   ]
  },
  {
   "cell_type": "code",
   "execution_count": 3,
   "metadata": {},
   "outputs": [
    {
     "data": {
      "text/html": [
       "<div>\n",
       "<style scoped>\n",
       "    .dataframe tbody tr th:only-of-type {\n",
       "        vertical-align: middle;\n",
       "    }\n",
       "\n",
       "    .dataframe tbody tr th {\n",
       "        vertical-align: top;\n",
       "    }\n",
       "\n",
       "    .dataframe thead th {\n",
       "        text-align: right;\n",
       "    }\n",
       "</style>\n",
       "<table border=\"1\" class=\"dataframe\">\n",
       "  <thead>\n",
       "    <tr style=\"text-align: right;\">\n",
       "      <th></th>\n",
       "      <th>FormacionNIRHumedadPV</th>\n",
       "      <th>FibraticPredNIRHumedadPV</th>\n",
       "      <th>Hum_Pred</th>\n",
       "      <th>Etapa2MWHumedadPV</th>\n",
       "      <th>ExtractorVelocidadPV</th>\n",
       "      <th>FormacionAlturaMantaPV</th>\n",
       "      <th>FormadoraVelocidadPV</th>\n",
       "      <th>FormadoraSiloNivel</th>\n",
       "      <th>SiloFibraNivel</th>\n",
       "      <th>SiloFibraVelocidadPV</th>\n",
       "      <th>...</th>\n",
       "      <th>FormacionNIRHumedadPV_std</th>\n",
       "      <th>FibraticPredNIRHumedadPV_std</th>\n",
       "      <th>Hum_Pred_std</th>\n",
       "      <th>Etapa2MWHumedadPV_std</th>\n",
       "      <th>Negro</th>\n",
       "      <th>CurvaCola</th>\n",
       "      <th>Congelado</th>\n",
       "      <th>Hum</th>\n",
       "      <th>Anomalia</th>\n",
       "      <th>score</th>\n",
       "    </tr>\n",
       "    <tr>\n",
       "      <th>fecha</th>\n",
       "      <th></th>\n",
       "      <th></th>\n",
       "      <th></th>\n",
       "      <th></th>\n",
       "      <th></th>\n",
       "      <th></th>\n",
       "      <th></th>\n",
       "      <th></th>\n",
       "      <th></th>\n",
       "      <th></th>\n",
       "      <th></th>\n",
       "      <th></th>\n",
       "      <th></th>\n",
       "      <th></th>\n",
       "      <th></th>\n",
       "      <th></th>\n",
       "      <th></th>\n",
       "      <th></th>\n",
       "      <th></th>\n",
       "      <th></th>\n",
       "      <th></th>\n",
       "    </tr>\n",
       "  </thead>\n",
       "  <tbody>\n",
       "    <tr>\n",
       "      <th>2021-02-10 10:00:00</th>\n",
       "      <td>0.0</td>\n",
       "      <td>6.465569</td>\n",
       "      <td>10.920920</td>\n",
       "      <td>13.141570</td>\n",
       "      <td>50.55861</td>\n",
       "      <td>120.965</td>\n",
       "      <td>37.6</td>\n",
       "      <td>70.741330</td>\n",
       "      <td>12.590190</td>\n",
       "      <td>26.1</td>\n",
       "      <td>...</td>\n",
       "      <td>0.0</td>\n",
       "      <td>0.022282</td>\n",
       "      <td>0.163959</td>\n",
       "      <td>0.221663</td>\n",
       "      <td>1</td>\n",
       "      <td>0</td>\n",
       "      <td>1</td>\n",
       "      <td>0</td>\n",
       "      <td>1</td>\n",
       "      <td>0.5</td>\n",
       "    </tr>\n",
       "    <tr>\n",
       "      <th>2021-02-10 10:01:00</th>\n",
       "      <td>0.0</td>\n",
       "      <td>6.355772</td>\n",
       "      <td>10.604865</td>\n",
       "      <td>12.412745</td>\n",
       "      <td>50.55929</td>\n",
       "      <td>112.285</td>\n",
       "      <td>29.6</td>\n",
       "      <td>72.317965</td>\n",
       "      <td>9.990133</td>\n",
       "      <td>21.4</td>\n",
       "      <td>...</td>\n",
       "      <td>0.0</td>\n",
       "      <td>0.029155</td>\n",
       "      <td>0.060918</td>\n",
       "      <td>0.151328</td>\n",
       "      <td>1</td>\n",
       "      <td>0</td>\n",
       "      <td>1</td>\n",
       "      <td>0</td>\n",
       "      <td>1</td>\n",
       "      <td>0.5</td>\n",
       "    </tr>\n",
       "  </tbody>\n",
       "</table>\n",
       "<p>2 rows × 28 columns</p>\n",
       "</div>"
      ],
      "text/plain": [
       "                     FormacionNIRHumedadPV  FibraticPredNIRHumedadPV  \\\n",
       "fecha                                                                  \n",
       "2021-02-10 10:00:00                    0.0                  6.465569   \n",
       "2021-02-10 10:01:00                    0.0                  6.355772   \n",
       "\n",
       "                      Hum_Pred  Etapa2MWHumedadPV  ExtractorVelocidadPV  \\\n",
       "fecha                                                                     \n",
       "2021-02-10 10:00:00  10.920920          13.141570              50.55861   \n",
       "2021-02-10 10:01:00  10.604865          12.412745              50.55929   \n",
       "\n",
       "                     FormacionAlturaMantaPV  FormadoraVelocidadPV  \\\n",
       "fecha                                                               \n",
       "2021-02-10 10:00:00                 120.965                  37.6   \n",
       "2021-02-10 10:01:00                 112.285                  29.6   \n",
       "\n",
       "                     FormadoraSiloNivel  SiloFibraNivel  SiloFibraVelocidadPV  \\\n",
       "fecha                                                                           \n",
       "2021-02-10 10:00:00           70.741330       12.590190                  26.1   \n",
       "2021-02-10 10:01:00           72.317965        9.990133                  21.4   \n",
       "\n",
       "                     ...  FormacionNIRHumedadPV_std  \\\n",
       "fecha                ...                              \n",
       "2021-02-10 10:00:00  ...                        0.0   \n",
       "2021-02-10 10:01:00  ...                        0.0   \n",
       "\n",
       "                     FibraticPredNIRHumedadPV_std  Hum_Pred_std  \\\n",
       "fecha                                                             \n",
       "2021-02-10 10:00:00                      0.022282      0.163959   \n",
       "2021-02-10 10:01:00                      0.029155      0.060918   \n",
       "\n",
       "                     Etapa2MWHumedadPV_std  Negro  CurvaCola  Congelado  Hum  \\\n",
       "fecha                                                                          \n",
       "2021-02-10 10:00:00               0.221663      1          0          1    0   \n",
       "2021-02-10 10:01:00               0.151328      1          0          1    0   \n",
       "\n",
       "                     Anomalia  score  \n",
       "fecha                                 \n",
       "2021-02-10 10:00:00         1    0.5  \n",
       "2021-02-10 10:01:00         1    0.5  \n",
       "\n",
       "[2 rows x 28 columns]"
      ]
     },
     "execution_count": 3,
     "metadata": {},
     "output_type": "execute_result"
    }
   ],
   "source": [
    "df = df.set_index('fecha')\n",
    "df.head(2)"
   ]
  },
  {
   "cell_type": "code",
   "execution_count": 4,
   "metadata": {},
   "outputs": [
    {
     "data": {
      "text/plain": [
       "<AxesSubplot:>"
      ]
     },
     "execution_count": 4,
     "metadata": {},
     "output_type": "execute_result"
    },
    {
     "data": {
      "image/png": "[encoded data removed]",
      "text/plain": [
       "<Figure size 432x288 with 1 Axes>"
      ]
     },
     "metadata": {
      "needs_background": "light"
     },
     "output_type": "display_data"
    }
   ],
   "source": [
    "df['score'].hist(bins=100)"
   ]
  },
  {
   "cell_type": "code",
   "execution_count": 5,
   "metadata": {},
   "outputs": [
    {
     "data": {
      "image/png": "[encoded data removed]",
      "text/plain": [
       "<Figure size 432x288 with 1 Axes>"
      ]
     },
     "metadata": {
      "needs_background": "light"
     },
     "output_type": "display_data"
    }
   ],
   "source": [
    "n, bins, patches = plt.hist(df[df['Anomalia']==1]['score'], bins=50)\n",
    "plt.show()"
   ]
  },
  {
   "cell_type": "code",
   "execution_count": 6,
   "metadata": {},
   "outputs": [
    {
     "data": {
      "image/png": "[encoded data removed]",
      "text/plain": [
       "<Figure size 432x288 with 1 Axes>"
      ]
     },
     "metadata": {
      "needs_background": "light"
     },
     "output_type": "display_data"
    }
   ],
   "source": [
    "plt.hist(df[df['Anomalia']==0]['score'], bins=50)\n",
    "plt.show()"
   ]
  },
  {
   "cell_type": "code",
   "execution_count": 7,
   "metadata": {},
   "outputs": [
    {
     "data": {
      "text/plain": [
       "[<matplotlib.lines.Line2D at 0x1c8ba7ae5f0>]"
      ]
     },
     "execution_count": 7,
     "metadata": {},
     "output_type": "execute_result"
    },
    {
     "data": {
      "image/png": "[encoded data removed]",
      "text/plain": [
       "<Figure size 432x288 with 1 Axes>"
      ]
     },
     "metadata": {
      "needs_background": "light"
     },
     "output_type": "display_data"
    }
   ],
   "source": [
    "df.index = pd.to_datetime(df.index)\n",
    "plt.plot(df.index, df.score,'.-')"
   ]
  },
  {
   "cell_type": "code",
   "execution_count": 8,
   "metadata": {},
   "outputs": [],
   "source": [
    "df['Y_pred'] = df['score'].map(lambda x: 1 if x<bins[1] else 0)"
   ]
  },
  {
   "cell_type": "code",
   "execution_count": 9,
   "metadata": {},
   "outputs": [
    {
     "data": {
      "text/html": [
       "<div>\n",
       "<style scoped>\n",
       "    .dataframe tbody tr th:only-of-type {\n",
       "        vertical-align: middle;\n",
       "    }\n",
       "\n",
       "    .dataframe tbody tr th {\n",
       "        vertical-align: top;\n",
       "    }\n",
       "\n",
       "    .dataframe thead th {\n",
       "        text-align: right;\n",
       "    }\n",
       "</style>\n",
       "<table border=\"1\" class=\"dataframe\">\n",
       "  <thead>\n",
       "    <tr style=\"text-align: right;\">\n",
       "      <th></th>\n",
       "      <th>Negro</th>\n",
       "      <th>CurvaCola</th>\n",
       "      <th>Congelado</th>\n",
       "      <th>Hum</th>\n",
       "      <th>Anomalia</th>\n",
       "    </tr>\n",
       "  </thead>\n",
       "  <tbody>\n",
       "    <tr>\n",
       "      <th>Sensibilidad</th>\n",
       "      <td>0.009266</td>\n",
       "      <td>0.003558</td>\n",
       "      <td>0.012789</td>\n",
       "      <td>0.0</td>\n",
       "      <td>0.004875</td>\n",
       "    </tr>\n",
       "  </tbody>\n",
       "</table>\n",
       "</div>"
      ],
      "text/plain": [
       "                 Negro  CurvaCola  Congelado  Hum  Anomalia\n",
       "Sensibilidad  0.009266   0.003558   0.012789  0.0  0.004875"
      ]
     },
     "execution_count": 9,
     "metadata": {},
     "output_type": "execute_result"
    }
   ],
   "source": [
    "from sklearn.metrics import recall_score\n",
    "lista_anomalias = ['Negro', 'CurvaCola', 'Congelado', 'Hum', 'Anomalia']\n",
    "\n",
    "sensibilidad = recall_score(df['Anomalia'],df['Y_pred'])\n",
    "negro_sen = recall_score(df['Negro'],df['Y_pred'])\n",
    "curvacola_sen = recall_score(df['CurvaCola'],df['Y_pred'])\n",
    "congelado_sen = recall_score(df['Congelado'],df['Y_pred'])\n",
    "hum_sen = recall_score(df['Hum'],df['Y_pred'])\n",
    "\n",
    "metricas_anomalias = pd.DataFrame([negro_sen,curvacola_sen, congelado_sen,hum_sen, sensibilidad], index=lista_anomalias, columns=['Sensibilidad']).T\n",
    "metricas_anomalias"
   ]
  }
 ],
 "metadata": {
  "interpreter": {
   "hash": "084e8b912a56bf1ec199b7cc8c30ae9313a998703506b070bededcac63d0da25"
  },
  "kernelspec": {
   "display_name": "Python 3.10.2 ('.env': venv)",
   "language": "python",
   "name": "python3"
  },
  "language_info": {
   "codemirror_mode": {
    "name": "ipython",
    "version": 3
   },
   "file_extension": ".py",
   "mimetype": "text/x-python",
   "name": "python",
   "nbconvert_exporter": "python",
   "pygments_lexer": "ipython3",
   "version": "3.10.2"
  },
  "orig_nbformat": 4
 },
 "nbformat": 4,
 "nbformat_minor": 2
}
