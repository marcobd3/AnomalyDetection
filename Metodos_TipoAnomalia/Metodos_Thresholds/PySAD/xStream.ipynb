{
 "cells": [
  {
   "cell_type": "markdown",
   "metadata": {},
   "source": [
    "# PySAD - xStream"
   ]
  },
  {
   "cell_type": "markdown",
   "metadata": {},
   "source": [
    "## Carga de datos"
   ]
  },
  {
   "cell_type": "markdown",
   "metadata": {},
   "source": [
    "Cargamos librerías y datos:\n",
    "\n",
    "Las típicas (pandas, matplotlib, numpy)...\n",
    "\n",
    "Funciones de sklearn de preprocesado y métricas.\n",
    "\n",
    "Modelos y métricas de PyOD."
   ]
  },
  {
   "cell_type": "code",
   "execution_count": 1,
   "metadata": {},
   "outputs": [],
   "source": [
    "import pandas as pd\n",
    "import matplotlib.pyplot as plt\n",
    "import numpy as np\n",
    "from time import time\n",
    "\n",
    "from sklearn.preprocessing import StandardScaler\n",
    "\n",
    "from sklearn.model_selection import train_test_split\n",
    "from sklearn.metrics import roc_auc_score\n",
    "from sklearn.metrics import precision_score\n",
    "from sklearn.metrics import accuracy_score\n",
    "from sklearn.metrics import recall_score\n",
    "from sklearn.metrics import cohen_kappa_score\n",
    "\n",
    "from pysad.models import xStream\n",
    "from pysad.transform.probability_calibration import ConformalProbabilityCalibrator\n",
    "\n",
    "random_state = np.random.RandomState(42)"
   ]
  },
  {
   "cell_type": "code",
   "execution_count": 2,
   "metadata": {},
   "outputs": [
    {
     "data": {
      "text/html": [
       "<div>\n",
       "<style scoped>\n",
       "    .dataframe tbody tr th:only-of-type {\n",
       "        vertical-align: middle;\n",
       "    }\n",
       "\n",
       "    .dataframe tbody tr th {\n",
       "        vertical-align: top;\n",
       "    }\n",
       "\n",
       "    .dataframe thead th {\n",
       "        text-align: right;\n",
       "    }\n",
       "</style>\n",
       "<table border=\"1\" class=\"dataframe\">\n",
       "  <thead>\n",
       "    <tr style=\"text-align: right;\">\n",
       "      <th></th>\n",
       "      <th>FormacionNIRHumedadPV</th>\n",
       "      <th>FibraticPredNIRHumedadPV</th>\n",
       "      <th>Hum_Pred</th>\n",
       "      <th>Etapa2MWHumedadPV</th>\n",
       "      <th>ExtractorVelocidadPV</th>\n",
       "      <th>FormacionAlturaMantaPV</th>\n",
       "      <th>FormadoraVelocidadPV</th>\n",
       "      <th>FormadoraSiloNivel</th>\n",
       "      <th>SiloFibraNivel</th>\n",
       "      <th>SiloFibraVelocidadPV</th>\n",
       "      <th>...</th>\n",
       "      <th>ScalperReservaIzqPosPV</th>\n",
       "      <th>FormacionNIRPH</th>\n",
       "      <th>FormacionNIRHumedadPV_std</th>\n",
       "      <th>FibraticPredNIRHumedadPV_std</th>\n",
       "      <th>Hum_Pred_std</th>\n",
       "      <th>Etapa2MWHumedadPV_std</th>\n",
       "      <th>Negro</th>\n",
       "      <th>CurvaCola</th>\n",
       "      <th>Congelado</th>\n",
       "      <th>Hum</th>\n",
       "    </tr>\n",
       "    <tr>\n",
       "      <th>fecha</th>\n",
       "      <th></th>\n",
       "      <th></th>\n",
       "      <th></th>\n",
       "      <th></th>\n",
       "      <th></th>\n",
       "      <th></th>\n",
       "      <th></th>\n",
       "      <th></th>\n",
       "      <th></th>\n",
       "      <th></th>\n",
       "      <th></th>\n",
       "      <th></th>\n",
       "      <th></th>\n",
       "      <th></th>\n",
       "      <th></th>\n",
       "      <th></th>\n",
       "      <th></th>\n",
       "      <th></th>\n",
       "      <th></th>\n",
       "      <th></th>\n",
       "      <th></th>\n",
       "    </tr>\n",
       "  </thead>\n",
       "  <tbody>\n",
       "    <tr>\n",
       "      <th>2021-02-10 10:00:00</th>\n",
       "      <td>0.0</td>\n",
       "      <td>6.465569</td>\n",
       "      <td>10.920920</td>\n",
       "      <td>13.141570</td>\n",
       "      <td>50.55861</td>\n",
       "      <td>120.965</td>\n",
       "      <td>37.6</td>\n",
       "      <td>70.741330</td>\n",
       "      <td>12.590190</td>\n",
       "      <td>26.1</td>\n",
       "      <td>...</td>\n",
       "      <td>66.029085</td>\n",
       "      <td>0.0</td>\n",
       "      <td>0.0</td>\n",
       "      <td>0.022282</td>\n",
       "      <td>0.163959</td>\n",
       "      <td>0.221663</td>\n",
       "      <td>1</td>\n",
       "      <td>0</td>\n",
       "      <td>1</td>\n",
       "      <td>0</td>\n",
       "    </tr>\n",
       "    <tr>\n",
       "      <th>2021-02-10 10:01:00</th>\n",
       "      <td>0.0</td>\n",
       "      <td>6.355772</td>\n",
       "      <td>10.604865</td>\n",
       "      <td>12.412745</td>\n",
       "      <td>50.55929</td>\n",
       "      <td>112.285</td>\n",
       "      <td>29.6</td>\n",
       "      <td>72.317965</td>\n",
       "      <td>9.990133</td>\n",
       "      <td>21.4</td>\n",
       "      <td>...</td>\n",
       "      <td>68.508440</td>\n",
       "      <td>0.0</td>\n",
       "      <td>0.0</td>\n",
       "      <td>0.029155</td>\n",
       "      <td>0.060918</td>\n",
       "      <td>0.151328</td>\n",
       "      <td>1</td>\n",
       "      <td>0</td>\n",
       "      <td>1</td>\n",
       "      <td>0</td>\n",
       "    </tr>\n",
       "  </tbody>\n",
       "</table>\n",
       "<p>2 rows × 26 columns</p>\n",
       "</div>"
      ],
      "text/plain": [
       "                     FormacionNIRHumedadPV  FibraticPredNIRHumedadPV  \\\n",
       "fecha                                                                  \n",
       "2021-02-10 10:00:00                    0.0                  6.465569   \n",
       "2021-02-10 10:01:00                    0.0                  6.355772   \n",
       "\n",
       "                      Hum_Pred  Etapa2MWHumedadPV  ExtractorVelocidadPV  \\\n",
       "fecha                                                                     \n",
       "2021-02-10 10:00:00  10.920920          13.141570              50.55861   \n",
       "2021-02-10 10:01:00  10.604865          12.412745              50.55929   \n",
       "\n",
       "                     FormacionAlturaMantaPV  FormadoraVelocidadPV  \\\n",
       "fecha                                                               \n",
       "2021-02-10 10:00:00                 120.965                  37.6   \n",
       "2021-02-10 10:01:00                 112.285                  29.6   \n",
       "\n",
       "                     FormadoraSiloNivel  SiloFibraNivel  SiloFibraVelocidadPV  \\\n",
       "fecha                                                                           \n",
       "2021-02-10 10:00:00           70.741330       12.590190                  26.1   \n",
       "2021-02-10 10:01:00           72.317965        9.990133                  21.4   \n",
       "\n",
       "                     ...  ScalperReservaIzqPosPV  FormacionNIRPH  \\\n",
       "fecha                ...                                           \n",
       "2021-02-10 10:00:00  ...               66.029085             0.0   \n",
       "2021-02-10 10:01:00  ...               68.508440             0.0   \n",
       "\n",
       "                     FormacionNIRHumedadPV_std  FibraticPredNIRHumedadPV_std  \\\n",
       "fecha                                                                          \n",
       "2021-02-10 10:00:00                        0.0                      0.022282   \n",
       "2021-02-10 10:01:00                        0.0                      0.029155   \n",
       "\n",
       "                     Hum_Pred_std  Etapa2MWHumedadPV_std  Negro  CurvaCola  \\\n",
       "fecha                                                                        \n",
       "2021-02-10 10:00:00      0.163959               0.221663      1          0   \n",
       "2021-02-10 10:01:00      0.060918               0.151328      1          0   \n",
       "\n",
       "                     Congelado  Hum  \n",
       "fecha                                \n",
       "2021-02-10 10:00:00          1    0  \n",
       "2021-02-10 10:01:00          1    0  \n",
       "\n",
       "[2 rows x 26 columns]"
      ]
     },
     "execution_count": 2,
     "metadata": {},
     "output_type": "execute_result"
    }
   ],
   "source": [
    "df = pd.read_csv('../../Datasets/Dataset_2.csv',index_col='fecha')\n",
    "df.index = pd.to_datetime(df.index)\n",
    "df.head(2)"
   ]
  },
  {
   "cell_type": "markdown",
   "metadata": {},
   "source": [
    "Unimos todas las anomalías en una columna, para posteriormente realizar las métricas tanto para todas las anomalías como para cada una en concreto.\n",
    "\n",
    "Para ello, sumo las columnas de anomalías, y después las que son mayores que cero las establezco como uno (porque significa que alguna de las columnas si tenía anomalía registrada), las demás como cero."
   ]
  },
  {
   "cell_type": "code",
   "execution_count": 3,
   "metadata": {},
   "outputs": [
    {
     "data": {
      "text/plain": [
       "22"
      ]
     },
     "execution_count": 3,
     "metadata": {},
     "output_type": "execute_result"
    }
   ],
   "source": [
    "df = df.drop(df[df['CurvaCola']==1].index)\n",
    "df = df.drop('CurvaCola', axis=1)\n",
    "df['Anomalia'] = df['Negro'] + df['Congelado'] + df['Hum']\n",
    "df['Anomalia'] = df['Anomalia'].map(lambda x: 1 if x!=0 else 0)\n",
    "\n",
    "lista_anomalias = ['Negro', 'Congelado', 'Hum', 'Anomalia']\n",
    "\n",
    "atributos = df.columns.drop(lista_anomalias)\n",
    "len(atributos)"
   ]
  },
  {
   "cell_type": "markdown",
   "metadata": {},
   "source": [
    "## Escogemos un subconjunto del dataset para entrenamientos más cortos"
   ]
  },
  {
   "cell_type": "code",
   "execution_count": 4,
   "metadata": {},
   "outputs": [],
   "source": [
    "#df = df.iloc[40000:60000,:]"
   ]
  },
  {
   "cell_type": "markdown",
   "metadata": {},
   "source": [
    "## Preparación"
   ]
  },
  {
   "cell_type": "markdown",
   "metadata": {},
   "source": [
    "Separo conjuntos de train, validation y test, y estandarizo:\n",
    "\n",
    "Separo los atributos en X y las anomalias en Y. De esta manera, al realizar el train_test_split, se mantendrán las proporciones de cada anomalía, con muestreos temporales aleatorios.\n",
    "\n",
    "Primero separo en train-test (80-20) y después separo el test en test-validation (50-50), para así obtener finalmente train-validation-test (80-10-10).\n",
    "\n",
    "Una vez separado, entreno el StandardScaler() con el conjunto de entrenamiento, y se lo aplico al conjunto de validación y test."
   ]
  },
  {
   "cell_type": "code",
   "execution_count": 5,
   "metadata": {},
   "outputs": [],
   "source": [
    "#Separo los atributos para el entrenamiento de la salida\n",
    "X = df.loc[:, atributos]\n",
    "Y = df.loc[:, lista_anomalias]\n",
    "\n",
    "#Calculo la proporcion de outliers presentes\n",
    "proporcion_outliers = round(np.count_nonzero(Y) / len(Y),3)\n",
    "\n",
    "#Separo entrenamiento y test (80-20)\n",
    "X_train, X_test, Y_train, Y_test = train_test_split(X, Y, test_size=0.2, random_state = random_state)\n",
    "\n",
    "#Normalizo\n",
    "standarizer = StandardScaler()\n",
    "standarizer.fit(X_train)\n",
    "X_train_standarized = standarizer.transform(X_train)\n",
    "X_test_standarized = standarizer.transform(X_test)"
   ]
  },
  {
   "cell_type": "markdown",
   "metadata": {},
   "source": [
    "## Entrenamiento"
   ]
  },
  {
   "cell_type": "markdown",
   "metadata": {},
   "source": [
    "Para ello, establezco primero la lista de hiperparámetros a entrenar y la de métricas a analizar.\n",
    "\n",
    "creo dos arrays de ceros, uno para las scores y otro para las labels.\n",
    "\n",
    "Realizo un bucle, estableciendo un entrenamiento por cada hiperparámetro.\n",
    "\n",
    "Después, extraigo scores y labels, almacenándolas en un array, y calculo las métricas, haciendo lo mismo. Una vez termina el bucle, estos dos vectores los paso a un dataframe para su visualización."
   ]
  },
  {
   "cell_type": "code",
   "execution_count": 6,
   "metadata": {},
   "outputs": [
    {
     "name": "stdout",
     "output_type": "stream",
     "text": [
      "Tiempo:  37465.2263\n"
     ]
    }
   ],
   "source": [
    "t0 = time()\n",
    "\n",
    "#Establecemos parametros\n",
    "metricas_list = ['roc_auc','accuracy','precision','kappa','sensibilidad','especificidad']\n",
    "anomalia = 'Anomalia'\n",
    "\n",
    "#Entrenamiento\n",
    "window_size = 60*24\n",
    "clf = xStream(window_size = window_size)\n",
    "calibrator = ConformalProbabilityCalibrator(windowed=False)\n",
    "\n",
    "clf.fit(X_train_standarized)\n",
    "scores_train = clf.score(X_train_standarized)\n",
    "calibrator.fit(scores_train)\n",
    "\n",
    "#Prediccion\n",
    "test_scores = clf.score(X_test_standarized)\n",
    "test_scores = calibrator.transform(test_scores)\n",
    "\n",
    "t1 = time()\n",
    "duration = round(t1 - t0, ndigits=4)\n",
    "print('Tiempo: ', duration)"
   ]
  },
  {
   "cell_type": "markdown",
   "metadata": {},
   "source": [
    "## Análisis de Scores:"
   ]
  },
  {
   "cell_type": "markdown",
   "metadata": {},
   "source": [
    "Dado que PySAD no etiqueta directamente las instancias, realizamos un pequeño análisis de la score de salida de cada una para determinar el umbral adecuado:"
   ]
  },
  {
   "cell_type": "code",
   "execution_count": 7,
   "metadata": {},
   "outputs": [
    {
     "data": {
      "image/png": "[encoded data removed]",
      "text/plain": [
       "<Figure size 432x288 with 1 Axes>"
      ]
     },
     "metadata": {
      "needs_background": "light"
     },
     "output_type": "display_data"
    }
   ],
   "source": [
    "Y_test['scores'] = test_scores\n",
    "n, bins, patches = plt.hist(Y_test[Y_test['Anomalia']==1]['scores'], bins=50)\n",
    "plt.show()"
   ]
  },
  {
   "cell_type": "code",
   "execution_count": 8,
   "metadata": {},
   "outputs": [
    {
     "data": {
      "image/png": "[encoded data removed]",
      "text/plain": [
       "<Figure size 432x288 with 1 Axes>"
      ]
     },
     "metadata": {
      "needs_background": "light"
     },
     "output_type": "display_data"
    }
   ],
   "source": [
    "plt.hist(Y_test[Y_test['Anomalia']==0]['scores'], bins=50)\n",
    "plt.show()"
   ]
  },
  {
   "cell_type": "markdown",
   "metadata": {},
   "source": [
    "Miramos los bins:"
   ]
  },
  {
   "cell_type": "code",
   "execution_count": 9,
   "metadata": {},
   "outputs": [
    {
     "data": {
      "text/plain": [
       "array([0.00012401, 0.01957264])"
      ]
     },
     "execution_count": 9,
     "metadata": {},
     "output_type": "execute_result"
    }
   ],
   "source": [
    "bins[0:2]"
   ]
  },
  {
   "cell_type": "markdown",
   "metadata": {},
   "source": [
    "Analizamos la curva roc en función del punto en que discriminemos anomalía de no anomalía:"
   ]
  },
  {
   "cell_type": "code",
   "execution_count": 10,
   "metadata": {},
   "outputs": [
    {
     "data": {
      "image/png": "[encoded data removed]",
      "text/plain": [
       "<Figure size 432x288 with 1 Axes>"
      ]
     },
     "metadata": {
      "needs_background": "light"
     },
     "output_type": "display_data"
    }
   ],
   "source": [
    "valores = np.array([])\n",
    "sensibilidades = np.array([])\n",
    "especificidades = np.array([])\n",
    "for i in bins:\n",
    "    Y_test['Y_pred'] = Y_test['scores'].map(lambda x: 1 if x < i else 0)\n",
    "    valores = np.append(valores,i)\n",
    "    sensibilidades = np.append(sensibilidades,recall_score(Y_test['Anomalia'],Y_test['Y_pred']))\n",
    "    especificidades = np.append(especificidades,recall_score(Y_test['Anomalia'],Y_test['Y_pred'], pos_label=0))\n",
    "\n",
    "plt.plot(1 - especificidades, sensibilidades,'.-')\n",
    "plt.ylabel('Sensibilidad')\n",
    "plt.xlabel('1-Especificidad')\n",
    "plt.show()"
   ]
  },
  {
   "cell_type": "code",
   "execution_count": 11,
   "metadata": {},
   "outputs": [],
   "source": [
    "Y_test['Y_pred'] = Y_test['scores'].map(lambda x: 1 if x < bins[11] else 0)"
   ]
  },
  {
   "cell_type": "markdown",
   "metadata": {},
   "source": [
    "## Métricas"
   ]
  },
  {
   "cell_type": "code",
   "execution_count": 12,
   "metadata": {},
   "outputs": [],
   "source": [
    "roc_auc = roc_auc_score(Y_test[anomalia], Y_test['Y_pred'])\n",
    "accuracy = accuracy_score(Y_test[anomalia],Y_test['Y_pred'])\n",
    "precision = precision_score(Y_test[anomalia],Y_test['Y_pred'])\n",
    "kappa = cohen_kappa_score(Y_test[anomalia],Y_test['Y_pred'])\n",
    "sensibilidad = recall_score(Y_test[anomalia],Y_test['Y_pred'])\n",
    "especificidad = recall_score(Y_test[anomalia],Y_test['Y_pred'], pos_label=0)\n",
    "\n",
    "valores = [roc_auc,accuracy,precision,kappa,sensibilidad,especificidad]\n",
    "metricas = pd.DataFrame(valores)\n",
    "metricas.index = metricas_list\n",
    "metricas.columns = [anomalia]"
   ]
  },
  {
   "cell_type": "markdown",
   "metadata": {},
   "source": [
    "Analizo las métricas:"
   ]
  },
  {
   "cell_type": "code",
   "execution_count": 13,
   "metadata": {},
   "outputs": [
    {
     "data": {
      "text/html": [
       "<div>\n",
       "<style scoped>\n",
       "    .dataframe tbody tr th:only-of-type {\n",
       "        vertical-align: middle;\n",
       "    }\n",
       "\n",
       "    .dataframe tbody tr th {\n",
       "        vertical-align: top;\n",
       "    }\n",
       "\n",
       "    .dataframe thead th {\n",
       "        text-align: right;\n",
       "    }\n",
       "</style>\n",
       "<table border=\"1\" class=\"dataframe\">\n",
       "  <thead>\n",
       "    <tr style=\"text-align: right;\">\n",
       "      <th></th>\n",
       "      <th>roc_auc</th>\n",
       "      <th>accuracy</th>\n",
       "      <th>precision</th>\n",
       "      <th>kappa</th>\n",
       "      <th>sensibilidad</th>\n",
       "      <th>especificidad</th>\n",
       "    </tr>\n",
       "  </thead>\n",
       "  <tbody>\n",
       "    <tr>\n",
       "      <th>Anomalia</th>\n",
       "      <td>0.879511</td>\n",
       "      <td>0.844362</td>\n",
       "      <td>0.301743</td>\n",
       "      <td>0.389743</td>\n",
       "      <td>0.920423</td>\n",
       "      <td>0.838599</td>\n",
       "    </tr>\n",
       "  </tbody>\n",
       "</table>\n",
       "</div>"
      ],
      "text/plain": [
       "           roc_auc  accuracy  precision     kappa  sensibilidad  especificidad\n",
       "Anomalia  0.879511  0.844362   0.301743  0.389743      0.920423       0.838599"
      ]
     },
     "execution_count": 13,
     "metadata": {},
     "output_type": "execute_result"
    }
   ],
   "source": [
    "metricas.T"
   ]
  },
  {
   "cell_type": "markdown",
   "metadata": {},
   "source": [
    "Métricas por anomalía:\n",
    "\n",
    "En este caso, debido a que no tiene sentido aplicar cada métrica anterior por separado a cada anomalía, se estudiará simplemente la precisión de cada una."
   ]
  },
  {
   "cell_type": "code",
   "execution_count": 14,
   "metadata": {},
   "outputs": [
    {
     "data": {
      "text/html": [
       "<div>\n",
       "<style scoped>\n",
       "    .dataframe tbody tr th:only-of-type {\n",
       "        vertical-align: middle;\n",
       "    }\n",
       "\n",
       "    .dataframe tbody tr th {\n",
       "        vertical-align: top;\n",
       "    }\n",
       "\n",
       "    .dataframe thead th {\n",
       "        text-align: right;\n",
       "    }\n",
       "</style>\n",
       "<table border=\"1\" class=\"dataframe\">\n",
       "  <thead>\n",
       "    <tr style=\"text-align: right;\">\n",
       "      <th></th>\n",
       "      <th>Negro</th>\n",
       "      <th>Congelado</th>\n",
       "      <th>Hum</th>\n",
       "      <th>Anomalia</th>\n",
       "    </tr>\n",
       "  </thead>\n",
       "  <tbody>\n",
       "    <tr>\n",
       "      <th>Sensibilidad</th>\n",
       "      <td>0.98104</td>\n",
       "      <td>0.922717</td>\n",
       "      <td>0.898182</td>\n",
       "      <td>0.920423</td>\n",
       "    </tr>\n",
       "  </tbody>\n",
       "</table>\n",
       "</div>"
      ],
      "text/plain": [
       "                Negro  Congelado       Hum  Anomalia\n",
       "Sensibilidad  0.98104   0.922717  0.898182  0.920423"
      ]
     },
     "execution_count": 14,
     "metadata": {},
     "output_type": "execute_result"
    }
   ],
   "source": [
    "negro_sen = recall_score(Y_test['Negro'],Y_test['Y_pred'])\n",
    "congelado_sen = recall_score(Y_test['Congelado'],Y_test['Y_pred'])\n",
    "hum_sen = recall_score(Y_test['Hum'],Y_test['Y_pred'])\n",
    "metricas_anomalias = pd.DataFrame([negro_sen,congelado_sen,hum_sen, sensibilidad], index=lista_anomalias, columns=['Sensibilidad']).T\n",
    "metricas_anomalias"
   ]
  },
  {
   "cell_type": "code",
   "execution_count": 15,
   "metadata": {},
   "outputs": [],
   "source": [
    "Y_test.to_csv('Resultados/xStream_completo.csv')"
   ]
  }
 ],
 "metadata": {
  "interpreter": {
   "hash": "94303094bb119ce68045356867e4bcf4d447b7da677f37f7aa5650f3990cb29e"
  },
  "kernelspec": {
   "display_name": "Python 3.10.4 ('.env': venv)",
   "language": "python",
   "name": "python3"
  },
  "language_info": {
   "codemirror_mode": {
    "name": "ipython",
    "version": 3
   },
   "file_extension": ".py",
   "mimetype": "text/x-python",
   "name": "python",
   "nbconvert_exporter": "python",
   "pygments_lexer": "ipython3",
   "version": "3.10.4"
  },
  "orig_nbformat": 4
 },
 "nbformat": 4,
 "nbformat_minor": 2
}
