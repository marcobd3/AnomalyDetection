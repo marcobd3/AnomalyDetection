{
 "cells": [
  {
   "cell_type": "markdown",
   "metadata": {},
   "source": [
    "# HTM - Preparación"
   ]
  },
  {
   "cell_type": "markdown",
   "metadata": {},
   "source": [
    "## Carga de datos"
   ]
  },
  {
   "cell_type": "markdown",
   "metadata": {},
   "source": [
    "Cargamos librerías y datos:\n",
    "\n",
    "Las típicas (pandas, matplotlib, numpy)...\n",
    "\n",
    "Funciones de sklearn de preprocesado y métricas.\n",
    "\n",
    "Modelos y métricas de PyOD."
   ]
  },
  {
   "cell_type": "code",
   "execution_count": 1,
   "metadata": {},
   "outputs": [],
   "source": [
    "import pandas as pd\n",
    "import numpy as np\n",
    "\n",
    "from sklearn.preprocessing import StandardScaler\n",
    "\n",
    "random_state = np.random.RandomState(42)"
   ]
  },
  {
   "cell_type": "code",
   "execution_count": 2,
   "metadata": {},
   "outputs": [
    {
     "data": {
      "text/html": [
       "<div>\n",
       "<style scoped>\n",
       "    .dataframe tbody tr th:only-of-type {\n",
       "        vertical-align: middle;\n",
       "    }\n",
       "\n",
       "    .dataframe tbody tr th {\n",
       "        vertical-align: top;\n",
       "    }\n",
       "\n",
       "    .dataframe thead th {\n",
       "        text-align: right;\n",
       "    }\n",
       "</style>\n",
       "<table border=\"1\" class=\"dataframe\">\n",
       "  <thead>\n",
       "    <tr style=\"text-align: right;\">\n",
       "      <th></th>\n",
       "      <th>FormacionNIRHumedadPV</th>\n",
       "      <th>FibraticPredNIRHumedadPV</th>\n",
       "      <th>Hum_Pred</th>\n",
       "      <th>Etapa2MWHumedadPV</th>\n",
       "      <th>ExtractorVelocidadPV</th>\n",
       "      <th>FormacionAlturaMantaPV</th>\n",
       "      <th>FormadoraVelocidadPV</th>\n",
       "      <th>FormadoraSiloNivel</th>\n",
       "      <th>SiloFibraNivel</th>\n",
       "      <th>SiloFibraVelocidadPV</th>\n",
       "      <th>...</th>\n",
       "      <th>ScalperReservaIzqPosPV</th>\n",
       "      <th>FormacionNIRPH</th>\n",
       "      <th>FormacionNIRHumedadPV_std</th>\n",
       "      <th>FibraticPredNIRHumedadPV_std</th>\n",
       "      <th>Hum_Pred_std</th>\n",
       "      <th>Etapa2MWHumedadPV_std</th>\n",
       "      <th>Negro</th>\n",
       "      <th>CurvaCola</th>\n",
       "      <th>Congelado</th>\n",
       "      <th>Hum</th>\n",
       "    </tr>\n",
       "    <tr>\n",
       "      <th>fecha</th>\n",
       "      <th></th>\n",
       "      <th></th>\n",
       "      <th></th>\n",
       "      <th></th>\n",
       "      <th></th>\n",
       "      <th></th>\n",
       "      <th></th>\n",
       "      <th></th>\n",
       "      <th></th>\n",
       "      <th></th>\n",
       "      <th></th>\n",
       "      <th></th>\n",
       "      <th></th>\n",
       "      <th></th>\n",
       "      <th></th>\n",
       "      <th></th>\n",
       "      <th></th>\n",
       "      <th></th>\n",
       "      <th></th>\n",
       "      <th></th>\n",
       "      <th></th>\n",
       "    </tr>\n",
       "  </thead>\n",
       "  <tbody>\n",
       "    <tr>\n",
       "      <th>2021-02-10 10:00:00</th>\n",
       "      <td>0.0</td>\n",
       "      <td>6.465569</td>\n",
       "      <td>10.920920</td>\n",
       "      <td>13.141570</td>\n",
       "      <td>50.55861</td>\n",
       "      <td>120.965</td>\n",
       "      <td>37.6</td>\n",
       "      <td>70.741330</td>\n",
       "      <td>12.590190</td>\n",
       "      <td>26.1</td>\n",
       "      <td>...</td>\n",
       "      <td>66.029085</td>\n",
       "      <td>0.0</td>\n",
       "      <td>0.0</td>\n",
       "      <td>0.022282</td>\n",
       "      <td>0.163959</td>\n",
       "      <td>0.221663</td>\n",
       "      <td>1</td>\n",
       "      <td>0</td>\n",
       "      <td>1</td>\n",
       "      <td>0</td>\n",
       "    </tr>\n",
       "    <tr>\n",
       "      <th>2021-02-10 10:01:00</th>\n",
       "      <td>0.0</td>\n",
       "      <td>6.355772</td>\n",
       "      <td>10.604865</td>\n",
       "      <td>12.412745</td>\n",
       "      <td>50.55929</td>\n",
       "      <td>112.285</td>\n",
       "      <td>29.6</td>\n",
       "      <td>72.317965</td>\n",
       "      <td>9.990133</td>\n",
       "      <td>21.4</td>\n",
       "      <td>...</td>\n",
       "      <td>68.508440</td>\n",
       "      <td>0.0</td>\n",
       "      <td>0.0</td>\n",
       "      <td>0.029155</td>\n",
       "      <td>0.060918</td>\n",
       "      <td>0.151328</td>\n",
       "      <td>1</td>\n",
       "      <td>0</td>\n",
       "      <td>1</td>\n",
       "      <td>0</td>\n",
       "    </tr>\n",
       "  </tbody>\n",
       "</table>\n",
       "<p>2 rows × 26 columns</p>\n",
       "</div>"
      ],
      "text/plain": [
       "                     FormacionNIRHumedadPV  FibraticPredNIRHumedadPV  \\\n",
       "fecha                                                                  \n",
       "2021-02-10 10:00:00                    0.0                  6.465569   \n",
       "2021-02-10 10:01:00                    0.0                  6.355772   \n",
       "\n",
       "                      Hum_Pred  Etapa2MWHumedadPV  ExtractorVelocidadPV  \\\n",
       "fecha                                                                     \n",
       "2021-02-10 10:00:00  10.920920          13.141570              50.55861   \n",
       "2021-02-10 10:01:00  10.604865          12.412745              50.55929   \n",
       "\n",
       "                     FormacionAlturaMantaPV  FormadoraVelocidadPV  \\\n",
       "fecha                                                               \n",
       "2021-02-10 10:00:00                 120.965                  37.6   \n",
       "2021-02-10 10:01:00                 112.285                  29.6   \n",
       "\n",
       "                     FormadoraSiloNivel  SiloFibraNivel  SiloFibraVelocidadPV  \\\n",
       "fecha                                                                           \n",
       "2021-02-10 10:00:00           70.741330       12.590190                  26.1   \n",
       "2021-02-10 10:01:00           72.317965        9.990133                  21.4   \n",
       "\n",
       "                     ...  ScalperReservaIzqPosPV  FormacionNIRPH  \\\n",
       "fecha                ...                                           \n",
       "2021-02-10 10:00:00  ...               66.029085             0.0   \n",
       "2021-02-10 10:01:00  ...               68.508440             0.0   \n",
       "\n",
       "                     FormacionNIRHumedadPV_std  FibraticPredNIRHumedadPV_std  \\\n",
       "fecha                                                                          \n",
       "2021-02-10 10:00:00                        0.0                      0.022282   \n",
       "2021-02-10 10:01:00                        0.0                      0.029155   \n",
       "\n",
       "                     Hum_Pred_std  Etapa2MWHumedadPV_std  Negro  CurvaCola  \\\n",
       "fecha                                                                        \n",
       "2021-02-10 10:00:00      0.163959               0.221663      1          0   \n",
       "2021-02-10 10:01:00      0.060918               0.151328      1          0   \n",
       "\n",
       "                     Congelado  Hum  \n",
       "fecha                                \n",
       "2021-02-10 10:00:00          1    0  \n",
       "2021-02-10 10:01:00          1    0  \n",
       "\n",
       "[2 rows x 26 columns]"
      ]
     },
     "execution_count": 2,
     "metadata": {},
     "output_type": "execute_result"
    }
   ],
   "source": [
    "df = pd.read_csv('../../../../Datasets/Dataset_2.csv',index_col='fecha')\n",
    "df.index = pd.to_datetime(df.index)\n",
    "df.head(2)"
   ]
  },
  {
   "cell_type": "markdown",
   "metadata": {},
   "source": [
    "Unimos todas las anomalías en una columna, para posteriormente realizar las métricas tanto para todas las anomalías como para cada una en concreto.\n",
    "\n",
    "Para ello, sumo las columnas de anomalías, y después las que son mayores que cero las establezco como uno (porque significa que alguna de las columnas si tenía anomalía registrada), las demás como cero."
   ]
  },
  {
   "cell_type": "code",
   "execution_count": 3,
   "metadata": {},
   "outputs": [
    {
     "data": {
      "text/plain": [
       "22"
      ]
     },
     "execution_count": 3,
     "metadata": {},
     "output_type": "execute_result"
    }
   ],
   "source": [
    "df['Anomalia'] = df['Negro'] + df['CurvaCola'] +  df['Congelado'] + df['Hum']\n",
    "df['Anomalia'] = df['Anomalia'].map(lambda x: 1 if x!=0 else 0)\n",
    "\n",
    "lista_anomalias = ['Negro', 'CurvaCola', 'Congelado', 'Hum','Anomalia']\n",
    "\n",
    "atributos = df.columns.drop(lista_anomalias)\n",
    "len(atributos)"
   ]
  },
  {
   "cell_type": "code",
   "execution_count": 4,
   "metadata": {},
   "outputs": [],
   "source": [
    "df.to_csv('Datos/Entrada_limpia.csv')"
   ]
  },
  {
   "cell_type": "code",
   "execution_count": 5,
   "metadata": {},
   "outputs": [],
   "source": [
    "#Normalizo\n",
    "standarizer = StandardScaler()\n",
    "\n",
    "df.loc[:,atributos] = standarizer.fit_transform(df.loc[:,atributos])"
   ]
  },
  {
   "cell_type": "code",
   "execution_count": 6,
   "metadata": {},
   "outputs": [],
   "source": [
    "#df = df['FormacionNIRHumedadPV']\n",
    "df = df.iloc[40000:60000,]\n",
    "df = df.iloc[:,0:4]"
   ]
  },
  {
   "cell_type": "code",
   "execution_count": 7,
   "metadata": {},
   "outputs": [],
   "source": [
    "df.to_csv('Datos/Entrada.csv', header=None)"
   ]
  },
  {
   "cell_type": "code",
   "execution_count": 8,
   "metadata": {},
   "outputs": [],
   "source": [
    "filename = \"Datos/Entrada.csv\"\n",
    "\n",
    "aux = open(filename,\"r\")\n",
    "originaltext = aux.read()\n",
    "aux.close()\n",
    "\n",
    "aux = open(filename,\"w\")\n",
    "aux.write(\"fecha,FormacionNIRHumedadPV,FibraticPredNIRHumedadPV,Hum_Pred,Etapa2MWHumedadPV,ExtractorVelocidadPV,FormacionAlturaMantaPV,FormadoraVelocidadPV,FormadoraSiloNivel,SiloFibraNivel,SiloFibraVelocidadPV,SiloRechazosNivelPV,SiloRechazosVelocidadPV,SierrasAnchoPV,ScalperPosPV,ScalperReservaMediaPV,ScalperReservaDerPosPV,ScalperReservaIzqPosPV,FormacionNIRPH,FormacionNIRHumedadPV_std,FibraticPredNIRHumedadPV_std,Hum_Pred_std,Etapa2MWHumedadPV_std \\ndatetime,float,float,float,float,float,float,float,float,float,float,float,float,float,float,float,float,float,float,float,float,float,float \\nT,T,T,T,T,T,T,T,T,T,T,T,T,T,T,T,T,T,T,T,T,T,T \\n\")\n",
    "aux.write(originaltext)\n",
    "aux.close()"
   ]
  }
 ],
 "metadata": {
  "interpreter": {
   "hash": "084e8b912a56bf1ec199b7cc8c30ae9313a998703506b070bededcac63d0da25"
  },
  "kernelspec": {
   "display_name": "Python 3.10.2 ('.env': venv)",
   "language": "python",
   "name": "python3"
  },
  "language_info": {
   "codemirror_mode": {
    "name": "ipython",
    "version": 3
   },
   "file_extension": ".py",
   "mimetype": "text/x-python",
   "name": "python",
   "nbconvert_exporter": "python",
   "pygments_lexer": "ipython3",
   "version": "3.10.2"
  },
  "orig_nbformat": 4
 },
 "nbformat": 4,
 "nbformat_minor": 2
}
