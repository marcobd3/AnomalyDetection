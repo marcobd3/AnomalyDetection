{
 "cells": [
  {
   "cell_type": "markdown",
   "metadata": {},
   "source": [
    "# PySAD - MedianAbsoluteDeviation"
   ]
  },
  {
   "cell_type": "markdown",
   "metadata": {},
   "source": [
    "## Carga de datos"
   ]
  },
  {
   "cell_type": "markdown",
   "metadata": {},
   "source": [
    "Cargamos librerías y datos:\n",
    "\n",
    "Las típicas (pandas, matplotlib, numpy)...\n",
    "\n",
    "Funciones de sklearn de preprocesado y métricas.\n",
    "\n",
    "Modelos y métricas de PyOD."
   ]
  },
  {
   "cell_type": "code",
   "execution_count": 1,
   "metadata": {},
   "outputs": [],
   "source": [
    "import pandas as pd\n",
    "import matplotlib.pyplot as plt\n",
    "import numpy as np\n",
    "from time import time\n",
    "\n",
    "from sklearn.model_selection import train_test_split\n",
    "from sklearn.metrics import roc_auc_score\n",
    "from sklearn.metrics import precision_score\n",
    "from sklearn.metrics import accuracy_score\n",
    "from sklearn.metrics import recall_score\n",
    "from sklearn.metrics import cohen_kappa_score\n",
    "\n",
    "from pysad.models import  MedianAbsoluteDeviation\n",
    "from pysad.transform.probability_calibration import ConformalProbabilityCalibrator\n",
    "\n",
    "random_state = np.random.RandomState(42)"
   ]
  },
  {
   "cell_type": "code",
   "execution_count": 2,
   "metadata": {},
   "outputs": [
    {
     "data": {
      "text/html": [
       "<div>\n",
       "<style scoped>\n",
       "    .dataframe tbody tr th:only-of-type {\n",
       "        vertical-align: middle;\n",
       "    }\n",
       "\n",
       "    .dataframe tbody tr th {\n",
       "        vertical-align: top;\n",
       "    }\n",
       "\n",
       "    .dataframe thead th {\n",
       "        text-align: right;\n",
       "    }\n",
       "</style>\n",
       "<table border=\"1\" class=\"dataframe\">\n",
       "  <thead>\n",
       "    <tr style=\"text-align: right;\">\n",
       "      <th></th>\n",
       "      <th>Diferencia</th>\n",
       "      <th>Negro</th>\n",
       "      <th>CurvaCola</th>\n",
       "      <th>Congelado</th>\n",
       "      <th>Hum</th>\n",
       "    </tr>\n",
       "    <tr>\n",
       "      <th>fecha</th>\n",
       "      <th></th>\n",
       "      <th></th>\n",
       "      <th></th>\n",
       "      <th></th>\n",
       "      <th></th>\n",
       "    </tr>\n",
       "  </thead>\n",
       "  <tbody>\n",
       "    <tr>\n",
       "      <th>2021-02-10 10:00:00</th>\n",
       "      <td>-6.465569</td>\n",
       "      <td>1</td>\n",
       "      <td>0</td>\n",
       "      <td>1</td>\n",
       "      <td>0</td>\n",
       "    </tr>\n",
       "    <tr>\n",
       "      <th>2021-02-10 10:01:00</th>\n",
       "      <td>-6.355772</td>\n",
       "      <td>1</td>\n",
       "      <td>0</td>\n",
       "      <td>1</td>\n",
       "      <td>0</td>\n",
       "    </tr>\n",
       "  </tbody>\n",
       "</table>\n",
       "</div>"
      ],
      "text/plain": [
       "                     Diferencia  Negro  CurvaCola  Congelado  Hum\n",
       "fecha                                                            \n",
       "2021-02-10 10:00:00   -6.465569      1          0          1    0\n",
       "2021-02-10 10:01:00   -6.355772      1          0          1    0"
      ]
     },
     "execution_count": 2,
     "metadata": {},
     "output_type": "execute_result"
    }
   ],
   "source": [
    "df = pd.read_csv('../../Datasets/Dataset_2.csv',index_col='fecha', usecols=['fecha','FormacionNIRHumedadPV', 'FibraticPredNIRHumedadPV','Negro', 'CurvaCola', 'Congelado', 'Hum'])\n",
    "df['Diferencia'] = df['FormacionNIRHumedadPV'] - df['FibraticPredNIRHumedadPV']\n",
    "df = df.drop(['FormacionNIRHumedadPV','FibraticPredNIRHumedadPV'], axis=1)\n",
    "df = df.loc[:,['Diferencia','Negro', 'CurvaCola', 'Congelado', 'Hum']]\n",
    "df.index = pd.to_datetime(df.index)\n",
    "df.head(2)"
   ]
  },
  {
   "cell_type": "markdown",
   "metadata": {},
   "source": [
    "Unimos todas las anomalías en una columna, para posteriormente realizar las métricas tanto para todas las anomalías como para cada una en concreto.\n",
    "\n",
    "Para ello, sumo las columnas de anomalías, y después las que son mayores que cero las establezco como uno (porque significa que alguna de las columnas si tenía anomalía registrada), las demás como cero."
   ]
  },
  {
   "cell_type": "code",
   "execution_count": 3,
   "metadata": {},
   "outputs": [
    {
     "data": {
      "text/plain": [
       "1"
      ]
     },
     "execution_count": 3,
     "metadata": {},
     "output_type": "execute_result"
    }
   ],
   "source": [
    "df['Anomalia'] = df['Negro'] + df['Congelado'] + df['Hum']\n",
    "df['Anomalia'] = df['Anomalia'].map(lambda x: 1 if x!=0 else 0)\n",
    "\n",
    "df = df.drop(df[df['Anomalia']==1].index)\n",
    "df = df.drop(['Negro','Congelado','Hum','Anomalia'], axis=1)\n",
    "\n",
    "lista_anomalias = ['CurvaCola']\n",
    "\n",
    "atributos = df.columns.drop(lista_anomalias)\n",
    "len(atributos)"
   ]
  },
  {
   "cell_type": "markdown",
   "metadata": {},
   "source": [
    "## Escogemos un subconjunto del dataset para entrenamientos más cortos"
   ]
  },
  {
   "cell_type": "code",
   "execution_count": 4,
   "metadata": {},
   "outputs": [],
   "source": [
    "#df = df.iloc[40000:60000,:]"
   ]
  },
  {
   "cell_type": "markdown",
   "metadata": {},
   "source": [
    "## Proporción de cada anomalía"
   ]
  },
  {
   "cell_type": "code",
   "execution_count": 5,
   "metadata": {},
   "outputs": [
    {
     "name": "stdout",
     "output_type": "stream",
     "text": [
      "Proporción de anomalías en %: \n"
     ]
    },
    {
     "data": {
      "text/html": [
       "<div>\n",
       "<style scoped>\n",
       "    .dataframe tbody tr th:only-of-type {\n",
       "        vertical-align: middle;\n",
       "    }\n",
       "\n",
       "    .dataframe tbody tr th {\n",
       "        vertical-align: top;\n",
       "    }\n",
       "\n",
       "    .dataframe thead th {\n",
       "        text-align: right;\n",
       "    }\n",
       "</style>\n",
       "<table border=\"1\" class=\"dataframe\">\n",
       "  <thead>\n",
       "    <tr style=\"text-align: right;\">\n",
       "      <th></th>\n",
       "      <th>CurvaCola</th>\n",
       "    </tr>\n",
       "  </thead>\n",
       "  <tbody>\n",
       "    <tr>\n",
       "      <th>0</th>\n",
       "      <td>26.495</td>\n",
       "    </tr>\n",
       "  </tbody>\n",
       "</table>\n",
       "</div>"
      ],
      "text/plain": [
       "   CurvaCola\n",
       "0     26.495"
      ]
     },
     "execution_count": 5,
     "metadata": {},
     "output_type": "execute_result"
    }
   ],
   "source": [
    "def proporciones(df,columna):\n",
    "    return round(df[df[columna]==1][columna].count()/df[columna].count() *100,3)\n",
    "\n",
    "lista_proporciones = []\n",
    "\n",
    "for i in lista_anomalias:\n",
    "    lista_proporciones.append(proporciones(df,i))\n",
    "\n",
    "\n",
    "df_proporciones = np.array(lista_proporciones)\n",
    "df_proporciones = pd.DataFrame(df_proporciones).T\n",
    "df_proporciones.columns = lista_anomalias\n",
    "\n",
    "print('Proporción de anomalías en %: ')\n",
    "df_proporciones.head()"
   ]
  },
  {
   "cell_type": "markdown",
   "metadata": {},
   "source": [
    "## Preparación"
   ]
  },
  {
   "cell_type": "markdown",
   "metadata": {},
   "source": [
    "Separo conjuntos de train, validation y test, y estandarizo:\n",
    "\n",
    "Separo los atributos en X y las anomalias en Y. De esta manera, al realizar el train_test_split, se mantendrán las proporciones de cada anomalía, con muestreos temporales aleatorios.\n",
    "\n",
    "Primero separo en train-test (80-20) y después separo el test en test-validation (50-50), para así obtener finalmente train-validation-test (80-10-10).\n",
    "\n",
    "Una vez separado, entreno el StandardScaler() con el conjunto de entrenamiento, y se lo aplico al conjunto de validación y test."
   ]
  },
  {
   "cell_type": "code",
   "execution_count": 6,
   "metadata": {},
   "outputs": [],
   "source": [
    "#Separo los atributos para el entrenamiento de la salida\n",
    "X = df.loc[:, 'Diferencia']\n",
    "Y = df.loc[:, lista_anomalias]\n",
    "\n",
    "#Calculo la proporcion de outliers presentes\n",
    "proporcion_outliers = round(np.count_nonzero(Y.CurvaCola) / len(Y.CurvaCola),3)\n",
    "\n",
    "#Separo entrenamiento y test (80-20)\n",
    "X_train, X_test, Y_train, Y_test = train_test_split(X, Y, test_size=0.2, random_state = random_state)"
   ]
  },
  {
   "cell_type": "markdown",
   "metadata": {},
   "source": [
    "## Entrenamiento"
   ]
  },
  {
   "cell_type": "markdown",
   "metadata": {},
   "source": [
    "Para ello, establezco primero la lista de hiperparámetros a entrenar y la de métricas a analizar.\n",
    "\n",
    "creo dos arrays de ceros, uno para las scores y otro para las labels.\n",
    "\n",
    "Realizo un bucle, estableciendo un entrenamiento por cada hiperparámetro.\n",
    "\n",
    "Después, extraigo scores y labels, almacenándolas en un array, y calculo las métricas, haciendo lo mismo. Una vez termina el bucle, estos dos vectores los paso a un dataframe para su visualización."
   ]
  },
  {
   "cell_type": "code",
   "execution_count": 7,
   "metadata": {},
   "outputs": [
    {
     "name": "stdout",
     "output_type": "stream",
     "text": [
      "Tiempo:  78015.3402\n"
     ]
    }
   ],
   "source": [
    "t0 = time()\n",
    "\n",
    "#Establecemos parametros\n",
    "metricas_list = ['roc_auc','accuracy','precision','kappa','sensibilidad','especificidad']\n",
    "anomalia = 'CurvaCola'\n",
    "\n",
    "#Entrenamiento\n",
    "clf = MedianAbsoluteDeviation()\n",
    "calibrator = ConformalProbabilityCalibrator(windowed=False)\n",
    "\n",
    "clf.fit(np.reshape(X_train.to_list(),(-1,1)))\n",
    "scores_train = clf.score(np.reshape(X_train.to_list(),(-1,1)))\n",
    "calibrator.fit(scores_train)\n",
    "\n",
    "#Prediccion\n",
    "test_scores = clf.score(np.reshape(X_test.to_list(),(-1,1)))\n",
    "test_scores = calibrator.transform(test_scores)\n",
    "\n",
    "t1 = time()\n",
    "duration = round(t1 - t0, ndigits=4)\n",
    "print('Tiempo: ', duration)"
   ]
  },
  {
   "cell_type": "markdown",
   "metadata": {},
   "source": [
    "## Análisis de Scores:"
   ]
  },
  {
   "cell_type": "markdown",
   "metadata": {},
   "source": [
    "Dado que PySAD no etiqueta directamente las instancias, realizamos un pequeño análisis de la score de salida de cada una para determinar el umbral adecuado:"
   ]
  },
  {
   "cell_type": "code",
   "execution_count": 8,
   "metadata": {},
   "outputs": [
    {
     "data": {
      "image/png": "[encoded data removed]",
      "text/plain": [
       "<Figure size 432x288 with 1 Axes>"
      ]
     },
     "metadata": {
      "needs_background": "light"
     },
     "output_type": "display_data"
    }
   ],
   "source": [
    "Y_test['scores'] = test_scores\n",
    "n, bins, patches = plt.hist(Y_test[Y_test['CurvaCola']==1]['scores'], bins=50)\n",
    "plt.show()"
   ]
  },
  {
   "cell_type": "code",
   "execution_count": 9,
   "metadata": {},
   "outputs": [
    {
     "data": {
      "image/png": "[encoded data removed]",
      "text/plain": [
       "<Figure size 432x288 with 1 Axes>"
      ]
     },
     "metadata": {
      "needs_background": "light"
     },
     "output_type": "display_data"
    }
   ],
   "source": [
    "plt.hist(Y_test[Y_test['CurvaCola']==0]['scores'], bins=50)\n",
    "plt.show()"
   ]
  },
  {
   "cell_type": "markdown",
   "metadata": {},
   "source": [
    "Miramos los bins:"
   ]
  },
  {
   "cell_type": "code",
   "execution_count": 10,
   "metadata": {},
   "outputs": [
    {
     "data": {
      "text/plain": [
       "array([4.46034702e-04, 2.04357416e-02, 4.04254485e-02, 6.04151554e-02,\n",
       "       8.04048623e-02, 1.00394569e-01, 1.20384276e-01, 1.40373983e-01,\n",
       "       1.60363690e-01, 1.80353397e-01, 2.00343104e-01, 2.20332811e-01,\n",
       "       2.40322517e-01, 2.60312224e-01, 2.80301931e-01, 3.00291638e-01,\n",
       "       3.20281345e-01, 3.40271052e-01, 3.60260759e-01, 3.80250466e-01,\n",
       "       4.00240173e-01, 4.20229879e-01, 4.40219586e-01, 4.60209293e-01,\n",
       "       4.80199000e-01, 5.00188707e-01, 5.20178414e-01, 5.40168121e-01,\n",
       "       5.60157828e-01, 5.80147535e-01, 6.00137241e-01, 6.20126948e-01,\n",
       "       6.40116655e-01, 6.60106362e-01, 6.80096069e-01, 7.00085776e-01,\n",
       "       7.20075483e-01, 7.40065190e-01, 7.60054897e-01, 7.80044603e-01,\n",
       "       8.00034310e-01, 8.20024017e-01, 8.40013724e-01, 8.60003431e-01,\n",
       "       8.79993138e-01, 8.99982845e-01, 9.19972552e-01, 9.39962259e-01,\n",
       "       9.59951965e-01, 9.79941672e-01, 9.99931379e-01])"
      ]
     },
     "execution_count": 10,
     "metadata": {},
     "output_type": "execute_result"
    }
   ],
   "source": [
    "bins"
   ]
  },
  {
   "cell_type": "markdown",
   "metadata": {},
   "source": [
    "Analizamos la curva roc en función del punto en que discriminemos anomalía de no anomalía:"
   ]
  },
  {
   "cell_type": "code",
   "execution_count": 11,
   "metadata": {},
   "outputs": [
    {
     "data": {
      "image/png": "[encoded data removed]",
      "text/plain": [
       "<Figure size 432x288 with 1 Axes>"
      ]
     },
     "metadata": {
      "needs_background": "light"
     },
     "output_type": "display_data"
    }
   ],
   "source": [
    "valores = np.array([])\n",
    "sensibilidades = np.array([])\n",
    "especificidades = np.array([])\n",
    "for i in bins:\n",
    "    Y_test['Y_pred'] = Y_test['scores'].map(lambda x: 1 if x < i else 0)\n",
    "    valores = np.append(valores,i)\n",
    "    sensibilidades = np.append(sensibilidades,recall_score(Y_test['CurvaCola'],Y_test['Y_pred']))\n",
    "    especificidades = np.append(especificidades,recall_score(Y_test['CurvaCola'],Y_test['Y_pred'], pos_label=0))\n",
    "\n",
    "plt.plot(1 - especificidades, sensibilidades,'.-')\n",
    "plt.ylabel('Sensibilidad')\n",
    "plt.xlabel('1-Especificidad')\n",
    "plt.show()"
   ]
  },
  {
   "cell_type": "code",
   "execution_count": 12,
   "metadata": {},
   "outputs": [],
   "source": [
    "Y_test['Y_pred'] = Y_test['scores'].map(lambda x: 1 if x < bins[5] else 0)"
   ]
  },
  {
   "cell_type": "markdown",
   "metadata": {},
   "source": [
    "## Métricas"
   ]
  },
  {
   "cell_type": "code",
   "execution_count": 13,
   "metadata": {},
   "outputs": [],
   "source": [
    "roc_auc = roc_auc_score(Y_test[anomalia], Y_test['Y_pred'])\n",
    "accuracy = accuracy_score(Y_test[anomalia],Y_test['Y_pred'])\n",
    "precision = precision_score(Y_test[anomalia],Y_test['Y_pred'])\n",
    "kappa = cohen_kappa_score(Y_test[anomalia],Y_test['Y_pred'])\n",
    "sensibilidad = recall_score(Y_test[anomalia],Y_test['Y_pred'])\n",
    "especificidad = recall_score(Y_test[anomalia],Y_test['Y_pred'], pos_label=0)\n",
    "\n",
    "valores = [roc_auc,accuracy,precision,kappa,sensibilidad,especificidad]\n",
    "metricas = pd.DataFrame(valores)\n",
    "metricas.index = metricas_list\n",
    "metricas.columns = [anomalia]"
   ]
  },
  {
   "cell_type": "markdown",
   "metadata": {},
   "source": [
    "Analizo las métricas:"
   ]
  },
  {
   "cell_type": "code",
   "execution_count": 14,
   "metadata": {},
   "outputs": [
    {
     "data": {
      "text/html": [
       "<div>\n",
       "<style scoped>\n",
       "    .dataframe tbody tr th:only-of-type {\n",
       "        vertical-align: middle;\n",
       "    }\n",
       "\n",
       "    .dataframe tbody tr th {\n",
       "        vertical-align: top;\n",
       "    }\n",
       "\n",
       "    .dataframe thead th {\n",
       "        text-align: right;\n",
       "    }\n",
       "</style>\n",
       "<table border=\"1\" class=\"dataframe\">\n",
       "  <thead>\n",
       "    <tr style=\"text-align: right;\">\n",
       "      <th></th>\n",
       "      <th>roc_auc</th>\n",
       "      <th>accuracy</th>\n",
       "      <th>precision</th>\n",
       "      <th>kappa</th>\n",
       "      <th>sensibilidad</th>\n",
       "      <th>especificidad</th>\n",
       "    </tr>\n",
       "  </thead>\n",
       "  <tbody>\n",
       "    <tr>\n",
       "      <th>CurvaCola</th>\n",
       "      <td>0.522436</td>\n",
       "      <td>0.702755</td>\n",
       "      <td>0.353586</td>\n",
       "      <td>0.05584</td>\n",
       "      <td>0.134844</td>\n",
       "      <td>0.910028</td>\n",
       "    </tr>\n",
       "  </tbody>\n",
       "</table>\n",
       "</div>"
      ],
      "text/plain": [
       "            roc_auc  accuracy  precision    kappa  sensibilidad  especificidad\n",
       "CurvaCola  0.522436  0.702755   0.353586  0.05584      0.134844       0.910028"
      ]
     },
     "execution_count": 14,
     "metadata": {},
     "output_type": "execute_result"
    }
   ],
   "source": [
    "metricas.T"
   ]
  },
  {
   "cell_type": "code",
   "execution_count": 15,
   "metadata": {},
   "outputs": [],
   "source": [
    "Y_test.to_csv('Resultados/PySAD_MAD_completo.csv')"
   ]
  }
 ],
 "metadata": {
  "interpreter": {
   "hash": "94303094bb119ce68045356867e4bcf4d447b7da677f37f7aa5650f3990cb29e"
  },
  "kernelspec": {
   "display_name": "Python 3.10.4 ('.env': venv)",
   "language": "python",
   "name": "python3"
  },
  "language_info": {
   "codemirror_mode": {
    "name": "ipython",
    "version": 3
   },
   "file_extension": ".py",
   "mimetype": "text/x-python",
   "name": "python",
   "nbconvert_exporter": "python",
   "pygments_lexer": "ipython3",
   "version": "3.10.4"
  },
  "orig_nbformat": 4
 },
 "nbformat": 4,
 "nbformat_minor": 2
}
