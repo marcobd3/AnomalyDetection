{
 "cells": [
  {
   "cell_type": "markdown",
   "metadata": {},
   "source": [
    "# Resumen general"
   ]
  },
  {
   "cell_type": "code",
   "execution_count": 1,
   "metadata": {},
   "outputs": [],
   "source": [
    "import pandas as pd\n",
    "import matplotlib.pyplot as plt\n",
    "import plotly.express as px\n",
    "\n",
    "from sklearn.metrics import roc_auc_score\n",
    "from sklearn.metrics import precision_score\n",
    "from sklearn.metrics import accuracy_score\n",
    "from sklearn.metrics import recall_score\n",
    "from sklearn.metrics import cohen_kappa_score"
   ]
  },
  {
   "cell_type": "code",
   "execution_count": 2,
   "metadata": {},
   "outputs": [],
   "source": [
    "anomalias = ['Anomalia','Negro','Congelado','Hum','CurvaCola']\n",
    "metricas = ['roc_auc','accuracy','precision','kappa','sensibilidad','especificidad']\n",
    "\n",
    "def calc_metricas(metodos,metodos_lista):\n",
    "    metodos_metricas = pd.DataFrame(index=metodos_lista,columns=metricas)\n",
    "    for metodo in metodos_lista:\n",
    "        metodos_metricas.loc[metodo,metricas[0]] = roc_auc_score(metodos['Anomalia'], metodos[metodo])\n",
    "        metodos_metricas.loc[metodo,metricas[1]] = accuracy_score(metodos['Anomalia'], metodos[metodo])\n",
    "        metodos_metricas.loc[metodo,metricas[2]] = precision_score(metodos['Anomalia'], metodos[metodo])\n",
    "        metodos_metricas.loc[metodo,metricas[3]] = cohen_kappa_score(metodos['Anomalia'], metodos[metodo])\n",
    "        metodos_metricas.loc[metodo,metricas[4]] = recall_score(metodos['Anomalia'], metodos[metodo])\n",
    "        metodos_metricas.loc[metodo,metricas[5]] = recall_score(metodos['Anomalia'], metodos[metodo], pos_label=0)\n",
    "    return metodos_metricas\n",
    "\n",
    "def calc_sensibilidad(metodos,metodos_lista,anomalias):\n",
    "    metodos_sensibilidades = pd.DataFrame(index=metodos_lista, columns=anomalias)\n",
    "    for metodo in metodos_lista:\n",
    "        for anomalia in anomalias:\n",
    "            metodos_sensibilidades.loc[metodo,anomalia] = recall_score(metodos[anomalia], metodos[metodo])\n",
    "    return metodos_sensibilidades"
   ]
  },
  {
   "cell_type": "markdown",
   "metadata": {},
   "source": [
    "## Métodos"
   ]
  },
  {
   "cell_type": "code",
   "execution_count": 3,
   "metadata": {},
   "outputs": [
    {
     "data": {
      "text/html": [
       "<div>\n",
       "<style scoped>\n",
       "    .dataframe tbody tr th:only-of-type {\n",
       "        vertical-align: middle;\n",
       "    }\n",
       "\n",
       "    .dataframe tbody tr th {\n",
       "        vertical-align: top;\n",
       "    }\n",
       "\n",
       "    .dataframe thead th {\n",
       "        text-align: right;\n",
       "    }\n",
       "</style>\n",
       "<table border=\"1\" class=\"dataframe\">\n",
       "  <thead>\n",
       "    <tr style=\"text-align: right;\">\n",
       "      <th></th>\n",
       "      <th>Negro</th>\n",
       "      <th>CurvaCola</th>\n",
       "      <th>Congelado</th>\n",
       "      <th>Hum</th>\n",
       "      <th>Anomalia</th>\n",
       "      <th>HBOS</th>\n",
       "      <th>IForest</th>\n",
       "      <th>KNN</th>\n",
       "      <th>LODA</th>\n",
       "      <th>MAD_PyOD</th>\n",
       "      <th>MCD</th>\n",
       "      <th>IForestASD</th>\n",
       "      <th>MAD_PySAD</th>\n",
       "      <th>SAD</th>\n",
       "      <th>xStream</th>\n",
       "    </tr>\n",
       "    <tr>\n",
       "      <th>fecha</th>\n",
       "      <th></th>\n",
       "      <th></th>\n",
       "      <th></th>\n",
       "      <th></th>\n",
       "      <th></th>\n",
       "      <th></th>\n",
       "      <th></th>\n",
       "      <th></th>\n",
       "      <th></th>\n",
       "      <th></th>\n",
       "      <th></th>\n",
       "      <th></th>\n",
       "      <th></th>\n",
       "      <th></th>\n",
       "      <th></th>\n",
       "    </tr>\n",
       "  </thead>\n",
       "  <tbody>\n",
       "    <tr>\n",
       "      <th>2021-08-01 11:06:00</th>\n",
       "      <td>0</td>\n",
       "      <td>1</td>\n",
       "      <td>0</td>\n",
       "      <td>0</td>\n",
       "      <td>1</td>\n",
       "      <td>1</td>\n",
       "      <td>1</td>\n",
       "      <td>1</td>\n",
       "      <td>0</td>\n",
       "      <td>0</td>\n",
       "      <td>1</td>\n",
       "      <td>1</td>\n",
       "      <td>0</td>\n",
       "      <td>0</td>\n",
       "      <td>1</td>\n",
       "    </tr>\n",
       "    <tr>\n",
       "      <th>2021-03-15 11:15:00</th>\n",
       "      <td>0</td>\n",
       "      <td>0</td>\n",
       "      <td>0</td>\n",
       "      <td>0</td>\n",
       "      <td>0</td>\n",
       "      <td>0</td>\n",
       "      <td>0</td>\n",
       "      <td>0</td>\n",
       "      <td>0</td>\n",
       "      <td>0</td>\n",
       "      <td>0</td>\n",
       "      <td>0</td>\n",
       "      <td>0</td>\n",
       "      <td>0</td>\n",
       "      <td>0</td>\n",
       "    </tr>\n",
       "    <tr>\n",
       "      <th>2021-10-19 07:04:00</th>\n",
       "      <td>0</td>\n",
       "      <td>0</td>\n",
       "      <td>0</td>\n",
       "      <td>0</td>\n",
       "      <td>0</td>\n",
       "      <td>0</td>\n",
       "      <td>0</td>\n",
       "      <td>1</td>\n",
       "      <td>0</td>\n",
       "      <td>0</td>\n",
       "      <td>0</td>\n",
       "      <td>1</td>\n",
       "      <td>0</td>\n",
       "      <td>0</td>\n",
       "      <td>1</td>\n",
       "    </tr>\n",
       "    <tr>\n",
       "      <th>2021-04-17 10:46:00</th>\n",
       "      <td>0</td>\n",
       "      <td>0</td>\n",
       "      <td>0</td>\n",
       "      <td>0</td>\n",
       "      <td>0</td>\n",
       "      <td>0</td>\n",
       "      <td>0</td>\n",
       "      <td>0</td>\n",
       "      <td>0</td>\n",
       "      <td>0</td>\n",
       "      <td>0</td>\n",
       "      <td>0</td>\n",
       "      <td>0</td>\n",
       "      <td>0</td>\n",
       "      <td>0</td>\n",
       "    </tr>\n",
       "    <tr>\n",
       "      <th>2021-03-07 19:50:00</th>\n",
       "      <td>0</td>\n",
       "      <td>0</td>\n",
       "      <td>0</td>\n",
       "      <td>0</td>\n",
       "      <td>0</td>\n",
       "      <td>0</td>\n",
       "      <td>0</td>\n",
       "      <td>0</td>\n",
       "      <td>0</td>\n",
       "      <td>0</td>\n",
       "      <td>0</td>\n",
       "      <td>0</td>\n",
       "      <td>0</td>\n",
       "      <td>0</td>\n",
       "      <td>0</td>\n",
       "    </tr>\n",
       "  </tbody>\n",
       "</table>\n",
       "</div>"
      ],
      "text/plain": [
       "                     Negro  CurvaCola  Congelado  Hum  Anomalia  HBOS  \\\n",
       "fecha                                                                   \n",
       "2021-08-01 11:06:00      0          1          0    0         1     1   \n",
       "2021-03-15 11:15:00      0          0          0    0         0     0   \n",
       "2021-10-19 07:04:00      0          0          0    0         0     0   \n",
       "2021-04-17 10:46:00      0          0          0    0         0     0   \n",
       "2021-03-07 19:50:00      0          0          0    0         0     0   \n",
       "\n",
       "                     IForest  KNN  LODA  MAD_PyOD  MCD  IForestASD  MAD_PySAD  \\\n",
       "fecha                                                                           \n",
       "2021-08-01 11:06:00        1    1     0         0    1           1          0   \n",
       "2021-03-15 11:15:00        0    0     0         0    0           0          0   \n",
       "2021-10-19 07:04:00        0    1     0         0    0           1          0   \n",
       "2021-04-17 10:46:00        0    0     0         0    0           0          0   \n",
       "2021-03-07 19:50:00        0    0     0         0    0           0          0   \n",
       "\n",
       "                     SAD  xStream  \n",
       "fecha                              \n",
       "2021-08-01 11:06:00    0        1  \n",
       "2021-03-15 11:15:00    0        0  \n",
       "2021-10-19 07:04:00    0        1  \n",
       "2021-04-17 10:46:00    0        0  \n",
       "2021-03-07 19:50:00    0        0  "
      ]
     },
     "execution_count": 3,
     "metadata": {},
     "output_type": "execute_result"
    }
   ],
   "source": [
    "metodos = pd.read_csv('Metodos/PyOD/Resultados/HBOS_completo.csv',index_col='fecha')\n",
    "metodos = metodos.drop('Y_pred', axis=1)\n",
    "\n",
    "metodos['HBOS'] = pd.read_csv('Metodos/PyOD/Resultados/HBOS_completo.csv',usecols=['fecha','Y_pred'],index_col='fecha')\n",
    "metodos['IForest'] = pd.read_csv('Metodos/PyOD/Resultados/IForest_completo.csv',usecols=['fecha','Y_pred'],index_col='fecha')\n",
    "metodos['KNN'] = pd.read_csv('Metodos/PyOD/Resultados/KNN_completo.csv',usecols=['fecha','Y_pred'],index_col='fecha')\n",
    "metodos['LODA'] = pd.read_csv('Metodos/PyOD/Resultados/LODA_completo.csv',usecols=['fecha','Y_pred'],index_col='fecha')\n",
    "metodos['MAD_PyOD'] = pd.read_csv('Metodos/PyOD/Resultados/MAD_completo.csv',usecols=['fecha','Y_pred'],index_col='fecha')\n",
    "metodos['MCD'] = pd.read_csv('Metodos/PyOD/Resultados/MCD_completo.csv',usecols=['fecha','Y_pred'],index_col='fecha')\n",
    "\n",
    "metodos['IForestASD'] = pd.read_csv('Metodos/PySAD/Resultados/IForestASD_completo.csv',usecols=['fecha','Y_pred'],index_col='fecha')\n",
    "metodos['MAD_PySAD'] = pd.read_csv('Metodos/PySAD/Resultados/MAD_completo.csv',usecols=['fecha','Y_pred'],index_col='fecha')\n",
    "metodos['SAD'] = pd.read_csv('Metodos/PySAD/Resultados/SAD_completo.csv',usecols=['fecha','Y_pred'],index_col='fecha')\n",
    "metodos['xStream'] = pd.read_csv('Metodos/PySAD/Resultados/xStream_completo.csv',usecols=['fecha','Y_pred'],index_col='fecha')\n",
    "\n",
    "metodos_htm = pd.read_csv('Metodos/HTMs/HTM_Uni/HTM_completo.csv',index_col='fecha')\n",
    "metodos_htm['HTM'] = metodos_htm['Y_pred']\n",
    "metodos_htm = metodos_htm.drop('Y_pred',axis=1)\n",
    "\n",
    "metodos.head()"
   ]
  },
  {
   "cell_type": "markdown",
   "metadata": {},
   "source": []
  },
  {
   "cell_type": "markdown",
   "metadata": {},
   "source": [
    "### Métricas generales:"
   ]
  },
  {
   "cell_type": "code",
   "execution_count": 4,
   "metadata": {},
   "outputs": [
    {
     "data": {
      "text/html": [
       "<div>\n",
       "<style scoped>\n",
       "    .dataframe tbody tr th:only-of-type {\n",
       "        vertical-align: middle;\n",
       "    }\n",
       "\n",
       "    .dataframe tbody tr th {\n",
       "        vertical-align: top;\n",
       "    }\n",
       "\n",
       "    .dataframe thead th {\n",
       "        text-align: right;\n",
       "    }\n",
       "</style>\n",
       "<table border=\"1\" class=\"dataframe\">\n",
       "  <thead>\n",
       "    <tr style=\"text-align: right;\">\n",
       "      <th></th>\n",
       "      <th>roc_auc</th>\n",
       "      <th>accuracy</th>\n",
       "      <th>precision</th>\n",
       "      <th>kappa</th>\n",
       "      <th>sensibilidad</th>\n",
       "      <th>especificidad</th>\n",
       "    </tr>\n",
       "  </thead>\n",
       "  <tbody>\n",
       "    <tr>\n",
       "      <th>HBOS</th>\n",
       "      <td>0.537511</td>\n",
       "      <td>0.670005</td>\n",
       "      <td>0.493402</td>\n",
       "      <td>0.091176</td>\n",
       "      <td>0.150848</td>\n",
       "      <td>0.924173</td>\n",
       "    </tr>\n",
       "    <tr>\n",
       "      <th>IForest</th>\n",
       "      <td>0.5631</td>\n",
       "      <td>0.693173</td>\n",
       "      <td>0.610557</td>\n",
       "      <td>0.153622</td>\n",
       "      <td>0.183503</td>\n",
       "      <td>0.942696</td>\n",
       "    </tr>\n",
       "    <tr>\n",
       "      <th>KNN</th>\n",
       "      <td>0.520688</td>\n",
       "      <td>0.654686</td>\n",
       "      <td>0.418294</td>\n",
       "      <td>0.050221</td>\n",
       "      <td>0.129641</td>\n",
       "      <td>0.911736</td>\n",
       "    </tr>\n",
       "    <tr>\n",
       "      <th>LODA</th>\n",
       "      <td>0.55061</td>\n",
       "      <td>0.682082</td>\n",
       "      <td>0.554308</td>\n",
       "      <td>0.123191</td>\n",
       "      <td>0.16693</td>\n",
       "      <td>0.934289</td>\n",
       "    </tr>\n",
       "    <tr>\n",
       "      <th>MAD_PyOD</th>\n",
       "      <td>0.59333</td>\n",
       "      <td>0.729708</td>\n",
       "      <td>0.916837</td>\n",
       "      <td>0.233569</td>\n",
       "      <td>0.195333</td>\n",
       "      <td>0.991326</td>\n",
       "    </tr>\n",
       "    <tr>\n",
       "      <th>MCD</th>\n",
       "      <td>0.530013</td>\n",
       "      <td>0.663358</td>\n",
       "      <td>0.46036</td>\n",
       "      <td>0.072947</td>\n",
       "      <td>0.140871</td>\n",
       "      <td>0.919156</td>\n",
       "    </tr>\n",
       "    <tr>\n",
       "      <th>IForestASD</th>\n",
       "      <td>0.581826</td>\n",
       "      <td>0.673911</td>\n",
       "      <td>0.506348</td>\n",
       "      <td>0.181312</td>\n",
       "      <td>0.313089</td>\n",
       "      <td>0.850562</td>\n",
       "    </tr>\n",
       "    <tr>\n",
       "      <th>MAD_PySAD</th>\n",
       "      <td>0.587499</td>\n",
       "      <td>0.728848</td>\n",
       "      <td>1.0</td>\n",
       "      <td>0.221671</td>\n",
       "      <td>0.174999</td>\n",
       "      <td>1.0</td>\n",
       "    </tr>\n",
       "    <tr>\n",
       "      <th>SAD</th>\n",
       "      <td>0.587499</td>\n",
       "      <td>0.728848</td>\n",
       "      <td>1.0</td>\n",
       "      <td>0.221671</td>\n",
       "      <td>0.174999</td>\n",
       "      <td>1.0</td>\n",
       "    </tr>\n",
       "    <tr>\n",
       "      <th>xStream</th>\n",
       "      <td>0.604199</td>\n",
       "      <td>0.687045</td>\n",
       "      <td>0.535309</td>\n",
       "      <td>0.227118</td>\n",
       "      <td>0.362427</td>\n",
       "      <td>0.845971</td>\n",
       "    </tr>\n",
       "    <tr>\n",
       "      <th>HTM</th>\n",
       "      <td>0.456558</td>\n",
       "      <td>0.610028</td>\n",
       "      <td>0.047341</td>\n",
       "      <td>-0.108954</td>\n",
       "      <td>0.009837</td>\n",
       "      <td>0.903279</td>\n",
       "    </tr>\n",
       "  </tbody>\n",
       "</table>\n",
       "</div>"
      ],
      "text/plain": [
       "             roc_auc  accuracy precision     kappa sensibilidad especificidad\n",
       "HBOS        0.537511  0.670005  0.493402  0.091176     0.150848      0.924173\n",
       "IForest       0.5631  0.693173  0.610557  0.153622     0.183503      0.942696\n",
       "KNN         0.520688  0.654686  0.418294  0.050221     0.129641      0.911736\n",
       "LODA         0.55061  0.682082  0.554308  0.123191      0.16693      0.934289\n",
       "MAD_PyOD     0.59333  0.729708  0.916837  0.233569     0.195333      0.991326\n",
       "MCD         0.530013  0.663358   0.46036  0.072947     0.140871      0.919156\n",
       "IForestASD  0.581826  0.673911  0.506348  0.181312     0.313089      0.850562\n",
       "MAD_PySAD   0.587499  0.728848       1.0  0.221671     0.174999           1.0\n",
       "SAD         0.587499  0.728848       1.0  0.221671     0.174999           1.0\n",
       "xStream     0.604199  0.687045  0.535309  0.227118     0.362427      0.845971\n",
       "HTM         0.456558  0.610028  0.047341 -0.108954     0.009837      0.903279"
      ]
     },
     "execution_count": 4,
     "metadata": {},
     "output_type": "execute_result"
    }
   ],
   "source": [
    "metodos_lista = ['HBOS','IForest','KNN','LODA','MAD_PyOD','MCD', 'IForestASD', 'MAD_PySAD','SAD','xStream']\n",
    "metodos_metricas = calc_metricas(metodos,metodos_lista)\n",
    "metodos_metricas = pd.concat([metodos_metricas,calc_metricas(metodos_htm, ['HTM'])])\n",
    "metodos_metricas"
   ]
  },
  {
   "cell_type": "code",
   "execution_count": 5,
   "metadata": {},
   "outputs": [
    {
     "data": {
      "application/vnd.plotly.v1+json": {
       "config": {
        "plotlyServerURL": "https://plot.ly"
       },
       "data": [
        {
         "hovertemplate": "variable=HBOS<br>index=%{x}<br>value=%{y}<extra></extra>",
         "legendgroup": "HBOS",
         "line": {
          "color": "#636efa",
          "dash": "solid"
         },
         "marker": {
          "symbol": "circle"
         },
         "mode": "lines",
         "name": "HBOS",
         "orientation": "v",
         "showlegend": true,
         "type": "scatter",
         "x": [
          "roc_auc",
          "accuracy",
          "precision",
          "kappa",
          "sensibilidad",
          "especificidad"
         ],
         "xaxis": "x",
         "y": [
          0.5375105036552539,
          0.6700053753807561,
          0.49340228245363765,
          0.0911760981802402,
          0.1508477348307256,
          0.9241732724797822
         ],
         "yaxis": "y"
        },
        {
         "hovertemplate": "variable=IForest<br>index=%{x}<br>value=%{y}<extra></extra>",
         "legendgroup": "IForest",
         "line": {
          "color": "#EF553B",
          "dash": "solid"
         },
         "marker": {
          "symbol": "circle"
         },
         "mode": "lines",
         "name": "IForest",
         "orientation": "v",
         "showlegend": true,
         "type": "scatter",
         "x": [
          "roc_auc",
          "accuracy",
          "precision",
          "kappa",
          "sensibilidad",
          "especificidad"
         ],
         "xaxis": "x",
         "y": [
          0.5630997415507544,
          0.6931732664397061,
          0.6105568655904227,
          0.15362216997962252,
          0.1835032437442076,
          0.9426962393573011
         ],
         "yaxis": "y"
        },
        {
         "hovertemplate": "variable=KNN<br>index=%{x}<br>value=%{y}<extra></extra>",
         "legendgroup": "KNN",
         "line": {
          "color": "#00cc96",
          "dash": "solid"
         },
         "marker": {
          "symbol": "circle"
         },
         "mode": "lines",
         "name": "KNN",
         "orientation": "v",
         "showlegend": true,
         "type": "scatter",
         "x": [
          "roc_auc",
          "accuracy",
          "precision",
          "kappa",
          "sensibilidad",
          "especificidad"
         ],
         "xaxis": "x",
         "y": [
          0.5206881978000024,
          0.654685540225766,
          0.4182937554969217,
          0.050221036776984196,
          0.12964073488524233,
          0.9117356607147623
         ],
         "yaxis": "y"
        },
        {
         "hovertemplate": "variable=LODA<br>index=%{x}<br>value=%{y}<extra></extra>",
         "legendgroup": "LODA",
         "line": {
          "color": "#ab63fa",
          "dash": "solid"
         },
         "marker": {
          "symbol": "circle"
         },
         "mode": "lines",
         "name": "LODA",
         "orientation": "v",
         "showlegend": true,
         "type": "scatter",
         "x": [
          "roc_auc",
          "accuracy",
          "precision",
          "kappa",
          "sensibilidad",
          "especificidad"
         ],
         "xaxis": "x",
         "y": [
          0.5506095024709535,
          0.6820820641462103,
          0.554308472121651,
          0.12319057442859105,
          0.1669301640952952,
          0.9342888408466117
         ],
         "yaxis": "y"
        },
        {
         "hovertemplate": "variable=MAD_PyOD<br>index=%{x}<br>value=%{y}<extra></extra>",
         "legendgroup": "MAD_PyOD",
         "line": {
          "color": "#FFA15A",
          "dash": "solid"
         },
         "marker": {
          "symbol": "circle"
         },
         "mode": "lines",
         "name": "MAD_PyOD",
         "orientation": "v",
         "showlegend": true,
         "type": "scatter",
         "x": [
          "roc_auc",
          "accuracy",
          "precision",
          "kappa",
          "sensibilidad",
          "especificidad"
         ],
         "xaxis": "x",
         "y": [
          0.5933295348135476,
          0.7297079376455833,
          0.9168372569089048,
          0.23356854778746683,
          0.19533336967780623,
          0.9913256999492887
         ],
         "yaxis": "y"
        },
        {
         "hovertemplate": "variable=MCD<br>index=%{x}<br>value=%{y}<extra></extra>",
         "legendgroup": "MCD",
         "line": {
          "color": "#19d3f3",
          "dash": "solid"
         },
         "marker": {
          "symbol": "circle"
         },
         "mode": "lines",
         "name": "MCD",
         "orientation": "v",
         "showlegend": true,
         "type": "scatter",
         "x": [
          "roc_auc",
          "accuracy",
          "precision",
          "kappa",
          "sensibilidad",
          "especificidad"
         ],
         "xaxis": "x",
         "y": [
          0.530013350271563,
          0.6633578211790002,
          0.46035987885266344,
          0.07294673655258344,
          0.14087117701575533,
          0.9191555235273707
         ],
         "yaxis": "y"
        },
        {
         "hovertemplate": "variable=IForestASD<br>index=%{x}<br>value=%{y}<extra></extra>",
         "legendgroup": "IForestASD",
         "line": {
          "color": "#FF6692",
          "dash": "solid"
         },
         "marker": {
          "symbol": "circle"
         },
         "mode": "lines",
         "name": "IForestASD",
         "orientation": "v",
         "showlegend": true,
         "type": "scatter",
         "x": [
          "roc_auc",
          "accuracy",
          "precision",
          "kappa",
          "sensibilidad",
          "especificidad"
         ],
         "xaxis": "x",
         "y": [
          0.5818256448309124,
          0.6739114853968823,
          0.5063480867571857,
          0.18131235645174504,
          0.3130894619200785,
          0.850561827741746
         ],
         "yaxis": "y"
        },
        {
         "hovertemplate": "variable=MAD_PySAD<br>index=%{x}<br>value=%{y}<extra></extra>",
         "legendgroup": "MAD_PySAD",
         "line": {
          "color": "#B6E880",
          "dash": "solid"
         },
         "marker": {
          "symbol": "circle"
         },
         "mode": "lines",
         "name": "MAD_PySAD",
         "orientation": "v",
         "showlegend": true,
         "type": "scatter",
         "x": [
          "roc_auc",
          "accuracy",
          "precision",
          "kappa",
          "sensibilidad",
          "especificidad"
         ],
         "xaxis": "x",
         "y": [
          0.5874993185411328,
          0.7288478767246013,
          1,
          0.22167148689608107,
          0.1749986370822657,
          1
         ],
         "yaxis": "y"
        },
        {
         "hovertemplate": "variable=SAD<br>index=%{x}<br>value=%{y}<extra></extra>",
         "legendgroup": "SAD",
         "line": {
          "color": "#FF97FF",
          "dash": "solid"
         },
         "marker": {
          "symbol": "circle"
         },
         "mode": "lines",
         "name": "SAD",
         "orientation": "v",
         "showlegend": true,
         "type": "scatter",
         "x": [
          "roc_auc",
          "accuracy",
          "precision",
          "kappa",
          "sensibilidad",
          "especificidad"
         ],
         "xaxis": "x",
         "y": [
          0.5874993185411328,
          0.7288478767246013,
          1,
          0.22167148689608107,
          0.1749986370822657,
          1
         ],
         "yaxis": "y"
        },
        {
         "hovertemplate": "variable=xStream<br>index=%{x}<br>value=%{y}<extra></extra>",
         "legendgroup": "xStream",
         "line": {
          "color": "#FECB52",
          "dash": "solid"
         },
         "marker": {
          "symbol": "circle"
         },
         "mode": "lines",
         "name": "xStream",
         "orientation": "v",
         "showlegend": true,
         "type": "scatter",
         "x": [
          "roc_auc",
          "accuracy",
          "precision",
          "kappa",
          "sensibilidad",
          "especificidad"
         ],
         "xaxis": "x",
         "y": [
          0.6041991025772926,
          0.68704533237771,
          0.5353088010306788,
          0.2271177638573334,
          0.3624270839012157,
          0.8459711212533696
         ],
         "yaxis": "y"
        },
        {
         "hovertemplate": "variable=HTM<br>index=%{x}<br>value=%{y}<extra></extra>",
         "legendgroup": "HTM",
         "line": {
          "color": "#636efa",
          "dash": "solid"
         },
         "marker": {
          "symbol": "circle"
         },
         "mode": "lines",
         "name": "HTM",
         "orientation": "v",
         "showlegend": true,
         "type": "scatter",
         "x": [
          "roc_auc",
          "accuracy",
          "precision",
          "kappa",
          "sensibilidad",
          "especificidad"
         ],
         "xaxis": "x",
         "y": [
          0.4565581815492771,
          0.6100276654912417,
          0.04734131988230349,
          -0.10895432741002975,
          0.009837211079691236,
          0.903279152018863
         ],
         "yaxis": "y"
        }
       ],
       "layout": {
        "legend": {
         "title": {
          "text": "variable"
         },
         "tracegroupgap": 0
        },
        "margin": {
         "t": 60
        },
        "template": {
         "data": {
          "bar": [
           {
            "error_x": {
             "color": "#2a3f5f"
            },
            "error_y": {
             "color": "#2a3f5f"
            },
            "marker": {
             "line": {
              "color": "#E5ECF6",
              "width": 0.5
             },
             "pattern": {
              "fillmode": "overlay",
              "size": 10,
              "solidity": 0.2
             }
            },
            "type": "bar"
           }
          ],
          "barpolar": [
           {
            "marker": {
             "line": {
              "color": "#E5ECF6",
              "width": 0.5
             },
             "pattern": {
              "fillmode": "overlay",
              "size": 10,
              "solidity": 0.2
             }
            },
            "type": "barpolar"
           }
          ],
          "carpet": [
           {
            "aaxis": {
             "endlinecolor": "#2a3f5f",
             "gridcolor": "white",
             "linecolor": "white",
             "minorgridcolor": "white",
             "startlinecolor": "#2a3f5f"
            },
            "baxis": {
             "endlinecolor": "#2a3f5f",
             "gridcolor": "white",
             "linecolor": "white",
             "minorgridcolor": "white",
             "startlinecolor": "#2a3f5f"
            },
            "type": "carpet"
           }
          ],
          "choropleth": [
           {
            "colorbar": {
             "outlinewidth": 0,
             "ticks": ""
            },
            "type": "choropleth"
           }
          ],
          "contour": [
           {
            "colorbar": {
             "outlinewidth": 0,
             "ticks": ""
            },
            "colorscale": [
             [
              0,
              "#0d0887"
             ],
             [
              0.1111111111111111,
              "#46039f"
             ],
             [
              0.2222222222222222,
              "#7201a8"
             ],
             [
              0.3333333333333333,
              "#9c179e"
             ],
             [
              0.4444444444444444,
              "#bd3786"
             ],
             [
              0.5555555555555556,
              "#d8576b"
             ],
             [
              0.6666666666666666,
              "#ed7953"
             ],
             [
              0.7777777777777778,
              "#fb9f3a"
             ],
             [
              0.8888888888888888,
              "#fdca26"
             ],
             [
              1,
              "#f0f921"
             ]
            ],
            "type": "contour"
           }
          ],
          "contourcarpet": [
           {
            "colorbar": {
             "outlinewidth": 0,
             "ticks": ""
            },
            "type": "contourcarpet"
           }
          ],
          "heatmap": [
           {
            "colorbar": {
             "outlinewidth": 0,
             "ticks": ""
            },
            "colorscale": [
             [
              0,
              "#0d0887"
             ],
             [
              0.1111111111111111,
              "#46039f"
             ],
             [
              0.2222222222222222,
              "#7201a8"
             ],
             [
              0.3333333333333333,
              "#9c179e"
             ],
             [
              0.4444444444444444,
              "#bd3786"
             ],
             [
              0.5555555555555556,
              "#d8576b"
             ],
             [
              0.6666666666666666,
              "#ed7953"
             ],
             [
              0.7777777777777778,
              "#fb9f3a"
             ],
             [
              0.8888888888888888,
              "#fdca26"
             ],
             [
              1,
              "#f0f921"
             ]
            ],
            "type": "heatmap"
           }
          ],
          "heatmapgl": [
           {
            "colorbar": {
             "outlinewidth": 0,
             "ticks": ""
            },
            "colorscale": [
             [
              0,
              "#0d0887"
             ],
             [
              0.1111111111111111,
              "#46039f"
             ],
             [
              0.2222222222222222,
              "#7201a8"
             ],
             [
              0.3333333333333333,
              "#9c179e"
             ],
             [
              0.4444444444444444,
              "#bd3786"
             ],
             [
              0.5555555555555556,
              "#d8576b"
             ],
             [
              0.6666666666666666,
              "#ed7953"
             ],
             [
              0.7777777777777778,
              "#fb9f3a"
             ],
             [
              0.8888888888888888,
              "#fdca26"
             ],
             [
              1,
              "#f0f921"
             ]
            ],
            "type": "heatmapgl"
           }
          ],
          "histogram": [
           {
            "marker": {
             "pattern": {
              "fillmode": "overlay",
              "size": 10,
              "solidity": 0.2
             }
            },
            "type": "histogram"
           }
          ],
          "histogram2d": [
           {
            "colorbar": {
             "outlinewidth": 0,
             "ticks": ""
            },
            "colorscale": [
             [
              0,
              "#0d0887"
             ],
             [
              0.1111111111111111,
              "#46039f"
             ],
             [
              0.2222222222222222,
              "#7201a8"
             ],
             [
              0.3333333333333333,
              "#9c179e"
             ],
             [
              0.4444444444444444,
              "#bd3786"
             ],
             [
              0.5555555555555556,
              "#d8576b"
             ],
             [
              0.6666666666666666,
              "#ed7953"
             ],
             [
              0.7777777777777778,
              "#fb9f3a"
             ],
             [
              0.8888888888888888,
              "#fdca26"
             ],
             [
              1,
              "#f0f921"
             ]
            ],
            "type": "histogram2d"
           }
          ],
          "histogram2dcontour": [
           {
            "colorbar": {
             "outlinewidth": 0,
             "ticks": ""
            },
            "colorscale": [
             [
              0,
              "#0d0887"
             ],
             [
              0.1111111111111111,
              "#46039f"
             ],
             [
              0.2222222222222222,
              "#7201a8"
             ],
             [
              0.3333333333333333,
              "#9c179e"
             ],
             [
              0.4444444444444444,
              "#bd3786"
             ],
             [
              0.5555555555555556,
              "#d8576b"
             ],
             [
              0.6666666666666666,
              "#ed7953"
             ],
             [
              0.7777777777777778,
              "#fb9f3a"
             ],
             [
              0.8888888888888888,
              "#fdca26"
             ],
             [
              1,
              "#f0f921"
             ]
            ],
            "type": "histogram2dcontour"
           }
          ],
          "mesh3d": [
           {
            "colorbar": {
             "outlinewidth": 0,
             "ticks": ""
            },
            "type": "mesh3d"
           }
          ],
          "parcoords": [
           {
            "line": {
             "colorbar": {
              "outlinewidth": 0,
              "ticks": ""
             }
            },
            "type": "parcoords"
           }
          ],
          "pie": [
           {
            "automargin": true,
            "type": "pie"
           }
          ],
          "scatter": [
           {
            "fillpattern": {
             "fillmode": "overlay",
             "size": 10,
             "solidity": 0.2
            },
            "type": "scatter"
           }
          ],
          "scatter3d": [
           {
            "line": {
             "colorbar": {
              "outlinewidth": 0,
              "ticks": ""
             }
            },
            "marker": {
             "colorbar": {
              "outlinewidth": 0,
              "ticks": ""
             }
            },
            "type": "scatter3d"
           }
          ],
          "scattercarpet": [
           {
            "marker": {
             "colorbar": {
              "outlinewidth": 0,
              "ticks": ""
             }
            },
            "type": "scattercarpet"
           }
          ],
          "scattergeo": [
           {
            "marker": {
             "colorbar": {
              "outlinewidth": 0,
              "ticks": ""
             }
            },
            "type": "scattergeo"
           }
          ],
          "scattergl": [
           {
            "marker": {
             "colorbar": {
              "outlinewidth": 0,
              "ticks": ""
             }
            },
            "type": "scattergl"
           }
          ],
          "scattermapbox": [
           {
            "marker": {
             "colorbar": {
              "outlinewidth": 0,
              "ticks": ""
             }
            },
            "type": "scattermapbox"
           }
          ],
          "scatterpolar": [
           {
            "marker": {
             "colorbar": {
              "outlinewidth": 0,
              "ticks": ""
             }
            },
            "type": "scatterpolar"
           }
          ],
          "scatterpolargl": [
           {
            "marker": {
             "colorbar": {
              "outlinewidth": 0,
              "ticks": ""
             }
            },
            "type": "scatterpolargl"
           }
          ],
          "scatterternary": [
           {
            "marker": {
             "colorbar": {
              "outlinewidth": 0,
              "ticks": ""
             }
            },
            "type": "scatterternary"
           }
          ],
          "surface": [
           {
            "colorbar": {
             "outlinewidth": 0,
             "ticks": ""
            },
            "colorscale": [
             [
              0,
              "#0d0887"
             ],
             [
              0.1111111111111111,
              "#46039f"
             ],
             [
              0.2222222222222222,
              "#7201a8"
             ],
             [
              0.3333333333333333,
              "#9c179e"
             ],
             [
              0.4444444444444444,
              "#bd3786"
             ],
             [
              0.5555555555555556,
              "#d8576b"
             ],
             [
              0.6666666666666666,
              "#ed7953"
             ],
             [
              0.7777777777777778,
              "#fb9f3a"
             ],
             [
              0.8888888888888888,
              "#fdca26"
             ],
             [
              1,
              "#f0f921"
             ]
            ],
            "type": "surface"
           }
          ],
          "table": [
           {
            "cells": {
             "fill": {
              "color": "#EBF0F8"
             },
             "line": {
              "color": "white"
             }
            },
            "header": {
             "fill": {
              "color": "#C8D4E3"
             },
             "line": {
              "color": "white"
             }
            },
            "type": "table"
           }
          ]
         },
         "layout": {
          "annotationdefaults": {
           "arrowcolor": "#2a3f5f",
           "arrowhead": 0,
           "arrowwidth": 1
          },
          "autotypenumbers": "strict",
          "coloraxis": {
           "colorbar": {
            "outlinewidth": 0,
            "ticks": ""
           }
          },
          "colorscale": {
           "diverging": [
            [
             0,
             "#8e0152"
            ],
            [
             0.1,
             "#c51b7d"
            ],
            [
             0.2,
             "#de77ae"
            ],
            [
             0.3,
             "#f1b6da"
            ],
            [
             0.4,
             "#fde0ef"
            ],
            [
             0.5,
             "#f7f7f7"
            ],
            [
             0.6,
             "#e6f5d0"
            ],
            [
             0.7,
             "#b8e186"
            ],
            [
             0.8,
             "#7fbc41"
            ],
            [
             0.9,
             "#4d9221"
            ],
            [
             1,
             "#276419"
            ]
           ],
           "sequential": [
            [
             0,
             "#0d0887"
            ],
            [
             0.1111111111111111,
             "#46039f"
            ],
            [
             0.2222222222222222,
             "#7201a8"
            ],
            [
             0.3333333333333333,
             "#9c179e"
            ],
            [
             0.4444444444444444,
             "#bd3786"
            ],
            [
             0.5555555555555556,
             "#d8576b"
            ],
            [
             0.6666666666666666,
             "#ed7953"
            ],
            [
             0.7777777777777778,
             "#fb9f3a"
            ],
            [
             0.8888888888888888,
             "#fdca26"
            ],
            [
             1,
             "#f0f921"
            ]
           ],
           "sequentialminus": [
            [
             0,
             "#0d0887"
            ],
            [
             0.1111111111111111,
             "#46039f"
            ],
            [
             0.2222222222222222,
             "#7201a8"
            ],
            [
             0.3333333333333333,
             "#9c179e"
            ],
            [
             0.4444444444444444,
             "#bd3786"
            ],
            [
             0.5555555555555556,
             "#d8576b"
            ],
            [
             0.6666666666666666,
             "#ed7953"
            ],
            [
             0.7777777777777778,
             "#fb9f3a"
            ],
            [
             0.8888888888888888,
             "#fdca26"
            ],
            [
             1,
             "#f0f921"
            ]
           ]
          },
          "colorway": [
           "#636efa",
           "#EF553B",
           "#00cc96",
           "#ab63fa",
           "#FFA15A",
           "#19d3f3",
           "#FF6692",
           "#B6E880",
           "#FF97FF",
           "#FECB52"
          ],
          "font": {
           "color": "#2a3f5f"
          },
          "geo": {
           "bgcolor": "white",
           "lakecolor": "white",
           "landcolor": "#E5ECF6",
           "showlakes": true,
           "showland": true,
           "subunitcolor": "white"
          },
          "hoverlabel": {
           "align": "left"
          },
          "hovermode": "closest",
          "mapbox": {
           "style": "light"
          },
          "paper_bgcolor": "white",
          "plot_bgcolor": "#E5ECF6",
          "polar": {
           "angularaxis": {
            "gridcolor": "white",
            "linecolor": "white",
            "ticks": ""
           },
           "bgcolor": "#E5ECF6",
           "radialaxis": {
            "gridcolor": "white",
            "linecolor": "white",
            "ticks": ""
           }
          },
          "scene": {
           "xaxis": {
            "backgroundcolor": "#E5ECF6",
            "gridcolor": "white",
            "gridwidth": 2,
            "linecolor": "white",
            "showbackground": true,
            "ticks": "",
            "zerolinecolor": "white"
           },
           "yaxis": {
            "backgroundcolor": "#E5ECF6",
            "gridcolor": "white",
            "gridwidth": 2,
            "linecolor": "white",
            "showbackground": true,
            "ticks": "",
            "zerolinecolor": "white"
           },
           "zaxis": {
            "backgroundcolor": "#E5ECF6",
            "gridcolor": "white",
            "gridwidth": 2,
            "linecolor": "white",
            "showbackground": true,
            "ticks": "",
            "zerolinecolor": "white"
           }
          },
          "shapedefaults": {
           "line": {
            "color": "#2a3f5f"
           }
          },
          "ternary": {
           "aaxis": {
            "gridcolor": "white",
            "linecolor": "white",
            "ticks": ""
           },
           "baxis": {
            "gridcolor": "white",
            "linecolor": "white",
            "ticks": ""
           },
           "bgcolor": "#E5ECF6",
           "caxis": {
            "gridcolor": "white",
            "linecolor": "white",
            "ticks": ""
           }
          },
          "title": {
           "x": 0.05
          },
          "xaxis": {
           "automargin": true,
           "gridcolor": "white",
           "linecolor": "white",
           "ticks": "",
           "title": {
            "standoff": 15
           },
           "zerolinecolor": "white",
           "zerolinewidth": 2
          },
          "yaxis": {
           "automargin": true,
           "gridcolor": "white",
           "linecolor": "white",
           "ticks": "",
           "title": {
            "standoff": 15
           },
           "zerolinecolor": "white",
           "zerolinewidth": 2
          }
         }
        },
        "xaxis": {
         "anchor": "y",
         "domain": [
          0,
          1
         ],
         "title": {
          "text": "index"
         }
        },
        "yaxis": {
         "anchor": "x",
         "domain": [
          0,
          1
         ],
         "title": {
          "text": "value"
         }
        }
       }
      }
     },
     "metadata": {},
     "output_type": "display_data"
    }
   ],
   "source": [
    "px.line(metodos_metricas.T)"
   ]
  },
  {
   "cell_type": "markdown",
   "metadata": {},
   "source": [
    "### Sensibilidad por tipo de anomalía"
   ]
  },
  {
   "cell_type": "code",
   "execution_count": 6,
   "metadata": {},
   "outputs": [
    {
     "data": {
      "text/html": [
       "<div>\n",
       "<style scoped>\n",
       "    .dataframe tbody tr th:only-of-type {\n",
       "        vertical-align: middle;\n",
       "    }\n",
       "\n",
       "    .dataframe tbody tr th {\n",
       "        vertical-align: top;\n",
       "    }\n",
       "\n",
       "    .dataframe thead th {\n",
       "        text-align: right;\n",
       "    }\n",
       "</style>\n",
       "<table border=\"1\" class=\"dataframe\">\n",
       "  <thead>\n",
       "    <tr style=\"text-align: right;\">\n",
       "      <th></th>\n",
       "      <th>Anomalia</th>\n",
       "      <th>Negro</th>\n",
       "      <th>Congelado</th>\n",
       "      <th>Hum</th>\n",
       "      <th>CurvaCola</th>\n",
       "    </tr>\n",
       "  </thead>\n",
       "  <tbody>\n",
       "    <tr>\n",
       "      <th>HBOS</th>\n",
       "      <td>0.150848</td>\n",
       "      <td>0.27432</td>\n",
       "      <td>0.293006</td>\n",
       "      <td>0.866221</td>\n",
       "      <td>0.122463</td>\n",
       "    </tr>\n",
       "    <tr>\n",
       "      <th>IForest</th>\n",
       "      <td>0.183503</td>\n",
       "      <td>0.431151</td>\n",
       "      <td>0.485618</td>\n",
       "      <td>0.83612</td>\n",
       "      <td>0.134419</td>\n",
       "    </tr>\n",
       "    <tr>\n",
       "      <th>KNN</th>\n",
       "      <td>0.129641</td>\n",
       "      <td>0.174077</td>\n",
       "      <td>0.163001</td>\n",
       "      <td>0.381271</td>\n",
       "      <td>0.122787</td>\n",
       "    </tr>\n",
       "    <tr>\n",
       "      <th>LODA</th>\n",
       "      <td>0.16693</td>\n",
       "      <td>0.371328</td>\n",
       "      <td>0.398195</td>\n",
       "      <td>0.842809</td>\n",
       "      <td>0.125307</td>\n",
       "    </tr>\n",
       "    <tr>\n",
       "      <th>MAD_PyOD</th>\n",
       "      <td>0.195333</td>\n",
       "      <td>0.737807</td>\n",
       "      <td>0.911732</td>\n",
       "      <td>1.0</td>\n",
       "      <td>0.06372</td>\n",
       "    </tr>\n",
       "    <tr>\n",
       "      <th>MCD</th>\n",
       "      <td>0.140871</td>\n",
       "      <td>0.216114</td>\n",
       "      <td>0.119571</td>\n",
       "      <td>0.274247</td>\n",
       "      <td>0.142691</td>\n",
       "    </tr>\n",
       "    <tr>\n",
       "      <th>IForestASD</th>\n",
       "      <td>0.313089</td>\n",
       "      <td>0.670978</td>\n",
       "      <td>0.701072</td>\n",
       "      <td>0.939799</td>\n",
       "      <td>0.246543</td>\n",
       "    </tr>\n",
       "    <tr>\n",
       "      <th>MAD_PySAD</th>\n",
       "      <td>0.174999</td>\n",
       "      <td>0.731878</td>\n",
       "      <td>0.904681</td>\n",
       "      <td>0.006689</td>\n",
       "      <td>0.057839</td>\n",
       "    </tr>\n",
       "    <tr>\n",
       "      <th>SAD</th>\n",
       "      <td>0.174999</td>\n",
       "      <td>0.731878</td>\n",
       "      <td>0.904681</td>\n",
       "      <td>0.006689</td>\n",
       "      <td>0.057839</td>\n",
       "    </tr>\n",
       "    <tr>\n",
       "      <th>xStream</th>\n",
       "      <td>0.362427</td>\n",
       "      <td>0.839935</td>\n",
       "      <td>0.897067</td>\n",
       "      <td>0.906355</td>\n",
       "      <td>0.266318</td>\n",
       "    </tr>\n",
       "    <tr>\n",
       "      <th>HTM</th>\n",
       "      <td>0.009837</td>\n",
       "      <td>0.0</td>\n",
       "      <td>0.00962</td>\n",
       "      <td>0.01377</td>\n",
       "      <td>0.009205</td>\n",
       "    </tr>\n",
       "  </tbody>\n",
       "</table>\n",
       "</div>"
      ],
      "text/plain": [
       "            Anomalia     Negro Congelado       Hum CurvaCola\n",
       "HBOS        0.150848   0.27432  0.293006  0.866221  0.122463\n",
       "IForest     0.183503  0.431151  0.485618   0.83612  0.134419\n",
       "KNN         0.129641  0.174077  0.163001  0.381271  0.122787\n",
       "LODA         0.16693  0.371328  0.398195  0.842809  0.125307\n",
       "MAD_PyOD    0.195333  0.737807  0.911732       1.0   0.06372\n",
       "MCD         0.140871  0.216114  0.119571  0.274247  0.142691\n",
       "IForestASD  0.313089  0.670978  0.701072  0.939799  0.246543\n",
       "MAD_PySAD   0.174999  0.731878  0.904681  0.006689  0.057839\n",
       "SAD         0.174999  0.731878  0.904681  0.006689  0.057839\n",
       "xStream     0.362427  0.839935  0.897067  0.906355  0.266318\n",
       "HTM         0.009837       0.0   0.00962   0.01377  0.009205"
      ]
     },
     "execution_count": 6,
     "metadata": {},
     "output_type": "execute_result"
    }
   ],
   "source": [
    "metodos_sensibilidades = calc_sensibilidad(metodos,metodos_lista,anomalias)\n",
    "metodos_sensibilidades = pd.concat([metodos_sensibilidades,calc_sensibilidad(metodos_htm, ['HTM'], anomalias)])\n",
    "metodos_sensibilidades"
   ]
  },
  {
   "cell_type": "code",
   "execution_count": 7,
   "metadata": {},
   "outputs": [
    {
     "data": {
      "application/vnd.plotly.v1+json": {
       "config": {
        "plotlyServerURL": "https://plot.ly"
       },
       "data": [
        {
         "hovertemplate": "variable=HBOS<br>index=%{x}<br>value=%{y}<extra></extra>",
         "legendgroup": "HBOS",
         "line": {
          "color": "#636efa",
          "dash": "solid"
         },
         "marker": {
          "symbol": "circle"
         },
         "mode": "lines",
         "name": "HBOS",
         "orientation": "v",
         "showlegend": true,
         "type": "scatter",
         "x": [
          "Anomalia",
          "Negro",
          "Congelado",
          "Hum",
          "CurvaCola"
         ],
         "xaxis": "x",
         "y": [
          0.1508477348307256,
          0.2743195904068984,
          0.29300620417371687,
          0.8662207357859532,
          0.12246348713971823
         ],
         "yaxis": "y"
        },
        {
         "hovertemplate": "variable=IForest<br>index=%{x}<br>value=%{y}<extra></extra>",
         "legendgroup": "IForest",
         "line": {
          "color": "#EF553B",
          "dash": "solid"
         },
         "marker": {
          "symbol": "circle"
         },
         "mode": "lines",
         "name": "IForest",
         "orientation": "v",
         "showlegend": true,
         "type": "scatter",
         "x": [
          "Anomalia",
          "Negro",
          "Congelado",
          "Hum",
          "CurvaCola"
         ],
         "xaxis": "x",
         "y": [
          0.1835032437442076,
          0.4311506332524926,
          0.4856175972927242,
          0.8361204013377926,
          0.1344190254620654
         ],
         "yaxis": "y"
        },
        {
         "hovertemplate": "variable=KNN<br>index=%{x}<br>value=%{y}<extra></extra>",
         "legendgroup": "KNN",
         "line": {
          "color": "#00cc96",
          "dash": "solid"
         },
         "marker": {
          "symbol": "circle"
         },
         "mode": "lines",
         "name": "KNN",
         "orientation": "v",
         "showlegend": true,
         "type": "scatter",
         "x": [
          "Anomalia",
          "Negro",
          "Congelado",
          "Hum",
          "CurvaCola"
         ],
         "xaxis": "x",
         "y": [
          0.12964073488524233,
          0.17407706817569388,
          0.16300056401579244,
          0.38127090301003347,
          0.12278660979707898
         ],
         "yaxis": "y"
        },
        {
         "hovertemplate": "variable=LODA<br>index=%{x}<br>value=%{y}<extra></extra>",
         "legendgroup": "LODA",
         "line": {
          "color": "#ab63fa",
          "dash": "solid"
         },
         "marker": {
          "symbol": "circle"
         },
         "mode": "lines",
         "name": "LODA",
         "orientation": "v",
         "showlegend": true,
         "type": "scatter",
         "x": [
          "Anomalia",
          "Negro",
          "Congelado",
          "Hum",
          "CurvaCola"
         ],
         "xaxis": "x",
         "y": [
          0.1669301640952952,
          0.37132848288870923,
          0.398195149464185,
          0.842809364548495,
          0.1253069665244927
         ],
         "yaxis": "y"
        },
        {
         "hovertemplate": "variable=MAD_PyOD<br>index=%{x}<br>value=%{y}<extra></extra>",
         "legendgroup": "MAD_PyOD",
         "line": {
          "color": "#FFA15A",
          "dash": "solid"
         },
         "marker": {
          "symbol": "circle"
         },
         "mode": "lines",
         "name": "MAD_PyOD",
         "orientation": "v",
         "showlegend": true,
         "type": "scatter",
         "x": [
          "Anomalia",
          "Negro",
          "Congelado",
          "Hum",
          "CurvaCola"
         ],
         "xaxis": "x",
         "y": [
          0.19533336967780623,
          0.7378065211533279,
          0.9117315284827975,
          1,
          0.06371978803153677
         ],
         "yaxis": "y"
        },
        {
         "hovertemplate": "variable=MCD<br>index=%{x}<br>value=%{y}<extra></extra>",
         "legendgroup": "MCD",
         "line": {
          "color": "#19d3f3",
          "dash": "solid"
         },
         "marker": {
          "symbol": "circle"
         },
         "mode": "lines",
         "name": "MCD",
         "orientation": "v",
         "showlegend": true,
         "type": "scatter",
         "x": [
          "Anomalia",
          "Negro",
          "Congelado",
          "Hum",
          "CurvaCola"
         ],
         "xaxis": "x",
         "y": [
          0.14087117701575533,
          0.21611425491781192,
          0.11957134799774394,
          0.27424749163879597,
          0.1426909654905002
         ],
         "yaxis": "y"
        },
        {
         "hovertemplate": "variable=IForestASD<br>index=%{x}<br>value=%{y}<extra></extra>",
         "legendgroup": "IForestASD",
         "line": {
          "color": "#FF6692",
          "dash": "solid"
         },
         "marker": {
          "symbol": "circle"
         },
         "mode": "lines",
         "name": "IForestASD",
         "orientation": "v",
         "showlegend": true,
         "type": "scatter",
         "x": [
          "Anomalia",
          "Negro",
          "Congelado",
          "Hum",
          "CurvaCola"
         ],
         "xaxis": "x",
         "y": [
          0.3130894619200785,
          0.6709781729991916,
          0.7010716300056402,
          0.939799331103679,
          0.24654258756624015
         ],
         "yaxis": "y"
        },
        {
         "hovertemplate": "variable=MAD_PySAD<br>index=%{x}<br>value=%{y}<extra></extra>",
         "legendgroup": "MAD_PySAD",
         "line": {
          "color": "#B6E880",
          "dash": "solid"
         },
         "marker": {
          "symbol": "circle"
         },
         "mode": "lines",
         "name": "MAD_PySAD",
         "orientation": "v",
         "showlegend": true,
         "type": "scatter",
         "x": [
          "Anomalia",
          "Negro",
          "Congelado",
          "Hum",
          "CurvaCola"
         ],
         "xaxis": "x",
         "y": [
          0.1749986370822657,
          0.7318781999461061,
          0.9046813310772701,
          0.006688963210702341,
          0.05783895566757141
         ],
         "yaxis": "y"
        },
        {
         "hovertemplate": "variable=SAD<br>index=%{x}<br>value=%{y}<extra></extra>",
         "legendgroup": "SAD",
         "line": {
          "color": "#FF97FF",
          "dash": "solid"
         },
         "marker": {
          "symbol": "circle"
         },
         "mode": "lines",
         "name": "SAD",
         "orientation": "v",
         "showlegend": true,
         "type": "scatter",
         "x": [
          "Anomalia",
          "Negro",
          "Congelado",
          "Hum",
          "CurvaCola"
         ],
         "xaxis": "x",
         "y": [
          0.1749986370822657,
          0.7318781999461061,
          0.9046813310772701,
          0.006688963210702341,
          0.05783895566757141
         ],
         "yaxis": "y"
        },
        {
         "hovertemplate": "variable=xStream<br>index=%{x}<br>value=%{y}<extra></extra>",
         "legendgroup": "xStream",
         "line": {
          "color": "#FECB52",
          "dash": "solid"
         },
         "marker": {
          "symbol": "circle"
         },
         "mode": "lines",
         "name": "xStream",
         "orientation": "v",
         "showlegend": true,
         "type": "scatter",
         "x": [
          "Anomalia",
          "Negro",
          "Congelado",
          "Hum",
          "CurvaCola"
         ],
         "xaxis": "x",
         "y": [
          0.3624270839012157,
          0.8399353274050121,
          0.8970671178793006,
          0.9063545150501672,
          0.2663176941967171
         ],
         "yaxis": "y"
        },
        {
         "hovertemplate": "variable=HTM<br>index=%{x}<br>value=%{y}<extra></extra>",
         "legendgroup": "HTM",
         "line": {
          "color": "#636efa",
          "dash": "solid"
         },
         "marker": {
          "symbol": "circle"
         },
         "mode": "lines",
         "name": "HTM",
         "orientation": "v",
         "showlegend": true,
         "type": "scatter",
         "x": [
          "Anomalia",
          "Negro",
          "Congelado",
          "Hum",
          "CurvaCola"
         ],
         "xaxis": "x",
         "y": [
          0.009837211079691236,
          0,
          0.00961973743775464,
          0.01377049180327869,
          0.009204869672988291
         ],
         "yaxis": "y"
        }
       ],
       "layout": {
        "legend": {
         "title": {
          "text": "variable"
         },
         "tracegroupgap": 0
        },
        "margin": {
         "t": 60
        },
        "template": {
         "data": {
          "bar": [
           {
            "error_x": {
             "color": "#2a3f5f"
            },
            "error_y": {
             "color": "#2a3f5f"
            },
            "marker": {
             "line": {
              "color": "#E5ECF6",
              "width": 0.5
             },
             "pattern": {
              "fillmode": "overlay",
              "size": 10,
              "solidity": 0.2
             }
            },
            "type": "bar"
           }
          ],
          "barpolar": [
           {
            "marker": {
             "line": {
              "color": "#E5ECF6",
              "width": 0.5
             },
             "pattern": {
              "fillmode": "overlay",
              "size": 10,
              "solidity": 0.2
             }
            },
            "type": "barpolar"
           }
          ],
          "carpet": [
           {
            "aaxis": {
             "endlinecolor": "#2a3f5f",
             "gridcolor": "white",
             "linecolor": "white",
             "minorgridcolor": "white",
             "startlinecolor": "#2a3f5f"
            },
            "baxis": {
             "endlinecolor": "#2a3f5f",
             "gridcolor": "white",
             "linecolor": "white",
             "minorgridcolor": "white",
             "startlinecolor": "#2a3f5f"
            },
            "type": "carpet"
           }
          ],
          "choropleth": [
           {
            "colorbar": {
             "outlinewidth": 0,
             "ticks": ""
            },
            "type": "choropleth"
           }
          ],
          "contour": [
           {
            "colorbar": {
             "outlinewidth": 0,
             "ticks": ""
            },
            "colorscale": [
             [
              0,
              "#0d0887"
             ],
             [
              0.1111111111111111,
              "#46039f"
             ],
             [
              0.2222222222222222,
              "#7201a8"
             ],
             [
              0.3333333333333333,
              "#9c179e"
             ],
             [
              0.4444444444444444,
              "#bd3786"
             ],
             [
              0.5555555555555556,
              "#d8576b"
             ],
             [
              0.6666666666666666,
              "#ed7953"
             ],
             [
              0.7777777777777778,
              "#fb9f3a"
             ],
             [
              0.8888888888888888,
              "#fdca26"
             ],
             [
              1,
              "#f0f921"
             ]
            ],
            "type": "contour"
           }
          ],
          "contourcarpet": [
           {
            "colorbar": {
             "outlinewidth": 0,
             "ticks": ""
            },
            "type": "contourcarpet"
           }
          ],
          "heatmap": [
           {
            "colorbar": {
             "outlinewidth": 0,
             "ticks": ""
            },
            "colorscale": [
             [
              0,
              "#0d0887"
             ],
             [
              0.1111111111111111,
              "#46039f"
             ],
             [
              0.2222222222222222,
              "#7201a8"
             ],
             [
              0.3333333333333333,
              "#9c179e"
             ],
             [
              0.4444444444444444,
              "#bd3786"
             ],
             [
              0.5555555555555556,
              "#d8576b"
             ],
             [
              0.6666666666666666,
              "#ed7953"
             ],
             [
              0.7777777777777778,
              "#fb9f3a"
             ],
             [
              0.8888888888888888,
              "#fdca26"
             ],
             [
              1,
              "#f0f921"
             ]
            ],
            "type": "heatmap"
           }
          ],
          "heatmapgl": [
           {
            "colorbar": {
             "outlinewidth": 0,
             "ticks": ""
            },
            "colorscale": [
             [
              0,
              "#0d0887"
             ],
             [
              0.1111111111111111,
              "#46039f"
             ],
             [
              0.2222222222222222,
              "#7201a8"
             ],
             [
              0.3333333333333333,
              "#9c179e"
             ],
             [
              0.4444444444444444,
              "#bd3786"
             ],
             [
              0.5555555555555556,
              "#d8576b"
             ],
             [
              0.6666666666666666,
              "#ed7953"
             ],
             [
              0.7777777777777778,
              "#fb9f3a"
             ],
             [
              0.8888888888888888,
              "#fdca26"
             ],
             [
              1,
              "#f0f921"
             ]
            ],
            "type": "heatmapgl"
           }
          ],
          "histogram": [
           {
            "marker": {
             "pattern": {
              "fillmode": "overlay",
              "size": 10,
              "solidity": 0.2
             }
            },
            "type": "histogram"
           }
          ],
          "histogram2d": [
           {
            "colorbar": {
             "outlinewidth": 0,
             "ticks": ""
            },
            "colorscale": [
             [
              0,
              "#0d0887"
             ],
             [
              0.1111111111111111,
              "#46039f"
             ],
             [
              0.2222222222222222,
              "#7201a8"
             ],
             [
              0.3333333333333333,
              "#9c179e"
             ],
             [
              0.4444444444444444,
              "#bd3786"
             ],
             [
              0.5555555555555556,
              "#d8576b"
             ],
             [
              0.6666666666666666,
              "#ed7953"
             ],
             [
              0.7777777777777778,
              "#fb9f3a"
             ],
             [
              0.8888888888888888,
              "#fdca26"
             ],
             [
              1,
              "#f0f921"
             ]
            ],
            "type": "histogram2d"
           }
          ],
          "histogram2dcontour": [
           {
            "colorbar": {
             "outlinewidth": 0,
             "ticks": ""
            },
            "colorscale": [
             [
              0,
              "#0d0887"
             ],
             [
              0.1111111111111111,
              "#46039f"
             ],
             [
              0.2222222222222222,
              "#7201a8"
             ],
             [
              0.3333333333333333,
              "#9c179e"
             ],
             [
              0.4444444444444444,
              "#bd3786"
             ],
             [
              0.5555555555555556,
              "#d8576b"
             ],
             [
              0.6666666666666666,
              "#ed7953"
             ],
             [
              0.7777777777777778,
              "#fb9f3a"
             ],
             [
              0.8888888888888888,
              "#fdca26"
             ],
             [
              1,
              "#f0f921"
             ]
            ],
            "type": "histogram2dcontour"
           }
          ],
          "mesh3d": [
           {
            "colorbar": {
             "outlinewidth": 0,
             "ticks": ""
            },
            "type": "mesh3d"
           }
          ],
          "parcoords": [
           {
            "line": {
             "colorbar": {
              "outlinewidth": 0,
              "ticks": ""
             }
            },
            "type": "parcoords"
           }
          ],
          "pie": [
           {
            "automargin": true,
            "type": "pie"
           }
          ],
          "scatter": [
           {
            "fillpattern": {
             "fillmode": "overlay",
             "size": 10,
             "solidity": 0.2
            },
            "type": "scatter"
           }
          ],
          "scatter3d": [
           {
            "line": {
             "colorbar": {
              "outlinewidth": 0,
              "ticks": ""
             }
            },
            "marker": {
             "colorbar": {
              "outlinewidth": 0,
              "ticks": ""
             }
            },
            "type": "scatter3d"
           }
          ],
          "scattercarpet": [
           {
            "marker": {
             "colorbar": {
              "outlinewidth": 0,
              "ticks": ""
             }
            },
            "type": "scattercarpet"
           }
          ],
          "scattergeo": [
           {
            "marker": {
             "colorbar": {
              "outlinewidth": 0,
              "ticks": ""
             }
            },
            "type": "scattergeo"
           }
          ],
          "scattergl": [
           {
            "marker": {
             "colorbar": {
              "outlinewidth": 0,
              "ticks": ""
             }
            },
            "type": "scattergl"
           }
          ],
          "scattermapbox": [
           {
            "marker": {
             "colorbar": {
              "outlinewidth": 0,
              "ticks": ""
             }
            },
            "type": "scattermapbox"
           }
          ],
          "scatterpolar": [
           {
            "marker": {
             "colorbar": {
              "outlinewidth": 0,
              "ticks": ""
             }
            },
            "type": "scatterpolar"
           }
          ],
          "scatterpolargl": [
           {
            "marker": {
             "colorbar": {
              "outlinewidth": 0,
              "ticks": ""
             }
            },
            "type": "scatterpolargl"
           }
          ],
          "scatterternary": [
           {
            "marker": {
             "colorbar": {
              "outlinewidth": 0,
              "ticks": ""
             }
            },
            "type": "scatterternary"
           }
          ],
          "surface": [
           {
            "colorbar": {
             "outlinewidth": 0,
             "ticks": ""
            },
            "colorscale": [
             [
              0,
              "#0d0887"
             ],
             [
              0.1111111111111111,
              "#46039f"
             ],
             [
              0.2222222222222222,
              "#7201a8"
             ],
             [
              0.3333333333333333,
              "#9c179e"
             ],
             [
              0.4444444444444444,
              "#bd3786"
             ],
             [
              0.5555555555555556,
              "#d8576b"
             ],
             [
              0.6666666666666666,
              "#ed7953"
             ],
             [
              0.7777777777777778,
              "#fb9f3a"
             ],
             [
              0.8888888888888888,
              "#fdca26"
             ],
             [
              1,
              "#f0f921"
             ]
            ],
            "type": "surface"
           }
          ],
          "table": [
           {
            "cells": {
             "fill": {
              "color": "#EBF0F8"
             },
             "line": {
              "color": "white"
             }
            },
            "header": {
             "fill": {
              "color": "#C8D4E3"
             },
             "line": {
              "color": "white"
             }
            },
            "type": "table"
           }
          ]
         },
         "layout": {
          "annotationdefaults": {
           "arrowcolor": "#2a3f5f",
           "arrowhead": 0,
           "arrowwidth": 1
          },
          "autotypenumbers": "strict",
          "coloraxis": {
           "colorbar": {
            "outlinewidth": 0,
            "ticks": ""
           }
          },
          "colorscale": {
           "diverging": [
            [
             0,
             "#8e0152"
            ],
            [
             0.1,
             "#c51b7d"
            ],
            [
             0.2,
             "#de77ae"
            ],
            [
             0.3,
             "#f1b6da"
            ],
            [
             0.4,
             "#fde0ef"
            ],
            [
             0.5,
             "#f7f7f7"
            ],
            [
             0.6,
             "#e6f5d0"
            ],
            [
             0.7,
             "#b8e186"
            ],
            [
             0.8,
             "#7fbc41"
            ],
            [
             0.9,
             "#4d9221"
            ],
            [
             1,
             "#276419"
            ]
           ],
           "sequential": [
            [
             0,
             "#0d0887"
            ],
            [
             0.1111111111111111,
             "#46039f"
            ],
            [
             0.2222222222222222,
             "#7201a8"
            ],
            [
             0.3333333333333333,
             "#9c179e"
            ],
            [
             0.4444444444444444,
             "#bd3786"
            ],
            [
             0.5555555555555556,
             "#d8576b"
            ],
            [
             0.6666666666666666,
             "#ed7953"
            ],
            [
             0.7777777777777778,
             "#fb9f3a"
            ],
            [
             0.8888888888888888,
             "#fdca26"
            ],
            [
             1,
             "#f0f921"
            ]
           ],
           "sequentialminus": [
            [
             0,
             "#0d0887"
            ],
            [
             0.1111111111111111,
             "#46039f"
            ],
            [
             0.2222222222222222,
             "#7201a8"
            ],
            [
             0.3333333333333333,
             "#9c179e"
            ],
            [
             0.4444444444444444,
             "#bd3786"
            ],
            [
             0.5555555555555556,
             "#d8576b"
            ],
            [
             0.6666666666666666,
             "#ed7953"
            ],
            [
             0.7777777777777778,
             "#fb9f3a"
            ],
            [
             0.8888888888888888,
             "#fdca26"
            ],
            [
             1,
             "#f0f921"
            ]
           ]
          },
          "colorway": [
           "#636efa",
           "#EF553B",
           "#00cc96",
           "#ab63fa",
           "#FFA15A",
           "#19d3f3",
           "#FF6692",
           "#B6E880",
           "#FF97FF",
           "#FECB52"
          ],
          "font": {
           "color": "#2a3f5f"
          },
          "geo": {
           "bgcolor": "white",
           "lakecolor": "white",
           "landcolor": "#E5ECF6",
           "showlakes": true,
           "showland": true,
           "subunitcolor": "white"
          },
          "hoverlabel": {
           "align": "left"
          },
          "hovermode": "closest",
          "mapbox": {
           "style": "light"
          },
          "paper_bgcolor": "white",
          "plot_bgcolor": "#E5ECF6",
          "polar": {
           "angularaxis": {
            "gridcolor": "white",
            "linecolor": "white",
            "ticks": ""
           },
           "bgcolor": "#E5ECF6",
           "radialaxis": {
            "gridcolor": "white",
            "linecolor": "white",
            "ticks": ""
           }
          },
          "scene": {
           "xaxis": {
            "backgroundcolor": "#E5ECF6",
            "gridcolor": "white",
            "gridwidth": 2,
            "linecolor": "white",
            "showbackground": true,
            "ticks": "",
            "zerolinecolor": "white"
           },
           "yaxis": {
            "backgroundcolor": "#E5ECF6",
            "gridcolor": "white",
            "gridwidth": 2,
            "linecolor": "white",
            "showbackground": true,
            "ticks": "",
            "zerolinecolor": "white"
           },
           "zaxis": {
            "backgroundcolor": "#E5ECF6",
            "gridcolor": "white",
            "gridwidth": 2,
            "linecolor": "white",
            "showbackground": true,
            "ticks": "",
            "zerolinecolor": "white"
           }
          },
          "shapedefaults": {
           "line": {
            "color": "#2a3f5f"
           }
          },
          "ternary": {
           "aaxis": {
            "gridcolor": "white",
            "linecolor": "white",
            "ticks": ""
           },
           "baxis": {
            "gridcolor": "white",
            "linecolor": "white",
            "ticks": ""
           },
           "bgcolor": "#E5ECF6",
           "caxis": {
            "gridcolor": "white",
            "linecolor": "white",
            "ticks": ""
           }
          },
          "title": {
           "x": 0.05
          },
          "xaxis": {
           "automargin": true,
           "gridcolor": "white",
           "linecolor": "white",
           "ticks": "",
           "title": {
            "standoff": 15
           },
           "zerolinecolor": "white",
           "zerolinewidth": 2
          },
          "yaxis": {
           "automargin": true,
           "gridcolor": "white",
           "linecolor": "white",
           "ticks": "",
           "title": {
            "standoff": 15
           },
           "zerolinecolor": "white",
           "zerolinewidth": 2
          }
         }
        },
        "xaxis": {
         "anchor": "y",
         "domain": [
          0,
          1
         ],
         "title": {
          "text": "index"
         }
        },
        "yaxis": {
         "anchor": "x",
         "domain": [
          0,
          1
         ],
         "title": {
          "text": "value"
         }
        }
       }
      }
     },
     "metadata": {},
     "output_type": "display_data"
    }
   ],
   "source": [
    "px.line(metodos_sensibilidades.T)"
   ]
  },
  {
   "cell_type": "markdown",
   "metadata": {},
   "source": [
    "## Métodos NIRvsSecadero"
   ]
  },
  {
   "cell_type": "code",
   "execution_count": 8,
   "metadata": {},
   "outputs": [
    {
     "data": {
      "text/html": [
       "<div>\n",
       "<style scoped>\n",
       "    .dataframe tbody tr th:only-of-type {\n",
       "        vertical-align: middle;\n",
       "    }\n",
       "\n",
       "    .dataframe tbody tr th {\n",
       "        vertical-align: top;\n",
       "    }\n",
       "\n",
       "    .dataframe thead th {\n",
       "        text-align: right;\n",
       "    }\n",
       "</style>\n",
       "<table border=\"1\" class=\"dataframe\">\n",
       "  <thead>\n",
       "    <tr style=\"text-align: right;\">\n",
       "      <th></th>\n",
       "      <th>Negro</th>\n",
       "      <th>CurvaCola</th>\n",
       "      <th>Congelado</th>\n",
       "      <th>Hum</th>\n",
       "      <th>Anomalia</th>\n",
       "      <th>IForest</th>\n",
       "      <th>MAD</th>\n",
       "    </tr>\n",
       "    <tr>\n",
       "      <th>fecha</th>\n",
       "      <th></th>\n",
       "      <th></th>\n",
       "      <th></th>\n",
       "      <th></th>\n",
       "      <th></th>\n",
       "      <th></th>\n",
       "      <th></th>\n",
       "    </tr>\n",
       "  </thead>\n",
       "  <tbody>\n",
       "    <tr>\n",
       "      <th>2021-08-01 11:06:00</th>\n",
       "      <td>0</td>\n",
       "      <td>1</td>\n",
       "      <td>0</td>\n",
       "      <td>0</td>\n",
       "      <td>1</td>\n",
       "      <td>0</td>\n",
       "      <td>0</td>\n",
       "    </tr>\n",
       "    <tr>\n",
       "      <th>2021-03-15 11:15:00</th>\n",
       "      <td>0</td>\n",
       "      <td>0</td>\n",
       "      <td>0</td>\n",
       "      <td>0</td>\n",
       "      <td>0</td>\n",
       "      <td>0</td>\n",
       "      <td>0</td>\n",
       "    </tr>\n",
       "    <tr>\n",
       "      <th>2021-10-19 07:04:00</th>\n",
       "      <td>0</td>\n",
       "      <td>0</td>\n",
       "      <td>0</td>\n",
       "      <td>0</td>\n",
       "      <td>0</td>\n",
       "      <td>0</td>\n",
       "      <td>0</td>\n",
       "    </tr>\n",
       "    <tr>\n",
       "      <th>2021-04-17 10:46:00</th>\n",
       "      <td>0</td>\n",
       "      <td>0</td>\n",
       "      <td>0</td>\n",
       "      <td>0</td>\n",
       "      <td>0</td>\n",
       "      <td>0</td>\n",
       "      <td>0</td>\n",
       "    </tr>\n",
       "    <tr>\n",
       "      <th>2021-03-07 19:50:00</th>\n",
       "      <td>0</td>\n",
       "      <td>0</td>\n",
       "      <td>0</td>\n",
       "      <td>0</td>\n",
       "      <td>0</td>\n",
       "      <td>0</td>\n",
       "      <td>0</td>\n",
       "    </tr>\n",
       "  </tbody>\n",
       "</table>\n",
       "</div>"
      ],
      "text/plain": [
       "                     Negro  CurvaCola  Congelado  Hum  Anomalia  IForest  MAD\n",
       "fecha                                                                        \n",
       "2021-08-01 11:06:00      0          1          0    0         1        0    0\n",
       "2021-03-15 11:15:00      0          0          0    0         0        0    0\n",
       "2021-10-19 07:04:00      0          0          0    0         0        0    0\n",
       "2021-04-17 10:46:00      0          0          0    0         0        0    0\n",
       "2021-03-07 19:50:00      0          0          0    0         0        0    0"
      ]
     },
     "execution_count": 8,
     "metadata": {},
     "output_type": "execute_result"
    }
   ],
   "source": [
    "metodos_NvS = pd.read_csv('Metodos_NIRvsSecadero/Total/Resultados/PyOD_IForest_completo.csv',index_col='fecha')\n",
    "metodos_NvS = metodos_NvS.drop('Y_pred', axis=1)\n",
    "\n",
    "metodos_NvS['IForest'] = pd.read_csv('Metodos_NIRvsSecadero/Total/Resultados/PyOD_IForest_completo.csv',usecols=['fecha','Y_pred'],index_col='fecha')\n",
    "metodos_NvS['MAD'] = pd.read_csv('Metodos_NIRvsSecadero/Total/Resultados/PyOD_MAD_completo.csv',usecols=['fecha','Y_pred'],index_col='fecha')\n",
    "\n",
    "metodos_NvS_htm = pd.read_csv('Metodos_NIRvsSecadero/Total/HTM_Uni/HTM_completo.csv',index_col='fecha')\n",
    "metodos_NvS_htm['HTM'] = metodos_NvS_htm['Y_pred']\n",
    "metodos_NvS_htm = metodos_NvS_htm.drop('Y_pred',axis=1)\n",
    "\n",
    "metodos_NvS.head()"
   ]
  },
  {
   "cell_type": "markdown",
   "metadata": {},
   "source": []
  },
  {
   "cell_type": "markdown",
   "metadata": {},
   "source": [
    "### Métricas generales:"
   ]
  },
  {
   "cell_type": "code",
   "execution_count": 9,
   "metadata": {},
   "outputs": [
    {
     "data": {
      "text/html": [
       "<div>\n",
       "<style scoped>\n",
       "    .dataframe tbody tr th:only-of-type {\n",
       "        vertical-align: middle;\n",
       "    }\n",
       "\n",
       "    .dataframe tbody tr th {\n",
       "        vertical-align: top;\n",
       "    }\n",
       "\n",
       "    .dataframe thead th {\n",
       "        text-align: right;\n",
       "    }\n",
       "</style>\n",
       "<table border=\"1\" class=\"dataframe\">\n",
       "  <thead>\n",
       "    <tr style=\"text-align: right;\">\n",
       "      <th></th>\n",
       "      <th>roc_auc</th>\n",
       "      <th>accuracy</th>\n",
       "      <th>precision</th>\n",
       "      <th>kappa</th>\n",
       "      <th>sensibilidad</th>\n",
       "      <th>especificidad</th>\n",
       "    </tr>\n",
       "  </thead>\n",
       "  <tbody>\n",
       "    <tr>\n",
       "      <th>IForest</th>\n",
       "      <td>0.591815</td>\n",
       "      <td>0.71781</td>\n",
       "      <td>0.730455</td>\n",
       "      <td>0.223097</td>\n",
       "      <td>0.224118</td>\n",
       "      <td>0.959511</td>\n",
       "    </tr>\n",
       "    <tr>\n",
       "      <th>MAD</th>\n",
       "      <td>0.591454</td>\n",
       "      <td>0.727002</td>\n",
       "      <td>0.880853</td>\n",
       "      <td>0.228194</td>\n",
       "      <td>0.195879</td>\n",
       "      <td>0.987029</td>\n",
       "    </tr>\n",
       "    <tr>\n",
       "      <th>HTM</th>\n",
       "      <td>0.456615</td>\n",
       "      <td>0.609992</td>\n",
       "      <td>0.048738</td>\n",
       "      <td>-0.108785</td>\n",
       "      <td>0.010165</td>\n",
       "      <td>0.903066</td>\n",
       "    </tr>\n",
       "  </tbody>\n",
       "</table>\n",
       "</div>"
      ],
      "text/plain": [
       "          roc_auc  accuracy precision     kappa sensibilidad especificidad\n",
       "IForest  0.591815   0.71781  0.730455  0.223097     0.224118      0.959511\n",
       "MAD      0.591454  0.727002  0.880853  0.228194     0.195879      0.987029\n",
       "HTM      0.456615  0.609992  0.048738 -0.108785     0.010165      0.903066"
      ]
     },
     "execution_count": 9,
     "metadata": {},
     "output_type": "execute_result"
    }
   ],
   "source": [
    "metodos_NvS_lista = ['IForest','MAD']\n",
    "metodos_NvS_metricas = calc_metricas(metodos_NvS,['IForest','MAD'])\n",
    "metodos_NvS_metricas = pd.concat([metodos_NvS_metricas,calc_metricas(metodos_NvS_htm, ['HTM'])])\n",
    "metodos_NvS_metricas"
   ]
  },
  {
   "cell_type": "code",
   "execution_count": 10,
   "metadata": {},
   "outputs": [
    {
     "data": {
      "application/vnd.plotly.v1+json": {
       "config": {
        "plotlyServerURL": "https://plot.ly"
       },
       "data": [
        {
         "hovertemplate": "variable=IForest<br>index=%{x}<br>value=%{y}<extra></extra>",
         "legendgroup": "IForest",
         "line": {
          "color": "#636efa",
          "dash": "solid"
         },
         "marker": {
          "symbol": "circle"
         },
         "mode": "lines",
         "name": "IForest",
         "orientation": "v",
         "showlegend": true,
         "type": "scatter",
         "x": [
          "roc_auc",
          "accuracy",
          "precision",
          "kappa",
          "sensibilidad",
          "especificidad"
         ],
         "xaxis": "x",
         "y": [
          0.5918146143022985,
          0.7178104282386669,
          0.73045486851457,
          0.223096662564916,
          0.22411819222591725,
          0.95951103637868
         ],
         "yaxis": "y"
        },
        {
         "hovertemplate": "variable=MAD<br>index=%{x}<br>value=%{y}<extra></extra>",
         "legendgroup": "MAD",
         "line": {
          "color": "#EF553B",
          "dash": "solid"
         },
         "marker": {
          "symbol": "circle"
         },
         "mode": "lines",
         "name": "MAD",
         "orientation": "v",
         "showlegend": true,
         "type": "scatter",
         "x": [
          "roc_auc",
          "accuracy",
          "precision",
          "kappa",
          "sensibilidad",
          "especificidad"
         ],
         "xaxis": "x",
         "y": [
          0.5914535609632284,
          0.727002329331661,
          0.8808531502819319,
          0.22819434103154468,
          0.19587853677152048,
          0.9870285851549363
         ],
         "yaxis": "y"
        },
        {
         "hovertemplate": "variable=HTM<br>index=%{x}<br>value=%{y}<extra></extra>",
         "legendgroup": "HTM",
         "line": {
          "color": "#00cc96",
          "dash": "solid"
         },
         "marker": {
          "symbol": "circle"
         },
         "mode": "lines",
         "name": "HTM",
         "orientation": "v",
         "showlegend": true,
         "type": "scatter",
         "x": [
          "roc_auc",
          "accuracy",
          "precision",
          "kappa",
          "sensibilidad",
          "especificidad"
         ],
         "xaxis": "x",
         "y": [
          0.45661526196438335,
          0.6099918293626903,
          0.04873835200502565,
          -0.1087845072934599,
          0.01016475417890404,
          0.9030657697498626
         ],
         "yaxis": "y"
        }
       ],
       "layout": {
        "legend": {
         "title": {
          "text": "variable"
         },
         "tracegroupgap": 0
        },
        "margin": {
         "t": 60
        },
        "template": {
         "data": {
          "bar": [
           {
            "error_x": {
             "color": "#2a3f5f"
            },
            "error_y": {
             "color": "#2a3f5f"
            },
            "marker": {
             "line": {
              "color": "#E5ECF6",
              "width": 0.5
             },
             "pattern": {
              "fillmode": "overlay",
              "size": 10,
              "solidity": 0.2
             }
            },
            "type": "bar"
           }
          ],
          "barpolar": [
           {
            "marker": {
             "line": {
              "color": "#E5ECF6",
              "width": 0.5
             },
             "pattern": {
              "fillmode": "overlay",
              "size": 10,
              "solidity": 0.2
             }
            },
            "type": "barpolar"
           }
          ],
          "carpet": [
           {
            "aaxis": {
             "endlinecolor": "#2a3f5f",
             "gridcolor": "white",
             "linecolor": "white",
             "minorgridcolor": "white",
             "startlinecolor": "#2a3f5f"
            },
            "baxis": {
             "endlinecolor": "#2a3f5f",
             "gridcolor": "white",
             "linecolor": "white",
             "minorgridcolor": "white",
             "startlinecolor": "#2a3f5f"
            },
            "type": "carpet"
           }
          ],
          "choropleth": [
           {
            "colorbar": {
             "outlinewidth": 0,
             "ticks": ""
            },
            "type": "choropleth"
           }
          ],
          "contour": [
           {
            "colorbar": {
             "outlinewidth": 0,
             "ticks": ""
            },
            "colorscale": [
             [
              0,
              "#0d0887"
             ],
             [
              0.1111111111111111,
              "#46039f"
             ],
             [
              0.2222222222222222,
              "#7201a8"
             ],
             [
              0.3333333333333333,
              "#9c179e"
             ],
             [
              0.4444444444444444,
              "#bd3786"
             ],
             [
              0.5555555555555556,
              "#d8576b"
             ],
             [
              0.6666666666666666,
              "#ed7953"
             ],
             [
              0.7777777777777778,
              "#fb9f3a"
             ],
             [
              0.8888888888888888,
              "#fdca26"
             ],
             [
              1,
              "#f0f921"
             ]
            ],
            "type": "contour"
           }
          ],
          "contourcarpet": [
           {
            "colorbar": {
             "outlinewidth": 0,
             "ticks": ""
            },
            "type": "contourcarpet"
           }
          ],
          "heatmap": [
           {
            "colorbar": {
             "outlinewidth": 0,
             "ticks": ""
            },
            "colorscale": [
             [
              0,
              "#0d0887"
             ],
             [
              0.1111111111111111,
              "#46039f"
             ],
             [
              0.2222222222222222,
              "#7201a8"
             ],
             [
              0.3333333333333333,
              "#9c179e"
             ],
             [
              0.4444444444444444,
              "#bd3786"
             ],
             [
              0.5555555555555556,
              "#d8576b"
             ],
             [
              0.6666666666666666,
              "#ed7953"
             ],
             [
              0.7777777777777778,
              "#fb9f3a"
             ],
             [
              0.8888888888888888,
              "#fdca26"
             ],
             [
              1,
              "#f0f921"
             ]
            ],
            "type": "heatmap"
           }
          ],
          "heatmapgl": [
           {
            "colorbar": {
             "outlinewidth": 0,
             "ticks": ""
            },
            "colorscale": [
             [
              0,
              "#0d0887"
             ],
             [
              0.1111111111111111,
              "#46039f"
             ],
             [
              0.2222222222222222,
              "#7201a8"
             ],
             [
              0.3333333333333333,
              "#9c179e"
             ],
             [
              0.4444444444444444,
              "#bd3786"
             ],
             [
              0.5555555555555556,
              "#d8576b"
             ],
             [
              0.6666666666666666,
              "#ed7953"
             ],
             [
              0.7777777777777778,
              "#fb9f3a"
             ],
             [
              0.8888888888888888,
              "#fdca26"
             ],
             [
              1,
              "#f0f921"
             ]
            ],
            "type": "heatmapgl"
           }
          ],
          "histogram": [
           {
            "marker": {
             "pattern": {
              "fillmode": "overlay",
              "size": 10,
              "solidity": 0.2
             }
            },
            "type": "histogram"
           }
          ],
          "histogram2d": [
           {
            "colorbar": {
             "outlinewidth": 0,
             "ticks": ""
            },
            "colorscale": [
             [
              0,
              "#0d0887"
             ],
             [
              0.1111111111111111,
              "#46039f"
             ],
             [
              0.2222222222222222,
              "#7201a8"
             ],
             [
              0.3333333333333333,
              "#9c179e"
             ],
             [
              0.4444444444444444,
              "#bd3786"
             ],
             [
              0.5555555555555556,
              "#d8576b"
             ],
             [
              0.6666666666666666,
              "#ed7953"
             ],
             [
              0.7777777777777778,
              "#fb9f3a"
             ],
             [
              0.8888888888888888,
              "#fdca26"
             ],
             [
              1,
              "#f0f921"
             ]
            ],
            "type": "histogram2d"
           }
          ],
          "histogram2dcontour": [
           {
            "colorbar": {
             "outlinewidth": 0,
             "ticks": ""
            },
            "colorscale": [
             [
              0,
              "#0d0887"
             ],
             [
              0.1111111111111111,
              "#46039f"
             ],
             [
              0.2222222222222222,
              "#7201a8"
             ],
             [
              0.3333333333333333,
              "#9c179e"
             ],
             [
              0.4444444444444444,
              "#bd3786"
             ],
             [
              0.5555555555555556,
              "#d8576b"
             ],
             [
              0.6666666666666666,
              "#ed7953"
             ],
             [
              0.7777777777777778,
              "#fb9f3a"
             ],
             [
              0.8888888888888888,
              "#fdca26"
             ],
             [
              1,
              "#f0f921"
             ]
            ],
            "type": "histogram2dcontour"
           }
          ],
          "mesh3d": [
           {
            "colorbar": {
             "outlinewidth": 0,
             "ticks": ""
            },
            "type": "mesh3d"
           }
          ],
          "parcoords": [
           {
            "line": {
             "colorbar": {
              "outlinewidth": 0,
              "ticks": ""
             }
            },
            "type": "parcoords"
           }
          ],
          "pie": [
           {
            "automargin": true,
            "type": "pie"
           }
          ],
          "scatter": [
           {
            "fillpattern": {
             "fillmode": "overlay",
             "size": 10,
             "solidity": 0.2
            },
            "type": "scatter"
           }
          ],
          "scatter3d": [
           {
            "line": {
             "colorbar": {
              "outlinewidth": 0,
              "ticks": ""
             }
            },
            "marker": {
             "colorbar": {
              "outlinewidth": 0,
              "ticks": ""
             }
            },
            "type": "scatter3d"
           }
          ],
          "scattercarpet": [
           {
            "marker": {
             "colorbar": {
              "outlinewidth": 0,
              "ticks": ""
             }
            },
            "type": "scattercarpet"
           }
          ],
          "scattergeo": [
           {
            "marker": {
             "colorbar": {
              "outlinewidth": 0,
              "ticks": ""
             }
            },
            "type": "scattergeo"
           }
          ],
          "scattergl": [
           {
            "marker": {
             "colorbar": {
              "outlinewidth": 0,
              "ticks": ""
             }
            },
            "type": "scattergl"
           }
          ],
          "scattermapbox": [
           {
            "marker": {
             "colorbar": {
              "outlinewidth": 0,
              "ticks": ""
             }
            },
            "type": "scattermapbox"
           }
          ],
          "scatterpolar": [
           {
            "marker": {
             "colorbar": {
              "outlinewidth": 0,
              "ticks": ""
             }
            },
            "type": "scatterpolar"
           }
          ],
          "scatterpolargl": [
           {
            "marker": {
             "colorbar": {
              "outlinewidth": 0,
              "ticks": ""
             }
            },
            "type": "scatterpolargl"
           }
          ],
          "scatterternary": [
           {
            "marker": {
             "colorbar": {
              "outlinewidth": 0,
              "ticks": ""
             }
            },
            "type": "scatterternary"
           }
          ],
          "surface": [
           {
            "colorbar": {
             "outlinewidth": 0,
             "ticks": ""
            },
            "colorscale": [
             [
              0,
              "#0d0887"
             ],
             [
              0.1111111111111111,
              "#46039f"
             ],
             [
              0.2222222222222222,
              "#7201a8"
             ],
             [
              0.3333333333333333,
              "#9c179e"
             ],
             [
              0.4444444444444444,
              "#bd3786"
             ],
             [
              0.5555555555555556,
              "#d8576b"
             ],
             [
              0.6666666666666666,
              "#ed7953"
             ],
             [
              0.7777777777777778,
              "#fb9f3a"
             ],
             [
              0.8888888888888888,
              "#fdca26"
             ],
             [
              1,
              "#f0f921"
             ]
            ],
            "type": "surface"
           }
          ],
          "table": [
           {
            "cells": {
             "fill": {
              "color": "#EBF0F8"
             },
             "line": {
              "color": "white"
             }
            },
            "header": {
             "fill": {
              "color": "#C8D4E3"
             },
             "line": {
              "color": "white"
             }
            },
            "type": "table"
           }
          ]
         },
         "layout": {
          "annotationdefaults": {
           "arrowcolor": "#2a3f5f",
           "arrowhead": 0,
           "arrowwidth": 1
          },
          "autotypenumbers": "strict",
          "coloraxis": {
           "colorbar": {
            "outlinewidth": 0,
            "ticks": ""
           }
          },
          "colorscale": {
           "diverging": [
            [
             0,
             "#8e0152"
            ],
            [
             0.1,
             "#c51b7d"
            ],
            [
             0.2,
             "#de77ae"
            ],
            [
             0.3,
             "#f1b6da"
            ],
            [
             0.4,
             "#fde0ef"
            ],
            [
             0.5,
             "#f7f7f7"
            ],
            [
             0.6,
             "#e6f5d0"
            ],
            [
             0.7,
             "#b8e186"
            ],
            [
             0.8,
             "#7fbc41"
            ],
            [
             0.9,
             "#4d9221"
            ],
            [
             1,
             "#276419"
            ]
           ],
           "sequential": [
            [
             0,
             "#0d0887"
            ],
            [
             0.1111111111111111,
             "#46039f"
            ],
            [
             0.2222222222222222,
             "#7201a8"
            ],
            [
             0.3333333333333333,
             "#9c179e"
            ],
            [
             0.4444444444444444,
             "#bd3786"
            ],
            [
             0.5555555555555556,
             "#d8576b"
            ],
            [
             0.6666666666666666,
             "#ed7953"
            ],
            [
             0.7777777777777778,
             "#fb9f3a"
            ],
            [
             0.8888888888888888,
             "#fdca26"
            ],
            [
             1,
             "#f0f921"
            ]
           ],
           "sequentialminus": [
            [
             0,
             "#0d0887"
            ],
            [
             0.1111111111111111,
             "#46039f"
            ],
            [
             0.2222222222222222,
             "#7201a8"
            ],
            [
             0.3333333333333333,
             "#9c179e"
            ],
            [
             0.4444444444444444,
             "#bd3786"
            ],
            [
             0.5555555555555556,
             "#d8576b"
            ],
            [
             0.6666666666666666,
             "#ed7953"
            ],
            [
             0.7777777777777778,
             "#fb9f3a"
            ],
            [
             0.8888888888888888,
             "#fdca26"
            ],
            [
             1,
             "#f0f921"
            ]
           ]
          },
          "colorway": [
           "#636efa",
           "#EF553B",
           "#00cc96",
           "#ab63fa",
           "#FFA15A",
           "#19d3f3",
           "#FF6692",
           "#B6E880",
           "#FF97FF",
           "#FECB52"
          ],
          "font": {
           "color": "#2a3f5f"
          },
          "geo": {
           "bgcolor": "white",
           "lakecolor": "white",
           "landcolor": "#E5ECF6",
           "showlakes": true,
           "showland": true,
           "subunitcolor": "white"
          },
          "hoverlabel": {
           "align": "left"
          },
          "hovermode": "closest",
          "mapbox": {
           "style": "light"
          },
          "paper_bgcolor": "white",
          "plot_bgcolor": "#E5ECF6",
          "polar": {
           "angularaxis": {
            "gridcolor": "white",
            "linecolor": "white",
            "ticks": ""
           },
           "bgcolor": "#E5ECF6",
           "radialaxis": {
            "gridcolor": "white",
            "linecolor": "white",
            "ticks": ""
           }
          },
          "scene": {
           "xaxis": {
            "backgroundcolor": "#E5ECF6",
            "gridcolor": "white",
            "gridwidth": 2,
            "linecolor": "white",
            "showbackground": true,
            "ticks": "",
            "zerolinecolor": "white"
           },
           "yaxis": {
            "backgroundcolor": "#E5ECF6",
            "gridcolor": "white",
            "gridwidth": 2,
            "linecolor": "white",
            "showbackground": true,
            "ticks": "",
            "zerolinecolor": "white"
           },
           "zaxis": {
            "backgroundcolor": "#E5ECF6",
            "gridcolor": "white",
            "gridwidth": 2,
            "linecolor": "white",
            "showbackground": true,
            "ticks": "",
            "zerolinecolor": "white"
           }
          },
          "shapedefaults": {
           "line": {
            "color": "#2a3f5f"
           }
          },
          "ternary": {
           "aaxis": {
            "gridcolor": "white",
            "linecolor": "white",
            "ticks": ""
           },
           "baxis": {
            "gridcolor": "white",
            "linecolor": "white",
            "ticks": ""
           },
           "bgcolor": "#E5ECF6",
           "caxis": {
            "gridcolor": "white",
            "linecolor": "white",
            "ticks": ""
           }
          },
          "title": {
           "x": 0.05
          },
          "xaxis": {
           "automargin": true,
           "gridcolor": "white",
           "linecolor": "white",
           "ticks": "",
           "title": {
            "standoff": 15
           },
           "zerolinecolor": "white",
           "zerolinewidth": 2
          },
          "yaxis": {
           "automargin": true,
           "gridcolor": "white",
           "linecolor": "white",
           "ticks": "",
           "title": {
            "standoff": 15
           },
           "zerolinecolor": "white",
           "zerolinewidth": 2
          }
         }
        },
        "xaxis": {
         "anchor": "y",
         "domain": [
          0,
          1
         ],
         "title": {
          "text": "index"
         }
        },
        "yaxis": {
         "anchor": "x",
         "domain": [
          0,
          1
         ],
         "title": {
          "text": "value"
         }
        }
       }
      }
     },
     "metadata": {},
     "output_type": "display_data"
    }
   ],
   "source": [
    "px.line(metodos_NvS_metricas.T)"
   ]
  },
  {
   "cell_type": "markdown",
   "metadata": {},
   "source": [
    "### Sensibilidad por tipo de anomalía"
   ]
  },
  {
   "cell_type": "code",
   "execution_count": 11,
   "metadata": {},
   "outputs": [
    {
     "data": {
      "text/html": [
       "<div>\n",
       "<style scoped>\n",
       "    .dataframe tbody tr th:only-of-type {\n",
       "        vertical-align: middle;\n",
       "    }\n",
       "\n",
       "    .dataframe tbody tr th {\n",
       "        vertical-align: top;\n",
       "    }\n",
       "\n",
       "    .dataframe thead th {\n",
       "        text-align: right;\n",
       "    }\n",
       "</style>\n",
       "<table border=\"1\" class=\"dataframe\">\n",
       "  <thead>\n",
       "    <tr style=\"text-align: right;\">\n",
       "      <th></th>\n",
       "      <th>Anomalia</th>\n",
       "      <th>Negro</th>\n",
       "      <th>Congelado</th>\n",
       "      <th>Hum</th>\n",
       "      <th>CurvaCola</th>\n",
       "    </tr>\n",
       "  </thead>\n",
       "  <tbody>\n",
       "    <tr>\n",
       "      <th>IForest</th>\n",
       "      <td>0.224118</td>\n",
       "      <td>0.800593</td>\n",
       "      <td>0.909193</td>\n",
       "      <td>0.137124</td>\n",
       "      <td>0.113158</td>\n",
       "    </tr>\n",
       "    <tr>\n",
       "      <th>MAD</th>\n",
       "      <td>0.195879</td>\n",
       "      <td>0.757747</td>\n",
       "      <td>0.900169</td>\n",
       "      <td>0.076923</td>\n",
       "      <td>0.081879</td>\n",
       "    </tr>\n",
       "    <tr>\n",
       "      <th>HTM</th>\n",
       "      <td>0.010165</td>\n",
       "      <td>0.0</td>\n",
       "      <td>0.009393</td>\n",
       "      <td>0.01377</td>\n",
       "      <td>0.009644</td>\n",
       "    </tr>\n",
       "  </tbody>\n",
       "</table>\n",
       "</div>"
      ],
      "text/plain": [
       "         Anomalia     Negro Congelado       Hum CurvaCola\n",
       "IForest  0.224118  0.800593  0.909193  0.137124  0.113158\n",
       "MAD      0.195879  0.757747  0.900169  0.076923  0.081879\n",
       "HTM      0.010165       0.0  0.009393   0.01377  0.009644"
      ]
     },
     "execution_count": 11,
     "metadata": {},
     "output_type": "execute_result"
    }
   ],
   "source": [
    "metodos_NvS_sensibilidades = calc_sensibilidad(metodos_NvS,metodos_NvS_lista,anomalias)\n",
    "metodos_NvS_sensibilidades = pd.concat([metodos_NvS_sensibilidades,calc_sensibilidad(metodos_NvS_htm, ['HTM'], anomalias)])\n",
    "metodos_NvS_sensibilidades"
   ]
  },
  {
   "cell_type": "code",
   "execution_count": 12,
   "metadata": {},
   "outputs": [
    {
     "data": {
      "application/vnd.plotly.v1+json": {
       "config": {
        "plotlyServerURL": "https://plot.ly"
       },
       "data": [
        {
         "hovertemplate": "variable=IForest<br>index=%{x}<br>value=%{y}<extra></extra>",
         "legendgroup": "IForest",
         "line": {
          "color": "#636efa",
          "dash": "solid"
         },
         "marker": {
          "symbol": "circle"
         },
         "mode": "lines",
         "name": "IForest",
         "orientation": "v",
         "showlegend": true,
         "type": "scatter",
         "x": [
          "Anomalia",
          "Negro",
          "Congelado",
          "Hum",
          "CurvaCola"
         ],
         "xaxis": "x",
         "y": [
          0.22411819222591725,
          0.8005928321207222,
          0.9091934574168077,
          0.13712374581939799,
          0.1131575546077291
         ],
         "yaxis": "y"
        },
        {
         "hovertemplate": "variable=MAD<br>index=%{x}<br>value=%{y}<extra></extra>",
         "legendgroup": "MAD",
         "line": {
          "color": "#EF553B",
          "dash": "solid"
         },
         "marker": {
          "symbol": "circle"
         },
         "mode": "lines",
         "name": "MAD",
         "orientation": "v",
         "showlegend": true,
         "type": "scatter",
         "x": [
          "Anomalia",
          "Negro",
          "Congelado",
          "Hum",
          "CurvaCola"
         ],
         "xaxis": "x",
         "y": [
          0.19587853677152048,
          0.7577472379412558,
          0.9001692047377327,
          0.07692307692307693,
          0.08187928137521003
         ],
         "yaxis": "y"
        },
        {
         "hovertemplate": "variable=HTM<br>index=%{x}<br>value=%{y}<extra></extra>",
         "legendgroup": "HTM",
         "line": {
          "color": "#00cc96",
          "dash": "solid"
         },
         "marker": {
          "symbol": "circle"
         },
         "mode": "lines",
         "name": "HTM",
         "orientation": "v",
         "showlegend": true,
         "type": "scatter",
         "x": [
          "Anomalia",
          "Negro",
          "Congelado",
          "Hum",
          "CurvaCola"
         ],
         "xaxis": "x",
         "y": [
          0.01016475417890404,
          0,
          0.009393390674513355,
          0.01377049180327869,
          0.009643811564827845
         ],
         "yaxis": "y"
        }
       ],
       "layout": {
        "legend": {
         "title": {
          "text": "variable"
         },
         "tracegroupgap": 0
        },
        "margin": {
         "t": 60
        },
        "template": {
         "data": {
          "bar": [
           {
            "error_x": {
             "color": "#2a3f5f"
            },
            "error_y": {
             "color": "#2a3f5f"
            },
            "marker": {
             "line": {
              "color": "#E5ECF6",
              "width": 0.5
             },
             "pattern": {
              "fillmode": "overlay",
              "size": 10,
              "solidity": 0.2
             }
            },
            "type": "bar"
           }
          ],
          "barpolar": [
           {
            "marker": {
             "line": {
              "color": "#E5ECF6",
              "width": 0.5
             },
             "pattern": {
              "fillmode": "overlay",
              "size": 10,
              "solidity": 0.2
             }
            },
            "type": "barpolar"
           }
          ],
          "carpet": [
           {
            "aaxis": {
             "endlinecolor": "#2a3f5f",
             "gridcolor": "white",
             "linecolor": "white",
             "minorgridcolor": "white",
             "startlinecolor": "#2a3f5f"
            },
            "baxis": {
             "endlinecolor": "#2a3f5f",
             "gridcolor": "white",
             "linecolor": "white",
             "minorgridcolor": "white",
             "startlinecolor": "#2a3f5f"
            },
            "type": "carpet"
           }
          ],
          "choropleth": [
           {
            "colorbar": {
             "outlinewidth": 0,
             "ticks": ""
            },
            "type": "choropleth"
           }
          ],
          "contour": [
           {
            "colorbar": {
             "outlinewidth": 0,
             "ticks": ""
            },
            "colorscale": [
             [
              0,
              "#0d0887"
             ],
             [
              0.1111111111111111,
              "#46039f"
             ],
             [
              0.2222222222222222,
              "#7201a8"
             ],
             [
              0.3333333333333333,
              "#9c179e"
             ],
             [
              0.4444444444444444,
              "#bd3786"
             ],
             [
              0.5555555555555556,
              "#d8576b"
             ],
             [
              0.6666666666666666,
              "#ed7953"
             ],
             [
              0.7777777777777778,
              "#fb9f3a"
             ],
             [
              0.8888888888888888,
              "#fdca26"
             ],
             [
              1,
              "#f0f921"
             ]
            ],
            "type": "contour"
           }
          ],
          "contourcarpet": [
           {
            "colorbar": {
             "outlinewidth": 0,
             "ticks": ""
            },
            "type": "contourcarpet"
           }
          ],
          "heatmap": [
           {
            "colorbar": {
             "outlinewidth": 0,
             "ticks": ""
            },
            "colorscale": [
             [
              0,
              "#0d0887"
             ],
             [
              0.1111111111111111,
              "#46039f"
             ],
             [
              0.2222222222222222,
              "#7201a8"
             ],
             [
              0.3333333333333333,
              "#9c179e"
             ],
             [
              0.4444444444444444,
              "#bd3786"
             ],
             [
              0.5555555555555556,
              "#d8576b"
             ],
             [
              0.6666666666666666,
              "#ed7953"
             ],
             [
              0.7777777777777778,
              "#fb9f3a"
             ],
             [
              0.8888888888888888,
              "#fdca26"
             ],
             [
              1,
              "#f0f921"
             ]
            ],
            "type": "heatmap"
           }
          ],
          "heatmapgl": [
           {
            "colorbar": {
             "outlinewidth": 0,
             "ticks": ""
            },
            "colorscale": [
             [
              0,
              "#0d0887"
             ],
             [
              0.1111111111111111,
              "#46039f"
             ],
             [
              0.2222222222222222,
              "#7201a8"
             ],
             [
              0.3333333333333333,
              "#9c179e"
             ],
             [
              0.4444444444444444,
              "#bd3786"
             ],
             [
              0.5555555555555556,
              "#d8576b"
             ],
             [
              0.6666666666666666,
              "#ed7953"
             ],
             [
              0.7777777777777778,
              "#fb9f3a"
             ],
             [
              0.8888888888888888,
              "#fdca26"
             ],
             [
              1,
              "#f0f921"
             ]
            ],
            "type": "heatmapgl"
           }
          ],
          "histogram": [
           {
            "marker": {
             "pattern": {
              "fillmode": "overlay",
              "size": 10,
              "solidity": 0.2
             }
            },
            "type": "histogram"
           }
          ],
          "histogram2d": [
           {
            "colorbar": {
             "outlinewidth": 0,
             "ticks": ""
            },
            "colorscale": [
             [
              0,
              "#0d0887"
             ],
             [
              0.1111111111111111,
              "#46039f"
             ],
             [
              0.2222222222222222,
              "#7201a8"
             ],
             [
              0.3333333333333333,
              "#9c179e"
             ],
             [
              0.4444444444444444,
              "#bd3786"
             ],
             [
              0.5555555555555556,
              "#d8576b"
             ],
             [
              0.6666666666666666,
              "#ed7953"
             ],
             [
              0.7777777777777778,
              "#fb9f3a"
             ],
             [
              0.8888888888888888,
              "#fdca26"
             ],
             [
              1,
              "#f0f921"
             ]
            ],
            "type": "histogram2d"
           }
          ],
          "histogram2dcontour": [
           {
            "colorbar": {
             "outlinewidth": 0,
             "ticks": ""
            },
            "colorscale": [
             [
              0,
              "#0d0887"
             ],
             [
              0.1111111111111111,
              "#46039f"
             ],
             [
              0.2222222222222222,
              "#7201a8"
             ],
             [
              0.3333333333333333,
              "#9c179e"
             ],
             [
              0.4444444444444444,
              "#bd3786"
             ],
             [
              0.5555555555555556,
              "#d8576b"
             ],
             [
              0.6666666666666666,
              "#ed7953"
             ],
             [
              0.7777777777777778,
              "#fb9f3a"
             ],
             [
              0.8888888888888888,
              "#fdca26"
             ],
             [
              1,
              "#f0f921"
             ]
            ],
            "type": "histogram2dcontour"
           }
          ],
          "mesh3d": [
           {
            "colorbar": {
             "outlinewidth": 0,
             "ticks": ""
            },
            "type": "mesh3d"
           }
          ],
          "parcoords": [
           {
            "line": {
             "colorbar": {
              "outlinewidth": 0,
              "ticks": ""
             }
            },
            "type": "parcoords"
           }
          ],
          "pie": [
           {
            "automargin": true,
            "type": "pie"
           }
          ],
          "scatter": [
           {
            "fillpattern": {
             "fillmode": "overlay",
             "size": 10,
             "solidity": 0.2
            },
            "type": "scatter"
           }
          ],
          "scatter3d": [
           {
            "line": {
             "colorbar": {
              "outlinewidth": 0,
              "ticks": ""
             }
            },
            "marker": {
             "colorbar": {
              "outlinewidth": 0,
              "ticks": ""
             }
            },
            "type": "scatter3d"
           }
          ],
          "scattercarpet": [
           {
            "marker": {
             "colorbar": {
              "outlinewidth": 0,
              "ticks": ""
             }
            },
            "type": "scattercarpet"
           }
          ],
          "scattergeo": [
           {
            "marker": {
             "colorbar": {
              "outlinewidth": 0,
              "ticks": ""
             }
            },
            "type": "scattergeo"
           }
          ],
          "scattergl": [
           {
            "marker": {
             "colorbar": {
              "outlinewidth": 0,
              "ticks": ""
             }
            },
            "type": "scattergl"
           }
          ],
          "scattermapbox": [
           {
            "marker": {
             "colorbar": {
              "outlinewidth": 0,
              "ticks": ""
             }
            },
            "type": "scattermapbox"
           }
          ],
          "scatterpolar": [
           {
            "marker": {
             "colorbar": {
              "outlinewidth": 0,
              "ticks": ""
             }
            },
            "type": "scatterpolar"
           }
          ],
          "scatterpolargl": [
           {
            "marker": {
             "colorbar": {
              "outlinewidth": 0,
              "ticks": ""
             }
            },
            "type": "scatterpolargl"
           }
          ],
          "scatterternary": [
           {
            "marker": {
             "colorbar": {
              "outlinewidth": 0,
              "ticks": ""
             }
            },
            "type": "scatterternary"
           }
          ],
          "surface": [
           {
            "colorbar": {
             "outlinewidth": 0,
             "ticks": ""
            },
            "colorscale": [
             [
              0,
              "#0d0887"
             ],
             [
              0.1111111111111111,
              "#46039f"
             ],
             [
              0.2222222222222222,
              "#7201a8"
             ],
             [
              0.3333333333333333,
              "#9c179e"
             ],
             [
              0.4444444444444444,
              "#bd3786"
             ],
             [
              0.5555555555555556,
              "#d8576b"
             ],
             [
              0.6666666666666666,
              "#ed7953"
             ],
             [
              0.7777777777777778,
              "#fb9f3a"
             ],
             [
              0.8888888888888888,
              "#fdca26"
             ],
             [
              1,
              "#f0f921"
             ]
            ],
            "type": "surface"
           }
          ],
          "table": [
           {
            "cells": {
             "fill": {
              "color": "#EBF0F8"
             },
             "line": {
              "color": "white"
             }
            },
            "header": {
             "fill": {
              "color": "#C8D4E3"
             },
             "line": {
              "color": "white"
             }
            },
            "type": "table"
           }
          ]
         },
         "layout": {
          "annotationdefaults": {
           "arrowcolor": "#2a3f5f",
           "arrowhead": 0,
           "arrowwidth": 1
          },
          "autotypenumbers": "strict",
          "coloraxis": {
           "colorbar": {
            "outlinewidth": 0,
            "ticks": ""
           }
          },
          "colorscale": {
           "diverging": [
            [
             0,
             "#8e0152"
            ],
            [
             0.1,
             "#c51b7d"
            ],
            [
             0.2,
             "#de77ae"
            ],
            [
             0.3,
             "#f1b6da"
            ],
            [
             0.4,
             "#fde0ef"
            ],
            [
             0.5,
             "#f7f7f7"
            ],
            [
             0.6,
             "#e6f5d0"
            ],
            [
             0.7,
             "#b8e186"
            ],
            [
             0.8,
             "#7fbc41"
            ],
            [
             0.9,
             "#4d9221"
            ],
            [
             1,
             "#276419"
            ]
           ],
           "sequential": [
            [
             0,
             "#0d0887"
            ],
            [
             0.1111111111111111,
             "#46039f"
            ],
            [
             0.2222222222222222,
             "#7201a8"
            ],
            [
             0.3333333333333333,
             "#9c179e"
            ],
            [
             0.4444444444444444,
             "#bd3786"
            ],
            [
             0.5555555555555556,
             "#d8576b"
            ],
            [
             0.6666666666666666,
             "#ed7953"
            ],
            [
             0.7777777777777778,
             "#fb9f3a"
            ],
            [
             0.8888888888888888,
             "#fdca26"
            ],
            [
             1,
             "#f0f921"
            ]
           ],
           "sequentialminus": [
            [
             0,
             "#0d0887"
            ],
            [
             0.1111111111111111,
             "#46039f"
            ],
            [
             0.2222222222222222,
             "#7201a8"
            ],
            [
             0.3333333333333333,
             "#9c179e"
            ],
            [
             0.4444444444444444,
             "#bd3786"
            ],
            [
             0.5555555555555556,
             "#d8576b"
            ],
            [
             0.6666666666666666,
             "#ed7953"
            ],
            [
             0.7777777777777778,
             "#fb9f3a"
            ],
            [
             0.8888888888888888,
             "#fdca26"
            ],
            [
             1,
             "#f0f921"
            ]
           ]
          },
          "colorway": [
           "#636efa",
           "#EF553B",
           "#00cc96",
           "#ab63fa",
           "#FFA15A",
           "#19d3f3",
           "#FF6692",
           "#B6E880",
           "#FF97FF",
           "#FECB52"
          ],
          "font": {
           "color": "#2a3f5f"
          },
          "geo": {
           "bgcolor": "white",
           "lakecolor": "white",
           "landcolor": "#E5ECF6",
           "showlakes": true,
           "showland": true,
           "subunitcolor": "white"
          },
          "hoverlabel": {
           "align": "left"
          },
          "hovermode": "closest",
          "mapbox": {
           "style": "light"
          },
          "paper_bgcolor": "white",
          "plot_bgcolor": "#E5ECF6",
          "polar": {
           "angularaxis": {
            "gridcolor": "white",
            "linecolor": "white",
            "ticks": ""
           },
           "bgcolor": "#E5ECF6",
           "radialaxis": {
            "gridcolor": "white",
            "linecolor": "white",
            "ticks": ""
           }
          },
          "scene": {
           "xaxis": {
            "backgroundcolor": "#E5ECF6",
            "gridcolor": "white",
            "gridwidth": 2,
            "linecolor": "white",
            "showbackground": true,
            "ticks": "",
            "zerolinecolor": "white"
           },
           "yaxis": {
            "backgroundcolor": "#E5ECF6",
            "gridcolor": "white",
            "gridwidth": 2,
            "linecolor": "white",
            "showbackground": true,
            "ticks": "",
            "zerolinecolor": "white"
           },
           "zaxis": {
            "backgroundcolor": "#E5ECF6",
            "gridcolor": "white",
            "gridwidth": 2,
            "linecolor": "white",
            "showbackground": true,
            "ticks": "",
            "zerolinecolor": "white"
           }
          },
          "shapedefaults": {
           "line": {
            "color": "#2a3f5f"
           }
          },
          "ternary": {
           "aaxis": {
            "gridcolor": "white",
            "linecolor": "white",
            "ticks": ""
           },
           "baxis": {
            "gridcolor": "white",
            "linecolor": "white",
            "ticks": ""
           },
           "bgcolor": "#E5ECF6",
           "caxis": {
            "gridcolor": "white",
            "linecolor": "white",
            "ticks": ""
           }
          },
          "title": {
           "x": 0.05
          },
          "xaxis": {
           "automargin": true,
           "gridcolor": "white",
           "linecolor": "white",
           "ticks": "",
           "title": {
            "standoff": 15
           },
           "zerolinecolor": "white",
           "zerolinewidth": 2
          },
          "yaxis": {
           "automargin": true,
           "gridcolor": "white",
           "linecolor": "white",
           "ticks": "",
           "title": {
            "standoff": 15
           },
           "zerolinecolor": "white",
           "zerolinewidth": 2
          }
         }
        },
        "xaxis": {
         "anchor": "y",
         "domain": [
          0,
          1
         ],
         "title": {
          "text": "index"
         }
        },
        "yaxis": {
         "anchor": "x",
         "domain": [
          0,
          1
         ],
         "title": {
          "text": "value"
         }
        }
       }
      }
     },
     "metadata": {},
     "output_type": "display_data"
    }
   ],
   "source": [
    "px.line(metodos_NvS_sensibilidades.T)"
   ]
  },
  {
   "cell_type": "markdown",
   "metadata": {},
   "source": [
    "## Métodos PVvsPred"
   ]
  },
  {
   "cell_type": "code",
   "execution_count": 13,
   "metadata": {},
   "outputs": [
    {
     "data": {
      "text/html": [
       "<div>\n",
       "<style scoped>\n",
       "    .dataframe tbody tr th:only-of-type {\n",
       "        vertical-align: middle;\n",
       "    }\n",
       "\n",
       "    .dataframe tbody tr th {\n",
       "        vertical-align: top;\n",
       "    }\n",
       "\n",
       "    .dataframe thead th {\n",
       "        text-align: right;\n",
       "    }\n",
       "</style>\n",
       "<table border=\"1\" class=\"dataframe\">\n",
       "  <thead>\n",
       "    <tr style=\"text-align: right;\">\n",
       "      <th></th>\n",
       "      <th>Negro</th>\n",
       "      <th>CurvaCola</th>\n",
       "      <th>Congelado</th>\n",
       "      <th>Hum</th>\n",
       "      <th>Anomalia</th>\n",
       "      <th>MAD_PyOD</th>\n",
       "      <th>MAD_PySAD</th>\n",
       "      <th>SAD</th>\n",
       "    </tr>\n",
       "    <tr>\n",
       "      <th>fecha</th>\n",
       "      <th></th>\n",
       "      <th></th>\n",
       "      <th></th>\n",
       "      <th></th>\n",
       "      <th></th>\n",
       "      <th></th>\n",
       "      <th></th>\n",
       "      <th></th>\n",
       "    </tr>\n",
       "  </thead>\n",
       "  <tbody>\n",
       "    <tr>\n",
       "      <th>2021-08-01 11:06:00</th>\n",
       "      <td>0</td>\n",
       "      <td>1</td>\n",
       "      <td>0</td>\n",
       "      <td>0</td>\n",
       "      <td>1</td>\n",
       "      <td>0</td>\n",
       "      <td>0</td>\n",
       "      <td>0</td>\n",
       "    </tr>\n",
       "    <tr>\n",
       "      <th>2021-03-15 11:15:00</th>\n",
       "      <td>0</td>\n",
       "      <td>0</td>\n",
       "      <td>0</td>\n",
       "      <td>0</td>\n",
       "      <td>0</td>\n",
       "      <td>0</td>\n",
       "      <td>0</td>\n",
       "      <td>0</td>\n",
       "    </tr>\n",
       "    <tr>\n",
       "      <th>2021-10-19 07:04:00</th>\n",
       "      <td>0</td>\n",
       "      <td>0</td>\n",
       "      <td>0</td>\n",
       "      <td>0</td>\n",
       "      <td>0</td>\n",
       "      <td>0</td>\n",
       "      <td>0</td>\n",
       "      <td>0</td>\n",
       "    </tr>\n",
       "    <tr>\n",
       "      <th>2021-04-17 10:46:00</th>\n",
       "      <td>0</td>\n",
       "      <td>0</td>\n",
       "      <td>0</td>\n",
       "      <td>0</td>\n",
       "      <td>0</td>\n",
       "      <td>0</td>\n",
       "      <td>0</td>\n",
       "      <td>0</td>\n",
       "    </tr>\n",
       "    <tr>\n",
       "      <th>2021-03-07 19:50:00</th>\n",
       "      <td>0</td>\n",
       "      <td>0</td>\n",
       "      <td>0</td>\n",
       "      <td>0</td>\n",
       "      <td>0</td>\n",
       "      <td>0</td>\n",
       "      <td>0</td>\n",
       "      <td>0</td>\n",
       "    </tr>\n",
       "  </tbody>\n",
       "</table>\n",
       "</div>"
      ],
      "text/plain": [
       "                     Negro  CurvaCola  Congelado  Hum  Anomalia  MAD_PyOD  \\\n",
       "fecha                                                                       \n",
       "2021-08-01 11:06:00      0          1          0    0         1         0   \n",
       "2021-03-15 11:15:00      0          0          0    0         0         0   \n",
       "2021-10-19 07:04:00      0          0          0    0         0         0   \n",
       "2021-04-17 10:46:00      0          0          0    0         0         0   \n",
       "2021-03-07 19:50:00      0          0          0    0         0         0   \n",
       "\n",
       "                     MAD_PySAD  SAD  \n",
       "fecha                                \n",
       "2021-08-01 11:06:00          0    0  \n",
       "2021-03-15 11:15:00          0    0  \n",
       "2021-10-19 07:04:00          0    0  \n",
       "2021-04-17 10:46:00          0    0  \n",
       "2021-03-07 19:50:00          0    0  "
      ]
     },
     "execution_count": 13,
     "metadata": {},
     "output_type": "execute_result"
    }
   ],
   "source": [
    "metodos_PvP = pd.read_csv('Metodos_PVvsPred/Total/Resultados/PyOD_MAD_completo.csv',index_col='fecha')\n",
    "metodos_PvP = metodos_PvP.drop('Y_pred', axis=1)\n",
    "\n",
    "metodos_PvP['MAD_PyOD'] = pd.read_csv('Metodos_PVvsPred/Total/Resultados/PyOD_MAD_completo.csv',usecols=['fecha','Y_pred'],index_col='fecha')\n",
    "metodos_PvP['MAD_PySAD'] = pd.read_csv('Metodos_PVvsPred/Total/Resultados/PySAD_MAD_completo.csv',usecols=['fecha','Y_pred'],index_col='fecha')\n",
    "metodos_PvP['SAD'] = pd.read_csv('Metodos_PVvsPred/Total/Resultados/PySAD_SAD_completo.csv',usecols=['fecha','Y_pred'],index_col='fecha')\n",
    "\n",
    "metodos_PvP_htm = pd.read_csv('Metodos_PVvsPred/Total/HTM_Uni/HTM_completo.csv',index_col='fecha')\n",
    "metodos_PvP_htm['HTM'] = metodos_PvP_htm['Y_pred']\n",
    "metodos_PvP_htm = metodos_PvP_htm.drop('Y_pred',axis=1)\n",
    "\n",
    "metodos_PvP.head()"
   ]
  },
  {
   "cell_type": "markdown",
   "metadata": {},
   "source": []
  },
  {
   "cell_type": "markdown",
   "metadata": {},
   "source": [
    "### Métricas generales:"
   ]
  },
  {
   "cell_type": "code",
   "execution_count": 14,
   "metadata": {},
   "outputs": [
    {
     "data": {
      "text/html": [
       "<div>\n",
       "<style scoped>\n",
       "    .dataframe tbody tr th:only-of-type {\n",
       "        vertical-align: middle;\n",
       "    }\n",
       "\n",
       "    .dataframe tbody tr th {\n",
       "        vertical-align: top;\n",
       "    }\n",
       "\n",
       "    .dataframe thead th {\n",
       "        text-align: right;\n",
       "    }\n",
       "</style>\n",
       "<table border=\"1\" class=\"dataframe\">\n",
       "  <thead>\n",
       "    <tr style=\"text-align: right;\">\n",
       "      <th></th>\n",
       "      <th>roc_auc</th>\n",
       "      <th>accuracy</th>\n",
       "      <th>precision</th>\n",
       "      <th>kappa</th>\n",
       "      <th>sensibilidad</th>\n",
       "      <th>especificidad</th>\n",
       "    </tr>\n",
       "  </thead>\n",
       "  <tbody>\n",
       "    <tr>\n",
       "      <th>MAD_PyOD</th>\n",
       "      <td>0.598938</td>\n",
       "      <td>0.72659</td>\n",
       "      <td>0.795289</td>\n",
       "      <td>0.242067</td>\n",
       "      <td>0.226408</td>\n",
       "      <td>0.971468</td>\n",
       "    </tr>\n",
       "    <tr>\n",
       "      <th>MAD_PySAD</th>\n",
       "      <td>0.601583</td>\n",
       "      <td>0.726984</td>\n",
       "      <td>0.780426</td>\n",
       "      <td>0.247209</td>\n",
       "      <td>0.235621</td>\n",
       "      <td>0.967545</td>\n",
       "    </tr>\n",
       "    <tr>\n",
       "      <th>SAD</th>\n",
       "      <td>0.601446</td>\n",
       "      <td>0.726913</td>\n",
       "      <td>0.78047</td>\n",
       "      <td>0.246909</td>\n",
       "      <td>0.235294</td>\n",
       "      <td>0.967598</td>\n",
       "    </tr>\n",
       "    <tr>\n",
       "      <th>HTM</th>\n",
       "      <td>0.45648</td>\n",
       "      <td>0.609791</td>\n",
       "      <td>0.048831</td>\n",
       "      <td>-0.109099</td>\n",
       "      <td>0.010219</td>\n",
       "      <td>0.90274</td>\n",
       "    </tr>\n",
       "  </tbody>\n",
       "</table>\n",
       "</div>"
      ],
      "text/plain": [
       "            roc_auc  accuracy precision     kappa sensibilidad especificidad\n",
       "MAD_PyOD   0.598938   0.72659  0.795289  0.242067     0.226408      0.971468\n",
       "MAD_PySAD  0.601583  0.726984  0.780426  0.247209     0.235621      0.967545\n",
       "SAD        0.601446  0.726913   0.78047  0.246909     0.235294      0.967598\n",
       "HTM         0.45648  0.609791  0.048831 -0.109099     0.010219       0.90274"
      ]
     },
     "execution_count": 14,
     "metadata": {},
     "output_type": "execute_result"
    }
   ],
   "source": [
    "metodos_PvP_lista = ['MAD_PyOD','MAD_PySAD','SAD']\n",
    "metodos_PvP_metricas = calc_metricas(metodos_PvP,metodos_PvP_lista)\n",
    "metodos_PvP_metricas = pd.concat([metodos_PvP_metricas,calc_metricas(metodos_PvP_htm, ['HTM'])])\n",
    "metodos_PvP_metricas"
   ]
  },
  {
   "cell_type": "code",
   "execution_count": 15,
   "metadata": {},
   "outputs": [
    {
     "data": {
      "application/vnd.plotly.v1+json": {
       "config": {
        "plotlyServerURL": "https://plot.ly"
       },
       "data": [
        {
         "hovertemplate": "variable=MAD_PyOD<br>index=%{x}<br>value=%{y}<extra></extra>",
         "legendgroup": "MAD_PyOD",
         "line": {
          "color": "#636efa",
          "dash": "solid"
         },
         "marker": {
          "symbol": "circle"
         },
         "mode": "lines",
         "name": "MAD_PyOD",
         "orientation": "v",
         "showlegend": true,
         "type": "scatter",
         "x": [
          "roc_auc",
          "accuracy",
          "precision",
          "kappa",
          "sensibilidad",
          "especificidad"
         ],
         "xaxis": "x",
         "y": [
          0.5989380596955887,
          0.7265902168070238,
          0.7952891612409039,
          0.24206691539963432,
          0.22640789401951697,
          0.9714682253716604
         ],
         "yaxis": "y"
        },
        {
         "hovertemplate": "variable=MAD_PySAD<br>index=%{x}<br>value=%{y}<extra></extra>",
         "legendgroup": "MAD_PySAD",
         "line": {
          "color": "#EF553B",
          "dash": "solid"
         },
         "marker": {
          "symbol": "circle"
         },
         "mode": "lines",
         "name": "MAD_PySAD",
         "orientation": "v",
         "showlegend": true,
         "type": "scatter",
         "x": [
          "roc_auc",
          "accuracy",
          "precision",
          "kappa",
          "sensibilidad",
          "especificidad"
         ],
         "xaxis": "x",
         "y": [
          0.6015829953183129,
          0.7269844113958072,
          0.7804261466233298,
          0.24720854687324245,
          0.23562121790328736,
          0.9675447727333387
         ],
         "yaxis": "y"
        },
        {
         "hovertemplate": "variable=SAD<br>index=%{x}<br>value=%{y}<extra></extra>",
         "legendgroup": "SAD",
         "line": {
          "color": "#00cc96",
          "dash": "solid"
         },
         "marker": {
          "symbol": "circle"
         },
         "mode": "lines",
         "name": "SAD",
         "orientation": "v",
         "showlegend": true,
         "type": "scatter",
         "x": [
          "roc_auc",
          "accuracy",
          "precision",
          "kappa",
          "sensibilidad",
          "especificidad"
         ],
         "xaxis": "x",
         "y": [
          0.6014461353442009,
          0.726912739652392,
          0.7804701627486438,
          0.24690892978888368,
          0.23529411764705882,
          0.967598153041343
         ],
         "yaxis": "y"
        },
        {
         "hovertemplate": "variable=HTM<br>index=%{x}<br>value=%{y}<extra></extra>",
         "legendgroup": "HTM",
         "line": {
          "color": "#ab63fa",
          "dash": "solid"
         },
         "marker": {
          "symbol": "circle"
         },
         "mode": "lines",
         "name": "HTM",
         "orientation": "v",
         "showlegend": true,
         "type": "scatter",
         "x": [
          "roc_auc",
          "accuracy",
          "precision",
          "kappa",
          "sensibilidad",
          "especificidad"
         ],
         "xaxis": "x",
         "y": [
          0.4564798532425383,
          0.6097911470428027,
          0.048831385642737896,
          -0.10909883362642159,
          0.010219344695439508,
          0.9027403617896371
         ],
         "yaxis": "y"
        }
       ],
       "layout": {
        "legend": {
         "title": {
          "text": "variable"
         },
         "tracegroupgap": 0
        },
        "margin": {
         "t": 60
        },
        "template": {
         "data": {
          "bar": [
           {
            "error_x": {
             "color": "#2a3f5f"
            },
            "error_y": {
             "color": "#2a3f5f"
            },
            "marker": {
             "line": {
              "color": "#E5ECF6",
              "width": 0.5
             },
             "pattern": {
              "fillmode": "overlay",
              "size": 10,
              "solidity": 0.2
             }
            },
            "type": "bar"
           }
          ],
          "barpolar": [
           {
            "marker": {
             "line": {
              "color": "#E5ECF6",
              "width": 0.5
             },
             "pattern": {
              "fillmode": "overlay",
              "size": 10,
              "solidity": 0.2
             }
            },
            "type": "barpolar"
           }
          ],
          "carpet": [
           {
            "aaxis": {
             "endlinecolor": "#2a3f5f",
             "gridcolor": "white",
             "linecolor": "white",
             "minorgridcolor": "white",
             "startlinecolor": "#2a3f5f"
            },
            "baxis": {
             "endlinecolor": "#2a3f5f",
             "gridcolor": "white",
             "linecolor": "white",
             "minorgridcolor": "white",
             "startlinecolor": "#2a3f5f"
            },
            "type": "carpet"
           }
          ],
          "choropleth": [
           {
            "colorbar": {
             "outlinewidth": 0,
             "ticks": ""
            },
            "type": "choropleth"
           }
          ],
          "contour": [
           {
            "colorbar": {
             "outlinewidth": 0,
             "ticks": ""
            },
            "colorscale": [
             [
              0,
              "#0d0887"
             ],
             [
              0.1111111111111111,
              "#46039f"
             ],
             [
              0.2222222222222222,
              "#7201a8"
             ],
             [
              0.3333333333333333,
              "#9c179e"
             ],
             [
              0.4444444444444444,
              "#bd3786"
             ],
             [
              0.5555555555555556,
              "#d8576b"
             ],
             [
              0.6666666666666666,
              "#ed7953"
             ],
             [
              0.7777777777777778,
              "#fb9f3a"
             ],
             [
              0.8888888888888888,
              "#fdca26"
             ],
             [
              1,
              "#f0f921"
             ]
            ],
            "type": "contour"
           }
          ],
          "contourcarpet": [
           {
            "colorbar": {
             "outlinewidth": 0,
             "ticks": ""
            },
            "type": "contourcarpet"
           }
          ],
          "heatmap": [
           {
            "colorbar": {
             "outlinewidth": 0,
             "ticks": ""
            },
            "colorscale": [
             [
              0,
              "#0d0887"
             ],
             [
              0.1111111111111111,
              "#46039f"
             ],
             [
              0.2222222222222222,
              "#7201a8"
             ],
             [
              0.3333333333333333,
              "#9c179e"
             ],
             [
              0.4444444444444444,
              "#bd3786"
             ],
             [
              0.5555555555555556,
              "#d8576b"
             ],
             [
              0.6666666666666666,
              "#ed7953"
             ],
             [
              0.7777777777777778,
              "#fb9f3a"
             ],
             [
              0.8888888888888888,
              "#fdca26"
             ],
             [
              1,
              "#f0f921"
             ]
            ],
            "type": "heatmap"
           }
          ],
          "heatmapgl": [
           {
            "colorbar": {
             "outlinewidth": 0,
             "ticks": ""
            },
            "colorscale": [
             [
              0,
              "#0d0887"
             ],
             [
              0.1111111111111111,
              "#46039f"
             ],
             [
              0.2222222222222222,
              "#7201a8"
             ],
             [
              0.3333333333333333,
              "#9c179e"
             ],
             [
              0.4444444444444444,
              "#bd3786"
             ],
             [
              0.5555555555555556,
              "#d8576b"
             ],
             [
              0.6666666666666666,
              "#ed7953"
             ],
             [
              0.7777777777777778,
              "#fb9f3a"
             ],
             [
              0.8888888888888888,
              "#fdca26"
             ],
             [
              1,
              "#f0f921"
             ]
            ],
            "type": "heatmapgl"
           }
          ],
          "histogram": [
           {
            "marker": {
             "pattern": {
              "fillmode": "overlay",
              "size": 10,
              "solidity": 0.2
             }
            },
            "type": "histogram"
           }
          ],
          "histogram2d": [
           {
            "colorbar": {
             "outlinewidth": 0,
             "ticks": ""
            },
            "colorscale": [
             [
              0,
              "#0d0887"
             ],
             [
              0.1111111111111111,
              "#46039f"
             ],
             [
              0.2222222222222222,
              "#7201a8"
             ],
             [
              0.3333333333333333,
              "#9c179e"
             ],
             [
              0.4444444444444444,
              "#bd3786"
             ],
             [
              0.5555555555555556,
              "#d8576b"
             ],
             [
              0.6666666666666666,
              "#ed7953"
             ],
             [
              0.7777777777777778,
              "#fb9f3a"
             ],
             [
              0.8888888888888888,
              "#fdca26"
             ],
             [
              1,
              "#f0f921"
             ]
            ],
            "type": "histogram2d"
           }
          ],
          "histogram2dcontour": [
           {
            "colorbar": {
             "outlinewidth": 0,
             "ticks": ""
            },
            "colorscale": [
             [
              0,
              "#0d0887"
             ],
             [
              0.1111111111111111,
              "#46039f"
             ],
             [
              0.2222222222222222,
              "#7201a8"
             ],
             [
              0.3333333333333333,
              "#9c179e"
             ],
             [
              0.4444444444444444,
              "#bd3786"
             ],
             [
              0.5555555555555556,
              "#d8576b"
             ],
             [
              0.6666666666666666,
              "#ed7953"
             ],
             [
              0.7777777777777778,
              "#fb9f3a"
             ],
             [
              0.8888888888888888,
              "#fdca26"
             ],
             [
              1,
              "#f0f921"
             ]
            ],
            "type": "histogram2dcontour"
           }
          ],
          "mesh3d": [
           {
            "colorbar": {
             "outlinewidth": 0,
             "ticks": ""
            },
            "type": "mesh3d"
           }
          ],
          "parcoords": [
           {
            "line": {
             "colorbar": {
              "outlinewidth": 0,
              "ticks": ""
             }
            },
            "type": "parcoords"
           }
          ],
          "pie": [
           {
            "automargin": true,
            "type": "pie"
           }
          ],
          "scatter": [
           {
            "fillpattern": {
             "fillmode": "overlay",
             "size": 10,
             "solidity": 0.2
            },
            "type": "scatter"
           }
          ],
          "scatter3d": [
           {
            "line": {
             "colorbar": {
              "outlinewidth": 0,
              "ticks": ""
             }
            },
            "marker": {
             "colorbar": {
              "outlinewidth": 0,
              "ticks": ""
             }
            },
            "type": "scatter3d"
           }
          ],
          "scattercarpet": [
           {
            "marker": {
             "colorbar": {
              "outlinewidth": 0,
              "ticks": ""
             }
            },
            "type": "scattercarpet"
           }
          ],
          "scattergeo": [
           {
            "marker": {
             "colorbar": {
              "outlinewidth": 0,
              "ticks": ""
             }
            },
            "type": "scattergeo"
           }
          ],
          "scattergl": [
           {
            "marker": {
             "colorbar": {
              "outlinewidth": 0,
              "ticks": ""
             }
            },
            "type": "scattergl"
           }
          ],
          "scattermapbox": [
           {
            "marker": {
             "colorbar": {
              "outlinewidth": 0,
              "ticks": ""
             }
            },
            "type": "scattermapbox"
           }
          ],
          "scatterpolar": [
           {
            "marker": {
             "colorbar": {
              "outlinewidth": 0,
              "ticks": ""
             }
            },
            "type": "scatterpolar"
           }
          ],
          "scatterpolargl": [
           {
            "marker": {
             "colorbar": {
              "outlinewidth": 0,
              "ticks": ""
             }
            },
            "type": "scatterpolargl"
           }
          ],
          "scatterternary": [
           {
            "marker": {
             "colorbar": {
              "outlinewidth": 0,
              "ticks": ""
             }
            },
            "type": "scatterternary"
           }
          ],
          "surface": [
           {
            "colorbar": {
             "outlinewidth": 0,
             "ticks": ""
            },
            "colorscale": [
             [
              0,
              "#0d0887"
             ],
             [
              0.1111111111111111,
              "#46039f"
             ],
             [
              0.2222222222222222,
              "#7201a8"
             ],
             [
              0.3333333333333333,
              "#9c179e"
             ],
             [
              0.4444444444444444,
              "#bd3786"
             ],
             [
              0.5555555555555556,
              "#d8576b"
             ],
             [
              0.6666666666666666,
              "#ed7953"
             ],
             [
              0.7777777777777778,
              "#fb9f3a"
             ],
             [
              0.8888888888888888,
              "#fdca26"
             ],
             [
              1,
              "#f0f921"
             ]
            ],
            "type": "surface"
           }
          ],
          "table": [
           {
            "cells": {
             "fill": {
              "color": "#EBF0F8"
             },
             "line": {
              "color": "white"
             }
            },
            "header": {
             "fill": {
              "color": "#C8D4E3"
             },
             "line": {
              "color": "white"
             }
            },
            "type": "table"
           }
          ]
         },
         "layout": {
          "annotationdefaults": {
           "arrowcolor": "#2a3f5f",
           "arrowhead": 0,
           "arrowwidth": 1
          },
          "autotypenumbers": "strict",
          "coloraxis": {
           "colorbar": {
            "outlinewidth": 0,
            "ticks": ""
           }
          },
          "colorscale": {
           "diverging": [
            [
             0,
             "#8e0152"
            ],
            [
             0.1,
             "#c51b7d"
            ],
            [
             0.2,
             "#de77ae"
            ],
            [
             0.3,
             "#f1b6da"
            ],
            [
             0.4,
             "#fde0ef"
            ],
            [
             0.5,
             "#f7f7f7"
            ],
            [
             0.6,
             "#e6f5d0"
            ],
            [
             0.7,
             "#b8e186"
            ],
            [
             0.8,
             "#7fbc41"
            ],
            [
             0.9,
             "#4d9221"
            ],
            [
             1,
             "#276419"
            ]
           ],
           "sequential": [
            [
             0,
             "#0d0887"
            ],
            [
             0.1111111111111111,
             "#46039f"
            ],
            [
             0.2222222222222222,
             "#7201a8"
            ],
            [
             0.3333333333333333,
             "#9c179e"
            ],
            [
             0.4444444444444444,
             "#bd3786"
            ],
            [
             0.5555555555555556,
             "#d8576b"
            ],
            [
             0.6666666666666666,
             "#ed7953"
            ],
            [
             0.7777777777777778,
             "#fb9f3a"
            ],
            [
             0.8888888888888888,
             "#fdca26"
            ],
            [
             1,
             "#f0f921"
            ]
           ],
           "sequentialminus": [
            [
             0,
             "#0d0887"
            ],
            [
             0.1111111111111111,
             "#46039f"
            ],
            [
             0.2222222222222222,
             "#7201a8"
            ],
            [
             0.3333333333333333,
             "#9c179e"
            ],
            [
             0.4444444444444444,
             "#bd3786"
            ],
            [
             0.5555555555555556,
             "#d8576b"
            ],
            [
             0.6666666666666666,
             "#ed7953"
            ],
            [
             0.7777777777777778,
             "#fb9f3a"
            ],
            [
             0.8888888888888888,
             "#fdca26"
            ],
            [
             1,
             "#f0f921"
            ]
           ]
          },
          "colorway": [
           "#636efa",
           "#EF553B",
           "#00cc96",
           "#ab63fa",
           "#FFA15A",
           "#19d3f3",
           "#FF6692",
           "#B6E880",
           "#FF97FF",
           "#FECB52"
          ],
          "font": {
           "color": "#2a3f5f"
          },
          "geo": {
           "bgcolor": "white",
           "lakecolor": "white",
           "landcolor": "#E5ECF6",
           "showlakes": true,
           "showland": true,
           "subunitcolor": "white"
          },
          "hoverlabel": {
           "align": "left"
          },
          "hovermode": "closest",
          "mapbox": {
           "style": "light"
          },
          "paper_bgcolor": "white",
          "plot_bgcolor": "#E5ECF6",
          "polar": {
           "angularaxis": {
            "gridcolor": "white",
            "linecolor": "white",
            "ticks": ""
           },
           "bgcolor": "#E5ECF6",
           "radialaxis": {
            "gridcolor": "white",
            "linecolor": "white",
            "ticks": ""
           }
          },
          "scene": {
           "xaxis": {
            "backgroundcolor": "#E5ECF6",
            "gridcolor": "white",
            "gridwidth": 2,
            "linecolor": "white",
            "showbackground": true,
            "ticks": "",
            "zerolinecolor": "white"
           },
           "yaxis": {
            "backgroundcolor": "#E5ECF6",
            "gridcolor": "white",
            "gridwidth": 2,
            "linecolor": "white",
            "showbackground": true,
            "ticks": "",
            "zerolinecolor": "white"
           },
           "zaxis": {
            "backgroundcolor": "#E5ECF6",
            "gridcolor": "white",
            "gridwidth": 2,
            "linecolor": "white",
            "showbackground": true,
            "ticks": "",
            "zerolinecolor": "white"
           }
          },
          "shapedefaults": {
           "line": {
            "color": "#2a3f5f"
           }
          },
          "ternary": {
           "aaxis": {
            "gridcolor": "white",
            "linecolor": "white",
            "ticks": ""
           },
           "baxis": {
            "gridcolor": "white",
            "linecolor": "white",
            "ticks": ""
           },
           "bgcolor": "#E5ECF6",
           "caxis": {
            "gridcolor": "white",
            "linecolor": "white",
            "ticks": ""
           }
          },
          "title": {
           "x": 0.05
          },
          "xaxis": {
           "automargin": true,
           "gridcolor": "white",
           "linecolor": "white",
           "ticks": "",
           "title": {
            "standoff": 15
           },
           "zerolinecolor": "white",
           "zerolinewidth": 2
          },
          "yaxis": {
           "automargin": true,
           "gridcolor": "white",
           "linecolor": "white",
           "ticks": "",
           "title": {
            "standoff": 15
           },
           "zerolinecolor": "white",
           "zerolinewidth": 2
          }
         }
        },
        "xaxis": {
         "anchor": "y",
         "domain": [
          0,
          1
         ],
         "title": {
          "text": "index"
         }
        },
        "yaxis": {
         "anchor": "x",
         "domain": [
          0,
          1
         ],
         "title": {
          "text": "value"
         }
        }
       }
      }
     },
     "metadata": {},
     "output_type": "display_data"
    }
   ],
   "source": [
    "px.line(metodos_PvP_metricas.T)"
   ]
  },
  {
   "cell_type": "markdown",
   "metadata": {},
   "source": [
    "### Sensibilidad por tipo de anomalía"
   ]
  },
  {
   "cell_type": "code",
   "execution_count": 16,
   "metadata": {},
   "outputs": [
    {
     "data": {
      "text/html": [
       "<div>\n",
       "<style scoped>\n",
       "    .dataframe tbody tr th:only-of-type {\n",
       "        vertical-align: middle;\n",
       "    }\n",
       "\n",
       "    .dataframe tbody tr th {\n",
       "        vertical-align: top;\n",
       "    }\n",
       "\n",
       "    .dataframe thead th {\n",
       "        text-align: right;\n",
       "    }\n",
       "</style>\n",
       "<table border=\"1\" class=\"dataframe\">\n",
       "  <thead>\n",
       "    <tr style=\"text-align: right;\">\n",
       "      <th></th>\n",
       "      <th>Anomalia</th>\n",
       "      <th>Negro</th>\n",
       "      <th>Congelado</th>\n",
       "      <th>Hum</th>\n",
       "      <th>CurvaCola</th>\n",
       "    </tr>\n",
       "  </thead>\n",
       "  <tbody>\n",
       "    <tr>\n",
       "      <th>MAD_PyOD</th>\n",
       "      <td>0.226408</td>\n",
       "      <td>0.739693</td>\n",
       "      <td>0.904681</td>\n",
       "      <td>0.247492</td>\n",
       "      <td>0.114321</td>\n",
       "    </tr>\n",
       "    <tr>\n",
       "      <th>MAD_PySAD</th>\n",
       "      <td>0.235621</td>\n",
       "      <td>0.755591</td>\n",
       "      <td>0.904963</td>\n",
       "      <td>0.374582</td>\n",
       "      <td>0.122916</td>\n",
       "    </tr>\n",
       "    <tr>\n",
       "      <th>SAD</th>\n",
       "      <td>0.235294</td>\n",
       "      <td>0.7564</td>\n",
       "      <td>0.904963</td>\n",
       "      <td>0.351171</td>\n",
       "      <td>0.122851</td>\n",
       "    </tr>\n",
       "    <tr>\n",
       "      <th>HTM</th>\n",
       "      <td>0.010219</td>\n",
       "      <td>0.0</td>\n",
       "      <td>0.009563</td>\n",
       "      <td>0.014426</td>\n",
       "      <td>0.009657</td>\n",
       "    </tr>\n",
       "  </tbody>\n",
       "</table>\n",
       "</div>"
      ],
      "text/plain": [
       "           Anomalia     Negro Congelado       Hum CurvaCola\n",
       "MAD_PyOD   0.226408  0.739693  0.904681  0.247492  0.114321\n",
       "MAD_PySAD  0.235621  0.755591  0.904963  0.374582  0.122916\n",
       "SAD        0.235294    0.7564  0.904963  0.351171  0.122851\n",
       "HTM        0.010219       0.0  0.009563  0.014426  0.009657"
      ]
     },
     "execution_count": 16,
     "metadata": {},
     "output_type": "execute_result"
    }
   ],
   "source": [
    "metodos_PvP_sensibilidades = calc_sensibilidad(metodos_PvP,metodos_PvP_lista,anomalias)\n",
    "metodos_PvP_sensibilidades = pd.concat([metodos_PvP_sensibilidades,calc_sensibilidad(metodos_PvP_htm, ['HTM'], anomalias)])\n",
    "metodos_PvP_sensibilidades"
   ]
  },
  {
   "cell_type": "code",
   "execution_count": 17,
   "metadata": {},
   "outputs": [
    {
     "data": {
      "application/vnd.plotly.v1+json": {
       "config": {
        "plotlyServerURL": "https://plot.ly"
       },
       "data": [
        {
         "hovertemplate": "variable=MAD_PyOD<br>index=%{x}<br>value=%{y}<extra></extra>",
         "legendgroup": "MAD_PyOD",
         "line": {
          "color": "#636efa",
          "dash": "solid"
         },
         "marker": {
          "symbol": "circle"
         },
         "mode": "lines",
         "name": "MAD_PyOD",
         "orientation": "v",
         "showlegend": true,
         "type": "scatter",
         "x": [
          "Anomalia",
          "Negro",
          "Congelado",
          "Hum",
          "CurvaCola"
         ],
         "xaxis": "x",
         "y": [
          0.22640789401951697,
          0.7396928051738076,
          0.9046813310772701,
          0.24749163879598662,
          0.11432079617422773
         ],
         "yaxis": "y"
        },
        {
         "hovertemplate": "variable=MAD_PySAD<br>index=%{x}<br>value=%{y}<extra></extra>",
         "legendgroup": "MAD_PySAD",
         "line": {
          "color": "#EF553B",
          "dash": "solid"
         },
         "marker": {
          "symbol": "circle"
         },
         "mode": "lines",
         "name": "MAD_PySAD",
         "orientation": "v",
         "showlegend": true,
         "type": "scatter",
         "x": [
          "Anomalia",
          "Negro",
          "Congelado",
          "Hum",
          "CurvaCola"
         ],
         "xaxis": "x",
         "y": [
          0.23562121790328736,
          0.7555914847749933,
          0.9049633389734912,
          0.3745819397993311,
          0.12291585886002326
         ],
         "yaxis": "y"
        },
        {
         "hovertemplate": "variable=SAD<br>index=%{x}<br>value=%{y}<extra></extra>",
         "legendgroup": "SAD",
         "line": {
          "color": "#00cc96",
          "dash": "solid"
         },
         "marker": {
          "symbol": "circle"
         },
         "mode": "lines",
         "name": "SAD",
         "orientation": "v",
         "showlegend": true,
         "type": "scatter",
         "x": [
          "Anomalia",
          "Negro",
          "Congelado",
          "Hum",
          "CurvaCola"
         ],
         "xaxis": "x",
         "y": [
          0.23529411764705882,
          0.7563998922123417,
          0.9049633389734912,
          0.3511705685618729,
          0.12285123432855112
         ],
         "yaxis": "y"
        },
        {
         "hovertemplate": "variable=HTM<br>index=%{x}<br>value=%{y}<extra></extra>",
         "legendgroup": "HTM",
         "line": {
          "color": "#ab63fa",
          "dash": "solid"
         },
         "marker": {
          "symbol": "circle"
         },
         "mode": "lines",
         "name": "HTM",
         "orientation": "v",
         "showlegend": true,
         "type": "scatter",
         "x": [
          "Anomalia",
          "Negro",
          "Congelado",
          "Hum",
          "CurvaCola"
         ],
         "xaxis": "x",
         "y": [
          0.010219344695439508,
          0,
          0.009563150746944318,
          0.014426229508196721,
          0.009656721620470184
         ],
         "yaxis": "y"
        }
       ],
       "layout": {
        "legend": {
         "title": {
          "text": "variable"
         },
         "tracegroupgap": 0
        },
        "margin": {
         "t": 60
        },
        "template": {
         "data": {
          "bar": [
           {
            "error_x": {
             "color": "#2a3f5f"
            },
            "error_y": {
             "color": "#2a3f5f"
            },
            "marker": {
             "line": {
              "color": "#E5ECF6",
              "width": 0.5
             },
             "pattern": {
              "fillmode": "overlay",
              "size": 10,
              "solidity": 0.2
             }
            },
            "type": "bar"
           }
          ],
          "barpolar": [
           {
            "marker": {
             "line": {
              "color": "#E5ECF6",
              "width": 0.5
             },
             "pattern": {
              "fillmode": "overlay",
              "size": 10,
              "solidity": 0.2
             }
            },
            "type": "barpolar"
           }
          ],
          "carpet": [
           {
            "aaxis": {
             "endlinecolor": "#2a3f5f",
             "gridcolor": "white",
             "linecolor": "white",
             "minorgridcolor": "white",
             "startlinecolor": "#2a3f5f"
            },
            "baxis": {
             "endlinecolor": "#2a3f5f",
             "gridcolor": "white",
             "linecolor": "white",
             "minorgridcolor": "white",
             "startlinecolor": "#2a3f5f"
            },
            "type": "carpet"
           }
          ],
          "choropleth": [
           {
            "colorbar": {
             "outlinewidth": 0,
             "ticks": ""
            },
            "type": "choropleth"
           }
          ],
          "contour": [
           {
            "colorbar": {
             "outlinewidth": 0,
             "ticks": ""
            },
            "colorscale": [
             [
              0,
              "#0d0887"
             ],
             [
              0.1111111111111111,
              "#46039f"
             ],
             [
              0.2222222222222222,
              "#7201a8"
             ],
             [
              0.3333333333333333,
              "#9c179e"
             ],
             [
              0.4444444444444444,
              "#bd3786"
             ],
             [
              0.5555555555555556,
              "#d8576b"
             ],
             [
              0.6666666666666666,
              "#ed7953"
             ],
             [
              0.7777777777777778,
              "#fb9f3a"
             ],
             [
              0.8888888888888888,
              "#fdca26"
             ],
             [
              1,
              "#f0f921"
             ]
            ],
            "type": "contour"
           }
          ],
          "contourcarpet": [
           {
            "colorbar": {
             "outlinewidth": 0,
             "ticks": ""
            },
            "type": "contourcarpet"
           }
          ],
          "heatmap": [
           {
            "colorbar": {
             "outlinewidth": 0,
             "ticks": ""
            },
            "colorscale": [
             [
              0,
              "#0d0887"
             ],
             [
              0.1111111111111111,
              "#46039f"
             ],
             [
              0.2222222222222222,
              "#7201a8"
             ],
             [
              0.3333333333333333,
              "#9c179e"
             ],
             [
              0.4444444444444444,
              "#bd3786"
             ],
             [
              0.5555555555555556,
              "#d8576b"
             ],
             [
              0.6666666666666666,
              "#ed7953"
             ],
             [
              0.7777777777777778,
              "#fb9f3a"
             ],
             [
              0.8888888888888888,
              "#fdca26"
             ],
             [
              1,
              "#f0f921"
             ]
            ],
            "type": "heatmap"
           }
          ],
          "heatmapgl": [
           {
            "colorbar": {
             "outlinewidth": 0,
             "ticks": ""
            },
            "colorscale": [
             [
              0,
              "#0d0887"
             ],
             [
              0.1111111111111111,
              "#46039f"
             ],
             [
              0.2222222222222222,
              "#7201a8"
             ],
             [
              0.3333333333333333,
              "#9c179e"
             ],
             [
              0.4444444444444444,
              "#bd3786"
             ],
             [
              0.5555555555555556,
              "#d8576b"
             ],
             [
              0.6666666666666666,
              "#ed7953"
             ],
             [
              0.7777777777777778,
              "#fb9f3a"
             ],
             [
              0.8888888888888888,
              "#fdca26"
             ],
             [
              1,
              "#f0f921"
             ]
            ],
            "type": "heatmapgl"
           }
          ],
          "histogram": [
           {
            "marker": {
             "pattern": {
              "fillmode": "overlay",
              "size": 10,
              "solidity": 0.2
             }
            },
            "type": "histogram"
           }
          ],
          "histogram2d": [
           {
            "colorbar": {
             "outlinewidth": 0,
             "ticks": ""
            },
            "colorscale": [
             [
              0,
              "#0d0887"
             ],
             [
              0.1111111111111111,
              "#46039f"
             ],
             [
              0.2222222222222222,
              "#7201a8"
             ],
             [
              0.3333333333333333,
              "#9c179e"
             ],
             [
              0.4444444444444444,
              "#bd3786"
             ],
             [
              0.5555555555555556,
              "#d8576b"
             ],
             [
              0.6666666666666666,
              "#ed7953"
             ],
             [
              0.7777777777777778,
              "#fb9f3a"
             ],
             [
              0.8888888888888888,
              "#fdca26"
             ],
             [
              1,
              "#f0f921"
             ]
            ],
            "type": "histogram2d"
           }
          ],
          "histogram2dcontour": [
           {
            "colorbar": {
             "outlinewidth": 0,
             "ticks": ""
            },
            "colorscale": [
             [
              0,
              "#0d0887"
             ],
             [
              0.1111111111111111,
              "#46039f"
             ],
             [
              0.2222222222222222,
              "#7201a8"
             ],
             [
              0.3333333333333333,
              "#9c179e"
             ],
             [
              0.4444444444444444,
              "#bd3786"
             ],
             [
              0.5555555555555556,
              "#d8576b"
             ],
             [
              0.6666666666666666,
              "#ed7953"
             ],
             [
              0.7777777777777778,
              "#fb9f3a"
             ],
             [
              0.8888888888888888,
              "#fdca26"
             ],
             [
              1,
              "#f0f921"
             ]
            ],
            "type": "histogram2dcontour"
           }
          ],
          "mesh3d": [
           {
            "colorbar": {
             "outlinewidth": 0,
             "ticks": ""
            },
            "type": "mesh3d"
           }
          ],
          "parcoords": [
           {
            "line": {
             "colorbar": {
              "outlinewidth": 0,
              "ticks": ""
             }
            },
            "type": "parcoords"
           }
          ],
          "pie": [
           {
            "automargin": true,
            "type": "pie"
           }
          ],
          "scatter": [
           {
            "fillpattern": {
             "fillmode": "overlay",
             "size": 10,
             "solidity": 0.2
            },
            "type": "scatter"
           }
          ],
          "scatter3d": [
           {
            "line": {
             "colorbar": {
              "outlinewidth": 0,
              "ticks": ""
             }
            },
            "marker": {
             "colorbar": {
              "outlinewidth": 0,
              "ticks": ""
             }
            },
            "type": "scatter3d"
           }
          ],
          "scattercarpet": [
           {
            "marker": {
             "colorbar": {
              "outlinewidth": 0,
              "ticks": ""
             }
            },
            "type": "scattercarpet"
           }
          ],
          "scattergeo": [
           {
            "marker": {
             "colorbar": {
              "outlinewidth": 0,
              "ticks": ""
             }
            },
            "type": "scattergeo"
           }
          ],
          "scattergl": [
           {
            "marker": {
             "colorbar": {
              "outlinewidth": 0,
              "ticks": ""
             }
            },
            "type": "scattergl"
           }
          ],
          "scattermapbox": [
           {
            "marker": {
             "colorbar": {
              "outlinewidth": 0,
              "ticks": ""
             }
            },
            "type": "scattermapbox"
           }
          ],
          "scatterpolar": [
           {
            "marker": {
             "colorbar": {
              "outlinewidth": 0,
              "ticks": ""
             }
            },
            "type": "scatterpolar"
           }
          ],
          "scatterpolargl": [
           {
            "marker": {
             "colorbar": {
              "outlinewidth": 0,
              "ticks": ""
             }
            },
            "type": "scatterpolargl"
           }
          ],
          "scatterternary": [
           {
            "marker": {
             "colorbar": {
              "outlinewidth": 0,
              "ticks": ""
             }
            },
            "type": "scatterternary"
           }
          ],
          "surface": [
           {
            "colorbar": {
             "outlinewidth": 0,
             "ticks": ""
            },
            "colorscale": [
             [
              0,
              "#0d0887"
             ],
             [
              0.1111111111111111,
              "#46039f"
             ],
             [
              0.2222222222222222,
              "#7201a8"
             ],
             [
              0.3333333333333333,
              "#9c179e"
             ],
             [
              0.4444444444444444,
              "#bd3786"
             ],
             [
              0.5555555555555556,
              "#d8576b"
             ],
             [
              0.6666666666666666,
              "#ed7953"
             ],
             [
              0.7777777777777778,
              "#fb9f3a"
             ],
             [
              0.8888888888888888,
              "#fdca26"
             ],
             [
              1,
              "#f0f921"
             ]
            ],
            "type": "surface"
           }
          ],
          "table": [
           {
            "cells": {
             "fill": {
              "color": "#EBF0F8"
             },
             "line": {
              "color": "white"
             }
            },
            "header": {
             "fill": {
              "color": "#C8D4E3"
             },
             "line": {
              "color": "white"
             }
            },
            "type": "table"
           }
          ]
         },
         "layout": {
          "annotationdefaults": {
           "arrowcolor": "#2a3f5f",
           "arrowhead": 0,
           "arrowwidth": 1
          },
          "autotypenumbers": "strict",
          "coloraxis": {
           "colorbar": {
            "outlinewidth": 0,
            "ticks": ""
           }
          },
          "colorscale": {
           "diverging": [
            [
             0,
             "#8e0152"
            ],
            [
             0.1,
             "#c51b7d"
            ],
            [
             0.2,
             "#de77ae"
            ],
            [
             0.3,
             "#f1b6da"
            ],
            [
             0.4,
             "#fde0ef"
            ],
            [
             0.5,
             "#f7f7f7"
            ],
            [
             0.6,
             "#e6f5d0"
            ],
            [
             0.7,
             "#b8e186"
            ],
            [
             0.8,
             "#7fbc41"
            ],
            [
             0.9,
             "#4d9221"
            ],
            [
             1,
             "#276419"
            ]
           ],
           "sequential": [
            [
             0,
             "#0d0887"
            ],
            [
             0.1111111111111111,
             "#46039f"
            ],
            [
             0.2222222222222222,
             "#7201a8"
            ],
            [
             0.3333333333333333,
             "#9c179e"
            ],
            [
             0.4444444444444444,
             "#bd3786"
            ],
            [
             0.5555555555555556,
             "#d8576b"
            ],
            [
             0.6666666666666666,
             "#ed7953"
            ],
            [
             0.7777777777777778,
             "#fb9f3a"
            ],
            [
             0.8888888888888888,
             "#fdca26"
            ],
            [
             1,
             "#f0f921"
            ]
           ],
           "sequentialminus": [
            [
             0,
             "#0d0887"
            ],
            [
             0.1111111111111111,
             "#46039f"
            ],
            [
             0.2222222222222222,
             "#7201a8"
            ],
            [
             0.3333333333333333,
             "#9c179e"
            ],
            [
             0.4444444444444444,
             "#bd3786"
            ],
            [
             0.5555555555555556,
             "#d8576b"
            ],
            [
             0.6666666666666666,
             "#ed7953"
            ],
            [
             0.7777777777777778,
             "#fb9f3a"
            ],
            [
             0.8888888888888888,
             "#fdca26"
            ],
            [
             1,
             "#f0f921"
            ]
           ]
          },
          "colorway": [
           "#636efa",
           "#EF553B",
           "#00cc96",
           "#ab63fa",
           "#FFA15A",
           "#19d3f3",
           "#FF6692",
           "#B6E880",
           "#FF97FF",
           "#FECB52"
          ],
          "font": {
           "color": "#2a3f5f"
          },
          "geo": {
           "bgcolor": "white",
           "lakecolor": "white",
           "landcolor": "#E5ECF6",
           "showlakes": true,
           "showland": true,
           "subunitcolor": "white"
          },
          "hoverlabel": {
           "align": "left"
          },
          "hovermode": "closest",
          "mapbox": {
           "style": "light"
          },
          "paper_bgcolor": "white",
          "plot_bgcolor": "#E5ECF6",
          "polar": {
           "angularaxis": {
            "gridcolor": "white",
            "linecolor": "white",
            "ticks": ""
           },
           "bgcolor": "#E5ECF6",
           "radialaxis": {
            "gridcolor": "white",
            "linecolor": "white",
            "ticks": ""
           }
          },
          "scene": {
           "xaxis": {
            "backgroundcolor": "#E5ECF6",
            "gridcolor": "white",
            "gridwidth": 2,
            "linecolor": "white",
            "showbackground": true,
            "ticks": "",
            "zerolinecolor": "white"
           },
           "yaxis": {
            "backgroundcolor": "#E5ECF6",
            "gridcolor": "white",
            "gridwidth": 2,
            "linecolor": "white",
            "showbackground": true,
            "ticks": "",
            "zerolinecolor": "white"
           },
           "zaxis": {
            "backgroundcolor": "#E5ECF6",
            "gridcolor": "white",
            "gridwidth": 2,
            "linecolor": "white",
            "showbackground": true,
            "ticks": "",
            "zerolinecolor": "white"
           }
          },
          "shapedefaults": {
           "line": {
            "color": "#2a3f5f"
           }
          },
          "ternary": {
           "aaxis": {
            "gridcolor": "white",
            "linecolor": "white",
            "ticks": ""
           },
           "baxis": {
            "gridcolor": "white",
            "linecolor": "white",
            "ticks": ""
           },
           "bgcolor": "#E5ECF6",
           "caxis": {
            "gridcolor": "white",
            "linecolor": "white",
            "ticks": ""
           }
          },
          "title": {
           "x": 0.05
          },
          "xaxis": {
           "automargin": true,
           "gridcolor": "white",
           "linecolor": "white",
           "ticks": "",
           "title": {
            "standoff": 15
           },
           "zerolinecolor": "white",
           "zerolinewidth": 2
          },
          "yaxis": {
           "automargin": true,
           "gridcolor": "white",
           "linecolor": "white",
           "ticks": "",
           "title": {
            "standoff": 15
           },
           "zerolinecolor": "white",
           "zerolinewidth": 2
          }
         }
        },
        "xaxis": {
         "anchor": "y",
         "domain": [
          0,
          1
         ],
         "title": {
          "text": "index"
         }
        },
        "yaxis": {
         "anchor": "x",
         "domain": [
          0,
          1
         ],
         "title": {
          "text": "value"
         }
        }
       }
      }
     },
     "metadata": {},
     "output_type": "display_data"
    }
   ],
   "source": [
    "px.line(metodos_PvP_sensibilidades.T)"
   ]
  },
  {
   "cell_type": "markdown",
   "metadata": {},
   "source": [
    "## Métodos SoloHum"
   ]
  },
  {
   "cell_type": "code",
   "execution_count": 18,
   "metadata": {},
   "outputs": [
    {
     "data": {
      "text/html": [
       "<div>\n",
       "<style scoped>\n",
       "    .dataframe tbody tr th:only-of-type {\n",
       "        vertical-align: middle;\n",
       "    }\n",
       "\n",
       "    .dataframe tbody tr th {\n",
       "        vertical-align: top;\n",
       "    }\n",
       "\n",
       "    .dataframe thead th {\n",
       "        text-align: right;\n",
       "    }\n",
       "</style>\n",
       "<table border=\"1\" class=\"dataframe\">\n",
       "  <thead>\n",
       "    <tr style=\"text-align: right;\">\n",
       "      <th></th>\n",
       "      <th>Negro</th>\n",
       "      <th>CurvaCola</th>\n",
       "      <th>Congelado</th>\n",
       "      <th>Hum</th>\n",
       "      <th>Anomalia</th>\n",
       "      <th>HBOS</th>\n",
       "      <th>IForest</th>\n",
       "      <th>KNN</th>\n",
       "    </tr>\n",
       "    <tr>\n",
       "      <th>fecha</th>\n",
       "      <th></th>\n",
       "      <th></th>\n",
       "      <th></th>\n",
       "      <th></th>\n",
       "      <th></th>\n",
       "      <th></th>\n",
       "      <th></th>\n",
       "      <th></th>\n",
       "    </tr>\n",
       "  </thead>\n",
       "  <tbody>\n",
       "    <tr>\n",
       "      <th>2021-08-01 11:06:00</th>\n",
       "      <td>0</td>\n",
       "      <td>1</td>\n",
       "      <td>0</td>\n",
       "      <td>0</td>\n",
       "      <td>1</td>\n",
       "      <td>0</td>\n",
       "      <td>0</td>\n",
       "      <td>1</td>\n",
       "    </tr>\n",
       "    <tr>\n",
       "      <th>2021-03-15 11:15:00</th>\n",
       "      <td>0</td>\n",
       "      <td>0</td>\n",
       "      <td>0</td>\n",
       "      <td>0</td>\n",
       "      <td>0</td>\n",
       "      <td>0</td>\n",
       "      <td>0</td>\n",
       "      <td>0</td>\n",
       "    </tr>\n",
       "    <tr>\n",
       "      <th>2021-10-19 07:04:00</th>\n",
       "      <td>0</td>\n",
       "      <td>0</td>\n",
       "      <td>0</td>\n",
       "      <td>0</td>\n",
       "      <td>0</td>\n",
       "      <td>0</td>\n",
       "      <td>0</td>\n",
       "      <td>0</td>\n",
       "    </tr>\n",
       "    <tr>\n",
       "      <th>2021-04-17 10:46:00</th>\n",
       "      <td>0</td>\n",
       "      <td>0</td>\n",
       "      <td>0</td>\n",
       "      <td>0</td>\n",
       "      <td>0</td>\n",
       "      <td>0</td>\n",
       "      <td>0</td>\n",
       "      <td>0</td>\n",
       "    </tr>\n",
       "    <tr>\n",
       "      <th>2021-03-07 19:50:00</th>\n",
       "      <td>0</td>\n",
       "      <td>0</td>\n",
       "      <td>0</td>\n",
       "      <td>0</td>\n",
       "      <td>0</td>\n",
       "      <td>0</td>\n",
       "      <td>0</td>\n",
       "      <td>0</td>\n",
       "    </tr>\n",
       "  </tbody>\n",
       "</table>\n",
       "</div>"
      ],
      "text/plain": [
       "                     Negro  CurvaCola  Congelado  Hum  Anomalia  HBOS  \\\n",
       "fecha                                                                   \n",
       "2021-08-01 11:06:00      0          1          0    0         1     0   \n",
       "2021-03-15 11:15:00      0          0          0    0         0     0   \n",
       "2021-10-19 07:04:00      0          0          0    0         0     0   \n",
       "2021-04-17 10:46:00      0          0          0    0         0     0   \n",
       "2021-03-07 19:50:00      0          0          0    0         0     0   \n",
       "\n",
       "                     IForest  KNN  \n",
       "fecha                              \n",
       "2021-08-01 11:06:00        0    1  \n",
       "2021-03-15 11:15:00        0    0  \n",
       "2021-10-19 07:04:00        0    0  \n",
       "2021-04-17 10:46:00        0    0  \n",
       "2021-03-07 19:50:00        0    0  "
      ]
     },
     "execution_count": 18,
     "metadata": {},
     "output_type": "execute_result"
    }
   ],
   "source": [
    "metodos_SH = pd.read_csv('Metodos_SoloHumedades/Total/Resultados/PyOD_HBOS_completo.csv',index_col='fecha')\n",
    "metodos_SH = metodos_SH.drop('Y_pred', axis=1)\n",
    "\n",
    "metodos_SH['HBOS'] = pd.read_csv('Metodos_SoloHumedades/Total/Resultados/PyOD_HBOS_completo.csv',usecols=['fecha','Y_pred'],index_col='fecha')\n",
    "metodos_SH['IForest'] = pd.read_csv('Metodos_SoloHumedades/Total/Resultados/PyOD_IForest_completo.csv',usecols=['fecha','Y_pred'],index_col='fecha')\n",
    "metodos_SH['KNN'] = pd.read_csv('Metodos_SoloHumedades/Total/Resultados/PyOD_KNN_completo.csv',usecols=['fecha','Y_pred'],index_col='fecha')\n",
    "\n",
    "metodos_SH.head()"
   ]
  },
  {
   "cell_type": "markdown",
   "metadata": {},
   "source": []
  },
  {
   "cell_type": "markdown",
   "metadata": {},
   "source": [
    "### Métricas generales:"
   ]
  },
  {
   "cell_type": "code",
   "execution_count": 19,
   "metadata": {},
   "outputs": [
    {
     "data": {
      "text/html": [
       "<div>\n",
       "<style scoped>\n",
       "    .dataframe tbody tr th:only-of-type {\n",
       "        vertical-align: middle;\n",
       "    }\n",
       "\n",
       "    .dataframe tbody tr th {\n",
       "        vertical-align: top;\n",
       "    }\n",
       "\n",
       "    .dataframe thead th {\n",
       "        text-align: right;\n",
       "    }\n",
       "</style>\n",
       "<table border=\"1\" class=\"dataframe\">\n",
       "  <thead>\n",
       "    <tr style=\"text-align: right;\">\n",
       "      <th></th>\n",
       "      <th>roc_auc</th>\n",
       "      <th>accuracy</th>\n",
       "      <th>precision</th>\n",
       "      <th>kappa</th>\n",
       "      <th>sensibilidad</th>\n",
       "      <th>especificidad</th>\n",
       "    </tr>\n",
       "  </thead>\n",
       "  <tbody>\n",
       "    <tr>\n",
       "      <th>HBOS</th>\n",
       "      <td>0.605282</td>\n",
       "      <td>0.733614</td>\n",
       "      <td>0.848297</td>\n",
       "      <td>0.25861</td>\n",
       "      <td>0.230769</td>\n",
       "      <td>0.979796</td>\n",
       "    </tr>\n",
       "    <tr>\n",
       "      <th>IForest</th>\n",
       "      <td>0.606904</td>\n",
       "      <td>0.731625</td>\n",
       "      <td>0.803317</td>\n",
       "      <td>0.260117</td>\n",
       "      <td>0.242926</td>\n",
       "      <td>0.970881</td>\n",
       "    </tr>\n",
       "    <tr>\n",
       "      <th>KNN</th>\n",
       "      <td>0.539609</td>\n",
       "      <td>0.672711</td>\n",
       "      <td>0.50704</td>\n",
       "      <td>0.096504</td>\n",
       "      <td>0.151175</td>\n",
       "      <td>0.928043</td>\n",
       "    </tr>\n",
       "  </tbody>\n",
       "</table>\n",
       "</div>"
      ],
      "text/plain": [
       "          roc_auc  accuracy precision     kappa sensibilidad especificidad\n",
       "HBOS     0.605282  0.733614  0.848297   0.25861     0.230769      0.979796\n",
       "IForest  0.606904  0.731625  0.803317  0.260117     0.242926      0.970881\n",
       "KNN      0.539609  0.672711   0.50704  0.096504     0.151175      0.928043"
      ]
     },
     "execution_count": 19,
     "metadata": {},
     "output_type": "execute_result"
    }
   ],
   "source": [
    "metodos_SH_lista = ['HBOS','IForest','KNN']\n",
    "metodos_SH_metricas = calc_metricas(metodos_SH,metodos_SH_lista)\n",
    "metodos_SH_metricas"
   ]
  },
  {
   "cell_type": "code",
   "execution_count": 20,
   "metadata": {},
   "outputs": [
    {
     "data": {
      "text/html": [
       "<div>\n",
       "<style scoped>\n",
       "    .dataframe tbody tr th:only-of-type {\n",
       "        vertical-align: middle;\n",
       "    }\n",
       "\n",
       "    .dataframe tbody tr th {\n",
       "        vertical-align: top;\n",
       "    }\n",
       "\n",
       "    .dataframe thead th {\n",
       "        text-align: right;\n",
       "    }\n",
       "</style>\n",
       "<table border=\"1\" class=\"dataframe\">\n",
       "  <thead>\n",
       "    <tr style=\"text-align: right;\">\n",
       "      <th></th>\n",
       "      <th>roc_auc</th>\n",
       "      <th>accuracy</th>\n",
       "      <th>precision</th>\n",
       "      <th>kappa</th>\n",
       "      <th>sensibilidad</th>\n",
       "      <th>especificidad</th>\n",
       "    </tr>\n",
       "  </thead>\n",
       "  <tbody>\n",
       "    <tr>\n",
       "      <th>MAD_PyOD</th>\n",
       "      <td>0.598938</td>\n",
       "      <td>0.72659</td>\n",
       "      <td>0.795289</td>\n",
       "      <td>0.242067</td>\n",
       "      <td>0.226408</td>\n",
       "      <td>0.971468</td>\n",
       "    </tr>\n",
       "    <tr>\n",
       "      <th>MAD_PySAD</th>\n",
       "      <td>0.601583</td>\n",
       "      <td>0.726984</td>\n",
       "      <td>0.780426</td>\n",
       "      <td>0.247209</td>\n",
       "      <td>0.235621</td>\n",
       "      <td>0.967545</td>\n",
       "    </tr>\n",
       "    <tr>\n",
       "      <th>SAD</th>\n",
       "      <td>0.601446</td>\n",
       "      <td>0.726913</td>\n",
       "      <td>0.78047</td>\n",
       "      <td>0.246909</td>\n",
       "      <td>0.235294</td>\n",
       "      <td>0.967598</td>\n",
       "    </tr>\n",
       "  </tbody>\n",
       "</table>\n",
       "</div>"
      ],
      "text/plain": [
       "            roc_auc  accuracy precision     kappa sensibilidad especificidad\n",
       "MAD_PyOD   0.598938   0.72659  0.795289  0.242067     0.226408      0.971468\n",
       "MAD_PySAD  0.601583  0.726984  0.780426  0.247209     0.235621      0.967545\n",
       "SAD        0.601446  0.726913   0.78047  0.246909     0.235294      0.967598"
      ]
     },
     "execution_count": 20,
     "metadata": {},
     "output_type": "execute_result"
    }
   ],
   "source": [
    "metodos_PvP_metricas = calc_metricas(metodos_PvP, metodos_PvP_lista)\n",
    "metodos_PvP_metricas"
   ]
  },
  {
   "cell_type": "code",
   "execution_count": 21,
   "metadata": {},
   "outputs": [
    {
     "data": {
      "application/vnd.plotly.v1+json": {
       "config": {
        "plotlyServerURL": "https://plot.ly"
       },
       "data": [
        {
         "hovertemplate": "variable=HBOS<br>index=%{x}<br>value=%{y}<extra></extra>",
         "legendgroup": "HBOS",
         "line": {
          "color": "#636efa",
          "dash": "solid"
         },
         "marker": {
          "symbol": "circle"
         },
         "mode": "lines",
         "name": "HBOS",
         "orientation": "v",
         "showlegend": true,
         "type": "scatter",
         "x": [
          "roc_auc",
          "accuracy",
          "precision",
          "kappa",
          "sensibilidad",
          "especificidad"
         ],
         "xaxis": "x",
         "y": [
          0.605282392094787,
          0.7336140476617093,
          0.8482965931863727,
          0.25861047116950453,
          0.23076923076923078,
          0.9797955534203432
         ],
         "yaxis": "y"
        },
        {
         "hovertemplate": "variable=IForest<br>index=%{x}<br>value=%{y}<extra></extra>",
         "legendgroup": "IForest",
         "line": {
          "color": "#EF553B",
          "dash": "solid"
         },
         "marker": {
          "symbol": "circle"
         },
         "mode": "lines",
         "name": "IForest",
         "orientation": "v",
         "showlegend": true,
         "type": "scatter",
         "x": [
          "roc_auc",
          "accuracy",
          "precision",
          "kappa",
          "sensibilidad",
          "especificidad"
         ],
         "xaxis": "x",
         "y": [
          0.6069037494713351,
          0.7316251567819387,
          0.8033171083468541,
          0.2601173008416655,
          0.24292645695905796,
          0.9708810419836122
         ],
         "yaxis": "y"
        },
        {
         "hovertemplate": "variable=KNN<br>index=%{x}<br>value=%{y}<extra></extra>",
         "legendgroup": "KNN",
         "line": {
          "color": "#00cc96",
          "dash": "solid"
         },
         "marker": {
          "symbol": "circle"
         },
         "mode": "lines",
         "name": "KNN",
         "orientation": "v",
         "showlegend": true,
         "type": "scatter",
         "x": [
          "roc_auc",
          "accuracy",
          "precision",
          "kappa",
          "sensibilidad",
          "especificidad"
         ],
         "xaxis": "x",
         "y": [
          0.5396090899485269,
          0.6727109836946784,
          0.50703967818614,
          0.0965039167810453,
          0.15117483508695415,
          0.9280433448100995
         ],
         "yaxis": "y"
        }
       ],
       "layout": {
        "legend": {
         "title": {
          "text": "variable"
         },
         "tracegroupgap": 0
        },
        "margin": {
         "t": 60
        },
        "template": {
         "data": {
          "bar": [
           {
            "error_x": {
             "color": "#2a3f5f"
            },
            "error_y": {
             "color": "#2a3f5f"
            },
            "marker": {
             "line": {
              "color": "#E5ECF6",
              "width": 0.5
             },
             "pattern": {
              "fillmode": "overlay",
              "size": 10,
              "solidity": 0.2
             }
            },
            "type": "bar"
           }
          ],
          "barpolar": [
           {
            "marker": {
             "line": {
              "color": "#E5ECF6",
              "width": 0.5
             },
             "pattern": {
              "fillmode": "overlay",
              "size": 10,
              "solidity": 0.2
             }
            },
            "type": "barpolar"
           }
          ],
          "carpet": [
           {
            "aaxis": {
             "endlinecolor": "#2a3f5f",
             "gridcolor": "white",
             "linecolor": "white",
             "minorgridcolor": "white",
             "startlinecolor": "#2a3f5f"
            },
            "baxis": {
             "endlinecolor": "#2a3f5f",
             "gridcolor": "white",
             "linecolor": "white",
             "minorgridcolor": "white",
             "startlinecolor": "#2a3f5f"
            },
            "type": "carpet"
           }
          ],
          "choropleth": [
           {
            "colorbar": {
             "outlinewidth": 0,
             "ticks": ""
            },
            "type": "choropleth"
           }
          ],
          "contour": [
           {
            "colorbar": {
             "outlinewidth": 0,
             "ticks": ""
            },
            "colorscale": [
             [
              0,
              "#0d0887"
             ],
             [
              0.1111111111111111,
              "#46039f"
             ],
             [
              0.2222222222222222,
              "#7201a8"
             ],
             [
              0.3333333333333333,
              "#9c179e"
             ],
             [
              0.4444444444444444,
              "#bd3786"
             ],
             [
              0.5555555555555556,
              "#d8576b"
             ],
             [
              0.6666666666666666,
              "#ed7953"
             ],
             [
              0.7777777777777778,
              "#fb9f3a"
             ],
             [
              0.8888888888888888,
              "#fdca26"
             ],
             [
              1,
              "#f0f921"
             ]
            ],
            "type": "contour"
           }
          ],
          "contourcarpet": [
           {
            "colorbar": {
             "outlinewidth": 0,
             "ticks": ""
            },
            "type": "contourcarpet"
           }
          ],
          "heatmap": [
           {
            "colorbar": {
             "outlinewidth": 0,
             "ticks": ""
            },
            "colorscale": [
             [
              0,
              "#0d0887"
             ],
             [
              0.1111111111111111,
              "#46039f"
             ],
             [
              0.2222222222222222,
              "#7201a8"
             ],
             [
              0.3333333333333333,
              "#9c179e"
             ],
             [
              0.4444444444444444,
              "#bd3786"
             ],
             [
              0.5555555555555556,
              "#d8576b"
             ],
             [
              0.6666666666666666,
              "#ed7953"
             ],
             [
              0.7777777777777778,
              "#fb9f3a"
             ],
             [
              0.8888888888888888,
              "#fdca26"
             ],
             [
              1,
              "#f0f921"
             ]
            ],
            "type": "heatmap"
           }
          ],
          "heatmapgl": [
           {
            "colorbar": {
             "outlinewidth": 0,
             "ticks": ""
            },
            "colorscale": [
             [
              0,
              "#0d0887"
             ],
             [
              0.1111111111111111,
              "#46039f"
             ],
             [
              0.2222222222222222,
              "#7201a8"
             ],
             [
              0.3333333333333333,
              "#9c179e"
             ],
             [
              0.4444444444444444,
              "#bd3786"
             ],
             [
              0.5555555555555556,
              "#d8576b"
             ],
             [
              0.6666666666666666,
              "#ed7953"
             ],
             [
              0.7777777777777778,
              "#fb9f3a"
             ],
             [
              0.8888888888888888,
              "#fdca26"
             ],
             [
              1,
              "#f0f921"
             ]
            ],
            "type": "heatmapgl"
           }
          ],
          "histogram": [
           {
            "marker": {
             "pattern": {
              "fillmode": "overlay",
              "size": 10,
              "solidity": 0.2
             }
            },
            "type": "histogram"
           }
          ],
          "histogram2d": [
           {
            "colorbar": {
             "outlinewidth": 0,
             "ticks": ""
            },
            "colorscale": [
             [
              0,
              "#0d0887"
             ],
             [
              0.1111111111111111,
              "#46039f"
             ],
             [
              0.2222222222222222,
              "#7201a8"
             ],
             [
              0.3333333333333333,
              "#9c179e"
             ],
             [
              0.4444444444444444,
              "#bd3786"
             ],
             [
              0.5555555555555556,
              "#d8576b"
             ],
             [
              0.6666666666666666,
              "#ed7953"
             ],
             [
              0.7777777777777778,
              "#fb9f3a"
             ],
             [
              0.8888888888888888,
              "#fdca26"
             ],
             [
              1,
              "#f0f921"
             ]
            ],
            "type": "histogram2d"
           }
          ],
          "histogram2dcontour": [
           {
            "colorbar": {
             "outlinewidth": 0,
             "ticks": ""
            },
            "colorscale": [
             [
              0,
              "#0d0887"
             ],
             [
              0.1111111111111111,
              "#46039f"
             ],
             [
              0.2222222222222222,
              "#7201a8"
             ],
             [
              0.3333333333333333,
              "#9c179e"
             ],
             [
              0.4444444444444444,
              "#bd3786"
             ],
             [
              0.5555555555555556,
              "#d8576b"
             ],
             [
              0.6666666666666666,
              "#ed7953"
             ],
             [
              0.7777777777777778,
              "#fb9f3a"
             ],
             [
              0.8888888888888888,
              "#fdca26"
             ],
             [
              1,
              "#f0f921"
             ]
            ],
            "type": "histogram2dcontour"
           }
          ],
          "mesh3d": [
           {
            "colorbar": {
             "outlinewidth": 0,
             "ticks": ""
            },
            "type": "mesh3d"
           }
          ],
          "parcoords": [
           {
            "line": {
             "colorbar": {
              "outlinewidth": 0,
              "ticks": ""
             }
            },
            "type": "parcoords"
           }
          ],
          "pie": [
           {
            "automargin": true,
            "type": "pie"
           }
          ],
          "scatter": [
           {
            "fillpattern": {
             "fillmode": "overlay",
             "size": 10,
             "solidity": 0.2
            },
            "type": "scatter"
           }
          ],
          "scatter3d": [
           {
            "line": {
             "colorbar": {
              "outlinewidth": 0,
              "ticks": ""
             }
            },
            "marker": {
             "colorbar": {
              "outlinewidth": 0,
              "ticks": ""
             }
            },
            "type": "scatter3d"
           }
          ],
          "scattercarpet": [
           {
            "marker": {
             "colorbar": {
              "outlinewidth": 0,
              "ticks": ""
             }
            },
            "type": "scattercarpet"
           }
          ],
          "scattergeo": [
           {
            "marker": {
             "colorbar": {
              "outlinewidth": 0,
              "ticks": ""
             }
            },
            "type": "scattergeo"
           }
          ],
          "scattergl": [
           {
            "marker": {
             "colorbar": {
              "outlinewidth": 0,
              "ticks": ""
             }
            },
            "type": "scattergl"
           }
          ],
          "scattermapbox": [
           {
            "marker": {
             "colorbar": {
              "outlinewidth": 0,
              "ticks": ""
             }
            },
            "type": "scattermapbox"
           }
          ],
          "scatterpolar": [
           {
            "marker": {
             "colorbar": {
              "outlinewidth": 0,
              "ticks": ""
             }
            },
            "type": "scatterpolar"
           }
          ],
          "scatterpolargl": [
           {
            "marker": {
             "colorbar": {
              "outlinewidth": 0,
              "ticks": ""
             }
            },
            "type": "scatterpolargl"
           }
          ],
          "scatterternary": [
           {
            "marker": {
             "colorbar": {
              "outlinewidth": 0,
              "ticks": ""
             }
            },
            "type": "scatterternary"
           }
          ],
          "surface": [
           {
            "colorbar": {
             "outlinewidth": 0,
             "ticks": ""
            },
            "colorscale": [
             [
              0,
              "#0d0887"
             ],
             [
              0.1111111111111111,
              "#46039f"
             ],
             [
              0.2222222222222222,
              "#7201a8"
             ],
             [
              0.3333333333333333,
              "#9c179e"
             ],
             [
              0.4444444444444444,
              "#bd3786"
             ],
             [
              0.5555555555555556,
              "#d8576b"
             ],
             [
              0.6666666666666666,
              "#ed7953"
             ],
             [
              0.7777777777777778,
              "#fb9f3a"
             ],
             [
              0.8888888888888888,
              "#fdca26"
             ],
             [
              1,
              "#f0f921"
             ]
            ],
            "type": "surface"
           }
          ],
          "table": [
           {
            "cells": {
             "fill": {
              "color": "#EBF0F8"
             },
             "line": {
              "color": "white"
             }
            },
            "header": {
             "fill": {
              "color": "#C8D4E3"
             },
             "line": {
              "color": "white"
             }
            },
            "type": "table"
           }
          ]
         },
         "layout": {
          "annotationdefaults": {
           "arrowcolor": "#2a3f5f",
           "arrowhead": 0,
           "arrowwidth": 1
          },
          "autotypenumbers": "strict",
          "coloraxis": {
           "colorbar": {
            "outlinewidth": 0,
            "ticks": ""
           }
          },
          "colorscale": {
           "diverging": [
            [
             0,
             "#8e0152"
            ],
            [
             0.1,
             "#c51b7d"
            ],
            [
             0.2,
             "#de77ae"
            ],
            [
             0.3,
             "#f1b6da"
            ],
            [
             0.4,
             "#fde0ef"
            ],
            [
             0.5,
             "#f7f7f7"
            ],
            [
             0.6,
             "#e6f5d0"
            ],
            [
             0.7,
             "#b8e186"
            ],
            [
             0.8,
             "#7fbc41"
            ],
            [
             0.9,
             "#4d9221"
            ],
            [
             1,
             "#276419"
            ]
           ],
           "sequential": [
            [
             0,
             "#0d0887"
            ],
            [
             0.1111111111111111,
             "#46039f"
            ],
            [
             0.2222222222222222,
             "#7201a8"
            ],
            [
             0.3333333333333333,
             "#9c179e"
            ],
            [
             0.4444444444444444,
             "#bd3786"
            ],
            [
             0.5555555555555556,
             "#d8576b"
            ],
            [
             0.6666666666666666,
             "#ed7953"
            ],
            [
             0.7777777777777778,
             "#fb9f3a"
            ],
            [
             0.8888888888888888,
             "#fdca26"
            ],
            [
             1,
             "#f0f921"
            ]
           ],
           "sequentialminus": [
            [
             0,
             "#0d0887"
            ],
            [
             0.1111111111111111,
             "#46039f"
            ],
            [
             0.2222222222222222,
             "#7201a8"
            ],
            [
             0.3333333333333333,
             "#9c179e"
            ],
            [
             0.4444444444444444,
             "#bd3786"
            ],
            [
             0.5555555555555556,
             "#d8576b"
            ],
            [
             0.6666666666666666,
             "#ed7953"
            ],
            [
             0.7777777777777778,
             "#fb9f3a"
            ],
            [
             0.8888888888888888,
             "#fdca26"
            ],
            [
             1,
             "#f0f921"
            ]
           ]
          },
          "colorway": [
           "#636efa",
           "#EF553B",
           "#00cc96",
           "#ab63fa",
           "#FFA15A",
           "#19d3f3",
           "#FF6692",
           "#B6E880",
           "#FF97FF",
           "#FECB52"
          ],
          "font": {
           "color": "#2a3f5f"
          },
          "geo": {
           "bgcolor": "white",
           "lakecolor": "white",
           "landcolor": "#E5ECF6",
           "showlakes": true,
           "showland": true,
           "subunitcolor": "white"
          },
          "hoverlabel": {
           "align": "left"
          },
          "hovermode": "closest",
          "mapbox": {
           "style": "light"
          },
          "paper_bgcolor": "white",
          "plot_bgcolor": "#E5ECF6",
          "polar": {
           "angularaxis": {
            "gridcolor": "white",
            "linecolor": "white",
            "ticks": ""
           },
           "bgcolor": "#E5ECF6",
           "radialaxis": {
            "gridcolor": "white",
            "linecolor": "white",
            "ticks": ""
           }
          },
          "scene": {
           "xaxis": {
            "backgroundcolor": "#E5ECF6",
            "gridcolor": "white",
            "gridwidth": 2,
            "linecolor": "white",
            "showbackground": true,
            "ticks": "",
            "zerolinecolor": "white"
           },
           "yaxis": {
            "backgroundcolor": "#E5ECF6",
            "gridcolor": "white",
            "gridwidth": 2,
            "linecolor": "white",
            "showbackground": true,
            "ticks": "",
            "zerolinecolor": "white"
           },
           "zaxis": {
            "backgroundcolor": "#E5ECF6",
            "gridcolor": "white",
            "gridwidth": 2,
            "linecolor": "white",
            "showbackground": true,
            "ticks": "",
            "zerolinecolor": "white"
           }
          },
          "shapedefaults": {
           "line": {
            "color": "#2a3f5f"
           }
          },
          "ternary": {
           "aaxis": {
            "gridcolor": "white",
            "linecolor": "white",
            "ticks": ""
           },
           "baxis": {
            "gridcolor": "white",
            "linecolor": "white",
            "ticks": ""
           },
           "bgcolor": "#E5ECF6",
           "caxis": {
            "gridcolor": "white",
            "linecolor": "white",
            "ticks": ""
           }
          },
          "title": {
           "x": 0.05
          },
          "xaxis": {
           "automargin": true,
           "gridcolor": "white",
           "linecolor": "white",
           "ticks": "",
           "title": {
            "standoff": 15
           },
           "zerolinecolor": "white",
           "zerolinewidth": 2
          },
          "yaxis": {
           "automargin": true,
           "gridcolor": "white",
           "linecolor": "white",
           "ticks": "",
           "title": {
            "standoff": 15
           },
           "zerolinecolor": "white",
           "zerolinewidth": 2
          }
         }
        },
        "xaxis": {
         "anchor": "y",
         "domain": [
          0,
          1
         ],
         "title": {
          "text": "index"
         }
        },
        "yaxis": {
         "anchor": "x",
         "domain": [
          0,
          1
         ],
         "title": {
          "text": "value"
         }
        }
       }
      }
     },
     "metadata": {},
     "output_type": "display_data"
    }
   ],
   "source": [
    "px.line(metodos_SH_metricas.T)"
   ]
  },
  {
   "cell_type": "markdown",
   "metadata": {},
   "source": [
    "### Sensibilidad por tipo de anomalía"
   ]
  },
  {
   "cell_type": "code",
   "execution_count": 22,
   "metadata": {},
   "outputs": [
    {
     "data": {
      "text/html": [
       "<div>\n",
       "<style scoped>\n",
       "    .dataframe tbody tr th:only-of-type {\n",
       "        vertical-align: middle;\n",
       "    }\n",
       "\n",
       "    .dataframe tbody tr th {\n",
       "        vertical-align: top;\n",
       "    }\n",
       "\n",
       "    .dataframe thead th {\n",
       "        text-align: right;\n",
       "    }\n",
       "</style>\n",
       "<table border=\"1\" class=\"dataframe\">\n",
       "  <thead>\n",
       "    <tr style=\"text-align: right;\">\n",
       "      <th></th>\n",
       "      <th>Anomalia</th>\n",
       "      <th>Negro</th>\n",
       "      <th>Congelado</th>\n",
       "      <th>Hum</th>\n",
       "      <th>CurvaCola</th>\n",
       "    </tr>\n",
       "  </thead>\n",
       "  <tbody>\n",
       "    <tr>\n",
       "      <th>HBOS</th>\n",
       "      <td>0.230769</td>\n",
       "      <td>0.84748</td>\n",
       "      <td>0.907783</td>\n",
       "      <td>0.494983</td>\n",
       "      <td>0.114838</td>\n",
       "    </tr>\n",
       "    <tr>\n",
       "      <th>IForest</th>\n",
       "      <td>0.242926</td>\n",
       "      <td>0.820264</td>\n",
       "      <td>0.908347</td>\n",
       "      <td>0.494983</td>\n",
       "      <td>0.129249</td>\n",
       "    </tr>\n",
       "    <tr>\n",
       "      <th>KNN</th>\n",
       "      <td>0.151175</td>\n",
       "      <td>0.270816</td>\n",
       "      <td>0.286802</td>\n",
       "      <td>0.505017</td>\n",
       "      <td>0.130671</td>\n",
       "    </tr>\n",
       "  </tbody>\n",
       "</table>\n",
       "</div>"
      ],
      "text/plain": [
       "         Anomalia     Negro Congelado       Hum CurvaCola\n",
       "HBOS     0.230769   0.84748  0.907783  0.494983  0.114838\n",
       "IForest  0.242926  0.820264  0.908347  0.494983  0.129249\n",
       "KNN      0.151175  0.270816  0.286802  0.505017  0.130671"
      ]
     },
     "execution_count": 22,
     "metadata": {},
     "output_type": "execute_result"
    }
   ],
   "source": [
    "metodos_SH_sensibilidades = calc_sensibilidad(metodos_SH,metodos_SH_lista,anomalias)\n",
    "metodos_SH_sensibilidades"
   ]
  },
  {
   "cell_type": "code",
   "execution_count": 23,
   "metadata": {},
   "outputs": [
    {
     "data": {
      "application/vnd.plotly.v1+json": {
       "config": {
        "plotlyServerURL": "https://plot.ly"
       },
       "data": [
        {
         "hovertemplate": "variable=HBOS<br>index=%{x}<br>value=%{y}<extra></extra>",
         "legendgroup": "HBOS",
         "line": {
          "color": "#636efa",
          "dash": "solid"
         },
         "marker": {
          "symbol": "circle"
         },
         "mode": "lines",
         "name": "HBOS",
         "orientation": "v",
         "showlegend": true,
         "type": "scatter",
         "x": [
          "Anomalia",
          "Negro",
          "Congelado",
          "Hum",
          "CurvaCola"
         ],
         "xaxis": "x",
         "y": [
          0.23076923076923078,
          0.8474804634869307,
          0.9077834179357022,
          0.49498327759197325,
          0.1148377924260049
         ],
         "yaxis": "y"
        },
        {
         "hovertemplate": "variable=IForest<br>index=%{x}<br>value=%{y}<extra></extra>",
         "legendgroup": "IForest",
         "line": {
          "color": "#EF553B",
          "dash": "solid"
         },
         "marker": {
          "symbol": "circle"
         },
         "mode": "lines",
         "name": "IForest",
         "orientation": "v",
         "showlegend": true,
         "type": "scatter",
         "x": [
          "Anomalia",
          "Negro",
          "Congelado",
          "Hum",
          "CurvaCola"
         ],
         "xaxis": "x",
         "y": [
          0.24292645695905796,
          0.8202640797628672,
          0.9083474337281444,
          0.49498327759197325,
          0.12924906294429364
         ],
         "yaxis": "y"
        },
        {
         "hovertemplate": "variable=KNN<br>index=%{x}<br>value=%{y}<extra></extra>",
         "legendgroup": "KNN",
         "line": {
          "color": "#00cc96",
          "dash": "solid"
         },
         "marker": {
          "symbol": "circle"
         },
         "mode": "lines",
         "name": "KNN",
         "orientation": "v",
         "showlegend": true,
         "type": "scatter",
         "x": [
          "Anomalia",
          "Negro",
          "Congelado",
          "Hum",
          "CurvaCola"
         ],
         "xaxis": "x",
         "y": [
          0.15117483508695415,
          0.27081649151172194,
          0.2868020304568528,
          0.5050167224080268,
          0.13067080263668088
         ],
         "yaxis": "y"
        }
       ],
       "layout": {
        "legend": {
         "title": {
          "text": "variable"
         },
         "tracegroupgap": 0
        },
        "margin": {
         "t": 60
        },
        "template": {
         "data": {
          "bar": [
           {
            "error_x": {
             "color": "#2a3f5f"
            },
            "error_y": {
             "color": "#2a3f5f"
            },
            "marker": {
             "line": {
              "color": "#E5ECF6",
              "width": 0.5
             },
             "pattern": {
              "fillmode": "overlay",
              "size": 10,
              "solidity": 0.2
             }
            },
            "type": "bar"
           }
          ],
          "barpolar": [
           {
            "marker": {
             "line": {
              "color": "#E5ECF6",
              "width": 0.5
             },
             "pattern": {
              "fillmode": "overlay",
              "size": 10,
              "solidity": 0.2
             }
            },
            "type": "barpolar"
           }
          ],
          "carpet": [
           {
            "aaxis": {
             "endlinecolor": "#2a3f5f",
             "gridcolor": "white",
             "linecolor": "white",
             "minorgridcolor": "white",
             "startlinecolor": "#2a3f5f"
            },
            "baxis": {
             "endlinecolor": "#2a3f5f",
             "gridcolor": "white",
             "linecolor": "white",
             "minorgridcolor": "white",
             "startlinecolor": "#2a3f5f"
            },
            "type": "carpet"
           }
          ],
          "choropleth": [
           {
            "colorbar": {
             "outlinewidth": 0,
             "ticks": ""
            },
            "type": "choropleth"
           }
          ],
          "contour": [
           {
            "colorbar": {
             "outlinewidth": 0,
             "ticks": ""
            },
            "colorscale": [
             [
              0,
              "#0d0887"
             ],
             [
              0.1111111111111111,
              "#46039f"
             ],
             [
              0.2222222222222222,
              "#7201a8"
             ],
             [
              0.3333333333333333,
              "#9c179e"
             ],
             [
              0.4444444444444444,
              "#bd3786"
             ],
             [
              0.5555555555555556,
              "#d8576b"
             ],
             [
              0.6666666666666666,
              "#ed7953"
             ],
             [
              0.7777777777777778,
              "#fb9f3a"
             ],
             [
              0.8888888888888888,
              "#fdca26"
             ],
             [
              1,
              "#f0f921"
             ]
            ],
            "type": "contour"
           }
          ],
          "contourcarpet": [
           {
            "colorbar": {
             "outlinewidth": 0,
             "ticks": ""
            },
            "type": "contourcarpet"
           }
          ],
          "heatmap": [
           {
            "colorbar": {
             "outlinewidth": 0,
             "ticks": ""
            },
            "colorscale": [
             [
              0,
              "#0d0887"
             ],
             [
              0.1111111111111111,
              "#46039f"
             ],
             [
              0.2222222222222222,
              "#7201a8"
             ],
             [
              0.3333333333333333,
              "#9c179e"
             ],
             [
              0.4444444444444444,
              "#bd3786"
             ],
             [
              0.5555555555555556,
              "#d8576b"
             ],
             [
              0.6666666666666666,
              "#ed7953"
             ],
             [
              0.7777777777777778,
              "#fb9f3a"
             ],
             [
              0.8888888888888888,
              "#fdca26"
             ],
             [
              1,
              "#f0f921"
             ]
            ],
            "type": "heatmap"
           }
          ],
          "heatmapgl": [
           {
            "colorbar": {
             "outlinewidth": 0,
             "ticks": ""
            },
            "colorscale": [
             [
              0,
              "#0d0887"
             ],
             [
              0.1111111111111111,
              "#46039f"
             ],
             [
              0.2222222222222222,
              "#7201a8"
             ],
             [
              0.3333333333333333,
              "#9c179e"
             ],
             [
              0.4444444444444444,
              "#bd3786"
             ],
             [
              0.5555555555555556,
              "#d8576b"
             ],
             [
              0.6666666666666666,
              "#ed7953"
             ],
             [
              0.7777777777777778,
              "#fb9f3a"
             ],
             [
              0.8888888888888888,
              "#fdca26"
             ],
             [
              1,
              "#f0f921"
             ]
            ],
            "type": "heatmapgl"
           }
          ],
          "histogram": [
           {
            "marker": {
             "pattern": {
              "fillmode": "overlay",
              "size": 10,
              "solidity": 0.2
             }
            },
            "type": "histogram"
           }
          ],
          "histogram2d": [
           {
            "colorbar": {
             "outlinewidth": 0,
             "ticks": ""
            },
            "colorscale": [
             [
              0,
              "#0d0887"
             ],
             [
              0.1111111111111111,
              "#46039f"
             ],
             [
              0.2222222222222222,
              "#7201a8"
             ],
             [
              0.3333333333333333,
              "#9c179e"
             ],
             [
              0.4444444444444444,
              "#bd3786"
             ],
             [
              0.5555555555555556,
              "#d8576b"
             ],
             [
              0.6666666666666666,
              "#ed7953"
             ],
             [
              0.7777777777777778,
              "#fb9f3a"
             ],
             [
              0.8888888888888888,
              "#fdca26"
             ],
             [
              1,
              "#f0f921"
             ]
            ],
            "type": "histogram2d"
           }
          ],
          "histogram2dcontour": [
           {
            "colorbar": {
             "outlinewidth": 0,
             "ticks": ""
            },
            "colorscale": [
             [
              0,
              "#0d0887"
             ],
             [
              0.1111111111111111,
              "#46039f"
             ],
             [
              0.2222222222222222,
              "#7201a8"
             ],
             [
              0.3333333333333333,
              "#9c179e"
             ],
             [
              0.4444444444444444,
              "#bd3786"
             ],
             [
              0.5555555555555556,
              "#d8576b"
             ],
             [
              0.6666666666666666,
              "#ed7953"
             ],
             [
              0.7777777777777778,
              "#fb9f3a"
             ],
             [
              0.8888888888888888,
              "#fdca26"
             ],
             [
              1,
              "#f0f921"
             ]
            ],
            "type": "histogram2dcontour"
           }
          ],
          "mesh3d": [
           {
            "colorbar": {
             "outlinewidth": 0,
             "ticks": ""
            },
            "type": "mesh3d"
           }
          ],
          "parcoords": [
           {
            "line": {
             "colorbar": {
              "outlinewidth": 0,
              "ticks": ""
             }
            },
            "type": "parcoords"
           }
          ],
          "pie": [
           {
            "automargin": true,
            "type": "pie"
           }
          ],
          "scatter": [
           {
            "fillpattern": {
             "fillmode": "overlay",
             "size": 10,
             "solidity": 0.2
            },
            "type": "scatter"
           }
          ],
          "scatter3d": [
           {
            "line": {
             "colorbar": {
              "outlinewidth": 0,
              "ticks": ""
             }
            },
            "marker": {
             "colorbar": {
              "outlinewidth": 0,
              "ticks": ""
             }
            },
            "type": "scatter3d"
           }
          ],
          "scattercarpet": [
           {
            "marker": {
             "colorbar": {
              "outlinewidth": 0,
              "ticks": ""
             }
            },
            "type": "scattercarpet"
           }
          ],
          "scattergeo": [
           {
            "marker": {
             "colorbar": {
              "outlinewidth": 0,
              "ticks": ""
             }
            },
            "type": "scattergeo"
           }
          ],
          "scattergl": [
           {
            "marker": {
             "colorbar": {
              "outlinewidth": 0,
              "ticks": ""
             }
            },
            "type": "scattergl"
           }
          ],
          "scattermapbox": [
           {
            "marker": {
             "colorbar": {
              "outlinewidth": 0,
              "ticks": ""
             }
            },
            "type": "scattermapbox"
           }
          ],
          "scatterpolar": [
           {
            "marker": {
             "colorbar": {
              "outlinewidth": 0,
              "ticks": ""
             }
            },
            "type": "scatterpolar"
           }
          ],
          "scatterpolargl": [
           {
            "marker": {
             "colorbar": {
              "outlinewidth": 0,
              "ticks": ""
             }
            },
            "type": "scatterpolargl"
           }
          ],
          "scatterternary": [
           {
            "marker": {
             "colorbar": {
              "outlinewidth": 0,
              "ticks": ""
             }
            },
            "type": "scatterternary"
           }
          ],
          "surface": [
           {
            "colorbar": {
             "outlinewidth": 0,
             "ticks": ""
            },
            "colorscale": [
             [
              0,
              "#0d0887"
             ],
             [
              0.1111111111111111,
              "#46039f"
             ],
             [
              0.2222222222222222,
              "#7201a8"
             ],
             [
              0.3333333333333333,
              "#9c179e"
             ],
             [
              0.4444444444444444,
              "#bd3786"
             ],
             [
              0.5555555555555556,
              "#d8576b"
             ],
             [
              0.6666666666666666,
              "#ed7953"
             ],
             [
              0.7777777777777778,
              "#fb9f3a"
             ],
             [
              0.8888888888888888,
              "#fdca26"
             ],
             [
              1,
              "#f0f921"
             ]
            ],
            "type": "surface"
           }
          ],
          "table": [
           {
            "cells": {
             "fill": {
              "color": "#EBF0F8"
             },
             "line": {
              "color": "white"
             }
            },
            "header": {
             "fill": {
              "color": "#C8D4E3"
             },
             "line": {
              "color": "white"
             }
            },
            "type": "table"
           }
          ]
         },
         "layout": {
          "annotationdefaults": {
           "arrowcolor": "#2a3f5f",
           "arrowhead": 0,
           "arrowwidth": 1
          },
          "autotypenumbers": "strict",
          "coloraxis": {
           "colorbar": {
            "outlinewidth": 0,
            "ticks": ""
           }
          },
          "colorscale": {
           "diverging": [
            [
             0,
             "#8e0152"
            ],
            [
             0.1,
             "#c51b7d"
            ],
            [
             0.2,
             "#de77ae"
            ],
            [
             0.3,
             "#f1b6da"
            ],
            [
             0.4,
             "#fde0ef"
            ],
            [
             0.5,
             "#f7f7f7"
            ],
            [
             0.6,
             "#e6f5d0"
            ],
            [
             0.7,
             "#b8e186"
            ],
            [
             0.8,
             "#7fbc41"
            ],
            [
             0.9,
             "#4d9221"
            ],
            [
             1,
             "#276419"
            ]
           ],
           "sequential": [
            [
             0,
             "#0d0887"
            ],
            [
             0.1111111111111111,
             "#46039f"
            ],
            [
             0.2222222222222222,
             "#7201a8"
            ],
            [
             0.3333333333333333,
             "#9c179e"
            ],
            [
             0.4444444444444444,
             "#bd3786"
            ],
            [
             0.5555555555555556,
             "#d8576b"
            ],
            [
             0.6666666666666666,
             "#ed7953"
            ],
            [
             0.7777777777777778,
             "#fb9f3a"
            ],
            [
             0.8888888888888888,
             "#fdca26"
            ],
            [
             1,
             "#f0f921"
            ]
           ],
           "sequentialminus": [
            [
             0,
             "#0d0887"
            ],
            [
             0.1111111111111111,
             "#46039f"
            ],
            [
             0.2222222222222222,
             "#7201a8"
            ],
            [
             0.3333333333333333,
             "#9c179e"
            ],
            [
             0.4444444444444444,
             "#bd3786"
            ],
            [
             0.5555555555555556,
             "#d8576b"
            ],
            [
             0.6666666666666666,
             "#ed7953"
            ],
            [
             0.7777777777777778,
             "#fb9f3a"
            ],
            [
             0.8888888888888888,
             "#fdca26"
            ],
            [
             1,
             "#f0f921"
            ]
           ]
          },
          "colorway": [
           "#636efa",
           "#EF553B",
           "#00cc96",
           "#ab63fa",
           "#FFA15A",
           "#19d3f3",
           "#FF6692",
           "#B6E880",
           "#FF97FF",
           "#FECB52"
          ],
          "font": {
           "color": "#2a3f5f"
          },
          "geo": {
           "bgcolor": "white",
           "lakecolor": "white",
           "landcolor": "#E5ECF6",
           "showlakes": true,
           "showland": true,
           "subunitcolor": "white"
          },
          "hoverlabel": {
           "align": "left"
          },
          "hovermode": "closest",
          "mapbox": {
           "style": "light"
          },
          "paper_bgcolor": "white",
          "plot_bgcolor": "#E5ECF6",
          "polar": {
           "angularaxis": {
            "gridcolor": "white",
            "linecolor": "white",
            "ticks": ""
           },
           "bgcolor": "#E5ECF6",
           "radialaxis": {
            "gridcolor": "white",
            "linecolor": "white",
            "ticks": ""
           }
          },
          "scene": {
           "xaxis": {
            "backgroundcolor": "#E5ECF6",
            "gridcolor": "white",
            "gridwidth": 2,
            "linecolor": "white",
            "showbackground": true,
            "ticks": "",
            "zerolinecolor": "white"
           },
           "yaxis": {
            "backgroundcolor": "#E5ECF6",
            "gridcolor": "white",
            "gridwidth": 2,
            "linecolor": "white",
            "showbackground": true,
            "ticks": "",
            "zerolinecolor": "white"
           },
           "zaxis": {
            "backgroundcolor": "#E5ECF6",
            "gridcolor": "white",
            "gridwidth": 2,
            "linecolor": "white",
            "showbackground": true,
            "ticks": "",
            "zerolinecolor": "white"
           }
          },
          "shapedefaults": {
           "line": {
            "color": "#2a3f5f"
           }
          },
          "ternary": {
           "aaxis": {
            "gridcolor": "white",
            "linecolor": "white",
            "ticks": ""
           },
           "baxis": {
            "gridcolor": "white",
            "linecolor": "white",
            "ticks": ""
           },
           "bgcolor": "#E5ECF6",
           "caxis": {
            "gridcolor": "white",
            "linecolor": "white",
            "ticks": ""
           }
          },
          "title": {
           "x": 0.05
          },
          "xaxis": {
           "automargin": true,
           "gridcolor": "white",
           "linecolor": "white",
           "ticks": "",
           "title": {
            "standoff": 15
           },
           "zerolinecolor": "white",
           "zerolinewidth": 2
          },
          "yaxis": {
           "automargin": true,
           "gridcolor": "white",
           "linecolor": "white",
           "ticks": "",
           "title": {
            "standoff": 15
           },
           "zerolinecolor": "white",
           "zerolinewidth": 2
          }
         }
        },
        "xaxis": {
         "anchor": "y",
         "domain": [
          0,
          1
         ],
         "title": {
          "text": "index"
         }
        },
        "yaxis": {
         "anchor": "x",
         "domain": [
          0,
          1
         ],
         "title": {
          "text": "value"
         }
        }
       }
      }
     },
     "metadata": {},
     "output_type": "display_data"
    }
   ],
   "source": [
    "px.line(metodos_SH_sensibilidades.T)"
   ]
  },
  {
   "cell_type": "markdown",
   "metadata": {},
   "source": [
    "## Resumen Final"
   ]
  },
  {
   "cell_type": "code",
   "execution_count": 24,
   "metadata": {},
   "outputs": [
    {
     "data": {
      "application/vnd.plotly.v1+json": {
       "config": {
        "plotlyServerURL": "https://plot.ly"
       },
       "data": [
        {
         "hovertemplate": "variable=HBOS_general<br>index=%{x}<br>value=%{y}<extra></extra>",
         "legendgroup": "HBOS_general",
         "line": {
          "color": "#636efa",
          "dash": "solid"
         },
         "marker": {
          "symbol": "circle"
         },
         "mode": "lines",
         "name": "HBOS_general",
         "orientation": "v",
         "showlegend": true,
         "type": "scatter",
         "x": [
          "roc_auc",
          "accuracy",
          "precision",
          "kappa",
          "sensibilidad",
          "especificidad"
         ],
         "xaxis": "x",
         "y": [
          0.5375105036552539,
          0.6700053753807561,
          0.49340228245363765,
          0.0911760981802402,
          0.1508477348307256,
          0.9241732724797822
         ],
         "yaxis": "y"
        },
        {
         "hovertemplate": "variable=IForest_general<br>index=%{x}<br>value=%{y}<extra></extra>",
         "legendgroup": "IForest_general",
         "line": {
          "color": "#EF553B",
          "dash": "solid"
         },
         "marker": {
          "symbol": "circle"
         },
         "mode": "lines",
         "name": "IForest_general",
         "orientation": "v",
         "showlegend": true,
         "type": "scatter",
         "x": [
          "roc_auc",
          "accuracy",
          "precision",
          "kappa",
          "sensibilidad",
          "especificidad"
         ],
         "xaxis": "x",
         "y": [
          0.5630997415507544,
          0.6931732664397061,
          0.6105568655904227,
          0.15362216997962252,
          0.1835032437442076,
          0.9426962393573011
         ],
         "yaxis": "y"
        },
        {
         "hovertemplate": "variable=KNN_general<br>index=%{x}<br>value=%{y}<extra></extra>",
         "legendgroup": "KNN_general",
         "line": {
          "color": "#00cc96",
          "dash": "solid"
         },
         "marker": {
          "symbol": "circle"
         },
         "mode": "lines",
         "name": "KNN_general",
         "orientation": "v",
         "showlegend": true,
         "type": "scatter",
         "x": [
          "roc_auc",
          "accuracy",
          "precision",
          "kappa",
          "sensibilidad",
          "especificidad"
         ],
         "xaxis": "x",
         "y": [
          0.5206881978000024,
          0.654685540225766,
          0.4182937554969217,
          0.050221036776984196,
          0.12964073488524233,
          0.9117356607147623
         ],
         "yaxis": "y"
        },
        {
         "hovertemplate": "variable=LODA_general<br>index=%{x}<br>value=%{y}<extra></extra>",
         "legendgroup": "LODA_general",
         "line": {
          "color": "#ab63fa",
          "dash": "solid"
         },
         "marker": {
          "symbol": "circle"
         },
         "mode": "lines",
         "name": "LODA_general",
         "orientation": "v",
         "showlegend": true,
         "type": "scatter",
         "x": [
          "roc_auc",
          "accuracy",
          "precision",
          "kappa",
          "sensibilidad",
          "especificidad"
         ],
         "xaxis": "x",
         "y": [
          0.5506095024709535,
          0.6820820641462103,
          0.554308472121651,
          0.12319057442859105,
          0.1669301640952952,
          0.9342888408466117
         ],
         "yaxis": "y"
        },
        {
         "hovertemplate": "variable=MAD_PyOD_general<br>index=%{x}<br>value=%{y}<extra></extra>",
         "legendgroup": "MAD_PyOD_general",
         "line": {
          "color": "#FFA15A",
          "dash": "solid"
         },
         "marker": {
          "symbol": "circle"
         },
         "mode": "lines",
         "name": "MAD_PyOD_general",
         "orientation": "v",
         "showlegend": true,
         "type": "scatter",
         "x": [
          "roc_auc",
          "accuracy",
          "precision",
          "kappa",
          "sensibilidad",
          "especificidad"
         ],
         "xaxis": "x",
         "y": [
          0.5933295348135476,
          0.7297079376455833,
          0.9168372569089048,
          0.23356854778746683,
          0.19533336967780623,
          0.9913256999492887
         ],
         "yaxis": "y"
        },
        {
         "hovertemplate": "variable=MCD_general<br>index=%{x}<br>value=%{y}<extra></extra>",
         "legendgroup": "MCD_general",
         "line": {
          "color": "#19d3f3",
          "dash": "solid"
         },
         "marker": {
          "symbol": "circle"
         },
         "mode": "lines",
         "name": "MCD_general",
         "orientation": "v",
         "showlegend": true,
         "type": "scatter",
         "x": [
          "roc_auc",
          "accuracy",
          "precision",
          "kappa",
          "sensibilidad",
          "especificidad"
         ],
         "xaxis": "x",
         "y": [
          0.530013350271563,
          0.6633578211790002,
          0.46035987885266344,
          0.07294673655258344,
          0.14087117701575533,
          0.9191555235273707
         ],
         "yaxis": "y"
        },
        {
         "hovertemplate": "variable=IForestASD_general<br>index=%{x}<br>value=%{y}<extra></extra>",
         "legendgroup": "IForestASD_general",
         "line": {
          "color": "#FF6692",
          "dash": "solid"
         },
         "marker": {
          "symbol": "circle"
         },
         "mode": "lines",
         "name": "IForestASD_general",
         "orientation": "v",
         "showlegend": true,
         "type": "scatter",
         "x": [
          "roc_auc",
          "accuracy",
          "precision",
          "kappa",
          "sensibilidad",
          "especificidad"
         ],
         "xaxis": "x",
         "y": [
          0.5818256448309124,
          0.6739114853968823,
          0.5063480867571857,
          0.18131235645174504,
          0.3130894619200785,
          0.850561827741746
         ],
         "yaxis": "y"
        },
        {
         "hovertemplate": "variable=MAD_PySAD_general<br>index=%{x}<br>value=%{y}<extra></extra>",
         "legendgroup": "MAD_PySAD_general",
         "line": {
          "color": "#B6E880",
          "dash": "solid"
         },
         "marker": {
          "symbol": "circle"
         },
         "mode": "lines",
         "name": "MAD_PySAD_general",
         "orientation": "v",
         "showlegend": true,
         "type": "scatter",
         "x": [
          "roc_auc",
          "accuracy",
          "precision",
          "kappa",
          "sensibilidad",
          "especificidad"
         ],
         "xaxis": "x",
         "y": [
          0.5874993185411328,
          0.7288478767246013,
          1,
          0.22167148689608107,
          0.1749986370822657,
          1
         ],
         "yaxis": "y"
        },
        {
         "hovertemplate": "variable=SAD_general<br>index=%{x}<br>value=%{y}<extra></extra>",
         "legendgroup": "SAD_general",
         "line": {
          "color": "#FF97FF",
          "dash": "solid"
         },
         "marker": {
          "symbol": "circle"
         },
         "mode": "lines",
         "name": "SAD_general",
         "orientation": "v",
         "showlegend": true,
         "type": "scatter",
         "x": [
          "roc_auc",
          "accuracy",
          "precision",
          "kappa",
          "sensibilidad",
          "especificidad"
         ],
         "xaxis": "x",
         "y": [
          0.5874993185411328,
          0.7288478767246013,
          1,
          0.22167148689608107,
          0.1749986370822657,
          1
         ],
         "yaxis": "y"
        },
        {
         "hovertemplate": "variable=xStream_general<br>index=%{x}<br>value=%{y}<extra></extra>",
         "legendgroup": "xStream_general",
         "line": {
          "color": "#FECB52",
          "dash": "solid"
         },
         "marker": {
          "symbol": "circle"
         },
         "mode": "lines",
         "name": "xStream_general",
         "orientation": "v",
         "showlegend": true,
         "type": "scatter",
         "x": [
          "roc_auc",
          "accuracy",
          "precision",
          "kappa",
          "sensibilidad",
          "especificidad"
         ],
         "xaxis": "x",
         "y": [
          0.6041991025772926,
          0.68704533237771,
          0.5353088010306788,
          0.2271177638573334,
          0.3624270839012157,
          0.8459711212533696
         ],
         "yaxis": "y"
        },
        {
         "hovertemplate": "variable=HTM_general<br>index=%{x}<br>value=%{y}<extra></extra>",
         "legendgroup": "HTM_general",
         "line": {
          "color": "#636efa",
          "dash": "solid"
         },
         "marker": {
          "symbol": "circle"
         },
         "mode": "lines",
         "name": "HTM_general",
         "orientation": "v",
         "showlegend": true,
         "type": "scatter",
         "x": [
          "roc_auc",
          "accuracy",
          "precision",
          "kappa",
          "sensibilidad",
          "especificidad"
         ],
         "xaxis": "x",
         "y": [
          0.4565581815492771,
          0.6100276654912417,
          0.04734131988230349,
          -0.10895432741002975,
          0.009837211079691236,
          0.903279152018863
         ],
         "yaxis": "y"
        },
        {
         "hovertemplate": "variable=IForest_NvS<br>index=%{x}<br>value=%{y}<extra></extra>",
         "legendgroup": "IForest_NvS",
         "line": {
          "color": "#EF553B",
          "dash": "solid"
         },
         "marker": {
          "symbol": "circle"
         },
         "mode": "lines",
         "name": "IForest_NvS",
         "orientation": "v",
         "showlegend": true,
         "type": "scatter",
         "x": [
          "roc_auc",
          "accuracy",
          "precision",
          "kappa",
          "sensibilidad",
          "especificidad"
         ],
         "xaxis": "x",
         "y": [
          0.5918146143022985,
          0.7178104282386669,
          0.73045486851457,
          0.223096662564916,
          0.22411819222591725,
          0.95951103637868
         ],
         "yaxis": "y"
        },
        {
         "hovertemplate": "variable=MAD_NvS<br>index=%{x}<br>value=%{y}<extra></extra>",
         "legendgroup": "MAD_NvS",
         "line": {
          "color": "#00cc96",
          "dash": "solid"
         },
         "marker": {
          "symbol": "circle"
         },
         "mode": "lines",
         "name": "MAD_NvS",
         "orientation": "v",
         "showlegend": true,
         "type": "scatter",
         "x": [
          "roc_auc",
          "accuracy",
          "precision",
          "kappa",
          "sensibilidad",
          "especificidad"
         ],
         "xaxis": "x",
         "y": [
          0.5914535609632284,
          0.727002329331661,
          0.8808531502819319,
          0.22819434103154468,
          0.19587853677152048,
          0.9870285851549363
         ],
         "yaxis": "y"
        },
        {
         "hovertemplate": "variable=HTM_NvS<br>index=%{x}<br>value=%{y}<extra></extra>",
         "legendgroup": "HTM_NvS",
         "line": {
          "color": "#ab63fa",
          "dash": "solid"
         },
         "marker": {
          "symbol": "circle"
         },
         "mode": "lines",
         "name": "HTM_NvS",
         "orientation": "v",
         "showlegend": true,
         "type": "scatter",
         "x": [
          "roc_auc",
          "accuracy",
          "precision",
          "kappa",
          "sensibilidad",
          "especificidad"
         ],
         "xaxis": "x",
         "y": [
          0.45661526196438335,
          0.6099918293626903,
          0.04873835200502565,
          -0.1087845072934599,
          0.01016475417890404,
          0.9030657697498626
         ],
         "yaxis": "y"
        },
        {
         "hovertemplate": "variable=MAD_PyOD_PvP<br>index=%{x}<br>value=%{y}<extra></extra>",
         "legendgroup": "MAD_PyOD_PvP",
         "line": {
          "color": "#FFA15A",
          "dash": "solid"
         },
         "marker": {
          "symbol": "circle"
         },
         "mode": "lines",
         "name": "MAD_PyOD_PvP",
         "orientation": "v",
         "showlegend": true,
         "type": "scatter",
         "x": [
          "roc_auc",
          "accuracy",
          "precision",
          "kappa",
          "sensibilidad",
          "especificidad"
         ],
         "xaxis": "x",
         "y": [
          0.5989380596955887,
          0.7265902168070238,
          0.7952891612409039,
          0.24206691539963432,
          0.22640789401951697,
          0.9714682253716604
         ],
         "yaxis": "y"
        },
        {
         "hovertemplate": "variable=MAD_PySAD_PvP<br>index=%{x}<br>value=%{y}<extra></extra>",
         "legendgroup": "MAD_PySAD_PvP",
         "line": {
          "color": "#19d3f3",
          "dash": "solid"
         },
         "marker": {
          "symbol": "circle"
         },
         "mode": "lines",
         "name": "MAD_PySAD_PvP",
         "orientation": "v",
         "showlegend": true,
         "type": "scatter",
         "x": [
          "roc_auc",
          "accuracy",
          "precision",
          "kappa",
          "sensibilidad",
          "especificidad"
         ],
         "xaxis": "x",
         "y": [
          0.6015829953183129,
          0.7269844113958072,
          0.7804261466233298,
          0.24720854687324245,
          0.23562121790328736,
          0.9675447727333387
         ],
         "yaxis": "y"
        },
        {
         "hovertemplate": "variable=SAD_PvP<br>index=%{x}<br>value=%{y}<extra></extra>",
         "legendgroup": "SAD_PvP",
         "line": {
          "color": "#FF6692",
          "dash": "solid"
         },
         "marker": {
          "symbol": "circle"
         },
         "mode": "lines",
         "name": "SAD_PvP",
         "orientation": "v",
         "showlegend": true,
         "type": "scatter",
         "x": [
          "roc_auc",
          "accuracy",
          "precision",
          "kappa",
          "sensibilidad",
          "especificidad"
         ],
         "xaxis": "x",
         "y": [
          0.6014461353442009,
          0.726912739652392,
          0.7804701627486438,
          0.24690892978888368,
          0.23529411764705882,
          0.967598153041343
         ],
         "yaxis": "y"
        },
        {
         "hovertemplate": "variable=HBOS_SH<br>index=%{x}<br>value=%{y}<extra></extra>",
         "legendgroup": "HBOS_SH",
         "line": {
          "color": "#B6E880",
          "dash": "solid"
         },
         "marker": {
          "symbol": "circle"
         },
         "mode": "lines",
         "name": "HBOS_SH",
         "orientation": "v",
         "showlegend": true,
         "type": "scatter",
         "x": [
          "roc_auc",
          "accuracy",
          "precision",
          "kappa",
          "sensibilidad",
          "especificidad"
         ],
         "xaxis": "x",
         "y": [
          0.605282392094787,
          0.7336140476617093,
          0.8482965931863727,
          0.25861047116950453,
          0.23076923076923078,
          0.9797955534203432
         ],
         "yaxis": "y"
        },
        {
         "hovertemplate": "variable=IForest_SH<br>index=%{x}<br>value=%{y}<extra></extra>",
         "legendgroup": "IForest_SH",
         "line": {
          "color": "#FF97FF",
          "dash": "solid"
         },
         "marker": {
          "symbol": "circle"
         },
         "mode": "lines",
         "name": "IForest_SH",
         "orientation": "v",
         "showlegend": true,
         "type": "scatter",
         "x": [
          "roc_auc",
          "accuracy",
          "precision",
          "kappa",
          "sensibilidad",
          "especificidad"
         ],
         "xaxis": "x",
         "y": [
          0.6069037494713351,
          0.7316251567819387,
          0.8033171083468541,
          0.2601173008416655,
          0.24292645695905796,
          0.9708810419836122
         ],
         "yaxis": "y"
        },
        {
         "hovertemplate": "variable=KNN_SH<br>index=%{x}<br>value=%{y}<extra></extra>",
         "legendgroup": "KNN_SH",
         "line": {
          "color": "#FECB52",
          "dash": "solid"
         },
         "marker": {
          "symbol": "circle"
         },
         "mode": "lines",
         "name": "KNN_SH",
         "orientation": "v",
         "showlegend": true,
         "type": "scatter",
         "x": [
          "roc_auc",
          "accuracy",
          "precision",
          "kappa",
          "sensibilidad",
          "especificidad"
         ],
         "xaxis": "x",
         "y": [
          0.5396090899485269,
          0.6727109836946784,
          0.50703967818614,
          0.0965039167810453,
          0.15117483508695415,
          0.9280433448100995
         ],
         "yaxis": "y"
        }
       ],
       "layout": {
        "legend": {
         "title": {
          "text": "variable"
         },
         "tracegroupgap": 0
        },
        "margin": {
         "t": 60
        },
        "template": {
         "data": {
          "bar": [
           {
            "error_x": {
             "color": "#2a3f5f"
            },
            "error_y": {
             "color": "#2a3f5f"
            },
            "marker": {
             "line": {
              "color": "#E5ECF6",
              "width": 0.5
             },
             "pattern": {
              "fillmode": "overlay",
              "size": 10,
              "solidity": 0.2
             }
            },
            "type": "bar"
           }
          ],
          "barpolar": [
           {
            "marker": {
             "line": {
              "color": "#E5ECF6",
              "width": 0.5
             },
             "pattern": {
              "fillmode": "overlay",
              "size": 10,
              "solidity": 0.2
             }
            },
            "type": "barpolar"
           }
          ],
          "carpet": [
           {
            "aaxis": {
             "endlinecolor": "#2a3f5f",
             "gridcolor": "white",
             "linecolor": "white",
             "minorgridcolor": "white",
             "startlinecolor": "#2a3f5f"
            },
            "baxis": {
             "endlinecolor": "#2a3f5f",
             "gridcolor": "white",
             "linecolor": "white",
             "minorgridcolor": "white",
             "startlinecolor": "#2a3f5f"
            },
            "type": "carpet"
           }
          ],
          "choropleth": [
           {
            "colorbar": {
             "outlinewidth": 0,
             "ticks": ""
            },
            "type": "choropleth"
           }
          ],
          "contour": [
           {
            "colorbar": {
             "outlinewidth": 0,
             "ticks": ""
            },
            "colorscale": [
             [
              0,
              "#0d0887"
             ],
             [
              0.1111111111111111,
              "#46039f"
             ],
             [
              0.2222222222222222,
              "#7201a8"
             ],
             [
              0.3333333333333333,
              "#9c179e"
             ],
             [
              0.4444444444444444,
              "#bd3786"
             ],
             [
              0.5555555555555556,
              "#d8576b"
             ],
             [
              0.6666666666666666,
              "#ed7953"
             ],
             [
              0.7777777777777778,
              "#fb9f3a"
             ],
             [
              0.8888888888888888,
              "#fdca26"
             ],
             [
              1,
              "#f0f921"
             ]
            ],
            "type": "contour"
           }
          ],
          "contourcarpet": [
           {
            "colorbar": {
             "outlinewidth": 0,
             "ticks": ""
            },
            "type": "contourcarpet"
           }
          ],
          "heatmap": [
           {
            "colorbar": {
             "outlinewidth": 0,
             "ticks": ""
            },
            "colorscale": [
             [
              0,
              "#0d0887"
             ],
             [
              0.1111111111111111,
              "#46039f"
             ],
             [
              0.2222222222222222,
              "#7201a8"
             ],
             [
              0.3333333333333333,
              "#9c179e"
             ],
             [
              0.4444444444444444,
              "#bd3786"
             ],
             [
              0.5555555555555556,
              "#d8576b"
             ],
             [
              0.6666666666666666,
              "#ed7953"
             ],
             [
              0.7777777777777778,
              "#fb9f3a"
             ],
             [
              0.8888888888888888,
              "#fdca26"
             ],
             [
              1,
              "#f0f921"
             ]
            ],
            "type": "heatmap"
           }
          ],
          "heatmapgl": [
           {
            "colorbar": {
             "outlinewidth": 0,
             "ticks": ""
            },
            "colorscale": [
             [
              0,
              "#0d0887"
             ],
             [
              0.1111111111111111,
              "#46039f"
             ],
             [
              0.2222222222222222,
              "#7201a8"
             ],
             [
              0.3333333333333333,
              "#9c179e"
             ],
             [
              0.4444444444444444,
              "#bd3786"
             ],
             [
              0.5555555555555556,
              "#d8576b"
             ],
             [
              0.6666666666666666,
              "#ed7953"
             ],
             [
              0.7777777777777778,
              "#fb9f3a"
             ],
             [
              0.8888888888888888,
              "#fdca26"
             ],
             [
              1,
              "#f0f921"
             ]
            ],
            "type": "heatmapgl"
           }
          ],
          "histogram": [
           {
            "marker": {
             "pattern": {
              "fillmode": "overlay",
              "size": 10,
              "solidity": 0.2
             }
            },
            "type": "histogram"
           }
          ],
          "histogram2d": [
           {
            "colorbar": {
             "outlinewidth": 0,
             "ticks": ""
            },
            "colorscale": [
             [
              0,
              "#0d0887"
             ],
             [
              0.1111111111111111,
              "#46039f"
             ],
             [
              0.2222222222222222,
              "#7201a8"
             ],
             [
              0.3333333333333333,
              "#9c179e"
             ],
             [
              0.4444444444444444,
              "#bd3786"
             ],
             [
              0.5555555555555556,
              "#d8576b"
             ],
             [
              0.6666666666666666,
              "#ed7953"
             ],
             [
              0.7777777777777778,
              "#fb9f3a"
             ],
             [
              0.8888888888888888,
              "#fdca26"
             ],
             [
              1,
              "#f0f921"
             ]
            ],
            "type": "histogram2d"
           }
          ],
          "histogram2dcontour": [
           {
            "colorbar": {
             "outlinewidth": 0,
             "ticks": ""
            },
            "colorscale": [
             [
              0,
              "#0d0887"
             ],
             [
              0.1111111111111111,
              "#46039f"
             ],
             [
              0.2222222222222222,
              "#7201a8"
             ],
             [
              0.3333333333333333,
              "#9c179e"
             ],
             [
              0.4444444444444444,
              "#bd3786"
             ],
             [
              0.5555555555555556,
              "#d8576b"
             ],
             [
              0.6666666666666666,
              "#ed7953"
             ],
             [
              0.7777777777777778,
              "#fb9f3a"
             ],
             [
              0.8888888888888888,
              "#fdca26"
             ],
             [
              1,
              "#f0f921"
             ]
            ],
            "type": "histogram2dcontour"
           }
          ],
          "mesh3d": [
           {
            "colorbar": {
             "outlinewidth": 0,
             "ticks": ""
            },
            "type": "mesh3d"
           }
          ],
          "parcoords": [
           {
            "line": {
             "colorbar": {
              "outlinewidth": 0,
              "ticks": ""
             }
            },
            "type": "parcoords"
           }
          ],
          "pie": [
           {
            "automargin": true,
            "type": "pie"
           }
          ],
          "scatter": [
           {
            "fillpattern": {
             "fillmode": "overlay",
             "size": 10,
             "solidity": 0.2
            },
            "type": "scatter"
           }
          ],
          "scatter3d": [
           {
            "line": {
             "colorbar": {
              "outlinewidth": 0,
              "ticks": ""
             }
            },
            "marker": {
             "colorbar": {
              "outlinewidth": 0,
              "ticks": ""
             }
            },
            "type": "scatter3d"
           }
          ],
          "scattercarpet": [
           {
            "marker": {
             "colorbar": {
              "outlinewidth": 0,
              "ticks": ""
             }
            },
            "type": "scattercarpet"
           }
          ],
          "scattergeo": [
           {
            "marker": {
             "colorbar": {
              "outlinewidth": 0,
              "ticks": ""
             }
            },
            "type": "scattergeo"
           }
          ],
          "scattergl": [
           {
            "marker": {
             "colorbar": {
              "outlinewidth": 0,
              "ticks": ""
             }
            },
            "type": "scattergl"
           }
          ],
          "scattermapbox": [
           {
            "marker": {
             "colorbar": {
              "outlinewidth": 0,
              "ticks": ""
             }
            },
            "type": "scattermapbox"
           }
          ],
          "scatterpolar": [
           {
            "marker": {
             "colorbar": {
              "outlinewidth": 0,
              "ticks": ""
             }
            },
            "type": "scatterpolar"
           }
          ],
          "scatterpolargl": [
           {
            "marker": {
             "colorbar": {
              "outlinewidth": 0,
              "ticks": ""
             }
            },
            "type": "scatterpolargl"
           }
          ],
          "scatterternary": [
           {
            "marker": {
             "colorbar": {
              "outlinewidth": 0,
              "ticks": ""
             }
            },
            "type": "scatterternary"
           }
          ],
          "surface": [
           {
            "colorbar": {
             "outlinewidth": 0,
             "ticks": ""
            },
            "colorscale": [
             [
              0,
              "#0d0887"
             ],
             [
              0.1111111111111111,
              "#46039f"
             ],
             [
              0.2222222222222222,
              "#7201a8"
             ],
             [
              0.3333333333333333,
              "#9c179e"
             ],
             [
              0.4444444444444444,
              "#bd3786"
             ],
             [
              0.5555555555555556,
              "#d8576b"
             ],
             [
              0.6666666666666666,
              "#ed7953"
             ],
             [
              0.7777777777777778,
              "#fb9f3a"
             ],
             [
              0.8888888888888888,
              "#fdca26"
             ],
             [
              1,
              "#f0f921"
             ]
            ],
            "type": "surface"
           }
          ],
          "table": [
           {
            "cells": {
             "fill": {
              "color": "#EBF0F8"
             },
             "line": {
              "color": "white"
             }
            },
            "header": {
             "fill": {
              "color": "#C8D4E3"
             },
             "line": {
              "color": "white"
             }
            },
            "type": "table"
           }
          ]
         },
         "layout": {
          "annotationdefaults": {
           "arrowcolor": "#2a3f5f",
           "arrowhead": 0,
           "arrowwidth": 1
          },
          "autotypenumbers": "strict",
          "coloraxis": {
           "colorbar": {
            "outlinewidth": 0,
            "ticks": ""
           }
          },
          "colorscale": {
           "diverging": [
            [
             0,
             "#8e0152"
            ],
            [
             0.1,
             "#c51b7d"
            ],
            [
             0.2,
             "#de77ae"
            ],
            [
             0.3,
             "#f1b6da"
            ],
            [
             0.4,
             "#fde0ef"
            ],
            [
             0.5,
             "#f7f7f7"
            ],
            [
             0.6,
             "#e6f5d0"
            ],
            [
             0.7,
             "#b8e186"
            ],
            [
             0.8,
             "#7fbc41"
            ],
            [
             0.9,
             "#4d9221"
            ],
            [
             1,
             "#276419"
            ]
           ],
           "sequential": [
            [
             0,
             "#0d0887"
            ],
            [
             0.1111111111111111,
             "#46039f"
            ],
            [
             0.2222222222222222,
             "#7201a8"
            ],
            [
             0.3333333333333333,
             "#9c179e"
            ],
            [
             0.4444444444444444,
             "#bd3786"
            ],
            [
             0.5555555555555556,
             "#d8576b"
            ],
            [
             0.6666666666666666,
             "#ed7953"
            ],
            [
             0.7777777777777778,
             "#fb9f3a"
            ],
            [
             0.8888888888888888,
             "#fdca26"
            ],
            [
             1,
             "#f0f921"
            ]
           ],
           "sequentialminus": [
            [
             0,
             "#0d0887"
            ],
            [
             0.1111111111111111,
             "#46039f"
            ],
            [
             0.2222222222222222,
             "#7201a8"
            ],
            [
             0.3333333333333333,
             "#9c179e"
            ],
            [
             0.4444444444444444,
             "#bd3786"
            ],
            [
             0.5555555555555556,
             "#d8576b"
            ],
            [
             0.6666666666666666,
             "#ed7953"
            ],
            [
             0.7777777777777778,
             "#fb9f3a"
            ],
            [
             0.8888888888888888,
             "#fdca26"
            ],
            [
             1,
             "#f0f921"
            ]
           ]
          },
          "colorway": [
           "#636efa",
           "#EF553B",
           "#00cc96",
           "#ab63fa",
           "#FFA15A",
           "#19d3f3",
           "#FF6692",
           "#B6E880",
           "#FF97FF",
           "#FECB52"
          ],
          "font": {
           "color": "#2a3f5f"
          },
          "geo": {
           "bgcolor": "white",
           "lakecolor": "white",
           "landcolor": "#E5ECF6",
           "showlakes": true,
           "showland": true,
           "subunitcolor": "white"
          },
          "hoverlabel": {
           "align": "left"
          },
          "hovermode": "closest",
          "mapbox": {
           "style": "light"
          },
          "paper_bgcolor": "white",
          "plot_bgcolor": "#E5ECF6",
          "polar": {
           "angularaxis": {
            "gridcolor": "white",
            "linecolor": "white",
            "ticks": ""
           },
           "bgcolor": "#E5ECF6",
           "radialaxis": {
            "gridcolor": "white",
            "linecolor": "white",
            "ticks": ""
           }
          },
          "scene": {
           "xaxis": {
            "backgroundcolor": "#E5ECF6",
            "gridcolor": "white",
            "gridwidth": 2,
            "linecolor": "white",
            "showbackground": true,
            "ticks": "",
            "zerolinecolor": "white"
           },
           "yaxis": {
            "backgroundcolor": "#E5ECF6",
            "gridcolor": "white",
            "gridwidth": 2,
            "linecolor": "white",
            "showbackground": true,
            "ticks": "",
            "zerolinecolor": "white"
           },
           "zaxis": {
            "backgroundcolor": "#E5ECF6",
            "gridcolor": "white",
            "gridwidth": 2,
            "linecolor": "white",
            "showbackground": true,
            "ticks": "",
            "zerolinecolor": "white"
           }
          },
          "shapedefaults": {
           "line": {
            "color": "#2a3f5f"
           }
          },
          "ternary": {
           "aaxis": {
            "gridcolor": "white",
            "linecolor": "white",
            "ticks": ""
           },
           "baxis": {
            "gridcolor": "white",
            "linecolor": "white",
            "ticks": ""
           },
           "bgcolor": "#E5ECF6",
           "caxis": {
            "gridcolor": "white",
            "linecolor": "white",
            "ticks": ""
           }
          },
          "title": {
           "x": 0.05
          },
          "xaxis": {
           "automargin": true,
           "gridcolor": "white",
           "linecolor": "white",
           "ticks": "",
           "title": {
            "standoff": 15
           },
           "zerolinecolor": "white",
           "zerolinewidth": 2
          },
          "yaxis": {
           "automargin": true,
           "gridcolor": "white",
           "linecolor": "white",
           "ticks": "",
           "title": {
            "standoff": 15
           },
           "zerolinecolor": "white",
           "zerolinewidth": 2
          }
         }
        },
        "xaxis": {
         "anchor": "y",
         "domain": [
          0,
          1
         ],
         "title": {
          "text": "index"
         }
        },
        "yaxis": {
         "anchor": "x",
         "domain": [
          0,
          1
         ],
         "title": {
          "text": "value"
         }
        }
       }
      }
     },
     "metadata": {},
     "output_type": "display_data"
    }
   ],
   "source": [
    "resumen_general = pd.concat([metodos_metricas.T.add_suffix('_general'),metodos_NvS_metricas.T.add_suffix('_NvS'),\n",
    "            metodos_PvP_metricas.T.add_suffix('_PvP'),metodos_SH_metricas.T.add_suffix('_SH')],axis=1).T\n",
    "\n",
    "px.line(resumen_general.T)"
   ]
  },
  {
   "cell_type": "code",
   "execution_count": 25,
   "metadata": {},
   "outputs": [
    {
     "data": {
      "application/vnd.plotly.v1+json": {
       "config": {
        "plotlyServerURL": "https://plot.ly"
       },
       "data": [
        {
         "hovertemplate": "variable=HBOS_general<br>index=%{x}<br>value=%{y}<extra></extra>",
         "legendgroup": "HBOS_general",
         "line": {
          "color": "#636efa",
          "dash": "solid"
         },
         "marker": {
          "symbol": "circle"
         },
         "mode": "lines",
         "name": "HBOS_general",
         "orientation": "v",
         "showlegend": true,
         "type": "scatter",
         "x": [
          "Anomalia",
          "Negro",
          "Congelado",
          "Hum",
          "CurvaCola"
         ],
         "xaxis": "x",
         "y": [
          0.1508477348307256,
          0.2743195904068984,
          0.29300620417371687,
          0.8662207357859532,
          0.12246348713971823
         ],
         "yaxis": "y"
        },
        {
         "hovertemplate": "variable=IForest_general<br>index=%{x}<br>value=%{y}<extra></extra>",
         "legendgroup": "IForest_general",
         "line": {
          "color": "#EF553B",
          "dash": "solid"
         },
         "marker": {
          "symbol": "circle"
         },
         "mode": "lines",
         "name": "IForest_general",
         "orientation": "v",
         "showlegend": true,
         "type": "scatter",
         "x": [
          "Anomalia",
          "Negro",
          "Congelado",
          "Hum",
          "CurvaCola"
         ],
         "xaxis": "x",
         "y": [
          0.1835032437442076,
          0.4311506332524926,
          0.4856175972927242,
          0.8361204013377926,
          0.1344190254620654
         ],
         "yaxis": "y"
        },
        {
         "hovertemplate": "variable=KNN_general<br>index=%{x}<br>value=%{y}<extra></extra>",
         "legendgroup": "KNN_general",
         "line": {
          "color": "#00cc96",
          "dash": "solid"
         },
         "marker": {
          "symbol": "circle"
         },
         "mode": "lines",
         "name": "KNN_general",
         "orientation": "v",
         "showlegend": true,
         "type": "scatter",
         "x": [
          "Anomalia",
          "Negro",
          "Congelado",
          "Hum",
          "CurvaCola"
         ],
         "xaxis": "x",
         "y": [
          0.12964073488524233,
          0.17407706817569388,
          0.16300056401579244,
          0.38127090301003347,
          0.12278660979707898
         ],
         "yaxis": "y"
        },
        {
         "hovertemplate": "variable=LODA_general<br>index=%{x}<br>value=%{y}<extra></extra>",
         "legendgroup": "LODA_general",
         "line": {
          "color": "#ab63fa",
          "dash": "solid"
         },
         "marker": {
          "symbol": "circle"
         },
         "mode": "lines",
         "name": "LODA_general",
         "orientation": "v",
         "showlegend": true,
         "type": "scatter",
         "x": [
          "Anomalia",
          "Negro",
          "Congelado",
          "Hum",
          "CurvaCola"
         ],
         "xaxis": "x",
         "y": [
          0.1669301640952952,
          0.37132848288870923,
          0.398195149464185,
          0.842809364548495,
          0.1253069665244927
         ],
         "yaxis": "y"
        },
        {
         "hovertemplate": "variable=MAD_PyOD_general<br>index=%{x}<br>value=%{y}<extra></extra>",
         "legendgroup": "MAD_PyOD_general",
         "line": {
          "color": "#FFA15A",
          "dash": "solid"
         },
         "marker": {
          "symbol": "circle"
         },
         "mode": "lines",
         "name": "MAD_PyOD_general",
         "orientation": "v",
         "showlegend": true,
         "type": "scatter",
         "x": [
          "Anomalia",
          "Negro",
          "Congelado",
          "Hum",
          "CurvaCola"
         ],
         "xaxis": "x",
         "y": [
          0.19533336967780623,
          0.7378065211533279,
          0.9117315284827975,
          1,
          0.06371978803153677
         ],
         "yaxis": "y"
        },
        {
         "hovertemplate": "variable=MCD_general<br>index=%{x}<br>value=%{y}<extra></extra>",
         "legendgroup": "MCD_general",
         "line": {
          "color": "#19d3f3",
          "dash": "solid"
         },
         "marker": {
          "symbol": "circle"
         },
         "mode": "lines",
         "name": "MCD_general",
         "orientation": "v",
         "showlegend": true,
         "type": "scatter",
         "x": [
          "Anomalia",
          "Negro",
          "Congelado",
          "Hum",
          "CurvaCola"
         ],
         "xaxis": "x",
         "y": [
          0.14087117701575533,
          0.21611425491781192,
          0.11957134799774394,
          0.27424749163879597,
          0.1426909654905002
         ],
         "yaxis": "y"
        },
        {
         "hovertemplate": "variable=IForestASD_general<br>index=%{x}<br>value=%{y}<extra></extra>",
         "legendgroup": "IForestASD_general",
         "line": {
          "color": "#FF6692",
          "dash": "solid"
         },
         "marker": {
          "symbol": "circle"
         },
         "mode": "lines",
         "name": "IForestASD_general",
         "orientation": "v",
         "showlegend": true,
         "type": "scatter",
         "x": [
          "Anomalia",
          "Negro",
          "Congelado",
          "Hum",
          "CurvaCola"
         ],
         "xaxis": "x",
         "y": [
          0.3130894619200785,
          0.6709781729991916,
          0.7010716300056402,
          0.939799331103679,
          0.24654258756624015
         ],
         "yaxis": "y"
        },
        {
         "hovertemplate": "variable=MAD_PySAD_general<br>index=%{x}<br>value=%{y}<extra></extra>",
         "legendgroup": "MAD_PySAD_general",
         "line": {
          "color": "#B6E880",
          "dash": "solid"
         },
         "marker": {
          "symbol": "circle"
         },
         "mode": "lines",
         "name": "MAD_PySAD_general",
         "orientation": "v",
         "showlegend": true,
         "type": "scatter",
         "x": [
          "Anomalia",
          "Negro",
          "Congelado",
          "Hum",
          "CurvaCola"
         ],
         "xaxis": "x",
         "y": [
          0.1749986370822657,
          0.7318781999461061,
          0.9046813310772701,
          0.006688963210702341,
          0.05783895566757141
         ],
         "yaxis": "y"
        },
        {
         "hovertemplate": "variable=SAD_general<br>index=%{x}<br>value=%{y}<extra></extra>",
         "legendgroup": "SAD_general",
         "line": {
          "color": "#FF97FF",
          "dash": "solid"
         },
         "marker": {
          "symbol": "circle"
         },
         "mode": "lines",
         "name": "SAD_general",
         "orientation": "v",
         "showlegend": true,
         "type": "scatter",
         "x": [
          "Anomalia",
          "Negro",
          "Congelado",
          "Hum",
          "CurvaCola"
         ],
         "xaxis": "x",
         "y": [
          0.1749986370822657,
          0.7318781999461061,
          0.9046813310772701,
          0.006688963210702341,
          0.05783895566757141
         ],
         "yaxis": "y"
        },
        {
         "hovertemplate": "variable=xStream_general<br>index=%{x}<br>value=%{y}<extra></extra>",
         "legendgroup": "xStream_general",
         "line": {
          "color": "#FECB52",
          "dash": "solid"
         },
         "marker": {
          "symbol": "circle"
         },
         "mode": "lines",
         "name": "xStream_general",
         "orientation": "v",
         "showlegend": true,
         "type": "scatter",
         "x": [
          "Anomalia",
          "Negro",
          "Congelado",
          "Hum",
          "CurvaCola"
         ],
         "xaxis": "x",
         "y": [
          0.3624270839012157,
          0.8399353274050121,
          0.8970671178793006,
          0.9063545150501672,
          0.2663176941967171
         ],
         "yaxis": "y"
        },
        {
         "hovertemplate": "variable=HTM_general<br>index=%{x}<br>value=%{y}<extra></extra>",
         "legendgroup": "HTM_general",
         "line": {
          "color": "#636efa",
          "dash": "solid"
         },
         "marker": {
          "symbol": "circle"
         },
         "mode": "lines",
         "name": "HTM_general",
         "orientation": "v",
         "showlegend": true,
         "type": "scatter",
         "x": [
          "Anomalia",
          "Negro",
          "Congelado",
          "Hum",
          "CurvaCola"
         ],
         "xaxis": "x",
         "y": [
          0.009837211079691236,
          0,
          0.00961973743775464,
          0.01377049180327869,
          0.009204869672988291
         ],
         "yaxis": "y"
        },
        {
         "hovertemplate": "variable=IForest_NvS<br>index=%{x}<br>value=%{y}<extra></extra>",
         "legendgroup": "IForest_NvS",
         "line": {
          "color": "#EF553B",
          "dash": "solid"
         },
         "marker": {
          "symbol": "circle"
         },
         "mode": "lines",
         "name": "IForest_NvS",
         "orientation": "v",
         "showlegend": true,
         "type": "scatter",
         "x": [
          "Anomalia",
          "Negro",
          "Congelado",
          "Hum",
          "CurvaCola"
         ],
         "xaxis": "x",
         "y": [
          0.22411819222591725,
          0.8005928321207222,
          0.9091934574168077,
          0.13712374581939799,
          0.1131575546077291
         ],
         "yaxis": "y"
        },
        {
         "hovertemplate": "variable=MAD_NvS<br>index=%{x}<br>value=%{y}<extra></extra>",
         "legendgroup": "MAD_NvS",
         "line": {
          "color": "#00cc96",
          "dash": "solid"
         },
         "marker": {
          "symbol": "circle"
         },
         "mode": "lines",
         "name": "MAD_NvS",
         "orientation": "v",
         "showlegend": true,
         "type": "scatter",
         "x": [
          "Anomalia",
          "Negro",
          "Congelado",
          "Hum",
          "CurvaCola"
         ],
         "xaxis": "x",
         "y": [
          0.19587853677152048,
          0.7577472379412558,
          0.9001692047377327,
          0.07692307692307693,
          0.08187928137521003
         ],
         "yaxis": "y"
        },
        {
         "hovertemplate": "variable=HTM_NvS<br>index=%{x}<br>value=%{y}<extra></extra>",
         "legendgroup": "HTM_NvS",
         "line": {
          "color": "#ab63fa",
          "dash": "solid"
         },
         "marker": {
          "symbol": "circle"
         },
         "mode": "lines",
         "name": "HTM_NvS",
         "orientation": "v",
         "showlegend": true,
         "type": "scatter",
         "x": [
          "Anomalia",
          "Negro",
          "Congelado",
          "Hum",
          "CurvaCola"
         ],
         "xaxis": "x",
         "y": [
          0.01016475417890404,
          0,
          0.009393390674513355,
          0.01377049180327869,
          0.009643811564827845
         ],
         "yaxis": "y"
        },
        {
         "hovertemplate": "variable=MAD_PyOD_PvP<br>index=%{x}<br>value=%{y}<extra></extra>",
         "legendgroup": "MAD_PyOD_PvP",
         "line": {
          "color": "#FFA15A",
          "dash": "solid"
         },
         "marker": {
          "symbol": "circle"
         },
         "mode": "lines",
         "name": "MAD_PyOD_PvP",
         "orientation": "v",
         "showlegend": true,
         "type": "scatter",
         "x": [
          "Anomalia",
          "Negro",
          "Congelado",
          "Hum",
          "CurvaCola"
         ],
         "xaxis": "x",
         "y": [
          0.22640789401951697,
          0.7396928051738076,
          0.9046813310772701,
          0.24749163879598662,
          0.11432079617422773
         ],
         "yaxis": "y"
        },
        {
         "hovertemplate": "variable=MAD_PySAD_PvP<br>index=%{x}<br>value=%{y}<extra></extra>",
         "legendgroup": "MAD_PySAD_PvP",
         "line": {
          "color": "#19d3f3",
          "dash": "solid"
         },
         "marker": {
          "symbol": "circle"
         },
         "mode": "lines",
         "name": "MAD_PySAD_PvP",
         "orientation": "v",
         "showlegend": true,
         "type": "scatter",
         "x": [
          "Anomalia",
          "Negro",
          "Congelado",
          "Hum",
          "CurvaCola"
         ],
         "xaxis": "x",
         "y": [
          0.23562121790328736,
          0.7555914847749933,
          0.9049633389734912,
          0.3745819397993311,
          0.12291585886002326
         ],
         "yaxis": "y"
        },
        {
         "hovertemplate": "variable=SAD_PvP<br>index=%{x}<br>value=%{y}<extra></extra>",
         "legendgroup": "SAD_PvP",
         "line": {
          "color": "#FF6692",
          "dash": "solid"
         },
         "marker": {
          "symbol": "circle"
         },
         "mode": "lines",
         "name": "SAD_PvP",
         "orientation": "v",
         "showlegend": true,
         "type": "scatter",
         "x": [
          "Anomalia",
          "Negro",
          "Congelado",
          "Hum",
          "CurvaCola"
         ],
         "xaxis": "x",
         "y": [
          0.23529411764705882,
          0.7563998922123417,
          0.9049633389734912,
          0.3511705685618729,
          0.12285123432855112
         ],
         "yaxis": "y"
        },
        {
         "hovertemplate": "variable=HTM_PvP<br>index=%{x}<br>value=%{y}<extra></extra>",
         "legendgroup": "HTM_PvP",
         "line": {
          "color": "#B6E880",
          "dash": "solid"
         },
         "marker": {
          "symbol": "circle"
         },
         "mode": "lines",
         "name": "HTM_PvP",
         "orientation": "v",
         "showlegend": true,
         "type": "scatter",
         "x": [
          "Anomalia",
          "Negro",
          "Congelado",
          "Hum",
          "CurvaCola"
         ],
         "xaxis": "x",
         "y": [
          0.010219344695439508,
          0,
          0.009563150746944318,
          0.014426229508196721,
          0.009656721620470184
         ],
         "yaxis": "y"
        },
        {
         "hovertemplate": "variable=HBOS_SH<br>index=%{x}<br>value=%{y}<extra></extra>",
         "legendgroup": "HBOS_SH",
         "line": {
          "color": "#FF97FF",
          "dash": "solid"
         },
         "marker": {
          "symbol": "circle"
         },
         "mode": "lines",
         "name": "HBOS_SH",
         "orientation": "v",
         "showlegend": true,
         "type": "scatter",
         "x": [
          "Anomalia",
          "Negro",
          "Congelado",
          "Hum",
          "CurvaCola"
         ],
         "xaxis": "x",
         "y": [
          0.23076923076923078,
          0.8474804634869307,
          0.9077834179357022,
          0.49498327759197325,
          0.1148377924260049
         ],
         "yaxis": "y"
        },
        {
         "hovertemplate": "variable=IForest_SH<br>index=%{x}<br>value=%{y}<extra></extra>",
         "legendgroup": "IForest_SH",
         "line": {
          "color": "#FECB52",
          "dash": "solid"
         },
         "marker": {
          "symbol": "circle"
         },
         "mode": "lines",
         "name": "IForest_SH",
         "orientation": "v",
         "showlegend": true,
         "type": "scatter",
         "x": [
          "Anomalia",
          "Negro",
          "Congelado",
          "Hum",
          "CurvaCola"
         ],
         "xaxis": "x",
         "y": [
          0.24292645695905796,
          0.8202640797628672,
          0.9083474337281444,
          0.49498327759197325,
          0.12924906294429364
         ],
         "yaxis": "y"
        },
        {
         "hovertemplate": "variable=KNN_SH<br>index=%{x}<br>value=%{y}<extra></extra>",
         "legendgroup": "KNN_SH",
         "line": {
          "color": "#636efa",
          "dash": "solid"
         },
         "marker": {
          "symbol": "circle"
         },
         "mode": "lines",
         "name": "KNN_SH",
         "orientation": "v",
         "showlegend": true,
         "type": "scatter",
         "x": [
          "Anomalia",
          "Negro",
          "Congelado",
          "Hum",
          "CurvaCola"
         ],
         "xaxis": "x",
         "y": [
          0.15117483508695415,
          0.27081649151172194,
          0.2868020304568528,
          0.5050167224080268,
          0.13067080263668088
         ],
         "yaxis": "y"
        }
       ],
       "layout": {
        "legend": {
         "title": {
          "text": "variable"
         },
         "tracegroupgap": 0
        },
        "margin": {
         "t": 60
        },
        "template": {
         "data": {
          "bar": [
           {
            "error_x": {
             "color": "#2a3f5f"
            },
            "error_y": {
             "color": "#2a3f5f"
            },
            "marker": {
             "line": {
              "color": "#E5ECF6",
              "width": 0.5
             },
             "pattern": {
              "fillmode": "overlay",
              "size": 10,
              "solidity": 0.2
             }
            },
            "type": "bar"
           }
          ],
          "barpolar": [
           {
            "marker": {
             "line": {
              "color": "#E5ECF6",
              "width": 0.5
             },
             "pattern": {
              "fillmode": "overlay",
              "size": 10,
              "solidity": 0.2
             }
            },
            "type": "barpolar"
           }
          ],
          "carpet": [
           {
            "aaxis": {
             "endlinecolor": "#2a3f5f",
             "gridcolor": "white",
             "linecolor": "white",
             "minorgridcolor": "white",
             "startlinecolor": "#2a3f5f"
            },
            "baxis": {
             "endlinecolor": "#2a3f5f",
             "gridcolor": "white",
             "linecolor": "white",
             "minorgridcolor": "white",
             "startlinecolor": "#2a3f5f"
            },
            "type": "carpet"
           }
          ],
          "choropleth": [
           {
            "colorbar": {
             "outlinewidth": 0,
             "ticks": ""
            },
            "type": "choropleth"
           }
          ],
          "contour": [
           {
            "colorbar": {
             "outlinewidth": 0,
             "ticks": ""
            },
            "colorscale": [
             [
              0,
              "#0d0887"
             ],
             [
              0.1111111111111111,
              "#46039f"
             ],
             [
              0.2222222222222222,
              "#7201a8"
             ],
             [
              0.3333333333333333,
              "#9c179e"
             ],
             [
              0.4444444444444444,
              "#bd3786"
             ],
             [
              0.5555555555555556,
              "#d8576b"
             ],
             [
              0.6666666666666666,
              "#ed7953"
             ],
             [
              0.7777777777777778,
              "#fb9f3a"
             ],
             [
              0.8888888888888888,
              "#fdca26"
             ],
             [
              1,
              "#f0f921"
             ]
            ],
            "type": "contour"
           }
          ],
          "contourcarpet": [
           {
            "colorbar": {
             "outlinewidth": 0,
             "ticks": ""
            },
            "type": "contourcarpet"
           }
          ],
          "heatmap": [
           {
            "colorbar": {
             "outlinewidth": 0,
             "ticks": ""
            },
            "colorscale": [
             [
              0,
              "#0d0887"
             ],
             [
              0.1111111111111111,
              "#46039f"
             ],
             [
              0.2222222222222222,
              "#7201a8"
             ],
             [
              0.3333333333333333,
              "#9c179e"
             ],
             [
              0.4444444444444444,
              "#bd3786"
             ],
             [
              0.5555555555555556,
              "#d8576b"
             ],
             [
              0.6666666666666666,
              "#ed7953"
             ],
             [
              0.7777777777777778,
              "#fb9f3a"
             ],
             [
              0.8888888888888888,
              "#fdca26"
             ],
             [
              1,
              "#f0f921"
             ]
            ],
            "type": "heatmap"
           }
          ],
          "heatmapgl": [
           {
            "colorbar": {
             "outlinewidth": 0,
             "ticks": ""
            },
            "colorscale": [
             [
              0,
              "#0d0887"
             ],
             [
              0.1111111111111111,
              "#46039f"
             ],
             [
              0.2222222222222222,
              "#7201a8"
             ],
             [
              0.3333333333333333,
              "#9c179e"
             ],
             [
              0.4444444444444444,
              "#bd3786"
             ],
             [
              0.5555555555555556,
              "#d8576b"
             ],
             [
              0.6666666666666666,
              "#ed7953"
             ],
             [
              0.7777777777777778,
              "#fb9f3a"
             ],
             [
              0.8888888888888888,
              "#fdca26"
             ],
             [
              1,
              "#f0f921"
             ]
            ],
            "type": "heatmapgl"
           }
          ],
          "histogram": [
           {
            "marker": {
             "pattern": {
              "fillmode": "overlay",
              "size": 10,
              "solidity": 0.2
             }
            },
            "type": "histogram"
           }
          ],
          "histogram2d": [
           {
            "colorbar": {
             "outlinewidth": 0,
             "ticks": ""
            },
            "colorscale": [
             [
              0,
              "#0d0887"
             ],
             [
              0.1111111111111111,
              "#46039f"
             ],
             [
              0.2222222222222222,
              "#7201a8"
             ],
             [
              0.3333333333333333,
              "#9c179e"
             ],
             [
              0.4444444444444444,
              "#bd3786"
             ],
             [
              0.5555555555555556,
              "#d8576b"
             ],
             [
              0.6666666666666666,
              "#ed7953"
             ],
             [
              0.7777777777777778,
              "#fb9f3a"
             ],
             [
              0.8888888888888888,
              "#fdca26"
             ],
             [
              1,
              "#f0f921"
             ]
            ],
            "type": "histogram2d"
           }
          ],
          "histogram2dcontour": [
           {
            "colorbar": {
             "outlinewidth": 0,
             "ticks": ""
            },
            "colorscale": [
             [
              0,
              "#0d0887"
             ],
             [
              0.1111111111111111,
              "#46039f"
             ],
             [
              0.2222222222222222,
              "#7201a8"
             ],
             [
              0.3333333333333333,
              "#9c179e"
             ],
             [
              0.4444444444444444,
              "#bd3786"
             ],
             [
              0.5555555555555556,
              "#d8576b"
             ],
             [
              0.6666666666666666,
              "#ed7953"
             ],
             [
              0.7777777777777778,
              "#fb9f3a"
             ],
             [
              0.8888888888888888,
              "#fdca26"
             ],
             [
              1,
              "#f0f921"
             ]
            ],
            "type": "histogram2dcontour"
           }
          ],
          "mesh3d": [
           {
            "colorbar": {
             "outlinewidth": 0,
             "ticks": ""
            },
            "type": "mesh3d"
           }
          ],
          "parcoords": [
           {
            "line": {
             "colorbar": {
              "outlinewidth": 0,
              "ticks": ""
             }
            },
            "type": "parcoords"
           }
          ],
          "pie": [
           {
            "automargin": true,
            "type": "pie"
           }
          ],
          "scatter": [
           {
            "fillpattern": {
             "fillmode": "overlay",
             "size": 10,
             "solidity": 0.2
            },
            "type": "scatter"
           }
          ],
          "scatter3d": [
           {
            "line": {
             "colorbar": {
              "outlinewidth": 0,
              "ticks": ""
             }
            },
            "marker": {
             "colorbar": {
              "outlinewidth": 0,
              "ticks": ""
             }
            },
            "type": "scatter3d"
           }
          ],
          "scattercarpet": [
           {
            "marker": {
             "colorbar": {
              "outlinewidth": 0,
              "ticks": ""
             }
            },
            "type": "scattercarpet"
           }
          ],
          "scattergeo": [
           {
            "marker": {
             "colorbar": {
              "outlinewidth": 0,
              "ticks": ""
             }
            },
            "type": "scattergeo"
           }
          ],
          "scattergl": [
           {
            "marker": {
             "colorbar": {
              "outlinewidth": 0,
              "ticks": ""
             }
            },
            "type": "scattergl"
           }
          ],
          "scattermapbox": [
           {
            "marker": {
             "colorbar": {
              "outlinewidth": 0,
              "ticks": ""
             }
            },
            "type": "scattermapbox"
           }
          ],
          "scatterpolar": [
           {
            "marker": {
             "colorbar": {
              "outlinewidth": 0,
              "ticks": ""
             }
            },
            "type": "scatterpolar"
           }
          ],
          "scatterpolargl": [
           {
            "marker": {
             "colorbar": {
              "outlinewidth": 0,
              "ticks": ""
             }
            },
            "type": "scatterpolargl"
           }
          ],
          "scatterternary": [
           {
            "marker": {
             "colorbar": {
              "outlinewidth": 0,
              "ticks": ""
             }
            },
            "type": "scatterternary"
           }
          ],
          "surface": [
           {
            "colorbar": {
             "outlinewidth": 0,
             "ticks": ""
            },
            "colorscale": [
             [
              0,
              "#0d0887"
             ],
             [
              0.1111111111111111,
              "#46039f"
             ],
             [
              0.2222222222222222,
              "#7201a8"
             ],
             [
              0.3333333333333333,
              "#9c179e"
             ],
             [
              0.4444444444444444,
              "#bd3786"
             ],
             [
              0.5555555555555556,
              "#d8576b"
             ],
             [
              0.6666666666666666,
              "#ed7953"
             ],
             [
              0.7777777777777778,
              "#fb9f3a"
             ],
             [
              0.8888888888888888,
              "#fdca26"
             ],
             [
              1,
              "#f0f921"
             ]
            ],
            "type": "surface"
           }
          ],
          "table": [
           {
            "cells": {
             "fill": {
              "color": "#EBF0F8"
             },
             "line": {
              "color": "white"
             }
            },
            "header": {
             "fill": {
              "color": "#C8D4E3"
             },
             "line": {
              "color": "white"
             }
            },
            "type": "table"
           }
          ]
         },
         "layout": {
          "annotationdefaults": {
           "arrowcolor": "#2a3f5f",
           "arrowhead": 0,
           "arrowwidth": 1
          },
          "autotypenumbers": "strict",
          "coloraxis": {
           "colorbar": {
            "outlinewidth": 0,
            "ticks": ""
           }
          },
          "colorscale": {
           "diverging": [
            [
             0,
             "#8e0152"
            ],
            [
             0.1,
             "#c51b7d"
            ],
            [
             0.2,
             "#de77ae"
            ],
            [
             0.3,
             "#f1b6da"
            ],
            [
             0.4,
             "#fde0ef"
            ],
            [
             0.5,
             "#f7f7f7"
            ],
            [
             0.6,
             "#e6f5d0"
            ],
            [
             0.7,
             "#b8e186"
            ],
            [
             0.8,
             "#7fbc41"
            ],
            [
             0.9,
             "#4d9221"
            ],
            [
             1,
             "#276419"
            ]
           ],
           "sequential": [
            [
             0,
             "#0d0887"
            ],
            [
             0.1111111111111111,
             "#46039f"
            ],
            [
             0.2222222222222222,
             "#7201a8"
            ],
            [
             0.3333333333333333,
             "#9c179e"
            ],
            [
             0.4444444444444444,
             "#bd3786"
            ],
            [
             0.5555555555555556,
             "#d8576b"
            ],
            [
             0.6666666666666666,
             "#ed7953"
            ],
            [
             0.7777777777777778,
             "#fb9f3a"
            ],
            [
             0.8888888888888888,
             "#fdca26"
            ],
            [
             1,
             "#f0f921"
            ]
           ],
           "sequentialminus": [
            [
             0,
             "#0d0887"
            ],
            [
             0.1111111111111111,
             "#46039f"
            ],
            [
             0.2222222222222222,
             "#7201a8"
            ],
            [
             0.3333333333333333,
             "#9c179e"
            ],
            [
             0.4444444444444444,
             "#bd3786"
            ],
            [
             0.5555555555555556,
             "#d8576b"
            ],
            [
             0.6666666666666666,
             "#ed7953"
            ],
            [
             0.7777777777777778,
             "#fb9f3a"
            ],
            [
             0.8888888888888888,
             "#fdca26"
            ],
            [
             1,
             "#f0f921"
            ]
           ]
          },
          "colorway": [
           "#636efa",
           "#EF553B",
           "#00cc96",
           "#ab63fa",
           "#FFA15A",
           "#19d3f3",
           "#FF6692",
           "#B6E880",
           "#FF97FF",
           "#FECB52"
          ],
          "font": {
           "color": "#2a3f5f"
          },
          "geo": {
           "bgcolor": "white",
           "lakecolor": "white",
           "landcolor": "#E5ECF6",
           "showlakes": true,
           "showland": true,
           "subunitcolor": "white"
          },
          "hoverlabel": {
           "align": "left"
          },
          "hovermode": "closest",
          "mapbox": {
           "style": "light"
          },
          "paper_bgcolor": "white",
          "plot_bgcolor": "#E5ECF6",
          "polar": {
           "angularaxis": {
            "gridcolor": "white",
            "linecolor": "white",
            "ticks": ""
           },
           "bgcolor": "#E5ECF6",
           "radialaxis": {
            "gridcolor": "white",
            "linecolor": "white",
            "ticks": ""
           }
          },
          "scene": {
           "xaxis": {
            "backgroundcolor": "#E5ECF6",
            "gridcolor": "white",
            "gridwidth": 2,
            "linecolor": "white",
            "showbackground": true,
            "ticks": "",
            "zerolinecolor": "white"
           },
           "yaxis": {
            "backgroundcolor": "#E5ECF6",
            "gridcolor": "white",
            "gridwidth": 2,
            "linecolor": "white",
            "showbackground": true,
            "ticks": "",
            "zerolinecolor": "white"
           },
           "zaxis": {
            "backgroundcolor": "#E5ECF6",
            "gridcolor": "white",
            "gridwidth": 2,
            "linecolor": "white",
            "showbackground": true,
            "ticks": "",
            "zerolinecolor": "white"
           }
          },
          "shapedefaults": {
           "line": {
            "color": "#2a3f5f"
           }
          },
          "ternary": {
           "aaxis": {
            "gridcolor": "white",
            "linecolor": "white",
            "ticks": ""
           },
           "baxis": {
            "gridcolor": "white",
            "linecolor": "white",
            "ticks": ""
           },
           "bgcolor": "#E5ECF6",
           "caxis": {
            "gridcolor": "white",
            "linecolor": "white",
            "ticks": ""
           }
          },
          "title": {
           "x": 0.05
          },
          "xaxis": {
           "automargin": true,
           "gridcolor": "white",
           "linecolor": "white",
           "ticks": "",
           "title": {
            "standoff": 15
           },
           "zerolinecolor": "white",
           "zerolinewidth": 2
          },
          "yaxis": {
           "automargin": true,
           "gridcolor": "white",
           "linecolor": "white",
           "ticks": "",
           "title": {
            "standoff": 15
           },
           "zerolinecolor": "white",
           "zerolinewidth": 2
          }
         }
        },
        "xaxis": {
         "anchor": "y",
         "domain": [
          0,
          1
         ],
         "title": {
          "text": "index"
         }
        },
        "yaxis": {
         "anchor": "x",
         "domain": [
          0,
          1
         ],
         "title": {
          "text": "value"
         }
        }
       }
      }
     },
     "metadata": {},
     "output_type": "display_data"
    }
   ],
   "source": [
    "resumen_general_sensibilidades = pd.concat([metodos_sensibilidades.T.add_suffix('_general'),metodos_NvS_sensibilidades.T.add_suffix('_NvS'),\n",
    "            metodos_PvP_sensibilidades.T.add_suffix('_PvP'),metodos_SH_sensibilidades.T.add_suffix('_SH')],axis=1).T\n",
    "\n",
    "px.line(resumen_general_sensibilidades.T)"
   ]
  },
  {
   "cell_type": "markdown",
   "metadata": {},
   "source": [
    "# Resumen Anomalías Thresholds"
   ]
  },
  {
   "cell_type": "code",
   "execution_count": 26,
   "metadata": {},
   "outputs": [],
   "source": [
    "anomalias = ['Anomalia','Negro','Congelado','Hum']\n",
    "metricas = ['roc_auc','accuracy','precision','kappa','sensibilidad','especificidad']"
   ]
  },
  {
   "cell_type": "markdown",
   "metadata": {},
   "source": [
    "## Métodos"
   ]
  },
  {
   "cell_type": "code",
   "execution_count": 27,
   "metadata": {},
   "outputs": [
    {
     "data": {
      "text/html": [
       "<div>\n",
       "<style scoped>\n",
       "    .dataframe tbody tr th:only-of-type {\n",
       "        vertical-align: middle;\n",
       "    }\n",
       "\n",
       "    .dataframe tbody tr th {\n",
       "        vertical-align: top;\n",
       "    }\n",
       "\n",
       "    .dataframe thead th {\n",
       "        text-align: right;\n",
       "    }\n",
       "</style>\n",
       "<table border=\"1\" class=\"dataframe\">\n",
       "  <thead>\n",
       "    <tr style=\"text-align: right;\">\n",
       "      <th></th>\n",
       "      <th>Negro</th>\n",
       "      <th>Congelado</th>\n",
       "      <th>Hum</th>\n",
       "      <th>Anomalia</th>\n",
       "      <th>HBOS</th>\n",
       "      <th>IForest</th>\n",
       "      <th>KNN</th>\n",
       "      <th>LODA</th>\n",
       "      <th>MAD_PyOD</th>\n",
       "      <th>MCD</th>\n",
       "      <th>IForestASD</th>\n",
       "      <th>MAD_PySAD</th>\n",
       "      <th>SAD</th>\n",
       "      <th>xStream</th>\n",
       "    </tr>\n",
       "    <tr>\n",
       "      <th>fecha</th>\n",
       "      <th></th>\n",
       "      <th></th>\n",
       "      <th></th>\n",
       "      <th></th>\n",
       "      <th></th>\n",
       "      <th></th>\n",
       "      <th></th>\n",
       "      <th></th>\n",
       "      <th></th>\n",
       "      <th></th>\n",
       "      <th></th>\n",
       "      <th></th>\n",
       "      <th></th>\n",
       "      <th></th>\n",
       "    </tr>\n",
       "  </thead>\n",
       "  <tbody>\n",
       "    <tr>\n",
       "      <th>2021-05-05 10:31:00</th>\n",
       "      <td>0</td>\n",
       "      <td>0</td>\n",
       "      <td>0</td>\n",
       "      <td>0</td>\n",
       "      <td>0</td>\n",
       "      <td>0</td>\n",
       "      <td>0</td>\n",
       "      <td>0</td>\n",
       "      <td>0</td>\n",
       "      <td>0</td>\n",
       "      <td>0</td>\n",
       "      <td>0</td>\n",
       "      <td>0</td>\n",
       "      <td>0</td>\n",
       "    </tr>\n",
       "    <tr>\n",
       "      <th>2021-03-04 02:06:00</th>\n",
       "      <td>0</td>\n",
       "      <td>0</td>\n",
       "      <td>0</td>\n",
       "      <td>0</td>\n",
       "      <td>0</td>\n",
       "      <td>0</td>\n",
       "      <td>0</td>\n",
       "      <td>0</td>\n",
       "      <td>0</td>\n",
       "      <td>0</td>\n",
       "      <td>0</td>\n",
       "      <td>0</td>\n",
       "      <td>0</td>\n",
       "      <td>0</td>\n",
       "    </tr>\n",
       "    <tr>\n",
       "      <th>2021-07-06 21:41:00</th>\n",
       "      <td>0</td>\n",
       "      <td>0</td>\n",
       "      <td>0</td>\n",
       "      <td>0</td>\n",
       "      <td>0</td>\n",
       "      <td>0</td>\n",
       "      <td>0</td>\n",
       "      <td>0</td>\n",
       "      <td>0</td>\n",
       "      <td>0</td>\n",
       "      <td>0</td>\n",
       "      <td>0</td>\n",
       "      <td>0</td>\n",
       "      <td>0</td>\n",
       "    </tr>\n",
       "    <tr>\n",
       "      <th>2021-05-01 21:58:00</th>\n",
       "      <td>0</td>\n",
       "      <td>0</td>\n",
       "      <td>0</td>\n",
       "      <td>0</td>\n",
       "      <td>0</td>\n",
       "      <td>0</td>\n",
       "      <td>0</td>\n",
       "      <td>0</td>\n",
       "      <td>0</td>\n",
       "      <td>0</td>\n",
       "      <td>0</td>\n",
       "      <td>0</td>\n",
       "      <td>0</td>\n",
       "      <td>0</td>\n",
       "    </tr>\n",
       "    <tr>\n",
       "      <th>2021-04-03 19:13:00</th>\n",
       "      <td>0</td>\n",
       "      <td>0</td>\n",
       "      <td>0</td>\n",
       "      <td>0</td>\n",
       "      <td>0</td>\n",
       "      <td>0</td>\n",
       "      <td>0</td>\n",
       "      <td>0</td>\n",
       "      <td>0</td>\n",
       "      <td>0</td>\n",
       "      <td>0</td>\n",
       "      <td>0</td>\n",
       "      <td>0</td>\n",
       "      <td>0</td>\n",
       "    </tr>\n",
       "  </tbody>\n",
       "</table>\n",
       "</div>"
      ],
      "text/plain": [
       "                     Negro  Congelado  Hum  Anomalia  HBOS  IForest  KNN  \\\n",
       "fecha                                                                      \n",
       "2021-05-05 10:31:00      0          0    0         0     0        0    0   \n",
       "2021-03-04 02:06:00      0          0    0         0     0        0    0   \n",
       "2021-07-06 21:41:00      0          0    0         0     0        0    0   \n",
       "2021-05-01 21:58:00      0          0    0         0     0        0    0   \n",
       "2021-04-03 19:13:00      0          0    0         0     0        0    0   \n",
       "\n",
       "                     LODA  MAD_PyOD  MCD  IForestASD  MAD_PySAD  SAD  xStream  \n",
       "fecha                                                                          \n",
       "2021-05-05 10:31:00     0         0    0           0          0    0        0  \n",
       "2021-03-04 02:06:00     0         0    0           0          0    0        0  \n",
       "2021-07-06 21:41:00     0         0    0           0          0    0        0  \n",
       "2021-05-01 21:58:00     0         0    0           0          0    0        0  \n",
       "2021-04-03 19:13:00     0         0    0           0          0    0        0  "
      ]
     },
     "execution_count": 27,
     "metadata": {},
     "output_type": "execute_result"
    }
   ],
   "source": [
    "metodos = pd.read_csv('Metodos_TipoAnomalia/Metodos_Thresholds/PyOD/Resultados/HBOS_completo.csv',index_col='fecha')\n",
    "metodos = metodos.drop('Y_pred', axis=1)\n",
    "\n",
    "metodos['HBOS'] = pd.read_csv('Metodos_TipoAnomalia/Metodos_Thresholds/PyOD/Resultados/HBOS_completo.csv',usecols=['fecha','Y_pred'],index_col='fecha')\n",
    "metodos['IForest'] = pd.read_csv('Metodos_TipoAnomalia/Metodos_Thresholds/PyOD/Resultados/IForest_completo.csv',usecols=['fecha','Y_pred'],index_col='fecha')\n",
    "metodos['KNN'] = pd.read_csv('Metodos_TipoAnomalia/Metodos_Thresholds/PyOD/Resultados/KNN_completo.csv',usecols=['fecha','Y_pred'],index_col='fecha')\n",
    "metodos['LODA'] = pd.read_csv('Metodos_TipoAnomalia/Metodos_Thresholds/PyOD/Resultados/LODA_completo.csv',usecols=['fecha','Y_pred'],index_col='fecha')\n",
    "metodos['MAD_PyOD'] = pd.read_csv('Metodos_TipoAnomalia/Metodos_Thresholds/PyOD/Resultados/MAD_completo.csv',usecols=['fecha','Y_pred'],index_col='fecha')\n",
    "metodos['MCD'] = pd.read_csv('Metodos_TipoAnomalia/Metodos_Thresholds/PyOD/Resultados/MCD_completo.csv',usecols=['fecha','Y_pred'],index_col='fecha')\n",
    "\n",
    "metodos['IForestASD'] = pd.read_csv('Metodos_TipoAnomalia/Metodos_Thresholds/PySAD/Resultados/IForestASD_completo.csv',usecols=['fecha','Y_pred'],index_col='fecha')\n",
    "metodos['MAD_PySAD'] = pd.read_csv('Metodos_TipoAnomalia/Metodos_Thresholds/PySAD/Resultados/MAD_completo.csv',usecols=['fecha','Y_pred'],index_col='fecha')\n",
    "metodos['SAD'] = pd.read_csv('Metodos_TipoAnomalia/Metodos_Thresholds/PySAD/Resultados/SAD_completo.csv',usecols=['fecha','Y_pred'],index_col='fecha')\n",
    "metodos['xStream'] = pd.read_csv('Metodos_TipoAnomalia/Metodos_Thresholds/PySAD/Resultados/xStream_completo.csv',usecols=['fecha','Y_pred'],index_col='fecha')\n",
    "\n",
    "metodos_htm = pd.read_csv('Metodos_TipoAnomalia/Metodos_Thresholds/HTMs/HTM_Uni/HTM_completo.csv',index_col='fecha')\n",
    "metodos_htm['HTM'] = metodos_htm['Y_pred']\n",
    "metodos_htm = metodos_htm.drop('Y_pred',axis=1)\n",
    "\n",
    "metodos.head()"
   ]
  },
  {
   "cell_type": "markdown",
   "metadata": {},
   "source": []
  },
  {
   "cell_type": "markdown",
   "metadata": {},
   "source": [
    "### Métricas generales:"
   ]
  },
  {
   "cell_type": "code",
   "execution_count": 28,
   "metadata": {},
   "outputs": [
    {
     "data": {
      "text/html": [
       "<div>\n",
       "<style scoped>\n",
       "    .dataframe tbody tr th:only-of-type {\n",
       "        vertical-align: middle;\n",
       "    }\n",
       "\n",
       "    .dataframe tbody tr th {\n",
       "        vertical-align: top;\n",
       "    }\n",
       "\n",
       "    .dataframe thead th {\n",
       "        text-align: right;\n",
       "    }\n",
       "</style>\n",
       "<table border=\"1\" class=\"dataframe\">\n",
       "  <thead>\n",
       "    <tr style=\"text-align: right;\">\n",
       "      <th></th>\n",
       "      <th>roc_auc</th>\n",
       "      <th>accuracy</th>\n",
       "      <th>precision</th>\n",
       "      <th>kappa</th>\n",
       "      <th>sensibilidad</th>\n",
       "      <th>especificidad</th>\n",
       "    </tr>\n",
       "  </thead>\n",
       "  <tbody>\n",
       "    <tr>\n",
       "      <th>HBOS</th>\n",
       "      <td>0.61892</td>\n",
       "      <td>0.875366</td>\n",
       "      <td>0.227216</td>\n",
       "      <td>0.19994</td>\n",
       "      <td>0.320423</td>\n",
       "      <td>0.917418</td>\n",
       "    </tr>\n",
       "    <tr>\n",
       "      <th>IForest</th>\n",
       "      <td>0.72485</td>\n",
       "      <td>0.902897</td>\n",
       "      <td>0.366127</td>\n",
       "      <td>0.377521</td>\n",
       "      <td>0.517606</td>\n",
       "      <td>0.932093</td>\n",
       "    </tr>\n",
       "    <tr>\n",
       "      <th>KNN</th>\n",
       "      <td>0.547181</td>\n",
       "      <td>0.856342</td>\n",
       "      <td>0.13247</td>\n",
       "      <td>0.079206</td>\n",
       "      <td>0.187324</td>\n",
       "      <td>0.907039</td>\n",
       "    </tr>\n",
       "    <tr>\n",
       "      <th>LODA</th>\n",
       "      <td>0.585794</td>\n",
       "      <td>0.866114</td>\n",
       "      <td>0.182788</td>\n",
       "      <td>0.143714</td>\n",
       "      <td>0.259507</td>\n",
       "      <td>0.912082</td>\n",
       "    </tr>\n",
       "    <tr>\n",
       "      <th>MAD_PyOD</th>\n",
       "      <td>0.948249</td>\n",
       "      <td>0.98244</td>\n",
       "      <td>0.852048</td>\n",
       "      <td>0.869887</td>\n",
       "      <td>0.908451</td>\n",
       "      <td>0.988046</td>\n",
       "    </tr>\n",
       "    <tr>\n",
       "      <th>MCD</th>\n",
       "      <td>0.549841</td>\n",
       "      <td>0.856144</td>\n",
       "      <td>0.135288</td>\n",
       "      <td>0.083194</td>\n",
       "      <td>0.19331</td>\n",
       "      <td>0.906372</td>\n",
       "    </tr>\n",
       "    <tr>\n",
       "      <th>IForestASD</th>\n",
       "      <td>0.8418</td>\n",
       "      <td>0.789077</td>\n",
       "      <td>0.237632</td>\n",
       "      <td>0.297964</td>\n",
       "      <td>0.903169</td>\n",
       "      <td>0.780431</td>\n",
       "    </tr>\n",
       "    <tr>\n",
       "      <th>MAD_PySAD</th>\n",
       "      <td>0.945623</td>\n",
       "      <td>0.977256</td>\n",
       "      <td>0.796851</td>\n",
       "      <td>0.836911</td>\n",
       "      <td>0.908803</td>\n",
       "      <td>0.982443</td>\n",
       "    </tr>\n",
       "    <tr>\n",
       "      <th>SAD</th>\n",
       "      <td>0.934854</td>\n",
       "      <td>0.957538</td>\n",
       "      <td>0.639881</td>\n",
       "      <td>0.728425</td>\n",
       "      <td>0.908451</td>\n",
       "      <td>0.961257</td>\n",
       "    </tr>\n",
       "    <tr>\n",
       "      <th>xStream</th>\n",
       "      <td>0.879511</td>\n",
       "      <td>0.844362</td>\n",
       "      <td>0.301743</td>\n",
       "      <td>0.389743</td>\n",
       "      <td>0.920423</td>\n",
       "      <td>0.838599</td>\n",
       "    </tr>\n",
       "    <tr>\n",
       "      <th>HTM</th>\n",
       "      <td>0.497542</td>\n",
       "      <td>0.924535</td>\n",
       "      <td>0.011743</td>\n",
       "      <td>-0.008566</td>\n",
       "      <td>0.00092</td>\n",
       "      <td>0.994164</td>\n",
       "    </tr>\n",
       "  </tbody>\n",
       "</table>\n",
       "</div>"
      ],
      "text/plain": [
       "             roc_auc  accuracy precision     kappa sensibilidad especificidad\n",
       "HBOS         0.61892  0.875366  0.227216   0.19994     0.320423      0.917418\n",
       "IForest      0.72485  0.902897  0.366127  0.377521     0.517606      0.932093\n",
       "KNN         0.547181  0.856342   0.13247  0.079206     0.187324      0.907039\n",
       "LODA        0.585794  0.866114  0.182788  0.143714     0.259507      0.912082\n",
       "MAD_PyOD    0.948249   0.98244  0.852048  0.869887     0.908451      0.988046\n",
       "MCD         0.549841  0.856144  0.135288  0.083194      0.19331      0.906372\n",
       "IForestASD    0.8418  0.789077  0.237632  0.297964     0.903169      0.780431\n",
       "MAD_PySAD   0.945623  0.977256  0.796851  0.836911     0.908803      0.982443\n",
       "SAD         0.934854  0.957538  0.639881  0.728425     0.908451      0.961257\n",
       "xStream     0.879511  0.844362  0.301743  0.389743     0.920423      0.838599\n",
       "HTM         0.497542  0.924535  0.011743 -0.008566      0.00092      0.994164"
      ]
     },
     "execution_count": 28,
     "metadata": {},
     "output_type": "execute_result"
    }
   ],
   "source": [
    "metodos_lista = ['HBOS','IForest','KNN','LODA','MAD_PyOD','MCD', 'IForestASD', 'MAD_PySAD','SAD','xStream']\n",
    "metodos_metricas = calc_metricas(metodos,metodos_lista)\n",
    "metodos_metricas = pd.concat([metodos_metricas,calc_metricas(metodos_htm, ['HTM'])])\n",
    "metodos_metricas"
   ]
  },
  {
   "cell_type": "code",
   "execution_count": 29,
   "metadata": {},
   "outputs": [
    {
     "data": {
      "application/vnd.plotly.v1+json": {
       "config": {
        "plotlyServerURL": "https://plot.ly"
       },
       "data": [
        {
         "hovertemplate": "variable=HBOS<br>index=%{x}<br>value=%{y}<extra></extra>",
         "legendgroup": "HBOS",
         "line": {
          "color": "#636efa",
          "dash": "solid"
         },
         "marker": {
          "symbol": "circle"
         },
         "mode": "lines",
         "name": "HBOS",
         "orientation": "v",
         "showlegend": true,
         "type": "scatter",
         "x": [
          "roc_auc",
          "accuracy",
          "precision",
          "kappa",
          "sensibilidad",
          "especificidad"
         ],
         "xaxis": "x",
         "y": [
          0.6189203769497823,
          0.8753658415596012,
          0.2272159800249688,
          0.19993957231717097,
          0.3204225352112676,
          0.9174182186882971
         ],
         "yaxis": "y"
        },
        {
         "hovertemplate": "variable=IForest<br>index=%{x}<br>value=%{y}<extra></extra>",
         "legendgroup": "IForest",
         "line": {
          "color": "#EF553B",
          "dash": "solid"
         },
         "marker": {
          "symbol": "circle"
         },
         "mode": "lines",
         "name": "IForest",
         "orientation": "v",
         "showlegend": true,
         "type": "scatter",
         "x": [
          "roc_auc",
          "accuracy",
          "precision",
          "kappa",
          "sensibilidad",
          "especificidad"
         ],
         "xaxis": "x",
         "y": [
          0.7248495643265646,
          0.9028969690956893,
          0.36612702366127026,
          0.37752080067612426,
          0.5176056338028169,
          0.9320934948503122
         ],
         "yaxis": "y"
        },
        {
         "hovertemplate": "variable=KNN<br>index=%{x}<br>value=%{y}<extra></extra>",
         "legendgroup": "KNN",
         "line": {
          "color": "#00cc96",
          "dash": "solid"
         },
         "marker": {
          "symbol": "circle"
         },
         "mode": "lines",
         "name": "KNN",
         "orientation": "v",
         "showlegend": true,
         "type": "scatter",
         "x": [
          "roc_auc",
          "accuracy",
          "precision",
          "kappa",
          "sensibilidad",
          "especificidad"
         ],
         "xaxis": "x",
         "y": [
          0.54718136987784,
          0.8563420804603403,
          0.13247011952191234,
          0.07920636105309187,
          0.18732394366197183,
          0.9070387960937083
         ],
         "yaxis": "y"
        },
        {
         "hovertemplate": "variable=LODA<br>index=%{x}<br>value=%{y}<extra></extra>",
         "legendgroup": "LODA",
         "line": {
          "color": "#ab63fa",
          "dash": "solid"
         },
         "marker": {
          "symbol": "circle"
         },
         "mode": "lines",
         "name": "LODA",
         "orientation": "v",
         "showlegend": true,
         "type": "scatter",
         "x": [
          "roc_auc",
          "accuracy",
          "precision",
          "kappa",
          "sensibilidad",
          "especificidad"
         ],
         "xaxis": "x",
         "y": [
          0.5857943984414518,
          0.8661143905947716,
          0.1827876984126984,
          0.1437144469063414,
          0.2595070422535211,
          0.9120817546293826
         ],
         "yaxis": "y"
        },
        {
         "hovertemplate": "variable=MAD_PyOD<br>index=%{x}<br>value=%{y}<extra></extra>",
         "legendgroup": "MAD_PyOD",
         "line": {
          "color": "#FFA15A",
          "dash": "solid"
         },
         "marker": {
          "symbol": "circle"
         },
         "mode": "lines",
         "name": "MAD_PyOD",
         "orientation": "v",
         "showlegend": true,
         "type": "scatter",
         "x": [
          "roc_auc",
          "accuracy",
          "precision",
          "kappa",
          "sensibilidad",
          "especificidad"
         ],
         "xaxis": "x",
         "y": [
          0.9482485123666917,
          0.9824396051391439,
          0.8520475561426685,
          0.8698867932839626,
          0.9084507042253521,
          0.9880463205080314
         ],
         "yaxis": "y"
        },
        {
         "hovertemplate": "variable=MCD<br>index=%{x}<br>value=%{y}<extra></extra>",
         "legendgroup": "MCD",
         "line": {
          "color": "#19d3f3",
          "dash": "solid"
         },
         "marker": {
          "symbol": "circle"
         },
         "mode": "lines",
         "name": "MCD",
         "orientation": "v",
         "showlegend": true,
         "type": "scatter",
         "x": [
          "roc_auc",
          "accuracy",
          "precision",
          "kappa",
          "sensibilidad",
          "especificidad"
         ],
         "xaxis": "x",
         "y": [
          0.5498407986206368,
          0.8561436579195396,
          0.13528831936914737,
          0.08319368348329537,
          0.19330985915492957,
          0.906371738086344
         ],
         "yaxis": "y"
        },
        {
         "hovertemplate": "variable=IForestASD<br>index=%{x}<br>value=%{y}<extra></extra>",
         "legendgroup": "IForestASD",
         "line": {
          "color": "#FF6692",
          "dash": "solid"
         },
         "marker": {
          "symbol": "circle"
         },
         "mode": "lines",
         "name": "IForestASD",
         "orientation": "v",
         "showlegend": true,
         "type": "scatter",
         "x": [
          "roc_auc",
          "accuracy",
          "precision",
          "kappa",
          "sensibilidad",
          "especificidad"
         ],
         "xaxis": "x",
         "y": [
          0.8418001001902337,
          0.789076839128925,
          0.2376320177876598,
          0.297964134461171,
          0.903169014084507,
          0.7804311862959603
         ],
         "yaxis": "y"
        },
        {
         "hovertemplate": "variable=MAD_PySAD<br>index=%{x}<br>value=%{y}<extra></extra>",
         "legendgroup": "MAD_PySAD",
         "line": {
          "color": "#B6E880",
          "dash": "solid"
         },
         "marker": {
          "symbol": "circle"
         },
         "mode": "lines",
         "name": "MAD_PySAD",
         "orientation": "v",
         "showlegend": true,
         "type": "scatter",
         "x": [
          "roc_auc",
          "accuracy",
          "precision",
          "kappa",
          "sensibilidad",
          "especificidad"
         ],
         "xaxis": "x",
         "y": [
          0.9456229250737898,
          0.9772558162607272,
          0.7968508799012041,
          0.8369107928260557,
          0.9088028169014084,
          0.9824430332461711
         ],
         "yaxis": "y"
        },
        {
         "hovertemplate": "variable=SAD<br>index=%{x}<br>value=%{y}<extra></extra>",
         "legendgroup": "SAD",
         "line": {
          "color": "#FF97FF",
          "dash": "solid"
         },
         "marker": {
          "symbol": "circle"
         },
         "mode": "lines",
         "name": "SAD",
         "orientation": "v",
         "showlegend": true,
         "type": "scatter",
         "x": [
          "roc_auc",
          "accuracy",
          "precision",
          "kappa",
          "sensibilidad",
          "especificidad"
         ],
         "xaxis": "x",
         "y": [
          0.9348539875788162,
          0.9575375762686641,
          0.6398809523809523,
          0.7284251821236859,
          0.9084507042253521,
          0.9612572709322803
         ],
         "yaxis": "y"
        },
        {
         "hovertemplate": "variable=xStream<br>index=%{x}<br>value=%{y}<extra></extra>",
         "legendgroup": "xStream",
         "line": {
          "color": "#FECB52",
          "dash": "solid"
         },
         "marker": {
          "symbol": "circle"
         },
         "mode": "lines",
         "name": "xStream",
         "orientation": "v",
         "showlegend": true,
         "type": "scatter",
         "x": [
          "roc_auc",
          "accuracy",
          "precision",
          "kappa",
          "sensibilidad",
          "especificidad"
         ],
         "xaxis": "x",
         "y": [
          0.8795105898746983,
          0.8443623195595019,
          0.30174304513447997,
          0.38974320400141527,
          0.9204225352112676,
          0.838598644538129
         ],
         "yaxis": "y"
        },
        {
         "hovertemplate": "variable=HTM<br>index=%{x}<br>value=%{y}<extra></extra>",
         "legendgroup": "HTM",
         "line": {
          "color": "#636efa",
          "dash": "solid"
         },
         "marker": {
          "symbol": "circle"
         },
         "mode": "lines",
         "name": "HTM",
         "orientation": "v",
         "showlegend": true,
         "type": "scatter",
         "x": [
          "roc_auc",
          "accuracy",
          "precision",
          "kappa",
          "sensibilidad",
          "especificidad"
         ],
         "xaxis": "x",
         "y": [
          0.4975419465232175,
          0.9245345728189535,
          0.011743450767841012,
          -0.008566023219445107,
          0.0009198981035946788,
          0.9941639949428402
         ],
         "yaxis": "y"
        }
       ],
       "layout": {
        "legend": {
         "title": {
          "text": "variable"
         },
         "tracegroupgap": 0
        },
        "margin": {
         "t": 60
        },
        "template": {
         "data": {
          "bar": [
           {
            "error_x": {
             "color": "#2a3f5f"
            },
            "error_y": {
             "color": "#2a3f5f"
            },
            "marker": {
             "line": {
              "color": "#E5ECF6",
              "width": 0.5
             },
             "pattern": {
              "fillmode": "overlay",
              "size": 10,
              "solidity": 0.2
             }
            },
            "type": "bar"
           }
          ],
          "barpolar": [
           {
            "marker": {
             "line": {
              "color": "#E5ECF6",
              "width": 0.5
             },
             "pattern": {
              "fillmode": "overlay",
              "size": 10,
              "solidity": 0.2
             }
            },
            "type": "barpolar"
           }
          ],
          "carpet": [
           {
            "aaxis": {
             "endlinecolor": "#2a3f5f",
             "gridcolor": "white",
             "linecolor": "white",
             "minorgridcolor": "white",
             "startlinecolor": "#2a3f5f"
            },
            "baxis": {
             "endlinecolor": "#2a3f5f",
             "gridcolor": "white",
             "linecolor": "white",
             "minorgridcolor": "white",
             "startlinecolor": "#2a3f5f"
            },
            "type": "carpet"
           }
          ],
          "choropleth": [
           {
            "colorbar": {
             "outlinewidth": 0,
             "ticks": ""
            },
            "type": "choropleth"
           }
          ],
          "contour": [
           {
            "colorbar": {
             "outlinewidth": 0,
             "ticks": ""
            },
            "colorscale": [
             [
              0,
              "#0d0887"
             ],
             [
              0.1111111111111111,
              "#46039f"
             ],
             [
              0.2222222222222222,
              "#7201a8"
             ],
             [
              0.3333333333333333,
              "#9c179e"
             ],
             [
              0.4444444444444444,
              "#bd3786"
             ],
             [
              0.5555555555555556,
              "#d8576b"
             ],
             [
              0.6666666666666666,
              "#ed7953"
             ],
             [
              0.7777777777777778,
              "#fb9f3a"
             ],
             [
              0.8888888888888888,
              "#fdca26"
             ],
             [
              1,
              "#f0f921"
             ]
            ],
            "type": "contour"
           }
          ],
          "contourcarpet": [
           {
            "colorbar": {
             "outlinewidth": 0,
             "ticks": ""
            },
            "type": "contourcarpet"
           }
          ],
          "heatmap": [
           {
            "colorbar": {
             "outlinewidth": 0,
             "ticks": ""
            },
            "colorscale": [
             [
              0,
              "#0d0887"
             ],
             [
              0.1111111111111111,
              "#46039f"
             ],
             [
              0.2222222222222222,
              "#7201a8"
             ],
             [
              0.3333333333333333,
              "#9c179e"
             ],
             [
              0.4444444444444444,
              "#bd3786"
             ],
             [
              0.5555555555555556,
              "#d8576b"
             ],
             [
              0.6666666666666666,
              "#ed7953"
             ],
             [
              0.7777777777777778,
              "#fb9f3a"
             ],
             [
              0.8888888888888888,
              "#fdca26"
             ],
             [
              1,
              "#f0f921"
             ]
            ],
            "type": "heatmap"
           }
          ],
          "heatmapgl": [
           {
            "colorbar": {
             "outlinewidth": 0,
             "ticks": ""
            },
            "colorscale": [
             [
              0,
              "#0d0887"
             ],
             [
              0.1111111111111111,
              "#46039f"
             ],
             [
              0.2222222222222222,
              "#7201a8"
             ],
             [
              0.3333333333333333,
              "#9c179e"
             ],
             [
              0.4444444444444444,
              "#bd3786"
             ],
             [
              0.5555555555555556,
              "#d8576b"
             ],
             [
              0.6666666666666666,
              "#ed7953"
             ],
             [
              0.7777777777777778,
              "#fb9f3a"
             ],
             [
              0.8888888888888888,
              "#fdca26"
             ],
             [
              1,
              "#f0f921"
             ]
            ],
            "type": "heatmapgl"
           }
          ],
          "histogram": [
           {
            "marker": {
             "pattern": {
              "fillmode": "overlay",
              "size": 10,
              "solidity": 0.2
             }
            },
            "type": "histogram"
           }
          ],
          "histogram2d": [
           {
            "colorbar": {
             "outlinewidth": 0,
             "ticks": ""
            },
            "colorscale": [
             [
              0,
              "#0d0887"
             ],
             [
              0.1111111111111111,
              "#46039f"
             ],
             [
              0.2222222222222222,
              "#7201a8"
             ],
             [
              0.3333333333333333,
              "#9c179e"
             ],
             [
              0.4444444444444444,
              "#bd3786"
             ],
             [
              0.5555555555555556,
              "#d8576b"
             ],
             [
              0.6666666666666666,
              "#ed7953"
             ],
             [
              0.7777777777777778,
              "#fb9f3a"
             ],
             [
              0.8888888888888888,
              "#fdca26"
             ],
             [
              1,
              "#f0f921"
             ]
            ],
            "type": "histogram2d"
           }
          ],
          "histogram2dcontour": [
           {
            "colorbar": {
             "outlinewidth": 0,
             "ticks": ""
            },
            "colorscale": [
             [
              0,
              "#0d0887"
             ],
             [
              0.1111111111111111,
              "#46039f"
             ],
             [
              0.2222222222222222,
              "#7201a8"
             ],
             [
              0.3333333333333333,
              "#9c179e"
             ],
             [
              0.4444444444444444,
              "#bd3786"
             ],
             [
              0.5555555555555556,
              "#d8576b"
             ],
             [
              0.6666666666666666,
              "#ed7953"
             ],
             [
              0.7777777777777778,
              "#fb9f3a"
             ],
             [
              0.8888888888888888,
              "#fdca26"
             ],
             [
              1,
              "#f0f921"
             ]
            ],
            "type": "histogram2dcontour"
           }
          ],
          "mesh3d": [
           {
            "colorbar": {
             "outlinewidth": 0,
             "ticks": ""
            },
            "type": "mesh3d"
           }
          ],
          "parcoords": [
           {
            "line": {
             "colorbar": {
              "outlinewidth": 0,
              "ticks": ""
             }
            },
            "type": "parcoords"
           }
          ],
          "pie": [
           {
            "automargin": true,
            "type": "pie"
           }
          ],
          "scatter": [
           {
            "fillpattern": {
             "fillmode": "overlay",
             "size": 10,
             "solidity": 0.2
            },
            "type": "scatter"
           }
          ],
          "scatter3d": [
           {
            "line": {
             "colorbar": {
              "outlinewidth": 0,
              "ticks": ""
             }
            },
            "marker": {
             "colorbar": {
              "outlinewidth": 0,
              "ticks": ""
             }
            },
            "type": "scatter3d"
           }
          ],
          "scattercarpet": [
           {
            "marker": {
             "colorbar": {
              "outlinewidth": 0,
              "ticks": ""
             }
            },
            "type": "scattercarpet"
           }
          ],
          "scattergeo": [
           {
            "marker": {
             "colorbar": {
              "outlinewidth": 0,
              "ticks": ""
             }
            },
            "type": "scattergeo"
           }
          ],
          "scattergl": [
           {
            "marker": {
             "colorbar": {
              "outlinewidth": 0,
              "ticks": ""
             }
            },
            "type": "scattergl"
           }
          ],
          "scattermapbox": [
           {
            "marker": {
             "colorbar": {
              "outlinewidth": 0,
              "ticks": ""
             }
            },
            "type": "scattermapbox"
           }
          ],
          "scatterpolar": [
           {
            "marker": {
             "colorbar": {
              "outlinewidth": 0,
              "ticks": ""
             }
            },
            "type": "scatterpolar"
           }
          ],
          "scatterpolargl": [
           {
            "marker": {
             "colorbar": {
              "outlinewidth": 0,
              "ticks": ""
             }
            },
            "type": "scatterpolargl"
           }
          ],
          "scatterternary": [
           {
            "marker": {
             "colorbar": {
              "outlinewidth": 0,
              "ticks": ""
             }
            },
            "type": "scatterternary"
           }
          ],
          "surface": [
           {
            "colorbar": {
             "outlinewidth": 0,
             "ticks": ""
            },
            "colorscale": [
             [
              0,
              "#0d0887"
             ],
             [
              0.1111111111111111,
              "#46039f"
             ],
             [
              0.2222222222222222,
              "#7201a8"
             ],
             [
              0.3333333333333333,
              "#9c179e"
             ],
             [
              0.4444444444444444,
              "#bd3786"
             ],
             [
              0.5555555555555556,
              "#d8576b"
             ],
             [
              0.6666666666666666,
              "#ed7953"
             ],
             [
              0.7777777777777778,
              "#fb9f3a"
             ],
             [
              0.8888888888888888,
              "#fdca26"
             ],
             [
              1,
              "#f0f921"
             ]
            ],
            "type": "surface"
           }
          ],
          "table": [
           {
            "cells": {
             "fill": {
              "color": "#EBF0F8"
             },
             "line": {
              "color": "white"
             }
            },
            "header": {
             "fill": {
              "color": "#C8D4E3"
             },
             "line": {
              "color": "white"
             }
            },
            "type": "table"
           }
          ]
         },
         "layout": {
          "annotationdefaults": {
           "arrowcolor": "#2a3f5f",
           "arrowhead": 0,
           "arrowwidth": 1
          },
          "autotypenumbers": "strict",
          "coloraxis": {
           "colorbar": {
            "outlinewidth": 0,
            "ticks": ""
           }
          },
          "colorscale": {
           "diverging": [
            [
             0,
             "#8e0152"
            ],
            [
             0.1,
             "#c51b7d"
            ],
            [
             0.2,
             "#de77ae"
            ],
            [
             0.3,
             "#f1b6da"
            ],
            [
             0.4,
             "#fde0ef"
            ],
            [
             0.5,
             "#f7f7f7"
            ],
            [
             0.6,
             "#e6f5d0"
            ],
            [
             0.7,
             "#b8e186"
            ],
            [
             0.8,
             "#7fbc41"
            ],
            [
             0.9,
             "#4d9221"
            ],
            [
             1,
             "#276419"
            ]
           ],
           "sequential": [
            [
             0,
             "#0d0887"
            ],
            [
             0.1111111111111111,
             "#46039f"
            ],
            [
             0.2222222222222222,
             "#7201a8"
            ],
            [
             0.3333333333333333,
             "#9c179e"
            ],
            [
             0.4444444444444444,
             "#bd3786"
            ],
            [
             0.5555555555555556,
             "#d8576b"
            ],
            [
             0.6666666666666666,
             "#ed7953"
            ],
            [
             0.7777777777777778,
             "#fb9f3a"
            ],
            [
             0.8888888888888888,
             "#fdca26"
            ],
            [
             1,
             "#f0f921"
            ]
           ],
           "sequentialminus": [
            [
             0,
             "#0d0887"
            ],
            [
             0.1111111111111111,
             "#46039f"
            ],
            [
             0.2222222222222222,
             "#7201a8"
            ],
            [
             0.3333333333333333,
             "#9c179e"
            ],
            [
             0.4444444444444444,
             "#bd3786"
            ],
            [
             0.5555555555555556,
             "#d8576b"
            ],
            [
             0.6666666666666666,
             "#ed7953"
            ],
            [
             0.7777777777777778,
             "#fb9f3a"
            ],
            [
             0.8888888888888888,
             "#fdca26"
            ],
            [
             1,
             "#f0f921"
            ]
           ]
          },
          "colorway": [
           "#636efa",
           "#EF553B",
           "#00cc96",
           "#ab63fa",
           "#FFA15A",
           "#19d3f3",
           "#FF6692",
           "#B6E880",
           "#FF97FF",
           "#FECB52"
          ],
          "font": {
           "color": "#2a3f5f"
          },
          "geo": {
           "bgcolor": "white",
           "lakecolor": "white",
           "landcolor": "#E5ECF6",
           "showlakes": true,
           "showland": true,
           "subunitcolor": "white"
          },
          "hoverlabel": {
           "align": "left"
          },
          "hovermode": "closest",
          "mapbox": {
           "style": "light"
          },
          "paper_bgcolor": "white",
          "plot_bgcolor": "#E5ECF6",
          "polar": {
           "angularaxis": {
            "gridcolor": "white",
            "linecolor": "white",
            "ticks": ""
           },
           "bgcolor": "#E5ECF6",
           "radialaxis": {
            "gridcolor": "white",
            "linecolor": "white",
            "ticks": ""
           }
          },
          "scene": {
           "xaxis": {
            "backgroundcolor": "#E5ECF6",
            "gridcolor": "white",
            "gridwidth": 2,
            "linecolor": "white",
            "showbackground": true,
            "ticks": "",
            "zerolinecolor": "white"
           },
           "yaxis": {
            "backgroundcolor": "#E5ECF6",
            "gridcolor": "white",
            "gridwidth": 2,
            "linecolor": "white",
            "showbackground": true,
            "ticks": "",
            "zerolinecolor": "white"
           },
           "zaxis": {
            "backgroundcolor": "#E5ECF6",
            "gridcolor": "white",
            "gridwidth": 2,
            "linecolor": "white",
            "showbackground": true,
            "ticks": "",
            "zerolinecolor": "white"
           }
          },
          "shapedefaults": {
           "line": {
            "color": "#2a3f5f"
           }
          },
          "ternary": {
           "aaxis": {
            "gridcolor": "white",
            "linecolor": "white",
            "ticks": ""
           },
           "baxis": {
            "gridcolor": "white",
            "linecolor": "white",
            "ticks": ""
           },
           "bgcolor": "#E5ECF6",
           "caxis": {
            "gridcolor": "white",
            "linecolor": "white",
            "ticks": ""
           }
          },
          "title": {
           "x": 0.05
          },
          "xaxis": {
           "automargin": true,
           "gridcolor": "white",
           "linecolor": "white",
           "ticks": "",
           "title": {
            "standoff": 15
           },
           "zerolinecolor": "white",
           "zerolinewidth": 2
          },
          "yaxis": {
           "automargin": true,
           "gridcolor": "white",
           "linecolor": "white",
           "ticks": "",
           "title": {
            "standoff": 15
           },
           "zerolinecolor": "white",
           "zerolinewidth": 2
          }
         }
        },
        "xaxis": {
         "anchor": "y",
         "domain": [
          0,
          1
         ],
         "title": {
          "text": "index"
         }
        },
        "yaxis": {
         "anchor": "x",
         "domain": [
          0,
          1
         ],
         "title": {
          "text": "value"
         }
        }
       }
      }
     },
     "metadata": {},
     "output_type": "display_data"
    }
   ],
   "source": [
    "px.line(metodos_metricas.T)"
   ]
  },
  {
   "cell_type": "markdown",
   "metadata": {},
   "source": [
    "### Sensibilidad por tipo de anomalía"
   ]
  },
  {
   "cell_type": "code",
   "execution_count": 30,
   "metadata": {},
   "outputs": [
    {
     "data": {
      "text/html": [
       "<div>\n",
       "<style scoped>\n",
       "    .dataframe tbody tr th:only-of-type {\n",
       "        vertical-align: middle;\n",
       "    }\n",
       "\n",
       "    .dataframe tbody tr th {\n",
       "        vertical-align: top;\n",
       "    }\n",
       "\n",
       "    .dataframe thead th {\n",
       "        text-align: right;\n",
       "    }\n",
       "</style>\n",
       "<table border=\"1\" class=\"dataframe\">\n",
       "  <thead>\n",
       "    <tr style=\"text-align: right;\">\n",
       "      <th></th>\n",
       "      <th>Anomalia</th>\n",
       "      <th>Negro</th>\n",
       "      <th>Congelado</th>\n",
       "      <th>Hum</th>\n",
       "    </tr>\n",
       "  </thead>\n",
       "  <tbody>\n",
       "    <tr>\n",
       "      <th>HBOS</th>\n",
       "      <td>0.320423</td>\n",
       "      <td>0.272241</td>\n",
       "      <td>0.259173</td>\n",
       "      <td>0.890909</td>\n",
       "    </tr>\n",
       "    <tr>\n",
       "      <th>IForest</th>\n",
       "      <td>0.517606</td>\n",
       "      <td>0.508508</td>\n",
       "      <td>0.486339</td>\n",
       "      <td>0.807273</td>\n",
       "    </tr>\n",
       "    <tr>\n",
       "      <th>KNN</th>\n",
       "      <td>0.187324</td>\n",
       "      <td>0.122022</td>\n",
       "      <td>0.162763</td>\n",
       "      <td>0.407273</td>\n",
       "    </tr>\n",
       "    <tr>\n",
       "      <th>LODA</th>\n",
       "      <td>0.259507</td>\n",
       "      <td>0.187652</td>\n",
       "      <td>0.188525</td>\n",
       "      <td>0.912727</td>\n",
       "    </tr>\n",
       "    <tr>\n",
       "      <th>MAD_PyOD</th>\n",
       "      <td>0.908451</td>\n",
       "      <td>1.0</td>\n",
       "      <td>0.898517</td>\n",
       "      <td>1.0</td>\n",
       "    </tr>\n",
       "    <tr>\n",
       "      <th>MCD</th>\n",
       "      <td>0.19331</td>\n",
       "      <td>0.111327</td>\n",
       "      <td>0.161202</td>\n",
       "      <td>0.483636</td>\n",
       "    </tr>\n",
       "    <tr>\n",
       "      <th>IForestASD</th>\n",
       "      <td>0.903169</td>\n",
       "      <td>0.944579</td>\n",
       "      <td>0.895004</td>\n",
       "      <td>0.981818</td>\n",
       "    </tr>\n",
       "    <tr>\n",
       "      <th>MAD_PySAD</th>\n",
       "      <td>0.908803</td>\n",
       "      <td>1.0</td>\n",
       "      <td>0.898907</td>\n",
       "      <td>1.0</td>\n",
       "    </tr>\n",
       "    <tr>\n",
       "      <th>SAD</th>\n",
       "      <td>0.908451</td>\n",
       "      <td>1.0</td>\n",
       "      <td>0.898517</td>\n",
       "      <td>1.0</td>\n",
       "    </tr>\n",
       "    <tr>\n",
       "      <th>xStream</th>\n",
       "      <td>0.920423</td>\n",
       "      <td>0.98104</td>\n",
       "      <td>0.922717</td>\n",
       "      <td>0.898182</td>\n",
       "    </tr>\n",
       "    <tr>\n",
       "      <th>HTM</th>\n",
       "      <td>0.00092</td>\n",
       "      <td>0.0</td>\n",
       "      <td>0.000789</td>\n",
       "      <td>0.002082</td>\n",
       "    </tr>\n",
       "  </tbody>\n",
       "</table>\n",
       "</div>"
      ],
      "text/plain": [
       "            Anomalia     Negro Congelado       Hum\n",
       "HBOS        0.320423  0.272241  0.259173  0.890909\n",
       "IForest     0.517606  0.508508  0.486339  0.807273\n",
       "KNN         0.187324  0.122022  0.162763  0.407273\n",
       "LODA        0.259507  0.187652  0.188525  0.912727\n",
       "MAD_PyOD    0.908451       1.0  0.898517       1.0\n",
       "MCD          0.19331  0.111327  0.161202  0.483636\n",
       "IForestASD  0.903169  0.944579  0.895004  0.981818\n",
       "MAD_PySAD   0.908803       1.0  0.898907       1.0\n",
       "SAD         0.908451       1.0  0.898517       1.0\n",
       "xStream     0.920423   0.98104  0.922717  0.898182\n",
       "HTM          0.00092       0.0  0.000789  0.002082"
      ]
     },
     "execution_count": 30,
     "metadata": {},
     "output_type": "execute_result"
    }
   ],
   "source": [
    "metodos_sensibilidades = calc_sensibilidad(metodos,metodos_lista,anomalias)\n",
    "metodos_sensibilidades = pd.concat([metodos_sensibilidades,calc_sensibilidad(metodos_htm, ['HTM'], anomalias)])\n",
    "metodos_sensibilidades"
   ]
  },
  {
   "cell_type": "code",
   "execution_count": 31,
   "metadata": {},
   "outputs": [
    {
     "data": {
      "application/vnd.plotly.v1+json": {
       "config": {
        "plotlyServerURL": "https://plot.ly"
       },
       "data": [
        {
         "hovertemplate": "variable=HBOS<br>index=%{x}<br>value=%{y}<extra></extra>",
         "legendgroup": "HBOS",
         "line": {
          "color": "#636efa",
          "dash": "solid"
         },
         "marker": {
          "symbol": "circle"
         },
         "mode": "lines",
         "name": "HBOS",
         "orientation": "v",
         "showlegend": true,
         "type": "scatter",
         "x": [
          "Anomalia",
          "Negro",
          "Congelado",
          "Hum"
         ],
         "xaxis": "x",
         "y": [
          0.3204225352112676,
          0.2722411278561011,
          0.25917252146760345,
          0.8909090909090909
         ],
         "yaxis": "y"
        },
        {
         "hovertemplate": "variable=IForest<br>index=%{x}<br>value=%{y}<extra></extra>",
         "legendgroup": "IForest",
         "line": {
          "color": "#EF553B",
          "dash": "solid"
         },
         "marker": {
          "symbol": "circle"
         },
         "mode": "lines",
         "name": "IForest",
         "orientation": "v",
         "showlegend": true,
         "type": "scatter",
         "x": [
          "Anomalia",
          "Negro",
          "Congelado",
          "Hum"
         ],
         "xaxis": "x",
         "y": [
          0.5176056338028169,
          0.5085075352455032,
          0.48633879781420764,
          0.8072727272727273
         ],
         "yaxis": "y"
        },
        {
         "hovertemplate": "variable=KNN<br>index=%{x}<br>value=%{y}<extra></extra>",
         "legendgroup": "KNN",
         "line": {
          "color": "#00cc96",
          "dash": "solid"
         },
         "marker": {
          "symbol": "circle"
         },
         "mode": "lines",
         "name": "KNN",
         "orientation": "v",
         "showlegend": true,
         "type": "scatter",
         "x": [
          "Anomalia",
          "Negro",
          "Congelado",
          "Hum"
         ],
         "xaxis": "x",
         "y": [
          0.18732394366197183,
          0.12202236266407389,
          0.16276346604215455,
          0.4072727272727273
         ],
         "yaxis": "y"
        },
        {
         "hovertemplate": "variable=LODA<br>index=%{x}<br>value=%{y}<extra></extra>",
         "legendgroup": "LODA",
         "line": {
          "color": "#ab63fa",
          "dash": "solid"
         },
         "marker": {
          "symbol": "circle"
         },
         "mode": "lines",
         "name": "LODA",
         "orientation": "v",
         "showlegend": true,
         "type": "scatter",
         "x": [
          "Anomalia",
          "Negro",
          "Congelado",
          "Hum"
         ],
         "xaxis": "x",
         "y": [
          0.2595070422535211,
          0.18765192027224112,
          0.1885245901639344,
          0.9127272727272727
         ],
         "yaxis": "y"
        },
        {
         "hovertemplate": "variable=MAD_PyOD<br>index=%{x}<br>value=%{y}<extra></extra>",
         "legendgroup": "MAD_PyOD",
         "line": {
          "color": "#FFA15A",
          "dash": "solid"
         },
         "marker": {
          "symbol": "circle"
         },
         "mode": "lines",
         "name": "MAD_PyOD",
         "orientation": "v",
         "showlegend": true,
         "type": "scatter",
         "x": [
          "Anomalia",
          "Negro",
          "Congelado",
          "Hum"
         ],
         "xaxis": "x",
         "y": [
          0.9084507042253521,
          1,
          0.8985167837626854,
          1
         ],
         "yaxis": "y"
        },
        {
         "hovertemplate": "variable=MCD<br>index=%{x}<br>value=%{y}<extra></extra>",
         "legendgroup": "MCD",
         "line": {
          "color": "#19d3f3",
          "dash": "solid"
         },
         "marker": {
          "symbol": "circle"
         },
         "mode": "lines",
         "name": "MCD",
         "orientation": "v",
         "showlegend": true,
         "type": "scatter",
         "x": [
          "Anomalia",
          "Negro",
          "Congelado",
          "Hum"
         ],
         "xaxis": "x",
         "y": [
          0.19330985915492957,
          0.11132717549829849,
          0.16120218579234974,
          0.48363636363636364
         ],
         "yaxis": "y"
        },
        {
         "hovertemplate": "variable=IForestASD<br>index=%{x}<br>value=%{y}<extra></extra>",
         "legendgroup": "IForestASD",
         "line": {
          "color": "#FF6692",
          "dash": "solid"
         },
         "marker": {
          "symbol": "circle"
         },
         "mode": "lines",
         "name": "IForestASD",
         "orientation": "v",
         "showlegend": true,
         "type": "scatter",
         "x": [
          "Anomalia",
          "Negro",
          "Congelado",
          "Hum"
         ],
         "xaxis": "x",
         "y": [
          0.903169014084507,
          0.9445794846864366,
          0.8950039032006245,
          0.9818181818181818
         ],
         "yaxis": "y"
        },
        {
         "hovertemplate": "variable=MAD_PySAD<br>index=%{x}<br>value=%{y}<extra></extra>",
         "legendgroup": "MAD_PySAD",
         "line": {
          "color": "#B6E880",
          "dash": "solid"
         },
         "marker": {
          "symbol": "circle"
         },
         "mode": "lines",
         "name": "MAD_PySAD",
         "orientation": "v",
         "showlegend": true,
         "type": "scatter",
         "x": [
          "Anomalia",
          "Negro",
          "Congelado",
          "Hum"
         ],
         "xaxis": "x",
         "y": [
          0.9088028169014084,
          1,
          0.8989071038251366,
          1
         ],
         "yaxis": "y"
        },
        {
         "hovertemplate": "variable=SAD<br>index=%{x}<br>value=%{y}<extra></extra>",
         "legendgroup": "SAD",
         "line": {
          "color": "#FF97FF",
          "dash": "solid"
         },
         "marker": {
          "symbol": "circle"
         },
         "mode": "lines",
         "name": "SAD",
         "orientation": "v",
         "showlegend": true,
         "type": "scatter",
         "x": [
          "Anomalia",
          "Negro",
          "Congelado",
          "Hum"
         ],
         "xaxis": "x",
         "y": [
          0.9084507042253521,
          1,
          0.8985167837626854,
          1
         ],
         "yaxis": "y"
        },
        {
         "hovertemplate": "variable=xStream<br>index=%{x}<br>value=%{y}<extra></extra>",
         "legendgroup": "xStream",
         "line": {
          "color": "#FECB52",
          "dash": "solid"
         },
         "marker": {
          "symbol": "circle"
         },
         "mode": "lines",
         "name": "xStream",
         "orientation": "v",
         "showlegend": true,
         "type": "scatter",
         "x": [
          "Anomalia",
          "Negro",
          "Congelado",
          "Hum"
         ],
         "xaxis": "x",
         "y": [
          0.9204225352112676,
          0.9810403500243072,
          0.9227166276346604,
          0.8981818181818182
         ],
         "yaxis": "y"
        },
        {
         "hovertemplate": "variable=HTM<br>index=%{x}<br>value=%{y}<extra></extra>",
         "legendgroup": "HTM",
         "line": {
          "color": "#636efa",
          "dash": "solid"
         },
         "marker": {
          "symbol": "circle"
         },
         "mode": "lines",
         "name": "HTM",
         "orientation": "v",
         "showlegend": true,
         "type": "scatter",
         "x": [
          "Anomalia",
          "Negro",
          "Congelado",
          "Hum"
         ],
         "xaxis": "x",
         "y": [
          0.0009198981035946788,
          0,
          0.0007891414141414141,
          0.002081887578070784
         ],
         "yaxis": "y"
        }
       ],
       "layout": {
        "legend": {
         "title": {
          "text": "variable"
         },
         "tracegroupgap": 0
        },
        "margin": {
         "t": 60
        },
        "template": {
         "data": {
          "bar": [
           {
            "error_x": {
             "color": "#2a3f5f"
            },
            "error_y": {
             "color": "#2a3f5f"
            },
            "marker": {
             "line": {
              "color": "#E5ECF6",
              "width": 0.5
             },
             "pattern": {
              "fillmode": "overlay",
              "size": 10,
              "solidity": 0.2
             }
            },
            "type": "bar"
           }
          ],
          "barpolar": [
           {
            "marker": {
             "line": {
              "color": "#E5ECF6",
              "width": 0.5
             },
             "pattern": {
              "fillmode": "overlay",
              "size": 10,
              "solidity": 0.2
             }
            },
            "type": "barpolar"
           }
          ],
          "carpet": [
           {
            "aaxis": {
             "endlinecolor": "#2a3f5f",
             "gridcolor": "white",
             "linecolor": "white",
             "minorgridcolor": "white",
             "startlinecolor": "#2a3f5f"
            },
            "baxis": {
             "endlinecolor": "#2a3f5f",
             "gridcolor": "white",
             "linecolor": "white",
             "minorgridcolor": "white",
             "startlinecolor": "#2a3f5f"
            },
            "type": "carpet"
           }
          ],
          "choropleth": [
           {
            "colorbar": {
             "outlinewidth": 0,
             "ticks": ""
            },
            "type": "choropleth"
           }
          ],
          "contour": [
           {
            "colorbar": {
             "outlinewidth": 0,
             "ticks": ""
            },
            "colorscale": [
             [
              0,
              "#0d0887"
             ],
             [
              0.1111111111111111,
              "#46039f"
             ],
             [
              0.2222222222222222,
              "#7201a8"
             ],
             [
              0.3333333333333333,
              "#9c179e"
             ],
             [
              0.4444444444444444,
              "#bd3786"
             ],
             [
              0.5555555555555556,
              "#d8576b"
             ],
             [
              0.6666666666666666,
              "#ed7953"
             ],
             [
              0.7777777777777778,
              "#fb9f3a"
             ],
             [
              0.8888888888888888,
              "#fdca26"
             ],
             [
              1,
              "#f0f921"
             ]
            ],
            "type": "contour"
           }
          ],
          "contourcarpet": [
           {
            "colorbar": {
             "outlinewidth": 0,
             "ticks": ""
            },
            "type": "contourcarpet"
           }
          ],
          "heatmap": [
           {
            "colorbar": {
             "outlinewidth": 0,
             "ticks": ""
            },
            "colorscale": [
             [
              0,
              "#0d0887"
             ],
             [
              0.1111111111111111,
              "#46039f"
             ],
             [
              0.2222222222222222,
              "#7201a8"
             ],
             [
              0.3333333333333333,
              "#9c179e"
             ],
             [
              0.4444444444444444,
              "#bd3786"
             ],
             [
              0.5555555555555556,
              "#d8576b"
             ],
             [
              0.6666666666666666,
              "#ed7953"
             ],
             [
              0.7777777777777778,
              "#fb9f3a"
             ],
             [
              0.8888888888888888,
              "#fdca26"
             ],
             [
              1,
              "#f0f921"
             ]
            ],
            "type": "heatmap"
           }
          ],
          "heatmapgl": [
           {
            "colorbar": {
             "outlinewidth": 0,
             "ticks": ""
            },
            "colorscale": [
             [
              0,
              "#0d0887"
             ],
             [
              0.1111111111111111,
              "#46039f"
             ],
             [
              0.2222222222222222,
              "#7201a8"
             ],
             [
              0.3333333333333333,
              "#9c179e"
             ],
             [
              0.4444444444444444,
              "#bd3786"
             ],
             [
              0.5555555555555556,
              "#d8576b"
             ],
             [
              0.6666666666666666,
              "#ed7953"
             ],
             [
              0.7777777777777778,
              "#fb9f3a"
             ],
             [
              0.8888888888888888,
              "#fdca26"
             ],
             [
              1,
              "#f0f921"
             ]
            ],
            "type": "heatmapgl"
           }
          ],
          "histogram": [
           {
            "marker": {
             "pattern": {
              "fillmode": "overlay",
              "size": 10,
              "solidity": 0.2
             }
            },
            "type": "histogram"
           }
          ],
          "histogram2d": [
           {
            "colorbar": {
             "outlinewidth": 0,
             "ticks": ""
            },
            "colorscale": [
             [
              0,
              "#0d0887"
             ],
             [
              0.1111111111111111,
              "#46039f"
             ],
             [
              0.2222222222222222,
              "#7201a8"
             ],
             [
              0.3333333333333333,
              "#9c179e"
             ],
             [
              0.4444444444444444,
              "#bd3786"
             ],
             [
              0.5555555555555556,
              "#d8576b"
             ],
             [
              0.6666666666666666,
              "#ed7953"
             ],
             [
              0.7777777777777778,
              "#fb9f3a"
             ],
             [
              0.8888888888888888,
              "#fdca26"
             ],
             [
              1,
              "#f0f921"
             ]
            ],
            "type": "histogram2d"
           }
          ],
          "histogram2dcontour": [
           {
            "colorbar": {
             "outlinewidth": 0,
             "ticks": ""
            },
            "colorscale": [
             [
              0,
              "#0d0887"
             ],
             [
              0.1111111111111111,
              "#46039f"
             ],
             [
              0.2222222222222222,
              "#7201a8"
             ],
             [
              0.3333333333333333,
              "#9c179e"
             ],
             [
              0.4444444444444444,
              "#bd3786"
             ],
             [
              0.5555555555555556,
              "#d8576b"
             ],
             [
              0.6666666666666666,
              "#ed7953"
             ],
             [
              0.7777777777777778,
              "#fb9f3a"
             ],
             [
              0.8888888888888888,
              "#fdca26"
             ],
             [
              1,
              "#f0f921"
             ]
            ],
            "type": "histogram2dcontour"
           }
          ],
          "mesh3d": [
           {
            "colorbar": {
             "outlinewidth": 0,
             "ticks": ""
            },
            "type": "mesh3d"
           }
          ],
          "parcoords": [
           {
            "line": {
             "colorbar": {
              "outlinewidth": 0,
              "ticks": ""
             }
            },
            "type": "parcoords"
           }
          ],
          "pie": [
           {
            "automargin": true,
            "type": "pie"
           }
          ],
          "scatter": [
           {
            "fillpattern": {
             "fillmode": "overlay",
             "size": 10,
             "solidity": 0.2
            },
            "type": "scatter"
           }
          ],
          "scatter3d": [
           {
            "line": {
             "colorbar": {
              "outlinewidth": 0,
              "ticks": ""
             }
            },
            "marker": {
             "colorbar": {
              "outlinewidth": 0,
              "ticks": ""
             }
            },
            "type": "scatter3d"
           }
          ],
          "scattercarpet": [
           {
            "marker": {
             "colorbar": {
              "outlinewidth": 0,
              "ticks": ""
             }
            },
            "type": "scattercarpet"
           }
          ],
          "scattergeo": [
           {
            "marker": {
             "colorbar": {
              "outlinewidth": 0,
              "ticks": ""
             }
            },
            "type": "scattergeo"
           }
          ],
          "scattergl": [
           {
            "marker": {
             "colorbar": {
              "outlinewidth": 0,
              "ticks": ""
             }
            },
            "type": "scattergl"
           }
          ],
          "scattermapbox": [
           {
            "marker": {
             "colorbar": {
              "outlinewidth": 0,
              "ticks": ""
             }
            },
            "type": "scattermapbox"
           }
          ],
          "scatterpolar": [
           {
            "marker": {
             "colorbar": {
              "outlinewidth": 0,
              "ticks": ""
             }
            },
            "type": "scatterpolar"
           }
          ],
          "scatterpolargl": [
           {
            "marker": {
             "colorbar": {
              "outlinewidth": 0,
              "ticks": ""
             }
            },
            "type": "scatterpolargl"
           }
          ],
          "scatterternary": [
           {
            "marker": {
             "colorbar": {
              "outlinewidth": 0,
              "ticks": ""
             }
            },
            "type": "scatterternary"
           }
          ],
          "surface": [
           {
            "colorbar": {
             "outlinewidth": 0,
             "ticks": ""
            },
            "colorscale": [
             [
              0,
              "#0d0887"
             ],
             [
              0.1111111111111111,
              "#46039f"
             ],
             [
              0.2222222222222222,
              "#7201a8"
             ],
             [
              0.3333333333333333,
              "#9c179e"
             ],
             [
              0.4444444444444444,
              "#bd3786"
             ],
             [
              0.5555555555555556,
              "#d8576b"
             ],
             [
              0.6666666666666666,
              "#ed7953"
             ],
             [
              0.7777777777777778,
              "#fb9f3a"
             ],
             [
              0.8888888888888888,
              "#fdca26"
             ],
             [
              1,
              "#f0f921"
             ]
            ],
            "type": "surface"
           }
          ],
          "table": [
           {
            "cells": {
             "fill": {
              "color": "#EBF0F8"
             },
             "line": {
              "color": "white"
             }
            },
            "header": {
             "fill": {
              "color": "#C8D4E3"
             },
             "line": {
              "color": "white"
             }
            },
            "type": "table"
           }
          ]
         },
         "layout": {
          "annotationdefaults": {
           "arrowcolor": "#2a3f5f",
           "arrowhead": 0,
           "arrowwidth": 1
          },
          "autotypenumbers": "strict",
          "coloraxis": {
           "colorbar": {
            "outlinewidth": 0,
            "ticks": ""
           }
          },
          "colorscale": {
           "diverging": [
            [
             0,
             "#8e0152"
            ],
            [
             0.1,
             "#c51b7d"
            ],
            [
             0.2,
             "#de77ae"
            ],
            [
             0.3,
             "#f1b6da"
            ],
            [
             0.4,
             "#fde0ef"
            ],
            [
             0.5,
             "#f7f7f7"
            ],
            [
             0.6,
             "#e6f5d0"
            ],
            [
             0.7,
             "#b8e186"
            ],
            [
             0.8,
             "#7fbc41"
            ],
            [
             0.9,
             "#4d9221"
            ],
            [
             1,
             "#276419"
            ]
           ],
           "sequential": [
            [
             0,
             "#0d0887"
            ],
            [
             0.1111111111111111,
             "#46039f"
            ],
            [
             0.2222222222222222,
             "#7201a8"
            ],
            [
             0.3333333333333333,
             "#9c179e"
            ],
            [
             0.4444444444444444,
             "#bd3786"
            ],
            [
             0.5555555555555556,
             "#d8576b"
            ],
            [
             0.6666666666666666,
             "#ed7953"
            ],
            [
             0.7777777777777778,
             "#fb9f3a"
            ],
            [
             0.8888888888888888,
             "#fdca26"
            ],
            [
             1,
             "#f0f921"
            ]
           ],
           "sequentialminus": [
            [
             0,
             "#0d0887"
            ],
            [
             0.1111111111111111,
             "#46039f"
            ],
            [
             0.2222222222222222,
             "#7201a8"
            ],
            [
             0.3333333333333333,
             "#9c179e"
            ],
            [
             0.4444444444444444,
             "#bd3786"
            ],
            [
             0.5555555555555556,
             "#d8576b"
            ],
            [
             0.6666666666666666,
             "#ed7953"
            ],
            [
             0.7777777777777778,
             "#fb9f3a"
            ],
            [
             0.8888888888888888,
             "#fdca26"
            ],
            [
             1,
             "#f0f921"
            ]
           ]
          },
          "colorway": [
           "#636efa",
           "#EF553B",
           "#00cc96",
           "#ab63fa",
           "#FFA15A",
           "#19d3f3",
           "#FF6692",
           "#B6E880",
           "#FF97FF",
           "#FECB52"
          ],
          "font": {
           "color": "#2a3f5f"
          },
          "geo": {
           "bgcolor": "white",
           "lakecolor": "white",
           "landcolor": "#E5ECF6",
           "showlakes": true,
           "showland": true,
           "subunitcolor": "white"
          },
          "hoverlabel": {
           "align": "left"
          },
          "hovermode": "closest",
          "mapbox": {
           "style": "light"
          },
          "paper_bgcolor": "white",
          "plot_bgcolor": "#E5ECF6",
          "polar": {
           "angularaxis": {
            "gridcolor": "white",
            "linecolor": "white",
            "ticks": ""
           },
           "bgcolor": "#E5ECF6",
           "radialaxis": {
            "gridcolor": "white",
            "linecolor": "white",
            "ticks": ""
           }
          },
          "scene": {
           "xaxis": {
            "backgroundcolor": "#E5ECF6",
            "gridcolor": "white",
            "gridwidth": 2,
            "linecolor": "white",
            "showbackground": true,
            "ticks": "",
            "zerolinecolor": "white"
           },
           "yaxis": {
            "backgroundcolor": "#E5ECF6",
            "gridcolor": "white",
            "gridwidth": 2,
            "linecolor": "white",
            "showbackground": true,
            "ticks": "",
            "zerolinecolor": "white"
           },
           "zaxis": {
            "backgroundcolor": "#E5ECF6",
            "gridcolor": "white",
            "gridwidth": 2,
            "linecolor": "white",
            "showbackground": true,
            "ticks": "",
            "zerolinecolor": "white"
           }
          },
          "shapedefaults": {
           "line": {
            "color": "#2a3f5f"
           }
          },
          "ternary": {
           "aaxis": {
            "gridcolor": "white",
            "linecolor": "white",
            "ticks": ""
           },
           "baxis": {
            "gridcolor": "white",
            "linecolor": "white",
            "ticks": ""
           },
           "bgcolor": "#E5ECF6",
           "caxis": {
            "gridcolor": "white",
            "linecolor": "white",
            "ticks": ""
           }
          },
          "title": {
           "x": 0.05
          },
          "xaxis": {
           "automargin": true,
           "gridcolor": "white",
           "linecolor": "white",
           "ticks": "",
           "title": {
            "standoff": 15
           },
           "zerolinecolor": "white",
           "zerolinewidth": 2
          },
          "yaxis": {
           "automargin": true,
           "gridcolor": "white",
           "linecolor": "white",
           "ticks": "",
           "title": {
            "standoff": 15
           },
           "zerolinecolor": "white",
           "zerolinewidth": 2
          }
         }
        },
        "xaxis": {
         "anchor": "y",
         "domain": [
          0,
          1
         ],
         "title": {
          "text": "index"
         }
        },
        "yaxis": {
         "anchor": "x",
         "domain": [
          0,
          1
         ],
         "title": {
          "text": "value"
         }
        }
       }
      }
     },
     "metadata": {},
     "output_type": "display_data"
    }
   ],
   "source": [
    "px.line(metodos_sensibilidades.T)"
   ]
  },
  {
   "cell_type": "markdown",
   "metadata": {},
   "source": [
    "## Métodos NIRvsSecadero"
   ]
  },
  {
   "cell_type": "code",
   "execution_count": 32,
   "metadata": {},
   "outputs": [
    {
     "data": {
      "text/html": [
       "<div>\n",
       "<style scoped>\n",
       "    .dataframe tbody tr th:only-of-type {\n",
       "        vertical-align: middle;\n",
       "    }\n",
       "\n",
       "    .dataframe tbody tr th {\n",
       "        vertical-align: top;\n",
       "    }\n",
       "\n",
       "    .dataframe thead th {\n",
       "        text-align: right;\n",
       "    }\n",
       "</style>\n",
       "<table border=\"1\" class=\"dataframe\">\n",
       "  <thead>\n",
       "    <tr style=\"text-align: right;\">\n",
       "      <th></th>\n",
       "      <th>Negro</th>\n",
       "      <th>Congelado</th>\n",
       "      <th>Hum</th>\n",
       "      <th>Anomalia</th>\n",
       "      <th>IForest</th>\n",
       "      <th>MAD</th>\n",
       "    </tr>\n",
       "    <tr>\n",
       "      <th>fecha</th>\n",
       "      <th></th>\n",
       "      <th></th>\n",
       "      <th></th>\n",
       "      <th></th>\n",
       "      <th></th>\n",
       "      <th></th>\n",
       "    </tr>\n",
       "  </thead>\n",
       "  <tbody>\n",
       "    <tr>\n",
       "      <th>2021-05-05 10:31:00</th>\n",
       "      <td>0</td>\n",
       "      <td>0</td>\n",
       "      <td>0</td>\n",
       "      <td>0</td>\n",
       "      <td>0</td>\n",
       "      <td>0</td>\n",
       "    </tr>\n",
       "    <tr>\n",
       "      <th>2021-03-04 02:06:00</th>\n",
       "      <td>0</td>\n",
       "      <td>0</td>\n",
       "      <td>0</td>\n",
       "      <td>0</td>\n",
       "      <td>0</td>\n",
       "      <td>0</td>\n",
       "    </tr>\n",
       "    <tr>\n",
       "      <th>2021-07-06 21:41:00</th>\n",
       "      <td>0</td>\n",
       "      <td>0</td>\n",
       "      <td>0</td>\n",
       "      <td>0</td>\n",
       "      <td>0</td>\n",
       "      <td>0</td>\n",
       "    </tr>\n",
       "    <tr>\n",
       "      <th>2021-05-01 21:58:00</th>\n",
       "      <td>0</td>\n",
       "      <td>0</td>\n",
       "      <td>0</td>\n",
       "      <td>0</td>\n",
       "      <td>0</td>\n",
       "      <td>0</td>\n",
       "    </tr>\n",
       "    <tr>\n",
       "      <th>2021-04-03 19:13:00</th>\n",
       "      <td>0</td>\n",
       "      <td>0</td>\n",
       "      <td>0</td>\n",
       "      <td>0</td>\n",
       "      <td>0</td>\n",
       "      <td>0</td>\n",
       "    </tr>\n",
       "  </tbody>\n",
       "</table>\n",
       "</div>"
      ],
      "text/plain": [
       "                     Negro  Congelado  Hum  Anomalia  IForest  MAD\n",
       "fecha                                                             \n",
       "2021-05-05 10:31:00      0          0    0         0        0    0\n",
       "2021-03-04 02:06:00      0          0    0         0        0    0\n",
       "2021-07-06 21:41:00      0          0    0         0        0    0\n",
       "2021-05-01 21:58:00      0          0    0         0        0    0\n",
       "2021-04-03 19:13:00      0          0    0         0        0    0"
      ]
     },
     "execution_count": 32,
     "metadata": {},
     "output_type": "execute_result"
    }
   ],
   "source": [
    "metodos_NvS = pd.read_csv('Metodos_NIRvsSecadero/Thresholds/Resultados/PyOD_IForest_completo.csv',index_col='fecha')\n",
    "metodos_NvS = metodos_NvS.drop('Y_pred', axis=1)\n",
    "\n",
    "metodos_NvS['IForest'] = pd.read_csv('Metodos_NIRvsSecadero/Thresholds/Resultados/PyOD_IForest_completo.csv',usecols=['fecha','Y_pred'],index_col='fecha')\n",
    "metodos_NvS['MAD'] = pd.read_csv('Metodos_NIRvsSecadero/Thresholds/Resultados/PyOD_MAD_completo.csv',usecols=['fecha','Y_pred'],index_col='fecha')\n",
    "\n",
    "metodos_NvS_htm = pd.read_csv('Metodos_NIRvsSecadero/Thresholds/HTM_Uni/HTM_completo.csv',index_col='fecha')\n",
    "metodos_NvS_htm['HTM'] = metodos_NvS_htm['Y_pred']\n",
    "metodos_NvS_htm = metodos_NvS_htm.drop('Y_pred',axis=1)\n",
    "\n",
    "metodos_NvS.head()"
   ]
  },
  {
   "cell_type": "markdown",
   "metadata": {},
   "source": []
  },
  {
   "cell_type": "markdown",
   "metadata": {},
   "source": [
    "### Métricas generales:"
   ]
  },
  {
   "cell_type": "code",
   "execution_count": 33,
   "metadata": {},
   "outputs": [
    {
     "data": {
      "text/html": [
       "<div>\n",
       "<style scoped>\n",
       "    .dataframe tbody tr th:only-of-type {\n",
       "        vertical-align: middle;\n",
       "    }\n",
       "\n",
       "    .dataframe tbody tr th {\n",
       "        vertical-align: top;\n",
       "    }\n",
       "\n",
       "    .dataframe thead th {\n",
       "        text-align: right;\n",
       "    }\n",
       "</style>\n",
       "<table border=\"1\" class=\"dataframe\">\n",
       "  <thead>\n",
       "    <tr style=\"text-align: right;\">\n",
       "      <th></th>\n",
       "      <th>roc_auc</th>\n",
       "      <th>accuracy</th>\n",
       "      <th>precision</th>\n",
       "      <th>kappa</th>\n",
       "      <th>sensibilidad</th>\n",
       "      <th>especificidad</th>\n",
       "    </tr>\n",
       "  </thead>\n",
       "  <tbody>\n",
       "    <tr>\n",
       "      <th>IForest</th>\n",
       "      <td>0.88955</td>\n",
       "      <td>0.943797</td>\n",
       "      <td>0.56966</td>\n",
       "      <td>0.644804</td>\n",
       "      <td>0.826408</td>\n",
       "      <td>0.952692</td>\n",
       "    </tr>\n",
       "    <tr>\n",
       "      <th>MAD</th>\n",
       "      <td>0.88998</td>\n",
       "      <td>0.947319</td>\n",
       "      <td>0.590404</td>\n",
       "      <td>0.659731</td>\n",
       "      <td>0.823239</td>\n",
       "      <td>0.956721</td>\n",
       "    </tr>\n",
       "  </tbody>\n",
       "</table>\n",
       "</div>"
      ],
      "text/plain": [
       "         roc_auc  accuracy precision     kappa sensibilidad especificidad\n",
       "IForest  0.88955  0.943797   0.56966  0.644804     0.826408      0.952692\n",
       "MAD      0.88998  0.947319  0.590404  0.659731     0.823239      0.956721"
      ]
     },
     "execution_count": 33,
     "metadata": {},
     "output_type": "execute_result"
    }
   ],
   "source": [
    "metodos_NvS_lista = ['IForest','MAD']\n",
    "metodos_NvS_metricas = calc_metricas(metodos_NvS,['IForest','MAD'])\n",
    "metodos_NvS_metricas"
   ]
  },
  {
   "cell_type": "code",
   "execution_count": 34,
   "metadata": {},
   "outputs": [
    {
     "data": {
      "text/html": [
       "<div>\n",
       "<style scoped>\n",
       "    .dataframe tbody tr th:only-of-type {\n",
       "        vertical-align: middle;\n",
       "    }\n",
       "\n",
       "    .dataframe tbody tr th {\n",
       "        vertical-align: top;\n",
       "    }\n",
       "\n",
       "    .dataframe thead th {\n",
       "        text-align: right;\n",
       "    }\n",
       "</style>\n",
       "<table border=\"1\" class=\"dataframe\">\n",
       "  <thead>\n",
       "    <tr style=\"text-align: right;\">\n",
       "      <th></th>\n",
       "      <th>roc_auc</th>\n",
       "      <th>accuracy</th>\n",
       "      <th>precision</th>\n",
       "      <th>kappa</th>\n",
       "      <th>sensibilidad</th>\n",
       "      <th>especificidad</th>\n",
       "    </tr>\n",
       "  </thead>\n",
       "  <tbody>\n",
       "    <tr>\n",
       "      <th>IForest</th>\n",
       "      <td>0.88955</td>\n",
       "      <td>0.943797</td>\n",
       "      <td>0.56966</td>\n",
       "      <td>0.644804</td>\n",
       "      <td>0.826408</td>\n",
       "      <td>0.952692</td>\n",
       "    </tr>\n",
       "    <tr>\n",
       "      <th>MAD</th>\n",
       "      <td>0.88998</td>\n",
       "      <td>0.947319</td>\n",
       "      <td>0.590404</td>\n",
       "      <td>0.659731</td>\n",
       "      <td>0.823239</td>\n",
       "      <td>0.956721</td>\n",
       "    </tr>\n",
       "  </tbody>\n",
       "</table>\n",
       "</div>"
      ],
      "text/plain": [
       "         roc_auc  accuracy precision     kappa sensibilidad especificidad\n",
       "IForest  0.88955  0.943797   0.56966  0.644804     0.826408      0.952692\n",
       "MAD      0.88998  0.947319  0.590404  0.659731     0.823239      0.956721"
      ]
     },
     "execution_count": 34,
     "metadata": {},
     "output_type": "execute_result"
    }
   ],
   "source": [
    "metodos_NvS_metricas = calc_metricas(metodos_NvS, metodos_NvS_lista)\n",
    "metodos_NvS_metricas"
   ]
  },
  {
   "cell_type": "code",
   "execution_count": 35,
   "metadata": {},
   "outputs": [
    {
     "data": {
      "application/vnd.plotly.v1+json": {
       "config": {
        "plotlyServerURL": "https://plot.ly"
       },
       "data": [
        {
         "hovertemplate": "variable=IForest<br>index=%{x}<br>value=%{y}<extra></extra>",
         "legendgroup": "IForest",
         "line": {
          "color": "#636efa",
          "dash": "solid"
         },
         "marker": {
          "symbol": "circle"
         },
         "mode": "lines",
         "name": "IForest",
         "orientation": "v",
         "showlegend": true,
         "type": "scatter",
         "x": [
          "roc_auc",
          "accuracy",
          "precision",
          "kappa",
          "sensibilidad",
          "especificidad"
         ],
         "xaxis": "x",
         "y": [
          0.8895503484109739,
          0.9437968153182201,
          0.5696601941747573,
          0.6448038907097842,
          0.8264084507042253,
          0.9526922461177224
         ],
         "yaxis": "y"
        },
        {
         "hovertemplate": "variable=MAD<br>index=%{x}<br>value=%{y}<extra></extra>",
         "legendgroup": "MAD",
         "line": {
          "color": "#EF553B",
          "dash": "solid"
         },
         "marker": {
          "symbol": "circle"
         },
         "mode": "lines",
         "name": "MAD",
         "orientation": "v",
         "showlegend": true,
         "type": "scatter",
         "x": [
          "roc_auc",
          "accuracy",
          "precision",
          "kappa",
          "sensibilidad",
          "especificidad"
         ],
         "xaxis": "x",
         "y": [
          0.8899803565509605,
          0.9473188154174315,
          0.5904040404040404,
          0.6597307263173622,
          0.8232394366197183,
          0.9567212764822028
         ],
         "yaxis": "y"
        }
       ],
       "layout": {
        "legend": {
         "title": {
          "text": "variable"
         },
         "tracegroupgap": 0
        },
        "margin": {
         "t": 60
        },
        "template": {
         "data": {
          "bar": [
           {
            "error_x": {
             "color": "#2a3f5f"
            },
            "error_y": {
             "color": "#2a3f5f"
            },
            "marker": {
             "line": {
              "color": "#E5ECF6",
              "width": 0.5
             },
             "pattern": {
              "fillmode": "overlay",
              "size": 10,
              "solidity": 0.2
             }
            },
            "type": "bar"
           }
          ],
          "barpolar": [
           {
            "marker": {
             "line": {
              "color": "#E5ECF6",
              "width": 0.5
             },
             "pattern": {
              "fillmode": "overlay",
              "size": 10,
              "solidity": 0.2
             }
            },
            "type": "barpolar"
           }
          ],
          "carpet": [
           {
            "aaxis": {
             "endlinecolor": "#2a3f5f",
             "gridcolor": "white",
             "linecolor": "white",
             "minorgridcolor": "white",
             "startlinecolor": "#2a3f5f"
            },
            "baxis": {
             "endlinecolor": "#2a3f5f",
             "gridcolor": "white",
             "linecolor": "white",
             "minorgridcolor": "white",
             "startlinecolor": "#2a3f5f"
            },
            "type": "carpet"
           }
          ],
          "choropleth": [
           {
            "colorbar": {
             "outlinewidth": 0,
             "ticks": ""
            },
            "type": "choropleth"
           }
          ],
          "contour": [
           {
            "colorbar": {
             "outlinewidth": 0,
             "ticks": ""
            },
            "colorscale": [
             [
              0,
              "#0d0887"
             ],
             [
              0.1111111111111111,
              "#46039f"
             ],
             [
              0.2222222222222222,
              "#7201a8"
             ],
             [
              0.3333333333333333,
              "#9c179e"
             ],
             [
              0.4444444444444444,
              "#bd3786"
             ],
             [
              0.5555555555555556,
              "#d8576b"
             ],
             [
              0.6666666666666666,
              "#ed7953"
             ],
             [
              0.7777777777777778,
              "#fb9f3a"
             ],
             [
              0.8888888888888888,
              "#fdca26"
             ],
             [
              1,
              "#f0f921"
             ]
            ],
            "type": "contour"
           }
          ],
          "contourcarpet": [
           {
            "colorbar": {
             "outlinewidth": 0,
             "ticks": ""
            },
            "type": "contourcarpet"
           }
          ],
          "heatmap": [
           {
            "colorbar": {
             "outlinewidth": 0,
             "ticks": ""
            },
            "colorscale": [
             [
              0,
              "#0d0887"
             ],
             [
              0.1111111111111111,
              "#46039f"
             ],
             [
              0.2222222222222222,
              "#7201a8"
             ],
             [
              0.3333333333333333,
              "#9c179e"
             ],
             [
              0.4444444444444444,
              "#bd3786"
             ],
             [
              0.5555555555555556,
              "#d8576b"
             ],
             [
              0.6666666666666666,
              "#ed7953"
             ],
             [
              0.7777777777777778,
              "#fb9f3a"
             ],
             [
              0.8888888888888888,
              "#fdca26"
             ],
             [
              1,
              "#f0f921"
             ]
            ],
            "type": "heatmap"
           }
          ],
          "heatmapgl": [
           {
            "colorbar": {
             "outlinewidth": 0,
             "ticks": ""
            },
            "colorscale": [
             [
              0,
              "#0d0887"
             ],
             [
              0.1111111111111111,
              "#46039f"
             ],
             [
              0.2222222222222222,
              "#7201a8"
             ],
             [
              0.3333333333333333,
              "#9c179e"
             ],
             [
              0.4444444444444444,
              "#bd3786"
             ],
             [
              0.5555555555555556,
              "#d8576b"
             ],
             [
              0.6666666666666666,
              "#ed7953"
             ],
             [
              0.7777777777777778,
              "#fb9f3a"
             ],
             [
              0.8888888888888888,
              "#fdca26"
             ],
             [
              1,
              "#f0f921"
             ]
            ],
            "type": "heatmapgl"
           }
          ],
          "histogram": [
           {
            "marker": {
             "pattern": {
              "fillmode": "overlay",
              "size": 10,
              "solidity": 0.2
             }
            },
            "type": "histogram"
           }
          ],
          "histogram2d": [
           {
            "colorbar": {
             "outlinewidth": 0,
             "ticks": ""
            },
            "colorscale": [
             [
              0,
              "#0d0887"
             ],
             [
              0.1111111111111111,
              "#46039f"
             ],
             [
              0.2222222222222222,
              "#7201a8"
             ],
             [
              0.3333333333333333,
              "#9c179e"
             ],
             [
              0.4444444444444444,
              "#bd3786"
             ],
             [
              0.5555555555555556,
              "#d8576b"
             ],
             [
              0.6666666666666666,
              "#ed7953"
             ],
             [
              0.7777777777777778,
              "#fb9f3a"
             ],
             [
              0.8888888888888888,
              "#fdca26"
             ],
             [
              1,
              "#f0f921"
             ]
            ],
            "type": "histogram2d"
           }
          ],
          "histogram2dcontour": [
           {
            "colorbar": {
             "outlinewidth": 0,
             "ticks": ""
            },
            "colorscale": [
             [
              0,
              "#0d0887"
             ],
             [
              0.1111111111111111,
              "#46039f"
             ],
             [
              0.2222222222222222,
              "#7201a8"
             ],
             [
              0.3333333333333333,
              "#9c179e"
             ],
             [
              0.4444444444444444,
              "#bd3786"
             ],
             [
              0.5555555555555556,
              "#d8576b"
             ],
             [
              0.6666666666666666,
              "#ed7953"
             ],
             [
              0.7777777777777778,
              "#fb9f3a"
             ],
             [
              0.8888888888888888,
              "#fdca26"
             ],
             [
              1,
              "#f0f921"
             ]
            ],
            "type": "histogram2dcontour"
           }
          ],
          "mesh3d": [
           {
            "colorbar": {
             "outlinewidth": 0,
             "ticks": ""
            },
            "type": "mesh3d"
           }
          ],
          "parcoords": [
           {
            "line": {
             "colorbar": {
              "outlinewidth": 0,
              "ticks": ""
             }
            },
            "type": "parcoords"
           }
          ],
          "pie": [
           {
            "automargin": true,
            "type": "pie"
           }
          ],
          "scatter": [
           {
            "fillpattern": {
             "fillmode": "overlay",
             "size": 10,
             "solidity": 0.2
            },
            "type": "scatter"
           }
          ],
          "scatter3d": [
           {
            "line": {
             "colorbar": {
              "outlinewidth": 0,
              "ticks": ""
             }
            },
            "marker": {
             "colorbar": {
              "outlinewidth": 0,
              "ticks": ""
             }
            },
            "type": "scatter3d"
           }
          ],
          "scattercarpet": [
           {
            "marker": {
             "colorbar": {
              "outlinewidth": 0,
              "ticks": ""
             }
            },
            "type": "scattercarpet"
           }
          ],
          "scattergeo": [
           {
            "marker": {
             "colorbar": {
              "outlinewidth": 0,
              "ticks": ""
             }
            },
            "type": "scattergeo"
           }
          ],
          "scattergl": [
           {
            "marker": {
             "colorbar": {
              "outlinewidth": 0,
              "ticks": ""
             }
            },
            "type": "scattergl"
           }
          ],
          "scattermapbox": [
           {
            "marker": {
             "colorbar": {
              "outlinewidth": 0,
              "ticks": ""
             }
            },
            "type": "scattermapbox"
           }
          ],
          "scatterpolar": [
           {
            "marker": {
             "colorbar": {
              "outlinewidth": 0,
              "ticks": ""
             }
            },
            "type": "scatterpolar"
           }
          ],
          "scatterpolargl": [
           {
            "marker": {
             "colorbar": {
              "outlinewidth": 0,
              "ticks": ""
             }
            },
            "type": "scatterpolargl"
           }
          ],
          "scatterternary": [
           {
            "marker": {
             "colorbar": {
              "outlinewidth": 0,
              "ticks": ""
             }
            },
            "type": "scatterternary"
           }
          ],
          "surface": [
           {
            "colorbar": {
             "outlinewidth": 0,
             "ticks": ""
            },
            "colorscale": [
             [
              0,
              "#0d0887"
             ],
             [
              0.1111111111111111,
              "#46039f"
             ],
             [
              0.2222222222222222,
              "#7201a8"
             ],
             [
              0.3333333333333333,
              "#9c179e"
             ],
             [
              0.4444444444444444,
              "#bd3786"
             ],
             [
              0.5555555555555556,
              "#d8576b"
             ],
             [
              0.6666666666666666,
              "#ed7953"
             ],
             [
              0.7777777777777778,
              "#fb9f3a"
             ],
             [
              0.8888888888888888,
              "#fdca26"
             ],
             [
              1,
              "#f0f921"
             ]
            ],
            "type": "surface"
           }
          ],
          "table": [
           {
            "cells": {
             "fill": {
              "color": "#EBF0F8"
             },
             "line": {
              "color": "white"
             }
            },
            "header": {
             "fill": {
              "color": "#C8D4E3"
             },
             "line": {
              "color": "white"
             }
            },
            "type": "table"
           }
          ]
         },
         "layout": {
          "annotationdefaults": {
           "arrowcolor": "#2a3f5f",
           "arrowhead": 0,
           "arrowwidth": 1
          },
          "autotypenumbers": "strict",
          "coloraxis": {
           "colorbar": {
            "outlinewidth": 0,
            "ticks": ""
           }
          },
          "colorscale": {
           "diverging": [
            [
             0,
             "#8e0152"
            ],
            [
             0.1,
             "#c51b7d"
            ],
            [
             0.2,
             "#de77ae"
            ],
            [
             0.3,
             "#f1b6da"
            ],
            [
             0.4,
             "#fde0ef"
            ],
            [
             0.5,
             "#f7f7f7"
            ],
            [
             0.6,
             "#e6f5d0"
            ],
            [
             0.7,
             "#b8e186"
            ],
            [
             0.8,
             "#7fbc41"
            ],
            [
             0.9,
             "#4d9221"
            ],
            [
             1,
             "#276419"
            ]
           ],
           "sequential": [
            [
             0,
             "#0d0887"
            ],
            [
             0.1111111111111111,
             "#46039f"
            ],
            [
             0.2222222222222222,
             "#7201a8"
            ],
            [
             0.3333333333333333,
             "#9c179e"
            ],
            [
             0.4444444444444444,
             "#bd3786"
            ],
            [
             0.5555555555555556,
             "#d8576b"
            ],
            [
             0.6666666666666666,
             "#ed7953"
            ],
            [
             0.7777777777777778,
             "#fb9f3a"
            ],
            [
             0.8888888888888888,
             "#fdca26"
            ],
            [
             1,
             "#f0f921"
            ]
           ],
           "sequentialminus": [
            [
             0,
             "#0d0887"
            ],
            [
             0.1111111111111111,
             "#46039f"
            ],
            [
             0.2222222222222222,
             "#7201a8"
            ],
            [
             0.3333333333333333,
             "#9c179e"
            ],
            [
             0.4444444444444444,
             "#bd3786"
            ],
            [
             0.5555555555555556,
             "#d8576b"
            ],
            [
             0.6666666666666666,
             "#ed7953"
            ],
            [
             0.7777777777777778,
             "#fb9f3a"
            ],
            [
             0.8888888888888888,
             "#fdca26"
            ],
            [
             1,
             "#f0f921"
            ]
           ]
          },
          "colorway": [
           "#636efa",
           "#EF553B",
           "#00cc96",
           "#ab63fa",
           "#FFA15A",
           "#19d3f3",
           "#FF6692",
           "#B6E880",
           "#FF97FF",
           "#FECB52"
          ],
          "font": {
           "color": "#2a3f5f"
          },
          "geo": {
           "bgcolor": "white",
           "lakecolor": "white",
           "landcolor": "#E5ECF6",
           "showlakes": true,
           "showland": true,
           "subunitcolor": "white"
          },
          "hoverlabel": {
           "align": "left"
          },
          "hovermode": "closest",
          "mapbox": {
           "style": "light"
          },
          "paper_bgcolor": "white",
          "plot_bgcolor": "#E5ECF6",
          "polar": {
           "angularaxis": {
            "gridcolor": "white",
            "linecolor": "white",
            "ticks": ""
           },
           "bgcolor": "#E5ECF6",
           "radialaxis": {
            "gridcolor": "white",
            "linecolor": "white",
            "ticks": ""
           }
          },
          "scene": {
           "xaxis": {
            "backgroundcolor": "#E5ECF6",
            "gridcolor": "white",
            "gridwidth": 2,
            "linecolor": "white",
            "showbackground": true,
            "ticks": "",
            "zerolinecolor": "white"
           },
           "yaxis": {
            "backgroundcolor": "#E5ECF6",
            "gridcolor": "white",
            "gridwidth": 2,
            "linecolor": "white",
            "showbackground": true,
            "ticks": "",
            "zerolinecolor": "white"
           },
           "zaxis": {
            "backgroundcolor": "#E5ECF6",
            "gridcolor": "white",
            "gridwidth": 2,
            "linecolor": "white",
            "showbackground": true,
            "ticks": "",
            "zerolinecolor": "white"
           }
          },
          "shapedefaults": {
           "line": {
            "color": "#2a3f5f"
           }
          },
          "ternary": {
           "aaxis": {
            "gridcolor": "white",
            "linecolor": "white",
            "ticks": ""
           },
           "baxis": {
            "gridcolor": "white",
            "linecolor": "white",
            "ticks": ""
           },
           "bgcolor": "#E5ECF6",
           "caxis": {
            "gridcolor": "white",
            "linecolor": "white",
            "ticks": ""
           }
          },
          "title": {
           "x": 0.05
          },
          "xaxis": {
           "automargin": true,
           "gridcolor": "white",
           "linecolor": "white",
           "ticks": "",
           "title": {
            "standoff": 15
           },
           "zerolinecolor": "white",
           "zerolinewidth": 2
          },
          "yaxis": {
           "automargin": true,
           "gridcolor": "white",
           "linecolor": "white",
           "ticks": "",
           "title": {
            "standoff": 15
           },
           "zerolinecolor": "white",
           "zerolinewidth": 2
          }
         }
        },
        "xaxis": {
         "anchor": "y",
         "domain": [
          0,
          1
         ],
         "title": {
          "text": "index"
         }
        },
        "yaxis": {
         "anchor": "x",
         "domain": [
          0,
          1
         ],
         "title": {
          "text": "value"
         }
        }
       }
      }
     },
     "metadata": {},
     "output_type": "display_data"
    }
   ],
   "source": [
    "px.line(metodos_NvS_metricas.T)"
   ]
  },
  {
   "cell_type": "markdown",
   "metadata": {},
   "source": [
    "### Sensibilidad por tipo de anomalía"
   ]
  },
  {
   "cell_type": "code",
   "execution_count": 36,
   "metadata": {},
   "outputs": [
    {
     "data": {
      "text/html": [
       "<div>\n",
       "<style scoped>\n",
       "    .dataframe tbody tr th:only-of-type {\n",
       "        vertical-align: middle;\n",
       "    }\n",
       "\n",
       "    .dataframe tbody tr th {\n",
       "        vertical-align: top;\n",
       "    }\n",
       "\n",
       "    .dataframe thead th {\n",
       "        text-align: right;\n",
       "    }\n",
       "</style>\n",
       "<table border=\"1\" class=\"dataframe\">\n",
       "  <thead>\n",
       "    <tr style=\"text-align: right;\">\n",
       "      <th></th>\n",
       "      <th>Anomalia</th>\n",
       "      <th>Negro</th>\n",
       "      <th>Congelado</th>\n",
       "      <th>Hum</th>\n",
       "    </tr>\n",
       "  </thead>\n",
       "  <tbody>\n",
       "    <tr>\n",
       "      <th>IForest</th>\n",
       "      <td>0.826408</td>\n",
       "      <td>1.0</td>\n",
       "      <td>0.90242</td>\n",
       "      <td>0.116364</td>\n",
       "    </tr>\n",
       "    <tr>\n",
       "      <th>MAD</th>\n",
       "      <td>0.823239</td>\n",
       "      <td>0.999514</td>\n",
       "      <td>0.901639</td>\n",
       "      <td>0.090909</td>\n",
       "    </tr>\n",
       "  </tbody>\n",
       "</table>\n",
       "</div>"
      ],
      "text/plain": [
       "         Anomalia     Negro Congelado       Hum\n",
       "IForest  0.826408       1.0   0.90242  0.116364\n",
       "MAD      0.823239  0.999514  0.901639  0.090909"
      ]
     },
     "execution_count": 36,
     "metadata": {},
     "output_type": "execute_result"
    }
   ],
   "source": [
    "metodos_NvS_sensibilidades = calc_sensibilidad(metodos_NvS,metodos_NvS_lista,anomalias)\n",
    "metodos_NvS_sensibilidades"
   ]
  },
  {
   "cell_type": "code",
   "execution_count": 37,
   "metadata": {},
   "outputs": [
    {
     "data": {
      "application/vnd.plotly.v1+json": {
       "config": {
        "plotlyServerURL": "https://plot.ly"
       },
       "data": [
        {
         "hovertemplate": "variable=IForest<br>index=%{x}<br>value=%{y}<extra></extra>",
         "legendgroup": "IForest",
         "line": {
          "color": "#636efa",
          "dash": "solid"
         },
         "marker": {
          "symbol": "circle"
         },
         "mode": "lines",
         "name": "IForest",
         "orientation": "v",
         "showlegend": true,
         "type": "scatter",
         "x": [
          "Anomalia",
          "Negro",
          "Congelado",
          "Hum"
         ],
         "xaxis": "x",
         "y": [
          0.8264084507042253,
          1,
          0.9024199843871975,
          0.11636363636363636
         ],
         "yaxis": "y"
        },
        {
         "hovertemplate": "variable=MAD<br>index=%{x}<br>value=%{y}<extra></extra>",
         "legendgroup": "MAD",
         "line": {
          "color": "#EF553B",
          "dash": "solid"
         },
         "marker": {
          "symbol": "circle"
         },
         "mode": "lines",
         "name": "MAD",
         "orientation": "v",
         "showlegend": true,
         "type": "scatter",
         "x": [
          "Anomalia",
          "Negro",
          "Congelado",
          "Hum"
         ],
         "xaxis": "x",
         "y": [
          0.8232394366197183,
          0.9995138551288284,
          0.9016393442622951,
          0.09090909090909091
         ],
         "yaxis": "y"
        }
       ],
       "layout": {
        "legend": {
         "title": {
          "text": "variable"
         },
         "tracegroupgap": 0
        },
        "margin": {
         "t": 60
        },
        "template": {
         "data": {
          "bar": [
           {
            "error_x": {
             "color": "#2a3f5f"
            },
            "error_y": {
             "color": "#2a3f5f"
            },
            "marker": {
             "line": {
              "color": "#E5ECF6",
              "width": 0.5
             },
             "pattern": {
              "fillmode": "overlay",
              "size": 10,
              "solidity": 0.2
             }
            },
            "type": "bar"
           }
          ],
          "barpolar": [
           {
            "marker": {
             "line": {
              "color": "#E5ECF6",
              "width": 0.5
             },
             "pattern": {
              "fillmode": "overlay",
              "size": 10,
              "solidity": 0.2
             }
            },
            "type": "barpolar"
           }
          ],
          "carpet": [
           {
            "aaxis": {
             "endlinecolor": "#2a3f5f",
             "gridcolor": "white",
             "linecolor": "white",
             "minorgridcolor": "white",
             "startlinecolor": "#2a3f5f"
            },
            "baxis": {
             "endlinecolor": "#2a3f5f",
             "gridcolor": "white",
             "linecolor": "white",
             "minorgridcolor": "white",
             "startlinecolor": "#2a3f5f"
            },
            "type": "carpet"
           }
          ],
          "choropleth": [
           {
            "colorbar": {
             "outlinewidth": 0,
             "ticks": ""
            },
            "type": "choropleth"
           }
          ],
          "contour": [
           {
            "colorbar": {
             "outlinewidth": 0,
             "ticks": ""
            },
            "colorscale": [
             [
              0,
              "#0d0887"
             ],
             [
              0.1111111111111111,
              "#46039f"
             ],
             [
              0.2222222222222222,
              "#7201a8"
             ],
             [
              0.3333333333333333,
              "#9c179e"
             ],
             [
              0.4444444444444444,
              "#bd3786"
             ],
             [
              0.5555555555555556,
              "#d8576b"
             ],
             [
              0.6666666666666666,
              "#ed7953"
             ],
             [
              0.7777777777777778,
              "#fb9f3a"
             ],
             [
              0.8888888888888888,
              "#fdca26"
             ],
             [
              1,
              "#f0f921"
             ]
            ],
            "type": "contour"
           }
          ],
          "contourcarpet": [
           {
            "colorbar": {
             "outlinewidth": 0,
             "ticks": ""
            },
            "type": "contourcarpet"
           }
          ],
          "heatmap": [
           {
            "colorbar": {
             "outlinewidth": 0,
             "ticks": ""
            },
            "colorscale": [
             [
              0,
              "#0d0887"
             ],
             [
              0.1111111111111111,
              "#46039f"
             ],
             [
              0.2222222222222222,
              "#7201a8"
             ],
             [
              0.3333333333333333,
              "#9c179e"
             ],
             [
              0.4444444444444444,
              "#bd3786"
             ],
             [
              0.5555555555555556,
              "#d8576b"
             ],
             [
              0.6666666666666666,
              "#ed7953"
             ],
             [
              0.7777777777777778,
              "#fb9f3a"
             ],
             [
              0.8888888888888888,
              "#fdca26"
             ],
             [
              1,
              "#f0f921"
             ]
            ],
            "type": "heatmap"
           }
          ],
          "heatmapgl": [
           {
            "colorbar": {
             "outlinewidth": 0,
             "ticks": ""
            },
            "colorscale": [
             [
              0,
              "#0d0887"
             ],
             [
              0.1111111111111111,
              "#46039f"
             ],
             [
              0.2222222222222222,
              "#7201a8"
             ],
             [
              0.3333333333333333,
              "#9c179e"
             ],
             [
              0.4444444444444444,
              "#bd3786"
             ],
             [
              0.5555555555555556,
              "#d8576b"
             ],
             [
              0.6666666666666666,
              "#ed7953"
             ],
             [
              0.7777777777777778,
              "#fb9f3a"
             ],
             [
              0.8888888888888888,
              "#fdca26"
             ],
             [
              1,
              "#f0f921"
             ]
            ],
            "type": "heatmapgl"
           }
          ],
          "histogram": [
           {
            "marker": {
             "pattern": {
              "fillmode": "overlay",
              "size": 10,
              "solidity": 0.2
             }
            },
            "type": "histogram"
           }
          ],
          "histogram2d": [
           {
            "colorbar": {
             "outlinewidth": 0,
             "ticks": ""
            },
            "colorscale": [
             [
              0,
              "#0d0887"
             ],
             [
              0.1111111111111111,
              "#46039f"
             ],
             [
              0.2222222222222222,
              "#7201a8"
             ],
             [
              0.3333333333333333,
              "#9c179e"
             ],
             [
              0.4444444444444444,
              "#bd3786"
             ],
             [
              0.5555555555555556,
              "#d8576b"
             ],
             [
              0.6666666666666666,
              "#ed7953"
             ],
             [
              0.7777777777777778,
              "#fb9f3a"
             ],
             [
              0.8888888888888888,
              "#fdca26"
             ],
             [
              1,
              "#f0f921"
             ]
            ],
            "type": "histogram2d"
           }
          ],
          "histogram2dcontour": [
           {
            "colorbar": {
             "outlinewidth": 0,
             "ticks": ""
            },
            "colorscale": [
             [
              0,
              "#0d0887"
             ],
             [
              0.1111111111111111,
              "#46039f"
             ],
             [
              0.2222222222222222,
              "#7201a8"
             ],
             [
              0.3333333333333333,
              "#9c179e"
             ],
             [
              0.4444444444444444,
              "#bd3786"
             ],
             [
              0.5555555555555556,
              "#d8576b"
             ],
             [
              0.6666666666666666,
              "#ed7953"
             ],
             [
              0.7777777777777778,
              "#fb9f3a"
             ],
             [
              0.8888888888888888,
              "#fdca26"
             ],
             [
              1,
              "#f0f921"
             ]
            ],
            "type": "histogram2dcontour"
           }
          ],
          "mesh3d": [
           {
            "colorbar": {
             "outlinewidth": 0,
             "ticks": ""
            },
            "type": "mesh3d"
           }
          ],
          "parcoords": [
           {
            "line": {
             "colorbar": {
              "outlinewidth": 0,
              "ticks": ""
             }
            },
            "type": "parcoords"
           }
          ],
          "pie": [
           {
            "automargin": true,
            "type": "pie"
           }
          ],
          "scatter": [
           {
            "fillpattern": {
             "fillmode": "overlay",
             "size": 10,
             "solidity": 0.2
            },
            "type": "scatter"
           }
          ],
          "scatter3d": [
           {
            "line": {
             "colorbar": {
              "outlinewidth": 0,
              "ticks": ""
             }
            },
            "marker": {
             "colorbar": {
              "outlinewidth": 0,
              "ticks": ""
             }
            },
            "type": "scatter3d"
           }
          ],
          "scattercarpet": [
           {
            "marker": {
             "colorbar": {
              "outlinewidth": 0,
              "ticks": ""
             }
            },
            "type": "scattercarpet"
           }
          ],
          "scattergeo": [
           {
            "marker": {
             "colorbar": {
              "outlinewidth": 0,
              "ticks": ""
             }
            },
            "type": "scattergeo"
           }
          ],
          "scattergl": [
           {
            "marker": {
             "colorbar": {
              "outlinewidth": 0,
              "ticks": ""
             }
            },
            "type": "scattergl"
           }
          ],
          "scattermapbox": [
           {
            "marker": {
             "colorbar": {
              "outlinewidth": 0,
              "ticks": ""
             }
            },
            "type": "scattermapbox"
           }
          ],
          "scatterpolar": [
           {
            "marker": {
             "colorbar": {
              "outlinewidth": 0,
              "ticks": ""
             }
            },
            "type": "scatterpolar"
           }
          ],
          "scatterpolargl": [
           {
            "marker": {
             "colorbar": {
              "outlinewidth": 0,
              "ticks": ""
             }
            },
            "type": "scatterpolargl"
           }
          ],
          "scatterternary": [
           {
            "marker": {
             "colorbar": {
              "outlinewidth": 0,
              "ticks": ""
             }
            },
            "type": "scatterternary"
           }
          ],
          "surface": [
           {
            "colorbar": {
             "outlinewidth": 0,
             "ticks": ""
            },
            "colorscale": [
             [
              0,
              "#0d0887"
             ],
             [
              0.1111111111111111,
              "#46039f"
             ],
             [
              0.2222222222222222,
              "#7201a8"
             ],
             [
              0.3333333333333333,
              "#9c179e"
             ],
             [
              0.4444444444444444,
              "#bd3786"
             ],
             [
              0.5555555555555556,
              "#d8576b"
             ],
             [
              0.6666666666666666,
              "#ed7953"
             ],
             [
              0.7777777777777778,
              "#fb9f3a"
             ],
             [
              0.8888888888888888,
              "#fdca26"
             ],
             [
              1,
              "#f0f921"
             ]
            ],
            "type": "surface"
           }
          ],
          "table": [
           {
            "cells": {
             "fill": {
              "color": "#EBF0F8"
             },
             "line": {
              "color": "white"
             }
            },
            "header": {
             "fill": {
              "color": "#C8D4E3"
             },
             "line": {
              "color": "white"
             }
            },
            "type": "table"
           }
          ]
         },
         "layout": {
          "annotationdefaults": {
           "arrowcolor": "#2a3f5f",
           "arrowhead": 0,
           "arrowwidth": 1
          },
          "autotypenumbers": "strict",
          "coloraxis": {
           "colorbar": {
            "outlinewidth": 0,
            "ticks": ""
           }
          },
          "colorscale": {
           "diverging": [
            [
             0,
             "#8e0152"
            ],
            [
             0.1,
             "#c51b7d"
            ],
            [
             0.2,
             "#de77ae"
            ],
            [
             0.3,
             "#f1b6da"
            ],
            [
             0.4,
             "#fde0ef"
            ],
            [
             0.5,
             "#f7f7f7"
            ],
            [
             0.6,
             "#e6f5d0"
            ],
            [
             0.7,
             "#b8e186"
            ],
            [
             0.8,
             "#7fbc41"
            ],
            [
             0.9,
             "#4d9221"
            ],
            [
             1,
             "#276419"
            ]
           ],
           "sequential": [
            [
             0,
             "#0d0887"
            ],
            [
             0.1111111111111111,
             "#46039f"
            ],
            [
             0.2222222222222222,
             "#7201a8"
            ],
            [
             0.3333333333333333,
             "#9c179e"
            ],
            [
             0.4444444444444444,
             "#bd3786"
            ],
            [
             0.5555555555555556,
             "#d8576b"
            ],
            [
             0.6666666666666666,
             "#ed7953"
            ],
            [
             0.7777777777777778,
             "#fb9f3a"
            ],
            [
             0.8888888888888888,
             "#fdca26"
            ],
            [
             1,
             "#f0f921"
            ]
           ],
           "sequentialminus": [
            [
             0,
             "#0d0887"
            ],
            [
             0.1111111111111111,
             "#46039f"
            ],
            [
             0.2222222222222222,
             "#7201a8"
            ],
            [
             0.3333333333333333,
             "#9c179e"
            ],
            [
             0.4444444444444444,
             "#bd3786"
            ],
            [
             0.5555555555555556,
             "#d8576b"
            ],
            [
             0.6666666666666666,
             "#ed7953"
            ],
            [
             0.7777777777777778,
             "#fb9f3a"
            ],
            [
             0.8888888888888888,
             "#fdca26"
            ],
            [
             1,
             "#f0f921"
            ]
           ]
          },
          "colorway": [
           "#636efa",
           "#EF553B",
           "#00cc96",
           "#ab63fa",
           "#FFA15A",
           "#19d3f3",
           "#FF6692",
           "#B6E880",
           "#FF97FF",
           "#FECB52"
          ],
          "font": {
           "color": "#2a3f5f"
          },
          "geo": {
           "bgcolor": "white",
           "lakecolor": "white",
           "landcolor": "#E5ECF6",
           "showlakes": true,
           "showland": true,
           "subunitcolor": "white"
          },
          "hoverlabel": {
           "align": "left"
          },
          "hovermode": "closest",
          "mapbox": {
           "style": "light"
          },
          "paper_bgcolor": "white",
          "plot_bgcolor": "#E5ECF6",
          "polar": {
           "angularaxis": {
            "gridcolor": "white",
            "linecolor": "white",
            "ticks": ""
           },
           "bgcolor": "#E5ECF6",
           "radialaxis": {
            "gridcolor": "white",
            "linecolor": "white",
            "ticks": ""
           }
          },
          "scene": {
           "xaxis": {
            "backgroundcolor": "#E5ECF6",
            "gridcolor": "white",
            "gridwidth": 2,
            "linecolor": "white",
            "showbackground": true,
            "ticks": "",
            "zerolinecolor": "white"
           },
           "yaxis": {
            "backgroundcolor": "#E5ECF6",
            "gridcolor": "white",
            "gridwidth": 2,
            "linecolor": "white",
            "showbackground": true,
            "ticks": "",
            "zerolinecolor": "white"
           },
           "zaxis": {
            "backgroundcolor": "#E5ECF6",
            "gridcolor": "white",
            "gridwidth": 2,
            "linecolor": "white",
            "showbackground": true,
            "ticks": "",
            "zerolinecolor": "white"
           }
          },
          "shapedefaults": {
           "line": {
            "color": "#2a3f5f"
           }
          },
          "ternary": {
           "aaxis": {
            "gridcolor": "white",
            "linecolor": "white",
            "ticks": ""
           },
           "baxis": {
            "gridcolor": "white",
            "linecolor": "white",
            "ticks": ""
           },
           "bgcolor": "#E5ECF6",
           "caxis": {
            "gridcolor": "white",
            "linecolor": "white",
            "ticks": ""
           }
          },
          "title": {
           "x": 0.05
          },
          "xaxis": {
           "automargin": true,
           "gridcolor": "white",
           "linecolor": "white",
           "ticks": "",
           "title": {
            "standoff": 15
           },
           "zerolinecolor": "white",
           "zerolinewidth": 2
          },
          "yaxis": {
           "automargin": true,
           "gridcolor": "white",
           "linecolor": "white",
           "ticks": "",
           "title": {
            "standoff": 15
           },
           "zerolinecolor": "white",
           "zerolinewidth": 2
          }
         }
        },
        "xaxis": {
         "anchor": "y",
         "domain": [
          0,
          1
         ],
         "title": {
          "text": "index"
         }
        },
        "yaxis": {
         "anchor": "x",
         "domain": [
          0,
          1
         ],
         "title": {
          "text": "value"
         }
        }
       }
      }
     },
     "metadata": {},
     "output_type": "display_data"
    }
   ],
   "source": [
    "px.line(metodos_NvS_sensibilidades.T)"
   ]
  },
  {
   "cell_type": "markdown",
   "metadata": {},
   "source": [
    "## Métodos PVvsPred"
   ]
  },
  {
   "cell_type": "code",
   "execution_count": 38,
   "metadata": {},
   "outputs": [
    {
     "data": {
      "text/html": [
       "<div>\n",
       "<style scoped>\n",
       "    .dataframe tbody tr th:only-of-type {\n",
       "        vertical-align: middle;\n",
       "    }\n",
       "\n",
       "    .dataframe tbody tr th {\n",
       "        vertical-align: top;\n",
       "    }\n",
       "\n",
       "    .dataframe thead th {\n",
       "        text-align: right;\n",
       "    }\n",
       "</style>\n",
       "<table border=\"1\" class=\"dataframe\">\n",
       "  <thead>\n",
       "    <tr style=\"text-align: right;\">\n",
       "      <th></th>\n",
       "      <th>Negro</th>\n",
       "      <th>Congelado</th>\n",
       "      <th>Hum</th>\n",
       "      <th>Anomalia</th>\n",
       "      <th>MAD_PyOD</th>\n",
       "      <th>MAD_PySAD</th>\n",
       "      <th>SAD</th>\n",
       "    </tr>\n",
       "    <tr>\n",
       "      <th>fecha</th>\n",
       "      <th></th>\n",
       "      <th></th>\n",
       "      <th></th>\n",
       "      <th></th>\n",
       "      <th></th>\n",
       "      <th></th>\n",
       "      <th></th>\n",
       "    </tr>\n",
       "  </thead>\n",
       "  <tbody>\n",
       "    <tr>\n",
       "      <th>2021-05-05 10:31:00</th>\n",
       "      <td>0</td>\n",
       "      <td>0</td>\n",
       "      <td>0</td>\n",
       "      <td>0</td>\n",
       "      <td>0</td>\n",
       "      <td>0</td>\n",
       "      <td>0</td>\n",
       "    </tr>\n",
       "    <tr>\n",
       "      <th>2021-03-04 02:06:00</th>\n",
       "      <td>0</td>\n",
       "      <td>0</td>\n",
       "      <td>0</td>\n",
       "      <td>0</td>\n",
       "      <td>0</td>\n",
       "      <td>0</td>\n",
       "      <td>0</td>\n",
       "    </tr>\n",
       "    <tr>\n",
       "      <th>2021-07-06 21:41:00</th>\n",
       "      <td>0</td>\n",
       "      <td>0</td>\n",
       "      <td>0</td>\n",
       "      <td>0</td>\n",
       "      <td>0</td>\n",
       "      <td>0</td>\n",
       "      <td>0</td>\n",
       "    </tr>\n",
       "    <tr>\n",
       "      <th>2021-05-01 21:58:00</th>\n",
       "      <td>0</td>\n",
       "      <td>0</td>\n",
       "      <td>0</td>\n",
       "      <td>0</td>\n",
       "      <td>0</td>\n",
       "      <td>0</td>\n",
       "      <td>0</td>\n",
       "    </tr>\n",
       "    <tr>\n",
       "      <th>2021-04-03 19:13:00</th>\n",
       "      <td>0</td>\n",
       "      <td>0</td>\n",
       "      <td>0</td>\n",
       "      <td>0</td>\n",
       "      <td>0</td>\n",
       "      <td>0</td>\n",
       "      <td>0</td>\n",
       "    </tr>\n",
       "  </tbody>\n",
       "</table>\n",
       "</div>"
      ],
      "text/plain": [
       "                     Negro  Congelado  Hum  Anomalia  MAD_PyOD  MAD_PySAD  SAD\n",
       "fecha                                                                         \n",
       "2021-05-05 10:31:00      0          0    0         0         0          0    0\n",
       "2021-03-04 02:06:00      0          0    0         0         0          0    0\n",
       "2021-07-06 21:41:00      0          0    0         0         0          0    0\n",
       "2021-05-01 21:58:00      0          0    0         0         0          0    0\n",
       "2021-04-03 19:13:00      0          0    0         0         0          0    0"
      ]
     },
     "execution_count": 38,
     "metadata": {},
     "output_type": "execute_result"
    }
   ],
   "source": [
    "metodos_PvP = pd.read_csv('Metodos_PVvsPred/Thresholds/Resultados/PyOD_MAD_completo.csv',index_col='fecha')\n",
    "metodos_PvP = metodos_PvP.drop('Y_pred', axis=1)\n",
    "\n",
    "metodos_PvP['MAD_PyOD'] = pd.read_csv('Metodos_PVvsPred/Thresholds/Resultados/PyOD_MAD_completo.csv',usecols=['fecha','Y_pred'],index_col='fecha')\n",
    "metodos_PvP['MAD_PySAD'] = pd.read_csv('Metodos_PVvsPred/Thresholds/Resultados/PySAD_MAD_completo.csv',usecols=['fecha','Y_pred'],index_col='fecha')\n",
    "metodos_PvP['SAD'] = pd.read_csv('Metodos_PVvsPred/Thresholds/Resultados/PySAD_SAD_completo.csv',usecols=['fecha','Y_pred'],index_col='fecha')\n",
    "\n",
    "metodos_PvP_htm = pd.read_csv('Metodos_PVvsPred/Thresholds/HTM_Uni/HTM_completo.csv',index_col='fecha')\n",
    "metodos_PvP_htm['HTM'] = metodos_PvP_htm['Y_pred']\n",
    "metodos_PvP_htm = metodos_PvP_htm.drop('Y_pred',axis=1)\n",
    "\n",
    "metodos_PvP.head()"
   ]
  },
  {
   "cell_type": "markdown",
   "metadata": {},
   "source": []
  },
  {
   "cell_type": "markdown",
   "metadata": {},
   "source": [
    "### Métricas generales:"
   ]
  },
  {
   "cell_type": "code",
   "execution_count": 39,
   "metadata": {},
   "outputs": [
    {
     "data": {
      "text/html": [
       "<div>\n",
       "<style scoped>\n",
       "    .dataframe tbody tr th:only-of-type {\n",
       "        vertical-align: middle;\n",
       "    }\n",
       "\n",
       "    .dataframe tbody tr th {\n",
       "        vertical-align: top;\n",
       "    }\n",
       "\n",
       "    .dataframe thead th {\n",
       "        text-align: right;\n",
       "    }\n",
       "</style>\n",
       "<table border=\"1\" class=\"dataframe\">\n",
       "  <thead>\n",
       "    <tr style=\"text-align: right;\">\n",
       "      <th></th>\n",
       "      <th>roc_auc</th>\n",
       "      <th>accuracy</th>\n",
       "      <th>precision</th>\n",
       "      <th>kappa</th>\n",
       "      <th>sensibilidad</th>\n",
       "      <th>especificidad</th>\n",
       "    </tr>\n",
       "  </thead>\n",
       "  <tbody>\n",
       "    <tr>\n",
       "      <th>MAD_PyOD</th>\n",
       "      <td>0.900035</td>\n",
       "      <td>0.937274</td>\n",
       "      <td>0.534138</td>\n",
       "      <td>0.625516</td>\n",
       "      <td>0.85669</td>\n",
       "      <td>0.94338</td>\n",
       "    </tr>\n",
       "    <tr>\n",
       "      <th>MAD_PySAD</th>\n",
       "      <td>0.903856</td>\n",
       "      <td>0.946798</td>\n",
       "      <td>0.583634</td>\n",
       "      <td>0.665348</td>\n",
       "      <td>0.853873</td>\n",
       "      <td>0.95384</td>\n",
       "    </tr>\n",
       "    <tr>\n",
       "      <th>SAD</th>\n",
       "      <td>0.902974</td>\n",
       "      <td>0.946972</td>\n",
       "      <td>0.584865</td>\n",
       "      <td>0.665588</td>\n",
       "      <td>0.851761</td>\n",
       "      <td>0.954186</td>\n",
       "    </tr>\n",
       "    <tr>\n",
       "      <th>HTM</th>\n",
       "      <td>0.456342</td>\n",
       "      <td>0.83696</td>\n",
       "      <td>0.010094</td>\n",
       "      <td>-0.075064</td>\n",
       "      <td>0.013657</td>\n",
       "      <td>0.899028</td>\n",
       "    </tr>\n",
       "  </tbody>\n",
       "</table>\n",
       "</div>"
      ],
      "text/plain": [
       "            roc_auc  accuracy precision     kappa sensibilidad especificidad\n",
       "MAD_PyOD   0.900035  0.937274  0.534138  0.625516      0.85669       0.94338\n",
       "MAD_PySAD  0.903856  0.946798  0.583634  0.665348     0.853873       0.95384\n",
       "SAD        0.902974  0.946972  0.584865  0.665588     0.851761      0.954186\n",
       "HTM        0.456342   0.83696  0.010094 -0.075064     0.013657      0.899028"
      ]
     },
     "execution_count": 39,
     "metadata": {},
     "output_type": "execute_result"
    }
   ],
   "source": [
    "metodos_PvP_lista = ['MAD_PyOD','MAD_PySAD','SAD']\n",
    "metodos_PvP_metricas = calc_metricas(metodos_PvP,metodos_PvP_lista)\n",
    "metodos_PvP_metricas = pd.concat([metodos_PvP_metricas,calc_metricas(metodos_PvP_htm, ['HTM'])])\n",
    "metodos_PvP_metricas"
   ]
  },
  {
   "cell_type": "code",
   "execution_count": 40,
   "metadata": {},
   "outputs": [
    {
     "data": {
      "text/html": [
       "<div>\n",
       "<style scoped>\n",
       "    .dataframe tbody tr th:only-of-type {\n",
       "        vertical-align: middle;\n",
       "    }\n",
       "\n",
       "    .dataframe tbody tr th {\n",
       "        vertical-align: top;\n",
       "    }\n",
       "\n",
       "    .dataframe thead th {\n",
       "        text-align: right;\n",
       "    }\n",
       "</style>\n",
       "<table border=\"1\" class=\"dataframe\">\n",
       "  <thead>\n",
       "    <tr style=\"text-align: right;\">\n",
       "      <th></th>\n",
       "      <th>roc_auc</th>\n",
       "      <th>accuracy</th>\n",
       "      <th>precision</th>\n",
       "      <th>kappa</th>\n",
       "      <th>sensibilidad</th>\n",
       "      <th>especificidad</th>\n",
       "    </tr>\n",
       "  </thead>\n",
       "  <tbody>\n",
       "    <tr>\n",
       "      <th>MAD_PyOD</th>\n",
       "      <td>0.900035</td>\n",
       "      <td>0.937274</td>\n",
       "      <td>0.534138</td>\n",
       "      <td>0.625516</td>\n",
       "      <td>0.85669</td>\n",
       "      <td>0.94338</td>\n",
       "    </tr>\n",
       "    <tr>\n",
       "      <th>MAD_PySAD</th>\n",
       "      <td>0.903856</td>\n",
       "      <td>0.946798</td>\n",
       "      <td>0.583634</td>\n",
       "      <td>0.665348</td>\n",
       "      <td>0.853873</td>\n",
       "      <td>0.95384</td>\n",
       "    </tr>\n",
       "    <tr>\n",
       "      <th>SAD</th>\n",
       "      <td>0.902974</td>\n",
       "      <td>0.946972</td>\n",
       "      <td>0.584865</td>\n",
       "      <td>0.665588</td>\n",
       "      <td>0.851761</td>\n",
       "      <td>0.954186</td>\n",
       "    </tr>\n",
       "  </tbody>\n",
       "</table>\n",
       "</div>"
      ],
      "text/plain": [
       "            roc_auc  accuracy precision     kappa sensibilidad especificidad\n",
       "MAD_PyOD   0.900035  0.937274  0.534138  0.625516      0.85669       0.94338\n",
       "MAD_PySAD  0.903856  0.946798  0.583634  0.665348     0.853873       0.95384\n",
       "SAD        0.902974  0.946972  0.584865  0.665588     0.851761      0.954186"
      ]
     },
     "execution_count": 40,
     "metadata": {},
     "output_type": "execute_result"
    }
   ],
   "source": [
    "metodos_PvP_metricas = calc_metricas(metodos_PvP, metodos_PvP_lista)\n",
    "metodos_PvP_metricas"
   ]
  },
  {
   "cell_type": "code",
   "execution_count": 41,
   "metadata": {},
   "outputs": [
    {
     "data": {
      "application/vnd.plotly.v1+json": {
       "config": {
        "plotlyServerURL": "https://plot.ly"
       },
       "data": [
        {
         "hovertemplate": "variable=MAD_PyOD<br>index=%{x}<br>value=%{y}<extra></extra>",
         "legendgroup": "MAD_PyOD",
         "line": {
          "color": "#636efa",
          "dash": "solid"
         },
         "marker": {
          "symbol": "circle"
         },
         "mode": "lines",
         "name": "MAD_PyOD",
         "orientation": "v",
         "showlegend": true,
         "type": "scatter",
         "x": [
          "roc_auc",
          "accuracy",
          "precision",
          "kappa",
          "sensibilidad",
          "especificidad"
         ],
         "xaxis": "x",
         "y": [
          0.9000351285899935,
          0.9372736742893992,
          0.5341383095499451,
          0.6255159473982608,
          0.8566901408450704,
          0.9433801163349165
         ],
         "yaxis": "y"
        },
        {
         "hovertemplate": "variable=MAD_PySAD<br>index=%{x}<br>value=%{y}<extra></extra>",
         "legendgroup": "MAD_PySAD",
         "line": {
          "color": "#EF553B",
          "dash": "solid"
         },
         "marker": {
          "symbol": "circle"
         },
         "mode": "lines",
         "name": "MAD_PySAD",
         "orientation": "v",
         "showlegend": true,
         "type": "scatter",
         "x": [
          "roc_auc",
          "accuracy",
          "precision",
          "kappa",
          "sensibilidad",
          "especificidad"
         ],
         "xaxis": "x",
         "y": [
          0.9038564126635042,
          0.9467979562478298,
          0.5836341756919374,
          0.6653480069440916,
          0.8538732394366197,
          0.953839585890389
         ],
         "yaxis": "y"
        },
        {
         "hovertemplate": "variable=SAD<br>index=%{x}<br>value=%{y}<extra></extra>",
         "legendgroup": "SAD",
         "line": {
          "color": "#00cc96",
          "dash": "solid"
         },
         "marker": {
          "symbol": "circle"
         },
         "mode": "lines",
         "name": "SAD",
         "orientation": "v",
         "showlegend": true,
         "type": "scatter",
         "x": [
          "roc_auc",
          "accuracy",
          "precision",
          "kappa",
          "sensibilidad",
          "especificidad"
         ],
         "xaxis": "x",
         "y": [
          0.9029735097172501,
          0.9469715759710303,
          0.5848646034816247,
          0.6655884738325033,
          0.8517605633802817,
          0.9541864560542185
         ],
         "yaxis": "y"
        }
       ],
       "layout": {
        "legend": {
         "title": {
          "text": "variable"
         },
         "tracegroupgap": 0
        },
        "margin": {
         "t": 60
        },
        "template": {
         "data": {
          "bar": [
           {
            "error_x": {
             "color": "#2a3f5f"
            },
            "error_y": {
             "color": "#2a3f5f"
            },
            "marker": {
             "line": {
              "color": "#E5ECF6",
              "width": 0.5
             },
             "pattern": {
              "fillmode": "overlay",
              "size": 10,
              "solidity": 0.2
             }
            },
            "type": "bar"
           }
          ],
          "barpolar": [
           {
            "marker": {
             "line": {
              "color": "#E5ECF6",
              "width": 0.5
             },
             "pattern": {
              "fillmode": "overlay",
              "size": 10,
              "solidity": 0.2
             }
            },
            "type": "barpolar"
           }
          ],
          "carpet": [
           {
            "aaxis": {
             "endlinecolor": "#2a3f5f",
             "gridcolor": "white",
             "linecolor": "white",
             "minorgridcolor": "white",
             "startlinecolor": "#2a3f5f"
            },
            "baxis": {
             "endlinecolor": "#2a3f5f",
             "gridcolor": "white",
             "linecolor": "white",
             "minorgridcolor": "white",
             "startlinecolor": "#2a3f5f"
            },
            "type": "carpet"
           }
          ],
          "choropleth": [
           {
            "colorbar": {
             "outlinewidth": 0,
             "ticks": ""
            },
            "type": "choropleth"
           }
          ],
          "contour": [
           {
            "colorbar": {
             "outlinewidth": 0,
             "ticks": ""
            },
            "colorscale": [
             [
              0,
              "#0d0887"
             ],
             [
              0.1111111111111111,
              "#46039f"
             ],
             [
              0.2222222222222222,
              "#7201a8"
             ],
             [
              0.3333333333333333,
              "#9c179e"
             ],
             [
              0.4444444444444444,
              "#bd3786"
             ],
             [
              0.5555555555555556,
              "#d8576b"
             ],
             [
              0.6666666666666666,
              "#ed7953"
             ],
             [
              0.7777777777777778,
              "#fb9f3a"
             ],
             [
              0.8888888888888888,
              "#fdca26"
             ],
             [
              1,
              "#f0f921"
             ]
            ],
            "type": "contour"
           }
          ],
          "contourcarpet": [
           {
            "colorbar": {
             "outlinewidth": 0,
             "ticks": ""
            },
            "type": "contourcarpet"
           }
          ],
          "heatmap": [
           {
            "colorbar": {
             "outlinewidth": 0,
             "ticks": ""
            },
            "colorscale": [
             [
              0,
              "#0d0887"
             ],
             [
              0.1111111111111111,
              "#46039f"
             ],
             [
              0.2222222222222222,
              "#7201a8"
             ],
             [
              0.3333333333333333,
              "#9c179e"
             ],
             [
              0.4444444444444444,
              "#bd3786"
             ],
             [
              0.5555555555555556,
              "#d8576b"
             ],
             [
              0.6666666666666666,
              "#ed7953"
             ],
             [
              0.7777777777777778,
              "#fb9f3a"
             ],
             [
              0.8888888888888888,
              "#fdca26"
             ],
             [
              1,
              "#f0f921"
             ]
            ],
            "type": "heatmap"
           }
          ],
          "heatmapgl": [
           {
            "colorbar": {
             "outlinewidth": 0,
             "ticks": ""
            },
            "colorscale": [
             [
              0,
              "#0d0887"
             ],
             [
              0.1111111111111111,
              "#46039f"
             ],
             [
              0.2222222222222222,
              "#7201a8"
             ],
             [
              0.3333333333333333,
              "#9c179e"
             ],
             [
              0.4444444444444444,
              "#bd3786"
             ],
             [
              0.5555555555555556,
              "#d8576b"
             ],
             [
              0.6666666666666666,
              "#ed7953"
             ],
             [
              0.7777777777777778,
              "#fb9f3a"
             ],
             [
              0.8888888888888888,
              "#fdca26"
             ],
             [
              1,
              "#f0f921"
             ]
            ],
            "type": "heatmapgl"
           }
          ],
          "histogram": [
           {
            "marker": {
             "pattern": {
              "fillmode": "overlay",
              "size": 10,
              "solidity": 0.2
             }
            },
            "type": "histogram"
           }
          ],
          "histogram2d": [
           {
            "colorbar": {
             "outlinewidth": 0,
             "ticks": ""
            },
            "colorscale": [
             [
              0,
              "#0d0887"
             ],
             [
              0.1111111111111111,
              "#46039f"
             ],
             [
              0.2222222222222222,
              "#7201a8"
             ],
             [
              0.3333333333333333,
              "#9c179e"
             ],
             [
              0.4444444444444444,
              "#bd3786"
             ],
             [
              0.5555555555555556,
              "#d8576b"
             ],
             [
              0.6666666666666666,
              "#ed7953"
             ],
             [
              0.7777777777777778,
              "#fb9f3a"
             ],
             [
              0.8888888888888888,
              "#fdca26"
             ],
             [
              1,
              "#f0f921"
             ]
            ],
            "type": "histogram2d"
           }
          ],
          "histogram2dcontour": [
           {
            "colorbar": {
             "outlinewidth": 0,
             "ticks": ""
            },
            "colorscale": [
             [
              0,
              "#0d0887"
             ],
             [
              0.1111111111111111,
              "#46039f"
             ],
             [
              0.2222222222222222,
              "#7201a8"
             ],
             [
              0.3333333333333333,
              "#9c179e"
             ],
             [
              0.4444444444444444,
              "#bd3786"
             ],
             [
              0.5555555555555556,
              "#d8576b"
             ],
             [
              0.6666666666666666,
              "#ed7953"
             ],
             [
              0.7777777777777778,
              "#fb9f3a"
             ],
             [
              0.8888888888888888,
              "#fdca26"
             ],
             [
              1,
              "#f0f921"
             ]
            ],
            "type": "histogram2dcontour"
           }
          ],
          "mesh3d": [
           {
            "colorbar": {
             "outlinewidth": 0,
             "ticks": ""
            },
            "type": "mesh3d"
           }
          ],
          "parcoords": [
           {
            "line": {
             "colorbar": {
              "outlinewidth": 0,
              "ticks": ""
             }
            },
            "type": "parcoords"
           }
          ],
          "pie": [
           {
            "automargin": true,
            "type": "pie"
           }
          ],
          "scatter": [
           {
            "fillpattern": {
             "fillmode": "overlay",
             "size": 10,
             "solidity": 0.2
            },
            "type": "scatter"
           }
          ],
          "scatter3d": [
           {
            "line": {
             "colorbar": {
              "outlinewidth": 0,
              "ticks": ""
             }
            },
            "marker": {
             "colorbar": {
              "outlinewidth": 0,
              "ticks": ""
             }
            },
            "type": "scatter3d"
           }
          ],
          "scattercarpet": [
           {
            "marker": {
             "colorbar": {
              "outlinewidth": 0,
              "ticks": ""
             }
            },
            "type": "scattercarpet"
           }
          ],
          "scattergeo": [
           {
            "marker": {
             "colorbar": {
              "outlinewidth": 0,
              "ticks": ""
             }
            },
            "type": "scattergeo"
           }
          ],
          "scattergl": [
           {
            "marker": {
             "colorbar": {
              "outlinewidth": 0,
              "ticks": ""
             }
            },
            "type": "scattergl"
           }
          ],
          "scattermapbox": [
           {
            "marker": {
             "colorbar": {
              "outlinewidth": 0,
              "ticks": ""
             }
            },
            "type": "scattermapbox"
           }
          ],
          "scatterpolar": [
           {
            "marker": {
             "colorbar": {
              "outlinewidth": 0,
              "ticks": ""
             }
            },
            "type": "scatterpolar"
           }
          ],
          "scatterpolargl": [
           {
            "marker": {
             "colorbar": {
              "outlinewidth": 0,
              "ticks": ""
             }
            },
            "type": "scatterpolargl"
           }
          ],
          "scatterternary": [
           {
            "marker": {
             "colorbar": {
              "outlinewidth": 0,
              "ticks": ""
             }
            },
            "type": "scatterternary"
           }
          ],
          "surface": [
           {
            "colorbar": {
             "outlinewidth": 0,
             "ticks": ""
            },
            "colorscale": [
             [
              0,
              "#0d0887"
             ],
             [
              0.1111111111111111,
              "#46039f"
             ],
             [
              0.2222222222222222,
              "#7201a8"
             ],
             [
              0.3333333333333333,
              "#9c179e"
             ],
             [
              0.4444444444444444,
              "#bd3786"
             ],
             [
              0.5555555555555556,
              "#d8576b"
             ],
             [
              0.6666666666666666,
              "#ed7953"
             ],
             [
              0.7777777777777778,
              "#fb9f3a"
             ],
             [
              0.8888888888888888,
              "#fdca26"
             ],
             [
              1,
              "#f0f921"
             ]
            ],
            "type": "surface"
           }
          ],
          "table": [
           {
            "cells": {
             "fill": {
              "color": "#EBF0F8"
             },
             "line": {
              "color": "white"
             }
            },
            "header": {
             "fill": {
              "color": "#C8D4E3"
             },
             "line": {
              "color": "white"
             }
            },
            "type": "table"
           }
          ]
         },
         "layout": {
          "annotationdefaults": {
           "arrowcolor": "#2a3f5f",
           "arrowhead": 0,
           "arrowwidth": 1
          },
          "autotypenumbers": "strict",
          "coloraxis": {
           "colorbar": {
            "outlinewidth": 0,
            "ticks": ""
           }
          },
          "colorscale": {
           "diverging": [
            [
             0,
             "#8e0152"
            ],
            [
             0.1,
             "#c51b7d"
            ],
            [
             0.2,
             "#de77ae"
            ],
            [
             0.3,
             "#f1b6da"
            ],
            [
             0.4,
             "#fde0ef"
            ],
            [
             0.5,
             "#f7f7f7"
            ],
            [
             0.6,
             "#e6f5d0"
            ],
            [
             0.7,
             "#b8e186"
            ],
            [
             0.8,
             "#7fbc41"
            ],
            [
             0.9,
             "#4d9221"
            ],
            [
             1,
             "#276419"
            ]
           ],
           "sequential": [
            [
             0,
             "#0d0887"
            ],
            [
             0.1111111111111111,
             "#46039f"
            ],
            [
             0.2222222222222222,
             "#7201a8"
            ],
            [
             0.3333333333333333,
             "#9c179e"
            ],
            [
             0.4444444444444444,
             "#bd3786"
            ],
            [
             0.5555555555555556,
             "#d8576b"
            ],
            [
             0.6666666666666666,
             "#ed7953"
            ],
            [
             0.7777777777777778,
             "#fb9f3a"
            ],
            [
             0.8888888888888888,
             "#fdca26"
            ],
            [
             1,
             "#f0f921"
            ]
           ],
           "sequentialminus": [
            [
             0,
             "#0d0887"
            ],
            [
             0.1111111111111111,
             "#46039f"
            ],
            [
             0.2222222222222222,
             "#7201a8"
            ],
            [
             0.3333333333333333,
             "#9c179e"
            ],
            [
             0.4444444444444444,
             "#bd3786"
            ],
            [
             0.5555555555555556,
             "#d8576b"
            ],
            [
             0.6666666666666666,
             "#ed7953"
            ],
            [
             0.7777777777777778,
             "#fb9f3a"
            ],
            [
             0.8888888888888888,
             "#fdca26"
            ],
            [
             1,
             "#f0f921"
            ]
           ]
          },
          "colorway": [
           "#636efa",
           "#EF553B",
           "#00cc96",
           "#ab63fa",
           "#FFA15A",
           "#19d3f3",
           "#FF6692",
           "#B6E880",
           "#FF97FF",
           "#FECB52"
          ],
          "font": {
           "color": "#2a3f5f"
          },
          "geo": {
           "bgcolor": "white",
           "lakecolor": "white",
           "landcolor": "#E5ECF6",
           "showlakes": true,
           "showland": true,
           "subunitcolor": "white"
          },
          "hoverlabel": {
           "align": "left"
          },
          "hovermode": "closest",
          "mapbox": {
           "style": "light"
          },
          "paper_bgcolor": "white",
          "plot_bgcolor": "#E5ECF6",
          "polar": {
           "angularaxis": {
            "gridcolor": "white",
            "linecolor": "white",
            "ticks": ""
           },
           "bgcolor": "#E5ECF6",
           "radialaxis": {
            "gridcolor": "white",
            "linecolor": "white",
            "ticks": ""
           }
          },
          "scene": {
           "xaxis": {
            "backgroundcolor": "#E5ECF6",
            "gridcolor": "white",
            "gridwidth": 2,
            "linecolor": "white",
            "showbackground": true,
            "ticks": "",
            "zerolinecolor": "white"
           },
           "yaxis": {
            "backgroundcolor": "#E5ECF6",
            "gridcolor": "white",
            "gridwidth": 2,
            "linecolor": "white",
            "showbackground": true,
            "ticks": "",
            "zerolinecolor": "white"
           },
           "zaxis": {
            "backgroundcolor": "#E5ECF6",
            "gridcolor": "white",
            "gridwidth": 2,
            "linecolor": "white",
            "showbackground": true,
            "ticks": "",
            "zerolinecolor": "white"
           }
          },
          "shapedefaults": {
           "line": {
            "color": "#2a3f5f"
           }
          },
          "ternary": {
           "aaxis": {
            "gridcolor": "white",
            "linecolor": "white",
            "ticks": ""
           },
           "baxis": {
            "gridcolor": "white",
            "linecolor": "white",
            "ticks": ""
           },
           "bgcolor": "#E5ECF6",
           "caxis": {
            "gridcolor": "white",
            "linecolor": "white",
            "ticks": ""
           }
          },
          "title": {
           "x": 0.05
          },
          "xaxis": {
           "automargin": true,
           "gridcolor": "white",
           "linecolor": "white",
           "ticks": "",
           "title": {
            "standoff": 15
           },
           "zerolinecolor": "white",
           "zerolinewidth": 2
          },
          "yaxis": {
           "automargin": true,
           "gridcolor": "white",
           "linecolor": "white",
           "ticks": "",
           "title": {
            "standoff": 15
           },
           "zerolinecolor": "white",
           "zerolinewidth": 2
          }
         }
        },
        "xaxis": {
         "anchor": "y",
         "domain": [
          0,
          1
         ],
         "title": {
          "text": "index"
         }
        },
        "yaxis": {
         "anchor": "x",
         "domain": [
          0,
          1
         ],
         "title": {
          "text": "value"
         }
        }
       }
      }
     },
     "metadata": {},
     "output_type": "display_data"
    }
   ],
   "source": [
    "px.line(metodos_PvP_metricas.T)"
   ]
  },
  {
   "cell_type": "markdown",
   "metadata": {},
   "source": [
    "### Sensibilidad por tipo de anomalía"
   ]
  },
  {
   "cell_type": "code",
   "execution_count": 42,
   "metadata": {},
   "outputs": [
    {
     "data": {
      "text/html": [
       "<div>\n",
       "<style scoped>\n",
       "    .dataframe tbody tr th:only-of-type {\n",
       "        vertical-align: middle;\n",
       "    }\n",
       "\n",
       "    .dataframe tbody tr th {\n",
       "        vertical-align: top;\n",
       "    }\n",
       "\n",
       "    .dataframe thead th {\n",
       "        text-align: right;\n",
       "    }\n",
       "</style>\n",
       "<table border=\"1\" class=\"dataframe\">\n",
       "  <thead>\n",
       "    <tr style=\"text-align: right;\">\n",
       "      <th></th>\n",
       "      <th>Anomalia</th>\n",
       "      <th>Negro</th>\n",
       "      <th>Congelado</th>\n",
       "      <th>Hum</th>\n",
       "    </tr>\n",
       "  </thead>\n",
       "  <tbody>\n",
       "    <tr>\n",
       "      <th>MAD_PyOD</th>\n",
       "      <td>0.85669</td>\n",
       "      <td>1.0</td>\n",
       "      <td>0.901639</td>\n",
       "      <td>0.436364</td>\n",
       "    </tr>\n",
       "    <tr>\n",
       "      <th>MAD_PySAD</th>\n",
       "      <td>0.853873</td>\n",
       "      <td>1.0</td>\n",
       "      <td>0.900859</td>\n",
       "      <td>0.414545</td>\n",
       "    </tr>\n",
       "    <tr>\n",
       "      <th>SAD</th>\n",
       "      <td>0.851761</td>\n",
       "      <td>1.0</td>\n",
       "      <td>0.900078</td>\n",
       "      <td>0.4</td>\n",
       "    </tr>\n",
       "    <tr>\n",
       "      <th>HTM</th>\n",
       "      <td>0.013657</td>\n",
       "      <td>0.0</td>\n",
       "      <td>0.013573</td>\n",
       "      <td>0.014573</td>\n",
       "    </tr>\n",
       "  </tbody>\n",
       "</table>\n",
       "</div>"
      ],
      "text/plain": [
       "           Anomalia Negro Congelado       Hum\n",
       "MAD_PyOD    0.85669   1.0  0.901639  0.436364\n",
       "MAD_PySAD  0.853873   1.0  0.900859  0.414545\n",
       "SAD        0.851761   1.0  0.900078       0.4\n",
       "HTM        0.013657   0.0  0.013573  0.014573"
      ]
     },
     "execution_count": 42,
     "metadata": {},
     "output_type": "execute_result"
    }
   ],
   "source": [
    "metodos_PvP_sensibilidades = calc_sensibilidad(metodos_PvP,metodos_PvP_lista,anomalias)\n",
    "metodos_PvP_sensibilidades = pd.concat([metodos_PvP_sensibilidades,calc_sensibilidad(metodos_PvP_htm, ['HTM'], anomalias)])\n",
    "metodos_PvP_sensibilidades"
   ]
  },
  {
   "cell_type": "code",
   "execution_count": 43,
   "metadata": {},
   "outputs": [
    {
     "data": {
      "application/vnd.plotly.v1+json": {
       "config": {
        "plotlyServerURL": "https://plot.ly"
       },
       "data": [
        {
         "hovertemplate": "variable=MAD_PyOD<br>index=%{x}<br>value=%{y}<extra></extra>",
         "legendgroup": "MAD_PyOD",
         "line": {
          "color": "#636efa",
          "dash": "solid"
         },
         "marker": {
          "symbol": "circle"
         },
         "mode": "lines",
         "name": "MAD_PyOD",
         "orientation": "v",
         "showlegend": true,
         "type": "scatter",
         "x": [
          "Anomalia",
          "Negro",
          "Congelado",
          "Hum"
         ],
         "xaxis": "x",
         "y": [
          0.8566901408450704,
          1,
          0.9016393442622951,
          0.43636363636363634
         ],
         "yaxis": "y"
        },
        {
         "hovertemplate": "variable=MAD_PySAD<br>index=%{x}<br>value=%{y}<extra></extra>",
         "legendgroup": "MAD_PySAD",
         "line": {
          "color": "#EF553B",
          "dash": "solid"
         },
         "marker": {
          "symbol": "circle"
         },
         "mode": "lines",
         "name": "MAD_PySAD",
         "orientation": "v",
         "showlegend": true,
         "type": "scatter",
         "x": [
          "Anomalia",
          "Negro",
          "Congelado",
          "Hum"
         ],
         "xaxis": "x",
         "y": [
          0.8538732394366197,
          1,
          0.9008587041373927,
          0.41454545454545455
         ],
         "yaxis": "y"
        },
        {
         "hovertemplate": "variable=SAD<br>index=%{x}<br>value=%{y}<extra></extra>",
         "legendgroup": "SAD",
         "line": {
          "color": "#00cc96",
          "dash": "solid"
         },
         "marker": {
          "symbol": "circle"
         },
         "mode": "lines",
         "name": "SAD",
         "orientation": "v",
         "showlegend": true,
         "type": "scatter",
         "x": [
          "Anomalia",
          "Negro",
          "Congelado",
          "Hum"
         ],
         "xaxis": "x",
         "y": [
          0.8517605633802817,
          1,
          0.9000780640124902,
          0.4
         ],
         "yaxis": "y"
        },
        {
         "hovertemplate": "variable=HTM<br>index=%{x}<br>value=%{y}<extra></extra>",
         "legendgroup": "HTM",
         "line": {
          "color": "#ab63fa",
          "dash": "solid"
         },
         "marker": {
          "symbol": "circle"
         },
         "mode": "lines",
         "name": "HTM",
         "orientation": "v",
         "showlegend": true,
         "type": "scatter",
         "x": [
          "Anomalia",
          "Negro",
          "Congelado",
          "Hum"
         ],
         "xaxis": "x",
         "y": [
          0.01365694876875177,
          0,
          0.013573232323232324,
          0.01457321304649549
         ],
         "yaxis": "y"
        }
       ],
       "layout": {
        "legend": {
         "title": {
          "text": "variable"
         },
         "tracegroupgap": 0
        },
        "margin": {
         "t": 60
        },
        "template": {
         "data": {
          "bar": [
           {
            "error_x": {
             "color": "#2a3f5f"
            },
            "error_y": {
             "color": "#2a3f5f"
            },
            "marker": {
             "line": {
              "color": "#E5ECF6",
              "width": 0.5
             },
             "pattern": {
              "fillmode": "overlay",
              "size": 10,
              "solidity": 0.2
             }
            },
            "type": "bar"
           }
          ],
          "barpolar": [
           {
            "marker": {
             "line": {
              "color": "#E5ECF6",
              "width": 0.5
             },
             "pattern": {
              "fillmode": "overlay",
              "size": 10,
              "solidity": 0.2
             }
            },
            "type": "barpolar"
           }
          ],
          "carpet": [
           {
            "aaxis": {
             "endlinecolor": "#2a3f5f",
             "gridcolor": "white",
             "linecolor": "white",
             "minorgridcolor": "white",
             "startlinecolor": "#2a3f5f"
            },
            "baxis": {
             "endlinecolor": "#2a3f5f",
             "gridcolor": "white",
             "linecolor": "white",
             "minorgridcolor": "white",
             "startlinecolor": "#2a3f5f"
            },
            "type": "carpet"
           }
          ],
          "choropleth": [
           {
            "colorbar": {
             "outlinewidth": 0,
             "ticks": ""
            },
            "type": "choropleth"
           }
          ],
          "contour": [
           {
            "colorbar": {
             "outlinewidth": 0,
             "ticks": ""
            },
            "colorscale": [
             [
              0,
              "#0d0887"
             ],
             [
              0.1111111111111111,
              "#46039f"
             ],
             [
              0.2222222222222222,
              "#7201a8"
             ],
             [
              0.3333333333333333,
              "#9c179e"
             ],
             [
              0.4444444444444444,
              "#bd3786"
             ],
             [
              0.5555555555555556,
              "#d8576b"
             ],
             [
              0.6666666666666666,
              "#ed7953"
             ],
             [
              0.7777777777777778,
              "#fb9f3a"
             ],
             [
              0.8888888888888888,
              "#fdca26"
             ],
             [
              1,
              "#f0f921"
             ]
            ],
            "type": "contour"
           }
          ],
          "contourcarpet": [
           {
            "colorbar": {
             "outlinewidth": 0,
             "ticks": ""
            },
            "type": "contourcarpet"
           }
          ],
          "heatmap": [
           {
            "colorbar": {
             "outlinewidth": 0,
             "ticks": ""
            },
            "colorscale": [
             [
              0,
              "#0d0887"
             ],
             [
              0.1111111111111111,
              "#46039f"
             ],
             [
              0.2222222222222222,
              "#7201a8"
             ],
             [
              0.3333333333333333,
              "#9c179e"
             ],
             [
              0.4444444444444444,
              "#bd3786"
             ],
             [
              0.5555555555555556,
              "#d8576b"
             ],
             [
              0.6666666666666666,
              "#ed7953"
             ],
             [
              0.7777777777777778,
              "#fb9f3a"
             ],
             [
              0.8888888888888888,
              "#fdca26"
             ],
             [
              1,
              "#f0f921"
             ]
            ],
            "type": "heatmap"
           }
          ],
          "heatmapgl": [
           {
            "colorbar": {
             "outlinewidth": 0,
             "ticks": ""
            },
            "colorscale": [
             [
              0,
              "#0d0887"
             ],
             [
              0.1111111111111111,
              "#46039f"
             ],
             [
              0.2222222222222222,
              "#7201a8"
             ],
             [
              0.3333333333333333,
              "#9c179e"
             ],
             [
              0.4444444444444444,
              "#bd3786"
             ],
             [
              0.5555555555555556,
              "#d8576b"
             ],
             [
              0.6666666666666666,
              "#ed7953"
             ],
             [
              0.7777777777777778,
              "#fb9f3a"
             ],
             [
              0.8888888888888888,
              "#fdca26"
             ],
             [
              1,
              "#f0f921"
             ]
            ],
            "type": "heatmapgl"
           }
          ],
          "histogram": [
           {
            "marker": {
             "pattern": {
              "fillmode": "overlay",
              "size": 10,
              "solidity": 0.2
             }
            },
            "type": "histogram"
           }
          ],
          "histogram2d": [
           {
            "colorbar": {
             "outlinewidth": 0,
             "ticks": ""
            },
            "colorscale": [
             [
              0,
              "#0d0887"
             ],
             [
              0.1111111111111111,
              "#46039f"
             ],
             [
              0.2222222222222222,
              "#7201a8"
             ],
             [
              0.3333333333333333,
              "#9c179e"
             ],
             [
              0.4444444444444444,
              "#bd3786"
             ],
             [
              0.5555555555555556,
              "#d8576b"
             ],
             [
              0.6666666666666666,
              "#ed7953"
             ],
             [
              0.7777777777777778,
              "#fb9f3a"
             ],
             [
              0.8888888888888888,
              "#fdca26"
             ],
             [
              1,
              "#f0f921"
             ]
            ],
            "type": "histogram2d"
           }
          ],
          "histogram2dcontour": [
           {
            "colorbar": {
             "outlinewidth": 0,
             "ticks": ""
            },
            "colorscale": [
             [
              0,
              "#0d0887"
             ],
             [
              0.1111111111111111,
              "#46039f"
             ],
             [
              0.2222222222222222,
              "#7201a8"
             ],
             [
              0.3333333333333333,
              "#9c179e"
             ],
             [
              0.4444444444444444,
              "#bd3786"
             ],
             [
              0.5555555555555556,
              "#d8576b"
             ],
             [
              0.6666666666666666,
              "#ed7953"
             ],
             [
              0.7777777777777778,
              "#fb9f3a"
             ],
             [
              0.8888888888888888,
              "#fdca26"
             ],
             [
              1,
              "#f0f921"
             ]
            ],
            "type": "histogram2dcontour"
           }
          ],
          "mesh3d": [
           {
            "colorbar": {
             "outlinewidth": 0,
             "ticks": ""
            },
            "type": "mesh3d"
           }
          ],
          "parcoords": [
           {
            "line": {
             "colorbar": {
              "outlinewidth": 0,
              "ticks": ""
             }
            },
            "type": "parcoords"
           }
          ],
          "pie": [
           {
            "automargin": true,
            "type": "pie"
           }
          ],
          "scatter": [
           {
            "fillpattern": {
             "fillmode": "overlay",
             "size": 10,
             "solidity": 0.2
            },
            "type": "scatter"
           }
          ],
          "scatter3d": [
           {
            "line": {
             "colorbar": {
              "outlinewidth": 0,
              "ticks": ""
             }
            },
            "marker": {
             "colorbar": {
              "outlinewidth": 0,
              "ticks": ""
             }
            },
            "type": "scatter3d"
           }
          ],
          "scattercarpet": [
           {
            "marker": {
             "colorbar": {
              "outlinewidth": 0,
              "ticks": ""
             }
            },
            "type": "scattercarpet"
           }
          ],
          "scattergeo": [
           {
            "marker": {
             "colorbar": {
              "outlinewidth": 0,
              "ticks": ""
             }
            },
            "type": "scattergeo"
           }
          ],
          "scattergl": [
           {
            "marker": {
             "colorbar": {
              "outlinewidth": 0,
              "ticks": ""
             }
            },
            "type": "scattergl"
           }
          ],
          "scattermapbox": [
           {
            "marker": {
             "colorbar": {
              "outlinewidth": 0,
              "ticks": ""
             }
            },
            "type": "scattermapbox"
           }
          ],
          "scatterpolar": [
           {
            "marker": {
             "colorbar": {
              "outlinewidth": 0,
              "ticks": ""
             }
            },
            "type": "scatterpolar"
           }
          ],
          "scatterpolargl": [
           {
            "marker": {
             "colorbar": {
              "outlinewidth": 0,
              "ticks": ""
             }
            },
            "type": "scatterpolargl"
           }
          ],
          "scatterternary": [
           {
            "marker": {
             "colorbar": {
              "outlinewidth": 0,
              "ticks": ""
             }
            },
            "type": "scatterternary"
           }
          ],
          "surface": [
           {
            "colorbar": {
             "outlinewidth": 0,
             "ticks": ""
            },
            "colorscale": [
             [
              0,
              "#0d0887"
             ],
             [
              0.1111111111111111,
              "#46039f"
             ],
             [
              0.2222222222222222,
              "#7201a8"
             ],
             [
              0.3333333333333333,
              "#9c179e"
             ],
             [
              0.4444444444444444,
              "#bd3786"
             ],
             [
              0.5555555555555556,
              "#d8576b"
             ],
             [
              0.6666666666666666,
              "#ed7953"
             ],
             [
              0.7777777777777778,
              "#fb9f3a"
             ],
             [
              0.8888888888888888,
              "#fdca26"
             ],
             [
              1,
              "#f0f921"
             ]
            ],
            "type": "surface"
           }
          ],
          "table": [
           {
            "cells": {
             "fill": {
              "color": "#EBF0F8"
             },
             "line": {
              "color": "white"
             }
            },
            "header": {
             "fill": {
              "color": "#C8D4E3"
             },
             "line": {
              "color": "white"
             }
            },
            "type": "table"
           }
          ]
         },
         "layout": {
          "annotationdefaults": {
           "arrowcolor": "#2a3f5f",
           "arrowhead": 0,
           "arrowwidth": 1
          },
          "autotypenumbers": "strict",
          "coloraxis": {
           "colorbar": {
            "outlinewidth": 0,
            "ticks": ""
           }
          },
          "colorscale": {
           "diverging": [
            [
             0,
             "#8e0152"
            ],
            [
             0.1,
             "#c51b7d"
            ],
            [
             0.2,
             "#de77ae"
            ],
            [
             0.3,
             "#f1b6da"
            ],
            [
             0.4,
             "#fde0ef"
            ],
            [
             0.5,
             "#f7f7f7"
            ],
            [
             0.6,
             "#e6f5d0"
            ],
            [
             0.7,
             "#b8e186"
            ],
            [
             0.8,
             "#7fbc41"
            ],
            [
             0.9,
             "#4d9221"
            ],
            [
             1,
             "#276419"
            ]
           ],
           "sequential": [
            [
             0,
             "#0d0887"
            ],
            [
             0.1111111111111111,
             "#46039f"
            ],
            [
             0.2222222222222222,
             "#7201a8"
            ],
            [
             0.3333333333333333,
             "#9c179e"
            ],
            [
             0.4444444444444444,
             "#bd3786"
            ],
            [
             0.5555555555555556,
             "#d8576b"
            ],
            [
             0.6666666666666666,
             "#ed7953"
            ],
            [
             0.7777777777777778,
             "#fb9f3a"
            ],
            [
             0.8888888888888888,
             "#fdca26"
            ],
            [
             1,
             "#f0f921"
            ]
           ],
           "sequentialminus": [
            [
             0,
             "#0d0887"
            ],
            [
             0.1111111111111111,
             "#46039f"
            ],
            [
             0.2222222222222222,
             "#7201a8"
            ],
            [
             0.3333333333333333,
             "#9c179e"
            ],
            [
             0.4444444444444444,
             "#bd3786"
            ],
            [
             0.5555555555555556,
             "#d8576b"
            ],
            [
             0.6666666666666666,
             "#ed7953"
            ],
            [
             0.7777777777777778,
             "#fb9f3a"
            ],
            [
             0.8888888888888888,
             "#fdca26"
            ],
            [
             1,
             "#f0f921"
            ]
           ]
          },
          "colorway": [
           "#636efa",
           "#EF553B",
           "#00cc96",
           "#ab63fa",
           "#FFA15A",
           "#19d3f3",
           "#FF6692",
           "#B6E880",
           "#FF97FF",
           "#FECB52"
          ],
          "font": {
           "color": "#2a3f5f"
          },
          "geo": {
           "bgcolor": "white",
           "lakecolor": "white",
           "landcolor": "#E5ECF6",
           "showlakes": true,
           "showland": true,
           "subunitcolor": "white"
          },
          "hoverlabel": {
           "align": "left"
          },
          "hovermode": "closest",
          "mapbox": {
           "style": "light"
          },
          "paper_bgcolor": "white",
          "plot_bgcolor": "#E5ECF6",
          "polar": {
           "angularaxis": {
            "gridcolor": "white",
            "linecolor": "white",
            "ticks": ""
           },
           "bgcolor": "#E5ECF6",
           "radialaxis": {
            "gridcolor": "white",
            "linecolor": "white",
            "ticks": ""
           }
          },
          "scene": {
           "xaxis": {
            "backgroundcolor": "#E5ECF6",
            "gridcolor": "white",
            "gridwidth": 2,
            "linecolor": "white",
            "showbackground": true,
            "ticks": "",
            "zerolinecolor": "white"
           },
           "yaxis": {
            "backgroundcolor": "#E5ECF6",
            "gridcolor": "white",
            "gridwidth": 2,
            "linecolor": "white",
            "showbackground": true,
            "ticks": "",
            "zerolinecolor": "white"
           },
           "zaxis": {
            "backgroundcolor": "#E5ECF6",
            "gridcolor": "white",
            "gridwidth": 2,
            "linecolor": "white",
            "showbackground": true,
            "ticks": "",
            "zerolinecolor": "white"
           }
          },
          "shapedefaults": {
           "line": {
            "color": "#2a3f5f"
           }
          },
          "ternary": {
           "aaxis": {
            "gridcolor": "white",
            "linecolor": "white",
            "ticks": ""
           },
           "baxis": {
            "gridcolor": "white",
            "linecolor": "white",
            "ticks": ""
           },
           "bgcolor": "#E5ECF6",
           "caxis": {
            "gridcolor": "white",
            "linecolor": "white",
            "ticks": ""
           }
          },
          "title": {
           "x": 0.05
          },
          "xaxis": {
           "automargin": true,
           "gridcolor": "white",
           "linecolor": "white",
           "ticks": "",
           "title": {
            "standoff": 15
           },
           "zerolinecolor": "white",
           "zerolinewidth": 2
          },
          "yaxis": {
           "automargin": true,
           "gridcolor": "white",
           "linecolor": "white",
           "ticks": "",
           "title": {
            "standoff": 15
           },
           "zerolinecolor": "white",
           "zerolinewidth": 2
          }
         }
        },
        "xaxis": {
         "anchor": "y",
         "domain": [
          0,
          1
         ],
         "title": {
          "text": "index"
         }
        },
        "yaxis": {
         "anchor": "x",
         "domain": [
          0,
          1
         ],
         "title": {
          "text": "value"
         }
        }
       }
      }
     },
     "metadata": {},
     "output_type": "display_data"
    }
   ],
   "source": [
    "px.line(metodos_PvP_sensibilidades.T)"
   ]
  },
  {
   "cell_type": "markdown",
   "metadata": {},
   "source": [
    "## Métodos SoloHum"
   ]
  },
  {
   "cell_type": "code",
   "execution_count": 44,
   "metadata": {},
   "outputs": [
    {
     "data": {
      "text/html": [
       "<div>\n",
       "<style scoped>\n",
       "    .dataframe tbody tr th:only-of-type {\n",
       "        vertical-align: middle;\n",
       "    }\n",
       "\n",
       "    .dataframe tbody tr th {\n",
       "        vertical-align: top;\n",
       "    }\n",
       "\n",
       "    .dataframe thead th {\n",
       "        text-align: right;\n",
       "    }\n",
       "</style>\n",
       "<table border=\"1\" class=\"dataframe\">\n",
       "  <thead>\n",
       "    <tr style=\"text-align: right;\">\n",
       "      <th></th>\n",
       "      <th>Negro</th>\n",
       "      <th>Congelado</th>\n",
       "      <th>Hum</th>\n",
       "      <th>Anomalia</th>\n",
       "      <th>HBOS</th>\n",
       "      <th>IForest</th>\n",
       "      <th>KNN</th>\n",
       "    </tr>\n",
       "    <tr>\n",
       "      <th>fecha</th>\n",
       "      <th></th>\n",
       "      <th></th>\n",
       "      <th></th>\n",
       "      <th></th>\n",
       "      <th></th>\n",
       "      <th></th>\n",
       "      <th></th>\n",
       "    </tr>\n",
       "  </thead>\n",
       "  <tbody>\n",
       "    <tr>\n",
       "      <th>2021-05-05 10:31:00</th>\n",
       "      <td>0</td>\n",
       "      <td>0</td>\n",
       "      <td>0</td>\n",
       "      <td>0</td>\n",
       "      <td>0</td>\n",
       "      <td>0</td>\n",
       "      <td>0</td>\n",
       "    </tr>\n",
       "    <tr>\n",
       "      <th>2021-03-04 02:06:00</th>\n",
       "      <td>0</td>\n",
       "      <td>0</td>\n",
       "      <td>0</td>\n",
       "      <td>0</td>\n",
       "      <td>0</td>\n",
       "      <td>0</td>\n",
       "      <td>0</td>\n",
       "    </tr>\n",
       "    <tr>\n",
       "      <th>2021-07-06 21:41:00</th>\n",
       "      <td>0</td>\n",
       "      <td>0</td>\n",
       "      <td>0</td>\n",
       "      <td>0</td>\n",
       "      <td>0</td>\n",
       "      <td>0</td>\n",
       "      <td>0</td>\n",
       "    </tr>\n",
       "    <tr>\n",
       "      <th>2021-05-01 21:58:00</th>\n",
       "      <td>0</td>\n",
       "      <td>0</td>\n",
       "      <td>0</td>\n",
       "      <td>0</td>\n",
       "      <td>0</td>\n",
       "      <td>0</td>\n",
       "      <td>0</td>\n",
       "    </tr>\n",
       "    <tr>\n",
       "      <th>2021-04-03 19:13:00</th>\n",
       "      <td>0</td>\n",
       "      <td>0</td>\n",
       "      <td>0</td>\n",
       "      <td>0</td>\n",
       "      <td>0</td>\n",
       "      <td>0</td>\n",
       "      <td>0</td>\n",
       "    </tr>\n",
       "  </tbody>\n",
       "</table>\n",
       "</div>"
      ],
      "text/plain": [
       "                     Negro  Congelado  Hum  Anomalia  HBOS  IForest  KNN\n",
       "fecha                                                                   \n",
       "2021-05-05 10:31:00      0          0    0         0     0        0    0\n",
       "2021-03-04 02:06:00      0          0    0         0     0        0    0\n",
       "2021-07-06 21:41:00      0          0    0         0     0        0    0\n",
       "2021-05-01 21:58:00      0          0    0         0     0        0    0\n",
       "2021-04-03 19:13:00      0          0    0         0     0        0    0"
      ]
     },
     "execution_count": 44,
     "metadata": {},
     "output_type": "execute_result"
    }
   ],
   "source": [
    "metodos_SH = pd.read_csv('Metodos_SoloHumedades/Thresholds/Resultados/PyOD_HBOS_completo.csv',index_col='fecha')\n",
    "metodos_SH = metodos_SH.drop('Y_pred', axis=1)\n",
    "\n",
    "metodos_SH['HBOS'] = pd.read_csv('Metodos_SoloHumedades/Thresholds/Resultados/PyOD_HBOS_completo.csv',usecols=['fecha','Y_pred'],index_col='fecha')\n",
    "metodos_SH['IForest'] = pd.read_csv('Metodos_SoloHumedades/Thresholds/Resultados/PyOD_IForest_completo.csv',usecols=['fecha','Y_pred'],index_col='fecha')\n",
    "metodos_SH['KNN'] = pd.read_csv('Metodos_SoloHumedades/Thresholds/Resultados/PyOD_KNN_completo.csv',usecols=['fecha','Y_pred'],index_col='fecha')\n",
    "metodos_SH.head()"
   ]
  },
  {
   "cell_type": "markdown",
   "metadata": {},
   "source": []
  },
  {
   "cell_type": "markdown",
   "metadata": {},
   "source": [
    "### Métricas generales:"
   ]
  },
  {
   "cell_type": "code",
   "execution_count": 45,
   "metadata": {},
   "outputs": [
    {
     "data": {
      "text/html": [
       "<div>\n",
       "<style scoped>\n",
       "    .dataframe tbody tr th:only-of-type {\n",
       "        vertical-align: middle;\n",
       "    }\n",
       "\n",
       "    .dataframe tbody tr th {\n",
       "        vertical-align: top;\n",
       "    }\n",
       "\n",
       "    .dataframe thead th {\n",
       "        text-align: right;\n",
       "    }\n",
       "</style>\n",
       "<table border=\"1\" class=\"dataframe\">\n",
       "  <thead>\n",
       "    <tr style=\"text-align: right;\">\n",
       "      <th></th>\n",
       "      <th>roc_auc</th>\n",
       "      <th>accuracy</th>\n",
       "      <th>precision</th>\n",
       "      <th>kappa</th>\n",
       "      <th>sensibilidad</th>\n",
       "      <th>especificidad</th>\n",
       "    </tr>\n",
       "  </thead>\n",
       "  <tbody>\n",
       "    <tr>\n",
       "      <th>HBOS</th>\n",
       "      <td>0.915374</td>\n",
       "      <td>0.961556</td>\n",
       "      <td>0.678968</td>\n",
       "      <td>0.738893</td>\n",
       "      <td>0.86162</td>\n",
       "      <td>0.969129</td>\n",
       "    </tr>\n",
       "    <tr>\n",
       "      <th>IForest</th>\n",
       "      <td>0.907066</td>\n",
       "      <td>0.948832</td>\n",
       "      <td>0.594779</td>\n",
       "      <td>0.675707</td>\n",
       "      <td>0.858451</td>\n",
       "      <td>0.955681</td>\n",
       "    </tr>\n",
       "    <tr>\n",
       "      <th>KNN</th>\n",
       "      <td>0.597926</td>\n",
       "      <td>0.868099</td>\n",
       "      <td>0.196918</td>\n",
       "      <td>0.162794</td>\n",
       "      <td>0.283451</td>\n",
       "      <td>0.912402</td>\n",
       "    </tr>\n",
       "  </tbody>\n",
       "</table>\n",
       "</div>"
      ],
      "text/plain": [
       "          roc_auc  accuracy precision     kappa sensibilidad especificidad\n",
       "HBOS     0.915374  0.961556  0.678968  0.738893      0.86162      0.969129\n",
       "IForest  0.907066  0.948832  0.594779  0.675707     0.858451      0.955681\n",
       "KNN      0.597926  0.868099  0.196918  0.162794     0.283451      0.912402"
      ]
     },
     "execution_count": 45,
     "metadata": {},
     "output_type": "execute_result"
    }
   ],
   "source": [
    "metodos_SH_lista = ['HBOS','IForest','KNN']\n",
    "metodos_SH_metricas = calc_metricas(metodos_SH,metodos_SH_lista)\n",
    "metodos_SH_metricas"
   ]
  },
  {
   "cell_type": "code",
   "execution_count": 46,
   "metadata": {},
   "outputs": [
    {
     "data": {
      "text/html": [
       "<div>\n",
       "<style scoped>\n",
       "    .dataframe tbody tr th:only-of-type {\n",
       "        vertical-align: middle;\n",
       "    }\n",
       "\n",
       "    .dataframe tbody tr th {\n",
       "        vertical-align: top;\n",
       "    }\n",
       "\n",
       "    .dataframe thead th {\n",
       "        text-align: right;\n",
       "    }\n",
       "</style>\n",
       "<table border=\"1\" class=\"dataframe\">\n",
       "  <thead>\n",
       "    <tr style=\"text-align: right;\">\n",
       "      <th></th>\n",
       "      <th>roc_auc</th>\n",
       "      <th>accuracy</th>\n",
       "      <th>precision</th>\n",
       "      <th>kappa</th>\n",
       "      <th>sensibilidad</th>\n",
       "      <th>especificidad</th>\n",
       "    </tr>\n",
       "  </thead>\n",
       "  <tbody>\n",
       "    <tr>\n",
       "      <th>MAD_PyOD</th>\n",
       "      <td>0.900035</td>\n",
       "      <td>0.937274</td>\n",
       "      <td>0.534138</td>\n",
       "      <td>0.625516</td>\n",
       "      <td>0.85669</td>\n",
       "      <td>0.94338</td>\n",
       "    </tr>\n",
       "    <tr>\n",
       "      <th>MAD_PySAD</th>\n",
       "      <td>0.903856</td>\n",
       "      <td>0.946798</td>\n",
       "      <td>0.583634</td>\n",
       "      <td>0.665348</td>\n",
       "      <td>0.853873</td>\n",
       "      <td>0.95384</td>\n",
       "    </tr>\n",
       "    <tr>\n",
       "      <th>SAD</th>\n",
       "      <td>0.902974</td>\n",
       "      <td>0.946972</td>\n",
       "      <td>0.584865</td>\n",
       "      <td>0.665588</td>\n",
       "      <td>0.851761</td>\n",
       "      <td>0.954186</td>\n",
       "    </tr>\n",
       "  </tbody>\n",
       "</table>\n",
       "</div>"
      ],
      "text/plain": [
       "            roc_auc  accuracy precision     kappa sensibilidad especificidad\n",
       "MAD_PyOD   0.900035  0.937274  0.534138  0.625516      0.85669       0.94338\n",
       "MAD_PySAD  0.903856  0.946798  0.583634  0.665348     0.853873       0.95384\n",
       "SAD        0.902974  0.946972  0.584865  0.665588     0.851761      0.954186"
      ]
     },
     "execution_count": 46,
     "metadata": {},
     "output_type": "execute_result"
    }
   ],
   "source": [
    "metodos_PvP_metricas = calc_metricas(metodos_PvP, metodos_PvP_lista)\n",
    "metodos_PvP_metricas"
   ]
  },
  {
   "cell_type": "code",
   "execution_count": 47,
   "metadata": {},
   "outputs": [
    {
     "data": {
      "application/vnd.plotly.v1+json": {
       "config": {
        "plotlyServerURL": "https://plot.ly"
       },
       "data": [
        {
         "hovertemplate": "variable=HBOS<br>index=%{x}<br>value=%{y}<extra></extra>",
         "legendgroup": "HBOS",
         "line": {
          "color": "#636efa",
          "dash": "solid"
         },
         "marker": {
          "symbol": "circle"
         },
         "mode": "lines",
         "name": "HBOS",
         "orientation": "v",
         "showlegend": true,
         "type": "scatter",
         "x": [
          "roc_auc",
          "accuracy",
          "precision",
          "kappa",
          "sensibilidad",
          "especificidad"
         ],
         "xaxis": "x",
         "y": [
          0.9153741368645193,
          0.961555632719877,
          0.6789678135405105,
          0.7388932106159682,
          0.8616197183098592,
          0.9691285554191793
         ],
         "yaxis": "y"
        },
        {
         "hovertemplate": "variable=IForest<br>index=%{x}<br>value=%{y}<extra></extra>",
         "legendgroup": "IForest",
         "line": {
          "color": "#EF553B",
          "dash": "solid"
         },
         "marker": {
          "symbol": "circle"
         },
         "mode": "lines",
         "name": "IForest",
         "orientation": "v",
         "showlegend": true,
         "type": "scatter",
         "x": [
          "roc_auc",
          "accuracy",
          "precision",
          "kappa",
          "sensibilidad",
          "especificidad"
         ],
         "xaxis": "x",
         "y": [
          0.9070656851080334,
          0.9488317872910362,
          0.594779214442547,
          0.6757070906980569,
          0.8584507042253521,
          0.9556806659907146
         ],
         "yaxis": "y"
        },
        {
         "hovertemplate": "variable=KNN<br>index=%{x}<br>value=%{y}<extra></extra>",
         "legendgroup": "KNN",
         "line": {
          "color": "#00cc96",
          "dash": "solid"
         },
         "marker": {
          "symbol": "circle"
         },
         "mode": "lines",
         "name": "KNN",
         "orientation": "v",
         "showlegend": true,
         "type": "scatter",
         "x": [
          "roc_auc",
          "accuracy",
          "precision",
          "kappa",
          "sensibilidad",
          "especificidad"
         ],
         "xaxis": "x",
         "y": [
          0.5979263233491348,
          0.8680986160027779,
          0.1969178082191781,
          0.1627942547424932,
          0.2834507042253521,
          0.9124019424729174
         ],
         "yaxis": "y"
        }
       ],
       "layout": {
        "legend": {
         "title": {
          "text": "variable"
         },
         "tracegroupgap": 0
        },
        "margin": {
         "t": 60
        },
        "template": {
         "data": {
          "bar": [
           {
            "error_x": {
             "color": "#2a3f5f"
            },
            "error_y": {
             "color": "#2a3f5f"
            },
            "marker": {
             "line": {
              "color": "#E5ECF6",
              "width": 0.5
             },
             "pattern": {
              "fillmode": "overlay",
              "size": 10,
              "solidity": 0.2
             }
            },
            "type": "bar"
           }
          ],
          "barpolar": [
           {
            "marker": {
             "line": {
              "color": "#E5ECF6",
              "width": 0.5
             },
             "pattern": {
              "fillmode": "overlay",
              "size": 10,
              "solidity": 0.2
             }
            },
            "type": "barpolar"
           }
          ],
          "carpet": [
           {
            "aaxis": {
             "endlinecolor": "#2a3f5f",
             "gridcolor": "white",
             "linecolor": "white",
             "minorgridcolor": "white",
             "startlinecolor": "#2a3f5f"
            },
            "baxis": {
             "endlinecolor": "#2a3f5f",
             "gridcolor": "white",
             "linecolor": "white",
             "minorgridcolor": "white",
             "startlinecolor": "#2a3f5f"
            },
            "type": "carpet"
           }
          ],
          "choropleth": [
           {
            "colorbar": {
             "outlinewidth": 0,
             "ticks": ""
            },
            "type": "choropleth"
           }
          ],
          "contour": [
           {
            "colorbar": {
             "outlinewidth": 0,
             "ticks": ""
            },
            "colorscale": [
             [
              0,
              "#0d0887"
             ],
             [
              0.1111111111111111,
              "#46039f"
             ],
             [
              0.2222222222222222,
              "#7201a8"
             ],
             [
              0.3333333333333333,
              "#9c179e"
             ],
             [
              0.4444444444444444,
              "#bd3786"
             ],
             [
              0.5555555555555556,
              "#d8576b"
             ],
             [
              0.6666666666666666,
              "#ed7953"
             ],
             [
              0.7777777777777778,
              "#fb9f3a"
             ],
             [
              0.8888888888888888,
              "#fdca26"
             ],
             [
              1,
              "#f0f921"
             ]
            ],
            "type": "contour"
           }
          ],
          "contourcarpet": [
           {
            "colorbar": {
             "outlinewidth": 0,
             "ticks": ""
            },
            "type": "contourcarpet"
           }
          ],
          "heatmap": [
           {
            "colorbar": {
             "outlinewidth": 0,
             "ticks": ""
            },
            "colorscale": [
             [
              0,
              "#0d0887"
             ],
             [
              0.1111111111111111,
              "#46039f"
             ],
             [
              0.2222222222222222,
              "#7201a8"
             ],
             [
              0.3333333333333333,
              "#9c179e"
             ],
             [
              0.4444444444444444,
              "#bd3786"
             ],
             [
              0.5555555555555556,
              "#d8576b"
             ],
             [
              0.6666666666666666,
              "#ed7953"
             ],
             [
              0.7777777777777778,
              "#fb9f3a"
             ],
             [
              0.8888888888888888,
              "#fdca26"
             ],
             [
              1,
              "#f0f921"
             ]
            ],
            "type": "heatmap"
           }
          ],
          "heatmapgl": [
           {
            "colorbar": {
             "outlinewidth": 0,
             "ticks": ""
            },
            "colorscale": [
             [
              0,
              "#0d0887"
             ],
             [
              0.1111111111111111,
              "#46039f"
             ],
             [
              0.2222222222222222,
              "#7201a8"
             ],
             [
              0.3333333333333333,
              "#9c179e"
             ],
             [
              0.4444444444444444,
              "#bd3786"
             ],
             [
              0.5555555555555556,
              "#d8576b"
             ],
             [
              0.6666666666666666,
              "#ed7953"
             ],
             [
              0.7777777777777778,
              "#fb9f3a"
             ],
             [
              0.8888888888888888,
              "#fdca26"
             ],
             [
              1,
              "#f0f921"
             ]
            ],
            "type": "heatmapgl"
           }
          ],
          "histogram": [
           {
            "marker": {
             "pattern": {
              "fillmode": "overlay",
              "size": 10,
              "solidity": 0.2
             }
            },
            "type": "histogram"
           }
          ],
          "histogram2d": [
           {
            "colorbar": {
             "outlinewidth": 0,
             "ticks": ""
            },
            "colorscale": [
             [
              0,
              "#0d0887"
             ],
             [
              0.1111111111111111,
              "#46039f"
             ],
             [
              0.2222222222222222,
              "#7201a8"
             ],
             [
              0.3333333333333333,
              "#9c179e"
             ],
             [
              0.4444444444444444,
              "#bd3786"
             ],
             [
              0.5555555555555556,
              "#d8576b"
             ],
             [
              0.6666666666666666,
              "#ed7953"
             ],
             [
              0.7777777777777778,
              "#fb9f3a"
             ],
             [
              0.8888888888888888,
              "#fdca26"
             ],
             [
              1,
              "#f0f921"
             ]
            ],
            "type": "histogram2d"
           }
          ],
          "histogram2dcontour": [
           {
            "colorbar": {
             "outlinewidth": 0,
             "ticks": ""
            },
            "colorscale": [
             [
              0,
              "#0d0887"
             ],
             [
              0.1111111111111111,
              "#46039f"
             ],
             [
              0.2222222222222222,
              "#7201a8"
             ],
             [
              0.3333333333333333,
              "#9c179e"
             ],
             [
              0.4444444444444444,
              "#bd3786"
             ],
             [
              0.5555555555555556,
              "#d8576b"
             ],
             [
              0.6666666666666666,
              "#ed7953"
             ],
             [
              0.7777777777777778,
              "#fb9f3a"
             ],
             [
              0.8888888888888888,
              "#fdca26"
             ],
             [
              1,
              "#f0f921"
             ]
            ],
            "type": "histogram2dcontour"
           }
          ],
          "mesh3d": [
           {
            "colorbar": {
             "outlinewidth": 0,
             "ticks": ""
            },
            "type": "mesh3d"
           }
          ],
          "parcoords": [
           {
            "line": {
             "colorbar": {
              "outlinewidth": 0,
              "ticks": ""
             }
            },
            "type": "parcoords"
           }
          ],
          "pie": [
           {
            "automargin": true,
            "type": "pie"
           }
          ],
          "scatter": [
           {
            "fillpattern": {
             "fillmode": "overlay",
             "size": 10,
             "solidity": 0.2
            },
            "type": "scatter"
           }
          ],
          "scatter3d": [
           {
            "line": {
             "colorbar": {
              "outlinewidth": 0,
              "ticks": ""
             }
            },
            "marker": {
             "colorbar": {
              "outlinewidth": 0,
              "ticks": ""
             }
            },
            "type": "scatter3d"
           }
          ],
          "scattercarpet": [
           {
            "marker": {
             "colorbar": {
              "outlinewidth": 0,
              "ticks": ""
             }
            },
            "type": "scattercarpet"
           }
          ],
          "scattergeo": [
           {
            "marker": {
             "colorbar": {
              "outlinewidth": 0,
              "ticks": ""
             }
            },
            "type": "scattergeo"
           }
          ],
          "scattergl": [
           {
            "marker": {
             "colorbar": {
              "outlinewidth": 0,
              "ticks": ""
             }
            },
            "type": "scattergl"
           }
          ],
          "scattermapbox": [
           {
            "marker": {
             "colorbar": {
              "outlinewidth": 0,
              "ticks": ""
             }
            },
            "type": "scattermapbox"
           }
          ],
          "scatterpolar": [
           {
            "marker": {
             "colorbar": {
              "outlinewidth": 0,
              "ticks": ""
             }
            },
            "type": "scatterpolar"
           }
          ],
          "scatterpolargl": [
           {
            "marker": {
             "colorbar": {
              "outlinewidth": 0,
              "ticks": ""
             }
            },
            "type": "scatterpolargl"
           }
          ],
          "scatterternary": [
           {
            "marker": {
             "colorbar": {
              "outlinewidth": 0,
              "ticks": ""
             }
            },
            "type": "scatterternary"
           }
          ],
          "surface": [
           {
            "colorbar": {
             "outlinewidth": 0,
             "ticks": ""
            },
            "colorscale": [
             [
              0,
              "#0d0887"
             ],
             [
              0.1111111111111111,
              "#46039f"
             ],
             [
              0.2222222222222222,
              "#7201a8"
             ],
             [
              0.3333333333333333,
              "#9c179e"
             ],
             [
              0.4444444444444444,
              "#bd3786"
             ],
             [
              0.5555555555555556,
              "#d8576b"
             ],
             [
              0.6666666666666666,
              "#ed7953"
             ],
             [
              0.7777777777777778,
              "#fb9f3a"
             ],
             [
              0.8888888888888888,
              "#fdca26"
             ],
             [
              1,
              "#f0f921"
             ]
            ],
            "type": "surface"
           }
          ],
          "table": [
           {
            "cells": {
             "fill": {
              "color": "#EBF0F8"
             },
             "line": {
              "color": "white"
             }
            },
            "header": {
             "fill": {
              "color": "#C8D4E3"
             },
             "line": {
              "color": "white"
             }
            },
            "type": "table"
           }
          ]
         },
         "layout": {
          "annotationdefaults": {
           "arrowcolor": "#2a3f5f",
           "arrowhead": 0,
           "arrowwidth": 1
          },
          "autotypenumbers": "strict",
          "coloraxis": {
           "colorbar": {
            "outlinewidth": 0,
            "ticks": ""
           }
          },
          "colorscale": {
           "diverging": [
            [
             0,
             "#8e0152"
            ],
            [
             0.1,
             "#c51b7d"
            ],
            [
             0.2,
             "#de77ae"
            ],
            [
             0.3,
             "#f1b6da"
            ],
            [
             0.4,
             "#fde0ef"
            ],
            [
             0.5,
             "#f7f7f7"
            ],
            [
             0.6,
             "#e6f5d0"
            ],
            [
             0.7,
             "#b8e186"
            ],
            [
             0.8,
             "#7fbc41"
            ],
            [
             0.9,
             "#4d9221"
            ],
            [
             1,
             "#276419"
            ]
           ],
           "sequential": [
            [
             0,
             "#0d0887"
            ],
            [
             0.1111111111111111,
             "#46039f"
            ],
            [
             0.2222222222222222,
             "#7201a8"
            ],
            [
             0.3333333333333333,
             "#9c179e"
            ],
            [
             0.4444444444444444,
             "#bd3786"
            ],
            [
             0.5555555555555556,
             "#d8576b"
            ],
            [
             0.6666666666666666,
             "#ed7953"
            ],
            [
             0.7777777777777778,
             "#fb9f3a"
            ],
            [
             0.8888888888888888,
             "#fdca26"
            ],
            [
             1,
             "#f0f921"
            ]
           ],
           "sequentialminus": [
            [
             0,
             "#0d0887"
            ],
            [
             0.1111111111111111,
             "#46039f"
            ],
            [
             0.2222222222222222,
             "#7201a8"
            ],
            [
             0.3333333333333333,
             "#9c179e"
            ],
            [
             0.4444444444444444,
             "#bd3786"
            ],
            [
             0.5555555555555556,
             "#d8576b"
            ],
            [
             0.6666666666666666,
             "#ed7953"
            ],
            [
             0.7777777777777778,
             "#fb9f3a"
            ],
            [
             0.8888888888888888,
             "#fdca26"
            ],
            [
             1,
             "#f0f921"
            ]
           ]
          },
          "colorway": [
           "#636efa",
           "#EF553B",
           "#00cc96",
           "#ab63fa",
           "#FFA15A",
           "#19d3f3",
           "#FF6692",
           "#B6E880",
           "#FF97FF",
           "#FECB52"
          ],
          "font": {
           "color": "#2a3f5f"
          },
          "geo": {
           "bgcolor": "white",
           "lakecolor": "white",
           "landcolor": "#E5ECF6",
           "showlakes": true,
           "showland": true,
           "subunitcolor": "white"
          },
          "hoverlabel": {
           "align": "left"
          },
          "hovermode": "closest",
          "mapbox": {
           "style": "light"
          },
          "paper_bgcolor": "white",
          "plot_bgcolor": "#E5ECF6",
          "polar": {
           "angularaxis": {
            "gridcolor": "white",
            "linecolor": "white",
            "ticks": ""
           },
           "bgcolor": "#E5ECF6",
           "radialaxis": {
            "gridcolor": "white",
            "linecolor": "white",
            "ticks": ""
           }
          },
          "scene": {
           "xaxis": {
            "backgroundcolor": "#E5ECF6",
            "gridcolor": "white",
            "gridwidth": 2,
            "linecolor": "white",
            "showbackground": true,
            "ticks": "",
            "zerolinecolor": "white"
           },
           "yaxis": {
            "backgroundcolor": "#E5ECF6",
            "gridcolor": "white",
            "gridwidth": 2,
            "linecolor": "white",
            "showbackground": true,
            "ticks": "",
            "zerolinecolor": "white"
           },
           "zaxis": {
            "backgroundcolor": "#E5ECF6",
            "gridcolor": "white",
            "gridwidth": 2,
            "linecolor": "white",
            "showbackground": true,
            "ticks": "",
            "zerolinecolor": "white"
           }
          },
          "shapedefaults": {
           "line": {
            "color": "#2a3f5f"
           }
          },
          "ternary": {
           "aaxis": {
            "gridcolor": "white",
            "linecolor": "white",
            "ticks": ""
           },
           "baxis": {
            "gridcolor": "white",
            "linecolor": "white",
            "ticks": ""
           },
           "bgcolor": "#E5ECF6",
           "caxis": {
            "gridcolor": "white",
            "linecolor": "white",
            "ticks": ""
           }
          },
          "title": {
           "x": 0.05
          },
          "xaxis": {
           "automargin": true,
           "gridcolor": "white",
           "linecolor": "white",
           "ticks": "",
           "title": {
            "standoff": 15
           },
           "zerolinecolor": "white",
           "zerolinewidth": 2
          },
          "yaxis": {
           "automargin": true,
           "gridcolor": "white",
           "linecolor": "white",
           "ticks": "",
           "title": {
            "standoff": 15
           },
           "zerolinecolor": "white",
           "zerolinewidth": 2
          }
         }
        },
        "xaxis": {
         "anchor": "y",
         "domain": [
          0,
          1
         ],
         "title": {
          "text": "index"
         }
        },
        "yaxis": {
         "anchor": "x",
         "domain": [
          0,
          1
         ],
         "title": {
          "text": "value"
         }
        }
       }
      }
     },
     "metadata": {},
     "output_type": "display_data"
    }
   ],
   "source": [
    "px.line(metodos_SH_metricas.T)"
   ]
  },
  {
   "cell_type": "markdown",
   "metadata": {},
   "source": [
    "### Sensibilidad por tipo de anomalía"
   ]
  },
  {
   "cell_type": "code",
   "execution_count": 48,
   "metadata": {},
   "outputs": [
    {
     "data": {
      "text/html": [
       "<div>\n",
       "<style scoped>\n",
       "    .dataframe tbody tr th:only-of-type {\n",
       "        vertical-align: middle;\n",
       "    }\n",
       "\n",
       "    .dataframe tbody tr th {\n",
       "        vertical-align: top;\n",
       "    }\n",
       "\n",
       "    .dataframe thead th {\n",
       "        text-align: right;\n",
       "    }\n",
       "</style>\n",
       "<table border=\"1\" class=\"dataframe\">\n",
       "  <thead>\n",
       "    <tr style=\"text-align: right;\">\n",
       "      <th></th>\n",
       "      <th>Anomalia</th>\n",
       "      <th>Negro</th>\n",
       "      <th>Congelado</th>\n",
       "      <th>Hum</th>\n",
       "    </tr>\n",
       "  </thead>\n",
       "  <tbody>\n",
       "    <tr>\n",
       "      <th>HBOS</th>\n",
       "      <td>0.86162</td>\n",
       "      <td>1.0</td>\n",
       "      <td>0.900859</td>\n",
       "      <td>0.494545</td>\n",
       "    </tr>\n",
       "    <tr>\n",
       "      <th>IForest</th>\n",
       "      <td>0.858451</td>\n",
       "      <td>1.0</td>\n",
       "      <td>0.900078</td>\n",
       "      <td>0.469091</td>\n",
       "    </tr>\n",
       "    <tr>\n",
       "      <th>KNN</th>\n",
       "      <td>0.283451</td>\n",
       "      <td>0.258629</td>\n",
       "      <td>0.266979</td>\n",
       "      <td>0.429091</td>\n",
       "    </tr>\n",
       "  </tbody>\n",
       "</table>\n",
       "</div>"
      ],
      "text/plain": [
       "         Anomalia     Negro Congelado       Hum\n",
       "HBOS      0.86162       1.0  0.900859  0.494545\n",
       "IForest  0.858451       1.0  0.900078  0.469091\n",
       "KNN      0.283451  0.258629  0.266979  0.429091"
      ]
     },
     "execution_count": 48,
     "metadata": {},
     "output_type": "execute_result"
    }
   ],
   "source": [
    "metodos_SH_sensibilidades = calc_sensibilidad(metodos_SH,metodos_SH_lista,anomalias)\n",
    "metodos_SH_sensibilidades"
   ]
  },
  {
   "cell_type": "code",
   "execution_count": 49,
   "metadata": {},
   "outputs": [
    {
     "data": {
      "application/vnd.plotly.v1+json": {
       "config": {
        "plotlyServerURL": "https://plot.ly"
       },
       "data": [
        {
         "hovertemplate": "variable=HBOS<br>index=%{x}<br>value=%{y}<extra></extra>",
         "legendgroup": "HBOS",
         "line": {
          "color": "#636efa",
          "dash": "solid"
         },
         "marker": {
          "symbol": "circle"
         },
         "mode": "lines",
         "name": "HBOS",
         "orientation": "v",
         "showlegend": true,
         "type": "scatter",
         "x": [
          "Anomalia",
          "Negro",
          "Congelado",
          "Hum"
         ],
         "xaxis": "x",
         "y": [
          0.8616197183098592,
          1,
          0.9008587041373927,
          0.49454545454545457
         ],
         "yaxis": "y"
        },
        {
         "hovertemplate": "variable=IForest<br>index=%{x}<br>value=%{y}<extra></extra>",
         "legendgroup": "IForest",
         "line": {
          "color": "#EF553B",
          "dash": "solid"
         },
         "marker": {
          "symbol": "circle"
         },
         "mode": "lines",
         "name": "IForest",
         "orientation": "v",
         "showlegend": true,
         "type": "scatter",
         "x": [
          "Anomalia",
          "Negro",
          "Congelado",
          "Hum"
         ],
         "xaxis": "x",
         "y": [
          0.8584507042253521,
          1,
          0.9000780640124902,
          0.4690909090909091
         ],
         "yaxis": "y"
        },
        {
         "hovertemplate": "variable=KNN<br>index=%{x}<br>value=%{y}<extra></extra>",
         "legendgroup": "KNN",
         "line": {
          "color": "#00cc96",
          "dash": "solid"
         },
         "marker": {
          "symbol": "circle"
         },
         "mode": "lines",
         "name": "KNN",
         "orientation": "v",
         "showlegend": true,
         "type": "scatter",
         "x": [
          "Anomalia",
          "Negro",
          "Congelado",
          "Hum"
         ],
         "xaxis": "x",
         "y": [
          0.2834507042253521,
          0.25862907146329606,
          0.26697892271662765,
          0.4290909090909091
         ],
         "yaxis": "y"
        }
       ],
       "layout": {
        "legend": {
         "title": {
          "text": "variable"
         },
         "tracegroupgap": 0
        },
        "margin": {
         "t": 60
        },
        "template": {
         "data": {
          "bar": [
           {
            "error_x": {
             "color": "#2a3f5f"
            },
            "error_y": {
             "color": "#2a3f5f"
            },
            "marker": {
             "line": {
              "color": "#E5ECF6",
              "width": 0.5
             },
             "pattern": {
              "fillmode": "overlay",
              "size": 10,
              "solidity": 0.2
             }
            },
            "type": "bar"
           }
          ],
          "barpolar": [
           {
            "marker": {
             "line": {
              "color": "#E5ECF6",
              "width": 0.5
             },
             "pattern": {
              "fillmode": "overlay",
              "size": 10,
              "solidity": 0.2
             }
            },
            "type": "barpolar"
           }
          ],
          "carpet": [
           {
            "aaxis": {
             "endlinecolor": "#2a3f5f",
             "gridcolor": "white",
             "linecolor": "white",
             "minorgridcolor": "white",
             "startlinecolor": "#2a3f5f"
            },
            "baxis": {
             "endlinecolor": "#2a3f5f",
             "gridcolor": "white",
             "linecolor": "white",
             "minorgridcolor": "white",
             "startlinecolor": "#2a3f5f"
            },
            "type": "carpet"
           }
          ],
          "choropleth": [
           {
            "colorbar": {
             "outlinewidth": 0,
             "ticks": ""
            },
            "type": "choropleth"
           }
          ],
          "contour": [
           {
            "colorbar": {
             "outlinewidth": 0,
             "ticks": ""
            },
            "colorscale": [
             [
              0,
              "#0d0887"
             ],
             [
              0.1111111111111111,
              "#46039f"
             ],
             [
              0.2222222222222222,
              "#7201a8"
             ],
             [
              0.3333333333333333,
              "#9c179e"
             ],
             [
              0.4444444444444444,
              "#bd3786"
             ],
             [
              0.5555555555555556,
              "#d8576b"
             ],
             [
              0.6666666666666666,
              "#ed7953"
             ],
             [
              0.7777777777777778,
              "#fb9f3a"
             ],
             [
              0.8888888888888888,
              "#fdca26"
             ],
             [
              1,
              "#f0f921"
             ]
            ],
            "type": "contour"
           }
          ],
          "contourcarpet": [
           {
            "colorbar": {
             "outlinewidth": 0,
             "ticks": ""
            },
            "type": "contourcarpet"
           }
          ],
          "heatmap": [
           {
            "colorbar": {
             "outlinewidth": 0,
             "ticks": ""
            },
            "colorscale": [
             [
              0,
              "#0d0887"
             ],
             [
              0.1111111111111111,
              "#46039f"
             ],
             [
              0.2222222222222222,
              "#7201a8"
             ],
             [
              0.3333333333333333,
              "#9c179e"
             ],
             [
              0.4444444444444444,
              "#bd3786"
             ],
             [
              0.5555555555555556,
              "#d8576b"
             ],
             [
              0.6666666666666666,
              "#ed7953"
             ],
             [
              0.7777777777777778,
              "#fb9f3a"
             ],
             [
              0.8888888888888888,
              "#fdca26"
             ],
             [
              1,
              "#f0f921"
             ]
            ],
            "type": "heatmap"
           }
          ],
          "heatmapgl": [
           {
            "colorbar": {
             "outlinewidth": 0,
             "ticks": ""
            },
            "colorscale": [
             [
              0,
              "#0d0887"
             ],
             [
              0.1111111111111111,
              "#46039f"
             ],
             [
              0.2222222222222222,
              "#7201a8"
             ],
             [
              0.3333333333333333,
              "#9c179e"
             ],
             [
              0.4444444444444444,
              "#bd3786"
             ],
             [
              0.5555555555555556,
              "#d8576b"
             ],
             [
              0.6666666666666666,
              "#ed7953"
             ],
             [
              0.7777777777777778,
              "#fb9f3a"
             ],
             [
              0.8888888888888888,
              "#fdca26"
             ],
             [
              1,
              "#f0f921"
             ]
            ],
            "type": "heatmapgl"
           }
          ],
          "histogram": [
           {
            "marker": {
             "pattern": {
              "fillmode": "overlay",
              "size": 10,
              "solidity": 0.2
             }
            },
            "type": "histogram"
           }
          ],
          "histogram2d": [
           {
            "colorbar": {
             "outlinewidth": 0,
             "ticks": ""
            },
            "colorscale": [
             [
              0,
              "#0d0887"
             ],
             [
              0.1111111111111111,
              "#46039f"
             ],
             [
              0.2222222222222222,
              "#7201a8"
             ],
             [
              0.3333333333333333,
              "#9c179e"
             ],
             [
              0.4444444444444444,
              "#bd3786"
             ],
             [
              0.5555555555555556,
              "#d8576b"
             ],
             [
              0.6666666666666666,
              "#ed7953"
             ],
             [
              0.7777777777777778,
              "#fb9f3a"
             ],
             [
              0.8888888888888888,
              "#fdca26"
             ],
             [
              1,
              "#f0f921"
             ]
            ],
            "type": "histogram2d"
           }
          ],
          "histogram2dcontour": [
           {
            "colorbar": {
             "outlinewidth": 0,
             "ticks": ""
            },
            "colorscale": [
             [
              0,
              "#0d0887"
             ],
             [
              0.1111111111111111,
              "#46039f"
             ],
             [
              0.2222222222222222,
              "#7201a8"
             ],
             [
              0.3333333333333333,
              "#9c179e"
             ],
             [
              0.4444444444444444,
              "#bd3786"
             ],
             [
              0.5555555555555556,
              "#d8576b"
             ],
             [
              0.6666666666666666,
              "#ed7953"
             ],
             [
              0.7777777777777778,
              "#fb9f3a"
             ],
             [
              0.8888888888888888,
              "#fdca26"
             ],
             [
              1,
              "#f0f921"
             ]
            ],
            "type": "histogram2dcontour"
           }
          ],
          "mesh3d": [
           {
            "colorbar": {
             "outlinewidth": 0,
             "ticks": ""
            },
            "type": "mesh3d"
           }
          ],
          "parcoords": [
           {
            "line": {
             "colorbar": {
              "outlinewidth": 0,
              "ticks": ""
             }
            },
            "type": "parcoords"
           }
          ],
          "pie": [
           {
            "automargin": true,
            "type": "pie"
           }
          ],
          "scatter": [
           {
            "fillpattern": {
             "fillmode": "overlay",
             "size": 10,
             "solidity": 0.2
            },
            "type": "scatter"
           }
          ],
          "scatter3d": [
           {
            "line": {
             "colorbar": {
              "outlinewidth": 0,
              "ticks": ""
             }
            },
            "marker": {
             "colorbar": {
              "outlinewidth": 0,
              "ticks": ""
             }
            },
            "type": "scatter3d"
           }
          ],
          "scattercarpet": [
           {
            "marker": {
             "colorbar": {
              "outlinewidth": 0,
              "ticks": ""
             }
            },
            "type": "scattercarpet"
           }
          ],
          "scattergeo": [
           {
            "marker": {
             "colorbar": {
              "outlinewidth": 0,
              "ticks": ""
             }
            },
            "type": "scattergeo"
           }
          ],
          "scattergl": [
           {
            "marker": {
             "colorbar": {
              "outlinewidth": 0,
              "ticks": ""
             }
            },
            "type": "scattergl"
           }
          ],
          "scattermapbox": [
           {
            "marker": {
             "colorbar": {
              "outlinewidth": 0,
              "ticks": ""
             }
            },
            "type": "scattermapbox"
           }
          ],
          "scatterpolar": [
           {
            "marker": {
             "colorbar": {
              "outlinewidth": 0,
              "ticks": ""
             }
            },
            "type": "scatterpolar"
           }
          ],
          "scatterpolargl": [
           {
            "marker": {
             "colorbar": {
              "outlinewidth": 0,
              "ticks": ""
             }
            },
            "type": "scatterpolargl"
           }
          ],
          "scatterternary": [
           {
            "marker": {
             "colorbar": {
              "outlinewidth": 0,
              "ticks": ""
             }
            },
            "type": "scatterternary"
           }
          ],
          "surface": [
           {
            "colorbar": {
             "outlinewidth": 0,
             "ticks": ""
            },
            "colorscale": [
             [
              0,
              "#0d0887"
             ],
             [
              0.1111111111111111,
              "#46039f"
             ],
             [
              0.2222222222222222,
              "#7201a8"
             ],
             [
              0.3333333333333333,
              "#9c179e"
             ],
             [
              0.4444444444444444,
              "#bd3786"
             ],
             [
              0.5555555555555556,
              "#d8576b"
             ],
             [
              0.6666666666666666,
              "#ed7953"
             ],
             [
              0.7777777777777778,
              "#fb9f3a"
             ],
             [
              0.8888888888888888,
              "#fdca26"
             ],
             [
              1,
              "#f0f921"
             ]
            ],
            "type": "surface"
           }
          ],
          "table": [
           {
            "cells": {
             "fill": {
              "color": "#EBF0F8"
             },
             "line": {
              "color": "white"
             }
            },
            "header": {
             "fill": {
              "color": "#C8D4E3"
             },
             "line": {
              "color": "white"
             }
            },
            "type": "table"
           }
          ]
         },
         "layout": {
          "annotationdefaults": {
           "arrowcolor": "#2a3f5f",
           "arrowhead": 0,
           "arrowwidth": 1
          },
          "autotypenumbers": "strict",
          "coloraxis": {
           "colorbar": {
            "outlinewidth": 0,
            "ticks": ""
           }
          },
          "colorscale": {
           "diverging": [
            [
             0,
             "#8e0152"
            ],
            [
             0.1,
             "#c51b7d"
            ],
            [
             0.2,
             "#de77ae"
            ],
            [
             0.3,
             "#f1b6da"
            ],
            [
             0.4,
             "#fde0ef"
            ],
            [
             0.5,
             "#f7f7f7"
            ],
            [
             0.6,
             "#e6f5d0"
            ],
            [
             0.7,
             "#b8e186"
            ],
            [
             0.8,
             "#7fbc41"
            ],
            [
             0.9,
             "#4d9221"
            ],
            [
             1,
             "#276419"
            ]
           ],
           "sequential": [
            [
             0,
             "#0d0887"
            ],
            [
             0.1111111111111111,
             "#46039f"
            ],
            [
             0.2222222222222222,
             "#7201a8"
            ],
            [
             0.3333333333333333,
             "#9c179e"
            ],
            [
             0.4444444444444444,
             "#bd3786"
            ],
            [
             0.5555555555555556,
             "#d8576b"
            ],
            [
             0.6666666666666666,
             "#ed7953"
            ],
            [
             0.7777777777777778,
             "#fb9f3a"
            ],
            [
             0.8888888888888888,
             "#fdca26"
            ],
            [
             1,
             "#f0f921"
            ]
           ],
           "sequentialminus": [
            [
             0,
             "#0d0887"
            ],
            [
             0.1111111111111111,
             "#46039f"
            ],
            [
             0.2222222222222222,
             "#7201a8"
            ],
            [
             0.3333333333333333,
             "#9c179e"
            ],
            [
             0.4444444444444444,
             "#bd3786"
            ],
            [
             0.5555555555555556,
             "#d8576b"
            ],
            [
             0.6666666666666666,
             "#ed7953"
            ],
            [
             0.7777777777777778,
             "#fb9f3a"
            ],
            [
             0.8888888888888888,
             "#fdca26"
            ],
            [
             1,
             "#f0f921"
            ]
           ]
          },
          "colorway": [
           "#636efa",
           "#EF553B",
           "#00cc96",
           "#ab63fa",
           "#FFA15A",
           "#19d3f3",
           "#FF6692",
           "#B6E880",
           "#FF97FF",
           "#FECB52"
          ],
          "font": {
           "color": "#2a3f5f"
          },
          "geo": {
           "bgcolor": "white",
           "lakecolor": "white",
           "landcolor": "#E5ECF6",
           "showlakes": true,
           "showland": true,
           "subunitcolor": "white"
          },
          "hoverlabel": {
           "align": "left"
          },
          "hovermode": "closest",
          "mapbox": {
           "style": "light"
          },
          "paper_bgcolor": "white",
          "plot_bgcolor": "#E5ECF6",
          "polar": {
           "angularaxis": {
            "gridcolor": "white",
            "linecolor": "white",
            "ticks": ""
           },
           "bgcolor": "#E5ECF6",
           "radialaxis": {
            "gridcolor": "white",
            "linecolor": "white",
            "ticks": ""
           }
          },
          "scene": {
           "xaxis": {
            "backgroundcolor": "#E5ECF6",
            "gridcolor": "white",
            "gridwidth": 2,
            "linecolor": "white",
            "showbackground": true,
            "ticks": "",
            "zerolinecolor": "white"
           },
           "yaxis": {
            "backgroundcolor": "#E5ECF6",
            "gridcolor": "white",
            "gridwidth": 2,
            "linecolor": "white",
            "showbackground": true,
            "ticks": "",
            "zerolinecolor": "white"
           },
           "zaxis": {
            "backgroundcolor": "#E5ECF6",
            "gridcolor": "white",
            "gridwidth": 2,
            "linecolor": "white",
            "showbackground": true,
            "ticks": "",
            "zerolinecolor": "white"
           }
          },
          "shapedefaults": {
           "line": {
            "color": "#2a3f5f"
           }
          },
          "ternary": {
           "aaxis": {
            "gridcolor": "white",
            "linecolor": "white",
            "ticks": ""
           },
           "baxis": {
            "gridcolor": "white",
            "linecolor": "white",
            "ticks": ""
           },
           "bgcolor": "#E5ECF6",
           "caxis": {
            "gridcolor": "white",
            "linecolor": "white",
            "ticks": ""
           }
          },
          "title": {
           "x": 0.05
          },
          "xaxis": {
           "automargin": true,
           "gridcolor": "white",
           "linecolor": "white",
           "ticks": "",
           "title": {
            "standoff": 15
           },
           "zerolinecolor": "white",
           "zerolinewidth": 2
          },
          "yaxis": {
           "automargin": true,
           "gridcolor": "white",
           "linecolor": "white",
           "ticks": "",
           "title": {
            "standoff": 15
           },
           "zerolinecolor": "white",
           "zerolinewidth": 2
          }
         }
        },
        "xaxis": {
         "anchor": "y",
         "domain": [
          0,
          1
         ],
         "title": {
          "text": "index"
         }
        },
        "yaxis": {
         "anchor": "x",
         "domain": [
          0,
          1
         ],
         "title": {
          "text": "value"
         }
        }
       }
      }
     },
     "metadata": {},
     "output_type": "display_data"
    }
   ],
   "source": [
    "px.line(metodos_SH_sensibilidades.T)"
   ]
  },
  {
   "cell_type": "markdown",
   "metadata": {},
   "source": [
    "## Resumen Final"
   ]
  },
  {
   "cell_type": "code",
   "execution_count": 50,
   "metadata": {},
   "outputs": [
    {
     "data": {
      "application/vnd.plotly.v1+json": {
       "config": {
        "plotlyServerURL": "https://plot.ly"
       },
       "data": [
        {
         "hovertemplate": "variable=HBOS_general<br>index=%{x}<br>value=%{y}<extra></extra>",
         "legendgroup": "HBOS_general",
         "line": {
          "color": "#636efa",
          "dash": "solid"
         },
         "marker": {
          "symbol": "circle"
         },
         "mode": "lines",
         "name": "HBOS_general",
         "orientation": "v",
         "showlegend": true,
         "type": "scatter",
         "x": [
          "roc_auc",
          "accuracy",
          "precision",
          "kappa",
          "sensibilidad",
          "especificidad"
         ],
         "xaxis": "x",
         "y": [
          0.6189203769497823,
          0.8753658415596012,
          0.2272159800249688,
          0.19993957231717097,
          0.3204225352112676,
          0.9174182186882971
         ],
         "yaxis": "y"
        },
        {
         "hovertemplate": "variable=IForest_general<br>index=%{x}<br>value=%{y}<extra></extra>",
         "legendgroup": "IForest_general",
         "line": {
          "color": "#EF553B",
          "dash": "solid"
         },
         "marker": {
          "symbol": "circle"
         },
         "mode": "lines",
         "name": "IForest_general",
         "orientation": "v",
         "showlegend": true,
         "type": "scatter",
         "x": [
          "roc_auc",
          "accuracy",
          "precision",
          "kappa",
          "sensibilidad",
          "especificidad"
         ],
         "xaxis": "x",
         "y": [
          0.7248495643265646,
          0.9028969690956893,
          0.36612702366127026,
          0.37752080067612426,
          0.5176056338028169,
          0.9320934948503122
         ],
         "yaxis": "y"
        },
        {
         "hovertemplate": "variable=KNN_general<br>index=%{x}<br>value=%{y}<extra></extra>",
         "legendgroup": "KNN_general",
         "line": {
          "color": "#00cc96",
          "dash": "solid"
         },
         "marker": {
          "symbol": "circle"
         },
         "mode": "lines",
         "name": "KNN_general",
         "orientation": "v",
         "showlegend": true,
         "type": "scatter",
         "x": [
          "roc_auc",
          "accuracy",
          "precision",
          "kappa",
          "sensibilidad",
          "especificidad"
         ],
         "xaxis": "x",
         "y": [
          0.54718136987784,
          0.8563420804603403,
          0.13247011952191234,
          0.07920636105309187,
          0.18732394366197183,
          0.9070387960937083
         ],
         "yaxis": "y"
        },
        {
         "hovertemplate": "variable=LODA_general<br>index=%{x}<br>value=%{y}<extra></extra>",
         "legendgroup": "LODA_general",
         "line": {
          "color": "#ab63fa",
          "dash": "solid"
         },
         "marker": {
          "symbol": "circle"
         },
         "mode": "lines",
         "name": "LODA_general",
         "orientation": "v",
         "showlegend": true,
         "type": "scatter",
         "x": [
          "roc_auc",
          "accuracy",
          "precision",
          "kappa",
          "sensibilidad",
          "especificidad"
         ],
         "xaxis": "x",
         "y": [
          0.5857943984414518,
          0.8661143905947716,
          0.1827876984126984,
          0.1437144469063414,
          0.2595070422535211,
          0.9120817546293826
         ],
         "yaxis": "y"
        },
        {
         "hovertemplate": "variable=MAD_PyOD_general<br>index=%{x}<br>value=%{y}<extra></extra>",
         "legendgroup": "MAD_PyOD_general",
         "line": {
          "color": "#FFA15A",
          "dash": "solid"
         },
         "marker": {
          "symbol": "circle"
         },
         "mode": "lines",
         "name": "MAD_PyOD_general",
         "orientation": "v",
         "showlegend": true,
         "type": "scatter",
         "x": [
          "roc_auc",
          "accuracy",
          "precision",
          "kappa",
          "sensibilidad",
          "especificidad"
         ],
         "xaxis": "x",
         "y": [
          0.9482485123666917,
          0.9824396051391439,
          0.8520475561426685,
          0.8698867932839626,
          0.9084507042253521,
          0.9880463205080314
         ],
         "yaxis": "y"
        },
        {
         "hovertemplate": "variable=MCD_general<br>index=%{x}<br>value=%{y}<extra></extra>",
         "legendgroup": "MCD_general",
         "line": {
          "color": "#19d3f3",
          "dash": "solid"
         },
         "marker": {
          "symbol": "circle"
         },
         "mode": "lines",
         "name": "MCD_general",
         "orientation": "v",
         "showlegend": true,
         "type": "scatter",
         "x": [
          "roc_auc",
          "accuracy",
          "precision",
          "kappa",
          "sensibilidad",
          "especificidad"
         ],
         "xaxis": "x",
         "y": [
          0.5498407986206368,
          0.8561436579195396,
          0.13528831936914737,
          0.08319368348329537,
          0.19330985915492957,
          0.906371738086344
         ],
         "yaxis": "y"
        },
        {
         "hovertemplate": "variable=IForestASD_general<br>index=%{x}<br>value=%{y}<extra></extra>",
         "legendgroup": "IForestASD_general",
         "line": {
          "color": "#FF6692",
          "dash": "solid"
         },
         "marker": {
          "symbol": "circle"
         },
         "mode": "lines",
         "name": "IForestASD_general",
         "orientation": "v",
         "showlegend": true,
         "type": "scatter",
         "x": [
          "roc_auc",
          "accuracy",
          "precision",
          "kappa",
          "sensibilidad",
          "especificidad"
         ],
         "xaxis": "x",
         "y": [
          0.8418001001902337,
          0.789076839128925,
          0.2376320177876598,
          0.297964134461171,
          0.903169014084507,
          0.7804311862959603
         ],
         "yaxis": "y"
        },
        {
         "hovertemplate": "variable=MAD_PySAD_general<br>index=%{x}<br>value=%{y}<extra></extra>",
         "legendgroup": "MAD_PySAD_general",
         "line": {
          "color": "#B6E880",
          "dash": "solid"
         },
         "marker": {
          "symbol": "circle"
         },
         "mode": "lines",
         "name": "MAD_PySAD_general",
         "orientation": "v",
         "showlegend": true,
         "type": "scatter",
         "x": [
          "roc_auc",
          "accuracy",
          "precision",
          "kappa",
          "sensibilidad",
          "especificidad"
         ],
         "xaxis": "x",
         "y": [
          0.9456229250737898,
          0.9772558162607272,
          0.7968508799012041,
          0.8369107928260557,
          0.9088028169014084,
          0.9824430332461711
         ],
         "yaxis": "y"
        },
        {
         "hovertemplate": "variable=SAD_general<br>index=%{x}<br>value=%{y}<extra></extra>",
         "legendgroup": "SAD_general",
         "line": {
          "color": "#FF97FF",
          "dash": "solid"
         },
         "marker": {
          "symbol": "circle"
         },
         "mode": "lines",
         "name": "SAD_general",
         "orientation": "v",
         "showlegend": true,
         "type": "scatter",
         "x": [
          "roc_auc",
          "accuracy",
          "precision",
          "kappa",
          "sensibilidad",
          "especificidad"
         ],
         "xaxis": "x",
         "y": [
          0.9348539875788162,
          0.9575375762686641,
          0.6398809523809523,
          0.7284251821236859,
          0.9084507042253521,
          0.9612572709322803
         ],
         "yaxis": "y"
        },
        {
         "hovertemplate": "variable=xStream_general<br>index=%{x}<br>value=%{y}<extra></extra>",
         "legendgroup": "xStream_general",
         "line": {
          "color": "#FECB52",
          "dash": "solid"
         },
         "marker": {
          "symbol": "circle"
         },
         "mode": "lines",
         "name": "xStream_general",
         "orientation": "v",
         "showlegend": true,
         "type": "scatter",
         "x": [
          "roc_auc",
          "accuracy",
          "precision",
          "kappa",
          "sensibilidad",
          "especificidad"
         ],
         "xaxis": "x",
         "y": [
          0.8795105898746983,
          0.8443623195595019,
          0.30174304513447997,
          0.38974320400141527,
          0.9204225352112676,
          0.838598644538129
         ],
         "yaxis": "y"
        },
        {
         "hovertemplate": "variable=HTM_general<br>index=%{x}<br>value=%{y}<extra></extra>",
         "legendgroup": "HTM_general",
         "line": {
          "color": "#636efa",
          "dash": "solid"
         },
         "marker": {
          "symbol": "circle"
         },
         "mode": "lines",
         "name": "HTM_general",
         "orientation": "v",
         "showlegend": true,
         "type": "scatter",
         "x": [
          "roc_auc",
          "accuracy",
          "precision",
          "kappa",
          "sensibilidad",
          "especificidad"
         ],
         "xaxis": "x",
         "y": [
          0.4975419465232175,
          0.9245345728189535,
          0.011743450767841012,
          -0.008566023219445107,
          0.0009198981035946788,
          0.9941639949428402
         ],
         "yaxis": "y"
        },
        {
         "hovertemplate": "variable=IForest_NvS<br>index=%{x}<br>value=%{y}<extra></extra>",
         "legendgroup": "IForest_NvS",
         "line": {
          "color": "#EF553B",
          "dash": "solid"
         },
         "marker": {
          "symbol": "circle"
         },
         "mode": "lines",
         "name": "IForest_NvS",
         "orientation": "v",
         "showlegend": true,
         "type": "scatter",
         "x": [
          "roc_auc",
          "accuracy",
          "precision",
          "kappa",
          "sensibilidad",
          "especificidad"
         ],
         "xaxis": "x",
         "y": [
          0.8895503484109739,
          0.9437968153182201,
          0.5696601941747573,
          0.6448038907097842,
          0.8264084507042253,
          0.9526922461177224
         ],
         "yaxis": "y"
        },
        {
         "hovertemplate": "variable=MAD_NvS<br>index=%{x}<br>value=%{y}<extra></extra>",
         "legendgroup": "MAD_NvS",
         "line": {
          "color": "#00cc96",
          "dash": "solid"
         },
         "marker": {
          "symbol": "circle"
         },
         "mode": "lines",
         "name": "MAD_NvS",
         "orientation": "v",
         "showlegend": true,
         "type": "scatter",
         "x": [
          "roc_auc",
          "accuracy",
          "precision",
          "kappa",
          "sensibilidad",
          "especificidad"
         ],
         "xaxis": "x",
         "y": [
          0.8899803565509605,
          0.9473188154174315,
          0.5904040404040404,
          0.6597307263173622,
          0.8232394366197183,
          0.9567212764822028
         ],
         "yaxis": "y"
        },
        {
         "hovertemplate": "variable=MAD_PyOD_PvP<br>index=%{x}<br>value=%{y}<extra></extra>",
         "legendgroup": "MAD_PyOD_PvP",
         "line": {
          "color": "#ab63fa",
          "dash": "solid"
         },
         "marker": {
          "symbol": "circle"
         },
         "mode": "lines",
         "name": "MAD_PyOD_PvP",
         "orientation": "v",
         "showlegend": true,
         "type": "scatter",
         "x": [
          "roc_auc",
          "accuracy",
          "precision",
          "kappa",
          "sensibilidad",
          "especificidad"
         ],
         "xaxis": "x",
         "y": [
          0.9000351285899935,
          0.9372736742893992,
          0.5341383095499451,
          0.6255159473982608,
          0.8566901408450704,
          0.9433801163349165
         ],
         "yaxis": "y"
        },
        {
         "hovertemplate": "variable=MAD_PySAD_PvP<br>index=%{x}<br>value=%{y}<extra></extra>",
         "legendgroup": "MAD_PySAD_PvP",
         "line": {
          "color": "#FFA15A",
          "dash": "solid"
         },
         "marker": {
          "symbol": "circle"
         },
         "mode": "lines",
         "name": "MAD_PySAD_PvP",
         "orientation": "v",
         "showlegend": true,
         "type": "scatter",
         "x": [
          "roc_auc",
          "accuracy",
          "precision",
          "kappa",
          "sensibilidad",
          "especificidad"
         ],
         "xaxis": "x",
         "y": [
          0.9038564126635042,
          0.9467979562478298,
          0.5836341756919374,
          0.6653480069440916,
          0.8538732394366197,
          0.953839585890389
         ],
         "yaxis": "y"
        },
        {
         "hovertemplate": "variable=SAD_PvP<br>index=%{x}<br>value=%{y}<extra></extra>",
         "legendgroup": "SAD_PvP",
         "line": {
          "color": "#19d3f3",
          "dash": "solid"
         },
         "marker": {
          "symbol": "circle"
         },
         "mode": "lines",
         "name": "SAD_PvP",
         "orientation": "v",
         "showlegend": true,
         "type": "scatter",
         "x": [
          "roc_auc",
          "accuracy",
          "precision",
          "kappa",
          "sensibilidad",
          "especificidad"
         ],
         "xaxis": "x",
         "y": [
          0.9029735097172501,
          0.9469715759710303,
          0.5848646034816247,
          0.6655884738325033,
          0.8517605633802817,
          0.9541864560542185
         ],
         "yaxis": "y"
        },
        {
         "hovertemplate": "variable=HBOS_SH<br>index=%{x}<br>value=%{y}<extra></extra>",
         "legendgroup": "HBOS_SH",
         "line": {
          "color": "#FF6692",
          "dash": "solid"
         },
         "marker": {
          "symbol": "circle"
         },
         "mode": "lines",
         "name": "HBOS_SH",
         "orientation": "v",
         "showlegend": true,
         "type": "scatter",
         "x": [
          "roc_auc",
          "accuracy",
          "precision",
          "kappa",
          "sensibilidad",
          "especificidad"
         ],
         "xaxis": "x",
         "y": [
          0.9153741368645193,
          0.961555632719877,
          0.6789678135405105,
          0.7388932106159682,
          0.8616197183098592,
          0.9691285554191793
         ],
         "yaxis": "y"
        },
        {
         "hovertemplate": "variable=IForest_SH<br>index=%{x}<br>value=%{y}<extra></extra>",
         "legendgroup": "IForest_SH",
         "line": {
          "color": "#B6E880",
          "dash": "solid"
         },
         "marker": {
          "symbol": "circle"
         },
         "mode": "lines",
         "name": "IForest_SH",
         "orientation": "v",
         "showlegend": true,
         "type": "scatter",
         "x": [
          "roc_auc",
          "accuracy",
          "precision",
          "kappa",
          "sensibilidad",
          "especificidad"
         ],
         "xaxis": "x",
         "y": [
          0.9070656851080334,
          0.9488317872910362,
          0.594779214442547,
          0.6757070906980569,
          0.8584507042253521,
          0.9556806659907146
         ],
         "yaxis": "y"
        },
        {
         "hovertemplate": "variable=KNN_SH<br>index=%{x}<br>value=%{y}<extra></extra>",
         "legendgroup": "KNN_SH",
         "line": {
          "color": "#FF97FF",
          "dash": "solid"
         },
         "marker": {
          "symbol": "circle"
         },
         "mode": "lines",
         "name": "KNN_SH",
         "orientation": "v",
         "showlegend": true,
         "type": "scatter",
         "x": [
          "roc_auc",
          "accuracy",
          "precision",
          "kappa",
          "sensibilidad",
          "especificidad"
         ],
         "xaxis": "x",
         "y": [
          0.5979263233491348,
          0.8680986160027779,
          0.1969178082191781,
          0.1627942547424932,
          0.2834507042253521,
          0.9124019424729174
         ],
         "yaxis": "y"
        }
       ],
       "layout": {
        "legend": {
         "title": {
          "text": "variable"
         },
         "tracegroupgap": 0
        },
        "margin": {
         "t": 60
        },
        "template": {
         "data": {
          "bar": [
           {
            "error_x": {
             "color": "#2a3f5f"
            },
            "error_y": {
             "color": "#2a3f5f"
            },
            "marker": {
             "line": {
              "color": "#E5ECF6",
              "width": 0.5
             },
             "pattern": {
              "fillmode": "overlay",
              "size": 10,
              "solidity": 0.2
             }
            },
            "type": "bar"
           }
          ],
          "barpolar": [
           {
            "marker": {
             "line": {
              "color": "#E5ECF6",
              "width": 0.5
             },
             "pattern": {
              "fillmode": "overlay",
              "size": 10,
              "solidity": 0.2
             }
            },
            "type": "barpolar"
           }
          ],
          "carpet": [
           {
            "aaxis": {
             "endlinecolor": "#2a3f5f",
             "gridcolor": "white",
             "linecolor": "white",
             "minorgridcolor": "white",
             "startlinecolor": "#2a3f5f"
            },
            "baxis": {
             "endlinecolor": "#2a3f5f",
             "gridcolor": "white",
             "linecolor": "white",
             "minorgridcolor": "white",
             "startlinecolor": "#2a3f5f"
            },
            "type": "carpet"
           }
          ],
          "choropleth": [
           {
            "colorbar": {
             "outlinewidth": 0,
             "ticks": ""
            },
            "type": "choropleth"
           }
          ],
          "contour": [
           {
            "colorbar": {
             "outlinewidth": 0,
             "ticks": ""
            },
            "colorscale": [
             [
              0,
              "#0d0887"
             ],
             [
              0.1111111111111111,
              "#46039f"
             ],
             [
              0.2222222222222222,
              "#7201a8"
             ],
             [
              0.3333333333333333,
              "#9c179e"
             ],
             [
              0.4444444444444444,
              "#bd3786"
             ],
             [
              0.5555555555555556,
              "#d8576b"
             ],
             [
              0.6666666666666666,
              "#ed7953"
             ],
             [
              0.7777777777777778,
              "#fb9f3a"
             ],
             [
              0.8888888888888888,
              "#fdca26"
             ],
             [
              1,
              "#f0f921"
             ]
            ],
            "type": "contour"
           }
          ],
          "contourcarpet": [
           {
            "colorbar": {
             "outlinewidth": 0,
             "ticks": ""
            },
            "type": "contourcarpet"
           }
          ],
          "heatmap": [
           {
            "colorbar": {
             "outlinewidth": 0,
             "ticks": ""
            },
            "colorscale": [
             [
              0,
              "#0d0887"
             ],
             [
              0.1111111111111111,
              "#46039f"
             ],
             [
              0.2222222222222222,
              "#7201a8"
             ],
             [
              0.3333333333333333,
              "#9c179e"
             ],
             [
              0.4444444444444444,
              "#bd3786"
             ],
             [
              0.5555555555555556,
              "#d8576b"
             ],
             [
              0.6666666666666666,
              "#ed7953"
             ],
             [
              0.7777777777777778,
              "#fb9f3a"
             ],
             [
              0.8888888888888888,
              "#fdca26"
             ],
             [
              1,
              "#f0f921"
             ]
            ],
            "type": "heatmap"
           }
          ],
          "heatmapgl": [
           {
            "colorbar": {
             "outlinewidth": 0,
             "ticks": ""
            },
            "colorscale": [
             [
              0,
              "#0d0887"
             ],
             [
              0.1111111111111111,
              "#46039f"
             ],
             [
              0.2222222222222222,
              "#7201a8"
             ],
             [
              0.3333333333333333,
              "#9c179e"
             ],
             [
              0.4444444444444444,
              "#bd3786"
             ],
             [
              0.5555555555555556,
              "#d8576b"
             ],
             [
              0.6666666666666666,
              "#ed7953"
             ],
             [
              0.7777777777777778,
              "#fb9f3a"
             ],
             [
              0.8888888888888888,
              "#fdca26"
             ],
             [
              1,
              "#f0f921"
             ]
            ],
            "type": "heatmapgl"
           }
          ],
          "histogram": [
           {
            "marker": {
             "pattern": {
              "fillmode": "overlay",
              "size": 10,
              "solidity": 0.2
             }
            },
            "type": "histogram"
           }
          ],
          "histogram2d": [
           {
            "colorbar": {
             "outlinewidth": 0,
             "ticks": ""
            },
            "colorscale": [
             [
              0,
              "#0d0887"
             ],
             [
              0.1111111111111111,
              "#46039f"
             ],
             [
              0.2222222222222222,
              "#7201a8"
             ],
             [
              0.3333333333333333,
              "#9c179e"
             ],
             [
              0.4444444444444444,
              "#bd3786"
             ],
             [
              0.5555555555555556,
              "#d8576b"
             ],
             [
              0.6666666666666666,
              "#ed7953"
             ],
             [
              0.7777777777777778,
              "#fb9f3a"
             ],
             [
              0.8888888888888888,
              "#fdca26"
             ],
             [
              1,
              "#f0f921"
             ]
            ],
            "type": "histogram2d"
           }
          ],
          "histogram2dcontour": [
           {
            "colorbar": {
             "outlinewidth": 0,
             "ticks": ""
            },
            "colorscale": [
             [
              0,
              "#0d0887"
             ],
             [
              0.1111111111111111,
              "#46039f"
             ],
             [
              0.2222222222222222,
              "#7201a8"
             ],
             [
              0.3333333333333333,
              "#9c179e"
             ],
             [
              0.4444444444444444,
              "#bd3786"
             ],
             [
              0.5555555555555556,
              "#d8576b"
             ],
             [
              0.6666666666666666,
              "#ed7953"
             ],
             [
              0.7777777777777778,
              "#fb9f3a"
             ],
             [
              0.8888888888888888,
              "#fdca26"
             ],
             [
              1,
              "#f0f921"
             ]
            ],
            "type": "histogram2dcontour"
           }
          ],
          "mesh3d": [
           {
            "colorbar": {
             "outlinewidth": 0,
             "ticks": ""
            },
            "type": "mesh3d"
           }
          ],
          "parcoords": [
           {
            "line": {
             "colorbar": {
              "outlinewidth": 0,
              "ticks": ""
             }
            },
            "type": "parcoords"
           }
          ],
          "pie": [
           {
            "automargin": true,
            "type": "pie"
           }
          ],
          "scatter": [
           {
            "fillpattern": {
             "fillmode": "overlay",
             "size": 10,
             "solidity": 0.2
            },
            "type": "scatter"
           }
          ],
          "scatter3d": [
           {
            "line": {
             "colorbar": {
              "outlinewidth": 0,
              "ticks": ""
             }
            },
            "marker": {
             "colorbar": {
              "outlinewidth": 0,
              "ticks": ""
             }
            },
            "type": "scatter3d"
           }
          ],
          "scattercarpet": [
           {
            "marker": {
             "colorbar": {
              "outlinewidth": 0,
              "ticks": ""
             }
            },
            "type": "scattercarpet"
           }
          ],
          "scattergeo": [
           {
            "marker": {
             "colorbar": {
              "outlinewidth": 0,
              "ticks": ""
             }
            },
            "type": "scattergeo"
           }
          ],
          "scattergl": [
           {
            "marker": {
             "colorbar": {
              "outlinewidth": 0,
              "ticks": ""
             }
            },
            "type": "scattergl"
           }
          ],
          "scattermapbox": [
           {
            "marker": {
             "colorbar": {
              "outlinewidth": 0,
              "ticks": ""
             }
            },
            "type": "scattermapbox"
           }
          ],
          "scatterpolar": [
           {
            "marker": {
             "colorbar": {
              "outlinewidth": 0,
              "ticks": ""
             }
            },
            "type": "scatterpolar"
           }
          ],
          "scatterpolargl": [
           {
            "marker": {
             "colorbar": {
              "outlinewidth": 0,
              "ticks": ""
             }
            },
            "type": "scatterpolargl"
           }
          ],
          "scatterternary": [
           {
            "marker": {
             "colorbar": {
              "outlinewidth": 0,
              "ticks": ""
             }
            },
            "type": "scatterternary"
           }
          ],
          "surface": [
           {
            "colorbar": {
             "outlinewidth": 0,
             "ticks": ""
            },
            "colorscale": [
             [
              0,
              "#0d0887"
             ],
             [
              0.1111111111111111,
              "#46039f"
             ],
             [
              0.2222222222222222,
              "#7201a8"
             ],
             [
              0.3333333333333333,
              "#9c179e"
             ],
             [
              0.4444444444444444,
              "#bd3786"
             ],
             [
              0.5555555555555556,
              "#d8576b"
             ],
             [
              0.6666666666666666,
              "#ed7953"
             ],
             [
              0.7777777777777778,
              "#fb9f3a"
             ],
             [
              0.8888888888888888,
              "#fdca26"
             ],
             [
              1,
              "#f0f921"
             ]
            ],
            "type": "surface"
           }
          ],
          "table": [
           {
            "cells": {
             "fill": {
              "color": "#EBF0F8"
             },
             "line": {
              "color": "white"
             }
            },
            "header": {
             "fill": {
              "color": "#C8D4E3"
             },
             "line": {
              "color": "white"
             }
            },
            "type": "table"
           }
          ]
         },
         "layout": {
          "annotationdefaults": {
           "arrowcolor": "#2a3f5f",
           "arrowhead": 0,
           "arrowwidth": 1
          },
          "autotypenumbers": "strict",
          "coloraxis": {
           "colorbar": {
            "outlinewidth": 0,
            "ticks": ""
           }
          },
          "colorscale": {
           "diverging": [
            [
             0,
             "#8e0152"
            ],
            [
             0.1,
             "#c51b7d"
            ],
            [
             0.2,
             "#de77ae"
            ],
            [
             0.3,
             "#f1b6da"
            ],
            [
             0.4,
             "#fde0ef"
            ],
            [
             0.5,
             "#f7f7f7"
            ],
            [
             0.6,
             "#e6f5d0"
            ],
            [
             0.7,
             "#b8e186"
            ],
            [
             0.8,
             "#7fbc41"
            ],
            [
             0.9,
             "#4d9221"
            ],
            [
             1,
             "#276419"
            ]
           ],
           "sequential": [
            [
             0,
             "#0d0887"
            ],
            [
             0.1111111111111111,
             "#46039f"
            ],
            [
             0.2222222222222222,
             "#7201a8"
            ],
            [
             0.3333333333333333,
             "#9c179e"
            ],
            [
             0.4444444444444444,
             "#bd3786"
            ],
            [
             0.5555555555555556,
             "#d8576b"
            ],
            [
             0.6666666666666666,
             "#ed7953"
            ],
            [
             0.7777777777777778,
             "#fb9f3a"
            ],
            [
             0.8888888888888888,
             "#fdca26"
            ],
            [
             1,
             "#f0f921"
            ]
           ],
           "sequentialminus": [
            [
             0,
             "#0d0887"
            ],
            [
             0.1111111111111111,
             "#46039f"
            ],
            [
             0.2222222222222222,
             "#7201a8"
            ],
            [
             0.3333333333333333,
             "#9c179e"
            ],
            [
             0.4444444444444444,
             "#bd3786"
            ],
            [
             0.5555555555555556,
             "#d8576b"
            ],
            [
             0.6666666666666666,
             "#ed7953"
            ],
            [
             0.7777777777777778,
             "#fb9f3a"
            ],
            [
             0.8888888888888888,
             "#fdca26"
            ],
            [
             1,
             "#f0f921"
            ]
           ]
          },
          "colorway": [
           "#636efa",
           "#EF553B",
           "#00cc96",
           "#ab63fa",
           "#FFA15A",
           "#19d3f3",
           "#FF6692",
           "#B6E880",
           "#FF97FF",
           "#FECB52"
          ],
          "font": {
           "color": "#2a3f5f"
          },
          "geo": {
           "bgcolor": "white",
           "lakecolor": "white",
           "landcolor": "#E5ECF6",
           "showlakes": true,
           "showland": true,
           "subunitcolor": "white"
          },
          "hoverlabel": {
           "align": "left"
          },
          "hovermode": "closest",
          "mapbox": {
           "style": "light"
          },
          "paper_bgcolor": "white",
          "plot_bgcolor": "#E5ECF6",
          "polar": {
           "angularaxis": {
            "gridcolor": "white",
            "linecolor": "white",
            "ticks": ""
           },
           "bgcolor": "#E5ECF6",
           "radialaxis": {
            "gridcolor": "white",
            "linecolor": "white",
            "ticks": ""
           }
          },
          "scene": {
           "xaxis": {
            "backgroundcolor": "#E5ECF6",
            "gridcolor": "white",
            "gridwidth": 2,
            "linecolor": "white",
            "showbackground": true,
            "ticks": "",
            "zerolinecolor": "white"
           },
           "yaxis": {
            "backgroundcolor": "#E5ECF6",
            "gridcolor": "white",
            "gridwidth": 2,
            "linecolor": "white",
            "showbackground": true,
            "ticks": "",
            "zerolinecolor": "white"
           },
           "zaxis": {
            "backgroundcolor": "#E5ECF6",
            "gridcolor": "white",
            "gridwidth": 2,
            "linecolor": "white",
            "showbackground": true,
            "ticks": "",
            "zerolinecolor": "white"
           }
          },
          "shapedefaults": {
           "line": {
            "color": "#2a3f5f"
           }
          },
          "ternary": {
           "aaxis": {
            "gridcolor": "white",
            "linecolor": "white",
            "ticks": ""
           },
           "baxis": {
            "gridcolor": "white",
            "linecolor": "white",
            "ticks": ""
           },
           "bgcolor": "#E5ECF6",
           "caxis": {
            "gridcolor": "white",
            "linecolor": "white",
            "ticks": ""
           }
          },
          "title": {
           "x": 0.05
          },
          "xaxis": {
           "automargin": true,
           "gridcolor": "white",
           "linecolor": "white",
           "ticks": "",
           "title": {
            "standoff": 15
           },
           "zerolinecolor": "white",
           "zerolinewidth": 2
          },
          "yaxis": {
           "automargin": true,
           "gridcolor": "white",
           "linecolor": "white",
           "ticks": "",
           "title": {
            "standoff": 15
           },
           "zerolinecolor": "white",
           "zerolinewidth": 2
          }
         }
        },
        "xaxis": {
         "anchor": "y",
         "domain": [
          0,
          1
         ],
         "title": {
          "text": "index"
         }
        },
        "yaxis": {
         "anchor": "x",
         "domain": [
          0,
          1
         ],
         "title": {
          "text": "value"
         }
        }
       }
      }
     },
     "metadata": {},
     "output_type": "display_data"
    }
   ],
   "source": [
    "resumen_thresholds = pd.concat([metodos_metricas.T.add_suffix('_general'),metodos_NvS_metricas.T.add_suffix('_NvS'),\n",
    "            metodos_PvP_metricas.T.add_suffix('_PvP'),metodos_SH_metricas.T.add_suffix('_SH')],axis=1).T\n",
    "\n",
    "px.line(resumen_thresholds.T)"
   ]
  },
  {
   "cell_type": "code",
   "execution_count": 51,
   "metadata": {},
   "outputs": [
    {
     "data": {
      "application/vnd.plotly.v1+json": {
       "config": {
        "plotlyServerURL": "https://plot.ly"
       },
       "data": [
        {
         "hovertemplate": "variable=HBOS_general<br>index=%{x}<br>value=%{y}<extra></extra>",
         "legendgroup": "HBOS_general",
         "line": {
          "color": "#636efa",
          "dash": "solid"
         },
         "marker": {
          "symbol": "circle"
         },
         "mode": "lines",
         "name": "HBOS_general",
         "orientation": "v",
         "showlegend": true,
         "type": "scatter",
         "x": [
          "Anomalia",
          "Negro",
          "Congelado",
          "Hum"
         ],
         "xaxis": "x",
         "y": [
          0.3204225352112676,
          0.2722411278561011,
          0.25917252146760345,
          0.8909090909090909
         ],
         "yaxis": "y"
        },
        {
         "hovertemplate": "variable=IForest_general<br>index=%{x}<br>value=%{y}<extra></extra>",
         "legendgroup": "IForest_general",
         "line": {
          "color": "#EF553B",
          "dash": "solid"
         },
         "marker": {
          "symbol": "circle"
         },
         "mode": "lines",
         "name": "IForest_general",
         "orientation": "v",
         "showlegend": true,
         "type": "scatter",
         "x": [
          "Anomalia",
          "Negro",
          "Congelado",
          "Hum"
         ],
         "xaxis": "x",
         "y": [
          0.5176056338028169,
          0.5085075352455032,
          0.48633879781420764,
          0.8072727272727273
         ],
         "yaxis": "y"
        },
        {
         "hovertemplate": "variable=KNN_general<br>index=%{x}<br>value=%{y}<extra></extra>",
         "legendgroup": "KNN_general",
         "line": {
          "color": "#00cc96",
          "dash": "solid"
         },
         "marker": {
          "symbol": "circle"
         },
         "mode": "lines",
         "name": "KNN_general",
         "orientation": "v",
         "showlegend": true,
         "type": "scatter",
         "x": [
          "Anomalia",
          "Negro",
          "Congelado",
          "Hum"
         ],
         "xaxis": "x",
         "y": [
          0.18732394366197183,
          0.12202236266407389,
          0.16276346604215455,
          0.4072727272727273
         ],
         "yaxis": "y"
        },
        {
         "hovertemplate": "variable=LODA_general<br>index=%{x}<br>value=%{y}<extra></extra>",
         "legendgroup": "LODA_general",
         "line": {
          "color": "#ab63fa",
          "dash": "solid"
         },
         "marker": {
          "symbol": "circle"
         },
         "mode": "lines",
         "name": "LODA_general",
         "orientation": "v",
         "showlegend": true,
         "type": "scatter",
         "x": [
          "Anomalia",
          "Negro",
          "Congelado",
          "Hum"
         ],
         "xaxis": "x",
         "y": [
          0.2595070422535211,
          0.18765192027224112,
          0.1885245901639344,
          0.9127272727272727
         ],
         "yaxis": "y"
        },
        {
         "hovertemplate": "variable=MAD_PyOD_general<br>index=%{x}<br>value=%{y}<extra></extra>",
         "legendgroup": "MAD_PyOD_general",
         "line": {
          "color": "#FFA15A",
          "dash": "solid"
         },
         "marker": {
          "symbol": "circle"
         },
         "mode": "lines",
         "name": "MAD_PyOD_general",
         "orientation": "v",
         "showlegend": true,
         "type": "scatter",
         "x": [
          "Anomalia",
          "Negro",
          "Congelado",
          "Hum"
         ],
         "xaxis": "x",
         "y": [
          0.9084507042253521,
          1,
          0.8985167837626854,
          1
         ],
         "yaxis": "y"
        },
        {
         "hovertemplate": "variable=MCD_general<br>index=%{x}<br>value=%{y}<extra></extra>",
         "legendgroup": "MCD_general",
         "line": {
          "color": "#19d3f3",
          "dash": "solid"
         },
         "marker": {
          "symbol": "circle"
         },
         "mode": "lines",
         "name": "MCD_general",
         "orientation": "v",
         "showlegend": true,
         "type": "scatter",
         "x": [
          "Anomalia",
          "Negro",
          "Congelado",
          "Hum"
         ],
         "xaxis": "x",
         "y": [
          0.19330985915492957,
          0.11132717549829849,
          0.16120218579234974,
          0.48363636363636364
         ],
         "yaxis": "y"
        },
        {
         "hovertemplate": "variable=IForestASD_general<br>index=%{x}<br>value=%{y}<extra></extra>",
         "legendgroup": "IForestASD_general",
         "line": {
          "color": "#FF6692",
          "dash": "solid"
         },
         "marker": {
          "symbol": "circle"
         },
         "mode": "lines",
         "name": "IForestASD_general",
         "orientation": "v",
         "showlegend": true,
         "type": "scatter",
         "x": [
          "Anomalia",
          "Negro",
          "Congelado",
          "Hum"
         ],
         "xaxis": "x",
         "y": [
          0.903169014084507,
          0.9445794846864366,
          0.8950039032006245,
          0.9818181818181818
         ],
         "yaxis": "y"
        },
        {
         "hovertemplate": "variable=MAD_PySAD_general<br>index=%{x}<br>value=%{y}<extra></extra>",
         "legendgroup": "MAD_PySAD_general",
         "line": {
          "color": "#B6E880",
          "dash": "solid"
         },
         "marker": {
          "symbol": "circle"
         },
         "mode": "lines",
         "name": "MAD_PySAD_general",
         "orientation": "v",
         "showlegend": true,
         "type": "scatter",
         "x": [
          "Anomalia",
          "Negro",
          "Congelado",
          "Hum"
         ],
         "xaxis": "x",
         "y": [
          0.9088028169014084,
          1,
          0.8989071038251366,
          1
         ],
         "yaxis": "y"
        },
        {
         "hovertemplate": "variable=SAD_general<br>index=%{x}<br>value=%{y}<extra></extra>",
         "legendgroup": "SAD_general",
         "line": {
          "color": "#FF97FF",
          "dash": "solid"
         },
         "marker": {
          "symbol": "circle"
         },
         "mode": "lines",
         "name": "SAD_general",
         "orientation": "v",
         "showlegend": true,
         "type": "scatter",
         "x": [
          "Anomalia",
          "Negro",
          "Congelado",
          "Hum"
         ],
         "xaxis": "x",
         "y": [
          0.9084507042253521,
          1,
          0.8985167837626854,
          1
         ],
         "yaxis": "y"
        },
        {
         "hovertemplate": "variable=xStream_general<br>index=%{x}<br>value=%{y}<extra></extra>",
         "legendgroup": "xStream_general",
         "line": {
          "color": "#FECB52",
          "dash": "solid"
         },
         "marker": {
          "symbol": "circle"
         },
         "mode": "lines",
         "name": "xStream_general",
         "orientation": "v",
         "showlegend": true,
         "type": "scatter",
         "x": [
          "Anomalia",
          "Negro",
          "Congelado",
          "Hum"
         ],
         "xaxis": "x",
         "y": [
          0.9204225352112676,
          0.9810403500243072,
          0.9227166276346604,
          0.8981818181818182
         ],
         "yaxis": "y"
        },
        {
         "hovertemplate": "variable=HTM_general<br>index=%{x}<br>value=%{y}<extra></extra>",
         "legendgroup": "HTM_general",
         "line": {
          "color": "#636efa",
          "dash": "solid"
         },
         "marker": {
          "symbol": "circle"
         },
         "mode": "lines",
         "name": "HTM_general",
         "orientation": "v",
         "showlegend": true,
         "type": "scatter",
         "x": [
          "Anomalia",
          "Negro",
          "Congelado",
          "Hum"
         ],
         "xaxis": "x",
         "y": [
          0.0009198981035946788,
          0,
          0.0007891414141414141,
          0.002081887578070784
         ],
         "yaxis": "y"
        },
        {
         "hovertemplate": "variable=IForest_NvS<br>index=%{x}<br>value=%{y}<extra></extra>",
         "legendgroup": "IForest_NvS",
         "line": {
          "color": "#EF553B",
          "dash": "solid"
         },
         "marker": {
          "symbol": "circle"
         },
         "mode": "lines",
         "name": "IForest_NvS",
         "orientation": "v",
         "showlegend": true,
         "type": "scatter",
         "x": [
          "Anomalia",
          "Negro",
          "Congelado",
          "Hum"
         ],
         "xaxis": "x",
         "y": [
          0.8264084507042253,
          1,
          0.9024199843871975,
          0.11636363636363636
         ],
         "yaxis": "y"
        },
        {
         "hovertemplate": "variable=MAD_NvS<br>index=%{x}<br>value=%{y}<extra></extra>",
         "legendgroup": "MAD_NvS",
         "line": {
          "color": "#00cc96",
          "dash": "solid"
         },
         "marker": {
          "symbol": "circle"
         },
         "mode": "lines",
         "name": "MAD_NvS",
         "orientation": "v",
         "showlegend": true,
         "type": "scatter",
         "x": [
          "Anomalia",
          "Negro",
          "Congelado",
          "Hum"
         ],
         "xaxis": "x",
         "y": [
          0.8232394366197183,
          0.9995138551288284,
          0.9016393442622951,
          0.09090909090909091
         ],
         "yaxis": "y"
        },
        {
         "hovertemplate": "variable=MAD_PyOD_PvP<br>index=%{x}<br>value=%{y}<extra></extra>",
         "legendgroup": "MAD_PyOD_PvP",
         "line": {
          "color": "#ab63fa",
          "dash": "solid"
         },
         "marker": {
          "symbol": "circle"
         },
         "mode": "lines",
         "name": "MAD_PyOD_PvP",
         "orientation": "v",
         "showlegend": true,
         "type": "scatter",
         "x": [
          "Anomalia",
          "Negro",
          "Congelado",
          "Hum"
         ],
         "xaxis": "x",
         "y": [
          0.8566901408450704,
          1,
          0.9016393442622951,
          0.43636363636363634
         ],
         "yaxis": "y"
        },
        {
         "hovertemplate": "variable=MAD_PySAD_PvP<br>index=%{x}<br>value=%{y}<extra></extra>",
         "legendgroup": "MAD_PySAD_PvP",
         "line": {
          "color": "#FFA15A",
          "dash": "solid"
         },
         "marker": {
          "symbol": "circle"
         },
         "mode": "lines",
         "name": "MAD_PySAD_PvP",
         "orientation": "v",
         "showlegend": true,
         "type": "scatter",
         "x": [
          "Anomalia",
          "Negro",
          "Congelado",
          "Hum"
         ],
         "xaxis": "x",
         "y": [
          0.8538732394366197,
          1,
          0.9008587041373927,
          0.41454545454545455
         ],
         "yaxis": "y"
        },
        {
         "hovertemplate": "variable=SAD_PvP<br>index=%{x}<br>value=%{y}<extra></extra>",
         "legendgroup": "SAD_PvP",
         "line": {
          "color": "#19d3f3",
          "dash": "solid"
         },
         "marker": {
          "symbol": "circle"
         },
         "mode": "lines",
         "name": "SAD_PvP",
         "orientation": "v",
         "showlegend": true,
         "type": "scatter",
         "x": [
          "Anomalia",
          "Negro",
          "Congelado",
          "Hum"
         ],
         "xaxis": "x",
         "y": [
          0.8517605633802817,
          1,
          0.9000780640124902,
          0.4
         ],
         "yaxis": "y"
        },
        {
         "hovertemplate": "variable=HTM_PvP<br>index=%{x}<br>value=%{y}<extra></extra>",
         "legendgroup": "HTM_PvP",
         "line": {
          "color": "#FF6692",
          "dash": "solid"
         },
         "marker": {
          "symbol": "circle"
         },
         "mode": "lines",
         "name": "HTM_PvP",
         "orientation": "v",
         "showlegend": true,
         "type": "scatter",
         "x": [
          "Anomalia",
          "Negro",
          "Congelado",
          "Hum"
         ],
         "xaxis": "x",
         "y": [
          0.01365694876875177,
          0,
          0.013573232323232324,
          0.01457321304649549
         ],
         "yaxis": "y"
        },
        {
         "hovertemplate": "variable=HBOS_SH<br>index=%{x}<br>value=%{y}<extra></extra>",
         "legendgroup": "HBOS_SH",
         "line": {
          "color": "#B6E880",
          "dash": "solid"
         },
         "marker": {
          "symbol": "circle"
         },
         "mode": "lines",
         "name": "HBOS_SH",
         "orientation": "v",
         "showlegend": true,
         "type": "scatter",
         "x": [
          "Anomalia",
          "Negro",
          "Congelado",
          "Hum"
         ],
         "xaxis": "x",
         "y": [
          0.8616197183098592,
          1,
          0.9008587041373927,
          0.49454545454545457
         ],
         "yaxis": "y"
        },
        {
         "hovertemplate": "variable=IForest_SH<br>index=%{x}<br>value=%{y}<extra></extra>",
         "legendgroup": "IForest_SH",
         "line": {
          "color": "#FF97FF",
          "dash": "solid"
         },
         "marker": {
          "symbol": "circle"
         },
         "mode": "lines",
         "name": "IForest_SH",
         "orientation": "v",
         "showlegend": true,
         "type": "scatter",
         "x": [
          "Anomalia",
          "Negro",
          "Congelado",
          "Hum"
         ],
         "xaxis": "x",
         "y": [
          0.8584507042253521,
          1,
          0.9000780640124902,
          0.4690909090909091
         ],
         "yaxis": "y"
        },
        {
         "hovertemplate": "variable=KNN_SH<br>index=%{x}<br>value=%{y}<extra></extra>",
         "legendgroup": "KNN_SH",
         "line": {
          "color": "#FECB52",
          "dash": "solid"
         },
         "marker": {
          "symbol": "circle"
         },
         "mode": "lines",
         "name": "KNN_SH",
         "orientation": "v",
         "showlegend": true,
         "type": "scatter",
         "x": [
          "Anomalia",
          "Negro",
          "Congelado",
          "Hum"
         ],
         "xaxis": "x",
         "y": [
          0.2834507042253521,
          0.25862907146329606,
          0.26697892271662765,
          0.4290909090909091
         ],
         "yaxis": "y"
        }
       ],
       "layout": {
        "legend": {
         "title": {
          "text": "variable"
         },
         "tracegroupgap": 0
        },
        "margin": {
         "t": 60
        },
        "template": {
         "data": {
          "bar": [
           {
            "error_x": {
             "color": "#2a3f5f"
            },
            "error_y": {
             "color": "#2a3f5f"
            },
            "marker": {
             "line": {
              "color": "#E5ECF6",
              "width": 0.5
             },
             "pattern": {
              "fillmode": "overlay",
              "size": 10,
              "solidity": 0.2
             }
            },
            "type": "bar"
           }
          ],
          "barpolar": [
           {
            "marker": {
             "line": {
              "color": "#E5ECF6",
              "width": 0.5
             },
             "pattern": {
              "fillmode": "overlay",
              "size": 10,
              "solidity": 0.2
             }
            },
            "type": "barpolar"
           }
          ],
          "carpet": [
           {
            "aaxis": {
             "endlinecolor": "#2a3f5f",
             "gridcolor": "white",
             "linecolor": "white",
             "minorgridcolor": "white",
             "startlinecolor": "#2a3f5f"
            },
            "baxis": {
             "endlinecolor": "#2a3f5f",
             "gridcolor": "white",
             "linecolor": "white",
             "minorgridcolor": "white",
             "startlinecolor": "#2a3f5f"
            },
            "type": "carpet"
           }
          ],
          "choropleth": [
           {
            "colorbar": {
             "outlinewidth": 0,
             "ticks": ""
            },
            "type": "choropleth"
           }
          ],
          "contour": [
           {
            "colorbar": {
             "outlinewidth": 0,
             "ticks": ""
            },
            "colorscale": [
             [
              0,
              "#0d0887"
             ],
             [
              0.1111111111111111,
              "#46039f"
             ],
             [
              0.2222222222222222,
              "#7201a8"
             ],
             [
              0.3333333333333333,
              "#9c179e"
             ],
             [
              0.4444444444444444,
              "#bd3786"
             ],
             [
              0.5555555555555556,
              "#d8576b"
             ],
             [
              0.6666666666666666,
              "#ed7953"
             ],
             [
              0.7777777777777778,
              "#fb9f3a"
             ],
             [
              0.8888888888888888,
              "#fdca26"
             ],
             [
              1,
              "#f0f921"
             ]
            ],
            "type": "contour"
           }
          ],
          "contourcarpet": [
           {
            "colorbar": {
             "outlinewidth": 0,
             "ticks": ""
            },
            "type": "contourcarpet"
           }
          ],
          "heatmap": [
           {
            "colorbar": {
             "outlinewidth": 0,
             "ticks": ""
            },
            "colorscale": [
             [
              0,
              "#0d0887"
             ],
             [
              0.1111111111111111,
              "#46039f"
             ],
             [
              0.2222222222222222,
              "#7201a8"
             ],
             [
              0.3333333333333333,
              "#9c179e"
             ],
             [
              0.4444444444444444,
              "#bd3786"
             ],
             [
              0.5555555555555556,
              "#d8576b"
             ],
             [
              0.6666666666666666,
              "#ed7953"
             ],
             [
              0.7777777777777778,
              "#fb9f3a"
             ],
             [
              0.8888888888888888,
              "#fdca26"
             ],
             [
              1,
              "#f0f921"
             ]
            ],
            "type": "heatmap"
           }
          ],
          "heatmapgl": [
           {
            "colorbar": {
             "outlinewidth": 0,
             "ticks": ""
            },
            "colorscale": [
             [
              0,
              "#0d0887"
             ],
             [
              0.1111111111111111,
              "#46039f"
             ],
             [
              0.2222222222222222,
              "#7201a8"
             ],
             [
              0.3333333333333333,
              "#9c179e"
             ],
             [
              0.4444444444444444,
              "#bd3786"
             ],
             [
              0.5555555555555556,
              "#d8576b"
             ],
             [
              0.6666666666666666,
              "#ed7953"
             ],
             [
              0.7777777777777778,
              "#fb9f3a"
             ],
             [
              0.8888888888888888,
              "#fdca26"
             ],
             [
              1,
              "#f0f921"
             ]
            ],
            "type": "heatmapgl"
           }
          ],
          "histogram": [
           {
            "marker": {
             "pattern": {
              "fillmode": "overlay",
              "size": 10,
              "solidity": 0.2
             }
            },
            "type": "histogram"
           }
          ],
          "histogram2d": [
           {
            "colorbar": {
             "outlinewidth": 0,
             "ticks": ""
            },
            "colorscale": [
             [
              0,
              "#0d0887"
             ],
             [
              0.1111111111111111,
              "#46039f"
             ],
             [
              0.2222222222222222,
              "#7201a8"
             ],
             [
              0.3333333333333333,
              "#9c179e"
             ],
             [
              0.4444444444444444,
              "#bd3786"
             ],
             [
              0.5555555555555556,
              "#d8576b"
             ],
             [
              0.6666666666666666,
              "#ed7953"
             ],
             [
              0.7777777777777778,
              "#fb9f3a"
             ],
             [
              0.8888888888888888,
              "#fdca26"
             ],
             [
              1,
              "#f0f921"
             ]
            ],
            "type": "histogram2d"
           }
          ],
          "histogram2dcontour": [
           {
            "colorbar": {
             "outlinewidth": 0,
             "ticks": ""
            },
            "colorscale": [
             [
              0,
              "#0d0887"
             ],
             [
              0.1111111111111111,
              "#46039f"
             ],
             [
              0.2222222222222222,
              "#7201a8"
             ],
             [
              0.3333333333333333,
              "#9c179e"
             ],
             [
              0.4444444444444444,
              "#bd3786"
             ],
             [
              0.5555555555555556,
              "#d8576b"
             ],
             [
              0.6666666666666666,
              "#ed7953"
             ],
             [
              0.7777777777777778,
              "#fb9f3a"
             ],
             [
              0.8888888888888888,
              "#fdca26"
             ],
             [
              1,
              "#f0f921"
             ]
            ],
            "type": "histogram2dcontour"
           }
          ],
          "mesh3d": [
           {
            "colorbar": {
             "outlinewidth": 0,
             "ticks": ""
            },
            "type": "mesh3d"
           }
          ],
          "parcoords": [
           {
            "line": {
             "colorbar": {
              "outlinewidth": 0,
              "ticks": ""
             }
            },
            "type": "parcoords"
           }
          ],
          "pie": [
           {
            "automargin": true,
            "type": "pie"
           }
          ],
          "scatter": [
           {
            "fillpattern": {
             "fillmode": "overlay",
             "size": 10,
             "solidity": 0.2
            },
            "type": "scatter"
           }
          ],
          "scatter3d": [
           {
            "line": {
             "colorbar": {
              "outlinewidth": 0,
              "ticks": ""
             }
            },
            "marker": {
             "colorbar": {
              "outlinewidth": 0,
              "ticks": ""
             }
            },
            "type": "scatter3d"
           }
          ],
          "scattercarpet": [
           {
            "marker": {
             "colorbar": {
              "outlinewidth": 0,
              "ticks": ""
             }
            },
            "type": "scattercarpet"
           }
          ],
          "scattergeo": [
           {
            "marker": {
             "colorbar": {
              "outlinewidth": 0,
              "ticks": ""
             }
            },
            "type": "scattergeo"
           }
          ],
          "scattergl": [
           {
            "marker": {
             "colorbar": {
              "outlinewidth": 0,
              "ticks": ""
             }
            },
            "type": "scattergl"
           }
          ],
          "scattermapbox": [
           {
            "marker": {
             "colorbar": {
              "outlinewidth": 0,
              "ticks": ""
             }
            },
            "type": "scattermapbox"
           }
          ],
          "scatterpolar": [
           {
            "marker": {
             "colorbar": {
              "outlinewidth": 0,
              "ticks": ""
             }
            },
            "type": "scatterpolar"
           }
          ],
          "scatterpolargl": [
           {
            "marker": {
             "colorbar": {
              "outlinewidth": 0,
              "ticks": ""
             }
            },
            "type": "scatterpolargl"
           }
          ],
          "scatterternary": [
           {
            "marker": {
             "colorbar": {
              "outlinewidth": 0,
              "ticks": ""
             }
            },
            "type": "scatterternary"
           }
          ],
          "surface": [
           {
            "colorbar": {
             "outlinewidth": 0,
             "ticks": ""
            },
            "colorscale": [
             [
              0,
              "#0d0887"
             ],
             [
              0.1111111111111111,
              "#46039f"
             ],
             [
              0.2222222222222222,
              "#7201a8"
             ],
             [
              0.3333333333333333,
              "#9c179e"
             ],
             [
              0.4444444444444444,
              "#bd3786"
             ],
             [
              0.5555555555555556,
              "#d8576b"
             ],
             [
              0.6666666666666666,
              "#ed7953"
             ],
             [
              0.7777777777777778,
              "#fb9f3a"
             ],
             [
              0.8888888888888888,
              "#fdca26"
             ],
             [
              1,
              "#f0f921"
             ]
            ],
            "type": "surface"
           }
          ],
          "table": [
           {
            "cells": {
             "fill": {
              "color": "#EBF0F8"
             },
             "line": {
              "color": "white"
             }
            },
            "header": {
             "fill": {
              "color": "#C8D4E3"
             },
             "line": {
              "color": "white"
             }
            },
            "type": "table"
           }
          ]
         },
         "layout": {
          "annotationdefaults": {
           "arrowcolor": "#2a3f5f",
           "arrowhead": 0,
           "arrowwidth": 1
          },
          "autotypenumbers": "strict",
          "coloraxis": {
           "colorbar": {
            "outlinewidth": 0,
            "ticks": ""
           }
          },
          "colorscale": {
           "diverging": [
            [
             0,
             "#8e0152"
            ],
            [
             0.1,
             "#c51b7d"
            ],
            [
             0.2,
             "#de77ae"
            ],
            [
             0.3,
             "#f1b6da"
            ],
            [
             0.4,
             "#fde0ef"
            ],
            [
             0.5,
             "#f7f7f7"
            ],
            [
             0.6,
             "#e6f5d0"
            ],
            [
             0.7,
             "#b8e186"
            ],
            [
             0.8,
             "#7fbc41"
            ],
            [
             0.9,
             "#4d9221"
            ],
            [
             1,
             "#276419"
            ]
           ],
           "sequential": [
            [
             0,
             "#0d0887"
            ],
            [
             0.1111111111111111,
             "#46039f"
            ],
            [
             0.2222222222222222,
             "#7201a8"
            ],
            [
             0.3333333333333333,
             "#9c179e"
            ],
            [
             0.4444444444444444,
             "#bd3786"
            ],
            [
             0.5555555555555556,
             "#d8576b"
            ],
            [
             0.6666666666666666,
             "#ed7953"
            ],
            [
             0.7777777777777778,
             "#fb9f3a"
            ],
            [
             0.8888888888888888,
             "#fdca26"
            ],
            [
             1,
             "#f0f921"
            ]
           ],
           "sequentialminus": [
            [
             0,
             "#0d0887"
            ],
            [
             0.1111111111111111,
             "#46039f"
            ],
            [
             0.2222222222222222,
             "#7201a8"
            ],
            [
             0.3333333333333333,
             "#9c179e"
            ],
            [
             0.4444444444444444,
             "#bd3786"
            ],
            [
             0.5555555555555556,
             "#d8576b"
            ],
            [
             0.6666666666666666,
             "#ed7953"
            ],
            [
             0.7777777777777778,
             "#fb9f3a"
            ],
            [
             0.8888888888888888,
             "#fdca26"
            ],
            [
             1,
             "#f0f921"
            ]
           ]
          },
          "colorway": [
           "#636efa",
           "#EF553B",
           "#00cc96",
           "#ab63fa",
           "#FFA15A",
           "#19d3f3",
           "#FF6692",
           "#B6E880",
           "#FF97FF",
           "#FECB52"
          ],
          "font": {
           "color": "#2a3f5f"
          },
          "geo": {
           "bgcolor": "white",
           "lakecolor": "white",
           "landcolor": "#E5ECF6",
           "showlakes": true,
           "showland": true,
           "subunitcolor": "white"
          },
          "hoverlabel": {
           "align": "left"
          },
          "hovermode": "closest",
          "mapbox": {
           "style": "light"
          },
          "paper_bgcolor": "white",
          "plot_bgcolor": "#E5ECF6",
          "polar": {
           "angularaxis": {
            "gridcolor": "white",
            "linecolor": "white",
            "ticks": ""
           },
           "bgcolor": "#E5ECF6",
           "radialaxis": {
            "gridcolor": "white",
            "linecolor": "white",
            "ticks": ""
           }
          },
          "scene": {
           "xaxis": {
            "backgroundcolor": "#E5ECF6",
            "gridcolor": "white",
            "gridwidth": 2,
            "linecolor": "white",
            "showbackground": true,
            "ticks": "",
            "zerolinecolor": "white"
           },
           "yaxis": {
            "backgroundcolor": "#E5ECF6",
            "gridcolor": "white",
            "gridwidth": 2,
            "linecolor": "white",
            "showbackground": true,
            "ticks": "",
            "zerolinecolor": "white"
           },
           "zaxis": {
            "backgroundcolor": "#E5ECF6",
            "gridcolor": "white",
            "gridwidth": 2,
            "linecolor": "white",
            "showbackground": true,
            "ticks": "",
            "zerolinecolor": "white"
           }
          },
          "shapedefaults": {
           "line": {
            "color": "#2a3f5f"
           }
          },
          "ternary": {
           "aaxis": {
            "gridcolor": "white",
            "linecolor": "white",
            "ticks": ""
           },
           "baxis": {
            "gridcolor": "white",
            "linecolor": "white",
            "ticks": ""
           },
           "bgcolor": "#E5ECF6",
           "caxis": {
            "gridcolor": "white",
            "linecolor": "white",
            "ticks": ""
           }
          },
          "title": {
           "x": 0.05
          },
          "xaxis": {
           "automargin": true,
           "gridcolor": "white",
           "linecolor": "white",
           "ticks": "",
           "title": {
            "standoff": 15
           },
           "zerolinecolor": "white",
           "zerolinewidth": 2
          },
          "yaxis": {
           "automargin": true,
           "gridcolor": "white",
           "linecolor": "white",
           "ticks": "",
           "title": {
            "standoff": 15
           },
           "zerolinecolor": "white",
           "zerolinewidth": 2
          }
         }
        },
        "xaxis": {
         "anchor": "y",
         "domain": [
          0,
          1
         ],
         "title": {
          "text": "index"
         }
        },
        "yaxis": {
         "anchor": "x",
         "domain": [
          0,
          1
         ],
         "title": {
          "text": "value"
         }
        }
       }
      }
     },
     "metadata": {},
     "output_type": "display_data"
    }
   ],
   "source": [
    "resumen_thresholds_sensibilidades = pd.concat([metodos_sensibilidades.T.add_suffix('_general'),metodos_NvS_sensibilidades.T.add_suffix('_NvS'),\n",
    "            metodos_PvP_sensibilidades.T.add_suffix('_PvP'),metodos_SH_sensibilidades.T.add_suffix('_SH')],axis=1).T\n",
    "\n",
    "px.line(resumen_thresholds_sensibilidades.T)"
   ]
  },
  {
   "cell_type": "markdown",
   "metadata": {},
   "source": [
    "# Resumen Anomalía CurvaCola"
   ]
  },
  {
   "cell_type": "code",
   "execution_count": 52,
   "metadata": {},
   "outputs": [],
   "source": [
    "anomalias = ['CurvaCola']\n",
    "metricas = ['roc_auc','accuracy','precision','kappa','sensibilidad','especificidad']\n",
    "\n",
    "def calc_metricas(metodos,metodos_lista):\n",
    "    metodos_metricas = pd.DataFrame(index=metodos_lista,columns=metricas)\n",
    "    for metodo in metodos_lista:\n",
    "        metodos_metricas.loc[metodo,metricas[0]] = roc_auc_score(metodos['CurvaCola'], metodos[metodo])\n",
    "        metodos_metricas.loc[metodo,metricas[1]] = accuracy_score(metodos['CurvaCola'], metodos[metodo])\n",
    "        metodos_metricas.loc[metodo,metricas[2]] = precision_score(metodos['CurvaCola'], metodos[metodo])\n",
    "        metodos_metricas.loc[metodo,metricas[3]] = cohen_kappa_score(metodos['CurvaCola'], metodos[metodo])\n",
    "        metodos_metricas.loc[metodo,metricas[4]] = recall_score(metodos['CurvaCola'], metodos[metodo])\n",
    "        metodos_metricas.loc[metodo,metricas[5]] = recall_score(metodos['CurvaCola'], metodos[metodo], pos_label=0)\n",
    "    return metodos_metricas\n",
    "\n",
    "def calc_sensibilidad(metodos,metodos_lista,anomalias):\n",
    "    metodos_sensibilidades = pd.DataFrame(index=metodos_lista, columns=anomalias)\n",
    "    for metodo in metodos_lista:\n",
    "        for anomalia in anomalias:\n",
    "            metodos_sensibilidades.loc[metodo,anomalia] = recall_score(metodos[anomalia], metodos[metodo])\n",
    "    return metodos_sensibilidades"
   ]
  },
  {
   "cell_type": "markdown",
   "metadata": {},
   "source": [
    "## Métodos"
   ]
  },
  {
   "cell_type": "code",
   "execution_count": 53,
   "metadata": {},
   "outputs": [
    {
     "data": {
      "text/html": [
       "<div>\n",
       "<style scoped>\n",
       "    .dataframe tbody tr th:only-of-type {\n",
       "        vertical-align: middle;\n",
       "    }\n",
       "\n",
       "    .dataframe tbody tr th {\n",
       "        vertical-align: top;\n",
       "    }\n",
       "\n",
       "    .dataframe thead th {\n",
       "        text-align: right;\n",
       "    }\n",
       "</style>\n",
       "<table border=\"1\" class=\"dataframe\">\n",
       "  <thead>\n",
       "    <tr style=\"text-align: right;\">\n",
       "      <th></th>\n",
       "      <th>CurvaCola</th>\n",
       "      <th>HBOS</th>\n",
       "      <th>IForest</th>\n",
       "      <th>KNN</th>\n",
       "      <th>LODA</th>\n",
       "      <th>MAD_PyOD</th>\n",
       "      <th>MCD</th>\n",
       "      <th>IForestASD</th>\n",
       "      <th>MAD_PySAD</th>\n",
       "      <th>SAD</th>\n",
       "      <th>xStream</th>\n",
       "    </tr>\n",
       "    <tr>\n",
       "      <th>fecha</th>\n",
       "      <th></th>\n",
       "      <th></th>\n",
       "      <th></th>\n",
       "      <th></th>\n",
       "      <th></th>\n",
       "      <th></th>\n",
       "      <th></th>\n",
       "      <th></th>\n",
       "      <th></th>\n",
       "      <th></th>\n",
       "      <th></th>\n",
       "    </tr>\n",
       "  </thead>\n",
       "  <tbody>\n",
       "    <tr>\n",
       "      <th>2021-11-26 11:48:00</th>\n",
       "      <td>1</td>\n",
       "      <td>0</td>\n",
       "      <td>0</td>\n",
       "      <td>0</td>\n",
       "      <td>0</td>\n",
       "      <td>0</td>\n",
       "      <td>0</td>\n",
       "      <td>0</td>\n",
       "      <td>0</td>\n",
       "      <td>0</td>\n",
       "      <td>0</td>\n",
       "    </tr>\n",
       "    <tr>\n",
       "      <th>2021-06-06 19:17:00</th>\n",
       "      <td>0</td>\n",
       "      <td>0</td>\n",
       "      <td>0</td>\n",
       "      <td>0</td>\n",
       "      <td>0</td>\n",
       "      <td>1</td>\n",
       "      <td>0</td>\n",
       "      <td>0</td>\n",
       "      <td>1</td>\n",
       "      <td>1</td>\n",
       "      <td>0</td>\n",
       "    </tr>\n",
       "    <tr>\n",
       "      <th>2021-12-04 07:59:00</th>\n",
       "      <td>1</td>\n",
       "      <td>0</td>\n",
       "      <td>0</td>\n",
       "      <td>0</td>\n",
       "      <td>0</td>\n",
       "      <td>0</td>\n",
       "      <td>0</td>\n",
       "      <td>0</td>\n",
       "      <td>0</td>\n",
       "      <td>0</td>\n",
       "      <td>0</td>\n",
       "    </tr>\n",
       "    <tr>\n",
       "      <th>2021-11-06 17:55:00</th>\n",
       "      <td>1</td>\n",
       "      <td>0</td>\n",
       "      <td>0</td>\n",
       "      <td>0</td>\n",
       "      <td>0</td>\n",
       "      <td>0</td>\n",
       "      <td>0</td>\n",
       "      <td>0</td>\n",
       "      <td>0</td>\n",
       "      <td>0</td>\n",
       "      <td>0</td>\n",
       "    </tr>\n",
       "    <tr>\n",
       "      <th>2021-05-05 08:19:00</th>\n",
       "      <td>0</td>\n",
       "      <td>0</td>\n",
       "      <td>0</td>\n",
       "      <td>1</td>\n",
       "      <td>0</td>\n",
       "      <td>0</td>\n",
       "      <td>0</td>\n",
       "      <td>0</td>\n",
       "      <td>0</td>\n",
       "      <td>0</td>\n",
       "      <td>1</td>\n",
       "    </tr>\n",
       "  </tbody>\n",
       "</table>\n",
       "</div>"
      ],
      "text/plain": [
       "                     CurvaCola  HBOS  IForest  KNN  LODA  MAD_PyOD  MCD  \\\n",
       "fecha                                                                     \n",
       "2021-11-26 11:48:00          1     0        0    0     0         0    0   \n",
       "2021-06-06 19:17:00          0     0        0    0     0         1    0   \n",
       "2021-12-04 07:59:00          1     0        0    0     0         0    0   \n",
       "2021-11-06 17:55:00          1     0        0    0     0         0    0   \n",
       "2021-05-05 08:19:00          0     0        0    1     0         0    0   \n",
       "\n",
       "                     IForestASD  MAD_PySAD  SAD  xStream  \n",
       "fecha                                                     \n",
       "2021-11-26 11:48:00           0          0    0        0  \n",
       "2021-06-06 19:17:00           0          1    1        0  \n",
       "2021-12-04 07:59:00           0          0    0        0  \n",
       "2021-11-06 17:55:00           0          0    0        0  \n",
       "2021-05-05 08:19:00           0          0    0        1  "
      ]
     },
     "execution_count": 53,
     "metadata": {},
     "output_type": "execute_result"
    }
   ],
   "source": [
    "metodos = pd.read_csv('Metodos_TipoAnomalia/Metodos_CurvaCola/PyOD/Resultados/HBOS_completo.csv',index_col='fecha')\n",
    "metodos = metodos.drop('Y_pred', axis=1)\n",
    "\n",
    "metodos['HBOS'] = pd.read_csv('Metodos_TipoAnomalia/Metodos_CurvaCola/PyOD/Resultados/HBOS_completo.csv',usecols=['fecha','Y_pred'],index_col='fecha')\n",
    "metodos['IForest'] = pd.read_csv('Metodos_TipoAnomalia/Metodos_CurvaCola/PyOD/Resultados/IForest_completo.csv',usecols=['fecha','Y_pred'],index_col='fecha')\n",
    "metodos['KNN'] = pd.read_csv('Metodos_TipoAnomalia/Metodos_CurvaCola/PyOD/Resultados/KNN_completo.csv',usecols=['fecha','Y_pred'],index_col='fecha')\n",
    "metodos['LODA'] = pd.read_csv('Metodos_TipoAnomalia/Metodos_CurvaCola/PyOD/Resultados/LODA_completo.csv',usecols=['fecha','Y_pred'],index_col='fecha')\n",
    "metodos['MAD_PyOD'] = pd.read_csv('Metodos_TipoAnomalia/Metodos_CurvaCola/PyOD/Resultados/MAD_completo.csv',usecols=['fecha','Y_pred'],index_col='fecha')\n",
    "metodos['MCD'] = pd.read_csv('Metodos_TipoAnomalia/Metodos_CurvaCola/PyOD/Resultados/MCD_completo.csv',usecols=['fecha','Y_pred'],index_col='fecha')\n",
    "\n",
    "metodos['IForestASD'] = pd.read_csv('Metodos_TipoAnomalia/Metodos_CurvaCola/PySAD/Resultados/IForestASD_completo.csv',usecols=['fecha','Y_pred'],index_col='fecha')\n",
    "metodos['MAD_PySAD'] = pd.read_csv('Metodos_TipoAnomalia/Metodos_CurvaCola/PySAD/Resultados/MAD_completo.csv',usecols=['fecha','Y_pred'],index_col='fecha')\n",
    "metodos['SAD'] = pd.read_csv('Metodos_TipoAnomalia/Metodos_CurvaCola/PySAD/Resultados/SAD_completo.csv',usecols=['fecha','Y_pred'],index_col='fecha')\n",
    "metodos['xStream'] = pd.read_csv('Metodos_TipoAnomalia/Metodos_CurvaCola/PySAD/Resultados/xStream_completo.csv',usecols=['fecha','Y_pred'],index_col='fecha')\n",
    "\n",
    "metodos_htm = pd.read_csv('Metodos_TipoAnomalia/Metodos_CurvaCola/HTMs/HTM_Uni/HTM_completo.csv',index_col='fecha')\n",
    "metodos_htm['HTM'] = metodos_htm['Y_pred']\n",
    "metodos_htm = metodos_htm.drop('Y_pred',axis=1)\n",
    "\n",
    "metodos.head()"
   ]
  },
  {
   "cell_type": "markdown",
   "metadata": {},
   "source": []
  },
  {
   "cell_type": "markdown",
   "metadata": {},
   "source": [
    "### Métricas generales:"
   ]
  },
  {
   "cell_type": "code",
   "execution_count": 54,
   "metadata": {},
   "outputs": [
    {
     "data": {
      "text/html": [
       "<div>\n",
       "<style scoped>\n",
       "    .dataframe tbody tr th:only-of-type {\n",
       "        vertical-align: middle;\n",
       "    }\n",
       "\n",
       "    .dataframe tbody tr th {\n",
       "        vertical-align: top;\n",
       "    }\n",
       "\n",
       "    .dataframe thead th {\n",
       "        text-align: right;\n",
       "    }\n",
       "</style>\n",
       "<table border=\"1\" class=\"dataframe\">\n",
       "  <thead>\n",
       "    <tr style=\"text-align: right;\">\n",
       "      <th></th>\n",
       "      <th>roc_auc</th>\n",
       "      <th>accuracy</th>\n",
       "      <th>precision</th>\n",
       "      <th>kappa</th>\n",
       "      <th>sensibilidad</th>\n",
       "      <th>especificidad</th>\n",
       "    </tr>\n",
       "  </thead>\n",
       "  <tbody>\n",
       "    <tr>\n",
       "      <th>HBOS</th>\n",
       "      <td>0.50621</td>\n",
       "      <td>0.689658</td>\n",
       "      <td>0.291055</td>\n",
       "      <td>0.015438</td>\n",
       "      <td>0.111893</td>\n",
       "      <td>0.900527</td>\n",
       "    </tr>\n",
       "    <tr>\n",
       "      <th>IForest</th>\n",
       "      <td>0.5111</td>\n",
       "      <td>0.694128</td>\n",
       "      <td>0.310265</td>\n",
       "      <td>0.02765</td>\n",
       "      <td>0.117686</td>\n",
       "      <td>0.904515</td>\n",
       "    </tr>\n",
       "    <tr>\n",
       "      <th>KNN</th>\n",
       "      <td>0.50931</td>\n",
       "      <td>0.693893</td>\n",
       "      <td>0.304262</td>\n",
       "      <td>0.023277</td>\n",
       "      <td>0.112553</td>\n",
       "      <td>0.906067</td>\n",
       "    </tr>\n",
       "    <tr>\n",
       "      <th>LODA</th>\n",
       "      <td>0.507536</td>\n",
       "      <td>0.690952</td>\n",
       "      <td>0.296261</td>\n",
       "      <td>0.018748</td>\n",
       "      <td>0.113286</td>\n",
       "      <td>0.901785</td>\n",
       "    </tr>\n",
       "    <tr>\n",
       "      <th>MAD_PyOD</th>\n",
       "      <td>0.496859</td>\n",
       "      <td>0.724635</td>\n",
       "      <td>0.163636</td>\n",
       "      <td>-0.009019</td>\n",
       "      <td>0.007259</td>\n",
       "      <td>0.986459</td>\n",
       "    </tr>\n",
       "    <tr>\n",
       "      <th>MCD</th>\n",
       "      <td>0.516269</td>\n",
       "      <td>0.698461</td>\n",
       "      <td>0.330611</td>\n",
       "      <td>0.040561</td>\n",
       "      <td>0.124652</td>\n",
       "      <td>0.907887</td>\n",
       "    </tr>\n",
       "    <tr>\n",
       "      <th>IForestASD</th>\n",
       "      <td>0.511881</td>\n",
       "      <td>0.647309</td>\n",
       "      <td>0.290273</td>\n",
       "      <td>0.025716</td>\n",
       "      <td>0.22078</td>\n",
       "      <td>0.802981</td>\n",
       "    </tr>\n",
       "    <tr>\n",
       "      <th>MAD_PySAD</th>\n",
       "      <td>0.495933</td>\n",
       "      <td>0.720106</td>\n",
       "      <td>0.187867</td>\n",
       "      <td>-0.011516</td>\n",
       "      <td>0.014078</td>\n",
       "      <td>0.977788</td>\n",
       "    </tr>\n",
       "    <tr>\n",
       "      <th>SAD</th>\n",
       "      <td>0.495873</td>\n",
       "      <td>0.720086</td>\n",
       "      <td>0.186457</td>\n",
       "      <td>-0.011687</td>\n",
       "      <td>0.013932</td>\n",
       "      <td>0.977815</td>\n",
       "    </tr>\n",
       "    <tr>\n",
       "      <th>xStream</th>\n",
       "      <td>0.513001</td>\n",
       "      <td>0.63882</td>\n",
       "      <td>0.290175</td>\n",
       "      <td>0.027432</td>\n",
       "      <td>0.242558</td>\n",
       "      <td>0.783445</td>\n",
       "    </tr>\n",
       "    <tr>\n",
       "      <th>HTM</th>\n",
       "      <td>0.496617</td>\n",
       "      <td>0.729579</td>\n",
       "      <td>0.046753</td>\n",
       "      <td>-0.009841</td>\n",
       "      <td>0.001066</td>\n",
       "      <td>0.992169</td>\n",
       "    </tr>\n",
       "  </tbody>\n",
       "</table>\n",
       "</div>"
      ],
      "text/plain": [
       "             roc_auc  accuracy precision     kappa sensibilidad especificidad\n",
       "HBOS         0.50621  0.689658  0.291055  0.015438     0.111893      0.900527\n",
       "IForest       0.5111  0.694128  0.310265   0.02765     0.117686      0.904515\n",
       "KNN          0.50931  0.693893  0.304262  0.023277     0.112553      0.906067\n",
       "LODA        0.507536  0.690952  0.296261  0.018748     0.113286      0.901785\n",
       "MAD_PyOD    0.496859  0.724635  0.163636 -0.009019     0.007259      0.986459\n",
       "MCD         0.516269  0.698461  0.330611  0.040561     0.124652      0.907887\n",
       "IForestASD  0.511881  0.647309  0.290273  0.025716      0.22078      0.802981\n",
       "MAD_PySAD   0.495933  0.720106  0.187867 -0.011516     0.014078      0.977788\n",
       "SAD         0.495873  0.720086  0.186457 -0.011687     0.013932      0.977815\n",
       "xStream     0.513001   0.63882  0.290175  0.027432     0.242558      0.783445\n",
       "HTM         0.496617  0.729579  0.046753 -0.009841     0.001066      0.992169"
      ]
     },
     "execution_count": 54,
     "metadata": {},
     "output_type": "execute_result"
    }
   ],
   "source": [
    "metodos_lista = ['HBOS','IForest','KNN','LODA','MAD_PyOD','MCD', 'IForestASD', 'MAD_PySAD','SAD','xStream']\n",
    "metodos_metricas = calc_metricas(metodos,metodos_lista)\n",
    "metodos_metricas = pd.concat([metodos_metricas,calc_metricas(metodos_htm, ['HTM'])])\n",
    "metodos_metricas"
   ]
  },
  {
   "cell_type": "code",
   "execution_count": 55,
   "metadata": {},
   "outputs": [
    {
     "data": {
      "application/vnd.plotly.v1+json": {
       "config": {
        "plotlyServerURL": "https://plot.ly"
       },
       "data": [
        {
         "hovertemplate": "variable=HBOS<br>index=%{x}<br>value=%{y}<extra></extra>",
         "legendgroup": "HBOS",
         "line": {
          "color": "#636efa",
          "dash": "solid"
         },
         "marker": {
          "symbol": "circle"
         },
         "mode": "lines",
         "name": "HBOS",
         "orientation": "v",
         "showlegend": true,
         "type": "scatter",
         "x": [
          "roc_auc",
          "accuracy",
          "precision",
          "kappa",
          "sensibilidad",
          "especificidad"
         ],
         "xaxis": "x",
         "y": [
          0.5062102213125457,
          0.689657876678757,
          0.2910547396528705,
          0.01543771262972693,
          0.11189323947792931,
          0.900527203147162
         ],
         "yaxis": "y"
        },
        {
         "hovertemplate": "variable=IForest<br>index=%{x}<br>value=%{y}<extra></extra>",
         "legendgroup": "IForest",
         "line": {
          "color": "#EF553B",
          "dash": "solid"
         },
         "marker": {
          "symbol": "circle"
         },
         "mode": "lines",
         "name": "IForest",
         "orientation": "v",
         "showlegend": true,
         "type": "scatter",
         "x": [
          "roc_auc",
          "accuracy",
          "precision",
          "kappa",
          "sensibilidad",
          "especificidad"
         ],
         "xaxis": "x",
         "y": [
          0.5111002782109481,
          0.6941280266640525,
          0.3102648366518461,
          0.027649694645782152,
          0.11768587769467664,
          0.9045146787272192
         ],
         "yaxis": "y"
        },
        {
         "hovertemplate": "variable=KNN<br>index=%{x}<br>value=%{y}<extra></extra>",
         "legendgroup": "KNN",
         "line": {
          "color": "#00cc96",
          "dash": "solid"
         },
         "marker": {
          "symbol": "circle"
         },
         "mode": "lines",
         "name": "KNN",
         "orientation": "v",
         "showlegend": true,
         "type": "scatter",
         "x": [
          "roc_auc",
          "accuracy",
          "precision",
          "kappa",
          "sensibilidad",
          "especificidad"
         ],
         "xaxis": "x",
         "y": [
          0.5093100053584778,
          0.6938927556121949,
          0.30426164519326065,
          0.023276693069072873,
          0.11255316028743217,
          0.9060668504295234
         ],
         "yaxis": "y"
        },
        {
         "hovertemplate": "variable=LODA<br>index=%{x}<br>value=%{y}<extra></extra>",
         "legendgroup": "LODA",
         "line": {
          "color": "#ab63fa",
          "dash": "solid"
         },
         "marker": {
          "symbol": "circle"
         },
         "mode": "lines",
         "name": "LODA",
         "orientation": "v",
         "showlegend": true,
         "type": "scatter",
         "x": [
          "roc_auc",
          "accuracy",
          "precision",
          "kappa",
          "sensibilidad",
          "especificidad"
         ],
         "xaxis": "x",
         "y": [
          0.507535701544487,
          0.6909518674639741,
          0.2962607861936721,
          0.018747855205374364,
          0.11328640563132424,
          0.9017849974576498
         ],
         "yaxis": "y"
        },
        {
         "hovertemplate": "variable=MAD_PyOD<br>index=%{x}<br>value=%{y}<extra></extra>",
         "legendgroup": "MAD_PyOD",
         "line": {
          "color": "#FFA15A",
          "dash": "solid"
         },
         "marker": {
          "symbol": "circle"
         },
         "mode": "lines",
         "name": "MAD_PyOD",
         "orientation": "v",
         "showlegend": true,
         "type": "scatter",
         "x": [
          "roc_auc",
          "accuracy",
          "precision",
          "kappa",
          "sensibilidad",
          "especificidad"
         ],
         "xaxis": "x",
         "y": [
          0.4968588844404906,
          0.7246348397215959,
          0.16363636363636364,
          -0.009018775484586294,
          0.007259128904531456,
          0.9864586399764498
         ],
         "yaxis": "y"
        },
        {
         "hovertemplate": "variable=MCD<br>index=%{x}<br>value=%{y}<extra></extra>",
         "legendgroup": "MCD",
         "line": {
          "color": "#19d3f3",
          "dash": "solid"
         },
         "marker": {
          "symbol": "circle"
         },
         "mode": "lines",
         "name": "MCD",
         "orientation": "v",
         "showlegend": true,
         "type": "scatter",
         "x": [
          "roc_auc",
          "accuracy",
          "precision",
          "kappa",
          "sensibilidad",
          "especificidad"
         ],
         "xaxis": "x",
         "y": [
          0.5162691732021104,
          0.6984609352024311,
          0.3306106573317775,
          0.040561360145980996,
          0.12465170846165127,
          0.9078866379425696
         ],
         "yaxis": "y"
        },
        {
         "hovertemplate": "variable=IForestASD<br>index=%{x}<br>value=%{y}<extra></extra>",
         "legendgroup": "IForestASD",
         "line": {
          "color": "#FF6692",
          "dash": "solid"
         },
         "marker": {
          "symbol": "circle"
         },
         "mode": "lines",
         "name": "IForestASD",
         "orientation": "v",
         "showlegend": true,
         "type": "scatter",
         "x": [
          "roc_auc",
          "accuracy",
          "precision",
          "kappa",
          "sensibilidad",
          "especificidad"
         ],
         "xaxis": "x",
         "y": [
          0.511880706588784,
          0.647309087344378,
          0.29027282367685336,
          0.025716205359152755,
          0.22078017304590117,
          0.8029812401316669
         ],
         "yaxis": "y"
        },
        {
         "hovertemplate": "variable=MAD_PySAD<br>index=%{x}<br>value=%{y}<extra></extra>",
         "legendgroup": "MAD_PySAD",
         "line": {
          "color": "#B6E880",
          "dash": "solid"
         },
         "marker": {
          "symbol": "circle"
         },
         "mode": "lines",
         "name": "MAD_PySAD",
         "orientation": "v",
         "showlegend": true,
         "type": "scatter",
         "x": [
          "roc_auc",
          "accuracy",
          "precision",
          "kappa",
          "sensibilidad",
          "especificidad"
         ],
         "xaxis": "x",
         "y": [
          0.4959330991555667,
          0.720105871973336,
          0.18786692759295498,
          -0.011516383634895044,
          0.014078310602727673,
          0.9777878877084059
         ],
         "yaxis": "y"
        },
        {
         "hovertemplate": "variable=SAD<br>index=%{x}<br>value=%{y}<extra></extra>",
         "legendgroup": "SAD",
         "line": {
          "color": "#FF97FF",
          "dash": "solid"
         },
         "marker": {
          "symbol": "circle"
         },
         "mode": "lines",
         "name": "SAD",
         "orientation": "v",
         "showlegend": true,
         "type": "scatter",
         "x": [
          "roc_auc",
          "accuracy",
          "precision",
          "kappa",
          "sensibilidad",
          "especificidad"
         ],
         "xaxis": "x",
         "y": [
          0.4958731554117147,
          0.7200862660523478,
          0.18645731108930325,
          -0.01168728416615683,
          0.01393166153394926,
          0.97781464928948
         ],
         "yaxis": "y"
        },
        {
         "hovertemplate": "variable=xStream<br>index=%{x}<br>value=%{y}<extra></extra>",
         "legendgroup": "xStream",
         "line": {
          "color": "#FECB52",
          "dash": "solid"
         },
         "marker": {
          "symbol": "circle"
         },
         "mode": "lines",
         "name": "xStream",
         "orientation": "v",
         "showlegend": true,
         "type": "scatter",
         "x": [
          "roc_auc",
          "accuracy",
          "precision",
          "kappa",
          "sensibilidad",
          "especificidad"
         ],
         "xaxis": "x",
         "y": [
          0.5130014228534946,
          0.6388197235565141,
          0.29017543859649125,
          0.027432169976054244,
          0.24255755975949553,
          0.7834452859474937
         ],
         "yaxis": "y"
        },
        {
         "hovertemplate": "variable=HTM<br>index=%{x}<br>value=%{y}<extra></extra>",
         "legendgroup": "HTM",
         "line": {
          "color": "#636efa",
          "dash": "solid"
         },
         "marker": {
          "symbol": "circle"
         },
         "mode": "lines",
         "name": "HTM",
         "orientation": "v",
         "showlegend": true,
         "type": "scatter",
         "x": [
          "roc_auc",
          "accuracy",
          "precision",
          "kappa",
          "sensibilidad",
          "especificidad"
         ],
         "xaxis": "x",
         "y": [
          0.4966172319539453,
          0.7295794529948044,
          0.046753246753246755,
          -0.009840622566781976,
          0.0010655931802036466,
          0.9921688707276869
         ],
         "yaxis": "y"
        }
       ],
       "layout": {
        "legend": {
         "title": {
          "text": "variable"
         },
         "tracegroupgap": 0
        },
        "margin": {
         "t": 60
        },
        "template": {
         "data": {
          "bar": [
           {
            "error_x": {
             "color": "#2a3f5f"
            },
            "error_y": {
             "color": "#2a3f5f"
            },
            "marker": {
             "line": {
              "color": "#E5ECF6",
              "width": 0.5
             },
             "pattern": {
              "fillmode": "overlay",
              "size": 10,
              "solidity": 0.2
             }
            },
            "type": "bar"
           }
          ],
          "barpolar": [
           {
            "marker": {
             "line": {
              "color": "#E5ECF6",
              "width": 0.5
             },
             "pattern": {
              "fillmode": "overlay",
              "size": 10,
              "solidity": 0.2
             }
            },
            "type": "barpolar"
           }
          ],
          "carpet": [
           {
            "aaxis": {
             "endlinecolor": "#2a3f5f",
             "gridcolor": "white",
             "linecolor": "white",
             "minorgridcolor": "white",
             "startlinecolor": "#2a3f5f"
            },
            "baxis": {
             "endlinecolor": "#2a3f5f",
             "gridcolor": "white",
             "linecolor": "white",
             "minorgridcolor": "white",
             "startlinecolor": "#2a3f5f"
            },
            "type": "carpet"
           }
          ],
          "choropleth": [
           {
            "colorbar": {
             "outlinewidth": 0,
             "ticks": ""
            },
            "type": "choropleth"
           }
          ],
          "contour": [
           {
            "colorbar": {
             "outlinewidth": 0,
             "ticks": ""
            },
            "colorscale": [
             [
              0,
              "#0d0887"
             ],
             [
              0.1111111111111111,
              "#46039f"
             ],
             [
              0.2222222222222222,
              "#7201a8"
             ],
             [
              0.3333333333333333,
              "#9c179e"
             ],
             [
              0.4444444444444444,
              "#bd3786"
             ],
             [
              0.5555555555555556,
              "#d8576b"
             ],
             [
              0.6666666666666666,
              "#ed7953"
             ],
             [
              0.7777777777777778,
              "#fb9f3a"
             ],
             [
              0.8888888888888888,
              "#fdca26"
             ],
             [
              1,
              "#f0f921"
             ]
            ],
            "type": "contour"
           }
          ],
          "contourcarpet": [
           {
            "colorbar": {
             "outlinewidth": 0,
             "ticks": ""
            },
            "type": "contourcarpet"
           }
          ],
          "heatmap": [
           {
            "colorbar": {
             "outlinewidth": 0,
             "ticks": ""
            },
            "colorscale": [
             [
              0,
              "#0d0887"
             ],
             [
              0.1111111111111111,
              "#46039f"
             ],
             [
              0.2222222222222222,
              "#7201a8"
             ],
             [
              0.3333333333333333,
              "#9c179e"
             ],
             [
              0.4444444444444444,
              "#bd3786"
             ],
             [
              0.5555555555555556,
              "#d8576b"
             ],
             [
              0.6666666666666666,
              "#ed7953"
             ],
             [
              0.7777777777777778,
              "#fb9f3a"
             ],
             [
              0.8888888888888888,
              "#fdca26"
             ],
             [
              1,
              "#f0f921"
             ]
            ],
            "type": "heatmap"
           }
          ],
          "heatmapgl": [
           {
            "colorbar": {
             "outlinewidth": 0,
             "ticks": ""
            },
            "colorscale": [
             [
              0,
              "#0d0887"
             ],
             [
              0.1111111111111111,
              "#46039f"
             ],
             [
              0.2222222222222222,
              "#7201a8"
             ],
             [
              0.3333333333333333,
              "#9c179e"
             ],
             [
              0.4444444444444444,
              "#bd3786"
             ],
             [
              0.5555555555555556,
              "#d8576b"
             ],
             [
              0.6666666666666666,
              "#ed7953"
             ],
             [
              0.7777777777777778,
              "#fb9f3a"
             ],
             [
              0.8888888888888888,
              "#fdca26"
             ],
             [
              1,
              "#f0f921"
             ]
            ],
            "type": "heatmapgl"
           }
          ],
          "histogram": [
           {
            "marker": {
             "pattern": {
              "fillmode": "overlay",
              "size": 10,
              "solidity": 0.2
             }
            },
            "type": "histogram"
           }
          ],
          "histogram2d": [
           {
            "colorbar": {
             "outlinewidth": 0,
             "ticks": ""
            },
            "colorscale": [
             [
              0,
              "#0d0887"
             ],
             [
              0.1111111111111111,
              "#46039f"
             ],
             [
              0.2222222222222222,
              "#7201a8"
             ],
             [
              0.3333333333333333,
              "#9c179e"
             ],
             [
              0.4444444444444444,
              "#bd3786"
             ],
             [
              0.5555555555555556,
              "#d8576b"
             ],
             [
              0.6666666666666666,
              "#ed7953"
             ],
             [
              0.7777777777777778,
              "#fb9f3a"
             ],
             [
              0.8888888888888888,
              "#fdca26"
             ],
             [
              1,
              "#f0f921"
             ]
            ],
            "type": "histogram2d"
           }
          ],
          "histogram2dcontour": [
           {
            "colorbar": {
             "outlinewidth": 0,
             "ticks": ""
            },
            "colorscale": [
             [
              0,
              "#0d0887"
             ],
             [
              0.1111111111111111,
              "#46039f"
             ],
             [
              0.2222222222222222,
              "#7201a8"
             ],
             [
              0.3333333333333333,
              "#9c179e"
             ],
             [
              0.4444444444444444,
              "#bd3786"
             ],
             [
              0.5555555555555556,
              "#d8576b"
             ],
             [
              0.6666666666666666,
              "#ed7953"
             ],
             [
              0.7777777777777778,
              "#fb9f3a"
             ],
             [
              0.8888888888888888,
              "#fdca26"
             ],
             [
              1,
              "#f0f921"
             ]
            ],
            "type": "histogram2dcontour"
           }
          ],
          "mesh3d": [
           {
            "colorbar": {
             "outlinewidth": 0,
             "ticks": ""
            },
            "type": "mesh3d"
           }
          ],
          "parcoords": [
           {
            "line": {
             "colorbar": {
              "outlinewidth": 0,
              "ticks": ""
             }
            },
            "type": "parcoords"
           }
          ],
          "pie": [
           {
            "automargin": true,
            "type": "pie"
           }
          ],
          "scatter": [
           {
            "fillpattern": {
             "fillmode": "overlay",
             "size": 10,
             "solidity": 0.2
            },
            "type": "scatter"
           }
          ],
          "scatter3d": [
           {
            "line": {
             "colorbar": {
              "outlinewidth": 0,
              "ticks": ""
             }
            },
            "marker": {
             "colorbar": {
              "outlinewidth": 0,
              "ticks": ""
             }
            },
            "type": "scatter3d"
           }
          ],
          "scattercarpet": [
           {
            "marker": {
             "colorbar": {
              "outlinewidth": 0,
              "ticks": ""
             }
            },
            "type": "scattercarpet"
           }
          ],
          "scattergeo": [
           {
            "marker": {
             "colorbar": {
              "outlinewidth": 0,
              "ticks": ""
             }
            },
            "type": "scattergeo"
           }
          ],
          "scattergl": [
           {
            "marker": {
             "colorbar": {
              "outlinewidth": 0,
              "ticks": ""
             }
            },
            "type": "scattergl"
           }
          ],
          "scattermapbox": [
           {
            "marker": {
             "colorbar": {
              "outlinewidth": 0,
              "ticks": ""
             }
            },
            "type": "scattermapbox"
           }
          ],
          "scatterpolar": [
           {
            "marker": {
             "colorbar": {
              "outlinewidth": 0,
              "ticks": ""
             }
            },
            "type": "scatterpolar"
           }
          ],
          "scatterpolargl": [
           {
            "marker": {
             "colorbar": {
              "outlinewidth": 0,
              "ticks": ""
             }
            },
            "type": "scatterpolargl"
           }
          ],
          "scatterternary": [
           {
            "marker": {
             "colorbar": {
              "outlinewidth": 0,
              "ticks": ""
             }
            },
            "type": "scatterternary"
           }
          ],
          "surface": [
           {
            "colorbar": {
             "outlinewidth": 0,
             "ticks": ""
            },
            "colorscale": [
             [
              0,
              "#0d0887"
             ],
             [
              0.1111111111111111,
              "#46039f"
             ],
             [
              0.2222222222222222,
              "#7201a8"
             ],
             [
              0.3333333333333333,
              "#9c179e"
             ],
             [
              0.4444444444444444,
              "#bd3786"
             ],
             [
              0.5555555555555556,
              "#d8576b"
             ],
             [
              0.6666666666666666,
              "#ed7953"
             ],
             [
              0.7777777777777778,
              "#fb9f3a"
             ],
             [
              0.8888888888888888,
              "#fdca26"
             ],
             [
              1,
              "#f0f921"
             ]
            ],
            "type": "surface"
           }
          ],
          "table": [
           {
            "cells": {
             "fill": {
              "color": "#EBF0F8"
             },
             "line": {
              "color": "white"
             }
            },
            "header": {
             "fill": {
              "color": "#C8D4E3"
             },
             "line": {
              "color": "white"
             }
            },
            "type": "table"
           }
          ]
         },
         "layout": {
          "annotationdefaults": {
           "arrowcolor": "#2a3f5f",
           "arrowhead": 0,
           "arrowwidth": 1
          },
          "autotypenumbers": "strict",
          "coloraxis": {
           "colorbar": {
            "outlinewidth": 0,
            "ticks": ""
           }
          },
          "colorscale": {
           "diverging": [
            [
             0,
             "#8e0152"
            ],
            [
             0.1,
             "#c51b7d"
            ],
            [
             0.2,
             "#de77ae"
            ],
            [
             0.3,
             "#f1b6da"
            ],
            [
             0.4,
             "#fde0ef"
            ],
            [
             0.5,
             "#f7f7f7"
            ],
            [
             0.6,
             "#e6f5d0"
            ],
            [
             0.7,
             "#b8e186"
            ],
            [
             0.8,
             "#7fbc41"
            ],
            [
             0.9,
             "#4d9221"
            ],
            [
             1,
             "#276419"
            ]
           ],
           "sequential": [
            [
             0,
             "#0d0887"
            ],
            [
             0.1111111111111111,
             "#46039f"
            ],
            [
             0.2222222222222222,
             "#7201a8"
            ],
            [
             0.3333333333333333,
             "#9c179e"
            ],
            [
             0.4444444444444444,
             "#bd3786"
            ],
            [
             0.5555555555555556,
             "#d8576b"
            ],
            [
             0.6666666666666666,
             "#ed7953"
            ],
            [
             0.7777777777777778,
             "#fb9f3a"
            ],
            [
             0.8888888888888888,
             "#fdca26"
            ],
            [
             1,
             "#f0f921"
            ]
           ],
           "sequentialminus": [
            [
             0,
             "#0d0887"
            ],
            [
             0.1111111111111111,
             "#46039f"
            ],
            [
             0.2222222222222222,
             "#7201a8"
            ],
            [
             0.3333333333333333,
             "#9c179e"
            ],
            [
             0.4444444444444444,
             "#bd3786"
            ],
            [
             0.5555555555555556,
             "#d8576b"
            ],
            [
             0.6666666666666666,
             "#ed7953"
            ],
            [
             0.7777777777777778,
             "#fb9f3a"
            ],
            [
             0.8888888888888888,
             "#fdca26"
            ],
            [
             1,
             "#f0f921"
            ]
           ]
          },
          "colorway": [
           "#636efa",
           "#EF553B",
           "#00cc96",
           "#ab63fa",
           "#FFA15A",
           "#19d3f3",
           "#FF6692",
           "#B6E880",
           "#FF97FF",
           "#FECB52"
          ],
          "font": {
           "color": "#2a3f5f"
          },
          "geo": {
           "bgcolor": "white",
           "lakecolor": "white",
           "landcolor": "#E5ECF6",
           "showlakes": true,
           "showland": true,
           "subunitcolor": "white"
          },
          "hoverlabel": {
           "align": "left"
          },
          "hovermode": "closest",
          "mapbox": {
           "style": "light"
          },
          "paper_bgcolor": "white",
          "plot_bgcolor": "#E5ECF6",
          "polar": {
           "angularaxis": {
            "gridcolor": "white",
            "linecolor": "white",
            "ticks": ""
           },
           "bgcolor": "#E5ECF6",
           "radialaxis": {
            "gridcolor": "white",
            "linecolor": "white",
            "ticks": ""
           }
          },
          "scene": {
           "xaxis": {
            "backgroundcolor": "#E5ECF6",
            "gridcolor": "white",
            "gridwidth": 2,
            "linecolor": "white",
            "showbackground": true,
            "ticks": "",
            "zerolinecolor": "white"
           },
           "yaxis": {
            "backgroundcolor": "#E5ECF6",
            "gridcolor": "white",
            "gridwidth": 2,
            "linecolor": "white",
            "showbackground": true,
            "ticks": "",
            "zerolinecolor": "white"
           },
           "zaxis": {
            "backgroundcolor": "#E5ECF6",
            "gridcolor": "white",
            "gridwidth": 2,
            "linecolor": "white",
            "showbackground": true,
            "ticks": "",
            "zerolinecolor": "white"
           }
          },
          "shapedefaults": {
           "line": {
            "color": "#2a3f5f"
           }
          },
          "ternary": {
           "aaxis": {
            "gridcolor": "white",
            "linecolor": "white",
            "ticks": ""
           },
           "baxis": {
            "gridcolor": "white",
            "linecolor": "white",
            "ticks": ""
           },
           "bgcolor": "#E5ECF6",
           "caxis": {
            "gridcolor": "white",
            "linecolor": "white",
            "ticks": ""
           }
          },
          "title": {
           "x": 0.05
          },
          "xaxis": {
           "automargin": true,
           "gridcolor": "white",
           "linecolor": "white",
           "ticks": "",
           "title": {
            "standoff": 15
           },
           "zerolinecolor": "white",
           "zerolinewidth": 2
          },
          "yaxis": {
           "automargin": true,
           "gridcolor": "white",
           "linecolor": "white",
           "ticks": "",
           "title": {
            "standoff": 15
           },
           "zerolinecolor": "white",
           "zerolinewidth": 2
          }
         }
        },
        "xaxis": {
         "anchor": "y",
         "domain": [
          0,
          1
         ],
         "title": {
          "text": "index"
         }
        },
        "yaxis": {
         "anchor": "x",
         "domain": [
          0,
          1
         ],
         "title": {
          "text": "value"
         }
        }
       }
      }
     },
     "metadata": {},
     "output_type": "display_data"
    }
   ],
   "source": [
    "px.line(metodos_metricas.T)"
   ]
  },
  {
   "cell_type": "markdown",
   "metadata": {},
   "source": [
    "## Métodos NIRvsSecadero"
   ]
  },
  {
   "cell_type": "code",
   "execution_count": 56,
   "metadata": {},
   "outputs": [
    {
     "data": {
      "text/html": [
       "<div>\n",
       "<style scoped>\n",
       "    .dataframe tbody tr th:only-of-type {\n",
       "        vertical-align: middle;\n",
       "    }\n",
       "\n",
       "    .dataframe tbody tr th {\n",
       "        vertical-align: top;\n",
       "    }\n",
       "\n",
       "    .dataframe thead th {\n",
       "        text-align: right;\n",
       "    }\n",
       "</style>\n",
       "<table border=\"1\" class=\"dataframe\">\n",
       "  <thead>\n",
       "    <tr style=\"text-align: right;\">\n",
       "      <th></th>\n",
       "      <th>CurvaCola</th>\n",
       "      <th>IForest</th>\n",
       "      <th>MAD</th>\n",
       "    </tr>\n",
       "    <tr>\n",
       "      <th>fecha</th>\n",
       "      <th></th>\n",
       "      <th></th>\n",
       "      <th></th>\n",
       "    </tr>\n",
       "  </thead>\n",
       "  <tbody>\n",
       "    <tr>\n",
       "      <th>2021-11-26 11:48:00</th>\n",
       "      <td>1</td>\n",
       "      <td>0</td>\n",
       "      <td>0</td>\n",
       "    </tr>\n",
       "    <tr>\n",
       "      <th>2021-06-06 19:17:00</th>\n",
       "      <td>0</td>\n",
       "      <td>1</td>\n",
       "      <td>0</td>\n",
       "    </tr>\n",
       "    <tr>\n",
       "      <th>2021-12-04 07:59:00</th>\n",
       "      <td>1</td>\n",
       "      <td>0</td>\n",
       "      <td>0</td>\n",
       "    </tr>\n",
       "    <tr>\n",
       "      <th>2021-11-06 17:55:00</th>\n",
       "      <td>1</td>\n",
       "      <td>0</td>\n",
       "      <td>0</td>\n",
       "    </tr>\n",
       "    <tr>\n",
       "      <th>2021-05-05 08:19:00</th>\n",
       "      <td>0</td>\n",
       "      <td>0</td>\n",
       "      <td>0</td>\n",
       "    </tr>\n",
       "  </tbody>\n",
       "</table>\n",
       "</div>"
      ],
      "text/plain": [
       "                     CurvaCola  IForest  MAD\n",
       "fecha                                       \n",
       "2021-11-26 11:48:00          1        0    0\n",
       "2021-06-06 19:17:00          0        1    0\n",
       "2021-12-04 07:59:00          1        0    0\n",
       "2021-11-06 17:55:00          1        0    0\n",
       "2021-05-05 08:19:00          0        0    0"
      ]
     },
     "execution_count": 56,
     "metadata": {},
     "output_type": "execute_result"
    }
   ],
   "source": [
    "metodos_NvS = pd.read_csv('Metodos_NIRvsSecadero/CurvaCola/Resultados/PyOD_IForest_completo.csv',index_col='fecha')\n",
    "metodos_NvS = metodos_NvS.drop('Y_pred', axis=1)\n",
    "\n",
    "metodos_NvS['IForest'] = pd.read_csv('Metodos_NIRvsSecadero/CurvaCola/Resultados/PyOD_IForest_completo.csv',usecols=['fecha','Y_pred'],index_col='fecha')\n",
    "metodos_NvS['MAD'] = pd.read_csv('Metodos_NIRvsSecadero/CurvaCola/Resultados/PyOD_MAD_completo.csv',usecols=['fecha','Y_pred'],index_col='fecha')\n",
    "\n",
    "metodos_NvS_htm = pd.read_csv('Metodos_NIRvsSecadero/CurvaCola/HTM_Uni/HTM_completo.csv',index_col='fecha')\n",
    "metodos_NvS_htm['HTM'] = metodos_NvS_htm['Y_pred']\n",
    "metodos_NvS_htm = metodos_NvS_htm.drop('Y_pred',axis=1)\n",
    "\n",
    "metodos_NvS.head()"
   ]
  },
  {
   "cell_type": "markdown",
   "metadata": {},
   "source": []
  },
  {
   "cell_type": "markdown",
   "metadata": {},
   "source": [
    "### Métricas generales:"
   ]
  },
  {
   "cell_type": "code",
   "execution_count": 57,
   "metadata": {},
   "outputs": [
    {
     "data": {
      "text/html": [
       "<div>\n",
       "<style scoped>\n",
       "    .dataframe tbody tr th:only-of-type {\n",
       "        vertical-align: middle;\n",
       "    }\n",
       "\n",
       "    .dataframe tbody tr th {\n",
       "        vertical-align: top;\n",
       "    }\n",
       "\n",
       "    .dataframe thead th {\n",
       "        text-align: right;\n",
       "    }\n",
       "</style>\n",
       "<table border=\"1\" class=\"dataframe\">\n",
       "  <thead>\n",
       "    <tr style=\"text-align: right;\">\n",
       "      <th></th>\n",
       "      <th>roc_auc</th>\n",
       "      <th>accuracy</th>\n",
       "      <th>precision</th>\n",
       "      <th>kappa</th>\n",
       "      <th>sensibilidad</th>\n",
       "      <th>especificidad</th>\n",
       "    </tr>\n",
       "  </thead>\n",
       "  <tbody>\n",
       "    <tr>\n",
       "      <th>IForest</th>\n",
       "      <td>0.495745</td>\n",
       "      <td>0.684011</td>\n",
       "      <td>0.250252</td>\n",
       "      <td>-0.010665</td>\n",
       "      <td>0.091069</td>\n",
       "      <td>0.90042</td>\n",
       "    </tr>\n",
       "    <tr>\n",
       "      <th>MAD</th>\n",
       "      <td>0.504158</td>\n",
       "      <td>0.72687</td>\n",
       "      <td>0.35157</td>\n",
       "      <td>0.011788</td>\n",
       "      <td>0.025444</td>\n",
       "      <td>0.982873</td>\n",
       "    </tr>\n",
       "    <tr>\n",
       "      <th>HTM</th>\n",
       "      <td>0.456544</td>\n",
       "      <td>0.666068</td>\n",
       "      <td>0.03846</td>\n",
       "      <td>-0.112812</td>\n",
       "      <td>0.010848</td>\n",
       "      <td>0.902239</td>\n",
       "    </tr>\n",
       "  </tbody>\n",
       "</table>\n",
       "</div>"
      ],
      "text/plain": [
       "          roc_auc  accuracy precision     kappa sensibilidad especificidad\n",
       "IForest  0.495745  0.684011  0.250252 -0.010665     0.091069       0.90042\n",
       "MAD      0.504158   0.72687   0.35157  0.011788     0.025444      0.982873\n",
       "HTM      0.456544  0.666068   0.03846 -0.112812     0.010848      0.902239"
      ]
     },
     "execution_count": 57,
     "metadata": {},
     "output_type": "execute_result"
    }
   ],
   "source": [
    "metodos_NvS_lista = ['IForest','MAD']\n",
    "metodos_NvS_metricas = calc_metricas(metodos_NvS,['IForest','MAD'])\n",
    "metodos_NvS_metricas = pd.concat([metodos_NvS_metricas,calc_metricas(metodos_NvS_htm, ['HTM'])])\n",
    "metodos_NvS_metricas"
   ]
  },
  {
   "cell_type": "code",
   "execution_count": 58,
   "metadata": {},
   "outputs": [
    {
     "data": {
      "application/vnd.plotly.v1+json": {
       "config": {
        "plotlyServerURL": "https://plot.ly"
       },
       "data": [
        {
         "hovertemplate": "variable=IForest<br>index=%{x}<br>value=%{y}<extra></extra>",
         "legendgroup": "IForest",
         "line": {
          "color": "#636efa",
          "dash": "solid"
         },
         "marker": {
          "symbol": "circle"
         },
         "mode": "lines",
         "name": "IForest",
         "orientation": "v",
         "showlegend": true,
         "type": "scatter",
         "x": [
          "roc_auc",
          "accuracy",
          "precision",
          "kappa",
          "sensibilidad",
          "especificidad"
         ],
         "xaxis": "x",
         "y": [
          0.4957446142671299,
          0.6840113714341731,
          0.25025186379206127,
          -0.010664683590140944,
          0.09106907171139464,
          0.9004201568228651
         ],
         "yaxis": "y"
        },
        {
         "hovertemplate": "variable=MAD<br>index=%{x}<br>value=%{y}<extra></extra>",
         "legendgroup": "MAD",
         "line": {
          "color": "#EF553B",
          "dash": "solid"
         },
         "marker": {
          "symbol": "circle"
         },
         "mode": "lines",
         "name": "MAD",
         "orientation": "v",
         "showlegend": true,
         "type": "scatter",
         "x": [
          "roc_auc",
          "accuracy",
          "precision",
          "kappa",
          "sensibilidad",
          "especificidad"
         ],
         "xaxis": "x",
         "y": [
          0.5041581007727802,
          0.7268699147142437,
          0.3515704154002026,
          0.011788237970513316,
          0.0254436134330547,
          0.9828725881125057
         ],
         "yaxis": "y"
        },
        {
         "hovertemplate": "variable=HTM<br>index=%{x}<br>value=%{y}<extra></extra>",
         "legendgroup": "HTM",
         "line": {
          "color": "#00cc96",
          "dash": "solid"
         },
         "marker": {
          "symbol": "circle"
         },
         "mode": "lines",
         "name": "HTM",
         "orientation": "v",
         "showlegend": true,
         "type": "scatter",
         "x": [
          "roc_auc",
          "accuracy",
          "precision",
          "kappa",
          "sensibilidad",
          "especificidad"
         ],
         "xaxis": "x",
         "y": [
          0.45654362201408527,
          0.6660680325458288,
          0.03845952043653917,
          -0.11281177927609898,
          0.010848330570684347,
          0.9022389134574863
         ],
         "yaxis": "y"
        }
       ],
       "layout": {
        "legend": {
         "title": {
          "text": "variable"
         },
         "tracegroupgap": 0
        },
        "margin": {
         "t": 60
        },
        "template": {
         "data": {
          "bar": [
           {
            "error_x": {
             "color": "#2a3f5f"
            },
            "error_y": {
             "color": "#2a3f5f"
            },
            "marker": {
             "line": {
              "color": "#E5ECF6",
              "width": 0.5
             },
             "pattern": {
              "fillmode": "overlay",
              "size": 10,
              "solidity": 0.2
             }
            },
            "type": "bar"
           }
          ],
          "barpolar": [
           {
            "marker": {
             "line": {
              "color": "#E5ECF6",
              "width": 0.5
             },
             "pattern": {
              "fillmode": "overlay",
              "size": 10,
              "solidity": 0.2
             }
            },
            "type": "barpolar"
           }
          ],
          "carpet": [
           {
            "aaxis": {
             "endlinecolor": "#2a3f5f",
             "gridcolor": "white",
             "linecolor": "white",
             "minorgridcolor": "white",
             "startlinecolor": "#2a3f5f"
            },
            "baxis": {
             "endlinecolor": "#2a3f5f",
             "gridcolor": "white",
             "linecolor": "white",
             "minorgridcolor": "white",
             "startlinecolor": "#2a3f5f"
            },
            "type": "carpet"
           }
          ],
          "choropleth": [
           {
            "colorbar": {
             "outlinewidth": 0,
             "ticks": ""
            },
            "type": "choropleth"
           }
          ],
          "contour": [
           {
            "colorbar": {
             "outlinewidth": 0,
             "ticks": ""
            },
            "colorscale": [
             [
              0,
              "#0d0887"
             ],
             [
              0.1111111111111111,
              "#46039f"
             ],
             [
              0.2222222222222222,
              "#7201a8"
             ],
             [
              0.3333333333333333,
              "#9c179e"
             ],
             [
              0.4444444444444444,
              "#bd3786"
             ],
             [
              0.5555555555555556,
              "#d8576b"
             ],
             [
              0.6666666666666666,
              "#ed7953"
             ],
             [
              0.7777777777777778,
              "#fb9f3a"
             ],
             [
              0.8888888888888888,
              "#fdca26"
             ],
             [
              1,
              "#f0f921"
             ]
            ],
            "type": "contour"
           }
          ],
          "contourcarpet": [
           {
            "colorbar": {
             "outlinewidth": 0,
             "ticks": ""
            },
            "type": "contourcarpet"
           }
          ],
          "heatmap": [
           {
            "colorbar": {
             "outlinewidth": 0,
             "ticks": ""
            },
            "colorscale": [
             [
              0,
              "#0d0887"
             ],
             [
              0.1111111111111111,
              "#46039f"
             ],
             [
              0.2222222222222222,
              "#7201a8"
             ],
             [
              0.3333333333333333,
              "#9c179e"
             ],
             [
              0.4444444444444444,
              "#bd3786"
             ],
             [
              0.5555555555555556,
              "#d8576b"
             ],
             [
              0.6666666666666666,
              "#ed7953"
             ],
             [
              0.7777777777777778,
              "#fb9f3a"
             ],
             [
              0.8888888888888888,
              "#fdca26"
             ],
             [
              1,
              "#f0f921"
             ]
            ],
            "type": "heatmap"
           }
          ],
          "heatmapgl": [
           {
            "colorbar": {
             "outlinewidth": 0,
             "ticks": ""
            },
            "colorscale": [
             [
              0,
              "#0d0887"
             ],
             [
              0.1111111111111111,
              "#46039f"
             ],
             [
              0.2222222222222222,
              "#7201a8"
             ],
             [
              0.3333333333333333,
              "#9c179e"
             ],
             [
              0.4444444444444444,
              "#bd3786"
             ],
             [
              0.5555555555555556,
              "#d8576b"
             ],
             [
              0.6666666666666666,
              "#ed7953"
             ],
             [
              0.7777777777777778,
              "#fb9f3a"
             ],
             [
              0.8888888888888888,
              "#fdca26"
             ],
             [
              1,
              "#f0f921"
             ]
            ],
            "type": "heatmapgl"
           }
          ],
          "histogram": [
           {
            "marker": {
             "pattern": {
              "fillmode": "overlay",
              "size": 10,
              "solidity": 0.2
             }
            },
            "type": "histogram"
           }
          ],
          "histogram2d": [
           {
            "colorbar": {
             "outlinewidth": 0,
             "ticks": ""
            },
            "colorscale": [
             [
              0,
              "#0d0887"
             ],
             [
              0.1111111111111111,
              "#46039f"
             ],
             [
              0.2222222222222222,
              "#7201a8"
             ],
             [
              0.3333333333333333,
              "#9c179e"
             ],
             [
              0.4444444444444444,
              "#bd3786"
             ],
             [
              0.5555555555555556,
              "#d8576b"
             ],
             [
              0.6666666666666666,
              "#ed7953"
             ],
             [
              0.7777777777777778,
              "#fb9f3a"
             ],
             [
              0.8888888888888888,
              "#fdca26"
             ],
             [
              1,
              "#f0f921"
             ]
            ],
            "type": "histogram2d"
           }
          ],
          "histogram2dcontour": [
           {
            "colorbar": {
             "outlinewidth": 0,
             "ticks": ""
            },
            "colorscale": [
             [
              0,
              "#0d0887"
             ],
             [
              0.1111111111111111,
              "#46039f"
             ],
             [
              0.2222222222222222,
              "#7201a8"
             ],
             [
              0.3333333333333333,
              "#9c179e"
             ],
             [
              0.4444444444444444,
              "#bd3786"
             ],
             [
              0.5555555555555556,
              "#d8576b"
             ],
             [
              0.6666666666666666,
              "#ed7953"
             ],
             [
              0.7777777777777778,
              "#fb9f3a"
             ],
             [
              0.8888888888888888,
              "#fdca26"
             ],
             [
              1,
              "#f0f921"
             ]
            ],
            "type": "histogram2dcontour"
           }
          ],
          "mesh3d": [
           {
            "colorbar": {
             "outlinewidth": 0,
             "ticks": ""
            },
            "type": "mesh3d"
           }
          ],
          "parcoords": [
           {
            "line": {
             "colorbar": {
              "outlinewidth": 0,
              "ticks": ""
             }
            },
            "type": "parcoords"
           }
          ],
          "pie": [
           {
            "automargin": true,
            "type": "pie"
           }
          ],
          "scatter": [
           {
            "fillpattern": {
             "fillmode": "overlay",
             "size": 10,
             "solidity": 0.2
            },
            "type": "scatter"
           }
          ],
          "scatter3d": [
           {
            "line": {
             "colorbar": {
              "outlinewidth": 0,
              "ticks": ""
             }
            },
            "marker": {
             "colorbar": {
              "outlinewidth": 0,
              "ticks": ""
             }
            },
            "type": "scatter3d"
           }
          ],
          "scattercarpet": [
           {
            "marker": {
             "colorbar": {
              "outlinewidth": 0,
              "ticks": ""
             }
            },
            "type": "scattercarpet"
           }
          ],
          "scattergeo": [
           {
            "marker": {
             "colorbar": {
              "outlinewidth": 0,
              "ticks": ""
             }
            },
            "type": "scattergeo"
           }
          ],
          "scattergl": [
           {
            "marker": {
             "colorbar": {
              "outlinewidth": 0,
              "ticks": ""
             }
            },
            "type": "scattergl"
           }
          ],
          "scattermapbox": [
           {
            "marker": {
             "colorbar": {
              "outlinewidth": 0,
              "ticks": ""
             }
            },
            "type": "scattermapbox"
           }
          ],
          "scatterpolar": [
           {
            "marker": {
             "colorbar": {
              "outlinewidth": 0,
              "ticks": ""
             }
            },
            "type": "scatterpolar"
           }
          ],
          "scatterpolargl": [
           {
            "marker": {
             "colorbar": {
              "outlinewidth": 0,
              "ticks": ""
             }
            },
            "type": "scatterpolargl"
           }
          ],
          "scatterternary": [
           {
            "marker": {
             "colorbar": {
              "outlinewidth": 0,
              "ticks": ""
             }
            },
            "type": "scatterternary"
           }
          ],
          "surface": [
           {
            "colorbar": {
             "outlinewidth": 0,
             "ticks": ""
            },
            "colorscale": [
             [
              0,
              "#0d0887"
             ],
             [
              0.1111111111111111,
              "#46039f"
             ],
             [
              0.2222222222222222,
              "#7201a8"
             ],
             [
              0.3333333333333333,
              "#9c179e"
             ],
             [
              0.4444444444444444,
              "#bd3786"
             ],
             [
              0.5555555555555556,
              "#d8576b"
             ],
             [
              0.6666666666666666,
              "#ed7953"
             ],
             [
              0.7777777777777778,
              "#fb9f3a"
             ],
             [
              0.8888888888888888,
              "#fdca26"
             ],
             [
              1,
              "#f0f921"
             ]
            ],
            "type": "surface"
           }
          ],
          "table": [
           {
            "cells": {
             "fill": {
              "color": "#EBF0F8"
             },
             "line": {
              "color": "white"
             }
            },
            "header": {
             "fill": {
              "color": "#C8D4E3"
             },
             "line": {
              "color": "white"
             }
            },
            "type": "table"
           }
          ]
         },
         "layout": {
          "annotationdefaults": {
           "arrowcolor": "#2a3f5f",
           "arrowhead": 0,
           "arrowwidth": 1
          },
          "autotypenumbers": "strict",
          "coloraxis": {
           "colorbar": {
            "outlinewidth": 0,
            "ticks": ""
           }
          },
          "colorscale": {
           "diverging": [
            [
             0,
             "#8e0152"
            ],
            [
             0.1,
             "#c51b7d"
            ],
            [
             0.2,
             "#de77ae"
            ],
            [
             0.3,
             "#f1b6da"
            ],
            [
             0.4,
             "#fde0ef"
            ],
            [
             0.5,
             "#f7f7f7"
            ],
            [
             0.6,
             "#e6f5d0"
            ],
            [
             0.7,
             "#b8e186"
            ],
            [
             0.8,
             "#7fbc41"
            ],
            [
             0.9,
             "#4d9221"
            ],
            [
             1,
             "#276419"
            ]
           ],
           "sequential": [
            [
             0,
             "#0d0887"
            ],
            [
             0.1111111111111111,
             "#46039f"
            ],
            [
             0.2222222222222222,
             "#7201a8"
            ],
            [
             0.3333333333333333,
             "#9c179e"
            ],
            [
             0.4444444444444444,
             "#bd3786"
            ],
            [
             0.5555555555555556,
             "#d8576b"
            ],
            [
             0.6666666666666666,
             "#ed7953"
            ],
            [
             0.7777777777777778,
             "#fb9f3a"
            ],
            [
             0.8888888888888888,
             "#fdca26"
            ],
            [
             1,
             "#f0f921"
            ]
           ],
           "sequentialminus": [
            [
             0,
             "#0d0887"
            ],
            [
             0.1111111111111111,
             "#46039f"
            ],
            [
             0.2222222222222222,
             "#7201a8"
            ],
            [
             0.3333333333333333,
             "#9c179e"
            ],
            [
             0.4444444444444444,
             "#bd3786"
            ],
            [
             0.5555555555555556,
             "#d8576b"
            ],
            [
             0.6666666666666666,
             "#ed7953"
            ],
            [
             0.7777777777777778,
             "#fb9f3a"
            ],
            [
             0.8888888888888888,
             "#fdca26"
            ],
            [
             1,
             "#f0f921"
            ]
           ]
          },
          "colorway": [
           "#636efa",
           "#EF553B",
           "#00cc96",
           "#ab63fa",
           "#FFA15A",
           "#19d3f3",
           "#FF6692",
           "#B6E880",
           "#FF97FF",
           "#FECB52"
          ],
          "font": {
           "color": "#2a3f5f"
          },
          "geo": {
           "bgcolor": "white",
           "lakecolor": "white",
           "landcolor": "#E5ECF6",
           "showlakes": true,
           "showland": true,
           "subunitcolor": "white"
          },
          "hoverlabel": {
           "align": "left"
          },
          "hovermode": "closest",
          "mapbox": {
           "style": "light"
          },
          "paper_bgcolor": "white",
          "plot_bgcolor": "#E5ECF6",
          "polar": {
           "angularaxis": {
            "gridcolor": "white",
            "linecolor": "white",
            "ticks": ""
           },
           "bgcolor": "#E5ECF6",
           "radialaxis": {
            "gridcolor": "white",
            "linecolor": "white",
            "ticks": ""
           }
          },
          "scene": {
           "xaxis": {
            "backgroundcolor": "#E5ECF6",
            "gridcolor": "white",
            "gridwidth": 2,
            "linecolor": "white",
            "showbackground": true,
            "ticks": "",
            "zerolinecolor": "white"
           },
           "yaxis": {
            "backgroundcolor": "#E5ECF6",
            "gridcolor": "white",
            "gridwidth": 2,
            "linecolor": "white",
            "showbackground": true,
            "ticks": "",
            "zerolinecolor": "white"
           },
           "zaxis": {
            "backgroundcolor": "#E5ECF6",
            "gridcolor": "white",
            "gridwidth": 2,
            "linecolor": "white",
            "showbackground": true,
            "ticks": "",
            "zerolinecolor": "white"
           }
          },
          "shapedefaults": {
           "line": {
            "color": "#2a3f5f"
           }
          },
          "ternary": {
           "aaxis": {
            "gridcolor": "white",
            "linecolor": "white",
            "ticks": ""
           },
           "baxis": {
            "gridcolor": "white",
            "linecolor": "white",
            "ticks": ""
           },
           "bgcolor": "#E5ECF6",
           "caxis": {
            "gridcolor": "white",
            "linecolor": "white",
            "ticks": ""
           }
          },
          "title": {
           "x": 0.05
          },
          "xaxis": {
           "automargin": true,
           "gridcolor": "white",
           "linecolor": "white",
           "ticks": "",
           "title": {
            "standoff": 15
           },
           "zerolinecolor": "white",
           "zerolinewidth": 2
          },
          "yaxis": {
           "automargin": true,
           "gridcolor": "white",
           "linecolor": "white",
           "ticks": "",
           "title": {
            "standoff": 15
           },
           "zerolinecolor": "white",
           "zerolinewidth": 2
          }
         }
        },
        "xaxis": {
         "anchor": "y",
         "domain": [
          0,
          1
         ],
         "title": {
          "text": "index"
         }
        },
        "yaxis": {
         "anchor": "x",
         "domain": [
          0,
          1
         ],
         "title": {
          "text": "value"
         }
        }
       }
      }
     },
     "metadata": {},
     "output_type": "display_data"
    }
   ],
   "source": [
    "px.line(metodos_NvS_metricas.T)"
   ]
  },
  {
   "cell_type": "markdown",
   "metadata": {},
   "source": [
    "## Métodos PVvsPred"
   ]
  },
  {
   "cell_type": "code",
   "execution_count": 59,
   "metadata": {},
   "outputs": [
    {
     "data": {
      "text/html": [
       "<div>\n",
       "<style scoped>\n",
       "    .dataframe tbody tr th:only-of-type {\n",
       "        vertical-align: middle;\n",
       "    }\n",
       "\n",
       "    .dataframe tbody tr th {\n",
       "        vertical-align: top;\n",
       "    }\n",
       "\n",
       "    .dataframe thead th {\n",
       "        text-align: right;\n",
       "    }\n",
       "</style>\n",
       "<table border=\"1\" class=\"dataframe\">\n",
       "  <thead>\n",
       "    <tr style=\"text-align: right;\">\n",
       "      <th></th>\n",
       "      <th>CurvaCola</th>\n",
       "      <th>MAD_PyOD</th>\n",
       "      <th>MAD_PySAD</th>\n",
       "      <th>SAD</th>\n",
       "    </tr>\n",
       "    <tr>\n",
       "      <th>fecha</th>\n",
       "      <th></th>\n",
       "      <th></th>\n",
       "      <th></th>\n",
       "      <th></th>\n",
       "    </tr>\n",
       "  </thead>\n",
       "  <tbody>\n",
       "    <tr>\n",
       "      <th>2021-11-26 11:48:00</th>\n",
       "      <td>1</td>\n",
       "      <td>0</td>\n",
       "      <td>0</td>\n",
       "      <td>0</td>\n",
       "    </tr>\n",
       "    <tr>\n",
       "      <th>2021-06-06 19:17:00</th>\n",
       "      <td>0</td>\n",
       "      <td>0</td>\n",
       "      <td>0</td>\n",
       "      <td>0</td>\n",
       "    </tr>\n",
       "    <tr>\n",
       "      <th>2021-12-04 07:59:00</th>\n",
       "      <td>1</td>\n",
       "      <td>0</td>\n",
       "      <td>0</td>\n",
       "      <td>0</td>\n",
       "    </tr>\n",
       "    <tr>\n",
       "      <th>2021-11-06 17:55:00</th>\n",
       "      <td>1</td>\n",
       "      <td>0</td>\n",
       "      <td>0</td>\n",
       "      <td>0</td>\n",
       "    </tr>\n",
       "    <tr>\n",
       "      <th>2021-05-05 08:19:00</th>\n",
       "      <td>0</td>\n",
       "      <td>0</td>\n",
       "      <td>0</td>\n",
       "      <td>0</td>\n",
       "    </tr>\n",
       "  </tbody>\n",
       "</table>\n",
       "</div>"
      ],
      "text/plain": [
       "                     CurvaCola  MAD_PyOD  MAD_PySAD  SAD\n",
       "fecha                                                   \n",
       "2021-11-26 11:48:00          1         0          0    0\n",
       "2021-06-06 19:17:00          0         0          0    0\n",
       "2021-12-04 07:59:00          1         0          0    0\n",
       "2021-11-06 17:55:00          1         0          0    0\n",
       "2021-05-05 08:19:00          0         0          0    0"
      ]
     },
     "execution_count": 59,
     "metadata": {},
     "output_type": "execute_result"
    }
   ],
   "source": [
    "metodos_PvP = pd.read_csv('Metodos_PVvsPred/CurvaCola/Resultados/PyOD_MAD_completo.csv',index_col='fecha')\n",
    "metodos_PvP = metodos_PvP.drop('Y_pred', axis=1)\n",
    "\n",
    "metodos_PvP['MAD_PyOD'] = pd.read_csv('Metodos_PVvsPred/CurvaCola/Resultados/PyOD_MAD_completo.csv',usecols=['fecha','Y_pred'],index_col='fecha')\n",
    "metodos_PvP['MAD_PySAD'] = pd.read_csv('Metodos_PVvsPred/CurvaCola/Resultados/PySAD_MAD_completo.csv',usecols=['fecha','Y_pred'],index_col='fecha')\n",
    "metodos_PvP['SAD'] = pd.read_csv('Metodos_PVvsPred/CurvaCola/Resultados/PySAD_SAD_completo.csv',usecols=['fecha','Y_pred'],index_col='fecha')\n",
    "\n",
    "metodos_PvP_htm = pd.read_csv('Metodos_PVvsPred/CurvaCola/HTM_Uni/HTM_completo.csv',index_col='fecha')\n",
    "metodos_PvP_htm['HTM'] = metodos_PvP_htm['Y_pred']\n",
    "metodos_PvP_htm = metodos_PvP_htm.drop('Y_pred',axis=1)\n",
    "\n",
    "metodos_PvP.head()"
   ]
  },
  {
   "cell_type": "markdown",
   "metadata": {},
   "source": []
  },
  {
   "cell_type": "markdown",
   "metadata": {},
   "source": [
    "### Métricas generales:"
   ]
  },
  {
   "cell_type": "code",
   "execution_count": 60,
   "metadata": {},
   "outputs": [
    {
     "data": {
      "text/html": [
       "<div>\n",
       "<style scoped>\n",
       "    .dataframe tbody tr th:only-of-type {\n",
       "        vertical-align: middle;\n",
       "    }\n",
       "\n",
       "    .dataframe tbody tr th {\n",
       "        vertical-align: top;\n",
       "    }\n",
       "\n",
       "    .dataframe thead th {\n",
       "        text-align: right;\n",
       "    }\n",
       "</style>\n",
       "<table border=\"1\" class=\"dataframe\">\n",
       "  <thead>\n",
       "    <tr style=\"text-align: right;\">\n",
       "      <th></th>\n",
       "      <th>roc_auc</th>\n",
       "      <th>accuracy</th>\n",
       "      <th>precision</th>\n",
       "      <th>kappa</th>\n",
       "      <th>sensibilidad</th>\n",
       "      <th>especificidad</th>\n",
       "    </tr>\n",
       "  </thead>\n",
       "  <tbody>\n",
       "    <tr>\n",
       "      <th>MAD_PyOD</th>\n",
       "      <td>0.517988</td>\n",
       "      <td>0.727144</td>\n",
       "      <td>0.434965</td>\n",
       "      <td>0.04912</td>\n",
       "      <td>0.068412</td>\n",
       "      <td>0.967565</td>\n",
       "    </tr>\n",
       "    <tr>\n",
       "      <th>MAD_PySAD</th>\n",
       "      <td>0.522436</td>\n",
       "      <td>0.702755</td>\n",
       "      <td>0.353586</td>\n",
       "      <td>0.05584</td>\n",
       "      <td>0.134844</td>\n",
       "      <td>0.910028</td>\n",
       "    </tr>\n",
       "    <tr>\n",
       "      <th>SAD</th>\n",
       "      <td>0.532131</td>\n",
       "      <td>0.710479</td>\n",
       "      <td>0.39117</td>\n",
       "      <td>0.080003</td>\n",
       "      <td>0.148775</td>\n",
       "      <td>0.915487</td>\n",
       "    </tr>\n",
       "    <tr>\n",
       "      <th>HTM</th>\n",
       "      <td>0.489879</td>\n",
       "      <td>0.71982</td>\n",
       "      <td>0.012792</td>\n",
       "      <td>-0.028955</td>\n",
       "      <td>0.000755</td>\n",
       "      <td>0.979003</td>\n",
       "    </tr>\n",
       "  </tbody>\n",
       "</table>\n",
       "</div>"
      ],
      "text/plain": [
       "            roc_auc  accuracy precision     kappa sensibilidad especificidad\n",
       "MAD_PyOD   0.517988  0.727144  0.434965   0.04912     0.068412      0.967565\n",
       "MAD_PySAD  0.522436  0.702755  0.353586   0.05584     0.134844      0.910028\n",
       "SAD        0.532131  0.710479   0.39117  0.080003     0.148775      0.915487\n",
       "HTM        0.489879   0.71982  0.012792 -0.028955     0.000755      0.979003"
      ]
     },
     "execution_count": 60,
     "metadata": {},
     "output_type": "execute_result"
    }
   ],
   "source": [
    "metodos_PvP_lista = ['MAD_PyOD','MAD_PySAD','SAD']\n",
    "metodos_PvP_metricas = calc_metricas(metodos_PvP,metodos_PvP_lista)\n",
    "metodos_PvP_metricas = pd.concat([metodos_PvP_metricas,calc_metricas(metodos_PvP_htm, ['HTM'])])\n",
    "metodos_PvP_metricas"
   ]
  },
  {
   "cell_type": "code",
   "execution_count": 61,
   "metadata": {},
   "outputs": [
    {
     "data": {
      "application/vnd.plotly.v1+json": {
       "config": {
        "plotlyServerURL": "https://plot.ly"
       },
       "data": [
        {
         "hovertemplate": "variable=MAD_PyOD<br>index=%{x}<br>value=%{y}<extra></extra>",
         "legendgroup": "MAD_PyOD",
         "line": {
          "color": "#636efa",
          "dash": "solid"
         },
         "marker": {
          "symbol": "circle"
         },
         "mode": "lines",
         "name": "MAD_PyOD",
         "orientation": "v",
         "showlegend": true,
         "type": "scatter",
         "x": [
          "roc_auc",
          "accuracy",
          "precision",
          "kappa",
          "sensibilidad",
          "especificidad"
         ],
         "xaxis": "x",
         "y": [
          0.5179883771615937,
          0.7271443976080776,
          0.43496503496503497,
          0.04911998601161227,
          0.06841179058512978,
          0.9675649637380577
         ],
         "yaxis": "y"
        },
        {
         "hovertemplate": "variable=MAD_PySAD<br>index=%{x}<br>value=%{y}<extra></extra>",
         "legendgroup": "MAD_PySAD",
         "line": {
          "color": "#EF553B",
          "dash": "solid"
         },
         "marker": {
          "symbol": "circle"
         },
         "mode": "lines",
         "name": "MAD_PySAD",
         "orientation": "v",
         "showlegend": true,
         "type": "scatter",
         "x": [
          "roc_auc",
          "accuracy",
          "precision",
          "kappa",
          "sensibilidad",
          "especificidad"
         ],
         "xaxis": "x",
         "y": [
          0.5224356915851286,
          0.7027546318988335,
          0.3535858488752163,
          0.055839752205340654,
          0.134843818741751,
          0.9100275644285064
         ],
         "yaxis": "y"
        },
        {
         "hovertemplate": "variable=SAD<br>index=%{x}<br>value=%{y}<extra></extra>",
         "legendgroup": "SAD",
         "line": {
          "color": "#00cc96",
          "dash": "solid"
         },
         "marker": {
          "symbol": "circle"
         },
         "mode": "lines",
         "name": "SAD",
         "orientation": "v",
         "showlegend": true,
         "type": "scatter",
         "x": [
          "roc_auc",
          "accuracy",
          "precision",
          "kappa",
          "sensibilidad",
          "especificidad"
         ],
         "xaxis": "x",
         "y": [
          0.5321312036216727,
          0.71047936476816,
          0.39117023327549644,
          0.0800031720977622,
          0.14877548027570026,
          0.9154869269676452
         ],
         "yaxis": "y"
        },
        {
         "hovertemplate": "variable=HTM<br>index=%{x}<br>value=%{y}<extra></extra>",
         "legendgroup": "HTM",
         "line": {
          "color": "#ab63fa",
          "dash": "solid"
         },
         "marker": {
          "symbol": "circle"
         },
         "mode": "lines",
         "name": "HTM",
         "orientation": "v",
         "showlegend": true,
         "type": "scatter",
         "x": [
          "roc_auc",
          "accuracy",
          "precision",
          "kappa",
          "sensibilidad",
          "especificidad"
         ],
         "xaxis": "x",
         "y": [
          0.4898789899498379,
          0.7198196255269091,
          0.012791572610985704,
          -0.028954736754789545,
          0.0007547951693109164,
          0.9790031847303649
         ],
         "yaxis": "y"
        }
       ],
       "layout": {
        "legend": {
         "title": {
          "text": "variable"
         },
         "tracegroupgap": 0
        },
        "margin": {
         "t": 60
        },
        "template": {
         "data": {
          "bar": [
           {
            "error_x": {
             "color": "#2a3f5f"
            },
            "error_y": {
             "color": "#2a3f5f"
            },
            "marker": {
             "line": {
              "color": "#E5ECF6",
              "width": 0.5
             },
             "pattern": {
              "fillmode": "overlay",
              "size": 10,
              "solidity": 0.2
             }
            },
            "type": "bar"
           }
          ],
          "barpolar": [
           {
            "marker": {
             "line": {
              "color": "#E5ECF6",
              "width": 0.5
             },
             "pattern": {
              "fillmode": "overlay",
              "size": 10,
              "solidity": 0.2
             }
            },
            "type": "barpolar"
           }
          ],
          "carpet": [
           {
            "aaxis": {
             "endlinecolor": "#2a3f5f",
             "gridcolor": "white",
             "linecolor": "white",
             "minorgridcolor": "white",
             "startlinecolor": "#2a3f5f"
            },
            "baxis": {
             "endlinecolor": "#2a3f5f",
             "gridcolor": "white",
             "linecolor": "white",
             "minorgridcolor": "white",
             "startlinecolor": "#2a3f5f"
            },
            "type": "carpet"
           }
          ],
          "choropleth": [
           {
            "colorbar": {
             "outlinewidth": 0,
             "ticks": ""
            },
            "type": "choropleth"
           }
          ],
          "contour": [
           {
            "colorbar": {
             "outlinewidth": 0,
             "ticks": ""
            },
            "colorscale": [
             [
              0,
              "#0d0887"
             ],
             [
              0.1111111111111111,
              "#46039f"
             ],
             [
              0.2222222222222222,
              "#7201a8"
             ],
             [
              0.3333333333333333,
              "#9c179e"
             ],
             [
              0.4444444444444444,
              "#bd3786"
             ],
             [
              0.5555555555555556,
              "#d8576b"
             ],
             [
              0.6666666666666666,
              "#ed7953"
             ],
             [
              0.7777777777777778,
              "#fb9f3a"
             ],
             [
              0.8888888888888888,
              "#fdca26"
             ],
             [
              1,
              "#f0f921"
             ]
            ],
            "type": "contour"
           }
          ],
          "contourcarpet": [
           {
            "colorbar": {
             "outlinewidth": 0,
             "ticks": ""
            },
            "type": "contourcarpet"
           }
          ],
          "heatmap": [
           {
            "colorbar": {
             "outlinewidth": 0,
             "ticks": ""
            },
            "colorscale": [
             [
              0,
              "#0d0887"
             ],
             [
              0.1111111111111111,
              "#46039f"
             ],
             [
              0.2222222222222222,
              "#7201a8"
             ],
             [
              0.3333333333333333,
              "#9c179e"
             ],
             [
              0.4444444444444444,
              "#bd3786"
             ],
             [
              0.5555555555555556,
              "#d8576b"
             ],
             [
              0.6666666666666666,
              "#ed7953"
             ],
             [
              0.7777777777777778,
              "#fb9f3a"
             ],
             [
              0.8888888888888888,
              "#fdca26"
             ],
             [
              1,
              "#f0f921"
             ]
            ],
            "type": "heatmap"
           }
          ],
          "heatmapgl": [
           {
            "colorbar": {
             "outlinewidth": 0,
             "ticks": ""
            },
            "colorscale": [
             [
              0,
              "#0d0887"
             ],
             [
              0.1111111111111111,
              "#46039f"
             ],
             [
              0.2222222222222222,
              "#7201a8"
             ],
             [
              0.3333333333333333,
              "#9c179e"
             ],
             [
              0.4444444444444444,
              "#bd3786"
             ],
             [
              0.5555555555555556,
              "#d8576b"
             ],
             [
              0.6666666666666666,
              "#ed7953"
             ],
             [
              0.7777777777777778,
              "#fb9f3a"
             ],
             [
              0.8888888888888888,
              "#fdca26"
             ],
             [
              1,
              "#f0f921"
             ]
            ],
            "type": "heatmapgl"
           }
          ],
          "histogram": [
           {
            "marker": {
             "pattern": {
              "fillmode": "overlay",
              "size": 10,
              "solidity": 0.2
             }
            },
            "type": "histogram"
           }
          ],
          "histogram2d": [
           {
            "colorbar": {
             "outlinewidth": 0,
             "ticks": ""
            },
            "colorscale": [
             [
              0,
              "#0d0887"
             ],
             [
              0.1111111111111111,
              "#46039f"
             ],
             [
              0.2222222222222222,
              "#7201a8"
             ],
             [
              0.3333333333333333,
              "#9c179e"
             ],
             [
              0.4444444444444444,
              "#bd3786"
             ],
             [
              0.5555555555555556,
              "#d8576b"
             ],
             [
              0.6666666666666666,
              "#ed7953"
             ],
             [
              0.7777777777777778,
              "#fb9f3a"
             ],
             [
              0.8888888888888888,
              "#fdca26"
             ],
             [
              1,
              "#f0f921"
             ]
            ],
            "type": "histogram2d"
           }
          ],
          "histogram2dcontour": [
           {
            "colorbar": {
             "outlinewidth": 0,
             "ticks": ""
            },
            "colorscale": [
             [
              0,
              "#0d0887"
             ],
             [
              0.1111111111111111,
              "#46039f"
             ],
             [
              0.2222222222222222,
              "#7201a8"
             ],
             [
              0.3333333333333333,
              "#9c179e"
             ],
             [
              0.4444444444444444,
              "#bd3786"
             ],
             [
              0.5555555555555556,
              "#d8576b"
             ],
             [
              0.6666666666666666,
              "#ed7953"
             ],
             [
              0.7777777777777778,
              "#fb9f3a"
             ],
             [
              0.8888888888888888,
              "#fdca26"
             ],
             [
              1,
              "#f0f921"
             ]
            ],
            "type": "histogram2dcontour"
           }
          ],
          "mesh3d": [
           {
            "colorbar": {
             "outlinewidth": 0,
             "ticks": ""
            },
            "type": "mesh3d"
           }
          ],
          "parcoords": [
           {
            "line": {
             "colorbar": {
              "outlinewidth": 0,
              "ticks": ""
             }
            },
            "type": "parcoords"
           }
          ],
          "pie": [
           {
            "automargin": true,
            "type": "pie"
           }
          ],
          "scatter": [
           {
            "fillpattern": {
             "fillmode": "overlay",
             "size": 10,
             "solidity": 0.2
            },
            "type": "scatter"
           }
          ],
          "scatter3d": [
           {
            "line": {
             "colorbar": {
              "outlinewidth": 0,
              "ticks": ""
             }
            },
            "marker": {
             "colorbar": {
              "outlinewidth": 0,
              "ticks": ""
             }
            },
            "type": "scatter3d"
           }
          ],
          "scattercarpet": [
           {
            "marker": {
             "colorbar": {
              "outlinewidth": 0,
              "ticks": ""
             }
            },
            "type": "scattercarpet"
           }
          ],
          "scattergeo": [
           {
            "marker": {
             "colorbar": {
              "outlinewidth": 0,
              "ticks": ""
             }
            },
            "type": "scattergeo"
           }
          ],
          "scattergl": [
           {
            "marker": {
             "colorbar": {
              "outlinewidth": 0,
              "ticks": ""
             }
            },
            "type": "scattergl"
           }
          ],
          "scattermapbox": [
           {
            "marker": {
             "colorbar": {
              "outlinewidth": 0,
              "ticks": ""
             }
            },
            "type": "scattermapbox"
           }
          ],
          "scatterpolar": [
           {
            "marker": {
             "colorbar": {
              "outlinewidth": 0,
              "ticks": ""
             }
            },
            "type": "scatterpolar"
           }
          ],
          "scatterpolargl": [
           {
            "marker": {
             "colorbar": {
              "outlinewidth": 0,
              "ticks": ""
             }
            },
            "type": "scatterpolargl"
           }
          ],
          "scatterternary": [
           {
            "marker": {
             "colorbar": {
              "outlinewidth": 0,
              "ticks": ""
             }
            },
            "type": "scatterternary"
           }
          ],
          "surface": [
           {
            "colorbar": {
             "outlinewidth": 0,
             "ticks": ""
            },
            "colorscale": [
             [
              0,
              "#0d0887"
             ],
             [
              0.1111111111111111,
              "#46039f"
             ],
             [
              0.2222222222222222,
              "#7201a8"
             ],
             [
              0.3333333333333333,
              "#9c179e"
             ],
             [
              0.4444444444444444,
              "#bd3786"
             ],
             [
              0.5555555555555556,
              "#d8576b"
             ],
             [
              0.6666666666666666,
              "#ed7953"
             ],
             [
              0.7777777777777778,
              "#fb9f3a"
             ],
             [
              0.8888888888888888,
              "#fdca26"
             ],
             [
              1,
              "#f0f921"
             ]
            ],
            "type": "surface"
           }
          ],
          "table": [
           {
            "cells": {
             "fill": {
              "color": "#EBF0F8"
             },
             "line": {
              "color": "white"
             }
            },
            "header": {
             "fill": {
              "color": "#C8D4E3"
             },
             "line": {
              "color": "white"
             }
            },
            "type": "table"
           }
          ]
         },
         "layout": {
          "annotationdefaults": {
           "arrowcolor": "#2a3f5f",
           "arrowhead": 0,
           "arrowwidth": 1
          },
          "autotypenumbers": "strict",
          "coloraxis": {
           "colorbar": {
            "outlinewidth": 0,
            "ticks": ""
           }
          },
          "colorscale": {
           "diverging": [
            [
             0,
             "#8e0152"
            ],
            [
             0.1,
             "#c51b7d"
            ],
            [
             0.2,
             "#de77ae"
            ],
            [
             0.3,
             "#f1b6da"
            ],
            [
             0.4,
             "#fde0ef"
            ],
            [
             0.5,
             "#f7f7f7"
            ],
            [
             0.6,
             "#e6f5d0"
            ],
            [
             0.7,
             "#b8e186"
            ],
            [
             0.8,
             "#7fbc41"
            ],
            [
             0.9,
             "#4d9221"
            ],
            [
             1,
             "#276419"
            ]
           ],
           "sequential": [
            [
             0,
             "#0d0887"
            ],
            [
             0.1111111111111111,
             "#46039f"
            ],
            [
             0.2222222222222222,
             "#7201a8"
            ],
            [
             0.3333333333333333,
             "#9c179e"
            ],
            [
             0.4444444444444444,
             "#bd3786"
            ],
            [
             0.5555555555555556,
             "#d8576b"
            ],
            [
             0.6666666666666666,
             "#ed7953"
            ],
            [
             0.7777777777777778,
             "#fb9f3a"
            ],
            [
             0.8888888888888888,
             "#fdca26"
            ],
            [
             1,
             "#f0f921"
            ]
           ],
           "sequentialminus": [
            [
             0,
             "#0d0887"
            ],
            [
             0.1111111111111111,
             "#46039f"
            ],
            [
             0.2222222222222222,
             "#7201a8"
            ],
            [
             0.3333333333333333,
             "#9c179e"
            ],
            [
             0.4444444444444444,
             "#bd3786"
            ],
            [
             0.5555555555555556,
             "#d8576b"
            ],
            [
             0.6666666666666666,
             "#ed7953"
            ],
            [
             0.7777777777777778,
             "#fb9f3a"
            ],
            [
             0.8888888888888888,
             "#fdca26"
            ],
            [
             1,
             "#f0f921"
            ]
           ]
          },
          "colorway": [
           "#636efa",
           "#EF553B",
           "#00cc96",
           "#ab63fa",
           "#FFA15A",
           "#19d3f3",
           "#FF6692",
           "#B6E880",
           "#FF97FF",
           "#FECB52"
          ],
          "font": {
           "color": "#2a3f5f"
          },
          "geo": {
           "bgcolor": "white",
           "lakecolor": "white",
           "landcolor": "#E5ECF6",
           "showlakes": true,
           "showland": true,
           "subunitcolor": "white"
          },
          "hoverlabel": {
           "align": "left"
          },
          "hovermode": "closest",
          "mapbox": {
           "style": "light"
          },
          "paper_bgcolor": "white",
          "plot_bgcolor": "#E5ECF6",
          "polar": {
           "angularaxis": {
            "gridcolor": "white",
            "linecolor": "white",
            "ticks": ""
           },
           "bgcolor": "#E5ECF6",
           "radialaxis": {
            "gridcolor": "white",
            "linecolor": "white",
            "ticks": ""
           }
          },
          "scene": {
           "xaxis": {
            "backgroundcolor": "#E5ECF6",
            "gridcolor": "white",
            "gridwidth": 2,
            "linecolor": "white",
            "showbackground": true,
            "ticks": "",
            "zerolinecolor": "white"
           },
           "yaxis": {
            "backgroundcolor": "#E5ECF6",
            "gridcolor": "white",
            "gridwidth": 2,
            "linecolor": "white",
            "showbackground": true,
            "ticks": "",
            "zerolinecolor": "white"
           },
           "zaxis": {
            "backgroundcolor": "#E5ECF6",
            "gridcolor": "white",
            "gridwidth": 2,
            "linecolor": "white",
            "showbackground": true,
            "ticks": "",
            "zerolinecolor": "white"
           }
          },
          "shapedefaults": {
           "line": {
            "color": "#2a3f5f"
           }
          },
          "ternary": {
           "aaxis": {
            "gridcolor": "white",
            "linecolor": "white",
            "ticks": ""
           },
           "baxis": {
            "gridcolor": "white",
            "linecolor": "white",
            "ticks": ""
           },
           "bgcolor": "#E5ECF6",
           "caxis": {
            "gridcolor": "white",
            "linecolor": "white",
            "ticks": ""
           }
          },
          "title": {
           "x": 0.05
          },
          "xaxis": {
           "automargin": true,
           "gridcolor": "white",
           "linecolor": "white",
           "ticks": "",
           "title": {
            "standoff": 15
           },
           "zerolinecolor": "white",
           "zerolinewidth": 2
          },
          "yaxis": {
           "automargin": true,
           "gridcolor": "white",
           "linecolor": "white",
           "ticks": "",
           "title": {
            "standoff": 15
           },
           "zerolinecolor": "white",
           "zerolinewidth": 2
          }
         }
        },
        "xaxis": {
         "anchor": "y",
         "domain": [
          0,
          1
         ],
         "title": {
          "text": "index"
         }
        },
        "yaxis": {
         "anchor": "x",
         "domain": [
          0,
          1
         ],
         "title": {
          "text": "value"
         }
        }
       }
      }
     },
     "metadata": {},
     "output_type": "display_data"
    }
   ],
   "source": [
    "px.line(metodos_PvP_metricas.T)"
   ]
  },
  {
   "cell_type": "markdown",
   "metadata": {},
   "source": [
    "## Métodos SoloHum"
   ]
  },
  {
   "cell_type": "code",
   "execution_count": 62,
   "metadata": {},
   "outputs": [
    {
     "data": {
      "text/html": [
       "<div>\n",
       "<style scoped>\n",
       "    .dataframe tbody tr th:only-of-type {\n",
       "        vertical-align: middle;\n",
       "    }\n",
       "\n",
       "    .dataframe tbody tr th {\n",
       "        vertical-align: top;\n",
       "    }\n",
       "\n",
       "    .dataframe thead th {\n",
       "        text-align: right;\n",
       "    }\n",
       "</style>\n",
       "<table border=\"1\" class=\"dataframe\">\n",
       "  <thead>\n",
       "    <tr style=\"text-align: right;\">\n",
       "      <th></th>\n",
       "      <th>CurvaCola</th>\n",
       "      <th>HBOS</th>\n",
       "      <th>IForest</th>\n",
       "      <th>KNN</th>\n",
       "    </tr>\n",
       "    <tr>\n",
       "      <th>fecha</th>\n",
       "      <th></th>\n",
       "      <th></th>\n",
       "      <th></th>\n",
       "      <th></th>\n",
       "    </tr>\n",
       "  </thead>\n",
       "  <tbody>\n",
       "    <tr>\n",
       "      <th>2021-11-26 11:48:00</th>\n",
       "      <td>1</td>\n",
       "      <td>0</td>\n",
       "      <td>0</td>\n",
       "      <td>0</td>\n",
       "    </tr>\n",
       "    <tr>\n",
       "      <th>2021-06-06 19:17:00</th>\n",
       "      <td>0</td>\n",
       "      <td>1</td>\n",
       "      <td>0</td>\n",
       "      <td>0</td>\n",
       "    </tr>\n",
       "    <tr>\n",
       "      <th>2021-12-04 07:59:00</th>\n",
       "      <td>1</td>\n",
       "      <td>0</td>\n",
       "      <td>0</td>\n",
       "      <td>0</td>\n",
       "    </tr>\n",
       "    <tr>\n",
       "      <th>2021-11-06 17:55:00</th>\n",
       "      <td>1</td>\n",
       "      <td>0</td>\n",
       "      <td>0</td>\n",
       "      <td>0</td>\n",
       "    </tr>\n",
       "    <tr>\n",
       "      <th>2021-05-05 08:19:00</th>\n",
       "      <td>0</td>\n",
       "      <td>0</td>\n",
       "      <td>0</td>\n",
       "      <td>0</td>\n",
       "    </tr>\n",
       "  </tbody>\n",
       "</table>\n",
       "</div>"
      ],
      "text/plain": [
       "                     CurvaCola  HBOS  IForest  KNN\n",
       "fecha                                             \n",
       "2021-11-26 11:48:00          1     0        0    0\n",
       "2021-06-06 19:17:00          0     1        0    0\n",
       "2021-12-04 07:59:00          1     0        0    0\n",
       "2021-11-06 17:55:00          1     0        0    0\n",
       "2021-05-05 08:19:00          0     0        0    0"
      ]
     },
     "execution_count": 62,
     "metadata": {},
     "output_type": "execute_result"
    }
   ],
   "source": [
    "metodos_SH = pd.read_csv('Metodos_SoloHumedades/CurvaCola/Resultados/PyOD_HBOS_completo.csv',index_col='fecha')\n",
    "metodos_SH = metodos_SH.drop('Y_pred', axis=1)\n",
    "\n",
    "metodos_SH['HBOS'] = pd.read_csv('Metodos_SoloHumedades/CurvaCola/Resultados/PyOD_HBOS_completo.csv',usecols=['fecha','Y_pred'],index_col='fecha')\n",
    "metodos_SH['IForest'] = pd.read_csv('Metodos_SoloHumedades/CurvaCola/Resultados/PyOD_IForest_completo.csv',usecols=['fecha','Y_pred'],index_col='fecha')\n",
    "metodos_SH['KNN'] = pd.read_csv('Metodos_SoloHumedades/CurvaCola/Resultados/PyOD_KNN_completo.csv',usecols=['fecha','Y_pred'],index_col='fecha')\n",
    "metodos_SH.head()"
   ]
  },
  {
   "cell_type": "markdown",
   "metadata": {},
   "source": []
  },
  {
   "cell_type": "markdown",
   "metadata": {},
   "source": [
    "### Métricas generales:"
   ]
  },
  {
   "cell_type": "code",
   "execution_count": 63,
   "metadata": {},
   "outputs": [
    {
     "data": {
      "text/html": [
       "<div>\n",
       "<style scoped>\n",
       "    .dataframe tbody tr th:only-of-type {\n",
       "        vertical-align: middle;\n",
       "    }\n",
       "\n",
       "    .dataframe tbody tr th {\n",
       "        vertical-align: top;\n",
       "    }\n",
       "\n",
       "    .dataframe thead th {\n",
       "        text-align: right;\n",
       "    }\n",
       "</style>\n",
       "<table border=\"1\" class=\"dataframe\">\n",
       "  <thead>\n",
       "    <tr style=\"text-align: right;\">\n",
       "      <th></th>\n",
       "      <th>roc_auc</th>\n",
       "      <th>accuracy</th>\n",
       "      <th>precision</th>\n",
       "      <th>kappa</th>\n",
       "      <th>sensibilidad</th>\n",
       "      <th>especificidad</th>\n",
       "    </tr>\n",
       "  </thead>\n",
       "  <tbody>\n",
       "    <tr>\n",
       "      <th>HBOS</th>\n",
       "      <td>0.507856</td>\n",
       "      <td>0.694697</td>\n",
       "      <td>0.299876</td>\n",
       "      <td>0.019765</td>\n",
       "      <td>0.106247</td>\n",
       "      <td>0.909466</td>\n",
       "    </tr>\n",
       "    <tr>\n",
       "      <th>IForest</th>\n",
       "      <td>0.517886</td>\n",
       "      <td>0.699363</td>\n",
       "      <td>0.336357</td>\n",
       "      <td>0.04454</td>\n",
       "      <td>0.127805</td>\n",
       "      <td>0.907967</td>\n",
       "    </tr>\n",
       "    <tr>\n",
       "      <th>KNN</th>\n",
       "      <td>0.513567</td>\n",
       "      <td>0.696343</td>\n",
       "      <td>0.320109</td>\n",
       "      <td>0.033824</td>\n",
       "      <td>0.120692</td>\n",
       "      <td>0.906442</td>\n",
       "    </tr>\n",
       "  </tbody>\n",
       "</table>\n",
       "</div>"
      ],
      "text/plain": [
       "          roc_auc  accuracy precision     kappa sensibilidad especificidad\n",
       "HBOS     0.507856  0.694697  0.299876  0.019765     0.106247      0.909466\n",
       "IForest  0.517886  0.699363  0.336357   0.04454     0.127805      0.907967\n",
       "KNN      0.513567  0.696343  0.320109  0.033824     0.120692      0.906442"
      ]
     },
     "execution_count": 63,
     "metadata": {},
     "output_type": "execute_result"
    }
   ],
   "source": [
    "metodos_SH_lista = ['HBOS','IForest','KNN']\n",
    "metodos_SH_metricas = calc_metricas(metodos_SH,metodos_SH_lista)\n",
    "metodos_SH_metricas"
   ]
  },
  {
   "cell_type": "code",
   "execution_count": 64,
   "metadata": {},
   "outputs": [
    {
     "data": {
      "text/html": [
       "<div>\n",
       "<style scoped>\n",
       "    .dataframe tbody tr th:only-of-type {\n",
       "        vertical-align: middle;\n",
       "    }\n",
       "\n",
       "    .dataframe tbody tr th {\n",
       "        vertical-align: top;\n",
       "    }\n",
       "\n",
       "    .dataframe thead th {\n",
       "        text-align: right;\n",
       "    }\n",
       "</style>\n",
       "<table border=\"1\" class=\"dataframe\">\n",
       "  <thead>\n",
       "    <tr style=\"text-align: right;\">\n",
       "      <th></th>\n",
       "      <th>roc_auc</th>\n",
       "      <th>accuracy</th>\n",
       "      <th>precision</th>\n",
       "      <th>kappa</th>\n",
       "      <th>sensibilidad</th>\n",
       "      <th>especificidad</th>\n",
       "    </tr>\n",
       "  </thead>\n",
       "  <tbody>\n",
       "    <tr>\n",
       "      <th>MAD_PyOD</th>\n",
       "      <td>0.517988</td>\n",
       "      <td>0.727144</td>\n",
       "      <td>0.434965</td>\n",
       "      <td>0.04912</td>\n",
       "      <td>0.068412</td>\n",
       "      <td>0.967565</td>\n",
       "    </tr>\n",
       "    <tr>\n",
       "      <th>MAD_PySAD</th>\n",
       "      <td>0.522436</td>\n",
       "      <td>0.702755</td>\n",
       "      <td>0.353586</td>\n",
       "      <td>0.05584</td>\n",
       "      <td>0.134844</td>\n",
       "      <td>0.910028</td>\n",
       "    </tr>\n",
       "    <tr>\n",
       "      <th>SAD</th>\n",
       "      <td>0.532131</td>\n",
       "      <td>0.710479</td>\n",
       "      <td>0.39117</td>\n",
       "      <td>0.080003</td>\n",
       "      <td>0.148775</td>\n",
       "      <td>0.915487</td>\n",
       "    </tr>\n",
       "  </tbody>\n",
       "</table>\n",
       "</div>"
      ],
      "text/plain": [
       "            roc_auc  accuracy precision     kappa sensibilidad especificidad\n",
       "MAD_PyOD   0.517988  0.727144  0.434965   0.04912     0.068412      0.967565\n",
       "MAD_PySAD  0.522436  0.702755  0.353586   0.05584     0.134844      0.910028\n",
       "SAD        0.532131  0.710479   0.39117  0.080003     0.148775      0.915487"
      ]
     },
     "execution_count": 64,
     "metadata": {},
     "output_type": "execute_result"
    }
   ],
   "source": [
    "metodos_PvP_metricas = calc_metricas(metodos_PvP, metodos_PvP_lista)\n",
    "metodos_PvP_metricas"
   ]
  },
  {
   "cell_type": "code",
   "execution_count": 65,
   "metadata": {},
   "outputs": [
    {
     "data": {
      "application/vnd.plotly.v1+json": {
       "config": {
        "plotlyServerURL": "https://plot.ly"
       },
       "data": [
        {
         "hovertemplate": "variable=HBOS<br>index=%{x}<br>value=%{y}<extra></extra>",
         "legendgroup": "HBOS",
         "line": {
          "color": "#636efa",
          "dash": "solid"
         },
         "marker": {
          "symbol": "circle"
         },
         "mode": "lines",
         "name": "HBOS",
         "orientation": "v",
         "showlegend": true,
         "type": "scatter",
         "x": [
          "roc_auc",
          "accuracy",
          "precision",
          "kappa",
          "sensibilidad",
          "especificidad"
         ],
         "xaxis": "x",
         "y": [
          0.5078564107779543,
          0.6946965983727086,
          0.29987582781456956,
          0.019764970193358433,
          0.10624725032996041,
          0.9094655712259481
         ],
         "yaxis": "y"
        },
        {
         "hovertemplate": "variable=IForest<br>index=%{x}<br>value=%{y}<extra></extra>",
         "legendgroup": "IForest",
         "line": {
          "color": "#EF553B",
          "dash": "solid"
         },
         "marker": {
          "symbol": "circle"
         },
         "mode": "lines",
         "name": "IForest",
         "orientation": "v",
         "showlegend": true,
         "type": "scatter",
         "x": [
          "roc_auc",
          "accuracy",
          "precision",
          "kappa",
          "sensibilidad",
          "especificidad"
         ],
         "xaxis": "x",
         "y": [
          0.5178857930630897,
          0.6993628075678855,
          0.3363566190659977,
          0.04454011737456243,
          0.12780466344038716,
          0.9079669226857923
         ],
         "yaxis": "y"
        },
        {
         "hovertemplate": "variable=KNN<br>index=%{x}<br>value=%{y}<extra></extra>",
         "legendgroup": "KNN",
         "line": {
          "color": "#00cc96",
          "dash": "solid"
         },
         "marker": {
          "symbol": "circle"
         },
         "mode": "lines",
         "name": "KNN",
         "orientation": "v",
         "showlegend": true,
         "type": "scatter",
         "x": [
          "roc_auc",
          "accuracy",
          "precision",
          "kappa",
          "sensibilidad",
          "especificidad"
         ],
         "xaxis": "x",
         "y": [
          0.5135668480845983,
          0.6963434957357122,
          0.32010890704006223,
          0.03382407971007506,
          0.12069218360463412,
          0.9064415125645623
         ],
         "yaxis": "y"
        }
       ],
       "layout": {
        "legend": {
         "title": {
          "text": "variable"
         },
         "tracegroupgap": 0
        },
        "margin": {
         "t": 60
        },
        "template": {
         "data": {
          "bar": [
           {
            "error_x": {
             "color": "#2a3f5f"
            },
            "error_y": {
             "color": "#2a3f5f"
            },
            "marker": {
             "line": {
              "color": "#E5ECF6",
              "width": 0.5
             },
             "pattern": {
              "fillmode": "overlay",
              "size": 10,
              "solidity": 0.2
             }
            },
            "type": "bar"
           }
          ],
          "barpolar": [
           {
            "marker": {
             "line": {
              "color": "#E5ECF6",
              "width": 0.5
             },
             "pattern": {
              "fillmode": "overlay",
              "size": 10,
              "solidity": 0.2
             }
            },
            "type": "barpolar"
           }
          ],
          "carpet": [
           {
            "aaxis": {
             "endlinecolor": "#2a3f5f",
             "gridcolor": "white",
             "linecolor": "white",
             "minorgridcolor": "white",
             "startlinecolor": "#2a3f5f"
            },
            "baxis": {
             "endlinecolor": "#2a3f5f",
             "gridcolor": "white",
             "linecolor": "white",
             "minorgridcolor": "white",
             "startlinecolor": "#2a3f5f"
            },
            "type": "carpet"
           }
          ],
          "choropleth": [
           {
            "colorbar": {
             "outlinewidth": 0,
             "ticks": ""
            },
            "type": "choropleth"
           }
          ],
          "contour": [
           {
            "colorbar": {
             "outlinewidth": 0,
             "ticks": ""
            },
            "colorscale": [
             [
              0,
              "#0d0887"
             ],
             [
              0.1111111111111111,
              "#46039f"
             ],
             [
              0.2222222222222222,
              "#7201a8"
             ],
             [
              0.3333333333333333,
              "#9c179e"
             ],
             [
              0.4444444444444444,
              "#bd3786"
             ],
             [
              0.5555555555555556,
              "#d8576b"
             ],
             [
              0.6666666666666666,
              "#ed7953"
             ],
             [
              0.7777777777777778,
              "#fb9f3a"
             ],
             [
              0.8888888888888888,
              "#fdca26"
             ],
             [
              1,
              "#f0f921"
             ]
            ],
            "type": "contour"
           }
          ],
          "contourcarpet": [
           {
            "colorbar": {
             "outlinewidth": 0,
             "ticks": ""
            },
            "type": "contourcarpet"
           }
          ],
          "heatmap": [
           {
            "colorbar": {
             "outlinewidth": 0,
             "ticks": ""
            },
            "colorscale": [
             [
              0,
              "#0d0887"
             ],
             [
              0.1111111111111111,
              "#46039f"
             ],
             [
              0.2222222222222222,
              "#7201a8"
             ],
             [
              0.3333333333333333,
              "#9c179e"
             ],
             [
              0.4444444444444444,
              "#bd3786"
             ],
             [
              0.5555555555555556,
              "#d8576b"
             ],
             [
              0.6666666666666666,
              "#ed7953"
             ],
             [
              0.7777777777777778,
              "#fb9f3a"
             ],
             [
              0.8888888888888888,
              "#fdca26"
             ],
             [
              1,
              "#f0f921"
             ]
            ],
            "type": "heatmap"
           }
          ],
          "heatmapgl": [
           {
            "colorbar": {
             "outlinewidth": 0,
             "ticks": ""
            },
            "colorscale": [
             [
              0,
              "#0d0887"
             ],
             [
              0.1111111111111111,
              "#46039f"
             ],
             [
              0.2222222222222222,
              "#7201a8"
             ],
             [
              0.3333333333333333,
              "#9c179e"
             ],
             [
              0.4444444444444444,
              "#bd3786"
             ],
             [
              0.5555555555555556,
              "#d8576b"
             ],
             [
              0.6666666666666666,
              "#ed7953"
             ],
             [
              0.7777777777777778,
              "#fb9f3a"
             ],
             [
              0.8888888888888888,
              "#fdca26"
             ],
             [
              1,
              "#f0f921"
             ]
            ],
            "type": "heatmapgl"
           }
          ],
          "histogram": [
           {
            "marker": {
             "pattern": {
              "fillmode": "overlay",
              "size": 10,
              "solidity": 0.2
             }
            },
            "type": "histogram"
           }
          ],
          "histogram2d": [
           {
            "colorbar": {
             "outlinewidth": 0,
             "ticks": ""
            },
            "colorscale": [
             [
              0,
              "#0d0887"
             ],
             [
              0.1111111111111111,
              "#46039f"
             ],
             [
              0.2222222222222222,
              "#7201a8"
             ],
             [
              0.3333333333333333,
              "#9c179e"
             ],
             [
              0.4444444444444444,
              "#bd3786"
             ],
             [
              0.5555555555555556,
              "#d8576b"
             ],
             [
              0.6666666666666666,
              "#ed7953"
             ],
             [
              0.7777777777777778,
              "#fb9f3a"
             ],
             [
              0.8888888888888888,
              "#fdca26"
             ],
             [
              1,
              "#f0f921"
             ]
            ],
            "type": "histogram2d"
           }
          ],
          "histogram2dcontour": [
           {
            "colorbar": {
             "outlinewidth": 0,
             "ticks": ""
            },
            "colorscale": [
             [
              0,
              "#0d0887"
             ],
             [
              0.1111111111111111,
              "#46039f"
             ],
             [
              0.2222222222222222,
              "#7201a8"
             ],
             [
              0.3333333333333333,
              "#9c179e"
             ],
             [
              0.4444444444444444,
              "#bd3786"
             ],
             [
              0.5555555555555556,
              "#d8576b"
             ],
             [
              0.6666666666666666,
              "#ed7953"
             ],
             [
              0.7777777777777778,
              "#fb9f3a"
             ],
             [
              0.8888888888888888,
              "#fdca26"
             ],
             [
              1,
              "#f0f921"
             ]
            ],
            "type": "histogram2dcontour"
           }
          ],
          "mesh3d": [
           {
            "colorbar": {
             "outlinewidth": 0,
             "ticks": ""
            },
            "type": "mesh3d"
           }
          ],
          "parcoords": [
           {
            "line": {
             "colorbar": {
              "outlinewidth": 0,
              "ticks": ""
             }
            },
            "type": "parcoords"
           }
          ],
          "pie": [
           {
            "automargin": true,
            "type": "pie"
           }
          ],
          "scatter": [
           {
            "fillpattern": {
             "fillmode": "overlay",
             "size": 10,
             "solidity": 0.2
            },
            "type": "scatter"
           }
          ],
          "scatter3d": [
           {
            "line": {
             "colorbar": {
              "outlinewidth": 0,
              "ticks": ""
             }
            },
            "marker": {
             "colorbar": {
              "outlinewidth": 0,
              "ticks": ""
             }
            },
            "type": "scatter3d"
           }
          ],
          "scattercarpet": [
           {
            "marker": {
             "colorbar": {
              "outlinewidth": 0,
              "ticks": ""
             }
            },
            "type": "scattercarpet"
           }
          ],
          "scattergeo": [
           {
            "marker": {
             "colorbar": {
              "outlinewidth": 0,
              "ticks": ""
             }
            },
            "type": "scattergeo"
           }
          ],
          "scattergl": [
           {
            "marker": {
             "colorbar": {
              "outlinewidth": 0,
              "ticks": ""
             }
            },
            "type": "scattergl"
           }
          ],
          "scattermapbox": [
           {
            "marker": {
             "colorbar": {
              "outlinewidth": 0,
              "ticks": ""
             }
            },
            "type": "scattermapbox"
           }
          ],
          "scatterpolar": [
           {
            "marker": {
             "colorbar": {
              "outlinewidth": 0,
              "ticks": ""
             }
            },
            "type": "scatterpolar"
           }
          ],
          "scatterpolargl": [
           {
            "marker": {
             "colorbar": {
              "outlinewidth": 0,
              "ticks": ""
             }
            },
            "type": "scatterpolargl"
           }
          ],
          "scatterternary": [
           {
            "marker": {
             "colorbar": {
              "outlinewidth": 0,
              "ticks": ""
             }
            },
            "type": "scatterternary"
           }
          ],
          "surface": [
           {
            "colorbar": {
             "outlinewidth": 0,
             "ticks": ""
            },
            "colorscale": [
             [
              0,
              "#0d0887"
             ],
             [
              0.1111111111111111,
              "#46039f"
             ],
             [
              0.2222222222222222,
              "#7201a8"
             ],
             [
              0.3333333333333333,
              "#9c179e"
             ],
             [
              0.4444444444444444,
              "#bd3786"
             ],
             [
              0.5555555555555556,
              "#d8576b"
             ],
             [
              0.6666666666666666,
              "#ed7953"
             ],
             [
              0.7777777777777778,
              "#fb9f3a"
             ],
             [
              0.8888888888888888,
              "#fdca26"
             ],
             [
              1,
              "#f0f921"
             ]
            ],
            "type": "surface"
           }
          ],
          "table": [
           {
            "cells": {
             "fill": {
              "color": "#EBF0F8"
             },
             "line": {
              "color": "white"
             }
            },
            "header": {
             "fill": {
              "color": "#C8D4E3"
             },
             "line": {
              "color": "white"
             }
            },
            "type": "table"
           }
          ]
         },
         "layout": {
          "annotationdefaults": {
           "arrowcolor": "#2a3f5f",
           "arrowhead": 0,
           "arrowwidth": 1
          },
          "autotypenumbers": "strict",
          "coloraxis": {
           "colorbar": {
            "outlinewidth": 0,
            "ticks": ""
           }
          },
          "colorscale": {
           "diverging": [
            [
             0,
             "#8e0152"
            ],
            [
             0.1,
             "#c51b7d"
            ],
            [
             0.2,
             "#de77ae"
            ],
            [
             0.3,
             "#f1b6da"
            ],
            [
             0.4,
             "#fde0ef"
            ],
            [
             0.5,
             "#f7f7f7"
            ],
            [
             0.6,
             "#e6f5d0"
            ],
            [
             0.7,
             "#b8e186"
            ],
            [
             0.8,
             "#7fbc41"
            ],
            [
             0.9,
             "#4d9221"
            ],
            [
             1,
             "#276419"
            ]
           ],
           "sequential": [
            [
             0,
             "#0d0887"
            ],
            [
             0.1111111111111111,
             "#46039f"
            ],
            [
             0.2222222222222222,
             "#7201a8"
            ],
            [
             0.3333333333333333,
             "#9c179e"
            ],
            [
             0.4444444444444444,
             "#bd3786"
            ],
            [
             0.5555555555555556,
             "#d8576b"
            ],
            [
             0.6666666666666666,
             "#ed7953"
            ],
            [
             0.7777777777777778,
             "#fb9f3a"
            ],
            [
             0.8888888888888888,
             "#fdca26"
            ],
            [
             1,
             "#f0f921"
            ]
           ],
           "sequentialminus": [
            [
             0,
             "#0d0887"
            ],
            [
             0.1111111111111111,
             "#46039f"
            ],
            [
             0.2222222222222222,
             "#7201a8"
            ],
            [
             0.3333333333333333,
             "#9c179e"
            ],
            [
             0.4444444444444444,
             "#bd3786"
            ],
            [
             0.5555555555555556,
             "#d8576b"
            ],
            [
             0.6666666666666666,
             "#ed7953"
            ],
            [
             0.7777777777777778,
             "#fb9f3a"
            ],
            [
             0.8888888888888888,
             "#fdca26"
            ],
            [
             1,
             "#f0f921"
            ]
           ]
          },
          "colorway": [
           "#636efa",
           "#EF553B",
           "#00cc96",
           "#ab63fa",
           "#FFA15A",
           "#19d3f3",
           "#FF6692",
           "#B6E880",
           "#FF97FF",
           "#FECB52"
          ],
          "font": {
           "color": "#2a3f5f"
          },
          "geo": {
           "bgcolor": "white",
           "lakecolor": "white",
           "landcolor": "#E5ECF6",
           "showlakes": true,
           "showland": true,
           "subunitcolor": "white"
          },
          "hoverlabel": {
           "align": "left"
          },
          "hovermode": "closest",
          "mapbox": {
           "style": "light"
          },
          "paper_bgcolor": "white",
          "plot_bgcolor": "#E5ECF6",
          "polar": {
           "angularaxis": {
            "gridcolor": "white",
            "linecolor": "white",
            "ticks": ""
           },
           "bgcolor": "#E5ECF6",
           "radialaxis": {
            "gridcolor": "white",
            "linecolor": "white",
            "ticks": ""
           }
          },
          "scene": {
           "xaxis": {
            "backgroundcolor": "#E5ECF6",
            "gridcolor": "white",
            "gridwidth": 2,
            "linecolor": "white",
            "showbackground": true,
            "ticks": "",
            "zerolinecolor": "white"
           },
           "yaxis": {
            "backgroundcolor": "#E5ECF6",
            "gridcolor": "white",
            "gridwidth": 2,
            "linecolor": "white",
            "showbackground": true,
            "ticks": "",
            "zerolinecolor": "white"
           },
           "zaxis": {
            "backgroundcolor": "#E5ECF6",
            "gridcolor": "white",
            "gridwidth": 2,
            "linecolor": "white",
            "showbackground": true,
            "ticks": "",
            "zerolinecolor": "white"
           }
          },
          "shapedefaults": {
           "line": {
            "color": "#2a3f5f"
           }
          },
          "ternary": {
           "aaxis": {
            "gridcolor": "white",
            "linecolor": "white",
            "ticks": ""
           },
           "baxis": {
            "gridcolor": "white",
            "linecolor": "white",
            "ticks": ""
           },
           "bgcolor": "#E5ECF6",
           "caxis": {
            "gridcolor": "white",
            "linecolor": "white",
            "ticks": ""
           }
          },
          "title": {
           "x": 0.05
          },
          "xaxis": {
           "automargin": true,
           "gridcolor": "white",
           "linecolor": "white",
           "ticks": "",
           "title": {
            "standoff": 15
           },
           "zerolinecolor": "white",
           "zerolinewidth": 2
          },
          "yaxis": {
           "automargin": true,
           "gridcolor": "white",
           "linecolor": "white",
           "ticks": "",
           "title": {
            "standoff": 15
           },
           "zerolinecolor": "white",
           "zerolinewidth": 2
          }
         }
        },
        "xaxis": {
         "anchor": "y",
         "domain": [
          0,
          1
         ],
         "title": {
          "text": "index"
         }
        },
        "yaxis": {
         "anchor": "x",
         "domain": [
          0,
          1
         ],
         "title": {
          "text": "value"
         }
        }
       }
      }
     },
     "metadata": {},
     "output_type": "display_data"
    }
   ],
   "source": [
    "px.line(metodos_SH_metricas.T)"
   ]
  },
  {
   "cell_type": "markdown",
   "metadata": {},
   "source": [
    "## Resumen Final"
   ]
  },
  {
   "cell_type": "code",
   "execution_count": 66,
   "metadata": {},
   "outputs": [
    {
     "data": {
      "application/vnd.plotly.v1+json": {
       "config": {
        "plotlyServerURL": "https://plot.ly"
       },
       "data": [
        {
         "hovertemplate": "variable=HBOS_general<br>index=%{x}<br>value=%{y}<extra></extra>",
         "legendgroup": "HBOS_general",
         "line": {
          "color": "#636efa",
          "dash": "solid"
         },
         "marker": {
          "symbol": "circle"
         },
         "mode": "lines",
         "name": "HBOS_general",
         "orientation": "v",
         "showlegend": true,
         "type": "scatter",
         "x": [
          "roc_auc",
          "accuracy",
          "precision",
          "kappa",
          "sensibilidad",
          "especificidad"
         ],
         "xaxis": "x",
         "y": [
          0.5062102213125457,
          0.689657876678757,
          0.2910547396528705,
          0.01543771262972693,
          0.11189323947792931,
          0.900527203147162
         ],
         "yaxis": "y"
        },
        {
         "hovertemplate": "variable=IForest_general<br>index=%{x}<br>value=%{y}<extra></extra>",
         "legendgroup": "IForest_general",
         "line": {
          "color": "#EF553B",
          "dash": "solid"
         },
         "marker": {
          "symbol": "circle"
         },
         "mode": "lines",
         "name": "IForest_general",
         "orientation": "v",
         "showlegend": true,
         "type": "scatter",
         "x": [
          "roc_auc",
          "accuracy",
          "precision",
          "kappa",
          "sensibilidad",
          "especificidad"
         ],
         "xaxis": "x",
         "y": [
          0.5111002782109481,
          0.6941280266640525,
          0.3102648366518461,
          0.027649694645782152,
          0.11768587769467664,
          0.9045146787272192
         ],
         "yaxis": "y"
        },
        {
         "hovertemplate": "variable=KNN_general<br>index=%{x}<br>value=%{y}<extra></extra>",
         "legendgroup": "KNN_general",
         "line": {
          "color": "#00cc96",
          "dash": "solid"
         },
         "marker": {
          "symbol": "circle"
         },
         "mode": "lines",
         "name": "KNN_general",
         "orientation": "v",
         "showlegend": true,
         "type": "scatter",
         "x": [
          "roc_auc",
          "accuracy",
          "precision",
          "kappa",
          "sensibilidad",
          "especificidad"
         ],
         "xaxis": "x",
         "y": [
          0.5093100053584778,
          0.6938927556121949,
          0.30426164519326065,
          0.023276693069072873,
          0.11255316028743217,
          0.9060668504295234
         ],
         "yaxis": "y"
        },
        {
         "hovertemplate": "variable=LODA_general<br>index=%{x}<br>value=%{y}<extra></extra>",
         "legendgroup": "LODA_general",
         "line": {
          "color": "#ab63fa",
          "dash": "solid"
         },
         "marker": {
          "symbol": "circle"
         },
         "mode": "lines",
         "name": "LODA_general",
         "orientation": "v",
         "showlegend": true,
         "type": "scatter",
         "x": [
          "roc_auc",
          "accuracy",
          "precision",
          "kappa",
          "sensibilidad",
          "especificidad"
         ],
         "xaxis": "x",
         "y": [
          0.507535701544487,
          0.6909518674639741,
          0.2962607861936721,
          0.018747855205374364,
          0.11328640563132424,
          0.9017849974576498
         ],
         "yaxis": "y"
        },
        {
         "hovertemplate": "variable=MAD_PyOD_general<br>index=%{x}<br>value=%{y}<extra></extra>",
         "legendgroup": "MAD_PyOD_general",
         "line": {
          "color": "#FFA15A",
          "dash": "solid"
         },
         "marker": {
          "symbol": "circle"
         },
         "mode": "lines",
         "name": "MAD_PyOD_general",
         "orientation": "v",
         "showlegend": true,
         "type": "scatter",
         "x": [
          "roc_auc",
          "accuracy",
          "precision",
          "kappa",
          "sensibilidad",
          "especificidad"
         ],
         "xaxis": "x",
         "y": [
          0.4968588844404906,
          0.7246348397215959,
          0.16363636363636364,
          -0.009018775484586294,
          0.007259128904531456,
          0.9864586399764498
         ],
         "yaxis": "y"
        },
        {
         "hovertemplate": "variable=MCD_general<br>index=%{x}<br>value=%{y}<extra></extra>",
         "legendgroup": "MCD_general",
         "line": {
          "color": "#19d3f3",
          "dash": "solid"
         },
         "marker": {
          "symbol": "circle"
         },
         "mode": "lines",
         "name": "MCD_general",
         "orientation": "v",
         "showlegend": true,
         "type": "scatter",
         "x": [
          "roc_auc",
          "accuracy",
          "precision",
          "kappa",
          "sensibilidad",
          "especificidad"
         ],
         "xaxis": "x",
         "y": [
          0.5162691732021104,
          0.6984609352024311,
          0.3306106573317775,
          0.040561360145980996,
          0.12465170846165127,
          0.9078866379425696
         ],
         "yaxis": "y"
        },
        {
         "hovertemplate": "variable=IForestASD_general<br>index=%{x}<br>value=%{y}<extra></extra>",
         "legendgroup": "IForestASD_general",
         "line": {
          "color": "#FF6692",
          "dash": "solid"
         },
         "marker": {
          "symbol": "circle"
         },
         "mode": "lines",
         "name": "IForestASD_general",
         "orientation": "v",
         "showlegend": true,
         "type": "scatter",
         "x": [
          "roc_auc",
          "accuracy",
          "precision",
          "kappa",
          "sensibilidad",
          "especificidad"
         ],
         "xaxis": "x",
         "y": [
          0.511880706588784,
          0.647309087344378,
          0.29027282367685336,
          0.025716205359152755,
          0.22078017304590117,
          0.8029812401316669
         ],
         "yaxis": "y"
        },
        {
         "hovertemplate": "variable=MAD_PySAD_general<br>index=%{x}<br>value=%{y}<extra></extra>",
         "legendgroup": "MAD_PySAD_general",
         "line": {
          "color": "#B6E880",
          "dash": "solid"
         },
         "marker": {
          "symbol": "circle"
         },
         "mode": "lines",
         "name": "MAD_PySAD_general",
         "orientation": "v",
         "showlegend": true,
         "type": "scatter",
         "x": [
          "roc_auc",
          "accuracy",
          "precision",
          "kappa",
          "sensibilidad",
          "especificidad"
         ],
         "xaxis": "x",
         "y": [
          0.4959330991555667,
          0.720105871973336,
          0.18786692759295498,
          -0.011516383634895044,
          0.014078310602727673,
          0.9777878877084059
         ],
         "yaxis": "y"
        },
        {
         "hovertemplate": "variable=SAD_general<br>index=%{x}<br>value=%{y}<extra></extra>",
         "legendgroup": "SAD_general",
         "line": {
          "color": "#FF97FF",
          "dash": "solid"
         },
         "marker": {
          "symbol": "circle"
         },
         "mode": "lines",
         "name": "SAD_general",
         "orientation": "v",
         "showlegend": true,
         "type": "scatter",
         "x": [
          "roc_auc",
          "accuracy",
          "precision",
          "kappa",
          "sensibilidad",
          "especificidad"
         ],
         "xaxis": "x",
         "y": [
          0.4958731554117147,
          0.7200862660523478,
          0.18645731108930325,
          -0.01168728416615683,
          0.01393166153394926,
          0.97781464928948
         ],
         "yaxis": "y"
        },
        {
         "hovertemplate": "variable=xStream_general<br>index=%{x}<br>value=%{y}<extra></extra>",
         "legendgroup": "xStream_general",
         "line": {
          "color": "#FECB52",
          "dash": "solid"
         },
         "marker": {
          "symbol": "circle"
         },
         "mode": "lines",
         "name": "xStream_general",
         "orientation": "v",
         "showlegend": true,
         "type": "scatter",
         "x": [
          "roc_auc",
          "accuracy",
          "precision",
          "kappa",
          "sensibilidad",
          "especificidad"
         ],
         "xaxis": "x",
         "y": [
          0.5130014228534946,
          0.6388197235565141,
          0.29017543859649125,
          0.027432169976054244,
          0.24255755975949553,
          0.7834452859474937
         ],
         "yaxis": "y"
        },
        {
         "hovertemplate": "variable=HTM_general<br>index=%{x}<br>value=%{y}<extra></extra>",
         "legendgroup": "HTM_general",
         "line": {
          "color": "#636efa",
          "dash": "solid"
         },
         "marker": {
          "symbol": "circle"
         },
         "mode": "lines",
         "name": "HTM_general",
         "orientation": "v",
         "showlegend": true,
         "type": "scatter",
         "x": [
          "roc_auc",
          "accuracy",
          "precision",
          "kappa",
          "sensibilidad",
          "especificidad"
         ],
         "xaxis": "x",
         "y": [
          0.4966172319539453,
          0.7295794529948044,
          0.046753246753246755,
          -0.009840622566781976,
          0.0010655931802036466,
          0.9921688707276869
         ],
         "yaxis": "y"
        },
        {
         "hovertemplate": "variable=IForest_NvS<br>index=%{x}<br>value=%{y}<extra></extra>",
         "legendgroup": "IForest_NvS",
         "line": {
          "color": "#EF553B",
          "dash": "solid"
         },
         "marker": {
          "symbol": "circle"
         },
         "mode": "lines",
         "name": "IForest_NvS",
         "orientation": "v",
         "showlegend": true,
         "type": "scatter",
         "x": [
          "roc_auc",
          "accuracy",
          "precision",
          "kappa",
          "sensibilidad",
          "especificidad"
         ],
         "xaxis": "x",
         "y": [
          0.4957446142671299,
          0.6840113714341731,
          0.25025186379206127,
          -0.010664683590140944,
          0.09106907171139464,
          0.9004201568228651
         ],
         "yaxis": "y"
        },
        {
         "hovertemplate": "variable=MAD_NvS<br>index=%{x}<br>value=%{y}<extra></extra>",
         "legendgroup": "MAD_NvS",
         "line": {
          "color": "#00cc96",
          "dash": "solid"
         },
         "marker": {
          "symbol": "circle"
         },
         "mode": "lines",
         "name": "MAD_NvS",
         "orientation": "v",
         "showlegend": true,
         "type": "scatter",
         "x": [
          "roc_auc",
          "accuracy",
          "precision",
          "kappa",
          "sensibilidad",
          "especificidad"
         ],
         "xaxis": "x",
         "y": [
          0.5041581007727802,
          0.7268699147142437,
          0.3515704154002026,
          0.011788237970513316,
          0.0254436134330547,
          0.9828725881125057
         ],
         "yaxis": "y"
        },
        {
         "hovertemplate": "variable=HTM_NvS<br>index=%{x}<br>value=%{y}<extra></extra>",
         "legendgroup": "HTM_NvS",
         "line": {
          "color": "#ab63fa",
          "dash": "solid"
         },
         "marker": {
          "symbol": "circle"
         },
         "mode": "lines",
         "name": "HTM_NvS",
         "orientation": "v",
         "showlegend": true,
         "type": "scatter",
         "x": [
          "roc_auc",
          "accuracy",
          "precision",
          "kappa",
          "sensibilidad",
          "especificidad"
         ],
         "xaxis": "x",
         "y": [
          0.45654362201408527,
          0.6660680325458288,
          0.03845952043653917,
          -0.11281177927609898,
          0.010848330570684347,
          0.9022389134574863
         ],
         "yaxis": "y"
        },
        {
         "hovertemplate": "variable=MAD_PyOD_PvP<br>index=%{x}<br>value=%{y}<extra></extra>",
         "legendgroup": "MAD_PyOD_PvP",
         "line": {
          "color": "#FFA15A",
          "dash": "solid"
         },
         "marker": {
          "symbol": "circle"
         },
         "mode": "lines",
         "name": "MAD_PyOD_PvP",
         "orientation": "v",
         "showlegend": true,
         "type": "scatter",
         "x": [
          "roc_auc",
          "accuracy",
          "precision",
          "kappa",
          "sensibilidad",
          "especificidad"
         ],
         "xaxis": "x",
         "y": [
          0.5179883771615937,
          0.7271443976080776,
          0.43496503496503497,
          0.04911998601161227,
          0.06841179058512978,
          0.9675649637380577
         ],
         "yaxis": "y"
        },
        {
         "hovertemplate": "variable=MAD_PySAD_PvP<br>index=%{x}<br>value=%{y}<extra></extra>",
         "legendgroup": "MAD_PySAD_PvP",
         "line": {
          "color": "#19d3f3",
          "dash": "solid"
         },
         "marker": {
          "symbol": "circle"
         },
         "mode": "lines",
         "name": "MAD_PySAD_PvP",
         "orientation": "v",
         "showlegend": true,
         "type": "scatter",
         "x": [
          "roc_auc",
          "accuracy",
          "precision",
          "kappa",
          "sensibilidad",
          "especificidad"
         ],
         "xaxis": "x",
         "y": [
          0.5224356915851286,
          0.7027546318988335,
          0.3535858488752163,
          0.055839752205340654,
          0.134843818741751,
          0.9100275644285064
         ],
         "yaxis": "y"
        },
        {
         "hovertemplate": "variable=SAD_PvP<br>index=%{x}<br>value=%{y}<extra></extra>",
         "legendgroup": "SAD_PvP",
         "line": {
          "color": "#FF6692",
          "dash": "solid"
         },
         "marker": {
          "symbol": "circle"
         },
         "mode": "lines",
         "name": "SAD_PvP",
         "orientation": "v",
         "showlegend": true,
         "type": "scatter",
         "x": [
          "roc_auc",
          "accuracy",
          "precision",
          "kappa",
          "sensibilidad",
          "especificidad"
         ],
         "xaxis": "x",
         "y": [
          0.5321312036216727,
          0.71047936476816,
          0.39117023327549644,
          0.0800031720977622,
          0.14877548027570026,
          0.9154869269676452
         ],
         "yaxis": "y"
        },
        {
         "hovertemplate": "variable=HBOS_SH<br>index=%{x}<br>value=%{y}<extra></extra>",
         "legendgroup": "HBOS_SH",
         "line": {
          "color": "#B6E880",
          "dash": "solid"
         },
         "marker": {
          "symbol": "circle"
         },
         "mode": "lines",
         "name": "HBOS_SH",
         "orientation": "v",
         "showlegend": true,
         "type": "scatter",
         "x": [
          "roc_auc",
          "accuracy",
          "precision",
          "kappa",
          "sensibilidad",
          "especificidad"
         ],
         "xaxis": "x",
         "y": [
          0.5078564107779543,
          0.6946965983727086,
          0.29987582781456956,
          0.019764970193358433,
          0.10624725032996041,
          0.9094655712259481
         ],
         "yaxis": "y"
        },
        {
         "hovertemplate": "variable=IForest_SH<br>index=%{x}<br>value=%{y}<extra></extra>",
         "legendgroup": "IForest_SH",
         "line": {
          "color": "#FF97FF",
          "dash": "solid"
         },
         "marker": {
          "symbol": "circle"
         },
         "mode": "lines",
         "name": "IForest_SH",
         "orientation": "v",
         "showlegend": true,
         "type": "scatter",
         "x": [
          "roc_auc",
          "accuracy",
          "precision",
          "kappa",
          "sensibilidad",
          "especificidad"
         ],
         "xaxis": "x",
         "y": [
          0.5178857930630897,
          0.6993628075678855,
          0.3363566190659977,
          0.04454011737456243,
          0.12780466344038716,
          0.9079669226857923
         ],
         "yaxis": "y"
        },
        {
         "hovertemplate": "variable=KNN_SH<br>index=%{x}<br>value=%{y}<extra></extra>",
         "legendgroup": "KNN_SH",
         "line": {
          "color": "#FECB52",
          "dash": "solid"
         },
         "marker": {
          "symbol": "circle"
         },
         "mode": "lines",
         "name": "KNN_SH",
         "orientation": "v",
         "showlegend": true,
         "type": "scatter",
         "x": [
          "roc_auc",
          "accuracy",
          "precision",
          "kappa",
          "sensibilidad",
          "especificidad"
         ],
         "xaxis": "x",
         "y": [
          0.5135668480845983,
          0.6963434957357122,
          0.32010890704006223,
          0.03382407971007506,
          0.12069218360463412,
          0.9064415125645623
         ],
         "yaxis": "y"
        }
       ],
       "layout": {
        "legend": {
         "title": {
          "text": "variable"
         },
         "tracegroupgap": 0
        },
        "margin": {
         "t": 60
        },
        "template": {
         "data": {
          "bar": [
           {
            "error_x": {
             "color": "#2a3f5f"
            },
            "error_y": {
             "color": "#2a3f5f"
            },
            "marker": {
             "line": {
              "color": "#E5ECF6",
              "width": 0.5
             },
             "pattern": {
              "fillmode": "overlay",
              "size": 10,
              "solidity": 0.2
             }
            },
            "type": "bar"
           }
          ],
          "barpolar": [
           {
            "marker": {
             "line": {
              "color": "#E5ECF6",
              "width": 0.5
             },
             "pattern": {
              "fillmode": "overlay",
              "size": 10,
              "solidity": 0.2
             }
            },
            "type": "barpolar"
           }
          ],
          "carpet": [
           {
            "aaxis": {
             "endlinecolor": "#2a3f5f",
             "gridcolor": "white",
             "linecolor": "white",
             "minorgridcolor": "white",
             "startlinecolor": "#2a3f5f"
            },
            "baxis": {
             "endlinecolor": "#2a3f5f",
             "gridcolor": "white",
             "linecolor": "white",
             "minorgridcolor": "white",
             "startlinecolor": "#2a3f5f"
            },
            "type": "carpet"
           }
          ],
          "choropleth": [
           {
            "colorbar": {
             "outlinewidth": 0,
             "ticks": ""
            },
            "type": "choropleth"
           }
          ],
          "contour": [
           {
            "colorbar": {
             "outlinewidth": 0,
             "ticks": ""
            },
            "colorscale": [
             [
              0,
              "#0d0887"
             ],
             [
              0.1111111111111111,
              "#46039f"
             ],
             [
              0.2222222222222222,
              "#7201a8"
             ],
             [
              0.3333333333333333,
              "#9c179e"
             ],
             [
              0.4444444444444444,
              "#bd3786"
             ],
             [
              0.5555555555555556,
              "#d8576b"
             ],
             [
              0.6666666666666666,
              "#ed7953"
             ],
             [
              0.7777777777777778,
              "#fb9f3a"
             ],
             [
              0.8888888888888888,
              "#fdca26"
             ],
             [
              1,
              "#f0f921"
             ]
            ],
            "type": "contour"
           }
          ],
          "contourcarpet": [
           {
            "colorbar": {
             "outlinewidth": 0,
             "ticks": ""
            },
            "type": "contourcarpet"
           }
          ],
          "heatmap": [
           {
            "colorbar": {
             "outlinewidth": 0,
             "ticks": ""
            },
            "colorscale": [
             [
              0,
              "#0d0887"
             ],
             [
              0.1111111111111111,
              "#46039f"
             ],
             [
              0.2222222222222222,
              "#7201a8"
             ],
             [
              0.3333333333333333,
              "#9c179e"
             ],
             [
              0.4444444444444444,
              "#bd3786"
             ],
             [
              0.5555555555555556,
              "#d8576b"
             ],
             [
              0.6666666666666666,
              "#ed7953"
             ],
             [
              0.7777777777777778,
              "#fb9f3a"
             ],
             [
              0.8888888888888888,
              "#fdca26"
             ],
             [
              1,
              "#f0f921"
             ]
            ],
            "type": "heatmap"
           }
          ],
          "heatmapgl": [
           {
            "colorbar": {
             "outlinewidth": 0,
             "ticks": ""
            },
            "colorscale": [
             [
              0,
              "#0d0887"
             ],
             [
              0.1111111111111111,
              "#46039f"
             ],
             [
              0.2222222222222222,
              "#7201a8"
             ],
             [
              0.3333333333333333,
              "#9c179e"
             ],
             [
              0.4444444444444444,
              "#bd3786"
             ],
             [
              0.5555555555555556,
              "#d8576b"
             ],
             [
              0.6666666666666666,
              "#ed7953"
             ],
             [
              0.7777777777777778,
              "#fb9f3a"
             ],
             [
              0.8888888888888888,
              "#fdca26"
             ],
             [
              1,
              "#f0f921"
             ]
            ],
            "type": "heatmapgl"
           }
          ],
          "histogram": [
           {
            "marker": {
             "pattern": {
              "fillmode": "overlay",
              "size": 10,
              "solidity": 0.2
             }
            },
            "type": "histogram"
           }
          ],
          "histogram2d": [
           {
            "colorbar": {
             "outlinewidth": 0,
             "ticks": ""
            },
            "colorscale": [
             [
              0,
              "#0d0887"
             ],
             [
              0.1111111111111111,
              "#46039f"
             ],
             [
              0.2222222222222222,
              "#7201a8"
             ],
             [
              0.3333333333333333,
              "#9c179e"
             ],
             [
              0.4444444444444444,
              "#bd3786"
             ],
             [
              0.5555555555555556,
              "#d8576b"
             ],
             [
              0.6666666666666666,
              "#ed7953"
             ],
             [
              0.7777777777777778,
              "#fb9f3a"
             ],
             [
              0.8888888888888888,
              "#fdca26"
             ],
             [
              1,
              "#f0f921"
             ]
            ],
            "type": "histogram2d"
           }
          ],
          "histogram2dcontour": [
           {
            "colorbar": {
             "outlinewidth": 0,
             "ticks": ""
            },
            "colorscale": [
             [
              0,
              "#0d0887"
             ],
             [
              0.1111111111111111,
              "#46039f"
             ],
             [
              0.2222222222222222,
              "#7201a8"
             ],
             [
              0.3333333333333333,
              "#9c179e"
             ],
             [
              0.4444444444444444,
              "#bd3786"
             ],
             [
              0.5555555555555556,
              "#d8576b"
             ],
             [
              0.6666666666666666,
              "#ed7953"
             ],
             [
              0.7777777777777778,
              "#fb9f3a"
             ],
             [
              0.8888888888888888,
              "#fdca26"
             ],
             [
              1,
              "#f0f921"
             ]
            ],
            "type": "histogram2dcontour"
           }
          ],
          "mesh3d": [
           {
            "colorbar": {
             "outlinewidth": 0,
             "ticks": ""
            },
            "type": "mesh3d"
           }
          ],
          "parcoords": [
           {
            "line": {
             "colorbar": {
              "outlinewidth": 0,
              "ticks": ""
             }
            },
            "type": "parcoords"
           }
          ],
          "pie": [
           {
            "automargin": true,
            "type": "pie"
           }
          ],
          "scatter": [
           {
            "fillpattern": {
             "fillmode": "overlay",
             "size": 10,
             "solidity": 0.2
            },
            "type": "scatter"
           }
          ],
          "scatter3d": [
           {
            "line": {
             "colorbar": {
              "outlinewidth": 0,
              "ticks": ""
             }
            },
            "marker": {
             "colorbar": {
              "outlinewidth": 0,
              "ticks": ""
             }
            },
            "type": "scatter3d"
           }
          ],
          "scattercarpet": [
           {
            "marker": {
             "colorbar": {
              "outlinewidth": 0,
              "ticks": ""
             }
            },
            "type": "scattercarpet"
           }
          ],
          "scattergeo": [
           {
            "marker": {
             "colorbar": {
              "outlinewidth": 0,
              "ticks": ""
             }
            },
            "type": "scattergeo"
           }
          ],
          "scattergl": [
           {
            "marker": {
             "colorbar": {
              "outlinewidth": 0,
              "ticks": ""
             }
            },
            "type": "scattergl"
           }
          ],
          "scattermapbox": [
           {
            "marker": {
             "colorbar": {
              "outlinewidth": 0,
              "ticks": ""
             }
            },
            "type": "scattermapbox"
           }
          ],
          "scatterpolar": [
           {
            "marker": {
             "colorbar": {
              "outlinewidth": 0,
              "ticks": ""
             }
            },
            "type": "scatterpolar"
           }
          ],
          "scatterpolargl": [
           {
            "marker": {
             "colorbar": {
              "outlinewidth": 0,
              "ticks": ""
             }
            },
            "type": "scatterpolargl"
           }
          ],
          "scatterternary": [
           {
            "marker": {
             "colorbar": {
              "outlinewidth": 0,
              "ticks": ""
             }
            },
            "type": "scatterternary"
           }
          ],
          "surface": [
           {
            "colorbar": {
             "outlinewidth": 0,
             "ticks": ""
            },
            "colorscale": [
             [
              0,
              "#0d0887"
             ],
             [
              0.1111111111111111,
              "#46039f"
             ],
             [
              0.2222222222222222,
              "#7201a8"
             ],
             [
              0.3333333333333333,
              "#9c179e"
             ],
             [
              0.4444444444444444,
              "#bd3786"
             ],
             [
              0.5555555555555556,
              "#d8576b"
             ],
             [
              0.6666666666666666,
              "#ed7953"
             ],
             [
              0.7777777777777778,
              "#fb9f3a"
             ],
             [
              0.8888888888888888,
              "#fdca26"
             ],
             [
              1,
              "#f0f921"
             ]
            ],
            "type": "surface"
           }
          ],
          "table": [
           {
            "cells": {
             "fill": {
              "color": "#EBF0F8"
             },
             "line": {
              "color": "white"
             }
            },
            "header": {
             "fill": {
              "color": "#C8D4E3"
             },
             "line": {
              "color": "white"
             }
            },
            "type": "table"
           }
          ]
         },
         "layout": {
          "annotationdefaults": {
           "arrowcolor": "#2a3f5f",
           "arrowhead": 0,
           "arrowwidth": 1
          },
          "autotypenumbers": "strict",
          "coloraxis": {
           "colorbar": {
            "outlinewidth": 0,
            "ticks": ""
           }
          },
          "colorscale": {
           "diverging": [
            [
             0,
             "#8e0152"
            ],
            [
             0.1,
             "#c51b7d"
            ],
            [
             0.2,
             "#de77ae"
            ],
            [
             0.3,
             "#f1b6da"
            ],
            [
             0.4,
             "#fde0ef"
            ],
            [
             0.5,
             "#f7f7f7"
            ],
            [
             0.6,
             "#e6f5d0"
            ],
            [
             0.7,
             "#b8e186"
            ],
            [
             0.8,
             "#7fbc41"
            ],
            [
             0.9,
             "#4d9221"
            ],
            [
             1,
             "#276419"
            ]
           ],
           "sequential": [
            [
             0,
             "#0d0887"
            ],
            [
             0.1111111111111111,
             "#46039f"
            ],
            [
             0.2222222222222222,
             "#7201a8"
            ],
            [
             0.3333333333333333,
             "#9c179e"
            ],
            [
             0.4444444444444444,
             "#bd3786"
            ],
            [
             0.5555555555555556,
             "#d8576b"
            ],
            [
             0.6666666666666666,
             "#ed7953"
            ],
            [
             0.7777777777777778,
             "#fb9f3a"
            ],
            [
             0.8888888888888888,
             "#fdca26"
            ],
            [
             1,
             "#f0f921"
            ]
           ],
           "sequentialminus": [
            [
             0,
             "#0d0887"
            ],
            [
             0.1111111111111111,
             "#46039f"
            ],
            [
             0.2222222222222222,
             "#7201a8"
            ],
            [
             0.3333333333333333,
             "#9c179e"
            ],
            [
             0.4444444444444444,
             "#bd3786"
            ],
            [
             0.5555555555555556,
             "#d8576b"
            ],
            [
             0.6666666666666666,
             "#ed7953"
            ],
            [
             0.7777777777777778,
             "#fb9f3a"
            ],
            [
             0.8888888888888888,
             "#fdca26"
            ],
            [
             1,
             "#f0f921"
            ]
           ]
          },
          "colorway": [
           "#636efa",
           "#EF553B",
           "#00cc96",
           "#ab63fa",
           "#FFA15A",
           "#19d3f3",
           "#FF6692",
           "#B6E880",
           "#FF97FF",
           "#FECB52"
          ],
          "font": {
           "color": "#2a3f5f"
          },
          "geo": {
           "bgcolor": "white",
           "lakecolor": "white",
           "landcolor": "#E5ECF6",
           "showlakes": true,
           "showland": true,
           "subunitcolor": "white"
          },
          "hoverlabel": {
           "align": "left"
          },
          "hovermode": "closest",
          "mapbox": {
           "style": "light"
          },
          "paper_bgcolor": "white",
          "plot_bgcolor": "#E5ECF6",
          "polar": {
           "angularaxis": {
            "gridcolor": "white",
            "linecolor": "white",
            "ticks": ""
           },
           "bgcolor": "#E5ECF6",
           "radialaxis": {
            "gridcolor": "white",
            "linecolor": "white",
            "ticks": ""
           }
          },
          "scene": {
           "xaxis": {
            "backgroundcolor": "#E5ECF6",
            "gridcolor": "white",
            "gridwidth": 2,
            "linecolor": "white",
            "showbackground": true,
            "ticks": "",
            "zerolinecolor": "white"
           },
           "yaxis": {
            "backgroundcolor": "#E5ECF6",
            "gridcolor": "white",
            "gridwidth": 2,
            "linecolor": "white",
            "showbackground": true,
            "ticks": "",
            "zerolinecolor": "white"
           },
           "zaxis": {
            "backgroundcolor": "#E5ECF6",
            "gridcolor": "white",
            "gridwidth": 2,
            "linecolor": "white",
            "showbackground": true,
            "ticks": "",
            "zerolinecolor": "white"
           }
          },
          "shapedefaults": {
           "line": {
            "color": "#2a3f5f"
           }
          },
          "ternary": {
           "aaxis": {
            "gridcolor": "white",
            "linecolor": "white",
            "ticks": ""
           },
           "baxis": {
            "gridcolor": "white",
            "linecolor": "white",
            "ticks": ""
           },
           "bgcolor": "#E5ECF6",
           "caxis": {
            "gridcolor": "white",
            "linecolor": "white",
            "ticks": ""
           }
          },
          "title": {
           "x": 0.05
          },
          "xaxis": {
           "automargin": true,
           "gridcolor": "white",
           "linecolor": "white",
           "ticks": "",
           "title": {
            "standoff": 15
           },
           "zerolinecolor": "white",
           "zerolinewidth": 2
          },
          "yaxis": {
           "automargin": true,
           "gridcolor": "white",
           "linecolor": "white",
           "ticks": "",
           "title": {
            "standoff": 15
           },
           "zerolinecolor": "white",
           "zerolinewidth": 2
          }
         }
        },
        "xaxis": {
         "anchor": "y",
         "domain": [
          0,
          1
         ],
         "title": {
          "text": "index"
         }
        },
        "yaxis": {
         "anchor": "x",
         "domain": [
          0,
          1
         ],
         "title": {
          "text": "value"
         }
        }
       }
      }
     },
     "metadata": {},
     "output_type": "display_data"
    }
   ],
   "source": [
    "resumen_curvacola = pd.concat([metodos_metricas.T.add_suffix('_general'),metodos_NvS_metricas.T.add_suffix('_NvS'),\n",
    "            metodos_PvP_metricas.T.add_suffix('_PvP'),metodos_SH_metricas.T.add_suffix('_SH')],axis=1).T\n",
    "\n",
    "px.line(resumen_curvacola.T)"
   ]
  },
  {
   "cell_type": "markdown",
   "metadata": {},
   "source": [
    "# Total"
   ]
  },
  {
   "cell_type": "code",
   "execution_count": 67,
   "metadata": {},
   "outputs": [
    {
     "data": {
      "application/vnd.plotly.v1+json": {
       "config": {
        "plotlyServerURL": "https://plot.ly"
       },
       "data": [
        {
         "hovertemplate": "variable=HBOS_general_general<br>index=%{x}<br>value=%{y}<extra></extra>",
         "legendgroup": "HBOS_general_general",
         "line": {
          "color": "#636efa",
          "dash": "solid"
         },
         "marker": {
          "symbol": "circle"
         },
         "mode": "lines",
         "name": "HBOS_general_general",
         "orientation": "v",
         "showlegend": true,
         "type": "scatter",
         "x": [
          "roc_auc",
          "accuracy",
          "precision",
          "kappa",
          "sensibilidad",
          "especificidad"
         ],
         "xaxis": "x",
         "y": [
          0.5375105036552539,
          0.6700053753807561,
          0.49340228245363765,
          0.0911760981802402,
          0.1508477348307256,
          0.9241732724797822
         ],
         "yaxis": "y"
        },
        {
         "hovertemplate": "variable=IForest_general_general<br>index=%{x}<br>value=%{y}<extra></extra>",
         "legendgroup": "IForest_general_general",
         "line": {
          "color": "#EF553B",
          "dash": "solid"
         },
         "marker": {
          "symbol": "circle"
         },
         "mode": "lines",
         "name": "IForest_general_general",
         "orientation": "v",
         "showlegend": true,
         "type": "scatter",
         "x": [
          "roc_auc",
          "accuracy",
          "precision",
          "kappa",
          "sensibilidad",
          "especificidad"
         ],
         "xaxis": "x",
         "y": [
          0.5630997415507544,
          0.6931732664397061,
          0.6105568655904227,
          0.15362216997962252,
          0.1835032437442076,
          0.9426962393573011
         ],
         "yaxis": "y"
        },
        {
         "hovertemplate": "variable=KNN_general_general<br>index=%{x}<br>value=%{y}<extra></extra>",
         "legendgroup": "KNN_general_general",
         "line": {
          "color": "#00cc96",
          "dash": "solid"
         },
         "marker": {
          "symbol": "circle"
         },
         "mode": "lines",
         "name": "KNN_general_general",
         "orientation": "v",
         "showlegend": true,
         "type": "scatter",
         "x": [
          "roc_auc",
          "accuracy",
          "precision",
          "kappa",
          "sensibilidad",
          "especificidad"
         ],
         "xaxis": "x",
         "y": [
          0.5206881978000024,
          0.654685540225766,
          0.4182937554969217,
          0.050221036776984196,
          0.12964073488524233,
          0.9117356607147623
         ],
         "yaxis": "y"
        },
        {
         "hovertemplate": "variable=LODA_general_general<br>index=%{x}<br>value=%{y}<extra></extra>",
         "legendgroup": "LODA_general_general",
         "line": {
          "color": "#ab63fa",
          "dash": "solid"
         },
         "marker": {
          "symbol": "circle"
         },
         "mode": "lines",
         "name": "LODA_general_general",
         "orientation": "v",
         "showlegend": true,
         "type": "scatter",
         "x": [
          "roc_auc",
          "accuracy",
          "precision",
          "kappa",
          "sensibilidad",
          "especificidad"
         ],
         "xaxis": "x",
         "y": [
          0.5506095024709535,
          0.6820820641462103,
          0.554308472121651,
          0.12319057442859105,
          0.1669301640952952,
          0.9342888408466117
         ],
         "yaxis": "y"
        },
        {
         "hovertemplate": "variable=MAD_PyOD_general_general<br>index=%{x}<br>value=%{y}<extra></extra>",
         "legendgroup": "MAD_PyOD_general_general",
         "line": {
          "color": "#FFA15A",
          "dash": "solid"
         },
         "marker": {
          "symbol": "circle"
         },
         "mode": "lines",
         "name": "MAD_PyOD_general_general",
         "orientation": "v",
         "showlegend": true,
         "type": "scatter",
         "x": [
          "roc_auc",
          "accuracy",
          "precision",
          "kappa",
          "sensibilidad",
          "especificidad"
         ],
         "xaxis": "x",
         "y": [
          0.5933295348135476,
          0.7297079376455833,
          0.9168372569089048,
          0.23356854778746683,
          0.19533336967780623,
          0.9913256999492887
         ],
         "yaxis": "y"
        },
        {
         "hovertemplate": "variable=MCD_general_general<br>index=%{x}<br>value=%{y}<extra></extra>",
         "legendgroup": "MCD_general_general",
         "line": {
          "color": "#19d3f3",
          "dash": "solid"
         },
         "marker": {
          "symbol": "circle"
         },
         "mode": "lines",
         "name": "MCD_general_general",
         "orientation": "v",
         "showlegend": true,
         "type": "scatter",
         "x": [
          "roc_auc",
          "accuracy",
          "precision",
          "kappa",
          "sensibilidad",
          "especificidad"
         ],
         "xaxis": "x",
         "y": [
          0.530013350271563,
          0.6633578211790002,
          0.46035987885266344,
          0.07294673655258344,
          0.14087117701575533,
          0.9191555235273707
         ],
         "yaxis": "y"
        },
        {
         "hovertemplate": "variable=IForestASD_general_general<br>index=%{x}<br>value=%{y}<extra></extra>",
         "legendgroup": "IForestASD_general_general",
         "line": {
          "color": "#FF6692",
          "dash": "solid"
         },
         "marker": {
          "symbol": "circle"
         },
         "mode": "lines",
         "name": "IForestASD_general_general",
         "orientation": "v",
         "showlegend": true,
         "type": "scatter",
         "x": [
          "roc_auc",
          "accuracy",
          "precision",
          "kappa",
          "sensibilidad",
          "especificidad"
         ],
         "xaxis": "x",
         "y": [
          0.5818256448309124,
          0.6739114853968823,
          0.5063480867571857,
          0.18131235645174504,
          0.3130894619200785,
          0.850561827741746
         ],
         "yaxis": "y"
        },
        {
         "hovertemplate": "variable=MAD_PySAD_general_general<br>index=%{x}<br>value=%{y}<extra></extra>",
         "legendgroup": "MAD_PySAD_general_general",
         "line": {
          "color": "#B6E880",
          "dash": "solid"
         },
         "marker": {
          "symbol": "circle"
         },
         "mode": "lines",
         "name": "MAD_PySAD_general_general",
         "orientation": "v",
         "showlegend": true,
         "type": "scatter",
         "x": [
          "roc_auc",
          "accuracy",
          "precision",
          "kappa",
          "sensibilidad",
          "especificidad"
         ],
         "xaxis": "x",
         "y": [
          0.5874993185411328,
          0.7288478767246013,
          1,
          0.22167148689608107,
          0.1749986370822657,
          1
         ],
         "yaxis": "y"
        },
        {
         "hovertemplate": "variable=SAD_general_general<br>index=%{x}<br>value=%{y}<extra></extra>",
         "legendgroup": "SAD_general_general",
         "line": {
          "color": "#FF97FF",
          "dash": "solid"
         },
         "marker": {
          "symbol": "circle"
         },
         "mode": "lines",
         "name": "SAD_general_general",
         "orientation": "v",
         "showlegend": true,
         "type": "scatter",
         "x": [
          "roc_auc",
          "accuracy",
          "precision",
          "kappa",
          "sensibilidad",
          "especificidad"
         ],
         "xaxis": "x",
         "y": [
          0.5874993185411328,
          0.7288478767246013,
          1,
          0.22167148689608107,
          0.1749986370822657,
          1
         ],
         "yaxis": "y"
        },
        {
         "hovertemplate": "variable=xStream_general_general<br>index=%{x}<br>value=%{y}<extra></extra>",
         "legendgroup": "xStream_general_general",
         "line": {
          "color": "#FECB52",
          "dash": "solid"
         },
         "marker": {
          "symbol": "circle"
         },
         "mode": "lines",
         "name": "xStream_general_general",
         "orientation": "v",
         "showlegend": true,
         "type": "scatter",
         "x": [
          "roc_auc",
          "accuracy",
          "precision",
          "kappa",
          "sensibilidad",
          "especificidad"
         ],
         "xaxis": "x",
         "y": [
          0.6041991025772926,
          0.68704533237771,
          0.5353088010306788,
          0.2271177638573334,
          0.3624270839012157,
          0.8459711212533696
         ],
         "yaxis": "y"
        },
        {
         "hovertemplate": "variable=HTM_general_general<br>index=%{x}<br>value=%{y}<extra></extra>",
         "legendgroup": "HTM_general_general",
         "line": {
          "color": "#636efa",
          "dash": "solid"
         },
         "marker": {
          "symbol": "circle"
         },
         "mode": "lines",
         "name": "HTM_general_general",
         "orientation": "v",
         "showlegend": true,
         "type": "scatter",
         "x": [
          "roc_auc",
          "accuracy",
          "precision",
          "kappa",
          "sensibilidad",
          "especificidad"
         ],
         "xaxis": "x",
         "y": [
          0.4565581815492771,
          0.6100276654912417,
          0.04734131988230349,
          -0.10895432741002975,
          0.009837211079691236,
          0.903279152018863
         ],
         "yaxis": "y"
        },
        {
         "hovertemplate": "variable=IForest_NvS_general<br>index=%{x}<br>value=%{y}<extra></extra>",
         "legendgroup": "IForest_NvS_general",
         "line": {
          "color": "#EF553B",
          "dash": "solid"
         },
         "marker": {
          "symbol": "circle"
         },
         "mode": "lines",
         "name": "IForest_NvS_general",
         "orientation": "v",
         "showlegend": true,
         "type": "scatter",
         "x": [
          "roc_auc",
          "accuracy",
          "precision",
          "kappa",
          "sensibilidad",
          "especificidad"
         ],
         "xaxis": "x",
         "y": [
          0.5918146143022985,
          0.7178104282386669,
          0.73045486851457,
          0.223096662564916,
          0.22411819222591725,
          0.95951103637868
         ],
         "yaxis": "y"
        },
        {
         "hovertemplate": "variable=MAD_NvS_general<br>index=%{x}<br>value=%{y}<extra></extra>",
         "legendgroup": "MAD_NvS_general",
         "line": {
          "color": "#00cc96",
          "dash": "solid"
         },
         "marker": {
          "symbol": "circle"
         },
         "mode": "lines",
         "name": "MAD_NvS_general",
         "orientation": "v",
         "showlegend": true,
         "type": "scatter",
         "x": [
          "roc_auc",
          "accuracy",
          "precision",
          "kappa",
          "sensibilidad",
          "especificidad"
         ],
         "xaxis": "x",
         "y": [
          0.5914535609632284,
          0.727002329331661,
          0.8808531502819319,
          0.22819434103154468,
          0.19587853677152048,
          0.9870285851549363
         ],
         "yaxis": "y"
        },
        {
         "hovertemplate": "variable=HTM_NvS_general<br>index=%{x}<br>value=%{y}<extra></extra>",
         "legendgroup": "HTM_NvS_general",
         "line": {
          "color": "#ab63fa",
          "dash": "solid"
         },
         "marker": {
          "symbol": "circle"
         },
         "mode": "lines",
         "name": "HTM_NvS_general",
         "orientation": "v",
         "showlegend": true,
         "type": "scatter",
         "x": [
          "roc_auc",
          "accuracy",
          "precision",
          "kappa",
          "sensibilidad",
          "especificidad"
         ],
         "xaxis": "x",
         "y": [
          0.45661526196438335,
          0.6099918293626903,
          0.04873835200502565,
          -0.1087845072934599,
          0.01016475417890404,
          0.9030657697498626
         ],
         "yaxis": "y"
        },
        {
         "hovertemplate": "variable=MAD_PyOD_PvP_general<br>index=%{x}<br>value=%{y}<extra></extra>",
         "legendgroup": "MAD_PyOD_PvP_general",
         "line": {
          "color": "#FFA15A",
          "dash": "solid"
         },
         "marker": {
          "symbol": "circle"
         },
         "mode": "lines",
         "name": "MAD_PyOD_PvP_general",
         "orientation": "v",
         "showlegend": true,
         "type": "scatter",
         "x": [
          "roc_auc",
          "accuracy",
          "precision",
          "kappa",
          "sensibilidad",
          "especificidad"
         ],
         "xaxis": "x",
         "y": [
          0.5989380596955887,
          0.7265902168070238,
          0.7952891612409039,
          0.24206691539963432,
          0.22640789401951697,
          0.9714682253716604
         ],
         "yaxis": "y"
        },
        {
         "hovertemplate": "variable=MAD_PySAD_PvP_general<br>index=%{x}<br>value=%{y}<extra></extra>",
         "legendgroup": "MAD_PySAD_PvP_general",
         "line": {
          "color": "#19d3f3",
          "dash": "solid"
         },
         "marker": {
          "symbol": "circle"
         },
         "mode": "lines",
         "name": "MAD_PySAD_PvP_general",
         "orientation": "v",
         "showlegend": true,
         "type": "scatter",
         "x": [
          "roc_auc",
          "accuracy",
          "precision",
          "kappa",
          "sensibilidad",
          "especificidad"
         ],
         "xaxis": "x",
         "y": [
          0.6015829953183129,
          0.7269844113958072,
          0.7804261466233298,
          0.24720854687324245,
          0.23562121790328736,
          0.9675447727333387
         ],
         "yaxis": "y"
        },
        {
         "hovertemplate": "variable=SAD_PvP_general<br>index=%{x}<br>value=%{y}<extra></extra>",
         "legendgroup": "SAD_PvP_general",
         "line": {
          "color": "#FF6692",
          "dash": "solid"
         },
         "marker": {
          "symbol": "circle"
         },
         "mode": "lines",
         "name": "SAD_PvP_general",
         "orientation": "v",
         "showlegend": true,
         "type": "scatter",
         "x": [
          "roc_auc",
          "accuracy",
          "precision",
          "kappa",
          "sensibilidad",
          "especificidad"
         ],
         "xaxis": "x",
         "y": [
          0.6014461353442009,
          0.726912739652392,
          0.7804701627486438,
          0.24690892978888368,
          0.23529411764705882,
          0.967598153041343
         ],
         "yaxis": "y"
        },
        {
         "hovertemplate": "variable=HBOS_SH_general<br>index=%{x}<br>value=%{y}<extra></extra>",
         "legendgroup": "HBOS_SH_general",
         "line": {
          "color": "#B6E880",
          "dash": "solid"
         },
         "marker": {
          "symbol": "circle"
         },
         "mode": "lines",
         "name": "HBOS_SH_general",
         "orientation": "v",
         "showlegend": true,
         "type": "scatter",
         "x": [
          "roc_auc",
          "accuracy",
          "precision",
          "kappa",
          "sensibilidad",
          "especificidad"
         ],
         "xaxis": "x",
         "y": [
          0.605282392094787,
          0.7336140476617093,
          0.8482965931863727,
          0.25861047116950453,
          0.23076923076923078,
          0.9797955534203432
         ],
         "yaxis": "y"
        },
        {
         "hovertemplate": "variable=IForest_SH_general<br>index=%{x}<br>value=%{y}<extra></extra>",
         "legendgroup": "IForest_SH_general",
         "line": {
          "color": "#FF97FF",
          "dash": "solid"
         },
         "marker": {
          "symbol": "circle"
         },
         "mode": "lines",
         "name": "IForest_SH_general",
         "orientation": "v",
         "showlegend": true,
         "type": "scatter",
         "x": [
          "roc_auc",
          "accuracy",
          "precision",
          "kappa",
          "sensibilidad",
          "especificidad"
         ],
         "xaxis": "x",
         "y": [
          0.6069037494713351,
          0.7316251567819387,
          0.8033171083468541,
          0.2601173008416655,
          0.24292645695905796,
          0.9708810419836122
         ],
         "yaxis": "y"
        },
        {
         "hovertemplate": "variable=KNN_SH_general<br>index=%{x}<br>value=%{y}<extra></extra>",
         "legendgroup": "KNN_SH_general",
         "line": {
          "color": "#FECB52",
          "dash": "solid"
         },
         "marker": {
          "symbol": "circle"
         },
         "mode": "lines",
         "name": "KNN_SH_general",
         "orientation": "v",
         "showlegend": true,
         "type": "scatter",
         "x": [
          "roc_auc",
          "accuracy",
          "precision",
          "kappa",
          "sensibilidad",
          "especificidad"
         ],
         "xaxis": "x",
         "y": [
          0.5396090899485269,
          0.6727109836946784,
          0.50703967818614,
          0.0965039167810453,
          0.15117483508695415,
          0.9280433448100995
         ],
         "yaxis": "y"
        },
        {
         "hovertemplate": "variable=HBOS_general_thresholds<br>index=%{x}<br>value=%{y}<extra></extra>",
         "legendgroup": "HBOS_general_thresholds",
         "line": {
          "color": "#636efa",
          "dash": "solid"
         },
         "marker": {
          "symbol": "circle"
         },
         "mode": "lines",
         "name": "HBOS_general_thresholds",
         "orientation": "v",
         "showlegend": true,
         "type": "scatter",
         "x": [
          "roc_auc",
          "accuracy",
          "precision",
          "kappa",
          "sensibilidad",
          "especificidad"
         ],
         "xaxis": "x",
         "y": [
          0.6189203769497823,
          0.8753658415596012,
          0.2272159800249688,
          0.19993957231717097,
          0.3204225352112676,
          0.9174182186882971
         ],
         "yaxis": "y"
        },
        {
         "hovertemplate": "variable=IForest_general_thresholds<br>index=%{x}<br>value=%{y}<extra></extra>",
         "legendgroup": "IForest_general_thresholds",
         "line": {
          "color": "#EF553B",
          "dash": "solid"
         },
         "marker": {
          "symbol": "circle"
         },
         "mode": "lines",
         "name": "IForest_general_thresholds",
         "orientation": "v",
         "showlegend": true,
         "type": "scatter",
         "x": [
          "roc_auc",
          "accuracy",
          "precision",
          "kappa",
          "sensibilidad",
          "especificidad"
         ],
         "xaxis": "x",
         "y": [
          0.7248495643265646,
          0.9028969690956893,
          0.36612702366127026,
          0.37752080067612426,
          0.5176056338028169,
          0.9320934948503122
         ],
         "yaxis": "y"
        },
        {
         "hovertemplate": "variable=KNN_general_thresholds<br>index=%{x}<br>value=%{y}<extra></extra>",
         "legendgroup": "KNN_general_thresholds",
         "line": {
          "color": "#00cc96",
          "dash": "solid"
         },
         "marker": {
          "symbol": "circle"
         },
         "mode": "lines",
         "name": "KNN_general_thresholds",
         "orientation": "v",
         "showlegend": true,
         "type": "scatter",
         "x": [
          "roc_auc",
          "accuracy",
          "precision",
          "kappa",
          "sensibilidad",
          "especificidad"
         ],
         "xaxis": "x",
         "y": [
          0.54718136987784,
          0.8563420804603403,
          0.13247011952191234,
          0.07920636105309187,
          0.18732394366197183,
          0.9070387960937083
         ],
         "yaxis": "y"
        },
        {
         "hovertemplate": "variable=LODA_general_thresholds<br>index=%{x}<br>value=%{y}<extra></extra>",
         "legendgroup": "LODA_general_thresholds",
         "line": {
          "color": "#ab63fa",
          "dash": "solid"
         },
         "marker": {
          "symbol": "circle"
         },
         "mode": "lines",
         "name": "LODA_general_thresholds",
         "orientation": "v",
         "showlegend": true,
         "type": "scatter",
         "x": [
          "roc_auc",
          "accuracy",
          "precision",
          "kappa",
          "sensibilidad",
          "especificidad"
         ],
         "xaxis": "x",
         "y": [
          0.5857943984414518,
          0.8661143905947716,
          0.1827876984126984,
          0.1437144469063414,
          0.2595070422535211,
          0.9120817546293826
         ],
         "yaxis": "y"
        },
        {
         "hovertemplate": "variable=MAD_PyOD_general_thresholds<br>index=%{x}<br>value=%{y}<extra></extra>",
         "legendgroup": "MAD_PyOD_general_thresholds",
         "line": {
          "color": "#FFA15A",
          "dash": "solid"
         },
         "marker": {
          "symbol": "circle"
         },
         "mode": "lines",
         "name": "MAD_PyOD_general_thresholds",
         "orientation": "v",
         "showlegend": true,
         "type": "scatter",
         "x": [
          "roc_auc",
          "accuracy",
          "precision",
          "kappa",
          "sensibilidad",
          "especificidad"
         ],
         "xaxis": "x",
         "y": [
          0.9482485123666917,
          0.9824396051391439,
          0.8520475561426685,
          0.8698867932839626,
          0.9084507042253521,
          0.9880463205080314
         ],
         "yaxis": "y"
        },
        {
         "hovertemplate": "variable=MCD_general_thresholds<br>index=%{x}<br>value=%{y}<extra></extra>",
         "legendgroup": "MCD_general_thresholds",
         "line": {
          "color": "#19d3f3",
          "dash": "solid"
         },
         "marker": {
          "symbol": "circle"
         },
         "mode": "lines",
         "name": "MCD_general_thresholds",
         "orientation": "v",
         "showlegend": true,
         "type": "scatter",
         "x": [
          "roc_auc",
          "accuracy",
          "precision",
          "kappa",
          "sensibilidad",
          "especificidad"
         ],
         "xaxis": "x",
         "y": [
          0.5498407986206368,
          0.8561436579195396,
          0.13528831936914737,
          0.08319368348329537,
          0.19330985915492957,
          0.906371738086344
         ],
         "yaxis": "y"
        },
        {
         "hovertemplate": "variable=IForestASD_general_thresholds<br>index=%{x}<br>value=%{y}<extra></extra>",
         "legendgroup": "IForestASD_general_thresholds",
         "line": {
          "color": "#FF6692",
          "dash": "solid"
         },
         "marker": {
          "symbol": "circle"
         },
         "mode": "lines",
         "name": "IForestASD_general_thresholds",
         "orientation": "v",
         "showlegend": true,
         "type": "scatter",
         "x": [
          "roc_auc",
          "accuracy",
          "precision",
          "kappa",
          "sensibilidad",
          "especificidad"
         ],
         "xaxis": "x",
         "y": [
          0.8418001001902337,
          0.789076839128925,
          0.2376320177876598,
          0.297964134461171,
          0.903169014084507,
          0.7804311862959603
         ],
         "yaxis": "y"
        },
        {
         "hovertemplate": "variable=MAD_PySAD_general_thresholds<br>index=%{x}<br>value=%{y}<extra></extra>",
         "legendgroup": "MAD_PySAD_general_thresholds",
         "line": {
          "color": "#B6E880",
          "dash": "solid"
         },
         "marker": {
          "symbol": "circle"
         },
         "mode": "lines",
         "name": "MAD_PySAD_general_thresholds",
         "orientation": "v",
         "showlegend": true,
         "type": "scatter",
         "x": [
          "roc_auc",
          "accuracy",
          "precision",
          "kappa",
          "sensibilidad",
          "especificidad"
         ],
         "xaxis": "x",
         "y": [
          0.9456229250737898,
          0.9772558162607272,
          0.7968508799012041,
          0.8369107928260557,
          0.9088028169014084,
          0.9824430332461711
         ],
         "yaxis": "y"
        },
        {
         "hovertemplate": "variable=SAD_general_thresholds<br>index=%{x}<br>value=%{y}<extra></extra>",
         "legendgroup": "SAD_general_thresholds",
         "line": {
          "color": "#FF97FF",
          "dash": "solid"
         },
         "marker": {
          "symbol": "circle"
         },
         "mode": "lines",
         "name": "SAD_general_thresholds",
         "orientation": "v",
         "showlegend": true,
         "type": "scatter",
         "x": [
          "roc_auc",
          "accuracy",
          "precision",
          "kappa",
          "sensibilidad",
          "especificidad"
         ],
         "xaxis": "x",
         "y": [
          0.9348539875788162,
          0.9575375762686641,
          0.6398809523809523,
          0.7284251821236859,
          0.9084507042253521,
          0.9612572709322803
         ],
         "yaxis": "y"
        },
        {
         "hovertemplate": "variable=xStream_general_thresholds<br>index=%{x}<br>value=%{y}<extra></extra>",
         "legendgroup": "xStream_general_thresholds",
         "line": {
          "color": "#FECB52",
          "dash": "solid"
         },
         "marker": {
          "symbol": "circle"
         },
         "mode": "lines",
         "name": "xStream_general_thresholds",
         "orientation": "v",
         "showlegend": true,
         "type": "scatter",
         "x": [
          "roc_auc",
          "accuracy",
          "precision",
          "kappa",
          "sensibilidad",
          "especificidad"
         ],
         "xaxis": "x",
         "y": [
          0.8795105898746983,
          0.8443623195595019,
          0.30174304513447997,
          0.38974320400141527,
          0.9204225352112676,
          0.838598644538129
         ],
         "yaxis": "y"
        },
        {
         "hovertemplate": "variable=HTM_general_thresholds<br>index=%{x}<br>value=%{y}<extra></extra>",
         "legendgroup": "HTM_general_thresholds",
         "line": {
          "color": "#636efa",
          "dash": "solid"
         },
         "marker": {
          "symbol": "circle"
         },
         "mode": "lines",
         "name": "HTM_general_thresholds",
         "orientation": "v",
         "showlegend": true,
         "type": "scatter",
         "x": [
          "roc_auc",
          "accuracy",
          "precision",
          "kappa",
          "sensibilidad",
          "especificidad"
         ],
         "xaxis": "x",
         "y": [
          0.4975419465232175,
          0.9245345728189535,
          0.011743450767841012,
          -0.008566023219445107,
          0.0009198981035946788,
          0.9941639949428402
         ],
         "yaxis": "y"
        },
        {
         "hovertemplate": "variable=IForest_NvS_thresholds<br>index=%{x}<br>value=%{y}<extra></extra>",
         "legendgroup": "IForest_NvS_thresholds",
         "line": {
          "color": "#EF553B",
          "dash": "solid"
         },
         "marker": {
          "symbol": "circle"
         },
         "mode": "lines",
         "name": "IForest_NvS_thresholds",
         "orientation": "v",
         "showlegend": true,
         "type": "scatter",
         "x": [
          "roc_auc",
          "accuracy",
          "precision",
          "kappa",
          "sensibilidad",
          "especificidad"
         ],
         "xaxis": "x",
         "y": [
          0.8895503484109739,
          0.9437968153182201,
          0.5696601941747573,
          0.6448038907097842,
          0.8264084507042253,
          0.9526922461177224
         ],
         "yaxis": "y"
        },
        {
         "hovertemplate": "variable=MAD_NvS_thresholds<br>index=%{x}<br>value=%{y}<extra></extra>",
         "legendgroup": "MAD_NvS_thresholds",
         "line": {
          "color": "#00cc96",
          "dash": "solid"
         },
         "marker": {
          "symbol": "circle"
         },
         "mode": "lines",
         "name": "MAD_NvS_thresholds",
         "orientation": "v",
         "showlegend": true,
         "type": "scatter",
         "x": [
          "roc_auc",
          "accuracy",
          "precision",
          "kappa",
          "sensibilidad",
          "especificidad"
         ],
         "xaxis": "x",
         "y": [
          0.8899803565509605,
          0.9473188154174315,
          0.5904040404040404,
          0.6597307263173622,
          0.8232394366197183,
          0.9567212764822028
         ],
         "yaxis": "y"
        },
        {
         "hovertemplate": "variable=MAD_PyOD_PvP_thresholds<br>index=%{x}<br>value=%{y}<extra></extra>",
         "legendgroup": "MAD_PyOD_PvP_thresholds",
         "line": {
          "color": "#ab63fa",
          "dash": "solid"
         },
         "marker": {
          "symbol": "circle"
         },
         "mode": "lines",
         "name": "MAD_PyOD_PvP_thresholds",
         "orientation": "v",
         "showlegend": true,
         "type": "scatter",
         "x": [
          "roc_auc",
          "accuracy",
          "precision",
          "kappa",
          "sensibilidad",
          "especificidad"
         ],
         "xaxis": "x",
         "y": [
          0.9000351285899935,
          0.9372736742893992,
          0.5341383095499451,
          0.6255159473982608,
          0.8566901408450704,
          0.9433801163349165
         ],
         "yaxis": "y"
        },
        {
         "hovertemplate": "variable=MAD_PySAD_PvP_thresholds<br>index=%{x}<br>value=%{y}<extra></extra>",
         "legendgroup": "MAD_PySAD_PvP_thresholds",
         "line": {
          "color": "#FFA15A",
          "dash": "solid"
         },
         "marker": {
          "symbol": "circle"
         },
         "mode": "lines",
         "name": "MAD_PySAD_PvP_thresholds",
         "orientation": "v",
         "showlegend": true,
         "type": "scatter",
         "x": [
          "roc_auc",
          "accuracy",
          "precision",
          "kappa",
          "sensibilidad",
          "especificidad"
         ],
         "xaxis": "x",
         "y": [
          0.9038564126635042,
          0.9467979562478298,
          0.5836341756919374,
          0.6653480069440916,
          0.8538732394366197,
          0.953839585890389
         ],
         "yaxis": "y"
        },
        {
         "hovertemplate": "variable=SAD_PvP_thresholds<br>index=%{x}<br>value=%{y}<extra></extra>",
         "legendgroup": "SAD_PvP_thresholds",
         "line": {
          "color": "#19d3f3",
          "dash": "solid"
         },
         "marker": {
          "symbol": "circle"
         },
         "mode": "lines",
         "name": "SAD_PvP_thresholds",
         "orientation": "v",
         "showlegend": true,
         "type": "scatter",
         "x": [
          "roc_auc",
          "accuracy",
          "precision",
          "kappa",
          "sensibilidad",
          "especificidad"
         ],
         "xaxis": "x",
         "y": [
          0.9029735097172501,
          0.9469715759710303,
          0.5848646034816247,
          0.6655884738325033,
          0.8517605633802817,
          0.9541864560542185
         ],
         "yaxis": "y"
        },
        {
         "hovertemplate": "variable=HBOS_SH_thresholds<br>index=%{x}<br>value=%{y}<extra></extra>",
         "legendgroup": "HBOS_SH_thresholds",
         "line": {
          "color": "#FF6692",
          "dash": "solid"
         },
         "marker": {
          "symbol": "circle"
         },
         "mode": "lines",
         "name": "HBOS_SH_thresholds",
         "orientation": "v",
         "showlegend": true,
         "type": "scatter",
         "x": [
          "roc_auc",
          "accuracy",
          "precision",
          "kappa",
          "sensibilidad",
          "especificidad"
         ],
         "xaxis": "x",
         "y": [
          0.9153741368645193,
          0.961555632719877,
          0.6789678135405105,
          0.7388932106159682,
          0.8616197183098592,
          0.9691285554191793
         ],
         "yaxis": "y"
        },
        {
         "hovertemplate": "variable=IForest_SH_thresholds<br>index=%{x}<br>value=%{y}<extra></extra>",
         "legendgroup": "IForest_SH_thresholds",
         "line": {
          "color": "#B6E880",
          "dash": "solid"
         },
         "marker": {
          "symbol": "circle"
         },
         "mode": "lines",
         "name": "IForest_SH_thresholds",
         "orientation": "v",
         "showlegend": true,
         "type": "scatter",
         "x": [
          "roc_auc",
          "accuracy",
          "precision",
          "kappa",
          "sensibilidad",
          "especificidad"
         ],
         "xaxis": "x",
         "y": [
          0.9070656851080334,
          0.9488317872910362,
          0.594779214442547,
          0.6757070906980569,
          0.8584507042253521,
          0.9556806659907146
         ],
         "yaxis": "y"
        },
        {
         "hovertemplate": "variable=KNN_SH_thresholds<br>index=%{x}<br>value=%{y}<extra></extra>",
         "legendgroup": "KNN_SH_thresholds",
         "line": {
          "color": "#FF97FF",
          "dash": "solid"
         },
         "marker": {
          "symbol": "circle"
         },
         "mode": "lines",
         "name": "KNN_SH_thresholds",
         "orientation": "v",
         "showlegend": true,
         "type": "scatter",
         "x": [
          "roc_auc",
          "accuracy",
          "precision",
          "kappa",
          "sensibilidad",
          "especificidad"
         ],
         "xaxis": "x",
         "y": [
          0.5979263233491348,
          0.8680986160027779,
          0.1969178082191781,
          0.1627942547424932,
          0.2834507042253521,
          0.9124019424729174
         ],
         "yaxis": "y"
        },
        {
         "hovertemplate": "variable=HBOS_general_curvacola<br>index=%{x}<br>value=%{y}<extra></extra>",
         "legendgroup": "HBOS_general_curvacola",
         "line": {
          "color": "#FECB52",
          "dash": "solid"
         },
         "marker": {
          "symbol": "circle"
         },
         "mode": "lines",
         "name": "HBOS_general_curvacola",
         "orientation": "v",
         "showlegend": true,
         "type": "scatter",
         "x": [
          "roc_auc",
          "accuracy",
          "precision",
          "kappa",
          "sensibilidad",
          "especificidad"
         ],
         "xaxis": "x",
         "y": [
          0.5062102213125457,
          0.689657876678757,
          0.2910547396528705,
          0.01543771262972693,
          0.11189323947792931,
          0.900527203147162
         ],
         "yaxis": "y"
        },
        {
         "hovertemplate": "variable=IForest_general_curvacola<br>index=%{x}<br>value=%{y}<extra></extra>",
         "legendgroup": "IForest_general_curvacola",
         "line": {
          "color": "#636efa",
          "dash": "solid"
         },
         "marker": {
          "symbol": "circle"
         },
         "mode": "lines",
         "name": "IForest_general_curvacola",
         "orientation": "v",
         "showlegend": true,
         "type": "scatter",
         "x": [
          "roc_auc",
          "accuracy",
          "precision",
          "kappa",
          "sensibilidad",
          "especificidad"
         ],
         "xaxis": "x",
         "y": [
          0.5111002782109481,
          0.6941280266640525,
          0.3102648366518461,
          0.027649694645782152,
          0.11768587769467664,
          0.9045146787272192
         ],
         "yaxis": "y"
        },
        {
         "hovertemplate": "variable=KNN_general_curvacola<br>index=%{x}<br>value=%{y}<extra></extra>",
         "legendgroup": "KNN_general_curvacola",
         "line": {
          "color": "#EF553B",
          "dash": "solid"
         },
         "marker": {
          "symbol": "circle"
         },
         "mode": "lines",
         "name": "KNN_general_curvacola",
         "orientation": "v",
         "showlegend": true,
         "type": "scatter",
         "x": [
          "roc_auc",
          "accuracy",
          "precision",
          "kappa",
          "sensibilidad",
          "especificidad"
         ],
         "xaxis": "x",
         "y": [
          0.5093100053584778,
          0.6938927556121949,
          0.30426164519326065,
          0.023276693069072873,
          0.11255316028743217,
          0.9060668504295234
         ],
         "yaxis": "y"
        },
        {
         "hovertemplate": "variable=LODA_general_curvacola<br>index=%{x}<br>value=%{y}<extra></extra>",
         "legendgroup": "LODA_general_curvacola",
         "line": {
          "color": "#00cc96",
          "dash": "solid"
         },
         "marker": {
          "symbol": "circle"
         },
         "mode": "lines",
         "name": "LODA_general_curvacola",
         "orientation": "v",
         "showlegend": true,
         "type": "scatter",
         "x": [
          "roc_auc",
          "accuracy",
          "precision",
          "kappa",
          "sensibilidad",
          "especificidad"
         ],
         "xaxis": "x",
         "y": [
          0.507535701544487,
          0.6909518674639741,
          0.2962607861936721,
          0.018747855205374364,
          0.11328640563132424,
          0.9017849974576498
         ],
         "yaxis": "y"
        },
        {
         "hovertemplate": "variable=MAD_PyOD_general_curvacola<br>index=%{x}<br>value=%{y}<extra></extra>",
         "legendgroup": "MAD_PyOD_general_curvacola",
         "line": {
          "color": "#ab63fa",
          "dash": "solid"
         },
         "marker": {
          "symbol": "circle"
         },
         "mode": "lines",
         "name": "MAD_PyOD_general_curvacola",
         "orientation": "v",
         "showlegend": true,
         "type": "scatter",
         "x": [
          "roc_auc",
          "accuracy",
          "precision",
          "kappa",
          "sensibilidad",
          "especificidad"
         ],
         "xaxis": "x",
         "y": [
          0.4968588844404906,
          0.7246348397215959,
          0.16363636363636364,
          -0.009018775484586294,
          0.007259128904531456,
          0.9864586399764498
         ],
         "yaxis": "y"
        },
        {
         "hovertemplate": "variable=MCD_general_curvacola<br>index=%{x}<br>value=%{y}<extra></extra>",
         "legendgroup": "MCD_general_curvacola",
         "line": {
          "color": "#FFA15A",
          "dash": "solid"
         },
         "marker": {
          "symbol": "circle"
         },
         "mode": "lines",
         "name": "MCD_general_curvacola",
         "orientation": "v",
         "showlegend": true,
         "type": "scatter",
         "x": [
          "roc_auc",
          "accuracy",
          "precision",
          "kappa",
          "sensibilidad",
          "especificidad"
         ],
         "xaxis": "x",
         "y": [
          0.5162691732021104,
          0.6984609352024311,
          0.3306106573317775,
          0.040561360145980996,
          0.12465170846165127,
          0.9078866379425696
         ],
         "yaxis": "y"
        },
        {
         "hovertemplate": "variable=IForestASD_general_curvacola<br>index=%{x}<br>value=%{y}<extra></extra>",
         "legendgroup": "IForestASD_general_curvacola",
         "line": {
          "color": "#19d3f3",
          "dash": "solid"
         },
         "marker": {
          "symbol": "circle"
         },
         "mode": "lines",
         "name": "IForestASD_general_curvacola",
         "orientation": "v",
         "showlegend": true,
         "type": "scatter",
         "x": [
          "roc_auc",
          "accuracy",
          "precision",
          "kappa",
          "sensibilidad",
          "especificidad"
         ],
         "xaxis": "x",
         "y": [
          0.511880706588784,
          0.647309087344378,
          0.29027282367685336,
          0.025716205359152755,
          0.22078017304590117,
          0.8029812401316669
         ],
         "yaxis": "y"
        },
        {
         "hovertemplate": "variable=MAD_PySAD_general_curvacola<br>index=%{x}<br>value=%{y}<extra></extra>",
         "legendgroup": "MAD_PySAD_general_curvacola",
         "line": {
          "color": "#FF6692",
          "dash": "solid"
         },
         "marker": {
          "symbol": "circle"
         },
         "mode": "lines",
         "name": "MAD_PySAD_general_curvacola",
         "orientation": "v",
         "showlegend": true,
         "type": "scatter",
         "x": [
          "roc_auc",
          "accuracy",
          "precision",
          "kappa",
          "sensibilidad",
          "especificidad"
         ],
         "xaxis": "x",
         "y": [
          0.4959330991555667,
          0.720105871973336,
          0.18786692759295498,
          -0.011516383634895044,
          0.014078310602727673,
          0.9777878877084059
         ],
         "yaxis": "y"
        },
        {
         "hovertemplate": "variable=SAD_general_curvacola<br>index=%{x}<br>value=%{y}<extra></extra>",
         "legendgroup": "SAD_general_curvacola",
         "line": {
          "color": "#B6E880",
          "dash": "solid"
         },
         "marker": {
          "symbol": "circle"
         },
         "mode": "lines",
         "name": "SAD_general_curvacola",
         "orientation": "v",
         "showlegend": true,
         "type": "scatter",
         "x": [
          "roc_auc",
          "accuracy",
          "precision",
          "kappa",
          "sensibilidad",
          "especificidad"
         ],
         "xaxis": "x",
         "y": [
          0.4958731554117147,
          0.7200862660523478,
          0.18645731108930325,
          -0.01168728416615683,
          0.01393166153394926,
          0.97781464928948
         ],
         "yaxis": "y"
        },
        {
         "hovertemplate": "variable=xStream_general_curvacola<br>index=%{x}<br>value=%{y}<extra></extra>",
         "legendgroup": "xStream_general_curvacola",
         "line": {
          "color": "#FF97FF",
          "dash": "solid"
         },
         "marker": {
          "symbol": "circle"
         },
         "mode": "lines",
         "name": "xStream_general_curvacola",
         "orientation": "v",
         "showlegend": true,
         "type": "scatter",
         "x": [
          "roc_auc",
          "accuracy",
          "precision",
          "kappa",
          "sensibilidad",
          "especificidad"
         ],
         "xaxis": "x",
         "y": [
          0.5130014228534946,
          0.6388197235565141,
          0.29017543859649125,
          0.027432169976054244,
          0.24255755975949553,
          0.7834452859474937
         ],
         "yaxis": "y"
        },
        {
         "hovertemplate": "variable=HTM_general_curvacola<br>index=%{x}<br>value=%{y}<extra></extra>",
         "legendgroup": "HTM_general_curvacola",
         "line": {
          "color": "#FECB52",
          "dash": "solid"
         },
         "marker": {
          "symbol": "circle"
         },
         "mode": "lines",
         "name": "HTM_general_curvacola",
         "orientation": "v",
         "showlegend": true,
         "type": "scatter",
         "x": [
          "roc_auc",
          "accuracy",
          "precision",
          "kappa",
          "sensibilidad",
          "especificidad"
         ],
         "xaxis": "x",
         "y": [
          0.4966172319539453,
          0.7295794529948044,
          0.046753246753246755,
          -0.009840622566781976,
          0.0010655931802036466,
          0.9921688707276869
         ],
         "yaxis": "y"
        },
        {
         "hovertemplate": "variable=IForest_NvS_curvacola<br>index=%{x}<br>value=%{y}<extra></extra>",
         "legendgroup": "IForest_NvS_curvacola",
         "line": {
          "color": "#636efa",
          "dash": "solid"
         },
         "marker": {
          "symbol": "circle"
         },
         "mode": "lines",
         "name": "IForest_NvS_curvacola",
         "orientation": "v",
         "showlegend": true,
         "type": "scatter",
         "x": [
          "roc_auc",
          "accuracy",
          "precision",
          "kappa",
          "sensibilidad",
          "especificidad"
         ],
         "xaxis": "x",
         "y": [
          0.4957446142671299,
          0.6840113714341731,
          0.25025186379206127,
          -0.010664683590140944,
          0.09106907171139464,
          0.9004201568228651
         ],
         "yaxis": "y"
        },
        {
         "hovertemplate": "variable=MAD_NvS_curvacola<br>index=%{x}<br>value=%{y}<extra></extra>",
         "legendgroup": "MAD_NvS_curvacola",
         "line": {
          "color": "#EF553B",
          "dash": "solid"
         },
         "marker": {
          "symbol": "circle"
         },
         "mode": "lines",
         "name": "MAD_NvS_curvacola",
         "orientation": "v",
         "showlegend": true,
         "type": "scatter",
         "x": [
          "roc_auc",
          "accuracy",
          "precision",
          "kappa",
          "sensibilidad",
          "especificidad"
         ],
         "xaxis": "x",
         "y": [
          0.5041581007727802,
          0.7268699147142437,
          0.3515704154002026,
          0.011788237970513316,
          0.0254436134330547,
          0.9828725881125057
         ],
         "yaxis": "y"
        },
        {
         "hovertemplate": "variable=HTM_NvS_curvacola<br>index=%{x}<br>value=%{y}<extra></extra>",
         "legendgroup": "HTM_NvS_curvacola",
         "line": {
          "color": "#00cc96",
          "dash": "solid"
         },
         "marker": {
          "symbol": "circle"
         },
         "mode": "lines",
         "name": "HTM_NvS_curvacola",
         "orientation": "v",
         "showlegend": true,
         "type": "scatter",
         "x": [
          "roc_auc",
          "accuracy",
          "precision",
          "kappa",
          "sensibilidad",
          "especificidad"
         ],
         "xaxis": "x",
         "y": [
          0.45654362201408527,
          0.6660680325458288,
          0.03845952043653917,
          -0.11281177927609898,
          0.010848330570684347,
          0.9022389134574863
         ],
         "yaxis": "y"
        },
        {
         "hovertemplate": "variable=MAD_PyOD_PvP_curvacola<br>index=%{x}<br>value=%{y}<extra></extra>",
         "legendgroup": "MAD_PyOD_PvP_curvacola",
         "line": {
          "color": "#ab63fa",
          "dash": "solid"
         },
         "marker": {
          "symbol": "circle"
         },
         "mode": "lines",
         "name": "MAD_PyOD_PvP_curvacola",
         "orientation": "v",
         "showlegend": true,
         "type": "scatter",
         "x": [
          "roc_auc",
          "accuracy",
          "precision",
          "kappa",
          "sensibilidad",
          "especificidad"
         ],
         "xaxis": "x",
         "y": [
          0.5179883771615937,
          0.7271443976080776,
          0.43496503496503497,
          0.04911998601161227,
          0.06841179058512978,
          0.9675649637380577
         ],
         "yaxis": "y"
        },
        {
         "hovertemplate": "variable=MAD_PySAD_PvP_curvacola<br>index=%{x}<br>value=%{y}<extra></extra>",
         "legendgroup": "MAD_PySAD_PvP_curvacola",
         "line": {
          "color": "#FFA15A",
          "dash": "solid"
         },
         "marker": {
          "symbol": "circle"
         },
         "mode": "lines",
         "name": "MAD_PySAD_PvP_curvacola",
         "orientation": "v",
         "showlegend": true,
         "type": "scatter",
         "x": [
          "roc_auc",
          "accuracy",
          "precision",
          "kappa",
          "sensibilidad",
          "especificidad"
         ],
         "xaxis": "x",
         "y": [
          0.5224356915851286,
          0.7027546318988335,
          0.3535858488752163,
          0.055839752205340654,
          0.134843818741751,
          0.9100275644285064
         ],
         "yaxis": "y"
        },
        {
         "hovertemplate": "variable=SAD_PvP_curvacola<br>index=%{x}<br>value=%{y}<extra></extra>",
         "legendgroup": "SAD_PvP_curvacola",
         "line": {
          "color": "#19d3f3",
          "dash": "solid"
         },
         "marker": {
          "symbol": "circle"
         },
         "mode": "lines",
         "name": "SAD_PvP_curvacola",
         "orientation": "v",
         "showlegend": true,
         "type": "scatter",
         "x": [
          "roc_auc",
          "accuracy",
          "precision",
          "kappa",
          "sensibilidad",
          "especificidad"
         ],
         "xaxis": "x",
         "y": [
          0.5321312036216727,
          0.71047936476816,
          0.39117023327549644,
          0.0800031720977622,
          0.14877548027570026,
          0.9154869269676452
         ],
         "yaxis": "y"
        },
        {
         "hovertemplate": "variable=HBOS_SH_curvacola<br>index=%{x}<br>value=%{y}<extra></extra>",
         "legendgroup": "HBOS_SH_curvacola",
         "line": {
          "color": "#FF6692",
          "dash": "solid"
         },
         "marker": {
          "symbol": "circle"
         },
         "mode": "lines",
         "name": "HBOS_SH_curvacola",
         "orientation": "v",
         "showlegend": true,
         "type": "scatter",
         "x": [
          "roc_auc",
          "accuracy",
          "precision",
          "kappa",
          "sensibilidad",
          "especificidad"
         ],
         "xaxis": "x",
         "y": [
          0.5078564107779543,
          0.6946965983727086,
          0.29987582781456956,
          0.019764970193358433,
          0.10624725032996041,
          0.9094655712259481
         ],
         "yaxis": "y"
        },
        {
         "hovertemplate": "variable=IForest_SH_curvacola<br>index=%{x}<br>value=%{y}<extra></extra>",
         "legendgroup": "IForest_SH_curvacola",
         "line": {
          "color": "#B6E880",
          "dash": "solid"
         },
         "marker": {
          "symbol": "circle"
         },
         "mode": "lines",
         "name": "IForest_SH_curvacola",
         "orientation": "v",
         "showlegend": true,
         "type": "scatter",
         "x": [
          "roc_auc",
          "accuracy",
          "precision",
          "kappa",
          "sensibilidad",
          "especificidad"
         ],
         "xaxis": "x",
         "y": [
          0.5178857930630897,
          0.6993628075678855,
          0.3363566190659977,
          0.04454011737456243,
          0.12780466344038716,
          0.9079669226857923
         ],
         "yaxis": "y"
        },
        {
         "hovertemplate": "variable=KNN_SH_curvacola<br>index=%{x}<br>value=%{y}<extra></extra>",
         "legendgroup": "KNN_SH_curvacola",
         "line": {
          "color": "#FF97FF",
          "dash": "solid"
         },
         "marker": {
          "symbol": "circle"
         },
         "mode": "lines",
         "name": "KNN_SH_curvacola",
         "orientation": "v",
         "showlegend": true,
         "type": "scatter",
         "x": [
          "roc_auc",
          "accuracy",
          "precision",
          "kappa",
          "sensibilidad",
          "especificidad"
         ],
         "xaxis": "x",
         "y": [
          0.5135668480845983,
          0.6963434957357122,
          0.32010890704006223,
          0.03382407971007506,
          0.12069218360463412,
          0.9064415125645623
         ],
         "yaxis": "y"
        }
       ],
       "layout": {
        "legend": {
         "title": {
          "text": "variable"
         },
         "tracegroupgap": 0
        },
        "margin": {
         "t": 60
        },
        "template": {
         "data": {
          "bar": [
           {
            "error_x": {
             "color": "#2a3f5f"
            },
            "error_y": {
             "color": "#2a3f5f"
            },
            "marker": {
             "line": {
              "color": "#E5ECF6",
              "width": 0.5
             },
             "pattern": {
              "fillmode": "overlay",
              "size": 10,
              "solidity": 0.2
             }
            },
            "type": "bar"
           }
          ],
          "barpolar": [
           {
            "marker": {
             "line": {
              "color": "#E5ECF6",
              "width": 0.5
             },
             "pattern": {
              "fillmode": "overlay",
              "size": 10,
              "solidity": 0.2
             }
            },
            "type": "barpolar"
           }
          ],
          "carpet": [
           {
            "aaxis": {
             "endlinecolor": "#2a3f5f",
             "gridcolor": "white",
             "linecolor": "white",
             "minorgridcolor": "white",
             "startlinecolor": "#2a3f5f"
            },
            "baxis": {
             "endlinecolor": "#2a3f5f",
             "gridcolor": "white",
             "linecolor": "white",
             "minorgridcolor": "white",
             "startlinecolor": "#2a3f5f"
            },
            "type": "carpet"
           }
          ],
          "choropleth": [
           {
            "colorbar": {
             "outlinewidth": 0,
             "ticks": ""
            },
            "type": "choropleth"
           }
          ],
          "contour": [
           {
            "colorbar": {
             "outlinewidth": 0,
             "ticks": ""
            },
            "colorscale": [
             [
              0,
              "#0d0887"
             ],
             [
              0.1111111111111111,
              "#46039f"
             ],
             [
              0.2222222222222222,
              "#7201a8"
             ],
             [
              0.3333333333333333,
              "#9c179e"
             ],
             [
              0.4444444444444444,
              "#bd3786"
             ],
             [
              0.5555555555555556,
              "#d8576b"
             ],
             [
              0.6666666666666666,
              "#ed7953"
             ],
             [
              0.7777777777777778,
              "#fb9f3a"
             ],
             [
              0.8888888888888888,
              "#fdca26"
             ],
             [
              1,
              "#f0f921"
             ]
            ],
            "type": "contour"
           }
          ],
          "contourcarpet": [
           {
            "colorbar": {
             "outlinewidth": 0,
             "ticks": ""
            },
            "type": "contourcarpet"
           }
          ],
          "heatmap": [
           {
            "colorbar": {
             "outlinewidth": 0,
             "ticks": ""
            },
            "colorscale": [
             [
              0,
              "#0d0887"
             ],
             [
              0.1111111111111111,
              "#46039f"
             ],
             [
              0.2222222222222222,
              "#7201a8"
             ],
             [
              0.3333333333333333,
              "#9c179e"
             ],
             [
              0.4444444444444444,
              "#bd3786"
             ],
             [
              0.5555555555555556,
              "#d8576b"
             ],
             [
              0.6666666666666666,
              "#ed7953"
             ],
             [
              0.7777777777777778,
              "#fb9f3a"
             ],
             [
              0.8888888888888888,
              "#fdca26"
             ],
             [
              1,
              "#f0f921"
             ]
            ],
            "type": "heatmap"
           }
          ],
          "heatmapgl": [
           {
            "colorbar": {
             "outlinewidth": 0,
             "ticks": ""
            },
            "colorscale": [
             [
              0,
              "#0d0887"
             ],
             [
              0.1111111111111111,
              "#46039f"
             ],
             [
              0.2222222222222222,
              "#7201a8"
             ],
             [
              0.3333333333333333,
              "#9c179e"
             ],
             [
              0.4444444444444444,
              "#bd3786"
             ],
             [
              0.5555555555555556,
              "#d8576b"
             ],
             [
              0.6666666666666666,
              "#ed7953"
             ],
             [
              0.7777777777777778,
              "#fb9f3a"
             ],
             [
              0.8888888888888888,
              "#fdca26"
             ],
             [
              1,
              "#f0f921"
             ]
            ],
            "type": "heatmapgl"
           }
          ],
          "histogram": [
           {
            "marker": {
             "pattern": {
              "fillmode": "overlay",
              "size": 10,
              "solidity": 0.2
             }
            },
            "type": "histogram"
           }
          ],
          "histogram2d": [
           {
            "colorbar": {
             "outlinewidth": 0,
             "ticks": ""
            },
            "colorscale": [
             [
              0,
              "#0d0887"
             ],
             [
              0.1111111111111111,
              "#46039f"
             ],
             [
              0.2222222222222222,
              "#7201a8"
             ],
             [
              0.3333333333333333,
              "#9c179e"
             ],
             [
              0.4444444444444444,
              "#bd3786"
             ],
             [
              0.5555555555555556,
              "#d8576b"
             ],
             [
              0.6666666666666666,
              "#ed7953"
             ],
             [
              0.7777777777777778,
              "#fb9f3a"
             ],
             [
              0.8888888888888888,
              "#fdca26"
             ],
             [
              1,
              "#f0f921"
             ]
            ],
            "type": "histogram2d"
           }
          ],
          "histogram2dcontour": [
           {
            "colorbar": {
             "outlinewidth": 0,
             "ticks": ""
            },
            "colorscale": [
             [
              0,
              "#0d0887"
             ],
             [
              0.1111111111111111,
              "#46039f"
             ],
             [
              0.2222222222222222,
              "#7201a8"
             ],
             [
              0.3333333333333333,
              "#9c179e"
             ],
             [
              0.4444444444444444,
              "#bd3786"
             ],
             [
              0.5555555555555556,
              "#d8576b"
             ],
             [
              0.6666666666666666,
              "#ed7953"
             ],
             [
              0.7777777777777778,
              "#fb9f3a"
             ],
             [
              0.8888888888888888,
              "#fdca26"
             ],
             [
              1,
              "#f0f921"
             ]
            ],
            "type": "histogram2dcontour"
           }
          ],
          "mesh3d": [
           {
            "colorbar": {
             "outlinewidth": 0,
             "ticks": ""
            },
            "type": "mesh3d"
           }
          ],
          "parcoords": [
           {
            "line": {
             "colorbar": {
              "outlinewidth": 0,
              "ticks": ""
             }
            },
            "type": "parcoords"
           }
          ],
          "pie": [
           {
            "automargin": true,
            "type": "pie"
           }
          ],
          "scatter": [
           {
            "fillpattern": {
             "fillmode": "overlay",
             "size": 10,
             "solidity": 0.2
            },
            "type": "scatter"
           }
          ],
          "scatter3d": [
           {
            "line": {
             "colorbar": {
              "outlinewidth": 0,
              "ticks": ""
             }
            },
            "marker": {
             "colorbar": {
              "outlinewidth": 0,
              "ticks": ""
             }
            },
            "type": "scatter3d"
           }
          ],
          "scattercarpet": [
           {
            "marker": {
             "colorbar": {
              "outlinewidth": 0,
              "ticks": ""
             }
            },
            "type": "scattercarpet"
           }
          ],
          "scattergeo": [
           {
            "marker": {
             "colorbar": {
              "outlinewidth": 0,
              "ticks": ""
             }
            },
            "type": "scattergeo"
           }
          ],
          "scattergl": [
           {
            "marker": {
             "colorbar": {
              "outlinewidth": 0,
              "ticks": ""
             }
            },
            "type": "scattergl"
           }
          ],
          "scattermapbox": [
           {
            "marker": {
             "colorbar": {
              "outlinewidth": 0,
              "ticks": ""
             }
            },
            "type": "scattermapbox"
           }
          ],
          "scatterpolar": [
           {
            "marker": {
             "colorbar": {
              "outlinewidth": 0,
              "ticks": ""
             }
            },
            "type": "scatterpolar"
           }
          ],
          "scatterpolargl": [
           {
            "marker": {
             "colorbar": {
              "outlinewidth": 0,
              "ticks": ""
             }
            },
            "type": "scatterpolargl"
           }
          ],
          "scatterternary": [
           {
            "marker": {
             "colorbar": {
              "outlinewidth": 0,
              "ticks": ""
             }
            },
            "type": "scatterternary"
           }
          ],
          "surface": [
           {
            "colorbar": {
             "outlinewidth": 0,
             "ticks": ""
            },
            "colorscale": [
             [
              0,
              "#0d0887"
             ],
             [
              0.1111111111111111,
              "#46039f"
             ],
             [
              0.2222222222222222,
              "#7201a8"
             ],
             [
              0.3333333333333333,
              "#9c179e"
             ],
             [
              0.4444444444444444,
              "#bd3786"
             ],
             [
              0.5555555555555556,
              "#d8576b"
             ],
             [
              0.6666666666666666,
              "#ed7953"
             ],
             [
              0.7777777777777778,
              "#fb9f3a"
             ],
             [
              0.8888888888888888,
              "#fdca26"
             ],
             [
              1,
              "#f0f921"
             ]
            ],
            "type": "surface"
           }
          ],
          "table": [
           {
            "cells": {
             "fill": {
              "color": "#EBF0F8"
             },
             "line": {
              "color": "white"
             }
            },
            "header": {
             "fill": {
              "color": "#C8D4E3"
             },
             "line": {
              "color": "white"
             }
            },
            "type": "table"
           }
          ]
         },
         "layout": {
          "annotationdefaults": {
           "arrowcolor": "#2a3f5f",
           "arrowhead": 0,
           "arrowwidth": 1
          },
          "autotypenumbers": "strict",
          "coloraxis": {
           "colorbar": {
            "outlinewidth": 0,
            "ticks": ""
           }
          },
          "colorscale": {
           "diverging": [
            [
             0,
             "#8e0152"
            ],
            [
             0.1,
             "#c51b7d"
            ],
            [
             0.2,
             "#de77ae"
            ],
            [
             0.3,
             "#f1b6da"
            ],
            [
             0.4,
             "#fde0ef"
            ],
            [
             0.5,
             "#f7f7f7"
            ],
            [
             0.6,
             "#e6f5d0"
            ],
            [
             0.7,
             "#b8e186"
            ],
            [
             0.8,
             "#7fbc41"
            ],
            [
             0.9,
             "#4d9221"
            ],
            [
             1,
             "#276419"
            ]
           ],
           "sequential": [
            [
             0,
             "#0d0887"
            ],
            [
             0.1111111111111111,
             "#46039f"
            ],
            [
             0.2222222222222222,
             "#7201a8"
            ],
            [
             0.3333333333333333,
             "#9c179e"
            ],
            [
             0.4444444444444444,
             "#bd3786"
            ],
            [
             0.5555555555555556,
             "#d8576b"
            ],
            [
             0.6666666666666666,
             "#ed7953"
            ],
            [
             0.7777777777777778,
             "#fb9f3a"
            ],
            [
             0.8888888888888888,
             "#fdca26"
            ],
            [
             1,
             "#f0f921"
            ]
           ],
           "sequentialminus": [
            [
             0,
             "#0d0887"
            ],
            [
             0.1111111111111111,
             "#46039f"
            ],
            [
             0.2222222222222222,
             "#7201a8"
            ],
            [
             0.3333333333333333,
             "#9c179e"
            ],
            [
             0.4444444444444444,
             "#bd3786"
            ],
            [
             0.5555555555555556,
             "#d8576b"
            ],
            [
             0.6666666666666666,
             "#ed7953"
            ],
            [
             0.7777777777777778,
             "#fb9f3a"
            ],
            [
             0.8888888888888888,
             "#fdca26"
            ],
            [
             1,
             "#f0f921"
            ]
           ]
          },
          "colorway": [
           "#636efa",
           "#EF553B",
           "#00cc96",
           "#ab63fa",
           "#FFA15A",
           "#19d3f3",
           "#FF6692",
           "#B6E880",
           "#FF97FF",
           "#FECB52"
          ],
          "font": {
           "color": "#2a3f5f"
          },
          "geo": {
           "bgcolor": "white",
           "lakecolor": "white",
           "landcolor": "#E5ECF6",
           "showlakes": true,
           "showland": true,
           "subunitcolor": "white"
          },
          "hoverlabel": {
           "align": "left"
          },
          "hovermode": "closest",
          "mapbox": {
           "style": "light"
          },
          "paper_bgcolor": "white",
          "plot_bgcolor": "#E5ECF6",
          "polar": {
           "angularaxis": {
            "gridcolor": "white",
            "linecolor": "white",
            "ticks": ""
           },
           "bgcolor": "#E5ECF6",
           "radialaxis": {
            "gridcolor": "white",
            "linecolor": "white",
            "ticks": ""
           }
          },
          "scene": {
           "xaxis": {
            "backgroundcolor": "#E5ECF6",
            "gridcolor": "white",
            "gridwidth": 2,
            "linecolor": "white",
            "showbackground": true,
            "ticks": "",
            "zerolinecolor": "white"
           },
           "yaxis": {
            "backgroundcolor": "#E5ECF6",
            "gridcolor": "white",
            "gridwidth": 2,
            "linecolor": "white",
            "showbackground": true,
            "ticks": "",
            "zerolinecolor": "white"
           },
           "zaxis": {
            "backgroundcolor": "#E5ECF6",
            "gridcolor": "white",
            "gridwidth": 2,
            "linecolor": "white",
            "showbackground": true,
            "ticks": "",
            "zerolinecolor": "white"
           }
          },
          "shapedefaults": {
           "line": {
            "color": "#2a3f5f"
           }
          },
          "ternary": {
           "aaxis": {
            "gridcolor": "white",
            "linecolor": "white",
            "ticks": ""
           },
           "baxis": {
            "gridcolor": "white",
            "linecolor": "white",
            "ticks": ""
           },
           "bgcolor": "#E5ECF6",
           "caxis": {
            "gridcolor": "white",
            "linecolor": "white",
            "ticks": ""
           }
          },
          "title": {
           "x": 0.05
          },
          "xaxis": {
           "automargin": true,
           "gridcolor": "white",
           "linecolor": "white",
           "ticks": "",
           "title": {
            "standoff": 15
           },
           "zerolinecolor": "white",
           "zerolinewidth": 2
          },
          "yaxis": {
           "automargin": true,
           "gridcolor": "white",
           "linecolor": "white",
           "ticks": "",
           "title": {
            "standoff": 15
           },
           "zerolinecolor": "white",
           "zerolinewidth": 2
          }
         }
        },
        "xaxis": {
         "anchor": "y",
         "domain": [
          0,
          1
         ],
         "title": {
          "text": "index"
         }
        },
        "yaxis": {
         "anchor": "x",
         "domain": [
          0,
          1
         ],
         "title": {
          "text": "value"
         }
        }
       }
      }
     },
     "metadata": {},
     "output_type": "display_data"
    }
   ],
   "source": [
    "total = pd.concat([resumen_general.T.add_suffix('_general'),resumen_thresholds.T.add_suffix('_thresholds'),resumen_curvacola.T.add_suffix('_curvacola')],axis=1).T\n",
    "px.line(total.T)"
   ]
  }
 ],
 "metadata": {
  "interpreter": {
   "hash": "084e8b912a56bf1ec199b7cc8c30ae9313a998703506b070bededcac63d0da25"
  },
  "kernelspec": {
   "display_name": "Python 3.10.2 ('.env': venv)",
   "language": "python",
   "name": "python3"
  },
  "language_info": {
   "codemirror_mode": {
    "name": "ipython",
    "version": 3
   },
   "file_extension": ".py",
   "mimetype": "text/x-python",
   "name": "python",
   "nbconvert_exporter": "python",
   "pygments_lexer": "ipython3",
   "version": "3.10.2"
  },
  "orig_nbformat": 4
 },
 "nbformat": 4,
 "nbformat_minor": 2
}
