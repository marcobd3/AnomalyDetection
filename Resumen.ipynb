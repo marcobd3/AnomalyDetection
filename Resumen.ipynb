{
 "cells": [
  {
   "cell_type": "markdown",
   "metadata": {},
   "source": [
    "# Resumen general"
   ]
  },
  {
   "cell_type": "code",
   "execution_count": 76,
   "metadata": {},
   "outputs": [],
   "source": [
    "import pandas as pd\n",
    "import matplotlib.pyplot as plt\n",
    "import plotly.express as px\n",
    "\n",
    "from sklearn.metrics import roc_auc_score\n",
    "from sklearn.metrics import precision_score\n",
    "from sklearn.metrics import accuracy_score\n",
    "from sklearn.metrics import recall_score\n",
    "from sklearn.metrics import cohen_kappa_score"
   ]
  },
  {
   "cell_type": "code",
   "execution_count": 77,
   "metadata": {},
   "outputs": [],
   "source": [
    "anomalias = ['Anomalia','Negro','Congelado','Hum','CurvaCola']\n",
    "metricas = ['roc_auc','accuracy','precision','kappa','sensibilidad','especificidad']\n",
    "\n",
    "def calc_metricas(metodos,metodos_lista):\n",
    "    metodos_metricas = pd.DataFrame(index=metodos_lista,columns=metricas)\n",
    "    for metodo in metodos_lista:\n",
    "        metodos_metricas.loc[metodo,metricas[0]] = roc_auc_score(metodos['Anomalia'], metodos[metodo])\n",
    "        metodos_metricas.loc[metodo,metricas[1]] = accuracy_score(metodos['Anomalia'], metodos[metodo])\n",
    "        metodos_metricas.loc[metodo,metricas[2]] = precision_score(metodos['Anomalia'], metodos[metodo])\n",
    "        metodos_metricas.loc[metodo,metricas[3]] = cohen_kappa_score(metodos['Anomalia'], metodos[metodo])\n",
    "        metodos_metricas.loc[metodo,metricas[4]] = recall_score(metodos['Anomalia'], metodos[metodo])\n",
    "        metodos_metricas.loc[metodo,metricas[5]] = recall_score(metodos['Anomalia'], metodos[metodo], pos_label=0)\n",
    "    return metodos_metricas\n",
    "\n",
    "def calc_sensibilidad(metodos,metodos_lista,anomalias):\n",
    "    metodos_sensibilidades = pd.DataFrame(index=metodos_lista, columns=anomalias)\n",
    "    for metodo in metodos_lista:\n",
    "        for anomalia in anomalias:\n",
    "            metodos_sensibilidades.loc[metodo,anomalia] = recall_score(metodos[anomalia], metodos[metodo])\n",
    "    return metodos_sensibilidades"
   ]
  },
  {
   "cell_type": "markdown",
   "metadata": {},
   "source": [
    "## Métodos"
   ]
  },
  {
   "cell_type": "code",
   "execution_count": 78,
   "metadata": {},
   "outputs": [
    {
     "data": {
      "text/html": [
       "<div>\n",
       "<style scoped>\n",
       "    .dataframe tbody tr th:only-of-type {\n",
       "        vertical-align: middle;\n",
       "    }\n",
       "\n",
       "    .dataframe tbody tr th {\n",
       "        vertical-align: top;\n",
       "    }\n",
       "\n",
       "    .dataframe thead th {\n",
       "        text-align: right;\n",
       "    }\n",
       "</style>\n",
       "<table border=\"1\" class=\"dataframe\">\n",
       "  <thead>\n",
       "    <tr style=\"text-align: right;\">\n",
       "      <th></th>\n",
       "      <th>Negro</th>\n",
       "      <th>CurvaCola</th>\n",
       "      <th>Congelado</th>\n",
       "      <th>Hum</th>\n",
       "      <th>Anomalia</th>\n",
       "      <th>HBOS</th>\n",
       "      <th>IForest</th>\n",
       "      <th>KNN</th>\n",
       "      <th>LODA</th>\n",
       "      <th>MAD_PyOD</th>\n",
       "      <th>MCD</th>\n",
       "      <th>IForestASD</th>\n",
       "      <th>MAD_PySAD</th>\n",
       "      <th>SAD</th>\n",
       "      <th>xStream</th>\n",
       "    </tr>\n",
       "    <tr>\n",
       "      <th>fecha</th>\n",
       "      <th></th>\n",
       "      <th></th>\n",
       "      <th></th>\n",
       "      <th></th>\n",
       "      <th></th>\n",
       "      <th></th>\n",
       "      <th></th>\n",
       "      <th></th>\n",
       "      <th></th>\n",
       "      <th></th>\n",
       "      <th></th>\n",
       "      <th></th>\n",
       "      <th></th>\n",
       "      <th></th>\n",
       "      <th></th>\n",
       "    </tr>\n",
       "  </thead>\n",
       "  <tbody>\n",
       "    <tr>\n",
       "      <th>2021-08-01 11:06:00</th>\n",
       "      <td>0</td>\n",
       "      <td>0</td>\n",
       "      <td>0</td>\n",
       "      <td>0</td>\n",
       "      <td>0</td>\n",
       "      <td>1</td>\n",
       "      <td>1</td>\n",
       "      <td>1</td>\n",
       "      <td>1</td>\n",
       "      <td>0</td>\n",
       "      <td>1</td>\n",
       "      <td>1</td>\n",
       "      <td>0</td>\n",
       "      <td>0</td>\n",
       "      <td>1</td>\n",
       "    </tr>\n",
       "    <tr>\n",
       "      <th>2021-03-15 11:15:00</th>\n",
       "      <td>0</td>\n",
       "      <td>0</td>\n",
       "      <td>0</td>\n",
       "      <td>0</td>\n",
       "      <td>0</td>\n",
       "      <td>0</td>\n",
       "      <td>0</td>\n",
       "      <td>0</td>\n",
       "      <td>0</td>\n",
       "      <td>0</td>\n",
       "      <td>0</td>\n",
       "      <td>0</td>\n",
       "      <td>0</td>\n",
       "      <td>0</td>\n",
       "      <td>0</td>\n",
       "    </tr>\n",
       "    <tr>\n",
       "      <th>2021-10-19 07:04:00</th>\n",
       "      <td>0</td>\n",
       "      <td>0</td>\n",
       "      <td>0</td>\n",
       "      <td>0</td>\n",
       "      <td>0</td>\n",
       "      <td>0</td>\n",
       "      <td>0</td>\n",
       "      <td>1</td>\n",
       "      <td>0</td>\n",
       "      <td>0</td>\n",
       "      <td>0</td>\n",
       "      <td>1</td>\n",
       "      <td>0</td>\n",
       "      <td>0</td>\n",
       "      <td>1</td>\n",
       "    </tr>\n",
       "    <tr>\n",
       "      <th>2021-04-17 10:46:00</th>\n",
       "      <td>0</td>\n",
       "      <td>0</td>\n",
       "      <td>0</td>\n",
       "      <td>0</td>\n",
       "      <td>0</td>\n",
       "      <td>0</td>\n",
       "      <td>0</td>\n",
       "      <td>0</td>\n",
       "      <td>0</td>\n",
       "      <td>0</td>\n",
       "      <td>0</td>\n",
       "      <td>0</td>\n",
       "      <td>0</td>\n",
       "      <td>0</td>\n",
       "      <td>0</td>\n",
       "    </tr>\n",
       "    <tr>\n",
       "      <th>2021-03-07 19:50:00</th>\n",
       "      <td>0</td>\n",
       "      <td>0</td>\n",
       "      <td>0</td>\n",
       "      <td>0</td>\n",
       "      <td>0</td>\n",
       "      <td>0</td>\n",
       "      <td>0</td>\n",
       "      <td>0</td>\n",
       "      <td>0</td>\n",
       "      <td>0</td>\n",
       "      <td>0</td>\n",
       "      <td>0</td>\n",
       "      <td>0</td>\n",
       "      <td>0</td>\n",
       "      <td>0</td>\n",
       "    </tr>\n",
       "  </tbody>\n",
       "</table>\n",
       "</div>"
      ],
      "text/plain": [
       "                     Negro  CurvaCola  Congelado  Hum  Anomalia  HBOS  \\\n",
       "fecha                                                                   \n",
       "2021-08-01 11:06:00      0          0          0    0         0     1   \n",
       "2021-03-15 11:15:00      0          0          0    0         0     0   \n",
       "2021-10-19 07:04:00      0          0          0    0         0     0   \n",
       "2021-04-17 10:46:00      0          0          0    0         0     0   \n",
       "2021-03-07 19:50:00      0          0          0    0         0     0   \n",
       "\n",
       "                     IForest  KNN  LODA  MAD_PyOD  MCD  IForestASD  MAD_PySAD  \\\n",
       "fecha                                                                           \n",
       "2021-08-01 11:06:00        1    1     1         0    1           1          0   \n",
       "2021-03-15 11:15:00        0    0     0         0    0           0          0   \n",
       "2021-10-19 07:04:00        0    1     0         0    0           1          0   \n",
       "2021-04-17 10:46:00        0    0     0         0    0           0          0   \n",
       "2021-03-07 19:50:00        0    0     0         0    0           0          0   \n",
       "\n",
       "                     SAD  xStream  \n",
       "fecha                              \n",
       "2021-08-01 11:06:00    0        1  \n",
       "2021-03-15 11:15:00    0        0  \n",
       "2021-10-19 07:04:00    0        1  \n",
       "2021-04-17 10:46:00    0        0  \n",
       "2021-03-07 19:50:00    0        0  "
      ]
     },
     "execution_count": 78,
     "metadata": {},
     "output_type": "execute_result"
    }
   ],
   "source": [
    "metodos = pd.read_csv('Metodos/PyOD/Resultados/HBOS_completo.csv',index_col='fecha')\n",
    "metodos = metodos.drop('Y_pred', axis=1)\n",
    "\n",
    "metodos['HBOS'] = pd.read_csv('Metodos/PyOD/Resultados/HBOS_completo.csv',usecols=['fecha','Y_pred'],index_col='fecha')\n",
    "metodos['IForest'] = pd.read_csv('Metodos/PyOD/Resultados/IForest_completo.csv',usecols=['fecha','Y_pred'],index_col='fecha')\n",
    "metodos['KNN'] = pd.read_csv('Metodos/PyOD/Resultados/KNN_completo.csv',usecols=['fecha','Y_pred'],index_col='fecha')\n",
    "metodos['LODA'] = pd.read_csv('Metodos/PyOD/Resultados/LODA_completo.csv',usecols=['fecha','Y_pred'],index_col='fecha')\n",
    "metodos['MAD_PyOD'] = pd.read_csv('Metodos/PyOD/Resultados/MAD_completo.csv',usecols=['fecha','Y_pred'],index_col='fecha')\n",
    "metodos['MCD'] = pd.read_csv('Metodos/PyOD/Resultados/MCD_completo.csv',usecols=['fecha','Y_pred'],index_col='fecha')\n",
    "\n",
    "metodos['IForestASD'] = pd.read_csv('Metodos/PySAD/Resultados/IForestASD_completo.csv',usecols=['fecha','Y_pred'],index_col='fecha')\n",
    "metodos['MAD_PySAD'] = pd.read_csv('Metodos/PySAD/Resultados/MAD_completo.csv',usecols=['fecha','Y_pred'],index_col='fecha')\n",
    "metodos['SAD'] = pd.read_csv('Metodos/PySAD/Resultados/SAD_completo.csv',usecols=['fecha','Y_pred'],index_col='fecha')\n",
    "metodos['xStream'] = pd.read_csv('Metodos/PySAD/Resultados/xStream_completo.csv',usecols=['fecha','Y_pred'],index_col='fecha')\n",
    "\n",
    "metodos_htm = pd.read_csv('Metodos/HTMs/HTM_Uni/HTM_completo.csv',index_col='fecha')\n",
    "metodos_htm['HTM'] = metodos_htm['Y_pred']\n",
    "metodos_htm = metodos_htm.drop('Y_pred',axis=1)\n",
    "\n",
    "metodos.head()"
   ]
  },
  {
   "cell_type": "markdown",
   "metadata": {},
   "source": []
  },
  {
   "cell_type": "markdown",
   "metadata": {},
   "source": [
    "### Métricas generales:"
   ]
  },
  {
   "cell_type": "code",
   "execution_count": 79,
   "metadata": {},
   "outputs": [
    {
     "data": {
      "text/html": [
       "<div>\n",
       "<style scoped>\n",
       "    .dataframe tbody tr th:only-of-type {\n",
       "        vertical-align: middle;\n",
       "    }\n",
       "\n",
       "    .dataframe tbody tr th {\n",
       "        vertical-align: top;\n",
       "    }\n",
       "\n",
       "    .dataframe thead th {\n",
       "        text-align: right;\n",
       "    }\n",
       "</style>\n",
       "<table border=\"1\" class=\"dataframe\">\n",
       "  <thead>\n",
       "    <tr style=\"text-align: right;\">\n",
       "      <th></th>\n",
       "      <th>roc_auc</th>\n",
       "      <th>accuracy</th>\n",
       "      <th>precision</th>\n",
       "      <th>kappa</th>\n",
       "      <th>sensibilidad</th>\n",
       "      <th>especificidad</th>\n",
       "    </tr>\n",
       "  </thead>\n",
       "  <tbody>\n",
       "    <tr>\n",
       "      <th>HBOS</th>\n",
       "      <td>0.564536</td>\n",
       "      <td>0.801362</td>\n",
       "      <td>0.347539</td>\n",
       "      <td>0.153723</td>\n",
       "      <td>0.207871</td>\n",
       "      <td>0.9212</td>\n",
       "    </tr>\n",
       "    <tr>\n",
       "      <th>IForest</th>\n",
       "      <td>0.606131</td>\n",
       "      <td>0.825748</td>\n",
       "      <td>0.468348</td>\n",
       "      <td>0.254026</td>\n",
       "      <td>0.275384</td>\n",
       "      <td>0.936878</td>\n",
       "    </tr>\n",
       "    <tr>\n",
       "      <th>KNN</th>\n",
       "      <td>0.532171</td>\n",
       "      <td>0.782351</td>\n",
       "      <td>0.256288</td>\n",
       "      <td>0.076334</td>\n",
       "      <td>0.155397</td>\n",
       "      <td>0.908946</td>\n",
       "    </tr>\n",
       "    <tr>\n",
       "      <th>LODA</th>\n",
       "      <td>0.61083</td>\n",
       "      <td>0.828185</td>\n",
       "      <td>0.480738</td>\n",
       "      <td>0.265057</td>\n",
       "      <td>0.28349</td>\n",
       "      <td>0.93817</td>\n",
       "    </tr>\n",
       "    <tr>\n",
       "      <th>MAD_PyOD</th>\n",
       "      <td>0.685715</td>\n",
       "      <td>0.889339</td>\n",
       "      <td>0.909417</td>\n",
       "      <td>0.484083</td>\n",
       "      <td>0.379053</td>\n",
       "      <td>0.992376</td>\n",
       "    </tr>\n",
       "    <tr>\n",
       "      <th>MCD</th>\n",
       "      <td>0.528716</td>\n",
       "      <td>0.781276</td>\n",
       "      <td>0.247818</td>\n",
       "      <td>0.068385</td>\n",
       "      <td>0.148358</td>\n",
       "      <td>0.909075</td>\n",
       "    </tr>\n",
       "    <tr>\n",
       "      <th>IForestASD</th>\n",
       "      <td>0.671777</td>\n",
       "      <td>0.739097</td>\n",
       "      <td>0.336755</td>\n",
       "      <td>0.269064</td>\n",
       "      <td>0.570392</td>\n",
       "      <td>0.773162</td>\n",
       "    </tr>\n",
       "    <tr>\n",
       "      <th>MAD_PySAD</th>\n",
       "      <td>0.671182</td>\n",
       "      <td>0.889518</td>\n",
       "      <td>1.0</td>\n",
       "      <td>0.464173</td>\n",
       "      <td>0.342363</td>\n",
       "      <td>1.0</td>\n",
       "    </tr>\n",
       "    <tr>\n",
       "      <th>SAD</th>\n",
       "      <td>0.671182</td>\n",
       "      <td>0.889518</td>\n",
       "      <td>1.0</td>\n",
       "      <td>0.464173</td>\n",
       "      <td>0.342363</td>\n",
       "      <td>1.0</td>\n",
       "    </tr>\n",
       "    <tr>\n",
       "      <th>xStream</th>\n",
       "      <td>0.674266</td>\n",
       "      <td>0.767246</td>\n",
       "      <td>0.367444</td>\n",
       "      <td>0.295082</td>\n",
       "      <td>0.534236</td>\n",
       "      <td>0.814296</td>\n",
       "    </tr>\n",
       "    <tr>\n",
       "      <th>HTM</th>\n",
       "      <td>0.470682</td>\n",
       "      <td>0.771401</td>\n",
       "      <td>0.047341</td>\n",
       "      <td>-0.07679</td>\n",
       "      <td>0.019351</td>\n",
       "      <td>0.922013</td>\n",
       "    </tr>\n",
       "  </tbody>\n",
       "</table>\n",
       "</div>"
      ],
      "text/plain": [
       "             roc_auc  accuracy precision     kappa sensibilidad especificidad\n",
       "HBOS        0.564536  0.801362  0.347539  0.153723     0.207871        0.9212\n",
       "IForest     0.606131  0.825748  0.468348  0.254026     0.275384      0.936878\n",
       "KNN         0.532171  0.782351  0.256288  0.076334     0.155397      0.908946\n",
       "LODA         0.61083  0.828185  0.480738  0.265057      0.28349       0.93817\n",
       "MAD_PyOD    0.685715  0.889339  0.909417  0.484083     0.379053      0.992376\n",
       "MCD         0.528716  0.781276  0.247818  0.068385     0.148358      0.909075\n",
       "IForestASD  0.671777  0.739097  0.336755  0.269064     0.570392      0.773162\n",
       "MAD_PySAD   0.671182  0.889518       1.0  0.464173     0.342363           1.0\n",
       "SAD         0.671182  0.889518       1.0  0.464173     0.342363           1.0\n",
       "xStream     0.674266  0.767246  0.367444  0.295082     0.534236      0.814296\n",
       "HTM         0.470682  0.771401  0.047341  -0.07679     0.019351      0.922013"
      ]
     },
     "execution_count": 79,
     "metadata": {},
     "output_type": "execute_result"
    }
   ],
   "source": [
    "metodos_lista = ['HBOS','IForest','KNN','LODA','MAD_PyOD','MCD', 'IForestASD', 'MAD_PySAD','SAD','xStream']\n",
    "metodos_metricas = calc_metricas(metodos,metodos_lista)\n",
    "metodos_metricas = pd.concat([metodos_metricas,calc_metricas(metodos_htm, ['HTM'])])\n",
    "metodos_metricas"
   ]
  },
  {
   "cell_type": "code",
   "execution_count": 80,
   "metadata": {},
   "outputs": [
    {
     "data": {
      "application/vnd.plotly.v1+json": {
       "config": {
        "plotlyServerURL": "https://plot.ly"
       },
       "data": [
        {
         "hovertemplate": "variable=HBOS<br>index=%{x}<br>value=%{y}<extra></extra>",
         "legendgroup": "HBOS",
         "line": {
          "color": "#636efa",
          "dash": "solid"
         },
         "marker": {
          "symbol": "circle"
         },
         "mode": "lines",
         "name": "HBOS",
         "orientation": "v",
         "showlegend": true,
         "type": "scatter",
         "x": [
          "roc_auc",
          "accuracy",
          "precision",
          "kappa",
          "sensibilidad",
          "especificidad"
         ],
         "xaxis": "x",
         "y": [
          0.5645355715904007,
          0.801361763124888,
          0.34753922967189727,
          0.15372289146053164,
          0.2078711604095563,
          0.9211999827712453
         ],
         "yaxis": "y"
        },
        {
         "hovertemplate": "variable=IForest<br>index=%{x}<br>value=%{y}<extra></extra>",
         "legendgroup": "IForest",
         "line": {
          "color": "#EF553B",
          "dash": "solid"
         },
         "marker": {
          "symbol": "circle"
         },
         "mode": "lines",
         "name": "IForest",
         "orientation": "v",
         "showlegend": true,
         "type": "scatter",
         "x": [
          "roc_auc",
          "accuracy",
          "precision",
          "kappa",
          "sensibilidad",
          "especificidad"
         ],
         "xaxis": "x",
         "y": [
          0.6061310543380519,
          0.8257480738218957,
          0.46834754217304553,
          0.25402602375813965,
          0.2753839590443686,
          0.9368781496317353
         ],
         "yaxis": "y"
        },
        {
         "hovertemplate": "variable=KNN<br>index=%{x}<br>value=%{y}<extra></extra>",
         "legendgroup": "KNN",
         "line": {
          "color": "#00cc96",
          "dash": "solid"
         },
         "marker": {
          "symbol": "circle"
         },
         "mode": "lines",
         "name": "KNN",
         "orientation": "v",
         "showlegend": true,
         "type": "scatter",
         "x": [
          "roc_auc",
          "accuracy",
          "precision",
          "kappa",
          "sensibilidad",
          "especificidad"
         ],
         "xaxis": "x",
         "y": [
          0.5321713943023978,
          0.7823508331840172,
          0.25628847845206687,
          0.07633391129787725,
          0.15539675767918087,
          0.9089460309256149
         ],
         "yaxis": "y"
        },
        {
         "hovertemplate": "variable=LODA<br>index=%{x}<br>value=%{y}<extra></extra>",
         "legendgroup": "LODA",
         "line": {
          "color": "#ab63fa",
          "dash": "solid"
         },
         "marker": {
          "symbol": "circle"
         },
         "mode": "lines",
         "name": "LODA",
         "orientation": "v",
         "showlegend": true,
         "type": "scatter",
         "x": [
          "roc_auc",
          "accuracy",
          "precision",
          "kappa",
          "sensibilidad",
          "especificidad"
         ],
         "xaxis": "x",
         "y": [
          0.6108300336666332,
          0.8281849130980111,
          0.48073792729245796,
          0.26505708552996743,
          0.2834897610921502,
          0.9381703062411164
         ],
         "yaxis": "y"
        },
        {
         "hovertemplate": "variable=MAD_PyOD<br>index=%{x}<br>value=%{y}<extra></extra>",
         "legendgroup": "MAD_PyOD",
         "line": {
          "color": "#FFA15A",
          "dash": "solid"
         },
         "marker": {
          "symbol": "circle"
         },
         "mode": "lines",
         "name": "MAD_PyOD",
         "orientation": "v",
         "showlegend": true,
         "type": "scatter",
         "x": [
          "roc_auc",
          "accuracy",
          "precision",
          "kappa",
          "sensibilidad",
          "especificidad"
         ],
         "xaxis": "x",
         "y": [
          0.6857145885142711,
          0.8893388281669952,
          0.9094165813715456,
          0.4840832327721213,
          0.3790529010238908,
          0.9923762760046517
         ],
         "yaxis": "y"
        },
        {
         "hovertemplate": "variable=MCD<br>index=%{x}<br>value=%{y}<extra></extra>",
         "legendgroup": "MCD",
         "line": {
          "color": "#19d3f3",
          "dash": "solid"
         },
         "marker": {
          "symbol": "circle"
         },
         "mode": "lines",
         "name": "MCD",
         "orientation": "v",
         "showlegend": true,
         "type": "scatter",
         "x": [
          "roc_auc",
          "accuracy",
          "precision",
          "kappa",
          "sensibilidad",
          "especificidad"
         ],
         "xaxis": "x",
         "y": [
          0.5287163775594881,
          0.7812757570327898,
          0.24781756636379831,
          0.06838470602154778,
          0.14835750853242322,
          0.9090752465865529
         ],
         "yaxis": "y"
        },
        {
         "hovertemplate": "variable=IForestASD<br>index=%{x}<br>value=%{y}<extra></extra>",
         "legendgroup": "IForestASD",
         "line": {
          "color": "#FF6692",
          "dash": "solid"
         },
         "marker": {
          "symbol": "circle"
         },
         "mode": "lines",
         "name": "IForestASD",
         "orientation": "v",
         "showlegend": true,
         "type": "scatter",
         "x": [
          "roc_auc",
          "accuracy",
          "precision",
          "kappa",
          "sensibilidad",
          "especificidad"
         ],
         "xaxis": "x",
         "y": [
          0.6717771993453661,
          0.739096936032969,
          0.33675461242994775,
          0.2690638815137778,
          0.5703924914675768,
          0.7731619072231555
         ],
         "yaxis": "y"
        },
        {
         "hovertemplate": "variable=MAD_PySAD<br>index=%{x}<br>value=%{y}<extra></extra>",
         "legendgroup": "MAD_PySAD",
         "line": {
          "color": "#B6E880",
          "dash": "solid"
         },
         "marker": {
          "symbol": "circle"
         },
         "mode": "lines",
         "name": "MAD_PySAD",
         "orientation": "v",
         "showlegend": true,
         "type": "scatter",
         "x": [
          "roc_auc",
          "accuracy",
          "precision",
          "kappa",
          "sensibilidad",
          "especificidad"
         ],
         "xaxis": "x",
         "y": [
          0.6711817406143344,
          0.889518007525533,
          1,
          0.4641731724021805,
          0.34236348122866894,
          1
         ],
         "yaxis": "y"
        },
        {
         "hovertemplate": "variable=SAD<br>index=%{x}<br>value=%{y}<extra></extra>",
         "legendgroup": "SAD",
         "line": {
          "color": "#FF97FF",
          "dash": "solid"
         },
         "marker": {
          "symbol": "circle"
         },
         "mode": "lines",
         "name": "SAD",
         "orientation": "v",
         "showlegend": true,
         "type": "scatter",
         "x": [
          "roc_auc",
          "accuracy",
          "precision",
          "kappa",
          "sensibilidad",
          "especificidad"
         ],
         "xaxis": "x",
         "y": [
          0.6711817406143344,
          0.889518007525533,
          1,
          0.4641731724021805,
          0.34236348122866894,
          1
         ],
         "yaxis": "y"
        },
        {
         "hovertemplate": "variable=xStream<br>index=%{x}<br>value=%{y}<extra></extra>",
         "legendgroup": "xStream",
         "line": {
          "color": "#FECB52",
          "dash": "solid"
         },
         "marker": {
          "symbol": "circle"
         },
         "mode": "lines",
         "name": "xStream",
         "orientation": "v",
         "showlegend": true,
         "type": "scatter",
         "x": [
          "roc_auc",
          "accuracy",
          "precision",
          "kappa",
          "sensibilidad",
          "especificidad"
         ],
         "xaxis": "x",
         "y": [
          0.6742659537056597,
          0.7672460132592726,
          0.36744424882629106,
          0.29508245159671553,
          0.5342363481228669,
          0.8142955592884524
         ],
         "yaxis": "y"
        },
        {
         "hovertemplate": "variable=HTM<br>index=%{x}<br>value=%{y}<extra></extra>",
         "legendgroup": "HTM",
         "line": {
          "color": "#636efa",
          "dash": "solid"
         },
         "marker": {
          "symbol": "circle"
         },
         "mode": "lines",
         "name": "HTM",
         "orientation": "v",
         "showlegend": true,
         "type": "scatter",
         "x": [
          "roc_auc",
          "accuracy",
          "precision",
          "kappa",
          "sensibilidad",
          "especificidad"
         ],
         "xaxis": "x",
         "y": [
          0.47068227687264297,
          0.7714013359708723,
          0.04734131988230349,
          -0.07678972836152242,
          0.019351374570446736,
          0.9220131791748392
         ],
         "yaxis": "y"
        }
       ],
       "layout": {
        "legend": {
         "title": {
          "text": "variable"
         },
         "tracegroupgap": 0
        },
        "margin": {
         "t": 60
        },
        "template": {
         "data": {
          "bar": [
           {
            "error_x": {
             "color": "#2a3f5f"
            },
            "error_y": {
             "color": "#2a3f5f"
            },
            "marker": {
             "line": {
              "color": "#E5ECF6",
              "width": 0.5
             },
             "pattern": {
              "fillmode": "overlay",
              "size": 10,
              "solidity": 0.2
             }
            },
            "type": "bar"
           }
          ],
          "barpolar": [
           {
            "marker": {
             "line": {
              "color": "#E5ECF6",
              "width": 0.5
             },
             "pattern": {
              "fillmode": "overlay",
              "size": 10,
              "solidity": 0.2
             }
            },
            "type": "barpolar"
           }
          ],
          "carpet": [
           {
            "aaxis": {
             "endlinecolor": "#2a3f5f",
             "gridcolor": "white",
             "linecolor": "white",
             "minorgridcolor": "white",
             "startlinecolor": "#2a3f5f"
            },
            "baxis": {
             "endlinecolor": "#2a3f5f",
             "gridcolor": "white",
             "linecolor": "white",
             "minorgridcolor": "white",
             "startlinecolor": "#2a3f5f"
            },
            "type": "carpet"
           }
          ],
          "choropleth": [
           {
            "colorbar": {
             "outlinewidth": 0,
             "ticks": ""
            },
            "type": "choropleth"
           }
          ],
          "contour": [
           {
            "colorbar": {
             "outlinewidth": 0,
             "ticks": ""
            },
            "colorscale": [
             [
              0,
              "#0d0887"
             ],
             [
              0.1111111111111111,
              "#46039f"
             ],
             [
              0.2222222222222222,
              "#7201a8"
             ],
             [
              0.3333333333333333,
              "#9c179e"
             ],
             [
              0.4444444444444444,
              "#bd3786"
             ],
             [
              0.5555555555555556,
              "#d8576b"
             ],
             [
              0.6666666666666666,
              "#ed7953"
             ],
             [
              0.7777777777777778,
              "#fb9f3a"
             ],
             [
              0.8888888888888888,
              "#fdca26"
             ],
             [
              1,
              "#f0f921"
             ]
            ],
            "type": "contour"
           }
          ],
          "contourcarpet": [
           {
            "colorbar": {
             "outlinewidth": 0,
             "ticks": ""
            },
            "type": "contourcarpet"
           }
          ],
          "heatmap": [
           {
            "colorbar": {
             "outlinewidth": 0,
             "ticks": ""
            },
            "colorscale": [
             [
              0,
              "#0d0887"
             ],
             [
              0.1111111111111111,
              "#46039f"
             ],
             [
              0.2222222222222222,
              "#7201a8"
             ],
             [
              0.3333333333333333,
              "#9c179e"
             ],
             [
              0.4444444444444444,
              "#bd3786"
             ],
             [
              0.5555555555555556,
              "#d8576b"
             ],
             [
              0.6666666666666666,
              "#ed7953"
             ],
             [
              0.7777777777777778,
              "#fb9f3a"
             ],
             [
              0.8888888888888888,
              "#fdca26"
             ],
             [
              1,
              "#f0f921"
             ]
            ],
            "type": "heatmap"
           }
          ],
          "heatmapgl": [
           {
            "colorbar": {
             "outlinewidth": 0,
             "ticks": ""
            },
            "colorscale": [
             [
              0,
              "#0d0887"
             ],
             [
              0.1111111111111111,
              "#46039f"
             ],
             [
              0.2222222222222222,
              "#7201a8"
             ],
             [
              0.3333333333333333,
              "#9c179e"
             ],
             [
              0.4444444444444444,
              "#bd3786"
             ],
             [
              0.5555555555555556,
              "#d8576b"
             ],
             [
              0.6666666666666666,
              "#ed7953"
             ],
             [
              0.7777777777777778,
              "#fb9f3a"
             ],
             [
              0.8888888888888888,
              "#fdca26"
             ],
             [
              1,
              "#f0f921"
             ]
            ],
            "type": "heatmapgl"
           }
          ],
          "histogram": [
           {
            "marker": {
             "pattern": {
              "fillmode": "overlay",
              "size": 10,
              "solidity": 0.2
             }
            },
            "type": "histogram"
           }
          ],
          "histogram2d": [
           {
            "colorbar": {
             "outlinewidth": 0,
             "ticks": ""
            },
            "colorscale": [
             [
              0,
              "#0d0887"
             ],
             [
              0.1111111111111111,
              "#46039f"
             ],
             [
              0.2222222222222222,
              "#7201a8"
             ],
             [
              0.3333333333333333,
              "#9c179e"
             ],
             [
              0.4444444444444444,
              "#bd3786"
             ],
             [
              0.5555555555555556,
              "#d8576b"
             ],
             [
              0.6666666666666666,
              "#ed7953"
             ],
             [
              0.7777777777777778,
              "#fb9f3a"
             ],
             [
              0.8888888888888888,
              "#fdca26"
             ],
             [
              1,
              "#f0f921"
             ]
            ],
            "type": "histogram2d"
           }
          ],
          "histogram2dcontour": [
           {
            "colorbar": {
             "outlinewidth": 0,
             "ticks": ""
            },
            "colorscale": [
             [
              0,
              "#0d0887"
             ],
             [
              0.1111111111111111,
              "#46039f"
             ],
             [
              0.2222222222222222,
              "#7201a8"
             ],
             [
              0.3333333333333333,
              "#9c179e"
             ],
             [
              0.4444444444444444,
              "#bd3786"
             ],
             [
              0.5555555555555556,
              "#d8576b"
             ],
             [
              0.6666666666666666,
              "#ed7953"
             ],
             [
              0.7777777777777778,
              "#fb9f3a"
             ],
             [
              0.8888888888888888,
              "#fdca26"
             ],
             [
              1,
              "#f0f921"
             ]
            ],
            "type": "histogram2dcontour"
           }
          ],
          "mesh3d": [
           {
            "colorbar": {
             "outlinewidth": 0,
             "ticks": ""
            },
            "type": "mesh3d"
           }
          ],
          "parcoords": [
           {
            "line": {
             "colorbar": {
              "outlinewidth": 0,
              "ticks": ""
             }
            },
            "type": "parcoords"
           }
          ],
          "pie": [
           {
            "automargin": true,
            "type": "pie"
           }
          ],
          "scatter": [
           {
            "fillpattern": {
             "fillmode": "overlay",
             "size": 10,
             "solidity": 0.2
            },
            "type": "scatter"
           }
          ],
          "scatter3d": [
           {
            "line": {
             "colorbar": {
              "outlinewidth": 0,
              "ticks": ""
             }
            },
            "marker": {
             "colorbar": {
              "outlinewidth": 0,
              "ticks": ""
             }
            },
            "type": "scatter3d"
           }
          ],
          "scattercarpet": [
           {
            "marker": {
             "colorbar": {
              "outlinewidth": 0,
              "ticks": ""
             }
            },
            "type": "scattercarpet"
           }
          ],
          "scattergeo": [
           {
            "marker": {
             "colorbar": {
              "outlinewidth": 0,
              "ticks": ""
             }
            },
            "type": "scattergeo"
           }
          ],
          "scattergl": [
           {
            "marker": {
             "colorbar": {
              "outlinewidth": 0,
              "ticks": ""
             }
            },
            "type": "scattergl"
           }
          ],
          "scattermapbox": [
           {
            "marker": {
             "colorbar": {
              "outlinewidth": 0,
              "ticks": ""
             }
            },
            "type": "scattermapbox"
           }
          ],
          "scatterpolar": [
           {
            "marker": {
             "colorbar": {
              "outlinewidth": 0,
              "ticks": ""
             }
            },
            "type": "scatterpolar"
           }
          ],
          "scatterpolargl": [
           {
            "marker": {
             "colorbar": {
              "outlinewidth": 0,
              "ticks": ""
             }
            },
            "type": "scatterpolargl"
           }
          ],
          "scatterternary": [
           {
            "marker": {
             "colorbar": {
              "outlinewidth": 0,
              "ticks": ""
             }
            },
            "type": "scatterternary"
           }
          ],
          "surface": [
           {
            "colorbar": {
             "outlinewidth": 0,
             "ticks": ""
            },
            "colorscale": [
             [
              0,
              "#0d0887"
             ],
             [
              0.1111111111111111,
              "#46039f"
             ],
             [
              0.2222222222222222,
              "#7201a8"
             ],
             [
              0.3333333333333333,
              "#9c179e"
             ],
             [
              0.4444444444444444,
              "#bd3786"
             ],
             [
              0.5555555555555556,
              "#d8576b"
             ],
             [
              0.6666666666666666,
              "#ed7953"
             ],
             [
              0.7777777777777778,
              "#fb9f3a"
             ],
             [
              0.8888888888888888,
              "#fdca26"
             ],
             [
              1,
              "#f0f921"
             ]
            ],
            "type": "surface"
           }
          ],
          "table": [
           {
            "cells": {
             "fill": {
              "color": "#EBF0F8"
             },
             "line": {
              "color": "white"
             }
            },
            "header": {
             "fill": {
              "color": "#C8D4E3"
             },
             "line": {
              "color": "white"
             }
            },
            "type": "table"
           }
          ]
         },
         "layout": {
          "annotationdefaults": {
           "arrowcolor": "#2a3f5f",
           "arrowhead": 0,
           "arrowwidth": 1
          },
          "autotypenumbers": "strict",
          "coloraxis": {
           "colorbar": {
            "outlinewidth": 0,
            "ticks": ""
           }
          },
          "colorscale": {
           "diverging": [
            [
             0,
             "#8e0152"
            ],
            [
             0.1,
             "#c51b7d"
            ],
            [
             0.2,
             "#de77ae"
            ],
            [
             0.3,
             "#f1b6da"
            ],
            [
             0.4,
             "#fde0ef"
            ],
            [
             0.5,
             "#f7f7f7"
            ],
            [
             0.6,
             "#e6f5d0"
            ],
            [
             0.7,
             "#b8e186"
            ],
            [
             0.8,
             "#7fbc41"
            ],
            [
             0.9,
             "#4d9221"
            ],
            [
             1,
             "#276419"
            ]
           ],
           "sequential": [
            [
             0,
             "#0d0887"
            ],
            [
             0.1111111111111111,
             "#46039f"
            ],
            [
             0.2222222222222222,
             "#7201a8"
            ],
            [
             0.3333333333333333,
             "#9c179e"
            ],
            [
             0.4444444444444444,
             "#bd3786"
            ],
            [
             0.5555555555555556,
             "#d8576b"
            ],
            [
             0.6666666666666666,
             "#ed7953"
            ],
            [
             0.7777777777777778,
             "#fb9f3a"
            ],
            [
             0.8888888888888888,
             "#fdca26"
            ],
            [
             1,
             "#f0f921"
            ]
           ],
           "sequentialminus": [
            [
             0,
             "#0d0887"
            ],
            [
             0.1111111111111111,
             "#46039f"
            ],
            [
             0.2222222222222222,
             "#7201a8"
            ],
            [
             0.3333333333333333,
             "#9c179e"
            ],
            [
             0.4444444444444444,
             "#bd3786"
            ],
            [
             0.5555555555555556,
             "#d8576b"
            ],
            [
             0.6666666666666666,
             "#ed7953"
            ],
            [
             0.7777777777777778,
             "#fb9f3a"
            ],
            [
             0.8888888888888888,
             "#fdca26"
            ],
            [
             1,
             "#f0f921"
            ]
           ]
          },
          "colorway": [
           "#636efa",
           "#EF553B",
           "#00cc96",
           "#ab63fa",
           "#FFA15A",
           "#19d3f3",
           "#FF6692",
           "#B6E880",
           "#FF97FF",
           "#FECB52"
          ],
          "font": {
           "color": "#2a3f5f"
          },
          "geo": {
           "bgcolor": "white",
           "lakecolor": "white",
           "landcolor": "#E5ECF6",
           "showlakes": true,
           "showland": true,
           "subunitcolor": "white"
          },
          "hoverlabel": {
           "align": "left"
          },
          "hovermode": "closest",
          "mapbox": {
           "style": "light"
          },
          "paper_bgcolor": "white",
          "plot_bgcolor": "#E5ECF6",
          "polar": {
           "angularaxis": {
            "gridcolor": "white",
            "linecolor": "white",
            "ticks": ""
           },
           "bgcolor": "#E5ECF6",
           "radialaxis": {
            "gridcolor": "white",
            "linecolor": "white",
            "ticks": ""
           }
          },
          "scene": {
           "xaxis": {
            "backgroundcolor": "#E5ECF6",
            "gridcolor": "white",
            "gridwidth": 2,
            "linecolor": "white",
            "showbackground": true,
            "ticks": "",
            "zerolinecolor": "white"
           },
           "yaxis": {
            "backgroundcolor": "#E5ECF6",
            "gridcolor": "white",
            "gridwidth": 2,
            "linecolor": "white",
            "showbackground": true,
            "ticks": "",
            "zerolinecolor": "white"
           },
           "zaxis": {
            "backgroundcolor": "#E5ECF6",
            "gridcolor": "white",
            "gridwidth": 2,
            "linecolor": "white",
            "showbackground": true,
            "ticks": "",
            "zerolinecolor": "white"
           }
          },
          "shapedefaults": {
           "line": {
            "color": "#2a3f5f"
           }
          },
          "ternary": {
           "aaxis": {
            "gridcolor": "white",
            "linecolor": "white",
            "ticks": ""
           },
           "baxis": {
            "gridcolor": "white",
            "linecolor": "white",
            "ticks": ""
           },
           "bgcolor": "#E5ECF6",
           "caxis": {
            "gridcolor": "white",
            "linecolor": "white",
            "ticks": ""
           }
          },
          "title": {
           "x": 0.05
          },
          "xaxis": {
           "automargin": true,
           "gridcolor": "white",
           "linecolor": "white",
           "ticks": "",
           "title": {
            "standoff": 15
           },
           "zerolinecolor": "white",
           "zerolinewidth": 2
          },
          "yaxis": {
           "automargin": true,
           "gridcolor": "white",
           "linecolor": "white",
           "ticks": "",
           "title": {
            "standoff": 15
           },
           "zerolinecolor": "white",
           "zerolinewidth": 2
          }
         }
        },
        "xaxis": {
         "anchor": "y",
         "domain": [
          0,
          1
         ],
         "title": {
          "text": "index"
         }
        },
        "yaxis": {
         "anchor": "x",
         "domain": [
          0,
          1
         ],
         "title": {
          "text": "value"
         }
        }
       }
      }
     },
     "metadata": {},
     "output_type": "display_data"
    }
   ],
   "source": [
    "px.line(metodos_metricas.T)"
   ]
  },
  {
   "cell_type": "markdown",
   "metadata": {},
   "source": [
    "### Sensibilidad por tipo de anomalía"
   ]
  },
  {
   "cell_type": "code",
   "execution_count": 81,
   "metadata": {},
   "outputs": [
    {
     "data": {
      "text/html": [
       "<div>\n",
       "<style scoped>\n",
       "    .dataframe tbody tr th:only-of-type {\n",
       "        vertical-align: middle;\n",
       "    }\n",
       "\n",
       "    .dataframe tbody tr th {\n",
       "        vertical-align: top;\n",
       "    }\n",
       "\n",
       "    .dataframe thead th {\n",
       "        text-align: right;\n",
       "    }\n",
       "</style>\n",
       "<table border=\"1\" class=\"dataframe\">\n",
       "  <thead>\n",
       "    <tr style=\"text-align: right;\">\n",
       "      <th></th>\n",
       "      <th>Anomalia</th>\n",
       "      <th>Negro</th>\n",
       "      <th>Congelado</th>\n",
       "      <th>Hum</th>\n",
       "      <th>CurvaCola</th>\n",
       "    </tr>\n",
       "  </thead>\n",
       "  <tbody>\n",
       "    <tr>\n",
       "      <th>HBOS</th>\n",
       "      <td>0.207871</td>\n",
       "      <td>0.27432</td>\n",
       "      <td>0.293006</td>\n",
       "      <td>0.866221</td>\n",
       "      <td>0.11543</td>\n",
       "    </tr>\n",
       "    <tr>\n",
       "      <th>IForest</th>\n",
       "      <td>0.275384</td>\n",
       "      <td>0.431151</td>\n",
       "      <td>0.485618</td>\n",
       "      <td>0.83612</td>\n",
       "      <td>0.133984</td>\n",
       "    </tr>\n",
       "    <tr>\n",
       "      <th>KNN</th>\n",
       "      <td>0.155397</td>\n",
       "      <td>0.174077</td>\n",
       "      <td>0.163001</td>\n",
       "      <td>0.381271</td>\n",
       "      <td>0.125977</td>\n",
       "    </tr>\n",
       "    <tr>\n",
       "      <th>LODA</th>\n",
       "      <td>0.28349</td>\n",
       "      <td>0.462409</td>\n",
       "      <td>0.51269</td>\n",
       "      <td>0.852843</td>\n",
       "      <td>0.126953</td>\n",
       "    </tr>\n",
       "    <tr>\n",
       "      <th>MAD_PyOD</th>\n",
       "      <td>0.379053</td>\n",
       "      <td>0.737807</td>\n",
       "      <td>0.911732</td>\n",
       "      <td>1.0</td>\n",
       "      <td>0.087109</td>\n",
       "    </tr>\n",
       "    <tr>\n",
       "      <th>MCD</th>\n",
       "      <td>0.148358</td>\n",
       "      <td>0.216114</td>\n",
       "      <td>0.119571</td>\n",
       "      <td>0.274247</td>\n",
       "      <td>0.10332</td>\n",
       "    </tr>\n",
       "    <tr>\n",
       "      <th>IForestASD</th>\n",
       "      <td>0.570392</td>\n",
       "      <td>0.882242</td>\n",
       "      <td>0.914834</td>\n",
       "      <td>0.986622</td>\n",
       "      <td>0.329102</td>\n",
       "    </tr>\n",
       "    <tr>\n",
       "      <th>MAD_PySAD</th>\n",
       "      <td>0.342363</td>\n",
       "      <td>0.731878</td>\n",
       "      <td>0.904681</td>\n",
       "      <td>0.006689</td>\n",
       "      <td>0.082227</td>\n",
       "    </tr>\n",
       "    <tr>\n",
       "      <th>SAD</th>\n",
       "      <td>0.342363</td>\n",
       "      <td>0.731878</td>\n",
       "      <td>0.904681</td>\n",
       "      <td>0.006689</td>\n",
       "      <td>0.082227</td>\n",
       "    </tr>\n",
       "    <tr>\n",
       "      <th>xStream</th>\n",
       "      <td>0.534236</td>\n",
       "      <td>0.860415</td>\n",
       "      <td>0.902143</td>\n",
       "      <td>0.919732</td>\n",
       "      <td>0.286133</td>\n",
       "    </tr>\n",
       "    <tr>\n",
       "      <th>HTM</th>\n",
       "      <td>0.019351</td>\n",
       "      <td>0.0</td>\n",
       "      <td>0.00962</td>\n",
       "      <td>0.01377</td>\n",
       "      <td>0.027877</td>\n",
       "    </tr>\n",
       "  </tbody>\n",
       "</table>\n",
       "</div>"
      ],
      "text/plain": [
       "            Anomalia     Negro Congelado       Hum CurvaCola\n",
       "HBOS        0.207871   0.27432  0.293006  0.866221   0.11543\n",
       "IForest     0.275384  0.431151  0.485618   0.83612  0.133984\n",
       "KNN         0.155397  0.174077  0.163001  0.381271  0.125977\n",
       "LODA         0.28349  0.462409   0.51269  0.852843  0.126953\n",
       "MAD_PyOD    0.379053  0.737807  0.911732       1.0  0.087109\n",
       "MCD         0.148358  0.216114  0.119571  0.274247   0.10332\n",
       "IForestASD  0.570392  0.882242  0.914834  0.986622  0.329102\n",
       "MAD_PySAD   0.342363  0.731878  0.904681  0.006689  0.082227\n",
       "SAD         0.342363  0.731878  0.904681  0.006689  0.082227\n",
       "xStream     0.534236  0.860415  0.902143  0.919732  0.286133\n",
       "HTM         0.019351       0.0   0.00962   0.01377  0.027877"
      ]
     },
     "execution_count": 81,
     "metadata": {},
     "output_type": "execute_result"
    }
   ],
   "source": [
    "metodos_sensibilidades = calc_sensibilidad(metodos,metodos_lista,anomalias)\n",
    "metodos_sensibilidades = pd.concat([metodos_sensibilidades,calc_sensibilidad(metodos_htm, ['HTM'], anomalias)])\n",
    "metodos_sensibilidades"
   ]
  },
  {
   "cell_type": "code",
   "execution_count": 82,
   "metadata": {},
   "outputs": [
    {
     "data": {
      "application/vnd.plotly.v1+json": {
       "config": {
        "plotlyServerURL": "https://plot.ly"
       },
       "data": [
        {
         "hovertemplate": "variable=HBOS<br>index=%{x}<br>value=%{y}<extra></extra>",
         "legendgroup": "HBOS",
         "line": {
          "color": "#636efa",
          "dash": "solid"
         },
         "marker": {
          "symbol": "circle"
         },
         "mode": "lines",
         "name": "HBOS",
         "orientation": "v",
         "showlegend": true,
         "type": "scatter",
         "x": [
          "Anomalia",
          "Negro",
          "Congelado",
          "Hum",
          "CurvaCola"
         ],
         "xaxis": "x",
         "y": [
          0.2078711604095563,
          0.2743195904068984,
          0.29300620417371687,
          0.8662207357859532,
          0.1154296875
         ],
         "yaxis": "y"
        },
        {
         "hovertemplate": "variable=IForest<br>index=%{x}<br>value=%{y}<extra></extra>",
         "legendgroup": "IForest",
         "line": {
          "color": "#EF553B",
          "dash": "solid"
         },
         "marker": {
          "symbol": "circle"
         },
         "mode": "lines",
         "name": "IForest",
         "orientation": "v",
         "showlegend": true,
         "type": "scatter",
         "x": [
          "Anomalia",
          "Negro",
          "Congelado",
          "Hum",
          "CurvaCola"
         ],
         "xaxis": "x",
         "y": [
          0.2753839590443686,
          0.4311506332524926,
          0.4856175972927242,
          0.8361204013377926,
          0.133984375
         ],
         "yaxis": "y"
        },
        {
         "hovertemplate": "variable=KNN<br>index=%{x}<br>value=%{y}<extra></extra>",
         "legendgroup": "KNN",
         "line": {
          "color": "#00cc96",
          "dash": "solid"
         },
         "marker": {
          "symbol": "circle"
         },
         "mode": "lines",
         "name": "KNN",
         "orientation": "v",
         "showlegend": true,
         "type": "scatter",
         "x": [
          "Anomalia",
          "Negro",
          "Congelado",
          "Hum",
          "CurvaCola"
         ],
         "xaxis": "x",
         "y": [
          0.15539675767918087,
          0.17407706817569388,
          0.16300056401579244,
          0.38127090301003347,
          0.1259765625
         ],
         "yaxis": "y"
        },
        {
         "hovertemplate": "variable=LODA<br>index=%{x}<br>value=%{y}<extra></extra>",
         "legendgroup": "LODA",
         "line": {
          "color": "#ab63fa",
          "dash": "solid"
         },
         "marker": {
          "symbol": "circle"
         },
         "mode": "lines",
         "name": "LODA",
         "orientation": "v",
         "showlegend": true,
         "type": "scatter",
         "x": [
          "Anomalia",
          "Negro",
          "Congelado",
          "Hum",
          "CurvaCola"
         ],
         "xaxis": "x",
         "y": [
          0.2834897610921502,
          0.4624090541632983,
          0.5126903553299492,
          0.8528428093645485,
          0.126953125
         ],
         "yaxis": "y"
        },
        {
         "hovertemplate": "variable=MAD_PyOD<br>index=%{x}<br>value=%{y}<extra></extra>",
         "legendgroup": "MAD_PyOD",
         "line": {
          "color": "#FFA15A",
          "dash": "solid"
         },
         "marker": {
          "symbol": "circle"
         },
         "mode": "lines",
         "name": "MAD_PyOD",
         "orientation": "v",
         "showlegend": true,
         "type": "scatter",
         "x": [
          "Anomalia",
          "Negro",
          "Congelado",
          "Hum",
          "CurvaCola"
         ],
         "xaxis": "x",
         "y": [
          0.3790529010238908,
          0.7378065211533279,
          0.9117315284827975,
          1,
          0.087109375
         ],
         "yaxis": "y"
        },
        {
         "hovertemplate": "variable=MCD<br>index=%{x}<br>value=%{y}<extra></extra>",
         "legendgroup": "MCD",
         "line": {
          "color": "#19d3f3",
          "dash": "solid"
         },
         "marker": {
          "symbol": "circle"
         },
         "mode": "lines",
         "name": "MCD",
         "orientation": "v",
         "showlegend": true,
         "type": "scatter",
         "x": [
          "Anomalia",
          "Negro",
          "Congelado",
          "Hum",
          "CurvaCola"
         ],
         "xaxis": "x",
         "y": [
          0.14835750853242322,
          0.21611425491781192,
          0.11957134799774394,
          0.27424749163879597,
          0.1033203125
         ],
         "yaxis": "y"
        },
        {
         "hovertemplate": "variable=IForestASD<br>index=%{x}<br>value=%{y}<extra></extra>",
         "legendgroup": "IForestASD",
         "line": {
          "color": "#FF6692",
          "dash": "solid"
         },
         "marker": {
          "symbol": "circle"
         },
         "mode": "lines",
         "name": "IForestASD",
         "orientation": "v",
         "showlegend": true,
         "type": "scatter",
         "x": [
          "Anomalia",
          "Negro",
          "Congelado",
          "Hum",
          "CurvaCola"
         ],
         "xaxis": "x",
         "y": [
          0.5703924914675768,
          0.8822419832929129,
          0.9148336153412295,
          0.9866220735785953,
          0.3291015625
         ],
         "yaxis": "y"
        },
        {
         "hovertemplate": "variable=MAD_PySAD<br>index=%{x}<br>value=%{y}<extra></extra>",
         "legendgroup": "MAD_PySAD",
         "line": {
          "color": "#B6E880",
          "dash": "solid"
         },
         "marker": {
          "symbol": "circle"
         },
         "mode": "lines",
         "name": "MAD_PySAD",
         "orientation": "v",
         "showlegend": true,
         "type": "scatter",
         "x": [
          "Anomalia",
          "Negro",
          "Congelado",
          "Hum",
          "CurvaCola"
         ],
         "xaxis": "x",
         "y": [
          0.34236348122866894,
          0.7318781999461061,
          0.9046813310772701,
          0.006688963210702341,
          0.0822265625
         ],
         "yaxis": "y"
        },
        {
         "hovertemplate": "variable=SAD<br>index=%{x}<br>value=%{y}<extra></extra>",
         "legendgroup": "SAD",
         "line": {
          "color": "#FF97FF",
          "dash": "solid"
         },
         "marker": {
          "symbol": "circle"
         },
         "mode": "lines",
         "name": "SAD",
         "orientation": "v",
         "showlegend": true,
         "type": "scatter",
         "x": [
          "Anomalia",
          "Negro",
          "Congelado",
          "Hum",
          "CurvaCola"
         ],
         "xaxis": "x",
         "y": [
          0.34236348122866894,
          0.7318781999461061,
          0.9046813310772701,
          0.006688963210702341,
          0.0822265625
         ],
         "yaxis": "y"
        },
        {
         "hovertemplate": "variable=xStream<br>index=%{x}<br>value=%{y}<extra></extra>",
         "legendgroup": "xStream",
         "line": {
          "color": "#FECB52",
          "dash": "solid"
         },
         "marker": {
          "symbol": "circle"
         },
         "mode": "lines",
         "name": "xStream",
         "orientation": "v",
         "showlegend": true,
         "type": "scatter",
         "x": [
          "Anomalia",
          "Negro",
          "Congelado",
          "Hum",
          "CurvaCola"
         ],
         "xaxis": "x",
         "y": [
          0.5342363481228669,
          0.8604149824845055,
          0.9021432600112803,
          0.919732441471572,
          0.2861328125
         ],
         "yaxis": "y"
        },
        {
         "hovertemplate": "variable=HTM<br>index=%{x}<br>value=%{y}<extra></extra>",
         "legendgroup": "HTM",
         "line": {
          "color": "#636efa",
          "dash": "solid"
         },
         "marker": {
          "symbol": "circle"
         },
         "mode": "lines",
         "name": "HTM",
         "orientation": "v",
         "showlegend": true,
         "type": "scatter",
         "x": [
          "Anomalia",
          "Negro",
          "Congelado",
          "Hum",
          "CurvaCola"
         ],
         "xaxis": "x",
         "y": [
          0.019351374570446736,
          0,
          0.00961973743775464,
          0.01377049180327869,
          0.027876607889901085
         ],
         "yaxis": "y"
        }
       ],
       "layout": {
        "legend": {
         "title": {
          "text": "variable"
         },
         "tracegroupgap": 0
        },
        "margin": {
         "t": 60
        },
        "template": {
         "data": {
          "bar": [
           {
            "error_x": {
             "color": "#2a3f5f"
            },
            "error_y": {
             "color": "#2a3f5f"
            },
            "marker": {
             "line": {
              "color": "#E5ECF6",
              "width": 0.5
             },
             "pattern": {
              "fillmode": "overlay",
              "size": 10,
              "solidity": 0.2
             }
            },
            "type": "bar"
           }
          ],
          "barpolar": [
           {
            "marker": {
             "line": {
              "color": "#E5ECF6",
              "width": 0.5
             },
             "pattern": {
              "fillmode": "overlay",
              "size": 10,
              "solidity": 0.2
             }
            },
            "type": "barpolar"
           }
          ],
          "carpet": [
           {
            "aaxis": {
             "endlinecolor": "#2a3f5f",
             "gridcolor": "white",
             "linecolor": "white",
             "minorgridcolor": "white",
             "startlinecolor": "#2a3f5f"
            },
            "baxis": {
             "endlinecolor": "#2a3f5f",
             "gridcolor": "white",
             "linecolor": "white",
             "minorgridcolor": "white",
             "startlinecolor": "#2a3f5f"
            },
            "type": "carpet"
           }
          ],
          "choropleth": [
           {
            "colorbar": {
             "outlinewidth": 0,
             "ticks": ""
            },
            "type": "choropleth"
           }
          ],
          "contour": [
           {
            "colorbar": {
             "outlinewidth": 0,
             "ticks": ""
            },
            "colorscale": [
             [
              0,
              "#0d0887"
             ],
             [
              0.1111111111111111,
              "#46039f"
             ],
             [
              0.2222222222222222,
              "#7201a8"
             ],
             [
              0.3333333333333333,
              "#9c179e"
             ],
             [
              0.4444444444444444,
              "#bd3786"
             ],
             [
              0.5555555555555556,
              "#d8576b"
             ],
             [
              0.6666666666666666,
              "#ed7953"
             ],
             [
              0.7777777777777778,
              "#fb9f3a"
             ],
             [
              0.8888888888888888,
              "#fdca26"
             ],
             [
              1,
              "#f0f921"
             ]
            ],
            "type": "contour"
           }
          ],
          "contourcarpet": [
           {
            "colorbar": {
             "outlinewidth": 0,
             "ticks": ""
            },
            "type": "contourcarpet"
           }
          ],
          "heatmap": [
           {
            "colorbar": {
             "outlinewidth": 0,
             "ticks": ""
            },
            "colorscale": [
             [
              0,
              "#0d0887"
             ],
             [
              0.1111111111111111,
              "#46039f"
             ],
             [
              0.2222222222222222,
              "#7201a8"
             ],
             [
              0.3333333333333333,
              "#9c179e"
             ],
             [
              0.4444444444444444,
              "#bd3786"
             ],
             [
              0.5555555555555556,
              "#d8576b"
             ],
             [
              0.6666666666666666,
              "#ed7953"
             ],
             [
              0.7777777777777778,
              "#fb9f3a"
             ],
             [
              0.8888888888888888,
              "#fdca26"
             ],
             [
              1,
              "#f0f921"
             ]
            ],
            "type": "heatmap"
           }
          ],
          "heatmapgl": [
           {
            "colorbar": {
             "outlinewidth": 0,
             "ticks": ""
            },
            "colorscale": [
             [
              0,
              "#0d0887"
             ],
             [
              0.1111111111111111,
              "#46039f"
             ],
             [
              0.2222222222222222,
              "#7201a8"
             ],
             [
              0.3333333333333333,
              "#9c179e"
             ],
             [
              0.4444444444444444,
              "#bd3786"
             ],
             [
              0.5555555555555556,
              "#d8576b"
             ],
             [
              0.6666666666666666,
              "#ed7953"
             ],
             [
              0.7777777777777778,
              "#fb9f3a"
             ],
             [
              0.8888888888888888,
              "#fdca26"
             ],
             [
              1,
              "#f0f921"
             ]
            ],
            "type": "heatmapgl"
           }
          ],
          "histogram": [
           {
            "marker": {
             "pattern": {
              "fillmode": "overlay",
              "size": 10,
              "solidity": 0.2
             }
            },
            "type": "histogram"
           }
          ],
          "histogram2d": [
           {
            "colorbar": {
             "outlinewidth": 0,
             "ticks": ""
            },
            "colorscale": [
             [
              0,
              "#0d0887"
             ],
             [
              0.1111111111111111,
              "#46039f"
             ],
             [
              0.2222222222222222,
              "#7201a8"
             ],
             [
              0.3333333333333333,
              "#9c179e"
             ],
             [
              0.4444444444444444,
              "#bd3786"
             ],
             [
              0.5555555555555556,
              "#d8576b"
             ],
             [
              0.6666666666666666,
              "#ed7953"
             ],
             [
              0.7777777777777778,
              "#fb9f3a"
             ],
             [
              0.8888888888888888,
              "#fdca26"
             ],
             [
              1,
              "#f0f921"
             ]
            ],
            "type": "histogram2d"
           }
          ],
          "histogram2dcontour": [
           {
            "colorbar": {
             "outlinewidth": 0,
             "ticks": ""
            },
            "colorscale": [
             [
              0,
              "#0d0887"
             ],
             [
              0.1111111111111111,
              "#46039f"
             ],
             [
              0.2222222222222222,
              "#7201a8"
             ],
             [
              0.3333333333333333,
              "#9c179e"
             ],
             [
              0.4444444444444444,
              "#bd3786"
             ],
             [
              0.5555555555555556,
              "#d8576b"
             ],
             [
              0.6666666666666666,
              "#ed7953"
             ],
             [
              0.7777777777777778,
              "#fb9f3a"
             ],
             [
              0.8888888888888888,
              "#fdca26"
             ],
             [
              1,
              "#f0f921"
             ]
            ],
            "type": "histogram2dcontour"
           }
          ],
          "mesh3d": [
           {
            "colorbar": {
             "outlinewidth": 0,
             "ticks": ""
            },
            "type": "mesh3d"
           }
          ],
          "parcoords": [
           {
            "line": {
             "colorbar": {
              "outlinewidth": 0,
              "ticks": ""
             }
            },
            "type": "parcoords"
           }
          ],
          "pie": [
           {
            "automargin": true,
            "type": "pie"
           }
          ],
          "scatter": [
           {
            "fillpattern": {
             "fillmode": "overlay",
             "size": 10,
             "solidity": 0.2
            },
            "type": "scatter"
           }
          ],
          "scatter3d": [
           {
            "line": {
             "colorbar": {
              "outlinewidth": 0,
              "ticks": ""
             }
            },
            "marker": {
             "colorbar": {
              "outlinewidth": 0,
              "ticks": ""
             }
            },
            "type": "scatter3d"
           }
          ],
          "scattercarpet": [
           {
            "marker": {
             "colorbar": {
              "outlinewidth": 0,
              "ticks": ""
             }
            },
            "type": "scattercarpet"
           }
          ],
          "scattergeo": [
           {
            "marker": {
             "colorbar": {
              "outlinewidth": 0,
              "ticks": ""
             }
            },
            "type": "scattergeo"
           }
          ],
          "scattergl": [
           {
            "marker": {
             "colorbar": {
              "outlinewidth": 0,
              "ticks": ""
             }
            },
            "type": "scattergl"
           }
          ],
          "scattermapbox": [
           {
            "marker": {
             "colorbar": {
              "outlinewidth": 0,
              "ticks": ""
             }
            },
            "type": "scattermapbox"
           }
          ],
          "scatterpolar": [
           {
            "marker": {
             "colorbar": {
              "outlinewidth": 0,
              "ticks": ""
             }
            },
            "type": "scatterpolar"
           }
          ],
          "scatterpolargl": [
           {
            "marker": {
             "colorbar": {
              "outlinewidth": 0,
              "ticks": ""
             }
            },
            "type": "scatterpolargl"
           }
          ],
          "scatterternary": [
           {
            "marker": {
             "colorbar": {
              "outlinewidth": 0,
              "ticks": ""
             }
            },
            "type": "scatterternary"
           }
          ],
          "surface": [
           {
            "colorbar": {
             "outlinewidth": 0,
             "ticks": ""
            },
            "colorscale": [
             [
              0,
              "#0d0887"
             ],
             [
              0.1111111111111111,
              "#46039f"
             ],
             [
              0.2222222222222222,
              "#7201a8"
             ],
             [
              0.3333333333333333,
              "#9c179e"
             ],
             [
              0.4444444444444444,
              "#bd3786"
             ],
             [
              0.5555555555555556,
              "#d8576b"
             ],
             [
              0.6666666666666666,
              "#ed7953"
             ],
             [
              0.7777777777777778,
              "#fb9f3a"
             ],
             [
              0.8888888888888888,
              "#fdca26"
             ],
             [
              1,
              "#f0f921"
             ]
            ],
            "type": "surface"
           }
          ],
          "table": [
           {
            "cells": {
             "fill": {
              "color": "#EBF0F8"
             },
             "line": {
              "color": "white"
             }
            },
            "header": {
             "fill": {
              "color": "#C8D4E3"
             },
             "line": {
              "color": "white"
             }
            },
            "type": "table"
           }
          ]
         },
         "layout": {
          "annotationdefaults": {
           "arrowcolor": "#2a3f5f",
           "arrowhead": 0,
           "arrowwidth": 1
          },
          "autotypenumbers": "strict",
          "coloraxis": {
           "colorbar": {
            "outlinewidth": 0,
            "ticks": ""
           }
          },
          "colorscale": {
           "diverging": [
            [
             0,
             "#8e0152"
            ],
            [
             0.1,
             "#c51b7d"
            ],
            [
             0.2,
             "#de77ae"
            ],
            [
             0.3,
             "#f1b6da"
            ],
            [
             0.4,
             "#fde0ef"
            ],
            [
             0.5,
             "#f7f7f7"
            ],
            [
             0.6,
             "#e6f5d0"
            ],
            [
             0.7,
             "#b8e186"
            ],
            [
             0.8,
             "#7fbc41"
            ],
            [
             0.9,
             "#4d9221"
            ],
            [
             1,
             "#276419"
            ]
           ],
           "sequential": [
            [
             0,
             "#0d0887"
            ],
            [
             0.1111111111111111,
             "#46039f"
            ],
            [
             0.2222222222222222,
             "#7201a8"
            ],
            [
             0.3333333333333333,
             "#9c179e"
            ],
            [
             0.4444444444444444,
             "#bd3786"
            ],
            [
             0.5555555555555556,
             "#d8576b"
            ],
            [
             0.6666666666666666,
             "#ed7953"
            ],
            [
             0.7777777777777778,
             "#fb9f3a"
            ],
            [
             0.8888888888888888,
             "#fdca26"
            ],
            [
             1,
             "#f0f921"
            ]
           ],
           "sequentialminus": [
            [
             0,
             "#0d0887"
            ],
            [
             0.1111111111111111,
             "#46039f"
            ],
            [
             0.2222222222222222,
             "#7201a8"
            ],
            [
             0.3333333333333333,
             "#9c179e"
            ],
            [
             0.4444444444444444,
             "#bd3786"
            ],
            [
             0.5555555555555556,
             "#d8576b"
            ],
            [
             0.6666666666666666,
             "#ed7953"
            ],
            [
             0.7777777777777778,
             "#fb9f3a"
            ],
            [
             0.8888888888888888,
             "#fdca26"
            ],
            [
             1,
             "#f0f921"
            ]
           ]
          },
          "colorway": [
           "#636efa",
           "#EF553B",
           "#00cc96",
           "#ab63fa",
           "#FFA15A",
           "#19d3f3",
           "#FF6692",
           "#B6E880",
           "#FF97FF",
           "#FECB52"
          ],
          "font": {
           "color": "#2a3f5f"
          },
          "geo": {
           "bgcolor": "white",
           "lakecolor": "white",
           "landcolor": "#E5ECF6",
           "showlakes": true,
           "showland": true,
           "subunitcolor": "white"
          },
          "hoverlabel": {
           "align": "left"
          },
          "hovermode": "closest",
          "mapbox": {
           "style": "light"
          },
          "paper_bgcolor": "white",
          "plot_bgcolor": "#E5ECF6",
          "polar": {
           "angularaxis": {
            "gridcolor": "white",
            "linecolor": "white",
            "ticks": ""
           },
           "bgcolor": "#E5ECF6",
           "radialaxis": {
            "gridcolor": "white",
            "linecolor": "white",
            "ticks": ""
           }
          },
          "scene": {
           "xaxis": {
            "backgroundcolor": "#E5ECF6",
            "gridcolor": "white",
            "gridwidth": 2,
            "linecolor": "white",
            "showbackground": true,
            "ticks": "",
            "zerolinecolor": "white"
           },
           "yaxis": {
            "backgroundcolor": "#E5ECF6",
            "gridcolor": "white",
            "gridwidth": 2,
            "linecolor": "white",
            "showbackground": true,
            "ticks": "",
            "zerolinecolor": "white"
           },
           "zaxis": {
            "backgroundcolor": "#E5ECF6",
            "gridcolor": "white",
            "gridwidth": 2,
            "linecolor": "white",
            "showbackground": true,
            "ticks": "",
            "zerolinecolor": "white"
           }
          },
          "shapedefaults": {
           "line": {
            "color": "#2a3f5f"
           }
          },
          "ternary": {
           "aaxis": {
            "gridcolor": "white",
            "linecolor": "white",
            "ticks": ""
           },
           "baxis": {
            "gridcolor": "white",
            "linecolor": "white",
            "ticks": ""
           },
           "bgcolor": "#E5ECF6",
           "caxis": {
            "gridcolor": "white",
            "linecolor": "white",
            "ticks": ""
           }
          },
          "title": {
           "x": 0.05
          },
          "xaxis": {
           "automargin": true,
           "gridcolor": "white",
           "linecolor": "white",
           "ticks": "",
           "title": {
            "standoff": 15
           },
           "zerolinecolor": "white",
           "zerolinewidth": 2
          },
          "yaxis": {
           "automargin": true,
           "gridcolor": "white",
           "linecolor": "white",
           "ticks": "",
           "title": {
            "standoff": 15
           },
           "zerolinecolor": "white",
           "zerolinewidth": 2
          }
         }
        },
        "xaxis": {
         "anchor": "y",
         "domain": [
          0,
          1
         ],
         "title": {
          "text": "index"
         }
        },
        "yaxis": {
         "anchor": "x",
         "domain": [
          0,
          1
         ],
         "title": {
          "text": "value"
         }
        }
       }
      }
     },
     "metadata": {},
     "output_type": "display_data"
    }
   ],
   "source": [
    "px.line(metodos_sensibilidades.T)"
   ]
  },
  {
   "cell_type": "markdown",
   "metadata": {},
   "source": [
    "## Métodos NIRvsSecadero"
   ]
  },
  {
   "cell_type": "code",
   "execution_count": 83,
   "metadata": {},
   "outputs": [
    {
     "data": {
      "text/html": [
       "<div>\n",
       "<style scoped>\n",
       "    .dataframe tbody tr th:only-of-type {\n",
       "        vertical-align: middle;\n",
       "    }\n",
       "\n",
       "    .dataframe tbody tr th {\n",
       "        vertical-align: top;\n",
       "    }\n",
       "\n",
       "    .dataframe thead th {\n",
       "        text-align: right;\n",
       "    }\n",
       "</style>\n",
       "<table border=\"1\" class=\"dataframe\">\n",
       "  <thead>\n",
       "    <tr style=\"text-align: right;\">\n",
       "      <th></th>\n",
       "      <th>Negro</th>\n",
       "      <th>CurvaCola</th>\n",
       "      <th>Congelado</th>\n",
       "      <th>Hum</th>\n",
       "      <th>Anomalia</th>\n",
       "      <th>IForest</th>\n",
       "      <th>MAD</th>\n",
       "    </tr>\n",
       "    <tr>\n",
       "      <th>fecha</th>\n",
       "      <th></th>\n",
       "      <th></th>\n",
       "      <th></th>\n",
       "      <th></th>\n",
       "      <th></th>\n",
       "      <th></th>\n",
       "      <th></th>\n",
       "    </tr>\n",
       "  </thead>\n",
       "  <tbody>\n",
       "    <tr>\n",
       "      <th>2021-08-01 11:06:00</th>\n",
       "      <td>0</td>\n",
       "      <td>0</td>\n",
       "      <td>0</td>\n",
       "      <td>0</td>\n",
       "      <td>0</td>\n",
       "      <td>0</td>\n",
       "      <td>0</td>\n",
       "    </tr>\n",
       "    <tr>\n",
       "      <th>2021-03-15 11:15:00</th>\n",
       "      <td>0</td>\n",
       "      <td>0</td>\n",
       "      <td>0</td>\n",
       "      <td>0</td>\n",
       "      <td>0</td>\n",
       "      <td>0</td>\n",
       "      <td>0</td>\n",
       "    </tr>\n",
       "    <tr>\n",
       "      <th>2021-10-19 07:04:00</th>\n",
       "      <td>0</td>\n",
       "      <td>0</td>\n",
       "      <td>0</td>\n",
       "      <td>0</td>\n",
       "      <td>0</td>\n",
       "      <td>0</td>\n",
       "      <td>0</td>\n",
       "    </tr>\n",
       "    <tr>\n",
       "      <th>2021-04-17 10:46:00</th>\n",
       "      <td>0</td>\n",
       "      <td>0</td>\n",
       "      <td>0</td>\n",
       "      <td>0</td>\n",
       "      <td>0</td>\n",
       "      <td>0</td>\n",
       "      <td>0</td>\n",
       "    </tr>\n",
       "    <tr>\n",
       "      <th>2021-03-07 19:50:00</th>\n",
       "      <td>0</td>\n",
       "      <td>0</td>\n",
       "      <td>0</td>\n",
       "      <td>0</td>\n",
       "      <td>0</td>\n",
       "      <td>0</td>\n",
       "      <td>0</td>\n",
       "    </tr>\n",
       "  </tbody>\n",
       "</table>\n",
       "</div>"
      ],
      "text/plain": [
       "                     Negro  CurvaCola  Congelado  Hum  Anomalia  IForest  MAD\n",
       "fecha                                                                        \n",
       "2021-08-01 11:06:00      0          0          0    0         0        0    0\n",
       "2021-03-15 11:15:00      0          0          0    0         0        0    0\n",
       "2021-10-19 07:04:00      0          0          0    0         0        0    0\n",
       "2021-04-17 10:46:00      0          0          0    0         0        0    0\n",
       "2021-03-07 19:50:00      0          0          0    0         0        0    0"
      ]
     },
     "execution_count": 83,
     "metadata": {},
     "output_type": "execute_result"
    }
   ],
   "source": [
    "metodos_NvS = pd.read_csv('Metodos_NIRvsSecadero/Total/Resultados/PyOD_IForest_completo.csv',index_col='fecha')\n",
    "metodos_NvS = metodos_NvS.drop('Y_pred', axis=1)\n",
    "\n",
    "metodos_NvS['IForest'] = pd.read_csv('Metodos_NIRvsSecadero/Total/Resultados/PyOD_IForest_completo.csv',usecols=['fecha','Y_pred'],index_col='fecha')\n",
    "metodos_NvS['MAD'] = pd.read_csv('Metodos_NIRvsSecadero/Total/Resultados/PyOD_MAD_completo.csv',usecols=['fecha','Y_pred'],index_col='fecha')\n",
    "\n",
    "metodos_NvS_htm = pd.read_csv('Metodos_NIRvsSecadero/Total/HTM_Uni/HTM_completo.csv',index_col='fecha')\n",
    "metodos_NvS_htm['HTM'] = metodos_NvS_htm['Y_pred']\n",
    "metodos_NvS_htm = metodos_NvS_htm.drop('Y_pred',axis=1)\n",
    "\n",
    "metodos_NvS.head()"
   ]
  },
  {
   "cell_type": "markdown",
   "metadata": {},
   "source": []
  },
  {
   "cell_type": "markdown",
   "metadata": {},
   "source": [
    "### Métricas generales:"
   ]
  },
  {
   "cell_type": "code",
   "execution_count": 84,
   "metadata": {},
   "outputs": [
    {
     "data": {
      "text/html": [
       "<div>\n",
       "<style scoped>\n",
       "    .dataframe tbody tr th:only-of-type {\n",
       "        vertical-align: middle;\n",
       "    }\n",
       "\n",
       "    .dataframe tbody tr th {\n",
       "        vertical-align: top;\n",
       "    }\n",
       "\n",
       "    .dataframe thead th {\n",
       "        text-align: right;\n",
       "    }\n",
       "</style>\n",
       "<table border=\"1\" class=\"dataframe\">\n",
       "  <thead>\n",
       "    <tr style=\"text-align: right;\">\n",
       "      <th></th>\n",
       "      <th>roc_auc</th>\n",
       "      <th>accuracy</th>\n",
       "      <th>precision</th>\n",
       "      <th>kappa</th>\n",
       "      <th>sensibilidad</th>\n",
       "      <th>especificidad</th>\n",
       "    </tr>\n",
       "  </thead>\n",
       "  <tbody>\n",
       "    <tr>\n",
       "      <th>IForest</th>\n",
       "      <td>0.673347</td>\n",
       "      <td>0.86196</td>\n",
       "      <td>0.648543</td>\n",
       "      <td>0.412492</td>\n",
       "      <td>0.389292</td>\n",
       "      <td>0.957402</td>\n",
       "    </tr>\n",
       "    <tr>\n",
       "      <th>MAD</th>\n",
       "      <td>0.671695</td>\n",
       "      <td>0.879466</td>\n",
       "      <td>0.824712</td>\n",
       "      <td>0.443335</td>\n",
       "      <td>0.358788</td>\n",
       "      <td>0.984602</td>\n",
       "    </tr>\n",
       "    <tr>\n",
       "      <th>HTM</th>\n",
       "      <td>0.470918</td>\n",
       "      <td>0.771365</td>\n",
       "      <td>0.048738</td>\n",
       "      <td>-0.076111</td>\n",
       "      <td>0.019996</td>\n",
       "      <td>0.921841</td>\n",
       "    </tr>\n",
       "  </tbody>\n",
       "</table>\n",
       "</div>"
      ],
      "text/plain": [
       "          roc_auc  accuracy precision     kappa sensibilidad especificidad\n",
       "IForest  0.673347   0.86196  0.648543  0.412492     0.389292      0.957402\n",
       "MAD      0.671695  0.879466  0.824712  0.443335     0.358788      0.984602\n",
       "HTM      0.470918  0.771365  0.048738 -0.076111     0.019996      0.921841"
      ]
     },
     "execution_count": 84,
     "metadata": {},
     "output_type": "execute_result"
    }
   ],
   "source": [
    "metodos_NvS_lista = ['IForest','MAD']\n",
    "metodos_NvS_metricas = calc_metricas(metodos_NvS,['IForest','MAD'])\n",
    "metodos_NvS_metricas = pd.concat([metodos_NvS_metricas,calc_metricas(metodos_NvS_htm, ['HTM'])])\n",
    "metodos_NvS_metricas"
   ]
  },
  {
   "cell_type": "code",
   "execution_count": 85,
   "metadata": {},
   "outputs": [
    {
     "data": {
      "application/vnd.plotly.v1+json": {
       "config": {
        "plotlyServerURL": "https://plot.ly"
       },
       "data": [
        {
         "hovertemplate": "variable=IForest<br>index=%{x}<br>value=%{y}<extra></extra>",
         "legendgroup": "IForest",
         "line": {
          "color": "#636efa",
          "dash": "solid"
         },
         "marker": {
          "symbol": "circle"
         },
         "mode": "lines",
         "name": "IForest",
         "orientation": "v",
         "showlegend": true,
         "type": "scatter",
         "x": [
          "roc_auc",
          "accuracy",
          "precision",
          "kappa",
          "sensibilidad",
          "especificidad"
         ],
         "xaxis": "x",
         "y": [
          0.6733468563255623,
          0.8619602221824045,
          0.648542999289268,
          0.4124917851924248,
          0.3892918088737201,
          0.9574019037774045
         ],
         "yaxis": "y"
        },
        {
         "hovertemplate": "variable=MAD<br>index=%{x}<br>value=%{y}<extra></extra>",
         "legendgroup": "MAD",
         "line": {
          "color": "#EF553B",
          "dash": "solid"
         },
         "marker": {
          "symbol": "circle"
         },
         "mode": "lines",
         "name": "MAD",
         "orientation": "v",
         "showlegend": true,
         "type": "scatter",
         "x": [
          "roc_auc",
          "accuracy",
          "precision",
          "kappa",
          "sensibilidad",
          "especificidad"
         ],
         "xaxis": "x",
         "y": [
          0.6716950981546563,
          0.879466045511557,
          0.8247119392007846,
          0.44333501728327385,
          0.35878839590443684,
          0.9846018004048758
         ],
         "yaxis": "y"
        },
        {
         "hovertemplate": "variable=HTM<br>index=%{x}<br>value=%{y}<extra></extra>",
         "legendgroup": "HTM",
         "line": {
          "color": "#00cc96",
          "dash": "solid"
         },
         "marker": {
          "symbol": "circle"
         },
         "mode": "lines",
         "name": "HTM",
         "orientation": "v",
         "showlegend": true,
         "type": "scatter",
         "x": [
          "roc_auc",
          "accuracy",
          "precision",
          "kappa",
          "sensibilidad",
          "especificidad"
         ],
         "xaxis": "x",
         "y": [
          0.4709184158756714,
          0.7713654998423211,
          0.04873835200502565,
          -0.07611130435818003,
          0.01999570446735395,
          0.9218411272839888
         ],
         "yaxis": "y"
        }
       ],
       "layout": {
        "legend": {
         "title": {
          "text": "variable"
         },
         "tracegroupgap": 0
        },
        "margin": {
         "t": 60
        },
        "template": {
         "data": {
          "bar": [
           {
            "error_x": {
             "color": "#2a3f5f"
            },
            "error_y": {
             "color": "#2a3f5f"
            },
            "marker": {
             "line": {
              "color": "#E5ECF6",
              "width": 0.5
             },
             "pattern": {
              "fillmode": "overlay",
              "size": 10,
              "solidity": 0.2
             }
            },
            "type": "bar"
           }
          ],
          "barpolar": [
           {
            "marker": {
             "line": {
              "color": "#E5ECF6",
              "width": 0.5
             },
             "pattern": {
              "fillmode": "overlay",
              "size": 10,
              "solidity": 0.2
             }
            },
            "type": "barpolar"
           }
          ],
          "carpet": [
           {
            "aaxis": {
             "endlinecolor": "#2a3f5f",
             "gridcolor": "white",
             "linecolor": "white",
             "minorgridcolor": "white",
             "startlinecolor": "#2a3f5f"
            },
            "baxis": {
             "endlinecolor": "#2a3f5f",
             "gridcolor": "white",
             "linecolor": "white",
             "minorgridcolor": "white",
             "startlinecolor": "#2a3f5f"
            },
            "type": "carpet"
           }
          ],
          "choropleth": [
           {
            "colorbar": {
             "outlinewidth": 0,
             "ticks": ""
            },
            "type": "choropleth"
           }
          ],
          "contour": [
           {
            "colorbar": {
             "outlinewidth": 0,
             "ticks": ""
            },
            "colorscale": [
             [
              0,
              "#0d0887"
             ],
             [
              0.1111111111111111,
              "#46039f"
             ],
             [
              0.2222222222222222,
              "#7201a8"
             ],
             [
              0.3333333333333333,
              "#9c179e"
             ],
             [
              0.4444444444444444,
              "#bd3786"
             ],
             [
              0.5555555555555556,
              "#d8576b"
             ],
             [
              0.6666666666666666,
              "#ed7953"
             ],
             [
              0.7777777777777778,
              "#fb9f3a"
             ],
             [
              0.8888888888888888,
              "#fdca26"
             ],
             [
              1,
              "#f0f921"
             ]
            ],
            "type": "contour"
           }
          ],
          "contourcarpet": [
           {
            "colorbar": {
             "outlinewidth": 0,
             "ticks": ""
            },
            "type": "contourcarpet"
           }
          ],
          "heatmap": [
           {
            "colorbar": {
             "outlinewidth": 0,
             "ticks": ""
            },
            "colorscale": [
             [
              0,
              "#0d0887"
             ],
             [
              0.1111111111111111,
              "#46039f"
             ],
             [
              0.2222222222222222,
              "#7201a8"
             ],
             [
              0.3333333333333333,
              "#9c179e"
             ],
             [
              0.4444444444444444,
              "#bd3786"
             ],
             [
              0.5555555555555556,
              "#d8576b"
             ],
             [
              0.6666666666666666,
              "#ed7953"
             ],
             [
              0.7777777777777778,
              "#fb9f3a"
             ],
             [
              0.8888888888888888,
              "#fdca26"
             ],
             [
              1,
              "#f0f921"
             ]
            ],
            "type": "heatmap"
           }
          ],
          "heatmapgl": [
           {
            "colorbar": {
             "outlinewidth": 0,
             "ticks": ""
            },
            "colorscale": [
             [
              0,
              "#0d0887"
             ],
             [
              0.1111111111111111,
              "#46039f"
             ],
             [
              0.2222222222222222,
              "#7201a8"
             ],
             [
              0.3333333333333333,
              "#9c179e"
             ],
             [
              0.4444444444444444,
              "#bd3786"
             ],
             [
              0.5555555555555556,
              "#d8576b"
             ],
             [
              0.6666666666666666,
              "#ed7953"
             ],
             [
              0.7777777777777778,
              "#fb9f3a"
             ],
             [
              0.8888888888888888,
              "#fdca26"
             ],
             [
              1,
              "#f0f921"
             ]
            ],
            "type": "heatmapgl"
           }
          ],
          "histogram": [
           {
            "marker": {
             "pattern": {
              "fillmode": "overlay",
              "size": 10,
              "solidity": 0.2
             }
            },
            "type": "histogram"
           }
          ],
          "histogram2d": [
           {
            "colorbar": {
             "outlinewidth": 0,
             "ticks": ""
            },
            "colorscale": [
             [
              0,
              "#0d0887"
             ],
             [
              0.1111111111111111,
              "#46039f"
             ],
             [
              0.2222222222222222,
              "#7201a8"
             ],
             [
              0.3333333333333333,
              "#9c179e"
             ],
             [
              0.4444444444444444,
              "#bd3786"
             ],
             [
              0.5555555555555556,
              "#d8576b"
             ],
             [
              0.6666666666666666,
              "#ed7953"
             ],
             [
              0.7777777777777778,
              "#fb9f3a"
             ],
             [
              0.8888888888888888,
              "#fdca26"
             ],
             [
              1,
              "#f0f921"
             ]
            ],
            "type": "histogram2d"
           }
          ],
          "histogram2dcontour": [
           {
            "colorbar": {
             "outlinewidth": 0,
             "ticks": ""
            },
            "colorscale": [
             [
              0,
              "#0d0887"
             ],
             [
              0.1111111111111111,
              "#46039f"
             ],
             [
              0.2222222222222222,
              "#7201a8"
             ],
             [
              0.3333333333333333,
              "#9c179e"
             ],
             [
              0.4444444444444444,
              "#bd3786"
             ],
             [
              0.5555555555555556,
              "#d8576b"
             ],
             [
              0.6666666666666666,
              "#ed7953"
             ],
             [
              0.7777777777777778,
              "#fb9f3a"
             ],
             [
              0.8888888888888888,
              "#fdca26"
             ],
             [
              1,
              "#f0f921"
             ]
            ],
            "type": "histogram2dcontour"
           }
          ],
          "mesh3d": [
           {
            "colorbar": {
             "outlinewidth": 0,
             "ticks": ""
            },
            "type": "mesh3d"
           }
          ],
          "parcoords": [
           {
            "line": {
             "colorbar": {
              "outlinewidth": 0,
              "ticks": ""
             }
            },
            "type": "parcoords"
           }
          ],
          "pie": [
           {
            "automargin": true,
            "type": "pie"
           }
          ],
          "scatter": [
           {
            "fillpattern": {
             "fillmode": "overlay",
             "size": 10,
             "solidity": 0.2
            },
            "type": "scatter"
           }
          ],
          "scatter3d": [
           {
            "line": {
             "colorbar": {
              "outlinewidth": 0,
              "ticks": ""
             }
            },
            "marker": {
             "colorbar": {
              "outlinewidth": 0,
              "ticks": ""
             }
            },
            "type": "scatter3d"
           }
          ],
          "scattercarpet": [
           {
            "marker": {
             "colorbar": {
              "outlinewidth": 0,
              "ticks": ""
             }
            },
            "type": "scattercarpet"
           }
          ],
          "scattergeo": [
           {
            "marker": {
             "colorbar": {
              "outlinewidth": 0,
              "ticks": ""
             }
            },
            "type": "scattergeo"
           }
          ],
          "scattergl": [
           {
            "marker": {
             "colorbar": {
              "outlinewidth": 0,
              "ticks": ""
             }
            },
            "type": "scattergl"
           }
          ],
          "scattermapbox": [
           {
            "marker": {
             "colorbar": {
              "outlinewidth": 0,
              "ticks": ""
             }
            },
            "type": "scattermapbox"
           }
          ],
          "scatterpolar": [
           {
            "marker": {
             "colorbar": {
              "outlinewidth": 0,
              "ticks": ""
             }
            },
            "type": "scatterpolar"
           }
          ],
          "scatterpolargl": [
           {
            "marker": {
             "colorbar": {
              "outlinewidth": 0,
              "ticks": ""
             }
            },
            "type": "scatterpolargl"
           }
          ],
          "scatterternary": [
           {
            "marker": {
             "colorbar": {
              "outlinewidth": 0,
              "ticks": ""
             }
            },
            "type": "scatterternary"
           }
          ],
          "surface": [
           {
            "colorbar": {
             "outlinewidth": 0,
             "ticks": ""
            },
            "colorscale": [
             [
              0,
              "#0d0887"
             ],
             [
              0.1111111111111111,
              "#46039f"
             ],
             [
              0.2222222222222222,
              "#7201a8"
             ],
             [
              0.3333333333333333,
              "#9c179e"
             ],
             [
              0.4444444444444444,
              "#bd3786"
             ],
             [
              0.5555555555555556,
              "#d8576b"
             ],
             [
              0.6666666666666666,
              "#ed7953"
             ],
             [
              0.7777777777777778,
              "#fb9f3a"
             ],
             [
              0.8888888888888888,
              "#fdca26"
             ],
             [
              1,
              "#f0f921"
             ]
            ],
            "type": "surface"
           }
          ],
          "table": [
           {
            "cells": {
             "fill": {
              "color": "#EBF0F8"
             },
             "line": {
              "color": "white"
             }
            },
            "header": {
             "fill": {
              "color": "#C8D4E3"
             },
             "line": {
              "color": "white"
             }
            },
            "type": "table"
           }
          ]
         },
         "layout": {
          "annotationdefaults": {
           "arrowcolor": "#2a3f5f",
           "arrowhead": 0,
           "arrowwidth": 1
          },
          "autotypenumbers": "strict",
          "coloraxis": {
           "colorbar": {
            "outlinewidth": 0,
            "ticks": ""
           }
          },
          "colorscale": {
           "diverging": [
            [
             0,
             "#8e0152"
            ],
            [
             0.1,
             "#c51b7d"
            ],
            [
             0.2,
             "#de77ae"
            ],
            [
             0.3,
             "#f1b6da"
            ],
            [
             0.4,
             "#fde0ef"
            ],
            [
             0.5,
             "#f7f7f7"
            ],
            [
             0.6,
             "#e6f5d0"
            ],
            [
             0.7,
             "#b8e186"
            ],
            [
             0.8,
             "#7fbc41"
            ],
            [
             0.9,
             "#4d9221"
            ],
            [
             1,
             "#276419"
            ]
           ],
           "sequential": [
            [
             0,
             "#0d0887"
            ],
            [
             0.1111111111111111,
             "#46039f"
            ],
            [
             0.2222222222222222,
             "#7201a8"
            ],
            [
             0.3333333333333333,
             "#9c179e"
            ],
            [
             0.4444444444444444,
             "#bd3786"
            ],
            [
             0.5555555555555556,
             "#d8576b"
            ],
            [
             0.6666666666666666,
             "#ed7953"
            ],
            [
             0.7777777777777778,
             "#fb9f3a"
            ],
            [
             0.8888888888888888,
             "#fdca26"
            ],
            [
             1,
             "#f0f921"
            ]
           ],
           "sequentialminus": [
            [
             0,
             "#0d0887"
            ],
            [
             0.1111111111111111,
             "#46039f"
            ],
            [
             0.2222222222222222,
             "#7201a8"
            ],
            [
             0.3333333333333333,
             "#9c179e"
            ],
            [
             0.4444444444444444,
             "#bd3786"
            ],
            [
             0.5555555555555556,
             "#d8576b"
            ],
            [
             0.6666666666666666,
             "#ed7953"
            ],
            [
             0.7777777777777778,
             "#fb9f3a"
            ],
            [
             0.8888888888888888,
             "#fdca26"
            ],
            [
             1,
             "#f0f921"
            ]
           ]
          },
          "colorway": [
           "#636efa",
           "#EF553B",
           "#00cc96",
           "#ab63fa",
           "#FFA15A",
           "#19d3f3",
           "#FF6692",
           "#B6E880",
           "#FF97FF",
           "#FECB52"
          ],
          "font": {
           "color": "#2a3f5f"
          },
          "geo": {
           "bgcolor": "white",
           "lakecolor": "white",
           "landcolor": "#E5ECF6",
           "showlakes": true,
           "showland": true,
           "subunitcolor": "white"
          },
          "hoverlabel": {
           "align": "left"
          },
          "hovermode": "closest",
          "mapbox": {
           "style": "light"
          },
          "paper_bgcolor": "white",
          "plot_bgcolor": "#E5ECF6",
          "polar": {
           "angularaxis": {
            "gridcolor": "white",
            "linecolor": "white",
            "ticks": ""
           },
           "bgcolor": "#E5ECF6",
           "radialaxis": {
            "gridcolor": "white",
            "linecolor": "white",
            "ticks": ""
           }
          },
          "scene": {
           "xaxis": {
            "backgroundcolor": "#E5ECF6",
            "gridcolor": "white",
            "gridwidth": 2,
            "linecolor": "white",
            "showbackground": true,
            "ticks": "",
            "zerolinecolor": "white"
           },
           "yaxis": {
            "backgroundcolor": "#E5ECF6",
            "gridcolor": "white",
            "gridwidth": 2,
            "linecolor": "white",
            "showbackground": true,
            "ticks": "",
            "zerolinecolor": "white"
           },
           "zaxis": {
            "backgroundcolor": "#E5ECF6",
            "gridcolor": "white",
            "gridwidth": 2,
            "linecolor": "white",
            "showbackground": true,
            "ticks": "",
            "zerolinecolor": "white"
           }
          },
          "shapedefaults": {
           "line": {
            "color": "#2a3f5f"
           }
          },
          "ternary": {
           "aaxis": {
            "gridcolor": "white",
            "linecolor": "white",
            "ticks": ""
           },
           "baxis": {
            "gridcolor": "white",
            "linecolor": "white",
            "ticks": ""
           },
           "bgcolor": "#E5ECF6",
           "caxis": {
            "gridcolor": "white",
            "linecolor": "white",
            "ticks": ""
           }
          },
          "title": {
           "x": 0.05
          },
          "xaxis": {
           "automargin": true,
           "gridcolor": "white",
           "linecolor": "white",
           "ticks": "",
           "title": {
            "standoff": 15
           },
           "zerolinecolor": "white",
           "zerolinewidth": 2
          },
          "yaxis": {
           "automargin": true,
           "gridcolor": "white",
           "linecolor": "white",
           "ticks": "",
           "title": {
            "standoff": 15
           },
           "zerolinecolor": "white",
           "zerolinewidth": 2
          }
         }
        },
        "xaxis": {
         "anchor": "y",
         "domain": [
          0,
          1
         ],
         "title": {
          "text": "index"
         }
        },
        "yaxis": {
         "anchor": "x",
         "domain": [
          0,
          1
         ],
         "title": {
          "text": "value"
         }
        }
       }
      }
     },
     "metadata": {},
     "output_type": "display_data"
    }
   ],
   "source": [
    "px.line(metodos_NvS_metricas.T)"
   ]
  },
  {
   "cell_type": "markdown",
   "metadata": {},
   "source": [
    "### Sensibilidad por tipo de anomalía"
   ]
  },
  {
   "cell_type": "code",
   "execution_count": 86,
   "metadata": {},
   "outputs": [
    {
     "data": {
      "text/html": [
       "<div>\n",
       "<style scoped>\n",
       "    .dataframe tbody tr th:only-of-type {\n",
       "        vertical-align: middle;\n",
       "    }\n",
       "\n",
       "    .dataframe tbody tr th {\n",
       "        vertical-align: top;\n",
       "    }\n",
       "\n",
       "    .dataframe thead th {\n",
       "        text-align: right;\n",
       "    }\n",
       "</style>\n",
       "<table border=\"1\" class=\"dataframe\">\n",
       "  <thead>\n",
       "    <tr style=\"text-align: right;\">\n",
       "      <th></th>\n",
       "      <th>Anomalia</th>\n",
       "      <th>Negro</th>\n",
       "      <th>Congelado</th>\n",
       "      <th>Hum</th>\n",
       "      <th>CurvaCola</th>\n",
       "    </tr>\n",
       "  </thead>\n",
       "  <tbody>\n",
       "    <tr>\n",
       "      <th>IForest</th>\n",
       "      <td>0.389292</td>\n",
       "      <td>0.800593</td>\n",
       "      <td>0.909193</td>\n",
       "      <td>0.137124</td>\n",
       "      <td>0.111719</td>\n",
       "    </tr>\n",
       "    <tr>\n",
       "      <th>MAD</th>\n",
       "      <td>0.358788</td>\n",
       "      <td>0.757747</td>\n",
       "      <td>0.900169</td>\n",
       "      <td>0.076923</td>\n",
       "      <td>0.09082</td>\n",
       "    </tr>\n",
       "    <tr>\n",
       "      <th>HTM</th>\n",
       "      <td>0.019996</td>\n",
       "      <td>0.0</td>\n",
       "      <td>0.009393</td>\n",
       "      <td>0.01377</td>\n",
       "      <td>0.029206</td>\n",
       "    </tr>\n",
       "  </tbody>\n",
       "</table>\n",
       "</div>"
      ],
      "text/plain": [
       "         Anomalia     Negro Congelado       Hum CurvaCola\n",
       "IForest  0.389292  0.800593  0.909193  0.137124  0.111719\n",
       "MAD      0.358788  0.757747  0.900169  0.076923   0.09082\n",
       "HTM      0.019996       0.0  0.009393   0.01377  0.029206"
      ]
     },
     "execution_count": 86,
     "metadata": {},
     "output_type": "execute_result"
    }
   ],
   "source": [
    "metodos_NvS_sensibilidades = calc_sensibilidad(metodos_NvS,metodos_NvS_lista,anomalias)\n",
    "metodos_NvS_sensibilidades = pd.concat([metodos_NvS_sensibilidades,calc_sensibilidad(metodos_NvS_htm, ['HTM'], anomalias)])\n",
    "metodos_NvS_sensibilidades"
   ]
  },
  {
   "cell_type": "code",
   "execution_count": 87,
   "metadata": {},
   "outputs": [
    {
     "data": {
      "application/vnd.plotly.v1+json": {
       "config": {
        "plotlyServerURL": "https://plot.ly"
       },
       "data": [
        {
         "hovertemplate": "variable=IForest<br>index=%{x}<br>value=%{y}<extra></extra>",
         "legendgroup": "IForest",
         "line": {
          "color": "#636efa",
          "dash": "solid"
         },
         "marker": {
          "symbol": "circle"
         },
         "mode": "lines",
         "name": "IForest",
         "orientation": "v",
         "showlegend": true,
         "type": "scatter",
         "x": [
          "Anomalia",
          "Negro",
          "Congelado",
          "Hum",
          "CurvaCola"
         ],
         "xaxis": "x",
         "y": [
          0.3892918088737201,
          0.8005928321207222,
          0.9091934574168077,
          0.13712374581939799,
          0.11171875
         ],
         "yaxis": "y"
        },
        {
         "hovertemplate": "variable=MAD<br>index=%{x}<br>value=%{y}<extra></extra>",
         "legendgroup": "MAD",
         "line": {
          "color": "#EF553B",
          "dash": "solid"
         },
         "marker": {
          "symbol": "circle"
         },
         "mode": "lines",
         "name": "MAD",
         "orientation": "v",
         "showlegend": true,
         "type": "scatter",
         "x": [
          "Anomalia",
          "Negro",
          "Congelado",
          "Hum",
          "CurvaCola"
         ],
         "xaxis": "x",
         "y": [
          0.35878839590443684,
          0.7577472379412558,
          0.9001692047377327,
          0.07692307692307693,
          0.0908203125
         ],
         "yaxis": "y"
        },
        {
         "hovertemplate": "variable=HTM<br>index=%{x}<br>value=%{y}<extra></extra>",
         "legendgroup": "HTM",
         "line": {
          "color": "#00cc96",
          "dash": "solid"
         },
         "marker": {
          "symbol": "circle"
         },
         "mode": "lines",
         "name": "HTM",
         "orientation": "v",
         "showlegend": true,
         "type": "scatter",
         "x": [
          "Anomalia",
          "Negro",
          "Congelado",
          "Hum",
          "CurvaCola"
         ],
         "xaxis": "x",
         "y": [
          0.01999570446735395,
          0,
          0.009393390674513355,
          0.01377049180327869,
          0.029205927200218945
         ],
         "yaxis": "y"
        }
       ],
       "layout": {
        "legend": {
         "title": {
          "text": "variable"
         },
         "tracegroupgap": 0
        },
        "margin": {
         "t": 60
        },
        "template": {
         "data": {
          "bar": [
           {
            "error_x": {
             "color": "#2a3f5f"
            },
            "error_y": {
             "color": "#2a3f5f"
            },
            "marker": {
             "line": {
              "color": "#E5ECF6",
              "width": 0.5
             },
             "pattern": {
              "fillmode": "overlay",
              "size": 10,
              "solidity": 0.2
             }
            },
            "type": "bar"
           }
          ],
          "barpolar": [
           {
            "marker": {
             "line": {
              "color": "#E5ECF6",
              "width": 0.5
             },
             "pattern": {
              "fillmode": "overlay",
              "size": 10,
              "solidity": 0.2
             }
            },
            "type": "barpolar"
           }
          ],
          "carpet": [
           {
            "aaxis": {
             "endlinecolor": "#2a3f5f",
             "gridcolor": "white",
             "linecolor": "white",
             "minorgridcolor": "white",
             "startlinecolor": "#2a3f5f"
            },
            "baxis": {
             "endlinecolor": "#2a3f5f",
             "gridcolor": "white",
             "linecolor": "white",
             "minorgridcolor": "white",
             "startlinecolor": "#2a3f5f"
            },
            "type": "carpet"
           }
          ],
          "choropleth": [
           {
            "colorbar": {
             "outlinewidth": 0,
             "ticks": ""
            },
            "type": "choropleth"
           }
          ],
          "contour": [
           {
            "colorbar": {
             "outlinewidth": 0,
             "ticks": ""
            },
            "colorscale": [
             [
              0,
              "#0d0887"
             ],
             [
              0.1111111111111111,
              "#46039f"
             ],
             [
              0.2222222222222222,
              "#7201a8"
             ],
             [
              0.3333333333333333,
              "#9c179e"
             ],
             [
              0.4444444444444444,
              "#bd3786"
             ],
             [
              0.5555555555555556,
              "#d8576b"
             ],
             [
              0.6666666666666666,
              "#ed7953"
             ],
             [
              0.7777777777777778,
              "#fb9f3a"
             ],
             [
              0.8888888888888888,
              "#fdca26"
             ],
             [
              1,
              "#f0f921"
             ]
            ],
            "type": "contour"
           }
          ],
          "contourcarpet": [
           {
            "colorbar": {
             "outlinewidth": 0,
             "ticks": ""
            },
            "type": "contourcarpet"
           }
          ],
          "heatmap": [
           {
            "colorbar": {
             "outlinewidth": 0,
             "ticks": ""
            },
            "colorscale": [
             [
              0,
              "#0d0887"
             ],
             [
              0.1111111111111111,
              "#46039f"
             ],
             [
              0.2222222222222222,
              "#7201a8"
             ],
             [
              0.3333333333333333,
              "#9c179e"
             ],
             [
              0.4444444444444444,
              "#bd3786"
             ],
             [
              0.5555555555555556,
              "#d8576b"
             ],
             [
              0.6666666666666666,
              "#ed7953"
             ],
             [
              0.7777777777777778,
              "#fb9f3a"
             ],
             [
              0.8888888888888888,
              "#fdca26"
             ],
             [
              1,
              "#f0f921"
             ]
            ],
            "type": "heatmap"
           }
          ],
          "heatmapgl": [
           {
            "colorbar": {
             "outlinewidth": 0,
             "ticks": ""
            },
            "colorscale": [
             [
              0,
              "#0d0887"
             ],
             [
              0.1111111111111111,
              "#46039f"
             ],
             [
              0.2222222222222222,
              "#7201a8"
             ],
             [
              0.3333333333333333,
              "#9c179e"
             ],
             [
              0.4444444444444444,
              "#bd3786"
             ],
             [
              0.5555555555555556,
              "#d8576b"
             ],
             [
              0.6666666666666666,
              "#ed7953"
             ],
             [
              0.7777777777777778,
              "#fb9f3a"
             ],
             [
              0.8888888888888888,
              "#fdca26"
             ],
             [
              1,
              "#f0f921"
             ]
            ],
            "type": "heatmapgl"
           }
          ],
          "histogram": [
           {
            "marker": {
             "pattern": {
              "fillmode": "overlay",
              "size": 10,
              "solidity": 0.2
             }
            },
            "type": "histogram"
           }
          ],
          "histogram2d": [
           {
            "colorbar": {
             "outlinewidth": 0,
             "ticks": ""
            },
            "colorscale": [
             [
              0,
              "#0d0887"
             ],
             [
              0.1111111111111111,
              "#46039f"
             ],
             [
              0.2222222222222222,
              "#7201a8"
             ],
             [
              0.3333333333333333,
              "#9c179e"
             ],
             [
              0.4444444444444444,
              "#bd3786"
             ],
             [
              0.5555555555555556,
              "#d8576b"
             ],
             [
              0.6666666666666666,
              "#ed7953"
             ],
             [
              0.7777777777777778,
              "#fb9f3a"
             ],
             [
              0.8888888888888888,
              "#fdca26"
             ],
             [
              1,
              "#f0f921"
             ]
            ],
            "type": "histogram2d"
           }
          ],
          "histogram2dcontour": [
           {
            "colorbar": {
             "outlinewidth": 0,
             "ticks": ""
            },
            "colorscale": [
             [
              0,
              "#0d0887"
             ],
             [
              0.1111111111111111,
              "#46039f"
             ],
             [
              0.2222222222222222,
              "#7201a8"
             ],
             [
              0.3333333333333333,
              "#9c179e"
             ],
             [
              0.4444444444444444,
              "#bd3786"
             ],
             [
              0.5555555555555556,
              "#d8576b"
             ],
             [
              0.6666666666666666,
              "#ed7953"
             ],
             [
              0.7777777777777778,
              "#fb9f3a"
             ],
             [
              0.8888888888888888,
              "#fdca26"
             ],
             [
              1,
              "#f0f921"
             ]
            ],
            "type": "histogram2dcontour"
           }
          ],
          "mesh3d": [
           {
            "colorbar": {
             "outlinewidth": 0,
             "ticks": ""
            },
            "type": "mesh3d"
           }
          ],
          "parcoords": [
           {
            "line": {
             "colorbar": {
              "outlinewidth": 0,
              "ticks": ""
             }
            },
            "type": "parcoords"
           }
          ],
          "pie": [
           {
            "automargin": true,
            "type": "pie"
           }
          ],
          "scatter": [
           {
            "fillpattern": {
             "fillmode": "overlay",
             "size": 10,
             "solidity": 0.2
            },
            "type": "scatter"
           }
          ],
          "scatter3d": [
           {
            "line": {
             "colorbar": {
              "outlinewidth": 0,
              "ticks": ""
             }
            },
            "marker": {
             "colorbar": {
              "outlinewidth": 0,
              "ticks": ""
             }
            },
            "type": "scatter3d"
           }
          ],
          "scattercarpet": [
           {
            "marker": {
             "colorbar": {
              "outlinewidth": 0,
              "ticks": ""
             }
            },
            "type": "scattercarpet"
           }
          ],
          "scattergeo": [
           {
            "marker": {
             "colorbar": {
              "outlinewidth": 0,
              "ticks": ""
             }
            },
            "type": "scattergeo"
           }
          ],
          "scattergl": [
           {
            "marker": {
             "colorbar": {
              "outlinewidth": 0,
              "ticks": ""
             }
            },
            "type": "scattergl"
           }
          ],
          "scattermapbox": [
           {
            "marker": {
             "colorbar": {
              "outlinewidth": 0,
              "ticks": ""
             }
            },
            "type": "scattermapbox"
           }
          ],
          "scatterpolar": [
           {
            "marker": {
             "colorbar": {
              "outlinewidth": 0,
              "ticks": ""
             }
            },
            "type": "scatterpolar"
           }
          ],
          "scatterpolargl": [
           {
            "marker": {
             "colorbar": {
              "outlinewidth": 0,
              "ticks": ""
             }
            },
            "type": "scatterpolargl"
           }
          ],
          "scatterternary": [
           {
            "marker": {
             "colorbar": {
              "outlinewidth": 0,
              "ticks": ""
             }
            },
            "type": "scatterternary"
           }
          ],
          "surface": [
           {
            "colorbar": {
             "outlinewidth": 0,
             "ticks": ""
            },
            "colorscale": [
             [
              0,
              "#0d0887"
             ],
             [
              0.1111111111111111,
              "#46039f"
             ],
             [
              0.2222222222222222,
              "#7201a8"
             ],
             [
              0.3333333333333333,
              "#9c179e"
             ],
             [
              0.4444444444444444,
              "#bd3786"
             ],
             [
              0.5555555555555556,
              "#d8576b"
             ],
             [
              0.6666666666666666,
              "#ed7953"
             ],
             [
              0.7777777777777778,
              "#fb9f3a"
             ],
             [
              0.8888888888888888,
              "#fdca26"
             ],
             [
              1,
              "#f0f921"
             ]
            ],
            "type": "surface"
           }
          ],
          "table": [
           {
            "cells": {
             "fill": {
              "color": "#EBF0F8"
             },
             "line": {
              "color": "white"
             }
            },
            "header": {
             "fill": {
              "color": "#C8D4E3"
             },
             "line": {
              "color": "white"
             }
            },
            "type": "table"
           }
          ]
         },
         "layout": {
          "annotationdefaults": {
           "arrowcolor": "#2a3f5f",
           "arrowhead": 0,
           "arrowwidth": 1
          },
          "autotypenumbers": "strict",
          "coloraxis": {
           "colorbar": {
            "outlinewidth": 0,
            "ticks": ""
           }
          },
          "colorscale": {
           "diverging": [
            [
             0,
             "#8e0152"
            ],
            [
             0.1,
             "#c51b7d"
            ],
            [
             0.2,
             "#de77ae"
            ],
            [
             0.3,
             "#f1b6da"
            ],
            [
             0.4,
             "#fde0ef"
            ],
            [
             0.5,
             "#f7f7f7"
            ],
            [
             0.6,
             "#e6f5d0"
            ],
            [
             0.7,
             "#b8e186"
            ],
            [
             0.8,
             "#7fbc41"
            ],
            [
             0.9,
             "#4d9221"
            ],
            [
             1,
             "#276419"
            ]
           ],
           "sequential": [
            [
             0,
             "#0d0887"
            ],
            [
             0.1111111111111111,
             "#46039f"
            ],
            [
             0.2222222222222222,
             "#7201a8"
            ],
            [
             0.3333333333333333,
             "#9c179e"
            ],
            [
             0.4444444444444444,
             "#bd3786"
            ],
            [
             0.5555555555555556,
             "#d8576b"
            ],
            [
             0.6666666666666666,
             "#ed7953"
            ],
            [
             0.7777777777777778,
             "#fb9f3a"
            ],
            [
             0.8888888888888888,
             "#fdca26"
            ],
            [
             1,
             "#f0f921"
            ]
           ],
           "sequentialminus": [
            [
             0,
             "#0d0887"
            ],
            [
             0.1111111111111111,
             "#46039f"
            ],
            [
             0.2222222222222222,
             "#7201a8"
            ],
            [
             0.3333333333333333,
             "#9c179e"
            ],
            [
             0.4444444444444444,
             "#bd3786"
            ],
            [
             0.5555555555555556,
             "#d8576b"
            ],
            [
             0.6666666666666666,
             "#ed7953"
            ],
            [
             0.7777777777777778,
             "#fb9f3a"
            ],
            [
             0.8888888888888888,
             "#fdca26"
            ],
            [
             1,
             "#f0f921"
            ]
           ]
          },
          "colorway": [
           "#636efa",
           "#EF553B",
           "#00cc96",
           "#ab63fa",
           "#FFA15A",
           "#19d3f3",
           "#FF6692",
           "#B6E880",
           "#FF97FF",
           "#FECB52"
          ],
          "font": {
           "color": "#2a3f5f"
          },
          "geo": {
           "bgcolor": "white",
           "lakecolor": "white",
           "landcolor": "#E5ECF6",
           "showlakes": true,
           "showland": true,
           "subunitcolor": "white"
          },
          "hoverlabel": {
           "align": "left"
          },
          "hovermode": "closest",
          "mapbox": {
           "style": "light"
          },
          "paper_bgcolor": "white",
          "plot_bgcolor": "#E5ECF6",
          "polar": {
           "angularaxis": {
            "gridcolor": "white",
            "linecolor": "white",
            "ticks": ""
           },
           "bgcolor": "#E5ECF6",
           "radialaxis": {
            "gridcolor": "white",
            "linecolor": "white",
            "ticks": ""
           }
          },
          "scene": {
           "xaxis": {
            "backgroundcolor": "#E5ECF6",
            "gridcolor": "white",
            "gridwidth": 2,
            "linecolor": "white",
            "showbackground": true,
            "ticks": "",
            "zerolinecolor": "white"
           },
           "yaxis": {
            "backgroundcolor": "#E5ECF6",
            "gridcolor": "white",
            "gridwidth": 2,
            "linecolor": "white",
            "showbackground": true,
            "ticks": "",
            "zerolinecolor": "white"
           },
           "zaxis": {
            "backgroundcolor": "#E5ECF6",
            "gridcolor": "white",
            "gridwidth": 2,
            "linecolor": "white",
            "showbackground": true,
            "ticks": "",
            "zerolinecolor": "white"
           }
          },
          "shapedefaults": {
           "line": {
            "color": "#2a3f5f"
           }
          },
          "ternary": {
           "aaxis": {
            "gridcolor": "white",
            "linecolor": "white",
            "ticks": ""
           },
           "baxis": {
            "gridcolor": "white",
            "linecolor": "white",
            "ticks": ""
           },
           "bgcolor": "#E5ECF6",
           "caxis": {
            "gridcolor": "white",
            "linecolor": "white",
            "ticks": ""
           }
          },
          "title": {
           "x": 0.05
          },
          "xaxis": {
           "automargin": true,
           "gridcolor": "white",
           "linecolor": "white",
           "ticks": "",
           "title": {
            "standoff": 15
           },
           "zerolinecolor": "white",
           "zerolinewidth": 2
          },
          "yaxis": {
           "automargin": true,
           "gridcolor": "white",
           "linecolor": "white",
           "ticks": "",
           "title": {
            "standoff": 15
           },
           "zerolinecolor": "white",
           "zerolinewidth": 2
          }
         }
        },
        "xaxis": {
         "anchor": "y",
         "domain": [
          0,
          1
         ],
         "title": {
          "text": "index"
         }
        },
        "yaxis": {
         "anchor": "x",
         "domain": [
          0,
          1
         ],
         "title": {
          "text": "value"
         }
        }
       }
      }
     },
     "metadata": {},
     "output_type": "display_data"
    }
   ],
   "source": [
    "px.line(metodos_NvS_sensibilidades.T)"
   ]
  },
  {
   "cell_type": "markdown",
   "metadata": {},
   "source": [
    "## Métodos PVvsPred"
   ]
  },
  {
   "cell_type": "code",
   "execution_count": 88,
   "metadata": {},
   "outputs": [
    {
     "data": {
      "text/html": [
       "<div>\n",
       "<style scoped>\n",
       "    .dataframe tbody tr th:only-of-type {\n",
       "        vertical-align: middle;\n",
       "    }\n",
       "\n",
       "    .dataframe tbody tr th {\n",
       "        vertical-align: top;\n",
       "    }\n",
       "\n",
       "    .dataframe thead th {\n",
       "        text-align: right;\n",
       "    }\n",
       "</style>\n",
       "<table border=\"1\" class=\"dataframe\">\n",
       "  <thead>\n",
       "    <tr style=\"text-align: right;\">\n",
       "      <th></th>\n",
       "      <th>Negro</th>\n",
       "      <th>CurvaCola</th>\n",
       "      <th>Congelado</th>\n",
       "      <th>Hum</th>\n",
       "      <th>Anomalia</th>\n",
       "      <th>MAD_PyOD</th>\n",
       "      <th>MAD_PySAD</th>\n",
       "      <th>SAD</th>\n",
       "    </tr>\n",
       "    <tr>\n",
       "      <th>fecha</th>\n",
       "      <th></th>\n",
       "      <th></th>\n",
       "      <th></th>\n",
       "      <th></th>\n",
       "      <th></th>\n",
       "      <th></th>\n",
       "      <th></th>\n",
       "      <th></th>\n",
       "    </tr>\n",
       "  </thead>\n",
       "  <tbody>\n",
       "    <tr>\n",
       "      <th>2021-08-01 11:06:00</th>\n",
       "      <td>0</td>\n",
       "      <td>0</td>\n",
       "      <td>0</td>\n",
       "      <td>0</td>\n",
       "      <td>0</td>\n",
       "      <td>0</td>\n",
       "      <td>0</td>\n",
       "      <td>0</td>\n",
       "    </tr>\n",
       "    <tr>\n",
       "      <th>2021-03-15 11:15:00</th>\n",
       "      <td>0</td>\n",
       "      <td>0</td>\n",
       "      <td>0</td>\n",
       "      <td>0</td>\n",
       "      <td>0</td>\n",
       "      <td>0</td>\n",
       "      <td>0</td>\n",
       "      <td>0</td>\n",
       "    </tr>\n",
       "    <tr>\n",
       "      <th>2021-10-19 07:04:00</th>\n",
       "      <td>0</td>\n",
       "      <td>0</td>\n",
       "      <td>0</td>\n",
       "      <td>0</td>\n",
       "      <td>0</td>\n",
       "      <td>0</td>\n",
       "      <td>0</td>\n",
       "      <td>0</td>\n",
       "    </tr>\n",
       "    <tr>\n",
       "      <th>2021-04-17 10:46:00</th>\n",
       "      <td>0</td>\n",
       "      <td>0</td>\n",
       "      <td>0</td>\n",
       "      <td>0</td>\n",
       "      <td>0</td>\n",
       "      <td>0</td>\n",
       "      <td>0</td>\n",
       "      <td>0</td>\n",
       "    </tr>\n",
       "    <tr>\n",
       "      <th>2021-03-07 19:50:00</th>\n",
       "      <td>0</td>\n",
       "      <td>0</td>\n",
       "      <td>0</td>\n",
       "      <td>0</td>\n",
       "      <td>0</td>\n",
       "      <td>0</td>\n",
       "      <td>0</td>\n",
       "      <td>0</td>\n",
       "    </tr>\n",
       "  </tbody>\n",
       "</table>\n",
       "</div>"
      ],
      "text/plain": [
       "                     Negro  CurvaCola  Congelado  Hum  Anomalia  MAD_PyOD  \\\n",
       "fecha                                                                       \n",
       "2021-08-01 11:06:00      0          0          0    0         0         0   \n",
       "2021-03-15 11:15:00      0          0          0    0         0         0   \n",
       "2021-10-19 07:04:00      0          0          0    0         0         0   \n",
       "2021-04-17 10:46:00      0          0          0    0         0         0   \n",
       "2021-03-07 19:50:00      0          0          0    0         0         0   \n",
       "\n",
       "                     MAD_PySAD  SAD  \n",
       "fecha                                \n",
       "2021-08-01 11:06:00          0    0  \n",
       "2021-03-15 11:15:00          0    0  \n",
       "2021-10-19 07:04:00          0    0  \n",
       "2021-04-17 10:46:00          0    0  \n",
       "2021-03-07 19:50:00          0    0  "
      ]
     },
     "execution_count": 88,
     "metadata": {},
     "output_type": "execute_result"
    }
   ],
   "source": [
    "metodos_PvP = pd.read_csv('Metodos_PVvsPred/Total/Resultados/PyOD_MAD_completo.csv',index_col='fecha')\n",
    "metodos_PvP = metodos_PvP.drop('Y_pred', axis=1)\n",
    "\n",
    "metodos_PvP['MAD_PyOD'] = pd.read_csv('Metodos_PVvsPred/Total/Resultados/PyOD_MAD_completo.csv',usecols=['fecha','Y_pred'],index_col='fecha')\n",
    "metodos_PvP['MAD_PySAD'] = pd.read_csv('Metodos_PVvsPred/Total/Resultados/PySAD_MAD_completo.csv',usecols=['fecha','Y_pred'],index_col='fecha')\n",
    "metodos_PvP['SAD'] = pd.read_csv('Metodos_PVvsPred/Total/Resultados/PySAD_SAD_completo.csv',usecols=['fecha','Y_pred'],index_col='fecha')\n",
    "\n",
    "metodos_PvP_htm = pd.read_csv('Metodos_PVvsPred/Total/HTM_Uni/HTM_completo.csv',index_col='fecha')\n",
    "metodos_PvP_htm['HTM'] = metodos_PvP_htm['Y_pred']\n",
    "metodos_PvP_htm = metodos_PvP_htm.drop('Y_pred',axis=1)\n",
    "\n",
    "metodos_PvP.head()"
   ]
  },
  {
   "cell_type": "markdown",
   "metadata": {},
   "source": []
  },
  {
   "cell_type": "markdown",
   "metadata": {},
   "source": [
    "### Métricas generales:"
   ]
  },
  {
   "cell_type": "code",
   "execution_count": 89,
   "metadata": {},
   "outputs": [
    {
     "data": {
      "text/html": [
       "<div>\n",
       "<style scoped>\n",
       "    .dataframe tbody tr th:only-of-type {\n",
       "        vertical-align: middle;\n",
       "    }\n",
       "\n",
       "    .dataframe tbody tr th {\n",
       "        vertical-align: top;\n",
       "    }\n",
       "\n",
       "    .dataframe thead th {\n",
       "        text-align: right;\n",
       "    }\n",
       "</style>\n",
       "<table border=\"1\" class=\"dataframe\">\n",
       "  <thead>\n",
       "    <tr style=\"text-align: right;\">\n",
       "      <th></th>\n",
       "      <th>roc_auc</th>\n",
       "      <th>accuracy</th>\n",
       "      <th>precision</th>\n",
       "      <th>kappa</th>\n",
       "      <th>sensibilidad</th>\n",
       "      <th>especificidad</th>\n",
       "    </tr>\n",
       "  </thead>\n",
       "  <tbody>\n",
       "    <tr>\n",
       "      <th>MAD_PyOD</th>\n",
       "      <td>0.657336</td>\n",
       "      <td>0.857839</td>\n",
       "      <td>0.63807</td>\n",
       "      <td>0.382252</td>\n",
       "      <td>0.355375</td>\n",
       "      <td>0.959297</td>\n",
       "    </tr>\n",
       "    <tr>\n",
       "      <th>MAD_PySAD</th>\n",
       "      <td>0.660535</td>\n",
       "      <td>0.855868</td>\n",
       "      <td>0.62026</td>\n",
       "      <td>0.383755</td>\n",
       "      <td>0.366361</td>\n",
       "      <td>0.95471</td>\n",
       "    </tr>\n",
       "    <tr>\n",
       "      <th>SAD</th>\n",
       "      <td>0.660173</td>\n",
       "      <td>0.855761</td>\n",
       "      <td>0.619892</td>\n",
       "      <td>0.383044</td>\n",
       "      <td>0.365614</td>\n",
       "      <td>0.954731</td>\n",
       "    </tr>\n",
       "    <tr>\n",
       "      <th>HTM</th>\n",
       "      <td>0.470841</td>\n",
       "      <td>0.771165</td>\n",
       "      <td>0.048831</td>\n",
       "      <td>-0.076258</td>\n",
       "      <td>0.020103</td>\n",
       "      <td>0.921579</td>\n",
       "    </tr>\n",
       "  </tbody>\n",
       "</table>\n",
       "</div>"
      ],
      "text/plain": [
       "            roc_auc  accuracy precision     kappa sensibilidad especificidad\n",
       "MAD_PyOD   0.657336  0.857839   0.63807  0.382252     0.355375      0.959297\n",
       "MAD_PySAD  0.660535  0.855868   0.62026  0.383755     0.366361       0.95471\n",
       "SAD        0.660173  0.855761  0.619892  0.383044     0.365614      0.954731\n",
       "HTM        0.470841  0.771165  0.048831 -0.076258     0.020103      0.921579"
      ]
     },
     "execution_count": 89,
     "metadata": {},
     "output_type": "execute_result"
    }
   ],
   "source": [
    "metodos_PvP_lista = ['MAD_PyOD','MAD_PySAD','SAD']\n",
    "metodos_PvP_metricas = calc_metricas(metodos_PvP,metodos_PvP_lista)\n",
    "metodos_PvP_metricas = pd.concat([metodos_PvP_metricas,calc_metricas(metodos_PvP_htm, ['HTM'])])\n",
    "metodos_PvP_metricas"
   ]
  },
  {
   "cell_type": "code",
   "execution_count": 90,
   "metadata": {},
   "outputs": [
    {
     "data": {
      "application/vnd.plotly.v1+json": {
       "config": {
        "plotlyServerURL": "https://plot.ly"
       },
       "data": [
        {
         "hovertemplate": "variable=MAD_PyOD<br>index=%{x}<br>value=%{y}<extra></extra>",
         "legendgroup": "MAD_PyOD",
         "line": {
          "color": "#636efa",
          "dash": "solid"
         },
         "marker": {
          "symbol": "circle"
         },
         "mode": "lines",
         "name": "MAD_PyOD",
         "orientation": "v",
         "showlegend": true,
         "type": "scatter",
         "x": [
          "roc_auc",
          "accuracy",
          "precision",
          "kappa",
          "sensibilidad",
          "especificidad"
         ],
         "xaxis": "x",
         "y": [
          0.6573362467128285,
          0.857839096936033,
          0.6380697050938338,
          0.3822519107217681,
          0.3553754266211604,
          0.9592970668044967
         ],
         "yaxis": "y"
        },
        {
         "hovertemplate": "variable=MAD_PySAD<br>index=%{x}<br>value=%{y}<extra></extra>",
         "legendgroup": "MAD_PySAD",
         "line": {
          "color": "#EF553B",
          "dash": "solid"
         },
         "marker": {
          "symbol": "circle"
         },
         "mode": "lines",
         "name": "MAD_PySAD",
         "orientation": "v",
         "showlegend": true,
         "type": "scatter",
         "x": [
          "roc_auc",
          "accuracy",
          "precision",
          "kappa",
          "sensibilidad",
          "especificidad"
         ],
         "xaxis": "x",
         "y": [
          0.6605354161714503,
          0.8558681239921161,
          0.6202600216684724,
          0.3837549033031581,
          0.36636092150170646,
          0.9547099108411939
         ],
         "yaxis": "y"
        },
        {
         "hovertemplate": "variable=SAD<br>index=%{x}<br>value=%{y}<extra></extra>",
         "legendgroup": "SAD",
         "line": {
          "color": "#00cc96",
          "dash": "solid"
         },
         "marker": {
          "symbol": "circle"
         },
         "mode": "lines",
         "name": "SAD",
         "orientation": "v",
         "showlegend": true,
         "type": "scatter",
         "x": [
          "roc_auc",
          "accuracy",
          "precision",
          "kappa",
          "sensibilidad",
          "especificidad"
         ],
         "xaxis": "x",
         "y": [
          0.6601728906278368,
          0.8557606163769934,
          0.6198915009041591,
          0.38304417723957795,
          0.3656143344709898,
          0.9547314467846837
         ],
         "yaxis": "y"
        },
        {
         "hovertemplate": "variable=HTM<br>index=%{x}<br>value=%{y}<extra></extra>",
         "legendgroup": "HTM",
         "line": {
          "color": "#ab63fa",
          "dash": "solid"
         },
         "marker": {
          "symbol": "circle"
         },
         "mode": "lines",
         "name": "HTM",
         "orientation": "v",
         "showlegend": true,
         "type": "scatter",
         "x": [
          "roc_auc",
          "accuracy",
          "precision",
          "kappa",
          "sensibilidad",
          "especificidad"
         ],
         "xaxis": "x",
         "y": [
          0.4708409204669736,
          0.7711648175224334,
          0.048831385642737896,
          -0.07625756004642059,
          0.020103092783505156,
          0.9215787481504422
         ],
         "yaxis": "y"
        }
       ],
       "layout": {
        "legend": {
         "title": {
          "text": "variable"
         },
         "tracegroupgap": 0
        },
        "margin": {
         "t": 60
        },
        "template": {
         "data": {
          "bar": [
           {
            "error_x": {
             "color": "#2a3f5f"
            },
            "error_y": {
             "color": "#2a3f5f"
            },
            "marker": {
             "line": {
              "color": "#E5ECF6",
              "width": 0.5
             },
             "pattern": {
              "fillmode": "overlay",
              "size": 10,
              "solidity": 0.2
             }
            },
            "type": "bar"
           }
          ],
          "barpolar": [
           {
            "marker": {
             "line": {
              "color": "#E5ECF6",
              "width": 0.5
             },
             "pattern": {
              "fillmode": "overlay",
              "size": 10,
              "solidity": 0.2
             }
            },
            "type": "barpolar"
           }
          ],
          "carpet": [
           {
            "aaxis": {
             "endlinecolor": "#2a3f5f",
             "gridcolor": "white",
             "linecolor": "white",
             "minorgridcolor": "white",
             "startlinecolor": "#2a3f5f"
            },
            "baxis": {
             "endlinecolor": "#2a3f5f",
             "gridcolor": "white",
             "linecolor": "white",
             "minorgridcolor": "white",
             "startlinecolor": "#2a3f5f"
            },
            "type": "carpet"
           }
          ],
          "choropleth": [
           {
            "colorbar": {
             "outlinewidth": 0,
             "ticks": ""
            },
            "type": "choropleth"
           }
          ],
          "contour": [
           {
            "colorbar": {
             "outlinewidth": 0,
             "ticks": ""
            },
            "colorscale": [
             [
              0,
              "#0d0887"
             ],
             [
              0.1111111111111111,
              "#46039f"
             ],
             [
              0.2222222222222222,
              "#7201a8"
             ],
             [
              0.3333333333333333,
              "#9c179e"
             ],
             [
              0.4444444444444444,
              "#bd3786"
             ],
             [
              0.5555555555555556,
              "#d8576b"
             ],
             [
              0.6666666666666666,
              "#ed7953"
             ],
             [
              0.7777777777777778,
              "#fb9f3a"
             ],
             [
              0.8888888888888888,
              "#fdca26"
             ],
             [
              1,
              "#f0f921"
             ]
            ],
            "type": "contour"
           }
          ],
          "contourcarpet": [
           {
            "colorbar": {
             "outlinewidth": 0,
             "ticks": ""
            },
            "type": "contourcarpet"
           }
          ],
          "heatmap": [
           {
            "colorbar": {
             "outlinewidth": 0,
             "ticks": ""
            },
            "colorscale": [
             [
              0,
              "#0d0887"
             ],
             [
              0.1111111111111111,
              "#46039f"
             ],
             [
              0.2222222222222222,
              "#7201a8"
             ],
             [
              0.3333333333333333,
              "#9c179e"
             ],
             [
              0.4444444444444444,
              "#bd3786"
             ],
             [
              0.5555555555555556,
              "#d8576b"
             ],
             [
              0.6666666666666666,
              "#ed7953"
             ],
             [
              0.7777777777777778,
              "#fb9f3a"
             ],
             [
              0.8888888888888888,
              "#fdca26"
             ],
             [
              1,
              "#f0f921"
             ]
            ],
            "type": "heatmap"
           }
          ],
          "heatmapgl": [
           {
            "colorbar": {
             "outlinewidth": 0,
             "ticks": ""
            },
            "colorscale": [
             [
              0,
              "#0d0887"
             ],
             [
              0.1111111111111111,
              "#46039f"
             ],
             [
              0.2222222222222222,
              "#7201a8"
             ],
             [
              0.3333333333333333,
              "#9c179e"
             ],
             [
              0.4444444444444444,
              "#bd3786"
             ],
             [
              0.5555555555555556,
              "#d8576b"
             ],
             [
              0.6666666666666666,
              "#ed7953"
             ],
             [
              0.7777777777777778,
              "#fb9f3a"
             ],
             [
              0.8888888888888888,
              "#fdca26"
             ],
             [
              1,
              "#f0f921"
             ]
            ],
            "type": "heatmapgl"
           }
          ],
          "histogram": [
           {
            "marker": {
             "pattern": {
              "fillmode": "overlay",
              "size": 10,
              "solidity": 0.2
             }
            },
            "type": "histogram"
           }
          ],
          "histogram2d": [
           {
            "colorbar": {
             "outlinewidth": 0,
             "ticks": ""
            },
            "colorscale": [
             [
              0,
              "#0d0887"
             ],
             [
              0.1111111111111111,
              "#46039f"
             ],
             [
              0.2222222222222222,
              "#7201a8"
             ],
             [
              0.3333333333333333,
              "#9c179e"
             ],
             [
              0.4444444444444444,
              "#bd3786"
             ],
             [
              0.5555555555555556,
              "#d8576b"
             ],
             [
              0.6666666666666666,
              "#ed7953"
             ],
             [
              0.7777777777777778,
              "#fb9f3a"
             ],
             [
              0.8888888888888888,
              "#fdca26"
             ],
             [
              1,
              "#f0f921"
             ]
            ],
            "type": "histogram2d"
           }
          ],
          "histogram2dcontour": [
           {
            "colorbar": {
             "outlinewidth": 0,
             "ticks": ""
            },
            "colorscale": [
             [
              0,
              "#0d0887"
             ],
             [
              0.1111111111111111,
              "#46039f"
             ],
             [
              0.2222222222222222,
              "#7201a8"
             ],
             [
              0.3333333333333333,
              "#9c179e"
             ],
             [
              0.4444444444444444,
              "#bd3786"
             ],
             [
              0.5555555555555556,
              "#d8576b"
             ],
             [
              0.6666666666666666,
              "#ed7953"
             ],
             [
              0.7777777777777778,
              "#fb9f3a"
             ],
             [
              0.8888888888888888,
              "#fdca26"
             ],
             [
              1,
              "#f0f921"
             ]
            ],
            "type": "histogram2dcontour"
           }
          ],
          "mesh3d": [
           {
            "colorbar": {
             "outlinewidth": 0,
             "ticks": ""
            },
            "type": "mesh3d"
           }
          ],
          "parcoords": [
           {
            "line": {
             "colorbar": {
              "outlinewidth": 0,
              "ticks": ""
             }
            },
            "type": "parcoords"
           }
          ],
          "pie": [
           {
            "automargin": true,
            "type": "pie"
           }
          ],
          "scatter": [
           {
            "fillpattern": {
             "fillmode": "overlay",
             "size": 10,
             "solidity": 0.2
            },
            "type": "scatter"
           }
          ],
          "scatter3d": [
           {
            "line": {
             "colorbar": {
              "outlinewidth": 0,
              "ticks": ""
             }
            },
            "marker": {
             "colorbar": {
              "outlinewidth": 0,
              "ticks": ""
             }
            },
            "type": "scatter3d"
           }
          ],
          "scattercarpet": [
           {
            "marker": {
             "colorbar": {
              "outlinewidth": 0,
              "ticks": ""
             }
            },
            "type": "scattercarpet"
           }
          ],
          "scattergeo": [
           {
            "marker": {
             "colorbar": {
              "outlinewidth": 0,
              "ticks": ""
             }
            },
            "type": "scattergeo"
           }
          ],
          "scattergl": [
           {
            "marker": {
             "colorbar": {
              "outlinewidth": 0,
              "ticks": ""
             }
            },
            "type": "scattergl"
           }
          ],
          "scattermapbox": [
           {
            "marker": {
             "colorbar": {
              "outlinewidth": 0,
              "ticks": ""
             }
            },
            "type": "scattermapbox"
           }
          ],
          "scatterpolar": [
           {
            "marker": {
             "colorbar": {
              "outlinewidth": 0,
              "ticks": ""
             }
            },
            "type": "scatterpolar"
           }
          ],
          "scatterpolargl": [
           {
            "marker": {
             "colorbar": {
              "outlinewidth": 0,
              "ticks": ""
             }
            },
            "type": "scatterpolargl"
           }
          ],
          "scatterternary": [
           {
            "marker": {
             "colorbar": {
              "outlinewidth": 0,
              "ticks": ""
             }
            },
            "type": "scatterternary"
           }
          ],
          "surface": [
           {
            "colorbar": {
             "outlinewidth": 0,
             "ticks": ""
            },
            "colorscale": [
             [
              0,
              "#0d0887"
             ],
             [
              0.1111111111111111,
              "#46039f"
             ],
             [
              0.2222222222222222,
              "#7201a8"
             ],
             [
              0.3333333333333333,
              "#9c179e"
             ],
             [
              0.4444444444444444,
              "#bd3786"
             ],
             [
              0.5555555555555556,
              "#d8576b"
             ],
             [
              0.6666666666666666,
              "#ed7953"
             ],
             [
              0.7777777777777778,
              "#fb9f3a"
             ],
             [
              0.8888888888888888,
              "#fdca26"
             ],
             [
              1,
              "#f0f921"
             ]
            ],
            "type": "surface"
           }
          ],
          "table": [
           {
            "cells": {
             "fill": {
              "color": "#EBF0F8"
             },
             "line": {
              "color": "white"
             }
            },
            "header": {
             "fill": {
              "color": "#C8D4E3"
             },
             "line": {
              "color": "white"
             }
            },
            "type": "table"
           }
          ]
         },
         "layout": {
          "annotationdefaults": {
           "arrowcolor": "#2a3f5f",
           "arrowhead": 0,
           "arrowwidth": 1
          },
          "autotypenumbers": "strict",
          "coloraxis": {
           "colorbar": {
            "outlinewidth": 0,
            "ticks": ""
           }
          },
          "colorscale": {
           "diverging": [
            [
             0,
             "#8e0152"
            ],
            [
             0.1,
             "#c51b7d"
            ],
            [
             0.2,
             "#de77ae"
            ],
            [
             0.3,
             "#f1b6da"
            ],
            [
             0.4,
             "#fde0ef"
            ],
            [
             0.5,
             "#f7f7f7"
            ],
            [
             0.6,
             "#e6f5d0"
            ],
            [
             0.7,
             "#b8e186"
            ],
            [
             0.8,
             "#7fbc41"
            ],
            [
             0.9,
             "#4d9221"
            ],
            [
             1,
             "#276419"
            ]
           ],
           "sequential": [
            [
             0,
             "#0d0887"
            ],
            [
             0.1111111111111111,
             "#46039f"
            ],
            [
             0.2222222222222222,
             "#7201a8"
            ],
            [
             0.3333333333333333,
             "#9c179e"
            ],
            [
             0.4444444444444444,
             "#bd3786"
            ],
            [
             0.5555555555555556,
             "#d8576b"
            ],
            [
             0.6666666666666666,
             "#ed7953"
            ],
            [
             0.7777777777777778,
             "#fb9f3a"
            ],
            [
             0.8888888888888888,
             "#fdca26"
            ],
            [
             1,
             "#f0f921"
            ]
           ],
           "sequentialminus": [
            [
             0,
             "#0d0887"
            ],
            [
             0.1111111111111111,
             "#46039f"
            ],
            [
             0.2222222222222222,
             "#7201a8"
            ],
            [
             0.3333333333333333,
             "#9c179e"
            ],
            [
             0.4444444444444444,
             "#bd3786"
            ],
            [
             0.5555555555555556,
             "#d8576b"
            ],
            [
             0.6666666666666666,
             "#ed7953"
            ],
            [
             0.7777777777777778,
             "#fb9f3a"
            ],
            [
             0.8888888888888888,
             "#fdca26"
            ],
            [
             1,
             "#f0f921"
            ]
           ]
          },
          "colorway": [
           "#636efa",
           "#EF553B",
           "#00cc96",
           "#ab63fa",
           "#FFA15A",
           "#19d3f3",
           "#FF6692",
           "#B6E880",
           "#FF97FF",
           "#FECB52"
          ],
          "font": {
           "color": "#2a3f5f"
          },
          "geo": {
           "bgcolor": "white",
           "lakecolor": "white",
           "landcolor": "#E5ECF6",
           "showlakes": true,
           "showland": true,
           "subunitcolor": "white"
          },
          "hoverlabel": {
           "align": "left"
          },
          "hovermode": "closest",
          "mapbox": {
           "style": "light"
          },
          "paper_bgcolor": "white",
          "plot_bgcolor": "#E5ECF6",
          "polar": {
           "angularaxis": {
            "gridcolor": "white",
            "linecolor": "white",
            "ticks": ""
           },
           "bgcolor": "#E5ECF6",
           "radialaxis": {
            "gridcolor": "white",
            "linecolor": "white",
            "ticks": ""
           }
          },
          "scene": {
           "xaxis": {
            "backgroundcolor": "#E5ECF6",
            "gridcolor": "white",
            "gridwidth": 2,
            "linecolor": "white",
            "showbackground": true,
            "ticks": "",
            "zerolinecolor": "white"
           },
           "yaxis": {
            "backgroundcolor": "#E5ECF6",
            "gridcolor": "white",
            "gridwidth": 2,
            "linecolor": "white",
            "showbackground": true,
            "ticks": "",
            "zerolinecolor": "white"
           },
           "zaxis": {
            "backgroundcolor": "#E5ECF6",
            "gridcolor": "white",
            "gridwidth": 2,
            "linecolor": "white",
            "showbackground": true,
            "ticks": "",
            "zerolinecolor": "white"
           }
          },
          "shapedefaults": {
           "line": {
            "color": "#2a3f5f"
           }
          },
          "ternary": {
           "aaxis": {
            "gridcolor": "white",
            "linecolor": "white",
            "ticks": ""
           },
           "baxis": {
            "gridcolor": "white",
            "linecolor": "white",
            "ticks": ""
           },
           "bgcolor": "#E5ECF6",
           "caxis": {
            "gridcolor": "white",
            "linecolor": "white",
            "ticks": ""
           }
          },
          "title": {
           "x": 0.05
          },
          "xaxis": {
           "automargin": true,
           "gridcolor": "white",
           "linecolor": "white",
           "ticks": "",
           "title": {
            "standoff": 15
           },
           "zerolinecolor": "white",
           "zerolinewidth": 2
          },
          "yaxis": {
           "automargin": true,
           "gridcolor": "white",
           "linecolor": "white",
           "ticks": "",
           "title": {
            "standoff": 15
           },
           "zerolinecolor": "white",
           "zerolinewidth": 2
          }
         }
        },
        "xaxis": {
         "anchor": "y",
         "domain": [
          0,
          1
         ],
         "title": {
          "text": "index"
         }
        },
        "yaxis": {
         "anchor": "x",
         "domain": [
          0,
          1
         ],
         "title": {
          "text": "value"
         }
        }
       }
      }
     },
     "metadata": {},
     "output_type": "display_data"
    }
   ],
   "source": [
    "px.line(metodos_PvP_metricas.T)"
   ]
  },
  {
   "cell_type": "markdown",
   "metadata": {},
   "source": [
    "### Sensibilidad por tipo de anomalía"
   ]
  },
  {
   "cell_type": "code",
   "execution_count": 91,
   "metadata": {},
   "outputs": [
    {
     "data": {
      "text/html": [
       "<div>\n",
       "<style scoped>\n",
       "    .dataframe tbody tr th:only-of-type {\n",
       "        vertical-align: middle;\n",
       "    }\n",
       "\n",
       "    .dataframe tbody tr th {\n",
       "        vertical-align: top;\n",
       "    }\n",
       "\n",
       "    .dataframe thead th {\n",
       "        text-align: right;\n",
       "    }\n",
       "</style>\n",
       "<table border=\"1\" class=\"dataframe\">\n",
       "  <thead>\n",
       "    <tr style=\"text-align: right;\">\n",
       "      <th></th>\n",
       "      <th>Anomalia</th>\n",
       "      <th>Negro</th>\n",
       "      <th>Congelado</th>\n",
       "      <th>Hum</th>\n",
       "      <th>CurvaCola</th>\n",
       "    </tr>\n",
       "  </thead>\n",
       "  <tbody>\n",
       "    <tr>\n",
       "      <th>MAD_PyOD</th>\n",
       "      <td>0.355375</td>\n",
       "      <td>0.739693</td>\n",
       "      <td>0.904681</td>\n",
       "      <td>0.247492</td>\n",
       "      <td>0.091797</td>\n",
       "    </tr>\n",
       "    <tr>\n",
       "      <th>MAD_PySAD</th>\n",
       "      <td>0.366361</td>\n",
       "      <td>0.755591</td>\n",
       "      <td>0.904963</td>\n",
       "      <td>0.374582</td>\n",
       "      <td>0.1</td>\n",
       "    </tr>\n",
       "    <tr>\n",
       "      <th>SAD</th>\n",
       "      <td>0.365614</td>\n",
       "      <td>0.7564</td>\n",
       "      <td>0.904963</td>\n",
       "      <td>0.351171</td>\n",
       "      <td>0.099414</td>\n",
       "    </tr>\n",
       "    <tr>\n",
       "      <th>HTM</th>\n",
       "      <td>0.020103</td>\n",
       "      <td>0.0</td>\n",
       "      <td>0.009563</td>\n",
       "      <td>0.014426</td>\n",
       "      <td>0.029245</td>\n",
       "    </tr>\n",
       "  </tbody>\n",
       "</table>\n",
       "</div>"
      ],
      "text/plain": [
       "           Anomalia     Negro Congelado       Hum CurvaCola\n",
       "MAD_PyOD   0.355375  0.739693  0.904681  0.247492  0.091797\n",
       "MAD_PySAD  0.366361  0.755591  0.904963  0.374582       0.1\n",
       "SAD        0.365614    0.7564  0.904963  0.351171  0.099414\n",
       "HTM        0.020103       0.0  0.009563  0.014426  0.029245"
      ]
     },
     "execution_count": 91,
     "metadata": {},
     "output_type": "execute_result"
    }
   ],
   "source": [
    "metodos_PvP_sensibilidades = calc_sensibilidad(metodos_PvP,metodos_PvP_lista,anomalias)\n",
    "metodos_PvP_sensibilidades = pd.concat([metodos_PvP_sensibilidades,calc_sensibilidad(metodos_PvP_htm, ['HTM'], anomalias)])\n",
    "metodos_PvP_sensibilidades"
   ]
  },
  {
   "cell_type": "code",
   "execution_count": 92,
   "metadata": {},
   "outputs": [
    {
     "data": {
      "application/vnd.plotly.v1+json": {
       "config": {
        "plotlyServerURL": "https://plot.ly"
       },
       "data": [
        {
         "hovertemplate": "variable=MAD_PyOD<br>index=%{x}<br>value=%{y}<extra></extra>",
         "legendgroup": "MAD_PyOD",
         "line": {
          "color": "#636efa",
          "dash": "solid"
         },
         "marker": {
          "symbol": "circle"
         },
         "mode": "lines",
         "name": "MAD_PyOD",
         "orientation": "v",
         "showlegend": true,
         "type": "scatter",
         "x": [
          "Anomalia",
          "Negro",
          "Congelado",
          "Hum",
          "CurvaCola"
         ],
         "xaxis": "x",
         "y": [
          0.3553754266211604,
          0.7396928051738076,
          0.9046813310772701,
          0.24749163879598662,
          0.091796875
         ],
         "yaxis": "y"
        },
        {
         "hovertemplate": "variable=MAD_PySAD<br>index=%{x}<br>value=%{y}<extra></extra>",
         "legendgroup": "MAD_PySAD",
         "line": {
          "color": "#EF553B",
          "dash": "solid"
         },
         "marker": {
          "symbol": "circle"
         },
         "mode": "lines",
         "name": "MAD_PySAD",
         "orientation": "v",
         "showlegend": true,
         "type": "scatter",
         "x": [
          "Anomalia",
          "Negro",
          "Congelado",
          "Hum",
          "CurvaCola"
         ],
         "xaxis": "x",
         "y": [
          0.36636092150170646,
          0.7555914847749933,
          0.9049633389734912,
          0.3745819397993311,
          0.1
         ],
         "yaxis": "y"
        },
        {
         "hovertemplate": "variable=SAD<br>index=%{x}<br>value=%{y}<extra></extra>",
         "legendgroup": "SAD",
         "line": {
          "color": "#00cc96",
          "dash": "solid"
         },
         "marker": {
          "symbol": "circle"
         },
         "mode": "lines",
         "name": "SAD",
         "orientation": "v",
         "showlegend": true,
         "type": "scatter",
         "x": [
          "Anomalia",
          "Negro",
          "Congelado",
          "Hum",
          "CurvaCola"
         ],
         "xaxis": "x",
         "y": [
          0.3656143344709898,
          0.7563998922123417,
          0.9049633389734912,
          0.3511705685618729,
          0.0994140625
         ],
         "yaxis": "y"
        },
        {
         "hovertemplate": "variable=HTM<br>index=%{x}<br>value=%{y}<extra></extra>",
         "legendgroup": "HTM",
         "line": {
          "color": "#ab63fa",
          "dash": "solid"
         },
         "marker": {
          "symbol": "circle"
         },
         "mode": "lines",
         "name": "HTM",
         "orientation": "v",
         "showlegend": true,
         "type": "scatter",
         "x": [
          "Anomalia",
          "Negro",
          "Congelado",
          "Hum",
          "CurvaCola"
         ],
         "xaxis": "x",
         "y": [
          0.020103092783505156,
          0,
          0.009563150746944318,
          0.014426229508196721,
          0.029245024826993
         ],
         "yaxis": "y"
        }
       ],
       "layout": {
        "legend": {
         "title": {
          "text": "variable"
         },
         "tracegroupgap": 0
        },
        "margin": {
         "t": 60
        },
        "template": {
         "data": {
          "bar": [
           {
            "error_x": {
             "color": "#2a3f5f"
            },
            "error_y": {
             "color": "#2a3f5f"
            },
            "marker": {
             "line": {
              "color": "#E5ECF6",
              "width": 0.5
             },
             "pattern": {
              "fillmode": "overlay",
              "size": 10,
              "solidity": 0.2
             }
            },
            "type": "bar"
           }
          ],
          "barpolar": [
           {
            "marker": {
             "line": {
              "color": "#E5ECF6",
              "width": 0.5
             },
             "pattern": {
              "fillmode": "overlay",
              "size": 10,
              "solidity": 0.2
             }
            },
            "type": "barpolar"
           }
          ],
          "carpet": [
           {
            "aaxis": {
             "endlinecolor": "#2a3f5f",
             "gridcolor": "white",
             "linecolor": "white",
             "minorgridcolor": "white",
             "startlinecolor": "#2a3f5f"
            },
            "baxis": {
             "endlinecolor": "#2a3f5f",
             "gridcolor": "white",
             "linecolor": "white",
             "minorgridcolor": "white",
             "startlinecolor": "#2a3f5f"
            },
            "type": "carpet"
           }
          ],
          "choropleth": [
           {
            "colorbar": {
             "outlinewidth": 0,
             "ticks": ""
            },
            "type": "choropleth"
           }
          ],
          "contour": [
           {
            "colorbar": {
             "outlinewidth": 0,
             "ticks": ""
            },
            "colorscale": [
             [
              0,
              "#0d0887"
             ],
             [
              0.1111111111111111,
              "#46039f"
             ],
             [
              0.2222222222222222,
              "#7201a8"
             ],
             [
              0.3333333333333333,
              "#9c179e"
             ],
             [
              0.4444444444444444,
              "#bd3786"
             ],
             [
              0.5555555555555556,
              "#d8576b"
             ],
             [
              0.6666666666666666,
              "#ed7953"
             ],
             [
              0.7777777777777778,
              "#fb9f3a"
             ],
             [
              0.8888888888888888,
              "#fdca26"
             ],
             [
              1,
              "#f0f921"
             ]
            ],
            "type": "contour"
           }
          ],
          "contourcarpet": [
           {
            "colorbar": {
             "outlinewidth": 0,
             "ticks": ""
            },
            "type": "contourcarpet"
           }
          ],
          "heatmap": [
           {
            "colorbar": {
             "outlinewidth": 0,
             "ticks": ""
            },
            "colorscale": [
             [
              0,
              "#0d0887"
             ],
             [
              0.1111111111111111,
              "#46039f"
             ],
             [
              0.2222222222222222,
              "#7201a8"
             ],
             [
              0.3333333333333333,
              "#9c179e"
             ],
             [
              0.4444444444444444,
              "#bd3786"
             ],
             [
              0.5555555555555556,
              "#d8576b"
             ],
             [
              0.6666666666666666,
              "#ed7953"
             ],
             [
              0.7777777777777778,
              "#fb9f3a"
             ],
             [
              0.8888888888888888,
              "#fdca26"
             ],
             [
              1,
              "#f0f921"
             ]
            ],
            "type": "heatmap"
           }
          ],
          "heatmapgl": [
           {
            "colorbar": {
             "outlinewidth": 0,
             "ticks": ""
            },
            "colorscale": [
             [
              0,
              "#0d0887"
             ],
             [
              0.1111111111111111,
              "#46039f"
             ],
             [
              0.2222222222222222,
              "#7201a8"
             ],
             [
              0.3333333333333333,
              "#9c179e"
             ],
             [
              0.4444444444444444,
              "#bd3786"
             ],
             [
              0.5555555555555556,
              "#d8576b"
             ],
             [
              0.6666666666666666,
              "#ed7953"
             ],
             [
              0.7777777777777778,
              "#fb9f3a"
             ],
             [
              0.8888888888888888,
              "#fdca26"
             ],
             [
              1,
              "#f0f921"
             ]
            ],
            "type": "heatmapgl"
           }
          ],
          "histogram": [
           {
            "marker": {
             "pattern": {
              "fillmode": "overlay",
              "size": 10,
              "solidity": 0.2
             }
            },
            "type": "histogram"
           }
          ],
          "histogram2d": [
           {
            "colorbar": {
             "outlinewidth": 0,
             "ticks": ""
            },
            "colorscale": [
             [
              0,
              "#0d0887"
             ],
             [
              0.1111111111111111,
              "#46039f"
             ],
             [
              0.2222222222222222,
              "#7201a8"
             ],
             [
              0.3333333333333333,
              "#9c179e"
             ],
             [
              0.4444444444444444,
              "#bd3786"
             ],
             [
              0.5555555555555556,
              "#d8576b"
             ],
             [
              0.6666666666666666,
              "#ed7953"
             ],
             [
              0.7777777777777778,
              "#fb9f3a"
             ],
             [
              0.8888888888888888,
              "#fdca26"
             ],
             [
              1,
              "#f0f921"
             ]
            ],
            "type": "histogram2d"
           }
          ],
          "histogram2dcontour": [
           {
            "colorbar": {
             "outlinewidth": 0,
             "ticks": ""
            },
            "colorscale": [
             [
              0,
              "#0d0887"
             ],
             [
              0.1111111111111111,
              "#46039f"
             ],
             [
              0.2222222222222222,
              "#7201a8"
             ],
             [
              0.3333333333333333,
              "#9c179e"
             ],
             [
              0.4444444444444444,
              "#bd3786"
             ],
             [
              0.5555555555555556,
              "#d8576b"
             ],
             [
              0.6666666666666666,
              "#ed7953"
             ],
             [
              0.7777777777777778,
              "#fb9f3a"
             ],
             [
              0.8888888888888888,
              "#fdca26"
             ],
             [
              1,
              "#f0f921"
             ]
            ],
            "type": "histogram2dcontour"
           }
          ],
          "mesh3d": [
           {
            "colorbar": {
             "outlinewidth": 0,
             "ticks": ""
            },
            "type": "mesh3d"
           }
          ],
          "parcoords": [
           {
            "line": {
             "colorbar": {
              "outlinewidth": 0,
              "ticks": ""
             }
            },
            "type": "parcoords"
           }
          ],
          "pie": [
           {
            "automargin": true,
            "type": "pie"
           }
          ],
          "scatter": [
           {
            "fillpattern": {
             "fillmode": "overlay",
             "size": 10,
             "solidity": 0.2
            },
            "type": "scatter"
           }
          ],
          "scatter3d": [
           {
            "line": {
             "colorbar": {
              "outlinewidth": 0,
              "ticks": ""
             }
            },
            "marker": {
             "colorbar": {
              "outlinewidth": 0,
              "ticks": ""
             }
            },
            "type": "scatter3d"
           }
          ],
          "scattercarpet": [
           {
            "marker": {
             "colorbar": {
              "outlinewidth": 0,
              "ticks": ""
             }
            },
            "type": "scattercarpet"
           }
          ],
          "scattergeo": [
           {
            "marker": {
             "colorbar": {
              "outlinewidth": 0,
              "ticks": ""
             }
            },
            "type": "scattergeo"
           }
          ],
          "scattergl": [
           {
            "marker": {
             "colorbar": {
              "outlinewidth": 0,
              "ticks": ""
             }
            },
            "type": "scattergl"
           }
          ],
          "scattermapbox": [
           {
            "marker": {
             "colorbar": {
              "outlinewidth": 0,
              "ticks": ""
             }
            },
            "type": "scattermapbox"
           }
          ],
          "scatterpolar": [
           {
            "marker": {
             "colorbar": {
              "outlinewidth": 0,
              "ticks": ""
             }
            },
            "type": "scatterpolar"
           }
          ],
          "scatterpolargl": [
           {
            "marker": {
             "colorbar": {
              "outlinewidth": 0,
              "ticks": ""
             }
            },
            "type": "scatterpolargl"
           }
          ],
          "scatterternary": [
           {
            "marker": {
             "colorbar": {
              "outlinewidth": 0,
              "ticks": ""
             }
            },
            "type": "scatterternary"
           }
          ],
          "surface": [
           {
            "colorbar": {
             "outlinewidth": 0,
             "ticks": ""
            },
            "colorscale": [
             [
              0,
              "#0d0887"
             ],
             [
              0.1111111111111111,
              "#46039f"
             ],
             [
              0.2222222222222222,
              "#7201a8"
             ],
             [
              0.3333333333333333,
              "#9c179e"
             ],
             [
              0.4444444444444444,
              "#bd3786"
             ],
             [
              0.5555555555555556,
              "#d8576b"
             ],
             [
              0.6666666666666666,
              "#ed7953"
             ],
             [
              0.7777777777777778,
              "#fb9f3a"
             ],
             [
              0.8888888888888888,
              "#fdca26"
             ],
             [
              1,
              "#f0f921"
             ]
            ],
            "type": "surface"
           }
          ],
          "table": [
           {
            "cells": {
             "fill": {
              "color": "#EBF0F8"
             },
             "line": {
              "color": "white"
             }
            },
            "header": {
             "fill": {
              "color": "#C8D4E3"
             },
             "line": {
              "color": "white"
             }
            },
            "type": "table"
           }
          ]
         },
         "layout": {
          "annotationdefaults": {
           "arrowcolor": "#2a3f5f",
           "arrowhead": 0,
           "arrowwidth": 1
          },
          "autotypenumbers": "strict",
          "coloraxis": {
           "colorbar": {
            "outlinewidth": 0,
            "ticks": ""
           }
          },
          "colorscale": {
           "diverging": [
            [
             0,
             "#8e0152"
            ],
            [
             0.1,
             "#c51b7d"
            ],
            [
             0.2,
             "#de77ae"
            ],
            [
             0.3,
             "#f1b6da"
            ],
            [
             0.4,
             "#fde0ef"
            ],
            [
             0.5,
             "#f7f7f7"
            ],
            [
             0.6,
             "#e6f5d0"
            ],
            [
             0.7,
             "#b8e186"
            ],
            [
             0.8,
             "#7fbc41"
            ],
            [
             0.9,
             "#4d9221"
            ],
            [
             1,
             "#276419"
            ]
           ],
           "sequential": [
            [
             0,
             "#0d0887"
            ],
            [
             0.1111111111111111,
             "#46039f"
            ],
            [
             0.2222222222222222,
             "#7201a8"
            ],
            [
             0.3333333333333333,
             "#9c179e"
            ],
            [
             0.4444444444444444,
             "#bd3786"
            ],
            [
             0.5555555555555556,
             "#d8576b"
            ],
            [
             0.6666666666666666,
             "#ed7953"
            ],
            [
             0.7777777777777778,
             "#fb9f3a"
            ],
            [
             0.8888888888888888,
             "#fdca26"
            ],
            [
             1,
             "#f0f921"
            ]
           ],
           "sequentialminus": [
            [
             0,
             "#0d0887"
            ],
            [
             0.1111111111111111,
             "#46039f"
            ],
            [
             0.2222222222222222,
             "#7201a8"
            ],
            [
             0.3333333333333333,
             "#9c179e"
            ],
            [
             0.4444444444444444,
             "#bd3786"
            ],
            [
             0.5555555555555556,
             "#d8576b"
            ],
            [
             0.6666666666666666,
             "#ed7953"
            ],
            [
             0.7777777777777778,
             "#fb9f3a"
            ],
            [
             0.8888888888888888,
             "#fdca26"
            ],
            [
             1,
             "#f0f921"
            ]
           ]
          },
          "colorway": [
           "#636efa",
           "#EF553B",
           "#00cc96",
           "#ab63fa",
           "#FFA15A",
           "#19d3f3",
           "#FF6692",
           "#B6E880",
           "#FF97FF",
           "#FECB52"
          ],
          "font": {
           "color": "#2a3f5f"
          },
          "geo": {
           "bgcolor": "white",
           "lakecolor": "white",
           "landcolor": "#E5ECF6",
           "showlakes": true,
           "showland": true,
           "subunitcolor": "white"
          },
          "hoverlabel": {
           "align": "left"
          },
          "hovermode": "closest",
          "mapbox": {
           "style": "light"
          },
          "paper_bgcolor": "white",
          "plot_bgcolor": "#E5ECF6",
          "polar": {
           "angularaxis": {
            "gridcolor": "white",
            "linecolor": "white",
            "ticks": ""
           },
           "bgcolor": "#E5ECF6",
           "radialaxis": {
            "gridcolor": "white",
            "linecolor": "white",
            "ticks": ""
           }
          },
          "scene": {
           "xaxis": {
            "backgroundcolor": "#E5ECF6",
            "gridcolor": "white",
            "gridwidth": 2,
            "linecolor": "white",
            "showbackground": true,
            "ticks": "",
            "zerolinecolor": "white"
           },
           "yaxis": {
            "backgroundcolor": "#E5ECF6",
            "gridcolor": "white",
            "gridwidth": 2,
            "linecolor": "white",
            "showbackground": true,
            "ticks": "",
            "zerolinecolor": "white"
           },
           "zaxis": {
            "backgroundcolor": "#E5ECF6",
            "gridcolor": "white",
            "gridwidth": 2,
            "linecolor": "white",
            "showbackground": true,
            "ticks": "",
            "zerolinecolor": "white"
           }
          },
          "shapedefaults": {
           "line": {
            "color": "#2a3f5f"
           }
          },
          "ternary": {
           "aaxis": {
            "gridcolor": "white",
            "linecolor": "white",
            "ticks": ""
           },
           "baxis": {
            "gridcolor": "white",
            "linecolor": "white",
            "ticks": ""
           },
           "bgcolor": "#E5ECF6",
           "caxis": {
            "gridcolor": "white",
            "linecolor": "white",
            "ticks": ""
           }
          },
          "title": {
           "x": 0.05
          },
          "xaxis": {
           "automargin": true,
           "gridcolor": "white",
           "linecolor": "white",
           "ticks": "",
           "title": {
            "standoff": 15
           },
           "zerolinecolor": "white",
           "zerolinewidth": 2
          },
          "yaxis": {
           "automargin": true,
           "gridcolor": "white",
           "linecolor": "white",
           "ticks": "",
           "title": {
            "standoff": 15
           },
           "zerolinecolor": "white",
           "zerolinewidth": 2
          }
         }
        },
        "xaxis": {
         "anchor": "y",
         "domain": [
          0,
          1
         ],
         "title": {
          "text": "index"
         }
        },
        "yaxis": {
         "anchor": "x",
         "domain": [
          0,
          1
         ],
         "title": {
          "text": "value"
         }
        }
       }
      }
     },
     "metadata": {},
     "output_type": "display_data"
    }
   ],
   "source": [
    "px.line(metodos_PvP_sensibilidades.T)"
   ]
  },
  {
   "cell_type": "markdown",
   "metadata": {},
   "source": [
    "## Métodos SoloHum"
   ]
  },
  {
   "cell_type": "code",
   "execution_count": 93,
   "metadata": {},
   "outputs": [
    {
     "data": {
      "text/html": [
       "<div>\n",
       "<style scoped>\n",
       "    .dataframe tbody tr th:only-of-type {\n",
       "        vertical-align: middle;\n",
       "    }\n",
       "\n",
       "    .dataframe tbody tr th {\n",
       "        vertical-align: top;\n",
       "    }\n",
       "\n",
       "    .dataframe thead th {\n",
       "        text-align: right;\n",
       "    }\n",
       "</style>\n",
       "<table border=\"1\" class=\"dataframe\">\n",
       "  <thead>\n",
       "    <tr style=\"text-align: right;\">\n",
       "      <th></th>\n",
       "      <th>Negro</th>\n",
       "      <th>CurvaCola</th>\n",
       "      <th>Congelado</th>\n",
       "      <th>Hum</th>\n",
       "      <th>Anomalia</th>\n",
       "      <th>HBOS</th>\n",
       "      <th>IForest</th>\n",
       "      <th>KNN</th>\n",
       "    </tr>\n",
       "    <tr>\n",
       "      <th>fecha</th>\n",
       "      <th></th>\n",
       "      <th></th>\n",
       "      <th></th>\n",
       "      <th></th>\n",
       "      <th></th>\n",
       "      <th></th>\n",
       "      <th></th>\n",
       "      <th></th>\n",
       "    </tr>\n",
       "  </thead>\n",
       "  <tbody>\n",
       "    <tr>\n",
       "      <th>2021-08-01 11:06:00</th>\n",
       "      <td>0</td>\n",
       "      <td>0</td>\n",
       "      <td>0</td>\n",
       "      <td>0</td>\n",
       "      <td>0</td>\n",
       "      <td>0</td>\n",
       "      <td>0</td>\n",
       "      <td>1</td>\n",
       "    </tr>\n",
       "    <tr>\n",
       "      <th>2021-03-15 11:15:00</th>\n",
       "      <td>0</td>\n",
       "      <td>0</td>\n",
       "      <td>0</td>\n",
       "      <td>0</td>\n",
       "      <td>0</td>\n",
       "      <td>0</td>\n",
       "      <td>0</td>\n",
       "      <td>0</td>\n",
       "    </tr>\n",
       "    <tr>\n",
       "      <th>2021-10-19 07:04:00</th>\n",
       "      <td>0</td>\n",
       "      <td>0</td>\n",
       "      <td>0</td>\n",
       "      <td>0</td>\n",
       "      <td>0</td>\n",
       "      <td>0</td>\n",
       "      <td>0</td>\n",
       "      <td>0</td>\n",
       "    </tr>\n",
       "    <tr>\n",
       "      <th>2021-04-17 10:46:00</th>\n",
       "      <td>0</td>\n",
       "      <td>0</td>\n",
       "      <td>0</td>\n",
       "      <td>0</td>\n",
       "      <td>0</td>\n",
       "      <td>0</td>\n",
       "      <td>0</td>\n",
       "      <td>0</td>\n",
       "    </tr>\n",
       "    <tr>\n",
       "      <th>2021-03-07 19:50:00</th>\n",
       "      <td>0</td>\n",
       "      <td>0</td>\n",
       "      <td>0</td>\n",
       "      <td>0</td>\n",
       "      <td>0</td>\n",
       "      <td>0</td>\n",
       "      <td>0</td>\n",
       "      <td>0</td>\n",
       "    </tr>\n",
       "  </tbody>\n",
       "</table>\n",
       "</div>"
      ],
      "text/plain": [
       "                     Negro  CurvaCola  Congelado  Hum  Anomalia  HBOS  \\\n",
       "fecha                                                                   \n",
       "2021-08-01 11:06:00      0          0          0    0         0     0   \n",
       "2021-03-15 11:15:00      0          0          0    0         0     0   \n",
       "2021-10-19 07:04:00      0          0          0    0         0     0   \n",
       "2021-04-17 10:46:00      0          0          0    0         0     0   \n",
       "2021-03-07 19:50:00      0          0          0    0         0     0   \n",
       "\n",
       "                     IForest  KNN  \n",
       "fecha                              \n",
       "2021-08-01 11:06:00        0    1  \n",
       "2021-03-15 11:15:00        0    0  \n",
       "2021-10-19 07:04:00        0    0  \n",
       "2021-04-17 10:46:00        0    0  \n",
       "2021-03-07 19:50:00        0    0  "
      ]
     },
     "execution_count": 93,
     "metadata": {},
     "output_type": "execute_result"
    }
   ],
   "source": [
    "metodos_SH = pd.read_csv('Metodos_SoloHumedades/Total/Resultados/PyOD_HBOS_completo.csv',index_col='fecha')\n",
    "metodos_SH = metodos_SH.drop('Y_pred', axis=1)\n",
    "\n",
    "metodos_SH['HBOS'] = pd.read_csv('Metodos_SoloHumedades/Total/Resultados/PyOD_HBOS_completo.csv',usecols=['fecha','Y_pred'],index_col='fecha')\n",
    "metodos_SH['IForest'] = pd.read_csv('Metodos_SoloHumedades/Total/Resultados/PyOD_IForest_completo.csv',usecols=['fecha','Y_pred'],index_col='fecha')\n",
    "metodos_SH['KNN'] = pd.read_csv('Metodos_SoloHumedades/Total/Resultados/PyOD_KNN_completo.csv',usecols=['fecha','Y_pred'],index_col='fecha')\n",
    "\n",
    "metodos_SH.head()"
   ]
  },
  {
   "cell_type": "markdown",
   "metadata": {},
   "source": []
  },
  {
   "cell_type": "markdown",
   "metadata": {},
   "source": [
    "### Métricas generales:"
   ]
  },
  {
   "cell_type": "code",
   "execution_count": 94,
   "metadata": {},
   "outputs": [
    {
     "data": {
      "text/html": [
       "<div>\n",
       "<style scoped>\n",
       "    .dataframe tbody tr th:only-of-type {\n",
       "        vertical-align: middle;\n",
       "    }\n",
       "\n",
       "    .dataframe tbody tr th {\n",
       "        vertical-align: top;\n",
       "    }\n",
       "\n",
       "    .dataframe thead th {\n",
       "        text-align: right;\n",
       "    }\n",
       "</style>\n",
       "<table border=\"1\" class=\"dataframe\">\n",
       "  <thead>\n",
       "    <tr style=\"text-align: right;\">\n",
       "      <th></th>\n",
       "      <th>roc_auc</th>\n",
       "      <th>accuracy</th>\n",
       "      <th>precision</th>\n",
       "      <th>kappa</th>\n",
       "      <th>sensibilidad</th>\n",
       "      <th>especificidad</th>\n",
       "    </tr>\n",
       "  </thead>\n",
       "  <tbody>\n",
       "    <tr>\n",
       "      <th>HBOS</th>\n",
       "      <td>0.692972</td>\n",
       "      <td>0.880523</td>\n",
       "      <td>0.771343</td>\n",
       "      <td>0.474521</td>\n",
       "      <td>0.410516</td>\n",
       "      <td>0.975427</td>\n",
       "    </tr>\n",
       "    <tr>\n",
       "      <th>IForest</th>\n",
       "      <td>0.680885</td>\n",
       "      <td>0.867139</td>\n",
       "      <td>0.676762</td>\n",
       "      <td>0.432202</td>\n",
       "      <td>0.400384</td>\n",
       "      <td>0.961386</td>\n",
       "    </tr>\n",
       "    <tr>\n",
       "      <th>KNN</th>\n",
       "      <td>0.551034</td>\n",
       "      <td>0.795467</td>\n",
       "      <td>0.313586</td>\n",
       "      <td>0.122425</td>\n",
       "      <td>0.182914</td>\n",
       "      <td>0.919154</td>\n",
       "    </tr>\n",
       "  </tbody>\n",
       "</table>\n",
       "</div>"
      ],
      "text/plain": [
       "          roc_auc  accuracy precision     kappa sensibilidad especificidad\n",
       "HBOS     0.692972  0.880523  0.771343  0.474521     0.410516      0.975427\n",
       "IForest  0.680885  0.867139  0.676762  0.432202     0.400384      0.961386\n",
       "KNN      0.551034  0.795467  0.313586  0.122425     0.182914      0.919154"
      ]
     },
     "execution_count": 94,
     "metadata": {},
     "output_type": "execute_result"
    }
   ],
   "source": [
    "metodos_SH_lista = ['HBOS','IForest','KNN']\n",
    "metodos_SH_metricas = calc_metricas(metodos_SH,metodos_SH_lista)\n",
    "metodos_SH_metricas"
   ]
  },
  {
   "cell_type": "code",
   "execution_count": 95,
   "metadata": {},
   "outputs": [
    {
     "data": {
      "text/html": [
       "<div>\n",
       "<style scoped>\n",
       "    .dataframe tbody tr th:only-of-type {\n",
       "        vertical-align: middle;\n",
       "    }\n",
       "\n",
       "    .dataframe tbody tr th {\n",
       "        vertical-align: top;\n",
       "    }\n",
       "\n",
       "    .dataframe thead th {\n",
       "        text-align: right;\n",
       "    }\n",
       "</style>\n",
       "<table border=\"1\" class=\"dataframe\">\n",
       "  <thead>\n",
       "    <tr style=\"text-align: right;\">\n",
       "      <th></th>\n",
       "      <th>roc_auc</th>\n",
       "      <th>accuracy</th>\n",
       "      <th>precision</th>\n",
       "      <th>kappa</th>\n",
       "      <th>sensibilidad</th>\n",
       "      <th>especificidad</th>\n",
       "    </tr>\n",
       "  </thead>\n",
       "  <tbody>\n",
       "    <tr>\n",
       "      <th>MAD_PyOD</th>\n",
       "      <td>0.657336</td>\n",
       "      <td>0.857839</td>\n",
       "      <td>0.63807</td>\n",
       "      <td>0.382252</td>\n",
       "      <td>0.355375</td>\n",
       "      <td>0.959297</td>\n",
       "    </tr>\n",
       "    <tr>\n",
       "      <th>MAD_PySAD</th>\n",
       "      <td>0.660535</td>\n",
       "      <td>0.855868</td>\n",
       "      <td>0.62026</td>\n",
       "      <td>0.383755</td>\n",
       "      <td>0.366361</td>\n",
       "      <td>0.95471</td>\n",
       "    </tr>\n",
       "    <tr>\n",
       "      <th>SAD</th>\n",
       "      <td>0.660173</td>\n",
       "      <td>0.855761</td>\n",
       "      <td>0.619892</td>\n",
       "      <td>0.383044</td>\n",
       "      <td>0.365614</td>\n",
       "      <td>0.954731</td>\n",
       "    </tr>\n",
       "  </tbody>\n",
       "</table>\n",
       "</div>"
      ],
      "text/plain": [
       "            roc_auc  accuracy precision     kappa sensibilidad especificidad\n",
       "MAD_PyOD   0.657336  0.857839   0.63807  0.382252     0.355375      0.959297\n",
       "MAD_PySAD  0.660535  0.855868   0.62026  0.383755     0.366361       0.95471\n",
       "SAD        0.660173  0.855761  0.619892  0.383044     0.365614      0.954731"
      ]
     },
     "execution_count": 95,
     "metadata": {},
     "output_type": "execute_result"
    }
   ],
   "source": [
    "metodos_PvP_metricas = calc_metricas(metodos_PvP, metodos_PvP_lista)\n",
    "metodos_PvP_metricas"
   ]
  },
  {
   "cell_type": "code",
   "execution_count": 96,
   "metadata": {},
   "outputs": [
    {
     "data": {
      "application/vnd.plotly.v1+json": {
       "config": {
        "plotlyServerURL": "https://plot.ly"
       },
       "data": [
        {
         "hovertemplate": "variable=HBOS<br>index=%{x}<br>value=%{y}<extra></extra>",
         "legendgroup": "HBOS",
         "line": {
          "color": "#636efa",
          "dash": "solid"
         },
         "marker": {
          "symbol": "circle"
         },
         "mode": "lines",
         "name": "HBOS",
         "orientation": "v",
         "showlegend": true,
         "type": "scatter",
         "x": [
          "roc_auc",
          "accuracy",
          "precision",
          "kappa",
          "sensibilidad",
          "especificidad"
         ],
         "xaxis": "x",
         "y": [
          0.6929718500411828,
          0.8805232037269306,
          0.7713426853707415,
          0.4745209779953228,
          0.41051621160409557,
          0.9754274884782702
         ],
         "yaxis": "y"
        },
        {
         "hovertemplate": "variable=IForest<br>index=%{x}<br>value=%{y}<extra></extra>",
         "legendgroup": "IForest",
         "line": {
          "color": "#EF553B",
          "dash": "solid"
         },
         "marker": {
          "symbol": "circle"
         },
         "mode": "lines",
         "name": "IForest",
         "orientation": "v",
         "showlegend": true,
         "type": "scatter",
         "x": [
          "roc_auc",
          "accuracy",
          "precision",
          "kappa",
          "sensibilidad",
          "especificidad"
         ],
         "xaxis": "x",
         "y": [
          0.6808850061836823,
          0.8671385056441498,
          0.6767622138092663,
          0.43220209291568246,
          0.4003839590443686,
          0.9613860533229961
         ],
         "yaxis": "y"
        },
        {
         "hovertemplate": "variable=KNN<br>index=%{x}<br>value=%{y}<extra></extra>",
         "legendgroup": "KNN",
         "line": {
          "color": "#00cc96",
          "dash": "solid"
         },
         "marker": {
          "symbol": "circle"
         },
         "mode": "lines",
         "name": "KNN",
         "orientation": "v",
         "showlegend": true,
         "type": "scatter",
         "x": [
          "roc_auc",
          "accuracy",
          "precision",
          "kappa",
          "sensibilidad",
          "especificidad"
         ],
         "xaxis": "x",
         "y": [
          0.5510339453326613,
          0.7954667622289913,
          0.31358566465533005,
          0.12242475826280574,
          0.18291382252559726,
          0.9191540681397252
         ],
         "yaxis": "y"
        }
       ],
       "layout": {
        "legend": {
         "title": {
          "text": "variable"
         },
         "tracegroupgap": 0
        },
        "margin": {
         "t": 60
        },
        "template": {
         "data": {
          "bar": [
           {
            "error_x": {
             "color": "#2a3f5f"
            },
            "error_y": {
             "color": "#2a3f5f"
            },
            "marker": {
             "line": {
              "color": "#E5ECF6",
              "width": 0.5
             },
             "pattern": {
              "fillmode": "overlay",
              "size": 10,
              "solidity": 0.2
             }
            },
            "type": "bar"
           }
          ],
          "barpolar": [
           {
            "marker": {
             "line": {
              "color": "#E5ECF6",
              "width": 0.5
             },
             "pattern": {
              "fillmode": "overlay",
              "size": 10,
              "solidity": 0.2
             }
            },
            "type": "barpolar"
           }
          ],
          "carpet": [
           {
            "aaxis": {
             "endlinecolor": "#2a3f5f",
             "gridcolor": "white",
             "linecolor": "white",
             "minorgridcolor": "white",
             "startlinecolor": "#2a3f5f"
            },
            "baxis": {
             "endlinecolor": "#2a3f5f",
             "gridcolor": "white",
             "linecolor": "white",
             "minorgridcolor": "white",
             "startlinecolor": "#2a3f5f"
            },
            "type": "carpet"
           }
          ],
          "choropleth": [
           {
            "colorbar": {
             "outlinewidth": 0,
             "ticks": ""
            },
            "type": "choropleth"
           }
          ],
          "contour": [
           {
            "colorbar": {
             "outlinewidth": 0,
             "ticks": ""
            },
            "colorscale": [
             [
              0,
              "#0d0887"
             ],
             [
              0.1111111111111111,
              "#46039f"
             ],
             [
              0.2222222222222222,
              "#7201a8"
             ],
             [
              0.3333333333333333,
              "#9c179e"
             ],
             [
              0.4444444444444444,
              "#bd3786"
             ],
             [
              0.5555555555555556,
              "#d8576b"
             ],
             [
              0.6666666666666666,
              "#ed7953"
             ],
             [
              0.7777777777777778,
              "#fb9f3a"
             ],
             [
              0.8888888888888888,
              "#fdca26"
             ],
             [
              1,
              "#f0f921"
             ]
            ],
            "type": "contour"
           }
          ],
          "contourcarpet": [
           {
            "colorbar": {
             "outlinewidth": 0,
             "ticks": ""
            },
            "type": "contourcarpet"
           }
          ],
          "heatmap": [
           {
            "colorbar": {
             "outlinewidth": 0,
             "ticks": ""
            },
            "colorscale": [
             [
              0,
              "#0d0887"
             ],
             [
              0.1111111111111111,
              "#46039f"
             ],
             [
              0.2222222222222222,
              "#7201a8"
             ],
             [
              0.3333333333333333,
              "#9c179e"
             ],
             [
              0.4444444444444444,
              "#bd3786"
             ],
             [
              0.5555555555555556,
              "#d8576b"
             ],
             [
              0.6666666666666666,
              "#ed7953"
             ],
             [
              0.7777777777777778,
              "#fb9f3a"
             ],
             [
              0.8888888888888888,
              "#fdca26"
             ],
             [
              1,
              "#f0f921"
             ]
            ],
            "type": "heatmap"
           }
          ],
          "heatmapgl": [
           {
            "colorbar": {
             "outlinewidth": 0,
             "ticks": ""
            },
            "colorscale": [
             [
              0,
              "#0d0887"
             ],
             [
              0.1111111111111111,
              "#46039f"
             ],
             [
              0.2222222222222222,
              "#7201a8"
             ],
             [
              0.3333333333333333,
              "#9c179e"
             ],
             [
              0.4444444444444444,
              "#bd3786"
             ],
             [
              0.5555555555555556,
              "#d8576b"
             ],
             [
              0.6666666666666666,
              "#ed7953"
             ],
             [
              0.7777777777777778,
              "#fb9f3a"
             ],
             [
              0.8888888888888888,
              "#fdca26"
             ],
             [
              1,
              "#f0f921"
             ]
            ],
            "type": "heatmapgl"
           }
          ],
          "histogram": [
           {
            "marker": {
             "pattern": {
              "fillmode": "overlay",
              "size": 10,
              "solidity": 0.2
             }
            },
            "type": "histogram"
           }
          ],
          "histogram2d": [
           {
            "colorbar": {
             "outlinewidth": 0,
             "ticks": ""
            },
            "colorscale": [
             [
              0,
              "#0d0887"
             ],
             [
              0.1111111111111111,
              "#46039f"
             ],
             [
              0.2222222222222222,
              "#7201a8"
             ],
             [
              0.3333333333333333,
              "#9c179e"
             ],
             [
              0.4444444444444444,
              "#bd3786"
             ],
             [
              0.5555555555555556,
              "#d8576b"
             ],
             [
              0.6666666666666666,
              "#ed7953"
             ],
             [
              0.7777777777777778,
              "#fb9f3a"
             ],
             [
              0.8888888888888888,
              "#fdca26"
             ],
             [
              1,
              "#f0f921"
             ]
            ],
            "type": "histogram2d"
           }
          ],
          "histogram2dcontour": [
           {
            "colorbar": {
             "outlinewidth": 0,
             "ticks": ""
            },
            "colorscale": [
             [
              0,
              "#0d0887"
             ],
             [
              0.1111111111111111,
              "#46039f"
             ],
             [
              0.2222222222222222,
              "#7201a8"
             ],
             [
              0.3333333333333333,
              "#9c179e"
             ],
             [
              0.4444444444444444,
              "#bd3786"
             ],
             [
              0.5555555555555556,
              "#d8576b"
             ],
             [
              0.6666666666666666,
              "#ed7953"
             ],
             [
              0.7777777777777778,
              "#fb9f3a"
             ],
             [
              0.8888888888888888,
              "#fdca26"
             ],
             [
              1,
              "#f0f921"
             ]
            ],
            "type": "histogram2dcontour"
           }
          ],
          "mesh3d": [
           {
            "colorbar": {
             "outlinewidth": 0,
             "ticks": ""
            },
            "type": "mesh3d"
           }
          ],
          "parcoords": [
           {
            "line": {
             "colorbar": {
              "outlinewidth": 0,
              "ticks": ""
             }
            },
            "type": "parcoords"
           }
          ],
          "pie": [
           {
            "automargin": true,
            "type": "pie"
           }
          ],
          "scatter": [
           {
            "fillpattern": {
             "fillmode": "overlay",
             "size": 10,
             "solidity": 0.2
            },
            "type": "scatter"
           }
          ],
          "scatter3d": [
           {
            "line": {
             "colorbar": {
              "outlinewidth": 0,
              "ticks": ""
             }
            },
            "marker": {
             "colorbar": {
              "outlinewidth": 0,
              "ticks": ""
             }
            },
            "type": "scatter3d"
           }
          ],
          "scattercarpet": [
           {
            "marker": {
             "colorbar": {
              "outlinewidth": 0,
              "ticks": ""
             }
            },
            "type": "scattercarpet"
           }
          ],
          "scattergeo": [
           {
            "marker": {
             "colorbar": {
              "outlinewidth": 0,
              "ticks": ""
             }
            },
            "type": "scattergeo"
           }
          ],
          "scattergl": [
           {
            "marker": {
             "colorbar": {
              "outlinewidth": 0,
              "ticks": ""
             }
            },
            "type": "scattergl"
           }
          ],
          "scattermapbox": [
           {
            "marker": {
             "colorbar": {
              "outlinewidth": 0,
              "ticks": ""
             }
            },
            "type": "scattermapbox"
           }
          ],
          "scatterpolar": [
           {
            "marker": {
             "colorbar": {
              "outlinewidth": 0,
              "ticks": ""
             }
            },
            "type": "scatterpolar"
           }
          ],
          "scatterpolargl": [
           {
            "marker": {
             "colorbar": {
              "outlinewidth": 0,
              "ticks": ""
             }
            },
            "type": "scatterpolargl"
           }
          ],
          "scatterternary": [
           {
            "marker": {
             "colorbar": {
              "outlinewidth": 0,
              "ticks": ""
             }
            },
            "type": "scatterternary"
           }
          ],
          "surface": [
           {
            "colorbar": {
             "outlinewidth": 0,
             "ticks": ""
            },
            "colorscale": [
             [
              0,
              "#0d0887"
             ],
             [
              0.1111111111111111,
              "#46039f"
             ],
             [
              0.2222222222222222,
              "#7201a8"
             ],
             [
              0.3333333333333333,
              "#9c179e"
             ],
             [
              0.4444444444444444,
              "#bd3786"
             ],
             [
              0.5555555555555556,
              "#d8576b"
             ],
             [
              0.6666666666666666,
              "#ed7953"
             ],
             [
              0.7777777777777778,
              "#fb9f3a"
             ],
             [
              0.8888888888888888,
              "#fdca26"
             ],
             [
              1,
              "#f0f921"
             ]
            ],
            "type": "surface"
           }
          ],
          "table": [
           {
            "cells": {
             "fill": {
              "color": "#EBF0F8"
             },
             "line": {
              "color": "white"
             }
            },
            "header": {
             "fill": {
              "color": "#C8D4E3"
             },
             "line": {
              "color": "white"
             }
            },
            "type": "table"
           }
          ]
         },
         "layout": {
          "annotationdefaults": {
           "arrowcolor": "#2a3f5f",
           "arrowhead": 0,
           "arrowwidth": 1
          },
          "autotypenumbers": "strict",
          "coloraxis": {
           "colorbar": {
            "outlinewidth": 0,
            "ticks": ""
           }
          },
          "colorscale": {
           "diverging": [
            [
             0,
             "#8e0152"
            ],
            [
             0.1,
             "#c51b7d"
            ],
            [
             0.2,
             "#de77ae"
            ],
            [
             0.3,
             "#f1b6da"
            ],
            [
             0.4,
             "#fde0ef"
            ],
            [
             0.5,
             "#f7f7f7"
            ],
            [
             0.6,
             "#e6f5d0"
            ],
            [
             0.7,
             "#b8e186"
            ],
            [
             0.8,
             "#7fbc41"
            ],
            [
             0.9,
             "#4d9221"
            ],
            [
             1,
             "#276419"
            ]
           ],
           "sequential": [
            [
             0,
             "#0d0887"
            ],
            [
             0.1111111111111111,
             "#46039f"
            ],
            [
             0.2222222222222222,
             "#7201a8"
            ],
            [
             0.3333333333333333,
             "#9c179e"
            ],
            [
             0.4444444444444444,
             "#bd3786"
            ],
            [
             0.5555555555555556,
             "#d8576b"
            ],
            [
             0.6666666666666666,
             "#ed7953"
            ],
            [
             0.7777777777777778,
             "#fb9f3a"
            ],
            [
             0.8888888888888888,
             "#fdca26"
            ],
            [
             1,
             "#f0f921"
            ]
           ],
           "sequentialminus": [
            [
             0,
             "#0d0887"
            ],
            [
             0.1111111111111111,
             "#46039f"
            ],
            [
             0.2222222222222222,
             "#7201a8"
            ],
            [
             0.3333333333333333,
             "#9c179e"
            ],
            [
             0.4444444444444444,
             "#bd3786"
            ],
            [
             0.5555555555555556,
             "#d8576b"
            ],
            [
             0.6666666666666666,
             "#ed7953"
            ],
            [
             0.7777777777777778,
             "#fb9f3a"
            ],
            [
             0.8888888888888888,
             "#fdca26"
            ],
            [
             1,
             "#f0f921"
            ]
           ]
          },
          "colorway": [
           "#636efa",
           "#EF553B",
           "#00cc96",
           "#ab63fa",
           "#FFA15A",
           "#19d3f3",
           "#FF6692",
           "#B6E880",
           "#FF97FF",
           "#FECB52"
          ],
          "font": {
           "color": "#2a3f5f"
          },
          "geo": {
           "bgcolor": "white",
           "lakecolor": "white",
           "landcolor": "#E5ECF6",
           "showlakes": true,
           "showland": true,
           "subunitcolor": "white"
          },
          "hoverlabel": {
           "align": "left"
          },
          "hovermode": "closest",
          "mapbox": {
           "style": "light"
          },
          "paper_bgcolor": "white",
          "plot_bgcolor": "#E5ECF6",
          "polar": {
           "angularaxis": {
            "gridcolor": "white",
            "linecolor": "white",
            "ticks": ""
           },
           "bgcolor": "#E5ECF6",
           "radialaxis": {
            "gridcolor": "white",
            "linecolor": "white",
            "ticks": ""
           }
          },
          "scene": {
           "xaxis": {
            "backgroundcolor": "#E5ECF6",
            "gridcolor": "white",
            "gridwidth": 2,
            "linecolor": "white",
            "showbackground": true,
            "ticks": "",
            "zerolinecolor": "white"
           },
           "yaxis": {
            "backgroundcolor": "#E5ECF6",
            "gridcolor": "white",
            "gridwidth": 2,
            "linecolor": "white",
            "showbackground": true,
            "ticks": "",
            "zerolinecolor": "white"
           },
           "zaxis": {
            "backgroundcolor": "#E5ECF6",
            "gridcolor": "white",
            "gridwidth": 2,
            "linecolor": "white",
            "showbackground": true,
            "ticks": "",
            "zerolinecolor": "white"
           }
          },
          "shapedefaults": {
           "line": {
            "color": "#2a3f5f"
           }
          },
          "ternary": {
           "aaxis": {
            "gridcolor": "white",
            "linecolor": "white",
            "ticks": ""
           },
           "baxis": {
            "gridcolor": "white",
            "linecolor": "white",
            "ticks": ""
           },
           "bgcolor": "#E5ECF6",
           "caxis": {
            "gridcolor": "white",
            "linecolor": "white",
            "ticks": ""
           }
          },
          "title": {
           "x": 0.05
          },
          "xaxis": {
           "automargin": true,
           "gridcolor": "white",
           "linecolor": "white",
           "ticks": "",
           "title": {
            "standoff": 15
           },
           "zerolinecolor": "white",
           "zerolinewidth": 2
          },
          "yaxis": {
           "automargin": true,
           "gridcolor": "white",
           "linecolor": "white",
           "ticks": "",
           "title": {
            "standoff": 15
           },
           "zerolinecolor": "white",
           "zerolinewidth": 2
          }
         }
        },
        "xaxis": {
         "anchor": "y",
         "domain": [
          0,
          1
         ],
         "title": {
          "text": "index"
         }
        },
        "yaxis": {
         "anchor": "x",
         "domain": [
          0,
          1
         ],
         "title": {
          "text": "value"
         }
        }
       }
      }
     },
     "metadata": {},
     "output_type": "display_data"
    }
   ],
   "source": [
    "px.line(metodos_SH_metricas.T)"
   ]
  },
  {
   "cell_type": "markdown",
   "metadata": {},
   "source": [
    "### Sensibilidad por tipo de anomalía"
   ]
  },
  {
   "cell_type": "code",
   "execution_count": 97,
   "metadata": {},
   "outputs": [
    {
     "data": {
      "text/html": [
       "<div>\n",
       "<style scoped>\n",
       "    .dataframe tbody tr th:only-of-type {\n",
       "        vertical-align: middle;\n",
       "    }\n",
       "\n",
       "    .dataframe tbody tr th {\n",
       "        vertical-align: top;\n",
       "    }\n",
       "\n",
       "    .dataframe thead th {\n",
       "        text-align: right;\n",
       "    }\n",
       "</style>\n",
       "<table border=\"1\" class=\"dataframe\">\n",
       "  <thead>\n",
       "    <tr style=\"text-align: right;\">\n",
       "      <th></th>\n",
       "      <th>Anomalia</th>\n",
       "      <th>Negro</th>\n",
       "      <th>Congelado</th>\n",
       "      <th>Hum</th>\n",
       "      <th>CurvaCola</th>\n",
       "    </tr>\n",
       "  </thead>\n",
       "  <tbody>\n",
       "    <tr>\n",
       "      <th>HBOS</th>\n",
       "      <td>0.410516</td>\n",
       "      <td>0.84748</td>\n",
       "      <td>0.907783</td>\n",
       "      <td>0.494983</td>\n",
       "      <td>0.114844</td>\n",
       "    </tr>\n",
       "    <tr>\n",
       "      <th>IForest</th>\n",
       "      <td>0.400384</td>\n",
       "      <td>0.820264</td>\n",
       "      <td>0.908347</td>\n",
       "      <td>0.494983</td>\n",
       "      <td>0.102344</td>\n",
       "    </tr>\n",
       "    <tr>\n",
       "      <th>KNN</th>\n",
       "      <td>0.182914</td>\n",
       "      <td>0.270816</td>\n",
       "      <td>0.286802</td>\n",
       "      <td>0.505017</td>\n",
       "      <td>0.104688</td>\n",
       "    </tr>\n",
       "  </tbody>\n",
       "</table>\n",
       "</div>"
      ],
      "text/plain": [
       "         Anomalia     Negro Congelado       Hum CurvaCola\n",
       "HBOS     0.410516   0.84748  0.907783  0.494983  0.114844\n",
       "IForest  0.400384  0.820264  0.908347  0.494983  0.102344\n",
       "KNN      0.182914  0.270816  0.286802  0.505017  0.104688"
      ]
     },
     "execution_count": 97,
     "metadata": {},
     "output_type": "execute_result"
    }
   ],
   "source": [
    "metodos_SH_sensibilidades = calc_sensibilidad(metodos_SH,metodos_SH_lista,anomalias)\n",
    "metodos_SH_sensibilidades"
   ]
  },
  {
   "cell_type": "code",
   "execution_count": 98,
   "metadata": {},
   "outputs": [
    {
     "data": {
      "application/vnd.plotly.v1+json": {
       "config": {
        "plotlyServerURL": "https://plot.ly"
       },
       "data": [
        {
         "hovertemplate": "variable=HBOS<br>index=%{x}<br>value=%{y}<extra></extra>",
         "legendgroup": "HBOS",
         "line": {
          "color": "#636efa",
          "dash": "solid"
         },
         "marker": {
          "symbol": "circle"
         },
         "mode": "lines",
         "name": "HBOS",
         "orientation": "v",
         "showlegend": true,
         "type": "scatter",
         "x": [
          "Anomalia",
          "Negro",
          "Congelado",
          "Hum",
          "CurvaCola"
         ],
         "xaxis": "x",
         "y": [
          0.41051621160409557,
          0.8474804634869307,
          0.9077834179357022,
          0.49498327759197325,
          0.11484375
         ],
         "yaxis": "y"
        },
        {
         "hovertemplate": "variable=IForest<br>index=%{x}<br>value=%{y}<extra></extra>",
         "legendgroup": "IForest",
         "line": {
          "color": "#EF553B",
          "dash": "solid"
         },
         "marker": {
          "symbol": "circle"
         },
         "mode": "lines",
         "name": "IForest",
         "orientation": "v",
         "showlegend": true,
         "type": "scatter",
         "x": [
          "Anomalia",
          "Negro",
          "Congelado",
          "Hum",
          "CurvaCola"
         ],
         "xaxis": "x",
         "y": [
          0.4003839590443686,
          0.8202640797628672,
          0.9083474337281444,
          0.49498327759197325,
          0.10234375
         ],
         "yaxis": "y"
        },
        {
         "hovertemplate": "variable=KNN<br>index=%{x}<br>value=%{y}<extra></extra>",
         "legendgroup": "KNN",
         "line": {
          "color": "#00cc96",
          "dash": "solid"
         },
         "marker": {
          "symbol": "circle"
         },
         "mode": "lines",
         "name": "KNN",
         "orientation": "v",
         "showlegend": true,
         "type": "scatter",
         "x": [
          "Anomalia",
          "Negro",
          "Congelado",
          "Hum",
          "CurvaCola"
         ],
         "xaxis": "x",
         "y": [
          0.18291382252559726,
          0.27081649151172194,
          0.2868020304568528,
          0.5050167224080268,
          0.1046875
         ],
         "yaxis": "y"
        }
       ],
       "layout": {
        "legend": {
         "title": {
          "text": "variable"
         },
         "tracegroupgap": 0
        },
        "margin": {
         "t": 60
        },
        "template": {
         "data": {
          "bar": [
           {
            "error_x": {
             "color": "#2a3f5f"
            },
            "error_y": {
             "color": "#2a3f5f"
            },
            "marker": {
             "line": {
              "color": "#E5ECF6",
              "width": 0.5
             },
             "pattern": {
              "fillmode": "overlay",
              "size": 10,
              "solidity": 0.2
             }
            },
            "type": "bar"
           }
          ],
          "barpolar": [
           {
            "marker": {
             "line": {
              "color": "#E5ECF6",
              "width": 0.5
             },
             "pattern": {
              "fillmode": "overlay",
              "size": 10,
              "solidity": 0.2
             }
            },
            "type": "barpolar"
           }
          ],
          "carpet": [
           {
            "aaxis": {
             "endlinecolor": "#2a3f5f",
             "gridcolor": "white",
             "linecolor": "white",
             "minorgridcolor": "white",
             "startlinecolor": "#2a3f5f"
            },
            "baxis": {
             "endlinecolor": "#2a3f5f",
             "gridcolor": "white",
             "linecolor": "white",
             "minorgridcolor": "white",
             "startlinecolor": "#2a3f5f"
            },
            "type": "carpet"
           }
          ],
          "choropleth": [
           {
            "colorbar": {
             "outlinewidth": 0,
             "ticks": ""
            },
            "type": "choropleth"
           }
          ],
          "contour": [
           {
            "colorbar": {
             "outlinewidth": 0,
             "ticks": ""
            },
            "colorscale": [
             [
              0,
              "#0d0887"
             ],
             [
              0.1111111111111111,
              "#46039f"
             ],
             [
              0.2222222222222222,
              "#7201a8"
             ],
             [
              0.3333333333333333,
              "#9c179e"
             ],
             [
              0.4444444444444444,
              "#bd3786"
             ],
             [
              0.5555555555555556,
              "#d8576b"
             ],
             [
              0.6666666666666666,
              "#ed7953"
             ],
             [
              0.7777777777777778,
              "#fb9f3a"
             ],
             [
              0.8888888888888888,
              "#fdca26"
             ],
             [
              1,
              "#f0f921"
             ]
            ],
            "type": "contour"
           }
          ],
          "contourcarpet": [
           {
            "colorbar": {
             "outlinewidth": 0,
             "ticks": ""
            },
            "type": "contourcarpet"
           }
          ],
          "heatmap": [
           {
            "colorbar": {
             "outlinewidth": 0,
             "ticks": ""
            },
            "colorscale": [
             [
              0,
              "#0d0887"
             ],
             [
              0.1111111111111111,
              "#46039f"
             ],
             [
              0.2222222222222222,
              "#7201a8"
             ],
             [
              0.3333333333333333,
              "#9c179e"
             ],
             [
              0.4444444444444444,
              "#bd3786"
             ],
             [
              0.5555555555555556,
              "#d8576b"
             ],
             [
              0.6666666666666666,
              "#ed7953"
             ],
             [
              0.7777777777777778,
              "#fb9f3a"
             ],
             [
              0.8888888888888888,
              "#fdca26"
             ],
             [
              1,
              "#f0f921"
             ]
            ],
            "type": "heatmap"
           }
          ],
          "heatmapgl": [
           {
            "colorbar": {
             "outlinewidth": 0,
             "ticks": ""
            },
            "colorscale": [
             [
              0,
              "#0d0887"
             ],
             [
              0.1111111111111111,
              "#46039f"
             ],
             [
              0.2222222222222222,
              "#7201a8"
             ],
             [
              0.3333333333333333,
              "#9c179e"
             ],
             [
              0.4444444444444444,
              "#bd3786"
             ],
             [
              0.5555555555555556,
              "#d8576b"
             ],
             [
              0.6666666666666666,
              "#ed7953"
             ],
             [
              0.7777777777777778,
              "#fb9f3a"
             ],
             [
              0.8888888888888888,
              "#fdca26"
             ],
             [
              1,
              "#f0f921"
             ]
            ],
            "type": "heatmapgl"
           }
          ],
          "histogram": [
           {
            "marker": {
             "pattern": {
              "fillmode": "overlay",
              "size": 10,
              "solidity": 0.2
             }
            },
            "type": "histogram"
           }
          ],
          "histogram2d": [
           {
            "colorbar": {
             "outlinewidth": 0,
             "ticks": ""
            },
            "colorscale": [
             [
              0,
              "#0d0887"
             ],
             [
              0.1111111111111111,
              "#46039f"
             ],
             [
              0.2222222222222222,
              "#7201a8"
             ],
             [
              0.3333333333333333,
              "#9c179e"
             ],
             [
              0.4444444444444444,
              "#bd3786"
             ],
             [
              0.5555555555555556,
              "#d8576b"
             ],
             [
              0.6666666666666666,
              "#ed7953"
             ],
             [
              0.7777777777777778,
              "#fb9f3a"
             ],
             [
              0.8888888888888888,
              "#fdca26"
             ],
             [
              1,
              "#f0f921"
             ]
            ],
            "type": "histogram2d"
           }
          ],
          "histogram2dcontour": [
           {
            "colorbar": {
             "outlinewidth": 0,
             "ticks": ""
            },
            "colorscale": [
             [
              0,
              "#0d0887"
             ],
             [
              0.1111111111111111,
              "#46039f"
             ],
             [
              0.2222222222222222,
              "#7201a8"
             ],
             [
              0.3333333333333333,
              "#9c179e"
             ],
             [
              0.4444444444444444,
              "#bd3786"
             ],
             [
              0.5555555555555556,
              "#d8576b"
             ],
             [
              0.6666666666666666,
              "#ed7953"
             ],
             [
              0.7777777777777778,
              "#fb9f3a"
             ],
             [
              0.8888888888888888,
              "#fdca26"
             ],
             [
              1,
              "#f0f921"
             ]
            ],
            "type": "histogram2dcontour"
           }
          ],
          "mesh3d": [
           {
            "colorbar": {
             "outlinewidth": 0,
             "ticks": ""
            },
            "type": "mesh3d"
           }
          ],
          "parcoords": [
           {
            "line": {
             "colorbar": {
              "outlinewidth": 0,
              "ticks": ""
             }
            },
            "type": "parcoords"
           }
          ],
          "pie": [
           {
            "automargin": true,
            "type": "pie"
           }
          ],
          "scatter": [
           {
            "fillpattern": {
             "fillmode": "overlay",
             "size": 10,
             "solidity": 0.2
            },
            "type": "scatter"
           }
          ],
          "scatter3d": [
           {
            "line": {
             "colorbar": {
              "outlinewidth": 0,
              "ticks": ""
             }
            },
            "marker": {
             "colorbar": {
              "outlinewidth": 0,
              "ticks": ""
             }
            },
            "type": "scatter3d"
           }
          ],
          "scattercarpet": [
           {
            "marker": {
             "colorbar": {
              "outlinewidth": 0,
              "ticks": ""
             }
            },
            "type": "scattercarpet"
           }
          ],
          "scattergeo": [
           {
            "marker": {
             "colorbar": {
              "outlinewidth": 0,
              "ticks": ""
             }
            },
            "type": "scattergeo"
           }
          ],
          "scattergl": [
           {
            "marker": {
             "colorbar": {
              "outlinewidth": 0,
              "ticks": ""
             }
            },
            "type": "scattergl"
           }
          ],
          "scattermapbox": [
           {
            "marker": {
             "colorbar": {
              "outlinewidth": 0,
              "ticks": ""
             }
            },
            "type": "scattermapbox"
           }
          ],
          "scatterpolar": [
           {
            "marker": {
             "colorbar": {
              "outlinewidth": 0,
              "ticks": ""
             }
            },
            "type": "scatterpolar"
           }
          ],
          "scatterpolargl": [
           {
            "marker": {
             "colorbar": {
              "outlinewidth": 0,
              "ticks": ""
             }
            },
            "type": "scatterpolargl"
           }
          ],
          "scatterternary": [
           {
            "marker": {
             "colorbar": {
              "outlinewidth": 0,
              "ticks": ""
             }
            },
            "type": "scatterternary"
           }
          ],
          "surface": [
           {
            "colorbar": {
             "outlinewidth": 0,
             "ticks": ""
            },
            "colorscale": [
             [
              0,
              "#0d0887"
             ],
             [
              0.1111111111111111,
              "#46039f"
             ],
             [
              0.2222222222222222,
              "#7201a8"
             ],
             [
              0.3333333333333333,
              "#9c179e"
             ],
             [
              0.4444444444444444,
              "#bd3786"
             ],
             [
              0.5555555555555556,
              "#d8576b"
             ],
             [
              0.6666666666666666,
              "#ed7953"
             ],
             [
              0.7777777777777778,
              "#fb9f3a"
             ],
             [
              0.8888888888888888,
              "#fdca26"
             ],
             [
              1,
              "#f0f921"
             ]
            ],
            "type": "surface"
           }
          ],
          "table": [
           {
            "cells": {
             "fill": {
              "color": "#EBF0F8"
             },
             "line": {
              "color": "white"
             }
            },
            "header": {
             "fill": {
              "color": "#C8D4E3"
             },
             "line": {
              "color": "white"
             }
            },
            "type": "table"
           }
          ]
         },
         "layout": {
          "annotationdefaults": {
           "arrowcolor": "#2a3f5f",
           "arrowhead": 0,
           "arrowwidth": 1
          },
          "autotypenumbers": "strict",
          "coloraxis": {
           "colorbar": {
            "outlinewidth": 0,
            "ticks": ""
           }
          },
          "colorscale": {
           "diverging": [
            [
             0,
             "#8e0152"
            ],
            [
             0.1,
             "#c51b7d"
            ],
            [
             0.2,
             "#de77ae"
            ],
            [
             0.3,
             "#f1b6da"
            ],
            [
             0.4,
             "#fde0ef"
            ],
            [
             0.5,
             "#f7f7f7"
            ],
            [
             0.6,
             "#e6f5d0"
            ],
            [
             0.7,
             "#b8e186"
            ],
            [
             0.8,
             "#7fbc41"
            ],
            [
             0.9,
             "#4d9221"
            ],
            [
             1,
             "#276419"
            ]
           ],
           "sequential": [
            [
             0,
             "#0d0887"
            ],
            [
             0.1111111111111111,
             "#46039f"
            ],
            [
             0.2222222222222222,
             "#7201a8"
            ],
            [
             0.3333333333333333,
             "#9c179e"
            ],
            [
             0.4444444444444444,
             "#bd3786"
            ],
            [
             0.5555555555555556,
             "#d8576b"
            ],
            [
             0.6666666666666666,
             "#ed7953"
            ],
            [
             0.7777777777777778,
             "#fb9f3a"
            ],
            [
             0.8888888888888888,
             "#fdca26"
            ],
            [
             1,
             "#f0f921"
            ]
           ],
           "sequentialminus": [
            [
             0,
             "#0d0887"
            ],
            [
             0.1111111111111111,
             "#46039f"
            ],
            [
             0.2222222222222222,
             "#7201a8"
            ],
            [
             0.3333333333333333,
             "#9c179e"
            ],
            [
             0.4444444444444444,
             "#bd3786"
            ],
            [
             0.5555555555555556,
             "#d8576b"
            ],
            [
             0.6666666666666666,
             "#ed7953"
            ],
            [
             0.7777777777777778,
             "#fb9f3a"
            ],
            [
             0.8888888888888888,
             "#fdca26"
            ],
            [
             1,
             "#f0f921"
            ]
           ]
          },
          "colorway": [
           "#636efa",
           "#EF553B",
           "#00cc96",
           "#ab63fa",
           "#FFA15A",
           "#19d3f3",
           "#FF6692",
           "#B6E880",
           "#FF97FF",
           "#FECB52"
          ],
          "font": {
           "color": "#2a3f5f"
          },
          "geo": {
           "bgcolor": "white",
           "lakecolor": "white",
           "landcolor": "#E5ECF6",
           "showlakes": true,
           "showland": true,
           "subunitcolor": "white"
          },
          "hoverlabel": {
           "align": "left"
          },
          "hovermode": "closest",
          "mapbox": {
           "style": "light"
          },
          "paper_bgcolor": "white",
          "plot_bgcolor": "#E5ECF6",
          "polar": {
           "angularaxis": {
            "gridcolor": "white",
            "linecolor": "white",
            "ticks": ""
           },
           "bgcolor": "#E5ECF6",
           "radialaxis": {
            "gridcolor": "white",
            "linecolor": "white",
            "ticks": ""
           }
          },
          "scene": {
           "xaxis": {
            "backgroundcolor": "#E5ECF6",
            "gridcolor": "white",
            "gridwidth": 2,
            "linecolor": "white",
            "showbackground": true,
            "ticks": "",
            "zerolinecolor": "white"
           },
           "yaxis": {
            "backgroundcolor": "#E5ECF6",
            "gridcolor": "white",
            "gridwidth": 2,
            "linecolor": "white",
            "showbackground": true,
            "ticks": "",
            "zerolinecolor": "white"
           },
           "zaxis": {
            "backgroundcolor": "#E5ECF6",
            "gridcolor": "white",
            "gridwidth": 2,
            "linecolor": "white",
            "showbackground": true,
            "ticks": "",
            "zerolinecolor": "white"
           }
          },
          "shapedefaults": {
           "line": {
            "color": "#2a3f5f"
           }
          },
          "ternary": {
           "aaxis": {
            "gridcolor": "white",
            "linecolor": "white",
            "ticks": ""
           },
           "baxis": {
            "gridcolor": "white",
            "linecolor": "white",
            "ticks": ""
           },
           "bgcolor": "#E5ECF6",
           "caxis": {
            "gridcolor": "white",
            "linecolor": "white",
            "ticks": ""
           }
          },
          "title": {
           "x": 0.05
          },
          "xaxis": {
           "automargin": true,
           "gridcolor": "white",
           "linecolor": "white",
           "ticks": "",
           "title": {
            "standoff": 15
           },
           "zerolinecolor": "white",
           "zerolinewidth": 2
          },
          "yaxis": {
           "automargin": true,
           "gridcolor": "white",
           "linecolor": "white",
           "ticks": "",
           "title": {
            "standoff": 15
           },
           "zerolinecolor": "white",
           "zerolinewidth": 2
          }
         }
        },
        "xaxis": {
         "anchor": "y",
         "domain": [
          0,
          1
         ],
         "title": {
          "text": "index"
         }
        },
        "yaxis": {
         "anchor": "x",
         "domain": [
          0,
          1
         ],
         "title": {
          "text": "value"
         }
        }
       }
      }
     },
     "metadata": {},
     "output_type": "display_data"
    }
   ],
   "source": [
    "px.line(metodos_SH_sensibilidades.T)"
   ]
  },
  {
   "cell_type": "markdown",
   "metadata": {},
   "source": [
    "## Resumen Final"
   ]
  },
  {
   "cell_type": "code",
   "execution_count": 99,
   "metadata": {},
   "outputs": [
    {
     "data": {
      "text/html": [
       "<div>\n",
       "<style scoped>\n",
       "    .dataframe tbody tr th:only-of-type {\n",
       "        vertical-align: middle;\n",
       "    }\n",
       "\n",
       "    .dataframe tbody tr th {\n",
       "        vertical-align: top;\n",
       "    }\n",
       "\n",
       "    .dataframe thead th {\n",
       "        text-align: right;\n",
       "    }\n",
       "</style>\n",
       "<table border=\"1\" class=\"dataframe\">\n",
       "  <thead>\n",
       "    <tr style=\"text-align: right;\">\n",
       "      <th></th>\n",
       "      <th>roc_auc</th>\n",
       "      <th>accuracy</th>\n",
       "      <th>precision</th>\n",
       "      <th>kappa</th>\n",
       "      <th>sensibilidad</th>\n",
       "      <th>especificidad</th>\n",
       "    </tr>\n",
       "  </thead>\n",
       "  <tbody>\n",
       "    <tr>\n",
       "      <th>HBOS_general</th>\n",
       "      <td>0.564536</td>\n",
       "      <td>0.801362</td>\n",
       "      <td>0.347539</td>\n",
       "      <td>0.153723</td>\n",
       "      <td>0.207871</td>\n",
       "      <td>0.9212</td>\n",
       "    </tr>\n",
       "    <tr>\n",
       "      <th>IForest_general</th>\n",
       "      <td>0.606131</td>\n",
       "      <td>0.825748</td>\n",
       "      <td>0.468348</td>\n",
       "      <td>0.254026</td>\n",
       "      <td>0.275384</td>\n",
       "      <td>0.936878</td>\n",
       "    </tr>\n",
       "    <tr>\n",
       "      <th>KNN_general</th>\n",
       "      <td>0.532171</td>\n",
       "      <td>0.782351</td>\n",
       "      <td>0.256288</td>\n",
       "      <td>0.076334</td>\n",
       "      <td>0.155397</td>\n",
       "      <td>0.908946</td>\n",
       "    </tr>\n",
       "    <tr>\n",
       "      <th>LODA_general</th>\n",
       "      <td>0.61083</td>\n",
       "      <td>0.828185</td>\n",
       "      <td>0.480738</td>\n",
       "      <td>0.265057</td>\n",
       "      <td>0.28349</td>\n",
       "      <td>0.93817</td>\n",
       "    </tr>\n",
       "    <tr>\n",
       "      <th>MAD_PyOD_general</th>\n",
       "      <td>0.685715</td>\n",
       "      <td>0.889339</td>\n",
       "      <td>0.909417</td>\n",
       "      <td>0.484083</td>\n",
       "      <td>0.379053</td>\n",
       "      <td>0.992376</td>\n",
       "    </tr>\n",
       "    <tr>\n",
       "      <th>MCD_general</th>\n",
       "      <td>0.528716</td>\n",
       "      <td>0.781276</td>\n",
       "      <td>0.247818</td>\n",
       "      <td>0.068385</td>\n",
       "      <td>0.148358</td>\n",
       "      <td>0.909075</td>\n",
       "    </tr>\n",
       "    <tr>\n",
       "      <th>IForestASD_general</th>\n",
       "      <td>0.671777</td>\n",
       "      <td>0.739097</td>\n",
       "      <td>0.336755</td>\n",
       "      <td>0.269064</td>\n",
       "      <td>0.570392</td>\n",
       "      <td>0.773162</td>\n",
       "    </tr>\n",
       "    <tr>\n",
       "      <th>MAD_PySAD_general</th>\n",
       "      <td>0.671182</td>\n",
       "      <td>0.889518</td>\n",
       "      <td>1.0</td>\n",
       "      <td>0.464173</td>\n",
       "      <td>0.342363</td>\n",
       "      <td>1.0</td>\n",
       "    </tr>\n",
       "    <tr>\n",
       "      <th>SAD_general</th>\n",
       "      <td>0.671182</td>\n",
       "      <td>0.889518</td>\n",
       "      <td>1.0</td>\n",
       "      <td>0.464173</td>\n",
       "      <td>0.342363</td>\n",
       "      <td>1.0</td>\n",
       "    </tr>\n",
       "    <tr>\n",
       "      <th>xStream_general</th>\n",
       "      <td>0.674266</td>\n",
       "      <td>0.767246</td>\n",
       "      <td>0.367444</td>\n",
       "      <td>0.295082</td>\n",
       "      <td>0.534236</td>\n",
       "      <td>0.814296</td>\n",
       "    </tr>\n",
       "    <tr>\n",
       "      <th>HTM_general</th>\n",
       "      <td>0.470682</td>\n",
       "      <td>0.771401</td>\n",
       "      <td>0.047341</td>\n",
       "      <td>-0.07679</td>\n",
       "      <td>0.019351</td>\n",
       "      <td>0.922013</td>\n",
       "    </tr>\n",
       "    <tr>\n",
       "      <th>IForest_NvS</th>\n",
       "      <td>0.673347</td>\n",
       "      <td>0.86196</td>\n",
       "      <td>0.648543</td>\n",
       "      <td>0.412492</td>\n",
       "      <td>0.389292</td>\n",
       "      <td>0.957402</td>\n",
       "    </tr>\n",
       "    <tr>\n",
       "      <th>MAD_NvS</th>\n",
       "      <td>0.671695</td>\n",
       "      <td>0.879466</td>\n",
       "      <td>0.824712</td>\n",
       "      <td>0.443335</td>\n",
       "      <td>0.358788</td>\n",
       "      <td>0.984602</td>\n",
       "    </tr>\n",
       "    <tr>\n",
       "      <th>HTM_NvS</th>\n",
       "      <td>0.470918</td>\n",
       "      <td>0.771365</td>\n",
       "      <td>0.048738</td>\n",
       "      <td>-0.076111</td>\n",
       "      <td>0.019996</td>\n",
       "      <td>0.921841</td>\n",
       "    </tr>\n",
       "    <tr>\n",
       "      <th>MAD_PyOD_PvP</th>\n",
       "      <td>0.657336</td>\n",
       "      <td>0.857839</td>\n",
       "      <td>0.63807</td>\n",
       "      <td>0.382252</td>\n",
       "      <td>0.355375</td>\n",
       "      <td>0.959297</td>\n",
       "    </tr>\n",
       "    <tr>\n",
       "      <th>MAD_PySAD_PvP</th>\n",
       "      <td>0.660535</td>\n",
       "      <td>0.855868</td>\n",
       "      <td>0.62026</td>\n",
       "      <td>0.383755</td>\n",
       "      <td>0.366361</td>\n",
       "      <td>0.95471</td>\n",
       "    </tr>\n",
       "    <tr>\n",
       "      <th>SAD_PvP</th>\n",
       "      <td>0.660173</td>\n",
       "      <td>0.855761</td>\n",
       "      <td>0.619892</td>\n",
       "      <td>0.383044</td>\n",
       "      <td>0.365614</td>\n",
       "      <td>0.954731</td>\n",
       "    </tr>\n",
       "    <tr>\n",
       "      <th>HBOS_SH</th>\n",
       "      <td>0.692972</td>\n",
       "      <td>0.880523</td>\n",
       "      <td>0.771343</td>\n",
       "      <td>0.474521</td>\n",
       "      <td>0.410516</td>\n",
       "      <td>0.975427</td>\n",
       "    </tr>\n",
       "    <tr>\n",
       "      <th>IForest_SH</th>\n",
       "      <td>0.680885</td>\n",
       "      <td>0.867139</td>\n",
       "      <td>0.676762</td>\n",
       "      <td>0.432202</td>\n",
       "      <td>0.400384</td>\n",
       "      <td>0.961386</td>\n",
       "    </tr>\n",
       "    <tr>\n",
       "      <th>KNN_SH</th>\n",
       "      <td>0.551034</td>\n",
       "      <td>0.795467</td>\n",
       "      <td>0.313586</td>\n",
       "      <td>0.122425</td>\n",
       "      <td>0.182914</td>\n",
       "      <td>0.919154</td>\n",
       "    </tr>\n",
       "  </tbody>\n",
       "</table>\n",
       "</div>"
      ],
      "text/plain": [
       "                     roc_auc  accuracy precision     kappa sensibilidad  \\\n",
       "HBOS_general        0.564536  0.801362  0.347539  0.153723     0.207871   \n",
       "IForest_general     0.606131  0.825748  0.468348  0.254026     0.275384   \n",
       "KNN_general         0.532171  0.782351  0.256288  0.076334     0.155397   \n",
       "LODA_general         0.61083  0.828185  0.480738  0.265057      0.28349   \n",
       "MAD_PyOD_general    0.685715  0.889339  0.909417  0.484083     0.379053   \n",
       "MCD_general         0.528716  0.781276  0.247818  0.068385     0.148358   \n",
       "IForestASD_general  0.671777  0.739097  0.336755  0.269064     0.570392   \n",
       "MAD_PySAD_general   0.671182  0.889518       1.0  0.464173     0.342363   \n",
       "SAD_general         0.671182  0.889518       1.0  0.464173     0.342363   \n",
       "xStream_general     0.674266  0.767246  0.367444  0.295082     0.534236   \n",
       "HTM_general         0.470682  0.771401  0.047341  -0.07679     0.019351   \n",
       "IForest_NvS         0.673347   0.86196  0.648543  0.412492     0.389292   \n",
       "MAD_NvS             0.671695  0.879466  0.824712  0.443335     0.358788   \n",
       "HTM_NvS             0.470918  0.771365  0.048738 -0.076111     0.019996   \n",
       "MAD_PyOD_PvP        0.657336  0.857839   0.63807  0.382252     0.355375   \n",
       "MAD_PySAD_PvP       0.660535  0.855868   0.62026  0.383755     0.366361   \n",
       "SAD_PvP             0.660173  0.855761  0.619892  0.383044     0.365614   \n",
       "HBOS_SH             0.692972  0.880523  0.771343  0.474521     0.410516   \n",
       "IForest_SH          0.680885  0.867139  0.676762  0.432202     0.400384   \n",
       "KNN_SH              0.551034  0.795467  0.313586  0.122425     0.182914   \n",
       "\n",
       "                   especificidad  \n",
       "HBOS_general              0.9212  \n",
       "IForest_general         0.936878  \n",
       "KNN_general             0.908946  \n",
       "LODA_general             0.93817  \n",
       "MAD_PyOD_general        0.992376  \n",
       "MCD_general             0.909075  \n",
       "IForestASD_general      0.773162  \n",
       "MAD_PySAD_general            1.0  \n",
       "SAD_general                  1.0  \n",
       "xStream_general         0.814296  \n",
       "HTM_general             0.922013  \n",
       "IForest_NvS             0.957402  \n",
       "MAD_NvS                 0.984602  \n",
       "HTM_NvS                 0.921841  \n",
       "MAD_PyOD_PvP            0.959297  \n",
       "MAD_PySAD_PvP            0.95471  \n",
       "SAD_PvP                 0.954731  \n",
       "HBOS_SH                 0.975427  \n",
       "IForest_SH              0.961386  \n",
       "KNN_SH                  0.919154  "
      ]
     },
     "execution_count": 99,
     "metadata": {},
     "output_type": "execute_result"
    }
   ],
   "source": [
    "resumen_general = pd.concat([metodos_metricas.T.add_suffix('_general'),metodos_NvS_metricas.T.add_suffix('_NvS'),\n",
    "            metodos_PvP_metricas.T.add_suffix('_PvP'),metodos_SH_metricas.T.add_suffix('_SH')],axis=1).T\n",
    "\n",
    "resumen_general"
   ]
  },
  {
   "cell_type": "code",
   "execution_count": 100,
   "metadata": {},
   "outputs": [
    {
     "data": {
      "application/vnd.plotly.v1+json": {
       "config": {
        "plotlyServerURL": "https://plot.ly"
       },
       "data": [
        {
         "hovertemplate": "variable=HBOS_general<br>index=%{x}<br>value=%{y}<extra></extra>",
         "legendgroup": "HBOS_general",
         "line": {
          "color": "#636efa",
          "dash": "solid"
         },
         "marker": {
          "symbol": "circle"
         },
         "mode": "lines",
         "name": "HBOS_general",
         "orientation": "v",
         "showlegend": true,
         "type": "scatter",
         "x": [
          "roc_auc",
          "accuracy",
          "precision",
          "kappa",
          "sensibilidad",
          "especificidad"
         ],
         "xaxis": "x",
         "y": [
          0.5645355715904007,
          0.801361763124888,
          0.34753922967189727,
          0.15372289146053164,
          0.2078711604095563,
          0.9211999827712453
         ],
         "yaxis": "y"
        },
        {
         "hovertemplate": "variable=IForest_general<br>index=%{x}<br>value=%{y}<extra></extra>",
         "legendgroup": "IForest_general",
         "line": {
          "color": "#EF553B",
          "dash": "solid"
         },
         "marker": {
          "symbol": "circle"
         },
         "mode": "lines",
         "name": "IForest_general",
         "orientation": "v",
         "showlegend": true,
         "type": "scatter",
         "x": [
          "roc_auc",
          "accuracy",
          "precision",
          "kappa",
          "sensibilidad",
          "especificidad"
         ],
         "xaxis": "x",
         "y": [
          0.6061310543380519,
          0.8257480738218957,
          0.46834754217304553,
          0.25402602375813965,
          0.2753839590443686,
          0.9368781496317353
         ],
         "yaxis": "y"
        },
        {
         "hovertemplate": "variable=KNN_general<br>index=%{x}<br>value=%{y}<extra></extra>",
         "legendgroup": "KNN_general",
         "line": {
          "color": "#00cc96",
          "dash": "solid"
         },
         "marker": {
          "symbol": "circle"
         },
         "mode": "lines",
         "name": "KNN_general",
         "orientation": "v",
         "showlegend": true,
         "type": "scatter",
         "x": [
          "roc_auc",
          "accuracy",
          "precision",
          "kappa",
          "sensibilidad",
          "especificidad"
         ],
         "xaxis": "x",
         "y": [
          0.5321713943023978,
          0.7823508331840172,
          0.25628847845206687,
          0.07633391129787725,
          0.15539675767918087,
          0.9089460309256149
         ],
         "yaxis": "y"
        },
        {
         "hovertemplate": "variable=LODA_general<br>index=%{x}<br>value=%{y}<extra></extra>",
         "legendgroup": "LODA_general",
         "line": {
          "color": "#ab63fa",
          "dash": "solid"
         },
         "marker": {
          "symbol": "circle"
         },
         "mode": "lines",
         "name": "LODA_general",
         "orientation": "v",
         "showlegend": true,
         "type": "scatter",
         "x": [
          "roc_auc",
          "accuracy",
          "precision",
          "kappa",
          "sensibilidad",
          "especificidad"
         ],
         "xaxis": "x",
         "y": [
          0.6108300336666332,
          0.8281849130980111,
          0.48073792729245796,
          0.26505708552996743,
          0.2834897610921502,
          0.9381703062411164
         ],
         "yaxis": "y"
        },
        {
         "hovertemplate": "variable=MAD_PyOD_general<br>index=%{x}<br>value=%{y}<extra></extra>",
         "legendgroup": "MAD_PyOD_general",
         "line": {
          "color": "#FFA15A",
          "dash": "solid"
         },
         "marker": {
          "symbol": "circle"
         },
         "mode": "lines",
         "name": "MAD_PyOD_general",
         "orientation": "v",
         "showlegend": true,
         "type": "scatter",
         "x": [
          "roc_auc",
          "accuracy",
          "precision",
          "kappa",
          "sensibilidad",
          "especificidad"
         ],
         "xaxis": "x",
         "y": [
          0.6857145885142711,
          0.8893388281669952,
          0.9094165813715456,
          0.4840832327721213,
          0.3790529010238908,
          0.9923762760046517
         ],
         "yaxis": "y"
        },
        {
         "hovertemplate": "variable=MCD_general<br>index=%{x}<br>value=%{y}<extra></extra>",
         "legendgroup": "MCD_general",
         "line": {
          "color": "#19d3f3",
          "dash": "solid"
         },
         "marker": {
          "symbol": "circle"
         },
         "mode": "lines",
         "name": "MCD_general",
         "orientation": "v",
         "showlegend": true,
         "type": "scatter",
         "x": [
          "roc_auc",
          "accuracy",
          "precision",
          "kappa",
          "sensibilidad",
          "especificidad"
         ],
         "xaxis": "x",
         "y": [
          0.5287163775594881,
          0.7812757570327898,
          0.24781756636379831,
          0.06838470602154778,
          0.14835750853242322,
          0.9090752465865529
         ],
         "yaxis": "y"
        },
        {
         "hovertemplate": "variable=IForestASD_general<br>index=%{x}<br>value=%{y}<extra></extra>",
         "legendgroup": "IForestASD_general",
         "line": {
          "color": "#FF6692",
          "dash": "solid"
         },
         "marker": {
          "symbol": "circle"
         },
         "mode": "lines",
         "name": "IForestASD_general",
         "orientation": "v",
         "showlegend": true,
         "type": "scatter",
         "x": [
          "roc_auc",
          "accuracy",
          "precision",
          "kappa",
          "sensibilidad",
          "especificidad"
         ],
         "xaxis": "x",
         "y": [
          0.6717771993453661,
          0.739096936032969,
          0.33675461242994775,
          0.2690638815137778,
          0.5703924914675768,
          0.7731619072231555
         ],
         "yaxis": "y"
        },
        {
         "hovertemplate": "variable=MAD_PySAD_general<br>index=%{x}<br>value=%{y}<extra></extra>",
         "legendgroup": "MAD_PySAD_general",
         "line": {
          "color": "#B6E880",
          "dash": "solid"
         },
         "marker": {
          "symbol": "circle"
         },
         "mode": "lines",
         "name": "MAD_PySAD_general",
         "orientation": "v",
         "showlegend": true,
         "type": "scatter",
         "x": [
          "roc_auc",
          "accuracy",
          "precision",
          "kappa",
          "sensibilidad",
          "especificidad"
         ],
         "xaxis": "x",
         "y": [
          0.6711817406143344,
          0.889518007525533,
          1,
          0.4641731724021805,
          0.34236348122866894,
          1
         ],
         "yaxis": "y"
        },
        {
         "hovertemplate": "variable=SAD_general<br>index=%{x}<br>value=%{y}<extra></extra>",
         "legendgroup": "SAD_general",
         "line": {
          "color": "#FF97FF",
          "dash": "solid"
         },
         "marker": {
          "symbol": "circle"
         },
         "mode": "lines",
         "name": "SAD_general",
         "orientation": "v",
         "showlegend": true,
         "type": "scatter",
         "x": [
          "roc_auc",
          "accuracy",
          "precision",
          "kappa",
          "sensibilidad",
          "especificidad"
         ],
         "xaxis": "x",
         "y": [
          0.6711817406143344,
          0.889518007525533,
          1,
          0.4641731724021805,
          0.34236348122866894,
          1
         ],
         "yaxis": "y"
        },
        {
         "hovertemplate": "variable=xStream_general<br>index=%{x}<br>value=%{y}<extra></extra>",
         "legendgroup": "xStream_general",
         "line": {
          "color": "#FECB52",
          "dash": "solid"
         },
         "marker": {
          "symbol": "circle"
         },
         "mode": "lines",
         "name": "xStream_general",
         "orientation": "v",
         "showlegend": true,
         "type": "scatter",
         "x": [
          "roc_auc",
          "accuracy",
          "precision",
          "kappa",
          "sensibilidad",
          "especificidad"
         ],
         "xaxis": "x",
         "y": [
          0.6742659537056597,
          0.7672460132592726,
          0.36744424882629106,
          0.29508245159671553,
          0.5342363481228669,
          0.8142955592884524
         ],
         "yaxis": "y"
        },
        {
         "hovertemplate": "variable=HTM_general<br>index=%{x}<br>value=%{y}<extra></extra>",
         "legendgroup": "HTM_general",
         "line": {
          "color": "#636efa",
          "dash": "solid"
         },
         "marker": {
          "symbol": "circle"
         },
         "mode": "lines",
         "name": "HTM_general",
         "orientation": "v",
         "showlegend": true,
         "type": "scatter",
         "x": [
          "roc_auc",
          "accuracy",
          "precision",
          "kappa",
          "sensibilidad",
          "especificidad"
         ],
         "xaxis": "x",
         "y": [
          0.47068227687264297,
          0.7714013359708723,
          0.04734131988230349,
          -0.07678972836152242,
          0.019351374570446736,
          0.9220131791748392
         ],
         "yaxis": "y"
        },
        {
         "hovertemplate": "variable=IForest_NvS<br>index=%{x}<br>value=%{y}<extra></extra>",
         "legendgroup": "IForest_NvS",
         "line": {
          "color": "#EF553B",
          "dash": "solid"
         },
         "marker": {
          "symbol": "circle"
         },
         "mode": "lines",
         "name": "IForest_NvS",
         "orientation": "v",
         "showlegend": true,
         "type": "scatter",
         "x": [
          "roc_auc",
          "accuracy",
          "precision",
          "kappa",
          "sensibilidad",
          "especificidad"
         ],
         "xaxis": "x",
         "y": [
          0.6733468563255623,
          0.8619602221824045,
          0.648542999289268,
          0.4124917851924248,
          0.3892918088737201,
          0.9574019037774045
         ],
         "yaxis": "y"
        },
        {
         "hovertemplate": "variable=MAD_NvS<br>index=%{x}<br>value=%{y}<extra></extra>",
         "legendgroup": "MAD_NvS",
         "line": {
          "color": "#00cc96",
          "dash": "solid"
         },
         "marker": {
          "symbol": "circle"
         },
         "mode": "lines",
         "name": "MAD_NvS",
         "orientation": "v",
         "showlegend": true,
         "type": "scatter",
         "x": [
          "roc_auc",
          "accuracy",
          "precision",
          "kappa",
          "sensibilidad",
          "especificidad"
         ],
         "xaxis": "x",
         "y": [
          0.6716950981546563,
          0.879466045511557,
          0.8247119392007846,
          0.44333501728327385,
          0.35878839590443684,
          0.9846018004048758
         ],
         "yaxis": "y"
        },
        {
         "hovertemplate": "variable=HTM_NvS<br>index=%{x}<br>value=%{y}<extra></extra>",
         "legendgroup": "HTM_NvS",
         "line": {
          "color": "#ab63fa",
          "dash": "solid"
         },
         "marker": {
          "symbol": "circle"
         },
         "mode": "lines",
         "name": "HTM_NvS",
         "orientation": "v",
         "showlegend": true,
         "type": "scatter",
         "x": [
          "roc_auc",
          "accuracy",
          "precision",
          "kappa",
          "sensibilidad",
          "especificidad"
         ],
         "xaxis": "x",
         "y": [
          0.4709184158756714,
          0.7713654998423211,
          0.04873835200502565,
          -0.07611130435818003,
          0.01999570446735395,
          0.9218411272839888
         ],
         "yaxis": "y"
        },
        {
         "hovertemplate": "variable=MAD_PyOD_PvP<br>index=%{x}<br>value=%{y}<extra></extra>",
         "legendgroup": "MAD_PyOD_PvP",
         "line": {
          "color": "#FFA15A",
          "dash": "solid"
         },
         "marker": {
          "symbol": "circle"
         },
         "mode": "lines",
         "name": "MAD_PyOD_PvP",
         "orientation": "v",
         "showlegend": true,
         "type": "scatter",
         "x": [
          "roc_auc",
          "accuracy",
          "precision",
          "kappa",
          "sensibilidad",
          "especificidad"
         ],
         "xaxis": "x",
         "y": [
          0.6573362467128285,
          0.857839096936033,
          0.6380697050938338,
          0.3822519107217681,
          0.3553754266211604,
          0.9592970668044967
         ],
         "yaxis": "y"
        },
        {
         "hovertemplate": "variable=MAD_PySAD_PvP<br>index=%{x}<br>value=%{y}<extra></extra>",
         "legendgroup": "MAD_PySAD_PvP",
         "line": {
          "color": "#19d3f3",
          "dash": "solid"
         },
         "marker": {
          "symbol": "circle"
         },
         "mode": "lines",
         "name": "MAD_PySAD_PvP",
         "orientation": "v",
         "showlegend": true,
         "type": "scatter",
         "x": [
          "roc_auc",
          "accuracy",
          "precision",
          "kappa",
          "sensibilidad",
          "especificidad"
         ],
         "xaxis": "x",
         "y": [
          0.6605354161714503,
          0.8558681239921161,
          0.6202600216684724,
          0.3837549033031581,
          0.36636092150170646,
          0.9547099108411939
         ],
         "yaxis": "y"
        },
        {
         "hovertemplate": "variable=SAD_PvP<br>index=%{x}<br>value=%{y}<extra></extra>",
         "legendgroup": "SAD_PvP",
         "line": {
          "color": "#FF6692",
          "dash": "solid"
         },
         "marker": {
          "symbol": "circle"
         },
         "mode": "lines",
         "name": "SAD_PvP",
         "orientation": "v",
         "showlegend": true,
         "type": "scatter",
         "x": [
          "roc_auc",
          "accuracy",
          "precision",
          "kappa",
          "sensibilidad",
          "especificidad"
         ],
         "xaxis": "x",
         "y": [
          0.6601728906278368,
          0.8557606163769934,
          0.6198915009041591,
          0.38304417723957795,
          0.3656143344709898,
          0.9547314467846837
         ],
         "yaxis": "y"
        },
        {
         "hovertemplate": "variable=HBOS_SH<br>index=%{x}<br>value=%{y}<extra></extra>",
         "legendgroup": "HBOS_SH",
         "line": {
          "color": "#B6E880",
          "dash": "solid"
         },
         "marker": {
          "symbol": "circle"
         },
         "mode": "lines",
         "name": "HBOS_SH",
         "orientation": "v",
         "showlegend": true,
         "type": "scatter",
         "x": [
          "roc_auc",
          "accuracy",
          "precision",
          "kappa",
          "sensibilidad",
          "especificidad"
         ],
         "xaxis": "x",
         "y": [
          0.6929718500411828,
          0.8805232037269306,
          0.7713426853707415,
          0.4745209779953228,
          0.41051621160409557,
          0.9754274884782702
         ],
         "yaxis": "y"
        },
        {
         "hovertemplate": "variable=IForest_SH<br>index=%{x}<br>value=%{y}<extra></extra>",
         "legendgroup": "IForest_SH",
         "line": {
          "color": "#FF97FF",
          "dash": "solid"
         },
         "marker": {
          "symbol": "circle"
         },
         "mode": "lines",
         "name": "IForest_SH",
         "orientation": "v",
         "showlegend": true,
         "type": "scatter",
         "x": [
          "roc_auc",
          "accuracy",
          "precision",
          "kappa",
          "sensibilidad",
          "especificidad"
         ],
         "xaxis": "x",
         "y": [
          0.6808850061836823,
          0.8671385056441498,
          0.6767622138092663,
          0.43220209291568246,
          0.4003839590443686,
          0.9613860533229961
         ],
         "yaxis": "y"
        },
        {
         "hovertemplate": "variable=KNN_SH<br>index=%{x}<br>value=%{y}<extra></extra>",
         "legendgroup": "KNN_SH",
         "line": {
          "color": "#FECB52",
          "dash": "solid"
         },
         "marker": {
          "symbol": "circle"
         },
         "mode": "lines",
         "name": "KNN_SH",
         "orientation": "v",
         "showlegend": true,
         "type": "scatter",
         "x": [
          "roc_auc",
          "accuracy",
          "precision",
          "kappa",
          "sensibilidad",
          "especificidad"
         ],
         "xaxis": "x",
         "y": [
          0.5510339453326613,
          0.7954667622289913,
          0.31358566465533005,
          0.12242475826280574,
          0.18291382252559726,
          0.9191540681397252
         ],
         "yaxis": "y"
        }
       ],
       "layout": {
        "legend": {
         "title": {
          "text": "variable"
         },
         "tracegroupgap": 0
        },
        "margin": {
         "t": 60
        },
        "template": {
         "data": {
          "bar": [
           {
            "error_x": {
             "color": "#2a3f5f"
            },
            "error_y": {
             "color": "#2a3f5f"
            },
            "marker": {
             "line": {
              "color": "#E5ECF6",
              "width": 0.5
             },
             "pattern": {
              "fillmode": "overlay",
              "size": 10,
              "solidity": 0.2
             }
            },
            "type": "bar"
           }
          ],
          "barpolar": [
           {
            "marker": {
             "line": {
              "color": "#E5ECF6",
              "width": 0.5
             },
             "pattern": {
              "fillmode": "overlay",
              "size": 10,
              "solidity": 0.2
             }
            },
            "type": "barpolar"
           }
          ],
          "carpet": [
           {
            "aaxis": {
             "endlinecolor": "#2a3f5f",
             "gridcolor": "white",
             "linecolor": "white",
             "minorgridcolor": "white",
             "startlinecolor": "#2a3f5f"
            },
            "baxis": {
             "endlinecolor": "#2a3f5f",
             "gridcolor": "white",
             "linecolor": "white",
             "minorgridcolor": "white",
             "startlinecolor": "#2a3f5f"
            },
            "type": "carpet"
           }
          ],
          "choropleth": [
           {
            "colorbar": {
             "outlinewidth": 0,
             "ticks": ""
            },
            "type": "choropleth"
           }
          ],
          "contour": [
           {
            "colorbar": {
             "outlinewidth": 0,
             "ticks": ""
            },
            "colorscale": [
             [
              0,
              "#0d0887"
             ],
             [
              0.1111111111111111,
              "#46039f"
             ],
             [
              0.2222222222222222,
              "#7201a8"
             ],
             [
              0.3333333333333333,
              "#9c179e"
             ],
             [
              0.4444444444444444,
              "#bd3786"
             ],
             [
              0.5555555555555556,
              "#d8576b"
             ],
             [
              0.6666666666666666,
              "#ed7953"
             ],
             [
              0.7777777777777778,
              "#fb9f3a"
             ],
             [
              0.8888888888888888,
              "#fdca26"
             ],
             [
              1,
              "#f0f921"
             ]
            ],
            "type": "contour"
           }
          ],
          "contourcarpet": [
           {
            "colorbar": {
             "outlinewidth": 0,
             "ticks": ""
            },
            "type": "contourcarpet"
           }
          ],
          "heatmap": [
           {
            "colorbar": {
             "outlinewidth": 0,
             "ticks": ""
            },
            "colorscale": [
             [
              0,
              "#0d0887"
             ],
             [
              0.1111111111111111,
              "#46039f"
             ],
             [
              0.2222222222222222,
              "#7201a8"
             ],
             [
              0.3333333333333333,
              "#9c179e"
             ],
             [
              0.4444444444444444,
              "#bd3786"
             ],
             [
              0.5555555555555556,
              "#d8576b"
             ],
             [
              0.6666666666666666,
              "#ed7953"
             ],
             [
              0.7777777777777778,
              "#fb9f3a"
             ],
             [
              0.8888888888888888,
              "#fdca26"
             ],
             [
              1,
              "#f0f921"
             ]
            ],
            "type": "heatmap"
           }
          ],
          "heatmapgl": [
           {
            "colorbar": {
             "outlinewidth": 0,
             "ticks": ""
            },
            "colorscale": [
             [
              0,
              "#0d0887"
             ],
             [
              0.1111111111111111,
              "#46039f"
             ],
             [
              0.2222222222222222,
              "#7201a8"
             ],
             [
              0.3333333333333333,
              "#9c179e"
             ],
             [
              0.4444444444444444,
              "#bd3786"
             ],
             [
              0.5555555555555556,
              "#d8576b"
             ],
             [
              0.6666666666666666,
              "#ed7953"
             ],
             [
              0.7777777777777778,
              "#fb9f3a"
             ],
             [
              0.8888888888888888,
              "#fdca26"
             ],
             [
              1,
              "#f0f921"
             ]
            ],
            "type": "heatmapgl"
           }
          ],
          "histogram": [
           {
            "marker": {
             "pattern": {
              "fillmode": "overlay",
              "size": 10,
              "solidity": 0.2
             }
            },
            "type": "histogram"
           }
          ],
          "histogram2d": [
           {
            "colorbar": {
             "outlinewidth": 0,
             "ticks": ""
            },
            "colorscale": [
             [
              0,
              "#0d0887"
             ],
             [
              0.1111111111111111,
              "#46039f"
             ],
             [
              0.2222222222222222,
              "#7201a8"
             ],
             [
              0.3333333333333333,
              "#9c179e"
             ],
             [
              0.4444444444444444,
              "#bd3786"
             ],
             [
              0.5555555555555556,
              "#d8576b"
             ],
             [
              0.6666666666666666,
              "#ed7953"
             ],
             [
              0.7777777777777778,
              "#fb9f3a"
             ],
             [
              0.8888888888888888,
              "#fdca26"
             ],
             [
              1,
              "#f0f921"
             ]
            ],
            "type": "histogram2d"
           }
          ],
          "histogram2dcontour": [
           {
            "colorbar": {
             "outlinewidth": 0,
             "ticks": ""
            },
            "colorscale": [
             [
              0,
              "#0d0887"
             ],
             [
              0.1111111111111111,
              "#46039f"
             ],
             [
              0.2222222222222222,
              "#7201a8"
             ],
             [
              0.3333333333333333,
              "#9c179e"
             ],
             [
              0.4444444444444444,
              "#bd3786"
             ],
             [
              0.5555555555555556,
              "#d8576b"
             ],
             [
              0.6666666666666666,
              "#ed7953"
             ],
             [
              0.7777777777777778,
              "#fb9f3a"
             ],
             [
              0.8888888888888888,
              "#fdca26"
             ],
             [
              1,
              "#f0f921"
             ]
            ],
            "type": "histogram2dcontour"
           }
          ],
          "mesh3d": [
           {
            "colorbar": {
             "outlinewidth": 0,
             "ticks": ""
            },
            "type": "mesh3d"
           }
          ],
          "parcoords": [
           {
            "line": {
             "colorbar": {
              "outlinewidth": 0,
              "ticks": ""
             }
            },
            "type": "parcoords"
           }
          ],
          "pie": [
           {
            "automargin": true,
            "type": "pie"
           }
          ],
          "scatter": [
           {
            "fillpattern": {
             "fillmode": "overlay",
             "size": 10,
             "solidity": 0.2
            },
            "type": "scatter"
           }
          ],
          "scatter3d": [
           {
            "line": {
             "colorbar": {
              "outlinewidth": 0,
              "ticks": ""
             }
            },
            "marker": {
             "colorbar": {
              "outlinewidth": 0,
              "ticks": ""
             }
            },
            "type": "scatter3d"
           }
          ],
          "scattercarpet": [
           {
            "marker": {
             "colorbar": {
              "outlinewidth": 0,
              "ticks": ""
             }
            },
            "type": "scattercarpet"
           }
          ],
          "scattergeo": [
           {
            "marker": {
             "colorbar": {
              "outlinewidth": 0,
              "ticks": ""
             }
            },
            "type": "scattergeo"
           }
          ],
          "scattergl": [
           {
            "marker": {
             "colorbar": {
              "outlinewidth": 0,
              "ticks": ""
             }
            },
            "type": "scattergl"
           }
          ],
          "scattermapbox": [
           {
            "marker": {
             "colorbar": {
              "outlinewidth": 0,
              "ticks": ""
             }
            },
            "type": "scattermapbox"
           }
          ],
          "scatterpolar": [
           {
            "marker": {
             "colorbar": {
              "outlinewidth": 0,
              "ticks": ""
             }
            },
            "type": "scatterpolar"
           }
          ],
          "scatterpolargl": [
           {
            "marker": {
             "colorbar": {
              "outlinewidth": 0,
              "ticks": ""
             }
            },
            "type": "scatterpolargl"
           }
          ],
          "scatterternary": [
           {
            "marker": {
             "colorbar": {
              "outlinewidth": 0,
              "ticks": ""
             }
            },
            "type": "scatterternary"
           }
          ],
          "surface": [
           {
            "colorbar": {
             "outlinewidth": 0,
             "ticks": ""
            },
            "colorscale": [
             [
              0,
              "#0d0887"
             ],
             [
              0.1111111111111111,
              "#46039f"
             ],
             [
              0.2222222222222222,
              "#7201a8"
             ],
             [
              0.3333333333333333,
              "#9c179e"
             ],
             [
              0.4444444444444444,
              "#bd3786"
             ],
             [
              0.5555555555555556,
              "#d8576b"
             ],
             [
              0.6666666666666666,
              "#ed7953"
             ],
             [
              0.7777777777777778,
              "#fb9f3a"
             ],
             [
              0.8888888888888888,
              "#fdca26"
             ],
             [
              1,
              "#f0f921"
             ]
            ],
            "type": "surface"
           }
          ],
          "table": [
           {
            "cells": {
             "fill": {
              "color": "#EBF0F8"
             },
             "line": {
              "color": "white"
             }
            },
            "header": {
             "fill": {
              "color": "#C8D4E3"
             },
             "line": {
              "color": "white"
             }
            },
            "type": "table"
           }
          ]
         },
         "layout": {
          "annotationdefaults": {
           "arrowcolor": "#2a3f5f",
           "arrowhead": 0,
           "arrowwidth": 1
          },
          "autotypenumbers": "strict",
          "coloraxis": {
           "colorbar": {
            "outlinewidth": 0,
            "ticks": ""
           }
          },
          "colorscale": {
           "diverging": [
            [
             0,
             "#8e0152"
            ],
            [
             0.1,
             "#c51b7d"
            ],
            [
             0.2,
             "#de77ae"
            ],
            [
             0.3,
             "#f1b6da"
            ],
            [
             0.4,
             "#fde0ef"
            ],
            [
             0.5,
             "#f7f7f7"
            ],
            [
             0.6,
             "#e6f5d0"
            ],
            [
             0.7,
             "#b8e186"
            ],
            [
             0.8,
             "#7fbc41"
            ],
            [
             0.9,
             "#4d9221"
            ],
            [
             1,
             "#276419"
            ]
           ],
           "sequential": [
            [
             0,
             "#0d0887"
            ],
            [
             0.1111111111111111,
             "#46039f"
            ],
            [
             0.2222222222222222,
             "#7201a8"
            ],
            [
             0.3333333333333333,
             "#9c179e"
            ],
            [
             0.4444444444444444,
             "#bd3786"
            ],
            [
             0.5555555555555556,
             "#d8576b"
            ],
            [
             0.6666666666666666,
             "#ed7953"
            ],
            [
             0.7777777777777778,
             "#fb9f3a"
            ],
            [
             0.8888888888888888,
             "#fdca26"
            ],
            [
             1,
             "#f0f921"
            ]
           ],
           "sequentialminus": [
            [
             0,
             "#0d0887"
            ],
            [
             0.1111111111111111,
             "#46039f"
            ],
            [
             0.2222222222222222,
             "#7201a8"
            ],
            [
             0.3333333333333333,
             "#9c179e"
            ],
            [
             0.4444444444444444,
             "#bd3786"
            ],
            [
             0.5555555555555556,
             "#d8576b"
            ],
            [
             0.6666666666666666,
             "#ed7953"
            ],
            [
             0.7777777777777778,
             "#fb9f3a"
            ],
            [
             0.8888888888888888,
             "#fdca26"
            ],
            [
             1,
             "#f0f921"
            ]
           ]
          },
          "colorway": [
           "#636efa",
           "#EF553B",
           "#00cc96",
           "#ab63fa",
           "#FFA15A",
           "#19d3f3",
           "#FF6692",
           "#B6E880",
           "#FF97FF",
           "#FECB52"
          ],
          "font": {
           "color": "#2a3f5f"
          },
          "geo": {
           "bgcolor": "white",
           "lakecolor": "white",
           "landcolor": "#E5ECF6",
           "showlakes": true,
           "showland": true,
           "subunitcolor": "white"
          },
          "hoverlabel": {
           "align": "left"
          },
          "hovermode": "closest",
          "mapbox": {
           "style": "light"
          },
          "paper_bgcolor": "white",
          "plot_bgcolor": "#E5ECF6",
          "polar": {
           "angularaxis": {
            "gridcolor": "white",
            "linecolor": "white",
            "ticks": ""
           },
           "bgcolor": "#E5ECF6",
           "radialaxis": {
            "gridcolor": "white",
            "linecolor": "white",
            "ticks": ""
           }
          },
          "scene": {
           "xaxis": {
            "backgroundcolor": "#E5ECF6",
            "gridcolor": "white",
            "gridwidth": 2,
            "linecolor": "white",
            "showbackground": true,
            "ticks": "",
            "zerolinecolor": "white"
           },
           "yaxis": {
            "backgroundcolor": "#E5ECF6",
            "gridcolor": "white",
            "gridwidth": 2,
            "linecolor": "white",
            "showbackground": true,
            "ticks": "",
            "zerolinecolor": "white"
           },
           "zaxis": {
            "backgroundcolor": "#E5ECF6",
            "gridcolor": "white",
            "gridwidth": 2,
            "linecolor": "white",
            "showbackground": true,
            "ticks": "",
            "zerolinecolor": "white"
           }
          },
          "shapedefaults": {
           "line": {
            "color": "#2a3f5f"
           }
          },
          "ternary": {
           "aaxis": {
            "gridcolor": "white",
            "linecolor": "white",
            "ticks": ""
           },
           "baxis": {
            "gridcolor": "white",
            "linecolor": "white",
            "ticks": ""
           },
           "bgcolor": "#E5ECF6",
           "caxis": {
            "gridcolor": "white",
            "linecolor": "white",
            "ticks": ""
           }
          },
          "title": {
           "x": 0.05
          },
          "xaxis": {
           "automargin": true,
           "gridcolor": "white",
           "linecolor": "white",
           "ticks": "",
           "title": {
            "standoff": 15
           },
           "zerolinecolor": "white",
           "zerolinewidth": 2
          },
          "yaxis": {
           "automargin": true,
           "gridcolor": "white",
           "linecolor": "white",
           "ticks": "",
           "title": {
            "standoff": 15
           },
           "zerolinecolor": "white",
           "zerolinewidth": 2
          }
         }
        },
        "xaxis": {
         "anchor": "y",
         "domain": [
          0,
          1
         ],
         "title": {
          "text": "index"
         }
        },
        "yaxis": {
         "anchor": "x",
         "domain": [
          0,
          1
         ],
         "title": {
          "text": "value"
         }
        }
       }
      }
     },
     "metadata": {},
     "output_type": "display_data"
    }
   ],
   "source": [
    "px.line(resumen_general.T)"
   ]
  },
  {
   "cell_type": "code",
   "execution_count": 101,
   "metadata": {},
   "outputs": [
    {
     "data": {
      "text/html": [
       "<div>\n",
       "<style scoped>\n",
       "    .dataframe tbody tr th:only-of-type {\n",
       "        vertical-align: middle;\n",
       "    }\n",
       "\n",
       "    .dataframe tbody tr th {\n",
       "        vertical-align: top;\n",
       "    }\n",
       "\n",
       "    .dataframe thead th {\n",
       "        text-align: right;\n",
       "    }\n",
       "</style>\n",
       "<table border=\"1\" class=\"dataframe\">\n",
       "  <thead>\n",
       "    <tr style=\"text-align: right;\">\n",
       "      <th></th>\n",
       "      <th>Anomalia</th>\n",
       "      <th>Negro</th>\n",
       "      <th>Congelado</th>\n",
       "      <th>Hum</th>\n",
       "      <th>CurvaCola</th>\n",
       "    </tr>\n",
       "  </thead>\n",
       "  <tbody>\n",
       "    <tr>\n",
       "      <th>HBOS_general</th>\n",
       "      <td>0.207871</td>\n",
       "      <td>0.27432</td>\n",
       "      <td>0.293006</td>\n",
       "      <td>0.866221</td>\n",
       "      <td>0.11543</td>\n",
       "    </tr>\n",
       "    <tr>\n",
       "      <th>IForest_general</th>\n",
       "      <td>0.275384</td>\n",
       "      <td>0.431151</td>\n",
       "      <td>0.485618</td>\n",
       "      <td>0.83612</td>\n",
       "      <td>0.133984</td>\n",
       "    </tr>\n",
       "    <tr>\n",
       "      <th>KNN_general</th>\n",
       "      <td>0.155397</td>\n",
       "      <td>0.174077</td>\n",
       "      <td>0.163001</td>\n",
       "      <td>0.381271</td>\n",
       "      <td>0.125977</td>\n",
       "    </tr>\n",
       "    <tr>\n",
       "      <th>LODA_general</th>\n",
       "      <td>0.28349</td>\n",
       "      <td>0.462409</td>\n",
       "      <td>0.51269</td>\n",
       "      <td>0.852843</td>\n",
       "      <td>0.126953</td>\n",
       "    </tr>\n",
       "    <tr>\n",
       "      <th>MAD_PyOD_general</th>\n",
       "      <td>0.379053</td>\n",
       "      <td>0.737807</td>\n",
       "      <td>0.911732</td>\n",
       "      <td>1.0</td>\n",
       "      <td>0.087109</td>\n",
       "    </tr>\n",
       "    <tr>\n",
       "      <th>MCD_general</th>\n",
       "      <td>0.148358</td>\n",
       "      <td>0.216114</td>\n",
       "      <td>0.119571</td>\n",
       "      <td>0.274247</td>\n",
       "      <td>0.10332</td>\n",
       "    </tr>\n",
       "    <tr>\n",
       "      <th>IForestASD_general</th>\n",
       "      <td>0.570392</td>\n",
       "      <td>0.882242</td>\n",
       "      <td>0.914834</td>\n",
       "      <td>0.986622</td>\n",
       "      <td>0.329102</td>\n",
       "    </tr>\n",
       "    <tr>\n",
       "      <th>MAD_PySAD_general</th>\n",
       "      <td>0.342363</td>\n",
       "      <td>0.731878</td>\n",
       "      <td>0.904681</td>\n",
       "      <td>0.006689</td>\n",
       "      <td>0.082227</td>\n",
       "    </tr>\n",
       "    <tr>\n",
       "      <th>SAD_general</th>\n",
       "      <td>0.342363</td>\n",
       "      <td>0.731878</td>\n",
       "      <td>0.904681</td>\n",
       "      <td>0.006689</td>\n",
       "      <td>0.082227</td>\n",
       "    </tr>\n",
       "    <tr>\n",
       "      <th>xStream_general</th>\n",
       "      <td>0.534236</td>\n",
       "      <td>0.860415</td>\n",
       "      <td>0.902143</td>\n",
       "      <td>0.919732</td>\n",
       "      <td>0.286133</td>\n",
       "    </tr>\n",
       "    <tr>\n",
       "      <th>HTM_general</th>\n",
       "      <td>0.019351</td>\n",
       "      <td>0.0</td>\n",
       "      <td>0.00962</td>\n",
       "      <td>0.01377</td>\n",
       "      <td>0.027877</td>\n",
       "    </tr>\n",
       "    <tr>\n",
       "      <th>IForest_NvS</th>\n",
       "      <td>0.389292</td>\n",
       "      <td>0.800593</td>\n",
       "      <td>0.909193</td>\n",
       "      <td>0.137124</td>\n",
       "      <td>0.111719</td>\n",
       "    </tr>\n",
       "    <tr>\n",
       "      <th>MAD_NvS</th>\n",
       "      <td>0.358788</td>\n",
       "      <td>0.757747</td>\n",
       "      <td>0.900169</td>\n",
       "      <td>0.076923</td>\n",
       "      <td>0.09082</td>\n",
       "    </tr>\n",
       "    <tr>\n",
       "      <th>HTM_NvS</th>\n",
       "      <td>0.019996</td>\n",
       "      <td>0.0</td>\n",
       "      <td>0.009393</td>\n",
       "      <td>0.01377</td>\n",
       "      <td>0.029206</td>\n",
       "    </tr>\n",
       "    <tr>\n",
       "      <th>MAD_PyOD_PvP</th>\n",
       "      <td>0.355375</td>\n",
       "      <td>0.739693</td>\n",
       "      <td>0.904681</td>\n",
       "      <td>0.247492</td>\n",
       "      <td>0.091797</td>\n",
       "    </tr>\n",
       "    <tr>\n",
       "      <th>MAD_PySAD_PvP</th>\n",
       "      <td>0.366361</td>\n",
       "      <td>0.755591</td>\n",
       "      <td>0.904963</td>\n",
       "      <td>0.374582</td>\n",
       "      <td>0.1</td>\n",
       "    </tr>\n",
       "    <tr>\n",
       "      <th>SAD_PvP</th>\n",
       "      <td>0.365614</td>\n",
       "      <td>0.7564</td>\n",
       "      <td>0.904963</td>\n",
       "      <td>0.351171</td>\n",
       "      <td>0.099414</td>\n",
       "    </tr>\n",
       "    <tr>\n",
       "      <th>HTM_PvP</th>\n",
       "      <td>0.020103</td>\n",
       "      <td>0.0</td>\n",
       "      <td>0.009563</td>\n",
       "      <td>0.014426</td>\n",
       "      <td>0.029245</td>\n",
       "    </tr>\n",
       "    <tr>\n",
       "      <th>HBOS_SH</th>\n",
       "      <td>0.410516</td>\n",
       "      <td>0.84748</td>\n",
       "      <td>0.907783</td>\n",
       "      <td>0.494983</td>\n",
       "      <td>0.114844</td>\n",
       "    </tr>\n",
       "    <tr>\n",
       "      <th>IForest_SH</th>\n",
       "      <td>0.400384</td>\n",
       "      <td>0.820264</td>\n",
       "      <td>0.908347</td>\n",
       "      <td>0.494983</td>\n",
       "      <td>0.102344</td>\n",
       "    </tr>\n",
       "    <tr>\n",
       "      <th>KNN_SH</th>\n",
       "      <td>0.182914</td>\n",
       "      <td>0.270816</td>\n",
       "      <td>0.286802</td>\n",
       "      <td>0.505017</td>\n",
       "      <td>0.104688</td>\n",
       "    </tr>\n",
       "  </tbody>\n",
       "</table>\n",
       "</div>"
      ],
      "text/plain": [
       "                    Anomalia     Negro Congelado       Hum CurvaCola\n",
       "HBOS_general        0.207871   0.27432  0.293006  0.866221   0.11543\n",
       "IForest_general     0.275384  0.431151  0.485618   0.83612  0.133984\n",
       "KNN_general         0.155397  0.174077  0.163001  0.381271  0.125977\n",
       "LODA_general         0.28349  0.462409   0.51269  0.852843  0.126953\n",
       "MAD_PyOD_general    0.379053  0.737807  0.911732       1.0  0.087109\n",
       "MCD_general         0.148358  0.216114  0.119571  0.274247   0.10332\n",
       "IForestASD_general  0.570392  0.882242  0.914834  0.986622  0.329102\n",
       "MAD_PySAD_general   0.342363  0.731878  0.904681  0.006689  0.082227\n",
       "SAD_general         0.342363  0.731878  0.904681  0.006689  0.082227\n",
       "xStream_general     0.534236  0.860415  0.902143  0.919732  0.286133\n",
       "HTM_general         0.019351       0.0   0.00962   0.01377  0.027877\n",
       "IForest_NvS         0.389292  0.800593  0.909193  0.137124  0.111719\n",
       "MAD_NvS             0.358788  0.757747  0.900169  0.076923   0.09082\n",
       "HTM_NvS             0.019996       0.0  0.009393   0.01377  0.029206\n",
       "MAD_PyOD_PvP        0.355375  0.739693  0.904681  0.247492  0.091797\n",
       "MAD_PySAD_PvP       0.366361  0.755591  0.904963  0.374582       0.1\n",
       "SAD_PvP             0.365614    0.7564  0.904963  0.351171  0.099414\n",
       "HTM_PvP             0.020103       0.0  0.009563  0.014426  0.029245\n",
       "HBOS_SH             0.410516   0.84748  0.907783  0.494983  0.114844\n",
       "IForest_SH          0.400384  0.820264  0.908347  0.494983  0.102344\n",
       "KNN_SH              0.182914  0.270816  0.286802  0.505017  0.104688"
      ]
     },
     "execution_count": 101,
     "metadata": {},
     "output_type": "execute_result"
    }
   ],
   "source": [
    "resumen_general_sensibilidades = pd.concat([metodos_sensibilidades.T.add_suffix('_general'),metodos_NvS_sensibilidades.T.add_suffix('_NvS'),\n",
    "            metodos_PvP_sensibilidades.T.add_suffix('_PvP'),metodos_SH_sensibilidades.T.add_suffix('_SH')],axis=1).T\n",
    "\n",
    "resumen_general_sensibilidades"
   ]
  },
  {
   "cell_type": "code",
   "execution_count": 102,
   "metadata": {},
   "outputs": [
    {
     "data": {
      "application/vnd.plotly.v1+json": {
       "config": {
        "plotlyServerURL": "https://plot.ly"
       },
       "data": [
        {
         "hovertemplate": "variable=HBOS_general<br>index=%{x}<br>value=%{y}<extra></extra>",
         "legendgroup": "HBOS_general",
         "line": {
          "color": "#636efa",
          "dash": "solid"
         },
         "marker": {
          "symbol": "circle"
         },
         "mode": "lines",
         "name": "HBOS_general",
         "orientation": "v",
         "showlegend": true,
         "type": "scatter",
         "x": [
          "Anomalia",
          "Negro",
          "Congelado",
          "Hum",
          "CurvaCola"
         ],
         "xaxis": "x",
         "y": [
          0.2078711604095563,
          0.2743195904068984,
          0.29300620417371687,
          0.8662207357859532,
          0.1154296875
         ],
         "yaxis": "y"
        },
        {
         "hovertemplate": "variable=IForest_general<br>index=%{x}<br>value=%{y}<extra></extra>",
         "legendgroup": "IForest_general",
         "line": {
          "color": "#EF553B",
          "dash": "solid"
         },
         "marker": {
          "symbol": "circle"
         },
         "mode": "lines",
         "name": "IForest_general",
         "orientation": "v",
         "showlegend": true,
         "type": "scatter",
         "x": [
          "Anomalia",
          "Negro",
          "Congelado",
          "Hum",
          "CurvaCola"
         ],
         "xaxis": "x",
         "y": [
          0.2753839590443686,
          0.4311506332524926,
          0.4856175972927242,
          0.8361204013377926,
          0.133984375
         ],
         "yaxis": "y"
        },
        {
         "hovertemplate": "variable=KNN_general<br>index=%{x}<br>value=%{y}<extra></extra>",
         "legendgroup": "KNN_general",
         "line": {
          "color": "#00cc96",
          "dash": "solid"
         },
         "marker": {
          "symbol": "circle"
         },
         "mode": "lines",
         "name": "KNN_general",
         "orientation": "v",
         "showlegend": true,
         "type": "scatter",
         "x": [
          "Anomalia",
          "Negro",
          "Congelado",
          "Hum",
          "CurvaCola"
         ],
         "xaxis": "x",
         "y": [
          0.15539675767918087,
          0.17407706817569388,
          0.16300056401579244,
          0.38127090301003347,
          0.1259765625
         ],
         "yaxis": "y"
        },
        {
         "hovertemplate": "variable=LODA_general<br>index=%{x}<br>value=%{y}<extra></extra>",
         "legendgroup": "LODA_general",
         "line": {
          "color": "#ab63fa",
          "dash": "solid"
         },
         "marker": {
          "symbol": "circle"
         },
         "mode": "lines",
         "name": "LODA_general",
         "orientation": "v",
         "showlegend": true,
         "type": "scatter",
         "x": [
          "Anomalia",
          "Negro",
          "Congelado",
          "Hum",
          "CurvaCola"
         ],
         "xaxis": "x",
         "y": [
          0.2834897610921502,
          0.4624090541632983,
          0.5126903553299492,
          0.8528428093645485,
          0.126953125
         ],
         "yaxis": "y"
        },
        {
         "hovertemplate": "variable=MAD_PyOD_general<br>index=%{x}<br>value=%{y}<extra></extra>",
         "legendgroup": "MAD_PyOD_general",
         "line": {
          "color": "#FFA15A",
          "dash": "solid"
         },
         "marker": {
          "symbol": "circle"
         },
         "mode": "lines",
         "name": "MAD_PyOD_general",
         "orientation": "v",
         "showlegend": true,
         "type": "scatter",
         "x": [
          "Anomalia",
          "Negro",
          "Congelado",
          "Hum",
          "CurvaCola"
         ],
         "xaxis": "x",
         "y": [
          0.3790529010238908,
          0.7378065211533279,
          0.9117315284827975,
          1,
          0.087109375
         ],
         "yaxis": "y"
        },
        {
         "hovertemplate": "variable=MCD_general<br>index=%{x}<br>value=%{y}<extra></extra>",
         "legendgroup": "MCD_general",
         "line": {
          "color": "#19d3f3",
          "dash": "solid"
         },
         "marker": {
          "symbol": "circle"
         },
         "mode": "lines",
         "name": "MCD_general",
         "orientation": "v",
         "showlegend": true,
         "type": "scatter",
         "x": [
          "Anomalia",
          "Negro",
          "Congelado",
          "Hum",
          "CurvaCola"
         ],
         "xaxis": "x",
         "y": [
          0.14835750853242322,
          0.21611425491781192,
          0.11957134799774394,
          0.27424749163879597,
          0.1033203125
         ],
         "yaxis": "y"
        },
        {
         "hovertemplate": "variable=IForestASD_general<br>index=%{x}<br>value=%{y}<extra></extra>",
         "legendgroup": "IForestASD_general",
         "line": {
          "color": "#FF6692",
          "dash": "solid"
         },
         "marker": {
          "symbol": "circle"
         },
         "mode": "lines",
         "name": "IForestASD_general",
         "orientation": "v",
         "showlegend": true,
         "type": "scatter",
         "x": [
          "Anomalia",
          "Negro",
          "Congelado",
          "Hum",
          "CurvaCola"
         ],
         "xaxis": "x",
         "y": [
          0.5703924914675768,
          0.8822419832929129,
          0.9148336153412295,
          0.9866220735785953,
          0.3291015625
         ],
         "yaxis": "y"
        },
        {
         "hovertemplate": "variable=MAD_PySAD_general<br>index=%{x}<br>value=%{y}<extra></extra>",
         "legendgroup": "MAD_PySAD_general",
         "line": {
          "color": "#B6E880",
          "dash": "solid"
         },
         "marker": {
          "symbol": "circle"
         },
         "mode": "lines",
         "name": "MAD_PySAD_general",
         "orientation": "v",
         "showlegend": true,
         "type": "scatter",
         "x": [
          "Anomalia",
          "Negro",
          "Congelado",
          "Hum",
          "CurvaCola"
         ],
         "xaxis": "x",
         "y": [
          0.34236348122866894,
          0.7318781999461061,
          0.9046813310772701,
          0.006688963210702341,
          0.0822265625
         ],
         "yaxis": "y"
        },
        {
         "hovertemplate": "variable=SAD_general<br>index=%{x}<br>value=%{y}<extra></extra>",
         "legendgroup": "SAD_general",
         "line": {
          "color": "#FF97FF",
          "dash": "solid"
         },
         "marker": {
          "symbol": "circle"
         },
         "mode": "lines",
         "name": "SAD_general",
         "orientation": "v",
         "showlegend": true,
         "type": "scatter",
         "x": [
          "Anomalia",
          "Negro",
          "Congelado",
          "Hum",
          "CurvaCola"
         ],
         "xaxis": "x",
         "y": [
          0.34236348122866894,
          0.7318781999461061,
          0.9046813310772701,
          0.006688963210702341,
          0.0822265625
         ],
         "yaxis": "y"
        },
        {
         "hovertemplate": "variable=xStream_general<br>index=%{x}<br>value=%{y}<extra></extra>",
         "legendgroup": "xStream_general",
         "line": {
          "color": "#FECB52",
          "dash": "solid"
         },
         "marker": {
          "symbol": "circle"
         },
         "mode": "lines",
         "name": "xStream_general",
         "orientation": "v",
         "showlegend": true,
         "type": "scatter",
         "x": [
          "Anomalia",
          "Negro",
          "Congelado",
          "Hum",
          "CurvaCola"
         ],
         "xaxis": "x",
         "y": [
          0.5342363481228669,
          0.8604149824845055,
          0.9021432600112803,
          0.919732441471572,
          0.2861328125
         ],
         "yaxis": "y"
        },
        {
         "hovertemplate": "variable=HTM_general<br>index=%{x}<br>value=%{y}<extra></extra>",
         "legendgroup": "HTM_general",
         "line": {
          "color": "#636efa",
          "dash": "solid"
         },
         "marker": {
          "symbol": "circle"
         },
         "mode": "lines",
         "name": "HTM_general",
         "orientation": "v",
         "showlegend": true,
         "type": "scatter",
         "x": [
          "Anomalia",
          "Negro",
          "Congelado",
          "Hum",
          "CurvaCola"
         ],
         "xaxis": "x",
         "y": [
          0.019351374570446736,
          0,
          0.00961973743775464,
          0.01377049180327869,
          0.027876607889901085
         ],
         "yaxis": "y"
        },
        {
         "hovertemplate": "variable=IForest_NvS<br>index=%{x}<br>value=%{y}<extra></extra>",
         "legendgroup": "IForest_NvS",
         "line": {
          "color": "#EF553B",
          "dash": "solid"
         },
         "marker": {
          "symbol": "circle"
         },
         "mode": "lines",
         "name": "IForest_NvS",
         "orientation": "v",
         "showlegend": true,
         "type": "scatter",
         "x": [
          "Anomalia",
          "Negro",
          "Congelado",
          "Hum",
          "CurvaCola"
         ],
         "xaxis": "x",
         "y": [
          0.3892918088737201,
          0.8005928321207222,
          0.9091934574168077,
          0.13712374581939799,
          0.11171875
         ],
         "yaxis": "y"
        },
        {
         "hovertemplate": "variable=MAD_NvS<br>index=%{x}<br>value=%{y}<extra></extra>",
         "legendgroup": "MAD_NvS",
         "line": {
          "color": "#00cc96",
          "dash": "solid"
         },
         "marker": {
          "symbol": "circle"
         },
         "mode": "lines",
         "name": "MAD_NvS",
         "orientation": "v",
         "showlegend": true,
         "type": "scatter",
         "x": [
          "Anomalia",
          "Negro",
          "Congelado",
          "Hum",
          "CurvaCola"
         ],
         "xaxis": "x",
         "y": [
          0.35878839590443684,
          0.7577472379412558,
          0.9001692047377327,
          0.07692307692307693,
          0.0908203125
         ],
         "yaxis": "y"
        },
        {
         "hovertemplate": "variable=HTM_NvS<br>index=%{x}<br>value=%{y}<extra></extra>",
         "legendgroup": "HTM_NvS",
         "line": {
          "color": "#ab63fa",
          "dash": "solid"
         },
         "marker": {
          "symbol": "circle"
         },
         "mode": "lines",
         "name": "HTM_NvS",
         "orientation": "v",
         "showlegend": true,
         "type": "scatter",
         "x": [
          "Anomalia",
          "Negro",
          "Congelado",
          "Hum",
          "CurvaCola"
         ],
         "xaxis": "x",
         "y": [
          0.01999570446735395,
          0,
          0.009393390674513355,
          0.01377049180327869,
          0.029205927200218945
         ],
         "yaxis": "y"
        },
        {
         "hovertemplate": "variable=MAD_PyOD_PvP<br>index=%{x}<br>value=%{y}<extra></extra>",
         "legendgroup": "MAD_PyOD_PvP",
         "line": {
          "color": "#FFA15A",
          "dash": "solid"
         },
         "marker": {
          "symbol": "circle"
         },
         "mode": "lines",
         "name": "MAD_PyOD_PvP",
         "orientation": "v",
         "showlegend": true,
         "type": "scatter",
         "x": [
          "Anomalia",
          "Negro",
          "Congelado",
          "Hum",
          "CurvaCola"
         ],
         "xaxis": "x",
         "y": [
          0.3553754266211604,
          0.7396928051738076,
          0.9046813310772701,
          0.24749163879598662,
          0.091796875
         ],
         "yaxis": "y"
        },
        {
         "hovertemplate": "variable=MAD_PySAD_PvP<br>index=%{x}<br>value=%{y}<extra></extra>",
         "legendgroup": "MAD_PySAD_PvP",
         "line": {
          "color": "#19d3f3",
          "dash": "solid"
         },
         "marker": {
          "symbol": "circle"
         },
         "mode": "lines",
         "name": "MAD_PySAD_PvP",
         "orientation": "v",
         "showlegend": true,
         "type": "scatter",
         "x": [
          "Anomalia",
          "Negro",
          "Congelado",
          "Hum",
          "CurvaCola"
         ],
         "xaxis": "x",
         "y": [
          0.36636092150170646,
          0.7555914847749933,
          0.9049633389734912,
          0.3745819397993311,
          0.1
         ],
         "yaxis": "y"
        },
        {
         "hovertemplate": "variable=SAD_PvP<br>index=%{x}<br>value=%{y}<extra></extra>",
         "legendgroup": "SAD_PvP",
         "line": {
          "color": "#FF6692",
          "dash": "solid"
         },
         "marker": {
          "symbol": "circle"
         },
         "mode": "lines",
         "name": "SAD_PvP",
         "orientation": "v",
         "showlegend": true,
         "type": "scatter",
         "x": [
          "Anomalia",
          "Negro",
          "Congelado",
          "Hum",
          "CurvaCola"
         ],
         "xaxis": "x",
         "y": [
          0.3656143344709898,
          0.7563998922123417,
          0.9049633389734912,
          0.3511705685618729,
          0.0994140625
         ],
         "yaxis": "y"
        },
        {
         "hovertemplate": "variable=HTM_PvP<br>index=%{x}<br>value=%{y}<extra></extra>",
         "legendgroup": "HTM_PvP",
         "line": {
          "color": "#B6E880",
          "dash": "solid"
         },
         "marker": {
          "symbol": "circle"
         },
         "mode": "lines",
         "name": "HTM_PvP",
         "orientation": "v",
         "showlegend": true,
         "type": "scatter",
         "x": [
          "Anomalia",
          "Negro",
          "Congelado",
          "Hum",
          "CurvaCola"
         ],
         "xaxis": "x",
         "y": [
          0.020103092783505156,
          0,
          0.009563150746944318,
          0.014426229508196721,
          0.029245024826993
         ],
         "yaxis": "y"
        },
        {
         "hovertemplate": "variable=HBOS_SH<br>index=%{x}<br>value=%{y}<extra></extra>",
         "legendgroup": "HBOS_SH",
         "line": {
          "color": "#FF97FF",
          "dash": "solid"
         },
         "marker": {
          "symbol": "circle"
         },
         "mode": "lines",
         "name": "HBOS_SH",
         "orientation": "v",
         "showlegend": true,
         "type": "scatter",
         "x": [
          "Anomalia",
          "Negro",
          "Congelado",
          "Hum",
          "CurvaCola"
         ],
         "xaxis": "x",
         "y": [
          0.41051621160409557,
          0.8474804634869307,
          0.9077834179357022,
          0.49498327759197325,
          0.11484375
         ],
         "yaxis": "y"
        },
        {
         "hovertemplate": "variable=IForest_SH<br>index=%{x}<br>value=%{y}<extra></extra>",
         "legendgroup": "IForest_SH",
         "line": {
          "color": "#FECB52",
          "dash": "solid"
         },
         "marker": {
          "symbol": "circle"
         },
         "mode": "lines",
         "name": "IForest_SH",
         "orientation": "v",
         "showlegend": true,
         "type": "scatter",
         "x": [
          "Anomalia",
          "Negro",
          "Congelado",
          "Hum",
          "CurvaCola"
         ],
         "xaxis": "x",
         "y": [
          0.4003839590443686,
          0.8202640797628672,
          0.9083474337281444,
          0.49498327759197325,
          0.10234375
         ],
         "yaxis": "y"
        },
        {
         "hovertemplate": "variable=KNN_SH<br>index=%{x}<br>value=%{y}<extra></extra>",
         "legendgroup": "KNN_SH",
         "line": {
          "color": "#636efa",
          "dash": "solid"
         },
         "marker": {
          "symbol": "circle"
         },
         "mode": "lines",
         "name": "KNN_SH",
         "orientation": "v",
         "showlegend": true,
         "type": "scatter",
         "x": [
          "Anomalia",
          "Negro",
          "Congelado",
          "Hum",
          "CurvaCola"
         ],
         "xaxis": "x",
         "y": [
          0.18291382252559726,
          0.27081649151172194,
          0.2868020304568528,
          0.5050167224080268,
          0.1046875
         ],
         "yaxis": "y"
        }
       ],
       "layout": {
        "legend": {
         "title": {
          "text": "variable"
         },
         "tracegroupgap": 0
        },
        "margin": {
         "t": 60
        },
        "template": {
         "data": {
          "bar": [
           {
            "error_x": {
             "color": "#2a3f5f"
            },
            "error_y": {
             "color": "#2a3f5f"
            },
            "marker": {
             "line": {
              "color": "#E5ECF6",
              "width": 0.5
             },
             "pattern": {
              "fillmode": "overlay",
              "size": 10,
              "solidity": 0.2
             }
            },
            "type": "bar"
           }
          ],
          "barpolar": [
           {
            "marker": {
             "line": {
              "color": "#E5ECF6",
              "width": 0.5
             },
             "pattern": {
              "fillmode": "overlay",
              "size": 10,
              "solidity": 0.2
             }
            },
            "type": "barpolar"
           }
          ],
          "carpet": [
           {
            "aaxis": {
             "endlinecolor": "#2a3f5f",
             "gridcolor": "white",
             "linecolor": "white",
             "minorgridcolor": "white",
             "startlinecolor": "#2a3f5f"
            },
            "baxis": {
             "endlinecolor": "#2a3f5f",
             "gridcolor": "white",
             "linecolor": "white",
             "minorgridcolor": "white",
             "startlinecolor": "#2a3f5f"
            },
            "type": "carpet"
           }
          ],
          "choropleth": [
           {
            "colorbar": {
             "outlinewidth": 0,
             "ticks": ""
            },
            "type": "choropleth"
           }
          ],
          "contour": [
           {
            "colorbar": {
             "outlinewidth": 0,
             "ticks": ""
            },
            "colorscale": [
             [
              0,
              "#0d0887"
             ],
             [
              0.1111111111111111,
              "#46039f"
             ],
             [
              0.2222222222222222,
              "#7201a8"
             ],
             [
              0.3333333333333333,
              "#9c179e"
             ],
             [
              0.4444444444444444,
              "#bd3786"
             ],
             [
              0.5555555555555556,
              "#d8576b"
             ],
             [
              0.6666666666666666,
              "#ed7953"
             ],
             [
              0.7777777777777778,
              "#fb9f3a"
             ],
             [
              0.8888888888888888,
              "#fdca26"
             ],
             [
              1,
              "#f0f921"
             ]
            ],
            "type": "contour"
           }
          ],
          "contourcarpet": [
           {
            "colorbar": {
             "outlinewidth": 0,
             "ticks": ""
            },
            "type": "contourcarpet"
           }
          ],
          "heatmap": [
           {
            "colorbar": {
             "outlinewidth": 0,
             "ticks": ""
            },
            "colorscale": [
             [
              0,
              "#0d0887"
             ],
             [
              0.1111111111111111,
              "#46039f"
             ],
             [
              0.2222222222222222,
              "#7201a8"
             ],
             [
              0.3333333333333333,
              "#9c179e"
             ],
             [
              0.4444444444444444,
              "#bd3786"
             ],
             [
              0.5555555555555556,
              "#d8576b"
             ],
             [
              0.6666666666666666,
              "#ed7953"
             ],
             [
              0.7777777777777778,
              "#fb9f3a"
             ],
             [
              0.8888888888888888,
              "#fdca26"
             ],
             [
              1,
              "#f0f921"
             ]
            ],
            "type": "heatmap"
           }
          ],
          "heatmapgl": [
           {
            "colorbar": {
             "outlinewidth": 0,
             "ticks": ""
            },
            "colorscale": [
             [
              0,
              "#0d0887"
             ],
             [
              0.1111111111111111,
              "#46039f"
             ],
             [
              0.2222222222222222,
              "#7201a8"
             ],
             [
              0.3333333333333333,
              "#9c179e"
             ],
             [
              0.4444444444444444,
              "#bd3786"
             ],
             [
              0.5555555555555556,
              "#d8576b"
             ],
             [
              0.6666666666666666,
              "#ed7953"
             ],
             [
              0.7777777777777778,
              "#fb9f3a"
             ],
             [
              0.8888888888888888,
              "#fdca26"
             ],
             [
              1,
              "#f0f921"
             ]
            ],
            "type": "heatmapgl"
           }
          ],
          "histogram": [
           {
            "marker": {
             "pattern": {
              "fillmode": "overlay",
              "size": 10,
              "solidity": 0.2
             }
            },
            "type": "histogram"
           }
          ],
          "histogram2d": [
           {
            "colorbar": {
             "outlinewidth": 0,
             "ticks": ""
            },
            "colorscale": [
             [
              0,
              "#0d0887"
             ],
             [
              0.1111111111111111,
              "#46039f"
             ],
             [
              0.2222222222222222,
              "#7201a8"
             ],
             [
              0.3333333333333333,
              "#9c179e"
             ],
             [
              0.4444444444444444,
              "#bd3786"
             ],
             [
              0.5555555555555556,
              "#d8576b"
             ],
             [
              0.6666666666666666,
              "#ed7953"
             ],
             [
              0.7777777777777778,
              "#fb9f3a"
             ],
             [
              0.8888888888888888,
              "#fdca26"
             ],
             [
              1,
              "#f0f921"
             ]
            ],
            "type": "histogram2d"
           }
          ],
          "histogram2dcontour": [
           {
            "colorbar": {
             "outlinewidth": 0,
             "ticks": ""
            },
            "colorscale": [
             [
              0,
              "#0d0887"
             ],
             [
              0.1111111111111111,
              "#46039f"
             ],
             [
              0.2222222222222222,
              "#7201a8"
             ],
             [
              0.3333333333333333,
              "#9c179e"
             ],
             [
              0.4444444444444444,
              "#bd3786"
             ],
             [
              0.5555555555555556,
              "#d8576b"
             ],
             [
              0.6666666666666666,
              "#ed7953"
             ],
             [
              0.7777777777777778,
              "#fb9f3a"
             ],
             [
              0.8888888888888888,
              "#fdca26"
             ],
             [
              1,
              "#f0f921"
             ]
            ],
            "type": "histogram2dcontour"
           }
          ],
          "mesh3d": [
           {
            "colorbar": {
             "outlinewidth": 0,
             "ticks": ""
            },
            "type": "mesh3d"
           }
          ],
          "parcoords": [
           {
            "line": {
             "colorbar": {
              "outlinewidth": 0,
              "ticks": ""
             }
            },
            "type": "parcoords"
           }
          ],
          "pie": [
           {
            "automargin": true,
            "type": "pie"
           }
          ],
          "scatter": [
           {
            "fillpattern": {
             "fillmode": "overlay",
             "size": 10,
             "solidity": 0.2
            },
            "type": "scatter"
           }
          ],
          "scatter3d": [
           {
            "line": {
             "colorbar": {
              "outlinewidth": 0,
              "ticks": ""
             }
            },
            "marker": {
             "colorbar": {
              "outlinewidth": 0,
              "ticks": ""
             }
            },
            "type": "scatter3d"
           }
          ],
          "scattercarpet": [
           {
            "marker": {
             "colorbar": {
              "outlinewidth": 0,
              "ticks": ""
             }
            },
            "type": "scattercarpet"
           }
          ],
          "scattergeo": [
           {
            "marker": {
             "colorbar": {
              "outlinewidth": 0,
              "ticks": ""
             }
            },
            "type": "scattergeo"
           }
          ],
          "scattergl": [
           {
            "marker": {
             "colorbar": {
              "outlinewidth": 0,
              "ticks": ""
             }
            },
            "type": "scattergl"
           }
          ],
          "scattermapbox": [
           {
            "marker": {
             "colorbar": {
              "outlinewidth": 0,
              "ticks": ""
             }
            },
            "type": "scattermapbox"
           }
          ],
          "scatterpolar": [
           {
            "marker": {
             "colorbar": {
              "outlinewidth": 0,
              "ticks": ""
             }
            },
            "type": "scatterpolar"
           }
          ],
          "scatterpolargl": [
           {
            "marker": {
             "colorbar": {
              "outlinewidth": 0,
              "ticks": ""
             }
            },
            "type": "scatterpolargl"
           }
          ],
          "scatterternary": [
           {
            "marker": {
             "colorbar": {
              "outlinewidth": 0,
              "ticks": ""
             }
            },
            "type": "scatterternary"
           }
          ],
          "surface": [
           {
            "colorbar": {
             "outlinewidth": 0,
             "ticks": ""
            },
            "colorscale": [
             [
              0,
              "#0d0887"
             ],
             [
              0.1111111111111111,
              "#46039f"
             ],
             [
              0.2222222222222222,
              "#7201a8"
             ],
             [
              0.3333333333333333,
              "#9c179e"
             ],
             [
              0.4444444444444444,
              "#bd3786"
             ],
             [
              0.5555555555555556,
              "#d8576b"
             ],
             [
              0.6666666666666666,
              "#ed7953"
             ],
             [
              0.7777777777777778,
              "#fb9f3a"
             ],
             [
              0.8888888888888888,
              "#fdca26"
             ],
             [
              1,
              "#f0f921"
             ]
            ],
            "type": "surface"
           }
          ],
          "table": [
           {
            "cells": {
             "fill": {
              "color": "#EBF0F8"
             },
             "line": {
              "color": "white"
             }
            },
            "header": {
             "fill": {
              "color": "#C8D4E3"
             },
             "line": {
              "color": "white"
             }
            },
            "type": "table"
           }
          ]
         },
         "layout": {
          "annotationdefaults": {
           "arrowcolor": "#2a3f5f",
           "arrowhead": 0,
           "arrowwidth": 1
          },
          "autotypenumbers": "strict",
          "coloraxis": {
           "colorbar": {
            "outlinewidth": 0,
            "ticks": ""
           }
          },
          "colorscale": {
           "diverging": [
            [
             0,
             "#8e0152"
            ],
            [
             0.1,
             "#c51b7d"
            ],
            [
             0.2,
             "#de77ae"
            ],
            [
             0.3,
             "#f1b6da"
            ],
            [
             0.4,
             "#fde0ef"
            ],
            [
             0.5,
             "#f7f7f7"
            ],
            [
             0.6,
             "#e6f5d0"
            ],
            [
             0.7,
             "#b8e186"
            ],
            [
             0.8,
             "#7fbc41"
            ],
            [
             0.9,
             "#4d9221"
            ],
            [
             1,
             "#276419"
            ]
           ],
           "sequential": [
            [
             0,
             "#0d0887"
            ],
            [
             0.1111111111111111,
             "#46039f"
            ],
            [
             0.2222222222222222,
             "#7201a8"
            ],
            [
             0.3333333333333333,
             "#9c179e"
            ],
            [
             0.4444444444444444,
             "#bd3786"
            ],
            [
             0.5555555555555556,
             "#d8576b"
            ],
            [
             0.6666666666666666,
             "#ed7953"
            ],
            [
             0.7777777777777778,
             "#fb9f3a"
            ],
            [
             0.8888888888888888,
             "#fdca26"
            ],
            [
             1,
             "#f0f921"
            ]
           ],
           "sequentialminus": [
            [
             0,
             "#0d0887"
            ],
            [
             0.1111111111111111,
             "#46039f"
            ],
            [
             0.2222222222222222,
             "#7201a8"
            ],
            [
             0.3333333333333333,
             "#9c179e"
            ],
            [
             0.4444444444444444,
             "#bd3786"
            ],
            [
             0.5555555555555556,
             "#d8576b"
            ],
            [
             0.6666666666666666,
             "#ed7953"
            ],
            [
             0.7777777777777778,
             "#fb9f3a"
            ],
            [
             0.8888888888888888,
             "#fdca26"
            ],
            [
             1,
             "#f0f921"
            ]
           ]
          },
          "colorway": [
           "#636efa",
           "#EF553B",
           "#00cc96",
           "#ab63fa",
           "#FFA15A",
           "#19d3f3",
           "#FF6692",
           "#B6E880",
           "#FF97FF",
           "#FECB52"
          ],
          "font": {
           "color": "#2a3f5f"
          },
          "geo": {
           "bgcolor": "white",
           "lakecolor": "white",
           "landcolor": "#E5ECF6",
           "showlakes": true,
           "showland": true,
           "subunitcolor": "white"
          },
          "hoverlabel": {
           "align": "left"
          },
          "hovermode": "closest",
          "mapbox": {
           "style": "light"
          },
          "paper_bgcolor": "white",
          "plot_bgcolor": "#E5ECF6",
          "polar": {
           "angularaxis": {
            "gridcolor": "white",
            "linecolor": "white",
            "ticks": ""
           },
           "bgcolor": "#E5ECF6",
           "radialaxis": {
            "gridcolor": "white",
            "linecolor": "white",
            "ticks": ""
           }
          },
          "scene": {
           "xaxis": {
            "backgroundcolor": "#E5ECF6",
            "gridcolor": "white",
            "gridwidth": 2,
            "linecolor": "white",
            "showbackground": true,
            "ticks": "",
            "zerolinecolor": "white"
           },
           "yaxis": {
            "backgroundcolor": "#E5ECF6",
            "gridcolor": "white",
            "gridwidth": 2,
            "linecolor": "white",
            "showbackground": true,
            "ticks": "",
            "zerolinecolor": "white"
           },
           "zaxis": {
            "backgroundcolor": "#E5ECF6",
            "gridcolor": "white",
            "gridwidth": 2,
            "linecolor": "white",
            "showbackground": true,
            "ticks": "",
            "zerolinecolor": "white"
           }
          },
          "shapedefaults": {
           "line": {
            "color": "#2a3f5f"
           }
          },
          "ternary": {
           "aaxis": {
            "gridcolor": "white",
            "linecolor": "white",
            "ticks": ""
           },
           "baxis": {
            "gridcolor": "white",
            "linecolor": "white",
            "ticks": ""
           },
           "bgcolor": "#E5ECF6",
           "caxis": {
            "gridcolor": "white",
            "linecolor": "white",
            "ticks": ""
           }
          },
          "title": {
           "x": 0.05
          },
          "xaxis": {
           "automargin": true,
           "gridcolor": "white",
           "linecolor": "white",
           "ticks": "",
           "title": {
            "standoff": 15
           },
           "zerolinecolor": "white",
           "zerolinewidth": 2
          },
          "yaxis": {
           "automargin": true,
           "gridcolor": "white",
           "linecolor": "white",
           "ticks": "",
           "title": {
            "standoff": 15
           },
           "zerolinecolor": "white",
           "zerolinewidth": 2
          }
         }
        },
        "xaxis": {
         "anchor": "y",
         "domain": [
          0,
          1
         ],
         "title": {
          "text": "index"
         }
        },
        "yaxis": {
         "anchor": "x",
         "domain": [
          0,
          1
         ],
         "title": {
          "text": "value"
         }
        }
       }
      }
     },
     "metadata": {},
     "output_type": "display_data"
    }
   ],
   "source": [
    "px.line(resumen_general_sensibilidades.T)"
   ]
  },
  {
   "cell_type": "markdown",
   "metadata": {},
   "source": [
    "# Resumen Anomalías Thresholds"
   ]
  },
  {
   "cell_type": "code",
   "execution_count": 103,
   "metadata": {},
   "outputs": [],
   "source": [
    "anomalias = ['Anomalia','Negro','Congelado','Hum']\n",
    "metricas = ['roc_auc','accuracy','precision','kappa','sensibilidad','especificidad']"
   ]
  },
  {
   "cell_type": "markdown",
   "metadata": {},
   "source": [
    "## Métodos"
   ]
  },
  {
   "cell_type": "code",
   "execution_count": 104,
   "metadata": {},
   "outputs": [
    {
     "data": {
      "text/html": [
       "<div>\n",
       "<style scoped>\n",
       "    .dataframe tbody tr th:only-of-type {\n",
       "        vertical-align: middle;\n",
       "    }\n",
       "\n",
       "    .dataframe tbody tr th {\n",
       "        vertical-align: top;\n",
       "    }\n",
       "\n",
       "    .dataframe thead th {\n",
       "        text-align: right;\n",
       "    }\n",
       "</style>\n",
       "<table border=\"1\" class=\"dataframe\">\n",
       "  <thead>\n",
       "    <tr style=\"text-align: right;\">\n",
       "      <th></th>\n",
       "      <th>Negro</th>\n",
       "      <th>Congelado</th>\n",
       "      <th>Hum</th>\n",
       "      <th>Anomalia</th>\n",
       "      <th>HBOS</th>\n",
       "      <th>IForest</th>\n",
       "      <th>KNN</th>\n",
       "      <th>LODA</th>\n",
       "      <th>MAD_PyOD</th>\n",
       "      <th>MCD</th>\n",
       "      <th>IForestASD</th>\n",
       "      <th>MAD_PySAD</th>\n",
       "      <th>SAD</th>\n",
       "      <th>xStream</th>\n",
       "    </tr>\n",
       "    <tr>\n",
       "      <th>fecha</th>\n",
       "      <th></th>\n",
       "      <th></th>\n",
       "      <th></th>\n",
       "      <th></th>\n",
       "      <th></th>\n",
       "      <th></th>\n",
       "      <th></th>\n",
       "      <th></th>\n",
       "      <th></th>\n",
       "      <th></th>\n",
       "      <th></th>\n",
       "      <th></th>\n",
       "      <th></th>\n",
       "      <th></th>\n",
       "    </tr>\n",
       "  </thead>\n",
       "  <tbody>\n",
       "    <tr>\n",
       "      <th>2021-09-25 06:51:00</th>\n",
       "      <td>0</td>\n",
       "      <td>0</td>\n",
       "      <td>0</td>\n",
       "      <td>0</td>\n",
       "      <td>0</td>\n",
       "      <td>0</td>\n",
       "      <td>0</td>\n",
       "      <td>0</td>\n",
       "      <td>0</td>\n",
       "      <td>0</td>\n",
       "      <td>0</td>\n",
       "      <td>0</td>\n",
       "      <td>0</td>\n",
       "      <td>0</td>\n",
       "    </tr>\n",
       "    <tr>\n",
       "      <th>2021-06-20 02:11:00</th>\n",
       "      <td>0</td>\n",
       "      <td>0</td>\n",
       "      <td>0</td>\n",
       "      <td>0</td>\n",
       "      <td>0</td>\n",
       "      <td>0</td>\n",
       "      <td>0</td>\n",
       "      <td>0</td>\n",
       "      <td>0</td>\n",
       "      <td>0</td>\n",
       "      <td>0</td>\n",
       "      <td>0</td>\n",
       "      <td>0</td>\n",
       "      <td>0</td>\n",
       "    </tr>\n",
       "    <tr>\n",
       "      <th>2021-04-17 02:33:00</th>\n",
       "      <td>0</td>\n",
       "      <td>0</td>\n",
       "      <td>0</td>\n",
       "      <td>0</td>\n",
       "      <td>0</td>\n",
       "      <td>0</td>\n",
       "      <td>1</td>\n",
       "      <td>1</td>\n",
       "      <td>0</td>\n",
       "      <td>0</td>\n",
       "      <td>1</td>\n",
       "      <td>0</td>\n",
       "      <td>0</td>\n",
       "      <td>1</td>\n",
       "    </tr>\n",
       "    <tr>\n",
       "      <th>2021-06-25 20:59:00</th>\n",
       "      <td>0</td>\n",
       "      <td>0</td>\n",
       "      <td>0</td>\n",
       "      <td>0</td>\n",
       "      <td>0</td>\n",
       "      <td>0</td>\n",
       "      <td>0</td>\n",
       "      <td>0</td>\n",
       "      <td>0</td>\n",
       "      <td>0</td>\n",
       "      <td>0</td>\n",
       "      <td>0</td>\n",
       "      <td>0</td>\n",
       "      <td>0</td>\n",
       "    </tr>\n",
       "    <tr>\n",
       "      <th>2021-03-17 22:22:00</th>\n",
       "      <td>0</td>\n",
       "      <td>0</td>\n",
       "      <td>0</td>\n",
       "      <td>0</td>\n",
       "      <td>0</td>\n",
       "      <td>0</td>\n",
       "      <td>0</td>\n",
       "      <td>0</td>\n",
       "      <td>0</td>\n",
       "      <td>0</td>\n",
       "      <td>0</td>\n",
       "      <td>0</td>\n",
       "      <td>0</td>\n",
       "      <td>0</td>\n",
       "    </tr>\n",
       "  </tbody>\n",
       "</table>\n",
       "</div>"
      ],
      "text/plain": [
       "                     Negro  Congelado  Hum  Anomalia  HBOS  IForest  KNN  \\\n",
       "fecha                                                                      \n",
       "2021-09-25 06:51:00      0          0    0         0     0        0    0   \n",
       "2021-06-20 02:11:00      0          0    0         0     0        0    0   \n",
       "2021-04-17 02:33:00      0          0    0         0     0        0    1   \n",
       "2021-06-25 20:59:00      0          0    0         0     0        0    0   \n",
       "2021-03-17 22:22:00      0          0    0         0     0        0    0   \n",
       "\n",
       "                     LODA  MAD_PyOD  MCD  IForestASD  MAD_PySAD  SAD  xStream  \n",
       "fecha                                                                          \n",
       "2021-09-25 06:51:00     0         0    0           0          0    0        0  \n",
       "2021-06-20 02:11:00     0         0    0           0          0    0        0  \n",
       "2021-04-17 02:33:00     1         0    0           1          0    0        1  \n",
       "2021-06-25 20:59:00     0         0    0           0          0    0        0  \n",
       "2021-03-17 22:22:00     0         0    0           0          0    0        0  "
      ]
     },
     "execution_count": 104,
     "metadata": {},
     "output_type": "execute_result"
    }
   ],
   "source": [
    "metodos = pd.read_csv('Metodos_TipoAnomalia/Metodos_Thresholds/PyOD/Resultados/HBOS_completo.csv',index_col='fecha')\n",
    "metodos = metodos.drop('Y_pred', axis=1)\n",
    "\n",
    "metodos['HBOS'] = pd.read_csv('Metodos_TipoAnomalia/Metodos_Thresholds/PyOD/Resultados/HBOS_completo.csv',usecols=['fecha','Y_pred'],index_col='fecha')\n",
    "metodos['IForest'] = pd.read_csv('Metodos_TipoAnomalia/Metodos_Thresholds/PyOD/Resultados/IForest_completo.csv',usecols=['fecha','Y_pred'],index_col='fecha')\n",
    "metodos['KNN'] = pd.read_csv('Metodos_TipoAnomalia/Metodos_Thresholds/PyOD/Resultados/KNN_completo.csv',usecols=['fecha','Y_pred'],index_col='fecha')\n",
    "metodos['LODA'] = pd.read_csv('Metodos_TipoAnomalia/Metodos_Thresholds/PyOD/Resultados/LODA_completo.csv',usecols=['fecha','Y_pred'],index_col='fecha')\n",
    "metodos['MAD_PyOD'] = pd.read_csv('Metodos_TipoAnomalia/Metodos_Thresholds/PyOD/Resultados/MAD_completo.csv',usecols=['fecha','Y_pred'],index_col='fecha')\n",
    "metodos['MCD'] = pd.read_csv('Metodos_TipoAnomalia/Metodos_Thresholds/PyOD/Resultados/MCD_completo.csv',usecols=['fecha','Y_pred'],index_col='fecha')\n",
    "\n",
    "metodos['IForestASD'] = pd.read_csv('Metodos_TipoAnomalia/Metodos_Thresholds/PySAD/Resultados/IForestASD_completo.csv',usecols=['fecha','Y_pred'],index_col='fecha')\n",
    "metodos['MAD_PySAD'] = pd.read_csv('Metodos_TipoAnomalia/Metodos_Thresholds/PySAD/Resultados/MAD_completo.csv',usecols=['fecha','Y_pred'],index_col='fecha')\n",
    "metodos['SAD'] = pd.read_csv('Metodos_TipoAnomalia/Metodos_Thresholds/PySAD/Resultados/SAD_completo.csv',usecols=['fecha','Y_pred'],index_col='fecha')\n",
    "metodos['xStream'] = pd.read_csv('Metodos_TipoAnomalia/Metodos_Thresholds/PySAD/Resultados/xStream_completo.csv',usecols=['fecha','Y_pred'],index_col='fecha')\n",
    "\n",
    "metodos_htm = pd.read_csv('Metodos_TipoAnomalia/Metodos_Thresholds/HTMs/HTM_Uni/HTM_completo.csv',index_col='fecha')\n",
    "metodos_htm['HTM'] = metodos_htm['Y_pred']\n",
    "metodos_htm = metodos_htm.drop('Y_pred',axis=1)\n",
    "\n",
    "metodos.head()"
   ]
  },
  {
   "cell_type": "markdown",
   "metadata": {},
   "source": []
  },
  {
   "cell_type": "markdown",
   "metadata": {},
   "source": [
    "### Métricas generales:"
   ]
  },
  {
   "cell_type": "code",
   "execution_count": 105,
   "metadata": {},
   "outputs": [
    {
     "data": {
      "text/html": [
       "<div>\n",
       "<style scoped>\n",
       "    .dataframe tbody tr th:only-of-type {\n",
       "        vertical-align: middle;\n",
       "    }\n",
       "\n",
       "    .dataframe tbody tr th {\n",
       "        vertical-align: top;\n",
       "    }\n",
       "\n",
       "    .dataframe thead th {\n",
       "        text-align: right;\n",
       "    }\n",
       "</style>\n",
       "<table border=\"1\" class=\"dataframe\">\n",
       "  <thead>\n",
       "    <tr style=\"text-align: right;\">\n",
       "      <th></th>\n",
       "      <th>Negro</th>\n",
       "      <th>Congelado</th>\n",
       "      <th>Hum</th>\n",
       "      <th>Anomalia</th>\n",
       "      <th>HBOS</th>\n",
       "      <th>IForest</th>\n",
       "      <th>KNN</th>\n",
       "      <th>LODA</th>\n",
       "      <th>MAD_PyOD</th>\n",
       "      <th>MCD</th>\n",
       "      <th>IForestASD</th>\n",
       "      <th>MAD_PySAD</th>\n",
       "      <th>SAD</th>\n",
       "      <th>xStream</th>\n",
       "    </tr>\n",
       "    <tr>\n",
       "      <th>fecha</th>\n",
       "      <th></th>\n",
       "      <th></th>\n",
       "      <th></th>\n",
       "      <th></th>\n",
       "      <th></th>\n",
       "      <th></th>\n",
       "      <th></th>\n",
       "      <th></th>\n",
       "      <th></th>\n",
       "      <th></th>\n",
       "      <th></th>\n",
       "      <th></th>\n",
       "      <th></th>\n",
       "      <th></th>\n",
       "    </tr>\n",
       "  </thead>\n",
       "  <tbody>\n",
       "    <tr>\n",
       "      <th>2021-09-25 06:51:00</th>\n",
       "      <td>0</td>\n",
       "      <td>0</td>\n",
       "      <td>0</td>\n",
       "      <td>0</td>\n",
       "      <td>0</td>\n",
       "      <td>0</td>\n",
       "      <td>0</td>\n",
       "      <td>0</td>\n",
       "      <td>0</td>\n",
       "      <td>0</td>\n",
       "      <td>0</td>\n",
       "      <td>0</td>\n",
       "      <td>0</td>\n",
       "      <td>0</td>\n",
       "    </tr>\n",
       "    <tr>\n",
       "      <th>2021-06-20 02:11:00</th>\n",
       "      <td>0</td>\n",
       "      <td>0</td>\n",
       "      <td>0</td>\n",
       "      <td>0</td>\n",
       "      <td>0</td>\n",
       "      <td>0</td>\n",
       "      <td>0</td>\n",
       "      <td>0</td>\n",
       "      <td>0</td>\n",
       "      <td>0</td>\n",
       "      <td>0</td>\n",
       "      <td>0</td>\n",
       "      <td>0</td>\n",
       "      <td>0</td>\n",
       "    </tr>\n",
       "    <tr>\n",
       "      <th>2021-04-17 02:33:00</th>\n",
       "      <td>0</td>\n",
       "      <td>0</td>\n",
       "      <td>0</td>\n",
       "      <td>0</td>\n",
       "      <td>0</td>\n",
       "      <td>0</td>\n",
       "      <td>1</td>\n",
       "      <td>1</td>\n",
       "      <td>0</td>\n",
       "      <td>0</td>\n",
       "      <td>1</td>\n",
       "      <td>0</td>\n",
       "      <td>0</td>\n",
       "      <td>1</td>\n",
       "    </tr>\n",
       "    <tr>\n",
       "      <th>2021-06-25 20:59:00</th>\n",
       "      <td>0</td>\n",
       "      <td>0</td>\n",
       "      <td>0</td>\n",
       "      <td>0</td>\n",
       "      <td>0</td>\n",
       "      <td>0</td>\n",
       "      <td>0</td>\n",
       "      <td>0</td>\n",
       "      <td>0</td>\n",
       "      <td>0</td>\n",
       "      <td>0</td>\n",
       "      <td>0</td>\n",
       "      <td>0</td>\n",
       "      <td>0</td>\n",
       "    </tr>\n",
       "    <tr>\n",
       "      <th>2021-03-17 22:22:00</th>\n",
       "      <td>0</td>\n",
       "      <td>0</td>\n",
       "      <td>0</td>\n",
       "      <td>0</td>\n",
       "      <td>0</td>\n",
       "      <td>0</td>\n",
       "      <td>0</td>\n",
       "      <td>0</td>\n",
       "      <td>0</td>\n",
       "      <td>0</td>\n",
       "      <td>0</td>\n",
       "      <td>0</td>\n",
       "      <td>0</td>\n",
       "      <td>0</td>\n",
       "    </tr>\n",
       "    <tr>\n",
       "      <th>...</th>\n",
       "      <td>...</td>\n",
       "      <td>...</td>\n",
       "      <td>...</td>\n",
       "      <td>...</td>\n",
       "      <td>...</td>\n",
       "      <td>...</td>\n",
       "      <td>...</td>\n",
       "      <td>...</td>\n",
       "      <td>...</td>\n",
       "      <td>...</td>\n",
       "      <td>...</td>\n",
       "      <td>...</td>\n",
       "      <td>...</td>\n",
       "      <td>...</td>\n",
       "    </tr>\n",
       "    <tr>\n",
       "      <th>2021-04-11 16:31:00</th>\n",
       "      <td>0</td>\n",
       "      <td>0</td>\n",
       "      <td>0</td>\n",
       "      <td>0</td>\n",
       "      <td>0</td>\n",
       "      <td>0</td>\n",
       "      <td>0</td>\n",
       "      <td>0</td>\n",
       "      <td>0</td>\n",
       "      <td>0</td>\n",
       "      <td>1</td>\n",
       "      <td>0</td>\n",
       "      <td>0</td>\n",
       "      <td>1</td>\n",
       "    </tr>\n",
       "    <tr>\n",
       "      <th>2021-04-16 17:15:00</th>\n",
       "      <td>0</td>\n",
       "      <td>0</td>\n",
       "      <td>0</td>\n",
       "      <td>0</td>\n",
       "      <td>0</td>\n",
       "      <td>0</td>\n",
       "      <td>0</td>\n",
       "      <td>0</td>\n",
       "      <td>0</td>\n",
       "      <td>0</td>\n",
       "      <td>0</td>\n",
       "      <td>0</td>\n",
       "      <td>0</td>\n",
       "      <td>0</td>\n",
       "    </tr>\n",
       "    <tr>\n",
       "      <th>2021-10-03 02:28:00</th>\n",
       "      <td>0</td>\n",
       "      <td>0</td>\n",
       "      <td>0</td>\n",
       "      <td>0</td>\n",
       "      <td>0</td>\n",
       "      <td>0</td>\n",
       "      <td>1</td>\n",
       "      <td>0</td>\n",
       "      <td>0</td>\n",
       "      <td>1</td>\n",
       "      <td>1</td>\n",
       "      <td>0</td>\n",
       "      <td>0</td>\n",
       "      <td>1</td>\n",
       "    </tr>\n",
       "    <tr>\n",
       "      <th>2021-07-15 23:43:00</th>\n",
       "      <td>0</td>\n",
       "      <td>0</td>\n",
       "      <td>0</td>\n",
       "      <td>0</td>\n",
       "      <td>0</td>\n",
       "      <td>0</td>\n",
       "      <td>0</td>\n",
       "      <td>0</td>\n",
       "      <td>0</td>\n",
       "      <td>0</td>\n",
       "      <td>0</td>\n",
       "      <td>0</td>\n",
       "      <td>0</td>\n",
       "      <td>0</td>\n",
       "    </tr>\n",
       "    <tr>\n",
       "      <th>2021-03-17 03:36:00</th>\n",
       "      <td>0</td>\n",
       "      <td>0</td>\n",
       "      <td>0</td>\n",
       "      <td>0</td>\n",
       "      <td>0</td>\n",
       "      <td>0</td>\n",
       "      <td>0</td>\n",
       "      <td>0</td>\n",
       "      <td>0</td>\n",
       "      <td>0</td>\n",
       "      <td>0</td>\n",
       "      <td>0</td>\n",
       "      <td>0</td>\n",
       "      <td>0</td>\n",
       "    </tr>\n",
       "  </tbody>\n",
       "</table>\n",
       "<p>50695 rows × 14 columns</p>\n",
       "</div>"
      ],
      "text/plain": [
       "                     Negro  Congelado  Hum  Anomalia  HBOS  IForest  KNN  \\\n",
       "fecha                                                                      \n",
       "2021-09-25 06:51:00      0          0    0         0     0        0    0   \n",
       "2021-06-20 02:11:00      0          0    0         0     0        0    0   \n",
       "2021-04-17 02:33:00      0          0    0         0     0        0    1   \n",
       "2021-06-25 20:59:00      0          0    0         0     0        0    0   \n",
       "2021-03-17 22:22:00      0          0    0         0     0        0    0   \n",
       "...                    ...        ...  ...       ...   ...      ...  ...   \n",
       "2021-04-11 16:31:00      0          0    0         0     0        0    0   \n",
       "2021-04-16 17:15:00      0          0    0         0     0        0    0   \n",
       "2021-10-03 02:28:00      0          0    0         0     0        0    1   \n",
       "2021-07-15 23:43:00      0          0    0         0     0        0    0   \n",
       "2021-03-17 03:36:00      0          0    0         0     0        0    0   \n",
       "\n",
       "                     LODA  MAD_PyOD  MCD  IForestASD  MAD_PySAD  SAD  xStream  \n",
       "fecha                                                                          \n",
       "2021-09-25 06:51:00     0         0    0           0          0    0        0  \n",
       "2021-06-20 02:11:00     0         0    0           0          0    0        0  \n",
       "2021-04-17 02:33:00     1         0    0           1          0    0        1  \n",
       "2021-06-25 20:59:00     0         0    0           0          0    0        0  \n",
       "2021-03-17 22:22:00     0         0    0           0          0    0        0  \n",
       "...                   ...       ...  ...         ...        ...  ...      ...  \n",
       "2021-04-11 16:31:00     0         0    0           1          0    0        1  \n",
       "2021-04-16 17:15:00     0         0    0           0          0    0        0  \n",
       "2021-10-03 02:28:00     0         0    1           1          0    0        1  \n",
       "2021-07-15 23:43:00     0         0    0           0          0    0        0  \n",
       "2021-03-17 03:36:00     0         0    0           0          0    0        0  \n",
       "\n",
       "[50695 rows x 14 columns]"
      ]
     },
     "execution_count": 105,
     "metadata": {},
     "output_type": "execute_result"
    }
   ],
   "source": [
    "metodos"
   ]
  },
  {
   "cell_type": "code",
   "execution_count": 106,
   "metadata": {},
   "outputs": [
    {
     "data": {
      "text/html": [
       "<div>\n",
       "<style scoped>\n",
       "    .dataframe tbody tr th:only-of-type {\n",
       "        vertical-align: middle;\n",
       "    }\n",
       "\n",
       "    .dataframe tbody tr th {\n",
       "        vertical-align: top;\n",
       "    }\n",
       "\n",
       "    .dataframe thead th {\n",
       "        text-align: right;\n",
       "    }\n",
       "</style>\n",
       "<table border=\"1\" class=\"dataframe\">\n",
       "  <thead>\n",
       "    <tr style=\"text-align: right;\">\n",
       "      <th></th>\n",
       "      <th>roc_auc</th>\n",
       "      <th>accuracy</th>\n",
       "      <th>precision</th>\n",
       "      <th>kappa</th>\n",
       "      <th>sensibilidad</th>\n",
       "      <th>especificidad</th>\n",
       "    </tr>\n",
       "  </thead>\n",
       "  <tbody>\n",
       "    <tr>\n",
       "      <th>HBOS</th>\n",
       "      <td>0.625722</td>\n",
       "      <td>0.871269</td>\n",
       "      <td>0.272709</td>\n",
       "      <td>0.229044</td>\n",
       "      <td>0.331351</td>\n",
       "      <td>0.920092</td>\n",
       "    </tr>\n",
       "    <tr>\n",
       "      <th>IForest</th>\n",
       "      <td>0.717724</td>\n",
       "      <td>0.899536</td>\n",
       "      <td>0.412689</td>\n",
       "      <td>0.397323</td>\n",
       "      <td>0.499762</td>\n",
       "      <td>0.935686</td>\n",
       "    </tr>\n",
       "    <tr>\n",
       "      <th>KNN</th>\n",
       "      <td>0.545875</td>\n",
       "      <td>0.847243</td>\n",
       "      <td>0.152396</td>\n",
       "      <td>0.08371</td>\n",
       "      <td>0.184586</td>\n",
       "      <td>0.907165</td>\n",
       "    </tr>\n",
       "    <tr>\n",
       "      <th>LODA</th>\n",
       "      <td>0.69515</td>\n",
       "      <td>0.89206</td>\n",
       "      <td>0.376365</td>\n",
       "      <td>0.354831</td>\n",
       "      <td>0.459087</td>\n",
       "      <td>0.931212</td>\n",
       "    </tr>\n",
       "    <tr>\n",
       "      <th>MAD_PyOD</th>\n",
       "      <td>0.860847</td>\n",
       "      <td>0.969977</td>\n",
       "      <td>0.888021</td>\n",
       "      <td>0.785235</td>\n",
       "      <td>0.730019</td>\n",
       "      <td>0.991676</td>\n",
       "    </tr>\n",
       "    <tr>\n",
       "      <th>MCD</th>\n",
       "      <td>0.558238</td>\n",
       "      <td>0.851267</td>\n",
       "      <td>0.171395</td>\n",
       "      <td>0.106436</td>\n",
       "      <td>0.206946</td>\n",
       "      <td>0.909531</td>\n",
       "    </tr>\n",
       "    <tr>\n",
       "      <th>IForestASD</th>\n",
       "      <td>0.827566</td>\n",
       "      <td>0.785916</td>\n",
       "      <td>0.262993</td>\n",
       "      <td>0.317617</td>\n",
       "      <td>0.877498</td>\n",
       "      <td>0.777634</td>\n",
       "    </tr>\n",
       "    <tr>\n",
       "      <th>MAD_PySAD</th>\n",
       "      <td>0.8534</td>\n",
       "      <td>0.974771</td>\n",
       "      <td>0.983152</td>\n",
       "      <td>0.809926</td>\n",
       "      <td>0.707897</td>\n",
       "      <td>0.998903</td>\n",
       "    </tr>\n",
       "    <tr>\n",
       "      <th>SAD</th>\n",
       "      <td>0.845943</td>\n",
       "      <td>0.93887</td>\n",
       "      <td>0.608953</td>\n",
       "      <td>0.632557</td>\n",
       "      <td>0.734539</td>\n",
       "      <td>0.957347</td>\n",
       "    </tr>\n",
       "    <tr>\n",
       "      <th>xStream</th>\n",
       "      <td>0.822463</td>\n",
       "      <td>0.801756</td>\n",
       "      <td>0.274634</td>\n",
       "      <td>0.33102</td>\n",
       "      <td>0.847288</td>\n",
       "      <td>0.797638</td>\n",
       "    </tr>\n",
       "    <tr>\n",
       "      <th>HTM</th>\n",
       "      <td>0.497957</td>\n",
       "      <td>0.912953</td>\n",
       "      <td>0.011743</td>\n",
       "      <td>-0.00718</td>\n",
       "      <td>0.00062</td>\n",
       "      <td>0.995294</td>\n",
       "    </tr>\n",
       "  </tbody>\n",
       "</table>\n",
       "</div>"
      ],
      "text/plain": [
       "             roc_auc  accuracy precision     kappa sensibilidad especificidad\n",
       "HBOS        0.625722  0.871269  0.272709  0.229044     0.331351      0.920092\n",
       "IForest     0.717724  0.899536  0.412689  0.397323     0.499762      0.935686\n",
       "KNN         0.545875  0.847243  0.152396   0.08371     0.184586      0.907165\n",
       "LODA         0.69515   0.89206  0.376365  0.354831     0.459087      0.931212\n",
       "MAD_PyOD    0.860847  0.969977  0.888021  0.785235     0.730019      0.991676\n",
       "MCD         0.558238  0.851267  0.171395  0.106436     0.206946      0.909531\n",
       "IForestASD  0.827566  0.785916  0.262993  0.317617     0.877498      0.777634\n",
       "MAD_PySAD     0.8534  0.974771  0.983152  0.809926     0.707897      0.998903\n",
       "SAD         0.845943   0.93887  0.608953  0.632557     0.734539      0.957347\n",
       "xStream     0.822463  0.801756  0.274634   0.33102     0.847288      0.797638\n",
       "HTM         0.497957  0.912953  0.011743  -0.00718      0.00062      0.995294"
      ]
     },
     "execution_count": 106,
     "metadata": {},
     "output_type": "execute_result"
    }
   ],
   "source": [
    "metodos_lista = ['HBOS','IForest','KNN','LODA','MAD_PyOD','MCD', 'IForestASD', 'MAD_PySAD','SAD','xStream']\n",
    "metodos_metricas = calc_metricas(metodos,metodos_lista)\n",
    "metodos_metricas = pd.concat([metodos_metricas,calc_metricas(metodos_htm, ['HTM'])])\n",
    "metodos_metricas"
   ]
  },
  {
   "cell_type": "code",
   "execution_count": 107,
   "metadata": {},
   "outputs": [
    {
     "data": {
      "application/vnd.plotly.v1+json": {
       "config": {
        "plotlyServerURL": "https://plot.ly"
       },
       "data": [
        {
         "hovertemplate": "variable=HBOS<br>index=%{x}<br>value=%{y}<extra></extra>",
         "legendgroup": "HBOS",
         "line": {
          "color": "#636efa",
          "dash": "solid"
         },
         "marker": {
          "symbol": "circle"
         },
         "mode": "lines",
         "name": "HBOS",
         "orientation": "v",
         "showlegend": true,
         "type": "scatter",
         "x": [
          "roc_auc",
          "accuracy",
          "precision",
          "kappa",
          "sensibilidad",
          "especificidad"
         ],
         "xaxis": "x",
         "y": [
          0.6257215775124908,
          0.8712693559522635,
          0.27270947533281126,
          0.22904395304351532,
          0.3313510941960038,
          0.9200920608289777
         ],
         "yaxis": "y"
        },
        {
         "hovertemplate": "variable=IForest<br>index=%{x}<br>value=%{y}<extra></extra>",
         "legendgroup": "IForest",
         "line": {
          "color": "#EF553B",
          "dash": "solid"
         },
         "marker": {
          "symbol": "circle"
         },
         "mode": "lines",
         "name": "IForest",
         "orientation": "v",
         "showlegend": true,
         "type": "scatter",
         "x": [
          "roc_auc",
          "accuracy",
          "precision",
          "kappa",
          "sensibilidad",
          "especificidad"
         ],
         "xaxis": "x",
         "y": [
          0.7177243041280246,
          0.8995364434362363,
          0.4126890591239442,
          0.3973233340514313,
          0.49976213130352043,
          0.9356864769525285
         ],
         "yaxis": "y"
        },
        {
         "hovertemplate": "variable=KNN<br>index=%{x}<br>value=%{y}<extra></extra>",
         "legendgroup": "KNN",
         "line": {
          "color": "#00cc96",
          "dash": "solid"
         },
         "marker": {
          "symbol": "circle"
         },
         "mode": "lines",
         "name": "KNN",
         "orientation": "v",
         "showlegend": true,
         "type": "scatter",
         "x": [
          "roc_auc",
          "accuracy",
          "precision",
          "kappa",
          "sensibilidad",
          "especificidad"
         ],
         "xaxis": "x",
         "y": [
          0.5458754680345834,
          0.8472433178814479,
          0.15239591516103693,
          0.08370951038856644,
          0.1845861084681256,
          0.9071648276010411
         ],
         "yaxis": "y"
        },
        {
         "hovertemplate": "variable=LODA<br>index=%{x}<br>value=%{y}<extra></extra>",
         "legendgroup": "LODA",
         "line": {
          "color": "#ab63fa",
          "dash": "solid"
         },
         "marker": {
          "symbol": "circle"
         },
         "mode": "lines",
         "name": "LODA",
         "orientation": "v",
         "showlegend": true,
         "type": "scatter",
         "x": [
          "roc_auc",
          "accuracy",
          "precision",
          "kappa",
          "sensibilidad",
          "especificidad"
         ],
         "xaxis": "x",
         "y": [
          0.6951495384730244,
          0.8920603609823454,
          0.3763650546021841,
          0.35483091317571447,
          0.45908658420551857,
          0.9312124927405304
         ],
         "yaxis": "y"
        },
        {
         "hovertemplate": "variable=MAD_PyOD<br>index=%{x}<br>value=%{y}<extra></extra>",
         "legendgroup": "MAD_PyOD",
         "line": {
          "color": "#FFA15A",
          "dash": "solid"
         },
         "marker": {
          "symbol": "circle"
         },
         "mode": "lines",
         "name": "MAD_PyOD",
         "orientation": "v",
         "showlegend": true,
         "type": "scatter",
         "x": [
          "roc_auc",
          "accuracy",
          "precision",
          "kappa",
          "sensibilidad",
          "especificidad"
         ],
         "xaxis": "x",
         "y": [
          0.8608474188583322,
          0.9699773153170924,
          0.8880208333333334,
          0.7852347153966168,
          0.7300190294957184,
          0.991675808220946
         ],
         "yaxis": "y"
        },
        {
         "hovertemplate": "variable=MCD<br>index=%{x}<br>value=%{y}<extra></extra>",
         "legendgroup": "MCD",
         "line": {
          "color": "#19d3f3",
          "dash": "solid"
         },
         "marker": {
          "symbol": "circle"
         },
         "mode": "lines",
         "name": "MCD",
         "orientation": "v",
         "showlegend": true,
         "type": "scatter",
         "x": [
          "roc_auc",
          "accuracy",
          "precision",
          "kappa",
          "sensibilidad",
          "especificidad"
         ],
         "xaxis": "x",
         "y": [
          0.5582383214405637,
          0.8512673833711412,
          0.17139479905437352,
          0.10643623673877989,
          0.20694576593720265,
          0.9095308769439246
         ],
         "yaxis": "y"
        },
        {
         "hovertemplate": "variable=IForestASD<br>index=%{x}<br>value=%{y}<extra></extra>",
         "legendgroup": "IForestASD",
         "line": {
          "color": "#FF6692",
          "dash": "solid"
         },
         "marker": {
          "symbol": "circle"
         },
         "mode": "lines",
         "name": "IForestASD",
         "orientation": "v",
         "showlegend": true,
         "type": "scatter",
         "x": [
          "roc_auc",
          "accuracy",
          "precision",
          "kappa",
          "sensibilidad",
          "especificidad"
         ],
         "xaxis": "x",
         "y": [
          0.8275660010804706,
          0.7859157707860736,
          0.26299279960076993,
          0.31761696726156796,
          0.8774976213130352,
          0.777634380847906
         ],
         "yaxis": "y"
        },
        {
         "hovertemplate": "variable=MAD_PySAD<br>index=%{x}<br>value=%{y}<extra></extra>",
         "legendgroup": "MAD_PySAD",
         "line": {
          "color": "#B6E880",
          "dash": "solid"
         },
         "marker": {
          "symbol": "circle"
         },
         "mode": "lines",
         "name": "MAD_PySAD",
         "orientation": "v",
         "showlegend": true,
         "type": "scatter",
         "x": [
          "roc_auc",
          "accuracy",
          "precision",
          "kappa",
          "sensibilidad",
          "especificidad"
         ],
         "xaxis": "x",
         "y": [
          0.8534001271048012,
          0.9747706874445211,
          0.9831516352824579,
          0.80992599626279,
          0.7078972407231209,
          0.9989030134864813
         ],
         "yaxis": "y"
        },
        {
         "hovertemplate": "variable=SAD<br>index=%{x}<br>value=%{y}<extra></extra>",
         "legendgroup": "SAD",
         "line": {
          "color": "#FF97FF",
          "dash": "solid"
         },
         "marker": {
          "symbol": "circle"
         },
         "mode": "lines",
         "name": "SAD",
         "orientation": "v",
         "showlegend": true,
         "type": "scatter",
         "x": [
          "roc_auc",
          "accuracy",
          "precision",
          "kappa",
          "sensibilidad",
          "especificidad"
         ],
         "xaxis": "x",
         "y": [
          0.8459425589692416,
          0.9388697110168656,
          0.6089528692565569,
          0.6325565657338967,
          0.7345385347288297,
          0.9573465832096535
         ],
         "yaxis": "y"
        },
        {
         "hovertemplate": "variable=xStream<br>index=%{x}<br>value=%{y}<extra></extra>",
         "legendgroup": "xStream",
         "line": {
          "color": "#FECB52",
          "dash": "solid"
         },
         "marker": {
          "symbol": "circle"
         },
         "mode": "lines",
         "name": "xStream",
         "orientation": "v",
         "showlegend": true,
         "type": "scatter",
         "x": [
          "roc_auc",
          "accuracy",
          "precision",
          "kappa",
          "sensibilidad",
          "especificidad"
         ],
         "xaxis": "x",
         "y": [
          0.8224632747125729,
          0.8017555971989349,
          0.2746337702390131,
          0.3310197742161579,
          0.8472882968601332,
          0.7976382525650125
         ],
         "yaxis": "y"
        },
        {
         "hovertemplate": "variable=HTM<br>index=%{x}<br>value=%{y}<extra></extra>",
         "legendgroup": "HTM",
         "line": {
          "color": "#636efa",
          "dash": "solid"
         },
         "marker": {
          "symbol": "circle"
         },
         "mode": "lines",
         "name": "HTM",
         "orientation": "v",
         "showlegend": true,
         "type": "scatter",
         "x": [
          "roc_auc",
          "accuracy",
          "precision",
          "kappa",
          "sensibilidad",
          "especificidad"
         ],
         "xaxis": "x",
         "y": [
          0.4979569649720438,
          0.9129525665658004,
          0.011743450767841012,
          -0.0071795678799051466,
          0.0006195491588428728,
          0.9952943807852448
         ],
         "yaxis": "y"
        }
       ],
       "layout": {
        "legend": {
         "title": {
          "text": "variable"
         },
         "tracegroupgap": 0
        },
        "margin": {
         "t": 60
        },
        "template": {
         "data": {
          "bar": [
           {
            "error_x": {
             "color": "#2a3f5f"
            },
            "error_y": {
             "color": "#2a3f5f"
            },
            "marker": {
             "line": {
              "color": "#E5ECF6",
              "width": 0.5
             },
             "pattern": {
              "fillmode": "overlay",
              "size": 10,
              "solidity": 0.2
             }
            },
            "type": "bar"
           }
          ],
          "barpolar": [
           {
            "marker": {
             "line": {
              "color": "#E5ECF6",
              "width": 0.5
             },
             "pattern": {
              "fillmode": "overlay",
              "size": 10,
              "solidity": 0.2
             }
            },
            "type": "barpolar"
           }
          ],
          "carpet": [
           {
            "aaxis": {
             "endlinecolor": "#2a3f5f",
             "gridcolor": "white",
             "linecolor": "white",
             "minorgridcolor": "white",
             "startlinecolor": "#2a3f5f"
            },
            "baxis": {
             "endlinecolor": "#2a3f5f",
             "gridcolor": "white",
             "linecolor": "white",
             "minorgridcolor": "white",
             "startlinecolor": "#2a3f5f"
            },
            "type": "carpet"
           }
          ],
          "choropleth": [
           {
            "colorbar": {
             "outlinewidth": 0,
             "ticks": ""
            },
            "type": "choropleth"
           }
          ],
          "contour": [
           {
            "colorbar": {
             "outlinewidth": 0,
             "ticks": ""
            },
            "colorscale": [
             [
              0,
              "#0d0887"
             ],
             [
              0.1111111111111111,
              "#46039f"
             ],
             [
              0.2222222222222222,
              "#7201a8"
             ],
             [
              0.3333333333333333,
              "#9c179e"
             ],
             [
              0.4444444444444444,
              "#bd3786"
             ],
             [
              0.5555555555555556,
              "#d8576b"
             ],
             [
              0.6666666666666666,
              "#ed7953"
             ],
             [
              0.7777777777777778,
              "#fb9f3a"
             ],
             [
              0.8888888888888888,
              "#fdca26"
             ],
             [
              1,
              "#f0f921"
             ]
            ],
            "type": "contour"
           }
          ],
          "contourcarpet": [
           {
            "colorbar": {
             "outlinewidth": 0,
             "ticks": ""
            },
            "type": "contourcarpet"
           }
          ],
          "heatmap": [
           {
            "colorbar": {
             "outlinewidth": 0,
             "ticks": ""
            },
            "colorscale": [
             [
              0,
              "#0d0887"
             ],
             [
              0.1111111111111111,
              "#46039f"
             ],
             [
              0.2222222222222222,
              "#7201a8"
             ],
             [
              0.3333333333333333,
              "#9c179e"
             ],
             [
              0.4444444444444444,
              "#bd3786"
             ],
             [
              0.5555555555555556,
              "#d8576b"
             ],
             [
              0.6666666666666666,
              "#ed7953"
             ],
             [
              0.7777777777777778,
              "#fb9f3a"
             ],
             [
              0.8888888888888888,
              "#fdca26"
             ],
             [
              1,
              "#f0f921"
             ]
            ],
            "type": "heatmap"
           }
          ],
          "heatmapgl": [
           {
            "colorbar": {
             "outlinewidth": 0,
             "ticks": ""
            },
            "colorscale": [
             [
              0,
              "#0d0887"
             ],
             [
              0.1111111111111111,
              "#46039f"
             ],
             [
              0.2222222222222222,
              "#7201a8"
             ],
             [
              0.3333333333333333,
              "#9c179e"
             ],
             [
              0.4444444444444444,
              "#bd3786"
             ],
             [
              0.5555555555555556,
              "#d8576b"
             ],
             [
              0.6666666666666666,
              "#ed7953"
             ],
             [
              0.7777777777777778,
              "#fb9f3a"
             ],
             [
              0.8888888888888888,
              "#fdca26"
             ],
             [
              1,
              "#f0f921"
             ]
            ],
            "type": "heatmapgl"
           }
          ],
          "histogram": [
           {
            "marker": {
             "pattern": {
              "fillmode": "overlay",
              "size": 10,
              "solidity": 0.2
             }
            },
            "type": "histogram"
           }
          ],
          "histogram2d": [
           {
            "colorbar": {
             "outlinewidth": 0,
             "ticks": ""
            },
            "colorscale": [
             [
              0,
              "#0d0887"
             ],
             [
              0.1111111111111111,
              "#46039f"
             ],
             [
              0.2222222222222222,
              "#7201a8"
             ],
             [
              0.3333333333333333,
              "#9c179e"
             ],
             [
              0.4444444444444444,
              "#bd3786"
             ],
             [
              0.5555555555555556,
              "#d8576b"
             ],
             [
              0.6666666666666666,
              "#ed7953"
             ],
             [
              0.7777777777777778,
              "#fb9f3a"
             ],
             [
              0.8888888888888888,
              "#fdca26"
             ],
             [
              1,
              "#f0f921"
             ]
            ],
            "type": "histogram2d"
           }
          ],
          "histogram2dcontour": [
           {
            "colorbar": {
             "outlinewidth": 0,
             "ticks": ""
            },
            "colorscale": [
             [
              0,
              "#0d0887"
             ],
             [
              0.1111111111111111,
              "#46039f"
             ],
             [
              0.2222222222222222,
              "#7201a8"
             ],
             [
              0.3333333333333333,
              "#9c179e"
             ],
             [
              0.4444444444444444,
              "#bd3786"
             ],
             [
              0.5555555555555556,
              "#d8576b"
             ],
             [
              0.6666666666666666,
              "#ed7953"
             ],
             [
              0.7777777777777778,
              "#fb9f3a"
             ],
             [
              0.8888888888888888,
              "#fdca26"
             ],
             [
              1,
              "#f0f921"
             ]
            ],
            "type": "histogram2dcontour"
           }
          ],
          "mesh3d": [
           {
            "colorbar": {
             "outlinewidth": 0,
             "ticks": ""
            },
            "type": "mesh3d"
           }
          ],
          "parcoords": [
           {
            "line": {
             "colorbar": {
              "outlinewidth": 0,
              "ticks": ""
             }
            },
            "type": "parcoords"
           }
          ],
          "pie": [
           {
            "automargin": true,
            "type": "pie"
           }
          ],
          "scatter": [
           {
            "fillpattern": {
             "fillmode": "overlay",
             "size": 10,
             "solidity": 0.2
            },
            "type": "scatter"
           }
          ],
          "scatter3d": [
           {
            "line": {
             "colorbar": {
              "outlinewidth": 0,
              "ticks": ""
             }
            },
            "marker": {
             "colorbar": {
              "outlinewidth": 0,
              "ticks": ""
             }
            },
            "type": "scatter3d"
           }
          ],
          "scattercarpet": [
           {
            "marker": {
             "colorbar": {
              "outlinewidth": 0,
              "ticks": ""
             }
            },
            "type": "scattercarpet"
           }
          ],
          "scattergeo": [
           {
            "marker": {
             "colorbar": {
              "outlinewidth": 0,
              "ticks": ""
             }
            },
            "type": "scattergeo"
           }
          ],
          "scattergl": [
           {
            "marker": {
             "colorbar": {
              "outlinewidth": 0,
              "ticks": ""
             }
            },
            "type": "scattergl"
           }
          ],
          "scattermapbox": [
           {
            "marker": {
             "colorbar": {
              "outlinewidth": 0,
              "ticks": ""
             }
            },
            "type": "scattermapbox"
           }
          ],
          "scatterpolar": [
           {
            "marker": {
             "colorbar": {
              "outlinewidth": 0,
              "ticks": ""
             }
            },
            "type": "scatterpolar"
           }
          ],
          "scatterpolargl": [
           {
            "marker": {
             "colorbar": {
              "outlinewidth": 0,
              "ticks": ""
             }
            },
            "type": "scatterpolargl"
           }
          ],
          "scatterternary": [
           {
            "marker": {
             "colorbar": {
              "outlinewidth": 0,
              "ticks": ""
             }
            },
            "type": "scatterternary"
           }
          ],
          "surface": [
           {
            "colorbar": {
             "outlinewidth": 0,
             "ticks": ""
            },
            "colorscale": [
             [
              0,
              "#0d0887"
             ],
             [
              0.1111111111111111,
              "#46039f"
             ],
             [
              0.2222222222222222,
              "#7201a8"
             ],
             [
              0.3333333333333333,
              "#9c179e"
             ],
             [
              0.4444444444444444,
              "#bd3786"
             ],
             [
              0.5555555555555556,
              "#d8576b"
             ],
             [
              0.6666666666666666,
              "#ed7953"
             ],
             [
              0.7777777777777778,
              "#fb9f3a"
             ],
             [
              0.8888888888888888,
              "#fdca26"
             ],
             [
              1,
              "#f0f921"
             ]
            ],
            "type": "surface"
           }
          ],
          "table": [
           {
            "cells": {
             "fill": {
              "color": "#EBF0F8"
             },
             "line": {
              "color": "white"
             }
            },
            "header": {
             "fill": {
              "color": "#C8D4E3"
             },
             "line": {
              "color": "white"
             }
            },
            "type": "table"
           }
          ]
         },
         "layout": {
          "annotationdefaults": {
           "arrowcolor": "#2a3f5f",
           "arrowhead": 0,
           "arrowwidth": 1
          },
          "autotypenumbers": "strict",
          "coloraxis": {
           "colorbar": {
            "outlinewidth": 0,
            "ticks": ""
           }
          },
          "colorscale": {
           "diverging": [
            [
             0,
             "#8e0152"
            ],
            [
             0.1,
             "#c51b7d"
            ],
            [
             0.2,
             "#de77ae"
            ],
            [
             0.3,
             "#f1b6da"
            ],
            [
             0.4,
             "#fde0ef"
            ],
            [
             0.5,
             "#f7f7f7"
            ],
            [
             0.6,
             "#e6f5d0"
            ],
            [
             0.7,
             "#b8e186"
            ],
            [
             0.8,
             "#7fbc41"
            ],
            [
             0.9,
             "#4d9221"
            ],
            [
             1,
             "#276419"
            ]
           ],
           "sequential": [
            [
             0,
             "#0d0887"
            ],
            [
             0.1111111111111111,
             "#46039f"
            ],
            [
             0.2222222222222222,
             "#7201a8"
            ],
            [
             0.3333333333333333,
             "#9c179e"
            ],
            [
             0.4444444444444444,
             "#bd3786"
            ],
            [
             0.5555555555555556,
             "#d8576b"
            ],
            [
             0.6666666666666666,
             "#ed7953"
            ],
            [
             0.7777777777777778,
             "#fb9f3a"
            ],
            [
             0.8888888888888888,
             "#fdca26"
            ],
            [
             1,
             "#f0f921"
            ]
           ],
           "sequentialminus": [
            [
             0,
             "#0d0887"
            ],
            [
             0.1111111111111111,
             "#46039f"
            ],
            [
             0.2222222222222222,
             "#7201a8"
            ],
            [
             0.3333333333333333,
             "#9c179e"
            ],
            [
             0.4444444444444444,
             "#bd3786"
            ],
            [
             0.5555555555555556,
             "#d8576b"
            ],
            [
             0.6666666666666666,
             "#ed7953"
            ],
            [
             0.7777777777777778,
             "#fb9f3a"
            ],
            [
             0.8888888888888888,
             "#fdca26"
            ],
            [
             1,
             "#f0f921"
            ]
           ]
          },
          "colorway": [
           "#636efa",
           "#EF553B",
           "#00cc96",
           "#ab63fa",
           "#FFA15A",
           "#19d3f3",
           "#FF6692",
           "#B6E880",
           "#FF97FF",
           "#FECB52"
          ],
          "font": {
           "color": "#2a3f5f"
          },
          "geo": {
           "bgcolor": "white",
           "lakecolor": "white",
           "landcolor": "#E5ECF6",
           "showlakes": true,
           "showland": true,
           "subunitcolor": "white"
          },
          "hoverlabel": {
           "align": "left"
          },
          "hovermode": "closest",
          "mapbox": {
           "style": "light"
          },
          "paper_bgcolor": "white",
          "plot_bgcolor": "#E5ECF6",
          "polar": {
           "angularaxis": {
            "gridcolor": "white",
            "linecolor": "white",
            "ticks": ""
           },
           "bgcolor": "#E5ECF6",
           "radialaxis": {
            "gridcolor": "white",
            "linecolor": "white",
            "ticks": ""
           }
          },
          "scene": {
           "xaxis": {
            "backgroundcolor": "#E5ECF6",
            "gridcolor": "white",
            "gridwidth": 2,
            "linecolor": "white",
            "showbackground": true,
            "ticks": "",
            "zerolinecolor": "white"
           },
           "yaxis": {
            "backgroundcolor": "#E5ECF6",
            "gridcolor": "white",
            "gridwidth": 2,
            "linecolor": "white",
            "showbackground": true,
            "ticks": "",
            "zerolinecolor": "white"
           },
           "zaxis": {
            "backgroundcolor": "#E5ECF6",
            "gridcolor": "white",
            "gridwidth": 2,
            "linecolor": "white",
            "showbackground": true,
            "ticks": "",
            "zerolinecolor": "white"
           }
          },
          "shapedefaults": {
           "line": {
            "color": "#2a3f5f"
           }
          },
          "ternary": {
           "aaxis": {
            "gridcolor": "white",
            "linecolor": "white",
            "ticks": ""
           },
           "baxis": {
            "gridcolor": "white",
            "linecolor": "white",
            "ticks": ""
           },
           "bgcolor": "#E5ECF6",
           "caxis": {
            "gridcolor": "white",
            "linecolor": "white",
            "ticks": ""
           }
          },
          "title": {
           "x": 0.05
          },
          "xaxis": {
           "automargin": true,
           "gridcolor": "white",
           "linecolor": "white",
           "ticks": "",
           "title": {
            "standoff": 15
           },
           "zerolinecolor": "white",
           "zerolinewidth": 2
          },
          "yaxis": {
           "automargin": true,
           "gridcolor": "white",
           "linecolor": "white",
           "ticks": "",
           "title": {
            "standoff": 15
           },
           "zerolinecolor": "white",
           "zerolinewidth": 2
          }
         }
        },
        "xaxis": {
         "anchor": "y",
         "domain": [
          0,
          1
         ],
         "title": {
          "text": "index"
         }
        },
        "yaxis": {
         "anchor": "x",
         "domain": [
          0,
          1
         ],
         "title": {
          "text": "value"
         }
        }
       }
      }
     },
     "metadata": {},
     "output_type": "display_data"
    }
   ],
   "source": [
    "px.line(metodos_metricas.T)"
   ]
  },
  {
   "cell_type": "markdown",
   "metadata": {},
   "source": [
    "### Sensibilidad por tipo de anomalía"
   ]
  },
  {
   "cell_type": "code",
   "execution_count": 108,
   "metadata": {},
   "outputs": [
    {
     "data": {
      "text/html": [
       "<div>\n",
       "<style scoped>\n",
       "    .dataframe tbody tr th:only-of-type {\n",
       "        vertical-align: middle;\n",
       "    }\n",
       "\n",
       "    .dataframe tbody tr th {\n",
       "        vertical-align: top;\n",
       "    }\n",
       "\n",
       "    .dataframe thead th {\n",
       "        text-align: right;\n",
       "    }\n",
       "</style>\n",
       "<table border=\"1\" class=\"dataframe\">\n",
       "  <thead>\n",
       "    <tr style=\"text-align: right;\">\n",
       "      <th></th>\n",
       "      <th>Anomalia</th>\n",
       "      <th>Negro</th>\n",
       "      <th>Congelado</th>\n",
       "      <th>Hum</th>\n",
       "    </tr>\n",
       "  </thead>\n",
       "  <tbody>\n",
       "    <tr>\n",
       "      <th>HBOS</th>\n",
       "      <td>0.331351</td>\n",
       "      <td>0.279556</td>\n",
       "      <td>0.29922</td>\n",
       "      <td>0.88172</td>\n",
       "    </tr>\n",
       "    <tr>\n",
       "      <th>IForest</th>\n",
       "      <td>0.499762</td>\n",
       "      <td>0.455468</td>\n",
       "      <td>0.533138</td>\n",
       "      <td>0.856631</td>\n",
       "    </tr>\n",
       "    <tr>\n",
       "      <th>KNN</th>\n",
       "      <td>0.184586</td>\n",
       "      <td>0.158162</td>\n",
       "      <td>0.153996</td>\n",
       "      <td>0.322581</td>\n",
       "    </tr>\n",
       "    <tr>\n",
       "      <th>LODA</th>\n",
       "      <td>0.459087</td>\n",
       "      <td>0.4187</td>\n",
       "      <td>0.4987</td>\n",
       "      <td>0.88172</td>\n",
       "    </tr>\n",
       "    <tr>\n",
       "      <th>MAD_PyOD</th>\n",
       "      <td>0.730019</td>\n",
       "      <td>0.732488</td>\n",
       "      <td>0.904808</td>\n",
       "      <td>1.0</td>\n",
       "    </tr>\n",
       "    <tr>\n",
       "      <th>MCD</th>\n",
       "      <td>0.206946</td>\n",
       "      <td>0.195246</td>\n",
       "      <td>0.117609</td>\n",
       "      <td>0.344086</td>\n",
       "    </tr>\n",
       "    <tr>\n",
       "      <th>IForestASD</th>\n",
       "      <td>0.877498</td>\n",
       "      <td>0.889065</td>\n",
       "      <td>0.936647</td>\n",
       "      <td>0.978495</td>\n",
       "    </tr>\n",
       "    <tr>\n",
       "      <th>MAD_PySAD</th>\n",
       "      <td>0.707897</td>\n",
       "      <td>0.726466</td>\n",
       "      <td>0.897661</td>\n",
       "      <td>0.74552</td>\n",
       "    </tr>\n",
       "    <tr>\n",
       "      <th>SAD</th>\n",
       "      <td>0.734539</td>\n",
       "      <td>0.738193</td>\n",
       "      <td>0.905133</td>\n",
       "      <td>1.0</td>\n",
       "    </tr>\n",
       "    <tr>\n",
       "      <th>xStream</th>\n",
       "      <td>0.847288</td>\n",
       "      <td>0.86561</td>\n",
       "      <td>0.911956</td>\n",
       "      <td>0.942652</td>\n",
       "    </tr>\n",
       "    <tr>\n",
       "      <th>HTM</th>\n",
       "      <td>0.00062</td>\n",
       "      <td>0.0</td>\n",
       "      <td>0.000654</td>\n",
       "      <td>0.001993</td>\n",
       "    </tr>\n",
       "  </tbody>\n",
       "</table>\n",
       "</div>"
      ],
      "text/plain": [
       "            Anomalia     Negro Congelado       Hum\n",
       "HBOS        0.331351  0.279556   0.29922   0.88172\n",
       "IForest     0.499762  0.455468  0.533138  0.856631\n",
       "KNN         0.184586  0.158162  0.153996  0.322581\n",
       "LODA        0.459087    0.4187    0.4987   0.88172\n",
       "MAD_PyOD    0.730019  0.732488  0.904808       1.0\n",
       "MCD         0.206946  0.195246  0.117609  0.344086\n",
       "IForestASD  0.877498  0.889065  0.936647  0.978495\n",
       "MAD_PySAD   0.707897  0.726466  0.897661   0.74552\n",
       "SAD         0.734539  0.738193  0.905133       1.0\n",
       "xStream     0.847288   0.86561  0.911956  0.942652\n",
       "HTM          0.00062       0.0  0.000654  0.001993"
      ]
     },
     "execution_count": 108,
     "metadata": {},
     "output_type": "execute_result"
    }
   ],
   "source": [
    "metodos_sensibilidades = calc_sensibilidad(metodos,metodos_lista,anomalias)\n",
    "metodos_sensibilidades = pd.concat([metodos_sensibilidades,calc_sensibilidad(metodos_htm, ['HTM'], anomalias)])\n",
    "metodos_sensibilidades"
   ]
  },
  {
   "cell_type": "code",
   "execution_count": 109,
   "metadata": {},
   "outputs": [
    {
     "data": {
      "application/vnd.plotly.v1+json": {
       "config": {
        "plotlyServerURL": "https://plot.ly"
       },
       "data": [
        {
         "hovertemplate": "variable=HBOS<br>index=%{x}<br>value=%{y}<extra></extra>",
         "legendgroup": "HBOS",
         "line": {
          "color": "#636efa",
          "dash": "solid"
         },
         "marker": {
          "symbol": "circle"
         },
         "mode": "lines",
         "name": "HBOS",
         "orientation": "v",
         "showlegend": true,
         "type": "scatter",
         "x": [
          "Anomalia",
          "Negro",
          "Congelado",
          "Hum"
         ],
         "xaxis": "x",
         "y": [
          0.3313510941960038,
          0.27955625990491284,
          0.29922027290448344,
          0.8817204301075269
         ],
         "yaxis": "y"
        },
        {
         "hovertemplate": "variable=IForest<br>index=%{x}<br>value=%{y}<extra></extra>",
         "legendgroup": "IForest",
         "line": {
          "color": "#EF553B",
          "dash": "solid"
         },
         "marker": {
          "symbol": "circle"
         },
         "mode": "lines",
         "name": "IForest",
         "orientation": "v",
         "showlegend": true,
         "type": "scatter",
         "x": [
          "Anomalia",
          "Negro",
          "Congelado",
          "Hum"
         ],
         "xaxis": "x",
         "y": [
          0.49976213130352043,
          0.4554675118858954,
          0.5331384015594542,
          0.8566308243727598
         ],
         "yaxis": "y"
        },
        {
         "hovertemplate": "variable=KNN<br>index=%{x}<br>value=%{y}<extra></extra>",
         "legendgroup": "KNN",
         "line": {
          "color": "#00cc96",
          "dash": "solid"
         },
         "marker": {
          "symbol": "circle"
         },
         "mode": "lines",
         "name": "KNN",
         "orientation": "v",
         "showlegend": true,
         "type": "scatter",
         "x": [
          "Anomalia",
          "Negro",
          "Congelado",
          "Hum"
         ],
         "xaxis": "x",
         "y": [
          0.1845861084681256,
          0.15816164817749603,
          0.1539961013645224,
          0.3225806451612903
         ],
         "yaxis": "y"
        },
        {
         "hovertemplate": "variable=LODA<br>index=%{x}<br>value=%{y}<extra></extra>",
         "legendgroup": "LODA",
         "line": {
          "color": "#ab63fa",
          "dash": "solid"
         },
         "marker": {
          "symbol": "circle"
         },
         "mode": "lines",
         "name": "LODA",
         "orientation": "v",
         "showlegend": true,
         "type": "scatter",
         "x": [
          "Anomalia",
          "Negro",
          "Congelado",
          "Hum"
         ],
         "xaxis": "x",
         "y": [
          0.45908658420551857,
          0.4187004754358162,
          0.4987004548408057,
          0.8817204301075269
         ],
         "yaxis": "y"
        },
        {
         "hovertemplate": "variable=MAD_PyOD<br>index=%{x}<br>value=%{y}<extra></extra>",
         "legendgroup": "MAD_PyOD",
         "line": {
          "color": "#FFA15A",
          "dash": "solid"
         },
         "marker": {
          "symbol": "circle"
         },
         "mode": "lines",
         "name": "MAD_PyOD",
         "orientation": "v",
         "showlegend": true,
         "type": "scatter",
         "x": [
          "Anomalia",
          "Negro",
          "Congelado",
          "Hum"
         ],
         "xaxis": "x",
         "y": [
          0.7300190294957184,
          0.7324881141045959,
          0.9048083170890189,
          1
         ],
         "yaxis": "y"
        },
        {
         "hovertemplate": "variable=MCD<br>index=%{x}<br>value=%{y}<extra></extra>",
         "legendgroup": "MCD",
         "line": {
          "color": "#19d3f3",
          "dash": "solid"
         },
         "marker": {
          "symbol": "circle"
         },
         "mode": "lines",
         "name": "MCD",
         "orientation": "v",
         "showlegend": true,
         "type": "scatter",
         "x": [
          "Anomalia",
          "Negro",
          "Congelado",
          "Hum"
         ],
         "xaxis": "x",
         "y": [
          0.20694576593720265,
          0.19524564183835183,
          0.11760883690708251,
          0.34408602150537637
         ],
         "yaxis": "y"
        },
        {
         "hovertemplate": "variable=IForestASD<br>index=%{x}<br>value=%{y}<extra></extra>",
         "legendgroup": "IForestASD",
         "line": {
          "color": "#FF6692",
          "dash": "solid"
         },
         "marker": {
          "symbol": "circle"
         },
         "mode": "lines",
         "name": "IForestASD",
         "orientation": "v",
         "showlegend": true,
         "type": "scatter",
         "x": [
          "Anomalia",
          "Negro",
          "Congelado",
          "Hum"
         ],
         "xaxis": "x",
         "y": [
          0.8774976213130352,
          0.8890649762282092,
          0.9366471734892787,
          0.978494623655914
         ],
         "yaxis": "y"
        },
        {
         "hovertemplate": "variable=MAD_PySAD<br>index=%{x}<br>value=%{y}<extra></extra>",
         "legendgroup": "MAD_PySAD",
         "line": {
          "color": "#B6E880",
          "dash": "solid"
         },
         "marker": {
          "symbol": "circle"
         },
         "mode": "lines",
         "name": "MAD_PySAD",
         "orientation": "v",
         "showlegend": true,
         "type": "scatter",
         "x": [
          "Anomalia",
          "Negro",
          "Congelado",
          "Hum"
         ],
         "xaxis": "x",
         "y": [
          0.7078972407231209,
          0.7264659270998415,
          0.8976608187134503,
          0.7455197132616488
         ],
         "yaxis": "y"
        },
        {
         "hovertemplate": "variable=SAD<br>index=%{x}<br>value=%{y}<extra></extra>",
         "legendgroup": "SAD",
         "line": {
          "color": "#FF97FF",
          "dash": "solid"
         },
         "marker": {
          "symbol": "circle"
         },
         "mode": "lines",
         "name": "SAD",
         "orientation": "v",
         "showlegend": true,
         "type": "scatter",
         "x": [
          "Anomalia",
          "Negro",
          "Congelado",
          "Hum"
         ],
         "xaxis": "x",
         "y": [
          0.7345385347288297,
          0.7381933438985737,
          0.9051332033788174,
          1
         ],
         "yaxis": "y"
        },
        {
         "hovertemplate": "variable=xStream<br>index=%{x}<br>value=%{y}<extra></extra>",
         "legendgroup": "xStream",
         "line": {
          "color": "#FECB52",
          "dash": "solid"
         },
         "marker": {
          "symbol": "circle"
         },
         "mode": "lines",
         "name": "xStream",
         "orientation": "v",
         "showlegend": true,
         "type": "scatter",
         "x": [
          "Anomalia",
          "Negro",
          "Congelado",
          "Hum"
         ],
         "xaxis": "x",
         "y": [
          0.8472882968601332,
          0.8656101426307449,
          0.9119558154645874,
          0.942652329749104
         ],
         "yaxis": "y"
        },
        {
         "hovertemplate": "variable=HTM<br>index=%{x}<br>value=%{y}<extra></extra>",
         "legendgroup": "HTM",
         "line": {
          "color": "#636efa",
          "dash": "solid"
         },
         "marker": {
          "symbol": "circle"
         },
         "mode": "lines",
         "name": "HTM",
         "orientation": "v",
         "showlegend": true,
         "type": "scatter",
         "x": [
          "Anomalia",
          "Negro",
          "Congelado",
          "Hum"
         ],
         "xaxis": "x",
         "y": [
          0.0006195491588428728,
          0,
          0.0006535093451836362,
          0.0019933554817275745
         ],
         "yaxis": "y"
        }
       ],
       "layout": {
        "legend": {
         "title": {
          "text": "variable"
         },
         "tracegroupgap": 0
        },
        "margin": {
         "t": 60
        },
        "template": {
         "data": {
          "bar": [
           {
            "error_x": {
             "color": "#2a3f5f"
            },
            "error_y": {
             "color": "#2a3f5f"
            },
            "marker": {
             "line": {
              "color": "#E5ECF6",
              "width": 0.5
             },
             "pattern": {
              "fillmode": "overlay",
              "size": 10,
              "solidity": 0.2
             }
            },
            "type": "bar"
           }
          ],
          "barpolar": [
           {
            "marker": {
             "line": {
              "color": "#E5ECF6",
              "width": 0.5
             },
             "pattern": {
              "fillmode": "overlay",
              "size": 10,
              "solidity": 0.2
             }
            },
            "type": "barpolar"
           }
          ],
          "carpet": [
           {
            "aaxis": {
             "endlinecolor": "#2a3f5f",
             "gridcolor": "white",
             "linecolor": "white",
             "minorgridcolor": "white",
             "startlinecolor": "#2a3f5f"
            },
            "baxis": {
             "endlinecolor": "#2a3f5f",
             "gridcolor": "white",
             "linecolor": "white",
             "minorgridcolor": "white",
             "startlinecolor": "#2a3f5f"
            },
            "type": "carpet"
           }
          ],
          "choropleth": [
           {
            "colorbar": {
             "outlinewidth": 0,
             "ticks": ""
            },
            "type": "choropleth"
           }
          ],
          "contour": [
           {
            "colorbar": {
             "outlinewidth": 0,
             "ticks": ""
            },
            "colorscale": [
             [
              0,
              "#0d0887"
             ],
             [
              0.1111111111111111,
              "#46039f"
             ],
             [
              0.2222222222222222,
              "#7201a8"
             ],
             [
              0.3333333333333333,
              "#9c179e"
             ],
             [
              0.4444444444444444,
              "#bd3786"
             ],
             [
              0.5555555555555556,
              "#d8576b"
             ],
             [
              0.6666666666666666,
              "#ed7953"
             ],
             [
              0.7777777777777778,
              "#fb9f3a"
             ],
             [
              0.8888888888888888,
              "#fdca26"
             ],
             [
              1,
              "#f0f921"
             ]
            ],
            "type": "contour"
           }
          ],
          "contourcarpet": [
           {
            "colorbar": {
             "outlinewidth": 0,
             "ticks": ""
            },
            "type": "contourcarpet"
           }
          ],
          "heatmap": [
           {
            "colorbar": {
             "outlinewidth": 0,
             "ticks": ""
            },
            "colorscale": [
             [
              0,
              "#0d0887"
             ],
             [
              0.1111111111111111,
              "#46039f"
             ],
             [
              0.2222222222222222,
              "#7201a8"
             ],
             [
              0.3333333333333333,
              "#9c179e"
             ],
             [
              0.4444444444444444,
              "#bd3786"
             ],
             [
              0.5555555555555556,
              "#d8576b"
             ],
             [
              0.6666666666666666,
              "#ed7953"
             ],
             [
              0.7777777777777778,
              "#fb9f3a"
             ],
             [
              0.8888888888888888,
              "#fdca26"
             ],
             [
              1,
              "#f0f921"
             ]
            ],
            "type": "heatmap"
           }
          ],
          "heatmapgl": [
           {
            "colorbar": {
             "outlinewidth": 0,
             "ticks": ""
            },
            "colorscale": [
             [
              0,
              "#0d0887"
             ],
             [
              0.1111111111111111,
              "#46039f"
             ],
             [
              0.2222222222222222,
              "#7201a8"
             ],
             [
              0.3333333333333333,
              "#9c179e"
             ],
             [
              0.4444444444444444,
              "#bd3786"
             ],
             [
              0.5555555555555556,
              "#d8576b"
             ],
             [
              0.6666666666666666,
              "#ed7953"
             ],
             [
              0.7777777777777778,
              "#fb9f3a"
             ],
             [
              0.8888888888888888,
              "#fdca26"
             ],
             [
              1,
              "#f0f921"
             ]
            ],
            "type": "heatmapgl"
           }
          ],
          "histogram": [
           {
            "marker": {
             "pattern": {
              "fillmode": "overlay",
              "size": 10,
              "solidity": 0.2
             }
            },
            "type": "histogram"
           }
          ],
          "histogram2d": [
           {
            "colorbar": {
             "outlinewidth": 0,
             "ticks": ""
            },
            "colorscale": [
             [
              0,
              "#0d0887"
             ],
             [
              0.1111111111111111,
              "#46039f"
             ],
             [
              0.2222222222222222,
              "#7201a8"
             ],
             [
              0.3333333333333333,
              "#9c179e"
             ],
             [
              0.4444444444444444,
              "#bd3786"
             ],
             [
              0.5555555555555556,
              "#d8576b"
             ],
             [
              0.6666666666666666,
              "#ed7953"
             ],
             [
              0.7777777777777778,
              "#fb9f3a"
             ],
             [
              0.8888888888888888,
              "#fdca26"
             ],
             [
              1,
              "#f0f921"
             ]
            ],
            "type": "histogram2d"
           }
          ],
          "histogram2dcontour": [
           {
            "colorbar": {
             "outlinewidth": 0,
             "ticks": ""
            },
            "colorscale": [
             [
              0,
              "#0d0887"
             ],
             [
              0.1111111111111111,
              "#46039f"
             ],
             [
              0.2222222222222222,
              "#7201a8"
             ],
             [
              0.3333333333333333,
              "#9c179e"
             ],
             [
              0.4444444444444444,
              "#bd3786"
             ],
             [
              0.5555555555555556,
              "#d8576b"
             ],
             [
              0.6666666666666666,
              "#ed7953"
             ],
             [
              0.7777777777777778,
              "#fb9f3a"
             ],
             [
              0.8888888888888888,
              "#fdca26"
             ],
             [
              1,
              "#f0f921"
             ]
            ],
            "type": "histogram2dcontour"
           }
          ],
          "mesh3d": [
           {
            "colorbar": {
             "outlinewidth": 0,
             "ticks": ""
            },
            "type": "mesh3d"
           }
          ],
          "parcoords": [
           {
            "line": {
             "colorbar": {
              "outlinewidth": 0,
              "ticks": ""
             }
            },
            "type": "parcoords"
           }
          ],
          "pie": [
           {
            "automargin": true,
            "type": "pie"
           }
          ],
          "scatter": [
           {
            "fillpattern": {
             "fillmode": "overlay",
             "size": 10,
             "solidity": 0.2
            },
            "type": "scatter"
           }
          ],
          "scatter3d": [
           {
            "line": {
             "colorbar": {
              "outlinewidth": 0,
              "ticks": ""
             }
            },
            "marker": {
             "colorbar": {
              "outlinewidth": 0,
              "ticks": ""
             }
            },
            "type": "scatter3d"
           }
          ],
          "scattercarpet": [
           {
            "marker": {
             "colorbar": {
              "outlinewidth": 0,
              "ticks": ""
             }
            },
            "type": "scattercarpet"
           }
          ],
          "scattergeo": [
           {
            "marker": {
             "colorbar": {
              "outlinewidth": 0,
              "ticks": ""
             }
            },
            "type": "scattergeo"
           }
          ],
          "scattergl": [
           {
            "marker": {
             "colorbar": {
              "outlinewidth": 0,
              "ticks": ""
             }
            },
            "type": "scattergl"
           }
          ],
          "scattermapbox": [
           {
            "marker": {
             "colorbar": {
              "outlinewidth": 0,
              "ticks": ""
             }
            },
            "type": "scattermapbox"
           }
          ],
          "scatterpolar": [
           {
            "marker": {
             "colorbar": {
              "outlinewidth": 0,
              "ticks": ""
             }
            },
            "type": "scatterpolar"
           }
          ],
          "scatterpolargl": [
           {
            "marker": {
             "colorbar": {
              "outlinewidth": 0,
              "ticks": ""
             }
            },
            "type": "scatterpolargl"
           }
          ],
          "scatterternary": [
           {
            "marker": {
             "colorbar": {
              "outlinewidth": 0,
              "ticks": ""
             }
            },
            "type": "scatterternary"
           }
          ],
          "surface": [
           {
            "colorbar": {
             "outlinewidth": 0,
             "ticks": ""
            },
            "colorscale": [
             [
              0,
              "#0d0887"
             ],
             [
              0.1111111111111111,
              "#46039f"
             ],
             [
              0.2222222222222222,
              "#7201a8"
             ],
             [
              0.3333333333333333,
              "#9c179e"
             ],
             [
              0.4444444444444444,
              "#bd3786"
             ],
             [
              0.5555555555555556,
              "#d8576b"
             ],
             [
              0.6666666666666666,
              "#ed7953"
             ],
             [
              0.7777777777777778,
              "#fb9f3a"
             ],
             [
              0.8888888888888888,
              "#fdca26"
             ],
             [
              1,
              "#f0f921"
             ]
            ],
            "type": "surface"
           }
          ],
          "table": [
           {
            "cells": {
             "fill": {
              "color": "#EBF0F8"
             },
             "line": {
              "color": "white"
             }
            },
            "header": {
             "fill": {
              "color": "#C8D4E3"
             },
             "line": {
              "color": "white"
             }
            },
            "type": "table"
           }
          ]
         },
         "layout": {
          "annotationdefaults": {
           "arrowcolor": "#2a3f5f",
           "arrowhead": 0,
           "arrowwidth": 1
          },
          "autotypenumbers": "strict",
          "coloraxis": {
           "colorbar": {
            "outlinewidth": 0,
            "ticks": ""
           }
          },
          "colorscale": {
           "diverging": [
            [
             0,
             "#8e0152"
            ],
            [
             0.1,
             "#c51b7d"
            ],
            [
             0.2,
             "#de77ae"
            ],
            [
             0.3,
             "#f1b6da"
            ],
            [
             0.4,
             "#fde0ef"
            ],
            [
             0.5,
             "#f7f7f7"
            ],
            [
             0.6,
             "#e6f5d0"
            ],
            [
             0.7,
             "#b8e186"
            ],
            [
             0.8,
             "#7fbc41"
            ],
            [
             0.9,
             "#4d9221"
            ],
            [
             1,
             "#276419"
            ]
           ],
           "sequential": [
            [
             0,
             "#0d0887"
            ],
            [
             0.1111111111111111,
             "#46039f"
            ],
            [
             0.2222222222222222,
             "#7201a8"
            ],
            [
             0.3333333333333333,
             "#9c179e"
            ],
            [
             0.4444444444444444,
             "#bd3786"
            ],
            [
             0.5555555555555556,
             "#d8576b"
            ],
            [
             0.6666666666666666,
             "#ed7953"
            ],
            [
             0.7777777777777778,
             "#fb9f3a"
            ],
            [
             0.8888888888888888,
             "#fdca26"
            ],
            [
             1,
             "#f0f921"
            ]
           ],
           "sequentialminus": [
            [
             0,
             "#0d0887"
            ],
            [
             0.1111111111111111,
             "#46039f"
            ],
            [
             0.2222222222222222,
             "#7201a8"
            ],
            [
             0.3333333333333333,
             "#9c179e"
            ],
            [
             0.4444444444444444,
             "#bd3786"
            ],
            [
             0.5555555555555556,
             "#d8576b"
            ],
            [
             0.6666666666666666,
             "#ed7953"
            ],
            [
             0.7777777777777778,
             "#fb9f3a"
            ],
            [
             0.8888888888888888,
             "#fdca26"
            ],
            [
             1,
             "#f0f921"
            ]
           ]
          },
          "colorway": [
           "#636efa",
           "#EF553B",
           "#00cc96",
           "#ab63fa",
           "#FFA15A",
           "#19d3f3",
           "#FF6692",
           "#B6E880",
           "#FF97FF",
           "#FECB52"
          ],
          "font": {
           "color": "#2a3f5f"
          },
          "geo": {
           "bgcolor": "white",
           "lakecolor": "white",
           "landcolor": "#E5ECF6",
           "showlakes": true,
           "showland": true,
           "subunitcolor": "white"
          },
          "hoverlabel": {
           "align": "left"
          },
          "hovermode": "closest",
          "mapbox": {
           "style": "light"
          },
          "paper_bgcolor": "white",
          "plot_bgcolor": "#E5ECF6",
          "polar": {
           "angularaxis": {
            "gridcolor": "white",
            "linecolor": "white",
            "ticks": ""
           },
           "bgcolor": "#E5ECF6",
           "radialaxis": {
            "gridcolor": "white",
            "linecolor": "white",
            "ticks": ""
           }
          },
          "scene": {
           "xaxis": {
            "backgroundcolor": "#E5ECF6",
            "gridcolor": "white",
            "gridwidth": 2,
            "linecolor": "white",
            "showbackground": true,
            "ticks": "",
            "zerolinecolor": "white"
           },
           "yaxis": {
            "backgroundcolor": "#E5ECF6",
            "gridcolor": "white",
            "gridwidth": 2,
            "linecolor": "white",
            "showbackground": true,
            "ticks": "",
            "zerolinecolor": "white"
           },
           "zaxis": {
            "backgroundcolor": "#E5ECF6",
            "gridcolor": "white",
            "gridwidth": 2,
            "linecolor": "white",
            "showbackground": true,
            "ticks": "",
            "zerolinecolor": "white"
           }
          },
          "shapedefaults": {
           "line": {
            "color": "#2a3f5f"
           }
          },
          "ternary": {
           "aaxis": {
            "gridcolor": "white",
            "linecolor": "white",
            "ticks": ""
           },
           "baxis": {
            "gridcolor": "white",
            "linecolor": "white",
            "ticks": ""
           },
           "bgcolor": "#E5ECF6",
           "caxis": {
            "gridcolor": "white",
            "linecolor": "white",
            "ticks": ""
           }
          },
          "title": {
           "x": 0.05
          },
          "xaxis": {
           "automargin": true,
           "gridcolor": "white",
           "linecolor": "white",
           "ticks": "",
           "title": {
            "standoff": 15
           },
           "zerolinecolor": "white",
           "zerolinewidth": 2
          },
          "yaxis": {
           "automargin": true,
           "gridcolor": "white",
           "linecolor": "white",
           "ticks": "",
           "title": {
            "standoff": 15
           },
           "zerolinecolor": "white",
           "zerolinewidth": 2
          }
         }
        },
        "xaxis": {
         "anchor": "y",
         "domain": [
          0,
          1
         ],
         "title": {
          "text": "index"
         }
        },
        "yaxis": {
         "anchor": "x",
         "domain": [
          0,
          1
         ],
         "title": {
          "text": "value"
         }
        }
       }
      }
     },
     "metadata": {},
     "output_type": "display_data"
    }
   ],
   "source": [
    "px.line(metodos_sensibilidades.T)"
   ]
  },
  {
   "cell_type": "markdown",
   "metadata": {},
   "source": [
    "## Métodos NIRvsSecadero"
   ]
  },
  {
   "cell_type": "code",
   "execution_count": 110,
   "metadata": {},
   "outputs": [
    {
     "data": {
      "text/html": [
       "<div>\n",
       "<style scoped>\n",
       "    .dataframe tbody tr th:only-of-type {\n",
       "        vertical-align: middle;\n",
       "    }\n",
       "\n",
       "    .dataframe tbody tr th {\n",
       "        vertical-align: top;\n",
       "    }\n",
       "\n",
       "    .dataframe thead th {\n",
       "        text-align: right;\n",
       "    }\n",
       "</style>\n",
       "<table border=\"1\" class=\"dataframe\">\n",
       "  <thead>\n",
       "    <tr style=\"text-align: right;\">\n",
       "      <th></th>\n",
       "      <th>Negro</th>\n",
       "      <th>Congelado</th>\n",
       "      <th>Hum</th>\n",
       "      <th>Anomalia</th>\n",
       "      <th>IForest</th>\n",
       "      <th>MAD</th>\n",
       "    </tr>\n",
       "    <tr>\n",
       "      <th>fecha</th>\n",
       "      <th></th>\n",
       "      <th></th>\n",
       "      <th></th>\n",
       "      <th></th>\n",
       "      <th></th>\n",
       "      <th></th>\n",
       "    </tr>\n",
       "  </thead>\n",
       "  <tbody>\n",
       "    <tr>\n",
       "      <th>2021-09-25 06:51:00</th>\n",
       "      <td>0</td>\n",
       "      <td>0</td>\n",
       "      <td>0</td>\n",
       "      <td>0</td>\n",
       "      <td>0</td>\n",
       "      <td>0</td>\n",
       "    </tr>\n",
       "    <tr>\n",
       "      <th>2021-06-20 02:11:00</th>\n",
       "      <td>0</td>\n",
       "      <td>0</td>\n",
       "      <td>0</td>\n",
       "      <td>0</td>\n",
       "      <td>0</td>\n",
       "      <td>0</td>\n",
       "    </tr>\n",
       "    <tr>\n",
       "      <th>2021-04-17 02:33:00</th>\n",
       "      <td>0</td>\n",
       "      <td>0</td>\n",
       "      <td>0</td>\n",
       "      <td>0</td>\n",
       "      <td>0</td>\n",
       "      <td>0</td>\n",
       "    </tr>\n",
       "    <tr>\n",
       "      <th>2021-06-25 20:59:00</th>\n",
       "      <td>0</td>\n",
       "      <td>0</td>\n",
       "      <td>0</td>\n",
       "      <td>0</td>\n",
       "      <td>0</td>\n",
       "      <td>0</td>\n",
       "    </tr>\n",
       "    <tr>\n",
       "      <th>2021-03-17 22:22:00</th>\n",
       "      <td>0</td>\n",
       "      <td>0</td>\n",
       "      <td>0</td>\n",
       "      <td>0</td>\n",
       "      <td>0</td>\n",
       "      <td>0</td>\n",
       "    </tr>\n",
       "  </tbody>\n",
       "</table>\n",
       "</div>"
      ],
      "text/plain": [
       "                     Negro  Congelado  Hum  Anomalia  IForest  MAD\n",
       "fecha                                                             \n",
       "2021-09-25 06:51:00      0          0    0         0        0    0\n",
       "2021-06-20 02:11:00      0          0    0         0        0    0\n",
       "2021-04-17 02:33:00      0          0    0         0        0    0\n",
       "2021-06-25 20:59:00      0          0    0         0        0    0\n",
       "2021-03-17 22:22:00      0          0    0         0        0    0"
      ]
     },
     "execution_count": 110,
     "metadata": {},
     "output_type": "execute_result"
    }
   ],
   "source": [
    "metodos_NvS = pd.read_csv('Metodos_NIRvsSecadero/Thresholds/Resultados/PyOD_IForest_completo.csv',index_col='fecha')\n",
    "metodos_NvS = metodos_NvS.drop('Y_pred', axis=1)\n",
    "\n",
    "metodos_NvS['IForest'] = pd.read_csv('Metodos_NIRvsSecadero/Thresholds/Resultados/PyOD_IForest_completo.csv',usecols=['fecha','Y_pred'],index_col='fecha')\n",
    "metodos_NvS['MAD'] = pd.read_csv('Metodos_NIRvsSecadero/Thresholds/Resultados/PyOD_MAD_completo.csv',usecols=['fecha','Y_pred'],index_col='fecha')\n",
    "\n",
    "metodos_NvS_htm = pd.read_csv('Metodos_NIRvsSecadero/Thresholds/HTM_Uni/HTM_completo.csv',index_col='fecha')\n",
    "metodos_NvS_htm['HTM'] = metodos_NvS_htm['Y_pred']\n",
    "metodos_NvS_htm = metodos_NvS_htm.drop('Y_pred',axis=1)\n",
    "\n",
    "metodos_NvS.head()"
   ]
  },
  {
   "cell_type": "markdown",
   "metadata": {},
   "source": []
  },
  {
   "cell_type": "markdown",
   "metadata": {},
   "source": [
    "### Métricas generales:"
   ]
  },
  {
   "cell_type": "code",
   "execution_count": 111,
   "metadata": {},
   "outputs": [
    {
     "data": {
      "text/html": [
       "<div>\n",
       "<style scoped>\n",
       "    .dataframe tbody tr th:only-of-type {\n",
       "        vertical-align: middle;\n",
       "    }\n",
       "\n",
       "    .dataframe tbody tr th {\n",
       "        vertical-align: top;\n",
       "    }\n",
       "\n",
       "    .dataframe thead th {\n",
       "        text-align: right;\n",
       "    }\n",
       "</style>\n",
       "<table border=\"1\" class=\"dataframe\">\n",
       "  <thead>\n",
       "    <tr style=\"text-align: right;\">\n",
       "      <th></th>\n",
       "      <th>roc_auc</th>\n",
       "      <th>accuracy</th>\n",
       "      <th>precision</th>\n",
       "      <th>kappa</th>\n",
       "      <th>sensibilidad</th>\n",
       "      <th>especificidad</th>\n",
       "    </tr>\n",
       "  </thead>\n",
       "  <tbody>\n",
       "    <tr>\n",
       "      <th>IForest</th>\n",
       "      <td>0.843548</td>\n",
       "      <td>0.93666</td>\n",
       "      <td>0.596202</td>\n",
       "      <td>0.622636</td>\n",
       "      <td>0.731922</td>\n",
       "      <td>0.955174</td>\n",
       "    </tr>\n",
       "    <tr>\n",
       "      <th>MAD</th>\n",
       "      <td>0.847577</td>\n",
       "      <td>0.935122</td>\n",
       "      <td>0.585851</td>\n",
       "      <td>0.619732</td>\n",
       "      <td>0.742626</td>\n",
       "      <td>0.952528</td>\n",
       "    </tr>\n",
       "  </tbody>\n",
       "</table>\n",
       "</div>"
      ],
      "text/plain": [
       "          roc_auc  accuracy precision     kappa sensibilidad especificidad\n",
       "IForest  0.843548   0.93666  0.596202  0.622636     0.731922      0.955174\n",
       "MAD      0.847577  0.935122  0.585851  0.619732     0.742626      0.952528"
      ]
     },
     "execution_count": 111,
     "metadata": {},
     "output_type": "execute_result"
    }
   ],
   "source": [
    "metodos_NvS_lista = ['IForest','MAD']\n",
    "metodos_NvS_metricas = calc_metricas(metodos_NvS,['IForest','MAD'])\n",
    "metodos_NvS_metricas"
   ]
  },
  {
   "cell_type": "code",
   "execution_count": 112,
   "metadata": {},
   "outputs": [
    {
     "data": {
      "text/html": [
       "<div>\n",
       "<style scoped>\n",
       "    .dataframe tbody tr th:only-of-type {\n",
       "        vertical-align: middle;\n",
       "    }\n",
       "\n",
       "    .dataframe tbody tr th {\n",
       "        vertical-align: top;\n",
       "    }\n",
       "\n",
       "    .dataframe thead th {\n",
       "        text-align: right;\n",
       "    }\n",
       "</style>\n",
       "<table border=\"1\" class=\"dataframe\">\n",
       "  <thead>\n",
       "    <tr style=\"text-align: right;\">\n",
       "      <th></th>\n",
       "      <th>roc_auc</th>\n",
       "      <th>accuracy</th>\n",
       "      <th>precision</th>\n",
       "      <th>kappa</th>\n",
       "      <th>sensibilidad</th>\n",
       "      <th>especificidad</th>\n",
       "    </tr>\n",
       "  </thead>\n",
       "  <tbody>\n",
       "    <tr>\n",
       "      <th>IForest</th>\n",
       "      <td>0.843548</td>\n",
       "      <td>0.93666</td>\n",
       "      <td>0.596202</td>\n",
       "      <td>0.622636</td>\n",
       "      <td>0.731922</td>\n",
       "      <td>0.955174</td>\n",
       "    </tr>\n",
       "    <tr>\n",
       "      <th>MAD</th>\n",
       "      <td>0.847577</td>\n",
       "      <td>0.935122</td>\n",
       "      <td>0.585851</td>\n",
       "      <td>0.619732</td>\n",
       "      <td>0.742626</td>\n",
       "      <td>0.952528</td>\n",
       "    </tr>\n",
       "  </tbody>\n",
       "</table>\n",
       "</div>"
      ],
      "text/plain": [
       "          roc_auc  accuracy precision     kappa sensibilidad especificidad\n",
       "IForest  0.843548   0.93666  0.596202  0.622636     0.731922      0.955174\n",
       "MAD      0.847577  0.935122  0.585851  0.619732     0.742626      0.952528"
      ]
     },
     "execution_count": 112,
     "metadata": {},
     "output_type": "execute_result"
    }
   ],
   "source": [
    "metodos_NvS_metricas = calc_metricas(metodos_NvS, metodos_NvS_lista)\n",
    "metodos_NvS_metricas"
   ]
  },
  {
   "cell_type": "code",
   "execution_count": 113,
   "metadata": {},
   "outputs": [
    {
     "data": {
      "application/vnd.plotly.v1+json": {
       "config": {
        "plotlyServerURL": "https://plot.ly"
       },
       "data": [
        {
         "hovertemplate": "variable=IForest<br>index=%{x}<br>value=%{y}<extra></extra>",
         "legendgroup": "IForest",
         "line": {
          "color": "#636efa",
          "dash": "solid"
         },
         "marker": {
          "symbol": "circle"
         },
         "mode": "lines",
         "name": "IForest",
         "orientation": "v",
         "showlegend": true,
         "type": "scatter",
         "x": [
          "roc_auc",
          "accuracy",
          "precision",
          "kappa",
          "sensibilidad",
          "especificidad"
         ],
         "xaxis": "x",
         "y": [
          0.8435480493948257,
          0.936660420159779,
          0.5962022863786088,
          0.6226359349837542,
          0.7319219790675547,
          0.9551741197220968
         ],
         "yaxis": "y"
        },
        {
         "hovertemplate": "variable=MAD<br>index=%{x}<br>value=%{y}<extra></extra>",
         "legendgroup": "MAD",
         "line": {
          "color": "#EF553B",
          "dash": "solid"
         },
         "marker": {
          "symbol": "circle"
         },
         "mode": "lines",
         "name": "MAD",
         "orientation": "v",
         "showlegend": true,
         "type": "scatter",
         "x": [
          "roc_auc",
          "accuracy",
          "precision",
          "kappa",
          "sensibilidad",
          "especificidad"
         ],
         "xaxis": "x",
         "y": [
          0.8475772583875487,
          0.9351218068843081,
          0.5858510039407018,
          0.6197318902691553,
          0.7426260704091342,
          0.9525284463659633
         ],
         "yaxis": "y"
        }
       ],
       "layout": {
        "legend": {
         "title": {
          "text": "variable"
         },
         "tracegroupgap": 0
        },
        "margin": {
         "t": 60
        },
        "template": {
         "data": {
          "bar": [
           {
            "error_x": {
             "color": "#2a3f5f"
            },
            "error_y": {
             "color": "#2a3f5f"
            },
            "marker": {
             "line": {
              "color": "#E5ECF6",
              "width": 0.5
             },
             "pattern": {
              "fillmode": "overlay",
              "size": 10,
              "solidity": 0.2
             }
            },
            "type": "bar"
           }
          ],
          "barpolar": [
           {
            "marker": {
             "line": {
              "color": "#E5ECF6",
              "width": 0.5
             },
             "pattern": {
              "fillmode": "overlay",
              "size": 10,
              "solidity": 0.2
             }
            },
            "type": "barpolar"
           }
          ],
          "carpet": [
           {
            "aaxis": {
             "endlinecolor": "#2a3f5f",
             "gridcolor": "white",
             "linecolor": "white",
             "minorgridcolor": "white",
             "startlinecolor": "#2a3f5f"
            },
            "baxis": {
             "endlinecolor": "#2a3f5f",
             "gridcolor": "white",
             "linecolor": "white",
             "minorgridcolor": "white",
             "startlinecolor": "#2a3f5f"
            },
            "type": "carpet"
           }
          ],
          "choropleth": [
           {
            "colorbar": {
             "outlinewidth": 0,
             "ticks": ""
            },
            "type": "choropleth"
           }
          ],
          "contour": [
           {
            "colorbar": {
             "outlinewidth": 0,
             "ticks": ""
            },
            "colorscale": [
             [
              0,
              "#0d0887"
             ],
             [
              0.1111111111111111,
              "#46039f"
             ],
             [
              0.2222222222222222,
              "#7201a8"
             ],
             [
              0.3333333333333333,
              "#9c179e"
             ],
             [
              0.4444444444444444,
              "#bd3786"
             ],
             [
              0.5555555555555556,
              "#d8576b"
             ],
             [
              0.6666666666666666,
              "#ed7953"
             ],
             [
              0.7777777777777778,
              "#fb9f3a"
             ],
             [
              0.8888888888888888,
              "#fdca26"
             ],
             [
              1,
              "#f0f921"
             ]
            ],
            "type": "contour"
           }
          ],
          "contourcarpet": [
           {
            "colorbar": {
             "outlinewidth": 0,
             "ticks": ""
            },
            "type": "contourcarpet"
           }
          ],
          "heatmap": [
           {
            "colorbar": {
             "outlinewidth": 0,
             "ticks": ""
            },
            "colorscale": [
             [
              0,
              "#0d0887"
             ],
             [
              0.1111111111111111,
              "#46039f"
             ],
             [
              0.2222222222222222,
              "#7201a8"
             ],
             [
              0.3333333333333333,
              "#9c179e"
             ],
             [
              0.4444444444444444,
              "#bd3786"
             ],
             [
              0.5555555555555556,
              "#d8576b"
             ],
             [
              0.6666666666666666,
              "#ed7953"
             ],
             [
              0.7777777777777778,
              "#fb9f3a"
             ],
             [
              0.8888888888888888,
              "#fdca26"
             ],
             [
              1,
              "#f0f921"
             ]
            ],
            "type": "heatmap"
           }
          ],
          "heatmapgl": [
           {
            "colorbar": {
             "outlinewidth": 0,
             "ticks": ""
            },
            "colorscale": [
             [
              0,
              "#0d0887"
             ],
             [
              0.1111111111111111,
              "#46039f"
             ],
             [
              0.2222222222222222,
              "#7201a8"
             ],
             [
              0.3333333333333333,
              "#9c179e"
             ],
             [
              0.4444444444444444,
              "#bd3786"
             ],
             [
              0.5555555555555556,
              "#d8576b"
             ],
             [
              0.6666666666666666,
              "#ed7953"
             ],
             [
              0.7777777777777778,
              "#fb9f3a"
             ],
             [
              0.8888888888888888,
              "#fdca26"
             ],
             [
              1,
              "#f0f921"
             ]
            ],
            "type": "heatmapgl"
           }
          ],
          "histogram": [
           {
            "marker": {
             "pattern": {
              "fillmode": "overlay",
              "size": 10,
              "solidity": 0.2
             }
            },
            "type": "histogram"
           }
          ],
          "histogram2d": [
           {
            "colorbar": {
             "outlinewidth": 0,
             "ticks": ""
            },
            "colorscale": [
             [
              0,
              "#0d0887"
             ],
             [
              0.1111111111111111,
              "#46039f"
             ],
             [
              0.2222222222222222,
              "#7201a8"
             ],
             [
              0.3333333333333333,
              "#9c179e"
             ],
             [
              0.4444444444444444,
              "#bd3786"
             ],
             [
              0.5555555555555556,
              "#d8576b"
             ],
             [
              0.6666666666666666,
              "#ed7953"
             ],
             [
              0.7777777777777778,
              "#fb9f3a"
             ],
             [
              0.8888888888888888,
              "#fdca26"
             ],
             [
              1,
              "#f0f921"
             ]
            ],
            "type": "histogram2d"
           }
          ],
          "histogram2dcontour": [
           {
            "colorbar": {
             "outlinewidth": 0,
             "ticks": ""
            },
            "colorscale": [
             [
              0,
              "#0d0887"
             ],
             [
              0.1111111111111111,
              "#46039f"
             ],
             [
              0.2222222222222222,
              "#7201a8"
             ],
             [
              0.3333333333333333,
              "#9c179e"
             ],
             [
              0.4444444444444444,
              "#bd3786"
             ],
             [
              0.5555555555555556,
              "#d8576b"
             ],
             [
              0.6666666666666666,
              "#ed7953"
             ],
             [
              0.7777777777777778,
              "#fb9f3a"
             ],
             [
              0.8888888888888888,
              "#fdca26"
             ],
             [
              1,
              "#f0f921"
             ]
            ],
            "type": "histogram2dcontour"
           }
          ],
          "mesh3d": [
           {
            "colorbar": {
             "outlinewidth": 0,
             "ticks": ""
            },
            "type": "mesh3d"
           }
          ],
          "parcoords": [
           {
            "line": {
             "colorbar": {
              "outlinewidth": 0,
              "ticks": ""
             }
            },
            "type": "parcoords"
           }
          ],
          "pie": [
           {
            "automargin": true,
            "type": "pie"
           }
          ],
          "scatter": [
           {
            "fillpattern": {
             "fillmode": "overlay",
             "size": 10,
             "solidity": 0.2
            },
            "type": "scatter"
           }
          ],
          "scatter3d": [
           {
            "line": {
             "colorbar": {
              "outlinewidth": 0,
              "ticks": ""
             }
            },
            "marker": {
             "colorbar": {
              "outlinewidth": 0,
              "ticks": ""
             }
            },
            "type": "scatter3d"
           }
          ],
          "scattercarpet": [
           {
            "marker": {
             "colorbar": {
              "outlinewidth": 0,
              "ticks": ""
             }
            },
            "type": "scattercarpet"
           }
          ],
          "scattergeo": [
           {
            "marker": {
             "colorbar": {
              "outlinewidth": 0,
              "ticks": ""
             }
            },
            "type": "scattergeo"
           }
          ],
          "scattergl": [
           {
            "marker": {
             "colorbar": {
              "outlinewidth": 0,
              "ticks": ""
             }
            },
            "type": "scattergl"
           }
          ],
          "scattermapbox": [
           {
            "marker": {
             "colorbar": {
              "outlinewidth": 0,
              "ticks": ""
             }
            },
            "type": "scattermapbox"
           }
          ],
          "scatterpolar": [
           {
            "marker": {
             "colorbar": {
              "outlinewidth": 0,
              "ticks": ""
             }
            },
            "type": "scatterpolar"
           }
          ],
          "scatterpolargl": [
           {
            "marker": {
             "colorbar": {
              "outlinewidth": 0,
              "ticks": ""
             }
            },
            "type": "scatterpolargl"
           }
          ],
          "scatterternary": [
           {
            "marker": {
             "colorbar": {
              "outlinewidth": 0,
              "ticks": ""
             }
            },
            "type": "scatterternary"
           }
          ],
          "surface": [
           {
            "colorbar": {
             "outlinewidth": 0,
             "ticks": ""
            },
            "colorscale": [
             [
              0,
              "#0d0887"
             ],
             [
              0.1111111111111111,
              "#46039f"
             ],
             [
              0.2222222222222222,
              "#7201a8"
             ],
             [
              0.3333333333333333,
              "#9c179e"
             ],
             [
              0.4444444444444444,
              "#bd3786"
             ],
             [
              0.5555555555555556,
              "#d8576b"
             ],
             [
              0.6666666666666666,
              "#ed7953"
             ],
             [
              0.7777777777777778,
              "#fb9f3a"
             ],
             [
              0.8888888888888888,
              "#fdca26"
             ],
             [
              1,
              "#f0f921"
             ]
            ],
            "type": "surface"
           }
          ],
          "table": [
           {
            "cells": {
             "fill": {
              "color": "#EBF0F8"
             },
             "line": {
              "color": "white"
             }
            },
            "header": {
             "fill": {
              "color": "#C8D4E3"
             },
             "line": {
              "color": "white"
             }
            },
            "type": "table"
           }
          ]
         },
         "layout": {
          "annotationdefaults": {
           "arrowcolor": "#2a3f5f",
           "arrowhead": 0,
           "arrowwidth": 1
          },
          "autotypenumbers": "strict",
          "coloraxis": {
           "colorbar": {
            "outlinewidth": 0,
            "ticks": ""
           }
          },
          "colorscale": {
           "diverging": [
            [
             0,
             "#8e0152"
            ],
            [
             0.1,
             "#c51b7d"
            ],
            [
             0.2,
             "#de77ae"
            ],
            [
             0.3,
             "#f1b6da"
            ],
            [
             0.4,
             "#fde0ef"
            ],
            [
             0.5,
             "#f7f7f7"
            ],
            [
             0.6,
             "#e6f5d0"
            ],
            [
             0.7,
             "#b8e186"
            ],
            [
             0.8,
             "#7fbc41"
            ],
            [
             0.9,
             "#4d9221"
            ],
            [
             1,
             "#276419"
            ]
           ],
           "sequential": [
            [
             0,
             "#0d0887"
            ],
            [
             0.1111111111111111,
             "#46039f"
            ],
            [
             0.2222222222222222,
             "#7201a8"
            ],
            [
             0.3333333333333333,
             "#9c179e"
            ],
            [
             0.4444444444444444,
             "#bd3786"
            ],
            [
             0.5555555555555556,
             "#d8576b"
            ],
            [
             0.6666666666666666,
             "#ed7953"
            ],
            [
             0.7777777777777778,
             "#fb9f3a"
            ],
            [
             0.8888888888888888,
             "#fdca26"
            ],
            [
             1,
             "#f0f921"
            ]
           ],
           "sequentialminus": [
            [
             0,
             "#0d0887"
            ],
            [
             0.1111111111111111,
             "#46039f"
            ],
            [
             0.2222222222222222,
             "#7201a8"
            ],
            [
             0.3333333333333333,
             "#9c179e"
            ],
            [
             0.4444444444444444,
             "#bd3786"
            ],
            [
             0.5555555555555556,
             "#d8576b"
            ],
            [
             0.6666666666666666,
             "#ed7953"
            ],
            [
             0.7777777777777778,
             "#fb9f3a"
            ],
            [
             0.8888888888888888,
             "#fdca26"
            ],
            [
             1,
             "#f0f921"
            ]
           ]
          },
          "colorway": [
           "#636efa",
           "#EF553B",
           "#00cc96",
           "#ab63fa",
           "#FFA15A",
           "#19d3f3",
           "#FF6692",
           "#B6E880",
           "#FF97FF",
           "#FECB52"
          ],
          "font": {
           "color": "#2a3f5f"
          },
          "geo": {
           "bgcolor": "white",
           "lakecolor": "white",
           "landcolor": "#E5ECF6",
           "showlakes": true,
           "showland": true,
           "subunitcolor": "white"
          },
          "hoverlabel": {
           "align": "left"
          },
          "hovermode": "closest",
          "mapbox": {
           "style": "light"
          },
          "paper_bgcolor": "white",
          "plot_bgcolor": "#E5ECF6",
          "polar": {
           "angularaxis": {
            "gridcolor": "white",
            "linecolor": "white",
            "ticks": ""
           },
           "bgcolor": "#E5ECF6",
           "radialaxis": {
            "gridcolor": "white",
            "linecolor": "white",
            "ticks": ""
           }
          },
          "scene": {
           "xaxis": {
            "backgroundcolor": "#E5ECF6",
            "gridcolor": "white",
            "gridwidth": 2,
            "linecolor": "white",
            "showbackground": true,
            "ticks": "",
            "zerolinecolor": "white"
           },
           "yaxis": {
            "backgroundcolor": "#E5ECF6",
            "gridcolor": "white",
            "gridwidth": 2,
            "linecolor": "white",
            "showbackground": true,
            "ticks": "",
            "zerolinecolor": "white"
           },
           "zaxis": {
            "backgroundcolor": "#E5ECF6",
            "gridcolor": "white",
            "gridwidth": 2,
            "linecolor": "white",
            "showbackground": true,
            "ticks": "",
            "zerolinecolor": "white"
           }
          },
          "shapedefaults": {
           "line": {
            "color": "#2a3f5f"
           }
          },
          "ternary": {
           "aaxis": {
            "gridcolor": "white",
            "linecolor": "white",
            "ticks": ""
           },
           "baxis": {
            "gridcolor": "white",
            "linecolor": "white",
            "ticks": ""
           },
           "bgcolor": "#E5ECF6",
           "caxis": {
            "gridcolor": "white",
            "linecolor": "white",
            "ticks": ""
           }
          },
          "title": {
           "x": 0.05
          },
          "xaxis": {
           "automargin": true,
           "gridcolor": "white",
           "linecolor": "white",
           "ticks": "",
           "title": {
            "standoff": 15
           },
           "zerolinecolor": "white",
           "zerolinewidth": 2
          },
          "yaxis": {
           "automargin": true,
           "gridcolor": "white",
           "linecolor": "white",
           "ticks": "",
           "title": {
            "standoff": 15
           },
           "zerolinecolor": "white",
           "zerolinewidth": 2
          }
         }
        },
        "xaxis": {
         "anchor": "y",
         "domain": [
          0,
          1
         ],
         "title": {
          "text": "index"
         }
        },
        "yaxis": {
         "anchor": "x",
         "domain": [
          0,
          1
         ],
         "title": {
          "text": "value"
         }
        }
       }
      }
     },
     "metadata": {},
     "output_type": "display_data"
    }
   ],
   "source": [
    "px.line(metodos_NvS_metricas.T)"
   ]
  },
  {
   "cell_type": "markdown",
   "metadata": {},
   "source": [
    "### Sensibilidad por tipo de anomalía"
   ]
  },
  {
   "cell_type": "code",
   "execution_count": 114,
   "metadata": {},
   "outputs": [
    {
     "data": {
      "text/html": [
       "<div>\n",
       "<style scoped>\n",
       "    .dataframe tbody tr th:only-of-type {\n",
       "        vertical-align: middle;\n",
       "    }\n",
       "\n",
       "    .dataframe tbody tr th {\n",
       "        vertical-align: top;\n",
       "    }\n",
       "\n",
       "    .dataframe thead th {\n",
       "        text-align: right;\n",
       "    }\n",
       "</style>\n",
       "<table border=\"1\" class=\"dataframe\">\n",
       "  <thead>\n",
       "    <tr style=\"text-align: right;\">\n",
       "      <th></th>\n",
       "      <th>Anomalia</th>\n",
       "      <th>Negro</th>\n",
       "      <th>Congelado</th>\n",
       "      <th>Hum</th>\n",
       "    </tr>\n",
       "  </thead>\n",
       "  <tbody>\n",
       "    <tr>\n",
       "      <th>IForest</th>\n",
       "      <td>0.731922</td>\n",
       "      <td>0.812044</td>\n",
       "      <td>0.903509</td>\n",
       "      <td>0.096774</td>\n",
       "    </tr>\n",
       "    <tr>\n",
       "      <th>MAD</th>\n",
       "      <td>0.742626</td>\n",
       "      <td>0.82599</td>\n",
       "      <td>0.903834</td>\n",
       "      <td>0.09319</td>\n",
       "    </tr>\n",
       "  </tbody>\n",
       "</table>\n",
       "</div>"
      ],
      "text/plain": [
       "         Anomalia     Negro Congelado       Hum\n",
       "IForest  0.731922  0.812044  0.903509  0.096774\n",
       "MAD      0.742626   0.82599  0.903834   0.09319"
      ]
     },
     "execution_count": 114,
     "metadata": {},
     "output_type": "execute_result"
    }
   ],
   "source": [
    "metodos_NvS_sensibilidades = calc_sensibilidad(metodos_NvS,metodos_NvS_lista,anomalias)\n",
    "metodos_NvS_sensibilidades"
   ]
  },
  {
   "cell_type": "code",
   "execution_count": 115,
   "metadata": {},
   "outputs": [
    {
     "data": {
      "application/vnd.plotly.v1+json": {
       "config": {
        "plotlyServerURL": "https://plot.ly"
       },
       "data": [
        {
         "hovertemplate": "variable=IForest<br>index=%{x}<br>value=%{y}<extra></extra>",
         "legendgroup": "IForest",
         "line": {
          "color": "#636efa",
          "dash": "solid"
         },
         "marker": {
          "symbol": "circle"
         },
         "mode": "lines",
         "name": "IForest",
         "orientation": "v",
         "showlegend": true,
         "type": "scatter",
         "x": [
          "Anomalia",
          "Negro",
          "Congelado",
          "Hum"
         ],
         "xaxis": "x",
         "y": [
          0.7319219790675547,
          0.8120443740095087,
          0.9035087719298246,
          0.0967741935483871
         ],
         "yaxis": "y"
        },
        {
         "hovertemplate": "variable=MAD<br>index=%{x}<br>value=%{y}<extra></extra>",
         "legendgroup": "MAD",
         "line": {
          "color": "#EF553B",
          "dash": "solid"
         },
         "marker": {
          "symbol": "circle"
         },
         "mode": "lines",
         "name": "MAD",
         "orientation": "v",
         "showlegend": true,
         "type": "scatter",
         "x": [
          "Anomalia",
          "Negro",
          "Congelado",
          "Hum"
         ],
         "xaxis": "x",
         "y": [
          0.7426260704091342,
          0.8259904912836767,
          0.9038336582196231,
          0.0931899641577061
         ],
         "yaxis": "y"
        }
       ],
       "layout": {
        "legend": {
         "title": {
          "text": "variable"
         },
         "tracegroupgap": 0
        },
        "margin": {
         "t": 60
        },
        "template": {
         "data": {
          "bar": [
           {
            "error_x": {
             "color": "#2a3f5f"
            },
            "error_y": {
             "color": "#2a3f5f"
            },
            "marker": {
             "line": {
              "color": "#E5ECF6",
              "width": 0.5
             },
             "pattern": {
              "fillmode": "overlay",
              "size": 10,
              "solidity": 0.2
             }
            },
            "type": "bar"
           }
          ],
          "barpolar": [
           {
            "marker": {
             "line": {
              "color": "#E5ECF6",
              "width": 0.5
             },
             "pattern": {
              "fillmode": "overlay",
              "size": 10,
              "solidity": 0.2
             }
            },
            "type": "barpolar"
           }
          ],
          "carpet": [
           {
            "aaxis": {
             "endlinecolor": "#2a3f5f",
             "gridcolor": "white",
             "linecolor": "white",
             "minorgridcolor": "white",
             "startlinecolor": "#2a3f5f"
            },
            "baxis": {
             "endlinecolor": "#2a3f5f",
             "gridcolor": "white",
             "linecolor": "white",
             "minorgridcolor": "white",
             "startlinecolor": "#2a3f5f"
            },
            "type": "carpet"
           }
          ],
          "choropleth": [
           {
            "colorbar": {
             "outlinewidth": 0,
             "ticks": ""
            },
            "type": "choropleth"
           }
          ],
          "contour": [
           {
            "colorbar": {
             "outlinewidth": 0,
             "ticks": ""
            },
            "colorscale": [
             [
              0,
              "#0d0887"
             ],
             [
              0.1111111111111111,
              "#46039f"
             ],
             [
              0.2222222222222222,
              "#7201a8"
             ],
             [
              0.3333333333333333,
              "#9c179e"
             ],
             [
              0.4444444444444444,
              "#bd3786"
             ],
             [
              0.5555555555555556,
              "#d8576b"
             ],
             [
              0.6666666666666666,
              "#ed7953"
             ],
             [
              0.7777777777777778,
              "#fb9f3a"
             ],
             [
              0.8888888888888888,
              "#fdca26"
             ],
             [
              1,
              "#f0f921"
             ]
            ],
            "type": "contour"
           }
          ],
          "contourcarpet": [
           {
            "colorbar": {
             "outlinewidth": 0,
             "ticks": ""
            },
            "type": "contourcarpet"
           }
          ],
          "heatmap": [
           {
            "colorbar": {
             "outlinewidth": 0,
             "ticks": ""
            },
            "colorscale": [
             [
              0,
              "#0d0887"
             ],
             [
              0.1111111111111111,
              "#46039f"
             ],
             [
              0.2222222222222222,
              "#7201a8"
             ],
             [
              0.3333333333333333,
              "#9c179e"
             ],
             [
              0.4444444444444444,
              "#bd3786"
             ],
             [
              0.5555555555555556,
              "#d8576b"
             ],
             [
              0.6666666666666666,
              "#ed7953"
             ],
             [
              0.7777777777777778,
              "#fb9f3a"
             ],
             [
              0.8888888888888888,
              "#fdca26"
             ],
             [
              1,
              "#f0f921"
             ]
            ],
            "type": "heatmap"
           }
          ],
          "heatmapgl": [
           {
            "colorbar": {
             "outlinewidth": 0,
             "ticks": ""
            },
            "colorscale": [
             [
              0,
              "#0d0887"
             ],
             [
              0.1111111111111111,
              "#46039f"
             ],
             [
              0.2222222222222222,
              "#7201a8"
             ],
             [
              0.3333333333333333,
              "#9c179e"
             ],
             [
              0.4444444444444444,
              "#bd3786"
             ],
             [
              0.5555555555555556,
              "#d8576b"
             ],
             [
              0.6666666666666666,
              "#ed7953"
             ],
             [
              0.7777777777777778,
              "#fb9f3a"
             ],
             [
              0.8888888888888888,
              "#fdca26"
             ],
             [
              1,
              "#f0f921"
             ]
            ],
            "type": "heatmapgl"
           }
          ],
          "histogram": [
           {
            "marker": {
             "pattern": {
              "fillmode": "overlay",
              "size": 10,
              "solidity": 0.2
             }
            },
            "type": "histogram"
           }
          ],
          "histogram2d": [
           {
            "colorbar": {
             "outlinewidth": 0,
             "ticks": ""
            },
            "colorscale": [
             [
              0,
              "#0d0887"
             ],
             [
              0.1111111111111111,
              "#46039f"
             ],
             [
              0.2222222222222222,
              "#7201a8"
             ],
             [
              0.3333333333333333,
              "#9c179e"
             ],
             [
              0.4444444444444444,
              "#bd3786"
             ],
             [
              0.5555555555555556,
              "#d8576b"
             ],
             [
              0.6666666666666666,
              "#ed7953"
             ],
             [
              0.7777777777777778,
              "#fb9f3a"
             ],
             [
              0.8888888888888888,
              "#fdca26"
             ],
             [
              1,
              "#f0f921"
             ]
            ],
            "type": "histogram2d"
           }
          ],
          "histogram2dcontour": [
           {
            "colorbar": {
             "outlinewidth": 0,
             "ticks": ""
            },
            "colorscale": [
             [
              0,
              "#0d0887"
             ],
             [
              0.1111111111111111,
              "#46039f"
             ],
             [
              0.2222222222222222,
              "#7201a8"
             ],
             [
              0.3333333333333333,
              "#9c179e"
             ],
             [
              0.4444444444444444,
              "#bd3786"
             ],
             [
              0.5555555555555556,
              "#d8576b"
             ],
             [
              0.6666666666666666,
              "#ed7953"
             ],
             [
              0.7777777777777778,
              "#fb9f3a"
             ],
             [
              0.8888888888888888,
              "#fdca26"
             ],
             [
              1,
              "#f0f921"
             ]
            ],
            "type": "histogram2dcontour"
           }
          ],
          "mesh3d": [
           {
            "colorbar": {
             "outlinewidth": 0,
             "ticks": ""
            },
            "type": "mesh3d"
           }
          ],
          "parcoords": [
           {
            "line": {
             "colorbar": {
              "outlinewidth": 0,
              "ticks": ""
             }
            },
            "type": "parcoords"
           }
          ],
          "pie": [
           {
            "automargin": true,
            "type": "pie"
           }
          ],
          "scatter": [
           {
            "fillpattern": {
             "fillmode": "overlay",
             "size": 10,
             "solidity": 0.2
            },
            "type": "scatter"
           }
          ],
          "scatter3d": [
           {
            "line": {
             "colorbar": {
              "outlinewidth": 0,
              "ticks": ""
             }
            },
            "marker": {
             "colorbar": {
              "outlinewidth": 0,
              "ticks": ""
             }
            },
            "type": "scatter3d"
           }
          ],
          "scattercarpet": [
           {
            "marker": {
             "colorbar": {
              "outlinewidth": 0,
              "ticks": ""
             }
            },
            "type": "scattercarpet"
           }
          ],
          "scattergeo": [
           {
            "marker": {
             "colorbar": {
              "outlinewidth": 0,
              "ticks": ""
             }
            },
            "type": "scattergeo"
           }
          ],
          "scattergl": [
           {
            "marker": {
             "colorbar": {
              "outlinewidth": 0,
              "ticks": ""
             }
            },
            "type": "scattergl"
           }
          ],
          "scattermapbox": [
           {
            "marker": {
             "colorbar": {
              "outlinewidth": 0,
              "ticks": ""
             }
            },
            "type": "scattermapbox"
           }
          ],
          "scatterpolar": [
           {
            "marker": {
             "colorbar": {
              "outlinewidth": 0,
              "ticks": ""
             }
            },
            "type": "scatterpolar"
           }
          ],
          "scatterpolargl": [
           {
            "marker": {
             "colorbar": {
              "outlinewidth": 0,
              "ticks": ""
             }
            },
            "type": "scatterpolargl"
           }
          ],
          "scatterternary": [
           {
            "marker": {
             "colorbar": {
              "outlinewidth": 0,
              "ticks": ""
             }
            },
            "type": "scatterternary"
           }
          ],
          "surface": [
           {
            "colorbar": {
             "outlinewidth": 0,
             "ticks": ""
            },
            "colorscale": [
             [
              0,
              "#0d0887"
             ],
             [
              0.1111111111111111,
              "#46039f"
             ],
             [
              0.2222222222222222,
              "#7201a8"
             ],
             [
              0.3333333333333333,
              "#9c179e"
             ],
             [
              0.4444444444444444,
              "#bd3786"
             ],
             [
              0.5555555555555556,
              "#d8576b"
             ],
             [
              0.6666666666666666,
              "#ed7953"
             ],
             [
              0.7777777777777778,
              "#fb9f3a"
             ],
             [
              0.8888888888888888,
              "#fdca26"
             ],
             [
              1,
              "#f0f921"
             ]
            ],
            "type": "surface"
           }
          ],
          "table": [
           {
            "cells": {
             "fill": {
              "color": "#EBF0F8"
             },
             "line": {
              "color": "white"
             }
            },
            "header": {
             "fill": {
              "color": "#C8D4E3"
             },
             "line": {
              "color": "white"
             }
            },
            "type": "table"
           }
          ]
         },
         "layout": {
          "annotationdefaults": {
           "arrowcolor": "#2a3f5f",
           "arrowhead": 0,
           "arrowwidth": 1
          },
          "autotypenumbers": "strict",
          "coloraxis": {
           "colorbar": {
            "outlinewidth": 0,
            "ticks": ""
           }
          },
          "colorscale": {
           "diverging": [
            [
             0,
             "#8e0152"
            ],
            [
             0.1,
             "#c51b7d"
            ],
            [
             0.2,
             "#de77ae"
            ],
            [
             0.3,
             "#f1b6da"
            ],
            [
             0.4,
             "#fde0ef"
            ],
            [
             0.5,
             "#f7f7f7"
            ],
            [
             0.6,
             "#e6f5d0"
            ],
            [
             0.7,
             "#b8e186"
            ],
            [
             0.8,
             "#7fbc41"
            ],
            [
             0.9,
             "#4d9221"
            ],
            [
             1,
             "#276419"
            ]
           ],
           "sequential": [
            [
             0,
             "#0d0887"
            ],
            [
             0.1111111111111111,
             "#46039f"
            ],
            [
             0.2222222222222222,
             "#7201a8"
            ],
            [
             0.3333333333333333,
             "#9c179e"
            ],
            [
             0.4444444444444444,
             "#bd3786"
            ],
            [
             0.5555555555555556,
             "#d8576b"
            ],
            [
             0.6666666666666666,
             "#ed7953"
            ],
            [
             0.7777777777777778,
             "#fb9f3a"
            ],
            [
             0.8888888888888888,
             "#fdca26"
            ],
            [
             1,
             "#f0f921"
            ]
           ],
           "sequentialminus": [
            [
             0,
             "#0d0887"
            ],
            [
             0.1111111111111111,
             "#46039f"
            ],
            [
             0.2222222222222222,
             "#7201a8"
            ],
            [
             0.3333333333333333,
             "#9c179e"
            ],
            [
             0.4444444444444444,
             "#bd3786"
            ],
            [
             0.5555555555555556,
             "#d8576b"
            ],
            [
             0.6666666666666666,
             "#ed7953"
            ],
            [
             0.7777777777777778,
             "#fb9f3a"
            ],
            [
             0.8888888888888888,
             "#fdca26"
            ],
            [
             1,
             "#f0f921"
            ]
           ]
          },
          "colorway": [
           "#636efa",
           "#EF553B",
           "#00cc96",
           "#ab63fa",
           "#FFA15A",
           "#19d3f3",
           "#FF6692",
           "#B6E880",
           "#FF97FF",
           "#FECB52"
          ],
          "font": {
           "color": "#2a3f5f"
          },
          "geo": {
           "bgcolor": "white",
           "lakecolor": "white",
           "landcolor": "#E5ECF6",
           "showlakes": true,
           "showland": true,
           "subunitcolor": "white"
          },
          "hoverlabel": {
           "align": "left"
          },
          "hovermode": "closest",
          "mapbox": {
           "style": "light"
          },
          "paper_bgcolor": "white",
          "plot_bgcolor": "#E5ECF6",
          "polar": {
           "angularaxis": {
            "gridcolor": "white",
            "linecolor": "white",
            "ticks": ""
           },
           "bgcolor": "#E5ECF6",
           "radialaxis": {
            "gridcolor": "white",
            "linecolor": "white",
            "ticks": ""
           }
          },
          "scene": {
           "xaxis": {
            "backgroundcolor": "#E5ECF6",
            "gridcolor": "white",
            "gridwidth": 2,
            "linecolor": "white",
            "showbackground": true,
            "ticks": "",
            "zerolinecolor": "white"
           },
           "yaxis": {
            "backgroundcolor": "#E5ECF6",
            "gridcolor": "white",
            "gridwidth": 2,
            "linecolor": "white",
            "showbackground": true,
            "ticks": "",
            "zerolinecolor": "white"
           },
           "zaxis": {
            "backgroundcolor": "#E5ECF6",
            "gridcolor": "white",
            "gridwidth": 2,
            "linecolor": "white",
            "showbackground": true,
            "ticks": "",
            "zerolinecolor": "white"
           }
          },
          "shapedefaults": {
           "line": {
            "color": "#2a3f5f"
           }
          },
          "ternary": {
           "aaxis": {
            "gridcolor": "white",
            "linecolor": "white",
            "ticks": ""
           },
           "baxis": {
            "gridcolor": "white",
            "linecolor": "white",
            "ticks": ""
           },
           "bgcolor": "#E5ECF6",
           "caxis": {
            "gridcolor": "white",
            "linecolor": "white",
            "ticks": ""
           }
          },
          "title": {
           "x": 0.05
          },
          "xaxis": {
           "automargin": true,
           "gridcolor": "white",
           "linecolor": "white",
           "ticks": "",
           "title": {
            "standoff": 15
           },
           "zerolinecolor": "white",
           "zerolinewidth": 2
          },
          "yaxis": {
           "automargin": true,
           "gridcolor": "white",
           "linecolor": "white",
           "ticks": "",
           "title": {
            "standoff": 15
           },
           "zerolinecolor": "white",
           "zerolinewidth": 2
          }
         }
        },
        "xaxis": {
         "anchor": "y",
         "domain": [
          0,
          1
         ],
         "title": {
          "text": "index"
         }
        },
        "yaxis": {
         "anchor": "x",
         "domain": [
          0,
          1
         ],
         "title": {
          "text": "value"
         }
        }
       }
      }
     },
     "metadata": {},
     "output_type": "display_data"
    }
   ],
   "source": [
    "px.line(metodos_NvS_sensibilidades.T)"
   ]
  },
  {
   "cell_type": "markdown",
   "metadata": {},
   "source": [
    "## Métodos PVvsPred"
   ]
  },
  {
   "cell_type": "code",
   "execution_count": 116,
   "metadata": {},
   "outputs": [
    {
     "data": {
      "text/html": [
       "<div>\n",
       "<style scoped>\n",
       "    .dataframe tbody tr th:only-of-type {\n",
       "        vertical-align: middle;\n",
       "    }\n",
       "\n",
       "    .dataframe tbody tr th {\n",
       "        vertical-align: top;\n",
       "    }\n",
       "\n",
       "    .dataframe thead th {\n",
       "        text-align: right;\n",
       "    }\n",
       "</style>\n",
       "<table border=\"1\" class=\"dataframe\">\n",
       "  <thead>\n",
       "    <tr style=\"text-align: right;\">\n",
       "      <th></th>\n",
       "      <th>Negro</th>\n",
       "      <th>Congelado</th>\n",
       "      <th>Hum</th>\n",
       "      <th>Anomalia</th>\n",
       "      <th>MAD_PyOD</th>\n",
       "      <th>SAD</th>\n",
       "    </tr>\n",
       "    <tr>\n",
       "      <th>fecha</th>\n",
       "      <th></th>\n",
       "      <th></th>\n",
       "      <th></th>\n",
       "      <th></th>\n",
       "      <th></th>\n",
       "      <th></th>\n",
       "    </tr>\n",
       "  </thead>\n",
       "  <tbody>\n",
       "    <tr>\n",
       "      <th>2021-09-25 06:51:00</th>\n",
       "      <td>0</td>\n",
       "      <td>0</td>\n",
       "      <td>0</td>\n",
       "      <td>0</td>\n",
       "      <td>1</td>\n",
       "      <td>0</td>\n",
       "    </tr>\n",
       "    <tr>\n",
       "      <th>2021-06-20 02:11:00</th>\n",
       "      <td>0</td>\n",
       "      <td>0</td>\n",
       "      <td>0</td>\n",
       "      <td>0</td>\n",
       "      <td>0</td>\n",
       "      <td>0</td>\n",
       "    </tr>\n",
       "    <tr>\n",
       "      <th>2021-04-17 02:33:00</th>\n",
       "      <td>0</td>\n",
       "      <td>0</td>\n",
       "      <td>0</td>\n",
       "      <td>0</td>\n",
       "      <td>0</td>\n",
       "      <td>0</td>\n",
       "    </tr>\n",
       "    <tr>\n",
       "      <th>2021-06-25 20:59:00</th>\n",
       "      <td>0</td>\n",
       "      <td>0</td>\n",
       "      <td>0</td>\n",
       "      <td>0</td>\n",
       "      <td>0</td>\n",
       "      <td>0</td>\n",
       "    </tr>\n",
       "    <tr>\n",
       "      <th>2021-03-17 22:22:00</th>\n",
       "      <td>0</td>\n",
       "      <td>0</td>\n",
       "      <td>0</td>\n",
       "      <td>0</td>\n",
       "      <td>0</td>\n",
       "      <td>0</td>\n",
       "    </tr>\n",
       "  </tbody>\n",
       "</table>\n",
       "</div>"
      ],
      "text/plain": [
       "                     Negro  Congelado  Hum  Anomalia  MAD_PyOD  SAD\n",
       "fecha                                                              \n",
       "2021-09-25 06:51:00      0          0    0         0         1    0\n",
       "2021-06-20 02:11:00      0          0    0         0         0    0\n",
       "2021-04-17 02:33:00      0          0    0         0         0    0\n",
       "2021-06-25 20:59:00      0          0    0         0         0    0\n",
       "2021-03-17 22:22:00      0          0    0         0         0    0"
      ]
     },
     "execution_count": 116,
     "metadata": {},
     "output_type": "execute_result"
    }
   ],
   "source": [
    "metodos_PvP = pd.read_csv('Metodos_PVvsPred/Thresholds/Resultados/PyOD_MAD_completo.csv',index_col='fecha')\n",
    "metodos_PvP = metodos_PvP.drop('Y_pred', axis=1)\n",
    "\n",
    "metodos_PvP['MAD_PyOD'] = pd.read_csv('Metodos_PVvsPred/Thresholds/Resultados/PyOD_MAD_completo.csv',usecols=['fecha','Y_pred'],index_col='fecha')\n",
    "#metodos_PvP['MAD_PySAD'] = pd.read_csv('Metodos_PVvsPred/Thresholds/Resultados/PySAD_MAD_completo.csv',usecols=['fecha','Y_pred'],index_col='fecha')\n",
    "metodos_PvP['SAD'] = pd.read_csv('Metodos_PVvsPred/Thresholds/Resultados/PySAD_SAD_completo.csv',usecols=['fecha','Y_pred'],index_col='fecha')\n",
    "\n",
    "metodos_PvP_htm = pd.read_csv('Metodos_PVvsPred/Thresholds/HTM_Uni/HTM_completo.csv',index_col='fecha')\n",
    "metodos_PvP_htm['HTM'] = metodos_PvP_htm['Y_pred']\n",
    "metodos_PvP_htm = metodos_PvP_htm.drop('Y_pred',axis=1)\n",
    "\n",
    "metodos_PvP.head()"
   ]
  },
  {
   "cell_type": "markdown",
   "metadata": {},
   "source": []
  },
  {
   "cell_type": "markdown",
   "metadata": {},
   "source": [
    "### Métricas generales:"
   ]
  },
  {
   "cell_type": "code",
   "execution_count": 117,
   "metadata": {},
   "outputs": [
    {
     "data": {
      "text/html": [
       "<div>\n",
       "<style scoped>\n",
       "    .dataframe tbody tr th:only-of-type {\n",
       "        vertical-align: middle;\n",
       "    }\n",
       "\n",
       "    .dataframe tbody tr th {\n",
       "        vertical-align: top;\n",
       "    }\n",
       "\n",
       "    .dataframe thead th {\n",
       "        text-align: right;\n",
       "    }\n",
       "</style>\n",
       "<table border=\"1\" class=\"dataframe\">\n",
       "  <thead>\n",
       "    <tr style=\"text-align: right;\">\n",
       "      <th></th>\n",
       "      <th>roc_auc</th>\n",
       "      <th>accuracy</th>\n",
       "      <th>precision</th>\n",
       "      <th>kappa</th>\n",
       "      <th>sensibilidad</th>\n",
       "      <th>especificidad</th>\n",
       "    </tr>\n",
       "  </thead>\n",
       "  <tbody>\n",
       "    <tr>\n",
       "      <th>MAD_PyOD</th>\n",
       "      <td>0.846144</td>\n",
       "      <td>0.919795</td>\n",
       "      <td>0.511068</td>\n",
       "      <td>0.567634</td>\n",
       "      <td>0.75785</td>\n",
       "      <td>0.934439</td>\n",
       "    </tr>\n",
       "    <tr>\n",
       "      <th>SAD</th>\n",
       "      <td>0.823293</td>\n",
       "      <td>0.931058</td>\n",
       "      <td>0.569144</td>\n",
       "      <td>0.587886</td>\n",
       "      <td>0.694101</td>\n",
       "      <td>0.952485</td>\n",
       "    </tr>\n",
       "    <tr>\n",
       "      <th>HTM</th>\n",
       "      <td>0.463891</td>\n",
       "      <td>0.843304</td>\n",
       "      <td>0.010094</td>\n",
       "      <td>-0.075255</td>\n",
       "      <td>0.009198</td>\n",
       "      <td>0.918585</td>\n",
       "    </tr>\n",
       "  </tbody>\n",
       "</table>\n",
       "</div>"
      ],
      "text/plain": [
       "           roc_auc  accuracy precision     kappa sensibilidad especificidad\n",
       "MAD_PyOD  0.846144  0.919795  0.511068  0.567634      0.75785      0.934439\n",
       "SAD       0.823293  0.931058  0.569144  0.587886     0.694101      0.952485\n",
       "HTM       0.463891  0.843304  0.010094 -0.075255     0.009198      0.918585"
      ]
     },
     "execution_count": 117,
     "metadata": {},
     "output_type": "execute_result"
    }
   ],
   "source": [
    "metodos_PvP_lista = ['MAD_PyOD','SAD']\n",
    "metodos_PvP_metricas = calc_metricas(metodos_PvP,metodos_PvP_lista)\n",
    "metodos_PvP_metricas = pd.concat([metodos_PvP_metricas,calc_metricas(metodos_PvP_htm, ['HTM'])])\n",
    "metodos_PvP_metricas"
   ]
  },
  {
   "cell_type": "code",
   "execution_count": 118,
   "metadata": {},
   "outputs": [
    {
     "data": {
      "text/html": [
       "<div>\n",
       "<style scoped>\n",
       "    .dataframe tbody tr th:only-of-type {\n",
       "        vertical-align: middle;\n",
       "    }\n",
       "\n",
       "    .dataframe tbody tr th {\n",
       "        vertical-align: top;\n",
       "    }\n",
       "\n",
       "    .dataframe thead th {\n",
       "        text-align: right;\n",
       "    }\n",
       "</style>\n",
       "<table border=\"1\" class=\"dataframe\">\n",
       "  <thead>\n",
       "    <tr style=\"text-align: right;\">\n",
       "      <th></th>\n",
       "      <th>roc_auc</th>\n",
       "      <th>accuracy</th>\n",
       "      <th>precision</th>\n",
       "      <th>kappa</th>\n",
       "      <th>sensibilidad</th>\n",
       "      <th>especificidad</th>\n",
       "    </tr>\n",
       "  </thead>\n",
       "  <tbody>\n",
       "    <tr>\n",
       "      <th>MAD_PyOD</th>\n",
       "      <td>0.846144</td>\n",
       "      <td>0.919795</td>\n",
       "      <td>0.511068</td>\n",
       "      <td>0.567634</td>\n",
       "      <td>0.75785</td>\n",
       "      <td>0.934439</td>\n",
       "    </tr>\n",
       "    <tr>\n",
       "      <th>SAD</th>\n",
       "      <td>0.823293</td>\n",
       "      <td>0.931058</td>\n",
       "      <td>0.569144</td>\n",
       "      <td>0.587886</td>\n",
       "      <td>0.694101</td>\n",
       "      <td>0.952485</td>\n",
       "    </tr>\n",
       "  </tbody>\n",
       "</table>\n",
       "</div>"
      ],
      "text/plain": [
       "           roc_auc  accuracy precision     kappa sensibilidad especificidad\n",
       "MAD_PyOD  0.846144  0.919795  0.511068  0.567634      0.75785      0.934439\n",
       "SAD       0.823293  0.931058  0.569144  0.587886     0.694101      0.952485"
      ]
     },
     "execution_count": 118,
     "metadata": {},
     "output_type": "execute_result"
    }
   ],
   "source": [
    "metodos_PvP_metricas = calc_metricas(metodos_PvP, metodos_PvP_lista)\n",
    "metodos_PvP_metricas"
   ]
  },
  {
   "cell_type": "code",
   "execution_count": 119,
   "metadata": {},
   "outputs": [
    {
     "data": {
      "application/vnd.plotly.v1+json": {
       "config": {
        "plotlyServerURL": "https://plot.ly"
       },
       "data": [
        {
         "hovertemplate": "variable=MAD_PyOD<br>index=%{x}<br>value=%{y}<extra></extra>",
         "legendgroup": "MAD_PyOD",
         "line": {
          "color": "#636efa",
          "dash": "solid"
         },
         "marker": {
          "symbol": "circle"
         },
         "mode": "lines",
         "name": "MAD_PyOD",
         "orientation": "v",
         "showlegend": true,
         "type": "scatter",
         "x": [
          "roc_auc",
          "accuracy",
          "precision",
          "kappa",
          "sensibilidad",
          "especificidad"
         ],
         "xaxis": "x",
         "y": [
          0.8461442953232345,
          0.9197948515632706,
          0.5110683349374399,
          0.5676336594935318,
          0.7578496669838249,
          0.9344389236626444
         ],
         "yaxis": "y"
        },
        {
         "hovertemplate": "variable=SAD<br>index=%{x}<br>value=%{y}<extra></extra>",
         "legendgroup": "SAD",
         "line": {
          "color": "#EF553B",
          "dash": "solid"
         },
         "marker": {
          "symbol": "circle"
         },
         "mode": "lines",
         "name": "SAD",
         "orientation": "v",
         "showlegend": true,
         "type": "scatter",
         "x": [
          "roc_auc",
          "accuracy",
          "precision",
          "kappa",
          "sensibilidad",
          "especificidad"
         ],
         "xaxis": "x",
         "y": [
          0.8232931418071546,
          0.9310582897721669,
          0.5691437487809635,
          0.5878860117510725,
          0.6941008563273073,
          0.9524854272870018
         ],
         "yaxis": "y"
        }
       ],
       "layout": {
        "legend": {
         "title": {
          "text": "variable"
         },
         "tracegroupgap": 0
        },
        "margin": {
         "t": 60
        },
        "template": {
         "data": {
          "bar": [
           {
            "error_x": {
             "color": "#2a3f5f"
            },
            "error_y": {
             "color": "#2a3f5f"
            },
            "marker": {
             "line": {
              "color": "#E5ECF6",
              "width": 0.5
             },
             "pattern": {
              "fillmode": "overlay",
              "size": 10,
              "solidity": 0.2
             }
            },
            "type": "bar"
           }
          ],
          "barpolar": [
           {
            "marker": {
             "line": {
              "color": "#E5ECF6",
              "width": 0.5
             },
             "pattern": {
              "fillmode": "overlay",
              "size": 10,
              "solidity": 0.2
             }
            },
            "type": "barpolar"
           }
          ],
          "carpet": [
           {
            "aaxis": {
             "endlinecolor": "#2a3f5f",
             "gridcolor": "white",
             "linecolor": "white",
             "minorgridcolor": "white",
             "startlinecolor": "#2a3f5f"
            },
            "baxis": {
             "endlinecolor": "#2a3f5f",
             "gridcolor": "white",
             "linecolor": "white",
             "minorgridcolor": "white",
             "startlinecolor": "#2a3f5f"
            },
            "type": "carpet"
           }
          ],
          "choropleth": [
           {
            "colorbar": {
             "outlinewidth": 0,
             "ticks": ""
            },
            "type": "choropleth"
           }
          ],
          "contour": [
           {
            "colorbar": {
             "outlinewidth": 0,
             "ticks": ""
            },
            "colorscale": [
             [
              0,
              "#0d0887"
             ],
             [
              0.1111111111111111,
              "#46039f"
             ],
             [
              0.2222222222222222,
              "#7201a8"
             ],
             [
              0.3333333333333333,
              "#9c179e"
             ],
             [
              0.4444444444444444,
              "#bd3786"
             ],
             [
              0.5555555555555556,
              "#d8576b"
             ],
             [
              0.6666666666666666,
              "#ed7953"
             ],
             [
              0.7777777777777778,
              "#fb9f3a"
             ],
             [
              0.8888888888888888,
              "#fdca26"
             ],
             [
              1,
              "#f0f921"
             ]
            ],
            "type": "contour"
           }
          ],
          "contourcarpet": [
           {
            "colorbar": {
             "outlinewidth": 0,
             "ticks": ""
            },
            "type": "contourcarpet"
           }
          ],
          "heatmap": [
           {
            "colorbar": {
             "outlinewidth": 0,
             "ticks": ""
            },
            "colorscale": [
             [
              0,
              "#0d0887"
             ],
             [
              0.1111111111111111,
              "#46039f"
             ],
             [
              0.2222222222222222,
              "#7201a8"
             ],
             [
              0.3333333333333333,
              "#9c179e"
             ],
             [
              0.4444444444444444,
              "#bd3786"
             ],
             [
              0.5555555555555556,
              "#d8576b"
             ],
             [
              0.6666666666666666,
              "#ed7953"
             ],
             [
              0.7777777777777778,
              "#fb9f3a"
             ],
             [
              0.8888888888888888,
              "#fdca26"
             ],
             [
              1,
              "#f0f921"
             ]
            ],
            "type": "heatmap"
           }
          ],
          "heatmapgl": [
           {
            "colorbar": {
             "outlinewidth": 0,
             "ticks": ""
            },
            "colorscale": [
             [
              0,
              "#0d0887"
             ],
             [
              0.1111111111111111,
              "#46039f"
             ],
             [
              0.2222222222222222,
              "#7201a8"
             ],
             [
              0.3333333333333333,
              "#9c179e"
             ],
             [
              0.4444444444444444,
              "#bd3786"
             ],
             [
              0.5555555555555556,
              "#d8576b"
             ],
             [
              0.6666666666666666,
              "#ed7953"
             ],
             [
              0.7777777777777778,
              "#fb9f3a"
             ],
             [
              0.8888888888888888,
              "#fdca26"
             ],
             [
              1,
              "#f0f921"
             ]
            ],
            "type": "heatmapgl"
           }
          ],
          "histogram": [
           {
            "marker": {
             "pattern": {
              "fillmode": "overlay",
              "size": 10,
              "solidity": 0.2
             }
            },
            "type": "histogram"
           }
          ],
          "histogram2d": [
           {
            "colorbar": {
             "outlinewidth": 0,
             "ticks": ""
            },
            "colorscale": [
             [
              0,
              "#0d0887"
             ],
             [
              0.1111111111111111,
              "#46039f"
             ],
             [
              0.2222222222222222,
              "#7201a8"
             ],
             [
              0.3333333333333333,
              "#9c179e"
             ],
             [
              0.4444444444444444,
              "#bd3786"
             ],
             [
              0.5555555555555556,
              "#d8576b"
             ],
             [
              0.6666666666666666,
              "#ed7953"
             ],
             [
              0.7777777777777778,
              "#fb9f3a"
             ],
             [
              0.8888888888888888,
              "#fdca26"
             ],
             [
              1,
              "#f0f921"
             ]
            ],
            "type": "histogram2d"
           }
          ],
          "histogram2dcontour": [
           {
            "colorbar": {
             "outlinewidth": 0,
             "ticks": ""
            },
            "colorscale": [
             [
              0,
              "#0d0887"
             ],
             [
              0.1111111111111111,
              "#46039f"
             ],
             [
              0.2222222222222222,
              "#7201a8"
             ],
             [
              0.3333333333333333,
              "#9c179e"
             ],
             [
              0.4444444444444444,
              "#bd3786"
             ],
             [
              0.5555555555555556,
              "#d8576b"
             ],
             [
              0.6666666666666666,
              "#ed7953"
             ],
             [
              0.7777777777777778,
              "#fb9f3a"
             ],
             [
              0.8888888888888888,
              "#fdca26"
             ],
             [
              1,
              "#f0f921"
             ]
            ],
            "type": "histogram2dcontour"
           }
          ],
          "mesh3d": [
           {
            "colorbar": {
             "outlinewidth": 0,
             "ticks": ""
            },
            "type": "mesh3d"
           }
          ],
          "parcoords": [
           {
            "line": {
             "colorbar": {
              "outlinewidth": 0,
              "ticks": ""
             }
            },
            "type": "parcoords"
           }
          ],
          "pie": [
           {
            "automargin": true,
            "type": "pie"
           }
          ],
          "scatter": [
           {
            "fillpattern": {
             "fillmode": "overlay",
             "size": 10,
             "solidity": 0.2
            },
            "type": "scatter"
           }
          ],
          "scatter3d": [
           {
            "line": {
             "colorbar": {
              "outlinewidth": 0,
              "ticks": ""
             }
            },
            "marker": {
             "colorbar": {
              "outlinewidth": 0,
              "ticks": ""
             }
            },
            "type": "scatter3d"
           }
          ],
          "scattercarpet": [
           {
            "marker": {
             "colorbar": {
              "outlinewidth": 0,
              "ticks": ""
             }
            },
            "type": "scattercarpet"
           }
          ],
          "scattergeo": [
           {
            "marker": {
             "colorbar": {
              "outlinewidth": 0,
              "ticks": ""
             }
            },
            "type": "scattergeo"
           }
          ],
          "scattergl": [
           {
            "marker": {
             "colorbar": {
              "outlinewidth": 0,
              "ticks": ""
             }
            },
            "type": "scattergl"
           }
          ],
          "scattermapbox": [
           {
            "marker": {
             "colorbar": {
              "outlinewidth": 0,
              "ticks": ""
             }
            },
            "type": "scattermapbox"
           }
          ],
          "scatterpolar": [
           {
            "marker": {
             "colorbar": {
              "outlinewidth": 0,
              "ticks": ""
             }
            },
            "type": "scatterpolar"
           }
          ],
          "scatterpolargl": [
           {
            "marker": {
             "colorbar": {
              "outlinewidth": 0,
              "ticks": ""
             }
            },
            "type": "scatterpolargl"
           }
          ],
          "scatterternary": [
           {
            "marker": {
             "colorbar": {
              "outlinewidth": 0,
              "ticks": ""
             }
            },
            "type": "scatterternary"
           }
          ],
          "surface": [
           {
            "colorbar": {
             "outlinewidth": 0,
             "ticks": ""
            },
            "colorscale": [
             [
              0,
              "#0d0887"
             ],
             [
              0.1111111111111111,
              "#46039f"
             ],
             [
              0.2222222222222222,
              "#7201a8"
             ],
             [
              0.3333333333333333,
              "#9c179e"
             ],
             [
              0.4444444444444444,
              "#bd3786"
             ],
             [
              0.5555555555555556,
              "#d8576b"
             ],
             [
              0.6666666666666666,
              "#ed7953"
             ],
             [
              0.7777777777777778,
              "#fb9f3a"
             ],
             [
              0.8888888888888888,
              "#fdca26"
             ],
             [
              1,
              "#f0f921"
             ]
            ],
            "type": "surface"
           }
          ],
          "table": [
           {
            "cells": {
             "fill": {
              "color": "#EBF0F8"
             },
             "line": {
              "color": "white"
             }
            },
            "header": {
             "fill": {
              "color": "#C8D4E3"
             },
             "line": {
              "color": "white"
             }
            },
            "type": "table"
           }
          ]
         },
         "layout": {
          "annotationdefaults": {
           "arrowcolor": "#2a3f5f",
           "arrowhead": 0,
           "arrowwidth": 1
          },
          "autotypenumbers": "strict",
          "coloraxis": {
           "colorbar": {
            "outlinewidth": 0,
            "ticks": ""
           }
          },
          "colorscale": {
           "diverging": [
            [
             0,
             "#8e0152"
            ],
            [
             0.1,
             "#c51b7d"
            ],
            [
             0.2,
             "#de77ae"
            ],
            [
             0.3,
             "#f1b6da"
            ],
            [
             0.4,
             "#fde0ef"
            ],
            [
             0.5,
             "#f7f7f7"
            ],
            [
             0.6,
             "#e6f5d0"
            ],
            [
             0.7,
             "#b8e186"
            ],
            [
             0.8,
             "#7fbc41"
            ],
            [
             0.9,
             "#4d9221"
            ],
            [
             1,
             "#276419"
            ]
           ],
           "sequential": [
            [
             0,
             "#0d0887"
            ],
            [
             0.1111111111111111,
             "#46039f"
            ],
            [
             0.2222222222222222,
             "#7201a8"
            ],
            [
             0.3333333333333333,
             "#9c179e"
            ],
            [
             0.4444444444444444,
             "#bd3786"
            ],
            [
             0.5555555555555556,
             "#d8576b"
            ],
            [
             0.6666666666666666,
             "#ed7953"
            ],
            [
             0.7777777777777778,
             "#fb9f3a"
            ],
            [
             0.8888888888888888,
             "#fdca26"
            ],
            [
             1,
             "#f0f921"
            ]
           ],
           "sequentialminus": [
            [
             0,
             "#0d0887"
            ],
            [
             0.1111111111111111,
             "#46039f"
            ],
            [
             0.2222222222222222,
             "#7201a8"
            ],
            [
             0.3333333333333333,
             "#9c179e"
            ],
            [
             0.4444444444444444,
             "#bd3786"
            ],
            [
             0.5555555555555556,
             "#d8576b"
            ],
            [
             0.6666666666666666,
             "#ed7953"
            ],
            [
             0.7777777777777778,
             "#fb9f3a"
            ],
            [
             0.8888888888888888,
             "#fdca26"
            ],
            [
             1,
             "#f0f921"
            ]
           ]
          },
          "colorway": [
           "#636efa",
           "#EF553B",
           "#00cc96",
           "#ab63fa",
           "#FFA15A",
           "#19d3f3",
           "#FF6692",
           "#B6E880",
           "#FF97FF",
           "#FECB52"
          ],
          "font": {
           "color": "#2a3f5f"
          },
          "geo": {
           "bgcolor": "white",
           "lakecolor": "white",
           "landcolor": "#E5ECF6",
           "showlakes": true,
           "showland": true,
           "subunitcolor": "white"
          },
          "hoverlabel": {
           "align": "left"
          },
          "hovermode": "closest",
          "mapbox": {
           "style": "light"
          },
          "paper_bgcolor": "white",
          "plot_bgcolor": "#E5ECF6",
          "polar": {
           "angularaxis": {
            "gridcolor": "white",
            "linecolor": "white",
            "ticks": ""
           },
           "bgcolor": "#E5ECF6",
           "radialaxis": {
            "gridcolor": "white",
            "linecolor": "white",
            "ticks": ""
           }
          },
          "scene": {
           "xaxis": {
            "backgroundcolor": "#E5ECF6",
            "gridcolor": "white",
            "gridwidth": 2,
            "linecolor": "white",
            "showbackground": true,
            "ticks": "",
            "zerolinecolor": "white"
           },
           "yaxis": {
            "backgroundcolor": "#E5ECF6",
            "gridcolor": "white",
            "gridwidth": 2,
            "linecolor": "white",
            "showbackground": true,
            "ticks": "",
            "zerolinecolor": "white"
           },
           "zaxis": {
            "backgroundcolor": "#E5ECF6",
            "gridcolor": "white",
            "gridwidth": 2,
            "linecolor": "white",
            "showbackground": true,
            "ticks": "",
            "zerolinecolor": "white"
           }
          },
          "shapedefaults": {
           "line": {
            "color": "#2a3f5f"
           }
          },
          "ternary": {
           "aaxis": {
            "gridcolor": "white",
            "linecolor": "white",
            "ticks": ""
           },
           "baxis": {
            "gridcolor": "white",
            "linecolor": "white",
            "ticks": ""
           },
           "bgcolor": "#E5ECF6",
           "caxis": {
            "gridcolor": "white",
            "linecolor": "white",
            "ticks": ""
           }
          },
          "title": {
           "x": 0.05
          },
          "xaxis": {
           "automargin": true,
           "gridcolor": "white",
           "linecolor": "white",
           "ticks": "",
           "title": {
            "standoff": 15
           },
           "zerolinecolor": "white",
           "zerolinewidth": 2
          },
          "yaxis": {
           "automargin": true,
           "gridcolor": "white",
           "linecolor": "white",
           "ticks": "",
           "title": {
            "standoff": 15
           },
           "zerolinecolor": "white",
           "zerolinewidth": 2
          }
         }
        },
        "xaxis": {
         "anchor": "y",
         "domain": [
          0,
          1
         ],
         "title": {
          "text": "index"
         }
        },
        "yaxis": {
         "anchor": "x",
         "domain": [
          0,
          1
         ],
         "title": {
          "text": "value"
         }
        }
       }
      }
     },
     "metadata": {},
     "output_type": "display_data"
    }
   ],
   "source": [
    "px.line(metodos_PvP_metricas.T)"
   ]
  },
  {
   "cell_type": "markdown",
   "metadata": {},
   "source": [
    "### Sensibilidad por tipo de anomalía"
   ]
  },
  {
   "cell_type": "code",
   "execution_count": 120,
   "metadata": {},
   "outputs": [
    {
     "data": {
      "text/html": [
       "<div>\n",
       "<style scoped>\n",
       "    .dataframe tbody tr th:only-of-type {\n",
       "        vertical-align: middle;\n",
       "    }\n",
       "\n",
       "    .dataframe tbody tr th {\n",
       "        vertical-align: top;\n",
       "    }\n",
       "\n",
       "    .dataframe thead th {\n",
       "        text-align: right;\n",
       "    }\n",
       "</style>\n",
       "<table border=\"1\" class=\"dataframe\">\n",
       "  <thead>\n",
       "    <tr style=\"text-align: right;\">\n",
       "      <th></th>\n",
       "      <th>Anomalia</th>\n",
       "      <th>Negro</th>\n",
       "      <th>Congelado</th>\n",
       "      <th>Hum</th>\n",
       "    </tr>\n",
       "  </thead>\n",
       "  <tbody>\n",
       "    <tr>\n",
       "      <th>MAD_PyOD</th>\n",
       "      <td>0.75785</td>\n",
       "      <td>0.81775</td>\n",
       "      <td>0.899285</td>\n",
       "      <td>0.448029</td>\n",
       "    </tr>\n",
       "    <tr>\n",
       "      <th>SAD</th>\n",
       "      <td>0.694101</td>\n",
       "      <td>0.738827</td>\n",
       "      <td>0.898311</td>\n",
       "      <td>0.390681</td>\n",
       "    </tr>\n",
       "    <tr>\n",
       "      <th>HTM</th>\n",
       "      <td>0.009198</td>\n",
       "      <td>0.0</td>\n",
       "      <td>0.01124</td>\n",
       "      <td>0.013953</td>\n",
       "    </tr>\n",
       "  </tbody>\n",
       "</table>\n",
       "</div>"
      ],
      "text/plain": [
       "          Anomalia     Negro Congelado       Hum\n",
       "MAD_PyOD   0.75785   0.81775  0.899285  0.448029\n",
       "SAD       0.694101  0.738827  0.898311  0.390681\n",
       "HTM       0.009198       0.0   0.01124  0.013953"
      ]
     },
     "execution_count": 120,
     "metadata": {},
     "output_type": "execute_result"
    }
   ],
   "source": [
    "metodos_PvP_sensibilidades = calc_sensibilidad(metodos_PvP,metodos_PvP_lista,anomalias)\n",
    "metodos_PvP_sensibilidades = pd.concat([metodos_PvP_sensibilidades,calc_sensibilidad(metodos_PvP_htm, ['HTM'], anomalias)])\n",
    "metodos_PvP_sensibilidades"
   ]
  },
  {
   "cell_type": "code",
   "execution_count": 121,
   "metadata": {},
   "outputs": [
    {
     "data": {
      "application/vnd.plotly.v1+json": {
       "config": {
        "plotlyServerURL": "https://plot.ly"
       },
       "data": [
        {
         "hovertemplate": "variable=MAD_PyOD<br>index=%{x}<br>value=%{y}<extra></extra>",
         "legendgroup": "MAD_PyOD",
         "line": {
          "color": "#636efa",
          "dash": "solid"
         },
         "marker": {
          "symbol": "circle"
         },
         "mode": "lines",
         "name": "MAD_PyOD",
         "orientation": "v",
         "showlegend": true,
         "type": "scatter",
         "x": [
          "Anomalia",
          "Negro",
          "Congelado",
          "Hum"
         ],
         "xaxis": "x",
         "y": [
          0.7578496669838249,
          0.8177496038034865,
          0.8992852501624431,
          0.44802867383512546
         ],
         "yaxis": "y"
        },
        {
         "hovertemplate": "variable=SAD<br>index=%{x}<br>value=%{y}<extra></extra>",
         "legendgroup": "SAD",
         "line": {
          "color": "#EF553B",
          "dash": "solid"
         },
         "marker": {
          "symbol": "circle"
         },
         "mode": "lines",
         "name": "SAD",
         "orientation": "v",
         "showlegend": true,
         "type": "scatter",
         "x": [
          "Anomalia",
          "Negro",
          "Congelado",
          "Hum"
         ],
         "xaxis": "x",
         "y": [
          0.6941008563273073,
          0.7388272583201267,
          0.8983105912930475,
          0.3906810035842294
         ],
         "yaxis": "y"
        },
        {
         "hovertemplate": "variable=HTM<br>index=%{x}<br>value=%{y}<extra></extra>",
         "legendgroup": "HTM",
         "line": {
          "color": "#00cc96",
          "dash": "solid"
         },
         "marker": {
          "symbol": "circle"
         },
         "mode": "lines",
         "name": "HTM",
         "orientation": "v",
         "showlegend": true,
         "type": "scatter",
         "x": [
          "Anomalia",
          "Negro",
          "Congelado",
          "Hum"
         ],
         "xaxis": "x",
         "y": [
          0.009197922127436496,
          0,
          0.011240360737158542,
          0.013953488372093023
         ],
         "yaxis": "y"
        }
       ],
       "layout": {
        "legend": {
         "title": {
          "text": "variable"
         },
         "tracegroupgap": 0
        },
        "margin": {
         "t": 60
        },
        "template": {
         "data": {
          "bar": [
           {
            "error_x": {
             "color": "#2a3f5f"
            },
            "error_y": {
             "color": "#2a3f5f"
            },
            "marker": {
             "line": {
              "color": "#E5ECF6",
              "width": 0.5
             },
             "pattern": {
              "fillmode": "overlay",
              "size": 10,
              "solidity": 0.2
             }
            },
            "type": "bar"
           }
          ],
          "barpolar": [
           {
            "marker": {
             "line": {
              "color": "#E5ECF6",
              "width": 0.5
             },
             "pattern": {
              "fillmode": "overlay",
              "size": 10,
              "solidity": 0.2
             }
            },
            "type": "barpolar"
           }
          ],
          "carpet": [
           {
            "aaxis": {
             "endlinecolor": "#2a3f5f",
             "gridcolor": "white",
             "linecolor": "white",
             "minorgridcolor": "white",
             "startlinecolor": "#2a3f5f"
            },
            "baxis": {
             "endlinecolor": "#2a3f5f",
             "gridcolor": "white",
             "linecolor": "white",
             "minorgridcolor": "white",
             "startlinecolor": "#2a3f5f"
            },
            "type": "carpet"
           }
          ],
          "choropleth": [
           {
            "colorbar": {
             "outlinewidth": 0,
             "ticks": ""
            },
            "type": "choropleth"
           }
          ],
          "contour": [
           {
            "colorbar": {
             "outlinewidth": 0,
             "ticks": ""
            },
            "colorscale": [
             [
              0,
              "#0d0887"
             ],
             [
              0.1111111111111111,
              "#46039f"
             ],
             [
              0.2222222222222222,
              "#7201a8"
             ],
             [
              0.3333333333333333,
              "#9c179e"
             ],
             [
              0.4444444444444444,
              "#bd3786"
             ],
             [
              0.5555555555555556,
              "#d8576b"
             ],
             [
              0.6666666666666666,
              "#ed7953"
             ],
             [
              0.7777777777777778,
              "#fb9f3a"
             ],
             [
              0.8888888888888888,
              "#fdca26"
             ],
             [
              1,
              "#f0f921"
             ]
            ],
            "type": "contour"
           }
          ],
          "contourcarpet": [
           {
            "colorbar": {
             "outlinewidth": 0,
             "ticks": ""
            },
            "type": "contourcarpet"
           }
          ],
          "heatmap": [
           {
            "colorbar": {
             "outlinewidth": 0,
             "ticks": ""
            },
            "colorscale": [
             [
              0,
              "#0d0887"
             ],
             [
              0.1111111111111111,
              "#46039f"
             ],
             [
              0.2222222222222222,
              "#7201a8"
             ],
             [
              0.3333333333333333,
              "#9c179e"
             ],
             [
              0.4444444444444444,
              "#bd3786"
             ],
             [
              0.5555555555555556,
              "#d8576b"
             ],
             [
              0.6666666666666666,
              "#ed7953"
             ],
             [
              0.7777777777777778,
              "#fb9f3a"
             ],
             [
              0.8888888888888888,
              "#fdca26"
             ],
             [
              1,
              "#f0f921"
             ]
            ],
            "type": "heatmap"
           }
          ],
          "heatmapgl": [
           {
            "colorbar": {
             "outlinewidth": 0,
             "ticks": ""
            },
            "colorscale": [
             [
              0,
              "#0d0887"
             ],
             [
              0.1111111111111111,
              "#46039f"
             ],
             [
              0.2222222222222222,
              "#7201a8"
             ],
             [
              0.3333333333333333,
              "#9c179e"
             ],
             [
              0.4444444444444444,
              "#bd3786"
             ],
             [
              0.5555555555555556,
              "#d8576b"
             ],
             [
              0.6666666666666666,
              "#ed7953"
             ],
             [
              0.7777777777777778,
              "#fb9f3a"
             ],
             [
              0.8888888888888888,
              "#fdca26"
             ],
             [
              1,
              "#f0f921"
             ]
            ],
            "type": "heatmapgl"
           }
          ],
          "histogram": [
           {
            "marker": {
             "pattern": {
              "fillmode": "overlay",
              "size": 10,
              "solidity": 0.2
             }
            },
            "type": "histogram"
           }
          ],
          "histogram2d": [
           {
            "colorbar": {
             "outlinewidth": 0,
             "ticks": ""
            },
            "colorscale": [
             [
              0,
              "#0d0887"
             ],
             [
              0.1111111111111111,
              "#46039f"
             ],
             [
              0.2222222222222222,
              "#7201a8"
             ],
             [
              0.3333333333333333,
              "#9c179e"
             ],
             [
              0.4444444444444444,
              "#bd3786"
             ],
             [
              0.5555555555555556,
              "#d8576b"
             ],
             [
              0.6666666666666666,
              "#ed7953"
             ],
             [
              0.7777777777777778,
              "#fb9f3a"
             ],
             [
              0.8888888888888888,
              "#fdca26"
             ],
             [
              1,
              "#f0f921"
             ]
            ],
            "type": "histogram2d"
           }
          ],
          "histogram2dcontour": [
           {
            "colorbar": {
             "outlinewidth": 0,
             "ticks": ""
            },
            "colorscale": [
             [
              0,
              "#0d0887"
             ],
             [
              0.1111111111111111,
              "#46039f"
             ],
             [
              0.2222222222222222,
              "#7201a8"
             ],
             [
              0.3333333333333333,
              "#9c179e"
             ],
             [
              0.4444444444444444,
              "#bd3786"
             ],
             [
              0.5555555555555556,
              "#d8576b"
             ],
             [
              0.6666666666666666,
              "#ed7953"
             ],
             [
              0.7777777777777778,
              "#fb9f3a"
             ],
             [
              0.8888888888888888,
              "#fdca26"
             ],
             [
              1,
              "#f0f921"
             ]
            ],
            "type": "histogram2dcontour"
           }
          ],
          "mesh3d": [
           {
            "colorbar": {
             "outlinewidth": 0,
             "ticks": ""
            },
            "type": "mesh3d"
           }
          ],
          "parcoords": [
           {
            "line": {
             "colorbar": {
              "outlinewidth": 0,
              "ticks": ""
             }
            },
            "type": "parcoords"
           }
          ],
          "pie": [
           {
            "automargin": true,
            "type": "pie"
           }
          ],
          "scatter": [
           {
            "fillpattern": {
             "fillmode": "overlay",
             "size": 10,
             "solidity": 0.2
            },
            "type": "scatter"
           }
          ],
          "scatter3d": [
           {
            "line": {
             "colorbar": {
              "outlinewidth": 0,
              "ticks": ""
             }
            },
            "marker": {
             "colorbar": {
              "outlinewidth": 0,
              "ticks": ""
             }
            },
            "type": "scatter3d"
           }
          ],
          "scattercarpet": [
           {
            "marker": {
             "colorbar": {
              "outlinewidth": 0,
              "ticks": ""
             }
            },
            "type": "scattercarpet"
           }
          ],
          "scattergeo": [
           {
            "marker": {
             "colorbar": {
              "outlinewidth": 0,
              "ticks": ""
             }
            },
            "type": "scattergeo"
           }
          ],
          "scattergl": [
           {
            "marker": {
             "colorbar": {
              "outlinewidth": 0,
              "ticks": ""
             }
            },
            "type": "scattergl"
           }
          ],
          "scattermapbox": [
           {
            "marker": {
             "colorbar": {
              "outlinewidth": 0,
              "ticks": ""
             }
            },
            "type": "scattermapbox"
           }
          ],
          "scatterpolar": [
           {
            "marker": {
             "colorbar": {
              "outlinewidth": 0,
              "ticks": ""
             }
            },
            "type": "scatterpolar"
           }
          ],
          "scatterpolargl": [
           {
            "marker": {
             "colorbar": {
              "outlinewidth": 0,
              "ticks": ""
             }
            },
            "type": "scatterpolargl"
           }
          ],
          "scatterternary": [
           {
            "marker": {
             "colorbar": {
              "outlinewidth": 0,
              "ticks": ""
             }
            },
            "type": "scatterternary"
           }
          ],
          "surface": [
           {
            "colorbar": {
             "outlinewidth": 0,
             "ticks": ""
            },
            "colorscale": [
             [
              0,
              "#0d0887"
             ],
             [
              0.1111111111111111,
              "#46039f"
             ],
             [
              0.2222222222222222,
              "#7201a8"
             ],
             [
              0.3333333333333333,
              "#9c179e"
             ],
             [
              0.4444444444444444,
              "#bd3786"
             ],
             [
              0.5555555555555556,
              "#d8576b"
             ],
             [
              0.6666666666666666,
              "#ed7953"
             ],
             [
              0.7777777777777778,
              "#fb9f3a"
             ],
             [
              0.8888888888888888,
              "#fdca26"
             ],
             [
              1,
              "#f0f921"
             ]
            ],
            "type": "surface"
           }
          ],
          "table": [
           {
            "cells": {
             "fill": {
              "color": "#EBF0F8"
             },
             "line": {
              "color": "white"
             }
            },
            "header": {
             "fill": {
              "color": "#C8D4E3"
             },
             "line": {
              "color": "white"
             }
            },
            "type": "table"
           }
          ]
         },
         "layout": {
          "annotationdefaults": {
           "arrowcolor": "#2a3f5f",
           "arrowhead": 0,
           "arrowwidth": 1
          },
          "autotypenumbers": "strict",
          "coloraxis": {
           "colorbar": {
            "outlinewidth": 0,
            "ticks": ""
           }
          },
          "colorscale": {
           "diverging": [
            [
             0,
             "#8e0152"
            ],
            [
             0.1,
             "#c51b7d"
            ],
            [
             0.2,
             "#de77ae"
            ],
            [
             0.3,
             "#f1b6da"
            ],
            [
             0.4,
             "#fde0ef"
            ],
            [
             0.5,
             "#f7f7f7"
            ],
            [
             0.6,
             "#e6f5d0"
            ],
            [
             0.7,
             "#b8e186"
            ],
            [
             0.8,
             "#7fbc41"
            ],
            [
             0.9,
             "#4d9221"
            ],
            [
             1,
             "#276419"
            ]
           ],
           "sequential": [
            [
             0,
             "#0d0887"
            ],
            [
             0.1111111111111111,
             "#46039f"
            ],
            [
             0.2222222222222222,
             "#7201a8"
            ],
            [
             0.3333333333333333,
             "#9c179e"
            ],
            [
             0.4444444444444444,
             "#bd3786"
            ],
            [
             0.5555555555555556,
             "#d8576b"
            ],
            [
             0.6666666666666666,
             "#ed7953"
            ],
            [
             0.7777777777777778,
             "#fb9f3a"
            ],
            [
             0.8888888888888888,
             "#fdca26"
            ],
            [
             1,
             "#f0f921"
            ]
           ],
           "sequentialminus": [
            [
             0,
             "#0d0887"
            ],
            [
             0.1111111111111111,
             "#46039f"
            ],
            [
             0.2222222222222222,
             "#7201a8"
            ],
            [
             0.3333333333333333,
             "#9c179e"
            ],
            [
             0.4444444444444444,
             "#bd3786"
            ],
            [
             0.5555555555555556,
             "#d8576b"
            ],
            [
             0.6666666666666666,
             "#ed7953"
            ],
            [
             0.7777777777777778,
             "#fb9f3a"
            ],
            [
             0.8888888888888888,
             "#fdca26"
            ],
            [
             1,
             "#f0f921"
            ]
           ]
          },
          "colorway": [
           "#636efa",
           "#EF553B",
           "#00cc96",
           "#ab63fa",
           "#FFA15A",
           "#19d3f3",
           "#FF6692",
           "#B6E880",
           "#FF97FF",
           "#FECB52"
          ],
          "font": {
           "color": "#2a3f5f"
          },
          "geo": {
           "bgcolor": "white",
           "lakecolor": "white",
           "landcolor": "#E5ECF6",
           "showlakes": true,
           "showland": true,
           "subunitcolor": "white"
          },
          "hoverlabel": {
           "align": "left"
          },
          "hovermode": "closest",
          "mapbox": {
           "style": "light"
          },
          "paper_bgcolor": "white",
          "plot_bgcolor": "#E5ECF6",
          "polar": {
           "angularaxis": {
            "gridcolor": "white",
            "linecolor": "white",
            "ticks": ""
           },
           "bgcolor": "#E5ECF6",
           "radialaxis": {
            "gridcolor": "white",
            "linecolor": "white",
            "ticks": ""
           }
          },
          "scene": {
           "xaxis": {
            "backgroundcolor": "#E5ECF6",
            "gridcolor": "white",
            "gridwidth": 2,
            "linecolor": "white",
            "showbackground": true,
            "ticks": "",
            "zerolinecolor": "white"
           },
           "yaxis": {
            "backgroundcolor": "#E5ECF6",
            "gridcolor": "white",
            "gridwidth": 2,
            "linecolor": "white",
            "showbackground": true,
            "ticks": "",
            "zerolinecolor": "white"
           },
           "zaxis": {
            "backgroundcolor": "#E5ECF6",
            "gridcolor": "white",
            "gridwidth": 2,
            "linecolor": "white",
            "showbackground": true,
            "ticks": "",
            "zerolinecolor": "white"
           }
          },
          "shapedefaults": {
           "line": {
            "color": "#2a3f5f"
           }
          },
          "ternary": {
           "aaxis": {
            "gridcolor": "white",
            "linecolor": "white",
            "ticks": ""
           },
           "baxis": {
            "gridcolor": "white",
            "linecolor": "white",
            "ticks": ""
           },
           "bgcolor": "#E5ECF6",
           "caxis": {
            "gridcolor": "white",
            "linecolor": "white",
            "ticks": ""
           }
          },
          "title": {
           "x": 0.05
          },
          "xaxis": {
           "automargin": true,
           "gridcolor": "white",
           "linecolor": "white",
           "ticks": "",
           "title": {
            "standoff": 15
           },
           "zerolinecolor": "white",
           "zerolinewidth": 2
          },
          "yaxis": {
           "automargin": true,
           "gridcolor": "white",
           "linecolor": "white",
           "ticks": "",
           "title": {
            "standoff": 15
           },
           "zerolinecolor": "white",
           "zerolinewidth": 2
          }
         }
        },
        "xaxis": {
         "anchor": "y",
         "domain": [
          0,
          1
         ],
         "title": {
          "text": "index"
         }
        },
        "yaxis": {
         "anchor": "x",
         "domain": [
          0,
          1
         ],
         "title": {
          "text": "value"
         }
        }
       }
      }
     },
     "metadata": {},
     "output_type": "display_data"
    }
   ],
   "source": [
    "px.line(metodos_PvP_sensibilidades.T)"
   ]
  },
  {
   "cell_type": "markdown",
   "metadata": {},
   "source": [
    "## Métodos SoloHum"
   ]
  },
  {
   "cell_type": "code",
   "execution_count": 122,
   "metadata": {},
   "outputs": [
    {
     "data": {
      "text/html": [
       "<div>\n",
       "<style scoped>\n",
       "    .dataframe tbody tr th:only-of-type {\n",
       "        vertical-align: middle;\n",
       "    }\n",
       "\n",
       "    .dataframe tbody tr th {\n",
       "        vertical-align: top;\n",
       "    }\n",
       "\n",
       "    .dataframe thead th {\n",
       "        text-align: right;\n",
       "    }\n",
       "</style>\n",
       "<table border=\"1\" class=\"dataframe\">\n",
       "  <thead>\n",
       "    <tr style=\"text-align: right;\">\n",
       "      <th></th>\n",
       "      <th>Negro</th>\n",
       "      <th>Congelado</th>\n",
       "      <th>Hum</th>\n",
       "      <th>Anomalia</th>\n",
       "      <th>HBOS</th>\n",
       "      <th>IForest</th>\n",
       "      <th>KNN</th>\n",
       "    </tr>\n",
       "    <tr>\n",
       "      <th>fecha</th>\n",
       "      <th></th>\n",
       "      <th></th>\n",
       "      <th></th>\n",
       "      <th></th>\n",
       "      <th></th>\n",
       "      <th></th>\n",
       "      <th></th>\n",
       "    </tr>\n",
       "  </thead>\n",
       "  <tbody>\n",
       "    <tr>\n",
       "      <th>2021-09-25 06:51:00</th>\n",
       "      <td>0</td>\n",
       "      <td>0</td>\n",
       "      <td>0</td>\n",
       "      <td>0</td>\n",
       "      <td>0</td>\n",
       "      <td>0</td>\n",
       "      <td>0</td>\n",
       "    </tr>\n",
       "    <tr>\n",
       "      <th>2021-06-20 02:11:00</th>\n",
       "      <td>0</td>\n",
       "      <td>0</td>\n",
       "      <td>0</td>\n",
       "      <td>0</td>\n",
       "      <td>0</td>\n",
       "      <td>0</td>\n",
       "      <td>0</td>\n",
       "    </tr>\n",
       "    <tr>\n",
       "      <th>2021-04-17 02:33:00</th>\n",
       "      <td>0</td>\n",
       "      <td>0</td>\n",
       "      <td>0</td>\n",
       "      <td>0</td>\n",
       "      <td>0</td>\n",
       "      <td>0</td>\n",
       "      <td>0</td>\n",
       "    </tr>\n",
       "    <tr>\n",
       "      <th>2021-06-25 20:59:00</th>\n",
       "      <td>0</td>\n",
       "      <td>0</td>\n",
       "      <td>0</td>\n",
       "      <td>0</td>\n",
       "      <td>0</td>\n",
       "      <td>0</td>\n",
       "      <td>0</td>\n",
       "    </tr>\n",
       "    <tr>\n",
       "      <th>2021-03-17 22:22:00</th>\n",
       "      <td>0</td>\n",
       "      <td>0</td>\n",
       "      <td>0</td>\n",
       "      <td>0</td>\n",
       "      <td>0</td>\n",
       "      <td>0</td>\n",
       "      <td>0</td>\n",
       "    </tr>\n",
       "  </tbody>\n",
       "</table>\n",
       "</div>"
      ],
      "text/plain": [
       "                     Negro  Congelado  Hum  Anomalia  HBOS  IForest  KNN\n",
       "fecha                                                                   \n",
       "2021-09-25 06:51:00      0          0    0         0     0        0    0\n",
       "2021-06-20 02:11:00      0          0    0         0     0        0    0\n",
       "2021-04-17 02:33:00      0          0    0         0     0        0    0\n",
       "2021-06-25 20:59:00      0          0    0         0     0        0    0\n",
       "2021-03-17 22:22:00      0          0    0         0     0        0    0"
      ]
     },
     "execution_count": 122,
     "metadata": {},
     "output_type": "execute_result"
    }
   ],
   "source": [
    "metodos_SH = pd.read_csv('Metodos_SoloHumedades/Thresholds/Resultados/PyOD_HBOS_completo.csv',index_col='fecha')\n",
    "metodos_SH = metodos_SH.drop('Y_pred', axis=1)\n",
    "\n",
    "metodos_SH['HBOS'] = pd.read_csv('Metodos_SoloHumedades/Thresholds/Resultados/PyOD_HBOS_completo.csv',usecols=['fecha','Y_pred'],index_col='fecha')\n",
    "metodos_SH['IForest'] = pd.read_csv('Metodos_SoloHumedades/Thresholds/Resultados/PyOD_IForest_completo.csv',usecols=['fecha','Y_pred'],index_col='fecha')\n",
    "metodos_SH['KNN'] = pd.read_csv('Metodos_SoloHumedades/Thresholds/Resultados/PyOD_KNN_completo.csv',usecols=['fecha','Y_pred'],index_col='fecha')\n",
    "metodos_SH.head()"
   ]
  },
  {
   "cell_type": "markdown",
   "metadata": {},
   "source": []
  },
  {
   "cell_type": "markdown",
   "metadata": {},
   "source": [
    "### Métricas generales:"
   ]
  },
  {
   "cell_type": "code",
   "execution_count": 123,
   "metadata": {},
   "outputs": [
    {
     "data": {
      "text/html": [
       "<div>\n",
       "<style scoped>\n",
       "    .dataframe tbody tr th:only-of-type {\n",
       "        vertical-align: middle;\n",
       "    }\n",
       "\n",
       "    .dataframe tbody tr th {\n",
       "        vertical-align: top;\n",
       "    }\n",
       "\n",
       "    .dataframe thead th {\n",
       "        text-align: right;\n",
       "    }\n",
       "</style>\n",
       "<table border=\"1\" class=\"dataframe\">\n",
       "  <thead>\n",
       "    <tr style=\"text-align: right;\">\n",
       "      <th></th>\n",
       "      <th>roc_auc</th>\n",
       "      <th>accuracy</th>\n",
       "      <th>precision</th>\n",
       "      <th>kappa</th>\n",
       "      <th>sensibilidad</th>\n",
       "      <th>especificidad</th>\n",
       "    </tr>\n",
       "  </thead>\n",
       "  <tbody>\n",
       "    <tr>\n",
       "      <th>HBOS</th>\n",
       "      <td>0.88092</td>\n",
       "      <td>0.954808</td>\n",
       "      <td>0.701411</td>\n",
       "      <td>0.719424</td>\n",
       "      <td>0.792341</td>\n",
       "      <td>0.969499</td>\n",
       "    </tr>\n",
       "    <tr>\n",
       "      <th>IForest</th>\n",
       "      <td>0.863139</td>\n",
       "      <td>0.943426</td>\n",
       "      <td>0.630673</td>\n",
       "      <td>0.661319</td>\n",
       "      <td>0.766889</td>\n",
       "      <td>0.95939</td>\n",
       "    </tr>\n",
       "    <tr>\n",
       "      <th>KNN</th>\n",
       "      <td>0.605612</td>\n",
       "      <td>0.864148</td>\n",
       "      <td>0.240472</td>\n",
       "      <td>0.191258</td>\n",
       "      <td>0.295671</td>\n",
       "      <td>0.915554</td>\n",
       "    </tr>\n",
       "  </tbody>\n",
       "</table>\n",
       "</div>"
      ],
      "text/plain": [
       "          roc_auc  accuracy precision     kappa sensibilidad especificidad\n",
       "HBOS      0.88092  0.954808  0.701411  0.719424     0.792341      0.969499\n",
       "IForest  0.863139  0.943426  0.630673  0.661319     0.766889       0.95939\n",
       "KNN      0.605612  0.864148  0.240472  0.191258     0.295671      0.915554"
      ]
     },
     "execution_count": 123,
     "metadata": {},
     "output_type": "execute_result"
    }
   ],
   "source": [
    "metodos_SH_lista = ['HBOS','IForest','KNN']\n",
    "metodos_SH_metricas = calc_metricas(metodos_SH,metodos_SH_lista)\n",
    "metodos_SH_metricas"
   ]
  },
  {
   "cell_type": "code",
   "execution_count": 124,
   "metadata": {},
   "outputs": [
    {
     "data": {
      "text/html": [
       "<div>\n",
       "<style scoped>\n",
       "    .dataframe tbody tr th:only-of-type {\n",
       "        vertical-align: middle;\n",
       "    }\n",
       "\n",
       "    .dataframe tbody tr th {\n",
       "        vertical-align: top;\n",
       "    }\n",
       "\n",
       "    .dataframe thead th {\n",
       "        text-align: right;\n",
       "    }\n",
       "</style>\n",
       "<table border=\"1\" class=\"dataframe\">\n",
       "  <thead>\n",
       "    <tr style=\"text-align: right;\">\n",
       "      <th></th>\n",
       "      <th>roc_auc</th>\n",
       "      <th>accuracy</th>\n",
       "      <th>precision</th>\n",
       "      <th>kappa</th>\n",
       "      <th>sensibilidad</th>\n",
       "      <th>especificidad</th>\n",
       "    </tr>\n",
       "  </thead>\n",
       "  <tbody>\n",
       "    <tr>\n",
       "      <th>MAD_PyOD</th>\n",
       "      <td>0.846144</td>\n",
       "      <td>0.919795</td>\n",
       "      <td>0.511068</td>\n",
       "      <td>0.567634</td>\n",
       "      <td>0.75785</td>\n",
       "      <td>0.934439</td>\n",
       "    </tr>\n",
       "    <tr>\n",
       "      <th>SAD</th>\n",
       "      <td>0.823293</td>\n",
       "      <td>0.931058</td>\n",
       "      <td>0.569144</td>\n",
       "      <td>0.587886</td>\n",
       "      <td>0.694101</td>\n",
       "      <td>0.952485</td>\n",
       "    </tr>\n",
       "  </tbody>\n",
       "</table>\n",
       "</div>"
      ],
      "text/plain": [
       "           roc_auc  accuracy precision     kappa sensibilidad especificidad\n",
       "MAD_PyOD  0.846144  0.919795  0.511068  0.567634      0.75785      0.934439\n",
       "SAD       0.823293  0.931058  0.569144  0.587886     0.694101      0.952485"
      ]
     },
     "execution_count": 124,
     "metadata": {},
     "output_type": "execute_result"
    }
   ],
   "source": [
    "metodos_PvP_metricas = calc_metricas(metodos_PvP, metodos_PvP_lista)\n",
    "metodos_PvP_metricas"
   ]
  },
  {
   "cell_type": "code",
   "execution_count": 125,
   "metadata": {},
   "outputs": [
    {
     "data": {
      "application/vnd.plotly.v1+json": {
       "config": {
        "plotlyServerURL": "https://plot.ly"
       },
       "data": [
        {
         "hovertemplate": "variable=HBOS<br>index=%{x}<br>value=%{y}<extra></extra>",
         "legendgroup": "HBOS",
         "line": {
          "color": "#636efa",
          "dash": "solid"
         },
         "marker": {
          "symbol": "circle"
         },
         "mode": "lines",
         "name": "HBOS",
         "orientation": "v",
         "showlegend": true,
         "type": "scatter",
         "x": [
          "roc_auc",
          "accuracy",
          "precision",
          "kappa",
          "sensibilidad",
          "especificidad"
         ],
         "xaxis": "x",
         "y": [
          0.8809200504948207,
          0.9548081664858468,
          0.7014108233312276,
          0.7194243721769993,
          0.7923406279733587,
          0.9694994730162827
         ],
         "yaxis": "y"
        },
        {
         "hovertemplate": "variable=IForest<br>index=%{x}<br>value=%{y}<extra></extra>",
         "legendgroup": "IForest",
         "line": {
          "color": "#EF553B",
          "dash": "solid"
         },
         "marker": {
          "symbol": "circle"
         },
         "mode": "lines",
         "name": "IForest",
         "orientation": "v",
         "showlegend": true,
         "type": "scatter",
         "x": [
          "roc_auc",
          "accuracy",
          "precision",
          "kappa",
          "sensibilidad",
          "especificidad"
         ],
         "xaxis": "x",
         "y": [
          0.8631393334551867,
          0.9434263734096064,
          0.6306729264475743,
          0.661319225471324,
          0.7668886774500476,
          0.9593899894603256
         ],
         "yaxis": "y"
        },
        {
         "hovertemplate": "variable=KNN<br>index=%{x}<br>value=%{y}<extra></extra>",
         "legendgroup": "KNN",
         "line": {
          "color": "#00cc96",
          "dash": "solid"
         },
         "marker": {
          "symbol": "circle"
         },
         "mode": "lines",
         "name": "KNN",
         "orientation": "v",
         "showlegend": true,
         "type": "scatter",
         "x": [
          "roc_auc",
          "accuracy",
          "precision",
          "kappa",
          "sensibilidad",
          "especificidad"
         ],
         "xaxis": "x",
         "y": [
          0.6056121688613049,
          0.8641483381004044,
          0.2404720448829561,
          0.19125825827921716,
          0.2956707897240723,
          0.9155535479985374
         ],
         "yaxis": "y"
        }
       ],
       "layout": {
        "legend": {
         "title": {
          "text": "variable"
         },
         "tracegroupgap": 0
        },
        "margin": {
         "t": 60
        },
        "template": {
         "data": {
          "bar": [
           {
            "error_x": {
             "color": "#2a3f5f"
            },
            "error_y": {
             "color": "#2a3f5f"
            },
            "marker": {
             "line": {
              "color": "#E5ECF6",
              "width": 0.5
             },
             "pattern": {
              "fillmode": "overlay",
              "size": 10,
              "solidity": 0.2
             }
            },
            "type": "bar"
           }
          ],
          "barpolar": [
           {
            "marker": {
             "line": {
              "color": "#E5ECF6",
              "width": 0.5
             },
             "pattern": {
              "fillmode": "overlay",
              "size": 10,
              "solidity": 0.2
             }
            },
            "type": "barpolar"
           }
          ],
          "carpet": [
           {
            "aaxis": {
             "endlinecolor": "#2a3f5f",
             "gridcolor": "white",
             "linecolor": "white",
             "minorgridcolor": "white",
             "startlinecolor": "#2a3f5f"
            },
            "baxis": {
             "endlinecolor": "#2a3f5f",
             "gridcolor": "white",
             "linecolor": "white",
             "minorgridcolor": "white",
             "startlinecolor": "#2a3f5f"
            },
            "type": "carpet"
           }
          ],
          "choropleth": [
           {
            "colorbar": {
             "outlinewidth": 0,
             "ticks": ""
            },
            "type": "choropleth"
           }
          ],
          "contour": [
           {
            "colorbar": {
             "outlinewidth": 0,
             "ticks": ""
            },
            "colorscale": [
             [
              0,
              "#0d0887"
             ],
             [
              0.1111111111111111,
              "#46039f"
             ],
             [
              0.2222222222222222,
              "#7201a8"
             ],
             [
              0.3333333333333333,
              "#9c179e"
             ],
             [
              0.4444444444444444,
              "#bd3786"
             ],
             [
              0.5555555555555556,
              "#d8576b"
             ],
             [
              0.6666666666666666,
              "#ed7953"
             ],
             [
              0.7777777777777778,
              "#fb9f3a"
             ],
             [
              0.8888888888888888,
              "#fdca26"
             ],
             [
              1,
              "#f0f921"
             ]
            ],
            "type": "contour"
           }
          ],
          "contourcarpet": [
           {
            "colorbar": {
             "outlinewidth": 0,
             "ticks": ""
            },
            "type": "contourcarpet"
           }
          ],
          "heatmap": [
           {
            "colorbar": {
             "outlinewidth": 0,
             "ticks": ""
            },
            "colorscale": [
             [
              0,
              "#0d0887"
             ],
             [
              0.1111111111111111,
              "#46039f"
             ],
             [
              0.2222222222222222,
              "#7201a8"
             ],
             [
              0.3333333333333333,
              "#9c179e"
             ],
             [
              0.4444444444444444,
              "#bd3786"
             ],
             [
              0.5555555555555556,
              "#d8576b"
             ],
             [
              0.6666666666666666,
              "#ed7953"
             ],
             [
              0.7777777777777778,
              "#fb9f3a"
             ],
             [
              0.8888888888888888,
              "#fdca26"
             ],
             [
              1,
              "#f0f921"
             ]
            ],
            "type": "heatmap"
           }
          ],
          "heatmapgl": [
           {
            "colorbar": {
             "outlinewidth": 0,
             "ticks": ""
            },
            "colorscale": [
             [
              0,
              "#0d0887"
             ],
             [
              0.1111111111111111,
              "#46039f"
             ],
             [
              0.2222222222222222,
              "#7201a8"
             ],
             [
              0.3333333333333333,
              "#9c179e"
             ],
             [
              0.4444444444444444,
              "#bd3786"
             ],
             [
              0.5555555555555556,
              "#d8576b"
             ],
             [
              0.6666666666666666,
              "#ed7953"
             ],
             [
              0.7777777777777778,
              "#fb9f3a"
             ],
             [
              0.8888888888888888,
              "#fdca26"
             ],
             [
              1,
              "#f0f921"
             ]
            ],
            "type": "heatmapgl"
           }
          ],
          "histogram": [
           {
            "marker": {
             "pattern": {
              "fillmode": "overlay",
              "size": 10,
              "solidity": 0.2
             }
            },
            "type": "histogram"
           }
          ],
          "histogram2d": [
           {
            "colorbar": {
             "outlinewidth": 0,
             "ticks": ""
            },
            "colorscale": [
             [
              0,
              "#0d0887"
             ],
             [
              0.1111111111111111,
              "#46039f"
             ],
             [
              0.2222222222222222,
              "#7201a8"
             ],
             [
              0.3333333333333333,
              "#9c179e"
             ],
             [
              0.4444444444444444,
              "#bd3786"
             ],
             [
              0.5555555555555556,
              "#d8576b"
             ],
             [
              0.6666666666666666,
              "#ed7953"
             ],
             [
              0.7777777777777778,
              "#fb9f3a"
             ],
             [
              0.8888888888888888,
              "#fdca26"
             ],
             [
              1,
              "#f0f921"
             ]
            ],
            "type": "histogram2d"
           }
          ],
          "histogram2dcontour": [
           {
            "colorbar": {
             "outlinewidth": 0,
             "ticks": ""
            },
            "colorscale": [
             [
              0,
              "#0d0887"
             ],
             [
              0.1111111111111111,
              "#46039f"
             ],
             [
              0.2222222222222222,
              "#7201a8"
             ],
             [
              0.3333333333333333,
              "#9c179e"
             ],
             [
              0.4444444444444444,
              "#bd3786"
             ],
             [
              0.5555555555555556,
              "#d8576b"
             ],
             [
              0.6666666666666666,
              "#ed7953"
             ],
             [
              0.7777777777777778,
              "#fb9f3a"
             ],
             [
              0.8888888888888888,
              "#fdca26"
             ],
             [
              1,
              "#f0f921"
             ]
            ],
            "type": "histogram2dcontour"
           }
          ],
          "mesh3d": [
           {
            "colorbar": {
             "outlinewidth": 0,
             "ticks": ""
            },
            "type": "mesh3d"
           }
          ],
          "parcoords": [
           {
            "line": {
             "colorbar": {
              "outlinewidth": 0,
              "ticks": ""
             }
            },
            "type": "parcoords"
           }
          ],
          "pie": [
           {
            "automargin": true,
            "type": "pie"
           }
          ],
          "scatter": [
           {
            "fillpattern": {
             "fillmode": "overlay",
             "size": 10,
             "solidity": 0.2
            },
            "type": "scatter"
           }
          ],
          "scatter3d": [
           {
            "line": {
             "colorbar": {
              "outlinewidth": 0,
              "ticks": ""
             }
            },
            "marker": {
             "colorbar": {
              "outlinewidth": 0,
              "ticks": ""
             }
            },
            "type": "scatter3d"
           }
          ],
          "scattercarpet": [
           {
            "marker": {
             "colorbar": {
              "outlinewidth": 0,
              "ticks": ""
             }
            },
            "type": "scattercarpet"
           }
          ],
          "scattergeo": [
           {
            "marker": {
             "colorbar": {
              "outlinewidth": 0,
              "ticks": ""
             }
            },
            "type": "scattergeo"
           }
          ],
          "scattergl": [
           {
            "marker": {
             "colorbar": {
              "outlinewidth": 0,
              "ticks": ""
             }
            },
            "type": "scattergl"
           }
          ],
          "scattermapbox": [
           {
            "marker": {
             "colorbar": {
              "outlinewidth": 0,
              "ticks": ""
             }
            },
            "type": "scattermapbox"
           }
          ],
          "scatterpolar": [
           {
            "marker": {
             "colorbar": {
              "outlinewidth": 0,
              "ticks": ""
             }
            },
            "type": "scatterpolar"
           }
          ],
          "scatterpolargl": [
           {
            "marker": {
             "colorbar": {
              "outlinewidth": 0,
              "ticks": ""
             }
            },
            "type": "scatterpolargl"
           }
          ],
          "scatterternary": [
           {
            "marker": {
             "colorbar": {
              "outlinewidth": 0,
              "ticks": ""
             }
            },
            "type": "scatterternary"
           }
          ],
          "surface": [
           {
            "colorbar": {
             "outlinewidth": 0,
             "ticks": ""
            },
            "colorscale": [
             [
              0,
              "#0d0887"
             ],
             [
              0.1111111111111111,
              "#46039f"
             ],
             [
              0.2222222222222222,
              "#7201a8"
             ],
             [
              0.3333333333333333,
              "#9c179e"
             ],
             [
              0.4444444444444444,
              "#bd3786"
             ],
             [
              0.5555555555555556,
              "#d8576b"
             ],
             [
              0.6666666666666666,
              "#ed7953"
             ],
             [
              0.7777777777777778,
              "#fb9f3a"
             ],
             [
              0.8888888888888888,
              "#fdca26"
             ],
             [
              1,
              "#f0f921"
             ]
            ],
            "type": "surface"
           }
          ],
          "table": [
           {
            "cells": {
             "fill": {
              "color": "#EBF0F8"
             },
             "line": {
              "color": "white"
             }
            },
            "header": {
             "fill": {
              "color": "#C8D4E3"
             },
             "line": {
              "color": "white"
             }
            },
            "type": "table"
           }
          ]
         },
         "layout": {
          "annotationdefaults": {
           "arrowcolor": "#2a3f5f",
           "arrowhead": 0,
           "arrowwidth": 1
          },
          "autotypenumbers": "strict",
          "coloraxis": {
           "colorbar": {
            "outlinewidth": 0,
            "ticks": ""
           }
          },
          "colorscale": {
           "diverging": [
            [
             0,
             "#8e0152"
            ],
            [
             0.1,
             "#c51b7d"
            ],
            [
             0.2,
             "#de77ae"
            ],
            [
             0.3,
             "#f1b6da"
            ],
            [
             0.4,
             "#fde0ef"
            ],
            [
             0.5,
             "#f7f7f7"
            ],
            [
             0.6,
             "#e6f5d0"
            ],
            [
             0.7,
             "#b8e186"
            ],
            [
             0.8,
             "#7fbc41"
            ],
            [
             0.9,
             "#4d9221"
            ],
            [
             1,
             "#276419"
            ]
           ],
           "sequential": [
            [
             0,
             "#0d0887"
            ],
            [
             0.1111111111111111,
             "#46039f"
            ],
            [
             0.2222222222222222,
             "#7201a8"
            ],
            [
             0.3333333333333333,
             "#9c179e"
            ],
            [
             0.4444444444444444,
             "#bd3786"
            ],
            [
             0.5555555555555556,
             "#d8576b"
            ],
            [
             0.6666666666666666,
             "#ed7953"
            ],
            [
             0.7777777777777778,
             "#fb9f3a"
            ],
            [
             0.8888888888888888,
             "#fdca26"
            ],
            [
             1,
             "#f0f921"
            ]
           ],
           "sequentialminus": [
            [
             0,
             "#0d0887"
            ],
            [
             0.1111111111111111,
             "#46039f"
            ],
            [
             0.2222222222222222,
             "#7201a8"
            ],
            [
             0.3333333333333333,
             "#9c179e"
            ],
            [
             0.4444444444444444,
             "#bd3786"
            ],
            [
             0.5555555555555556,
             "#d8576b"
            ],
            [
             0.6666666666666666,
             "#ed7953"
            ],
            [
             0.7777777777777778,
             "#fb9f3a"
            ],
            [
             0.8888888888888888,
             "#fdca26"
            ],
            [
             1,
             "#f0f921"
            ]
           ]
          },
          "colorway": [
           "#636efa",
           "#EF553B",
           "#00cc96",
           "#ab63fa",
           "#FFA15A",
           "#19d3f3",
           "#FF6692",
           "#B6E880",
           "#FF97FF",
           "#FECB52"
          ],
          "font": {
           "color": "#2a3f5f"
          },
          "geo": {
           "bgcolor": "white",
           "lakecolor": "white",
           "landcolor": "#E5ECF6",
           "showlakes": true,
           "showland": true,
           "subunitcolor": "white"
          },
          "hoverlabel": {
           "align": "left"
          },
          "hovermode": "closest",
          "mapbox": {
           "style": "light"
          },
          "paper_bgcolor": "white",
          "plot_bgcolor": "#E5ECF6",
          "polar": {
           "angularaxis": {
            "gridcolor": "white",
            "linecolor": "white",
            "ticks": ""
           },
           "bgcolor": "#E5ECF6",
           "radialaxis": {
            "gridcolor": "white",
            "linecolor": "white",
            "ticks": ""
           }
          },
          "scene": {
           "xaxis": {
            "backgroundcolor": "#E5ECF6",
            "gridcolor": "white",
            "gridwidth": 2,
            "linecolor": "white",
            "showbackground": true,
            "ticks": "",
            "zerolinecolor": "white"
           },
           "yaxis": {
            "backgroundcolor": "#E5ECF6",
            "gridcolor": "white",
            "gridwidth": 2,
            "linecolor": "white",
            "showbackground": true,
            "ticks": "",
            "zerolinecolor": "white"
           },
           "zaxis": {
            "backgroundcolor": "#E5ECF6",
            "gridcolor": "white",
            "gridwidth": 2,
            "linecolor": "white",
            "showbackground": true,
            "ticks": "",
            "zerolinecolor": "white"
           }
          },
          "shapedefaults": {
           "line": {
            "color": "#2a3f5f"
           }
          },
          "ternary": {
           "aaxis": {
            "gridcolor": "white",
            "linecolor": "white",
            "ticks": ""
           },
           "baxis": {
            "gridcolor": "white",
            "linecolor": "white",
            "ticks": ""
           },
           "bgcolor": "#E5ECF6",
           "caxis": {
            "gridcolor": "white",
            "linecolor": "white",
            "ticks": ""
           }
          },
          "title": {
           "x": 0.05
          },
          "xaxis": {
           "automargin": true,
           "gridcolor": "white",
           "linecolor": "white",
           "ticks": "",
           "title": {
            "standoff": 15
           },
           "zerolinecolor": "white",
           "zerolinewidth": 2
          },
          "yaxis": {
           "automargin": true,
           "gridcolor": "white",
           "linecolor": "white",
           "ticks": "",
           "title": {
            "standoff": 15
           },
           "zerolinecolor": "white",
           "zerolinewidth": 2
          }
         }
        },
        "xaxis": {
         "anchor": "y",
         "domain": [
          0,
          1
         ],
         "title": {
          "text": "index"
         }
        },
        "yaxis": {
         "anchor": "x",
         "domain": [
          0,
          1
         ],
         "title": {
          "text": "value"
         }
        }
       }
      }
     },
     "metadata": {},
     "output_type": "display_data"
    }
   ],
   "source": [
    "px.line(metodos_SH_metricas.T)"
   ]
  },
  {
   "cell_type": "markdown",
   "metadata": {},
   "source": [
    "### Sensibilidad por tipo de anomalía"
   ]
  },
  {
   "cell_type": "code",
   "execution_count": 126,
   "metadata": {},
   "outputs": [
    {
     "data": {
      "text/html": [
       "<div>\n",
       "<style scoped>\n",
       "    .dataframe tbody tr th:only-of-type {\n",
       "        vertical-align: middle;\n",
       "    }\n",
       "\n",
       "    .dataframe tbody tr th {\n",
       "        vertical-align: top;\n",
       "    }\n",
       "\n",
       "    .dataframe thead th {\n",
       "        text-align: right;\n",
       "    }\n",
       "</style>\n",
       "<table border=\"1\" class=\"dataframe\">\n",
       "  <thead>\n",
       "    <tr style=\"text-align: right;\">\n",
       "      <th></th>\n",
       "      <th>Anomalia</th>\n",
       "      <th>Negro</th>\n",
       "      <th>Congelado</th>\n",
       "      <th>Hum</th>\n",
       "    </tr>\n",
       "  </thead>\n",
       "  <tbody>\n",
       "    <tr>\n",
       "      <th>HBOS</th>\n",
       "      <td>0.792341</td>\n",
       "      <td>0.857052</td>\n",
       "      <td>0.902534</td>\n",
       "      <td>0.505376</td>\n",
       "    </tr>\n",
       "    <tr>\n",
       "      <th>IForest</th>\n",
       "      <td>0.766889</td>\n",
       "      <td>0.827575</td>\n",
       "      <td>0.89961</td>\n",
       "      <td>0.480287</td>\n",
       "    </tr>\n",
       "    <tr>\n",
       "      <th>KNN</th>\n",
       "      <td>0.295671</td>\n",
       "      <td>0.271315</td>\n",
       "      <td>0.2846</td>\n",
       "      <td>0.476703</td>\n",
       "    </tr>\n",
       "  </tbody>\n",
       "</table>\n",
       "</div>"
      ],
      "text/plain": [
       "         Anomalia     Negro Congelado       Hum\n",
       "HBOS     0.792341  0.857052  0.902534  0.505376\n",
       "IForest  0.766889  0.827575   0.89961  0.480287\n",
       "KNN      0.295671  0.271315    0.2846  0.476703"
      ]
     },
     "execution_count": 126,
     "metadata": {},
     "output_type": "execute_result"
    }
   ],
   "source": [
    "metodos_SH_sensibilidades = calc_sensibilidad(metodos_SH,metodos_SH_lista,anomalias)\n",
    "metodos_SH_sensibilidades"
   ]
  },
  {
   "cell_type": "code",
   "execution_count": 127,
   "metadata": {},
   "outputs": [
    {
     "data": {
      "application/vnd.plotly.v1+json": {
       "config": {
        "plotlyServerURL": "https://plot.ly"
       },
       "data": [
        {
         "hovertemplate": "variable=HBOS<br>index=%{x}<br>value=%{y}<extra></extra>",
         "legendgroup": "HBOS",
         "line": {
          "color": "#636efa",
          "dash": "solid"
         },
         "marker": {
          "symbol": "circle"
         },
         "mode": "lines",
         "name": "HBOS",
         "orientation": "v",
         "showlegend": true,
         "type": "scatter",
         "x": [
          "Anomalia",
          "Negro",
          "Congelado",
          "Hum"
         ],
         "xaxis": "x",
         "y": [
          0.7923406279733587,
          0.8570522979397781,
          0.9025341130604289,
          0.5053763440860215
         ],
         "yaxis": "y"
        },
        {
         "hovertemplate": "variable=IForest<br>index=%{x}<br>value=%{y}<extra></extra>",
         "legendgroup": "IForest",
         "line": {
          "color": "#EF553B",
          "dash": "solid"
         },
         "marker": {
          "symbol": "circle"
         },
         "mode": "lines",
         "name": "IForest",
         "orientation": "v",
         "showlegend": true,
         "type": "scatter",
         "x": [
          "Anomalia",
          "Negro",
          "Congelado",
          "Hum"
         ],
         "xaxis": "x",
         "y": [
          0.7668886774500476,
          0.8275752773375594,
          0.8996101364522417,
          0.48028673835125446
         ],
         "yaxis": "y"
        },
        {
         "hovertemplate": "variable=KNN<br>index=%{x}<br>value=%{y}<extra></extra>",
         "legendgroup": "KNN",
         "line": {
          "color": "#00cc96",
          "dash": "solid"
         },
         "marker": {
          "symbol": "circle"
         },
         "mode": "lines",
         "name": "KNN",
         "orientation": "v",
         "showlegend": true,
         "type": "scatter",
         "x": [
          "Anomalia",
          "Negro",
          "Congelado",
          "Hum"
         ],
         "xaxis": "x",
         "y": [
          0.2956707897240723,
          0.27131537242472265,
          0.28460038986354774,
          0.4767025089605735
         ],
         "yaxis": "y"
        }
       ],
       "layout": {
        "legend": {
         "title": {
          "text": "variable"
         },
         "tracegroupgap": 0
        },
        "margin": {
         "t": 60
        },
        "template": {
         "data": {
          "bar": [
           {
            "error_x": {
             "color": "#2a3f5f"
            },
            "error_y": {
             "color": "#2a3f5f"
            },
            "marker": {
             "line": {
              "color": "#E5ECF6",
              "width": 0.5
             },
             "pattern": {
              "fillmode": "overlay",
              "size": 10,
              "solidity": 0.2
             }
            },
            "type": "bar"
           }
          ],
          "barpolar": [
           {
            "marker": {
             "line": {
              "color": "#E5ECF6",
              "width": 0.5
             },
             "pattern": {
              "fillmode": "overlay",
              "size": 10,
              "solidity": 0.2
             }
            },
            "type": "barpolar"
           }
          ],
          "carpet": [
           {
            "aaxis": {
             "endlinecolor": "#2a3f5f",
             "gridcolor": "white",
             "linecolor": "white",
             "minorgridcolor": "white",
             "startlinecolor": "#2a3f5f"
            },
            "baxis": {
             "endlinecolor": "#2a3f5f",
             "gridcolor": "white",
             "linecolor": "white",
             "minorgridcolor": "white",
             "startlinecolor": "#2a3f5f"
            },
            "type": "carpet"
           }
          ],
          "choropleth": [
           {
            "colorbar": {
             "outlinewidth": 0,
             "ticks": ""
            },
            "type": "choropleth"
           }
          ],
          "contour": [
           {
            "colorbar": {
             "outlinewidth": 0,
             "ticks": ""
            },
            "colorscale": [
             [
              0,
              "#0d0887"
             ],
             [
              0.1111111111111111,
              "#46039f"
             ],
             [
              0.2222222222222222,
              "#7201a8"
             ],
             [
              0.3333333333333333,
              "#9c179e"
             ],
             [
              0.4444444444444444,
              "#bd3786"
             ],
             [
              0.5555555555555556,
              "#d8576b"
             ],
             [
              0.6666666666666666,
              "#ed7953"
             ],
             [
              0.7777777777777778,
              "#fb9f3a"
             ],
             [
              0.8888888888888888,
              "#fdca26"
             ],
             [
              1,
              "#f0f921"
             ]
            ],
            "type": "contour"
           }
          ],
          "contourcarpet": [
           {
            "colorbar": {
             "outlinewidth": 0,
             "ticks": ""
            },
            "type": "contourcarpet"
           }
          ],
          "heatmap": [
           {
            "colorbar": {
             "outlinewidth": 0,
             "ticks": ""
            },
            "colorscale": [
             [
              0,
              "#0d0887"
             ],
             [
              0.1111111111111111,
              "#46039f"
             ],
             [
              0.2222222222222222,
              "#7201a8"
             ],
             [
              0.3333333333333333,
              "#9c179e"
             ],
             [
              0.4444444444444444,
              "#bd3786"
             ],
             [
              0.5555555555555556,
              "#d8576b"
             ],
             [
              0.6666666666666666,
              "#ed7953"
             ],
             [
              0.7777777777777778,
              "#fb9f3a"
             ],
             [
              0.8888888888888888,
              "#fdca26"
             ],
             [
              1,
              "#f0f921"
             ]
            ],
            "type": "heatmap"
           }
          ],
          "heatmapgl": [
           {
            "colorbar": {
             "outlinewidth": 0,
             "ticks": ""
            },
            "colorscale": [
             [
              0,
              "#0d0887"
             ],
             [
              0.1111111111111111,
              "#46039f"
             ],
             [
              0.2222222222222222,
              "#7201a8"
             ],
             [
              0.3333333333333333,
              "#9c179e"
             ],
             [
              0.4444444444444444,
              "#bd3786"
             ],
             [
              0.5555555555555556,
              "#d8576b"
             ],
             [
              0.6666666666666666,
              "#ed7953"
             ],
             [
              0.7777777777777778,
              "#fb9f3a"
             ],
             [
              0.8888888888888888,
              "#fdca26"
             ],
             [
              1,
              "#f0f921"
             ]
            ],
            "type": "heatmapgl"
           }
          ],
          "histogram": [
           {
            "marker": {
             "pattern": {
              "fillmode": "overlay",
              "size": 10,
              "solidity": 0.2
             }
            },
            "type": "histogram"
           }
          ],
          "histogram2d": [
           {
            "colorbar": {
             "outlinewidth": 0,
             "ticks": ""
            },
            "colorscale": [
             [
              0,
              "#0d0887"
             ],
             [
              0.1111111111111111,
              "#46039f"
             ],
             [
              0.2222222222222222,
              "#7201a8"
             ],
             [
              0.3333333333333333,
              "#9c179e"
             ],
             [
              0.4444444444444444,
              "#bd3786"
             ],
             [
              0.5555555555555556,
              "#d8576b"
             ],
             [
              0.6666666666666666,
              "#ed7953"
             ],
             [
              0.7777777777777778,
              "#fb9f3a"
             ],
             [
              0.8888888888888888,
              "#fdca26"
             ],
             [
              1,
              "#f0f921"
             ]
            ],
            "type": "histogram2d"
           }
          ],
          "histogram2dcontour": [
           {
            "colorbar": {
             "outlinewidth": 0,
             "ticks": ""
            },
            "colorscale": [
             [
              0,
              "#0d0887"
             ],
             [
              0.1111111111111111,
              "#46039f"
             ],
             [
              0.2222222222222222,
              "#7201a8"
             ],
             [
              0.3333333333333333,
              "#9c179e"
             ],
             [
              0.4444444444444444,
              "#bd3786"
             ],
             [
              0.5555555555555556,
              "#d8576b"
             ],
             [
              0.6666666666666666,
              "#ed7953"
             ],
             [
              0.7777777777777778,
              "#fb9f3a"
             ],
             [
              0.8888888888888888,
              "#fdca26"
             ],
             [
              1,
              "#f0f921"
             ]
            ],
            "type": "histogram2dcontour"
           }
          ],
          "mesh3d": [
           {
            "colorbar": {
             "outlinewidth": 0,
             "ticks": ""
            },
            "type": "mesh3d"
           }
          ],
          "parcoords": [
           {
            "line": {
             "colorbar": {
              "outlinewidth": 0,
              "ticks": ""
             }
            },
            "type": "parcoords"
           }
          ],
          "pie": [
           {
            "automargin": true,
            "type": "pie"
           }
          ],
          "scatter": [
           {
            "fillpattern": {
             "fillmode": "overlay",
             "size": 10,
             "solidity": 0.2
            },
            "type": "scatter"
           }
          ],
          "scatter3d": [
           {
            "line": {
             "colorbar": {
              "outlinewidth": 0,
              "ticks": ""
             }
            },
            "marker": {
             "colorbar": {
              "outlinewidth": 0,
              "ticks": ""
             }
            },
            "type": "scatter3d"
           }
          ],
          "scattercarpet": [
           {
            "marker": {
             "colorbar": {
              "outlinewidth": 0,
              "ticks": ""
             }
            },
            "type": "scattercarpet"
           }
          ],
          "scattergeo": [
           {
            "marker": {
             "colorbar": {
              "outlinewidth": 0,
              "ticks": ""
             }
            },
            "type": "scattergeo"
           }
          ],
          "scattergl": [
           {
            "marker": {
             "colorbar": {
              "outlinewidth": 0,
              "ticks": ""
             }
            },
            "type": "scattergl"
           }
          ],
          "scattermapbox": [
           {
            "marker": {
             "colorbar": {
              "outlinewidth": 0,
              "ticks": ""
             }
            },
            "type": "scattermapbox"
           }
          ],
          "scatterpolar": [
           {
            "marker": {
             "colorbar": {
              "outlinewidth": 0,
              "ticks": ""
             }
            },
            "type": "scatterpolar"
           }
          ],
          "scatterpolargl": [
           {
            "marker": {
             "colorbar": {
              "outlinewidth": 0,
              "ticks": ""
             }
            },
            "type": "scatterpolargl"
           }
          ],
          "scatterternary": [
           {
            "marker": {
             "colorbar": {
              "outlinewidth": 0,
              "ticks": ""
             }
            },
            "type": "scatterternary"
           }
          ],
          "surface": [
           {
            "colorbar": {
             "outlinewidth": 0,
             "ticks": ""
            },
            "colorscale": [
             [
              0,
              "#0d0887"
             ],
             [
              0.1111111111111111,
              "#46039f"
             ],
             [
              0.2222222222222222,
              "#7201a8"
             ],
             [
              0.3333333333333333,
              "#9c179e"
             ],
             [
              0.4444444444444444,
              "#bd3786"
             ],
             [
              0.5555555555555556,
              "#d8576b"
             ],
             [
              0.6666666666666666,
              "#ed7953"
             ],
             [
              0.7777777777777778,
              "#fb9f3a"
             ],
             [
              0.8888888888888888,
              "#fdca26"
             ],
             [
              1,
              "#f0f921"
             ]
            ],
            "type": "surface"
           }
          ],
          "table": [
           {
            "cells": {
             "fill": {
              "color": "#EBF0F8"
             },
             "line": {
              "color": "white"
             }
            },
            "header": {
             "fill": {
              "color": "#C8D4E3"
             },
             "line": {
              "color": "white"
             }
            },
            "type": "table"
           }
          ]
         },
         "layout": {
          "annotationdefaults": {
           "arrowcolor": "#2a3f5f",
           "arrowhead": 0,
           "arrowwidth": 1
          },
          "autotypenumbers": "strict",
          "coloraxis": {
           "colorbar": {
            "outlinewidth": 0,
            "ticks": ""
           }
          },
          "colorscale": {
           "diverging": [
            [
             0,
             "#8e0152"
            ],
            [
             0.1,
             "#c51b7d"
            ],
            [
             0.2,
             "#de77ae"
            ],
            [
             0.3,
             "#f1b6da"
            ],
            [
             0.4,
             "#fde0ef"
            ],
            [
             0.5,
             "#f7f7f7"
            ],
            [
             0.6,
             "#e6f5d0"
            ],
            [
             0.7,
             "#b8e186"
            ],
            [
             0.8,
             "#7fbc41"
            ],
            [
             0.9,
             "#4d9221"
            ],
            [
             1,
             "#276419"
            ]
           ],
           "sequential": [
            [
             0,
             "#0d0887"
            ],
            [
             0.1111111111111111,
             "#46039f"
            ],
            [
             0.2222222222222222,
             "#7201a8"
            ],
            [
             0.3333333333333333,
             "#9c179e"
            ],
            [
             0.4444444444444444,
             "#bd3786"
            ],
            [
             0.5555555555555556,
             "#d8576b"
            ],
            [
             0.6666666666666666,
             "#ed7953"
            ],
            [
             0.7777777777777778,
             "#fb9f3a"
            ],
            [
             0.8888888888888888,
             "#fdca26"
            ],
            [
             1,
             "#f0f921"
            ]
           ],
           "sequentialminus": [
            [
             0,
             "#0d0887"
            ],
            [
             0.1111111111111111,
             "#46039f"
            ],
            [
             0.2222222222222222,
             "#7201a8"
            ],
            [
             0.3333333333333333,
             "#9c179e"
            ],
            [
             0.4444444444444444,
             "#bd3786"
            ],
            [
             0.5555555555555556,
             "#d8576b"
            ],
            [
             0.6666666666666666,
             "#ed7953"
            ],
            [
             0.7777777777777778,
             "#fb9f3a"
            ],
            [
             0.8888888888888888,
             "#fdca26"
            ],
            [
             1,
             "#f0f921"
            ]
           ]
          },
          "colorway": [
           "#636efa",
           "#EF553B",
           "#00cc96",
           "#ab63fa",
           "#FFA15A",
           "#19d3f3",
           "#FF6692",
           "#B6E880",
           "#FF97FF",
           "#FECB52"
          ],
          "font": {
           "color": "#2a3f5f"
          },
          "geo": {
           "bgcolor": "white",
           "lakecolor": "white",
           "landcolor": "#E5ECF6",
           "showlakes": true,
           "showland": true,
           "subunitcolor": "white"
          },
          "hoverlabel": {
           "align": "left"
          },
          "hovermode": "closest",
          "mapbox": {
           "style": "light"
          },
          "paper_bgcolor": "white",
          "plot_bgcolor": "#E5ECF6",
          "polar": {
           "angularaxis": {
            "gridcolor": "white",
            "linecolor": "white",
            "ticks": ""
           },
           "bgcolor": "#E5ECF6",
           "radialaxis": {
            "gridcolor": "white",
            "linecolor": "white",
            "ticks": ""
           }
          },
          "scene": {
           "xaxis": {
            "backgroundcolor": "#E5ECF6",
            "gridcolor": "white",
            "gridwidth": 2,
            "linecolor": "white",
            "showbackground": true,
            "ticks": "",
            "zerolinecolor": "white"
           },
           "yaxis": {
            "backgroundcolor": "#E5ECF6",
            "gridcolor": "white",
            "gridwidth": 2,
            "linecolor": "white",
            "showbackground": true,
            "ticks": "",
            "zerolinecolor": "white"
           },
           "zaxis": {
            "backgroundcolor": "#E5ECF6",
            "gridcolor": "white",
            "gridwidth": 2,
            "linecolor": "white",
            "showbackground": true,
            "ticks": "",
            "zerolinecolor": "white"
           }
          },
          "shapedefaults": {
           "line": {
            "color": "#2a3f5f"
           }
          },
          "ternary": {
           "aaxis": {
            "gridcolor": "white",
            "linecolor": "white",
            "ticks": ""
           },
           "baxis": {
            "gridcolor": "white",
            "linecolor": "white",
            "ticks": ""
           },
           "bgcolor": "#E5ECF6",
           "caxis": {
            "gridcolor": "white",
            "linecolor": "white",
            "ticks": ""
           }
          },
          "title": {
           "x": 0.05
          },
          "xaxis": {
           "automargin": true,
           "gridcolor": "white",
           "linecolor": "white",
           "ticks": "",
           "title": {
            "standoff": 15
           },
           "zerolinecolor": "white",
           "zerolinewidth": 2
          },
          "yaxis": {
           "automargin": true,
           "gridcolor": "white",
           "linecolor": "white",
           "ticks": "",
           "title": {
            "standoff": 15
           },
           "zerolinecolor": "white",
           "zerolinewidth": 2
          }
         }
        },
        "xaxis": {
         "anchor": "y",
         "domain": [
          0,
          1
         ],
         "title": {
          "text": "index"
         }
        },
        "yaxis": {
         "anchor": "x",
         "domain": [
          0,
          1
         ],
         "title": {
          "text": "value"
         }
        }
       }
      }
     },
     "metadata": {},
     "output_type": "display_data"
    }
   ],
   "source": [
    "px.line(metodos_SH_sensibilidades.T)"
   ]
  },
  {
   "cell_type": "markdown",
   "metadata": {},
   "source": [
    "## Resumen Final"
   ]
  },
  {
   "cell_type": "code",
   "execution_count": 128,
   "metadata": {},
   "outputs": [
    {
     "data": {
      "text/html": [
       "<div>\n",
       "<style scoped>\n",
       "    .dataframe tbody tr th:only-of-type {\n",
       "        vertical-align: middle;\n",
       "    }\n",
       "\n",
       "    .dataframe tbody tr th {\n",
       "        vertical-align: top;\n",
       "    }\n",
       "\n",
       "    .dataframe thead th {\n",
       "        text-align: right;\n",
       "    }\n",
       "</style>\n",
       "<table border=\"1\" class=\"dataframe\">\n",
       "  <thead>\n",
       "    <tr style=\"text-align: right;\">\n",
       "      <th></th>\n",
       "      <th>roc_auc</th>\n",
       "      <th>accuracy</th>\n",
       "      <th>precision</th>\n",
       "      <th>kappa</th>\n",
       "      <th>sensibilidad</th>\n",
       "      <th>especificidad</th>\n",
       "    </tr>\n",
       "  </thead>\n",
       "  <tbody>\n",
       "    <tr>\n",
       "      <th>HBOS_general</th>\n",
       "      <td>0.625722</td>\n",
       "      <td>0.871269</td>\n",
       "      <td>0.272709</td>\n",
       "      <td>0.229044</td>\n",
       "      <td>0.331351</td>\n",
       "      <td>0.920092</td>\n",
       "    </tr>\n",
       "    <tr>\n",
       "      <th>IForest_general</th>\n",
       "      <td>0.717724</td>\n",
       "      <td>0.899536</td>\n",
       "      <td>0.412689</td>\n",
       "      <td>0.397323</td>\n",
       "      <td>0.499762</td>\n",
       "      <td>0.935686</td>\n",
       "    </tr>\n",
       "    <tr>\n",
       "      <th>KNN_general</th>\n",
       "      <td>0.545875</td>\n",
       "      <td>0.847243</td>\n",
       "      <td>0.152396</td>\n",
       "      <td>0.08371</td>\n",
       "      <td>0.184586</td>\n",
       "      <td>0.907165</td>\n",
       "    </tr>\n",
       "    <tr>\n",
       "      <th>LODA_general</th>\n",
       "      <td>0.69515</td>\n",
       "      <td>0.89206</td>\n",
       "      <td>0.376365</td>\n",
       "      <td>0.354831</td>\n",
       "      <td>0.459087</td>\n",
       "      <td>0.931212</td>\n",
       "    </tr>\n",
       "    <tr>\n",
       "      <th>MAD_PyOD_general</th>\n",
       "      <td>0.860847</td>\n",
       "      <td>0.969977</td>\n",
       "      <td>0.888021</td>\n",
       "      <td>0.785235</td>\n",
       "      <td>0.730019</td>\n",
       "      <td>0.991676</td>\n",
       "    </tr>\n",
       "    <tr>\n",
       "      <th>MCD_general</th>\n",
       "      <td>0.558238</td>\n",
       "      <td>0.851267</td>\n",
       "      <td>0.171395</td>\n",
       "      <td>0.106436</td>\n",
       "      <td>0.206946</td>\n",
       "      <td>0.909531</td>\n",
       "    </tr>\n",
       "    <tr>\n",
       "      <th>IForestASD_general</th>\n",
       "      <td>0.827566</td>\n",
       "      <td>0.785916</td>\n",
       "      <td>0.262993</td>\n",
       "      <td>0.317617</td>\n",
       "      <td>0.877498</td>\n",
       "      <td>0.777634</td>\n",
       "    </tr>\n",
       "    <tr>\n",
       "      <th>MAD_PySAD_general</th>\n",
       "      <td>0.8534</td>\n",
       "      <td>0.974771</td>\n",
       "      <td>0.983152</td>\n",
       "      <td>0.809926</td>\n",
       "      <td>0.707897</td>\n",
       "      <td>0.998903</td>\n",
       "    </tr>\n",
       "    <tr>\n",
       "      <th>SAD_general</th>\n",
       "      <td>0.845943</td>\n",
       "      <td>0.93887</td>\n",
       "      <td>0.608953</td>\n",
       "      <td>0.632557</td>\n",
       "      <td>0.734539</td>\n",
       "      <td>0.957347</td>\n",
       "    </tr>\n",
       "    <tr>\n",
       "      <th>xStream_general</th>\n",
       "      <td>0.822463</td>\n",
       "      <td>0.801756</td>\n",
       "      <td>0.274634</td>\n",
       "      <td>0.33102</td>\n",
       "      <td>0.847288</td>\n",
       "      <td>0.797638</td>\n",
       "    </tr>\n",
       "    <tr>\n",
       "      <th>HTM_general</th>\n",
       "      <td>0.497957</td>\n",
       "      <td>0.912953</td>\n",
       "      <td>0.011743</td>\n",
       "      <td>-0.00718</td>\n",
       "      <td>0.00062</td>\n",
       "      <td>0.995294</td>\n",
       "    </tr>\n",
       "    <tr>\n",
       "      <th>IForest_NvS</th>\n",
       "      <td>0.843548</td>\n",
       "      <td>0.93666</td>\n",
       "      <td>0.596202</td>\n",
       "      <td>0.622636</td>\n",
       "      <td>0.731922</td>\n",
       "      <td>0.955174</td>\n",
       "    </tr>\n",
       "    <tr>\n",
       "      <th>MAD_NvS</th>\n",
       "      <td>0.847577</td>\n",
       "      <td>0.935122</td>\n",
       "      <td>0.585851</td>\n",
       "      <td>0.619732</td>\n",
       "      <td>0.742626</td>\n",
       "      <td>0.952528</td>\n",
       "    </tr>\n",
       "    <tr>\n",
       "      <th>MAD_PyOD_PvP</th>\n",
       "      <td>0.846144</td>\n",
       "      <td>0.919795</td>\n",
       "      <td>0.511068</td>\n",
       "      <td>0.567634</td>\n",
       "      <td>0.75785</td>\n",
       "      <td>0.934439</td>\n",
       "    </tr>\n",
       "    <tr>\n",
       "      <th>SAD_PvP</th>\n",
       "      <td>0.823293</td>\n",
       "      <td>0.931058</td>\n",
       "      <td>0.569144</td>\n",
       "      <td>0.587886</td>\n",
       "      <td>0.694101</td>\n",
       "      <td>0.952485</td>\n",
       "    </tr>\n",
       "    <tr>\n",
       "      <th>HBOS_SH</th>\n",
       "      <td>0.88092</td>\n",
       "      <td>0.954808</td>\n",
       "      <td>0.701411</td>\n",
       "      <td>0.719424</td>\n",
       "      <td>0.792341</td>\n",
       "      <td>0.969499</td>\n",
       "    </tr>\n",
       "    <tr>\n",
       "      <th>IForest_SH</th>\n",
       "      <td>0.863139</td>\n",
       "      <td>0.943426</td>\n",
       "      <td>0.630673</td>\n",
       "      <td>0.661319</td>\n",
       "      <td>0.766889</td>\n",
       "      <td>0.95939</td>\n",
       "    </tr>\n",
       "    <tr>\n",
       "      <th>KNN_SH</th>\n",
       "      <td>0.605612</td>\n",
       "      <td>0.864148</td>\n",
       "      <td>0.240472</td>\n",
       "      <td>0.191258</td>\n",
       "      <td>0.295671</td>\n",
       "      <td>0.915554</td>\n",
       "    </tr>\n",
       "  </tbody>\n",
       "</table>\n",
       "</div>"
      ],
      "text/plain": [
       "                     roc_auc  accuracy precision     kappa sensibilidad  \\\n",
       "HBOS_general        0.625722  0.871269  0.272709  0.229044     0.331351   \n",
       "IForest_general     0.717724  0.899536  0.412689  0.397323     0.499762   \n",
       "KNN_general         0.545875  0.847243  0.152396   0.08371     0.184586   \n",
       "LODA_general         0.69515   0.89206  0.376365  0.354831     0.459087   \n",
       "MAD_PyOD_general    0.860847  0.969977  0.888021  0.785235     0.730019   \n",
       "MCD_general         0.558238  0.851267  0.171395  0.106436     0.206946   \n",
       "IForestASD_general  0.827566  0.785916  0.262993  0.317617     0.877498   \n",
       "MAD_PySAD_general     0.8534  0.974771  0.983152  0.809926     0.707897   \n",
       "SAD_general         0.845943   0.93887  0.608953  0.632557     0.734539   \n",
       "xStream_general     0.822463  0.801756  0.274634   0.33102     0.847288   \n",
       "HTM_general         0.497957  0.912953  0.011743  -0.00718      0.00062   \n",
       "IForest_NvS         0.843548   0.93666  0.596202  0.622636     0.731922   \n",
       "MAD_NvS             0.847577  0.935122  0.585851  0.619732     0.742626   \n",
       "MAD_PyOD_PvP        0.846144  0.919795  0.511068  0.567634      0.75785   \n",
       "SAD_PvP             0.823293  0.931058  0.569144  0.587886     0.694101   \n",
       "HBOS_SH              0.88092  0.954808  0.701411  0.719424     0.792341   \n",
       "IForest_SH          0.863139  0.943426  0.630673  0.661319     0.766889   \n",
       "KNN_SH              0.605612  0.864148  0.240472  0.191258     0.295671   \n",
       "\n",
       "                   especificidad  \n",
       "HBOS_general            0.920092  \n",
       "IForest_general         0.935686  \n",
       "KNN_general             0.907165  \n",
       "LODA_general            0.931212  \n",
       "MAD_PyOD_general        0.991676  \n",
       "MCD_general             0.909531  \n",
       "IForestASD_general      0.777634  \n",
       "MAD_PySAD_general       0.998903  \n",
       "SAD_general             0.957347  \n",
       "xStream_general         0.797638  \n",
       "HTM_general             0.995294  \n",
       "IForest_NvS             0.955174  \n",
       "MAD_NvS                 0.952528  \n",
       "MAD_PyOD_PvP            0.934439  \n",
       "SAD_PvP                 0.952485  \n",
       "HBOS_SH                 0.969499  \n",
       "IForest_SH               0.95939  \n",
       "KNN_SH                  0.915554  "
      ]
     },
     "execution_count": 128,
     "metadata": {},
     "output_type": "execute_result"
    }
   ],
   "source": [
    "resumen_thresholds = pd.concat([metodos_metricas.T.add_suffix('_general'),metodos_NvS_metricas.T.add_suffix('_NvS'),\n",
    "            metodos_PvP_metricas.T.add_suffix('_PvP'),metodos_SH_metricas.T.add_suffix('_SH')],axis=1).T\n",
    "\n",
    "resumen_thresholds"
   ]
  },
  {
   "cell_type": "code",
   "execution_count": 129,
   "metadata": {},
   "outputs": [
    {
     "data": {
      "application/vnd.plotly.v1+json": {
       "config": {
        "plotlyServerURL": "https://plot.ly"
       },
       "data": [
        {
         "hovertemplate": "variable=HBOS_general<br>index=%{x}<br>value=%{y}<extra></extra>",
         "legendgroup": "HBOS_general",
         "line": {
          "color": "#636efa",
          "dash": "solid"
         },
         "marker": {
          "symbol": "circle"
         },
         "mode": "lines",
         "name": "HBOS_general",
         "orientation": "v",
         "showlegend": true,
         "type": "scatter",
         "x": [
          "roc_auc",
          "accuracy",
          "precision",
          "kappa",
          "sensibilidad",
          "especificidad"
         ],
         "xaxis": "x",
         "y": [
          0.6257215775124908,
          0.8712693559522635,
          0.27270947533281126,
          0.22904395304351532,
          0.3313510941960038,
          0.9200920608289777
         ],
         "yaxis": "y"
        },
        {
         "hovertemplate": "variable=IForest_general<br>index=%{x}<br>value=%{y}<extra></extra>",
         "legendgroup": "IForest_general",
         "line": {
          "color": "#EF553B",
          "dash": "solid"
         },
         "marker": {
          "symbol": "circle"
         },
         "mode": "lines",
         "name": "IForest_general",
         "orientation": "v",
         "showlegend": true,
         "type": "scatter",
         "x": [
          "roc_auc",
          "accuracy",
          "precision",
          "kappa",
          "sensibilidad",
          "especificidad"
         ],
         "xaxis": "x",
         "y": [
          0.7177243041280246,
          0.8995364434362363,
          0.4126890591239442,
          0.3973233340514313,
          0.49976213130352043,
          0.9356864769525285
         ],
         "yaxis": "y"
        },
        {
         "hovertemplate": "variable=KNN_general<br>index=%{x}<br>value=%{y}<extra></extra>",
         "legendgroup": "KNN_general",
         "line": {
          "color": "#00cc96",
          "dash": "solid"
         },
         "marker": {
          "symbol": "circle"
         },
         "mode": "lines",
         "name": "KNN_general",
         "orientation": "v",
         "showlegend": true,
         "type": "scatter",
         "x": [
          "roc_auc",
          "accuracy",
          "precision",
          "kappa",
          "sensibilidad",
          "especificidad"
         ],
         "xaxis": "x",
         "y": [
          0.5458754680345834,
          0.8472433178814479,
          0.15239591516103693,
          0.08370951038856644,
          0.1845861084681256,
          0.9071648276010411
         ],
         "yaxis": "y"
        },
        {
         "hovertemplate": "variable=LODA_general<br>index=%{x}<br>value=%{y}<extra></extra>",
         "legendgroup": "LODA_general",
         "line": {
          "color": "#ab63fa",
          "dash": "solid"
         },
         "marker": {
          "symbol": "circle"
         },
         "mode": "lines",
         "name": "LODA_general",
         "orientation": "v",
         "showlegend": true,
         "type": "scatter",
         "x": [
          "roc_auc",
          "accuracy",
          "precision",
          "kappa",
          "sensibilidad",
          "especificidad"
         ],
         "xaxis": "x",
         "y": [
          0.6951495384730244,
          0.8920603609823454,
          0.3763650546021841,
          0.35483091317571447,
          0.45908658420551857,
          0.9312124927405304
         ],
         "yaxis": "y"
        },
        {
         "hovertemplate": "variable=MAD_PyOD_general<br>index=%{x}<br>value=%{y}<extra></extra>",
         "legendgroup": "MAD_PyOD_general",
         "line": {
          "color": "#FFA15A",
          "dash": "solid"
         },
         "marker": {
          "symbol": "circle"
         },
         "mode": "lines",
         "name": "MAD_PyOD_general",
         "orientation": "v",
         "showlegend": true,
         "type": "scatter",
         "x": [
          "roc_auc",
          "accuracy",
          "precision",
          "kappa",
          "sensibilidad",
          "especificidad"
         ],
         "xaxis": "x",
         "y": [
          0.8608474188583322,
          0.9699773153170924,
          0.8880208333333334,
          0.7852347153966168,
          0.7300190294957184,
          0.991675808220946
         ],
         "yaxis": "y"
        },
        {
         "hovertemplate": "variable=MCD_general<br>index=%{x}<br>value=%{y}<extra></extra>",
         "legendgroup": "MCD_general",
         "line": {
          "color": "#19d3f3",
          "dash": "solid"
         },
         "marker": {
          "symbol": "circle"
         },
         "mode": "lines",
         "name": "MCD_general",
         "orientation": "v",
         "showlegend": true,
         "type": "scatter",
         "x": [
          "roc_auc",
          "accuracy",
          "precision",
          "kappa",
          "sensibilidad",
          "especificidad"
         ],
         "xaxis": "x",
         "y": [
          0.5582383214405637,
          0.8512673833711412,
          0.17139479905437352,
          0.10643623673877989,
          0.20694576593720265,
          0.9095308769439246
         ],
         "yaxis": "y"
        },
        {
         "hovertemplate": "variable=IForestASD_general<br>index=%{x}<br>value=%{y}<extra></extra>",
         "legendgroup": "IForestASD_general",
         "line": {
          "color": "#FF6692",
          "dash": "solid"
         },
         "marker": {
          "symbol": "circle"
         },
         "mode": "lines",
         "name": "IForestASD_general",
         "orientation": "v",
         "showlegend": true,
         "type": "scatter",
         "x": [
          "roc_auc",
          "accuracy",
          "precision",
          "kappa",
          "sensibilidad",
          "especificidad"
         ],
         "xaxis": "x",
         "y": [
          0.8275660010804706,
          0.7859157707860736,
          0.26299279960076993,
          0.31761696726156796,
          0.8774976213130352,
          0.777634380847906
         ],
         "yaxis": "y"
        },
        {
         "hovertemplate": "variable=MAD_PySAD_general<br>index=%{x}<br>value=%{y}<extra></extra>",
         "legendgroup": "MAD_PySAD_general",
         "line": {
          "color": "#B6E880",
          "dash": "solid"
         },
         "marker": {
          "symbol": "circle"
         },
         "mode": "lines",
         "name": "MAD_PySAD_general",
         "orientation": "v",
         "showlegend": true,
         "type": "scatter",
         "x": [
          "roc_auc",
          "accuracy",
          "precision",
          "kappa",
          "sensibilidad",
          "especificidad"
         ],
         "xaxis": "x",
         "y": [
          0.8534001271048012,
          0.9747706874445211,
          0.9831516352824579,
          0.80992599626279,
          0.7078972407231209,
          0.9989030134864813
         ],
         "yaxis": "y"
        },
        {
         "hovertemplate": "variable=SAD_general<br>index=%{x}<br>value=%{y}<extra></extra>",
         "legendgroup": "SAD_general",
         "line": {
          "color": "#FF97FF",
          "dash": "solid"
         },
         "marker": {
          "symbol": "circle"
         },
         "mode": "lines",
         "name": "SAD_general",
         "orientation": "v",
         "showlegend": true,
         "type": "scatter",
         "x": [
          "roc_auc",
          "accuracy",
          "precision",
          "kappa",
          "sensibilidad",
          "especificidad"
         ],
         "xaxis": "x",
         "y": [
          0.8459425589692416,
          0.9388697110168656,
          0.6089528692565569,
          0.6325565657338967,
          0.7345385347288297,
          0.9573465832096535
         ],
         "yaxis": "y"
        },
        {
         "hovertemplate": "variable=xStream_general<br>index=%{x}<br>value=%{y}<extra></extra>",
         "legendgroup": "xStream_general",
         "line": {
          "color": "#FECB52",
          "dash": "solid"
         },
         "marker": {
          "symbol": "circle"
         },
         "mode": "lines",
         "name": "xStream_general",
         "orientation": "v",
         "showlegend": true,
         "type": "scatter",
         "x": [
          "roc_auc",
          "accuracy",
          "precision",
          "kappa",
          "sensibilidad",
          "especificidad"
         ],
         "xaxis": "x",
         "y": [
          0.8224632747125729,
          0.8017555971989349,
          0.2746337702390131,
          0.3310197742161579,
          0.8472882968601332,
          0.7976382525650125
         ],
         "yaxis": "y"
        },
        {
         "hovertemplate": "variable=HTM_general<br>index=%{x}<br>value=%{y}<extra></extra>",
         "legendgroup": "HTM_general",
         "line": {
          "color": "#636efa",
          "dash": "solid"
         },
         "marker": {
          "symbol": "circle"
         },
         "mode": "lines",
         "name": "HTM_general",
         "orientation": "v",
         "showlegend": true,
         "type": "scatter",
         "x": [
          "roc_auc",
          "accuracy",
          "precision",
          "kappa",
          "sensibilidad",
          "especificidad"
         ],
         "xaxis": "x",
         "y": [
          0.4979569649720438,
          0.9129525665658004,
          0.011743450767841012,
          -0.0071795678799051466,
          0.0006195491588428728,
          0.9952943807852448
         ],
         "yaxis": "y"
        },
        {
         "hovertemplate": "variable=IForest_NvS<br>index=%{x}<br>value=%{y}<extra></extra>",
         "legendgroup": "IForest_NvS",
         "line": {
          "color": "#EF553B",
          "dash": "solid"
         },
         "marker": {
          "symbol": "circle"
         },
         "mode": "lines",
         "name": "IForest_NvS",
         "orientation": "v",
         "showlegend": true,
         "type": "scatter",
         "x": [
          "roc_auc",
          "accuracy",
          "precision",
          "kappa",
          "sensibilidad",
          "especificidad"
         ],
         "xaxis": "x",
         "y": [
          0.8435480493948257,
          0.936660420159779,
          0.5962022863786088,
          0.6226359349837542,
          0.7319219790675547,
          0.9551741197220968
         ],
         "yaxis": "y"
        },
        {
         "hovertemplate": "variable=MAD_NvS<br>index=%{x}<br>value=%{y}<extra></extra>",
         "legendgroup": "MAD_NvS",
         "line": {
          "color": "#00cc96",
          "dash": "solid"
         },
         "marker": {
          "symbol": "circle"
         },
         "mode": "lines",
         "name": "MAD_NvS",
         "orientation": "v",
         "showlegend": true,
         "type": "scatter",
         "x": [
          "roc_auc",
          "accuracy",
          "precision",
          "kappa",
          "sensibilidad",
          "especificidad"
         ],
         "xaxis": "x",
         "y": [
          0.8475772583875487,
          0.9351218068843081,
          0.5858510039407018,
          0.6197318902691553,
          0.7426260704091342,
          0.9525284463659633
         ],
         "yaxis": "y"
        },
        {
         "hovertemplate": "variable=MAD_PyOD_PvP<br>index=%{x}<br>value=%{y}<extra></extra>",
         "legendgroup": "MAD_PyOD_PvP",
         "line": {
          "color": "#ab63fa",
          "dash": "solid"
         },
         "marker": {
          "symbol": "circle"
         },
         "mode": "lines",
         "name": "MAD_PyOD_PvP",
         "orientation": "v",
         "showlegend": true,
         "type": "scatter",
         "x": [
          "roc_auc",
          "accuracy",
          "precision",
          "kappa",
          "sensibilidad",
          "especificidad"
         ],
         "xaxis": "x",
         "y": [
          0.8461442953232345,
          0.9197948515632706,
          0.5110683349374399,
          0.5676336594935318,
          0.7578496669838249,
          0.9344389236626444
         ],
         "yaxis": "y"
        },
        {
         "hovertemplate": "variable=SAD_PvP<br>index=%{x}<br>value=%{y}<extra></extra>",
         "legendgroup": "SAD_PvP",
         "line": {
          "color": "#FFA15A",
          "dash": "solid"
         },
         "marker": {
          "symbol": "circle"
         },
         "mode": "lines",
         "name": "SAD_PvP",
         "orientation": "v",
         "showlegend": true,
         "type": "scatter",
         "x": [
          "roc_auc",
          "accuracy",
          "precision",
          "kappa",
          "sensibilidad",
          "especificidad"
         ],
         "xaxis": "x",
         "y": [
          0.8232931418071546,
          0.9310582897721669,
          0.5691437487809635,
          0.5878860117510725,
          0.6941008563273073,
          0.9524854272870018
         ],
         "yaxis": "y"
        },
        {
         "hovertemplate": "variable=HBOS_SH<br>index=%{x}<br>value=%{y}<extra></extra>",
         "legendgroup": "HBOS_SH",
         "line": {
          "color": "#19d3f3",
          "dash": "solid"
         },
         "marker": {
          "symbol": "circle"
         },
         "mode": "lines",
         "name": "HBOS_SH",
         "orientation": "v",
         "showlegend": true,
         "type": "scatter",
         "x": [
          "roc_auc",
          "accuracy",
          "precision",
          "kappa",
          "sensibilidad",
          "especificidad"
         ],
         "xaxis": "x",
         "y": [
          0.8809200504948207,
          0.9548081664858468,
          0.7014108233312276,
          0.7194243721769993,
          0.7923406279733587,
          0.9694994730162827
         ],
         "yaxis": "y"
        },
        {
         "hovertemplate": "variable=IForest_SH<br>index=%{x}<br>value=%{y}<extra></extra>",
         "legendgroup": "IForest_SH",
         "line": {
          "color": "#FF6692",
          "dash": "solid"
         },
         "marker": {
          "symbol": "circle"
         },
         "mode": "lines",
         "name": "IForest_SH",
         "orientation": "v",
         "showlegend": true,
         "type": "scatter",
         "x": [
          "roc_auc",
          "accuracy",
          "precision",
          "kappa",
          "sensibilidad",
          "especificidad"
         ],
         "xaxis": "x",
         "y": [
          0.8631393334551867,
          0.9434263734096064,
          0.6306729264475743,
          0.661319225471324,
          0.7668886774500476,
          0.9593899894603256
         ],
         "yaxis": "y"
        },
        {
         "hovertemplate": "variable=KNN_SH<br>index=%{x}<br>value=%{y}<extra></extra>",
         "legendgroup": "KNN_SH",
         "line": {
          "color": "#B6E880",
          "dash": "solid"
         },
         "marker": {
          "symbol": "circle"
         },
         "mode": "lines",
         "name": "KNN_SH",
         "orientation": "v",
         "showlegend": true,
         "type": "scatter",
         "x": [
          "roc_auc",
          "accuracy",
          "precision",
          "kappa",
          "sensibilidad",
          "especificidad"
         ],
         "xaxis": "x",
         "y": [
          0.6056121688613049,
          0.8641483381004044,
          0.2404720448829561,
          0.19125825827921716,
          0.2956707897240723,
          0.9155535479985374
         ],
         "yaxis": "y"
        }
       ],
       "layout": {
        "legend": {
         "title": {
          "text": "variable"
         },
         "tracegroupgap": 0
        },
        "margin": {
         "t": 60
        },
        "template": {
         "data": {
          "bar": [
           {
            "error_x": {
             "color": "#2a3f5f"
            },
            "error_y": {
             "color": "#2a3f5f"
            },
            "marker": {
             "line": {
              "color": "#E5ECF6",
              "width": 0.5
             },
             "pattern": {
              "fillmode": "overlay",
              "size": 10,
              "solidity": 0.2
             }
            },
            "type": "bar"
           }
          ],
          "barpolar": [
           {
            "marker": {
             "line": {
              "color": "#E5ECF6",
              "width": 0.5
             },
             "pattern": {
              "fillmode": "overlay",
              "size": 10,
              "solidity": 0.2
             }
            },
            "type": "barpolar"
           }
          ],
          "carpet": [
           {
            "aaxis": {
             "endlinecolor": "#2a3f5f",
             "gridcolor": "white",
             "linecolor": "white",
             "minorgridcolor": "white",
             "startlinecolor": "#2a3f5f"
            },
            "baxis": {
             "endlinecolor": "#2a3f5f",
             "gridcolor": "white",
             "linecolor": "white",
             "minorgridcolor": "white",
             "startlinecolor": "#2a3f5f"
            },
            "type": "carpet"
           }
          ],
          "choropleth": [
           {
            "colorbar": {
             "outlinewidth": 0,
             "ticks": ""
            },
            "type": "choropleth"
           }
          ],
          "contour": [
           {
            "colorbar": {
             "outlinewidth": 0,
             "ticks": ""
            },
            "colorscale": [
             [
              0,
              "#0d0887"
             ],
             [
              0.1111111111111111,
              "#46039f"
             ],
             [
              0.2222222222222222,
              "#7201a8"
             ],
             [
              0.3333333333333333,
              "#9c179e"
             ],
             [
              0.4444444444444444,
              "#bd3786"
             ],
             [
              0.5555555555555556,
              "#d8576b"
             ],
             [
              0.6666666666666666,
              "#ed7953"
             ],
             [
              0.7777777777777778,
              "#fb9f3a"
             ],
             [
              0.8888888888888888,
              "#fdca26"
             ],
             [
              1,
              "#f0f921"
             ]
            ],
            "type": "contour"
           }
          ],
          "contourcarpet": [
           {
            "colorbar": {
             "outlinewidth": 0,
             "ticks": ""
            },
            "type": "contourcarpet"
           }
          ],
          "heatmap": [
           {
            "colorbar": {
             "outlinewidth": 0,
             "ticks": ""
            },
            "colorscale": [
             [
              0,
              "#0d0887"
             ],
             [
              0.1111111111111111,
              "#46039f"
             ],
             [
              0.2222222222222222,
              "#7201a8"
             ],
             [
              0.3333333333333333,
              "#9c179e"
             ],
             [
              0.4444444444444444,
              "#bd3786"
             ],
             [
              0.5555555555555556,
              "#d8576b"
             ],
             [
              0.6666666666666666,
              "#ed7953"
             ],
             [
              0.7777777777777778,
              "#fb9f3a"
             ],
             [
              0.8888888888888888,
              "#fdca26"
             ],
             [
              1,
              "#f0f921"
             ]
            ],
            "type": "heatmap"
           }
          ],
          "heatmapgl": [
           {
            "colorbar": {
             "outlinewidth": 0,
             "ticks": ""
            },
            "colorscale": [
             [
              0,
              "#0d0887"
             ],
             [
              0.1111111111111111,
              "#46039f"
             ],
             [
              0.2222222222222222,
              "#7201a8"
             ],
             [
              0.3333333333333333,
              "#9c179e"
             ],
             [
              0.4444444444444444,
              "#bd3786"
             ],
             [
              0.5555555555555556,
              "#d8576b"
             ],
             [
              0.6666666666666666,
              "#ed7953"
             ],
             [
              0.7777777777777778,
              "#fb9f3a"
             ],
             [
              0.8888888888888888,
              "#fdca26"
             ],
             [
              1,
              "#f0f921"
             ]
            ],
            "type": "heatmapgl"
           }
          ],
          "histogram": [
           {
            "marker": {
             "pattern": {
              "fillmode": "overlay",
              "size": 10,
              "solidity": 0.2
             }
            },
            "type": "histogram"
           }
          ],
          "histogram2d": [
           {
            "colorbar": {
             "outlinewidth": 0,
             "ticks": ""
            },
            "colorscale": [
             [
              0,
              "#0d0887"
             ],
             [
              0.1111111111111111,
              "#46039f"
             ],
             [
              0.2222222222222222,
              "#7201a8"
             ],
             [
              0.3333333333333333,
              "#9c179e"
             ],
             [
              0.4444444444444444,
              "#bd3786"
             ],
             [
              0.5555555555555556,
              "#d8576b"
             ],
             [
              0.6666666666666666,
              "#ed7953"
             ],
             [
              0.7777777777777778,
              "#fb9f3a"
             ],
             [
              0.8888888888888888,
              "#fdca26"
             ],
             [
              1,
              "#f0f921"
             ]
            ],
            "type": "histogram2d"
           }
          ],
          "histogram2dcontour": [
           {
            "colorbar": {
             "outlinewidth": 0,
             "ticks": ""
            },
            "colorscale": [
             [
              0,
              "#0d0887"
             ],
             [
              0.1111111111111111,
              "#46039f"
             ],
             [
              0.2222222222222222,
              "#7201a8"
             ],
             [
              0.3333333333333333,
              "#9c179e"
             ],
             [
              0.4444444444444444,
              "#bd3786"
             ],
             [
              0.5555555555555556,
              "#d8576b"
             ],
             [
              0.6666666666666666,
              "#ed7953"
             ],
             [
              0.7777777777777778,
              "#fb9f3a"
             ],
             [
              0.8888888888888888,
              "#fdca26"
             ],
             [
              1,
              "#f0f921"
             ]
            ],
            "type": "histogram2dcontour"
           }
          ],
          "mesh3d": [
           {
            "colorbar": {
             "outlinewidth": 0,
             "ticks": ""
            },
            "type": "mesh3d"
           }
          ],
          "parcoords": [
           {
            "line": {
             "colorbar": {
              "outlinewidth": 0,
              "ticks": ""
             }
            },
            "type": "parcoords"
           }
          ],
          "pie": [
           {
            "automargin": true,
            "type": "pie"
           }
          ],
          "scatter": [
           {
            "fillpattern": {
             "fillmode": "overlay",
             "size": 10,
             "solidity": 0.2
            },
            "type": "scatter"
           }
          ],
          "scatter3d": [
           {
            "line": {
             "colorbar": {
              "outlinewidth": 0,
              "ticks": ""
             }
            },
            "marker": {
             "colorbar": {
              "outlinewidth": 0,
              "ticks": ""
             }
            },
            "type": "scatter3d"
           }
          ],
          "scattercarpet": [
           {
            "marker": {
             "colorbar": {
              "outlinewidth": 0,
              "ticks": ""
             }
            },
            "type": "scattercarpet"
           }
          ],
          "scattergeo": [
           {
            "marker": {
             "colorbar": {
              "outlinewidth": 0,
              "ticks": ""
             }
            },
            "type": "scattergeo"
           }
          ],
          "scattergl": [
           {
            "marker": {
             "colorbar": {
              "outlinewidth": 0,
              "ticks": ""
             }
            },
            "type": "scattergl"
           }
          ],
          "scattermapbox": [
           {
            "marker": {
             "colorbar": {
              "outlinewidth": 0,
              "ticks": ""
             }
            },
            "type": "scattermapbox"
           }
          ],
          "scatterpolar": [
           {
            "marker": {
             "colorbar": {
              "outlinewidth": 0,
              "ticks": ""
             }
            },
            "type": "scatterpolar"
           }
          ],
          "scatterpolargl": [
           {
            "marker": {
             "colorbar": {
              "outlinewidth": 0,
              "ticks": ""
             }
            },
            "type": "scatterpolargl"
           }
          ],
          "scatterternary": [
           {
            "marker": {
             "colorbar": {
              "outlinewidth": 0,
              "ticks": ""
             }
            },
            "type": "scatterternary"
           }
          ],
          "surface": [
           {
            "colorbar": {
             "outlinewidth": 0,
             "ticks": ""
            },
            "colorscale": [
             [
              0,
              "#0d0887"
             ],
             [
              0.1111111111111111,
              "#46039f"
             ],
             [
              0.2222222222222222,
              "#7201a8"
             ],
             [
              0.3333333333333333,
              "#9c179e"
             ],
             [
              0.4444444444444444,
              "#bd3786"
             ],
             [
              0.5555555555555556,
              "#d8576b"
             ],
             [
              0.6666666666666666,
              "#ed7953"
             ],
             [
              0.7777777777777778,
              "#fb9f3a"
             ],
             [
              0.8888888888888888,
              "#fdca26"
             ],
             [
              1,
              "#f0f921"
             ]
            ],
            "type": "surface"
           }
          ],
          "table": [
           {
            "cells": {
             "fill": {
              "color": "#EBF0F8"
             },
             "line": {
              "color": "white"
             }
            },
            "header": {
             "fill": {
              "color": "#C8D4E3"
             },
             "line": {
              "color": "white"
             }
            },
            "type": "table"
           }
          ]
         },
         "layout": {
          "annotationdefaults": {
           "arrowcolor": "#2a3f5f",
           "arrowhead": 0,
           "arrowwidth": 1
          },
          "autotypenumbers": "strict",
          "coloraxis": {
           "colorbar": {
            "outlinewidth": 0,
            "ticks": ""
           }
          },
          "colorscale": {
           "diverging": [
            [
             0,
             "#8e0152"
            ],
            [
             0.1,
             "#c51b7d"
            ],
            [
             0.2,
             "#de77ae"
            ],
            [
             0.3,
             "#f1b6da"
            ],
            [
             0.4,
             "#fde0ef"
            ],
            [
             0.5,
             "#f7f7f7"
            ],
            [
             0.6,
             "#e6f5d0"
            ],
            [
             0.7,
             "#b8e186"
            ],
            [
             0.8,
             "#7fbc41"
            ],
            [
             0.9,
             "#4d9221"
            ],
            [
             1,
             "#276419"
            ]
           ],
           "sequential": [
            [
             0,
             "#0d0887"
            ],
            [
             0.1111111111111111,
             "#46039f"
            ],
            [
             0.2222222222222222,
             "#7201a8"
            ],
            [
             0.3333333333333333,
             "#9c179e"
            ],
            [
             0.4444444444444444,
             "#bd3786"
            ],
            [
             0.5555555555555556,
             "#d8576b"
            ],
            [
             0.6666666666666666,
             "#ed7953"
            ],
            [
             0.7777777777777778,
             "#fb9f3a"
            ],
            [
             0.8888888888888888,
             "#fdca26"
            ],
            [
             1,
             "#f0f921"
            ]
           ],
           "sequentialminus": [
            [
             0,
             "#0d0887"
            ],
            [
             0.1111111111111111,
             "#46039f"
            ],
            [
             0.2222222222222222,
             "#7201a8"
            ],
            [
             0.3333333333333333,
             "#9c179e"
            ],
            [
             0.4444444444444444,
             "#bd3786"
            ],
            [
             0.5555555555555556,
             "#d8576b"
            ],
            [
             0.6666666666666666,
             "#ed7953"
            ],
            [
             0.7777777777777778,
             "#fb9f3a"
            ],
            [
             0.8888888888888888,
             "#fdca26"
            ],
            [
             1,
             "#f0f921"
            ]
           ]
          },
          "colorway": [
           "#636efa",
           "#EF553B",
           "#00cc96",
           "#ab63fa",
           "#FFA15A",
           "#19d3f3",
           "#FF6692",
           "#B6E880",
           "#FF97FF",
           "#FECB52"
          ],
          "font": {
           "color": "#2a3f5f"
          },
          "geo": {
           "bgcolor": "white",
           "lakecolor": "white",
           "landcolor": "#E5ECF6",
           "showlakes": true,
           "showland": true,
           "subunitcolor": "white"
          },
          "hoverlabel": {
           "align": "left"
          },
          "hovermode": "closest",
          "mapbox": {
           "style": "light"
          },
          "paper_bgcolor": "white",
          "plot_bgcolor": "#E5ECF6",
          "polar": {
           "angularaxis": {
            "gridcolor": "white",
            "linecolor": "white",
            "ticks": ""
           },
           "bgcolor": "#E5ECF6",
           "radialaxis": {
            "gridcolor": "white",
            "linecolor": "white",
            "ticks": ""
           }
          },
          "scene": {
           "xaxis": {
            "backgroundcolor": "#E5ECF6",
            "gridcolor": "white",
            "gridwidth": 2,
            "linecolor": "white",
            "showbackground": true,
            "ticks": "",
            "zerolinecolor": "white"
           },
           "yaxis": {
            "backgroundcolor": "#E5ECF6",
            "gridcolor": "white",
            "gridwidth": 2,
            "linecolor": "white",
            "showbackground": true,
            "ticks": "",
            "zerolinecolor": "white"
           },
           "zaxis": {
            "backgroundcolor": "#E5ECF6",
            "gridcolor": "white",
            "gridwidth": 2,
            "linecolor": "white",
            "showbackground": true,
            "ticks": "",
            "zerolinecolor": "white"
           }
          },
          "shapedefaults": {
           "line": {
            "color": "#2a3f5f"
           }
          },
          "ternary": {
           "aaxis": {
            "gridcolor": "white",
            "linecolor": "white",
            "ticks": ""
           },
           "baxis": {
            "gridcolor": "white",
            "linecolor": "white",
            "ticks": ""
           },
           "bgcolor": "#E5ECF6",
           "caxis": {
            "gridcolor": "white",
            "linecolor": "white",
            "ticks": ""
           }
          },
          "title": {
           "x": 0.05
          },
          "xaxis": {
           "automargin": true,
           "gridcolor": "white",
           "linecolor": "white",
           "ticks": "",
           "title": {
            "standoff": 15
           },
           "zerolinecolor": "white",
           "zerolinewidth": 2
          },
          "yaxis": {
           "automargin": true,
           "gridcolor": "white",
           "linecolor": "white",
           "ticks": "",
           "title": {
            "standoff": 15
           },
           "zerolinecolor": "white",
           "zerolinewidth": 2
          }
         }
        },
        "xaxis": {
         "anchor": "y",
         "domain": [
          0,
          1
         ],
         "title": {
          "text": "index"
         }
        },
        "yaxis": {
         "anchor": "x",
         "domain": [
          0,
          1
         ],
         "title": {
          "text": "value"
         }
        }
       }
      }
     },
     "metadata": {},
     "output_type": "display_data"
    }
   ],
   "source": [
    "px.line(resumen_thresholds.T)"
   ]
  },
  {
   "cell_type": "code",
   "execution_count": 130,
   "metadata": {},
   "outputs": [
    {
     "data": {
      "text/html": [
       "<div>\n",
       "<style scoped>\n",
       "    .dataframe tbody tr th:only-of-type {\n",
       "        vertical-align: middle;\n",
       "    }\n",
       "\n",
       "    .dataframe tbody tr th {\n",
       "        vertical-align: top;\n",
       "    }\n",
       "\n",
       "    .dataframe thead th {\n",
       "        text-align: right;\n",
       "    }\n",
       "</style>\n",
       "<table border=\"1\" class=\"dataframe\">\n",
       "  <thead>\n",
       "    <tr style=\"text-align: right;\">\n",
       "      <th></th>\n",
       "      <th>Anomalia</th>\n",
       "      <th>Negro</th>\n",
       "      <th>Congelado</th>\n",
       "      <th>Hum</th>\n",
       "    </tr>\n",
       "  </thead>\n",
       "  <tbody>\n",
       "    <tr>\n",
       "      <th>HBOS_general</th>\n",
       "      <td>0.331351</td>\n",
       "      <td>0.279556</td>\n",
       "      <td>0.29922</td>\n",
       "      <td>0.88172</td>\n",
       "    </tr>\n",
       "    <tr>\n",
       "      <th>IForest_general</th>\n",
       "      <td>0.499762</td>\n",
       "      <td>0.455468</td>\n",
       "      <td>0.533138</td>\n",
       "      <td>0.856631</td>\n",
       "    </tr>\n",
       "    <tr>\n",
       "      <th>KNN_general</th>\n",
       "      <td>0.184586</td>\n",
       "      <td>0.158162</td>\n",
       "      <td>0.153996</td>\n",
       "      <td>0.322581</td>\n",
       "    </tr>\n",
       "    <tr>\n",
       "      <th>LODA_general</th>\n",
       "      <td>0.459087</td>\n",
       "      <td>0.4187</td>\n",
       "      <td>0.4987</td>\n",
       "      <td>0.88172</td>\n",
       "    </tr>\n",
       "    <tr>\n",
       "      <th>MAD_PyOD_general</th>\n",
       "      <td>0.730019</td>\n",
       "      <td>0.732488</td>\n",
       "      <td>0.904808</td>\n",
       "      <td>1.0</td>\n",
       "    </tr>\n",
       "    <tr>\n",
       "      <th>MCD_general</th>\n",
       "      <td>0.206946</td>\n",
       "      <td>0.195246</td>\n",
       "      <td>0.117609</td>\n",
       "      <td>0.344086</td>\n",
       "    </tr>\n",
       "    <tr>\n",
       "      <th>IForestASD_general</th>\n",
       "      <td>0.877498</td>\n",
       "      <td>0.889065</td>\n",
       "      <td>0.936647</td>\n",
       "      <td>0.978495</td>\n",
       "    </tr>\n",
       "    <tr>\n",
       "      <th>MAD_PySAD_general</th>\n",
       "      <td>0.707897</td>\n",
       "      <td>0.726466</td>\n",
       "      <td>0.897661</td>\n",
       "      <td>0.74552</td>\n",
       "    </tr>\n",
       "    <tr>\n",
       "      <th>SAD_general</th>\n",
       "      <td>0.734539</td>\n",
       "      <td>0.738193</td>\n",
       "      <td>0.905133</td>\n",
       "      <td>1.0</td>\n",
       "    </tr>\n",
       "    <tr>\n",
       "      <th>xStream_general</th>\n",
       "      <td>0.847288</td>\n",
       "      <td>0.86561</td>\n",
       "      <td>0.911956</td>\n",
       "      <td>0.942652</td>\n",
       "    </tr>\n",
       "    <tr>\n",
       "      <th>HTM_general</th>\n",
       "      <td>0.00062</td>\n",
       "      <td>0.0</td>\n",
       "      <td>0.000654</td>\n",
       "      <td>0.001993</td>\n",
       "    </tr>\n",
       "    <tr>\n",
       "      <th>IForest_NvS</th>\n",
       "      <td>0.731922</td>\n",
       "      <td>0.812044</td>\n",
       "      <td>0.903509</td>\n",
       "      <td>0.096774</td>\n",
       "    </tr>\n",
       "    <tr>\n",
       "      <th>MAD_NvS</th>\n",
       "      <td>0.742626</td>\n",
       "      <td>0.82599</td>\n",
       "      <td>0.903834</td>\n",
       "      <td>0.09319</td>\n",
       "    </tr>\n",
       "    <tr>\n",
       "      <th>MAD_PyOD_PvP</th>\n",
       "      <td>0.75785</td>\n",
       "      <td>0.81775</td>\n",
       "      <td>0.899285</td>\n",
       "      <td>0.448029</td>\n",
       "    </tr>\n",
       "    <tr>\n",
       "      <th>SAD_PvP</th>\n",
       "      <td>0.694101</td>\n",
       "      <td>0.738827</td>\n",
       "      <td>0.898311</td>\n",
       "      <td>0.390681</td>\n",
       "    </tr>\n",
       "    <tr>\n",
       "      <th>HTM_PvP</th>\n",
       "      <td>0.009198</td>\n",
       "      <td>0.0</td>\n",
       "      <td>0.01124</td>\n",
       "      <td>0.013953</td>\n",
       "    </tr>\n",
       "    <tr>\n",
       "      <th>HBOS_SH</th>\n",
       "      <td>0.792341</td>\n",
       "      <td>0.857052</td>\n",
       "      <td>0.902534</td>\n",
       "      <td>0.505376</td>\n",
       "    </tr>\n",
       "    <tr>\n",
       "      <th>IForest_SH</th>\n",
       "      <td>0.766889</td>\n",
       "      <td>0.827575</td>\n",
       "      <td>0.89961</td>\n",
       "      <td>0.480287</td>\n",
       "    </tr>\n",
       "    <tr>\n",
       "      <th>KNN_SH</th>\n",
       "      <td>0.295671</td>\n",
       "      <td>0.271315</td>\n",
       "      <td>0.2846</td>\n",
       "      <td>0.476703</td>\n",
       "    </tr>\n",
       "  </tbody>\n",
       "</table>\n",
       "</div>"
      ],
      "text/plain": [
       "                    Anomalia     Negro Congelado       Hum\n",
       "HBOS_general        0.331351  0.279556   0.29922   0.88172\n",
       "IForest_general     0.499762  0.455468  0.533138  0.856631\n",
       "KNN_general         0.184586  0.158162  0.153996  0.322581\n",
       "LODA_general        0.459087    0.4187    0.4987   0.88172\n",
       "MAD_PyOD_general    0.730019  0.732488  0.904808       1.0\n",
       "MCD_general         0.206946  0.195246  0.117609  0.344086\n",
       "IForestASD_general  0.877498  0.889065  0.936647  0.978495\n",
       "MAD_PySAD_general   0.707897  0.726466  0.897661   0.74552\n",
       "SAD_general         0.734539  0.738193  0.905133       1.0\n",
       "xStream_general     0.847288   0.86561  0.911956  0.942652\n",
       "HTM_general          0.00062       0.0  0.000654  0.001993\n",
       "IForest_NvS         0.731922  0.812044  0.903509  0.096774\n",
       "MAD_NvS             0.742626   0.82599  0.903834   0.09319\n",
       "MAD_PyOD_PvP         0.75785   0.81775  0.899285  0.448029\n",
       "SAD_PvP             0.694101  0.738827  0.898311  0.390681\n",
       "HTM_PvP             0.009198       0.0   0.01124  0.013953\n",
       "HBOS_SH             0.792341  0.857052  0.902534  0.505376\n",
       "IForest_SH          0.766889  0.827575   0.89961  0.480287\n",
       "KNN_SH              0.295671  0.271315    0.2846  0.476703"
      ]
     },
     "execution_count": 130,
     "metadata": {},
     "output_type": "execute_result"
    }
   ],
   "source": [
    "resumen_thresholds_sensibilidades = pd.concat([metodos_sensibilidades.T.add_suffix('_general'),metodos_NvS_sensibilidades.T.add_suffix('_NvS'),\n",
    "            metodos_PvP_sensibilidades.T.add_suffix('_PvP'),metodos_SH_sensibilidades.T.add_suffix('_SH')],axis=1).T\n",
    "\n",
    "resumen_thresholds_sensibilidades"
   ]
  },
  {
   "cell_type": "code",
   "execution_count": 131,
   "metadata": {},
   "outputs": [
    {
     "data": {
      "application/vnd.plotly.v1+json": {
       "config": {
        "plotlyServerURL": "https://plot.ly"
       },
       "data": [
        {
         "hovertemplate": "variable=HBOS_general<br>index=%{x}<br>value=%{y}<extra></extra>",
         "legendgroup": "HBOS_general",
         "line": {
          "color": "#636efa",
          "dash": "solid"
         },
         "marker": {
          "symbol": "circle"
         },
         "mode": "lines",
         "name": "HBOS_general",
         "orientation": "v",
         "showlegend": true,
         "type": "scatter",
         "x": [
          "Anomalia",
          "Negro",
          "Congelado",
          "Hum"
         ],
         "xaxis": "x",
         "y": [
          0.3313510941960038,
          0.27955625990491284,
          0.29922027290448344,
          0.8817204301075269
         ],
         "yaxis": "y"
        },
        {
         "hovertemplate": "variable=IForest_general<br>index=%{x}<br>value=%{y}<extra></extra>",
         "legendgroup": "IForest_general",
         "line": {
          "color": "#EF553B",
          "dash": "solid"
         },
         "marker": {
          "symbol": "circle"
         },
         "mode": "lines",
         "name": "IForest_general",
         "orientation": "v",
         "showlegend": true,
         "type": "scatter",
         "x": [
          "Anomalia",
          "Negro",
          "Congelado",
          "Hum"
         ],
         "xaxis": "x",
         "y": [
          0.49976213130352043,
          0.4554675118858954,
          0.5331384015594542,
          0.8566308243727598
         ],
         "yaxis": "y"
        },
        {
         "hovertemplate": "variable=KNN_general<br>index=%{x}<br>value=%{y}<extra></extra>",
         "legendgroup": "KNN_general",
         "line": {
          "color": "#00cc96",
          "dash": "solid"
         },
         "marker": {
          "symbol": "circle"
         },
         "mode": "lines",
         "name": "KNN_general",
         "orientation": "v",
         "showlegend": true,
         "type": "scatter",
         "x": [
          "Anomalia",
          "Negro",
          "Congelado",
          "Hum"
         ],
         "xaxis": "x",
         "y": [
          0.1845861084681256,
          0.15816164817749603,
          0.1539961013645224,
          0.3225806451612903
         ],
         "yaxis": "y"
        },
        {
         "hovertemplate": "variable=LODA_general<br>index=%{x}<br>value=%{y}<extra></extra>",
         "legendgroup": "LODA_general",
         "line": {
          "color": "#ab63fa",
          "dash": "solid"
         },
         "marker": {
          "symbol": "circle"
         },
         "mode": "lines",
         "name": "LODA_general",
         "orientation": "v",
         "showlegend": true,
         "type": "scatter",
         "x": [
          "Anomalia",
          "Negro",
          "Congelado",
          "Hum"
         ],
         "xaxis": "x",
         "y": [
          0.45908658420551857,
          0.4187004754358162,
          0.4987004548408057,
          0.8817204301075269
         ],
         "yaxis": "y"
        },
        {
         "hovertemplate": "variable=MAD_PyOD_general<br>index=%{x}<br>value=%{y}<extra></extra>",
         "legendgroup": "MAD_PyOD_general",
         "line": {
          "color": "#FFA15A",
          "dash": "solid"
         },
         "marker": {
          "symbol": "circle"
         },
         "mode": "lines",
         "name": "MAD_PyOD_general",
         "orientation": "v",
         "showlegend": true,
         "type": "scatter",
         "x": [
          "Anomalia",
          "Negro",
          "Congelado",
          "Hum"
         ],
         "xaxis": "x",
         "y": [
          0.7300190294957184,
          0.7324881141045959,
          0.9048083170890189,
          1
         ],
         "yaxis": "y"
        },
        {
         "hovertemplate": "variable=MCD_general<br>index=%{x}<br>value=%{y}<extra></extra>",
         "legendgroup": "MCD_general",
         "line": {
          "color": "#19d3f3",
          "dash": "solid"
         },
         "marker": {
          "symbol": "circle"
         },
         "mode": "lines",
         "name": "MCD_general",
         "orientation": "v",
         "showlegend": true,
         "type": "scatter",
         "x": [
          "Anomalia",
          "Negro",
          "Congelado",
          "Hum"
         ],
         "xaxis": "x",
         "y": [
          0.20694576593720265,
          0.19524564183835183,
          0.11760883690708251,
          0.34408602150537637
         ],
         "yaxis": "y"
        },
        {
         "hovertemplate": "variable=IForestASD_general<br>index=%{x}<br>value=%{y}<extra></extra>",
         "legendgroup": "IForestASD_general",
         "line": {
          "color": "#FF6692",
          "dash": "solid"
         },
         "marker": {
          "symbol": "circle"
         },
         "mode": "lines",
         "name": "IForestASD_general",
         "orientation": "v",
         "showlegend": true,
         "type": "scatter",
         "x": [
          "Anomalia",
          "Negro",
          "Congelado",
          "Hum"
         ],
         "xaxis": "x",
         "y": [
          0.8774976213130352,
          0.8890649762282092,
          0.9366471734892787,
          0.978494623655914
         ],
         "yaxis": "y"
        },
        {
         "hovertemplate": "variable=MAD_PySAD_general<br>index=%{x}<br>value=%{y}<extra></extra>",
         "legendgroup": "MAD_PySAD_general",
         "line": {
          "color": "#B6E880",
          "dash": "solid"
         },
         "marker": {
          "symbol": "circle"
         },
         "mode": "lines",
         "name": "MAD_PySAD_general",
         "orientation": "v",
         "showlegend": true,
         "type": "scatter",
         "x": [
          "Anomalia",
          "Negro",
          "Congelado",
          "Hum"
         ],
         "xaxis": "x",
         "y": [
          0.7078972407231209,
          0.7264659270998415,
          0.8976608187134503,
          0.7455197132616488
         ],
         "yaxis": "y"
        },
        {
         "hovertemplate": "variable=SAD_general<br>index=%{x}<br>value=%{y}<extra></extra>",
         "legendgroup": "SAD_general",
         "line": {
          "color": "#FF97FF",
          "dash": "solid"
         },
         "marker": {
          "symbol": "circle"
         },
         "mode": "lines",
         "name": "SAD_general",
         "orientation": "v",
         "showlegend": true,
         "type": "scatter",
         "x": [
          "Anomalia",
          "Negro",
          "Congelado",
          "Hum"
         ],
         "xaxis": "x",
         "y": [
          0.7345385347288297,
          0.7381933438985737,
          0.9051332033788174,
          1
         ],
         "yaxis": "y"
        },
        {
         "hovertemplate": "variable=xStream_general<br>index=%{x}<br>value=%{y}<extra></extra>",
         "legendgroup": "xStream_general",
         "line": {
          "color": "#FECB52",
          "dash": "solid"
         },
         "marker": {
          "symbol": "circle"
         },
         "mode": "lines",
         "name": "xStream_general",
         "orientation": "v",
         "showlegend": true,
         "type": "scatter",
         "x": [
          "Anomalia",
          "Negro",
          "Congelado",
          "Hum"
         ],
         "xaxis": "x",
         "y": [
          0.8472882968601332,
          0.8656101426307449,
          0.9119558154645874,
          0.942652329749104
         ],
         "yaxis": "y"
        },
        {
         "hovertemplate": "variable=HTM_general<br>index=%{x}<br>value=%{y}<extra></extra>",
         "legendgroup": "HTM_general",
         "line": {
          "color": "#636efa",
          "dash": "solid"
         },
         "marker": {
          "symbol": "circle"
         },
         "mode": "lines",
         "name": "HTM_general",
         "orientation": "v",
         "showlegend": true,
         "type": "scatter",
         "x": [
          "Anomalia",
          "Negro",
          "Congelado",
          "Hum"
         ],
         "xaxis": "x",
         "y": [
          0.0006195491588428728,
          0,
          0.0006535093451836362,
          0.0019933554817275745
         ],
         "yaxis": "y"
        },
        {
         "hovertemplate": "variable=IForest_NvS<br>index=%{x}<br>value=%{y}<extra></extra>",
         "legendgroup": "IForest_NvS",
         "line": {
          "color": "#EF553B",
          "dash": "solid"
         },
         "marker": {
          "symbol": "circle"
         },
         "mode": "lines",
         "name": "IForest_NvS",
         "orientation": "v",
         "showlegend": true,
         "type": "scatter",
         "x": [
          "Anomalia",
          "Negro",
          "Congelado",
          "Hum"
         ],
         "xaxis": "x",
         "y": [
          0.7319219790675547,
          0.8120443740095087,
          0.9035087719298246,
          0.0967741935483871
         ],
         "yaxis": "y"
        },
        {
         "hovertemplate": "variable=MAD_NvS<br>index=%{x}<br>value=%{y}<extra></extra>",
         "legendgroup": "MAD_NvS",
         "line": {
          "color": "#00cc96",
          "dash": "solid"
         },
         "marker": {
          "symbol": "circle"
         },
         "mode": "lines",
         "name": "MAD_NvS",
         "orientation": "v",
         "showlegend": true,
         "type": "scatter",
         "x": [
          "Anomalia",
          "Negro",
          "Congelado",
          "Hum"
         ],
         "xaxis": "x",
         "y": [
          0.7426260704091342,
          0.8259904912836767,
          0.9038336582196231,
          0.0931899641577061
         ],
         "yaxis": "y"
        },
        {
         "hovertemplate": "variable=MAD_PyOD_PvP<br>index=%{x}<br>value=%{y}<extra></extra>",
         "legendgroup": "MAD_PyOD_PvP",
         "line": {
          "color": "#ab63fa",
          "dash": "solid"
         },
         "marker": {
          "symbol": "circle"
         },
         "mode": "lines",
         "name": "MAD_PyOD_PvP",
         "orientation": "v",
         "showlegend": true,
         "type": "scatter",
         "x": [
          "Anomalia",
          "Negro",
          "Congelado",
          "Hum"
         ],
         "xaxis": "x",
         "y": [
          0.7578496669838249,
          0.8177496038034865,
          0.8992852501624431,
          0.44802867383512546
         ],
         "yaxis": "y"
        },
        {
         "hovertemplate": "variable=SAD_PvP<br>index=%{x}<br>value=%{y}<extra></extra>",
         "legendgroup": "SAD_PvP",
         "line": {
          "color": "#FFA15A",
          "dash": "solid"
         },
         "marker": {
          "symbol": "circle"
         },
         "mode": "lines",
         "name": "SAD_PvP",
         "orientation": "v",
         "showlegend": true,
         "type": "scatter",
         "x": [
          "Anomalia",
          "Negro",
          "Congelado",
          "Hum"
         ],
         "xaxis": "x",
         "y": [
          0.6941008563273073,
          0.7388272583201267,
          0.8983105912930475,
          0.3906810035842294
         ],
         "yaxis": "y"
        },
        {
         "hovertemplate": "variable=HTM_PvP<br>index=%{x}<br>value=%{y}<extra></extra>",
         "legendgroup": "HTM_PvP",
         "line": {
          "color": "#19d3f3",
          "dash": "solid"
         },
         "marker": {
          "symbol": "circle"
         },
         "mode": "lines",
         "name": "HTM_PvP",
         "orientation": "v",
         "showlegend": true,
         "type": "scatter",
         "x": [
          "Anomalia",
          "Negro",
          "Congelado",
          "Hum"
         ],
         "xaxis": "x",
         "y": [
          0.009197922127436496,
          0,
          0.011240360737158542,
          0.013953488372093023
         ],
         "yaxis": "y"
        },
        {
         "hovertemplate": "variable=HBOS_SH<br>index=%{x}<br>value=%{y}<extra></extra>",
         "legendgroup": "HBOS_SH",
         "line": {
          "color": "#FF6692",
          "dash": "solid"
         },
         "marker": {
          "symbol": "circle"
         },
         "mode": "lines",
         "name": "HBOS_SH",
         "orientation": "v",
         "showlegend": true,
         "type": "scatter",
         "x": [
          "Anomalia",
          "Negro",
          "Congelado",
          "Hum"
         ],
         "xaxis": "x",
         "y": [
          0.7923406279733587,
          0.8570522979397781,
          0.9025341130604289,
          0.5053763440860215
         ],
         "yaxis": "y"
        },
        {
         "hovertemplate": "variable=IForest_SH<br>index=%{x}<br>value=%{y}<extra></extra>",
         "legendgroup": "IForest_SH",
         "line": {
          "color": "#B6E880",
          "dash": "solid"
         },
         "marker": {
          "symbol": "circle"
         },
         "mode": "lines",
         "name": "IForest_SH",
         "orientation": "v",
         "showlegend": true,
         "type": "scatter",
         "x": [
          "Anomalia",
          "Negro",
          "Congelado",
          "Hum"
         ],
         "xaxis": "x",
         "y": [
          0.7668886774500476,
          0.8275752773375594,
          0.8996101364522417,
          0.48028673835125446
         ],
         "yaxis": "y"
        },
        {
         "hovertemplate": "variable=KNN_SH<br>index=%{x}<br>value=%{y}<extra></extra>",
         "legendgroup": "KNN_SH",
         "line": {
          "color": "#FF97FF",
          "dash": "solid"
         },
         "marker": {
          "symbol": "circle"
         },
         "mode": "lines",
         "name": "KNN_SH",
         "orientation": "v",
         "showlegend": true,
         "type": "scatter",
         "x": [
          "Anomalia",
          "Negro",
          "Congelado",
          "Hum"
         ],
         "xaxis": "x",
         "y": [
          0.2956707897240723,
          0.27131537242472265,
          0.28460038986354774,
          0.4767025089605735
         ],
         "yaxis": "y"
        }
       ],
       "layout": {
        "legend": {
         "title": {
          "text": "variable"
         },
         "tracegroupgap": 0
        },
        "margin": {
         "t": 60
        },
        "template": {
         "data": {
          "bar": [
           {
            "error_x": {
             "color": "#2a3f5f"
            },
            "error_y": {
             "color": "#2a3f5f"
            },
            "marker": {
             "line": {
              "color": "#E5ECF6",
              "width": 0.5
             },
             "pattern": {
              "fillmode": "overlay",
              "size": 10,
              "solidity": 0.2
             }
            },
            "type": "bar"
           }
          ],
          "barpolar": [
           {
            "marker": {
             "line": {
              "color": "#E5ECF6",
              "width": 0.5
             },
             "pattern": {
              "fillmode": "overlay",
              "size": 10,
              "solidity": 0.2
             }
            },
            "type": "barpolar"
           }
          ],
          "carpet": [
           {
            "aaxis": {
             "endlinecolor": "#2a3f5f",
             "gridcolor": "white",
             "linecolor": "white",
             "minorgridcolor": "white",
             "startlinecolor": "#2a3f5f"
            },
            "baxis": {
             "endlinecolor": "#2a3f5f",
             "gridcolor": "white",
             "linecolor": "white",
             "minorgridcolor": "white",
             "startlinecolor": "#2a3f5f"
            },
            "type": "carpet"
           }
          ],
          "choropleth": [
           {
            "colorbar": {
             "outlinewidth": 0,
             "ticks": ""
            },
            "type": "choropleth"
           }
          ],
          "contour": [
           {
            "colorbar": {
             "outlinewidth": 0,
             "ticks": ""
            },
            "colorscale": [
             [
              0,
              "#0d0887"
             ],
             [
              0.1111111111111111,
              "#46039f"
             ],
             [
              0.2222222222222222,
              "#7201a8"
             ],
             [
              0.3333333333333333,
              "#9c179e"
             ],
             [
              0.4444444444444444,
              "#bd3786"
             ],
             [
              0.5555555555555556,
              "#d8576b"
             ],
             [
              0.6666666666666666,
              "#ed7953"
             ],
             [
              0.7777777777777778,
              "#fb9f3a"
             ],
             [
              0.8888888888888888,
              "#fdca26"
             ],
             [
              1,
              "#f0f921"
             ]
            ],
            "type": "contour"
           }
          ],
          "contourcarpet": [
           {
            "colorbar": {
             "outlinewidth": 0,
             "ticks": ""
            },
            "type": "contourcarpet"
           }
          ],
          "heatmap": [
           {
            "colorbar": {
             "outlinewidth": 0,
             "ticks": ""
            },
            "colorscale": [
             [
              0,
              "#0d0887"
             ],
             [
              0.1111111111111111,
              "#46039f"
             ],
             [
              0.2222222222222222,
              "#7201a8"
             ],
             [
              0.3333333333333333,
              "#9c179e"
             ],
             [
              0.4444444444444444,
              "#bd3786"
             ],
             [
              0.5555555555555556,
              "#d8576b"
             ],
             [
              0.6666666666666666,
              "#ed7953"
             ],
             [
              0.7777777777777778,
              "#fb9f3a"
             ],
             [
              0.8888888888888888,
              "#fdca26"
             ],
             [
              1,
              "#f0f921"
             ]
            ],
            "type": "heatmap"
           }
          ],
          "heatmapgl": [
           {
            "colorbar": {
             "outlinewidth": 0,
             "ticks": ""
            },
            "colorscale": [
             [
              0,
              "#0d0887"
             ],
             [
              0.1111111111111111,
              "#46039f"
             ],
             [
              0.2222222222222222,
              "#7201a8"
             ],
             [
              0.3333333333333333,
              "#9c179e"
             ],
             [
              0.4444444444444444,
              "#bd3786"
             ],
             [
              0.5555555555555556,
              "#d8576b"
             ],
             [
              0.6666666666666666,
              "#ed7953"
             ],
             [
              0.7777777777777778,
              "#fb9f3a"
             ],
             [
              0.8888888888888888,
              "#fdca26"
             ],
             [
              1,
              "#f0f921"
             ]
            ],
            "type": "heatmapgl"
           }
          ],
          "histogram": [
           {
            "marker": {
             "pattern": {
              "fillmode": "overlay",
              "size": 10,
              "solidity": 0.2
             }
            },
            "type": "histogram"
           }
          ],
          "histogram2d": [
           {
            "colorbar": {
             "outlinewidth": 0,
             "ticks": ""
            },
            "colorscale": [
             [
              0,
              "#0d0887"
             ],
             [
              0.1111111111111111,
              "#46039f"
             ],
             [
              0.2222222222222222,
              "#7201a8"
             ],
             [
              0.3333333333333333,
              "#9c179e"
             ],
             [
              0.4444444444444444,
              "#bd3786"
             ],
             [
              0.5555555555555556,
              "#d8576b"
             ],
             [
              0.6666666666666666,
              "#ed7953"
             ],
             [
              0.7777777777777778,
              "#fb9f3a"
             ],
             [
              0.8888888888888888,
              "#fdca26"
             ],
             [
              1,
              "#f0f921"
             ]
            ],
            "type": "histogram2d"
           }
          ],
          "histogram2dcontour": [
           {
            "colorbar": {
             "outlinewidth": 0,
             "ticks": ""
            },
            "colorscale": [
             [
              0,
              "#0d0887"
             ],
             [
              0.1111111111111111,
              "#46039f"
             ],
             [
              0.2222222222222222,
              "#7201a8"
             ],
             [
              0.3333333333333333,
              "#9c179e"
             ],
             [
              0.4444444444444444,
              "#bd3786"
             ],
             [
              0.5555555555555556,
              "#d8576b"
             ],
             [
              0.6666666666666666,
              "#ed7953"
             ],
             [
              0.7777777777777778,
              "#fb9f3a"
             ],
             [
              0.8888888888888888,
              "#fdca26"
             ],
             [
              1,
              "#f0f921"
             ]
            ],
            "type": "histogram2dcontour"
           }
          ],
          "mesh3d": [
           {
            "colorbar": {
             "outlinewidth": 0,
             "ticks": ""
            },
            "type": "mesh3d"
           }
          ],
          "parcoords": [
           {
            "line": {
             "colorbar": {
              "outlinewidth": 0,
              "ticks": ""
             }
            },
            "type": "parcoords"
           }
          ],
          "pie": [
           {
            "automargin": true,
            "type": "pie"
           }
          ],
          "scatter": [
           {
            "fillpattern": {
             "fillmode": "overlay",
             "size": 10,
             "solidity": 0.2
            },
            "type": "scatter"
           }
          ],
          "scatter3d": [
           {
            "line": {
             "colorbar": {
              "outlinewidth": 0,
              "ticks": ""
             }
            },
            "marker": {
             "colorbar": {
              "outlinewidth": 0,
              "ticks": ""
             }
            },
            "type": "scatter3d"
           }
          ],
          "scattercarpet": [
           {
            "marker": {
             "colorbar": {
              "outlinewidth": 0,
              "ticks": ""
             }
            },
            "type": "scattercarpet"
           }
          ],
          "scattergeo": [
           {
            "marker": {
             "colorbar": {
              "outlinewidth": 0,
              "ticks": ""
             }
            },
            "type": "scattergeo"
           }
          ],
          "scattergl": [
           {
            "marker": {
             "colorbar": {
              "outlinewidth": 0,
              "ticks": ""
             }
            },
            "type": "scattergl"
           }
          ],
          "scattermapbox": [
           {
            "marker": {
             "colorbar": {
              "outlinewidth": 0,
              "ticks": ""
             }
            },
            "type": "scattermapbox"
           }
          ],
          "scatterpolar": [
           {
            "marker": {
             "colorbar": {
              "outlinewidth": 0,
              "ticks": ""
             }
            },
            "type": "scatterpolar"
           }
          ],
          "scatterpolargl": [
           {
            "marker": {
             "colorbar": {
              "outlinewidth": 0,
              "ticks": ""
             }
            },
            "type": "scatterpolargl"
           }
          ],
          "scatterternary": [
           {
            "marker": {
             "colorbar": {
              "outlinewidth": 0,
              "ticks": ""
             }
            },
            "type": "scatterternary"
           }
          ],
          "surface": [
           {
            "colorbar": {
             "outlinewidth": 0,
             "ticks": ""
            },
            "colorscale": [
             [
              0,
              "#0d0887"
             ],
             [
              0.1111111111111111,
              "#46039f"
             ],
             [
              0.2222222222222222,
              "#7201a8"
             ],
             [
              0.3333333333333333,
              "#9c179e"
             ],
             [
              0.4444444444444444,
              "#bd3786"
             ],
             [
              0.5555555555555556,
              "#d8576b"
             ],
             [
              0.6666666666666666,
              "#ed7953"
             ],
             [
              0.7777777777777778,
              "#fb9f3a"
             ],
             [
              0.8888888888888888,
              "#fdca26"
             ],
             [
              1,
              "#f0f921"
             ]
            ],
            "type": "surface"
           }
          ],
          "table": [
           {
            "cells": {
             "fill": {
              "color": "#EBF0F8"
             },
             "line": {
              "color": "white"
             }
            },
            "header": {
             "fill": {
              "color": "#C8D4E3"
             },
             "line": {
              "color": "white"
             }
            },
            "type": "table"
           }
          ]
         },
         "layout": {
          "annotationdefaults": {
           "arrowcolor": "#2a3f5f",
           "arrowhead": 0,
           "arrowwidth": 1
          },
          "autotypenumbers": "strict",
          "coloraxis": {
           "colorbar": {
            "outlinewidth": 0,
            "ticks": ""
           }
          },
          "colorscale": {
           "diverging": [
            [
             0,
             "#8e0152"
            ],
            [
             0.1,
             "#c51b7d"
            ],
            [
             0.2,
             "#de77ae"
            ],
            [
             0.3,
             "#f1b6da"
            ],
            [
             0.4,
             "#fde0ef"
            ],
            [
             0.5,
             "#f7f7f7"
            ],
            [
             0.6,
             "#e6f5d0"
            ],
            [
             0.7,
             "#b8e186"
            ],
            [
             0.8,
             "#7fbc41"
            ],
            [
             0.9,
             "#4d9221"
            ],
            [
             1,
             "#276419"
            ]
           ],
           "sequential": [
            [
             0,
             "#0d0887"
            ],
            [
             0.1111111111111111,
             "#46039f"
            ],
            [
             0.2222222222222222,
             "#7201a8"
            ],
            [
             0.3333333333333333,
             "#9c179e"
            ],
            [
             0.4444444444444444,
             "#bd3786"
            ],
            [
             0.5555555555555556,
             "#d8576b"
            ],
            [
             0.6666666666666666,
             "#ed7953"
            ],
            [
             0.7777777777777778,
             "#fb9f3a"
            ],
            [
             0.8888888888888888,
             "#fdca26"
            ],
            [
             1,
             "#f0f921"
            ]
           ],
           "sequentialminus": [
            [
             0,
             "#0d0887"
            ],
            [
             0.1111111111111111,
             "#46039f"
            ],
            [
             0.2222222222222222,
             "#7201a8"
            ],
            [
             0.3333333333333333,
             "#9c179e"
            ],
            [
             0.4444444444444444,
             "#bd3786"
            ],
            [
             0.5555555555555556,
             "#d8576b"
            ],
            [
             0.6666666666666666,
             "#ed7953"
            ],
            [
             0.7777777777777778,
             "#fb9f3a"
            ],
            [
             0.8888888888888888,
             "#fdca26"
            ],
            [
             1,
             "#f0f921"
            ]
           ]
          },
          "colorway": [
           "#636efa",
           "#EF553B",
           "#00cc96",
           "#ab63fa",
           "#FFA15A",
           "#19d3f3",
           "#FF6692",
           "#B6E880",
           "#FF97FF",
           "#FECB52"
          ],
          "font": {
           "color": "#2a3f5f"
          },
          "geo": {
           "bgcolor": "white",
           "lakecolor": "white",
           "landcolor": "#E5ECF6",
           "showlakes": true,
           "showland": true,
           "subunitcolor": "white"
          },
          "hoverlabel": {
           "align": "left"
          },
          "hovermode": "closest",
          "mapbox": {
           "style": "light"
          },
          "paper_bgcolor": "white",
          "plot_bgcolor": "#E5ECF6",
          "polar": {
           "angularaxis": {
            "gridcolor": "white",
            "linecolor": "white",
            "ticks": ""
           },
           "bgcolor": "#E5ECF6",
           "radialaxis": {
            "gridcolor": "white",
            "linecolor": "white",
            "ticks": ""
           }
          },
          "scene": {
           "xaxis": {
            "backgroundcolor": "#E5ECF6",
            "gridcolor": "white",
            "gridwidth": 2,
            "linecolor": "white",
            "showbackground": true,
            "ticks": "",
            "zerolinecolor": "white"
           },
           "yaxis": {
            "backgroundcolor": "#E5ECF6",
            "gridcolor": "white",
            "gridwidth": 2,
            "linecolor": "white",
            "showbackground": true,
            "ticks": "",
            "zerolinecolor": "white"
           },
           "zaxis": {
            "backgroundcolor": "#E5ECF6",
            "gridcolor": "white",
            "gridwidth": 2,
            "linecolor": "white",
            "showbackground": true,
            "ticks": "",
            "zerolinecolor": "white"
           }
          },
          "shapedefaults": {
           "line": {
            "color": "#2a3f5f"
           }
          },
          "ternary": {
           "aaxis": {
            "gridcolor": "white",
            "linecolor": "white",
            "ticks": ""
           },
           "baxis": {
            "gridcolor": "white",
            "linecolor": "white",
            "ticks": ""
           },
           "bgcolor": "#E5ECF6",
           "caxis": {
            "gridcolor": "white",
            "linecolor": "white",
            "ticks": ""
           }
          },
          "title": {
           "x": 0.05
          },
          "xaxis": {
           "automargin": true,
           "gridcolor": "white",
           "linecolor": "white",
           "ticks": "",
           "title": {
            "standoff": 15
           },
           "zerolinecolor": "white",
           "zerolinewidth": 2
          },
          "yaxis": {
           "automargin": true,
           "gridcolor": "white",
           "linecolor": "white",
           "ticks": "",
           "title": {
            "standoff": 15
           },
           "zerolinecolor": "white",
           "zerolinewidth": 2
          }
         }
        },
        "xaxis": {
         "anchor": "y",
         "domain": [
          0,
          1
         ],
         "title": {
          "text": "index"
         }
        },
        "yaxis": {
         "anchor": "x",
         "domain": [
          0,
          1
         ],
         "title": {
          "text": "value"
         }
        }
       }
      }
     },
     "metadata": {},
     "output_type": "display_data"
    }
   ],
   "source": [
    "px.line(resumen_thresholds_sensibilidades.T)"
   ]
  },
  {
   "cell_type": "markdown",
   "metadata": {},
   "source": [
    "# Resumen Anomalía CurvaCola"
   ]
  },
  {
   "cell_type": "code",
   "execution_count": 132,
   "metadata": {},
   "outputs": [],
   "source": [
    "anomalias = ['CurvaCola']\n",
    "metricas = ['roc_auc','accuracy','precision','kappa','sensibilidad','especificidad']\n",
    "\n",
    "def calc_metricas(metodos,metodos_lista):\n",
    "    metodos_metricas = pd.DataFrame(index=metodos_lista,columns=metricas)\n",
    "    for metodo in metodos_lista:\n",
    "        metodos_metricas.loc[metodo,metricas[0]] = roc_auc_score(metodos['CurvaCola'], metodos[metodo])\n",
    "        metodos_metricas.loc[metodo,metricas[1]] = accuracy_score(metodos['CurvaCola'], metodos[metodo])\n",
    "        metodos_metricas.loc[metodo,metricas[2]] = precision_score(metodos['CurvaCola'], metodos[metodo])\n",
    "        metodos_metricas.loc[metodo,metricas[3]] = cohen_kappa_score(metodos['CurvaCola'], metodos[metodo])\n",
    "        metodos_metricas.loc[metodo,metricas[4]] = recall_score(metodos['CurvaCola'], metodos[metodo])\n",
    "        metodos_metricas.loc[metodo,metricas[5]] = recall_score(metodos['CurvaCola'], metodos[metodo], pos_label=0)\n",
    "    return metodos_metricas\n",
    "\n",
    "def calc_sensibilidad(metodos,metodos_lista,anomalias):\n",
    "    metodos_sensibilidades = pd.DataFrame(index=metodos_lista, columns=anomalias)\n",
    "    for metodo in metodos_lista:\n",
    "        for anomalia in anomalias:\n",
    "            metodos_sensibilidades.loc[metodo,anomalia] = recall_score(metodos[anomalia], metodos[metodo])\n",
    "    return metodos_sensibilidades"
   ]
  },
  {
   "cell_type": "markdown",
   "metadata": {},
   "source": [
    "## Métodos"
   ]
  },
  {
   "cell_type": "code",
   "execution_count": 133,
   "metadata": {},
   "outputs": [
    {
     "data": {
      "text/html": [
       "<div>\n",
       "<style scoped>\n",
       "    .dataframe tbody tr th:only-of-type {\n",
       "        vertical-align: middle;\n",
       "    }\n",
       "\n",
       "    .dataframe tbody tr th {\n",
       "        vertical-align: top;\n",
       "    }\n",
       "\n",
       "    .dataframe thead th {\n",
       "        text-align: right;\n",
       "    }\n",
       "</style>\n",
       "<table border=\"1\" class=\"dataframe\">\n",
       "  <thead>\n",
       "    <tr style=\"text-align: right;\">\n",
       "      <th></th>\n",
       "      <th>CurvaCola</th>\n",
       "      <th>HBOS</th>\n",
       "      <th>IForest</th>\n",
       "      <th>KNN</th>\n",
       "      <th>LODA</th>\n",
       "      <th>MAD_PyOD</th>\n",
       "      <th>MCD</th>\n",
       "      <th>IForestASD</th>\n",
       "      <th>MAD_PySAD</th>\n",
       "      <th>SAD</th>\n",
       "      <th>xStream</th>\n",
       "    </tr>\n",
       "    <tr>\n",
       "      <th>fecha</th>\n",
       "      <th></th>\n",
       "      <th></th>\n",
       "      <th></th>\n",
       "      <th></th>\n",
       "      <th></th>\n",
       "      <th></th>\n",
       "      <th></th>\n",
       "      <th></th>\n",
       "      <th></th>\n",
       "      <th></th>\n",
       "      <th></th>\n",
       "    </tr>\n",
       "  </thead>\n",
       "  <tbody>\n",
       "    <tr>\n",
       "      <th>2021-11-26 11:48:00</th>\n",
       "      <td>0</td>\n",
       "      <td>0</td>\n",
       "      <td>0</td>\n",
       "      <td>0</td>\n",
       "      <td>0</td>\n",
       "      <td>0</td>\n",
       "      <td>0</td>\n",
       "      <td>0</td>\n",
       "      <td>0</td>\n",
       "      <td>0</td>\n",
       "      <td>0</td>\n",
       "    </tr>\n",
       "    <tr>\n",
       "      <th>2021-06-06 19:17:00</th>\n",
       "      <td>0</td>\n",
       "      <td>0</td>\n",
       "      <td>0</td>\n",
       "      <td>0</td>\n",
       "      <td>0</td>\n",
       "      <td>1</td>\n",
       "      <td>0</td>\n",
       "      <td>0</td>\n",
       "      <td>1</td>\n",
       "      <td>1</td>\n",
       "      <td>0</td>\n",
       "    </tr>\n",
       "    <tr>\n",
       "      <th>2021-12-04 07:59:00</th>\n",
       "      <td>0</td>\n",
       "      <td>0</td>\n",
       "      <td>0</td>\n",
       "      <td>0</td>\n",
       "      <td>0</td>\n",
       "      <td>0</td>\n",
       "      <td>0</td>\n",
       "      <td>0</td>\n",
       "      <td>0</td>\n",
       "      <td>0</td>\n",
       "      <td>0</td>\n",
       "    </tr>\n",
       "    <tr>\n",
       "      <th>2021-11-06 17:55:00</th>\n",
       "      <td>0</td>\n",
       "      <td>0</td>\n",
       "      <td>0</td>\n",
       "      <td>0</td>\n",
       "      <td>0</td>\n",
       "      <td>0</td>\n",
       "      <td>0</td>\n",
       "      <td>0</td>\n",
       "      <td>0</td>\n",
       "      <td>0</td>\n",
       "      <td>0</td>\n",
       "    </tr>\n",
       "    <tr>\n",
       "      <th>2021-05-05 08:19:00</th>\n",
       "      <td>0</td>\n",
       "      <td>0</td>\n",
       "      <td>0</td>\n",
       "      <td>1</td>\n",
       "      <td>0</td>\n",
       "      <td>0</td>\n",
       "      <td>0</td>\n",
       "      <td>0</td>\n",
       "      <td>0</td>\n",
       "      <td>0</td>\n",
       "      <td>0</td>\n",
       "    </tr>\n",
       "  </tbody>\n",
       "</table>\n",
       "</div>"
      ],
      "text/plain": [
       "                     CurvaCola  HBOS  IForest  KNN  LODA  MAD_PyOD  MCD  \\\n",
       "fecha                                                                     \n",
       "2021-11-26 11:48:00          0     0        0    0     0         0    0   \n",
       "2021-06-06 19:17:00          0     0        0    0     0         1    0   \n",
       "2021-12-04 07:59:00          0     0        0    0     0         0    0   \n",
       "2021-11-06 17:55:00          0     0        0    0     0         0    0   \n",
       "2021-05-05 08:19:00          0     0        0    1     0         0    0   \n",
       "\n",
       "                     IForestASD  MAD_PySAD  SAD  xStream  \n",
       "fecha                                                     \n",
       "2021-11-26 11:48:00           0          0    0        0  \n",
       "2021-06-06 19:17:00           0          1    1        0  \n",
       "2021-12-04 07:59:00           0          0    0        0  \n",
       "2021-11-06 17:55:00           0          0    0        0  \n",
       "2021-05-05 08:19:00           0          0    0        0  "
      ]
     },
     "execution_count": 133,
     "metadata": {},
     "output_type": "execute_result"
    }
   ],
   "source": [
    "metodos = pd.read_csv('Metodos_TipoAnomalia/Metodos_CurvaCola/PyOD/Resultados/HBOS_completo.csv',index_col='fecha')\n",
    "metodos = metodos.drop('Y_pred', axis=1)\n",
    "\n",
    "metodos['HBOS'] = pd.read_csv('Metodos_TipoAnomalia/Metodos_CurvaCola/PyOD/Resultados/HBOS_completo.csv',usecols=['fecha','Y_pred'],index_col='fecha')\n",
    "metodos['IForest'] = pd.read_csv('Metodos_TipoAnomalia/Metodos_CurvaCola/PyOD/Resultados/IForest_completo.csv',usecols=['fecha','Y_pred'],index_col='fecha')\n",
    "metodos['KNN'] = pd.read_csv('Metodos_TipoAnomalia/Metodos_CurvaCola/PyOD/Resultados/KNN_completo.csv',usecols=['fecha','Y_pred'],index_col='fecha')\n",
    "metodos['LODA'] = pd.read_csv('Metodos_TipoAnomalia/Metodos_CurvaCola/PyOD/Resultados/LODA_completo.csv',usecols=['fecha','Y_pred'],index_col='fecha')\n",
    "metodos['MAD_PyOD'] = pd.read_csv('Metodos_TipoAnomalia/Metodos_CurvaCola/PyOD/Resultados/MAD_completo.csv',usecols=['fecha','Y_pred'],index_col='fecha')\n",
    "metodos['MCD'] = pd.read_csv('Metodos_TipoAnomalia/Metodos_CurvaCola/PyOD/Resultados/MCD_completo.csv',usecols=['fecha','Y_pred'],index_col='fecha')\n",
    "\n",
    "metodos['IForestASD'] = pd.read_csv('Metodos_TipoAnomalia/Metodos_CurvaCola/PySAD/Resultados/IForestASD_completo.csv',usecols=['fecha','Y_pred'],index_col='fecha')\n",
    "metodos['MAD_PySAD'] = pd.read_csv('Metodos_TipoAnomalia/Metodos_CurvaCola/PySAD/Resultados/MAD_completo.csv',usecols=['fecha','Y_pred'],index_col='fecha')\n",
    "metodos['SAD'] = pd.read_csv('Metodos_TipoAnomalia/Metodos_CurvaCola/PySAD/Resultados/SAD_completo.csv',usecols=['fecha','Y_pred'],index_col='fecha')\n",
    "metodos['xStream'] = pd.read_csv('Metodos_TipoAnomalia/Metodos_CurvaCola/PySAD/Resultados/xStream_completo.csv',usecols=['fecha','Y_pred'],index_col='fecha')\n",
    "\n",
    "metodos_htm = pd.read_csv('Metodos_TipoAnomalia/Metodos_CurvaCola/HTMs/HTM_Uni/HTM_completo.csv',index_col='fecha')\n",
    "metodos_htm['HTM'] = metodos_htm['Y_pred']\n",
    "metodos_htm = metodos_htm.drop('Y_pred',axis=1)\n",
    "\n",
    "metodos.head()"
   ]
  },
  {
   "cell_type": "markdown",
   "metadata": {},
   "source": []
  },
  {
   "cell_type": "markdown",
   "metadata": {},
   "source": [
    "### Métricas generales:"
   ]
  },
  {
   "cell_type": "code",
   "execution_count": 134,
   "metadata": {},
   "outputs": [
    {
     "data": {
      "text/html": [
       "<div>\n",
       "<style scoped>\n",
       "    .dataframe tbody tr th:only-of-type {\n",
       "        vertical-align: middle;\n",
       "    }\n",
       "\n",
       "    .dataframe tbody tr th {\n",
       "        vertical-align: top;\n",
       "    }\n",
       "\n",
       "    .dataframe thead th {\n",
       "        text-align: right;\n",
       "    }\n",
       "</style>\n",
       "<table border=\"1\" class=\"dataframe\">\n",
       "  <thead>\n",
       "    <tr style=\"text-align: right;\">\n",
       "      <th></th>\n",
       "      <th>roc_auc</th>\n",
       "      <th>accuracy</th>\n",
       "      <th>precision</th>\n",
       "      <th>kappa</th>\n",
       "      <th>sensibilidad</th>\n",
       "      <th>especificidad</th>\n",
       "    </tr>\n",
       "  </thead>\n",
       "  <tbody>\n",
       "    <tr>\n",
       "      <th>HBOS</th>\n",
       "      <td>0.509429</td>\n",
       "      <td>0.830272</td>\n",
       "      <td>0.102804</td>\n",
       "      <td>0.017534</td>\n",
       "      <td>0.119991</td>\n",
       "      <td>0.898867</td>\n",
       "    </tr>\n",
       "    <tr>\n",
       "      <th>IForest</th>\n",
       "      <td>0.510426</td>\n",
       "      <td>0.831722</td>\n",
       "      <td>0.104581</td>\n",
       "      <td>0.019515</td>\n",
       "      <td>0.120436</td>\n",
       "      <td>0.900415</td>\n",
       "    </tr>\n",
       "    <tr>\n",
       "      <th>KNN</th>\n",
       "      <td>0.512534</td>\n",
       "      <td>0.834467</td>\n",
       "      <td>0.108424</td>\n",
       "      <td>0.023747</td>\n",
       "      <td>0.121772</td>\n",
       "      <td>0.903296</td>\n",
       "    </tr>\n",
       "    <tr>\n",
       "      <th>LODA</th>\n",
       "      <td>0.504172</td>\n",
       "      <td>0.829487</td>\n",
       "      <td>0.09466</td>\n",
       "      <td>0.007799</td>\n",
       "      <td>0.109305</td>\n",
       "      <td>0.899039</td>\n",
       "    </tr>\n",
       "    <tr>\n",
       "      <th>MAD_PyOD</th>\n",
       "      <td>0.498623</td>\n",
       "      <td>0.901716</td>\n",
       "      <td>0.069421</td>\n",
       "      <td>-0.004522</td>\n",
       "      <td>0.00935</td>\n",
       "      <td>0.987896</td>\n",
       "    </tr>\n",
       "    <tr>\n",
       "      <th>MCD</th>\n",
       "      <td>0.489765</td>\n",
       "      <td>0.825586</td>\n",
       "      <td>0.071762</td>\n",
       "      <td>-0.019215</td>\n",
       "      <td>0.082146</td>\n",
       "      <td>0.897384</td>\n",
       "    </tr>\n",
       "    <tr>\n",
       "      <th>IForestASD</th>\n",
       "      <td>0.507783</td>\n",
       "      <td>0.748221</td>\n",
       "      <td>0.094266</td>\n",
       "      <td>0.009833</td>\n",
       "      <td>0.215939</td>\n",
       "      <td>0.799626</td>\n",
       "    </tr>\n",
       "    <tr>\n",
       "      <th>MAD_PySAD</th>\n",
       "      <td>0.499211</td>\n",
       "      <td>0.827409</td>\n",
       "      <td>0.086832</td>\n",
       "      <td>-0.00147</td>\n",
       "      <td>0.100846</td>\n",
       "      <td>0.897577</td>\n",
       "    </tr>\n",
       "    <tr>\n",
       "      <th>SAD</th>\n",
       "      <td>0.498445</td>\n",
       "      <td>0.894971</td>\n",
       "      <td>0.075564</td>\n",
       "      <td>-0.00478</td>\n",
       "      <td>0.017142</td>\n",
       "      <td>0.979748</td>\n",
       "    </tr>\n",
       "    <tr>\n",
       "      <th>xStream</th>\n",
       "      <td>0.502377</td>\n",
       "      <td>0.729007</td>\n",
       "      <td>0.089782</td>\n",
       "      <td>0.002809</td>\n",
       "      <td>0.227293</td>\n",
       "      <td>0.77746</td>\n",
       "    </tr>\n",
       "    <tr>\n",
       "      <th>HTM</th>\n",
       "      <td>0.49844</td>\n",
       "      <td>0.906154</td>\n",
       "      <td>0.046753</td>\n",
       "      <td>-0.005385</td>\n",
       "      <td>0.003195</td>\n",
       "      <td>0.993686</td>\n",
       "    </tr>\n",
       "  </tbody>\n",
       "</table>\n",
       "</div>"
      ],
      "text/plain": [
       "             roc_auc  accuracy precision     kappa sensibilidad especificidad\n",
       "HBOS        0.509429  0.830272  0.102804  0.017534     0.119991      0.898867\n",
       "IForest     0.510426  0.831722  0.104581  0.019515     0.120436      0.900415\n",
       "KNN         0.512534  0.834467  0.108424  0.023747     0.121772      0.903296\n",
       "LODA        0.504172  0.829487   0.09466  0.007799     0.109305      0.899039\n",
       "MAD_PyOD    0.498623  0.901716  0.069421 -0.004522      0.00935      0.987896\n",
       "MCD         0.489765  0.825586  0.071762 -0.019215     0.082146      0.897384\n",
       "IForestASD  0.507783  0.748221  0.094266  0.009833     0.215939      0.799626\n",
       "MAD_PySAD   0.499211  0.827409  0.086832  -0.00147     0.100846      0.897577\n",
       "SAD         0.498445  0.894971  0.075564  -0.00478     0.017142      0.979748\n",
       "xStream     0.502377  0.729007  0.089782  0.002809     0.227293       0.77746\n",
       "HTM          0.49844  0.906154  0.046753 -0.005385     0.003195      0.993686"
      ]
     },
     "execution_count": 134,
     "metadata": {},
     "output_type": "execute_result"
    }
   ],
   "source": [
    "metodos_lista = ['HBOS','IForest','KNN','LODA','MAD_PyOD','MCD', 'IForestASD', 'MAD_PySAD','SAD','xStream']\n",
    "metodos_metricas = calc_metricas(metodos,metodos_lista)\n",
    "metodos_metricas = pd.concat([metodos_metricas,calc_metricas(metodos_htm, ['HTM'])])\n",
    "metodos_metricas"
   ]
  },
  {
   "cell_type": "code",
   "execution_count": 135,
   "metadata": {},
   "outputs": [
    {
     "data": {
      "application/vnd.plotly.v1+json": {
       "config": {
        "plotlyServerURL": "https://plot.ly"
       },
       "data": [
        {
         "hovertemplate": "variable=HBOS<br>index=%{x}<br>value=%{y}<extra></extra>",
         "legendgroup": "HBOS",
         "line": {
          "color": "#636efa",
          "dash": "solid"
         },
         "marker": {
          "symbol": "circle"
         },
         "mode": "lines",
         "name": "HBOS",
         "orientation": "v",
         "showlegend": true,
         "type": "scatter",
         "x": [
          "roc_auc",
          "accuracy",
          "precision",
          "kappa",
          "sensibilidad",
          "especificidad"
         ],
         "xaxis": "x",
         "y": [
          0.5094290393522438,
          0.8302715420056858,
          0.102803738317757,
          0.01753391657967862,
          0.11999109528049866,
          0.898866983423989
         ],
         "yaxis": "y"
        },
        {
         "hovertemplate": "variable=IForest<br>index=%{x}<br>value=%{y}<extra></extra>",
         "legendgroup": "IForest",
         "line": {
          "color": "#EF553B",
          "dash": "solid"
         },
         "marker": {
          "symbol": "circle"
         },
         "mode": "lines",
         "name": "IForest",
         "orientation": "v",
         "showlegend": true,
         "type": "scatter",
         "x": [
          "roc_auc",
          "accuracy",
          "precision",
          "kappa",
          "sensibilidad",
          "especificidad"
         ],
         "xaxis": "x",
         "y": [
          0.5104256345074508,
          0.831722380158808,
          0.10458148076551324,
          0.01951487312143585,
          0.12043633125556545,
          0.9004149377593361
         ],
         "yaxis": "y"
        },
        {
         "hovertemplate": "variable=KNN<br>index=%{x}<br>value=%{y}<extra></extra>",
         "legendgroup": "KNN",
         "line": {
          "color": "#00cc96",
          "dash": "solid"
         },
         "marker": {
          "symbol": "circle"
         },
         "mode": "lines",
         "name": "KNN",
         "orientation": "v",
         "showlegend": true,
         "type": "scatter",
         "x": [
          "roc_auc",
          "accuracy",
          "precision",
          "kappa",
          "sensibilidad",
          "especificidad"
         ],
         "xaxis": "x",
         "y": [
          0.5125339459765546,
          0.8344672090971473,
          0.10842418235877106,
          0.023747320129526406,
          0.1217720391807658,
          0.9032958527723433
         ],
         "yaxis": "y"
        },
        {
         "hovertemplate": "variable=LODA<br>index=%{x}<br>value=%{y}<extra></extra>",
         "legendgroup": "LODA",
         "line": {
          "color": "#ab63fa",
          "dash": "solid"
         },
         "marker": {
          "symbol": "circle"
         },
         "mode": "lines",
         "name": "LODA",
         "orientation": "v",
         "showlegend": true,
         "type": "scatter",
         "x": [
          "roc_auc",
          "accuracy",
          "precision",
          "kappa",
          "sensibilidad",
          "especificidad"
         ],
         "xaxis": "x",
         "y": [
          0.5041722051145172,
          0.8294873051661602,
          0.09465972623867361,
          0.007799325354829412,
          0.10930543187889581,
          0.8990389783501387
         ],
         "yaxis": "y"
        },
        {
         "hovertemplate": "variable=MAD_PyOD<br>index=%{x}<br>value=%{y}<extra></extra>",
         "legendgroup": "MAD_PyOD",
         "line": {
          "color": "#FFA15A",
          "dash": "solid"
         },
         "marker": {
          "symbol": "circle"
         },
         "mode": "lines",
         "name": "MAD_PyOD",
         "orientation": "v",
         "showlegend": true,
         "type": "scatter",
         "x": [
          "roc_auc",
          "accuracy",
          "precision",
          "kappa",
          "sensibilidad",
          "especificidad"
         ],
         "xaxis": "x",
         "y": [
          0.49862290627430944,
          0.9017155180864621,
          0.06942148760330578,
          -0.004521540105940858,
          0.009349955476402494,
          0.9878958570722164
         ],
         "yaxis": "y"
        },
        {
         "hovertemplate": "variable=MCD<br>index=%{x}<br>value=%{y}<extra></extra>",
         "legendgroup": "MCD",
         "line": {
          "color": "#19d3f3",
          "dash": "solid"
         },
         "marker": {
          "symbol": "circle"
         },
         "mode": "lines",
         "name": "MCD",
         "orientation": "v",
         "showlegend": true,
         "type": "scatter",
         "x": [
          "roc_auc",
          "accuracy",
          "precision",
          "kappa",
          "sensibilidad",
          "especificidad"
         ],
         "xaxis": "x",
         "y": [
          0.489764782292885,
          0.8255857268895206,
          0.07176196032672112,
          -0.019214506986266144,
          0.0821460373998219,
          0.897383527185948
         ],
         "yaxis": "y"
        },
        {
         "hovertemplate": "variable=IForestASD<br>index=%{x}<br>value=%{y}<extra></extra>",
         "legendgroup": "IForestASD",
         "line": {
          "color": "#FF6692",
          "dash": "solid"
         },
         "marker": {
          "symbol": "circle"
         },
         "mode": "lines",
         "name": "IForestASD",
         "orientation": "v",
         "showlegend": true,
         "type": "scatter",
         "x": [
          "roc_auc",
          "accuracy",
          "precision",
          "kappa",
          "sensibilidad",
          "especificidad"
         ],
         "xaxis": "x",
         "y": [
          0.5077826794715077,
          0.7482207626703264,
          0.09426627793974733,
          0.009832556714325924,
          0.21593944790739092,
          0.7996259110356244
         ],
         "yaxis": "y"
        },
        {
         "hovertemplate": "variable=MAD_PySAD<br>index=%{x}<br>value=%{y}<extra></extra>",
         "legendgroup": "MAD_PySAD",
         "line": {
          "color": "#B6E880",
          "dash": "solid"
         },
         "marker": {
          "symbol": "circle"
         },
         "mode": "lines",
         "name": "MAD_PySAD",
         "orientation": "v",
         "showlegend": true,
         "type": "scatter",
         "x": [
          "roc_auc",
          "accuracy",
          "precision",
          "kappa",
          "sensibilidad",
          "especificidad"
         ],
         "xaxis": "x",
         "y": [
          0.4992114849152467,
          0.8274090775414175,
          0.08683151236342726,
          -0.0014698686593868082,
          0.10084594835262689,
          0.8975770214778664
         ],
         "yaxis": "y"
        },
        {
         "hovertemplate": "variable=SAD<br>index=%{x}<br>value=%{y}<extra></extra>",
         "legendgroup": "SAD",
         "line": {
          "color": "#FF97FF",
          "dash": "solid"
         },
         "marker": {
          "symbol": "circle"
         },
         "mode": "lines",
         "name": "SAD",
         "orientation": "v",
         "showlegend": true,
         "type": "scatter",
         "x": [
          "roc_auc",
          "accuracy",
          "precision",
          "kappa",
          "sensibilidad",
          "especificidad"
         ],
         "xaxis": "x",
         "y": [
          0.49844459124297325,
          0.8949710812665425,
          0.07556427870461237,
          -0.004780302110154011,
          0.01714158504007124,
          0.9797475974458754
         ],
         "yaxis": "y"
        },
        {
         "hovertemplate": "variable=xStream<br>index=%{x}<br>value=%{y}<extra></extra>",
         "legendgroup": "xStream",
         "line": {
          "color": "#FECB52",
          "dash": "solid"
         },
         "marker": {
          "symbol": "circle"
         },
         "mode": "lines",
         "name": "xStream",
         "orientation": "v",
         "showlegend": true,
         "type": "scatter",
         "x": [
          "roc_auc",
          "accuracy",
          "precision",
          "kappa",
          "sensibilidad",
          "especificidad"
         ],
         "xaxis": "x",
         "y": [
          0.5023765150998393,
          0.7290069601019508,
          0.08978192050650721,
          0.0028093717841611854,
          0.22729296527159396,
          0.7774600649280846
         ],
         "yaxis": "y"
        },
        {
         "hovertemplate": "variable=HTM<br>index=%{x}<br>value=%{y}<extra></extra>",
         "legendgroup": "HTM",
         "line": {
          "color": "#636efa",
          "dash": "solid"
         },
         "marker": {
          "symbol": "circle"
         },
         "mode": "lines",
         "name": "HTM",
         "orientation": "v",
         "showlegend": true,
         "type": "scatter",
         "x": [
          "roc_auc",
          "accuracy",
          "precision",
          "kappa",
          "sensibilidad",
          "especificidad"
         ],
         "xaxis": "x",
         "y": [
          0.49844022101139895,
          0.9061542985981766,
          0.046753246753246755,
          -0.005384831708727056,
          0.0031947464170031504,
          0.9936856956057947
         ],
         "yaxis": "y"
        }
       ],
       "layout": {
        "legend": {
         "title": {
          "text": "variable"
         },
         "tracegroupgap": 0
        },
        "margin": {
         "t": 60
        },
        "template": {
         "data": {
          "bar": [
           {
            "error_x": {
             "color": "#2a3f5f"
            },
            "error_y": {
             "color": "#2a3f5f"
            },
            "marker": {
             "line": {
              "color": "#E5ECF6",
              "width": 0.5
             },
             "pattern": {
              "fillmode": "overlay",
              "size": 10,
              "solidity": 0.2
             }
            },
            "type": "bar"
           }
          ],
          "barpolar": [
           {
            "marker": {
             "line": {
              "color": "#E5ECF6",
              "width": 0.5
             },
             "pattern": {
              "fillmode": "overlay",
              "size": 10,
              "solidity": 0.2
             }
            },
            "type": "barpolar"
           }
          ],
          "carpet": [
           {
            "aaxis": {
             "endlinecolor": "#2a3f5f",
             "gridcolor": "white",
             "linecolor": "white",
             "minorgridcolor": "white",
             "startlinecolor": "#2a3f5f"
            },
            "baxis": {
             "endlinecolor": "#2a3f5f",
             "gridcolor": "white",
             "linecolor": "white",
             "minorgridcolor": "white",
             "startlinecolor": "#2a3f5f"
            },
            "type": "carpet"
           }
          ],
          "choropleth": [
           {
            "colorbar": {
             "outlinewidth": 0,
             "ticks": ""
            },
            "type": "choropleth"
           }
          ],
          "contour": [
           {
            "colorbar": {
             "outlinewidth": 0,
             "ticks": ""
            },
            "colorscale": [
             [
              0,
              "#0d0887"
             ],
             [
              0.1111111111111111,
              "#46039f"
             ],
             [
              0.2222222222222222,
              "#7201a8"
             ],
             [
              0.3333333333333333,
              "#9c179e"
             ],
             [
              0.4444444444444444,
              "#bd3786"
             ],
             [
              0.5555555555555556,
              "#d8576b"
             ],
             [
              0.6666666666666666,
              "#ed7953"
             ],
             [
              0.7777777777777778,
              "#fb9f3a"
             ],
             [
              0.8888888888888888,
              "#fdca26"
             ],
             [
              1,
              "#f0f921"
             ]
            ],
            "type": "contour"
           }
          ],
          "contourcarpet": [
           {
            "colorbar": {
             "outlinewidth": 0,
             "ticks": ""
            },
            "type": "contourcarpet"
           }
          ],
          "heatmap": [
           {
            "colorbar": {
             "outlinewidth": 0,
             "ticks": ""
            },
            "colorscale": [
             [
              0,
              "#0d0887"
             ],
             [
              0.1111111111111111,
              "#46039f"
             ],
             [
              0.2222222222222222,
              "#7201a8"
             ],
             [
              0.3333333333333333,
              "#9c179e"
             ],
             [
              0.4444444444444444,
              "#bd3786"
             ],
             [
              0.5555555555555556,
              "#d8576b"
             ],
             [
              0.6666666666666666,
              "#ed7953"
             ],
             [
              0.7777777777777778,
              "#fb9f3a"
             ],
             [
              0.8888888888888888,
              "#fdca26"
             ],
             [
              1,
              "#f0f921"
             ]
            ],
            "type": "heatmap"
           }
          ],
          "heatmapgl": [
           {
            "colorbar": {
             "outlinewidth": 0,
             "ticks": ""
            },
            "colorscale": [
             [
              0,
              "#0d0887"
             ],
             [
              0.1111111111111111,
              "#46039f"
             ],
             [
              0.2222222222222222,
              "#7201a8"
             ],
             [
              0.3333333333333333,
              "#9c179e"
             ],
             [
              0.4444444444444444,
              "#bd3786"
             ],
             [
              0.5555555555555556,
              "#d8576b"
             ],
             [
              0.6666666666666666,
              "#ed7953"
             ],
             [
              0.7777777777777778,
              "#fb9f3a"
             ],
             [
              0.8888888888888888,
              "#fdca26"
             ],
             [
              1,
              "#f0f921"
             ]
            ],
            "type": "heatmapgl"
           }
          ],
          "histogram": [
           {
            "marker": {
             "pattern": {
              "fillmode": "overlay",
              "size": 10,
              "solidity": 0.2
             }
            },
            "type": "histogram"
           }
          ],
          "histogram2d": [
           {
            "colorbar": {
             "outlinewidth": 0,
             "ticks": ""
            },
            "colorscale": [
             [
              0,
              "#0d0887"
             ],
             [
              0.1111111111111111,
              "#46039f"
             ],
             [
              0.2222222222222222,
              "#7201a8"
             ],
             [
              0.3333333333333333,
              "#9c179e"
             ],
             [
              0.4444444444444444,
              "#bd3786"
             ],
             [
              0.5555555555555556,
              "#d8576b"
             ],
             [
              0.6666666666666666,
              "#ed7953"
             ],
             [
              0.7777777777777778,
              "#fb9f3a"
             ],
             [
              0.8888888888888888,
              "#fdca26"
             ],
             [
              1,
              "#f0f921"
             ]
            ],
            "type": "histogram2d"
           }
          ],
          "histogram2dcontour": [
           {
            "colorbar": {
             "outlinewidth": 0,
             "ticks": ""
            },
            "colorscale": [
             [
              0,
              "#0d0887"
             ],
             [
              0.1111111111111111,
              "#46039f"
             ],
             [
              0.2222222222222222,
              "#7201a8"
             ],
             [
              0.3333333333333333,
              "#9c179e"
             ],
             [
              0.4444444444444444,
              "#bd3786"
             ],
             [
              0.5555555555555556,
              "#d8576b"
             ],
             [
              0.6666666666666666,
              "#ed7953"
             ],
             [
              0.7777777777777778,
              "#fb9f3a"
             ],
             [
              0.8888888888888888,
              "#fdca26"
             ],
             [
              1,
              "#f0f921"
             ]
            ],
            "type": "histogram2dcontour"
           }
          ],
          "mesh3d": [
           {
            "colorbar": {
             "outlinewidth": 0,
             "ticks": ""
            },
            "type": "mesh3d"
           }
          ],
          "parcoords": [
           {
            "line": {
             "colorbar": {
              "outlinewidth": 0,
              "ticks": ""
             }
            },
            "type": "parcoords"
           }
          ],
          "pie": [
           {
            "automargin": true,
            "type": "pie"
           }
          ],
          "scatter": [
           {
            "fillpattern": {
             "fillmode": "overlay",
             "size": 10,
             "solidity": 0.2
            },
            "type": "scatter"
           }
          ],
          "scatter3d": [
           {
            "line": {
             "colorbar": {
              "outlinewidth": 0,
              "ticks": ""
             }
            },
            "marker": {
             "colorbar": {
              "outlinewidth": 0,
              "ticks": ""
             }
            },
            "type": "scatter3d"
           }
          ],
          "scattercarpet": [
           {
            "marker": {
             "colorbar": {
              "outlinewidth": 0,
              "ticks": ""
             }
            },
            "type": "scattercarpet"
           }
          ],
          "scattergeo": [
           {
            "marker": {
             "colorbar": {
              "outlinewidth": 0,
              "ticks": ""
             }
            },
            "type": "scattergeo"
           }
          ],
          "scattergl": [
           {
            "marker": {
             "colorbar": {
              "outlinewidth": 0,
              "ticks": ""
             }
            },
            "type": "scattergl"
           }
          ],
          "scattermapbox": [
           {
            "marker": {
             "colorbar": {
              "outlinewidth": 0,
              "ticks": ""
             }
            },
            "type": "scattermapbox"
           }
          ],
          "scatterpolar": [
           {
            "marker": {
             "colorbar": {
              "outlinewidth": 0,
              "ticks": ""
             }
            },
            "type": "scatterpolar"
           }
          ],
          "scatterpolargl": [
           {
            "marker": {
             "colorbar": {
              "outlinewidth": 0,
              "ticks": ""
             }
            },
            "type": "scatterpolargl"
           }
          ],
          "scatterternary": [
           {
            "marker": {
             "colorbar": {
              "outlinewidth": 0,
              "ticks": ""
             }
            },
            "type": "scatterternary"
           }
          ],
          "surface": [
           {
            "colorbar": {
             "outlinewidth": 0,
             "ticks": ""
            },
            "colorscale": [
             [
              0,
              "#0d0887"
             ],
             [
              0.1111111111111111,
              "#46039f"
             ],
             [
              0.2222222222222222,
              "#7201a8"
             ],
             [
              0.3333333333333333,
              "#9c179e"
             ],
             [
              0.4444444444444444,
              "#bd3786"
             ],
             [
              0.5555555555555556,
              "#d8576b"
             ],
             [
              0.6666666666666666,
              "#ed7953"
             ],
             [
              0.7777777777777778,
              "#fb9f3a"
             ],
             [
              0.8888888888888888,
              "#fdca26"
             ],
             [
              1,
              "#f0f921"
             ]
            ],
            "type": "surface"
           }
          ],
          "table": [
           {
            "cells": {
             "fill": {
              "color": "#EBF0F8"
             },
             "line": {
              "color": "white"
             }
            },
            "header": {
             "fill": {
              "color": "#C8D4E3"
             },
             "line": {
              "color": "white"
             }
            },
            "type": "table"
           }
          ]
         },
         "layout": {
          "annotationdefaults": {
           "arrowcolor": "#2a3f5f",
           "arrowhead": 0,
           "arrowwidth": 1
          },
          "autotypenumbers": "strict",
          "coloraxis": {
           "colorbar": {
            "outlinewidth": 0,
            "ticks": ""
           }
          },
          "colorscale": {
           "diverging": [
            [
             0,
             "#8e0152"
            ],
            [
             0.1,
             "#c51b7d"
            ],
            [
             0.2,
             "#de77ae"
            ],
            [
             0.3,
             "#f1b6da"
            ],
            [
             0.4,
             "#fde0ef"
            ],
            [
             0.5,
             "#f7f7f7"
            ],
            [
             0.6,
             "#e6f5d0"
            ],
            [
             0.7,
             "#b8e186"
            ],
            [
             0.8,
             "#7fbc41"
            ],
            [
             0.9,
             "#4d9221"
            ],
            [
             1,
             "#276419"
            ]
           ],
           "sequential": [
            [
             0,
             "#0d0887"
            ],
            [
             0.1111111111111111,
             "#46039f"
            ],
            [
             0.2222222222222222,
             "#7201a8"
            ],
            [
             0.3333333333333333,
             "#9c179e"
            ],
            [
             0.4444444444444444,
             "#bd3786"
            ],
            [
             0.5555555555555556,
             "#d8576b"
            ],
            [
             0.6666666666666666,
             "#ed7953"
            ],
            [
             0.7777777777777778,
             "#fb9f3a"
            ],
            [
             0.8888888888888888,
             "#fdca26"
            ],
            [
             1,
             "#f0f921"
            ]
           ],
           "sequentialminus": [
            [
             0,
             "#0d0887"
            ],
            [
             0.1111111111111111,
             "#46039f"
            ],
            [
             0.2222222222222222,
             "#7201a8"
            ],
            [
             0.3333333333333333,
             "#9c179e"
            ],
            [
             0.4444444444444444,
             "#bd3786"
            ],
            [
             0.5555555555555556,
             "#d8576b"
            ],
            [
             0.6666666666666666,
             "#ed7953"
            ],
            [
             0.7777777777777778,
             "#fb9f3a"
            ],
            [
             0.8888888888888888,
             "#fdca26"
            ],
            [
             1,
             "#f0f921"
            ]
           ]
          },
          "colorway": [
           "#636efa",
           "#EF553B",
           "#00cc96",
           "#ab63fa",
           "#FFA15A",
           "#19d3f3",
           "#FF6692",
           "#B6E880",
           "#FF97FF",
           "#FECB52"
          ],
          "font": {
           "color": "#2a3f5f"
          },
          "geo": {
           "bgcolor": "white",
           "lakecolor": "white",
           "landcolor": "#E5ECF6",
           "showlakes": true,
           "showland": true,
           "subunitcolor": "white"
          },
          "hoverlabel": {
           "align": "left"
          },
          "hovermode": "closest",
          "mapbox": {
           "style": "light"
          },
          "paper_bgcolor": "white",
          "plot_bgcolor": "#E5ECF6",
          "polar": {
           "angularaxis": {
            "gridcolor": "white",
            "linecolor": "white",
            "ticks": ""
           },
           "bgcolor": "#E5ECF6",
           "radialaxis": {
            "gridcolor": "white",
            "linecolor": "white",
            "ticks": ""
           }
          },
          "scene": {
           "xaxis": {
            "backgroundcolor": "#E5ECF6",
            "gridcolor": "white",
            "gridwidth": 2,
            "linecolor": "white",
            "showbackground": true,
            "ticks": "",
            "zerolinecolor": "white"
           },
           "yaxis": {
            "backgroundcolor": "#E5ECF6",
            "gridcolor": "white",
            "gridwidth": 2,
            "linecolor": "white",
            "showbackground": true,
            "ticks": "",
            "zerolinecolor": "white"
           },
           "zaxis": {
            "backgroundcolor": "#E5ECF6",
            "gridcolor": "white",
            "gridwidth": 2,
            "linecolor": "white",
            "showbackground": true,
            "ticks": "",
            "zerolinecolor": "white"
           }
          },
          "shapedefaults": {
           "line": {
            "color": "#2a3f5f"
           }
          },
          "ternary": {
           "aaxis": {
            "gridcolor": "white",
            "linecolor": "white",
            "ticks": ""
           },
           "baxis": {
            "gridcolor": "white",
            "linecolor": "white",
            "ticks": ""
           },
           "bgcolor": "#E5ECF6",
           "caxis": {
            "gridcolor": "white",
            "linecolor": "white",
            "ticks": ""
           }
          },
          "title": {
           "x": 0.05
          },
          "xaxis": {
           "automargin": true,
           "gridcolor": "white",
           "linecolor": "white",
           "ticks": "",
           "title": {
            "standoff": 15
           },
           "zerolinecolor": "white",
           "zerolinewidth": 2
          },
          "yaxis": {
           "automargin": true,
           "gridcolor": "white",
           "linecolor": "white",
           "ticks": "",
           "title": {
            "standoff": 15
           },
           "zerolinecolor": "white",
           "zerolinewidth": 2
          }
         }
        },
        "xaxis": {
         "anchor": "y",
         "domain": [
          0,
          1
         ],
         "title": {
          "text": "index"
         }
        },
        "yaxis": {
         "anchor": "x",
         "domain": [
          0,
          1
         ],
         "title": {
          "text": "value"
         }
        }
       }
      }
     },
     "metadata": {},
     "output_type": "display_data"
    }
   ],
   "source": [
    "px.line(metodos_metricas.T)"
   ]
  },
  {
   "cell_type": "markdown",
   "metadata": {},
   "source": [
    "## Métodos NIRvsSecadero"
   ]
  },
  {
   "cell_type": "code",
   "execution_count": 136,
   "metadata": {},
   "outputs": [
    {
     "data": {
      "text/html": [
       "<div>\n",
       "<style scoped>\n",
       "    .dataframe tbody tr th:only-of-type {\n",
       "        vertical-align: middle;\n",
       "    }\n",
       "\n",
       "    .dataframe tbody tr th {\n",
       "        vertical-align: top;\n",
       "    }\n",
       "\n",
       "    .dataframe thead th {\n",
       "        text-align: right;\n",
       "    }\n",
       "</style>\n",
       "<table border=\"1\" class=\"dataframe\">\n",
       "  <thead>\n",
       "    <tr style=\"text-align: right;\">\n",
       "      <th></th>\n",
       "      <th>CurvaCola</th>\n",
       "      <th>IForest</th>\n",
       "      <th>MAD</th>\n",
       "    </tr>\n",
       "    <tr>\n",
       "      <th>fecha</th>\n",
       "      <th></th>\n",
       "      <th></th>\n",
       "      <th></th>\n",
       "    </tr>\n",
       "  </thead>\n",
       "  <tbody>\n",
       "    <tr>\n",
       "      <th>2021-11-26 11:48:00</th>\n",
       "      <td>0</td>\n",
       "      <td>0</td>\n",
       "      <td>0</td>\n",
       "    </tr>\n",
       "    <tr>\n",
       "      <th>2021-06-06 19:17:00</th>\n",
       "      <td>0</td>\n",
       "      <td>1</td>\n",
       "      <td>0</td>\n",
       "    </tr>\n",
       "    <tr>\n",
       "      <th>2021-12-04 07:59:00</th>\n",
       "      <td>0</td>\n",
       "      <td>0</td>\n",
       "      <td>0</td>\n",
       "    </tr>\n",
       "    <tr>\n",
       "      <th>2021-11-06 17:55:00</th>\n",
       "      <td>0</td>\n",
       "      <td>0</td>\n",
       "      <td>0</td>\n",
       "    </tr>\n",
       "    <tr>\n",
       "      <th>2021-05-05 08:19:00</th>\n",
       "      <td>0</td>\n",
       "      <td>0</td>\n",
       "      <td>0</td>\n",
       "    </tr>\n",
       "  </tbody>\n",
       "</table>\n",
       "</div>"
      ],
      "text/plain": [
       "                     CurvaCola  IForest  MAD\n",
       "fecha                                       \n",
       "2021-11-26 11:48:00          0        0    0\n",
       "2021-06-06 19:17:00          0        1    0\n",
       "2021-12-04 07:59:00          0        0    0\n",
       "2021-11-06 17:55:00          0        0    0\n",
       "2021-05-05 08:19:00          0        0    0"
      ]
     },
     "execution_count": 136,
     "metadata": {},
     "output_type": "execute_result"
    }
   ],
   "source": [
    "metodos_NvS = pd.read_csv('Metodos_NIRvsSecadero/CurvaCola/Resultados/PyOD_IForest_completo.csv',index_col='fecha')\n",
    "metodos_NvS = metodos_NvS.drop('Y_pred', axis=1)\n",
    "\n",
    "metodos_NvS['IForest'] = pd.read_csv('Metodos_NIRvsSecadero/CurvaCola/Resultados/PyOD_IForest_completo.csv',usecols=['fecha','Y_pred'],index_col='fecha')\n",
    "metodos_NvS['MAD'] = pd.read_csv('Metodos_NIRvsSecadero/CurvaCola/Resultados/PyOD_MAD_completo.csv',usecols=['fecha','Y_pred'],index_col='fecha')\n",
    "\n",
    "metodos_NvS_htm = pd.read_csv('Metodos_NIRvsSecadero/CurvaCola/HTM_Uni/HTM_completo.csv',index_col='fecha')\n",
    "metodos_NvS_htm['HTM'] = metodos_NvS_htm['Y_pred']\n",
    "metodos_NvS_htm = metodos_NvS_htm.drop('Y_pred',axis=1)\n",
    "\n",
    "metodos_NvS.head()"
   ]
  },
  {
   "cell_type": "markdown",
   "metadata": {},
   "source": []
  },
  {
   "cell_type": "markdown",
   "metadata": {},
   "source": [
    "### Métricas generales:"
   ]
  },
  {
   "cell_type": "code",
   "execution_count": 137,
   "metadata": {},
   "outputs": [
    {
     "data": {
      "text/html": [
       "<div>\n",
       "<style scoped>\n",
       "    .dataframe tbody tr th:only-of-type {\n",
       "        vertical-align: middle;\n",
       "    }\n",
       "\n",
       "    .dataframe tbody tr th {\n",
       "        vertical-align: top;\n",
       "    }\n",
       "\n",
       "    .dataframe thead th {\n",
       "        text-align: right;\n",
       "    }\n",
       "</style>\n",
       "<table border=\"1\" class=\"dataframe\">\n",
       "  <thead>\n",
       "    <tr style=\"text-align: right;\">\n",
       "      <th></th>\n",
       "      <th>roc_auc</th>\n",
       "      <th>accuracy</th>\n",
       "      <th>precision</th>\n",
       "      <th>kappa</th>\n",
       "      <th>sensibilidad</th>\n",
       "      <th>especificidad</th>\n",
       "    </tr>\n",
       "  </thead>\n",
       "  <tbody>\n",
       "    <tr>\n",
       "      <th>IForest</th>\n",
       "      <td>0.487704</td>\n",
       "      <td>0.82788</td>\n",
       "      <td>0.067756</td>\n",
       "      <td>-0.023489</td>\n",
       "      <td>0.0748</td>\n",
       "      <td>0.900608</td>\n",
       "    </tr>\n",
       "    <tr>\n",
       "      <th>MAD</th>\n",
       "      <td>0.495005</td>\n",
       "      <td>0.894383</td>\n",
       "      <td>0.046606</td>\n",
       "      <td>-0.015428</td>\n",
       "      <td>0.01024</td>\n",
       "      <td>0.979769</td>\n",
       "    </tr>\n",
       "    <tr>\n",
       "      <th>HTM</th>\n",
       "      <td>0.476849</td>\n",
       "      <td>0.842643</td>\n",
       "      <td>0.03846</td>\n",
       "      <td>-0.049769</td>\n",
       "      <td>0.032524</td>\n",
       "      <td>0.921174</td>\n",
       "    </tr>\n",
       "  </tbody>\n",
       "</table>\n",
       "</div>"
      ],
      "text/plain": [
       "          roc_auc  accuracy precision     kappa sensibilidad especificidad\n",
       "IForest  0.487704   0.82788  0.067756 -0.023489       0.0748      0.900608\n",
       "MAD      0.495005  0.894383  0.046606 -0.015428      0.01024      0.979769\n",
       "HTM      0.476849  0.842643   0.03846 -0.049769     0.032524      0.921174"
      ]
     },
     "execution_count": 137,
     "metadata": {},
     "output_type": "execute_result"
    }
   ],
   "source": [
    "metodos_NvS_lista = ['IForest','MAD']\n",
    "metodos_NvS_metricas = calc_metricas(metodos_NvS,['IForest','MAD'])\n",
    "metodos_NvS_metricas = pd.concat([metodos_NvS_metricas,calc_metricas(metodos_NvS_htm, ['HTM'])])\n",
    "metodos_NvS_metricas"
   ]
  },
  {
   "cell_type": "code",
   "execution_count": 138,
   "metadata": {},
   "outputs": [
    {
     "data": {
      "application/vnd.plotly.v1+json": {
       "config": {
        "plotlyServerURL": "https://plot.ly"
       },
       "data": [
        {
         "hovertemplate": "variable=IForest<br>index=%{x}<br>value=%{y}<extra></extra>",
         "legendgroup": "IForest",
         "line": {
          "color": "#636efa",
          "dash": "solid"
         },
         "marker": {
          "symbol": "circle"
         },
         "mode": "lines",
         "name": "IForest",
         "orientation": "v",
         "showlegend": true,
         "type": "scatter",
         "x": [
          "roc_auc",
          "accuracy",
          "precision",
          "kappa",
          "sensibilidad",
          "especificidad"
         ],
         "xaxis": "x",
         "y": [
          0.48770403793123723,
          0.8278796196451328,
          0.0677555958862674,
          -0.023488859167108522,
          0.07479964381121995,
          0.9006084320512545
         ],
         "yaxis": "y"
        },
        {
         "hovertemplate": "variable=MAD<br>index=%{x}<br>value=%{y}<extra></extra>",
         "legendgroup": "MAD",
         "line": {
          "color": "#EF553B",
          "dash": "solid"
         },
         "marker": {
          "symbol": "circle"
         },
         "mode": "lines",
         "name": "MAD",
         "orientation": "v",
         "showlegend": true,
         "type": "scatter",
         "x": [
          "roc_auc",
          "accuracy",
          "precision",
          "kappa",
          "sensibilidad",
          "especificidad"
         ],
         "xaxis": "x",
         "y": [
          0.49500476211909,
          0.8943829036368983,
          0.04660587639311044,
          -0.01542836225750599,
          0.010240427426536063,
          0.979769096811644
         ],
         "yaxis": "y"
        },
        {
         "hovertemplate": "variable=HTM<br>index=%{x}<br>value=%{y}<extra></extra>",
         "legendgroup": "HTM",
         "line": {
          "color": "#00cc96",
          "dash": "solid"
         },
         "marker": {
          "symbol": "circle"
         },
         "mode": "lines",
         "name": "HTM",
         "orientation": "v",
         "showlegend": true,
         "type": "scatter",
         "x": [
          "roc_auc",
          "accuracy",
          "precision",
          "kappa",
          "sensibilidad",
          "especificidad"
         ],
         "xaxis": "x",
         "y": [
          0.47684935979557835,
          0.842642878149201,
          0.03845952043653917,
          -0.0497693074993677,
          0.03252429338421263,
          0.921174426206944
         ],
         "yaxis": "y"
        }
       ],
       "layout": {
        "legend": {
         "title": {
          "text": "variable"
         },
         "tracegroupgap": 0
        },
        "margin": {
         "t": 60
        },
        "template": {
         "data": {
          "bar": [
           {
            "error_x": {
             "color": "#2a3f5f"
            },
            "error_y": {
             "color": "#2a3f5f"
            },
            "marker": {
             "line": {
              "color": "#E5ECF6",
              "width": 0.5
             },
             "pattern": {
              "fillmode": "overlay",
              "size": 10,
              "solidity": 0.2
             }
            },
            "type": "bar"
           }
          ],
          "barpolar": [
           {
            "marker": {
             "line": {
              "color": "#E5ECF6",
              "width": 0.5
             },
             "pattern": {
              "fillmode": "overlay",
              "size": 10,
              "solidity": 0.2
             }
            },
            "type": "barpolar"
           }
          ],
          "carpet": [
           {
            "aaxis": {
             "endlinecolor": "#2a3f5f",
             "gridcolor": "white",
             "linecolor": "white",
             "minorgridcolor": "white",
             "startlinecolor": "#2a3f5f"
            },
            "baxis": {
             "endlinecolor": "#2a3f5f",
             "gridcolor": "white",
             "linecolor": "white",
             "minorgridcolor": "white",
             "startlinecolor": "#2a3f5f"
            },
            "type": "carpet"
           }
          ],
          "choropleth": [
           {
            "colorbar": {
             "outlinewidth": 0,
             "ticks": ""
            },
            "type": "choropleth"
           }
          ],
          "contour": [
           {
            "colorbar": {
             "outlinewidth": 0,
             "ticks": ""
            },
            "colorscale": [
             [
              0,
              "#0d0887"
             ],
             [
              0.1111111111111111,
              "#46039f"
             ],
             [
              0.2222222222222222,
              "#7201a8"
             ],
             [
              0.3333333333333333,
              "#9c179e"
             ],
             [
              0.4444444444444444,
              "#bd3786"
             ],
             [
              0.5555555555555556,
              "#d8576b"
             ],
             [
              0.6666666666666666,
              "#ed7953"
             ],
             [
              0.7777777777777778,
              "#fb9f3a"
             ],
             [
              0.8888888888888888,
              "#fdca26"
             ],
             [
              1,
              "#f0f921"
             ]
            ],
            "type": "contour"
           }
          ],
          "contourcarpet": [
           {
            "colorbar": {
             "outlinewidth": 0,
             "ticks": ""
            },
            "type": "contourcarpet"
           }
          ],
          "heatmap": [
           {
            "colorbar": {
             "outlinewidth": 0,
             "ticks": ""
            },
            "colorscale": [
             [
              0,
              "#0d0887"
             ],
             [
              0.1111111111111111,
              "#46039f"
             ],
             [
              0.2222222222222222,
              "#7201a8"
             ],
             [
              0.3333333333333333,
              "#9c179e"
             ],
             [
              0.4444444444444444,
              "#bd3786"
             ],
             [
              0.5555555555555556,
              "#d8576b"
             ],
             [
              0.6666666666666666,
              "#ed7953"
             ],
             [
              0.7777777777777778,
              "#fb9f3a"
             ],
             [
              0.8888888888888888,
              "#fdca26"
             ],
             [
              1,
              "#f0f921"
             ]
            ],
            "type": "heatmap"
           }
          ],
          "heatmapgl": [
           {
            "colorbar": {
             "outlinewidth": 0,
             "ticks": ""
            },
            "colorscale": [
             [
              0,
              "#0d0887"
             ],
             [
              0.1111111111111111,
              "#46039f"
             ],
             [
              0.2222222222222222,
              "#7201a8"
             ],
             [
              0.3333333333333333,
              "#9c179e"
             ],
             [
              0.4444444444444444,
              "#bd3786"
             ],
             [
              0.5555555555555556,
              "#d8576b"
             ],
             [
              0.6666666666666666,
              "#ed7953"
             ],
             [
              0.7777777777777778,
              "#fb9f3a"
             ],
             [
              0.8888888888888888,
              "#fdca26"
             ],
             [
              1,
              "#f0f921"
             ]
            ],
            "type": "heatmapgl"
           }
          ],
          "histogram": [
           {
            "marker": {
             "pattern": {
              "fillmode": "overlay",
              "size": 10,
              "solidity": 0.2
             }
            },
            "type": "histogram"
           }
          ],
          "histogram2d": [
           {
            "colorbar": {
             "outlinewidth": 0,
             "ticks": ""
            },
            "colorscale": [
             [
              0,
              "#0d0887"
             ],
             [
              0.1111111111111111,
              "#46039f"
             ],
             [
              0.2222222222222222,
              "#7201a8"
             ],
             [
              0.3333333333333333,
              "#9c179e"
             ],
             [
              0.4444444444444444,
              "#bd3786"
             ],
             [
              0.5555555555555556,
              "#d8576b"
             ],
             [
              0.6666666666666666,
              "#ed7953"
             ],
             [
              0.7777777777777778,
              "#fb9f3a"
             ],
             [
              0.8888888888888888,
              "#fdca26"
             ],
             [
              1,
              "#f0f921"
             ]
            ],
            "type": "histogram2d"
           }
          ],
          "histogram2dcontour": [
           {
            "colorbar": {
             "outlinewidth": 0,
             "ticks": ""
            },
            "colorscale": [
             [
              0,
              "#0d0887"
             ],
             [
              0.1111111111111111,
              "#46039f"
             ],
             [
              0.2222222222222222,
              "#7201a8"
             ],
             [
              0.3333333333333333,
              "#9c179e"
             ],
             [
              0.4444444444444444,
              "#bd3786"
             ],
             [
              0.5555555555555556,
              "#d8576b"
             ],
             [
              0.6666666666666666,
              "#ed7953"
             ],
             [
              0.7777777777777778,
              "#fb9f3a"
             ],
             [
              0.8888888888888888,
              "#fdca26"
             ],
             [
              1,
              "#f0f921"
             ]
            ],
            "type": "histogram2dcontour"
           }
          ],
          "mesh3d": [
           {
            "colorbar": {
             "outlinewidth": 0,
             "ticks": ""
            },
            "type": "mesh3d"
           }
          ],
          "parcoords": [
           {
            "line": {
             "colorbar": {
              "outlinewidth": 0,
              "ticks": ""
             }
            },
            "type": "parcoords"
           }
          ],
          "pie": [
           {
            "automargin": true,
            "type": "pie"
           }
          ],
          "scatter": [
           {
            "fillpattern": {
             "fillmode": "overlay",
             "size": 10,
             "solidity": 0.2
            },
            "type": "scatter"
           }
          ],
          "scatter3d": [
           {
            "line": {
             "colorbar": {
              "outlinewidth": 0,
              "ticks": ""
             }
            },
            "marker": {
             "colorbar": {
              "outlinewidth": 0,
              "ticks": ""
             }
            },
            "type": "scatter3d"
           }
          ],
          "scattercarpet": [
           {
            "marker": {
             "colorbar": {
              "outlinewidth": 0,
              "ticks": ""
             }
            },
            "type": "scattercarpet"
           }
          ],
          "scattergeo": [
           {
            "marker": {
             "colorbar": {
              "outlinewidth": 0,
              "ticks": ""
             }
            },
            "type": "scattergeo"
           }
          ],
          "scattergl": [
           {
            "marker": {
             "colorbar": {
              "outlinewidth": 0,
              "ticks": ""
             }
            },
            "type": "scattergl"
           }
          ],
          "scattermapbox": [
           {
            "marker": {
             "colorbar": {
              "outlinewidth": 0,
              "ticks": ""
             }
            },
            "type": "scattermapbox"
           }
          ],
          "scatterpolar": [
           {
            "marker": {
             "colorbar": {
              "outlinewidth": 0,
              "ticks": ""
             }
            },
            "type": "scatterpolar"
           }
          ],
          "scatterpolargl": [
           {
            "marker": {
             "colorbar": {
              "outlinewidth": 0,
              "ticks": ""
             }
            },
            "type": "scatterpolargl"
           }
          ],
          "scatterternary": [
           {
            "marker": {
             "colorbar": {
              "outlinewidth": 0,
              "ticks": ""
             }
            },
            "type": "scatterternary"
           }
          ],
          "surface": [
           {
            "colorbar": {
             "outlinewidth": 0,
             "ticks": ""
            },
            "colorscale": [
             [
              0,
              "#0d0887"
             ],
             [
              0.1111111111111111,
              "#46039f"
             ],
             [
              0.2222222222222222,
              "#7201a8"
             ],
             [
              0.3333333333333333,
              "#9c179e"
             ],
             [
              0.4444444444444444,
              "#bd3786"
             ],
             [
              0.5555555555555556,
              "#d8576b"
             ],
             [
              0.6666666666666666,
              "#ed7953"
             ],
             [
              0.7777777777777778,
              "#fb9f3a"
             ],
             [
              0.8888888888888888,
              "#fdca26"
             ],
             [
              1,
              "#f0f921"
             ]
            ],
            "type": "surface"
           }
          ],
          "table": [
           {
            "cells": {
             "fill": {
              "color": "#EBF0F8"
             },
             "line": {
              "color": "white"
             }
            },
            "header": {
             "fill": {
              "color": "#C8D4E3"
             },
             "line": {
              "color": "white"
             }
            },
            "type": "table"
           }
          ]
         },
         "layout": {
          "annotationdefaults": {
           "arrowcolor": "#2a3f5f",
           "arrowhead": 0,
           "arrowwidth": 1
          },
          "autotypenumbers": "strict",
          "coloraxis": {
           "colorbar": {
            "outlinewidth": 0,
            "ticks": ""
           }
          },
          "colorscale": {
           "diverging": [
            [
             0,
             "#8e0152"
            ],
            [
             0.1,
             "#c51b7d"
            ],
            [
             0.2,
             "#de77ae"
            ],
            [
             0.3,
             "#f1b6da"
            ],
            [
             0.4,
             "#fde0ef"
            ],
            [
             0.5,
             "#f7f7f7"
            ],
            [
             0.6,
             "#e6f5d0"
            ],
            [
             0.7,
             "#b8e186"
            ],
            [
             0.8,
             "#7fbc41"
            ],
            [
             0.9,
             "#4d9221"
            ],
            [
             1,
             "#276419"
            ]
           ],
           "sequential": [
            [
             0,
             "#0d0887"
            ],
            [
             0.1111111111111111,
             "#46039f"
            ],
            [
             0.2222222222222222,
             "#7201a8"
            ],
            [
             0.3333333333333333,
             "#9c179e"
            ],
            [
             0.4444444444444444,
             "#bd3786"
            ],
            [
             0.5555555555555556,
             "#d8576b"
            ],
            [
             0.6666666666666666,
             "#ed7953"
            ],
            [
             0.7777777777777778,
             "#fb9f3a"
            ],
            [
             0.8888888888888888,
             "#fdca26"
            ],
            [
             1,
             "#f0f921"
            ]
           ],
           "sequentialminus": [
            [
             0,
             "#0d0887"
            ],
            [
             0.1111111111111111,
             "#46039f"
            ],
            [
             0.2222222222222222,
             "#7201a8"
            ],
            [
             0.3333333333333333,
             "#9c179e"
            ],
            [
             0.4444444444444444,
             "#bd3786"
            ],
            [
             0.5555555555555556,
             "#d8576b"
            ],
            [
             0.6666666666666666,
             "#ed7953"
            ],
            [
             0.7777777777777778,
             "#fb9f3a"
            ],
            [
             0.8888888888888888,
             "#fdca26"
            ],
            [
             1,
             "#f0f921"
            ]
           ]
          },
          "colorway": [
           "#636efa",
           "#EF553B",
           "#00cc96",
           "#ab63fa",
           "#FFA15A",
           "#19d3f3",
           "#FF6692",
           "#B6E880",
           "#FF97FF",
           "#FECB52"
          ],
          "font": {
           "color": "#2a3f5f"
          },
          "geo": {
           "bgcolor": "white",
           "lakecolor": "white",
           "landcolor": "#E5ECF6",
           "showlakes": true,
           "showland": true,
           "subunitcolor": "white"
          },
          "hoverlabel": {
           "align": "left"
          },
          "hovermode": "closest",
          "mapbox": {
           "style": "light"
          },
          "paper_bgcolor": "white",
          "plot_bgcolor": "#E5ECF6",
          "polar": {
           "angularaxis": {
            "gridcolor": "white",
            "linecolor": "white",
            "ticks": ""
           },
           "bgcolor": "#E5ECF6",
           "radialaxis": {
            "gridcolor": "white",
            "linecolor": "white",
            "ticks": ""
           }
          },
          "scene": {
           "xaxis": {
            "backgroundcolor": "#E5ECF6",
            "gridcolor": "white",
            "gridwidth": 2,
            "linecolor": "white",
            "showbackground": true,
            "ticks": "",
            "zerolinecolor": "white"
           },
           "yaxis": {
            "backgroundcolor": "#E5ECF6",
            "gridcolor": "white",
            "gridwidth": 2,
            "linecolor": "white",
            "showbackground": true,
            "ticks": "",
            "zerolinecolor": "white"
           },
           "zaxis": {
            "backgroundcolor": "#E5ECF6",
            "gridcolor": "white",
            "gridwidth": 2,
            "linecolor": "white",
            "showbackground": true,
            "ticks": "",
            "zerolinecolor": "white"
           }
          },
          "shapedefaults": {
           "line": {
            "color": "#2a3f5f"
           }
          },
          "ternary": {
           "aaxis": {
            "gridcolor": "white",
            "linecolor": "white",
            "ticks": ""
           },
           "baxis": {
            "gridcolor": "white",
            "linecolor": "white",
            "ticks": ""
           },
           "bgcolor": "#E5ECF6",
           "caxis": {
            "gridcolor": "white",
            "linecolor": "white",
            "ticks": ""
           }
          },
          "title": {
           "x": 0.05
          },
          "xaxis": {
           "automargin": true,
           "gridcolor": "white",
           "linecolor": "white",
           "ticks": "",
           "title": {
            "standoff": 15
           },
           "zerolinecolor": "white",
           "zerolinewidth": 2
          },
          "yaxis": {
           "automargin": true,
           "gridcolor": "white",
           "linecolor": "white",
           "ticks": "",
           "title": {
            "standoff": 15
           },
           "zerolinecolor": "white",
           "zerolinewidth": 2
          }
         }
        },
        "xaxis": {
         "anchor": "y",
         "domain": [
          0,
          1
         ],
         "title": {
          "text": "index"
         }
        },
        "yaxis": {
         "anchor": "x",
         "domain": [
          0,
          1
         ],
         "title": {
          "text": "value"
         }
        }
       }
      }
     },
     "metadata": {},
     "output_type": "display_data"
    }
   ],
   "source": [
    "px.line(metodos_NvS_metricas.T)"
   ]
  },
  {
   "cell_type": "markdown",
   "metadata": {},
   "source": [
    "## Métodos PVvsPred"
   ]
  },
  {
   "cell_type": "code",
   "execution_count": 139,
   "metadata": {},
   "outputs": [
    {
     "data": {
      "text/html": [
       "<div>\n",
       "<style scoped>\n",
       "    .dataframe tbody tr th:only-of-type {\n",
       "        vertical-align: middle;\n",
       "    }\n",
       "\n",
       "    .dataframe tbody tr th {\n",
       "        vertical-align: top;\n",
       "    }\n",
       "\n",
       "    .dataframe thead th {\n",
       "        text-align: right;\n",
       "    }\n",
       "</style>\n",
       "<table border=\"1\" class=\"dataframe\">\n",
       "  <thead>\n",
       "    <tr style=\"text-align: right;\">\n",
       "      <th></th>\n",
       "      <th>CurvaCola</th>\n",
       "      <th>MAD_PyOD</th>\n",
       "      <th>MAD_PySAD</th>\n",
       "      <th>SAD</th>\n",
       "    </tr>\n",
       "    <tr>\n",
       "      <th>fecha</th>\n",
       "      <th></th>\n",
       "      <th></th>\n",
       "      <th></th>\n",
       "      <th></th>\n",
       "    </tr>\n",
       "  </thead>\n",
       "  <tbody>\n",
       "    <tr>\n",
       "      <th>2021-11-26 11:48:00</th>\n",
       "      <td>0</td>\n",
       "      <td>0</td>\n",
       "      <td>0</td>\n",
       "      <td>0</td>\n",
       "    </tr>\n",
       "    <tr>\n",
       "      <th>2021-06-06 19:17:00</th>\n",
       "      <td>0</td>\n",
       "      <td>0</td>\n",
       "      <td>0</td>\n",
       "      <td>0</td>\n",
       "    </tr>\n",
       "    <tr>\n",
       "      <th>2021-12-04 07:59:00</th>\n",
       "      <td>0</td>\n",
       "      <td>0</td>\n",
       "      <td>0</td>\n",
       "      <td>0</td>\n",
       "    </tr>\n",
       "    <tr>\n",
       "      <th>2021-11-06 17:55:00</th>\n",
       "      <td>0</td>\n",
       "      <td>0</td>\n",
       "      <td>0</td>\n",
       "      <td>0</td>\n",
       "    </tr>\n",
       "    <tr>\n",
       "      <th>2021-05-05 08:19:00</th>\n",
       "      <td>0</td>\n",
       "      <td>0</td>\n",
       "      <td>0</td>\n",
       "      <td>0</td>\n",
       "    </tr>\n",
       "  </tbody>\n",
       "</table>\n",
       "</div>"
      ],
      "text/plain": [
       "                     CurvaCola  MAD_PyOD  MAD_PySAD  SAD\n",
       "fecha                                                   \n",
       "2021-11-26 11:48:00          0         0          0    0\n",
       "2021-06-06 19:17:00          0         0          0    0\n",
       "2021-12-04 07:59:00          0         0          0    0\n",
       "2021-11-06 17:55:00          0         0          0    0\n",
       "2021-05-05 08:19:00          0         0          0    0"
      ]
     },
     "execution_count": 139,
     "metadata": {},
     "output_type": "execute_result"
    }
   ],
   "source": [
    "metodos_PvP = pd.read_csv('Metodos_PVvsPred/CurvaCola/Resultados/PyOD_MAD_completo.csv',index_col='fecha')\n",
    "metodos_PvP = metodos_PvP.drop('Y_pred', axis=1)\n",
    "\n",
    "metodos_PvP['MAD_PyOD'] = pd.read_csv('Metodos_PVvsPred/CurvaCola/Resultados/PyOD_MAD_completo.csv',usecols=['fecha','Y_pred'],index_col='fecha')\n",
    "metodos_PvP['MAD_PySAD'] = pd.read_csv('Metodos_PVvsPred/CurvaCola/Resultados/PySAD_MAD_completo.csv',usecols=['fecha','Y_pred'],index_col='fecha')\n",
    "metodos_PvP['SAD'] = pd.read_csv('Metodos_PVvsPred/CurvaCola/Resultados/PySAD_SAD_completo.csv',usecols=['fecha','Y_pred'],index_col='fecha')\n",
    "\n",
    "metodos_PvP_htm = pd.read_csv('Metodos_PVvsPred/CurvaCola/HTM_Uni/HTM_completo.csv',index_col='fecha')\n",
    "metodos_PvP_htm['HTM'] = metodos_PvP_htm['Y_pred']\n",
    "metodos_PvP_htm = metodos_PvP_htm.drop('Y_pred',axis=1)\n",
    "\n",
    "metodos_PvP.head()"
   ]
  },
  {
   "cell_type": "markdown",
   "metadata": {},
   "source": []
  },
  {
   "cell_type": "markdown",
   "metadata": {},
   "source": [
    "### Métricas generales:"
   ]
  },
  {
   "cell_type": "code",
   "execution_count": 140,
   "metadata": {},
   "outputs": [
    {
     "data": {
      "text/html": [
       "<div>\n",
       "<style scoped>\n",
       "    .dataframe tbody tr th:only-of-type {\n",
       "        vertical-align: middle;\n",
       "    }\n",
       "\n",
       "    .dataframe tbody tr th {\n",
       "        vertical-align: top;\n",
       "    }\n",
       "\n",
       "    .dataframe thead th {\n",
       "        text-align: right;\n",
       "    }\n",
       "</style>\n",
       "<table border=\"1\" class=\"dataframe\">\n",
       "  <thead>\n",
       "    <tr style=\"text-align: right;\">\n",
       "      <th></th>\n",
       "      <th>roc_auc</th>\n",
       "      <th>accuracy</th>\n",
       "      <th>precision</th>\n",
       "      <th>kappa</th>\n",
       "      <th>sensibilidad</th>\n",
       "      <th>especificidad</th>\n",
       "    </tr>\n",
       "  </thead>\n",
       "  <tbody>\n",
       "    <tr>\n",
       "      <th>MAD_PyOD</th>\n",
       "      <td>0.480482</td>\n",
       "      <td>0.871013</td>\n",
       "      <td>0.01352</td>\n",
       "      <td>-0.051096</td>\n",
       "      <td>0.006456</td>\n",
       "      <td>0.954507</td>\n",
       "    </tr>\n",
       "    <tr>\n",
       "      <th>MAD_PySAD</th>\n",
       "      <td>0.464597</td>\n",
       "      <td>0.816547</td>\n",
       "      <td>0.032301</td>\n",
       "      <td>-0.066094</td>\n",
       "      <td>0.0374</td>\n",
       "      <td>0.891794</td>\n",
       "    </tr>\n",
       "    <tr>\n",
       "      <th>SAD</th>\n",
       "      <td>0.464095</td>\n",
       "      <td>0.815449</td>\n",
       "      <td>0.032135</td>\n",
       "      <td>-0.066667</td>\n",
       "      <td>0.037622</td>\n",
       "      <td>0.890568</td>\n",
       "    </tr>\n",
       "    <tr>\n",
       "      <th>HTM</th>\n",
       "      <td>0.492667</td>\n",
       "      <td>0.896394</td>\n",
       "      <td>0.012792</td>\n",
       "      <td>-0.023342</td>\n",
       "      <td>0.002263</td>\n",
       "      <td>0.98307</td>\n",
       "    </tr>\n",
       "  </tbody>\n",
       "</table>\n",
       "</div>"
      ],
      "text/plain": [
       "            roc_auc  accuracy precision     kappa sensibilidad especificidad\n",
       "MAD_PyOD   0.480482  0.871013   0.01352 -0.051096     0.006456      0.954507\n",
       "MAD_PySAD  0.464597  0.816547  0.032301 -0.066094       0.0374      0.891794\n",
       "SAD        0.464095  0.815449  0.032135 -0.066667     0.037622      0.890568\n",
       "HTM        0.492667  0.896394  0.012792 -0.023342     0.002263       0.98307"
      ]
     },
     "execution_count": 140,
     "metadata": {},
     "output_type": "execute_result"
    }
   ],
   "source": [
    "metodos_PvP_lista = ['MAD_PyOD','MAD_PySAD','SAD']\n",
    "metodos_PvP_metricas = calc_metricas(metodos_PvP,metodos_PvP_lista)\n",
    "metodos_PvP_metricas = pd.concat([metodos_PvP_metricas,calc_metricas(metodos_PvP_htm, ['HTM'])])\n",
    "metodos_PvP_metricas"
   ]
  },
  {
   "cell_type": "code",
   "execution_count": 141,
   "metadata": {},
   "outputs": [
    {
     "data": {
      "application/vnd.plotly.v1+json": {
       "config": {
        "plotlyServerURL": "https://plot.ly"
       },
       "data": [
        {
         "hovertemplate": "variable=MAD_PyOD<br>index=%{x}<br>value=%{y}<extra></extra>",
         "legendgroup": "MAD_PyOD",
         "line": {
          "color": "#636efa",
          "dash": "solid"
         },
         "marker": {
          "symbol": "circle"
         },
         "mode": "lines",
         "name": "MAD_PyOD",
         "orientation": "v",
         "showlegend": true,
         "type": "scatter",
         "x": [
          "roc_auc",
          "accuracy",
          "precision",
          "kappa",
          "sensibilidad",
          "especificidad"
         ],
         "xaxis": "x",
         "y": [
          0.48048163183593917,
          0.8710126458190374,
          0.01351981351981352,
          -0.0510960541661607,
          0.006455921638468388,
          0.95450734203341
         ],
         "yaxis": "y"
        },
        {
         "hovertemplate": "variable=MAD_PySAD<br>index=%{x}<br>value=%{y}<extra></extra>",
         "legendgroup": "MAD_PySAD",
         "line": {
          "color": "#EF553B",
          "dash": "solid"
         },
         "marker": {
          "symbol": "circle"
         },
         "mode": "lines",
         "name": "MAD_PySAD",
         "orientation": "v",
         "showlegend": true,
         "type": "scatter",
         "x": [
          "roc_auc",
          "accuracy",
          "precision",
          "kappa",
          "sensibilidad",
          "especificidad"
         ],
         "xaxis": "x",
         "y": [
          0.46459675699584674,
          0.8165473973139888,
          0.03230148048452221,
          -0.06609419764746272,
          0.037399821905609976,
          0.8917936920860835
         ],
         "yaxis": "y"
        },
        {
         "hovertemplate": "variable=SAD<br>index=%{x}<br>value=%{y}<extra></extra>",
         "legendgroup": "SAD",
         "line": {
          "color": "#00cc96",
          "dash": "solid"
         },
         "marker": {
          "symbol": "circle"
         },
         "mode": "lines",
         "name": "SAD",
         "orientation": "v",
         "showlegend": true,
         "type": "scatter",
         "x": [
          "roc_auc",
          "accuracy",
          "precision",
          "kappa",
          "sensibilidad",
          "especificidad"
         ],
         "xaxis": "x",
         "y": [
          0.46409533406520515,
          0.8154494657386531,
          0.032135386955695,
          -0.06666734665932461,
          0.037622439893143365,
          0.890568228237267
         ],
         "yaxis": "y"
        },
        {
         "hovertemplate": "variable=HTM<br>index=%{x}<br>value=%{y}<extra></extra>",
         "legendgroup": "HTM",
         "line": {
          "color": "#ab63fa",
          "dash": "solid"
         },
         "marker": {
          "symbol": "circle"
         },
         "mode": "lines",
         "name": "HTM",
         "orientation": "v",
         "showlegend": true,
         "type": "scatter",
         "x": [
          "roc_auc",
          "accuracy",
          "precision",
          "kappa",
          "sensibilidad",
          "especificidad"
         ],
         "xaxis": "x",
         "y": [
          0.4926665196595215,
          0.8963944711302814,
          0.012791572610985704,
          -0.023342058255378495,
          0.002262945378710565,
          0.9830700939403324
         ],
         "yaxis": "y"
        }
       ],
       "layout": {
        "legend": {
         "title": {
          "text": "variable"
         },
         "tracegroupgap": 0
        },
        "margin": {
         "t": 60
        },
        "template": {
         "data": {
          "bar": [
           {
            "error_x": {
             "color": "#2a3f5f"
            },
            "error_y": {
             "color": "#2a3f5f"
            },
            "marker": {
             "line": {
              "color": "#E5ECF6",
              "width": 0.5
             },
             "pattern": {
              "fillmode": "overlay",
              "size": 10,
              "solidity": 0.2
             }
            },
            "type": "bar"
           }
          ],
          "barpolar": [
           {
            "marker": {
             "line": {
              "color": "#E5ECF6",
              "width": 0.5
             },
             "pattern": {
              "fillmode": "overlay",
              "size": 10,
              "solidity": 0.2
             }
            },
            "type": "barpolar"
           }
          ],
          "carpet": [
           {
            "aaxis": {
             "endlinecolor": "#2a3f5f",
             "gridcolor": "white",
             "linecolor": "white",
             "minorgridcolor": "white",
             "startlinecolor": "#2a3f5f"
            },
            "baxis": {
             "endlinecolor": "#2a3f5f",
             "gridcolor": "white",
             "linecolor": "white",
             "minorgridcolor": "white",
             "startlinecolor": "#2a3f5f"
            },
            "type": "carpet"
           }
          ],
          "choropleth": [
           {
            "colorbar": {
             "outlinewidth": 0,
             "ticks": ""
            },
            "type": "choropleth"
           }
          ],
          "contour": [
           {
            "colorbar": {
             "outlinewidth": 0,
             "ticks": ""
            },
            "colorscale": [
             [
              0,
              "#0d0887"
             ],
             [
              0.1111111111111111,
              "#46039f"
             ],
             [
              0.2222222222222222,
              "#7201a8"
             ],
             [
              0.3333333333333333,
              "#9c179e"
             ],
             [
              0.4444444444444444,
              "#bd3786"
             ],
             [
              0.5555555555555556,
              "#d8576b"
             ],
             [
              0.6666666666666666,
              "#ed7953"
             ],
             [
              0.7777777777777778,
              "#fb9f3a"
             ],
             [
              0.8888888888888888,
              "#fdca26"
             ],
             [
              1,
              "#f0f921"
             ]
            ],
            "type": "contour"
           }
          ],
          "contourcarpet": [
           {
            "colorbar": {
             "outlinewidth": 0,
             "ticks": ""
            },
            "type": "contourcarpet"
           }
          ],
          "heatmap": [
           {
            "colorbar": {
             "outlinewidth": 0,
             "ticks": ""
            },
            "colorscale": [
             [
              0,
              "#0d0887"
             ],
             [
              0.1111111111111111,
              "#46039f"
             ],
             [
              0.2222222222222222,
              "#7201a8"
             ],
             [
              0.3333333333333333,
              "#9c179e"
             ],
             [
              0.4444444444444444,
              "#bd3786"
             ],
             [
              0.5555555555555556,
              "#d8576b"
             ],
             [
              0.6666666666666666,
              "#ed7953"
             ],
             [
              0.7777777777777778,
              "#fb9f3a"
             ],
             [
              0.8888888888888888,
              "#fdca26"
             ],
             [
              1,
              "#f0f921"
             ]
            ],
            "type": "heatmap"
           }
          ],
          "heatmapgl": [
           {
            "colorbar": {
             "outlinewidth": 0,
             "ticks": ""
            },
            "colorscale": [
             [
              0,
              "#0d0887"
             ],
             [
              0.1111111111111111,
              "#46039f"
             ],
             [
              0.2222222222222222,
              "#7201a8"
             ],
             [
              0.3333333333333333,
              "#9c179e"
             ],
             [
              0.4444444444444444,
              "#bd3786"
             ],
             [
              0.5555555555555556,
              "#d8576b"
             ],
             [
              0.6666666666666666,
              "#ed7953"
             ],
             [
              0.7777777777777778,
              "#fb9f3a"
             ],
             [
              0.8888888888888888,
              "#fdca26"
             ],
             [
              1,
              "#f0f921"
             ]
            ],
            "type": "heatmapgl"
           }
          ],
          "histogram": [
           {
            "marker": {
             "pattern": {
              "fillmode": "overlay",
              "size": 10,
              "solidity": 0.2
             }
            },
            "type": "histogram"
           }
          ],
          "histogram2d": [
           {
            "colorbar": {
             "outlinewidth": 0,
             "ticks": ""
            },
            "colorscale": [
             [
              0,
              "#0d0887"
             ],
             [
              0.1111111111111111,
              "#46039f"
             ],
             [
              0.2222222222222222,
              "#7201a8"
             ],
             [
              0.3333333333333333,
              "#9c179e"
             ],
             [
              0.4444444444444444,
              "#bd3786"
             ],
             [
              0.5555555555555556,
              "#d8576b"
             ],
             [
              0.6666666666666666,
              "#ed7953"
             ],
             [
              0.7777777777777778,
              "#fb9f3a"
             ],
             [
              0.8888888888888888,
              "#fdca26"
             ],
             [
              1,
              "#f0f921"
             ]
            ],
            "type": "histogram2d"
           }
          ],
          "histogram2dcontour": [
           {
            "colorbar": {
             "outlinewidth": 0,
             "ticks": ""
            },
            "colorscale": [
             [
              0,
              "#0d0887"
             ],
             [
              0.1111111111111111,
              "#46039f"
             ],
             [
              0.2222222222222222,
              "#7201a8"
             ],
             [
              0.3333333333333333,
              "#9c179e"
             ],
             [
              0.4444444444444444,
              "#bd3786"
             ],
             [
              0.5555555555555556,
              "#d8576b"
             ],
             [
              0.6666666666666666,
              "#ed7953"
             ],
             [
              0.7777777777777778,
              "#fb9f3a"
             ],
             [
              0.8888888888888888,
              "#fdca26"
             ],
             [
              1,
              "#f0f921"
             ]
            ],
            "type": "histogram2dcontour"
           }
          ],
          "mesh3d": [
           {
            "colorbar": {
             "outlinewidth": 0,
             "ticks": ""
            },
            "type": "mesh3d"
           }
          ],
          "parcoords": [
           {
            "line": {
             "colorbar": {
              "outlinewidth": 0,
              "ticks": ""
             }
            },
            "type": "parcoords"
           }
          ],
          "pie": [
           {
            "automargin": true,
            "type": "pie"
           }
          ],
          "scatter": [
           {
            "fillpattern": {
             "fillmode": "overlay",
             "size": 10,
             "solidity": 0.2
            },
            "type": "scatter"
           }
          ],
          "scatter3d": [
           {
            "line": {
             "colorbar": {
              "outlinewidth": 0,
              "ticks": ""
             }
            },
            "marker": {
             "colorbar": {
              "outlinewidth": 0,
              "ticks": ""
             }
            },
            "type": "scatter3d"
           }
          ],
          "scattercarpet": [
           {
            "marker": {
             "colorbar": {
              "outlinewidth": 0,
              "ticks": ""
             }
            },
            "type": "scattercarpet"
           }
          ],
          "scattergeo": [
           {
            "marker": {
             "colorbar": {
              "outlinewidth": 0,
              "ticks": ""
             }
            },
            "type": "scattergeo"
           }
          ],
          "scattergl": [
           {
            "marker": {
             "colorbar": {
              "outlinewidth": 0,
              "ticks": ""
             }
            },
            "type": "scattergl"
           }
          ],
          "scattermapbox": [
           {
            "marker": {
             "colorbar": {
              "outlinewidth": 0,
              "ticks": ""
             }
            },
            "type": "scattermapbox"
           }
          ],
          "scatterpolar": [
           {
            "marker": {
             "colorbar": {
              "outlinewidth": 0,
              "ticks": ""
             }
            },
            "type": "scatterpolar"
           }
          ],
          "scatterpolargl": [
           {
            "marker": {
             "colorbar": {
              "outlinewidth": 0,
              "ticks": ""
             }
            },
            "type": "scatterpolargl"
           }
          ],
          "scatterternary": [
           {
            "marker": {
             "colorbar": {
              "outlinewidth": 0,
              "ticks": ""
             }
            },
            "type": "scatterternary"
           }
          ],
          "surface": [
           {
            "colorbar": {
             "outlinewidth": 0,
             "ticks": ""
            },
            "colorscale": [
             [
              0,
              "#0d0887"
             ],
             [
              0.1111111111111111,
              "#46039f"
             ],
             [
              0.2222222222222222,
              "#7201a8"
             ],
             [
              0.3333333333333333,
              "#9c179e"
             ],
             [
              0.4444444444444444,
              "#bd3786"
             ],
             [
              0.5555555555555556,
              "#d8576b"
             ],
             [
              0.6666666666666666,
              "#ed7953"
             ],
             [
              0.7777777777777778,
              "#fb9f3a"
             ],
             [
              0.8888888888888888,
              "#fdca26"
             ],
             [
              1,
              "#f0f921"
             ]
            ],
            "type": "surface"
           }
          ],
          "table": [
           {
            "cells": {
             "fill": {
              "color": "#EBF0F8"
             },
             "line": {
              "color": "white"
             }
            },
            "header": {
             "fill": {
              "color": "#C8D4E3"
             },
             "line": {
              "color": "white"
             }
            },
            "type": "table"
           }
          ]
         },
         "layout": {
          "annotationdefaults": {
           "arrowcolor": "#2a3f5f",
           "arrowhead": 0,
           "arrowwidth": 1
          },
          "autotypenumbers": "strict",
          "coloraxis": {
           "colorbar": {
            "outlinewidth": 0,
            "ticks": ""
           }
          },
          "colorscale": {
           "diverging": [
            [
             0,
             "#8e0152"
            ],
            [
             0.1,
             "#c51b7d"
            ],
            [
             0.2,
             "#de77ae"
            ],
            [
             0.3,
             "#f1b6da"
            ],
            [
             0.4,
             "#fde0ef"
            ],
            [
             0.5,
             "#f7f7f7"
            ],
            [
             0.6,
             "#e6f5d0"
            ],
            [
             0.7,
             "#b8e186"
            ],
            [
             0.8,
             "#7fbc41"
            ],
            [
             0.9,
             "#4d9221"
            ],
            [
             1,
             "#276419"
            ]
           ],
           "sequential": [
            [
             0,
             "#0d0887"
            ],
            [
             0.1111111111111111,
             "#46039f"
            ],
            [
             0.2222222222222222,
             "#7201a8"
            ],
            [
             0.3333333333333333,
             "#9c179e"
            ],
            [
             0.4444444444444444,
             "#bd3786"
            ],
            [
             0.5555555555555556,
             "#d8576b"
            ],
            [
             0.6666666666666666,
             "#ed7953"
            ],
            [
             0.7777777777777778,
             "#fb9f3a"
            ],
            [
             0.8888888888888888,
             "#fdca26"
            ],
            [
             1,
             "#f0f921"
            ]
           ],
           "sequentialminus": [
            [
             0,
             "#0d0887"
            ],
            [
             0.1111111111111111,
             "#46039f"
            ],
            [
             0.2222222222222222,
             "#7201a8"
            ],
            [
             0.3333333333333333,
             "#9c179e"
            ],
            [
             0.4444444444444444,
             "#bd3786"
            ],
            [
             0.5555555555555556,
             "#d8576b"
            ],
            [
             0.6666666666666666,
             "#ed7953"
            ],
            [
             0.7777777777777778,
             "#fb9f3a"
            ],
            [
             0.8888888888888888,
             "#fdca26"
            ],
            [
             1,
             "#f0f921"
            ]
           ]
          },
          "colorway": [
           "#636efa",
           "#EF553B",
           "#00cc96",
           "#ab63fa",
           "#FFA15A",
           "#19d3f3",
           "#FF6692",
           "#B6E880",
           "#FF97FF",
           "#FECB52"
          ],
          "font": {
           "color": "#2a3f5f"
          },
          "geo": {
           "bgcolor": "white",
           "lakecolor": "white",
           "landcolor": "#E5ECF6",
           "showlakes": true,
           "showland": true,
           "subunitcolor": "white"
          },
          "hoverlabel": {
           "align": "left"
          },
          "hovermode": "closest",
          "mapbox": {
           "style": "light"
          },
          "paper_bgcolor": "white",
          "plot_bgcolor": "#E5ECF6",
          "polar": {
           "angularaxis": {
            "gridcolor": "white",
            "linecolor": "white",
            "ticks": ""
           },
           "bgcolor": "#E5ECF6",
           "radialaxis": {
            "gridcolor": "white",
            "linecolor": "white",
            "ticks": ""
           }
          },
          "scene": {
           "xaxis": {
            "backgroundcolor": "#E5ECF6",
            "gridcolor": "white",
            "gridwidth": 2,
            "linecolor": "white",
            "showbackground": true,
            "ticks": "",
            "zerolinecolor": "white"
           },
           "yaxis": {
            "backgroundcolor": "#E5ECF6",
            "gridcolor": "white",
            "gridwidth": 2,
            "linecolor": "white",
            "showbackground": true,
            "ticks": "",
            "zerolinecolor": "white"
           },
           "zaxis": {
            "backgroundcolor": "#E5ECF6",
            "gridcolor": "white",
            "gridwidth": 2,
            "linecolor": "white",
            "showbackground": true,
            "ticks": "",
            "zerolinecolor": "white"
           }
          },
          "shapedefaults": {
           "line": {
            "color": "#2a3f5f"
           }
          },
          "ternary": {
           "aaxis": {
            "gridcolor": "white",
            "linecolor": "white",
            "ticks": ""
           },
           "baxis": {
            "gridcolor": "white",
            "linecolor": "white",
            "ticks": ""
           },
           "bgcolor": "#E5ECF6",
           "caxis": {
            "gridcolor": "white",
            "linecolor": "white",
            "ticks": ""
           }
          },
          "title": {
           "x": 0.05
          },
          "xaxis": {
           "automargin": true,
           "gridcolor": "white",
           "linecolor": "white",
           "ticks": "",
           "title": {
            "standoff": 15
           },
           "zerolinecolor": "white",
           "zerolinewidth": 2
          },
          "yaxis": {
           "automargin": true,
           "gridcolor": "white",
           "linecolor": "white",
           "ticks": "",
           "title": {
            "standoff": 15
           },
           "zerolinecolor": "white",
           "zerolinewidth": 2
          }
         }
        },
        "xaxis": {
         "anchor": "y",
         "domain": [
          0,
          1
         ],
         "title": {
          "text": "index"
         }
        },
        "yaxis": {
         "anchor": "x",
         "domain": [
          0,
          1
         ],
         "title": {
          "text": "value"
         }
        }
       }
      }
     },
     "metadata": {},
     "output_type": "display_data"
    }
   ],
   "source": [
    "px.line(metodos_PvP_metricas.T)"
   ]
  },
  {
   "cell_type": "markdown",
   "metadata": {},
   "source": [
    "## Métodos SoloHum"
   ]
  },
  {
   "cell_type": "code",
   "execution_count": 142,
   "metadata": {},
   "outputs": [
    {
     "data": {
      "text/html": [
       "<div>\n",
       "<style scoped>\n",
       "    .dataframe tbody tr th:only-of-type {\n",
       "        vertical-align: middle;\n",
       "    }\n",
       "\n",
       "    .dataframe tbody tr th {\n",
       "        vertical-align: top;\n",
       "    }\n",
       "\n",
       "    .dataframe thead th {\n",
       "        text-align: right;\n",
       "    }\n",
       "</style>\n",
       "<table border=\"1\" class=\"dataframe\">\n",
       "  <thead>\n",
       "    <tr style=\"text-align: right;\">\n",
       "      <th></th>\n",
       "      <th>CurvaCola</th>\n",
       "      <th>HBOS</th>\n",
       "      <th>IForest</th>\n",
       "      <th>KNN</th>\n",
       "    </tr>\n",
       "    <tr>\n",
       "      <th>fecha</th>\n",
       "      <th></th>\n",
       "      <th></th>\n",
       "      <th></th>\n",
       "      <th></th>\n",
       "    </tr>\n",
       "  </thead>\n",
       "  <tbody>\n",
       "    <tr>\n",
       "      <th>2021-11-26 11:48:00</th>\n",
       "      <td>0</td>\n",
       "      <td>0</td>\n",
       "      <td>0</td>\n",
       "      <td>0</td>\n",
       "    </tr>\n",
       "    <tr>\n",
       "      <th>2021-06-06 19:17:00</th>\n",
       "      <td>0</td>\n",
       "      <td>1</td>\n",
       "      <td>0</td>\n",
       "      <td>0</td>\n",
       "    </tr>\n",
       "    <tr>\n",
       "      <th>2021-12-04 07:59:00</th>\n",
       "      <td>0</td>\n",
       "      <td>0</td>\n",
       "      <td>0</td>\n",
       "      <td>0</td>\n",
       "    </tr>\n",
       "    <tr>\n",
       "      <th>2021-11-06 17:55:00</th>\n",
       "      <td>0</td>\n",
       "      <td>0</td>\n",
       "      <td>0</td>\n",
       "      <td>0</td>\n",
       "    </tr>\n",
       "    <tr>\n",
       "      <th>2021-05-05 08:19:00</th>\n",
       "      <td>0</td>\n",
       "      <td>0</td>\n",
       "      <td>0</td>\n",
       "      <td>0</td>\n",
       "    </tr>\n",
       "  </tbody>\n",
       "</table>\n",
       "</div>"
      ],
      "text/plain": [
       "                     CurvaCola  HBOS  IForest  KNN\n",
       "fecha                                             \n",
       "2021-11-26 11:48:00          0     0        0    0\n",
       "2021-06-06 19:17:00          0     1        0    0\n",
       "2021-12-04 07:59:00          0     0        0    0\n",
       "2021-11-06 17:55:00          0     0        0    0\n",
       "2021-05-05 08:19:00          0     0        0    0"
      ]
     },
     "execution_count": 142,
     "metadata": {},
     "output_type": "execute_result"
    }
   ],
   "source": [
    "metodos_SH = pd.read_csv('Metodos_SoloHumedades/CurvaCola/Resultados/PyOD_HBOS_completo.csv',index_col='fecha')\n",
    "metodos_SH = metodos_SH.drop('Y_pred', axis=1)\n",
    "\n",
    "metodos_SH['HBOS'] = pd.read_csv('Metodos_SoloHumedades/CurvaCola/Resultados/PyOD_HBOS_completo.csv',usecols=['fecha','Y_pred'],index_col='fecha')\n",
    "metodos_SH['IForest'] = pd.read_csv('Metodos_SoloHumedades/CurvaCola/Resultados/PyOD_IForest_completo.csv',usecols=['fecha','Y_pred'],index_col='fecha')\n",
    "metodos_SH['KNN'] = pd.read_csv('Metodos_SoloHumedades/CurvaCola/Resultados/PyOD_KNN_completo.csv',usecols=['fecha','Y_pred'],index_col='fecha')\n",
    "metodos_SH.head()"
   ]
  },
  {
   "cell_type": "markdown",
   "metadata": {},
   "source": []
  },
  {
   "cell_type": "markdown",
   "metadata": {},
   "source": [
    "### Métricas generales:"
   ]
  },
  {
   "cell_type": "code",
   "execution_count": 143,
   "metadata": {},
   "outputs": [
    {
     "data": {
      "text/html": [
       "<div>\n",
       "<style scoped>\n",
       "    .dataframe tbody tr th:only-of-type {\n",
       "        vertical-align: middle;\n",
       "    }\n",
       "\n",
       "    .dataframe tbody tr th {\n",
       "        vertical-align: top;\n",
       "    }\n",
       "\n",
       "    .dataframe thead th {\n",
       "        text-align: right;\n",
       "    }\n",
       "</style>\n",
       "<table border=\"1\" class=\"dataframe\">\n",
       "  <thead>\n",
       "    <tr style=\"text-align: right;\">\n",
       "      <th></th>\n",
       "      <th>roc_auc</th>\n",
       "      <th>accuracy</th>\n",
       "      <th>precision</th>\n",
       "      <th>kappa</th>\n",
       "      <th>sensibilidad</th>\n",
       "      <th>especificidad</th>\n",
       "    </tr>\n",
       "  </thead>\n",
       "  <tbody>\n",
       "    <tr>\n",
       "      <th>HBOS</th>\n",
       "      <td>0.47784</td>\n",
       "      <td>0.826762</td>\n",
       "      <td>0.050497</td>\n",
       "      <td>-0.042855</td>\n",
       "      <td>0.054319</td>\n",
       "      <td>0.901361</td>\n",
       "    </tr>\n",
       "    <tr>\n",
       "      <th>IForest</th>\n",
       "      <td>0.473223</td>\n",
       "      <td>0.819626</td>\n",
       "      <td>0.045735</td>\n",
       "      <td>-0.050079</td>\n",
       "      <td>0.05276</td>\n",
       "      <td>0.893686</td>\n",
       "    </tr>\n",
       "    <tr>\n",
       "      <th>KNN</th>\n",
       "      <td>0.486957</td>\n",
       "      <td>0.824684</td>\n",
       "      <td>0.067289</td>\n",
       "      <td>-0.024485</td>\n",
       "      <td>0.077026</td>\n",
       "      <td>0.896889</td>\n",
       "    </tr>\n",
       "  </tbody>\n",
       "</table>\n",
       "</div>"
      ],
      "text/plain": [
       "          roc_auc  accuracy precision     kappa sensibilidad especificidad\n",
       "HBOS      0.47784  0.826762  0.050497 -0.042855     0.054319      0.901361\n",
       "IForest  0.473223  0.819626  0.045735 -0.050079      0.05276      0.893686\n",
       "KNN      0.486957  0.824684  0.067289 -0.024485     0.077026      0.896889"
      ]
     },
     "execution_count": 143,
     "metadata": {},
     "output_type": "execute_result"
    }
   ],
   "source": [
    "metodos_SH_lista = ['HBOS','IForest','KNN']\n",
    "metodos_SH_metricas = calc_metricas(metodos_SH,metodos_SH_lista)\n",
    "metodos_SH_metricas"
   ]
  },
  {
   "cell_type": "code",
   "execution_count": 144,
   "metadata": {},
   "outputs": [
    {
     "data": {
      "text/html": [
       "<div>\n",
       "<style scoped>\n",
       "    .dataframe tbody tr th:only-of-type {\n",
       "        vertical-align: middle;\n",
       "    }\n",
       "\n",
       "    .dataframe tbody tr th {\n",
       "        vertical-align: top;\n",
       "    }\n",
       "\n",
       "    .dataframe thead th {\n",
       "        text-align: right;\n",
       "    }\n",
       "</style>\n",
       "<table border=\"1\" class=\"dataframe\">\n",
       "  <thead>\n",
       "    <tr style=\"text-align: right;\">\n",
       "      <th></th>\n",
       "      <th>roc_auc</th>\n",
       "      <th>accuracy</th>\n",
       "      <th>precision</th>\n",
       "      <th>kappa</th>\n",
       "      <th>sensibilidad</th>\n",
       "      <th>especificidad</th>\n",
       "    </tr>\n",
       "  </thead>\n",
       "  <tbody>\n",
       "    <tr>\n",
       "      <th>MAD_PyOD</th>\n",
       "      <td>0.480482</td>\n",
       "      <td>0.871013</td>\n",
       "      <td>0.01352</td>\n",
       "      <td>-0.051096</td>\n",
       "      <td>0.006456</td>\n",
       "      <td>0.954507</td>\n",
       "    </tr>\n",
       "    <tr>\n",
       "      <th>MAD_PySAD</th>\n",
       "      <td>0.464597</td>\n",
       "      <td>0.816547</td>\n",
       "      <td>0.032301</td>\n",
       "      <td>-0.066094</td>\n",
       "      <td>0.0374</td>\n",
       "      <td>0.891794</td>\n",
       "    </tr>\n",
       "    <tr>\n",
       "      <th>SAD</th>\n",
       "      <td>0.464095</td>\n",
       "      <td>0.815449</td>\n",
       "      <td>0.032135</td>\n",
       "      <td>-0.066667</td>\n",
       "      <td>0.037622</td>\n",
       "      <td>0.890568</td>\n",
       "    </tr>\n",
       "  </tbody>\n",
       "</table>\n",
       "</div>"
      ],
      "text/plain": [
       "            roc_auc  accuracy precision     kappa sensibilidad especificidad\n",
       "MAD_PyOD   0.480482  0.871013   0.01352 -0.051096     0.006456      0.954507\n",
       "MAD_PySAD  0.464597  0.816547  0.032301 -0.066094       0.0374      0.891794\n",
       "SAD        0.464095  0.815449  0.032135 -0.066667     0.037622      0.890568"
      ]
     },
     "execution_count": 144,
     "metadata": {},
     "output_type": "execute_result"
    }
   ],
   "source": [
    "metodos_PvP_metricas = calc_metricas(metodos_PvP, metodos_PvP_lista)\n",
    "metodos_PvP_metricas"
   ]
  },
  {
   "cell_type": "code",
   "execution_count": 145,
   "metadata": {},
   "outputs": [
    {
     "data": {
      "application/vnd.plotly.v1+json": {
       "config": {
        "plotlyServerURL": "https://plot.ly"
       },
       "data": [
        {
         "hovertemplate": "variable=HBOS<br>index=%{x}<br>value=%{y}<extra></extra>",
         "legendgroup": "HBOS",
         "line": {
          "color": "#636efa",
          "dash": "solid"
         },
         "marker": {
          "symbol": "circle"
         },
         "mode": "lines",
         "name": "HBOS",
         "orientation": "v",
         "showlegend": true,
         "type": "scatter",
         "x": [
          "roc_auc",
          "accuracy",
          "precision",
          "kappa",
          "sensibilidad",
          "especificidad"
         ],
         "xaxis": "x",
         "y": [
          0.47783984940565355,
          0.826762082148809,
          0.050496688741721855,
          -0.04285507893869256,
          0.05431878895814782,
          0.9013609098531593
         ],
         "yaxis": "y"
        },
        {
         "hovertemplate": "variable=IForest<br>index=%{x}<br>value=%{y}<extra></extra>",
         "legendgroup": "IForest",
         "line": {
          "color": "#EF553B",
          "dash": "solid"
         },
         "marker": {
          "symbol": "circle"
         },
         "mode": "lines",
         "name": "IForest",
         "orientation": "v",
         "showlegend": true,
         "type": "scatter",
         "x": [
          "roc_auc",
          "accuracy",
          "precision",
          "kappa",
          "sensibilidad",
          "especificidad"
         ],
         "xaxis": "x",
         "y": [
          0.473223049659572,
          0.8196255269091266,
          0.04573523736009263,
          -0.050079114988776485,
          0.05276046304541407,
          0.8936856362737299
         ],
         "yaxis": "y"
        },
        {
         "hovertemplate": "variable=KNN<br>index=%{x}<br>value=%{y}<extra></extra>",
         "legendgroup": "KNN",
         "line": {
          "color": "#00cc96",
          "dash": "solid"
         },
         "marker": {
          "symbol": "circle"
         },
         "mode": "lines",
         "name": "KNN",
         "orientation": "v",
         "showlegend": true,
         "type": "scatter",
         "x": [
          "roc_auc",
          "accuracy",
          "precision",
          "kappa",
          "sensibilidad",
          "especificidad"
         ],
         "xaxis": "x",
         "y": [
          0.4869574327299108,
          0.8246838545240662,
          0.06728899260987943,
          -0.02448472588480133,
          0.07702582368655388,
          0.8968890417732677
         ],
         "yaxis": "y"
        }
       ],
       "layout": {
        "legend": {
         "title": {
          "text": "variable"
         },
         "tracegroupgap": 0
        },
        "margin": {
         "t": 60
        },
        "template": {
         "data": {
          "bar": [
           {
            "error_x": {
             "color": "#2a3f5f"
            },
            "error_y": {
             "color": "#2a3f5f"
            },
            "marker": {
             "line": {
              "color": "#E5ECF6",
              "width": 0.5
             },
             "pattern": {
              "fillmode": "overlay",
              "size": 10,
              "solidity": 0.2
             }
            },
            "type": "bar"
           }
          ],
          "barpolar": [
           {
            "marker": {
             "line": {
              "color": "#E5ECF6",
              "width": 0.5
             },
             "pattern": {
              "fillmode": "overlay",
              "size": 10,
              "solidity": 0.2
             }
            },
            "type": "barpolar"
           }
          ],
          "carpet": [
           {
            "aaxis": {
             "endlinecolor": "#2a3f5f",
             "gridcolor": "white",
             "linecolor": "white",
             "minorgridcolor": "white",
             "startlinecolor": "#2a3f5f"
            },
            "baxis": {
             "endlinecolor": "#2a3f5f",
             "gridcolor": "white",
             "linecolor": "white",
             "minorgridcolor": "white",
             "startlinecolor": "#2a3f5f"
            },
            "type": "carpet"
           }
          ],
          "choropleth": [
           {
            "colorbar": {
             "outlinewidth": 0,
             "ticks": ""
            },
            "type": "choropleth"
           }
          ],
          "contour": [
           {
            "colorbar": {
             "outlinewidth": 0,
             "ticks": ""
            },
            "colorscale": [
             [
              0,
              "#0d0887"
             ],
             [
              0.1111111111111111,
              "#46039f"
             ],
             [
              0.2222222222222222,
              "#7201a8"
             ],
             [
              0.3333333333333333,
              "#9c179e"
             ],
             [
              0.4444444444444444,
              "#bd3786"
             ],
             [
              0.5555555555555556,
              "#d8576b"
             ],
             [
              0.6666666666666666,
              "#ed7953"
             ],
             [
              0.7777777777777778,
              "#fb9f3a"
             ],
             [
              0.8888888888888888,
              "#fdca26"
             ],
             [
              1,
              "#f0f921"
             ]
            ],
            "type": "contour"
           }
          ],
          "contourcarpet": [
           {
            "colorbar": {
             "outlinewidth": 0,
             "ticks": ""
            },
            "type": "contourcarpet"
           }
          ],
          "heatmap": [
           {
            "colorbar": {
             "outlinewidth": 0,
             "ticks": ""
            },
            "colorscale": [
             [
              0,
              "#0d0887"
             ],
             [
              0.1111111111111111,
              "#46039f"
             ],
             [
              0.2222222222222222,
              "#7201a8"
             ],
             [
              0.3333333333333333,
              "#9c179e"
             ],
             [
              0.4444444444444444,
              "#bd3786"
             ],
             [
              0.5555555555555556,
              "#d8576b"
             ],
             [
              0.6666666666666666,
              "#ed7953"
             ],
             [
              0.7777777777777778,
              "#fb9f3a"
             ],
             [
              0.8888888888888888,
              "#fdca26"
             ],
             [
              1,
              "#f0f921"
             ]
            ],
            "type": "heatmap"
           }
          ],
          "heatmapgl": [
           {
            "colorbar": {
             "outlinewidth": 0,
             "ticks": ""
            },
            "colorscale": [
             [
              0,
              "#0d0887"
             ],
             [
              0.1111111111111111,
              "#46039f"
             ],
             [
              0.2222222222222222,
              "#7201a8"
             ],
             [
              0.3333333333333333,
              "#9c179e"
             ],
             [
              0.4444444444444444,
              "#bd3786"
             ],
             [
              0.5555555555555556,
              "#d8576b"
             ],
             [
              0.6666666666666666,
              "#ed7953"
             ],
             [
              0.7777777777777778,
              "#fb9f3a"
             ],
             [
              0.8888888888888888,
              "#fdca26"
             ],
             [
              1,
              "#f0f921"
             ]
            ],
            "type": "heatmapgl"
           }
          ],
          "histogram": [
           {
            "marker": {
             "pattern": {
              "fillmode": "overlay",
              "size": 10,
              "solidity": 0.2
             }
            },
            "type": "histogram"
           }
          ],
          "histogram2d": [
           {
            "colorbar": {
             "outlinewidth": 0,
             "ticks": ""
            },
            "colorscale": [
             [
              0,
              "#0d0887"
             ],
             [
              0.1111111111111111,
              "#46039f"
             ],
             [
              0.2222222222222222,
              "#7201a8"
             ],
             [
              0.3333333333333333,
              "#9c179e"
             ],
             [
              0.4444444444444444,
              "#bd3786"
             ],
             [
              0.5555555555555556,
              "#d8576b"
             ],
             [
              0.6666666666666666,
              "#ed7953"
             ],
             [
              0.7777777777777778,
              "#fb9f3a"
             ],
             [
              0.8888888888888888,
              "#fdca26"
             ],
             [
              1,
              "#f0f921"
             ]
            ],
            "type": "histogram2d"
           }
          ],
          "histogram2dcontour": [
           {
            "colorbar": {
             "outlinewidth": 0,
             "ticks": ""
            },
            "colorscale": [
             [
              0,
              "#0d0887"
             ],
             [
              0.1111111111111111,
              "#46039f"
             ],
             [
              0.2222222222222222,
              "#7201a8"
             ],
             [
              0.3333333333333333,
              "#9c179e"
             ],
             [
              0.4444444444444444,
              "#bd3786"
             ],
             [
              0.5555555555555556,
              "#d8576b"
             ],
             [
              0.6666666666666666,
              "#ed7953"
             ],
             [
              0.7777777777777778,
              "#fb9f3a"
             ],
             [
              0.8888888888888888,
              "#fdca26"
             ],
             [
              1,
              "#f0f921"
             ]
            ],
            "type": "histogram2dcontour"
           }
          ],
          "mesh3d": [
           {
            "colorbar": {
             "outlinewidth": 0,
             "ticks": ""
            },
            "type": "mesh3d"
           }
          ],
          "parcoords": [
           {
            "line": {
             "colorbar": {
              "outlinewidth": 0,
              "ticks": ""
             }
            },
            "type": "parcoords"
           }
          ],
          "pie": [
           {
            "automargin": true,
            "type": "pie"
           }
          ],
          "scatter": [
           {
            "fillpattern": {
             "fillmode": "overlay",
             "size": 10,
             "solidity": 0.2
            },
            "type": "scatter"
           }
          ],
          "scatter3d": [
           {
            "line": {
             "colorbar": {
              "outlinewidth": 0,
              "ticks": ""
             }
            },
            "marker": {
             "colorbar": {
              "outlinewidth": 0,
              "ticks": ""
             }
            },
            "type": "scatter3d"
           }
          ],
          "scattercarpet": [
           {
            "marker": {
             "colorbar": {
              "outlinewidth": 0,
              "ticks": ""
             }
            },
            "type": "scattercarpet"
           }
          ],
          "scattergeo": [
           {
            "marker": {
             "colorbar": {
              "outlinewidth": 0,
              "ticks": ""
             }
            },
            "type": "scattergeo"
           }
          ],
          "scattergl": [
           {
            "marker": {
             "colorbar": {
              "outlinewidth": 0,
              "ticks": ""
             }
            },
            "type": "scattergl"
           }
          ],
          "scattermapbox": [
           {
            "marker": {
             "colorbar": {
              "outlinewidth": 0,
              "ticks": ""
             }
            },
            "type": "scattermapbox"
           }
          ],
          "scatterpolar": [
           {
            "marker": {
             "colorbar": {
              "outlinewidth": 0,
              "ticks": ""
             }
            },
            "type": "scatterpolar"
           }
          ],
          "scatterpolargl": [
           {
            "marker": {
             "colorbar": {
              "outlinewidth": 0,
              "ticks": ""
             }
            },
            "type": "scatterpolargl"
           }
          ],
          "scatterternary": [
           {
            "marker": {
             "colorbar": {
              "outlinewidth": 0,
              "ticks": ""
             }
            },
            "type": "scatterternary"
           }
          ],
          "surface": [
           {
            "colorbar": {
             "outlinewidth": 0,
             "ticks": ""
            },
            "colorscale": [
             [
              0,
              "#0d0887"
             ],
             [
              0.1111111111111111,
              "#46039f"
             ],
             [
              0.2222222222222222,
              "#7201a8"
             ],
             [
              0.3333333333333333,
              "#9c179e"
             ],
             [
              0.4444444444444444,
              "#bd3786"
             ],
             [
              0.5555555555555556,
              "#d8576b"
             ],
             [
              0.6666666666666666,
              "#ed7953"
             ],
             [
              0.7777777777777778,
              "#fb9f3a"
             ],
             [
              0.8888888888888888,
              "#fdca26"
             ],
             [
              1,
              "#f0f921"
             ]
            ],
            "type": "surface"
           }
          ],
          "table": [
           {
            "cells": {
             "fill": {
              "color": "#EBF0F8"
             },
             "line": {
              "color": "white"
             }
            },
            "header": {
             "fill": {
              "color": "#C8D4E3"
             },
             "line": {
              "color": "white"
             }
            },
            "type": "table"
           }
          ]
         },
         "layout": {
          "annotationdefaults": {
           "arrowcolor": "#2a3f5f",
           "arrowhead": 0,
           "arrowwidth": 1
          },
          "autotypenumbers": "strict",
          "coloraxis": {
           "colorbar": {
            "outlinewidth": 0,
            "ticks": ""
           }
          },
          "colorscale": {
           "diverging": [
            [
             0,
             "#8e0152"
            ],
            [
             0.1,
             "#c51b7d"
            ],
            [
             0.2,
             "#de77ae"
            ],
            [
             0.3,
             "#f1b6da"
            ],
            [
             0.4,
             "#fde0ef"
            ],
            [
             0.5,
             "#f7f7f7"
            ],
            [
             0.6,
             "#e6f5d0"
            ],
            [
             0.7,
             "#b8e186"
            ],
            [
             0.8,
             "#7fbc41"
            ],
            [
             0.9,
             "#4d9221"
            ],
            [
             1,
             "#276419"
            ]
           ],
           "sequential": [
            [
             0,
             "#0d0887"
            ],
            [
             0.1111111111111111,
             "#46039f"
            ],
            [
             0.2222222222222222,
             "#7201a8"
            ],
            [
             0.3333333333333333,
             "#9c179e"
            ],
            [
             0.4444444444444444,
             "#bd3786"
            ],
            [
             0.5555555555555556,
             "#d8576b"
            ],
            [
             0.6666666666666666,
             "#ed7953"
            ],
            [
             0.7777777777777778,
             "#fb9f3a"
            ],
            [
             0.8888888888888888,
             "#fdca26"
            ],
            [
             1,
             "#f0f921"
            ]
           ],
           "sequentialminus": [
            [
             0,
             "#0d0887"
            ],
            [
             0.1111111111111111,
             "#46039f"
            ],
            [
             0.2222222222222222,
             "#7201a8"
            ],
            [
             0.3333333333333333,
             "#9c179e"
            ],
            [
             0.4444444444444444,
             "#bd3786"
            ],
            [
             0.5555555555555556,
             "#d8576b"
            ],
            [
             0.6666666666666666,
             "#ed7953"
            ],
            [
             0.7777777777777778,
             "#fb9f3a"
            ],
            [
             0.8888888888888888,
             "#fdca26"
            ],
            [
             1,
             "#f0f921"
            ]
           ]
          },
          "colorway": [
           "#636efa",
           "#EF553B",
           "#00cc96",
           "#ab63fa",
           "#FFA15A",
           "#19d3f3",
           "#FF6692",
           "#B6E880",
           "#FF97FF",
           "#FECB52"
          ],
          "font": {
           "color": "#2a3f5f"
          },
          "geo": {
           "bgcolor": "white",
           "lakecolor": "white",
           "landcolor": "#E5ECF6",
           "showlakes": true,
           "showland": true,
           "subunitcolor": "white"
          },
          "hoverlabel": {
           "align": "left"
          },
          "hovermode": "closest",
          "mapbox": {
           "style": "light"
          },
          "paper_bgcolor": "white",
          "plot_bgcolor": "#E5ECF6",
          "polar": {
           "angularaxis": {
            "gridcolor": "white",
            "linecolor": "white",
            "ticks": ""
           },
           "bgcolor": "#E5ECF6",
           "radialaxis": {
            "gridcolor": "white",
            "linecolor": "white",
            "ticks": ""
           }
          },
          "scene": {
           "xaxis": {
            "backgroundcolor": "#E5ECF6",
            "gridcolor": "white",
            "gridwidth": 2,
            "linecolor": "white",
            "showbackground": true,
            "ticks": "",
            "zerolinecolor": "white"
           },
           "yaxis": {
            "backgroundcolor": "#E5ECF6",
            "gridcolor": "white",
            "gridwidth": 2,
            "linecolor": "white",
            "showbackground": true,
            "ticks": "",
            "zerolinecolor": "white"
           },
           "zaxis": {
            "backgroundcolor": "#E5ECF6",
            "gridcolor": "white",
            "gridwidth": 2,
            "linecolor": "white",
            "showbackground": true,
            "ticks": "",
            "zerolinecolor": "white"
           }
          },
          "shapedefaults": {
           "line": {
            "color": "#2a3f5f"
           }
          },
          "ternary": {
           "aaxis": {
            "gridcolor": "white",
            "linecolor": "white",
            "ticks": ""
           },
           "baxis": {
            "gridcolor": "white",
            "linecolor": "white",
            "ticks": ""
           },
           "bgcolor": "#E5ECF6",
           "caxis": {
            "gridcolor": "white",
            "linecolor": "white",
            "ticks": ""
           }
          },
          "title": {
           "x": 0.05
          },
          "xaxis": {
           "automargin": true,
           "gridcolor": "white",
           "linecolor": "white",
           "ticks": "",
           "title": {
            "standoff": 15
           },
           "zerolinecolor": "white",
           "zerolinewidth": 2
          },
          "yaxis": {
           "automargin": true,
           "gridcolor": "white",
           "linecolor": "white",
           "ticks": "",
           "title": {
            "standoff": 15
           },
           "zerolinecolor": "white",
           "zerolinewidth": 2
          }
         }
        },
        "xaxis": {
         "anchor": "y",
         "domain": [
          0,
          1
         ],
         "title": {
          "text": "index"
         }
        },
        "yaxis": {
         "anchor": "x",
         "domain": [
          0,
          1
         ],
         "title": {
          "text": "value"
         }
        }
       }
      }
     },
     "metadata": {},
     "output_type": "display_data"
    }
   ],
   "source": [
    "px.line(metodos_SH_metricas.T)"
   ]
  },
  {
   "cell_type": "markdown",
   "metadata": {},
   "source": [
    "## Resumen Final"
   ]
  },
  {
   "cell_type": "code",
   "execution_count": 146,
   "metadata": {},
   "outputs": [
    {
     "data": {
      "text/html": [
       "<div>\n",
       "<style scoped>\n",
       "    .dataframe tbody tr th:only-of-type {\n",
       "        vertical-align: middle;\n",
       "    }\n",
       "\n",
       "    .dataframe tbody tr th {\n",
       "        vertical-align: top;\n",
       "    }\n",
       "\n",
       "    .dataframe thead th {\n",
       "        text-align: right;\n",
       "    }\n",
       "</style>\n",
       "<table border=\"1\" class=\"dataframe\">\n",
       "  <thead>\n",
       "    <tr style=\"text-align: right;\">\n",
       "      <th></th>\n",
       "      <th>roc_auc</th>\n",
       "      <th>accuracy</th>\n",
       "      <th>precision</th>\n",
       "      <th>kappa</th>\n",
       "      <th>sensibilidad</th>\n",
       "      <th>especificidad</th>\n",
       "    </tr>\n",
       "  </thead>\n",
       "  <tbody>\n",
       "    <tr>\n",
       "      <th>HBOS_general</th>\n",
       "      <td>0.509429</td>\n",
       "      <td>0.830272</td>\n",
       "      <td>0.102804</td>\n",
       "      <td>0.017534</td>\n",
       "      <td>0.119991</td>\n",
       "      <td>0.898867</td>\n",
       "    </tr>\n",
       "    <tr>\n",
       "      <th>IForest_general</th>\n",
       "      <td>0.510426</td>\n",
       "      <td>0.831722</td>\n",
       "      <td>0.104581</td>\n",
       "      <td>0.019515</td>\n",
       "      <td>0.120436</td>\n",
       "      <td>0.900415</td>\n",
       "    </tr>\n",
       "    <tr>\n",
       "      <th>KNN_general</th>\n",
       "      <td>0.512534</td>\n",
       "      <td>0.834467</td>\n",
       "      <td>0.108424</td>\n",
       "      <td>0.023747</td>\n",
       "      <td>0.121772</td>\n",
       "      <td>0.903296</td>\n",
       "    </tr>\n",
       "    <tr>\n",
       "      <th>LODA_general</th>\n",
       "      <td>0.504172</td>\n",
       "      <td>0.829487</td>\n",
       "      <td>0.09466</td>\n",
       "      <td>0.007799</td>\n",
       "      <td>0.109305</td>\n",
       "      <td>0.899039</td>\n",
       "    </tr>\n",
       "    <tr>\n",
       "      <th>MAD_PyOD_general</th>\n",
       "      <td>0.498623</td>\n",
       "      <td>0.901716</td>\n",
       "      <td>0.069421</td>\n",
       "      <td>-0.004522</td>\n",
       "      <td>0.00935</td>\n",
       "      <td>0.987896</td>\n",
       "    </tr>\n",
       "    <tr>\n",
       "      <th>MCD_general</th>\n",
       "      <td>0.489765</td>\n",
       "      <td>0.825586</td>\n",
       "      <td>0.071762</td>\n",
       "      <td>-0.019215</td>\n",
       "      <td>0.082146</td>\n",
       "      <td>0.897384</td>\n",
       "    </tr>\n",
       "    <tr>\n",
       "      <th>IForestASD_general</th>\n",
       "      <td>0.507783</td>\n",
       "      <td>0.748221</td>\n",
       "      <td>0.094266</td>\n",
       "      <td>0.009833</td>\n",
       "      <td>0.215939</td>\n",
       "      <td>0.799626</td>\n",
       "    </tr>\n",
       "    <tr>\n",
       "      <th>MAD_PySAD_general</th>\n",
       "      <td>0.499211</td>\n",
       "      <td>0.827409</td>\n",
       "      <td>0.086832</td>\n",
       "      <td>-0.00147</td>\n",
       "      <td>0.100846</td>\n",
       "      <td>0.897577</td>\n",
       "    </tr>\n",
       "    <tr>\n",
       "      <th>SAD_general</th>\n",
       "      <td>0.498445</td>\n",
       "      <td>0.894971</td>\n",
       "      <td>0.075564</td>\n",
       "      <td>-0.00478</td>\n",
       "      <td>0.017142</td>\n",
       "      <td>0.979748</td>\n",
       "    </tr>\n",
       "    <tr>\n",
       "      <th>xStream_general</th>\n",
       "      <td>0.502377</td>\n",
       "      <td>0.729007</td>\n",
       "      <td>0.089782</td>\n",
       "      <td>0.002809</td>\n",
       "      <td>0.227293</td>\n",
       "      <td>0.77746</td>\n",
       "    </tr>\n",
       "    <tr>\n",
       "      <th>HTM_general</th>\n",
       "      <td>0.49844</td>\n",
       "      <td>0.906154</td>\n",
       "      <td>0.046753</td>\n",
       "      <td>-0.005385</td>\n",
       "      <td>0.003195</td>\n",
       "      <td>0.993686</td>\n",
       "    </tr>\n",
       "    <tr>\n",
       "      <th>IForest_NvS</th>\n",
       "      <td>0.487704</td>\n",
       "      <td>0.82788</td>\n",
       "      <td>0.067756</td>\n",
       "      <td>-0.023489</td>\n",
       "      <td>0.0748</td>\n",
       "      <td>0.900608</td>\n",
       "    </tr>\n",
       "    <tr>\n",
       "      <th>MAD_NvS</th>\n",
       "      <td>0.495005</td>\n",
       "      <td>0.894383</td>\n",
       "      <td>0.046606</td>\n",
       "      <td>-0.015428</td>\n",
       "      <td>0.01024</td>\n",
       "      <td>0.979769</td>\n",
       "    </tr>\n",
       "    <tr>\n",
       "      <th>HTM_NvS</th>\n",
       "      <td>0.476849</td>\n",
       "      <td>0.842643</td>\n",
       "      <td>0.03846</td>\n",
       "      <td>-0.049769</td>\n",
       "      <td>0.032524</td>\n",
       "      <td>0.921174</td>\n",
       "    </tr>\n",
       "    <tr>\n",
       "      <th>MAD_PyOD_PvP</th>\n",
       "      <td>0.480482</td>\n",
       "      <td>0.871013</td>\n",
       "      <td>0.01352</td>\n",
       "      <td>-0.051096</td>\n",
       "      <td>0.006456</td>\n",
       "      <td>0.954507</td>\n",
       "    </tr>\n",
       "    <tr>\n",
       "      <th>MAD_PySAD_PvP</th>\n",
       "      <td>0.464597</td>\n",
       "      <td>0.816547</td>\n",
       "      <td>0.032301</td>\n",
       "      <td>-0.066094</td>\n",
       "      <td>0.0374</td>\n",
       "      <td>0.891794</td>\n",
       "    </tr>\n",
       "    <tr>\n",
       "      <th>SAD_PvP</th>\n",
       "      <td>0.464095</td>\n",
       "      <td>0.815449</td>\n",
       "      <td>0.032135</td>\n",
       "      <td>-0.066667</td>\n",
       "      <td>0.037622</td>\n",
       "      <td>0.890568</td>\n",
       "    </tr>\n",
       "    <tr>\n",
       "      <th>HBOS_SH</th>\n",
       "      <td>0.47784</td>\n",
       "      <td>0.826762</td>\n",
       "      <td>0.050497</td>\n",
       "      <td>-0.042855</td>\n",
       "      <td>0.054319</td>\n",
       "      <td>0.901361</td>\n",
       "    </tr>\n",
       "    <tr>\n",
       "      <th>IForest_SH</th>\n",
       "      <td>0.473223</td>\n",
       "      <td>0.819626</td>\n",
       "      <td>0.045735</td>\n",
       "      <td>-0.050079</td>\n",
       "      <td>0.05276</td>\n",
       "      <td>0.893686</td>\n",
       "    </tr>\n",
       "    <tr>\n",
       "      <th>KNN_SH</th>\n",
       "      <td>0.486957</td>\n",
       "      <td>0.824684</td>\n",
       "      <td>0.067289</td>\n",
       "      <td>-0.024485</td>\n",
       "      <td>0.077026</td>\n",
       "      <td>0.896889</td>\n",
       "    </tr>\n",
       "  </tbody>\n",
       "</table>\n",
       "</div>"
      ],
      "text/plain": [
       "                     roc_auc  accuracy precision     kappa sensibilidad  \\\n",
       "HBOS_general        0.509429  0.830272  0.102804  0.017534     0.119991   \n",
       "IForest_general     0.510426  0.831722  0.104581  0.019515     0.120436   \n",
       "KNN_general         0.512534  0.834467  0.108424  0.023747     0.121772   \n",
       "LODA_general        0.504172  0.829487   0.09466  0.007799     0.109305   \n",
       "MAD_PyOD_general    0.498623  0.901716  0.069421 -0.004522      0.00935   \n",
       "MCD_general         0.489765  0.825586  0.071762 -0.019215     0.082146   \n",
       "IForestASD_general  0.507783  0.748221  0.094266  0.009833     0.215939   \n",
       "MAD_PySAD_general   0.499211  0.827409  0.086832  -0.00147     0.100846   \n",
       "SAD_general         0.498445  0.894971  0.075564  -0.00478     0.017142   \n",
       "xStream_general     0.502377  0.729007  0.089782  0.002809     0.227293   \n",
       "HTM_general          0.49844  0.906154  0.046753 -0.005385     0.003195   \n",
       "IForest_NvS         0.487704   0.82788  0.067756 -0.023489       0.0748   \n",
       "MAD_NvS             0.495005  0.894383  0.046606 -0.015428      0.01024   \n",
       "HTM_NvS             0.476849  0.842643   0.03846 -0.049769     0.032524   \n",
       "MAD_PyOD_PvP        0.480482  0.871013   0.01352 -0.051096     0.006456   \n",
       "MAD_PySAD_PvP       0.464597  0.816547  0.032301 -0.066094       0.0374   \n",
       "SAD_PvP             0.464095  0.815449  0.032135 -0.066667     0.037622   \n",
       "HBOS_SH              0.47784  0.826762  0.050497 -0.042855     0.054319   \n",
       "IForest_SH          0.473223  0.819626  0.045735 -0.050079      0.05276   \n",
       "KNN_SH              0.486957  0.824684  0.067289 -0.024485     0.077026   \n",
       "\n",
       "                   especificidad  \n",
       "HBOS_general            0.898867  \n",
       "IForest_general         0.900415  \n",
       "KNN_general             0.903296  \n",
       "LODA_general            0.899039  \n",
       "MAD_PyOD_general        0.987896  \n",
       "MCD_general             0.897384  \n",
       "IForestASD_general      0.799626  \n",
       "MAD_PySAD_general       0.897577  \n",
       "SAD_general             0.979748  \n",
       "xStream_general          0.77746  \n",
       "HTM_general             0.993686  \n",
       "IForest_NvS             0.900608  \n",
       "MAD_NvS                 0.979769  \n",
       "HTM_NvS                 0.921174  \n",
       "MAD_PyOD_PvP            0.954507  \n",
       "MAD_PySAD_PvP           0.891794  \n",
       "SAD_PvP                 0.890568  \n",
       "HBOS_SH                 0.901361  \n",
       "IForest_SH              0.893686  \n",
       "KNN_SH                  0.896889  "
      ]
     },
     "execution_count": 146,
     "metadata": {},
     "output_type": "execute_result"
    }
   ],
   "source": [
    "resumen_curvacola = pd.concat([metodos_metricas.T.add_suffix('_general'),metodos_NvS_metricas.T.add_suffix('_NvS'),\n",
    "            metodos_PvP_metricas.T.add_suffix('_PvP'),metodos_SH_metricas.T.add_suffix('_SH')],axis=1).T\n",
    "\n",
    "resumen_curvacola"
   ]
  },
  {
   "cell_type": "code",
   "execution_count": 147,
   "metadata": {},
   "outputs": [
    {
     "data": {
      "application/vnd.plotly.v1+json": {
       "config": {
        "plotlyServerURL": "https://plot.ly"
       },
       "data": [
        {
         "hovertemplate": "variable=HBOS_general<br>index=%{x}<br>value=%{y}<extra></extra>",
         "legendgroup": "HBOS_general",
         "line": {
          "color": "#636efa",
          "dash": "solid"
         },
         "marker": {
          "symbol": "circle"
         },
         "mode": "lines",
         "name": "HBOS_general",
         "orientation": "v",
         "showlegend": true,
         "type": "scatter",
         "x": [
          "roc_auc",
          "accuracy",
          "precision",
          "kappa",
          "sensibilidad",
          "especificidad"
         ],
         "xaxis": "x",
         "y": [
          0.5094290393522438,
          0.8302715420056858,
          0.102803738317757,
          0.01753391657967862,
          0.11999109528049866,
          0.898866983423989
         ],
         "yaxis": "y"
        },
        {
         "hovertemplate": "variable=IForest_general<br>index=%{x}<br>value=%{y}<extra></extra>",
         "legendgroup": "IForest_general",
         "line": {
          "color": "#EF553B",
          "dash": "solid"
         },
         "marker": {
          "symbol": "circle"
         },
         "mode": "lines",
         "name": "IForest_general",
         "orientation": "v",
         "showlegend": true,
         "type": "scatter",
         "x": [
          "roc_auc",
          "accuracy",
          "precision",
          "kappa",
          "sensibilidad",
          "especificidad"
         ],
         "xaxis": "x",
         "y": [
          0.5104256345074508,
          0.831722380158808,
          0.10458148076551324,
          0.01951487312143585,
          0.12043633125556545,
          0.9004149377593361
         ],
         "yaxis": "y"
        },
        {
         "hovertemplate": "variable=KNN_general<br>index=%{x}<br>value=%{y}<extra></extra>",
         "legendgroup": "KNN_general",
         "line": {
          "color": "#00cc96",
          "dash": "solid"
         },
         "marker": {
          "symbol": "circle"
         },
         "mode": "lines",
         "name": "KNN_general",
         "orientation": "v",
         "showlegend": true,
         "type": "scatter",
         "x": [
          "roc_auc",
          "accuracy",
          "precision",
          "kappa",
          "sensibilidad",
          "especificidad"
         ],
         "xaxis": "x",
         "y": [
          0.5125339459765546,
          0.8344672090971473,
          0.10842418235877106,
          0.023747320129526406,
          0.1217720391807658,
          0.9032958527723433
         ],
         "yaxis": "y"
        },
        {
         "hovertemplate": "variable=LODA_general<br>index=%{x}<br>value=%{y}<extra></extra>",
         "legendgroup": "LODA_general",
         "line": {
          "color": "#ab63fa",
          "dash": "solid"
         },
         "marker": {
          "symbol": "circle"
         },
         "mode": "lines",
         "name": "LODA_general",
         "orientation": "v",
         "showlegend": true,
         "type": "scatter",
         "x": [
          "roc_auc",
          "accuracy",
          "precision",
          "kappa",
          "sensibilidad",
          "especificidad"
         ],
         "xaxis": "x",
         "y": [
          0.5041722051145172,
          0.8294873051661602,
          0.09465972623867361,
          0.007799325354829412,
          0.10930543187889581,
          0.8990389783501387
         ],
         "yaxis": "y"
        },
        {
         "hovertemplate": "variable=MAD_PyOD_general<br>index=%{x}<br>value=%{y}<extra></extra>",
         "legendgroup": "MAD_PyOD_general",
         "line": {
          "color": "#FFA15A",
          "dash": "solid"
         },
         "marker": {
          "symbol": "circle"
         },
         "mode": "lines",
         "name": "MAD_PyOD_general",
         "orientation": "v",
         "showlegend": true,
         "type": "scatter",
         "x": [
          "roc_auc",
          "accuracy",
          "precision",
          "kappa",
          "sensibilidad",
          "especificidad"
         ],
         "xaxis": "x",
         "y": [
          0.49862290627430944,
          0.9017155180864621,
          0.06942148760330578,
          -0.004521540105940858,
          0.009349955476402494,
          0.9878958570722164
         ],
         "yaxis": "y"
        },
        {
         "hovertemplate": "variable=MCD_general<br>index=%{x}<br>value=%{y}<extra></extra>",
         "legendgroup": "MCD_general",
         "line": {
          "color": "#19d3f3",
          "dash": "solid"
         },
         "marker": {
          "symbol": "circle"
         },
         "mode": "lines",
         "name": "MCD_general",
         "orientation": "v",
         "showlegend": true,
         "type": "scatter",
         "x": [
          "roc_auc",
          "accuracy",
          "precision",
          "kappa",
          "sensibilidad",
          "especificidad"
         ],
         "xaxis": "x",
         "y": [
          0.489764782292885,
          0.8255857268895206,
          0.07176196032672112,
          -0.019214506986266144,
          0.0821460373998219,
          0.897383527185948
         ],
         "yaxis": "y"
        },
        {
         "hovertemplate": "variable=IForestASD_general<br>index=%{x}<br>value=%{y}<extra></extra>",
         "legendgroup": "IForestASD_general",
         "line": {
          "color": "#FF6692",
          "dash": "solid"
         },
         "marker": {
          "symbol": "circle"
         },
         "mode": "lines",
         "name": "IForestASD_general",
         "orientation": "v",
         "showlegend": true,
         "type": "scatter",
         "x": [
          "roc_auc",
          "accuracy",
          "precision",
          "kappa",
          "sensibilidad",
          "especificidad"
         ],
         "xaxis": "x",
         "y": [
          0.5077826794715077,
          0.7482207626703264,
          0.09426627793974733,
          0.009832556714325924,
          0.21593944790739092,
          0.7996259110356244
         ],
         "yaxis": "y"
        },
        {
         "hovertemplate": "variable=MAD_PySAD_general<br>index=%{x}<br>value=%{y}<extra></extra>",
         "legendgroup": "MAD_PySAD_general",
         "line": {
          "color": "#B6E880",
          "dash": "solid"
         },
         "marker": {
          "symbol": "circle"
         },
         "mode": "lines",
         "name": "MAD_PySAD_general",
         "orientation": "v",
         "showlegend": true,
         "type": "scatter",
         "x": [
          "roc_auc",
          "accuracy",
          "precision",
          "kappa",
          "sensibilidad",
          "especificidad"
         ],
         "xaxis": "x",
         "y": [
          0.4992114849152467,
          0.8274090775414175,
          0.08683151236342726,
          -0.0014698686593868082,
          0.10084594835262689,
          0.8975770214778664
         ],
         "yaxis": "y"
        },
        {
         "hovertemplate": "variable=SAD_general<br>index=%{x}<br>value=%{y}<extra></extra>",
         "legendgroup": "SAD_general",
         "line": {
          "color": "#FF97FF",
          "dash": "solid"
         },
         "marker": {
          "symbol": "circle"
         },
         "mode": "lines",
         "name": "SAD_general",
         "orientation": "v",
         "showlegend": true,
         "type": "scatter",
         "x": [
          "roc_auc",
          "accuracy",
          "precision",
          "kappa",
          "sensibilidad",
          "especificidad"
         ],
         "xaxis": "x",
         "y": [
          0.49844459124297325,
          0.8949710812665425,
          0.07556427870461237,
          -0.004780302110154011,
          0.01714158504007124,
          0.9797475974458754
         ],
         "yaxis": "y"
        },
        {
         "hovertemplate": "variable=xStream_general<br>index=%{x}<br>value=%{y}<extra></extra>",
         "legendgroup": "xStream_general",
         "line": {
          "color": "#FECB52",
          "dash": "solid"
         },
         "marker": {
          "symbol": "circle"
         },
         "mode": "lines",
         "name": "xStream_general",
         "orientation": "v",
         "showlegend": true,
         "type": "scatter",
         "x": [
          "roc_auc",
          "accuracy",
          "precision",
          "kappa",
          "sensibilidad",
          "especificidad"
         ],
         "xaxis": "x",
         "y": [
          0.5023765150998393,
          0.7290069601019508,
          0.08978192050650721,
          0.0028093717841611854,
          0.22729296527159396,
          0.7774600649280846
         ],
         "yaxis": "y"
        },
        {
         "hovertemplate": "variable=HTM_general<br>index=%{x}<br>value=%{y}<extra></extra>",
         "legendgroup": "HTM_general",
         "line": {
          "color": "#636efa",
          "dash": "solid"
         },
         "marker": {
          "symbol": "circle"
         },
         "mode": "lines",
         "name": "HTM_general",
         "orientation": "v",
         "showlegend": true,
         "type": "scatter",
         "x": [
          "roc_auc",
          "accuracy",
          "precision",
          "kappa",
          "sensibilidad",
          "especificidad"
         ],
         "xaxis": "x",
         "y": [
          0.49844022101139895,
          0.9061542985981766,
          0.046753246753246755,
          -0.005384831708727056,
          0.0031947464170031504,
          0.9936856956057947
         ],
         "yaxis": "y"
        },
        {
         "hovertemplate": "variable=IForest_NvS<br>index=%{x}<br>value=%{y}<extra></extra>",
         "legendgroup": "IForest_NvS",
         "line": {
          "color": "#EF553B",
          "dash": "solid"
         },
         "marker": {
          "symbol": "circle"
         },
         "mode": "lines",
         "name": "IForest_NvS",
         "orientation": "v",
         "showlegend": true,
         "type": "scatter",
         "x": [
          "roc_auc",
          "accuracy",
          "precision",
          "kappa",
          "sensibilidad",
          "especificidad"
         ],
         "xaxis": "x",
         "y": [
          0.48770403793123723,
          0.8278796196451328,
          0.0677555958862674,
          -0.023488859167108522,
          0.07479964381121995,
          0.9006084320512545
         ],
         "yaxis": "y"
        },
        {
         "hovertemplate": "variable=MAD_NvS<br>index=%{x}<br>value=%{y}<extra></extra>",
         "legendgroup": "MAD_NvS",
         "line": {
          "color": "#00cc96",
          "dash": "solid"
         },
         "marker": {
          "symbol": "circle"
         },
         "mode": "lines",
         "name": "MAD_NvS",
         "orientation": "v",
         "showlegend": true,
         "type": "scatter",
         "x": [
          "roc_auc",
          "accuracy",
          "precision",
          "kappa",
          "sensibilidad",
          "especificidad"
         ],
         "xaxis": "x",
         "y": [
          0.49500476211909,
          0.8943829036368983,
          0.04660587639311044,
          -0.01542836225750599,
          0.010240427426536063,
          0.979769096811644
         ],
         "yaxis": "y"
        },
        {
         "hovertemplate": "variable=HTM_NvS<br>index=%{x}<br>value=%{y}<extra></extra>",
         "legendgroup": "HTM_NvS",
         "line": {
          "color": "#ab63fa",
          "dash": "solid"
         },
         "marker": {
          "symbol": "circle"
         },
         "mode": "lines",
         "name": "HTM_NvS",
         "orientation": "v",
         "showlegend": true,
         "type": "scatter",
         "x": [
          "roc_auc",
          "accuracy",
          "precision",
          "kappa",
          "sensibilidad",
          "especificidad"
         ],
         "xaxis": "x",
         "y": [
          0.47684935979557835,
          0.842642878149201,
          0.03845952043653917,
          -0.0497693074993677,
          0.03252429338421263,
          0.921174426206944
         ],
         "yaxis": "y"
        },
        {
         "hovertemplate": "variable=MAD_PyOD_PvP<br>index=%{x}<br>value=%{y}<extra></extra>",
         "legendgroup": "MAD_PyOD_PvP",
         "line": {
          "color": "#FFA15A",
          "dash": "solid"
         },
         "marker": {
          "symbol": "circle"
         },
         "mode": "lines",
         "name": "MAD_PyOD_PvP",
         "orientation": "v",
         "showlegend": true,
         "type": "scatter",
         "x": [
          "roc_auc",
          "accuracy",
          "precision",
          "kappa",
          "sensibilidad",
          "especificidad"
         ],
         "xaxis": "x",
         "y": [
          0.48048163183593917,
          0.8710126458190374,
          0.01351981351981352,
          -0.0510960541661607,
          0.006455921638468388,
          0.95450734203341
         ],
         "yaxis": "y"
        },
        {
         "hovertemplate": "variable=MAD_PySAD_PvP<br>index=%{x}<br>value=%{y}<extra></extra>",
         "legendgroup": "MAD_PySAD_PvP",
         "line": {
          "color": "#19d3f3",
          "dash": "solid"
         },
         "marker": {
          "symbol": "circle"
         },
         "mode": "lines",
         "name": "MAD_PySAD_PvP",
         "orientation": "v",
         "showlegend": true,
         "type": "scatter",
         "x": [
          "roc_auc",
          "accuracy",
          "precision",
          "kappa",
          "sensibilidad",
          "especificidad"
         ],
         "xaxis": "x",
         "y": [
          0.46459675699584674,
          0.8165473973139888,
          0.03230148048452221,
          -0.06609419764746272,
          0.037399821905609976,
          0.8917936920860835
         ],
         "yaxis": "y"
        },
        {
         "hovertemplate": "variable=SAD_PvP<br>index=%{x}<br>value=%{y}<extra></extra>",
         "legendgroup": "SAD_PvP",
         "line": {
          "color": "#FF6692",
          "dash": "solid"
         },
         "marker": {
          "symbol": "circle"
         },
         "mode": "lines",
         "name": "SAD_PvP",
         "orientation": "v",
         "showlegend": true,
         "type": "scatter",
         "x": [
          "roc_auc",
          "accuracy",
          "precision",
          "kappa",
          "sensibilidad",
          "especificidad"
         ],
         "xaxis": "x",
         "y": [
          0.46409533406520515,
          0.8154494657386531,
          0.032135386955695,
          -0.06666734665932461,
          0.037622439893143365,
          0.890568228237267
         ],
         "yaxis": "y"
        },
        {
         "hovertemplate": "variable=HBOS_SH<br>index=%{x}<br>value=%{y}<extra></extra>",
         "legendgroup": "HBOS_SH",
         "line": {
          "color": "#B6E880",
          "dash": "solid"
         },
         "marker": {
          "symbol": "circle"
         },
         "mode": "lines",
         "name": "HBOS_SH",
         "orientation": "v",
         "showlegend": true,
         "type": "scatter",
         "x": [
          "roc_auc",
          "accuracy",
          "precision",
          "kappa",
          "sensibilidad",
          "especificidad"
         ],
         "xaxis": "x",
         "y": [
          0.47783984940565355,
          0.826762082148809,
          0.050496688741721855,
          -0.04285507893869256,
          0.05431878895814782,
          0.9013609098531593
         ],
         "yaxis": "y"
        },
        {
         "hovertemplate": "variable=IForest_SH<br>index=%{x}<br>value=%{y}<extra></extra>",
         "legendgroup": "IForest_SH",
         "line": {
          "color": "#FF97FF",
          "dash": "solid"
         },
         "marker": {
          "symbol": "circle"
         },
         "mode": "lines",
         "name": "IForest_SH",
         "orientation": "v",
         "showlegend": true,
         "type": "scatter",
         "x": [
          "roc_auc",
          "accuracy",
          "precision",
          "kappa",
          "sensibilidad",
          "especificidad"
         ],
         "xaxis": "x",
         "y": [
          0.473223049659572,
          0.8196255269091266,
          0.04573523736009263,
          -0.050079114988776485,
          0.05276046304541407,
          0.8936856362737299
         ],
         "yaxis": "y"
        },
        {
         "hovertemplate": "variable=KNN_SH<br>index=%{x}<br>value=%{y}<extra></extra>",
         "legendgroup": "KNN_SH",
         "line": {
          "color": "#FECB52",
          "dash": "solid"
         },
         "marker": {
          "symbol": "circle"
         },
         "mode": "lines",
         "name": "KNN_SH",
         "orientation": "v",
         "showlegend": true,
         "type": "scatter",
         "x": [
          "roc_auc",
          "accuracy",
          "precision",
          "kappa",
          "sensibilidad",
          "especificidad"
         ],
         "xaxis": "x",
         "y": [
          0.4869574327299108,
          0.8246838545240662,
          0.06728899260987943,
          -0.02448472588480133,
          0.07702582368655388,
          0.8968890417732677
         ],
         "yaxis": "y"
        }
       ],
       "layout": {
        "legend": {
         "title": {
          "text": "variable"
         },
         "tracegroupgap": 0
        },
        "margin": {
         "t": 60
        },
        "template": {
         "data": {
          "bar": [
           {
            "error_x": {
             "color": "#2a3f5f"
            },
            "error_y": {
             "color": "#2a3f5f"
            },
            "marker": {
             "line": {
              "color": "#E5ECF6",
              "width": 0.5
             },
             "pattern": {
              "fillmode": "overlay",
              "size": 10,
              "solidity": 0.2
             }
            },
            "type": "bar"
           }
          ],
          "barpolar": [
           {
            "marker": {
             "line": {
              "color": "#E5ECF6",
              "width": 0.5
             },
             "pattern": {
              "fillmode": "overlay",
              "size": 10,
              "solidity": 0.2
             }
            },
            "type": "barpolar"
           }
          ],
          "carpet": [
           {
            "aaxis": {
             "endlinecolor": "#2a3f5f",
             "gridcolor": "white",
             "linecolor": "white",
             "minorgridcolor": "white",
             "startlinecolor": "#2a3f5f"
            },
            "baxis": {
             "endlinecolor": "#2a3f5f",
             "gridcolor": "white",
             "linecolor": "white",
             "minorgridcolor": "white",
             "startlinecolor": "#2a3f5f"
            },
            "type": "carpet"
           }
          ],
          "choropleth": [
           {
            "colorbar": {
             "outlinewidth": 0,
             "ticks": ""
            },
            "type": "choropleth"
           }
          ],
          "contour": [
           {
            "colorbar": {
             "outlinewidth": 0,
             "ticks": ""
            },
            "colorscale": [
             [
              0,
              "#0d0887"
             ],
             [
              0.1111111111111111,
              "#46039f"
             ],
             [
              0.2222222222222222,
              "#7201a8"
             ],
             [
              0.3333333333333333,
              "#9c179e"
             ],
             [
              0.4444444444444444,
              "#bd3786"
             ],
             [
              0.5555555555555556,
              "#d8576b"
             ],
             [
              0.6666666666666666,
              "#ed7953"
             ],
             [
              0.7777777777777778,
              "#fb9f3a"
             ],
             [
              0.8888888888888888,
              "#fdca26"
             ],
             [
              1,
              "#f0f921"
             ]
            ],
            "type": "contour"
           }
          ],
          "contourcarpet": [
           {
            "colorbar": {
             "outlinewidth": 0,
             "ticks": ""
            },
            "type": "contourcarpet"
           }
          ],
          "heatmap": [
           {
            "colorbar": {
             "outlinewidth": 0,
             "ticks": ""
            },
            "colorscale": [
             [
              0,
              "#0d0887"
             ],
             [
              0.1111111111111111,
              "#46039f"
             ],
             [
              0.2222222222222222,
              "#7201a8"
             ],
             [
              0.3333333333333333,
              "#9c179e"
             ],
             [
              0.4444444444444444,
              "#bd3786"
             ],
             [
              0.5555555555555556,
              "#d8576b"
             ],
             [
              0.6666666666666666,
              "#ed7953"
             ],
             [
              0.7777777777777778,
              "#fb9f3a"
             ],
             [
              0.8888888888888888,
              "#fdca26"
             ],
             [
              1,
              "#f0f921"
             ]
            ],
            "type": "heatmap"
           }
          ],
          "heatmapgl": [
           {
            "colorbar": {
             "outlinewidth": 0,
             "ticks": ""
            },
            "colorscale": [
             [
              0,
              "#0d0887"
             ],
             [
              0.1111111111111111,
              "#46039f"
             ],
             [
              0.2222222222222222,
              "#7201a8"
             ],
             [
              0.3333333333333333,
              "#9c179e"
             ],
             [
              0.4444444444444444,
              "#bd3786"
             ],
             [
              0.5555555555555556,
              "#d8576b"
             ],
             [
              0.6666666666666666,
              "#ed7953"
             ],
             [
              0.7777777777777778,
              "#fb9f3a"
             ],
             [
              0.8888888888888888,
              "#fdca26"
             ],
             [
              1,
              "#f0f921"
             ]
            ],
            "type": "heatmapgl"
           }
          ],
          "histogram": [
           {
            "marker": {
             "pattern": {
              "fillmode": "overlay",
              "size": 10,
              "solidity": 0.2
             }
            },
            "type": "histogram"
           }
          ],
          "histogram2d": [
           {
            "colorbar": {
             "outlinewidth": 0,
             "ticks": ""
            },
            "colorscale": [
             [
              0,
              "#0d0887"
             ],
             [
              0.1111111111111111,
              "#46039f"
             ],
             [
              0.2222222222222222,
              "#7201a8"
             ],
             [
              0.3333333333333333,
              "#9c179e"
             ],
             [
              0.4444444444444444,
              "#bd3786"
             ],
             [
              0.5555555555555556,
              "#d8576b"
             ],
             [
              0.6666666666666666,
              "#ed7953"
             ],
             [
              0.7777777777777778,
              "#fb9f3a"
             ],
             [
              0.8888888888888888,
              "#fdca26"
             ],
             [
              1,
              "#f0f921"
             ]
            ],
            "type": "histogram2d"
           }
          ],
          "histogram2dcontour": [
           {
            "colorbar": {
             "outlinewidth": 0,
             "ticks": ""
            },
            "colorscale": [
             [
              0,
              "#0d0887"
             ],
             [
              0.1111111111111111,
              "#46039f"
             ],
             [
              0.2222222222222222,
              "#7201a8"
             ],
             [
              0.3333333333333333,
              "#9c179e"
             ],
             [
              0.4444444444444444,
              "#bd3786"
             ],
             [
              0.5555555555555556,
              "#d8576b"
             ],
             [
              0.6666666666666666,
              "#ed7953"
             ],
             [
              0.7777777777777778,
              "#fb9f3a"
             ],
             [
              0.8888888888888888,
              "#fdca26"
             ],
             [
              1,
              "#f0f921"
             ]
            ],
            "type": "histogram2dcontour"
           }
          ],
          "mesh3d": [
           {
            "colorbar": {
             "outlinewidth": 0,
             "ticks": ""
            },
            "type": "mesh3d"
           }
          ],
          "parcoords": [
           {
            "line": {
             "colorbar": {
              "outlinewidth": 0,
              "ticks": ""
             }
            },
            "type": "parcoords"
           }
          ],
          "pie": [
           {
            "automargin": true,
            "type": "pie"
           }
          ],
          "scatter": [
           {
            "fillpattern": {
             "fillmode": "overlay",
             "size": 10,
             "solidity": 0.2
            },
            "type": "scatter"
           }
          ],
          "scatter3d": [
           {
            "line": {
             "colorbar": {
              "outlinewidth": 0,
              "ticks": ""
             }
            },
            "marker": {
             "colorbar": {
              "outlinewidth": 0,
              "ticks": ""
             }
            },
            "type": "scatter3d"
           }
          ],
          "scattercarpet": [
           {
            "marker": {
             "colorbar": {
              "outlinewidth": 0,
              "ticks": ""
             }
            },
            "type": "scattercarpet"
           }
          ],
          "scattergeo": [
           {
            "marker": {
             "colorbar": {
              "outlinewidth": 0,
              "ticks": ""
             }
            },
            "type": "scattergeo"
           }
          ],
          "scattergl": [
           {
            "marker": {
             "colorbar": {
              "outlinewidth": 0,
              "ticks": ""
             }
            },
            "type": "scattergl"
           }
          ],
          "scattermapbox": [
           {
            "marker": {
             "colorbar": {
              "outlinewidth": 0,
              "ticks": ""
             }
            },
            "type": "scattermapbox"
           }
          ],
          "scatterpolar": [
           {
            "marker": {
             "colorbar": {
              "outlinewidth": 0,
              "ticks": ""
             }
            },
            "type": "scatterpolar"
           }
          ],
          "scatterpolargl": [
           {
            "marker": {
             "colorbar": {
              "outlinewidth": 0,
              "ticks": ""
             }
            },
            "type": "scatterpolargl"
           }
          ],
          "scatterternary": [
           {
            "marker": {
             "colorbar": {
              "outlinewidth": 0,
              "ticks": ""
             }
            },
            "type": "scatterternary"
           }
          ],
          "surface": [
           {
            "colorbar": {
             "outlinewidth": 0,
             "ticks": ""
            },
            "colorscale": [
             [
              0,
              "#0d0887"
             ],
             [
              0.1111111111111111,
              "#46039f"
             ],
             [
              0.2222222222222222,
              "#7201a8"
             ],
             [
              0.3333333333333333,
              "#9c179e"
             ],
             [
              0.4444444444444444,
              "#bd3786"
             ],
             [
              0.5555555555555556,
              "#d8576b"
             ],
             [
              0.6666666666666666,
              "#ed7953"
             ],
             [
              0.7777777777777778,
              "#fb9f3a"
             ],
             [
              0.8888888888888888,
              "#fdca26"
             ],
             [
              1,
              "#f0f921"
             ]
            ],
            "type": "surface"
           }
          ],
          "table": [
           {
            "cells": {
             "fill": {
              "color": "#EBF0F8"
             },
             "line": {
              "color": "white"
             }
            },
            "header": {
             "fill": {
              "color": "#C8D4E3"
             },
             "line": {
              "color": "white"
             }
            },
            "type": "table"
           }
          ]
         },
         "layout": {
          "annotationdefaults": {
           "arrowcolor": "#2a3f5f",
           "arrowhead": 0,
           "arrowwidth": 1
          },
          "autotypenumbers": "strict",
          "coloraxis": {
           "colorbar": {
            "outlinewidth": 0,
            "ticks": ""
           }
          },
          "colorscale": {
           "diverging": [
            [
             0,
             "#8e0152"
            ],
            [
             0.1,
             "#c51b7d"
            ],
            [
             0.2,
             "#de77ae"
            ],
            [
             0.3,
             "#f1b6da"
            ],
            [
             0.4,
             "#fde0ef"
            ],
            [
             0.5,
             "#f7f7f7"
            ],
            [
             0.6,
             "#e6f5d0"
            ],
            [
             0.7,
             "#b8e186"
            ],
            [
             0.8,
             "#7fbc41"
            ],
            [
             0.9,
             "#4d9221"
            ],
            [
             1,
             "#276419"
            ]
           ],
           "sequential": [
            [
             0,
             "#0d0887"
            ],
            [
             0.1111111111111111,
             "#46039f"
            ],
            [
             0.2222222222222222,
             "#7201a8"
            ],
            [
             0.3333333333333333,
             "#9c179e"
            ],
            [
             0.4444444444444444,
             "#bd3786"
            ],
            [
             0.5555555555555556,
             "#d8576b"
            ],
            [
             0.6666666666666666,
             "#ed7953"
            ],
            [
             0.7777777777777778,
             "#fb9f3a"
            ],
            [
             0.8888888888888888,
             "#fdca26"
            ],
            [
             1,
             "#f0f921"
            ]
           ],
           "sequentialminus": [
            [
             0,
             "#0d0887"
            ],
            [
             0.1111111111111111,
             "#46039f"
            ],
            [
             0.2222222222222222,
             "#7201a8"
            ],
            [
             0.3333333333333333,
             "#9c179e"
            ],
            [
             0.4444444444444444,
             "#bd3786"
            ],
            [
             0.5555555555555556,
             "#d8576b"
            ],
            [
             0.6666666666666666,
             "#ed7953"
            ],
            [
             0.7777777777777778,
             "#fb9f3a"
            ],
            [
             0.8888888888888888,
             "#fdca26"
            ],
            [
             1,
             "#f0f921"
            ]
           ]
          },
          "colorway": [
           "#636efa",
           "#EF553B",
           "#00cc96",
           "#ab63fa",
           "#FFA15A",
           "#19d3f3",
           "#FF6692",
           "#B6E880",
           "#FF97FF",
           "#FECB52"
          ],
          "font": {
           "color": "#2a3f5f"
          },
          "geo": {
           "bgcolor": "white",
           "lakecolor": "white",
           "landcolor": "#E5ECF6",
           "showlakes": true,
           "showland": true,
           "subunitcolor": "white"
          },
          "hoverlabel": {
           "align": "left"
          },
          "hovermode": "closest",
          "mapbox": {
           "style": "light"
          },
          "paper_bgcolor": "white",
          "plot_bgcolor": "#E5ECF6",
          "polar": {
           "angularaxis": {
            "gridcolor": "white",
            "linecolor": "white",
            "ticks": ""
           },
           "bgcolor": "#E5ECF6",
           "radialaxis": {
            "gridcolor": "white",
            "linecolor": "white",
            "ticks": ""
           }
          },
          "scene": {
           "xaxis": {
            "backgroundcolor": "#E5ECF6",
            "gridcolor": "white",
            "gridwidth": 2,
            "linecolor": "white",
            "showbackground": true,
            "ticks": "",
            "zerolinecolor": "white"
           },
           "yaxis": {
            "backgroundcolor": "#E5ECF6",
            "gridcolor": "white",
            "gridwidth": 2,
            "linecolor": "white",
            "showbackground": true,
            "ticks": "",
            "zerolinecolor": "white"
           },
           "zaxis": {
            "backgroundcolor": "#E5ECF6",
            "gridcolor": "white",
            "gridwidth": 2,
            "linecolor": "white",
            "showbackground": true,
            "ticks": "",
            "zerolinecolor": "white"
           }
          },
          "shapedefaults": {
           "line": {
            "color": "#2a3f5f"
           }
          },
          "ternary": {
           "aaxis": {
            "gridcolor": "white",
            "linecolor": "white",
            "ticks": ""
           },
           "baxis": {
            "gridcolor": "white",
            "linecolor": "white",
            "ticks": ""
           },
           "bgcolor": "#E5ECF6",
           "caxis": {
            "gridcolor": "white",
            "linecolor": "white",
            "ticks": ""
           }
          },
          "title": {
           "x": 0.05
          },
          "xaxis": {
           "automargin": true,
           "gridcolor": "white",
           "linecolor": "white",
           "ticks": "",
           "title": {
            "standoff": 15
           },
           "zerolinecolor": "white",
           "zerolinewidth": 2
          },
          "yaxis": {
           "automargin": true,
           "gridcolor": "white",
           "linecolor": "white",
           "ticks": "",
           "title": {
            "standoff": 15
           },
           "zerolinecolor": "white",
           "zerolinewidth": 2
          }
         }
        },
        "xaxis": {
         "anchor": "y",
         "domain": [
          0,
          1
         ],
         "title": {
          "text": "index"
         }
        },
        "yaxis": {
         "anchor": "x",
         "domain": [
          0,
          1
         ],
         "title": {
          "text": "value"
         }
        }
       }
      }
     },
     "metadata": {},
     "output_type": "display_data"
    }
   ],
   "source": [
    "px.line(resumen_curvacola.T)"
   ]
  },
  {
   "cell_type": "markdown",
   "metadata": {},
   "source": [
    "# Total"
   ]
  },
  {
   "cell_type": "code",
   "execution_count": 148,
   "metadata": {},
   "outputs": [
    {
     "data": {
      "application/vnd.plotly.v1+json": {
       "config": {
        "plotlyServerURL": "https://plot.ly"
       },
       "data": [
        {
         "hovertemplate": "variable=HBOS_general_general<br>index=%{x}<br>value=%{y}<extra></extra>",
         "legendgroup": "HBOS_general_general",
         "line": {
          "color": "#636efa",
          "dash": "solid"
         },
         "marker": {
          "symbol": "circle"
         },
         "mode": "lines",
         "name": "HBOS_general_general",
         "orientation": "v",
         "showlegend": true,
         "type": "scatter",
         "x": [
          "roc_auc",
          "accuracy",
          "precision",
          "kappa",
          "sensibilidad",
          "especificidad"
         ],
         "xaxis": "x",
         "y": [
          0.5645355715904007,
          0.801361763124888,
          0.34753922967189727,
          0.15372289146053164,
          0.2078711604095563,
          0.9211999827712453
         ],
         "yaxis": "y"
        },
        {
         "hovertemplate": "variable=IForest_general_general<br>index=%{x}<br>value=%{y}<extra></extra>",
         "legendgroup": "IForest_general_general",
         "line": {
          "color": "#EF553B",
          "dash": "solid"
         },
         "marker": {
          "symbol": "circle"
         },
         "mode": "lines",
         "name": "IForest_general_general",
         "orientation": "v",
         "showlegend": true,
         "type": "scatter",
         "x": [
          "roc_auc",
          "accuracy",
          "precision",
          "kappa",
          "sensibilidad",
          "especificidad"
         ],
         "xaxis": "x",
         "y": [
          0.6061310543380519,
          0.8257480738218957,
          0.46834754217304553,
          0.25402602375813965,
          0.2753839590443686,
          0.9368781496317353
         ],
         "yaxis": "y"
        },
        {
         "hovertemplate": "variable=KNN_general_general<br>index=%{x}<br>value=%{y}<extra></extra>",
         "legendgroup": "KNN_general_general",
         "line": {
          "color": "#00cc96",
          "dash": "solid"
         },
         "marker": {
          "symbol": "circle"
         },
         "mode": "lines",
         "name": "KNN_general_general",
         "orientation": "v",
         "showlegend": true,
         "type": "scatter",
         "x": [
          "roc_auc",
          "accuracy",
          "precision",
          "kappa",
          "sensibilidad",
          "especificidad"
         ],
         "xaxis": "x",
         "y": [
          0.5321713943023978,
          0.7823508331840172,
          0.25628847845206687,
          0.07633391129787725,
          0.15539675767918087,
          0.9089460309256149
         ],
         "yaxis": "y"
        },
        {
         "hovertemplate": "variable=LODA_general_general<br>index=%{x}<br>value=%{y}<extra></extra>",
         "legendgroup": "LODA_general_general",
         "line": {
          "color": "#ab63fa",
          "dash": "solid"
         },
         "marker": {
          "symbol": "circle"
         },
         "mode": "lines",
         "name": "LODA_general_general",
         "orientation": "v",
         "showlegend": true,
         "type": "scatter",
         "x": [
          "roc_auc",
          "accuracy",
          "precision",
          "kappa",
          "sensibilidad",
          "especificidad"
         ],
         "xaxis": "x",
         "y": [
          0.6108300336666332,
          0.8281849130980111,
          0.48073792729245796,
          0.26505708552996743,
          0.2834897610921502,
          0.9381703062411164
         ],
         "yaxis": "y"
        },
        {
         "hovertemplate": "variable=MAD_PyOD_general_general<br>index=%{x}<br>value=%{y}<extra></extra>",
         "legendgroup": "MAD_PyOD_general_general",
         "line": {
          "color": "#FFA15A",
          "dash": "solid"
         },
         "marker": {
          "symbol": "circle"
         },
         "mode": "lines",
         "name": "MAD_PyOD_general_general",
         "orientation": "v",
         "showlegend": true,
         "type": "scatter",
         "x": [
          "roc_auc",
          "accuracy",
          "precision",
          "kappa",
          "sensibilidad",
          "especificidad"
         ],
         "xaxis": "x",
         "y": [
          0.6857145885142711,
          0.8893388281669952,
          0.9094165813715456,
          0.4840832327721213,
          0.3790529010238908,
          0.9923762760046517
         ],
         "yaxis": "y"
        },
        {
         "hovertemplate": "variable=MCD_general_general<br>index=%{x}<br>value=%{y}<extra></extra>",
         "legendgroup": "MCD_general_general",
         "line": {
          "color": "#19d3f3",
          "dash": "solid"
         },
         "marker": {
          "symbol": "circle"
         },
         "mode": "lines",
         "name": "MCD_general_general",
         "orientation": "v",
         "showlegend": true,
         "type": "scatter",
         "x": [
          "roc_auc",
          "accuracy",
          "precision",
          "kappa",
          "sensibilidad",
          "especificidad"
         ],
         "xaxis": "x",
         "y": [
          0.5287163775594881,
          0.7812757570327898,
          0.24781756636379831,
          0.06838470602154778,
          0.14835750853242322,
          0.9090752465865529
         ],
         "yaxis": "y"
        },
        {
         "hovertemplate": "variable=IForestASD_general_general<br>index=%{x}<br>value=%{y}<extra></extra>",
         "legendgroup": "IForestASD_general_general",
         "line": {
          "color": "#FF6692",
          "dash": "solid"
         },
         "marker": {
          "symbol": "circle"
         },
         "mode": "lines",
         "name": "IForestASD_general_general",
         "orientation": "v",
         "showlegend": true,
         "type": "scatter",
         "x": [
          "roc_auc",
          "accuracy",
          "precision",
          "kappa",
          "sensibilidad",
          "especificidad"
         ],
         "xaxis": "x",
         "y": [
          0.6717771993453661,
          0.739096936032969,
          0.33675461242994775,
          0.2690638815137778,
          0.5703924914675768,
          0.7731619072231555
         ],
         "yaxis": "y"
        },
        {
         "hovertemplate": "variable=MAD_PySAD_general_general<br>index=%{x}<br>value=%{y}<extra></extra>",
         "legendgroup": "MAD_PySAD_general_general",
         "line": {
          "color": "#B6E880",
          "dash": "solid"
         },
         "marker": {
          "symbol": "circle"
         },
         "mode": "lines",
         "name": "MAD_PySAD_general_general",
         "orientation": "v",
         "showlegend": true,
         "type": "scatter",
         "x": [
          "roc_auc",
          "accuracy",
          "precision",
          "kappa",
          "sensibilidad",
          "especificidad"
         ],
         "xaxis": "x",
         "y": [
          0.6711817406143344,
          0.889518007525533,
          1,
          0.4641731724021805,
          0.34236348122866894,
          1
         ],
         "yaxis": "y"
        },
        {
         "hovertemplate": "variable=SAD_general_general<br>index=%{x}<br>value=%{y}<extra></extra>",
         "legendgroup": "SAD_general_general",
         "line": {
          "color": "#FF97FF",
          "dash": "solid"
         },
         "marker": {
          "symbol": "circle"
         },
         "mode": "lines",
         "name": "SAD_general_general",
         "orientation": "v",
         "showlegend": true,
         "type": "scatter",
         "x": [
          "roc_auc",
          "accuracy",
          "precision",
          "kappa",
          "sensibilidad",
          "especificidad"
         ],
         "xaxis": "x",
         "y": [
          0.6711817406143344,
          0.889518007525533,
          1,
          0.4641731724021805,
          0.34236348122866894,
          1
         ],
         "yaxis": "y"
        },
        {
         "hovertemplate": "variable=xStream_general_general<br>index=%{x}<br>value=%{y}<extra></extra>",
         "legendgroup": "xStream_general_general",
         "line": {
          "color": "#FECB52",
          "dash": "solid"
         },
         "marker": {
          "symbol": "circle"
         },
         "mode": "lines",
         "name": "xStream_general_general",
         "orientation": "v",
         "showlegend": true,
         "type": "scatter",
         "x": [
          "roc_auc",
          "accuracy",
          "precision",
          "kappa",
          "sensibilidad",
          "especificidad"
         ],
         "xaxis": "x",
         "y": [
          0.6742659537056597,
          0.7672460132592726,
          0.36744424882629106,
          0.29508245159671553,
          0.5342363481228669,
          0.8142955592884524
         ],
         "yaxis": "y"
        },
        {
         "hovertemplate": "variable=HTM_general_general<br>index=%{x}<br>value=%{y}<extra></extra>",
         "legendgroup": "HTM_general_general",
         "line": {
          "color": "#636efa",
          "dash": "solid"
         },
         "marker": {
          "symbol": "circle"
         },
         "mode": "lines",
         "name": "HTM_general_general",
         "orientation": "v",
         "showlegend": true,
         "type": "scatter",
         "x": [
          "roc_auc",
          "accuracy",
          "precision",
          "kappa",
          "sensibilidad",
          "especificidad"
         ],
         "xaxis": "x",
         "y": [
          0.47068227687264297,
          0.7714013359708723,
          0.04734131988230349,
          -0.07678972836152242,
          0.019351374570446736,
          0.9220131791748392
         ],
         "yaxis": "y"
        },
        {
         "hovertemplate": "variable=IForest_NvS_general<br>index=%{x}<br>value=%{y}<extra></extra>",
         "legendgroup": "IForest_NvS_general",
         "line": {
          "color": "#EF553B",
          "dash": "solid"
         },
         "marker": {
          "symbol": "circle"
         },
         "mode": "lines",
         "name": "IForest_NvS_general",
         "orientation": "v",
         "showlegend": true,
         "type": "scatter",
         "x": [
          "roc_auc",
          "accuracy",
          "precision",
          "kappa",
          "sensibilidad",
          "especificidad"
         ],
         "xaxis": "x",
         "y": [
          0.6733468563255623,
          0.8619602221824045,
          0.648542999289268,
          0.4124917851924248,
          0.3892918088737201,
          0.9574019037774045
         ],
         "yaxis": "y"
        },
        {
         "hovertemplate": "variable=MAD_NvS_general<br>index=%{x}<br>value=%{y}<extra></extra>",
         "legendgroup": "MAD_NvS_general",
         "line": {
          "color": "#00cc96",
          "dash": "solid"
         },
         "marker": {
          "symbol": "circle"
         },
         "mode": "lines",
         "name": "MAD_NvS_general",
         "orientation": "v",
         "showlegend": true,
         "type": "scatter",
         "x": [
          "roc_auc",
          "accuracy",
          "precision",
          "kappa",
          "sensibilidad",
          "especificidad"
         ],
         "xaxis": "x",
         "y": [
          0.6716950981546563,
          0.879466045511557,
          0.8247119392007846,
          0.44333501728327385,
          0.35878839590443684,
          0.9846018004048758
         ],
         "yaxis": "y"
        },
        {
         "hovertemplate": "variable=HTM_NvS_general<br>index=%{x}<br>value=%{y}<extra></extra>",
         "legendgroup": "HTM_NvS_general",
         "line": {
          "color": "#ab63fa",
          "dash": "solid"
         },
         "marker": {
          "symbol": "circle"
         },
         "mode": "lines",
         "name": "HTM_NvS_general",
         "orientation": "v",
         "showlegend": true,
         "type": "scatter",
         "x": [
          "roc_auc",
          "accuracy",
          "precision",
          "kappa",
          "sensibilidad",
          "especificidad"
         ],
         "xaxis": "x",
         "y": [
          0.4709184158756714,
          0.7713654998423211,
          0.04873835200502565,
          -0.07611130435818003,
          0.01999570446735395,
          0.9218411272839888
         ],
         "yaxis": "y"
        },
        {
         "hovertemplate": "variable=MAD_PyOD_PvP_general<br>index=%{x}<br>value=%{y}<extra></extra>",
         "legendgroup": "MAD_PyOD_PvP_general",
         "line": {
          "color": "#FFA15A",
          "dash": "solid"
         },
         "marker": {
          "symbol": "circle"
         },
         "mode": "lines",
         "name": "MAD_PyOD_PvP_general",
         "orientation": "v",
         "showlegend": true,
         "type": "scatter",
         "x": [
          "roc_auc",
          "accuracy",
          "precision",
          "kappa",
          "sensibilidad",
          "especificidad"
         ],
         "xaxis": "x",
         "y": [
          0.6573362467128285,
          0.857839096936033,
          0.6380697050938338,
          0.3822519107217681,
          0.3553754266211604,
          0.9592970668044967
         ],
         "yaxis": "y"
        },
        {
         "hovertemplate": "variable=MAD_PySAD_PvP_general<br>index=%{x}<br>value=%{y}<extra></extra>",
         "legendgroup": "MAD_PySAD_PvP_general",
         "line": {
          "color": "#19d3f3",
          "dash": "solid"
         },
         "marker": {
          "symbol": "circle"
         },
         "mode": "lines",
         "name": "MAD_PySAD_PvP_general",
         "orientation": "v",
         "showlegend": true,
         "type": "scatter",
         "x": [
          "roc_auc",
          "accuracy",
          "precision",
          "kappa",
          "sensibilidad",
          "especificidad"
         ],
         "xaxis": "x",
         "y": [
          0.6605354161714503,
          0.8558681239921161,
          0.6202600216684724,
          0.3837549033031581,
          0.36636092150170646,
          0.9547099108411939
         ],
         "yaxis": "y"
        },
        {
         "hovertemplate": "variable=SAD_PvP_general<br>index=%{x}<br>value=%{y}<extra></extra>",
         "legendgroup": "SAD_PvP_general",
         "line": {
          "color": "#FF6692",
          "dash": "solid"
         },
         "marker": {
          "symbol": "circle"
         },
         "mode": "lines",
         "name": "SAD_PvP_general",
         "orientation": "v",
         "showlegend": true,
         "type": "scatter",
         "x": [
          "roc_auc",
          "accuracy",
          "precision",
          "kappa",
          "sensibilidad",
          "especificidad"
         ],
         "xaxis": "x",
         "y": [
          0.6601728906278368,
          0.8557606163769934,
          0.6198915009041591,
          0.38304417723957795,
          0.3656143344709898,
          0.9547314467846837
         ],
         "yaxis": "y"
        },
        {
         "hovertemplate": "variable=HBOS_SH_general<br>index=%{x}<br>value=%{y}<extra></extra>",
         "legendgroup": "HBOS_SH_general",
         "line": {
          "color": "#B6E880",
          "dash": "solid"
         },
         "marker": {
          "symbol": "circle"
         },
         "mode": "lines",
         "name": "HBOS_SH_general",
         "orientation": "v",
         "showlegend": true,
         "type": "scatter",
         "x": [
          "roc_auc",
          "accuracy",
          "precision",
          "kappa",
          "sensibilidad",
          "especificidad"
         ],
         "xaxis": "x",
         "y": [
          0.6929718500411828,
          0.8805232037269306,
          0.7713426853707415,
          0.4745209779953228,
          0.41051621160409557,
          0.9754274884782702
         ],
         "yaxis": "y"
        },
        {
         "hovertemplate": "variable=IForest_SH_general<br>index=%{x}<br>value=%{y}<extra></extra>",
         "legendgroup": "IForest_SH_general",
         "line": {
          "color": "#FF97FF",
          "dash": "solid"
         },
         "marker": {
          "symbol": "circle"
         },
         "mode": "lines",
         "name": "IForest_SH_general",
         "orientation": "v",
         "showlegend": true,
         "type": "scatter",
         "x": [
          "roc_auc",
          "accuracy",
          "precision",
          "kappa",
          "sensibilidad",
          "especificidad"
         ],
         "xaxis": "x",
         "y": [
          0.6808850061836823,
          0.8671385056441498,
          0.6767622138092663,
          0.43220209291568246,
          0.4003839590443686,
          0.9613860533229961
         ],
         "yaxis": "y"
        },
        {
         "hovertemplate": "variable=KNN_SH_general<br>index=%{x}<br>value=%{y}<extra></extra>",
         "legendgroup": "KNN_SH_general",
         "line": {
          "color": "#FECB52",
          "dash": "solid"
         },
         "marker": {
          "symbol": "circle"
         },
         "mode": "lines",
         "name": "KNN_SH_general",
         "orientation": "v",
         "showlegend": true,
         "type": "scatter",
         "x": [
          "roc_auc",
          "accuracy",
          "precision",
          "kappa",
          "sensibilidad",
          "especificidad"
         ],
         "xaxis": "x",
         "y": [
          0.5510339453326613,
          0.7954667622289913,
          0.31358566465533005,
          0.12242475826280574,
          0.18291382252559726,
          0.9191540681397252
         ],
         "yaxis": "y"
        },
        {
         "hovertemplate": "variable=HBOS_general_thresholds<br>index=%{x}<br>value=%{y}<extra></extra>",
         "legendgroup": "HBOS_general_thresholds",
         "line": {
          "color": "#636efa",
          "dash": "solid"
         },
         "marker": {
          "symbol": "circle"
         },
         "mode": "lines",
         "name": "HBOS_general_thresholds",
         "orientation": "v",
         "showlegend": true,
         "type": "scatter",
         "x": [
          "roc_auc",
          "accuracy",
          "precision",
          "kappa",
          "sensibilidad",
          "especificidad"
         ],
         "xaxis": "x",
         "y": [
          0.6257215775124908,
          0.8712693559522635,
          0.27270947533281126,
          0.22904395304351532,
          0.3313510941960038,
          0.9200920608289777
         ],
         "yaxis": "y"
        },
        {
         "hovertemplate": "variable=IForest_general_thresholds<br>index=%{x}<br>value=%{y}<extra></extra>",
         "legendgroup": "IForest_general_thresholds",
         "line": {
          "color": "#EF553B",
          "dash": "solid"
         },
         "marker": {
          "symbol": "circle"
         },
         "mode": "lines",
         "name": "IForest_general_thresholds",
         "orientation": "v",
         "showlegend": true,
         "type": "scatter",
         "x": [
          "roc_auc",
          "accuracy",
          "precision",
          "kappa",
          "sensibilidad",
          "especificidad"
         ],
         "xaxis": "x",
         "y": [
          0.7177243041280246,
          0.8995364434362363,
          0.4126890591239442,
          0.3973233340514313,
          0.49976213130352043,
          0.9356864769525285
         ],
         "yaxis": "y"
        },
        {
         "hovertemplate": "variable=KNN_general_thresholds<br>index=%{x}<br>value=%{y}<extra></extra>",
         "legendgroup": "KNN_general_thresholds",
         "line": {
          "color": "#00cc96",
          "dash": "solid"
         },
         "marker": {
          "symbol": "circle"
         },
         "mode": "lines",
         "name": "KNN_general_thresholds",
         "orientation": "v",
         "showlegend": true,
         "type": "scatter",
         "x": [
          "roc_auc",
          "accuracy",
          "precision",
          "kappa",
          "sensibilidad",
          "especificidad"
         ],
         "xaxis": "x",
         "y": [
          0.5458754680345834,
          0.8472433178814479,
          0.15239591516103693,
          0.08370951038856644,
          0.1845861084681256,
          0.9071648276010411
         ],
         "yaxis": "y"
        },
        {
         "hovertemplate": "variable=LODA_general_thresholds<br>index=%{x}<br>value=%{y}<extra></extra>",
         "legendgroup": "LODA_general_thresholds",
         "line": {
          "color": "#ab63fa",
          "dash": "solid"
         },
         "marker": {
          "symbol": "circle"
         },
         "mode": "lines",
         "name": "LODA_general_thresholds",
         "orientation": "v",
         "showlegend": true,
         "type": "scatter",
         "x": [
          "roc_auc",
          "accuracy",
          "precision",
          "kappa",
          "sensibilidad",
          "especificidad"
         ],
         "xaxis": "x",
         "y": [
          0.6951495384730244,
          0.8920603609823454,
          0.3763650546021841,
          0.35483091317571447,
          0.45908658420551857,
          0.9312124927405304
         ],
         "yaxis": "y"
        },
        {
         "hovertemplate": "variable=MAD_PyOD_general_thresholds<br>index=%{x}<br>value=%{y}<extra></extra>",
         "legendgroup": "MAD_PyOD_general_thresholds",
         "line": {
          "color": "#FFA15A",
          "dash": "solid"
         },
         "marker": {
          "symbol": "circle"
         },
         "mode": "lines",
         "name": "MAD_PyOD_general_thresholds",
         "orientation": "v",
         "showlegend": true,
         "type": "scatter",
         "x": [
          "roc_auc",
          "accuracy",
          "precision",
          "kappa",
          "sensibilidad",
          "especificidad"
         ],
         "xaxis": "x",
         "y": [
          0.8608474188583322,
          0.9699773153170924,
          0.8880208333333334,
          0.7852347153966168,
          0.7300190294957184,
          0.991675808220946
         ],
         "yaxis": "y"
        },
        {
         "hovertemplate": "variable=MCD_general_thresholds<br>index=%{x}<br>value=%{y}<extra></extra>",
         "legendgroup": "MCD_general_thresholds",
         "line": {
          "color": "#19d3f3",
          "dash": "solid"
         },
         "marker": {
          "symbol": "circle"
         },
         "mode": "lines",
         "name": "MCD_general_thresholds",
         "orientation": "v",
         "showlegend": true,
         "type": "scatter",
         "x": [
          "roc_auc",
          "accuracy",
          "precision",
          "kappa",
          "sensibilidad",
          "especificidad"
         ],
         "xaxis": "x",
         "y": [
          0.5582383214405637,
          0.8512673833711412,
          0.17139479905437352,
          0.10643623673877989,
          0.20694576593720265,
          0.9095308769439246
         ],
         "yaxis": "y"
        },
        {
         "hovertemplate": "variable=IForestASD_general_thresholds<br>index=%{x}<br>value=%{y}<extra></extra>",
         "legendgroup": "IForestASD_general_thresholds",
         "line": {
          "color": "#FF6692",
          "dash": "solid"
         },
         "marker": {
          "symbol": "circle"
         },
         "mode": "lines",
         "name": "IForestASD_general_thresholds",
         "orientation": "v",
         "showlegend": true,
         "type": "scatter",
         "x": [
          "roc_auc",
          "accuracy",
          "precision",
          "kappa",
          "sensibilidad",
          "especificidad"
         ],
         "xaxis": "x",
         "y": [
          0.8275660010804706,
          0.7859157707860736,
          0.26299279960076993,
          0.31761696726156796,
          0.8774976213130352,
          0.777634380847906
         ],
         "yaxis": "y"
        },
        {
         "hovertemplate": "variable=MAD_PySAD_general_thresholds<br>index=%{x}<br>value=%{y}<extra></extra>",
         "legendgroup": "MAD_PySAD_general_thresholds",
         "line": {
          "color": "#B6E880",
          "dash": "solid"
         },
         "marker": {
          "symbol": "circle"
         },
         "mode": "lines",
         "name": "MAD_PySAD_general_thresholds",
         "orientation": "v",
         "showlegend": true,
         "type": "scatter",
         "x": [
          "roc_auc",
          "accuracy",
          "precision",
          "kappa",
          "sensibilidad",
          "especificidad"
         ],
         "xaxis": "x",
         "y": [
          0.8534001271048012,
          0.9747706874445211,
          0.9831516352824579,
          0.80992599626279,
          0.7078972407231209,
          0.9989030134864813
         ],
         "yaxis": "y"
        },
        {
         "hovertemplate": "variable=SAD_general_thresholds<br>index=%{x}<br>value=%{y}<extra></extra>",
         "legendgroup": "SAD_general_thresholds",
         "line": {
          "color": "#FF97FF",
          "dash": "solid"
         },
         "marker": {
          "symbol": "circle"
         },
         "mode": "lines",
         "name": "SAD_general_thresholds",
         "orientation": "v",
         "showlegend": true,
         "type": "scatter",
         "x": [
          "roc_auc",
          "accuracy",
          "precision",
          "kappa",
          "sensibilidad",
          "especificidad"
         ],
         "xaxis": "x",
         "y": [
          0.8459425589692416,
          0.9388697110168656,
          0.6089528692565569,
          0.6325565657338967,
          0.7345385347288297,
          0.9573465832096535
         ],
         "yaxis": "y"
        },
        {
         "hovertemplate": "variable=xStream_general_thresholds<br>index=%{x}<br>value=%{y}<extra></extra>",
         "legendgroup": "xStream_general_thresholds",
         "line": {
          "color": "#FECB52",
          "dash": "solid"
         },
         "marker": {
          "symbol": "circle"
         },
         "mode": "lines",
         "name": "xStream_general_thresholds",
         "orientation": "v",
         "showlegend": true,
         "type": "scatter",
         "x": [
          "roc_auc",
          "accuracy",
          "precision",
          "kappa",
          "sensibilidad",
          "especificidad"
         ],
         "xaxis": "x",
         "y": [
          0.8224632747125729,
          0.8017555971989349,
          0.2746337702390131,
          0.3310197742161579,
          0.8472882968601332,
          0.7976382525650125
         ],
         "yaxis": "y"
        },
        {
         "hovertemplate": "variable=HTM_general_thresholds<br>index=%{x}<br>value=%{y}<extra></extra>",
         "legendgroup": "HTM_general_thresholds",
         "line": {
          "color": "#636efa",
          "dash": "solid"
         },
         "marker": {
          "symbol": "circle"
         },
         "mode": "lines",
         "name": "HTM_general_thresholds",
         "orientation": "v",
         "showlegend": true,
         "type": "scatter",
         "x": [
          "roc_auc",
          "accuracy",
          "precision",
          "kappa",
          "sensibilidad",
          "especificidad"
         ],
         "xaxis": "x",
         "y": [
          0.4979569649720438,
          0.9129525665658004,
          0.011743450767841012,
          -0.0071795678799051466,
          0.0006195491588428728,
          0.9952943807852448
         ],
         "yaxis": "y"
        },
        {
         "hovertemplate": "variable=IForest_NvS_thresholds<br>index=%{x}<br>value=%{y}<extra></extra>",
         "legendgroup": "IForest_NvS_thresholds",
         "line": {
          "color": "#EF553B",
          "dash": "solid"
         },
         "marker": {
          "symbol": "circle"
         },
         "mode": "lines",
         "name": "IForest_NvS_thresholds",
         "orientation": "v",
         "showlegend": true,
         "type": "scatter",
         "x": [
          "roc_auc",
          "accuracy",
          "precision",
          "kappa",
          "sensibilidad",
          "especificidad"
         ],
         "xaxis": "x",
         "y": [
          0.8435480493948257,
          0.936660420159779,
          0.5962022863786088,
          0.6226359349837542,
          0.7319219790675547,
          0.9551741197220968
         ],
         "yaxis": "y"
        },
        {
         "hovertemplate": "variable=MAD_NvS_thresholds<br>index=%{x}<br>value=%{y}<extra></extra>",
         "legendgroup": "MAD_NvS_thresholds",
         "line": {
          "color": "#00cc96",
          "dash": "solid"
         },
         "marker": {
          "symbol": "circle"
         },
         "mode": "lines",
         "name": "MAD_NvS_thresholds",
         "orientation": "v",
         "showlegend": true,
         "type": "scatter",
         "x": [
          "roc_auc",
          "accuracy",
          "precision",
          "kappa",
          "sensibilidad",
          "especificidad"
         ],
         "xaxis": "x",
         "y": [
          0.8475772583875487,
          0.9351218068843081,
          0.5858510039407018,
          0.6197318902691553,
          0.7426260704091342,
          0.9525284463659633
         ],
         "yaxis": "y"
        },
        {
         "hovertemplate": "variable=MAD_PyOD_PvP_thresholds<br>index=%{x}<br>value=%{y}<extra></extra>",
         "legendgroup": "MAD_PyOD_PvP_thresholds",
         "line": {
          "color": "#ab63fa",
          "dash": "solid"
         },
         "marker": {
          "symbol": "circle"
         },
         "mode": "lines",
         "name": "MAD_PyOD_PvP_thresholds",
         "orientation": "v",
         "showlegend": true,
         "type": "scatter",
         "x": [
          "roc_auc",
          "accuracy",
          "precision",
          "kappa",
          "sensibilidad",
          "especificidad"
         ],
         "xaxis": "x",
         "y": [
          0.8461442953232345,
          0.9197948515632706,
          0.5110683349374399,
          0.5676336594935318,
          0.7578496669838249,
          0.9344389236626444
         ],
         "yaxis": "y"
        },
        {
         "hovertemplate": "variable=SAD_PvP_thresholds<br>index=%{x}<br>value=%{y}<extra></extra>",
         "legendgroup": "SAD_PvP_thresholds",
         "line": {
          "color": "#FFA15A",
          "dash": "solid"
         },
         "marker": {
          "symbol": "circle"
         },
         "mode": "lines",
         "name": "SAD_PvP_thresholds",
         "orientation": "v",
         "showlegend": true,
         "type": "scatter",
         "x": [
          "roc_auc",
          "accuracy",
          "precision",
          "kappa",
          "sensibilidad",
          "especificidad"
         ],
         "xaxis": "x",
         "y": [
          0.8232931418071546,
          0.9310582897721669,
          0.5691437487809635,
          0.5878860117510725,
          0.6941008563273073,
          0.9524854272870018
         ],
         "yaxis": "y"
        },
        {
         "hovertemplate": "variable=HBOS_SH_thresholds<br>index=%{x}<br>value=%{y}<extra></extra>",
         "legendgroup": "HBOS_SH_thresholds",
         "line": {
          "color": "#19d3f3",
          "dash": "solid"
         },
         "marker": {
          "symbol": "circle"
         },
         "mode": "lines",
         "name": "HBOS_SH_thresholds",
         "orientation": "v",
         "showlegend": true,
         "type": "scatter",
         "x": [
          "roc_auc",
          "accuracy",
          "precision",
          "kappa",
          "sensibilidad",
          "especificidad"
         ],
         "xaxis": "x",
         "y": [
          0.8809200504948207,
          0.9548081664858468,
          0.7014108233312276,
          0.7194243721769993,
          0.7923406279733587,
          0.9694994730162827
         ],
         "yaxis": "y"
        },
        {
         "hovertemplate": "variable=IForest_SH_thresholds<br>index=%{x}<br>value=%{y}<extra></extra>",
         "legendgroup": "IForest_SH_thresholds",
         "line": {
          "color": "#FF6692",
          "dash": "solid"
         },
         "marker": {
          "symbol": "circle"
         },
         "mode": "lines",
         "name": "IForest_SH_thresholds",
         "orientation": "v",
         "showlegend": true,
         "type": "scatter",
         "x": [
          "roc_auc",
          "accuracy",
          "precision",
          "kappa",
          "sensibilidad",
          "especificidad"
         ],
         "xaxis": "x",
         "y": [
          0.8631393334551867,
          0.9434263734096064,
          0.6306729264475743,
          0.661319225471324,
          0.7668886774500476,
          0.9593899894603256
         ],
         "yaxis": "y"
        },
        {
         "hovertemplate": "variable=KNN_SH_thresholds<br>index=%{x}<br>value=%{y}<extra></extra>",
         "legendgroup": "KNN_SH_thresholds",
         "line": {
          "color": "#B6E880",
          "dash": "solid"
         },
         "marker": {
          "symbol": "circle"
         },
         "mode": "lines",
         "name": "KNN_SH_thresholds",
         "orientation": "v",
         "showlegend": true,
         "type": "scatter",
         "x": [
          "roc_auc",
          "accuracy",
          "precision",
          "kappa",
          "sensibilidad",
          "especificidad"
         ],
         "xaxis": "x",
         "y": [
          0.6056121688613049,
          0.8641483381004044,
          0.2404720448829561,
          0.19125825827921716,
          0.2956707897240723,
          0.9155535479985374
         ],
         "yaxis": "y"
        },
        {
         "hovertemplate": "variable=HBOS_general_curvacola<br>index=%{x}<br>value=%{y}<extra></extra>",
         "legendgroup": "HBOS_general_curvacola",
         "line": {
          "color": "#FF97FF",
          "dash": "solid"
         },
         "marker": {
          "symbol": "circle"
         },
         "mode": "lines",
         "name": "HBOS_general_curvacola",
         "orientation": "v",
         "showlegend": true,
         "type": "scatter",
         "x": [
          "roc_auc",
          "accuracy",
          "precision",
          "kappa",
          "sensibilidad",
          "especificidad"
         ],
         "xaxis": "x",
         "y": [
          0.5094290393522438,
          0.8302715420056858,
          0.102803738317757,
          0.01753391657967862,
          0.11999109528049866,
          0.898866983423989
         ],
         "yaxis": "y"
        },
        {
         "hovertemplate": "variable=IForest_general_curvacola<br>index=%{x}<br>value=%{y}<extra></extra>",
         "legendgroup": "IForest_general_curvacola",
         "line": {
          "color": "#FECB52",
          "dash": "solid"
         },
         "marker": {
          "symbol": "circle"
         },
         "mode": "lines",
         "name": "IForest_general_curvacola",
         "orientation": "v",
         "showlegend": true,
         "type": "scatter",
         "x": [
          "roc_auc",
          "accuracy",
          "precision",
          "kappa",
          "sensibilidad",
          "especificidad"
         ],
         "xaxis": "x",
         "y": [
          0.5104256345074508,
          0.831722380158808,
          0.10458148076551324,
          0.01951487312143585,
          0.12043633125556545,
          0.9004149377593361
         ],
         "yaxis": "y"
        },
        {
         "hovertemplate": "variable=KNN_general_curvacola<br>index=%{x}<br>value=%{y}<extra></extra>",
         "legendgroup": "KNN_general_curvacola",
         "line": {
          "color": "#636efa",
          "dash": "solid"
         },
         "marker": {
          "symbol": "circle"
         },
         "mode": "lines",
         "name": "KNN_general_curvacola",
         "orientation": "v",
         "showlegend": true,
         "type": "scatter",
         "x": [
          "roc_auc",
          "accuracy",
          "precision",
          "kappa",
          "sensibilidad",
          "especificidad"
         ],
         "xaxis": "x",
         "y": [
          0.5125339459765546,
          0.8344672090971473,
          0.10842418235877106,
          0.023747320129526406,
          0.1217720391807658,
          0.9032958527723433
         ],
         "yaxis": "y"
        },
        {
         "hovertemplate": "variable=LODA_general_curvacola<br>index=%{x}<br>value=%{y}<extra></extra>",
         "legendgroup": "LODA_general_curvacola",
         "line": {
          "color": "#EF553B",
          "dash": "solid"
         },
         "marker": {
          "symbol": "circle"
         },
         "mode": "lines",
         "name": "LODA_general_curvacola",
         "orientation": "v",
         "showlegend": true,
         "type": "scatter",
         "x": [
          "roc_auc",
          "accuracy",
          "precision",
          "kappa",
          "sensibilidad",
          "especificidad"
         ],
         "xaxis": "x",
         "y": [
          0.5041722051145172,
          0.8294873051661602,
          0.09465972623867361,
          0.007799325354829412,
          0.10930543187889581,
          0.8990389783501387
         ],
         "yaxis": "y"
        },
        {
         "hovertemplate": "variable=MAD_PyOD_general_curvacola<br>index=%{x}<br>value=%{y}<extra></extra>",
         "legendgroup": "MAD_PyOD_general_curvacola",
         "line": {
          "color": "#00cc96",
          "dash": "solid"
         },
         "marker": {
          "symbol": "circle"
         },
         "mode": "lines",
         "name": "MAD_PyOD_general_curvacola",
         "orientation": "v",
         "showlegend": true,
         "type": "scatter",
         "x": [
          "roc_auc",
          "accuracy",
          "precision",
          "kappa",
          "sensibilidad",
          "especificidad"
         ],
         "xaxis": "x",
         "y": [
          0.49862290627430944,
          0.9017155180864621,
          0.06942148760330578,
          -0.004521540105940858,
          0.009349955476402494,
          0.9878958570722164
         ],
         "yaxis": "y"
        },
        {
         "hovertemplate": "variable=MCD_general_curvacola<br>index=%{x}<br>value=%{y}<extra></extra>",
         "legendgroup": "MCD_general_curvacola",
         "line": {
          "color": "#ab63fa",
          "dash": "solid"
         },
         "marker": {
          "symbol": "circle"
         },
         "mode": "lines",
         "name": "MCD_general_curvacola",
         "orientation": "v",
         "showlegend": true,
         "type": "scatter",
         "x": [
          "roc_auc",
          "accuracy",
          "precision",
          "kappa",
          "sensibilidad",
          "especificidad"
         ],
         "xaxis": "x",
         "y": [
          0.489764782292885,
          0.8255857268895206,
          0.07176196032672112,
          -0.019214506986266144,
          0.0821460373998219,
          0.897383527185948
         ],
         "yaxis": "y"
        },
        {
         "hovertemplate": "variable=IForestASD_general_curvacola<br>index=%{x}<br>value=%{y}<extra></extra>",
         "legendgroup": "IForestASD_general_curvacola",
         "line": {
          "color": "#FFA15A",
          "dash": "solid"
         },
         "marker": {
          "symbol": "circle"
         },
         "mode": "lines",
         "name": "IForestASD_general_curvacola",
         "orientation": "v",
         "showlegend": true,
         "type": "scatter",
         "x": [
          "roc_auc",
          "accuracy",
          "precision",
          "kappa",
          "sensibilidad",
          "especificidad"
         ],
         "xaxis": "x",
         "y": [
          0.5077826794715077,
          0.7482207626703264,
          0.09426627793974733,
          0.009832556714325924,
          0.21593944790739092,
          0.7996259110356244
         ],
         "yaxis": "y"
        },
        {
         "hovertemplate": "variable=MAD_PySAD_general_curvacola<br>index=%{x}<br>value=%{y}<extra></extra>",
         "legendgroup": "MAD_PySAD_general_curvacola",
         "line": {
          "color": "#19d3f3",
          "dash": "solid"
         },
         "marker": {
          "symbol": "circle"
         },
         "mode": "lines",
         "name": "MAD_PySAD_general_curvacola",
         "orientation": "v",
         "showlegend": true,
         "type": "scatter",
         "x": [
          "roc_auc",
          "accuracy",
          "precision",
          "kappa",
          "sensibilidad",
          "especificidad"
         ],
         "xaxis": "x",
         "y": [
          0.4992114849152467,
          0.8274090775414175,
          0.08683151236342726,
          -0.0014698686593868082,
          0.10084594835262689,
          0.8975770214778664
         ],
         "yaxis": "y"
        },
        {
         "hovertemplate": "variable=SAD_general_curvacola<br>index=%{x}<br>value=%{y}<extra></extra>",
         "legendgroup": "SAD_general_curvacola",
         "line": {
          "color": "#FF6692",
          "dash": "solid"
         },
         "marker": {
          "symbol": "circle"
         },
         "mode": "lines",
         "name": "SAD_general_curvacola",
         "orientation": "v",
         "showlegend": true,
         "type": "scatter",
         "x": [
          "roc_auc",
          "accuracy",
          "precision",
          "kappa",
          "sensibilidad",
          "especificidad"
         ],
         "xaxis": "x",
         "y": [
          0.49844459124297325,
          0.8949710812665425,
          0.07556427870461237,
          -0.004780302110154011,
          0.01714158504007124,
          0.9797475974458754
         ],
         "yaxis": "y"
        },
        {
         "hovertemplate": "variable=xStream_general_curvacola<br>index=%{x}<br>value=%{y}<extra></extra>",
         "legendgroup": "xStream_general_curvacola",
         "line": {
          "color": "#B6E880",
          "dash": "solid"
         },
         "marker": {
          "symbol": "circle"
         },
         "mode": "lines",
         "name": "xStream_general_curvacola",
         "orientation": "v",
         "showlegend": true,
         "type": "scatter",
         "x": [
          "roc_auc",
          "accuracy",
          "precision",
          "kappa",
          "sensibilidad",
          "especificidad"
         ],
         "xaxis": "x",
         "y": [
          0.5023765150998393,
          0.7290069601019508,
          0.08978192050650721,
          0.0028093717841611854,
          0.22729296527159396,
          0.7774600649280846
         ],
         "yaxis": "y"
        },
        {
         "hovertemplate": "variable=HTM_general_curvacola<br>index=%{x}<br>value=%{y}<extra></extra>",
         "legendgroup": "HTM_general_curvacola",
         "line": {
          "color": "#FF97FF",
          "dash": "solid"
         },
         "marker": {
          "symbol": "circle"
         },
         "mode": "lines",
         "name": "HTM_general_curvacola",
         "orientation": "v",
         "showlegend": true,
         "type": "scatter",
         "x": [
          "roc_auc",
          "accuracy",
          "precision",
          "kappa",
          "sensibilidad",
          "especificidad"
         ],
         "xaxis": "x",
         "y": [
          0.49844022101139895,
          0.9061542985981766,
          0.046753246753246755,
          -0.005384831708727056,
          0.0031947464170031504,
          0.9936856956057947
         ],
         "yaxis": "y"
        },
        {
         "hovertemplate": "variable=IForest_NvS_curvacola<br>index=%{x}<br>value=%{y}<extra></extra>",
         "legendgroup": "IForest_NvS_curvacola",
         "line": {
          "color": "#FECB52",
          "dash": "solid"
         },
         "marker": {
          "symbol": "circle"
         },
         "mode": "lines",
         "name": "IForest_NvS_curvacola",
         "orientation": "v",
         "showlegend": true,
         "type": "scatter",
         "x": [
          "roc_auc",
          "accuracy",
          "precision",
          "kappa",
          "sensibilidad",
          "especificidad"
         ],
         "xaxis": "x",
         "y": [
          0.48770403793123723,
          0.8278796196451328,
          0.0677555958862674,
          -0.023488859167108522,
          0.07479964381121995,
          0.9006084320512545
         ],
         "yaxis": "y"
        },
        {
         "hovertemplate": "variable=MAD_NvS_curvacola<br>index=%{x}<br>value=%{y}<extra></extra>",
         "legendgroup": "MAD_NvS_curvacola",
         "line": {
          "color": "#636efa",
          "dash": "solid"
         },
         "marker": {
          "symbol": "circle"
         },
         "mode": "lines",
         "name": "MAD_NvS_curvacola",
         "orientation": "v",
         "showlegend": true,
         "type": "scatter",
         "x": [
          "roc_auc",
          "accuracy",
          "precision",
          "kappa",
          "sensibilidad",
          "especificidad"
         ],
         "xaxis": "x",
         "y": [
          0.49500476211909,
          0.8943829036368983,
          0.04660587639311044,
          -0.01542836225750599,
          0.010240427426536063,
          0.979769096811644
         ],
         "yaxis": "y"
        },
        {
         "hovertemplate": "variable=HTM_NvS_curvacola<br>index=%{x}<br>value=%{y}<extra></extra>",
         "legendgroup": "HTM_NvS_curvacola",
         "line": {
          "color": "#EF553B",
          "dash": "solid"
         },
         "marker": {
          "symbol": "circle"
         },
         "mode": "lines",
         "name": "HTM_NvS_curvacola",
         "orientation": "v",
         "showlegend": true,
         "type": "scatter",
         "x": [
          "roc_auc",
          "accuracy",
          "precision",
          "kappa",
          "sensibilidad",
          "especificidad"
         ],
         "xaxis": "x",
         "y": [
          0.47684935979557835,
          0.842642878149201,
          0.03845952043653917,
          -0.0497693074993677,
          0.03252429338421263,
          0.921174426206944
         ],
         "yaxis": "y"
        },
        {
         "hovertemplate": "variable=MAD_PyOD_PvP_curvacola<br>index=%{x}<br>value=%{y}<extra></extra>",
         "legendgroup": "MAD_PyOD_PvP_curvacola",
         "line": {
          "color": "#00cc96",
          "dash": "solid"
         },
         "marker": {
          "symbol": "circle"
         },
         "mode": "lines",
         "name": "MAD_PyOD_PvP_curvacola",
         "orientation": "v",
         "showlegend": true,
         "type": "scatter",
         "x": [
          "roc_auc",
          "accuracy",
          "precision",
          "kappa",
          "sensibilidad",
          "especificidad"
         ],
         "xaxis": "x",
         "y": [
          0.48048163183593917,
          0.8710126458190374,
          0.01351981351981352,
          -0.0510960541661607,
          0.006455921638468388,
          0.95450734203341
         ],
         "yaxis": "y"
        },
        {
         "hovertemplate": "variable=MAD_PySAD_PvP_curvacola<br>index=%{x}<br>value=%{y}<extra></extra>",
         "legendgroup": "MAD_PySAD_PvP_curvacola",
         "line": {
          "color": "#ab63fa",
          "dash": "solid"
         },
         "marker": {
          "symbol": "circle"
         },
         "mode": "lines",
         "name": "MAD_PySAD_PvP_curvacola",
         "orientation": "v",
         "showlegend": true,
         "type": "scatter",
         "x": [
          "roc_auc",
          "accuracy",
          "precision",
          "kappa",
          "sensibilidad",
          "especificidad"
         ],
         "xaxis": "x",
         "y": [
          0.46459675699584674,
          0.8165473973139888,
          0.03230148048452221,
          -0.06609419764746272,
          0.037399821905609976,
          0.8917936920860835
         ],
         "yaxis": "y"
        },
        {
         "hovertemplate": "variable=SAD_PvP_curvacola<br>index=%{x}<br>value=%{y}<extra></extra>",
         "legendgroup": "SAD_PvP_curvacola",
         "line": {
          "color": "#FFA15A",
          "dash": "solid"
         },
         "marker": {
          "symbol": "circle"
         },
         "mode": "lines",
         "name": "SAD_PvP_curvacola",
         "orientation": "v",
         "showlegend": true,
         "type": "scatter",
         "x": [
          "roc_auc",
          "accuracy",
          "precision",
          "kappa",
          "sensibilidad",
          "especificidad"
         ],
         "xaxis": "x",
         "y": [
          0.46409533406520515,
          0.8154494657386531,
          0.032135386955695,
          -0.06666734665932461,
          0.037622439893143365,
          0.890568228237267
         ],
         "yaxis": "y"
        },
        {
         "hovertemplate": "variable=HBOS_SH_curvacola<br>index=%{x}<br>value=%{y}<extra></extra>",
         "legendgroup": "HBOS_SH_curvacola",
         "line": {
          "color": "#19d3f3",
          "dash": "solid"
         },
         "marker": {
          "symbol": "circle"
         },
         "mode": "lines",
         "name": "HBOS_SH_curvacola",
         "orientation": "v",
         "showlegend": true,
         "type": "scatter",
         "x": [
          "roc_auc",
          "accuracy",
          "precision",
          "kappa",
          "sensibilidad",
          "especificidad"
         ],
         "xaxis": "x",
         "y": [
          0.47783984940565355,
          0.826762082148809,
          0.050496688741721855,
          -0.04285507893869256,
          0.05431878895814782,
          0.9013609098531593
         ],
         "yaxis": "y"
        },
        {
         "hovertemplate": "variable=IForest_SH_curvacola<br>index=%{x}<br>value=%{y}<extra></extra>",
         "legendgroup": "IForest_SH_curvacola",
         "line": {
          "color": "#FF6692",
          "dash": "solid"
         },
         "marker": {
          "symbol": "circle"
         },
         "mode": "lines",
         "name": "IForest_SH_curvacola",
         "orientation": "v",
         "showlegend": true,
         "type": "scatter",
         "x": [
          "roc_auc",
          "accuracy",
          "precision",
          "kappa",
          "sensibilidad",
          "especificidad"
         ],
         "xaxis": "x",
         "y": [
          0.473223049659572,
          0.8196255269091266,
          0.04573523736009263,
          -0.050079114988776485,
          0.05276046304541407,
          0.8936856362737299
         ],
         "yaxis": "y"
        },
        {
         "hovertemplate": "variable=KNN_SH_curvacola<br>index=%{x}<br>value=%{y}<extra></extra>",
         "legendgroup": "KNN_SH_curvacola",
         "line": {
          "color": "#B6E880",
          "dash": "solid"
         },
         "marker": {
          "symbol": "circle"
         },
         "mode": "lines",
         "name": "KNN_SH_curvacola",
         "orientation": "v",
         "showlegend": true,
         "type": "scatter",
         "x": [
          "roc_auc",
          "accuracy",
          "precision",
          "kappa",
          "sensibilidad",
          "especificidad"
         ],
         "xaxis": "x",
         "y": [
          0.4869574327299108,
          0.8246838545240662,
          0.06728899260987943,
          -0.02448472588480133,
          0.07702582368655388,
          0.8968890417732677
         ],
         "yaxis": "y"
        }
       ],
       "layout": {
        "legend": {
         "title": {
          "text": "variable"
         },
         "tracegroupgap": 0
        },
        "margin": {
         "t": 60
        },
        "template": {
         "data": {
          "bar": [
           {
            "error_x": {
             "color": "#2a3f5f"
            },
            "error_y": {
             "color": "#2a3f5f"
            },
            "marker": {
             "line": {
              "color": "#E5ECF6",
              "width": 0.5
             },
             "pattern": {
              "fillmode": "overlay",
              "size": 10,
              "solidity": 0.2
             }
            },
            "type": "bar"
           }
          ],
          "barpolar": [
           {
            "marker": {
             "line": {
              "color": "#E5ECF6",
              "width": 0.5
             },
             "pattern": {
              "fillmode": "overlay",
              "size": 10,
              "solidity": 0.2
             }
            },
            "type": "barpolar"
           }
          ],
          "carpet": [
           {
            "aaxis": {
             "endlinecolor": "#2a3f5f",
             "gridcolor": "white",
             "linecolor": "white",
             "minorgridcolor": "white",
             "startlinecolor": "#2a3f5f"
            },
            "baxis": {
             "endlinecolor": "#2a3f5f",
             "gridcolor": "white",
             "linecolor": "white",
             "minorgridcolor": "white",
             "startlinecolor": "#2a3f5f"
            },
            "type": "carpet"
           }
          ],
          "choropleth": [
           {
            "colorbar": {
             "outlinewidth": 0,
             "ticks": ""
            },
            "type": "choropleth"
           }
          ],
          "contour": [
           {
            "colorbar": {
             "outlinewidth": 0,
             "ticks": ""
            },
            "colorscale": [
             [
              0,
              "#0d0887"
             ],
             [
              0.1111111111111111,
              "#46039f"
             ],
             [
              0.2222222222222222,
              "#7201a8"
             ],
             [
              0.3333333333333333,
              "#9c179e"
             ],
             [
              0.4444444444444444,
              "#bd3786"
             ],
             [
              0.5555555555555556,
              "#d8576b"
             ],
             [
              0.6666666666666666,
              "#ed7953"
             ],
             [
              0.7777777777777778,
              "#fb9f3a"
             ],
             [
              0.8888888888888888,
              "#fdca26"
             ],
             [
              1,
              "#f0f921"
             ]
            ],
            "type": "contour"
           }
          ],
          "contourcarpet": [
           {
            "colorbar": {
             "outlinewidth": 0,
             "ticks": ""
            },
            "type": "contourcarpet"
           }
          ],
          "heatmap": [
           {
            "colorbar": {
             "outlinewidth": 0,
             "ticks": ""
            },
            "colorscale": [
             [
              0,
              "#0d0887"
             ],
             [
              0.1111111111111111,
              "#46039f"
             ],
             [
              0.2222222222222222,
              "#7201a8"
             ],
             [
              0.3333333333333333,
              "#9c179e"
             ],
             [
              0.4444444444444444,
              "#bd3786"
             ],
             [
              0.5555555555555556,
              "#d8576b"
             ],
             [
              0.6666666666666666,
              "#ed7953"
             ],
             [
              0.7777777777777778,
              "#fb9f3a"
             ],
             [
              0.8888888888888888,
              "#fdca26"
             ],
             [
              1,
              "#f0f921"
             ]
            ],
            "type": "heatmap"
           }
          ],
          "heatmapgl": [
           {
            "colorbar": {
             "outlinewidth": 0,
             "ticks": ""
            },
            "colorscale": [
             [
              0,
              "#0d0887"
             ],
             [
              0.1111111111111111,
              "#46039f"
             ],
             [
              0.2222222222222222,
              "#7201a8"
             ],
             [
              0.3333333333333333,
              "#9c179e"
             ],
             [
              0.4444444444444444,
              "#bd3786"
             ],
             [
              0.5555555555555556,
              "#d8576b"
             ],
             [
              0.6666666666666666,
              "#ed7953"
             ],
             [
              0.7777777777777778,
              "#fb9f3a"
             ],
             [
              0.8888888888888888,
              "#fdca26"
             ],
             [
              1,
              "#f0f921"
             ]
            ],
            "type": "heatmapgl"
           }
          ],
          "histogram": [
           {
            "marker": {
             "pattern": {
              "fillmode": "overlay",
              "size": 10,
              "solidity": 0.2
             }
            },
            "type": "histogram"
           }
          ],
          "histogram2d": [
           {
            "colorbar": {
             "outlinewidth": 0,
             "ticks": ""
            },
            "colorscale": [
             [
              0,
              "#0d0887"
             ],
             [
              0.1111111111111111,
              "#46039f"
             ],
             [
              0.2222222222222222,
              "#7201a8"
             ],
             [
              0.3333333333333333,
              "#9c179e"
             ],
             [
              0.4444444444444444,
              "#bd3786"
             ],
             [
              0.5555555555555556,
              "#d8576b"
             ],
             [
              0.6666666666666666,
              "#ed7953"
             ],
             [
              0.7777777777777778,
              "#fb9f3a"
             ],
             [
              0.8888888888888888,
              "#fdca26"
             ],
             [
              1,
              "#f0f921"
             ]
            ],
            "type": "histogram2d"
           }
          ],
          "histogram2dcontour": [
           {
            "colorbar": {
             "outlinewidth": 0,
             "ticks": ""
            },
            "colorscale": [
             [
              0,
              "#0d0887"
             ],
             [
              0.1111111111111111,
              "#46039f"
             ],
             [
              0.2222222222222222,
              "#7201a8"
             ],
             [
              0.3333333333333333,
              "#9c179e"
             ],
             [
              0.4444444444444444,
              "#bd3786"
             ],
             [
              0.5555555555555556,
              "#d8576b"
             ],
             [
              0.6666666666666666,
              "#ed7953"
             ],
             [
              0.7777777777777778,
              "#fb9f3a"
             ],
             [
              0.8888888888888888,
              "#fdca26"
             ],
             [
              1,
              "#f0f921"
             ]
            ],
            "type": "histogram2dcontour"
           }
          ],
          "mesh3d": [
           {
            "colorbar": {
             "outlinewidth": 0,
             "ticks": ""
            },
            "type": "mesh3d"
           }
          ],
          "parcoords": [
           {
            "line": {
             "colorbar": {
              "outlinewidth": 0,
              "ticks": ""
             }
            },
            "type": "parcoords"
           }
          ],
          "pie": [
           {
            "automargin": true,
            "type": "pie"
           }
          ],
          "scatter": [
           {
            "fillpattern": {
             "fillmode": "overlay",
             "size": 10,
             "solidity": 0.2
            },
            "type": "scatter"
           }
          ],
          "scatter3d": [
           {
            "line": {
             "colorbar": {
              "outlinewidth": 0,
              "ticks": ""
             }
            },
            "marker": {
             "colorbar": {
              "outlinewidth": 0,
              "ticks": ""
             }
            },
            "type": "scatter3d"
           }
          ],
          "scattercarpet": [
           {
            "marker": {
             "colorbar": {
              "outlinewidth": 0,
              "ticks": ""
             }
            },
            "type": "scattercarpet"
           }
          ],
          "scattergeo": [
           {
            "marker": {
             "colorbar": {
              "outlinewidth": 0,
              "ticks": ""
             }
            },
            "type": "scattergeo"
           }
          ],
          "scattergl": [
           {
            "marker": {
             "colorbar": {
              "outlinewidth": 0,
              "ticks": ""
             }
            },
            "type": "scattergl"
           }
          ],
          "scattermapbox": [
           {
            "marker": {
             "colorbar": {
              "outlinewidth": 0,
              "ticks": ""
             }
            },
            "type": "scattermapbox"
           }
          ],
          "scatterpolar": [
           {
            "marker": {
             "colorbar": {
              "outlinewidth": 0,
              "ticks": ""
             }
            },
            "type": "scatterpolar"
           }
          ],
          "scatterpolargl": [
           {
            "marker": {
             "colorbar": {
              "outlinewidth": 0,
              "ticks": ""
             }
            },
            "type": "scatterpolargl"
           }
          ],
          "scatterternary": [
           {
            "marker": {
             "colorbar": {
              "outlinewidth": 0,
              "ticks": ""
             }
            },
            "type": "scatterternary"
           }
          ],
          "surface": [
           {
            "colorbar": {
             "outlinewidth": 0,
             "ticks": ""
            },
            "colorscale": [
             [
              0,
              "#0d0887"
             ],
             [
              0.1111111111111111,
              "#46039f"
             ],
             [
              0.2222222222222222,
              "#7201a8"
             ],
             [
              0.3333333333333333,
              "#9c179e"
             ],
             [
              0.4444444444444444,
              "#bd3786"
             ],
             [
              0.5555555555555556,
              "#d8576b"
             ],
             [
              0.6666666666666666,
              "#ed7953"
             ],
             [
              0.7777777777777778,
              "#fb9f3a"
             ],
             [
              0.8888888888888888,
              "#fdca26"
             ],
             [
              1,
              "#f0f921"
             ]
            ],
            "type": "surface"
           }
          ],
          "table": [
           {
            "cells": {
             "fill": {
              "color": "#EBF0F8"
             },
             "line": {
              "color": "white"
             }
            },
            "header": {
             "fill": {
              "color": "#C8D4E3"
             },
             "line": {
              "color": "white"
             }
            },
            "type": "table"
           }
          ]
         },
         "layout": {
          "annotationdefaults": {
           "arrowcolor": "#2a3f5f",
           "arrowhead": 0,
           "arrowwidth": 1
          },
          "autotypenumbers": "strict",
          "coloraxis": {
           "colorbar": {
            "outlinewidth": 0,
            "ticks": ""
           }
          },
          "colorscale": {
           "diverging": [
            [
             0,
             "#8e0152"
            ],
            [
             0.1,
             "#c51b7d"
            ],
            [
             0.2,
             "#de77ae"
            ],
            [
             0.3,
             "#f1b6da"
            ],
            [
             0.4,
             "#fde0ef"
            ],
            [
             0.5,
             "#f7f7f7"
            ],
            [
             0.6,
             "#e6f5d0"
            ],
            [
             0.7,
             "#b8e186"
            ],
            [
             0.8,
             "#7fbc41"
            ],
            [
             0.9,
             "#4d9221"
            ],
            [
             1,
             "#276419"
            ]
           ],
           "sequential": [
            [
             0,
             "#0d0887"
            ],
            [
             0.1111111111111111,
             "#46039f"
            ],
            [
             0.2222222222222222,
             "#7201a8"
            ],
            [
             0.3333333333333333,
             "#9c179e"
            ],
            [
             0.4444444444444444,
             "#bd3786"
            ],
            [
             0.5555555555555556,
             "#d8576b"
            ],
            [
             0.6666666666666666,
             "#ed7953"
            ],
            [
             0.7777777777777778,
             "#fb9f3a"
            ],
            [
             0.8888888888888888,
             "#fdca26"
            ],
            [
             1,
             "#f0f921"
            ]
           ],
           "sequentialminus": [
            [
             0,
             "#0d0887"
            ],
            [
             0.1111111111111111,
             "#46039f"
            ],
            [
             0.2222222222222222,
             "#7201a8"
            ],
            [
             0.3333333333333333,
             "#9c179e"
            ],
            [
             0.4444444444444444,
             "#bd3786"
            ],
            [
             0.5555555555555556,
             "#d8576b"
            ],
            [
             0.6666666666666666,
             "#ed7953"
            ],
            [
             0.7777777777777778,
             "#fb9f3a"
            ],
            [
             0.8888888888888888,
             "#fdca26"
            ],
            [
             1,
             "#f0f921"
            ]
           ]
          },
          "colorway": [
           "#636efa",
           "#EF553B",
           "#00cc96",
           "#ab63fa",
           "#FFA15A",
           "#19d3f3",
           "#FF6692",
           "#B6E880",
           "#FF97FF",
           "#FECB52"
          ],
          "font": {
           "color": "#2a3f5f"
          },
          "geo": {
           "bgcolor": "white",
           "lakecolor": "white",
           "landcolor": "#E5ECF6",
           "showlakes": true,
           "showland": true,
           "subunitcolor": "white"
          },
          "hoverlabel": {
           "align": "left"
          },
          "hovermode": "closest",
          "mapbox": {
           "style": "light"
          },
          "paper_bgcolor": "white",
          "plot_bgcolor": "#E5ECF6",
          "polar": {
           "angularaxis": {
            "gridcolor": "white",
            "linecolor": "white",
            "ticks": ""
           },
           "bgcolor": "#E5ECF6",
           "radialaxis": {
            "gridcolor": "white",
            "linecolor": "white",
            "ticks": ""
           }
          },
          "scene": {
           "xaxis": {
            "backgroundcolor": "#E5ECF6",
            "gridcolor": "white",
            "gridwidth": 2,
            "linecolor": "white",
            "showbackground": true,
            "ticks": "",
            "zerolinecolor": "white"
           },
           "yaxis": {
            "backgroundcolor": "#E5ECF6",
            "gridcolor": "white",
            "gridwidth": 2,
            "linecolor": "white",
            "showbackground": true,
            "ticks": "",
            "zerolinecolor": "white"
           },
           "zaxis": {
            "backgroundcolor": "#E5ECF6",
            "gridcolor": "white",
            "gridwidth": 2,
            "linecolor": "white",
            "showbackground": true,
            "ticks": "",
            "zerolinecolor": "white"
           }
          },
          "shapedefaults": {
           "line": {
            "color": "#2a3f5f"
           }
          },
          "ternary": {
           "aaxis": {
            "gridcolor": "white",
            "linecolor": "white",
            "ticks": ""
           },
           "baxis": {
            "gridcolor": "white",
            "linecolor": "white",
            "ticks": ""
           },
           "bgcolor": "#E5ECF6",
           "caxis": {
            "gridcolor": "white",
            "linecolor": "white",
            "ticks": ""
           }
          },
          "title": {
           "x": 0.05
          },
          "xaxis": {
           "automargin": true,
           "gridcolor": "white",
           "linecolor": "white",
           "ticks": "",
           "title": {
            "standoff": 15
           },
           "zerolinecolor": "white",
           "zerolinewidth": 2
          },
          "yaxis": {
           "automargin": true,
           "gridcolor": "white",
           "linecolor": "white",
           "ticks": "",
           "title": {
            "standoff": 15
           },
           "zerolinecolor": "white",
           "zerolinewidth": 2
          }
         }
        },
        "xaxis": {
         "anchor": "y",
         "domain": [
          0,
          1
         ],
         "title": {
          "text": "index"
         }
        },
        "yaxis": {
         "anchor": "x",
         "domain": [
          0,
          1
         ],
         "title": {
          "text": "value"
         }
        }
       }
      }
     },
     "metadata": {},
     "output_type": "display_data"
    }
   ],
   "source": [
    "total = pd.concat([resumen_general.T.add_suffix('_general'),resumen_thresholds.T.add_suffix('_thresholds'),resumen_curvacola.T.add_suffix('_curvacola')],axis=1).T\n",
    "px.line(total.T)"
   ]
  }
 ],
 "metadata": {
  "interpreter": {
   "hash": "084e8b912a56bf1ec199b7cc8c30ae9313a998703506b070bededcac63d0da25"
  },
  "kernelspec": {
   "display_name": "Python 3.10.2 ('.env': venv)",
   "language": "python",
   "name": "python3"
  },
  "language_info": {
   "codemirror_mode": {
    "name": "ipython",
    "version": 3
   },
   "file_extension": ".py",
   "mimetype": "text/x-python",
   "name": "python",
   "nbconvert_exporter": "python",
   "pygments_lexer": "ipython3",
   "version": "3.10.2"
  },
  "orig_nbformat": 4
 },
 "nbformat": 4,
 "nbformat_minor": 2
}
