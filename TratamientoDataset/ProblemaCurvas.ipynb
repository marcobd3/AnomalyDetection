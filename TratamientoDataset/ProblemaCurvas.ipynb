{
 "cells": [
  {
   "cell_type": "markdown",
   "metadata": {},
   "source": [
    "# Etiquetado de las erróneas combinaciones de Curva y de Cola."
   ]
  },
  {
   "cell_type": "markdown",
   "metadata": {},
   "source": [
    "Importamos librerías."
   ]
  },
  {
   "cell_type": "code",
   "execution_count": 1,
   "metadata": {},
   "outputs": [],
   "source": [
    "import pandas as pd\n",
    "import glob\n",
    "import re\n",
    "import numpy as np"
   ]
  },
  {
   "cell_type": "markdown",
   "metadata": {},
   "source": [
    "Leemos archivos csv."
   ]
  },
  {
   "cell_type": "code",
   "execution_count": 2,
   "metadata": {},
   "outputs": [
    {
     "data": {
      "text/html": [
       "<div>\n",
       "<style scoped>\n",
       "    .dataframe tbody tr th:only-of-type {\n",
       "        vertical-align: middle;\n",
       "    }\n",
       "\n",
       "    .dataframe tbody tr th {\n",
       "        vertical-align: top;\n",
       "    }\n",
       "\n",
       "    .dataframe thead th {\n",
       "        text-align: right;\n",
       "    }\n",
       "</style>\n",
       "<table border=\"1\" class=\"dataframe\">\n",
       "  <thead>\n",
       "    <tr style=\"text-align: right;\">\n",
       "      <th></th>\n",
       "      <th>fecha</th>\n",
       "      <th>FormacionNIRCurva</th>\n",
       "      <th>ColaTipo</th>\n",
       "    </tr>\n",
       "  </thead>\n",
       "  <tbody>\n",
       "    <tr>\n",
       "      <th>0</th>\n",
       "      <td>2021-02-01 00:00:54.884 UTC</td>\n",
       "      <td>FR-2130+BU-3009</td>\n",
       "      <td>fr 2130</td>\n",
       "    </tr>\n",
       "    <tr>\n",
       "      <th>1</th>\n",
       "      <td>2021-02-01 00:00:54.884 UTC</td>\n",
       "      <td>FR-2130+BU-3009</td>\n",
       "      <td>fr 2130</td>\n",
       "    </tr>\n",
       "  </tbody>\n",
       "</table>\n",
       "</div>"
      ],
      "text/plain": [
       "                         fecha FormacionNIRCurva ColaTipo\n",
       "0  2021-02-01 00:00:54.884 UTC   FR-2130+BU-3009  fr 2130\n",
       "1  2021-02-01 00:00:54.884 UTC   FR-2130+BU-3009  fr 2130"
      ]
     },
     "execution_count": 2,
     "metadata": {},
     "output_type": "execute_result"
    }
   ],
   "source": [
    "archivos = glob.glob(\"../Datasets/Dataset_0/*.csv\")\n",
    "\n",
    "lista = []\n",
    "\n",
    "for archivo in archivos:\n",
    "    df = pd.read_csv(archivo, sep=\";\", header=0, usecols=['fecha', 'FormacionNIRCurva', 'ColaTipo'])\n",
    "    lista.append(df)\n",
    "\n",
    "df = pd.concat(lista, axis=0, ignore_index=True)\n",
    "\n",
    "df.head(2)"
   ]
  },
  {
   "cell_type": "markdown",
   "metadata": {},
   "source": [
    "Separamos dos dataframes, uno por cada año."
   ]
  },
  {
   "cell_type": "code",
   "execution_count": 3,
   "metadata": {},
   "outputs": [
    {
     "data": {
      "text/html": [
       "<div>\n",
       "<style scoped>\n",
       "    .dataframe tbody tr th:only-of-type {\n",
       "        vertical-align: middle;\n",
       "    }\n",
       "\n",
       "    .dataframe tbody tr th {\n",
       "        vertical-align: top;\n",
       "    }\n",
       "\n",
       "    .dataframe thead th {\n",
       "        text-align: right;\n",
       "    }\n",
       "</style>\n",
       "<table border=\"1\" class=\"dataframe\">\n",
       "  <thead>\n",
       "    <tr style=\"text-align: right;\">\n",
       "      <th></th>\n",
       "      <th>fecha</th>\n",
       "      <th>FormacionNIRCurva</th>\n",
       "      <th>ColaTipo</th>\n",
       "    </tr>\n",
       "  </thead>\n",
       "  <tbody>\n",
       "    <tr>\n",
       "      <th>119387</th>\n",
       "      <td>2022-01-02 18:42:01.106 UTC</td>\n",
       "      <td>FR1350+BU3009</td>\n",
       "      <td>fr-1350</td>\n",
       "    </tr>\n",
       "    <tr>\n",
       "      <th>119388</th>\n",
       "      <td>2022-01-02 18:47:44.096 UTC</td>\n",
       "      <td>FR1350+BU3009</td>\n",
       "      <td>fr-1350</td>\n",
       "    </tr>\n",
       "    <tr>\n",
       "      <th>119389</th>\n",
       "      <td>2022-01-02 18:47:44.096 UTC</td>\n",
       "      <td>FR1350+BU3009</td>\n",
       "      <td>fr-1350</td>\n",
       "    </tr>\n",
       "    <tr>\n",
       "      <th>119390</th>\n",
       "      <td>2022-01-02 18:58:29.009 UTC</td>\n",
       "      <td>FR1350+BU3009</td>\n",
       "      <td>fr-1350</td>\n",
       "    </tr>\n",
       "    <tr>\n",
       "      <th>119391</th>\n",
       "      <td>2022-01-02 18:58:29.009 UTC</td>\n",
       "      <td>FR1350+BU3009</td>\n",
       "      <td>fr-1350</td>\n",
       "    </tr>\n",
       "  </tbody>\n",
       "</table>\n",
       "</div>"
      ],
      "text/plain": [
       "                              fecha FormacionNIRCurva ColaTipo\n",
       "119387  2022-01-02 18:42:01.106 UTC     FR1350+BU3009  fr-1350\n",
       "119388  2022-01-02 18:47:44.096 UTC     FR1350+BU3009  fr-1350\n",
       "119389  2022-01-02 18:47:44.096 UTC     FR1350+BU3009  fr-1350\n",
       "119390  2022-01-02 18:58:29.009 UTC     FR1350+BU3009  fr-1350\n",
       "119391  2022-01-02 18:58:29.009 UTC     FR1350+BU3009  fr-1350"
      ]
     },
     "execution_count": 3,
     "metadata": {},
     "output_type": "execute_result"
    }
   ],
   "source": [
    "df21 = df[df.fecha < '2022']\n",
    "df22 = df[df.fecha > '2022']\n",
    "df22.head()"
   ]
  },
  {
   "cell_type": "markdown",
   "metadata": {},
   "source": [
    "Analizamos las curvas y colas presentes en cada año, para después imprimir las que solo se presentan en 2022:"
   ]
  },
  {
   "cell_type": "code",
   "execution_count": 4,
   "metadata": {},
   "outputs": [],
   "source": [
    "curvas21 = df21.FormacionNIRCurva.astype(str).unique()\n",
    "curvas22 = df22.FormacionNIRCurva.astype(str).unique()\n",
    "\n",
    "colas21 = df21.ColaTipo.astype(str).unique()\n",
    "colas22 = df22.ColaTipo.astype(str).unique()"
   ]
  },
  {
   "cell_type": "code",
   "execution_count": 5,
   "metadata": {},
   "outputs": [
    {
     "data": {
      "text/plain": [
       "array(['1350', '2116', 'res 2130', 'res2116'], dtype=object)"
      ]
     },
     "execution_count": 5,
     "metadata": {},
     "output_type": "execute_result"
    }
   ],
   "source": [
    "np.setdiff1d(colas22,colas21)"
   ]
  },
  {
   "cell_type": "code",
   "execution_count": 6,
   "metadata": {},
   "outputs": [
    {
     "data": {
      "text/plain": [
       "array(['NEGRO'], dtype=object)"
      ]
     },
     "execution_count": 6,
     "metadata": {},
     "output_type": "execute_result"
    }
   ],
   "source": [
    "np.setdiff1d(curvas22,curvas21)"
   ]
  },
  {
   "cell_type": "markdown",
   "metadata": {},
   "source": [
    "Aquí observamos como la curva 'NEGRO' solo se obtiene en 2022, modficando las medidas del NIR cuando se encuentra con tablero negro."
   ]
  },
  {
   "cell_type": "code",
   "execution_count": 7,
   "metadata": {},
   "outputs": [
    {
     "data": {
      "text/plain": [
       "array(['fr 2130', 'fr-1350', 'FR-2265'], dtype=object)"
      ]
     },
     "execution_count": 7,
     "metadata": {},
     "output_type": "execute_result"
    }
   ],
   "source": [
    "df[df.FormacionNIRCurva == 'NEGRO'].ColaTipo.unique()"
   ]
  },
  {
   "cell_type": "code",
   "execution_count": 8,
   "metadata": {},
   "outputs": [
    {
     "data": {
      "text/plain": [
       "array(['NEGRO'], dtype=object)"
      ]
     },
     "execution_count": 8,
     "metadata": {},
     "output_type": "execute_result"
    }
   ],
   "source": [
    "np.setdiff1d(curvas22,curvas21)"
   ]
  }
 ],
 "metadata": {
  "interpreter": {
   "hash": "084e8b912a56bf1ec199b7cc8c30ae9313a998703506b070bededcac63d0da25"
  },
  "kernelspec": {
   "display_name": "Python 3.10.2 ('.env': venv)",
   "language": "python",
   "name": "python3"
  },
  "language_info": {
   "codemirror_mode": {
    "name": "ipython",
    "version": 3
   },
   "file_extension": ".py",
   "mimetype": "text/x-python",
   "name": "python",
   "nbconvert_exporter": "python",
   "pygments_lexer": "ipython3",
   "version": "3.10.2"
  },
  "orig_nbformat": 4
 },
 "nbformat": 4,
 "nbformat_minor": 2
}
